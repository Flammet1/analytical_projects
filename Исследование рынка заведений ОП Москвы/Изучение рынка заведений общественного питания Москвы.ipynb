{
 "cells": [
  {
   "cell_type": "markdown",
   "id": "e06910dd",
   "metadata": {
    "id": "e06910dd"
   },
   "source": [
    "# Изучение рынка заведений общественного питания Москвы\n",
    "\n",
    "- Автор: Григорьев Константин\n",
    "- Дата: 11.01.2024г."
   ]
  },
  {
   "cell_type": "markdown",
   "id": "4149134c",
   "metadata": {
    "id": "4149134c"
   },
   "source": [
    "### Цели и задачи проекта\n",
    "\n",
    "<font color='#777778'>В этом блоке перечислите цель проекта и те задачи, которые вы решаете. Можно использовать описания проекта, но будет полезно, если вы сформулируете основную цель проекта самостоятельно.</font>\n",
    "\n",
    "Инвесторы из фонда Shut Up and Take My Money решили попробовать себя в новой области и открыть заведение общественного питания в Москве. Заказчики ещё не знают, что это будет за место: кафе, ресторан или бар. Расположение, меню и цены пока тоже обсуждаются. Для начала заказчики просят провести исследовательский анализ рынка Москвы. Эти результаты помогут в выборе подходящего инвесторам места.\n",
    "\n",
    "Доступен датасет с заведениями общественного питания Москвы, составленный на основе данных сервисов Яндекс Карты и Яндекс Бизнес на лето 2022 года. Информация, размещённая в сервисе Яндекс Бизнес, могла быть добавлена пользователями или найдена в общедоступных источниках. Она носит исключительно справочный характер."
   ]
  },
  {
   "cell_type": "markdown",
   "id": "728986ea",
   "metadata": {
    "id": "728986ea"
   },
   "source": [
    "### Описание данных\n",
    "\n",
    "<font color='#777778'>Здесь приведите описание данных.</font>\n",
    "\n",
    "Файл `/datasets/rest_info.csv` содержит информацию о заведениях общественного питания:\n",
    "- `name` — название заведения;\n",
    "- `address` — адрес заведения;\n",
    "- `district` — административный район, в котором находится заведение, например Центральный административный округ;\n",
    "- `category` — категория заведения, например «кафе», «пиццерия» или «кофейня»;\n",
    "- `hours` — информация о днях и часах работы;\n",
    "- `rating` — рейтинг заведения по оценкам пользователей в Яндекс Картах (высшая оценка — 5.0);\n",
    "- `chain` — число, выраженное 0 или 1, которое показывает, является ли заведение сетевым (для маленьких сетей могут встречаться ошибки):\n",
    "  - `0` — заведение не является сетевым;\n",
    "  - `1` — заведение является сетевым.\n",
    "- `seats` — количество посадочных мест.\n",
    "\n",
    "Файл `/datasets/rest_price.csv` содержит информацию о среднем чеке в заведениях общественного питания:\n",
    "- `price` — категория цен в заведении, например «средние», «ниже среднего», «выше среднего» и так далее;\n",
    "- `avg_bill` — строка, которая хранит среднюю стоимость заказа в виде диапазона, например:\n",
    "   - «Средний счёт: 1000–1500 ₽»;\n",
    "   - «Цена чашки капучино: 130–220 ₽»;\n",
    "   - «Цена бокала пива: 400–600 ₽».\n",
    "   - и так далее;\n",
    "- `middle_avg_bill` — число с оценкой среднего чека, которое указано только для значений из столбца `avg_bill`, начинающихся с подстроки «Средний счёт»:\n",
    "   - Если в строке указан ценовой диапазон из двух значений, в столбец войдёт медиана этих двух значений.\n",
    "   - Если в строке указано одно число — цена без диапазона, то в столбец войдёт это число.\n",
    "   - Если значения нет или оно не начинается с подстроки «Средний счёт», то в столбец ничего не войдёт.\n",
    "- `middle_coffee_cup` — число с оценкой одной чашки капучино, которое указано только для значений из столбца `avg_bill`, начинающихся с подстроки «Цена одной чашки капучино»:\n",
    "   - Если в строке указан ценовой диапазон из двух значений, в столбец войдёт медиана этих двух значений.\n",
    "   - Если в строке указано одно число — цена без диапазона, то в столбец войдёт это число.\n",
    "   - Если значения нет или оно не начинается с подстроки «Цена одной чашки капучино», то в столбец ничего не войдёт."
   ]
  },
  {
   "cell_type": "markdown",
   "id": "4fecaf95",
   "metadata": {
    "id": "4fecaf95"
   },
   "source": [
    "### Содержимое проекта\n",
    "\n",
    "<font color='#777778'>Перечислите основные шаги проекта или напишите оглавление. Используйте описание проекта, чтобы зафиксировать основные шаги.</font>\n",
    "\n",
    "- Шаг 1. Загрузка данных и знакомство с ними\n",
    "- Шаг 2. Предобработка данных\n",
    "- Шаг 3. Исследовательский анализ данных\n",
    "- Шаг 4. Итоговый вывод и рекомендации\n",
    "\n",
    "---"
   ]
  },
  {
   "cell_type": "markdown",
   "id": "6f7d21d6",
   "metadata": {
    "id": "6f7d21d6"
   },
   "source": [
    "## 1. Загрузка данных и знакомство с ними\n",
    "\n",
    "- Загрузите данные о заведениях общественного питания Москвы. Путь к файлам: `/datasets/rest_info.csv` и `/datasets/rest_price.csv`."
   ]
  },
  {
   "cell_type": "markdown",
   "id": "18b5dfff",
   "metadata": {
    "id": "18b5dfff"
   },
   "source": [
    "- Познакомьтесь с данными и изучите общую информацию о них."
   ]
  },
  {
   "cell_type": "code",
   "execution_count": 1,
   "id": "f68a7419",
   "metadata": {
    "id": "f68a7419"
   },
   "outputs": [
    {
     "name": "stdout",
     "output_type": "stream",
     "text": [
      "Collecting phik\n",
      "  Downloading phik-0.12.4-cp39-cp39-manylinux_2_17_x86_64.manylinux2014_x86_64.whl (686 kB)\n",
      "\u001b[K     |████████████████████████████████| 686 kB 1.1 MB/s eta 0:00:01\n",
      "\u001b[?25hRequirement already satisfied: pandas>=0.25.1 in /opt/conda/lib/python3.9/site-packages (from phik) (1.2.4)\n",
      "Requirement already satisfied: joblib>=0.14.1 in /opt/conda/lib/python3.9/site-packages (from phik) (1.1.0)\n",
      "Requirement already satisfied: numpy>=1.18.0 in /opt/conda/lib/python3.9/site-packages (from phik) (1.21.1)\n",
      "Requirement already satisfied: matplotlib>=2.2.3 in /opt/conda/lib/python3.9/site-packages (from phik) (3.3.4)\n",
      "Requirement already satisfied: scipy>=1.5.2 in /opt/conda/lib/python3.9/site-packages (from phik) (1.9.1)\n",
      "Requirement already satisfied: pyparsing!=2.0.4,!=2.1.2,!=2.1.6,>=2.0.3 in /opt/conda/lib/python3.9/site-packages (from matplotlib>=2.2.3->phik) (2.4.7)\n",
      "Requirement already satisfied: kiwisolver>=1.0.1 in /opt/conda/lib/python3.9/site-packages (from matplotlib>=2.2.3->phik) (1.4.4)\n",
      "Requirement already satisfied: python-dateutil>=2.1 in /opt/conda/lib/python3.9/site-packages (from matplotlib>=2.2.3->phik) (2.8.1)\n",
      "Requirement already satisfied: pillow>=6.2.0 in /opt/conda/lib/python3.9/site-packages (from matplotlib>=2.2.3->phik) (8.4.0)\n",
      "Requirement already satisfied: cycler>=0.10 in /opt/conda/lib/python3.9/site-packages (from matplotlib>=2.2.3->phik) (0.11.0)\n",
      "Requirement already satisfied: pytz>=2017.3 in /opt/conda/lib/python3.9/site-packages (from pandas>=0.25.1->phik) (2021.1)\n",
      "Requirement already satisfied: six>=1.5 in /opt/conda/lib/python3.9/site-packages (from python-dateutil>=2.1->matplotlib>=2.2.3->phik) (1.16.0)\n",
      "Installing collected packages: phik\n",
      "Successfully installed phik-0.12.4\n"
     ]
    }
   ],
   "source": [
    "# Импортируем библиотеки\n",
    "import pandas as pd\n",
    "\n",
    "# Загружаем библиотеки для визуализации данных\n",
    "import matplotlib.pyplot as plt\n",
    "import seaborn as sns\n",
    "\n",
    "# Загружаем библиотеку для расчёта коэффициента корреляции phi_k\n",
    "!pip install phik\n",
    "from phik import phik_matrix\n"
   ]
  },
  {
   "cell_type": "code",
   "execution_count": 2,
   "id": "dd415c80",
   "metadata": {
    "id": "dd415c80"
   },
   "outputs": [],
   "source": [
    "# Выгружаем данные в переменные info_df и price_df\n",
    "info_df = pd.read_csv('https://code.s3.yandex.net/datasets/rest_info.csv')\n",
    "price_df = pd.read_csv('https://code.s3.yandex.net/datasets/rest_price.csv')"
   ]
  },
  {
   "cell_type": "code",
   "execution_count": 3,
   "id": "3158ad37",
   "metadata": {
    "id": "3158ad37",
    "scrolled": true
   },
   "outputs": [
    {
     "data": {
      "text/html": [
       "<div>\n",
       "<style scoped>\n",
       "    .dataframe tbody tr th:only-of-type {\n",
       "        vertical-align: middle;\n",
       "    }\n",
       "\n",
       "    .dataframe tbody tr th {\n",
       "        vertical-align: top;\n",
       "    }\n",
       "\n",
       "    .dataframe thead th {\n",
       "        text-align: right;\n",
       "    }\n",
       "</style>\n",
       "<table border=\"1\" class=\"dataframe\">\n",
       "  <thead>\n",
       "    <tr style=\"text-align: right;\">\n",
       "      <th></th>\n",
       "      <th>id</th>\n",
       "      <th>name</th>\n",
       "      <th>category</th>\n",
       "      <th>address</th>\n",
       "      <th>district</th>\n",
       "      <th>hours</th>\n",
       "      <th>rating</th>\n",
       "      <th>chain</th>\n",
       "      <th>seats</th>\n",
       "    </tr>\n",
       "  </thead>\n",
       "  <tbody>\n",
       "    <tr>\n",
       "      <th>0</th>\n",
       "      <td>0c3e3439a8c64ea5bf6ecd6ca6ae19f0</td>\n",
       "      <td>WoWфли</td>\n",
       "      <td>кафе</td>\n",
       "      <td>Москва, улица Дыбенко, 7/1</td>\n",
       "      <td>Северный административный округ</td>\n",
       "      <td>ежедневно, 10:00–22:00</td>\n",
       "      <td>5.0</td>\n",
       "      <td>0</td>\n",
       "      <td>NaN</td>\n",
       "    </tr>\n",
       "    <tr>\n",
       "      <th>1</th>\n",
       "      <td>045780ada3474c57a2112e505d74b633</td>\n",
       "      <td>Четыре комнаты</td>\n",
       "      <td>ресторан</td>\n",
       "      <td>Москва, улица Дыбенко, 36, корп. 1</td>\n",
       "      <td>Северный административный округ</td>\n",
       "      <td>ежедневно, 10:00–22:00</td>\n",
       "      <td>4.5</td>\n",
       "      <td>0</td>\n",
       "      <td>4.0</td>\n",
       "    </tr>\n",
       "    <tr>\n",
       "      <th>2</th>\n",
       "      <td>1070b6b59144425896c65889347fcff6</td>\n",
       "      <td>Хазри</td>\n",
       "      <td>кафе</td>\n",
       "      <td>Москва, Клязьминская улица, 15</td>\n",
       "      <td>Северный административный округ</td>\n",
       "      <td>пн-чт 11:00–02:00; пт,сб 11:00–05:00; вс 11:00...</td>\n",
       "      <td>4.6</td>\n",
       "      <td>0</td>\n",
       "      <td>45.0</td>\n",
       "    </tr>\n",
       "    <tr>\n",
       "      <th>3</th>\n",
       "      <td>03ac7cd772104f65b58b349dc59f03ee</td>\n",
       "      <td>Dormouse Coffee Shop</td>\n",
       "      <td>кофейня</td>\n",
       "      <td>Москва, улица Маршала Федоренко, 12</td>\n",
       "      <td>Северный административный округ</td>\n",
       "      <td>ежедневно, 09:00–22:00</td>\n",
       "      <td>5.0</td>\n",
       "      <td>0</td>\n",
       "      <td>NaN</td>\n",
       "    </tr>\n",
       "    <tr>\n",
       "      <th>4</th>\n",
       "      <td>a163aada139c4c7f87b0b1c0b466a50f</td>\n",
       "      <td>Иль Марко</td>\n",
       "      <td>пиццерия</td>\n",
       "      <td>Москва, Правобережная улица, 1Б</td>\n",
       "      <td>Северный административный округ</td>\n",
       "      <td>ежедневно, 10:00–22:00</td>\n",
       "      <td>5.0</td>\n",
       "      <td>1</td>\n",
       "      <td>148.0</td>\n",
       "    </tr>\n",
       "  </tbody>\n",
       "</table>\n",
       "</div>"
      ],
      "text/plain": [
       "                                 id                  name  category  \\\n",
       "0  0c3e3439a8c64ea5bf6ecd6ca6ae19f0                WoWфли      кафе   \n",
       "1  045780ada3474c57a2112e505d74b633        Четыре комнаты  ресторан   \n",
       "2  1070b6b59144425896c65889347fcff6                 Хазри      кафе   \n",
       "3  03ac7cd772104f65b58b349dc59f03ee  Dormouse Coffee Shop   кофейня   \n",
       "4  a163aada139c4c7f87b0b1c0b466a50f             Иль Марко  пиццерия   \n",
       "\n",
       "                               address                         district  \\\n",
       "0           Москва, улица Дыбенко, 7/1  Северный административный округ   \n",
       "1   Москва, улица Дыбенко, 36, корп. 1  Северный административный округ   \n",
       "2       Москва, Клязьминская улица, 15  Северный административный округ   \n",
       "3  Москва, улица Маршала Федоренко, 12  Северный административный округ   \n",
       "4      Москва, Правобережная улица, 1Б  Северный административный округ   \n",
       "\n",
       "                                               hours  rating  chain  seats  \n",
       "0                             ежедневно, 10:00–22:00     5.0      0    NaN  \n",
       "1                             ежедневно, 10:00–22:00     4.5      0    4.0  \n",
       "2  пн-чт 11:00–02:00; пт,сб 11:00–05:00; вс 11:00...     4.6      0   45.0  \n",
       "3                             ежедневно, 09:00–22:00     5.0      0    NaN  \n",
       "4                             ежедневно, 10:00–22:00     5.0      1  148.0  "
      ]
     },
     "execution_count": 3,
     "metadata": {},
     "output_type": "execute_result"
    }
   ],
   "source": [
    "# Выведем первые 5 строк датасета info_df\n",
    "info_df.head()"
   ]
  },
  {
   "cell_type": "code",
   "execution_count": 4,
   "id": "bdc79512",
   "metadata": {},
   "outputs": [
    {
     "name": "stdout",
     "output_type": "stream",
     "text": [
      "<class 'pandas.core.frame.DataFrame'>\n",
      "RangeIndex: 8406 entries, 0 to 8405\n",
      "Data columns (total 9 columns):\n",
      " #   Column    Non-Null Count  Dtype  \n",
      "---  ------    --------------  -----  \n",
      " 0   id        8406 non-null   object \n",
      " 1   name      8406 non-null   object \n",
      " 2   category  8406 non-null   object \n",
      " 3   address   8406 non-null   object \n",
      " 4   district  8406 non-null   object \n",
      " 5   hours     7870 non-null   object \n",
      " 6   rating    8406 non-null   float64\n",
      " 7   chain     8406 non-null   int64  \n",
      " 8   seats     4795 non-null   float64\n",
      "dtypes: float64(2), int64(1), object(6)\n",
      "memory usage: 591.2+ KB\n"
     ]
    }
   ],
   "source": [
    "# Выведем основную информацию о датасете info_df\n",
    "info_df.info()"
   ]
  },
  {
   "cell_type": "markdown",
   "id": "7178d94e",
   "metadata": {},
   "source": [
    "Датасет `/datasets/rest_info.csv` содержит 9 столбцов и 8406 строк, в которых представлена информация о заведениях общественного питания Москвы.\n",
    "\n",
    "После первичного анализа данных можно сделать следующие выводы:\n",
    "\n",
    "Данные в столбцах `id`, `name`, `category`, `adress`, `district`, `hours` хранятся в типе `object`. Значения в столбцах `rating`, `seats` представлены в типе `float64`. Столбец `chain` представлен целыми числами и показывает является ли ресторан сетевым или нет, и содержит значения 1 или 0 — размерность этих данных можно оптимизировать.\n",
    "Пропуски содержатся только в столбцах `hours`, `seats`. \n",
    "\n",
    "Перейдем к следующему датасету `/datasets/rest_price.csv` и выведем основную информацию:"
   ]
  },
  {
   "cell_type": "code",
   "execution_count": 5,
   "id": "20acc4c4",
   "metadata": {},
   "outputs": [
    {
     "data": {
      "text/html": [
       "<div>\n",
       "<style scoped>\n",
       "    .dataframe tbody tr th:only-of-type {\n",
       "        vertical-align: middle;\n",
       "    }\n",
       "\n",
       "    .dataframe tbody tr th {\n",
       "        vertical-align: top;\n",
       "    }\n",
       "\n",
       "    .dataframe thead th {\n",
       "        text-align: right;\n",
       "    }\n",
       "</style>\n",
       "<table border=\"1\" class=\"dataframe\">\n",
       "  <thead>\n",
       "    <tr style=\"text-align: right;\">\n",
       "      <th></th>\n",
       "      <th>id</th>\n",
       "      <th>price</th>\n",
       "      <th>avg_bill</th>\n",
       "      <th>middle_avg_bill</th>\n",
       "      <th>middle_coffee_cup</th>\n",
       "    </tr>\n",
       "  </thead>\n",
       "  <tbody>\n",
       "    <tr>\n",
       "      <th>0</th>\n",
       "      <td>045780ada3474c57a2112e505d74b633</td>\n",
       "      <td>выше среднего</td>\n",
       "      <td>Средний счёт:1500–1600 ₽</td>\n",
       "      <td>1550.0</td>\n",
       "      <td>NaN</td>\n",
       "    </tr>\n",
       "    <tr>\n",
       "      <th>1</th>\n",
       "      <td>1070b6b59144425896c65889347fcff6</td>\n",
       "      <td>средние</td>\n",
       "      <td>Средний счёт:от 1000 ₽</td>\n",
       "      <td>1000.0</td>\n",
       "      <td>NaN</td>\n",
       "    </tr>\n",
       "    <tr>\n",
       "      <th>2</th>\n",
       "      <td>03ac7cd772104f65b58b349dc59f03ee</td>\n",
       "      <td>NaN</td>\n",
       "      <td>Цена чашки капучино:155–185 ₽</td>\n",
       "      <td>NaN</td>\n",
       "      <td>170.0</td>\n",
       "    </tr>\n",
       "    <tr>\n",
       "      <th>3</th>\n",
       "      <td>a163aada139c4c7f87b0b1c0b466a50f</td>\n",
       "      <td>средние</td>\n",
       "      <td>Средний счёт:400–600 ₽</td>\n",
       "      <td>500.0</td>\n",
       "      <td>NaN</td>\n",
       "    </tr>\n",
       "    <tr>\n",
       "      <th>4</th>\n",
       "      <td>8a343546b24e4a499ad96eb7d0797a8a</td>\n",
       "      <td>средние</td>\n",
       "      <td>NaN</td>\n",
       "      <td>NaN</td>\n",
       "      <td>NaN</td>\n",
       "    </tr>\n",
       "    <tr>\n",
       "      <th>5</th>\n",
       "      <td>96ebceb1a09e4e3191133b9fe0379a64</td>\n",
       "      <td>средние</td>\n",
       "      <td>Средний счёт:199 ₽</td>\n",
       "      <td>199.0</td>\n",
       "      <td>NaN</td>\n",
       "    </tr>\n",
       "    <tr>\n",
       "      <th>6</th>\n",
       "      <td>0243288b78024af090b8e947842c969c</td>\n",
       "      <td>средние</td>\n",
       "      <td>Средний счёт:200–300 ₽</td>\n",
       "      <td>250.0</td>\n",
       "      <td>NaN</td>\n",
       "    </tr>\n",
       "    <tr>\n",
       "      <th>7</th>\n",
       "      <td>36aeb0ffa69c48fdb0021549520deb10</td>\n",
       "      <td>средние</td>\n",
       "      <td>Средний счёт:от 500 ₽</td>\n",
       "      <td>500.0</td>\n",
       "      <td>NaN</td>\n",
       "    </tr>\n",
       "    <tr>\n",
       "      <th>8</th>\n",
       "      <td>487167877eb04288bc90d4fa80646fc2</td>\n",
       "      <td>средние</td>\n",
       "      <td>Средний счёт:1000–1200 ₽</td>\n",
       "      <td>1100.0</td>\n",
       "      <td>NaN</td>\n",
       "    </tr>\n",
       "    <tr>\n",
       "      <th>9</th>\n",
       "      <td>ac32978af97641bfacf996e7f5a50ee5</td>\n",
       "      <td>средние</td>\n",
       "      <td>Цена бокала пива:250–350 ₽</td>\n",
       "      <td>NaN</td>\n",
       "      <td>NaN</td>\n",
       "    </tr>\n",
       "  </tbody>\n",
       "</table>\n",
       "</div>"
      ],
      "text/plain": [
       "                                 id          price  \\\n",
       "0  045780ada3474c57a2112e505d74b633  выше среднего   \n",
       "1  1070b6b59144425896c65889347fcff6        средние   \n",
       "2  03ac7cd772104f65b58b349dc59f03ee            NaN   \n",
       "3  a163aada139c4c7f87b0b1c0b466a50f        средние   \n",
       "4  8a343546b24e4a499ad96eb7d0797a8a        средние   \n",
       "5  96ebceb1a09e4e3191133b9fe0379a64        средние   \n",
       "6  0243288b78024af090b8e947842c969c        средние   \n",
       "7  36aeb0ffa69c48fdb0021549520deb10        средние   \n",
       "8  487167877eb04288bc90d4fa80646fc2        средние   \n",
       "9  ac32978af97641bfacf996e7f5a50ee5        средние   \n",
       "\n",
       "                        avg_bill  middle_avg_bill  middle_coffee_cup  \n",
       "0       Средний счёт:1500–1600 ₽           1550.0                NaN  \n",
       "1         Средний счёт:от 1000 ₽           1000.0                NaN  \n",
       "2  Цена чашки капучино:155–185 ₽              NaN              170.0  \n",
       "3         Средний счёт:400–600 ₽            500.0                NaN  \n",
       "4                            NaN              NaN                NaN  \n",
       "5             Средний счёт:199 ₽            199.0                NaN  \n",
       "6         Средний счёт:200–300 ₽            250.0                NaN  \n",
       "7          Средний счёт:от 500 ₽            500.0                NaN  \n",
       "8       Средний счёт:1000–1200 ₽           1100.0                NaN  \n",
       "9     Цена бокала пива:250–350 ₽              NaN                NaN  "
      ]
     },
     "execution_count": 5,
     "metadata": {},
     "output_type": "execute_result"
    }
   ],
   "source": [
    "#Выведем первые 10 строк датасета price_df\n",
    "price_df.head(10)"
   ]
  },
  {
   "cell_type": "code",
   "execution_count": 6,
   "id": "a51e4d66",
   "metadata": {},
   "outputs": [
    {
     "name": "stdout",
     "output_type": "stream",
     "text": [
      "<class 'pandas.core.frame.DataFrame'>\n",
      "RangeIndex: 4058 entries, 0 to 4057\n",
      "Data columns (total 5 columns):\n",
      " #   Column             Non-Null Count  Dtype  \n",
      "---  ------             --------------  -----  \n",
      " 0   id                 4058 non-null   object \n",
      " 1   price              3315 non-null   object \n",
      " 2   avg_bill           3816 non-null   object \n",
      " 3   middle_avg_bill    3149 non-null   float64\n",
      " 4   middle_coffee_cup  535 non-null    float64\n",
      "dtypes: float64(2), object(3)\n",
      "memory usage: 158.6+ KB\n"
     ]
    }
   ],
   "source": [
    "#Выведем основную информацию о датасете price_df\n",
    "price_df.info()"
   ]
  },
  {
   "cell_type": "markdown",
   "id": "d732b8d3",
   "metadata": {},
   "source": [
    "Датасет `/datasets/rest_price.csv` содержит 5 столбцов и 4058 строк, в которых представлена информация о ценах и среднем чеке.\n",
    "Столбцы `id`, `price`, `avg_bill` имеют тип `object` и являются корректными для этих данных. Столбцы `middle_avg_bill`, `middle_avg_bill` хранят информацию из столбца `avg_bill` о цене и для них тип `float64` тоже является корректным.\n",
    "Пропуски есть в столбцах `price`, `avg_bill`, `middle_avg_bill`, `middle_coffee_cup`.\n"
   ]
  },
  {
   "cell_type": "markdown",
   "id": "2c614a62",
   "metadata": {
    "id": "2c614a62"
   },
   "source": [
    "---\n",
    "\n",
    "### Промежуточный вывод\n",
    "\n",
    "Сделайте промежуточный вывод о полученных данных: данные какого объёма вам предоставили, соответствуют ли данные описанию, встречаются ли в них пропуски, используются ли верные типы данных. Отметьте другие особенности данных, которые вы обнаружите на этой стадии и на которые стоит обратить внимание при предобработке."
   ]
  },
  {
   "cell_type": "markdown",
   "id": "6dc2ec63",
   "metadata": {
    "id": "3593b7d5"
   },
   "source": [
    "Были загруженны данные двух датасетов и выведена основная информация по каждому из них. Датасет `/datasets/rest_info.csv` содержит 9 столбцов и 8406 строк, а датасет `/datasets/rest_price.csv` содержит 5 столбцов и 4058 строк и занимают 591.2+ KB и 158.6+ KB памяти соответсвенно. \n",
    "\n",
    "Пропуски есть в столбцах `price`, `avg_bill`, `middle_avg_bill`, `middle_coffee_cup` датасета `/datasets/rest_price.csv` и `hours`, `seats` датасета `/datasets/rest_info.csv`.\n",
    "\n",
    "Столбцы хранятся в типах подходящих для последующего анализа, столбец `chain` можно оптимизировать, чтобы он меньше занимал памяти до `int8`.\n",
    "\n",
    "На основе столбца `avg_bill` в датасете `/datasets/rest_price.csv` добавлены столбцы `middle_avg_bill`, `middle_coffee_cup`, но для категории баров в данных пропуски, можно создать дополнительно столбец, который выделит из столбца `avg_bill` цену за пиво, для категории баров. "
   ]
  },
  {
   "cell_type": "markdown",
   "id": "8a8d1491",
   "metadata": {
    "id": "8a8d1491"
   },
   "source": [
    "### Подготовка единого датафрейма\n",
    "\n",
    "- Объедините данные двух датасетов в один, с которым вы и продолжите работу."
   ]
  },
  {
   "cell_type": "code",
   "execution_count": 7,
   "id": "3408e303",
   "metadata": {
    "id": "3408e303"
   },
   "outputs": [],
   "source": [
    "# Объеденим данные в один датасет\n",
    "df = info_df.merge(price_df, how='left', on='id')"
   ]
  },
  {
   "cell_type": "code",
   "execution_count": 8,
   "id": "8b1b1714",
   "metadata": {},
   "outputs": [
    {
     "name": "stdout",
     "output_type": "stream",
     "text": [
      "<class 'pandas.core.frame.DataFrame'>\n",
      "Int64Index: 8406 entries, 0 to 8405\n",
      "Data columns (total 13 columns):\n",
      " #   Column             Non-Null Count  Dtype  \n",
      "---  ------             --------------  -----  \n",
      " 0   id                 8406 non-null   object \n",
      " 1   name               8406 non-null   object \n",
      " 2   category           8406 non-null   object \n",
      " 3   address            8406 non-null   object \n",
      " 4   district           8406 non-null   object \n",
      " 5   hours              7870 non-null   object \n",
      " 6   rating             8406 non-null   float64\n",
      " 7   chain              8406 non-null   int64  \n",
      " 8   seats              4795 non-null   float64\n",
      " 9   price              3315 non-null   object \n",
      " 10  avg_bill           3816 non-null   object \n",
      " 11  middle_avg_bill    3149 non-null   float64\n",
      " 12  middle_coffee_cup  535 non-null    float64\n",
      "dtypes: float64(4), int64(1), object(8)\n",
      "memory usage: 919.4+ KB\n"
     ]
    }
   ],
   "source": [
    "df.info()"
   ]
  },
  {
   "cell_type": "markdown",
   "id": "956e82e2",
   "metadata": {
    "id": "956e82e2"
   },
   "source": [
    "## 2. Предобработка данных\n",
    "\n",
    "Подготовьте данные к исследовательскому анализу:\n",
    "\n",
    "- Изучите корректность типов данных и при необходимости проведите их преобразование."
   ]
  },
  {
   "cell_type": "markdown",
   "id": "f8dd9b81",
   "metadata": {
    "id": "b5f2a94d"
   },
   "source": [
    "Столбцы `id` , `name`, `category`, `adress`, `district`, `hours`, `price`, `avg_bill` хранятся в типе `object` и подходят для анализа данных.\n",
    "Столбцы `rating`, `middle_avg_bill`, `middle_coffee_cup` хранят данные о рейтинге и финансовых показателях и для них тип `float64` будет верным. \n",
    "Столбцы `chain`, `seats` необходимо преобразовать, т.к. `chain` хранит данные о наличии или отсутсвии сетевого заведения, т.е. 1 или 0 и его можно оптимизировать, а столбец `seats` хранит данные о кол-во посадочных мест и для него тип с плавающей точкой не подходит, его нужно преобразовать в `int`, но так как в данных есть пропуски, выполнить преобразование не получится, для этого нужно заменить все пропуски в этом столбце на какие-нибудь значения. \n"
   ]
  },
  {
   "cell_type": "code",
   "execution_count": 9,
   "id": "620d2f08",
   "metadata": {
    "id": "620d2f08"
   },
   "outputs": [],
   "source": [
    "#Приведем столбец chain в тип данных int\n",
    "for column in ['chain']:\n",
    "    df[column] = pd.to_numeric(df[column], errors='coerce', downcast='integer')"
   ]
  },
  {
   "cell_type": "code",
   "execution_count": 10,
   "id": "cecee733",
   "metadata": {},
   "outputs": [
    {
     "data": {
      "text/plain": [
       "id                    object\n",
       "name                  object\n",
       "category              object\n",
       "address               object\n",
       "district              object\n",
       "hours                 object\n",
       "rating               float64\n",
       "chain                   int8\n",
       "seats                float64\n",
       "price                 object\n",
       "avg_bill              object\n",
       "middle_avg_bill      float64\n",
       "middle_coffee_cup    float64\n",
       "dtype: object"
      ]
     },
     "execution_count": 10,
     "metadata": {},
     "output_type": "execute_result"
    }
   ],
   "source": [
    "# Проверим результат преобразования\n",
    "df.dtypes"
   ]
  },
  {
   "cell_type": "markdown",
   "id": "4b7ee469",
   "metadata": {
    "id": "4b7ee469"
   },
   "source": [
    "- Изучите пропущенные значения в данных: посчитайте их количество в каждом столбце датафрейме, изучите данные с пропущенными значениями и предположите гипотезы их появления. Проведите обработку пропущенных значений: вы можете заменить пропуски на определённое значение, удалить строки с пропусками или оставить их как есть."
   ]
  },
  {
   "cell_type": "code",
   "execution_count": 11,
   "id": "3d8840ca",
   "metadata": {
    "id": "3d8840ca"
   },
   "outputs": [
    {
     "data": {
      "text/plain": [
       "id                      0\n",
       "name                    0\n",
       "category                0\n",
       "address                 0\n",
       "district                0\n",
       "hours                 536\n",
       "rating                  0\n",
       "chain                   0\n",
       "seats                3611\n",
       "price                5091\n",
       "avg_bill             4590\n",
       "middle_avg_bill      5257\n",
       "middle_coffee_cup    7871\n",
       "dtype: int64"
      ]
     },
     "execution_count": 11,
     "metadata": {},
     "output_type": "execute_result"
    }
   ],
   "source": [
    "# Выводим количество пропущенных строк в датафрейме\n",
    "df.isna().sum()"
   ]
  },
  {
   "cell_type": "code",
   "execution_count": 12,
   "id": "2ea145ca",
   "metadata": {
    "id": "2ea145ca"
   },
   "outputs": [
    {
     "data": {
      "text/plain": [
       "id                    0.000000\n",
       "name                  0.000000\n",
       "category              0.000000\n",
       "address               0.000000\n",
       "district              0.000000\n",
       "hours                 6.376398\n",
       "rating                0.000000\n",
       "chain                 0.000000\n",
       "seats                42.957411\n",
       "price                60.563883\n",
       "avg_bill             54.603854\n",
       "middle_avg_bill      62.538663\n",
       "middle_coffee_cup    93.635498\n",
       "dtype: float64"
      ]
     },
     "execution_count": 12,
     "metadata": {},
     "output_type": "execute_result"
    }
   ],
   "source": [
    "# Подсчитываем процент строк с пропусками\n",
    "df.isna().sum() / len(df) * 100"
   ]
  },
  {
   "cell_type": "markdown",
   "id": "7559ab8e",
   "metadata": {
    "id": "d9e7c358"
   },
   "source": [
    "Столбец `hours` содержит всего лишь 6% пропусков - и для этого столбца пропуски не являются типичными и чтобы их заменить необходимы точные данные, поэтому принято решение удалить эти пропуски, чтобы они негативно не влияли на дальнейший анализ. \n",
    "\n",
    "Столбец `seats` почти 43% пропусков - возможно, что почти половина пропусков это нормально для этого столбца, так как у некоторых груп рестораннов может не быть посадочных мест, например часто для кофеен посадочные места отсутсвуют.\n",
    "\n",
    "Пропуски в столбцах `price` скорее всего тоже являются нормальными для данного набора данных, т.к. показывает категорию цен для одного заведения и в некоторых заведениях цены могут разниться или в предложении, например, только пиво. \n",
    "\n",
    "Пропуски в столбце `avg_bill` можно оставить без изменений, т.к. в дальнейшем анализе участвовать он не будет.\n",
    "\n",
    "Пропуски в столбце `middle_cofee_cup` и `middle_avg_bill` можно также оставить без изменений, так как эти столбцы созданы на основе `avg_bill` и для разных категорий заведений, данные могу отсутствовать. \n",
    "\n",
    "\n",
    "\n",
    "\n"
   ]
  },
  {
   "cell_type": "markdown",
   "id": "c4d5f04d",
   "metadata": {
    "id": "c4d5f04d"
   },
   "source": [
    "- Проверьте данные на явные и неявные дубликаты, например поля с названием и адресом заведения. Для оптимизации проверки нормализуйте данные в текстовых столбцах, например с названием заведения."
   ]
  },
  {
   "cell_type": "code",
   "execution_count": 13,
   "id": "f237abdb",
   "metadata": {},
   "outputs": [],
   "source": [
    "# Приведем столбец name к нижнему регистру\n",
    "df['name'] = df['name'].str.lower()"
   ]
  },
  {
   "cell_type": "code",
   "execution_count": 14,
   "id": "4e86242b",
   "metadata": {},
   "outputs": [],
   "source": [
    "# Приведем столбец address к нижнему регистру\n",
    "df['address'] = df['address'].str.lower()"
   ]
  },
  {
   "cell_type": "code",
   "execution_count": 15,
   "id": "609f0adc",
   "metadata": {},
   "outputs": [],
   "source": [
    "# Приведем столбец district к нижнему регистру\n",
    "df['district'] = df['district'].str.lower()"
   ]
  },
  {
   "cell_type": "code",
   "execution_count": 16,
   "id": "0769b681",
   "metadata": {
    "id": "0769b681"
   },
   "outputs": [
    {
     "data": {
      "text/plain": [
       "0"
      ]
     },
     "execution_count": 16,
     "metadata": {},
     "output_type": "execute_result"
    }
   ],
   "source": [
    "# Проверяем полные дубликаты в датафрейме df\n",
    "df.duplicated().sum()"
   ]
  },
  {
   "cell_type": "markdown",
   "id": "30fd3d18",
   "metadata": {},
   "source": [
    "Думбликатов не найдено"
   ]
  },
  {
   "cell_type": "code",
   "execution_count": 17,
   "id": "b52bae9a",
   "metadata": {
    "id": "b52bae9a"
   },
   "outputs": [
    {
     "data": {
      "text/plain": [
       "0"
      ]
     },
     "execution_count": 17,
     "metadata": {},
     "output_type": "execute_result"
    }
   ],
   "source": [
    "# Проверяем неявные дубликаты в датафрейме df по столбцу id\n",
    "df.duplicated(subset='id').sum()"
   ]
  },
  {
   "cell_type": "code",
   "execution_count": 18,
   "id": "00d70382",
   "metadata": {
    "scrolled": true
   },
   "outputs": [
    {
     "data": {
      "text/plain": [
       "4"
      ]
     },
     "execution_count": 18,
     "metadata": {},
     "output_type": "execute_result"
    }
   ],
   "source": [
    "# Проверяем неявные дубликаты в датафрейме df по столбцам name, address, district\n",
    "df.duplicated(subset=['name','address','district']).sum()"
   ]
  },
  {
   "cell_type": "markdown",
   "id": "f52d147c",
   "metadata": {},
   "source": [
    "Найдено 4 дублирующие строки"
   ]
  },
  {
   "cell_type": "code",
   "execution_count": 19,
   "id": "0b8ba591",
   "metadata": {},
   "outputs": [
    {
     "name": "stdout",
     "output_type": "stream",
     "text": [
      "Количество строк до удаления дубликатов: 8406\n",
      "Количество строк после удаления дубликатов: 8402\n",
      "Количество удаленых дубликатов: 4\n",
      "Процент удаленных строк: 0.05%\n"
     ]
    }
   ],
   "source": [
    "# считаем кол-во строк до удаления дубликатов\n",
    "initial_row_count = df.shape[0]\n",
    "\n",
    "# Сортируем датафрейм по всем столбцам\n",
    "df_sorted = df.sort_values(by=list(df.columns))\n",
    "\n",
    "# Удаляем дубликаты\n",
    "df_no_duplicates = df_sorted.drop_duplicates(subset=['name','address','district'])\n",
    "\n",
    "# Сохраняем количество строк после удаления дубликатов\n",
    "final_row_count_dup = df_no_duplicates.shape[0]\n",
    "\n",
    "# абсолютное кол-во дубликатов\n",
    "abs_duplicates = initial_row_count - final_row_count_dup\n",
    "\n",
    "# относительное кол-во дубликатов\n",
    "percent_duplicates = round(100 - ((final_row_count_dup / initial_row_count) * 100),2)\n",
    "\n",
    "\n",
    "# Выводим результаты\n",
    "print(f\"Количество строк до удаления дубликатов: {initial_row_count}\")\n",
    "print(f\"Количество строк после удаления дубликатов: {final_row_count_dup}\")\n",
    "print(f\"Количество удаленых дубликатов: {abs_duplicates}\")\n",
    "print(f\"Процент удаленных строк: {percent_duplicates}%\")\n"
   ]
  },
  {
   "cell_type": "markdown",
   "id": "4c0563f2",
   "metadata": {
    "id": "4c0563f2"
   },
   "source": [
    "- Для дальнейшей работы создайте столбец `is_24_7` с обозначением того, что заведение работает ежедневно и круглосуточно, то есть 24/7:\n",
    "  - логическое значение `True` — если заведение работает ежедневно и круглосуточно;\n",
    "  - логическое значение `False` — в противоположном случае."
   ]
  },
  {
   "cell_type": "code",
   "execution_count": 20,
   "id": "8be37864",
   "metadata": {},
   "outputs": [],
   "source": [
    "# Создадим новый датасет после удаления дубликатов и пропусков для дальнейшего анализа\n",
    "new_df = df_no_duplicates.copy()"
   ]
  },
  {
   "cell_type": "code",
   "execution_count": 21,
   "id": "d8a8a963",
   "metadata": {
    "id": "d8a8a963"
   },
   "outputs": [],
   "source": [
    "# Создадим новый столбец is_24_7 для дальнейшего анализа\n",
    "new_df['is_24_7'] = (new_df['hours'].str.contains('ежедневно')) & (new_df['hours'].str.contains('круглосуточно'))"
   ]
  },
  {
   "cell_type": "code",
   "execution_count": 22,
   "id": "16e504c8",
   "metadata": {},
   "outputs": [
    {
     "data": {
      "text/plain": [
       "id                    0.000000\n",
       "name                  0.000000\n",
       "category              0.000000\n",
       "address               0.000000\n",
       "district              0.000000\n",
       "hours                 6.364502\n",
       "rating                0.000000\n",
       "chain                 0.000000\n",
       "seats                42.945515\n",
       "price                60.516298\n",
       "avg_bill             54.556269\n",
       "middle_avg_bill      62.491078\n",
       "middle_coffee_cup    93.587913\n",
       "is_24_7               0.000000\n",
       "dtype: float64"
      ]
     },
     "execution_count": 22,
     "metadata": {},
     "output_type": "execute_result"
    }
   ],
   "source": [
    "# Подсчитываем процент строк с пропусками после удаления пропусков в hours и удаления дубликатов\n",
    "new_df.isna().sum() / len(df) * 100"
   ]
  },
  {
   "cell_type": "markdown",
   "id": "562f30ab",
   "metadata": {
    "id": "562f30ab"
   },
   "source": [
    "---\n",
    "\n",
    "### Промежуточный вывод\n",
    "\n",
    "После предобработки данных напишите промежуточный вывод о проведённой работе. Отразите количество или долю отфильтрованных данных, если вы что-то удаляли."
   ]
  },
  {
   "cell_type": "markdown",
   "id": "cc7e6732",
   "metadata": {
    "id": "4e587ce1"
   },
   "source": [
    "В исходном датасете было 8406 строки после объединения, всего было найдено 4 дублирующих строки по столбцам `name`,`address`,`district`, что составило 0,05% от исходного количества данных. \n",
    "\n",
    "Так же были найдены пропуски в данных по столбцам `hours`, `seats`, `price`, `avg_bill`, `middle_avg_bill`, `middle_coffee_cup`.\n",
    "В столбце `hours` было принято решение удалить пропуски, потому что заполнить их нельзя, т.к. нет полных данных, чтобы эти пропуски не влияли на дальнейший анализ. \n",
    "\n",
    "Пропуски в столбце `hours` составляют значительную часть данных, их лучше оставить как есть.\n",
    "\n",
    "В столбцах `seats`, `price`, `avg_bill`, `middle_avg_bill`, `middle_coffee_cup` было принято решение оставить пропуски как есть.\n",
    "\n",
    "Процент пропусков в этих данных составляет :\n",
    "\n",
    "- seats                42%\n",
    "- price                560%\n",
    "- avg_bill             54%\n",
    "- middle_avg_bill      62%\n",
    "- middle_coffee_cup    93%"
   ]
  },
  {
   "cell_type": "markdown",
   "id": "6953e84c",
   "metadata": {
    "id": "6953e84c"
   },
   "source": [
    "## 3. Исследовательский анализ данных\n",
    "Проведите исследовательский анализ исходных данных.\n",
    "\n",
    "При исследовании данных используйте визуализации. Проверьте, что для каждого случая подобран оптимальный тип визуализации с корректным оформлением. У графика должен быть заголовок, понятные подписи по осям, при необходимости легенда, а его размер является оптимальным для изучения.\n",
    "\n",
    "После исследования каждого пункта оставляйте небольшой комментарий с выводом или обсуждением результата. В конце шага обобщите результаты, выделив, по вашему мнению, самые важные."
   ]
  },
  {
   "cell_type": "markdown",
   "id": "8555d840",
   "metadata": {
    "id": "8555d840"
   },
   "source": [
    "---\n",
    "\n",
    "### Задача 1\n",
    "\n",
    "Какие категории заведений представлены в данных? Исследуйте количество объектов общественного питания по каждой категории. Результат сопроводите подходящей визуализацией."
   ]
  },
  {
   "cell_type": "code",
   "execution_count": 23,
   "id": "ef2bffe9",
   "metadata": {
    "id": "ef2bffe9"
   },
   "outputs": [
    {
     "data": {
      "image/png": "[encoded data removed]",
      "text/plain": [
       "<Figure size 864x360 with 1 Axes>"
      ]
     },
     "metadata": {
      "needs_background": "light"
     },
     "output_type": "display_data"
    }
   ],
   "source": [
    "# Строим столбчатую диаграмму\n",
    "new_df['category'].value_counts().plot(\n",
    "               kind='bar',\n",
    "               rot=0,\n",
    "               legend=False,\n",
    "               title=f'Распределение объектов общественного питания Москвы в зависимости от категории',\n",
    "               figsize=(12, 5),\n",
    "               grid=False,\n",
    "               color='#BC8F8F'\n",
    ")\n",
    "# Настраиваем оформление графика\n",
    "plt.xlabel('Категории заведений общественного питания')\n",
    "plt.ylabel('Количество объектов')\n",
    "# Выводим график\n",
    "plt.show()"
   ]
  },
  {
   "cell_type": "markdown",
   "id": "4d0b9233",
   "metadata": {
    "id": "71ab5e91"
   },
   "source": [
    "В данных представлены категории заведений кафе, ресторан, кофейня, бар,паб, пиццерия, быстрое питание, столовая и булочная. \n",
    "Кафе, ресторан находятся на 1 и 2 месте с почти равным кол-вом заведений, на 3 месте по количеству заведений - кофейни. \n",
    "Остальные категории не так распространены, особенно это касается столовых и булочных."
   ]
  },
  {
   "cell_type": "markdown",
   "id": "6821e1d0",
   "metadata": {
    "id": "6821e1d0"
   },
   "source": [
    "---\n",
    "\n",
    "### Задача 2\n",
    "\n",
    "Какие административные районы Москвы присутствуют в данных? Исследуйте распределение количества заведений по административным районам Москвы, а также отдельно распределение заведений каждой категории в Центральном административном округе Москвы. Результат сопроводите подходящими визуализациями."
   ]
  },
  {
   "cell_type": "code",
   "execution_count": 24,
   "id": "e62f31be",
   "metadata": {
    "id": "e62f31be"
   },
   "outputs": [
    {
     "data": {
      "image/png": "[encoded data removed]",
      "text/plain": [
       "<Figure size 1080x360 with 1 Axes>"
      ]
     },
     "metadata": {
      "needs_background": "light"
     },
     "output_type": "display_data"
    }
   ],
   "source": [
    "# Строим столбчатую диаграмму для распределения заведений по административным округам \n",
    "new_df['district'].value_counts().sort_values(ascending=False).plot(\n",
    "               kind='bar', # Тип графика - столбчатая диаграмма\n",
    "               rot=35, # Градус вращения подписи по оси Х\n",
    "               legend=False, # Выключаем легенду\n",
    "               title=f'Распределение количества заведений по административным районам Москвы',\n",
    "               figsize=(15, 5),\n",
    "               grid=False,\n",
    "               color='#BC8F8F'\n",
    ")\n",
    "\n",
    "# Настраиваем оформление графика\n",
    "plt.xlabel('Административные районы Москвы')\n",
    "plt.ylabel('Количество заведений')\n",
    "# Выводим график\n",
    "plt.show()"
   ]
  },
  {
   "cell_type": "markdown",
   "id": "06898080",
   "metadata": {},
   "source": [
    "В данных присутсвуют АО: Центральный, Северный, Северо-Восточный, Южный, Западный, Восточный, Юго-Западный, Юго-Восточный и Северо-Западный. Больше всего заведений находится в Центральном АО, в Северном, Северо-Восточном и Южном АО заведения распределены равномерно их около 700, а в остальных районах около 500-600, самое низкое количество заведений находится в Северно-Западном АО."
   ]
  },
  {
   "cell_type": "code",
   "execution_count": 25,
   "id": "0a290cd1",
   "metadata": {
    "id": "0a290cd1"
   },
   "outputs": [
    {
     "data": {
      "image/png": "[encoded data removed]",
      "text/plain": [
       "<Figure size 1080x360 with 1 Axes>"
      ]
     },
     "metadata": {
      "needs_background": "light"
     },
     "output_type": "display_data"
    }
   ],
   "source": [
    "# Строим столбчатую диаграмму для распределения категорий заведений по Центральному АО Москвы\n",
    "new_df.loc[new_df['district'] == 'центральный административный округ']['category'].value_counts().sort_values(ascending=False).plot(\n",
    "               kind='bar', \n",
    "               rot=35, \n",
    "               legend=False, \n",
    "               title=f'Распределение категорий заведений по Центральному району Москвы',\n",
    "               figsize=(15, 5),\n",
    "               grid=False,\n",
    "               color='#BC8F8F'\n",
    ")\n",
    "\n",
    "# Настраиваем оформление графика\n",
    "plt.xlabel('Категории завадений')\n",
    "plt.ylabel('Количество заведений')\n",
    "# Выводим график\n",
    "plt.show()"
   ]
  },
  {
   "cell_type": "markdown",
   "id": "e2d02334",
   "metadata": {},
   "source": [
    "В Центральном АО наиболее распространены рестораны, кафе, кафейни и бары, пабы. На первом месте рестораны, а вот быстрое питание, столовые и булочные не так распространены. "
   ]
  },
  {
   "cell_type": "markdown",
   "id": "862bead4",
   "metadata": {},
   "source": [
    "Из визуализаций можно сделать вывод, что больше всего заведений находится в Центральной АО, большая часть которых приходится на кафе, рестораны и кофейни. Булочные не так популярны, скорее всего потому-что в этом округе много туристов."
   ]
  },
  {
   "cell_type": "markdown",
   "id": "7c824f58",
   "metadata": {
    "id": "7c824f58"
   },
   "source": [
    "---\n",
    "\n",
    "### Задача 3\n",
    "\n",
    "Изучите соотношение сетевых и несетевых заведений в целом по всем данным и в разрезе категорий заведения. Каких заведений больше — сетевых или несетевых? Какие категории заведений чаще являются сетевыми? Исследуйте данные, ответьте на вопросы и постройте необходимые визуализации."
   ]
  },
  {
   "cell_type": "code",
   "execution_count": 26,
   "id": "ef442d1a",
   "metadata": {
    "id": "ef442d1a"
   },
   "outputs": [
    {
     "data": {
      "image/png": "[encoded data removed]",
      "text/plain": [
       "<Figure size 720x360 with 1 Axes>"
      ]
     },
     "metadata": {
      "needs_background": "light"
     },
     "output_type": "display_data"
    }
   ],
   "source": [
    "# Строим столбчатую диаграмму соотношения сетевых и не сетевых заведений\n",
    "new_df['chain'].value_counts(normalize=True).sort_values(ascending=False).plot(\n",
    "               kind='bar', \n",
    "               rot=0, \n",
    "               legend=False,\n",
    "               title=f'Соотношение сетевых и не сетевых заведений общественного питания',\n",
    "               figsize=(10, 5),\n",
    "               grid=True,\n",
    "               color='#BC8F8F'\n",
    ")\n",
    "\n",
    "# Настраиваем оформление графика\n",
    "plt.xlabel('Заведения (0 - не сетевое, 1 - сетевое)')\n",
    "plt.ylabel('Доля заведений')\n",
    "\n",
    "# Выводим график\n",
    "plt.show()"
   ]
  },
  {
   "cell_type": "markdown",
   "id": "ae1e1162",
   "metadata": {},
   "source": [
    "Не сетевых заведений примерно 60% от всех ресторанов, а сетевых 40%."
   ]
  },
  {
   "cell_type": "code",
   "execution_count": 27,
   "id": "0de29fa2",
   "metadata": {
    "id": "0de29fa2"
   },
   "outputs": [],
   "source": [
    "# Выведем данные в необходимые переменные\n",
    "n1 = new_df.groupby('category')['chain'].count()\n",
    "\n",
    "n2 = new_df.loc[new_df['chain'] == 1]\n",
    "\n",
    "n2 = n2.groupby('category')['chain'].count()\n",
    "\n",
    "n3 = n2/n1"
   ]
  },
  {
   "cell_type": "code",
   "execution_count": 28,
   "id": "992b77ad",
   "metadata": {},
   "outputs": [
    {
     "data": {
      "image/png": "[encoded data removed]",
      "text/plain": [
       "<Figure size 864x360 with 1 Axes>"
      ]
     },
     "metadata": {
      "needs_background": "light"
     },
     "output_type": "display_data"
    }
   ],
   "source": [
    "n3.sort_values(ascending=False).plot(\n",
    "               kind='bar',\n",
    "               title=f'Распределение сетевых и не сетевых заведений в зависимости от категории',\n",
    "               ylabel='Доля заведений от общего кол-ва в категории',\n",
    "               xlabel='Сетевые заведения',\n",
    "               rot=0,\n",
    "               figsize=(12, 5),\n",
    "               legend=False,\n",
    "               grid=True,\n",
    "               color='#BC8F8F'\n",
    ")\n",
    "\n",
    "# Выводим график\n",
    "plt.show()"
   ]
  },
  {
   "cell_type": "markdown",
   "id": "a3c9762b",
   "metadata": {
    "id": "a139bd72"
   },
   "source": [
    "Чаще всего сетевыми заведениями являются булочные, пицерии и кафейни в этих категориях кол-во таких заведений состовляет более половины. Кафе, столовые и бары чаще все не сетевые."
   ]
  },
  {
   "cell_type": "markdown",
   "id": "37da3bda",
   "metadata": {},
   "source": [
    "\n",
    "\n",
    "Не сетевых заведений в Москве больше всего они составляют 60% от общего кол-ва, чаще всего сетевыми являются булочные, кофенйи и пицерии. "
   ]
  },
  {
   "cell_type": "markdown",
   "id": "5913c3e3",
   "metadata": {
    "id": "5913c3e3"
   },
   "source": [
    "---\n",
    "\n",
    "### Задача 4\n",
    "\n",
    "Исследуйте количество посадочных мест в заведениях. Встречаются ли в данных аномальные значения или выбросы? Если да, то с чем они могут быть связаны? Приведите для каждой категории заведений наиболее типичное для него количество посадочных мест. Результат сопроводите подходящими визуализациями.\n"
   ]
  },
  {
   "cell_type": "code",
   "execution_count": 29,
   "id": "6cb238d2",
   "metadata": {
    "id": "6cb238d2"
   },
   "outputs": [
    {
     "name": "stdout",
     "output_type": "stream",
     "text": [
      "Статистические показатели столбца seats:\n"
     ]
    },
    {
     "data": {
      "text/plain": [
       "count    4792.000000\n",
       "mean      108.361436\n",
       "std       122.841130\n",
       "min         0.000000\n",
       "25%        40.000000\n",
       "50%        75.000000\n",
       "75%       140.000000\n",
       "max      1288.000000\n",
       "Name: seats, dtype: float64"
      ]
     },
     "execution_count": 29,
     "metadata": {},
     "output_type": "execute_result"
    }
   ],
   "source": [
    "# Изучаем статистические показатели столбца seats \n",
    "print('Статистические показатели столбца seats:')\n",
    "new_df['seats'].describe()"
   ]
  },
  {
   "cell_type": "markdown",
   "id": "b4cc5f4d",
   "metadata": {},
   "source": [
    "Среднее число посадочных мест составляет примерно 108, что на 33 больше чем медианное значение, это говорит об ненормальном распределении данных. Минимальное число посадочных мест 0 - что вполне нормально, т.к. посадочные места могу отсутсвовать, а максимальное кол-во посадочных мест 1288, что может говорить о выбросах в данных, т.к. нормальным кол-во посадочных мест является 250. 75% всех данных ниже 140, что только подтверждает это."
   ]
  },
  {
   "cell_type": "code",
   "execution_count": 30,
   "id": "ceadf25b",
   "metadata": {
    "id": "ceadf25b",
    "scrolled": true
   },
   "outputs": [
    {
     "data": {
      "image/png": "[encoded data removed]",
      "text/plain": [
       "<Figure size 720x360 with 1 Axes>"
      ]
     },
     "metadata": {
      "needs_background": "light"
     },
     "output_type": "display_data"
    }
   ],
   "source": [
    "# Строим гистограмму распределения посадочных мест\n",
    "new_df['seats'].sort_values(ascending=False).plot(\n",
    "                kind='hist',\n",
    "                bins=30,\n",
    "                alpha=0.75,\n",
    "                edgecolor='black',\n",
    "                rot=0,\n",
    "                figsize=(10, 5),\n",
    "                grid=True,\n",
    "                color='#BC8F8F'\n",
    ")\n",
    "\n",
    "# Настраиваем оформление графика\n",
    "plt.title('Распределение посадочных мест')\n",
    "plt.xlabel('Посадочные места')\n",
    "plt.ylabel('Частота')\n",
    "\n",
    "# Выводим график\n",
    "plt.show()"
   ]
  },
  {
   "cell_type": "markdown",
   "id": "ad230677",
   "metadata": {},
   "source": [
    "Гистограмма имеет правый хвост, что говорит о том, что чаще всего присутствуют значения от 0 до 140-150, но есть выбросы в данных, которые являются нетипичными для этих данных. Построим диаграмму размаха и посмотрим на выбросы."
   ]
  },
  {
   "cell_type": "code",
   "execution_count": 31,
   "id": "f2c1b00a",
   "metadata": {},
   "outputs": [
    {
     "data": {
      "image/png": "[encoded data removed]",
      "text/plain": [
       "<Figure size 720x216 with 1 Axes>"
      ]
     },
     "metadata": {
      "needs_background": "light"
     },
     "output_type": "display_data"
    }
   ],
   "source": [
    "# Строим диаграмму размаха значений в столбце seats\n",
    "new_df.boxplot(column='seats', vert=False, figsize=(10, 3))\n",
    "\n",
    "# Добавляем заголовок и метки оси\n",
    "plt.title('Распределение посадочных мест')\n",
    "plt.xlabel('Посадочные места')\n",
    "\n",
    "# Выводим график\n",
    "plt.show()"
   ]
  },
  {
   "cell_type": "markdown",
   "id": "591fe132",
   "metadata": {},
   "source": [
    "Большинство данных находятся в диапазоне примерно от 40 до 150 посадочных мест, в данных есть выбросы. Значения больше 250 являются не типичными для этих данных. Далее рассмотрим распределение медианного кол-ва мест в зависимости от категории."
   ]
  },
  {
   "cell_type": "code",
   "execution_count": 32,
   "id": "41f788de",
   "metadata": {},
   "outputs": [
    {
     "data": {
      "image/png": "[encoded data removed]",
      "text/plain": [
       "<Figure size 864x360 with 1 Axes>"
      ]
     },
     "metadata": {
      "needs_background": "light"
     },
     "output_type": "display_data"
    }
   ],
   "source": [
    "\n",
    "# Построим график столбчатой диаграммы\n",
    "new_df.groupby('category')['seats'].median().sort_values(ascending=False).plot(\n",
    "               kind='bar',\n",
    "               title=f'Распределение среднего кол-во посадочных мест в зависимости от категории',\n",
    "               legend=False,\n",
    "               ylabel='Медианное кол-во посадочных мест',\n",
    "               xlabel='Категория',\n",
    "               rot=0,\n",
    "               figsize=(12, 5),\n",
    "               grid=True,\n",
    "               color='#BC8F8F'\n",
    ")\n",
    "\n",
    "# Выводим график\n",
    "plt.show()"
   ]
  },
  {
   "cell_type": "markdown",
   "id": "d0d62279",
   "metadata": {},
   "source": [
    "Типичные кол-во посадочных мест для ресторанов является около 90, для баров, пабов - 80-85, для кофеейн 80, дальше в среднем в зависимости от категории кол-во посадочных мест падает на 5, для булочных с самым низким кол-вом посадочных мест типичным является значение 50, что является еормальным, т.к. оыбчно это заведения с малой площадью."
   ]
  },
  {
   "cell_type": "markdown",
   "id": "61bede4a",
   "metadata": {},
   "source": [
    "Из данных по столбцу `seats` можно сделать вывод, что есть аномально высокие значения, скорее всего это может быть связано с ошибками в данных, т.к. такое кол-во мест не характерно для заведений общественного питания."
   ]
  },
  {
   "cell_type": "markdown",
   "id": "8ed065ea",
   "metadata": {
    "id": "8ed065ea"
   },
   "source": [
    "---\n",
    "\n",
    "### Задача 5\n",
    "\n",
    "Исследуйте рейтинг заведений. Визуализируйте распределение средних рейтингов по категориям заведений. Сильно ли различаются усреднённые рейтинги для разных типов общепита?"
   ]
  },
  {
   "cell_type": "code",
   "execution_count": 33,
   "id": "cc5206f8",
   "metadata": {
    "id": "cc5206f8"
   },
   "outputs": [
    {
     "name": "stdout",
     "output_type": "stream",
     "text": [
      "Статистические показатели столбца rating:\n"
     ]
    },
    {
     "data": {
      "text/plain": [
       "count    8402.000000\n",
       "mean        4.230017\n",
       "std         0.470320\n",
       "min         1.000000\n",
       "25%         4.100000\n",
       "50%         4.300000\n",
       "75%         4.400000\n",
       "max         5.000000\n",
       "Name: rating, dtype: float64"
      ]
     },
     "execution_count": 33,
     "metadata": {},
     "output_type": "execute_result"
    }
   ],
   "source": [
    "# Изучаем статистические показатели столбца rating \n",
    "print('Статистические показатели столбца rating:')\n",
    "new_df['rating'].describe()"
   ]
  },
  {
   "cell_type": "markdown",
   "id": "362007e3",
   "metadata": {},
   "source": [
    "В целом можно сделать вывод, что столбец `rating` имеет нормальное распределение, среднее почти не отличается от медианного значения."
   ]
  },
  {
   "cell_type": "code",
   "execution_count": 34,
   "id": "3e0ec5d7",
   "metadata": {
    "id": "3e0ec5d7"
   },
   "outputs": [
    {
     "data": {
      "image/png": "[encoded data removed]",
      "text/plain": [
       "<Figure size 864x216 with 1 Axes>"
      ]
     },
     "metadata": {
      "needs_background": "light"
     },
     "output_type": "display_data"
    }
   ],
   "source": [
    "# Строим гистограмму по столбцу rating\n",
    "new_df['rating'].sort_values(ascending=False).plot(\n",
    "                kind='hist',\n",
    "                bins=25, \n",
    "                alpha=0.75,\n",
    "                edgecolor='black',\n",
    "                rot=0, \n",
    "                figsize=(12, 3),\n",
    "                grid=True,\n",
    "                color='#BC8F8F'\n",
    ")\n",
    "\n",
    "# Настраиваем оформление графика\n",
    "plt.title('Распределение рейтинга заведений')\n",
    "plt.xlabel('Рейтинг')\n",
    "plt.ylabel('Частота')\n",
    "\n",
    "# Выводим график\n",
    "plt.show()"
   ]
  },
  {
   "cell_type": "markdown",
   "id": "fe922600",
   "metadata": {},
   "source": [
    "Большинство значений расположены в диапазоне от 4-4,5, гистограма смещена вправо, что может говорить о слишком низких значениях.\n",
    "Проверим распределение средних рейтингов в зависимости от категории."
   ]
  },
  {
   "cell_type": "code",
   "execution_count": 35,
   "id": "766c86cb",
   "metadata": {
    "id": "766c86cb"
   },
   "outputs": [
    {
     "data": {
      "image/png": "[encoded data removed]",
      "text/plain": [
       "<Figure size 1080x288 with 1 Axes>"
      ]
     },
     "metadata": {
      "needs_background": "light"
     },
     "output_type": "display_data"
    }
   ],
   "source": [
    "new_df.groupby('category')['rating'].mean().sort_values(ascending=False).plot(\n",
    "               kind='bar',\n",
    "               title=f'Распределение средних рейтингов по категориям заведений',\n",
    "               legend=False,\n",
    "               ylabel='Средний рейтинг',\n",
    "               xlabel='Категория заведений',\n",
    "               rot=0,\n",
    "               figsize=(15, 4),\n",
    "               grid=True,\n",
    "               color='#BC8F8F'\n",
    "\n",
    ")\n",
    "\n",
    "# Рассчитываем среднее значение рейтинга по всем данным\n",
    "mean_rating_share = new_df['rating'].mean()\n",
    "\n",
    "# Наносим на график линию с средним значением рейтинга\n",
    "plt.axhline(mean_rating_share, \n",
    "            color='red', \n",
    "            linestyle='--', \n",
    "            linewidth=1,\n",
    "            label=f'Средний рейтинг {round(mean_rating_share,1)}'\n",
    "           \n",
    "           )\n",
    "\n",
    "# Выводим график\n",
    "plt.legend()\n",
    "plt.show()"
   ]
  },
  {
   "cell_type": "markdown",
   "id": "f2b4f757",
   "metadata": {},
   "source": [
    "Из визуализации можно сделать вывод, что средний рейтинг категорий заведений не почти не отличается от общего среднего рейтинга по всем данным. "
   ]
  },
  {
   "cell_type": "markdown",
   "id": "da96529e",
   "metadata": {},
   "source": [
    "Был проведен анализ рейтингов заведений, можно сделать вывод, что категория заведений, не сильно влияет на рейтинг, так как не слишком выходит выше или ниже среднего значения 4,2 для общих данных. В данных по этому столбцу есть минимальные значения 1, но не ниже единицы, что является нормальным для данных по рейтингу."
   ]
  },
  {
   "cell_type": "markdown",
   "id": "dd9702d9",
   "metadata": {
    "id": "dd9702d9"
   },
   "source": [
    "---\n",
    "\n",
    "### Задача 6\n",
    "\n",
    "Изучите, с какими данными показывают самую сильную корреляцию рейтинги заведений? Постройте и визуализируйте матрицу корреляции рейтинга заведения с разными данными: его категория, положение (административный район Москвы), статус сетевого заведения, количество мест, ценовая категория и признак, является ли заведения круглосуточным. Выберите самую сильную связь и проверьте её."
   ]
  },
  {
   "cell_type": "code",
   "execution_count": 36,
   "id": "15400eb9",
   "metadata": {
    "id": "15400eb9"
   },
   "outputs": [
    {
     "name": "stdout",
     "output_type": "stream",
     "text": [
      "interval columns not set, guessing: ['chain', 'seats', 'rating']\n"
     ]
    },
    {
     "data": {
      "text/html": [
       "<div>\n",
       "<style scoped>\n",
       "    .dataframe tbody tr th:only-of-type {\n",
       "        vertical-align: middle;\n",
       "    }\n",
       "\n",
       "    .dataframe tbody tr th {\n",
       "        vertical-align: top;\n",
       "    }\n",
       "\n",
       "    .dataframe thead th {\n",
       "        text-align: right;\n",
       "    }\n",
       "</style>\n",
       "<table border=\"1\" class=\"dataframe\">\n",
       "  <thead>\n",
       "    <tr style=\"text-align: right;\">\n",
       "      <th></th>\n",
       "      <th>rating</th>\n",
       "    </tr>\n",
       "  </thead>\n",
       "  <tbody>\n",
       "    <tr>\n",
       "      <th>price</th>\n",
       "      <td>0.220295</td>\n",
       "    </tr>\n",
       "    <tr>\n",
       "      <th>district</th>\n",
       "      <td>0.200761</td>\n",
       "    </tr>\n",
       "    <tr>\n",
       "      <th>category</th>\n",
       "      <td>0.189677</td>\n",
       "    </tr>\n",
       "    <tr>\n",
       "      <th>is_24_7</th>\n",
       "      <td>0.150365</td>\n",
       "    </tr>\n",
       "    <tr>\n",
       "      <th>chain</th>\n",
       "      <td>0.107973</td>\n",
       "    </tr>\n",
       "    <tr>\n",
       "      <th>seats</th>\n",
       "      <td>0.000000</td>\n",
       "    </tr>\n",
       "  </tbody>\n",
       "</table>\n",
       "</div>"
      ],
      "text/plain": [
       "            rating\n",
       "price     0.220295\n",
       "district  0.200761\n",
       "category  0.189677\n",
       "is_24_7   0.150365\n",
       "chain     0.107973\n",
       "seats     0.000000"
      ]
     },
     "execution_count": 36,
     "metadata": {},
     "output_type": "execute_result"
    }
   ],
   "source": [
    "# Вычисляем корреляционную матрицу с использованием phi_k\n",
    "correlation_matrix = new_df[['district', 'category', 'chain', 'seats', 'price', 'is_24_7', 'rating']].phik_matrix()\n",
    "\n",
    "correlation_matrix.loc[correlation_matrix.index != 'rating'][['rating']].sort_values(by='rating', ascending=False)"
   ]
  },
  {
   "cell_type": "markdown",
   "id": "384ec7d1",
   "metadata": {},
   "source": [
    "Самое высокую кореляцию значения рейтинда имеют с категорией цен и административным округом, посмотрим тепловую карту, для наглядного представления данных."
   ]
  },
  {
   "cell_type": "code",
   "execution_count": 37,
   "id": "8f0379af",
   "metadata": {
    "id": "8f0379af"
   },
   "outputs": [
    {
     "data": {
      "image/png": "[encoded data removed]",
      "text/plain": [
       "<Figure size 288x864 with 1 Axes>"
      ]
     },
     "metadata": {
      "needs_background": "light"
     },
     "output_type": "display_data"
    }
   ],
   "source": [
    "# Строим тепловую карту\n",
    "plt.figure(figsize=(4, 12))\n",
    "\n",
    "# Сохраняем матрицу корреляции признака rating с другими признаками \n",
    "data_heatmap = correlation_matrix.loc[correlation_matrix.index != 'rating'][['rating']].sort_values(by='rating', ascending=False)\n",
    "sns.heatmap(data_heatmap,\n",
    "            annot=True, \n",
    "            fmt='.2f', \n",
    "            cmap='coolwarm', \n",
    "            linewidths=0.5,\n",
    "            cbar=False\n",
    "           )\n",
    "\n",
    "# Добавляем заголовок и подпись по оси Х\n",
    "plt.title('Тепловая карта коэффициента phi_k \\n для данных rating')\n",
    "plt.xlabel('Рейтинг заведений')\n",
    "\n",
    "# Выводим график\n",
    "plt.show()"
   ]
  },
  {
   "cell_type": "markdown",
   "id": "b2a973de",
   "metadata": {},
   "source": [
    "Из тепловой матрицы выберем категорию цен, так как наибольшую кареляцию значения рейтинга имеют с этими данными. Построим столбчатую диаграмму чтобы проверить связь."
   ]
  },
  {
   "cell_type": "code",
   "execution_count": 38,
   "id": "1a65a84d",
   "metadata": {
    "id": "1a65a84d",
    "scrolled": true
   },
   "outputs": [
    {
     "data": {
      "image/png": "[encoded data removed]",
      "text/plain": [
       "<Figure size 1080x360 with 1 Axes>"
      ]
     },
     "metadata": {
      "needs_background": "light"
     },
     "output_type": "display_data"
    }
   ],
   "source": [
    "# Строим график столбчатой диаграммы\n",
    "new_df.groupby('price')['rating'].mean().sort_values(ascending=False).plot(\n",
    "               kind='bar',\n",
    "               title=f'Распределение среднего рейтинга в зависимости от ценовой категории',\n",
    "               legend=True,\n",
    "               ylabel='Средний рейтинг',\n",
    "               xlabel='Ценовая категория',\n",
    "               rot=0,\n",
    "               figsize=(15, 5),\n",
    "               color='#FFD700'\n",
    ")\n",
    "\n",
    "# Рассчитываем среднее значение для рейтинга\n",
    "mean_rating_share = new_df['rating'].mean()\n",
    "\n",
    "# Наносим на график линию с средним значением рейтинга\n",
    "plt.axhline(mean_rating_share, \n",
    "            color='red', \n",
    "            linestyle='--', \n",
    "            linewidth=2, \n",
    "            label=f'Средний рейтинг {round(mean_rating_share,1)}')\n",
    "\n",
    "plt.grid()\n",
    "plt.legend()\n",
    "\n",
    "# Выводим график\n",
    "plt.show()"
   ]
  },
  {
   "cell_type": "markdown",
   "id": "f8148391",
   "metadata": {},
   "source": [
    "Из визуализации можно сделать вывод, что есть слабая связь в увелечении рейтинга в зависимости от категории цены - чем выше категория цен, тем выше рейтинг заведения. "
   ]
  },
  {
   "cell_type": "markdown",
   "id": "12d71899",
   "metadata": {},
   "source": [
    "Была построена матрица кореляции, и найдены слабые связи рейтинга с административным районом и категорией цен. Для проверки связи была построена столбчатая диаграмма, из которой был сделан вывод, что есть слабая связь с тем, что чем выше категория цен, тем выше рейтинг заведения."
   ]
  },
  {
   "cell_type": "markdown",
   "id": "370de703",
   "metadata": {
    "id": "370de703"
   },
   "source": [
    "---\n",
    "\n",
    "### Задача 7\n",
    "\n",
    "Сгруппируйте данные по названиям заведений и найдите топ-15 популярных сетей в Москве. Для них посчитайте значения среднего рейтинга. Под популярностью понимается количество заведений этой сети в регионе. К какой категории заведений они относятся? Результат сопроводите подходящими визуализациями."
   ]
  },
  {
   "cell_type": "code",
   "execution_count": 39,
   "id": "5d828a9a",
   "metadata": {
    "id": "5d828a9a",
    "scrolled": true
   },
   "outputs": [],
   "source": [
    "# зададим переменную для датасета с сетевыми заведениями\n",
    "top_15 = new_df.loc[new_df['chain'] == 1]"
   ]
  },
  {
   "cell_type": "code",
   "execution_count": 40,
   "id": "6cb53aca",
   "metadata": {},
   "outputs": [],
   "source": [
    "# сгруппируем данные и посчитаем кол-во сетевых ресторанов и их средний рейтин и выведем топ 15\n",
    "top_chain_df = top_15.groupby('name').agg({'id' : 'count', 'rating' : 'mean'}).sort_values(by='id', ascending=True)\n",
    "\n",
    "top_chain_df = top_chain_df.iloc[-15:]\n",
    "\n",
    "# скопируем данные и поменяем настройки, чтобы по порядку шли как в топе\n",
    "top_mean_df = top_15.groupby('name').agg({'id' : 'count', 'rating' : 'mean'}).sort_values(by='id', ascending=False).head(15)"
   ]
  },
  {
   "cell_type": "code",
   "execution_count": 41,
   "id": "160da206",
   "metadata": {},
   "outputs": [
    {
     "data": {
      "image/png": "[encoded data removed]",
      "text/plain": [
       "<Figure size 720x504 with 1 Axes>"
      ]
     },
     "metadata": {
      "needs_background": "light"
     },
     "output_type": "display_data"
    }
   ],
   "source": [
    "# выведем линейчатую диаграмму топ 15 сетевых заведений\n",
    "top_chain_df.plot(\n",
    "            kind='barh',\n",
    "            y='id',\n",
    "            title=f'ТОП 15 популярных заведений',\n",
    "               legend=False,\n",
    "               ylabel='Средний рейтинг',\n",
    "               xlabel='Название заведения',\n",
    "               rot=45,\n",
    "               figsize=(10, 7),\n",
    "               grid=True,\n",
    "               color='#BC8F8F'\n",
    "            \n",
    ")\n",
    "\n",
    "plt.show()"
   ]
  },
  {
   "cell_type": "code",
   "execution_count": 42,
   "id": "4b0a0dee",
   "metadata": {},
   "outputs": [
    {
     "data": {
      "image/png": "[encoded data removed]",
      "text/plain": [
       "<Figure size 1224x360 with 1 Axes>"
      ]
     },
     "metadata": {
      "needs_background": "light"
     },
     "output_type": "display_data"
    }
   ],
   "source": [
    "# построим столбчатую диаграмму по порядку топа средних рейтингов заведений\n",
    "top_mean_df.plot(\n",
    "            kind='bar',\n",
    "            y='rating',\n",
    "            title=f'Средний рейтинг ТОП 15 популярных заведений',\n",
    "               legend=False,\n",
    "               ylabel='Средний рейтинг',\n",
    "               xlabel='Название заведений',\n",
    "               rot=45,\n",
    "               figsize=(17, 5),\n",
    "               grid=True,\n",
    "               color='#BC8F8F'\n",
    "            \n",
    ")\n",
    "\n",
    "# Рассчитываем среднее значение для рейтинга\n",
    "mean_top_rating = top_15['rating'].mean()\n",
    "\n",
    "# Наносим на график линию с средним значением рейтинга\n",
    "plt.axhline(mean_top_rating, \n",
    "            color='red', \n",
    "            linestyle='--', \n",
    "            linewidth=2, \n",
    "            label=f'Средний рейтинг {round(mean_top_rating,2)}')\n",
    "\n",
    "plt.show()"
   ]
  },
  {
   "cell_type": "markdown",
   "id": "667b90f0",
   "metadata": {},
   "source": [
    "Топ-5 по кол-ву заведений являются: Шоколадница, Доминос Пицца, Додо Пиццы, One Price Coffee и Yandex Лавка. \"Шоколадница\" является самым популярным сетевым заведением в Москве с рейтингом 4,17, а на последнем месте в топ-15 \"Му-Му\" с рейтингом 4,22.\n"
   ]
  },
  {
   "cell_type": "markdown",
   "id": "85a90a94",
   "metadata": {
    "id": "85a90a94"
   },
   "source": [
    "---\n",
    "\n",
    "### Задача 8\n",
    "\n",
    "Изучите вариацию среднего чека заведения (столбец `middle_avg_bill`) в зависимости от района Москвы. Проанализируйте цены в Центральном административном округе и других. Как удалённость от центра влияет на цены в заведениях? Результат сопроводите подходящими визуализациями.\n"
   ]
  },
  {
   "cell_type": "markdown",
   "id": "a01b1c66",
   "metadata": {},
   "source": [
    "Сгруппируем данные по административному округу и найдем средний чек для каждого АО."
   ]
  },
  {
   "cell_type": "code",
   "execution_count": 43,
   "id": "5fb4ffc6",
   "metadata": {
    "id": "5fb4ffc6"
   },
   "outputs": [
    {
     "data": {
      "image/png": "[encoded data removed]",
      "text/plain": [
       "<Figure size 1080x504 with 1 Axes>"
      ]
     },
     "metadata": {
      "needs_background": "light"
     },
     "output_type": "display_data"
    }
   ],
   "source": [
    "new_df.groupby('district')['middle_avg_bill'].mean().sort_values(ascending=False).plot(\n",
    "               kind='bar',\n",
    "               title=f'Распределение среднего рейтинга в зависимости от ценовой категории',\n",
    "               legend=True,\n",
    "               ylabel='Средний рейтинг',\n",
    "               xlabel='Ценовая категория',\n",
    "               rot=45,\n",
    "               figsize=(15, 7),\n",
    "               color='#FFD700'\n",
    ")\n",
    "\n",
    "# Рассчитываем среднее значение для рейтинга\n",
    "mean_bill_share = new_df['middle_avg_bill'].mean()\n",
    "\n",
    "# Наносим на график линию с средним значением рейтинга\n",
    "plt.axhline(mean_bill_share, \n",
    "            color='red', \n",
    "            linestyle='--', \n",
    "            linewidth=2, \n",
    "            label=f'Средний чек по всем данным {round(mean_bill_share,1)}')\n",
    "\n",
    "plt.grid()\n",
    "plt.legend()\n",
    "\n",
    "# Выводим график\n",
    "plt.show()"
   ]
  },
  {
   "cell_type": "markdown",
   "id": "1bc8e912",
   "metadata": {},
   "source": [
    "Из визуализации можно сделать вывод, что самый высокий средний чек в Центральном и Западном АО, там значения выше 957 руб. по всем данным. А дальше по удалению от Центрального АО средний чек падает, чем восточнее, тем средний чек ниже."
   ]
  },
  {
   "cell_type": "markdown",
   "id": "f2c54e9a",
   "metadata": {
    "id": "f2c54e9a"
   },
   "source": [
    "---\n",
    "\n",
    "### Промежуточный вывод\n",
    "\n",
    "Обобщите полученные результаты, выделив, по вашему мнению, самые важные."
   ]
  },
  {
   "cell_type": "markdown",
   "id": "07ebc595",
   "metadata": {
    "id": "c8869609"
   },
   "source": [
    "В ходе исследования данных были посмотроены визуализации и построена матрица кореляции рейтинга. Больше всего заведений общественного питания состредоточено в Центральном Административном Районе. Большой популярностью пользуются кафе, кофейни, рестораны и пабы. По всем данным можно сделать вывод, что 60% заведений - не сетевые. Большая часть заведений имеет кол-во посадочных мест в диапазоне 40-150. Для ресторанов, кафе типичным является кол-во посадочным мест примерно 90 -80. Для остальных категорий значения ниже. \n",
    "\n",
    "Так же была построена матрица кореляции для рейтинга и обнаружены слабые связи с ценовой категорией и административным районом. Была проверена связь с ценовой категорией и выяснилось, что рейтинг заведение имеет слабую зависимость к повышению, если средний чек в заведении высокий.\n",
    "\n",
    "А так же был выведен топ-15 сетевых заведений и сделан вывод, что чем восточнее и удаленнее от Центарального административного округа, тем средний чек ниже."
   ]
  },
  {
   "cell_type": "markdown",
   "id": "480f3422",
   "metadata": {
    "id": "480f3422"
   },
   "source": [
    "## 4. Итоговый вывод и рекомендации\n",
    "\n",
    "По результатам проведённого исследовательского анализа данных сформулируйте итоговый вывод и рекомендации для заказчика. Старайтесь акцентировать внимание на ключевых моментах исследования.\n",
    "\n",
    "При составлении вывода придерживайтесь такой структуры:\n",
    "\n",
    "1. Общий обзор проделанной работы.\n",
    "2. Ответы на исследовательские вопросы, или главные выводы.\n",
    "3. Рекомендации на основе анализа данных."
   ]
  },
  {
   "cell_type": "markdown",
   "id": "60627a68",
   "metadata": {},
   "source": [
    "1. В ходе работы были загружены необходимые для работы и визуализации библиоткети,  выгружена основная информация о датасетах `/datasets/rest_info.csv` и `/datasets/rest_price.csv` и подготовлен объедененный датасет. Удалены пропуски в столбце `hours` и удалены дублирующие строки. Так же был оптимизирован столбец `chain` и приведен к типу `int8`. И создана копия основного датасета для дальнейшей работы. \n",
    "- Проведен исследовательский анализ данных: исследованы категории заведений общественного питания, распределение заведений общественного питания по административным районам, изучены данные в столбцах `seats`, `rating`; построена матрица корреляция столбца `rating` с другими столбцами и найдены взаимосвязи, а также проведен анализ со столбцом `price`. Изучены сетевые заведения общественного питания, их рейтинг, выведен топ-15 сетевых заведений по популярности. "
   ]
  },
  {
   "cell_type": "markdown",
   "id": "4a49540a",
   "metadata": {},
   "source": [
    "2. В данных представлены категории заведений кафе, ресторан, кофейня, бар,паб, пиццерия, быстрое питание, столовая и булочная. Кафе, ресторан находятся на 1 и 2 месте с почти равным кол-вом заведений, на 3 месте по количеству заведений - кофейни. Остальные категории не так распространены, особенно это касается столовых и булочных. \n",
    "\n",
    "- Из визуализаций можно сделать вывод, что больше всего заведений находится в Центральной АО, большая часть которых приходится на кафе, рестораны и кофейни. Булочные не так популярны, скорее всего потому-что в этом округе много туристов.\n",
    "\n",
    "- Большая часть не сетевых заведений приходится на бары, пабы, столовые, рестораны, кафе и быстрое питание в этих категориях больше половины заведений не сетевые, в то время как булочные чаще являются сетевыми, кофейни и пицерии примерно в помолам являются и сетевыми и не сетевыми. \n",
    "Не сетевых заведений в Москве больше всего они составляют 60% от общего кол-ва, чаще всего сетевыми являются булочные, кофенйи и пицерии. \n",
    "\n",
    "- Типичные кол-во посадочных мест для ресторанов является около 90, для баров, пабов - 80-85, для кофеейн 80, дальше в среднем в зависимости от категории кол-во посадочных мест падает на 5, для булочных с самым низким кол-вом посадочных мест типичным является значение 50, что является еормальным, т.к. оыбчно это заведения с малой площадью.\n",
    "- Из данных по столбцу `seats` можно сделать вывод, что есть аномально высокие значения, скорее всего это может быть связано с ошибками в данных, т.к. такое кол-во мест не характерно для заведений общественного питания.\n",
    "\n",
    "\n",
    "- Был проведен анализ рейтингов заведений, можно сделать вывод, что категория заведений, не сильно влияет на рейтинг, так как не слишком выходит выше или ниже среднего значения 4,2 для общих данных. В данных по этому столбцу есть минимальные значения 1, но не ниже единицы, что является нормальным для данных по рейтингу.\n",
    "\n",
    "\n",
    "- Топ-5 по кол-ву заведений являются: Шоколадница, Доминос Пицца, Додо Пиццы, One Price Coffee и Yandex Лавка. \"Шоколадница\" является самым популярным сетевым заведением в Москве с рейтингом 4,17, а на последнем месте в топ-15 \"Му-Му\" с рейтингом 4,22.\n",
    "\n",
    "\n",
    "- Из визуализации можно сделать вывод, что самый высокий средний чек в Центральном и Западном АО, там значения выше 957 руб. по всем данным. А дальше по удалению от Центрального АО средний чек падает, чем восточнее, тем средний чек ниже."
   ]
  },
  {
   "cell_type": "markdown",
   "id": "14b3692e",
   "metadata": {},
   "source": [
    "3. Из предоставленных данных, можно сделать вывод, что наиболее бодходящий округ для открытия заведение Центральный или Западный, там больше всего завадений типа ресторан, бар или паб, кафе пользуются популярностью. В целом распределение среднего рейтинга не показало сильной разницы по популярности категорий, но в районах благополучных для открытия на первом месте спросом пользуются ресторны и кафе, бары на 3 месте. Из построеной матрицы также можно сделать вывод, что у рестораны с высоким средним чеком пользуются популярностью и у них хорошие оценки в Яндекс Картах. Если выбирать из сетевых или не сетевых заведений, большим спросом пользуются не сетевые заведения их больше всего, а в топ-15 сетевых входят кафейни, пицерии и быстрое питание. Для ресторани, кафе и баров колчиество посадочных мест типичным являются значение от 80 до 90. "
   ]
  }
 ],
 "metadata": {
  "ExecuteTimeLog": [
   {
    "duration": 1551,
    "start_time": "2025-01-09T10:22:16.621Z"
   },
   {
    "duration": 280,
    "start_time": "2025-01-09T10:22:20.587Z"
   },
   {
    "duration": 17,
    "start_time": "2025-01-09T10:22:35.731Z"
   },
   {
    "duration": 14,
    "start_time": "2025-01-09T10:29:00.580Z"
   },
   {
    "duration": 11,
    "start_time": "2025-01-09T10:36:18.358Z"
   },
   {
    "duration": 12,
    "start_time": "2025-01-09T10:36:30.999Z"
   },
   {
    "duration": 10,
    "start_time": "2025-01-09T10:41:25.799Z"
   },
   {
    "duration": 14,
    "start_time": "2025-01-09T10:41:44.813Z"
   },
   {
    "duration": 10,
    "start_time": "2025-01-09T10:42:30.911Z"
   },
   {
    "duration": 14,
    "start_time": "2025-01-09T10:42:31.534Z"
   },
   {
    "duration": 89,
    "start_time": "2025-01-09T10:42:41.463Z"
   },
   {
    "duration": 15,
    "start_time": "2025-01-09T10:42:41.966Z"
   },
   {
    "duration": 11,
    "start_time": "2025-01-09T10:43:16.678Z"
   },
   {
    "duration": 15,
    "start_time": "2025-01-09T10:43:17.334Z"
   },
   {
    "duration": 15,
    "start_time": "2025-01-09T10:44:35.223Z"
   },
   {
    "duration": 5,
    "start_time": "2025-01-09T10:49:54.007Z"
   },
   {
    "duration": 103,
    "start_time": "2025-01-09T10:54:02.042Z"
   },
   {
    "duration": 3,
    "start_time": "2025-01-09T11:01:15.399Z"
   },
   {
    "duration": 5,
    "start_time": "2025-01-09T11:02:13.278Z"
   },
   {
    "duration": 6,
    "start_time": "2025-01-09T11:02:18.062Z"
   },
   {
    "duration": 4,
    "start_time": "2025-01-09T11:03:15.761Z"
   },
   {
    "duration": 14,
    "start_time": "2025-01-09T11:03:15.766Z"
   },
   {
    "duration": 25,
    "start_time": "2025-01-09T11:03:15.782Z"
   },
   {
    "duration": 1395,
    "start_time": "2025-01-09T11:03:15.809Z"
   },
   {
    "duration": 0,
    "start_time": "2025-01-09T11:03:17.207Z"
   },
   {
    "duration": 0,
    "start_time": "2025-01-09T11:03:17.208Z"
   },
   {
    "duration": 0,
    "start_time": "2025-01-09T11:03:17.209Z"
   },
   {
    "duration": 0,
    "start_time": "2025-01-09T11:03:17.210Z"
   },
   {
    "duration": 0,
    "start_time": "2025-01-09T11:03:17.230Z"
   },
   {
    "duration": 0,
    "start_time": "2025-01-09T11:03:17.231Z"
   },
   {
    "duration": 0,
    "start_time": "2025-01-09T11:03:17.232Z"
   },
   {
    "duration": 0,
    "start_time": "2025-01-09T11:03:17.234Z"
   },
   {
    "duration": 0,
    "start_time": "2025-01-09T11:03:17.234Z"
   },
   {
    "duration": 0,
    "start_time": "2025-01-09T11:03:17.236Z"
   },
   {
    "duration": 2,
    "start_time": "2025-01-09T11:03:28.155Z"
   },
   {
    "duration": 10,
    "start_time": "2025-01-09T11:03:28.162Z"
   },
   {
    "duration": 11,
    "start_time": "2025-01-09T11:03:28.174Z"
   },
   {
    "duration": 12,
    "start_time": "2025-01-09T11:03:28.186Z"
   },
   {
    "duration": 0,
    "start_time": "2025-01-09T11:03:28.200Z"
   },
   {
    "duration": 0,
    "start_time": "2025-01-09T11:03:28.201Z"
   },
   {
    "duration": 0,
    "start_time": "2025-01-09T11:03:28.203Z"
   },
   {
    "duration": 0,
    "start_time": "2025-01-09T11:03:28.204Z"
   },
   {
    "duration": 0,
    "start_time": "2025-01-09T11:03:28.205Z"
   },
   {
    "duration": 0,
    "start_time": "2025-01-09T11:03:28.207Z"
   },
   {
    "duration": 0,
    "start_time": "2025-01-09T11:03:28.208Z"
   },
   {
    "duration": 0,
    "start_time": "2025-01-09T11:03:28.210Z"
   },
   {
    "duration": 0,
    "start_time": "2025-01-09T11:03:28.211Z"
   },
   {
    "duration": 0,
    "start_time": "2025-01-09T11:03:28.213Z"
   },
   {
    "duration": 26,
    "start_time": "2025-01-09T11:03:59.396Z"
   },
   {
    "duration": 171,
    "start_time": "2025-01-09T11:04:00.564Z"
   },
   {
    "duration": 16,
    "start_time": "2025-01-09T11:04:01.452Z"
   },
   {
    "duration": 3,
    "start_time": "2025-01-09T11:04:04.717Z"
   },
   {
    "duration": 22,
    "start_time": "2025-01-09T11:04:04.723Z"
   },
   {
    "duration": 27,
    "start_time": "2025-01-09T11:04:04.747Z"
   },
   {
    "duration": 39,
    "start_time": "2025-01-09T11:04:04.776Z"
   },
   {
    "duration": 0,
    "start_time": "2025-01-09T11:04:04.816Z"
   },
   {
    "duration": 0,
    "start_time": "2025-01-09T11:04:04.818Z"
   },
   {
    "duration": 0,
    "start_time": "2025-01-09T11:04:04.819Z"
   },
   {
    "duration": 0,
    "start_time": "2025-01-09T11:04:04.820Z"
   },
   {
    "duration": 0,
    "start_time": "2025-01-09T11:04:04.821Z"
   },
   {
    "duration": 0,
    "start_time": "2025-01-09T11:04:04.822Z"
   },
   {
    "duration": 0,
    "start_time": "2025-01-09T11:04:04.823Z"
   },
   {
    "duration": 0,
    "start_time": "2025-01-09T11:04:04.824Z"
   },
   {
    "duration": 0,
    "start_time": "2025-01-09T11:04:04.826Z"
   },
   {
    "duration": 1,
    "start_time": "2025-01-09T11:04:04.826Z"
   },
   {
    "duration": 4,
    "start_time": "2025-01-09T11:05:08.920Z"
   },
   {
    "duration": 26,
    "start_time": "2025-01-09T11:05:08.926Z"
   },
   {
    "duration": 13,
    "start_time": "2025-01-09T11:05:08.954Z"
   },
   {
    "duration": 1203,
    "start_time": "2025-01-09T11:05:08.969Z"
   },
   {
    "duration": 225,
    "start_time": "2025-01-09T11:05:10.176Z"
   },
   {
    "duration": 16,
    "start_time": "2025-01-09T11:05:10.403Z"
   },
   {
    "duration": 18,
    "start_time": "2025-01-09T11:05:10.420Z"
   },
   {
    "duration": 10,
    "start_time": "2025-01-09T11:05:10.440Z"
   },
   {
    "duration": 14,
    "start_time": "2025-01-09T11:05:10.451Z"
   },
   {
    "duration": 12,
    "start_time": "2025-01-09T11:05:10.466Z"
   },
   {
    "duration": 15,
    "start_time": "2025-01-09T11:05:10.479Z"
   },
   {
    "duration": 43,
    "start_time": "2025-01-09T11:05:10.496Z"
   },
   {
    "duration": 6,
    "start_time": "2025-01-09T11:05:10.540Z"
   },
   {
    "duration": 19,
    "start_time": "2025-01-09T11:05:10.548Z"
   },
   {
    "duration": 113,
    "start_time": "2025-01-09T11:07:19.210Z"
   },
   {
    "duration": 9,
    "start_time": "2025-01-09T11:07:34.770Z"
   },
   {
    "duration": 8,
    "start_time": "2025-01-09T11:07:41.450Z"
   },
   {
    "duration": 13,
    "start_time": "2025-01-09T11:07:47.451Z"
   },
   {
    "duration": 13,
    "start_time": "2025-01-09T11:07:53.619Z"
   },
   {
    "duration": 9,
    "start_time": "2025-01-09T11:08:24.564Z"
   },
   {
    "duration": 9,
    "start_time": "2025-01-09T11:08:30.138Z"
   },
   {
    "duration": 3,
    "start_time": "2025-01-09T11:10:47.609Z"
   },
   {
    "duration": 47,
    "start_time": "2025-01-09T11:10:47.614Z"
   },
   {
    "duration": 5,
    "start_time": "2025-01-09T11:10:47.663Z"
   },
   {
    "duration": 1201,
    "start_time": "2025-01-09T11:10:47.670Z"
   },
   {
    "duration": 184,
    "start_time": "2025-01-09T11:10:48.872Z"
   },
   {
    "duration": 17,
    "start_time": "2025-01-09T11:10:49.058Z"
   },
   {
    "duration": 15,
    "start_time": "2025-01-09T11:10:49.077Z"
   },
   {
    "duration": 13,
    "start_time": "2025-01-09T11:10:49.093Z"
   },
   {
    "duration": 22,
    "start_time": "2025-01-09T11:10:49.109Z"
   },
   {
    "duration": 11,
    "start_time": "2025-01-09T11:10:49.132Z"
   },
   {
    "duration": 15,
    "start_time": "2025-01-09T11:10:49.145Z"
   },
   {
    "duration": 16,
    "start_time": "2025-01-09T11:10:49.162Z"
   },
   {
    "duration": 16,
    "start_time": "2025-01-09T11:10:49.180Z"
   },
   {
    "duration": 7,
    "start_time": "2025-01-09T11:10:49.198Z"
   },
   {
    "duration": 14,
    "start_time": "2025-01-09T11:10:49.231Z"
   },
   {
    "duration": 17,
    "start_time": "2025-01-09T11:10:59.140Z"
   },
   {
    "duration": 4,
    "start_time": "2025-01-09T11:13:14.885Z"
   },
   {
    "duration": 6,
    "start_time": "2025-01-09T11:13:15.380Z"
   },
   {
    "duration": 15,
    "start_time": "2025-01-09T11:13:16.532Z"
   },
   {
    "duration": 10,
    "start_time": "2025-01-09T11:14:05.398Z"
   },
   {
    "duration": 13,
    "start_time": "2025-01-09T11:14:22.412Z"
   },
   {
    "duration": 10,
    "start_time": "2025-01-09T11:21:54.452Z"
   },
   {
    "duration": 14,
    "start_time": "2025-01-09T11:21:55.174Z"
   },
   {
    "duration": 14,
    "start_time": "2025-01-09T11:22:04.117Z"
   },
   {
    "duration": 4,
    "start_time": "2025-01-09T11:22:10.596Z"
   },
   {
    "duration": 5,
    "start_time": "2025-01-09T11:22:11.725Z"
   },
   {
    "duration": 13,
    "start_time": "2025-01-09T11:22:14.716Z"
   },
   {
    "duration": 11,
    "start_time": "2025-01-09T11:22:21.652Z"
   },
   {
    "duration": 13,
    "start_time": "2025-01-09T11:24:19.620Z"
   },
   {
    "duration": 16,
    "start_time": "2025-01-09T11:24:20.116Z"
   },
   {
    "duration": 17,
    "start_time": "2025-01-09T11:24:22.588Z"
   },
   {
    "duration": 5,
    "start_time": "2025-01-09T11:24:40.652Z"
   },
   {
    "duration": 6,
    "start_time": "2025-01-09T11:24:41.252Z"
   },
   {
    "duration": 10,
    "start_time": "2025-01-09T11:24:45.285Z"
   },
   {
    "duration": 10,
    "start_time": "2025-01-09T11:24:46.119Z"
   },
   {
    "duration": 12,
    "start_time": "2025-01-09T11:27:34.965Z"
   },
   {
    "duration": 17,
    "start_time": "2025-01-09T11:35:43.375Z"
   },
   {
    "duration": 2,
    "start_time": "2025-01-09T11:46:40.572Z"
   },
   {
    "duration": 25,
    "start_time": "2025-01-09T11:46:55.836Z"
   },
   {
    "duration": 7,
    "start_time": "2025-01-09T11:58:02.446Z"
   },
   {
    "duration": 10,
    "start_time": "2025-01-09T11:58:12.454Z"
   },
   {
    "duration": 10,
    "start_time": "2025-01-09T12:24:36.267Z"
   },
   {
    "duration": 4,
    "start_time": "2025-01-09T12:36:35.979Z"
   },
   {
    "duration": 36,
    "start_time": "2025-01-09T12:36:35.985Z"
   },
   {
    "duration": 44,
    "start_time": "2025-01-09T12:36:36.023Z"
   },
   {
    "duration": 1289,
    "start_time": "2025-01-09T12:36:36.069Z"
   },
   {
    "duration": 220,
    "start_time": "2025-01-09T12:36:37.359Z"
   },
   {
    "duration": 16,
    "start_time": "2025-01-09T12:36:37.581Z"
   },
   {
    "duration": 48,
    "start_time": "2025-01-09T12:36:37.599Z"
   },
   {
    "duration": 13,
    "start_time": "2025-01-09T12:36:37.649Z"
   },
   {
    "duration": 43,
    "start_time": "2025-01-09T12:36:37.665Z"
   },
   {
    "duration": 53,
    "start_time": "2025-01-09T12:36:37.710Z"
   },
   {
    "duration": 26,
    "start_time": "2025-01-09T12:36:37.764Z"
   },
   {
    "duration": 28,
    "start_time": "2025-01-09T12:36:37.794Z"
   },
   {
    "duration": 6,
    "start_time": "2025-01-09T12:36:37.824Z"
   },
   {
    "duration": 13,
    "start_time": "2025-01-09T12:36:37.831Z"
   },
   {
    "duration": 17,
    "start_time": "2025-01-09T12:36:37.845Z"
   },
   {
    "duration": 12,
    "start_time": "2025-01-09T12:36:37.864Z"
   },
   {
    "duration": 9,
    "start_time": "2025-01-09T12:36:37.878Z"
   },
   {
    "duration": 549,
    "start_time": "2025-01-09T12:36:37.888Z"
   },
   {
    "duration": 386,
    "start_time": "2025-01-09T12:37:30.441Z"
   },
   {
    "duration": 4,
    "start_time": "2025-01-09T12:37:48.516Z"
   },
   {
    "duration": 13,
    "start_time": "2025-01-09T12:37:48.522Z"
   },
   {
    "duration": 11,
    "start_time": "2025-01-09T12:37:48.536Z"
   },
   {
    "duration": 1232,
    "start_time": "2025-01-09T12:37:48.549Z"
   },
   {
    "duration": 182,
    "start_time": "2025-01-09T12:37:49.783Z"
   },
   {
    "duration": 16,
    "start_time": "2025-01-09T12:37:49.967Z"
   },
   {
    "duration": 28,
    "start_time": "2025-01-09T12:37:49.984Z"
   },
   {
    "duration": 19,
    "start_time": "2025-01-09T12:37:50.013Z"
   },
   {
    "duration": 19,
    "start_time": "2025-01-09T12:37:50.034Z"
   },
   {
    "duration": 41,
    "start_time": "2025-01-09T12:37:50.057Z"
   },
   {
    "duration": 18,
    "start_time": "2025-01-09T12:37:50.100Z"
   },
   {
    "duration": 29,
    "start_time": "2025-01-09T12:37:50.120Z"
   },
   {
    "duration": 14,
    "start_time": "2025-01-09T12:37:50.151Z"
   },
   {
    "duration": 6,
    "start_time": "2025-01-09T12:37:50.166Z"
   },
   {
    "duration": 16,
    "start_time": "2025-01-09T12:37:50.174Z"
   },
   {
    "duration": 18,
    "start_time": "2025-01-09T12:37:50.191Z"
   },
   {
    "duration": 9,
    "start_time": "2025-01-09T12:37:50.211Z"
   },
   {
    "duration": 548,
    "start_time": "2025-01-09T12:37:50.222Z"
   },
   {
    "duration": 11,
    "start_time": "2025-01-09T12:42:31.691Z"
   },
   {
    "duration": 12,
    "start_time": "2025-01-09T12:44:02.908Z"
   },
   {
    "duration": 11,
    "start_time": "2025-01-09T12:45:41.067Z"
   },
   {
    "duration": 7,
    "start_time": "2025-01-09T12:46:18.203Z"
   },
   {
    "duration": 11,
    "start_time": "2025-01-09T12:46:30.970Z"
   },
   {
    "duration": 12,
    "start_time": "2025-01-09T12:51:22.188Z"
   },
   {
    "duration": 12,
    "start_time": "2025-01-09T12:53:34.947Z"
   },
   {
    "duration": 9,
    "start_time": "2025-01-09T12:53:43.714Z"
   },
   {
    "duration": 6,
    "start_time": "2025-01-09T13:05:56.242Z"
   },
   {
    "duration": 11,
    "start_time": "2025-01-09T13:06:05.130Z"
   },
   {
    "duration": 16,
    "start_time": "2025-01-09T13:06:15.706Z"
   },
   {
    "duration": 5,
    "start_time": "2025-01-09T13:06:51.131Z"
   },
   {
    "duration": 16,
    "start_time": "2025-01-09T13:06:51.707Z"
   },
   {
    "duration": 23,
    "start_time": "2025-01-09T13:17:54.412Z"
   },
   {
    "duration": 14,
    "start_time": "2025-01-09T13:18:09.666Z"
   },
   {
    "duration": 7,
    "start_time": "2025-01-09T13:18:23.291Z"
   },
   {
    "duration": 16,
    "start_time": "2025-01-09T13:18:40.891Z"
   },
   {
    "duration": 21,
    "start_time": "2025-01-09T13:19:43.387Z"
   },
   {
    "duration": 10,
    "start_time": "2025-01-09T13:21:02.659Z"
   },
   {
    "duration": 14,
    "start_time": "2025-01-09T13:21:29.434Z"
   },
   {
    "duration": 24,
    "start_time": "2025-01-09T13:21:30.008Z"
   },
   {
    "duration": 21,
    "start_time": "2025-01-09T13:21:42.358Z"
   },
   {
    "duration": 16,
    "start_time": "2025-01-09T14:30:00.066Z"
   },
   {
    "duration": 204,
    "start_time": "2025-01-09T14:32:04.098Z"
   },
   {
    "duration": 192,
    "start_time": "2025-01-09T14:33:32.556Z"
   },
   {
    "duration": 209,
    "start_time": "2025-01-09T14:33:44.169Z"
   },
   {
    "duration": 124,
    "start_time": "2025-01-09T14:38:23.962Z"
   },
   {
    "duration": 195,
    "start_time": "2025-01-09T14:41:17.651Z"
   },
   {
    "duration": 233,
    "start_time": "2025-01-09T14:42:07.281Z"
   },
   {
    "duration": 252,
    "start_time": "2025-01-09T14:42:26.513Z"
   },
   {
    "duration": 260,
    "start_time": "2025-01-09T14:42:40.105Z"
   },
   {
    "duration": 341,
    "start_time": "2025-01-09T14:42:50.346Z"
   },
   {
    "duration": 274,
    "start_time": "2025-01-09T14:43:08.257Z"
   },
   {
    "duration": 125,
    "start_time": "2025-01-09T14:52:40.762Z"
   },
   {
    "duration": 120,
    "start_time": "2025-01-09T14:53:44.968Z"
   },
   {
    "duration": 133,
    "start_time": "2025-01-09T14:55:45.306Z"
   },
   {
    "duration": 132,
    "start_time": "2025-01-09T14:55:58.777Z"
   },
   {
    "duration": 236,
    "start_time": "2025-01-09T14:56:15.297Z"
   },
   {
    "duration": 167,
    "start_time": "2025-01-09T14:57:28.561Z"
   },
   {
    "duration": 170,
    "start_time": "2025-01-09T15:00:12.664Z"
   },
   {
    "duration": 163,
    "start_time": "2025-01-09T15:00:19.058Z"
   },
   {
    "duration": 199,
    "start_time": "2025-01-09T15:00:26.496Z"
   },
   {
    "duration": 209,
    "start_time": "2025-01-09T15:06:20.593Z"
   },
   {
    "duration": 201,
    "start_time": "2025-01-09T15:11:31.705Z"
   },
   {
    "duration": 219,
    "start_time": "2025-01-09T15:11:52.849Z"
   },
   {
    "duration": 226,
    "start_time": "2025-01-09T15:12:31.170Z"
   },
   {
    "duration": 243,
    "start_time": "2025-01-09T15:15:11.081Z"
   },
   {
    "duration": 234,
    "start_time": "2025-01-09T15:15:29.449Z"
   },
   {
    "duration": 4,
    "start_time": "2025-01-09T15:30:13.001Z"
   },
   {
    "duration": 12,
    "start_time": "2025-01-09T15:30:13.006Z"
   },
   {
    "duration": 3,
    "start_time": "2025-01-09T15:30:13.020Z"
   },
   {
    "duration": 1272,
    "start_time": "2025-01-09T15:30:13.026Z"
   },
   {
    "duration": 206,
    "start_time": "2025-01-09T15:30:14.300Z"
   },
   {
    "duration": 16,
    "start_time": "2025-01-09T15:30:14.507Z"
   },
   {
    "duration": 19,
    "start_time": "2025-01-09T15:30:14.525Z"
   },
   {
    "duration": 11,
    "start_time": "2025-01-09T15:30:14.545Z"
   },
   {
    "duration": 11,
    "start_time": "2025-01-09T15:30:14.557Z"
   },
   {
    "duration": 15,
    "start_time": "2025-01-09T15:30:14.571Z"
   },
   {
    "duration": 17,
    "start_time": "2025-01-09T15:30:14.588Z"
   },
   {
    "duration": 37,
    "start_time": "2025-01-09T15:30:14.607Z"
   },
   {
    "duration": 4,
    "start_time": "2025-01-09T15:30:14.646Z"
   },
   {
    "duration": 5,
    "start_time": "2025-01-09T15:30:14.653Z"
   },
   {
    "duration": 16,
    "start_time": "2025-01-09T15:30:14.659Z"
   },
   {
    "duration": 18,
    "start_time": "2025-01-09T15:30:14.677Z"
   },
   {
    "duration": 36,
    "start_time": "2025-01-09T15:30:14.698Z"
   },
   {
    "duration": 15,
    "start_time": "2025-01-09T15:30:14.736Z"
   },
   {
    "duration": 25,
    "start_time": "2025-01-09T15:30:14.753Z"
   },
   {
    "duration": 233,
    "start_time": "2025-01-09T15:30:14.779Z"
   },
   {
    "duration": 252,
    "start_time": "2025-01-09T15:30:15.013Z"
   },
   {
    "duration": 143,
    "start_time": "2025-01-09T15:30:15.267Z"
   },
   {
    "duration": 251,
    "start_time": "2025-01-09T15:30:15.412Z"
   },
   {
    "duration": 1757,
    "start_time": "2025-01-09T15:30:15.665Z"
   },
   {
    "duration": 9,
    "start_time": "2025-01-09T15:30:37.194Z"
   },
   {
    "duration": 183,
    "start_time": "2025-01-09T15:31:43.841Z"
   },
   {
    "duration": 115,
    "start_time": "2025-01-09T15:34:36.417Z"
   },
   {
    "duration": 185,
    "start_time": "2025-01-09T15:43:32.953Z"
   },
   {
    "duration": 9,
    "start_time": "2025-01-09T17:30:10.095Z"
   },
   {
    "duration": 195,
    "start_time": "2025-01-09T17:30:51.092Z"
   },
   {
    "duration": 273,
    "start_time": "2025-01-09T17:31:44.287Z"
   },
   {
    "duration": 1417,
    "start_time": "2025-01-09T17:35:54.072Z"
   },
   {
    "duration": 107,
    "start_time": "2025-01-09T17:37:12.611Z"
   },
   {
    "duration": 9,
    "start_time": "2025-01-09T17:37:22.203Z"
   },
   {
    "duration": 77,
    "start_time": "2025-01-09T17:38:19.627Z"
   },
   {
    "duration": 9,
    "start_time": "2025-01-09T17:39:33.980Z"
   },
   {
    "duration": 4181,
    "start_time": "2025-01-09T17:40:07.132Z"
   },
   {
    "duration": 4,
    "start_time": "2025-01-09T17:40:20.112Z"
   },
   {
    "duration": 2,
    "start_time": "2025-01-09T17:40:20.126Z"
   },
   {
    "duration": 4,
    "start_time": "2025-01-09T17:40:20.130Z"
   },
   {
    "duration": 3889,
    "start_time": "2025-01-09T17:40:20.138Z"
   },
   {
    "duration": 248,
    "start_time": "2025-01-09T17:40:24.030Z"
   },
   {
    "duration": 17,
    "start_time": "2025-01-09T17:40:24.280Z"
   },
   {
    "duration": 15,
    "start_time": "2025-01-09T17:40:24.299Z"
   },
   {
    "duration": 12,
    "start_time": "2025-01-09T17:40:24.315Z"
   },
   {
    "duration": 21,
    "start_time": "2025-01-09T17:40:24.333Z"
   },
   {
    "duration": 12,
    "start_time": "2025-01-09T17:40:24.356Z"
   },
   {
    "duration": 18,
    "start_time": "2025-01-09T17:40:24.369Z"
   },
   {
    "duration": 22,
    "start_time": "2025-01-09T17:40:24.388Z"
   },
   {
    "duration": 18,
    "start_time": "2025-01-09T17:40:24.412Z"
   },
   {
    "duration": 12,
    "start_time": "2025-01-09T17:40:24.432Z"
   },
   {
    "duration": 11,
    "start_time": "2025-01-09T17:40:24.446Z"
   },
   {
    "duration": 32,
    "start_time": "2025-01-09T17:40:24.459Z"
   },
   {
    "duration": 9,
    "start_time": "2025-01-09T17:40:24.493Z"
   },
   {
    "duration": 12,
    "start_time": "2025-01-09T17:40:24.503Z"
   },
   {
    "duration": 34,
    "start_time": "2025-01-09T17:40:24.516Z"
   },
   {
    "duration": 255,
    "start_time": "2025-01-09T17:40:24.552Z"
   },
   {
    "duration": 249,
    "start_time": "2025-01-09T17:40:24.809Z"
   },
   {
    "duration": 151,
    "start_time": "2025-01-09T17:40:25.060Z"
   },
   {
    "duration": 264,
    "start_time": "2025-01-09T17:40:25.212Z"
   },
   {
    "duration": 9,
    "start_time": "2025-01-09T17:40:25.478Z"
   },
   {
    "duration": 204,
    "start_time": "2025-01-09T17:40:25.489Z"
   },
   {
    "duration": 124,
    "start_time": "2025-01-09T17:40:25.695Z"
   },
   {
    "duration": 195,
    "start_time": "2025-01-09T17:40:25.821Z"
   },
   {
    "duration": 27,
    "start_time": "2025-01-09T17:40:26.017Z"
   },
   {
    "duration": 290,
    "start_time": "2025-01-09T17:40:26.046Z"
   },
   {
    "duration": 184,
    "start_time": "2025-01-09T17:40:26.338Z"
   },
   {
    "duration": 112,
    "start_time": "2025-01-09T17:51:50.779Z"
   },
   {
    "duration": 154,
    "start_time": "2025-01-09T17:53:26.585Z"
   },
   {
    "duration": 151,
    "start_time": "2025-01-09T17:53:49.639Z"
   },
   {
    "duration": 185,
    "start_time": "2025-01-09T17:54:45.717Z"
   },
   {
    "duration": 280,
    "start_time": "2025-01-09T17:57:24.028Z"
   },
   {
    "duration": 10,
    "start_time": "2025-01-09T18:01:41.626Z"
   },
   {
    "duration": 1500,
    "start_time": "2025-01-09T18:04:03.277Z"
   },
   {
    "duration": 154,
    "start_time": "2025-01-09T18:04:49.911Z"
   },
   {
    "duration": 290,
    "start_time": "2025-01-09T18:05:04.303Z"
   },
   {
    "duration": 48,
    "start_time": "2025-01-10T11:35:08.894Z"
   },
   {
    "duration": 5,
    "start_time": "2025-01-10T11:35:11.757Z"
   },
   {
    "duration": 5,
    "start_time": "2025-01-10T11:35:14.870Z"
   },
   {
    "duration": 5291,
    "start_time": "2025-01-10T11:35:31.518Z"
   },
   {
    "duration": 271,
    "start_time": "2025-01-10T11:35:36.811Z"
   },
   {
    "duration": 15,
    "start_time": "2025-01-10T11:35:37.084Z"
   },
   {
    "duration": 15,
    "start_time": "2025-01-10T11:35:37.101Z"
   },
   {
    "duration": 10,
    "start_time": "2025-01-10T11:35:37.118Z"
   },
   {
    "duration": 12,
    "start_time": "2025-01-10T11:35:37.129Z"
   },
   {
    "duration": 12,
    "start_time": "2025-01-10T11:35:37.143Z"
   },
   {
    "duration": 15,
    "start_time": "2025-01-10T11:35:37.157Z"
   },
   {
    "duration": 13,
    "start_time": "2025-01-10T11:35:37.173Z"
   },
   {
    "duration": 11,
    "start_time": "2025-01-10T11:35:37.188Z"
   },
   {
    "duration": 10,
    "start_time": "2025-01-10T11:35:37.200Z"
   },
   {
    "duration": 19,
    "start_time": "2025-01-10T11:35:37.211Z"
   },
   {
    "duration": 10,
    "start_time": "2025-01-10T11:35:37.231Z"
   },
   {
    "duration": 11,
    "start_time": "2025-01-10T11:35:37.243Z"
   },
   {
    "duration": 9,
    "start_time": "2025-01-10T11:35:37.256Z"
   },
   {
    "duration": 19,
    "start_time": "2025-01-10T11:35:37.266Z"
   },
   {
    "duration": 206,
    "start_time": "2025-01-10T11:35:37.286Z"
   },
   {
    "duration": 218,
    "start_time": "2025-01-10T11:35:37.493Z"
   },
   {
    "duration": 119,
    "start_time": "2025-01-10T11:35:37.712Z"
   },
   {
    "duration": 199,
    "start_time": "2025-01-10T11:35:37.832Z"
   },
   {
    "duration": 8,
    "start_time": "2025-01-10T11:35:38.033Z"
   },
   {
    "duration": 156,
    "start_time": "2025-01-10T11:35:38.042Z"
   },
   {
    "duration": 102,
    "start_time": "2025-01-10T11:35:38.200Z"
   },
   {
    "duration": 155,
    "start_time": "2025-01-10T11:35:38.304Z"
   },
   {
    "duration": 8,
    "start_time": "2025-01-10T11:35:38.461Z"
   },
   {
    "duration": 230,
    "start_time": "2025-01-10T11:35:38.470Z"
   },
   {
    "duration": 149,
    "start_time": "2025-01-10T11:35:38.702Z"
   },
   {
    "duration": 162,
    "start_time": "2025-01-10T11:35:38.854Z"
   },
   {
    "duration": 289,
    "start_time": "2025-01-10T11:35:39.018Z"
   },
   {
    "duration": 283,
    "start_time": "2025-01-10T11:35:39.309Z"
   },
   {
    "duration": 17,
    "start_time": "2025-01-10T13:53:04.220Z"
   },
   {
    "duration": 4130,
    "start_time": "2025-01-10T13:53:12.353Z"
   },
   {
    "duration": 300,
    "start_time": "2025-01-10T13:53:16.485Z"
   },
   {
    "duration": 15,
    "start_time": "2025-01-10T13:53:16.786Z"
   },
   {
    "duration": 12,
    "start_time": "2025-01-10T13:53:16.803Z"
   },
   {
    "duration": 23,
    "start_time": "2025-01-10T13:53:16.817Z"
   },
   {
    "duration": 15,
    "start_time": "2025-01-10T13:53:16.841Z"
   },
   {
    "duration": 18,
    "start_time": "2025-01-10T13:53:16.857Z"
   },
   {
    "duration": 5,
    "start_time": "2025-01-10T13:53:16.877Z"
   },
   {
    "duration": 8,
    "start_time": "2025-01-10T13:53:16.883Z"
   },
   {
    "duration": 11,
    "start_time": "2025-01-10T13:53:16.894Z"
   },
   {
    "duration": 16,
    "start_time": "2025-01-10T13:53:16.906Z"
   },
   {
    "duration": 14,
    "start_time": "2025-01-10T13:53:16.924Z"
   },
   {
    "duration": 25,
    "start_time": "2025-01-10T13:53:16.939Z"
   },
   {
    "duration": 10,
    "start_time": "2025-01-10T13:53:16.966Z"
   },
   {
    "duration": 38,
    "start_time": "2025-01-10T13:53:16.977Z"
   },
   {
    "duration": 196,
    "start_time": "2025-01-10T13:53:17.016Z"
   },
   {
    "duration": 218,
    "start_time": "2025-01-10T13:53:17.213Z"
   },
   {
    "duration": 124,
    "start_time": "2025-01-10T13:53:17.432Z"
   },
   {
    "duration": 197,
    "start_time": "2025-01-10T13:53:17.557Z"
   },
   {
    "duration": 9,
    "start_time": "2025-01-10T13:53:17.756Z"
   },
   {
    "duration": 159,
    "start_time": "2025-01-10T13:53:17.766Z"
   },
   {
    "duration": 105,
    "start_time": "2025-01-10T13:53:17.926Z"
   },
   {
    "duration": 160,
    "start_time": "2025-01-10T13:53:18.032Z"
   },
   {
    "duration": 7,
    "start_time": "2025-01-10T13:53:18.194Z"
   },
   {
    "duration": 234,
    "start_time": "2025-01-10T13:53:18.202Z"
   },
   {
    "duration": 157,
    "start_time": "2025-01-10T13:53:18.437Z"
   },
   {
    "duration": 171,
    "start_time": "2025-01-10T13:53:18.595Z"
   },
   {
    "duration": 245,
    "start_time": "2025-01-10T13:53:18.769Z"
   },
   {
    "duration": 277,
    "start_time": "2025-01-10T13:53:19.016Z"
   },
   {
    "duration": 110,
    "start_time": "2025-01-10T13:54:06.473Z"
   },
   {
    "duration": 6,
    "start_time": "2025-01-10T13:54:13.265Z"
   },
   {
    "duration": 6,
    "start_time": "2025-01-10T13:54:57.984Z"
   },
   {
    "duration": 9,
    "start_time": "2025-01-10T13:55:57.897Z"
   },
   {
    "duration": 7,
    "start_time": "2025-01-10T13:56:21.408Z"
   },
   {
    "duration": 8,
    "start_time": "2025-01-10T13:56:51.460Z"
   },
   {
    "duration": 7,
    "start_time": "2025-01-10T13:57:11.224Z"
   },
   {
    "duration": 9,
    "start_time": "2025-01-10T13:58:30.033Z"
   },
   {
    "duration": 3826,
    "start_time": "2025-01-10T14:44:15.142Z"
   },
   {
    "duration": 293,
    "start_time": "2025-01-10T14:44:18.970Z"
   },
   {
    "duration": 15,
    "start_time": "2025-01-10T14:44:19.264Z"
   },
   {
    "duration": 17,
    "start_time": "2025-01-10T14:44:19.281Z"
   },
   {
    "duration": 9,
    "start_time": "2025-01-10T14:44:19.300Z"
   },
   {
    "duration": 15,
    "start_time": "2025-01-10T14:44:19.310Z"
   },
   {
    "duration": 9,
    "start_time": "2025-01-10T14:44:19.326Z"
   },
   {
    "duration": 26,
    "start_time": "2025-01-10T14:44:19.337Z"
   },
   {
    "duration": 18,
    "start_time": "2025-01-10T14:44:19.364Z"
   },
   {
    "duration": 17,
    "start_time": "2025-01-10T14:44:19.384Z"
   },
   {
    "duration": 15,
    "start_time": "2025-01-10T14:44:19.402Z"
   },
   {
    "duration": 15,
    "start_time": "2025-01-10T14:44:19.418Z"
   },
   {
    "duration": 19,
    "start_time": "2025-01-10T14:44:19.434Z"
   },
   {
    "duration": 19,
    "start_time": "2025-01-10T14:44:19.454Z"
   },
   {
    "duration": 50,
    "start_time": "2025-01-10T14:44:19.474Z"
   },
   {
    "duration": 11,
    "start_time": "2025-01-10T14:44:19.526Z"
   },
   {
    "duration": 21,
    "start_time": "2025-01-10T14:44:19.538Z"
   },
   {
    "duration": 201,
    "start_time": "2025-01-10T14:44:19.560Z"
   },
   {
    "duration": 229,
    "start_time": "2025-01-10T14:44:19.763Z"
   },
   {
    "duration": 132,
    "start_time": "2025-01-10T14:44:19.993Z"
   },
   {
    "duration": 211,
    "start_time": "2025-01-10T14:44:20.127Z"
   },
   {
    "duration": 16,
    "start_time": "2025-01-10T14:44:20.340Z"
   },
   {
    "duration": 186,
    "start_time": "2025-01-10T14:44:20.357Z"
   },
   {
    "duration": 104,
    "start_time": "2025-01-10T14:44:20.552Z"
   },
   {
    "duration": 165,
    "start_time": "2025-01-10T14:44:20.658Z"
   },
   {
    "duration": 8,
    "start_time": "2025-01-10T14:44:20.825Z"
   },
   {
    "duration": 238,
    "start_time": "2025-01-10T14:44:20.834Z"
   },
   {
    "duration": 152,
    "start_time": "2025-01-10T14:44:21.075Z"
   },
   {
    "duration": 171,
    "start_time": "2025-01-10T14:44:21.228Z"
   },
   {
    "duration": 255,
    "start_time": "2025-01-10T14:44:21.400Z"
   },
   {
    "duration": 251,
    "start_time": "2025-01-10T14:44:21.657Z"
   },
   {
    "duration": 7,
    "start_time": "2025-01-10T14:47:20.206Z"
   },
   {
    "duration": 8,
    "start_time": "2025-01-10T14:48:17.845Z"
   },
   {
    "duration": 8,
    "start_time": "2025-01-10T14:48:48.128Z"
   },
   {
    "duration": 18,
    "start_time": "2025-01-10T14:48:49.587Z"
   },
   {
    "duration": 6,
    "start_time": "2025-01-10T14:48:51.103Z"
   },
   {
    "duration": 9,
    "start_time": "2025-01-10T14:48:51.725Z"
   },
   {
    "duration": 10,
    "start_time": "2025-01-10T14:51:04.350Z"
   },
   {
    "duration": 3784,
    "start_time": "2025-01-10T14:51:11.391Z"
   },
   {
    "duration": 210,
    "start_time": "2025-01-10T14:51:15.177Z"
   },
   {
    "duration": 16,
    "start_time": "2025-01-10T14:51:15.389Z"
   },
   {
    "duration": 24,
    "start_time": "2025-01-10T14:51:15.407Z"
   },
   {
    "duration": 23,
    "start_time": "2025-01-10T14:51:15.432Z"
   },
   {
    "duration": 36,
    "start_time": "2025-01-10T14:51:15.456Z"
   },
   {
    "duration": 16,
    "start_time": "2025-01-10T14:51:15.494Z"
   },
   {
    "duration": 14,
    "start_time": "2025-01-10T14:51:15.512Z"
   },
   {
    "duration": 28,
    "start_time": "2025-01-10T14:51:15.528Z"
   },
   {
    "duration": 43,
    "start_time": "2025-01-10T14:51:15.559Z"
   },
   {
    "duration": 35,
    "start_time": "2025-01-10T14:51:15.603Z"
   },
   {
    "duration": 13,
    "start_time": "2025-01-10T14:51:15.639Z"
   },
   {
    "duration": 34,
    "start_time": "2025-01-10T14:51:15.653Z"
   },
   {
    "duration": 25,
    "start_time": "2025-01-10T14:51:15.689Z"
   },
   {
    "duration": 12,
    "start_time": "2025-01-10T14:51:15.715Z"
   },
   {
    "duration": 19,
    "start_time": "2025-01-10T14:51:15.729Z"
   },
   {
    "duration": 6,
    "start_time": "2025-01-10T14:51:15.749Z"
   },
   {
    "duration": 14,
    "start_time": "2025-01-10T14:51:15.757Z"
   },
   {
    "duration": 19,
    "start_time": "2025-01-10T14:51:15.772Z"
   },
   {
    "duration": 10,
    "start_time": "2025-01-10T14:51:15.793Z"
   },
   {
    "duration": 24,
    "start_time": "2025-01-10T14:51:15.805Z"
   },
   {
    "duration": 204,
    "start_time": "2025-01-10T14:51:15.831Z"
   },
   {
    "duration": 219,
    "start_time": "2025-01-10T14:51:16.036Z"
   },
   {
    "duration": 129,
    "start_time": "2025-01-10T14:51:16.256Z"
   },
   {
    "duration": 213,
    "start_time": "2025-01-10T14:51:16.386Z"
   },
   {
    "duration": 8,
    "start_time": "2025-01-10T14:51:16.601Z"
   },
   {
    "duration": 177,
    "start_time": "2025-01-10T14:51:16.610Z"
   },
   {
    "duration": 114,
    "start_time": "2025-01-10T14:51:16.790Z"
   },
   {
    "duration": 161,
    "start_time": "2025-01-10T14:51:16.905Z"
   },
   {
    "duration": 7,
    "start_time": "2025-01-10T14:51:17.067Z"
   },
   {
    "duration": 229,
    "start_time": "2025-01-10T14:51:17.075Z"
   },
   {
    "duration": 156,
    "start_time": "2025-01-10T14:51:17.305Z"
   },
   {
    "duration": 180,
    "start_time": "2025-01-10T14:51:17.462Z"
   },
   {
    "duration": 274,
    "start_time": "2025-01-10T14:51:17.644Z"
   },
   {
    "duration": 276,
    "start_time": "2025-01-10T14:51:17.919Z"
   },
   {
    "duration": 110,
    "start_time": "2025-01-10T14:52:06.600Z"
   },
   {
    "duration": 26,
    "start_time": "2025-01-10T14:52:24.287Z"
   },
   {
    "duration": 3936,
    "start_time": "2025-01-10T14:52:34.159Z"
   },
   {
    "duration": 203,
    "start_time": "2025-01-10T14:52:38.098Z"
   },
   {
    "duration": 15,
    "start_time": "2025-01-10T14:52:38.303Z"
   },
   {
    "duration": 12,
    "start_time": "2025-01-10T14:52:38.319Z"
   },
   {
    "duration": 13,
    "start_time": "2025-01-10T14:52:38.333Z"
   },
   {
    "duration": 17,
    "start_time": "2025-01-10T14:52:38.348Z"
   },
   {
    "duration": 13,
    "start_time": "2025-01-10T14:52:38.366Z"
   },
   {
    "duration": 36,
    "start_time": "2025-01-10T14:52:38.381Z"
   },
   {
    "duration": 13,
    "start_time": "2025-01-10T14:52:38.419Z"
   },
   {
    "duration": 21,
    "start_time": "2025-01-10T14:52:38.434Z"
   },
   {
    "duration": 10,
    "start_time": "2025-01-10T14:52:38.456Z"
   },
   {
    "duration": 9,
    "start_time": "2025-01-10T14:52:38.467Z"
   },
   {
    "duration": 7,
    "start_time": "2025-01-10T14:52:38.477Z"
   },
   {
    "duration": 30,
    "start_time": "2025-01-10T14:52:38.486Z"
   },
   {
    "duration": 9,
    "start_time": "2025-01-10T14:52:38.518Z"
   },
   {
    "duration": 20,
    "start_time": "2025-01-10T14:52:38.528Z"
   },
   {
    "duration": 6,
    "start_time": "2025-01-10T14:52:38.550Z"
   },
   {
    "duration": 43,
    "start_time": "2025-01-10T14:52:38.557Z"
   },
   {
    "duration": 41,
    "start_time": "2025-01-10T14:52:38.602Z"
   },
   {
    "duration": 10,
    "start_time": "2025-01-10T14:52:38.644Z"
   },
   {
    "duration": 14,
    "start_time": "2025-01-10T14:52:38.655Z"
   },
   {
    "duration": 191,
    "start_time": "2025-01-10T14:52:38.670Z"
   },
   {
    "duration": 220,
    "start_time": "2025-01-10T14:52:38.863Z"
   },
   {
    "duration": 121,
    "start_time": "2025-01-10T14:52:39.084Z"
   },
   {
    "duration": 209,
    "start_time": "2025-01-10T14:52:39.207Z"
   },
   {
    "duration": 8,
    "start_time": "2025-01-10T14:52:39.417Z"
   },
   {
    "duration": 169,
    "start_time": "2025-01-10T14:52:39.426Z"
   },
   {
    "duration": 114,
    "start_time": "2025-01-10T14:52:39.597Z"
   },
   {
    "duration": 166,
    "start_time": "2025-01-10T14:52:39.713Z"
   },
   {
    "duration": 7,
    "start_time": "2025-01-10T14:52:39.881Z"
   },
   {
    "duration": 257,
    "start_time": "2025-01-10T14:52:39.890Z"
   },
   {
    "duration": 163,
    "start_time": "2025-01-10T14:52:40.152Z"
   },
   {
    "duration": 186,
    "start_time": "2025-01-10T14:52:40.317Z"
   },
   {
    "duration": 289,
    "start_time": "2025-01-10T14:52:40.505Z"
   },
   {
    "duration": 257,
    "start_time": "2025-01-10T14:52:40.796Z"
   },
   {
    "duration": 25,
    "start_time": "2025-01-10T14:53:39.440Z"
   },
   {
    "duration": 53,
    "start_time": "2025-01-10T14:56:02.761Z"
   },
   {
    "duration": 27,
    "start_time": "2025-01-10T14:59:27.840Z"
   },
   {
    "duration": 3,
    "start_time": "2025-01-10T14:59:47.991Z"
   },
   {
    "duration": 4665,
    "start_time": "2025-01-10T15:00:13.325Z"
   },
   {
    "duration": 155,
    "start_time": "2025-01-10T15:00:17.992Z"
   },
   {
    "duration": 15,
    "start_time": "2025-01-10T15:00:18.149Z"
   },
   {
    "duration": 59,
    "start_time": "2025-01-10T15:00:18.166Z"
   },
   {
    "duration": 19,
    "start_time": "2025-01-10T15:00:18.227Z"
   },
   {
    "duration": 17,
    "start_time": "2025-01-10T15:00:18.248Z"
   },
   {
    "duration": 12,
    "start_time": "2025-01-10T15:00:18.266Z"
   },
   {
    "duration": 10,
    "start_time": "2025-01-10T15:00:18.280Z"
   },
   {
    "duration": 23,
    "start_time": "2025-01-10T15:00:18.291Z"
   },
   {
    "duration": 27,
    "start_time": "2025-01-10T15:00:18.316Z"
   },
   {
    "duration": 13,
    "start_time": "2025-01-10T15:00:18.344Z"
   },
   {
    "duration": 17,
    "start_time": "2025-01-10T15:00:18.358Z"
   },
   {
    "duration": 20,
    "start_time": "2025-01-10T15:00:18.377Z"
   },
   {
    "duration": 26,
    "start_time": "2025-01-10T15:00:18.399Z"
   },
   {
    "duration": 41,
    "start_time": "2025-01-10T15:00:18.426Z"
   },
   {
    "duration": 38,
    "start_time": "2025-01-10T15:00:18.468Z"
   },
   {
    "duration": 11,
    "start_time": "2025-01-10T15:00:18.508Z"
   },
   {
    "duration": 33,
    "start_time": "2025-01-10T15:00:18.520Z"
   },
   {
    "duration": 46,
    "start_time": "2025-01-10T15:00:18.555Z"
   },
   {
    "duration": 21,
    "start_time": "2025-01-10T15:00:18.602Z"
   },
   {
    "duration": 33,
    "start_time": "2025-01-10T15:00:18.625Z"
   },
   {
    "duration": 32,
    "start_time": "2025-01-10T15:00:18.660Z"
   },
   {
    "duration": 217,
    "start_time": "2025-01-10T15:00:18.694Z"
   },
   {
    "duration": 220,
    "start_time": "2025-01-10T15:00:18.913Z"
   },
   {
    "duration": 125,
    "start_time": "2025-01-10T15:00:19.135Z"
   },
   {
    "duration": 209,
    "start_time": "2025-01-10T15:00:19.262Z"
   },
   {
    "duration": 8,
    "start_time": "2025-01-10T15:00:19.473Z"
   },
   {
    "duration": 208,
    "start_time": "2025-01-10T15:00:19.483Z"
   },
   {
    "duration": 105,
    "start_time": "2025-01-10T15:00:19.693Z"
   },
   {
    "duration": 164,
    "start_time": "2025-01-10T15:00:19.800Z"
   },
   {
    "duration": 7,
    "start_time": "2025-01-10T15:00:19.966Z"
   },
   {
    "duration": 249,
    "start_time": "2025-01-10T15:00:19.975Z"
   },
   {
    "duration": 161,
    "start_time": "2025-01-10T15:00:20.226Z"
   },
   {
    "duration": 180,
    "start_time": "2025-01-10T15:00:20.390Z"
   },
   {
    "duration": 246,
    "start_time": "2025-01-10T15:00:20.571Z"
   },
   {
    "duration": 280,
    "start_time": "2025-01-10T15:00:20.818Z"
   },
   {
    "duration": 3828,
    "start_time": "2025-01-10T15:01:15.429Z"
   },
   {
    "duration": 264,
    "start_time": "2025-01-10T15:01:20.071Z"
   },
   {
    "duration": 16,
    "start_time": "2025-01-10T15:01:20.733Z"
   },
   {
    "duration": 13,
    "start_time": "2025-01-10T15:01:23.845Z"
   },
   {
    "duration": 3853,
    "start_time": "2025-01-10T15:01:34.201Z"
   },
   {
    "duration": 174,
    "start_time": "2025-01-10T15:01:38.056Z"
   },
   {
    "duration": 15,
    "start_time": "2025-01-10T15:01:38.231Z"
   },
   {
    "duration": 12,
    "start_time": "2025-01-10T15:01:38.248Z"
   },
   {
    "duration": 11,
    "start_time": "2025-01-10T15:01:38.262Z"
   },
   {
    "duration": 9,
    "start_time": "2025-01-10T15:01:38.275Z"
   },
   {
    "duration": 23,
    "start_time": "2025-01-10T15:01:38.285Z"
   },
   {
    "duration": 14,
    "start_time": "2025-01-10T15:01:38.309Z"
   },
   {
    "duration": 4,
    "start_time": "2025-01-10T15:01:38.324Z"
   },
   {
    "duration": 5,
    "start_time": "2025-01-10T15:01:38.330Z"
   },
   {
    "duration": 8,
    "start_time": "2025-01-10T15:01:38.353Z"
   },
   {
    "duration": 10,
    "start_time": "2025-01-10T15:01:38.363Z"
   },
   {
    "duration": 8,
    "start_time": "2025-01-10T15:01:38.374Z"
   },
   {
    "duration": 11,
    "start_time": "2025-01-10T15:01:38.383Z"
   },
   {
    "duration": 10,
    "start_time": "2025-01-10T15:01:38.395Z"
   },
   {
    "duration": 18,
    "start_time": "2025-01-10T15:01:38.406Z"
   },
   {
    "duration": 37,
    "start_time": "2025-01-10T15:01:38.425Z"
   },
   {
    "duration": 6,
    "start_time": "2025-01-10T15:01:38.464Z"
   },
   {
    "duration": 9,
    "start_time": "2025-01-10T15:01:38.471Z"
   },
   {
    "duration": 26,
    "start_time": "2025-01-10T15:01:38.481Z"
   },
   {
    "duration": 3,
    "start_time": "2025-01-10T15:01:38.508Z"
   },
   {
    "duration": 10,
    "start_time": "2025-01-10T15:01:38.512Z"
   },
   {
    "duration": 42,
    "start_time": "2025-01-10T15:01:38.523Z"
   },
   {
    "duration": 205,
    "start_time": "2025-01-10T15:01:38.567Z"
   },
   {
    "duration": 226,
    "start_time": "2025-01-10T15:01:38.773Z"
   },
   {
    "duration": 131,
    "start_time": "2025-01-10T15:01:39.001Z"
   },
   {
    "duration": 209,
    "start_time": "2025-01-10T15:01:39.134Z"
   },
   {
    "duration": 8,
    "start_time": "2025-01-10T15:01:39.352Z"
   },
   {
    "duration": 168,
    "start_time": "2025-01-10T15:01:39.362Z"
   },
   {
    "duration": 106,
    "start_time": "2025-01-10T15:01:39.532Z"
   },
   {
    "duration": 163,
    "start_time": "2025-01-10T15:01:39.640Z"
   },
   {
    "duration": 9,
    "start_time": "2025-01-10T15:01:39.804Z"
   },
   {
    "duration": 234,
    "start_time": "2025-01-10T15:01:39.814Z"
   },
   {
    "duration": 169,
    "start_time": "2025-01-10T15:01:40.053Z"
   },
   {
    "duration": 179,
    "start_time": "2025-01-10T15:01:40.224Z"
   },
   {
    "duration": 267,
    "start_time": "2025-01-10T15:01:40.405Z"
   },
   {
    "duration": 244,
    "start_time": "2025-01-10T15:01:40.673Z"
   },
   {
    "duration": 50,
    "start_time": "2025-01-10T15:13:20.050Z"
   },
   {
    "duration": 3958,
    "start_time": "2025-01-10T15:14:03.827Z"
   },
   {
    "duration": 235,
    "start_time": "2025-01-10T15:14:07.787Z"
   },
   {
    "duration": 15,
    "start_time": "2025-01-10T15:14:08.023Z"
   },
   {
    "duration": 45,
    "start_time": "2025-01-10T15:14:08.040Z"
   },
   {
    "duration": 63,
    "start_time": "2025-01-10T15:14:08.086Z"
   },
   {
    "duration": 49,
    "start_time": "2025-01-10T15:14:08.150Z"
   },
   {
    "duration": 70,
    "start_time": "2025-01-10T15:14:08.200Z"
   },
   {
    "duration": 39,
    "start_time": "2025-01-10T15:14:08.271Z"
   },
   {
    "duration": 23,
    "start_time": "2025-01-10T15:14:08.311Z"
   },
   {
    "duration": 41,
    "start_time": "2025-01-10T15:14:08.337Z"
   },
   {
    "duration": 36,
    "start_time": "2025-01-10T15:14:08.379Z"
   },
   {
    "duration": 31,
    "start_time": "2025-01-10T15:14:08.417Z"
   },
   {
    "duration": 5,
    "start_time": "2025-01-10T15:14:08.449Z"
   },
   {
    "duration": 39,
    "start_time": "2025-01-10T15:14:08.455Z"
   },
   {
    "duration": 26,
    "start_time": "2025-01-10T15:14:08.495Z"
   },
   {
    "duration": 32,
    "start_time": "2025-01-10T15:14:08.523Z"
   },
   {
    "duration": 38,
    "start_time": "2025-01-10T15:14:08.557Z"
   },
   {
    "duration": 15,
    "start_time": "2025-01-10T15:14:08.597Z"
   },
   {
    "duration": 32,
    "start_time": "2025-01-10T15:14:08.613Z"
   },
   {
    "duration": 69,
    "start_time": "2025-01-10T15:14:08.646Z"
   },
   {
    "duration": 56,
    "start_time": "2025-01-10T15:14:08.716Z"
   },
   {
    "duration": 84,
    "start_time": "2025-01-10T15:14:08.774Z"
   },
   {
    "duration": 210,
    "start_time": "2025-01-10T15:14:08.859Z"
   },
   {
    "duration": 219,
    "start_time": "2025-01-10T15:14:09.070Z"
   },
   {
    "duration": 128,
    "start_time": "2025-01-10T15:14:09.290Z"
   },
   {
    "duration": 207,
    "start_time": "2025-01-10T15:14:09.419Z"
   },
   {
    "duration": 9,
    "start_time": "2025-01-10T15:14:09.627Z"
   },
   {
    "duration": 169,
    "start_time": "2025-01-10T15:14:09.639Z"
   },
   {
    "duration": 108,
    "start_time": "2025-01-10T15:14:09.810Z"
   },
   {
    "duration": 163,
    "start_time": "2025-01-10T15:14:09.919Z"
   },
   {
    "duration": 8,
    "start_time": "2025-01-10T15:14:10.083Z"
   },
   {
    "duration": 275,
    "start_time": "2025-01-10T15:14:10.093Z"
   },
   {
    "duration": 159,
    "start_time": "2025-01-10T15:14:10.370Z"
   },
   {
    "duration": 173,
    "start_time": "2025-01-10T15:14:10.531Z"
   },
   {
    "duration": 293,
    "start_time": "2025-01-10T15:14:10.705Z"
   },
   {
    "duration": 256,
    "start_time": "2025-01-10T15:14:10.999Z"
   },
   {
    "duration": 3878,
    "start_time": "2025-01-10T15:20:12.518Z"
   },
   {
    "duration": 485,
    "start_time": "2025-01-10T15:20:16.398Z"
   },
   {
    "duration": 16,
    "start_time": "2025-01-10T15:20:16.885Z"
   },
   {
    "duration": 13,
    "start_time": "2025-01-10T15:20:16.902Z"
   },
   {
    "duration": 8,
    "start_time": "2025-01-10T15:20:16.917Z"
   },
   {
    "duration": 22,
    "start_time": "2025-01-10T15:20:16.927Z"
   },
   {
    "duration": 22,
    "start_time": "2025-01-10T15:20:16.951Z"
   },
   {
    "duration": 16,
    "start_time": "2025-01-10T15:20:16.974Z"
   },
   {
    "duration": 7,
    "start_time": "2025-01-10T15:20:16.991Z"
   },
   {
    "duration": 21,
    "start_time": "2025-01-10T15:20:17.000Z"
   },
   {
    "duration": 19,
    "start_time": "2025-01-10T15:20:17.022Z"
   },
   {
    "duration": 17,
    "start_time": "2025-01-10T15:20:17.042Z"
   },
   {
    "duration": 5,
    "start_time": "2025-01-10T15:20:17.060Z"
   },
   {
    "duration": 56,
    "start_time": "2025-01-10T15:20:17.067Z"
   },
   {
    "duration": 6,
    "start_time": "2025-01-10T15:20:17.125Z"
   },
   {
    "duration": 25,
    "start_time": "2025-01-10T15:20:17.133Z"
   },
   {
    "duration": 29,
    "start_time": "2025-01-10T15:20:17.159Z"
   },
   {
    "duration": 29,
    "start_time": "2025-01-10T15:20:17.190Z"
   },
   {
    "duration": 5,
    "start_time": "2025-01-10T15:20:17.221Z"
   },
   {
    "duration": 19,
    "start_time": "2025-01-10T15:20:17.228Z"
   },
   {
    "duration": 49,
    "start_time": "2025-01-10T15:20:17.248Z"
   },
   {
    "duration": 12,
    "start_time": "2025-01-10T15:20:17.299Z"
   },
   {
    "duration": 33,
    "start_time": "2025-01-10T15:20:17.312Z"
   },
   {
    "duration": 190,
    "start_time": "2025-01-10T15:20:17.347Z"
   },
   {
    "duration": 227,
    "start_time": "2025-01-10T15:20:17.538Z"
   },
   {
    "duration": 121,
    "start_time": "2025-01-10T15:20:17.766Z"
   },
   {
    "duration": 205,
    "start_time": "2025-01-10T15:20:17.888Z"
   },
   {
    "duration": 9,
    "start_time": "2025-01-10T15:20:18.096Z"
   },
   {
    "duration": 181,
    "start_time": "2025-01-10T15:20:18.107Z"
   },
   {
    "duration": 108,
    "start_time": "2025-01-10T15:20:18.290Z"
   },
   {
    "duration": 171,
    "start_time": "2025-01-10T15:20:18.400Z"
   },
   {
    "duration": 8,
    "start_time": "2025-01-10T15:20:18.573Z"
   },
   {
    "duration": 248,
    "start_time": "2025-01-10T15:20:18.582Z"
   },
   {
    "duration": 150,
    "start_time": "2025-01-10T15:20:18.832Z"
   },
   {
    "duration": 178,
    "start_time": "2025-01-10T15:20:18.984Z"
   },
   {
    "duration": 254,
    "start_time": "2025-01-10T15:20:19.164Z"
   },
   {
    "duration": 283,
    "start_time": "2025-01-10T15:20:19.421Z"
   },
   {
    "duration": 21,
    "start_time": "2025-01-10T15:22:08.797Z"
   },
   {
    "duration": 3,
    "start_time": "2025-01-10T15:24:04.729Z"
   },
   {
    "duration": 22,
    "start_time": "2025-01-10T15:24:18.973Z"
   },
   {
    "duration": 8,
    "start_time": "2025-01-10T15:24:23.982Z"
   },
   {
    "duration": 8,
    "start_time": "2025-01-10T15:24:24.310Z"
   },
   {
    "duration": 10,
    "start_time": "2025-01-10T15:24:24.533Z"
   },
   {
    "duration": 18,
    "start_time": "2025-01-10T15:24:24.732Z"
   },
   {
    "duration": 6,
    "start_time": "2025-01-10T15:24:25.396Z"
   },
   {
    "duration": 9,
    "start_time": "2025-01-10T15:24:25.982Z"
   },
   {
    "duration": 51,
    "start_time": "2025-01-10T15:24:27.814Z"
   },
   {
    "duration": 3801,
    "start_time": "2025-01-10T15:24:44.548Z"
   },
   {
    "duration": 428,
    "start_time": "2025-01-10T15:24:48.352Z"
   },
   {
    "duration": 15,
    "start_time": "2025-01-10T15:24:48.782Z"
   },
   {
    "duration": 13,
    "start_time": "2025-01-10T15:24:48.798Z"
   },
   {
    "duration": 15,
    "start_time": "2025-01-10T15:24:48.812Z"
   },
   {
    "duration": 23,
    "start_time": "2025-01-10T15:24:48.828Z"
   },
   {
    "duration": 14,
    "start_time": "2025-01-10T15:24:48.852Z"
   },
   {
    "duration": 13,
    "start_time": "2025-01-10T15:24:48.867Z"
   },
   {
    "duration": 4,
    "start_time": "2025-01-10T15:24:48.881Z"
   },
   {
    "duration": 18,
    "start_time": "2025-01-10T15:24:48.887Z"
   },
   {
    "duration": 47,
    "start_time": "2025-01-10T15:24:48.906Z"
   },
   {
    "duration": 44,
    "start_time": "2025-01-10T15:24:48.954Z"
   },
   {
    "duration": 44,
    "start_time": "2025-01-10T15:24:49.000Z"
   },
   {
    "duration": 20,
    "start_time": "2025-01-10T15:24:49.046Z"
   },
   {
    "duration": 6,
    "start_time": "2025-01-10T15:24:49.068Z"
   },
   {
    "duration": 9,
    "start_time": "2025-01-10T15:24:49.075Z"
   },
   {
    "duration": 23,
    "start_time": "2025-01-10T15:24:49.086Z"
   },
   {
    "duration": 31,
    "start_time": "2025-01-10T15:24:49.111Z"
   },
   {
    "duration": 5,
    "start_time": "2025-01-10T15:24:49.144Z"
   },
   {
    "duration": 17,
    "start_time": "2025-01-10T15:24:49.151Z"
   },
   {
    "duration": 49,
    "start_time": "2025-01-10T15:24:49.169Z"
   },
   {
    "duration": 12,
    "start_time": "2025-01-10T15:24:49.220Z"
   },
   {
    "duration": 33,
    "start_time": "2025-01-10T15:24:49.233Z"
   },
   {
    "duration": 188,
    "start_time": "2025-01-10T15:24:49.267Z"
   },
   {
    "duration": 219,
    "start_time": "2025-01-10T15:24:49.456Z"
   },
   {
    "duration": 121,
    "start_time": "2025-01-10T15:24:49.677Z"
   },
   {
    "duration": 204,
    "start_time": "2025-01-10T15:24:49.800Z"
   },
   {
    "duration": 9,
    "start_time": "2025-01-10T15:24:50.007Z"
   },
   {
    "duration": 169,
    "start_time": "2025-01-10T15:24:50.017Z"
   },
   {
    "duration": 113,
    "start_time": "2025-01-10T15:24:50.187Z"
   },
   {
    "duration": 163,
    "start_time": "2025-01-10T15:24:50.301Z"
   },
   {
    "duration": 8,
    "start_time": "2025-01-10T15:24:50.465Z"
   },
   {
    "duration": 251,
    "start_time": "2025-01-10T15:24:50.474Z"
   },
   {
    "duration": 151,
    "start_time": "2025-01-10T15:24:50.726Z"
   },
   {
    "duration": 188,
    "start_time": "2025-01-10T15:24:50.879Z"
   },
   {
    "duration": 326,
    "start_time": "2025-01-10T15:24:51.069Z"
   },
   {
    "duration": 331,
    "start_time": "2025-01-10T15:24:51.452Z"
   },
   {
    "duration": 49,
    "start_time": "2025-01-10T15:26:00.682Z"
   },
   {
    "duration": 107,
    "start_time": "2025-01-10T15:27:11.085Z"
   },
   {
    "duration": 10,
    "start_time": "2025-01-10T15:27:36.063Z"
   },
   {
    "duration": 26,
    "start_time": "2025-01-10T15:30:18.612Z"
   },
   {
    "duration": 3819,
    "start_time": "2025-01-10T15:30:38.068Z"
   },
   {
    "duration": 268,
    "start_time": "2025-01-10T15:30:41.889Z"
   },
   {
    "duration": 15,
    "start_time": "2025-01-10T15:30:42.159Z"
   },
   {
    "duration": 12,
    "start_time": "2025-01-10T15:30:42.176Z"
   },
   {
    "duration": 65,
    "start_time": "2025-01-10T15:30:42.189Z"
   },
   {
    "duration": 19,
    "start_time": "2025-01-10T15:30:42.255Z"
   },
   {
    "duration": 22,
    "start_time": "2025-01-10T15:30:42.275Z"
   },
   {
    "duration": 55,
    "start_time": "2025-01-10T15:30:42.298Z"
   },
   {
    "duration": 4,
    "start_time": "2025-01-10T15:30:42.354Z"
   },
   {
    "duration": 6,
    "start_time": "2025-01-10T15:30:42.361Z"
   },
   {
    "duration": 10,
    "start_time": "2025-01-10T15:30:42.368Z"
   },
   {
    "duration": 31,
    "start_time": "2025-01-10T15:30:42.379Z"
   },
   {
    "duration": 64,
    "start_time": "2025-01-10T15:30:42.412Z"
   },
   {
    "duration": 7,
    "start_time": "2025-01-10T15:30:42.477Z"
   },
   {
    "duration": 22,
    "start_time": "2025-01-10T15:30:42.485Z"
   },
   {
    "duration": 9,
    "start_time": "2025-01-10T15:30:42.552Z"
   },
   {
    "duration": 19,
    "start_time": "2025-01-10T15:30:42.562Z"
   },
   {
    "duration": 5,
    "start_time": "2025-01-10T15:30:42.582Z"
   },
   {
    "duration": 10,
    "start_time": "2025-01-10T15:30:42.589Z"
   },
   {
    "duration": 73,
    "start_time": "2025-01-10T15:30:42.601Z"
   },
   {
    "duration": 96,
    "start_time": "2025-01-10T15:30:42.675Z"
   },
   {
    "duration": 13,
    "start_time": "2025-01-10T15:30:42.773Z"
   },
   {
    "duration": 80,
    "start_time": "2025-01-10T15:30:42.787Z"
   },
   {
    "duration": 331,
    "start_time": "2025-01-10T15:30:42.869Z"
   },
   {
    "duration": 246,
    "start_time": "2025-01-10T15:30:43.253Z"
   },
   {
    "duration": 124,
    "start_time": "2025-01-10T15:30:43.501Z"
   },
   {
    "duration": 208,
    "start_time": "2025-01-10T15:30:43.627Z"
   },
   {
    "duration": 17,
    "start_time": "2025-01-10T15:30:43.838Z"
   },
   {
    "duration": 202,
    "start_time": "2025-01-10T15:30:43.856Z"
   },
   {
    "duration": 105,
    "start_time": "2025-01-10T15:30:44.060Z"
   },
   {
    "duration": 159,
    "start_time": "2025-01-10T15:30:44.166Z"
   },
   {
    "duration": 8,
    "start_time": "2025-01-10T15:30:44.327Z"
   },
   {
    "duration": 249,
    "start_time": "2025-01-10T15:30:44.337Z"
   },
   {
    "duration": 155,
    "start_time": "2025-01-10T15:30:44.587Z"
   },
   {
    "duration": 175,
    "start_time": "2025-01-10T15:30:44.743Z"
   },
   {
    "duration": 299,
    "start_time": "2025-01-10T15:30:44.920Z"
   },
   {
    "duration": 285,
    "start_time": "2025-01-10T15:30:45.221Z"
   },
   {
    "duration": 3904,
    "start_time": "2025-01-10T15:44:19.876Z"
   },
   {
    "duration": 272,
    "start_time": "2025-01-10T15:44:23.782Z"
   },
   {
    "duration": 16,
    "start_time": "2025-01-10T15:44:24.056Z"
   },
   {
    "duration": 13,
    "start_time": "2025-01-10T15:44:24.074Z"
   },
   {
    "duration": 21,
    "start_time": "2025-01-10T15:44:24.088Z"
   },
   {
    "duration": 19,
    "start_time": "2025-01-10T15:44:24.111Z"
   },
   {
    "duration": 27,
    "start_time": "2025-01-10T15:44:24.132Z"
   },
   {
    "duration": 18,
    "start_time": "2025-01-10T15:44:24.160Z"
   },
   {
    "duration": 3,
    "start_time": "2025-01-10T15:44:24.180Z"
   },
   {
    "duration": 25,
    "start_time": "2025-01-10T15:44:24.185Z"
   },
   {
    "duration": 19,
    "start_time": "2025-01-10T15:44:24.211Z"
   },
   {
    "duration": 15,
    "start_time": "2025-01-10T15:44:24.231Z"
   },
   {
    "duration": 7,
    "start_time": "2025-01-10T15:44:24.247Z"
   },
   {
    "duration": 11,
    "start_time": "2025-01-10T15:44:24.255Z"
   },
   {
    "duration": 12,
    "start_time": "2025-01-10T15:44:24.268Z"
   },
   {
    "duration": 24,
    "start_time": "2025-01-10T15:44:24.281Z"
   },
   {
    "duration": 5,
    "start_time": "2025-01-10T15:44:24.307Z"
   },
   {
    "duration": 8,
    "start_time": "2025-01-10T15:44:24.313Z"
   },
   {
    "duration": 72,
    "start_time": "2025-01-10T15:44:24.323Z"
   },
   {
    "duration": 12,
    "start_time": "2025-01-10T15:44:24.397Z"
   },
   {
    "duration": 23,
    "start_time": "2025-01-10T15:44:24.410Z"
   },
   {
    "duration": 191,
    "start_time": "2025-01-10T15:44:24.434Z"
   },
   {
    "duration": 226,
    "start_time": "2025-01-10T15:44:24.626Z"
   },
   {
    "duration": 119,
    "start_time": "2025-01-10T15:44:24.854Z"
   },
   {
    "duration": 216,
    "start_time": "2025-01-10T15:44:24.974Z"
   },
   {
    "duration": 10,
    "start_time": "2025-01-10T15:44:25.192Z"
   },
   {
    "duration": 172,
    "start_time": "2025-01-10T15:44:25.203Z"
   },
   {
    "duration": 114,
    "start_time": "2025-01-10T15:44:25.379Z"
   },
   {
    "duration": 159,
    "start_time": "2025-01-10T15:44:25.495Z"
   },
   {
    "duration": 9,
    "start_time": "2025-01-10T15:44:25.656Z"
   },
   {
    "duration": 233,
    "start_time": "2025-01-10T15:44:25.666Z"
   },
   {
    "duration": 155,
    "start_time": "2025-01-10T15:44:25.900Z"
   },
   {
    "duration": 183,
    "start_time": "2025-01-10T15:44:26.057Z"
   },
   {
    "duration": 277,
    "start_time": "2025-01-10T15:44:26.241Z"
   },
   {
    "duration": 275,
    "start_time": "2025-01-10T15:44:26.519Z"
   },
   {
    "duration": 3957,
    "start_time": "2025-01-10T15:46:08.436Z"
   },
   {
    "duration": 217,
    "start_time": "2025-01-10T15:46:12.397Z"
   },
   {
    "duration": 15,
    "start_time": "2025-01-10T15:46:12.616Z"
   },
   {
    "duration": 17,
    "start_time": "2025-01-10T15:46:12.633Z"
   },
   {
    "duration": 9,
    "start_time": "2025-01-10T15:46:12.651Z"
   },
   {
    "duration": 32,
    "start_time": "2025-01-10T15:46:12.661Z"
   },
   {
    "duration": 21,
    "start_time": "2025-01-10T15:46:12.694Z"
   },
   {
    "duration": 27,
    "start_time": "2025-01-10T15:46:12.717Z"
   },
   {
    "duration": 17,
    "start_time": "2025-01-10T15:46:12.745Z"
   },
   {
    "duration": 36,
    "start_time": "2025-01-10T15:46:12.765Z"
   },
   {
    "duration": 40,
    "start_time": "2025-01-10T15:46:12.802Z"
   },
   {
    "duration": 26,
    "start_time": "2025-01-10T15:46:12.843Z"
   },
   {
    "duration": 23,
    "start_time": "2025-01-10T15:46:12.871Z"
   },
   {
    "duration": 26,
    "start_time": "2025-01-10T15:46:12.895Z"
   },
   {
    "duration": 35,
    "start_time": "2025-01-10T15:46:12.922Z"
   },
   {
    "duration": 41,
    "start_time": "2025-01-10T15:46:12.958Z"
   },
   {
    "duration": 9,
    "start_time": "2025-01-10T15:46:13.000Z"
   },
   {
    "duration": 29,
    "start_time": "2025-01-10T15:46:13.011Z"
   },
   {
    "duration": 55,
    "start_time": "2025-01-10T15:46:13.041Z"
   },
   {
    "duration": 12,
    "start_time": "2025-01-10T15:46:13.098Z"
   },
   {
    "duration": 19,
    "start_time": "2025-01-10T15:46:13.111Z"
   },
   {
    "duration": 171,
    "start_time": "2025-01-10T15:46:13.131Z"
   },
   {
    "duration": 220,
    "start_time": "2025-01-10T15:46:13.303Z"
   },
   {
    "duration": 129,
    "start_time": "2025-01-10T15:46:13.525Z"
   },
   {
    "duration": 211,
    "start_time": "2025-01-10T15:46:13.656Z"
   },
   {
    "duration": 11,
    "start_time": "2025-01-10T15:46:13.870Z"
   },
   {
    "duration": 201,
    "start_time": "2025-01-10T15:46:13.883Z"
   },
   {
    "duration": 109,
    "start_time": "2025-01-10T15:46:14.087Z"
   },
   {
    "duration": 163,
    "start_time": "2025-01-10T15:46:14.198Z"
   },
   {
    "duration": 7,
    "start_time": "2025-01-10T15:46:14.363Z"
   },
   {
    "duration": 391,
    "start_time": "2025-01-10T15:46:14.372Z"
   },
   {
    "duration": 295,
    "start_time": "2025-01-10T15:46:14.765Z"
   },
   {
    "duration": 401,
    "start_time": "2025-01-10T15:46:15.061Z"
   },
   {
    "duration": 391,
    "start_time": "2025-01-10T15:46:15.464Z"
   },
   {
    "duration": 276,
    "start_time": "2025-01-10T15:46:15.857Z"
   },
   {
    "duration": 15,
    "start_time": "2025-01-10T15:46:41.138Z"
   },
   {
    "duration": 3,
    "start_time": "2025-01-10T15:47:48.778Z"
   },
   {
    "duration": 9,
    "start_time": "2025-01-10T15:47:49.234Z"
   },
   {
    "duration": 9,
    "start_time": "2025-01-10T15:53:28.826Z"
   },
   {
    "duration": 11,
    "start_time": "2025-01-10T15:53:43.042Z"
   },
   {
    "duration": 175,
    "start_time": "2025-01-10T16:00:46.859Z"
   },
   {
    "duration": 167,
    "start_time": "2025-01-10T16:09:17.145Z"
   },
   {
    "duration": 177,
    "start_time": "2025-01-10T16:11:41.218Z"
   },
   {
    "duration": 112,
    "start_time": "2025-01-10T16:13:12.840Z"
   },
   {
    "duration": 165,
    "start_time": "2025-01-10T16:13:17.372Z"
   },
   {
    "duration": 180,
    "start_time": "2025-01-10T16:13:32.760Z"
   },
   {
    "duration": 162,
    "start_time": "2025-01-10T16:13:38.360Z"
   },
   {
    "duration": 166,
    "start_time": "2025-01-10T16:13:42.683Z"
   },
   {
    "duration": 247,
    "start_time": "2025-01-10T16:17:34.024Z"
   },
   {
    "duration": 204,
    "start_time": "2025-01-10T16:24:20.176Z"
   },
   {
    "duration": 211,
    "start_time": "2025-01-10T16:24:39.378Z"
   },
   {
    "duration": 197,
    "start_time": "2025-01-10T16:25:01.649Z"
   },
   {
    "duration": 192,
    "start_time": "2025-01-10T16:25:15.791Z"
   },
   {
    "duration": 204,
    "start_time": "2025-01-10T16:25:27.177Z"
   },
   {
    "duration": 214,
    "start_time": "2025-01-10T16:25:40.720Z"
   },
   {
    "duration": 3,
    "start_time": "2025-01-10T16:35:16.586Z"
   },
   {
    "duration": 4,
    "start_time": "2025-01-10T16:35:31.776Z"
   },
   {
    "duration": 132,
    "start_time": "2025-01-10T16:36:59.713Z"
   },
   {
    "duration": 162,
    "start_time": "2025-01-10T16:37:24.408Z"
   },
   {
    "duration": 160,
    "start_time": "2025-01-10T16:38:49.887Z"
   },
   {
    "duration": 194,
    "start_time": "2025-01-10T16:55:24.546Z"
   },
   {
    "duration": 180,
    "start_time": "2025-01-10T16:56:19.798Z"
   },
   {
    "duration": 114,
    "start_time": "2025-01-10T16:56:42.008Z"
   },
   {
    "duration": 117,
    "start_time": "2025-01-10T16:57:02.714Z"
   },
   {
    "duration": 197,
    "start_time": "2025-01-10T16:57:38.272Z"
   },
   {
    "duration": 169,
    "start_time": "2025-01-10T16:58:21.960Z"
   },
   {
    "duration": 9,
    "start_time": "2025-01-10T16:58:55.743Z"
   },
   {
    "duration": 157,
    "start_time": "2025-01-10T16:59:53.715Z"
   },
   {
    "duration": 137,
    "start_time": "2025-01-10T17:01:39.914Z"
   },
   {
    "duration": 146,
    "start_time": "2025-01-10T17:02:11.792Z"
   },
   {
    "duration": 136,
    "start_time": "2025-01-10T17:02:17.475Z"
   },
   {
    "duration": 151,
    "start_time": "2025-01-10T17:02:23.761Z"
   },
   {
    "duration": 158,
    "start_time": "2025-01-10T17:02:29.799Z"
   },
   {
    "duration": 169,
    "start_time": "2025-01-10T17:03:36.922Z"
   },
   {
    "duration": 102,
    "start_time": "2025-01-10T17:03:47.200Z"
   },
   {
    "duration": 100,
    "start_time": "2025-01-10T17:03:53.733Z"
   },
   {
    "duration": 158,
    "start_time": "2025-01-10T17:04:35.144Z"
   },
   {
    "duration": 100,
    "start_time": "2025-01-10T17:04:54.067Z"
   },
   {
    "duration": 161,
    "start_time": "2025-01-10T17:05:14.056Z"
   },
   {
    "duration": 163,
    "start_time": "2025-01-10T17:07:00.706Z"
   },
   {
    "duration": 213,
    "start_time": "2025-01-10T17:07:15.807Z"
   },
   {
    "duration": 157,
    "start_time": "2025-01-10T17:07:45.956Z"
   },
   {
    "duration": 145,
    "start_time": "2025-01-10T17:10:10.392Z"
   },
   {
    "duration": 1179,
    "start_time": "2025-01-10T17:15:39.357Z"
   },
   {
    "duration": 148,
    "start_time": "2025-01-10T17:15:50.345Z"
   },
   {
    "duration": 100,
    "start_time": "2025-01-10T17:16:25.983Z"
   },
   {
    "duration": 205,
    "start_time": "2025-01-10T17:16:40.618Z"
   },
   {
    "duration": 97,
    "start_time": "2025-01-10T17:16:44.730Z"
   },
   {
    "duration": 160,
    "start_time": "2025-01-10T17:17:00.675Z"
   },
   {
    "duration": 110,
    "start_time": "2025-01-10T17:17:04.319Z"
   },
   {
    "duration": 155,
    "start_time": "2025-01-10T17:17:24.856Z"
   },
   {
    "duration": 102,
    "start_time": "2025-01-10T17:17:29.975Z"
   },
   {
    "duration": 160,
    "start_time": "2025-01-10T17:19:00.216Z"
   },
   {
    "duration": 153,
    "start_time": "2025-01-10T17:19:42.498Z"
   },
   {
    "duration": 100,
    "start_time": "2025-01-10T17:19:43.721Z"
   },
   {
    "duration": 152,
    "start_time": "2025-01-10T17:20:56.088Z"
   },
   {
    "duration": 153,
    "start_time": "2025-01-10T17:21:13.328Z"
   },
   {
    "duration": 213,
    "start_time": "2025-01-10T17:23:39.680Z"
   },
   {
    "duration": 132,
    "start_time": "2025-01-10T17:23:52.471Z"
   },
   {
    "duration": 157,
    "start_time": "2025-01-10T17:24:01.183Z"
   },
   {
    "duration": 158,
    "start_time": "2025-01-10T17:24:09.231Z"
   },
   {
    "duration": 152,
    "start_time": "2025-01-10T17:24:15.369Z"
   },
   {
    "duration": 9,
    "start_time": "2025-01-10T17:24:51.984Z"
   },
   {
    "duration": 149,
    "start_time": "2025-01-10T17:24:58.838Z"
   },
   {
    "duration": 131,
    "start_time": "2025-01-10T17:27:27.015Z"
   },
   {
    "duration": 138,
    "start_time": "2025-01-10T17:29:52.807Z"
   },
   {
    "duration": 271,
    "start_time": "2025-01-10T17:30:03.747Z"
   },
   {
    "duration": 232,
    "start_time": "2025-01-10T17:31:43.393Z"
   },
   {
    "duration": 178,
    "start_time": "2025-01-10T17:32:23.251Z"
   },
   {
    "duration": 306,
    "start_time": "2025-01-10T17:32:31.728Z"
   },
   {
    "duration": 270,
    "start_time": "2025-01-10T17:32:55.366Z"
   },
   {
    "duration": 276,
    "start_time": "2025-01-10T17:33:02.559Z"
   },
   {
    "duration": 166,
    "start_time": "2025-01-10T17:34:39.647Z"
   },
   {
    "duration": 169,
    "start_time": "2025-01-10T17:34:49.067Z"
   },
   {
    "duration": 3762,
    "start_time": "2025-01-10T17:35:02.377Z"
   },
   {
    "duration": 254,
    "start_time": "2025-01-10T17:35:06.141Z"
   },
   {
    "duration": 15,
    "start_time": "2025-01-10T17:35:06.396Z"
   },
   {
    "duration": 25,
    "start_time": "2025-01-10T17:35:06.413Z"
   },
   {
    "duration": 30,
    "start_time": "2025-01-10T17:35:06.439Z"
   },
   {
    "duration": 82,
    "start_time": "2025-01-10T17:35:06.470Z"
   },
   {
    "duration": 28,
    "start_time": "2025-01-10T17:35:06.553Z"
   },
   {
    "duration": 29,
    "start_time": "2025-01-10T17:35:06.582Z"
   },
   {
    "duration": 70,
    "start_time": "2025-01-10T17:35:06.613Z"
   },
   {
    "duration": 32,
    "start_time": "2025-01-10T17:35:06.686Z"
   },
   {
    "duration": 25,
    "start_time": "2025-01-10T17:35:06.719Z"
   },
   {
    "duration": 11,
    "start_time": "2025-01-10T17:35:06.746Z"
   },
   {
    "duration": 41,
    "start_time": "2025-01-10T17:35:06.758Z"
   },
   {
    "duration": 12,
    "start_time": "2025-01-10T17:35:06.801Z"
   },
   {
    "duration": 12,
    "start_time": "2025-01-10T17:35:06.815Z"
   },
   {
    "duration": 41,
    "start_time": "2025-01-10T17:35:06.828Z"
   },
   {
    "duration": 5,
    "start_time": "2025-01-10T17:35:06.870Z"
   },
   {
    "duration": 44,
    "start_time": "2025-01-10T17:35:06.877Z"
   },
   {
    "duration": 52,
    "start_time": "2025-01-10T17:35:06.922Z"
   },
   {
    "duration": 4,
    "start_time": "2025-01-10T17:35:06.975Z"
   },
   {
    "duration": 34,
    "start_time": "2025-01-10T17:35:06.980Z"
   },
   {
    "duration": 30,
    "start_time": "2025-01-10T17:35:07.016Z"
   },
   {
    "duration": 180,
    "start_time": "2025-01-10T17:35:07.047Z"
   },
   {
    "duration": 225,
    "start_time": "2025-01-10T17:35:07.229Z"
   },
   {
    "duration": 170,
    "start_time": "2025-01-10T17:35:07.456Z"
   },
   {
    "duration": 127,
    "start_time": "2025-01-10T17:35:07.627Z"
   },
   {
    "duration": 182,
    "start_time": "2025-01-10T17:35:07.756Z"
   },
   {
    "duration": 12,
    "start_time": "2025-01-10T17:35:07.941Z"
   },
   {
    "duration": 161,
    "start_time": "2025-01-10T17:35:07.954Z"
   },
   {
    "duration": 112,
    "start_time": "2025-01-10T17:35:08.116Z"
   },
   {
    "duration": 223,
    "start_time": "2025-01-10T17:35:08.229Z"
   },
   {
    "duration": 7,
    "start_time": "2025-01-10T17:35:08.454Z"
   },
   {
    "duration": 154,
    "start_time": "2025-01-10T17:35:08.462Z"
   },
   {
    "duration": 366,
    "start_time": "2025-01-10T17:35:08.617Z"
   },
   {
    "duration": 174,
    "start_time": "2025-01-10T17:35:08.984Z"
   },
   {
    "duration": 214,
    "start_time": "2025-01-10T17:35:09.159Z"
   },
   {
    "duration": 233,
    "start_time": "2025-01-10T17:35:09.374Z"
   },
   {
    "duration": 181,
    "start_time": "2025-01-10T17:36:29.107Z"
   },
   {
    "duration": 195,
    "start_time": "2025-01-10T17:38:11.585Z"
   },
   {
    "duration": 221,
    "start_time": "2025-01-10T17:43:55.881Z"
   },
   {
    "duration": 272,
    "start_time": "2025-01-10T17:47:58.649Z"
   },
   {
    "duration": 234,
    "start_time": "2025-01-10T17:49:16.690Z"
   },
   {
    "duration": 273,
    "start_time": "2025-01-10T17:49:24.753Z"
   },
   {
    "duration": 355,
    "start_time": "2025-01-10T17:50:14.337Z"
   },
   {
    "duration": 260,
    "start_time": "2025-01-10T17:50:29.303Z"
   },
   {
    "duration": 230,
    "start_time": "2025-01-10T17:50:39.692Z"
   },
   {
    "duration": 290,
    "start_time": "2025-01-10T17:50:45.131Z"
   },
   {
    "duration": 57,
    "start_time": "2025-01-10T17:51:31.969Z"
   },
   {
    "duration": 283,
    "start_time": "2025-01-10T17:51:39.737Z"
   },
   {
    "duration": 245,
    "start_time": "2025-01-10T17:52:36.281Z"
   },
   {
    "duration": 9471,
    "start_time": "2025-01-10T18:03:28.993Z"
   },
   {
    "duration": 107,
    "start_time": "2025-01-10T18:10:28.009Z"
   },
   {
    "duration": 65686,
    "start_time": "2025-01-10T18:16:10.368Z"
   },
   {
    "duration": 0,
    "start_time": "2025-01-10T18:17:57.842Z"
   },
   {
    "duration": 23,
    "start_time": "2025-01-10T18:20:58.070Z"
   },
   {
    "duration": 26,
    "start_time": "2025-01-10T18:21:19.276Z"
   },
   {
    "duration": 50,
    "start_time": "2025-01-10T18:22:06.536Z"
   },
   {
    "duration": 29,
    "start_time": "2025-01-10T18:22:16.402Z"
   },
   {
    "duration": 26,
    "start_time": "2025-01-10T18:22:31.169Z"
   },
   {
    "duration": 30,
    "start_time": "2025-01-10T18:26:10.578Z"
   },
   {
    "duration": 29,
    "start_time": "2025-01-10T18:26:17.570Z"
   },
   {
    "duration": 30,
    "start_time": "2025-01-10T18:26:25.305Z"
   },
   {
    "duration": 32,
    "start_time": "2025-01-10T18:26:32.674Z"
   },
   {
    "duration": 11,
    "start_time": "2025-01-10T18:27:50.430Z"
   },
   {
    "duration": 11,
    "start_time": "2025-01-10T18:27:58.531Z"
   },
   {
    "duration": 82,
    "start_time": "2025-01-10T18:28:23.573Z"
   },
   {
    "duration": 92,
    "start_time": "2025-01-10T18:28:32.331Z"
   },
   {
    "duration": 15,
    "start_time": "2025-01-10T18:29:25.362Z"
   },
   {
    "duration": 16,
    "start_time": "2025-01-10T18:29:53.216Z"
   },
   {
    "duration": 16,
    "start_time": "2025-01-10T18:30:20.169Z"
   },
   {
    "duration": 8,
    "start_time": "2025-01-10T18:31:43.567Z"
   },
   {
    "duration": 9,
    "start_time": "2025-01-10T18:35:47.600Z"
   },
   {
    "duration": 17,
    "start_time": "2025-01-10T18:36:09.128Z"
   },
   {
    "duration": 11,
    "start_time": "2025-01-10T18:36:19.551Z"
   },
   {
    "duration": 16,
    "start_time": "2025-01-10T18:36:25.393Z"
   },
   {
    "duration": 4,
    "start_time": "2025-01-10T18:44:55.840Z"
   },
   {
    "duration": 10,
    "start_time": "2025-01-10T18:44:59.152Z"
   },
   {
    "duration": 4,
    "start_time": "2025-01-10T18:45:00.375Z"
   },
   {
    "duration": 8,
    "start_time": "2025-01-10T18:45:12.695Z"
   },
   {
    "duration": 11,
    "start_time": "2025-01-10T18:46:03.767Z"
   },
   {
    "duration": 12,
    "start_time": "2025-01-10T18:46:04.267Z"
   },
   {
    "duration": 7,
    "start_time": "2025-01-10T18:46:14.202Z"
   },
   {
    "duration": 102,
    "start_time": "2025-01-10T18:47:46.042Z"
   },
   {
    "duration": 4,
    "start_time": "2025-01-10T18:51:20.521Z"
   },
   {
    "duration": 8,
    "start_time": "2025-01-10T18:51:30.855Z"
   },
   {
    "duration": 11,
    "start_time": "2025-01-10T18:51:48.415Z"
   },
   {
    "duration": 13,
    "start_time": "2025-01-10T18:51:50.920Z"
   },
   {
    "duration": 7,
    "start_time": "2025-01-10T18:51:51.746Z"
   },
   {
    "duration": 6,
    "start_time": "2025-01-10T18:52:09.552Z"
   },
   {
    "duration": 12,
    "start_time": "2025-01-10T18:52:56.802Z"
   },
   {
    "duration": 7,
    "start_time": "2025-01-10T18:52:57.391Z"
   },
   {
    "duration": 10,
    "start_time": "2025-01-10T18:53:15.304Z"
   },
   {
    "duration": 8,
    "start_time": "2025-01-10T18:53:33.480Z"
   },
   {
    "duration": 12,
    "start_time": "2025-01-10T18:53:38.224Z"
   },
   {
    "duration": 18,
    "start_time": "2025-01-10T18:53:38.839Z"
   },
   {
    "duration": 62,
    "start_time": "2025-01-10T18:53:54.989Z"
   },
   {
    "duration": 12,
    "start_time": "2025-01-10T18:53:59.722Z"
   },
   {
    "duration": 103,
    "start_time": "2025-01-10T18:54:00.248Z"
   },
   {
    "duration": 59,
    "start_time": "2025-01-10T18:54:10.799Z"
   },
   {
    "duration": 61,
    "start_time": "2025-01-10T18:54:36.063Z"
   },
   {
    "duration": 11,
    "start_time": "2025-01-10T18:54:38.570Z"
   },
   {
    "duration": 63,
    "start_time": "2025-01-10T18:54:39.063Z"
   },
   {
    "duration": 9,
    "start_time": "2025-01-10T18:54:47.615Z"
   },
   {
    "duration": 9,
    "start_time": "2025-01-10T18:54:57.795Z"
   },
   {
    "duration": 6,
    "start_time": "2025-01-10T18:55:06.651Z"
   },
   {
    "duration": 6,
    "start_time": "2025-01-10T18:56:25.821Z"
   },
   {
    "duration": 12,
    "start_time": "2025-01-10T18:56:55.824Z"
   },
   {
    "duration": 6,
    "start_time": "2025-01-10T18:56:56.430Z"
   },
   {
    "duration": 10,
    "start_time": "2025-01-10T18:57:09.640Z"
   },
   {
    "duration": 10,
    "start_time": "2025-01-10T18:57:23.789Z"
   },
   {
    "duration": 18,
    "start_time": "2025-01-10T18:58:13.136Z"
   },
   {
    "duration": 56,
    "start_time": "2025-01-10T18:58:23.468Z"
   },
   {
    "duration": 11,
    "start_time": "2025-01-10T18:58:33.590Z"
   },
   {
    "duration": 18,
    "start_time": "2025-01-10T18:58:36.572Z"
   },
   {
    "duration": 17,
    "start_time": "2025-01-10T19:00:03.691Z"
   },
   {
    "duration": 21,
    "start_time": "2025-01-10T19:01:28.360Z"
   },
   {
    "duration": 21,
    "start_time": "2025-01-10T19:01:40.941Z"
   },
   {
    "duration": 20,
    "start_time": "2025-01-10T19:01:51.608Z"
   },
   {
    "duration": 9,
    "start_time": "2025-01-10T19:02:06.704Z"
   },
   {
    "duration": 9,
    "start_time": "2025-01-10T19:02:21.256Z"
   },
   {
    "duration": 9,
    "start_time": "2025-01-10T19:02:43.681Z"
   },
   {
    "duration": 10,
    "start_time": "2025-01-10T19:02:48.848Z"
   },
   {
    "duration": 8,
    "start_time": "2025-01-10T19:02:53.808Z"
   },
   {
    "duration": 12,
    "start_time": "2025-01-10T19:04:43.336Z"
   },
   {
    "duration": 15,
    "start_time": "2025-01-10T19:05:10.866Z"
   },
   {
    "duration": 15,
    "start_time": "2025-01-10T19:05:33.095Z"
   },
   {
    "duration": 14,
    "start_time": "2025-01-10T19:05:41.456Z"
   },
   {
    "duration": 15,
    "start_time": "2025-01-10T19:05:47.788Z"
   },
   {
    "duration": 11,
    "start_time": "2025-01-10T19:06:21.315Z"
   },
   {
    "duration": 8,
    "start_time": "2025-01-10T19:06:46.727Z"
   },
   {
    "duration": 9,
    "start_time": "2025-01-10T19:07:02.656Z"
   },
   {
    "duration": 9,
    "start_time": "2025-01-10T19:07:04.720Z"
   },
   {
    "duration": 14,
    "start_time": "2025-01-10T19:07:12.120Z"
   },
   {
    "duration": 10,
    "start_time": "2025-01-10T19:07:18.142Z"
   },
   {
    "duration": 7,
    "start_time": "2025-01-10T19:07:25.596Z"
   },
   {
    "duration": 11,
    "start_time": "2025-01-10T19:07:29.396Z"
   },
   {
    "duration": 8,
    "start_time": "2025-01-10T19:07:30.128Z"
   },
   {
    "duration": 8,
    "start_time": "2025-01-10T19:07:38.304Z"
   },
   {
    "duration": 3735,
    "start_time": "2025-01-10T19:07:49.294Z"
   },
   {
    "duration": 258,
    "start_time": "2025-01-10T19:07:53.031Z"
   },
   {
    "duration": 14,
    "start_time": "2025-01-10T19:07:53.290Z"
   },
   {
    "duration": 12,
    "start_time": "2025-01-10T19:07:53.306Z"
   },
   {
    "duration": 8,
    "start_time": "2025-01-10T19:07:53.319Z"
   },
   {
    "duration": 17,
    "start_time": "2025-01-10T19:07:53.329Z"
   },
   {
    "duration": 9,
    "start_time": "2025-01-10T19:07:53.348Z"
   },
   {
    "duration": 13,
    "start_time": "2025-01-10T19:07:53.358Z"
   },
   {
    "duration": 4,
    "start_time": "2025-01-10T19:07:53.373Z"
   },
   {
    "duration": 5,
    "start_time": "2025-01-10T19:07:53.379Z"
   },
   {
    "duration": 9,
    "start_time": "2025-01-10T19:07:53.385Z"
   },
   {
    "duration": 12,
    "start_time": "2025-01-10T19:07:53.395Z"
   },
   {
    "duration": 6,
    "start_time": "2025-01-10T19:07:53.408Z"
   },
   {
    "duration": 41,
    "start_time": "2025-01-10T19:07:53.416Z"
   },
   {
    "duration": 7,
    "start_time": "2025-01-10T19:07:53.459Z"
   },
   {
    "duration": 28,
    "start_time": "2025-01-10T19:07:53.468Z"
   },
   {
    "duration": 5,
    "start_time": "2025-01-10T19:07:53.497Z"
   },
   {
    "duration": 21,
    "start_time": "2025-01-10T19:07:53.503Z"
   },
   {
    "duration": 50,
    "start_time": "2025-01-10T19:07:53.525Z"
   },
   {
    "duration": 3,
    "start_time": "2025-01-10T19:07:53.577Z"
   },
   {
    "duration": 11,
    "start_time": "2025-01-10T19:07:53.582Z"
   },
   {
    "duration": 10,
    "start_time": "2025-01-10T19:07:53.594Z"
   },
   {
    "duration": 190,
    "start_time": "2025-01-10T19:07:53.605Z"
   },
   {
    "duration": 256,
    "start_time": "2025-01-10T19:07:53.796Z"
   },
   {
    "duration": 172,
    "start_time": "2025-01-10T19:07:54.054Z"
   },
   {
    "duration": 127,
    "start_time": "2025-01-10T19:07:54.227Z"
   },
   {
    "duration": 178,
    "start_time": "2025-01-10T19:07:54.355Z"
   },
   {
    "duration": 9,
    "start_time": "2025-01-10T19:07:54.536Z"
   },
   {
    "duration": 165,
    "start_time": "2025-01-10T19:07:54.553Z"
   },
   {
    "duration": 107,
    "start_time": "2025-01-10T19:07:54.720Z"
   },
   {
    "duration": 225,
    "start_time": "2025-01-10T19:07:54.829Z"
   },
   {
    "duration": 7,
    "start_time": "2025-01-10T19:07:55.056Z"
   },
   {
    "duration": 155,
    "start_time": "2025-01-10T19:07:55.064Z"
   },
   {
    "duration": 352,
    "start_time": "2025-01-10T19:07:55.220Z"
   },
   {
    "duration": 167,
    "start_time": "2025-01-10T19:07:55.573Z"
   },
   {
    "duration": 231,
    "start_time": "2025-01-10T19:07:55.742Z"
   },
   {
    "duration": 255,
    "start_time": "2025-01-10T19:07:55.974Z"
   },
   {
    "duration": 9,
    "start_time": "2025-01-10T19:07:56.231Z"
   },
   {
    "duration": 104,
    "start_time": "2025-01-10T19:07:56.253Z"
   },
   {
    "duration": 11,
    "start_time": "2025-01-10T19:08:11.313Z"
   },
   {
    "duration": 14,
    "start_time": "2025-01-10T19:08:24.579Z"
   },
   {
    "duration": 15,
    "start_time": "2025-01-10T19:08:34.296Z"
   },
   {
    "duration": 15,
    "start_time": "2025-01-10T19:08:39.631Z"
   },
   {
    "duration": 12,
    "start_time": "2025-01-10T19:08:49.498Z"
   },
   {
    "duration": 15,
    "start_time": "2025-01-10T19:09:22.961Z"
   },
   {
    "duration": 231,
    "start_time": "2025-01-10T19:09:45.775Z"
   },
   {
    "duration": 296,
    "start_time": "2025-01-10T19:09:49.802Z"
   },
   {
    "duration": 25,
    "start_time": "2025-01-10T19:10:37.505Z"
   },
   {
    "duration": 9,
    "start_time": "2025-01-10T19:12:17.986Z"
   },
   {
    "duration": 52802,
    "start_time": "2025-01-10T19:14:23.705Z"
   },
   {
    "duration": 19,
    "start_time": "2025-01-10T19:15:43.294Z"
   },
   {
    "duration": 141095,
    "start_time": "2025-01-10T19:15:58.760Z"
   },
   {
    "duration": 9,
    "start_time": "2025-01-10T19:19:24.889Z"
   },
   {
    "duration": 12,
    "start_time": "2025-01-10T19:19:43.185Z"
   },
   {
    "duration": 12,
    "start_time": "2025-01-10T19:20:02.777Z"
   },
   {
    "duration": 73113,
    "start_time": "2025-01-10T19:20:25.778Z"
   },
   {
    "duration": 20,
    "start_time": "2025-01-10T19:23:38.946Z"
   },
   {
    "duration": 10,
    "start_time": "2025-01-10T19:23:49.897Z"
   },
   {
    "duration": 20,
    "start_time": "2025-01-10T19:24:50.215Z"
   },
   {
    "duration": 16,
    "start_time": "2025-01-10T19:25:04.643Z"
   },
   {
    "duration": 12,
    "start_time": "2025-01-10T19:25:17.158Z"
   },
   {
    "duration": 15,
    "start_time": "2025-01-10T19:25:30.890Z"
   },
   {
    "duration": 12,
    "start_time": "2025-01-10T19:25:58.945Z"
   },
   {
    "duration": 20,
    "start_time": "2025-01-10T19:28:10.105Z"
   },
   {
    "duration": 36265,
    "start_time": "2025-01-10T19:28:59.937Z"
   },
   {
    "duration": 9,
    "start_time": "2025-01-10T19:30:00.366Z"
   },
   {
    "duration": 29,
    "start_time": "2025-01-10T19:30:22.857Z"
   },
   {
    "duration": 9,
    "start_time": "2025-01-10T19:30:34.233Z"
   },
   {
    "duration": 4,
    "start_time": "2025-01-10T19:30:55.901Z"
   },
   {
    "duration": 2,
    "start_time": "2025-01-10T19:31:29.263Z"
   },
   {
    "duration": 7,
    "start_time": "2025-01-10T19:31:34.541Z"
   },
   {
    "duration": 156,
    "start_time": "2025-01-10T19:32:02.850Z"
   },
   {
    "duration": 10,
    "start_time": "2025-01-10T19:32:13.502Z"
   },
   {
    "duration": 4,
    "start_time": "2025-01-10T19:32:14.123Z"
   },
   {
    "duration": 2,
    "start_time": "2025-01-10T19:32:14.588Z"
   },
   {
    "duration": 166,
    "start_time": "2025-01-10T19:32:15.058Z"
   },
   {
    "duration": 10,
    "start_time": "2025-01-10T19:32:25.083Z"
   },
   {
    "duration": 5,
    "start_time": "2025-01-10T19:32:25.475Z"
   },
   {
    "duration": 3,
    "start_time": "2025-01-10T19:32:25.897Z"
   },
   {
    "duration": 149,
    "start_time": "2025-01-10T19:32:26.508Z"
   },
   {
    "duration": 7,
    "start_time": "2025-01-10T19:32:52.432Z"
   },
   {
    "duration": 8,
    "start_time": "2025-01-10T19:32:54.993Z"
   },
   {
    "duration": 5,
    "start_time": "2025-01-10T19:32:55.369Z"
   },
   {
    "duration": 3,
    "start_time": "2025-01-10T19:32:55.776Z"
   },
   {
    "duration": 8,
    "start_time": "2025-01-10T19:32:56.433Z"
   },
   {
    "duration": 9,
    "start_time": "2025-01-10T19:33:10.094Z"
   },
   {
    "duration": 4,
    "start_time": "2025-01-10T19:33:10.449Z"
   },
   {
    "duration": 3,
    "start_time": "2025-01-10T19:33:10.865Z"
   },
   {
    "duration": 7,
    "start_time": "2025-01-10T19:33:11.461Z"
   },
   {
    "duration": 9,
    "start_time": "2025-01-10T19:33:20.033Z"
   },
   {
    "duration": 10,
    "start_time": "2025-01-10T19:33:28.362Z"
   },
   {
    "duration": 2,
    "start_time": "2025-01-10T19:33:28.796Z"
   },
   {
    "duration": 5,
    "start_time": "2025-01-10T19:33:29.351Z"
   },
   {
    "duration": 159,
    "start_time": "2025-01-10T19:33:32.245Z"
   },
   {
    "duration": 172,
    "start_time": "2025-01-10T19:33:44.249Z"
   },
   {
    "duration": 14,
    "start_time": "2025-01-10T19:34:11.938Z"
   },
   {
    "duration": 3,
    "start_time": "2025-01-10T19:34:12.354Z"
   },
   {
    "duration": 4,
    "start_time": "2025-01-10T19:34:12.812Z"
   },
   {
    "duration": 171,
    "start_time": "2025-01-10T19:34:13.732Z"
   },
   {
    "duration": 10,
    "start_time": "2025-01-10T19:34:32.153Z"
   },
   {
    "duration": 2,
    "start_time": "2025-01-10T19:34:32.578Z"
   },
   {
    "duration": 166,
    "start_time": "2025-01-10T19:34:33.049Z"
   },
   {
    "duration": 169,
    "start_time": "2025-01-10T19:34:51.863Z"
   },
   {
    "duration": 168,
    "start_time": "2025-01-10T19:35:18.090Z"
   },
   {
    "duration": 170,
    "start_time": "2025-01-10T19:35:30.201Z"
   },
   {
    "duration": 162,
    "start_time": "2025-01-10T19:35:40.361Z"
   },
   {
    "duration": 171,
    "start_time": "2025-01-10T19:35:51.721Z"
   },
   {
    "duration": 18,
    "start_time": "2025-01-10T19:36:03.885Z"
   },
   {
    "duration": 14,
    "start_time": "2025-01-10T19:36:13.021Z"
   },
   {
    "duration": 9,
    "start_time": "2025-01-10T19:36:23.121Z"
   },
   {
    "duration": 3,
    "start_time": "2025-01-10T19:36:23.705Z"
   },
   {
    "duration": 176,
    "start_time": "2025-01-10T19:36:24.401Z"
   },
   {
    "duration": 10,
    "start_time": "2025-01-10T19:37:13.730Z"
   },
   {
    "duration": 3,
    "start_time": "2025-01-10T19:37:14.150Z"
   },
   {
    "duration": 0,
    "start_time": "2025-01-10T19:38:17.846Z"
   },
   {
    "duration": 0,
    "start_time": "2025-01-10T19:38:17.847Z"
   },
   {
    "duration": 0,
    "start_time": "2025-01-10T19:38:17.848Z"
   },
   {
    "duration": 10,
    "start_time": "2025-01-10T19:38:20.206Z"
   },
   {
    "duration": 2,
    "start_time": "2025-01-10T19:38:20.937Z"
   },
   {
    "duration": 179,
    "start_time": "2025-01-10T19:38:21.693Z"
   },
   {
    "duration": 9,
    "start_time": "2025-01-10T19:38:32.687Z"
   },
   {
    "duration": 3,
    "start_time": "2025-01-10T19:38:33.186Z"
   },
   {
    "duration": 215,
    "start_time": "2025-01-10T19:38:33.888Z"
   },
   {
    "duration": 10,
    "start_time": "2025-01-10T19:40:00.977Z"
   },
   {
    "duration": 9,
    "start_time": "2025-01-10T19:40:09.072Z"
   },
   {
    "duration": 2,
    "start_time": "2025-01-10T19:40:10.137Z"
   },
   {
    "duration": 179,
    "start_time": "2025-01-10T19:40:10.682Z"
   },
   {
    "duration": 194,
    "start_time": "2025-01-10T19:40:41.330Z"
   },
   {
    "duration": 183,
    "start_time": "2025-01-10T19:40:54.274Z"
   },
   {
    "duration": 9,
    "start_time": "2025-01-10T19:41:12.536Z"
   },
   {
    "duration": 3,
    "start_time": "2025-01-10T19:41:13.040Z"
   },
   {
    "duration": 187,
    "start_time": "2025-01-10T19:41:13.752Z"
   },
   {
    "duration": 9,
    "start_time": "2025-01-10T19:41:26.925Z"
   },
   {
    "duration": 2,
    "start_time": "2025-01-10T19:41:27.473Z"
   },
   {
    "duration": 185,
    "start_time": "2025-01-10T19:41:28.210Z"
   },
   {
    "duration": 201,
    "start_time": "2025-01-10T19:41:55.410Z"
   },
   {
    "duration": 193,
    "start_time": "2025-01-10T19:42:03.529Z"
   },
   {
    "duration": 6,
    "start_time": "2025-01-10T19:42:27.953Z"
   },
   {
    "duration": 8,
    "start_time": "2025-01-10T19:43:34.833Z"
   },
   {
    "duration": 3,
    "start_time": "2025-01-10T19:43:35.368Z"
   },
   {
    "duration": 5,
    "start_time": "2025-01-10T19:43:36.069Z"
   },
   {
    "duration": 5,
    "start_time": "2025-01-10T19:46:52.807Z"
   },
   {
    "duration": 16,
    "start_time": "2025-01-10T19:48:09.128Z"
   },
   {
    "duration": 17,
    "start_time": "2025-01-10T19:48:32.405Z"
   },
   {
    "duration": 17,
    "start_time": "2025-01-10T19:48:48.634Z"
   },
   {
    "duration": 10,
    "start_time": "2025-01-10T19:49:00.904Z"
   },
   {
    "duration": 11,
    "start_time": "2025-01-10T19:49:14.395Z"
   },
   {
    "duration": 17,
    "start_time": "2025-01-10T19:49:20.432Z"
   },
   {
    "duration": 18,
    "start_time": "2025-01-10T19:49:28.878Z"
   },
   {
    "duration": 10,
    "start_time": "2025-01-10T19:52:15.273Z"
   },
   {
    "duration": 10,
    "start_time": "2025-01-10T19:52:30.145Z"
   },
   {
    "duration": 7,
    "start_time": "2025-01-10T19:52:53.905Z"
   },
   {
    "duration": 7,
    "start_time": "2025-01-10T19:53:03.632Z"
   },
   {
    "duration": 21,
    "start_time": "2025-01-10T19:53:24.379Z"
   },
   {
    "duration": 2,
    "start_time": "2025-01-10T19:53:25.005Z"
   },
   {
    "duration": 188,
    "start_time": "2025-01-10T19:53:25.726Z"
   },
   {
    "duration": 7,
    "start_time": "2025-01-10T19:53:35.655Z"
   },
   {
    "duration": 15,
    "start_time": "2025-01-10T19:53:50.072Z"
   },
   {
    "duration": 3,
    "start_time": "2025-01-10T19:53:50.986Z"
   },
   {
    "duration": 499,
    "start_time": "2025-01-10T19:53:51.832Z"
   },
   {
    "duration": 17,
    "start_time": "2025-01-10T19:54:08.801Z"
   },
   {
    "duration": 3,
    "start_time": "2025-01-10T19:54:09.319Z"
   },
   {
    "duration": 533,
    "start_time": "2025-01-10T19:54:10.122Z"
   },
   {
    "duration": 18,
    "start_time": "2025-01-10T19:54:24.112Z"
   },
   {
    "duration": 12,
    "start_time": "2025-01-10T19:54:24.610Z"
   },
   {
    "duration": 14,
    "start_time": "2025-01-10T19:54:46.115Z"
   },
   {
    "duration": 2,
    "start_time": "2025-01-10T19:54:47.008Z"
   },
   {
    "duration": 14,
    "start_time": "2025-01-10T19:54:58.179Z"
   },
   {
    "duration": 2,
    "start_time": "2025-01-10T19:54:58.825Z"
   },
   {
    "duration": 509,
    "start_time": "2025-01-10T19:54:59.522Z"
   },
   {
    "duration": 11,
    "start_time": "2025-01-10T19:55:00.629Z"
   },
   {
    "duration": 10,
    "start_time": "2025-01-10T19:55:09.620Z"
   },
   {
    "duration": 3,
    "start_time": "2025-01-10T19:55:10.337Z"
   },
   {
    "duration": 182,
    "start_time": "2025-01-10T19:55:10.897Z"
   },
   {
    "duration": 4,
    "start_time": "2025-01-10T19:58:42.218Z"
   },
   {
    "duration": 5,
    "start_time": "2025-01-10T19:58:42.933Z"
   },
   {
    "duration": 3,
    "start_time": "2025-01-10T19:58:43.471Z"
   },
   {
    "duration": 190,
    "start_time": "2025-01-10T19:58:44.195Z"
   },
   {
    "duration": 5,
    "start_time": "2025-01-10T19:59:00.121Z"
   },
   {
    "duration": 5,
    "start_time": "2025-01-10T20:00:55.735Z"
   },
   {
    "duration": 12,
    "start_time": "2025-01-10T20:01:02.281Z"
   },
   {
    "duration": 12,
    "start_time": "2025-01-10T20:01:07.121Z"
   },
   {
    "duration": 5,
    "start_time": "2025-01-10T20:01:12.623Z"
   },
   {
    "duration": 10,
    "start_time": "2025-01-10T20:01:28.320Z"
   },
   {
    "duration": 5,
    "start_time": "2025-01-10T20:01:29.446Z"
   },
   {
    "duration": 4,
    "start_time": "2025-01-10T20:01:32.026Z"
   },
   {
    "duration": 11,
    "start_time": "2025-01-10T20:01:32.600Z"
   },
   {
    "duration": 21,
    "start_time": "2025-01-10T20:01:33.264Z"
   },
   {
    "duration": 11,
    "start_time": "2025-01-10T20:02:01.744Z"
   },
   {
    "duration": 5,
    "start_time": "2025-01-10T20:02:13.009Z"
   },
   {
    "duration": 5,
    "start_time": "2025-01-10T20:02:15.529Z"
   },
   {
    "duration": 9,
    "start_time": "2025-01-10T20:02:27.834Z"
   },
   {
    "duration": 9,
    "start_time": "2025-01-10T20:02:40.632Z"
   },
   {
    "duration": 9,
    "start_time": "2025-01-10T20:02:51.488Z"
   },
   {
    "duration": 10,
    "start_time": "2025-01-10T20:03:06.443Z"
   },
   {
    "duration": 9,
    "start_time": "2025-01-10T20:03:12.159Z"
   },
   {
    "duration": 8,
    "start_time": "2025-01-10T20:03:31.601Z"
   },
   {
    "duration": 9,
    "start_time": "2025-01-10T20:03:37.368Z"
   },
   {
    "duration": 4,
    "start_time": "2025-01-10T20:03:39.713Z"
   },
   {
    "duration": 8,
    "start_time": "2025-01-10T20:03:40.235Z"
   },
   {
    "duration": 11,
    "start_time": "2025-01-10T20:04:05.528Z"
   },
   {
    "duration": 6,
    "start_time": "2025-01-10T20:04:46.065Z"
   },
   {
    "duration": 6,
    "start_time": "2025-01-10T20:04:53.181Z"
   },
   {
    "duration": 12,
    "start_time": "2025-01-10T20:05:08.455Z"
   },
   {
    "duration": 8,
    "start_time": "2025-01-10T20:06:27.915Z"
   },
   {
    "duration": 9,
    "start_time": "2025-01-10T20:06:40.256Z"
   },
   {
    "duration": 8,
    "start_time": "2025-01-10T20:06:59.176Z"
   },
   {
    "duration": 6,
    "start_time": "2025-01-10T20:07:02.089Z"
   },
   {
    "duration": 12,
    "start_time": "2025-01-10T20:07:05.202Z"
   },
   {
    "duration": 13,
    "start_time": "2025-01-10T20:07:46.893Z"
   },
   {
    "duration": 5,
    "start_time": "2025-01-10T20:08:19.580Z"
   },
   {
    "duration": 10,
    "start_time": "2025-01-10T20:08:42.288Z"
   },
   {
    "duration": 10,
    "start_time": "2025-01-10T20:08:55.096Z"
   },
   {
    "duration": 8,
    "start_time": "2025-01-10T20:09:03.780Z"
   },
   {
    "duration": 4,
    "start_time": "2025-01-10T20:09:34.857Z"
   },
   {
    "duration": 164,
    "start_time": "2025-01-10T20:10:24.579Z"
   },
   {
    "duration": 160,
    "start_time": "2025-01-10T20:10:34.632Z"
   },
   {
    "duration": 15,
    "start_time": "2025-01-10T20:11:27.883Z"
   },
   {
    "duration": 173,
    "start_time": "2025-01-10T20:11:59.968Z"
   },
   {
    "duration": 5,
    "start_time": "2025-01-10T20:12:44.578Z"
   },
   {
    "duration": 5,
    "start_time": "2025-01-10T20:13:09.787Z"
   },
   {
    "duration": 855,
    "start_time": "2025-01-10T20:13:27.577Z"
   },
   {
    "duration": 8,
    "start_time": "2025-01-10T20:13:59.633Z"
   },
   {
    "duration": 8,
    "start_time": "2025-01-10T20:14:17.066Z"
   },
   {
    "duration": 674,
    "start_time": "2025-01-10T20:14:24.043Z"
   },
   {
    "duration": 700,
    "start_time": "2025-01-10T20:14:31.602Z"
   },
   {
    "duration": 8,
    "start_time": "2025-01-10T20:14:36.772Z"
   },
   {
    "duration": 9,
    "start_time": "2025-01-10T20:15:16.019Z"
   },
   {
    "duration": 9,
    "start_time": "2025-01-10T20:18:03.794Z"
   },
   {
    "duration": 9,
    "start_time": "2025-01-10T20:20:15.867Z"
   },
   {
    "duration": 10,
    "start_time": "2025-01-10T20:20:35.811Z"
   },
   {
    "duration": 10,
    "start_time": "2025-01-10T20:22:15.648Z"
   },
   {
    "duration": 10,
    "start_time": "2025-01-10T20:22:21.354Z"
   },
   {
    "duration": 8,
    "start_time": "2025-01-10T20:23:10.642Z"
   },
   {
    "duration": 6,
    "start_time": "2025-01-10T20:23:15.521Z"
   },
   {
    "duration": 905,
    "start_time": "2025-01-10T20:23:16.018Z"
   },
   {
    "duration": 157,
    "start_time": "2025-01-10T20:23:34.866Z"
   },
   {
    "duration": 6,
    "start_time": "2025-01-10T20:23:50.413Z"
   },
   {
    "duration": 10,
    "start_time": "2025-01-10T20:24:09.162Z"
   },
   {
    "duration": 165,
    "start_time": "2025-01-10T20:24:30.267Z"
   },
   {
    "duration": 187,
    "start_time": "2025-01-10T20:24:57.130Z"
   },
   {
    "duration": 179,
    "start_time": "2025-01-10T20:25:04.090Z"
   },
   {
    "duration": 174,
    "start_time": "2025-01-10T20:25:14.610Z"
   },
   {
    "duration": 162,
    "start_time": "2025-01-10T20:25:37.995Z"
   },
   {
    "duration": 332,
    "start_time": "2025-01-10T20:30:05.210Z"
   },
   {
    "duration": 314,
    "start_time": "2025-01-10T20:30:34.266Z"
   },
   {
    "duration": 338,
    "start_time": "2025-01-10T20:30:43.584Z"
   },
   {
    "duration": 360,
    "start_time": "2025-01-10T20:31:07.659Z"
   },
   {
    "duration": 47,
    "start_time": "2025-01-11T10:13:21.945Z"
   },
   {
    "duration": 5091,
    "start_time": "2025-01-11T10:14:16.346Z"
   },
   {
    "duration": 312,
    "start_time": "2025-01-11T10:14:21.439Z"
   },
   {
    "duration": 14,
    "start_time": "2025-01-11T10:14:21.754Z"
   },
   {
    "duration": 14,
    "start_time": "2025-01-11T10:14:21.770Z"
   },
   {
    "duration": 19,
    "start_time": "2025-01-11T10:14:21.785Z"
   },
   {
    "duration": 18,
    "start_time": "2025-01-11T10:14:21.806Z"
   },
   {
    "duration": 17,
    "start_time": "2025-01-11T10:14:21.825Z"
   },
   {
    "duration": 15,
    "start_time": "2025-01-11T10:14:21.843Z"
   },
   {
    "duration": 4,
    "start_time": "2025-01-11T10:14:21.859Z"
   },
   {
    "duration": 15,
    "start_time": "2025-01-11T10:14:21.866Z"
   },
   {
    "duration": 23,
    "start_time": "2025-01-11T10:14:21.883Z"
   },
   {
    "duration": 24,
    "start_time": "2025-01-11T10:14:21.907Z"
   },
   {
    "duration": 17,
    "start_time": "2025-01-11T10:14:21.932Z"
   },
   {
    "duration": 22,
    "start_time": "2025-01-11T10:14:21.950Z"
   },
   {
    "duration": 16,
    "start_time": "2025-01-11T10:14:21.974Z"
   },
   {
    "duration": 25,
    "start_time": "2025-01-11T10:14:21.992Z"
   },
   {
    "duration": 6,
    "start_time": "2025-01-11T10:14:22.018Z"
   },
   {
    "duration": 34,
    "start_time": "2025-01-11T10:14:22.025Z"
   },
   {
    "duration": 52,
    "start_time": "2025-01-11T10:14:22.060Z"
   },
   {
    "duration": 3,
    "start_time": "2025-01-11T10:14:22.114Z"
   },
   {
    "duration": 23,
    "start_time": "2025-01-11T10:14:22.118Z"
   },
   {
    "duration": 15,
    "start_time": "2025-01-11T10:14:22.142Z"
   },
   {
    "duration": 178,
    "start_time": "2025-01-11T10:14:22.158Z"
   },
   {
    "duration": 222,
    "start_time": "2025-01-11T10:14:22.338Z"
   },
   {
    "duration": 170,
    "start_time": "2025-01-11T10:14:22.561Z"
   },
   {
    "duration": 126,
    "start_time": "2025-01-11T10:14:22.733Z"
   },
   {
    "duration": 170,
    "start_time": "2025-01-11T10:14:22.861Z"
   },
   {
    "duration": 8,
    "start_time": "2025-01-11T10:14:23.034Z"
   },
   {
    "duration": 156,
    "start_time": "2025-01-11T10:14:23.052Z"
   },
   {
    "duration": 171,
    "start_time": "2025-01-11T10:14:23.209Z"
   },
   {
    "duration": 160,
    "start_time": "2025-01-11T10:14:23.381Z"
   },
   {
    "duration": 15,
    "start_time": "2025-01-11T10:14:23.543Z"
   },
   {
    "duration": 178,
    "start_time": "2025-01-11T10:14:23.559Z"
   },
   {
    "duration": 348,
    "start_time": "2025-01-11T10:14:23.739Z"
   },
   {
    "duration": 165,
    "start_time": "2025-01-11T10:14:24.089Z"
   },
   {
    "duration": 231,
    "start_time": "2025-01-11T10:14:24.255Z"
   },
   {
    "duration": 246,
    "start_time": "2025-01-11T10:14:24.488Z"
   },
   {
    "duration": 4,
    "start_time": "2025-01-11T10:14:24.735Z"
   },
   {
    "duration": 5,
    "start_time": "2025-01-11T10:14:24.752Z"
   },
   {
    "duration": 43,
    "start_time": "2025-01-11T10:14:24.758Z"
   },
   {
    "duration": 16,
    "start_time": "2025-01-11T10:14:24.802Z"
   },
   {
    "duration": 181,
    "start_time": "2025-01-11T10:14:24.819Z"
   },
   {
    "duration": 10,
    "start_time": "2025-01-11T10:14:25.001Z"
   },
   {
    "duration": 182,
    "start_time": "2025-01-11T10:14:25.012Z"
   },
   {
    "duration": 358,
    "start_time": "2025-01-11T10:14:25.195Z"
   },
   {
    "duration": 5,
    "start_time": "2025-01-11T10:14:25.555Z"
   },
   {
    "duration": 176,
    "start_time": "2025-01-11T10:14:25.561Z"
   },
   {
    "duration": 156,
    "start_time": "2025-01-11T10:14:51.430Z"
   },
   {
    "duration": 222,
    "start_time": "2025-01-11T10:16:12.818Z"
   },
   {
    "duration": 696,
    "start_time": "2025-01-11T10:20:27.846Z"
   },
   {
    "duration": 3722,
    "start_time": "2025-01-11T10:25:26.867Z"
   },
   {
    "duration": 246,
    "start_time": "2025-01-11T10:25:30.591Z"
   },
   {
    "duration": 17,
    "start_time": "2025-01-11T10:25:30.838Z"
   },
   {
    "duration": 12,
    "start_time": "2025-01-11T10:25:30.856Z"
   },
   {
    "duration": 16,
    "start_time": "2025-01-11T10:25:30.870Z"
   },
   {
    "duration": 35,
    "start_time": "2025-01-11T10:25:30.888Z"
   },
   {
    "duration": 21,
    "start_time": "2025-01-11T10:25:30.924Z"
   },
   {
    "duration": 46,
    "start_time": "2025-01-11T10:25:30.946Z"
   },
   {
    "duration": 27,
    "start_time": "2025-01-11T10:25:30.993Z"
   },
   {
    "duration": 34,
    "start_time": "2025-01-11T10:25:31.023Z"
   },
   {
    "duration": 22,
    "start_time": "2025-01-11T10:25:31.059Z"
   },
   {
    "duration": 45,
    "start_time": "2025-01-11T10:25:31.082Z"
   },
   {
    "duration": 16,
    "start_time": "2025-01-11T10:25:31.128Z"
   },
   {
    "duration": 33,
    "start_time": "2025-01-11T10:25:31.145Z"
   },
   {
    "duration": 47,
    "start_time": "2025-01-11T10:25:31.180Z"
   },
   {
    "duration": 42,
    "start_time": "2025-01-11T10:25:31.228Z"
   },
   {
    "duration": 23,
    "start_time": "2025-01-11T10:25:31.272Z"
   },
   {
    "duration": 24,
    "start_time": "2025-01-11T10:25:31.296Z"
   },
   {
    "duration": 49,
    "start_time": "2025-01-11T10:25:31.321Z"
   },
   {
    "duration": 3,
    "start_time": "2025-01-11T10:25:31.372Z"
   },
   {
    "duration": 53,
    "start_time": "2025-01-11T10:25:31.376Z"
   },
   {
    "duration": 33,
    "start_time": "2025-01-11T10:25:31.430Z"
   },
   {
    "duration": 176,
    "start_time": "2025-01-11T10:25:31.464Z"
   },
   {
    "duration": 223,
    "start_time": "2025-01-11T10:25:31.641Z"
   },
   {
    "duration": 169,
    "start_time": "2025-01-11T10:25:31.865Z"
   },
   {
    "duration": 128,
    "start_time": "2025-01-11T10:25:32.035Z"
   },
   {
    "duration": 179,
    "start_time": "2025-01-11T10:25:32.165Z"
   },
   {
    "duration": 11,
    "start_time": "2025-01-11T10:25:32.347Z"
   },
   {
    "duration": 167,
    "start_time": "2025-01-11T10:25:32.359Z"
   },
   {
    "duration": 108,
    "start_time": "2025-01-11T10:25:32.528Z"
   },
   {
    "duration": 223,
    "start_time": "2025-01-11T10:25:32.637Z"
   },
   {
    "duration": 7,
    "start_time": "2025-01-11T10:25:32.861Z"
   },
   {
    "duration": 161,
    "start_time": "2025-01-11T10:25:32.869Z"
   },
   {
    "duration": 343,
    "start_time": "2025-01-11T10:25:33.031Z"
   },
   {
    "duration": 169,
    "start_time": "2025-01-11T10:25:33.375Z"
   },
   {
    "duration": 225,
    "start_time": "2025-01-11T10:25:33.553Z"
   },
   {
    "duration": 273,
    "start_time": "2025-01-11T10:25:33.779Z"
   },
   {
    "duration": 4,
    "start_time": "2025-01-11T10:25:34.054Z"
   },
   {
    "duration": 36,
    "start_time": "2025-01-11T10:25:34.060Z"
   },
   {
    "duration": 20,
    "start_time": "2025-01-11T10:25:34.098Z"
   },
   {
    "duration": 17,
    "start_time": "2025-01-11T10:25:34.120Z"
   },
   {
    "duration": 183,
    "start_time": "2025-01-11T10:25:34.138Z"
   },
   {
    "duration": 10,
    "start_time": "2025-01-11T10:25:34.323Z"
   },
   {
    "duration": 187,
    "start_time": "2025-01-11T10:25:34.334Z"
   },
   {
    "duration": 407,
    "start_time": "2025-01-11T10:25:34.522Z"
   },
   {
    "duration": 5,
    "start_time": "2025-01-11T10:25:34.931Z"
   },
   {
    "duration": 187,
    "start_time": "2025-01-11T10:25:34.937Z"
   },
   {
    "duration": 5,
    "start_time": "2025-01-11T10:25:35.125Z"
   },
   {
    "duration": 3709,
    "start_time": "2025-01-11T10:26:16.180Z"
   },
   {
    "duration": 194,
    "start_time": "2025-01-11T10:26:19.891Z"
   },
   {
    "duration": 15,
    "start_time": "2025-01-11T10:26:20.087Z"
   },
   {
    "duration": 58,
    "start_time": "2025-01-11T10:26:20.104Z"
   },
   {
    "duration": 44,
    "start_time": "2025-01-11T10:26:20.163Z"
   },
   {
    "duration": 35,
    "start_time": "2025-01-11T10:26:20.208Z"
   },
   {
    "duration": 18,
    "start_time": "2025-01-11T10:26:20.244Z"
   },
   {
    "duration": 12,
    "start_time": "2025-01-11T10:26:20.264Z"
   },
   {
    "duration": 18,
    "start_time": "2025-01-11T10:26:20.277Z"
   },
   {
    "duration": 31,
    "start_time": "2025-01-11T10:26:20.298Z"
   },
   {
    "duration": 26,
    "start_time": "2025-01-11T10:26:20.331Z"
   },
   {
    "duration": 16,
    "start_time": "2025-01-11T10:26:20.359Z"
   },
   {
    "duration": 8,
    "start_time": "2025-01-11T10:26:20.377Z"
   },
   {
    "duration": 12,
    "start_time": "2025-01-11T10:26:20.386Z"
   },
   {
    "duration": 35,
    "start_time": "2025-01-11T10:26:20.399Z"
   },
   {
    "duration": 49,
    "start_time": "2025-01-11T10:26:20.436Z"
   },
   {
    "duration": 63,
    "start_time": "2025-01-11T10:26:20.487Z"
   },
   {
    "duration": 58,
    "start_time": "2025-01-11T10:26:20.552Z"
   },
   {
    "duration": 56,
    "start_time": "2025-01-11T10:26:20.612Z"
   },
   {
    "duration": 4,
    "start_time": "2025-01-11T10:26:20.669Z"
   },
   {
    "duration": 24,
    "start_time": "2025-01-11T10:26:20.675Z"
   },
   {
    "duration": 40,
    "start_time": "2025-01-11T10:26:20.700Z"
   },
   {
    "duration": 187,
    "start_time": "2025-01-11T10:26:20.742Z"
   },
   {
    "duration": 224,
    "start_time": "2025-01-11T10:26:20.931Z"
   },
   {
    "duration": 170,
    "start_time": "2025-01-11T10:26:21.157Z"
   },
   {
    "duration": 130,
    "start_time": "2025-01-11T10:26:21.329Z"
   },
   {
    "duration": 186,
    "start_time": "2025-01-11T10:26:21.461Z"
   },
   {
    "duration": 9,
    "start_time": "2025-01-11T10:26:21.652Z"
   },
   {
    "duration": 179,
    "start_time": "2025-01-11T10:26:21.663Z"
   },
   {
    "duration": 112,
    "start_time": "2025-01-11T10:26:21.844Z"
   },
   {
    "duration": 228,
    "start_time": "2025-01-11T10:26:21.957Z"
   },
   {
    "duration": 7,
    "start_time": "2025-01-11T10:26:22.186Z"
   },
   {
    "duration": 160,
    "start_time": "2025-01-11T10:26:22.195Z"
   },
   {
    "duration": 328,
    "start_time": "2025-01-11T10:26:22.356Z"
   },
   {
    "duration": 169,
    "start_time": "2025-01-11T10:26:22.685Z"
   },
   {
    "duration": 223,
    "start_time": "2025-01-11T10:26:22.856Z"
   },
   {
    "duration": 266,
    "start_time": "2025-01-11T10:26:23.081Z"
   },
   {
    "duration": 4,
    "start_time": "2025-01-11T10:26:23.353Z"
   },
   {
    "duration": 13,
    "start_time": "2025-01-11T10:26:23.359Z"
   },
   {
    "duration": 22,
    "start_time": "2025-01-11T10:26:23.374Z"
   },
   {
    "duration": 16,
    "start_time": "2025-01-11T10:26:23.397Z"
   },
   {
    "duration": 193,
    "start_time": "2025-01-11T10:26:23.415Z"
   },
   {
    "duration": 10,
    "start_time": "2025-01-11T10:26:23.610Z"
   },
   {
    "duration": 211,
    "start_time": "2025-01-11T10:26:23.621Z"
   },
   {
    "duration": 416,
    "start_time": "2025-01-11T10:26:23.833Z"
   },
   {
    "duration": 5,
    "start_time": "2025-01-11T10:26:24.251Z"
   },
   {
    "duration": 162,
    "start_time": "2025-01-11T10:26:24.257Z"
   },
   {
    "duration": 5,
    "start_time": "2025-01-11T10:26:24.420Z"
   },
   {
    "duration": 765,
    "start_time": "2025-01-11T10:26:24.426Z"
   },
   {
    "duration": 162,
    "start_time": "2025-01-11T10:27:25.024Z"
   },
   {
    "duration": 105,
    "start_time": "2025-01-11T10:27:44.448Z"
   },
   {
    "duration": 107,
    "start_time": "2025-01-11T10:28:13.064Z"
   },
   {
    "duration": 8,
    "start_time": "2025-01-11T10:28:43.603Z"
   },
   {
    "duration": 5,
    "start_time": "2025-01-11T10:29:00.991Z"
   },
   {
    "duration": 816,
    "start_time": "2025-01-11T10:29:01.824Z"
   },
   {
    "duration": 757,
    "start_time": "2025-01-11T10:29:09.712Z"
   },
   {
    "duration": 6,
    "start_time": "2025-01-11T10:33:05.056Z"
   },
   {
    "duration": 155,
    "start_time": "2025-01-11T10:33:06.424Z"
   },
   {
    "duration": 162,
    "start_time": "2025-01-11T10:33:35.152Z"
   },
   {
    "duration": 5,
    "start_time": "2025-01-11T10:33:57.849Z"
   },
   {
    "duration": 150,
    "start_time": "2025-01-11T10:33:58.400Z"
   },
   {
    "duration": 8,
    "start_time": "2025-01-11T10:34:52.361Z"
   },
   {
    "duration": 5,
    "start_time": "2025-01-11T10:36:54.728Z"
   },
   {
    "duration": 150,
    "start_time": "2025-01-11T10:36:55.192Z"
   },
   {
    "duration": 233,
    "start_time": "2025-01-11T10:49:08.800Z"
   },
   {
    "duration": 142,
    "start_time": "2025-01-11T10:49:24.473Z"
   },
   {
    "duration": 153,
    "start_time": "2025-01-11T10:49:39.105Z"
   },
   {
    "duration": 13,
    "start_time": "2025-01-11T10:52:42.616Z"
   },
   {
    "duration": 13,
    "start_time": "2025-01-11T10:52:58.313Z"
   },
   {
    "duration": 12,
    "start_time": "2025-01-11T10:53:10.672Z"
   },
   {
    "duration": 12,
    "start_time": "2025-01-11T10:54:08.545Z"
   },
   {
    "duration": 5,
    "start_time": "2025-01-11T10:54:15.249Z"
   },
   {
    "duration": 13,
    "start_time": "2025-01-11T10:54:18.272Z"
   },
   {
    "duration": 14,
    "start_time": "2025-01-11T10:54:52.969Z"
   },
   {
    "duration": 12,
    "start_time": "2025-01-11T10:55:13.105Z"
   },
   {
    "duration": 12,
    "start_time": "2025-01-11T10:55:45.769Z"
   },
   {
    "duration": 3710,
    "start_time": "2025-01-11T10:55:58.352Z"
   },
   {
    "duration": 255,
    "start_time": "2025-01-11T10:56:02.064Z"
   },
   {
    "duration": 15,
    "start_time": "2025-01-11T10:56:02.321Z"
   },
   {
    "duration": 15,
    "start_time": "2025-01-11T10:56:02.337Z"
   },
   {
    "duration": 45,
    "start_time": "2025-01-11T10:56:02.353Z"
   },
   {
    "duration": 53,
    "start_time": "2025-01-11T10:56:02.400Z"
   },
   {
    "duration": 28,
    "start_time": "2025-01-11T10:56:02.454Z"
   },
   {
    "duration": 49,
    "start_time": "2025-01-11T10:56:02.484Z"
   },
   {
    "duration": 38,
    "start_time": "2025-01-11T10:56:02.535Z"
   },
   {
    "duration": 51,
    "start_time": "2025-01-11T10:56:02.575Z"
   },
   {
    "duration": 35,
    "start_time": "2025-01-11T10:56:02.628Z"
   },
   {
    "duration": 44,
    "start_time": "2025-01-11T10:56:02.664Z"
   },
   {
    "duration": 28,
    "start_time": "2025-01-11T10:56:02.709Z"
   },
   {
    "duration": 66,
    "start_time": "2025-01-11T10:56:02.738Z"
   },
   {
    "duration": 36,
    "start_time": "2025-01-11T10:56:02.805Z"
   },
   {
    "duration": 41,
    "start_time": "2025-01-11T10:56:02.842Z"
   },
   {
    "duration": 30,
    "start_time": "2025-01-11T10:56:02.885Z"
   },
   {
    "duration": 32,
    "start_time": "2025-01-11T10:56:02.917Z"
   },
   {
    "duration": 57,
    "start_time": "2025-01-11T10:56:02.950Z"
   },
   {
    "duration": 23,
    "start_time": "2025-01-11T10:56:03.009Z"
   },
   {
    "duration": 28,
    "start_time": "2025-01-11T10:56:03.034Z"
   },
   {
    "duration": 59,
    "start_time": "2025-01-11T10:56:03.064Z"
   },
   {
    "duration": 177,
    "start_time": "2025-01-11T10:56:03.125Z"
   },
   {
    "duration": 217,
    "start_time": "2025-01-11T10:56:03.304Z"
   },
   {
    "duration": 167,
    "start_time": "2025-01-11T10:56:03.523Z"
   },
   {
    "duration": 123,
    "start_time": "2025-01-11T10:56:03.692Z"
   },
   {
    "duration": 207,
    "start_time": "2025-01-11T10:56:03.816Z"
   },
   {
    "duration": 8,
    "start_time": "2025-01-11T10:56:04.026Z"
   },
   {
    "duration": 168,
    "start_time": "2025-01-11T10:56:04.035Z"
   },
   {
    "duration": 116,
    "start_time": "2025-01-11T10:56:04.204Z"
   },
   {
    "duration": 240,
    "start_time": "2025-01-11T10:56:04.322Z"
   },
   {
    "duration": 8,
    "start_time": "2025-01-11T10:56:04.563Z"
   },
   {
    "duration": 202,
    "start_time": "2025-01-11T10:56:04.573Z"
   },
   {
    "duration": 309,
    "start_time": "2025-01-11T10:56:04.776Z"
   },
   {
    "duration": 177,
    "start_time": "2025-01-11T10:56:05.087Z"
   },
   {
    "duration": 228,
    "start_time": "2025-01-11T10:56:05.266Z"
   },
   {
    "duration": 273,
    "start_time": "2025-01-11T10:56:05.496Z"
   },
   {
    "duration": 5,
    "start_time": "2025-01-11T10:56:05.770Z"
   },
   {
    "duration": 52,
    "start_time": "2025-01-11T10:56:05.776Z"
   },
   {
    "duration": 25,
    "start_time": "2025-01-11T10:56:05.829Z"
   },
   {
    "duration": 46,
    "start_time": "2025-01-11T10:56:05.855Z"
   },
   {
    "duration": 195,
    "start_time": "2025-01-11T10:56:05.903Z"
   },
   {
    "duration": 10,
    "start_time": "2025-01-11T10:56:06.099Z"
   },
   {
    "duration": 178,
    "start_time": "2025-01-11T10:56:06.111Z"
   },
   {
    "duration": 387,
    "start_time": "2025-01-11T10:56:06.290Z"
   },
   {
    "duration": 7,
    "start_time": "2025-01-11T10:56:06.679Z"
   },
   {
    "duration": 188,
    "start_time": "2025-01-11T10:56:06.687Z"
   },
   {
    "duration": 112,
    "start_time": "2025-01-11T10:56:06.876Z"
   },
   {
    "duration": 5,
    "start_time": "2025-01-11T10:56:06.990Z"
   },
   {
    "duration": 170,
    "start_time": "2025-01-11T10:56:06.996Z"
   },
   {
    "duration": 113,
    "start_time": "2025-01-11T10:56:07.167Z"
   },
   {
    "duration": 0,
    "start_time": "2025-01-11T10:56:07.281Z"
   },
   {
    "duration": 6,
    "start_time": "2025-01-11T10:57:12.257Z"
   },
   {
    "duration": 13,
    "start_time": "2025-01-11T10:57:55.104Z"
   },
   {
    "duration": 14,
    "start_time": "2025-01-11T10:58:04.496Z"
   },
   {
    "duration": 11,
    "start_time": "2025-01-11T10:58:13.624Z"
   },
   {
    "duration": 148,
    "start_time": "2025-01-11T10:58:47.368Z"
   },
   {
    "duration": 7,
    "start_time": "2025-01-11T10:58:53.841Z"
   },
   {
    "duration": 82,
    "start_time": "2025-01-11T10:58:54.720Z"
   },
   {
    "duration": 169,
    "start_time": "2025-01-11T11:00:30.897Z"
   },
   {
    "duration": 11,
    "start_time": "2025-01-11T11:08:28.385Z"
   },
   {
    "duration": 11,
    "start_time": "2025-01-11T11:08:39.506Z"
   },
   {
    "duration": 5,
    "start_time": "2025-01-11T11:08:50.489Z"
   },
   {
    "duration": 192,
    "start_time": "2025-01-11T11:08:51.232Z"
   },
   {
    "duration": 367,
    "start_time": "2025-01-11T11:15:27.842Z"
   },
   {
    "duration": 404,
    "start_time": "2025-01-11T11:15:49.617Z"
   },
   {
    "duration": 178,
    "start_time": "2025-01-11T11:16:41.138Z"
   },
   {
    "duration": 183,
    "start_time": "2025-01-11T11:17:38.100Z"
   },
   {
    "duration": 8,
    "start_time": "2025-01-11T11:18:05.089Z"
   },
   {
    "duration": 9,
    "start_time": "2025-01-11T11:18:12.886Z"
   },
   {
    "duration": 9,
    "start_time": "2025-01-11T11:18:19.384Z"
   },
   {
    "duration": 12,
    "start_time": "2025-01-11T11:19:19.945Z"
   },
   {
    "duration": 5,
    "start_time": "2025-01-11T11:19:27.177Z"
   },
   {
    "duration": 6,
    "start_time": "2025-01-11T11:19:29.336Z"
   },
   {
    "duration": 6,
    "start_time": "2025-01-11T11:19:29.866Z"
   },
   {
    "duration": 5,
    "start_time": "2025-01-11T11:19:32.960Z"
   },
   {
    "duration": 6,
    "start_time": "2025-01-11T11:19:33.369Z"
   },
   {
    "duration": 6,
    "start_time": "2025-01-11T11:19:33.795Z"
   },
   {
    "duration": 6,
    "start_time": "2025-01-11T11:19:34.216Z"
   },
   {
    "duration": 10,
    "start_time": "2025-01-11T11:19:34.705Z"
   },
   {
    "duration": 194,
    "start_time": "2025-01-11T11:45:23.633Z"
   },
   {
    "duration": 54,
    "start_time": "2025-01-11T11:53:44.053Z"
   },
   {
    "duration": 58,
    "start_time": "2025-01-11T11:55:29.276Z"
   },
   {
    "duration": 13,
    "start_time": "2025-01-11T11:55:59.219Z"
   },
   {
    "duration": 158,
    "start_time": "2025-01-11T11:56:12.331Z"
   },
   {
    "duration": 224,
    "start_time": "2025-01-11T11:56:19.825Z"
   },
   {
    "duration": 14,
    "start_time": "2025-01-11T11:56:30.665Z"
   },
   {
    "duration": 158,
    "start_time": "2025-01-11T11:56:36.209Z"
   },
   {
    "duration": 150,
    "start_time": "2025-01-11T11:56:41.561Z"
   },
   {
    "duration": 14,
    "start_time": "2025-01-11T11:58:43.345Z"
   },
   {
    "duration": 143,
    "start_time": "2025-01-11T11:58:53.169Z"
   },
   {
    "duration": 10,
    "start_time": "2025-01-11T12:22:04.480Z"
   },
   {
    "duration": 154,
    "start_time": "2025-01-11T12:24:20.984Z"
   },
   {
    "duration": 146,
    "start_time": "2025-01-11T12:36:15.425Z"
   },
   {
    "duration": 275,
    "start_time": "2025-01-11T12:36:34.546Z"
   },
   {
    "duration": 3786,
    "start_time": "2025-01-11T13:05:56.128Z"
   },
   {
    "duration": 291,
    "start_time": "2025-01-11T13:05:59.916Z"
   },
   {
    "duration": 16,
    "start_time": "2025-01-11T13:06:00.208Z"
   },
   {
    "duration": 60,
    "start_time": "2025-01-11T13:06:00.225Z"
   },
   {
    "duration": 48,
    "start_time": "2025-01-11T13:06:00.286Z"
   },
   {
    "duration": 35,
    "start_time": "2025-01-11T13:06:00.335Z"
   },
   {
    "duration": 72,
    "start_time": "2025-01-11T13:06:00.372Z"
   },
   {
    "duration": 32,
    "start_time": "2025-01-11T13:06:00.445Z"
   },
   {
    "duration": 23,
    "start_time": "2025-01-11T13:06:00.478Z"
   },
   {
    "duration": 71,
    "start_time": "2025-01-11T13:06:00.503Z"
   },
   {
    "duration": 37,
    "start_time": "2025-01-11T13:06:00.575Z"
   },
   {
    "duration": 16,
    "start_time": "2025-01-11T13:06:00.613Z"
   },
   {
    "duration": 32,
    "start_time": "2025-01-11T13:06:00.630Z"
   },
   {
    "duration": 29,
    "start_time": "2025-01-11T13:06:00.663Z"
   },
   {
    "duration": 52,
    "start_time": "2025-01-11T13:06:00.693Z"
   },
   {
    "duration": 40,
    "start_time": "2025-01-11T13:06:00.746Z"
   },
   {
    "duration": 19,
    "start_time": "2025-01-11T13:06:00.787Z"
   },
   {
    "duration": 59,
    "start_time": "2025-01-11T13:06:00.807Z"
   },
   {
    "duration": 65,
    "start_time": "2025-01-11T13:06:00.868Z"
   },
   {
    "duration": 3,
    "start_time": "2025-01-11T13:06:00.934Z"
   },
   {
    "duration": 25,
    "start_time": "2025-01-11T13:06:00.939Z"
   },
   {
    "duration": 51,
    "start_time": "2025-01-11T13:06:00.965Z"
   },
   {
    "duration": 200,
    "start_time": "2025-01-11T13:06:01.017Z"
   },
   {
    "duration": 220,
    "start_time": "2025-01-11T13:06:01.219Z"
   },
   {
    "duration": 172,
    "start_time": "2025-01-11T13:06:01.440Z"
   },
   {
    "duration": 122,
    "start_time": "2025-01-11T13:06:01.613Z"
   },
   {
    "duration": 219,
    "start_time": "2025-01-11T13:06:01.737Z"
   },
   {
    "duration": 9,
    "start_time": "2025-01-11T13:06:01.960Z"
   },
   {
    "duration": 200,
    "start_time": "2025-01-11T13:06:01.970Z"
   },
   {
    "duration": 117,
    "start_time": "2025-01-11T13:06:02.171Z"
   },
   {
    "duration": 215,
    "start_time": "2025-01-11T13:06:02.290Z"
   },
   {
    "duration": 9,
    "start_time": "2025-01-11T13:06:02.507Z"
   },
   {
    "duration": 175,
    "start_time": "2025-01-11T13:06:02.518Z"
   },
   {
    "duration": 362,
    "start_time": "2025-01-11T13:06:02.695Z"
   },
   {
    "duration": 179,
    "start_time": "2025-01-11T13:06:03.059Z"
   },
   {
    "duration": 241,
    "start_time": "2025-01-11T13:06:03.240Z"
   },
   {
    "duration": 251,
    "start_time": "2025-01-11T13:06:03.483Z"
   },
   {
    "duration": 3,
    "start_time": "2025-01-11T13:06:03.736Z"
   },
   {
    "duration": 33,
    "start_time": "2025-01-11T13:06:03.741Z"
   },
   {
    "duration": 35,
    "start_time": "2025-01-11T13:06:03.775Z"
   },
   {
    "duration": 42,
    "start_time": "2025-01-11T13:06:03.812Z"
   },
   {
    "duration": 18,
    "start_time": "2025-01-11T13:06:03.855Z"
   },
   {
    "duration": 426,
    "start_time": "2025-01-11T13:06:03.875Z"
   },
   {
    "duration": 8384,
    "start_time": "2025-01-11T14:46:09.511Z"
   },
   {
    "duration": 182,
    "start_time": "2025-01-11T14:46:17.898Z"
   },
   {
    "duration": 18,
    "start_time": "2025-01-11T14:46:18.082Z"
   },
   {
    "duration": 19,
    "start_time": "2025-01-11T14:46:18.102Z"
   },
   {
    "duration": 15,
    "start_time": "2025-01-11T14:46:18.123Z"
   },
   {
    "duration": 26,
    "start_time": "2025-01-11T14:46:18.140Z"
   },
   {
    "duration": 21,
    "start_time": "2025-01-11T14:46:18.168Z"
   },
   {
    "duration": 16,
    "start_time": "2025-01-11T14:46:18.191Z"
   },
   {
    "duration": 4,
    "start_time": "2025-01-11T14:46:18.209Z"
   },
   {
    "duration": 7,
    "start_time": "2025-01-11T14:46:18.216Z"
   },
   {
    "duration": 40,
    "start_time": "2025-01-11T14:46:18.226Z"
   },
   {
    "duration": 17,
    "start_time": "2025-01-11T14:46:18.268Z"
   },
   {
    "duration": 9,
    "start_time": "2025-01-11T14:46:18.287Z"
   },
   {
    "duration": 10,
    "start_time": "2025-01-11T14:46:18.299Z"
   },
   {
    "duration": 21,
    "start_time": "2025-01-11T14:46:18.311Z"
   },
   {
    "duration": 42,
    "start_time": "2025-01-11T14:46:18.333Z"
   },
   {
    "duration": 7,
    "start_time": "2025-01-11T14:46:18.376Z"
   },
   {
    "duration": 18,
    "start_time": "2025-01-11T14:46:18.385Z"
   },
   {
    "duration": 79,
    "start_time": "2025-01-11T14:46:18.404Z"
   },
   {
    "duration": 4,
    "start_time": "2025-01-11T14:46:18.485Z"
   },
   {
    "duration": 23,
    "start_time": "2025-01-11T14:46:18.491Z"
   },
   {
    "duration": 19,
    "start_time": "2025-01-11T14:46:18.516Z"
   },
   {
    "duration": 225,
    "start_time": "2025-01-11T14:46:18.536Z"
   },
   {
    "duration": 259,
    "start_time": "2025-01-11T14:46:18.762Z"
   },
   {
    "duration": 212,
    "start_time": "2025-01-11T14:46:19.023Z"
   },
   {
    "duration": 156,
    "start_time": "2025-01-11T14:46:19.236Z"
   },
   {
    "duration": 275,
    "start_time": "2025-01-11T14:46:19.393Z"
   },
   {
    "duration": 14,
    "start_time": "2025-01-11T14:46:19.672Z"
   },
   {
    "duration": 223,
    "start_time": "2025-01-11T14:46:19.688Z"
   },
   {
    "duration": 142,
    "start_time": "2025-01-11T14:46:19.913Z"
   },
   {
    "duration": 285,
    "start_time": "2025-01-11T14:46:20.060Z"
   },
   {
    "duration": 19,
    "start_time": "2025-01-11T14:46:20.347Z"
   },
   {
    "duration": 206,
    "start_time": "2025-01-11T14:46:20.368Z"
   },
   {
    "duration": 398,
    "start_time": "2025-01-11T14:46:20.576Z"
   },
   {
    "duration": 271,
    "start_time": "2025-01-11T14:46:20.976Z"
   },
   {
    "duration": 267,
    "start_time": "2025-01-11T14:46:21.250Z"
   },
   {
    "duration": 347,
    "start_time": "2025-01-11T14:46:21.519Z"
   },
   {
    "duration": 6,
    "start_time": "2025-01-11T14:46:21.868Z"
   },
   {
    "duration": 10,
    "start_time": "2025-01-11T14:46:21.875Z"
   },
   {
    "duration": 21,
    "start_time": "2025-01-11T14:46:21.887Z"
   },
   {
    "duration": 11,
    "start_time": "2025-01-11T14:46:21.910Z"
   },
   {
    "duration": 10,
    "start_time": "2025-01-11T14:46:21.923Z"
   },
   {
    "duration": 465,
    "start_time": "2025-01-11T14:46:21.935Z"
   },
   {
    "duration": 4441,
    "start_time": "2025-01-11T15:16:14.056Z"
   },
   {
    "duration": 438,
    "start_time": "2025-01-11T15:16:18.500Z"
   },
   {
    "duration": 21,
    "start_time": "2025-01-11T15:16:18.940Z"
   },
   {
    "duration": 32,
    "start_time": "2025-01-11T15:16:18.964Z"
   },
   {
    "duration": 12,
    "start_time": "2025-01-11T15:16:18.998Z"
   },
   {
    "duration": 11,
    "start_time": "2025-01-11T15:16:19.012Z"
   },
   {
    "duration": 19,
    "start_time": "2025-01-11T15:16:19.025Z"
   },
   {
    "duration": 36,
    "start_time": "2025-01-11T15:16:19.046Z"
   },
   {
    "duration": 5,
    "start_time": "2025-01-11T15:16:19.084Z"
   },
   {
    "duration": 16,
    "start_time": "2025-01-11T15:16:19.091Z"
   },
   {
    "duration": 11,
    "start_time": "2025-01-11T15:16:19.109Z"
   },
   {
    "duration": 41,
    "start_time": "2025-01-11T15:16:19.122Z"
   },
   {
    "duration": 13,
    "start_time": "2025-01-11T15:16:19.165Z"
   },
   {
    "duration": 14,
    "start_time": "2025-01-11T15:16:19.183Z"
   },
   {
    "duration": 16,
    "start_time": "2025-01-11T15:16:19.199Z"
   },
   {
    "duration": 40,
    "start_time": "2025-01-11T15:16:19.217Z"
   },
   {
    "duration": 13,
    "start_time": "2025-01-11T15:16:19.259Z"
   },
   {
    "duration": 14,
    "start_time": "2025-01-11T15:16:19.274Z"
   },
   {
    "duration": 98,
    "start_time": "2025-01-11T15:16:19.290Z"
   },
   {
    "duration": 4,
    "start_time": "2025-01-11T15:16:19.390Z"
   },
   {
    "duration": 13,
    "start_time": "2025-01-11T15:16:19.396Z"
   },
   {
    "duration": 24,
    "start_time": "2025-01-11T15:16:19.411Z"
   },
   {
    "duration": 269,
    "start_time": "2025-01-11T15:16:19.437Z"
   },
   {
    "duration": 290,
    "start_time": "2025-01-11T15:16:19.708Z"
   },
   {
    "duration": 230,
    "start_time": "2025-01-11T15:16:19.999Z"
   },
   {
    "duration": 173,
    "start_time": "2025-01-11T15:16:20.231Z"
   },
   {
    "duration": 284,
    "start_time": "2025-01-11T15:16:20.406Z"
   },
   {
    "duration": 10,
    "start_time": "2025-01-11T15:16:20.691Z"
   },
   {
    "duration": 386,
    "start_time": "2025-01-11T15:16:20.703Z"
   },
   {
    "duration": 256,
    "start_time": "2025-01-11T15:16:21.090Z"
   },
   {
    "duration": 327,
    "start_time": "2025-01-11T15:16:21.348Z"
   },
   {
    "duration": 15,
    "start_time": "2025-01-11T15:16:21.678Z"
   },
   {
    "duration": 255,
    "start_time": "2025-01-11T15:16:21.699Z"
   },
   {
    "duration": 398,
    "start_time": "2025-01-11T15:16:21.965Z"
   },
   {
    "duration": 309,
    "start_time": "2025-01-11T15:16:22.365Z"
   },
   {
    "duration": 336,
    "start_time": "2025-01-11T15:16:22.676Z"
   },
   {
    "duration": 478,
    "start_time": "2025-01-11T15:16:23.014Z"
   },
   {
    "duration": 5,
    "start_time": "2025-01-11T15:16:23.494Z"
   },
   {
    "duration": 62,
    "start_time": "2025-01-11T15:16:23.500Z"
   },
   {
    "duration": 8,
    "start_time": "2025-01-11T15:16:23.564Z"
   },
   {
    "duration": 39,
    "start_time": "2025-01-11T15:16:23.576Z"
   },
   {
    "duration": 49,
    "start_time": "2025-01-11T15:16:23.616Z"
   },
   {
    "duration": 838,
    "start_time": "2025-01-11T15:16:23.667Z"
   },
   {
    "duration": 7,
    "start_time": "2025-01-11T15:28:11.282Z"
   },
   {
    "duration": 47,
    "start_time": "2025-01-11T17:37:34.291Z"
   },
   {
    "duration": 4739,
    "start_time": "2025-01-11T17:38:10.546Z"
   },
   {
    "duration": 239,
    "start_time": "2025-01-11T17:38:15.287Z"
   },
   {
    "duration": 15,
    "start_time": "2025-01-11T17:38:15.528Z"
   },
   {
    "duration": 13,
    "start_time": "2025-01-11T17:38:15.545Z"
   },
   {
    "duration": 9,
    "start_time": "2025-01-11T17:38:15.560Z"
   },
   {
    "duration": 12,
    "start_time": "2025-01-11T17:38:15.571Z"
   },
   {
    "duration": 41,
    "start_time": "2025-01-11T17:38:15.585Z"
   },
   {
    "duration": 14,
    "start_time": "2025-01-11T17:38:15.627Z"
   },
   {
    "duration": 32,
    "start_time": "2025-01-11T17:38:15.643Z"
   },
   {
    "duration": 8,
    "start_time": "2025-01-11T17:38:15.678Z"
   },
   {
    "duration": 11,
    "start_time": "2025-01-11T17:38:15.688Z"
   },
   {
    "duration": 10,
    "start_time": "2025-01-11T17:38:15.700Z"
   },
   {
    "duration": 6,
    "start_time": "2025-01-11T17:38:15.712Z"
   },
   {
    "duration": 12,
    "start_time": "2025-01-11T17:38:15.719Z"
   },
   {
    "duration": 9,
    "start_time": "2025-01-11T17:38:15.732Z"
   },
   {
    "duration": 36,
    "start_time": "2025-01-11T17:38:15.742Z"
   },
   {
    "duration": 5,
    "start_time": "2025-01-11T17:38:15.779Z"
   },
   {
    "duration": 22,
    "start_time": "2025-01-11T17:38:15.786Z"
   },
   {
    "duration": 58,
    "start_time": "2025-01-11T17:38:15.810Z"
   },
   {
    "duration": 98,
    "start_time": "2025-01-11T17:38:15.870Z"
   },
   {
    "duration": 0,
    "start_time": "2025-01-11T17:38:15.970Z"
   },
   {
    "duration": 0,
    "start_time": "2025-01-11T17:38:15.971Z"
   },
   {
    "duration": 0,
    "start_time": "2025-01-11T17:38:15.972Z"
   },
   {
    "duration": 0,
    "start_time": "2025-01-11T17:38:15.973Z"
   },
   {
    "duration": 0,
    "start_time": "2025-01-11T17:38:15.974Z"
   },
   {
    "duration": 0,
    "start_time": "2025-01-11T17:38:15.975Z"
   },
   {
    "duration": 0,
    "start_time": "2025-01-11T17:38:15.976Z"
   },
   {
    "duration": 0,
    "start_time": "2025-01-11T17:38:15.977Z"
   },
   {
    "duration": 0,
    "start_time": "2025-01-11T17:38:15.978Z"
   },
   {
    "duration": 0,
    "start_time": "2025-01-11T17:38:15.979Z"
   },
   {
    "duration": 0,
    "start_time": "2025-01-11T17:38:15.980Z"
   },
   {
    "duration": 0,
    "start_time": "2025-01-11T17:38:15.982Z"
   },
   {
    "duration": 0,
    "start_time": "2025-01-11T17:38:15.983Z"
   },
   {
    "duration": 0,
    "start_time": "2025-01-11T17:38:15.984Z"
   },
   {
    "duration": 0,
    "start_time": "2025-01-11T17:38:15.985Z"
   },
   {
    "duration": 0,
    "start_time": "2025-01-11T17:38:15.986Z"
   },
   {
    "duration": 0,
    "start_time": "2025-01-11T17:38:15.987Z"
   },
   {
    "duration": 0,
    "start_time": "2025-01-11T17:38:15.988Z"
   },
   {
    "duration": 0,
    "start_time": "2025-01-11T17:38:16.022Z"
   },
   {
    "duration": 1,
    "start_time": "2025-01-11T17:38:16.023Z"
   },
   {
    "duration": 0,
    "start_time": "2025-01-11T17:38:16.025Z"
   },
   {
    "duration": 0,
    "start_time": "2025-01-11T17:38:16.026Z"
   },
   {
    "duration": 0,
    "start_time": "2025-01-11T17:38:16.027Z"
   },
   {
    "duration": 3,
    "start_time": "2025-01-11T17:42:16.027Z"
   },
   {
    "duration": 3410,
    "start_time": "2025-01-11T17:42:28.157Z"
   },
   {
    "duration": 157,
    "start_time": "2025-01-11T17:42:31.570Z"
   },
   {
    "duration": 14,
    "start_time": "2025-01-11T17:42:31.729Z"
   },
   {
    "duration": 35,
    "start_time": "2025-01-11T17:42:31.745Z"
   },
   {
    "duration": 28,
    "start_time": "2025-01-11T17:42:31.782Z"
   },
   {
    "duration": 16,
    "start_time": "2025-01-11T17:42:31.811Z"
   },
   {
    "duration": 11,
    "start_time": "2025-01-11T17:42:31.828Z"
   },
   {
    "duration": 19,
    "start_time": "2025-01-11T17:42:31.841Z"
   },
   {
    "duration": 3,
    "start_time": "2025-01-11T17:42:31.862Z"
   },
   {
    "duration": 19,
    "start_time": "2025-01-11T17:42:31.867Z"
   },
   {
    "duration": 12,
    "start_time": "2025-01-11T17:42:31.887Z"
   },
   {
    "duration": 20,
    "start_time": "2025-01-11T17:42:31.900Z"
   },
   {
    "duration": 6,
    "start_time": "2025-01-11T17:42:31.922Z"
   },
   {
    "duration": 19,
    "start_time": "2025-01-11T17:42:31.929Z"
   },
   {
    "duration": 9,
    "start_time": "2025-01-11T17:42:31.950Z"
   },
   {
    "duration": 20,
    "start_time": "2025-01-11T17:42:31.960Z"
   },
   {
    "duration": 12,
    "start_time": "2025-01-11T17:42:31.981Z"
   },
   {
    "duration": 9,
    "start_time": "2025-01-11T17:42:31.994Z"
   },
   {
    "duration": 63,
    "start_time": "2025-01-11T17:42:32.004Z"
   },
   {
    "duration": 4,
    "start_time": "2025-01-11T17:42:32.069Z"
   },
   {
    "duration": 26,
    "start_time": "2025-01-11T17:42:32.074Z"
   },
   {
    "duration": 23,
    "start_time": "2025-01-11T17:42:32.101Z"
   },
   {
    "duration": 168,
    "start_time": "2025-01-11T17:42:32.125Z"
   },
   {
    "duration": 251,
    "start_time": "2025-01-11T17:42:32.294Z"
   },
   {
    "duration": 188,
    "start_time": "2025-01-11T17:42:32.546Z"
   },
   {
    "duration": 138,
    "start_time": "2025-01-11T17:42:32.736Z"
   },
   {
    "duration": 235,
    "start_time": "2025-01-11T17:42:32.875Z"
   },
   {
    "duration": 14,
    "start_time": "2025-01-11T17:42:33.113Z"
   },
   {
    "duration": 172,
    "start_time": "2025-01-11T17:42:33.129Z"
   },
   {
    "duration": 140,
    "start_time": "2025-01-11T17:42:33.302Z"
   },
   {
    "duration": 321,
    "start_time": "2025-01-11T17:42:33.444Z"
   },
   {
    "duration": 8,
    "start_time": "2025-01-11T17:42:33.767Z"
   },
   {
    "duration": 174,
    "start_time": "2025-01-11T17:42:33.777Z"
   },
   {
    "duration": 334,
    "start_time": "2025-01-11T17:42:33.952Z"
   },
   {
    "duration": 190,
    "start_time": "2025-01-11T17:42:34.289Z"
   },
   {
    "duration": 205,
    "start_time": "2025-01-11T17:42:34.481Z"
   },
   {
    "duration": 302,
    "start_time": "2025-01-11T17:42:34.688Z"
   },
   {
    "duration": 5,
    "start_time": "2025-01-11T17:42:34.992Z"
   },
   {
    "duration": 26,
    "start_time": "2025-01-11T17:42:34.998Z"
   },
   {
    "duration": 13,
    "start_time": "2025-01-11T17:42:35.026Z"
   },
   {
    "duration": 11,
    "start_time": "2025-01-11T17:42:35.040Z"
   },
   {
    "duration": 10,
    "start_time": "2025-01-11T17:42:35.053Z"
   },
   {
    "duration": 417,
    "start_time": "2025-01-11T17:42:35.065Z"
   },
   {
    "duration": 103,
    "start_time": "2025-01-11T17:46:58.771Z"
   },
   {
    "duration": 119,
    "start_time": "2025-01-11T17:47:13.147Z"
   },
   {
    "duration": 197,
    "start_time": "2025-01-11T17:53:36.472Z"
   },
   {
    "duration": 7,
    "start_time": "2025-01-11T17:55:03.358Z"
   },
   {
    "duration": 78,
    "start_time": "2025-01-11T17:57:03.011Z"
   },
   {
    "duration": 4,
    "start_time": "2025-01-11T17:57:26.234Z"
   },
   {
    "duration": 3,
    "start_time": "2025-01-11T17:57:39.419Z"
   },
   {
    "duration": 7,
    "start_time": "2025-01-11T17:58:11.091Z"
   },
   {
    "duration": 9,
    "start_time": "2025-01-11T17:58:30.404Z"
   },
   {
    "duration": 11,
    "start_time": "2025-01-11T17:59:14.619Z"
   },
   {
    "duration": 235,
    "start_time": "2025-01-11T17:59:22.187Z"
   },
   {
    "duration": 13,
    "start_time": "2025-01-11T18:00:06.852Z"
   },
   {
    "duration": 189,
    "start_time": "2025-01-11T18:00:07.716Z"
   },
   {
    "duration": 13,
    "start_time": "2025-01-11T18:00:33.801Z"
   },
   {
    "duration": 192,
    "start_time": "2025-01-11T18:00:33.964Z"
   },
   {
    "duration": 9,
    "start_time": "2025-01-11T18:00:43.847Z"
   },
   {
    "duration": 267,
    "start_time": "2025-01-11T18:00:45.812Z"
   },
   {
    "duration": 5,
    "start_time": "2025-01-11T18:01:19.955Z"
   },
   {
    "duration": 9,
    "start_time": "2025-01-11T18:01:33.564Z"
   },
   {
    "duration": 3,
    "start_time": "2025-01-11T18:01:34.139Z"
   },
   {
    "duration": 175,
    "start_time": "2025-01-11T18:01:43.147Z"
   },
   {
    "duration": 7,
    "start_time": "2025-01-11T18:02:06.060Z"
   },
   {
    "duration": 10,
    "start_time": "2025-01-11T18:02:51.003Z"
   },
   {
    "duration": 4,
    "start_time": "2025-01-11T18:02:51.571Z"
   },
   {
    "duration": 6,
    "start_time": "2025-01-11T18:02:54.652Z"
   },
   {
    "duration": 329,
    "start_time": "2025-01-11T18:02:56.051Z"
   },
   {
    "duration": 12,
    "start_time": "2025-01-11T18:03:12.852Z"
   },
   {
    "duration": 13,
    "start_time": "2025-01-11T18:03:32.669Z"
   },
   {
    "duration": 11,
    "start_time": "2025-01-11T18:03:46.213Z"
   },
   {
    "duration": 77,
    "start_time": "2025-01-11T18:08:38.685Z"
   },
   {
    "duration": 4,
    "start_time": "2025-01-11T18:08:39.508Z"
   },
   {
    "duration": 8,
    "start_time": "2025-01-11T18:08:45.596Z"
   },
   {
    "duration": 4,
    "start_time": "2025-01-11T18:08:46.307Z"
   },
   {
    "duration": 5,
    "start_time": "2025-01-11T18:08:47.113Z"
   },
   {
    "duration": 5,
    "start_time": "2025-01-11T18:08:49.388Z"
   },
   {
    "duration": 169,
    "start_time": "2025-01-11T18:08:51.980Z"
   },
   {
    "duration": 164,
    "start_time": "2025-01-11T18:10:04.508Z"
   },
   {
    "duration": 162,
    "start_time": "2025-01-11T18:10:29.246Z"
   },
   {
    "duration": 171,
    "start_time": "2025-01-11T18:10:38.380Z"
   },
   {
    "duration": 181,
    "start_time": "2025-01-11T18:10:52.363Z"
   },
   {
    "duration": 156,
    "start_time": "2025-01-11T18:11:24.548Z"
   },
   {
    "duration": 180,
    "start_time": "2025-01-11T18:11:42.307Z"
   },
   {
    "duration": 316,
    "start_time": "2025-01-11T18:15:47.669Z"
   },
   {
    "duration": 176,
    "start_time": "2025-01-11T18:15:56.254Z"
   },
   {
    "duration": 132,
    "start_time": "2025-01-11T18:16:02.591Z"
   },
   {
    "duration": 181,
    "start_time": "2025-01-11T18:16:12.112Z"
   },
   {
    "duration": 9,
    "start_time": "2025-01-11T18:16:20.461Z"
   },
   {
    "duration": 107,
    "start_time": "2025-01-11T18:16:25.908Z"
   },
   {
    "duration": 164,
    "start_time": "2025-01-11T18:16:39.908Z"
   },
   {
    "duration": 279,
    "start_time": "2025-01-11T18:17:09.765Z"
   },
   {
    "duration": 158,
    "start_time": "2025-01-11T18:17:41.014Z"
   },
   {
    "duration": 160,
    "start_time": "2025-01-11T18:17:45.828Z"
   },
   {
    "duration": 299,
    "start_time": "2025-01-11T18:17:53.909Z"
   },
   {
    "duration": 7,
    "start_time": "2025-01-11T18:37:25.812Z"
   },
   {
    "duration": 6,
    "start_time": "2025-01-11T18:37:35.296Z"
   },
   {
    "duration": 9,
    "start_time": "2025-01-11T18:37:53.764Z"
   },
   {
    "duration": 233,
    "start_time": "2025-01-11T18:38:50.342Z"
   },
   {
    "duration": 260,
    "start_time": "2025-01-11T18:39:15.407Z"
   },
   {
    "duration": 157,
    "start_time": "2025-01-11T18:39:24.384Z"
   },
   {
    "duration": 176,
    "start_time": "2025-01-11T18:39:31.862Z"
   },
   {
    "duration": 174,
    "start_time": "2025-01-11T18:40:23.895Z"
   },
   {
    "duration": 10501,
    "start_time": "2025-01-11T18:40:53.221Z"
   },
   {
    "duration": 185,
    "start_time": "2025-01-11T18:41:54.053Z"
   },
   {
    "duration": 313,
    "start_time": "2025-01-11T18:42:15.413Z"
   },
   {
    "duration": 167,
    "start_time": "2025-01-11T18:42:39.492Z"
   },
   {
    "duration": 5,
    "start_time": "2025-01-11T18:42:54.093Z"
   },
   {
    "duration": 170,
    "start_time": "2025-01-11T18:42:54.573Z"
   },
   {
    "duration": 158,
    "start_time": "2025-01-11T18:42:58.781Z"
   },
   {
    "duration": 162,
    "start_time": "2025-01-11T18:46:37.742Z"
   },
   {
    "duration": 8,
    "start_time": "2025-01-11T18:51:28.901Z"
   },
   {
    "duration": 14,
    "start_time": "2025-01-11T18:51:39.252Z"
   },
   {
    "duration": 15,
    "start_time": "2025-01-11T18:52:42.453Z"
   },
   {
    "duration": 15,
    "start_time": "2025-01-11T18:53:06.908Z"
   },
   {
    "duration": 14,
    "start_time": "2025-01-11T18:53:55.685Z"
   },
   {
    "duration": 5164,
    "start_time": "2025-01-11T18:54:12.069Z"
   },
   {
    "duration": 1294,
    "start_time": "2025-01-11T18:54:50.757Z"
   },
   {
    "duration": 16,
    "start_time": "2025-01-11T18:55:15.254Z"
   },
   {
    "duration": 1440,
    "start_time": "2025-01-11T18:55:23.021Z"
   },
   {
    "duration": 12252,
    "start_time": "2025-01-11T18:55:40.207Z"
   },
   {
    "duration": 8336,
    "start_time": "2025-01-11T18:56:28.237Z"
   },
   {
    "duration": 15,
    "start_time": "2025-01-11T18:56:54.189Z"
   },
   {
    "duration": 8132,
    "start_time": "2025-01-11T18:56:55.630Z"
   },
   {
    "duration": 14,
    "start_time": "2025-01-11T18:57:21.333Z"
   },
   {
    "duration": 3639,
    "start_time": "2025-01-11T18:57:27.144Z"
   },
   {
    "duration": 180,
    "start_time": "2025-01-11T18:57:30.786Z"
   },
   {
    "duration": 17,
    "start_time": "2025-01-11T18:57:30.967Z"
   },
   {
    "duration": 24,
    "start_time": "2025-01-11T18:57:30.987Z"
   },
   {
    "duration": 11,
    "start_time": "2025-01-11T18:57:31.013Z"
   },
   {
    "duration": 34,
    "start_time": "2025-01-11T18:57:31.026Z"
   },
   {
    "duration": 13,
    "start_time": "2025-01-11T18:57:31.062Z"
   },
   {
    "duration": 22,
    "start_time": "2025-01-11T18:57:31.076Z"
   },
   {
    "duration": 58,
    "start_time": "2025-01-11T18:57:31.100Z"
   },
   {
    "duration": 5,
    "start_time": "2025-01-11T18:57:31.162Z"
   },
   {
    "duration": 19,
    "start_time": "2025-01-11T18:57:31.169Z"
   },
   {
    "duration": 13,
    "start_time": "2025-01-11T18:57:31.190Z"
   },
   {
    "duration": 8,
    "start_time": "2025-01-11T18:57:31.205Z"
   },
   {
    "duration": 11,
    "start_time": "2025-01-11T18:57:31.215Z"
   },
   {
    "duration": 16,
    "start_time": "2025-01-11T18:57:31.228Z"
   },
   {
    "duration": 23,
    "start_time": "2025-01-11T18:57:31.245Z"
   },
   {
    "duration": 6,
    "start_time": "2025-01-11T18:57:31.270Z"
   },
   {
    "duration": 15,
    "start_time": "2025-01-11T18:57:31.278Z"
   },
   {
    "duration": 91,
    "start_time": "2025-01-11T18:57:31.294Z"
   },
   {
    "duration": 4,
    "start_time": "2025-01-11T18:57:31.387Z"
   },
   {
    "duration": 30,
    "start_time": "2025-01-11T18:57:31.393Z"
   },
   {
    "duration": 13,
    "start_time": "2025-01-11T18:57:31.424Z"
   },
   {
    "duration": 185,
    "start_time": "2025-01-11T18:57:31.439Z"
   },
   {
    "duration": 236,
    "start_time": "2025-01-11T18:57:31.625Z"
   },
   {
    "duration": 195,
    "start_time": "2025-01-11T18:57:31.862Z"
   },
   {
    "duration": 140,
    "start_time": "2025-01-11T18:57:32.059Z"
   },
   {
    "duration": 8,
    "start_time": "2025-01-11T18:57:32.201Z"
   },
   {
    "duration": 181,
    "start_time": "2025-01-11T18:57:32.221Z"
   },
   {
    "duration": 26,
    "start_time": "2025-01-11T18:57:32.405Z"
   },
   {
    "duration": 192,
    "start_time": "2025-01-11T18:57:32.434Z"
   },
   {
    "duration": 125,
    "start_time": "2025-01-11T18:57:32.627Z"
   },
   {
    "duration": 249,
    "start_time": "2025-01-11T18:57:32.753Z"
   },
   {
    "duration": 21,
    "start_time": "2025-01-11T18:57:33.004Z"
   },
   {
    "duration": 172,
    "start_time": "2025-01-11T18:57:33.027Z"
   },
   {
    "duration": 361,
    "start_time": "2025-01-11T18:57:33.200Z"
   },
   {
    "duration": 199,
    "start_time": "2025-01-11T18:57:33.563Z"
   },
   {
    "duration": 215,
    "start_time": "2025-01-11T18:57:33.764Z"
   },
   {
    "duration": 308,
    "start_time": "2025-01-11T18:57:33.980Z"
   },
   {
    "duration": 5,
    "start_time": "2025-01-11T18:57:34.289Z"
   },
   {
    "duration": 193,
    "start_time": "2025-01-11T18:57:34.295Z"
   },
   {
    "duration": 173,
    "start_time": "2025-01-11T18:57:34.490Z"
   },
   {
    "duration": 14,
    "start_time": "2025-01-11T18:57:34.665Z"
   },
   {
    "duration": 204,
    "start_time": "2025-01-11T18:57:34.680Z"
   },
   {
    "duration": 413,
    "start_time": "2025-01-11T18:57:34.885Z"
   },
   {
    "duration": 170,
    "start_time": "2025-01-11T19:00:36.584Z"
   },
   {
    "duration": 240,
    "start_time": "2025-01-11T19:00:58.624Z"
   },
   {
    "duration": 302,
    "start_time": "2025-01-11T19:01:25.432Z"
   },
   {
    "duration": 5,
    "start_time": "2025-01-11T19:02:21.425Z"
   },
   {
    "duration": 9,
    "start_time": "2025-01-11T19:02:21.961Z"
   },
   {
    "duration": 194,
    "start_time": "2025-01-11T19:02:22.769Z"
   },
   {
    "duration": 197,
    "start_time": "2025-01-11T19:03:06.138Z"
   },
   {
    "duration": 219,
    "start_time": "2025-01-11T19:03:14.864Z"
   },
   {
    "duration": 206,
    "start_time": "2025-01-11T19:03:39.080Z"
   },
   {
    "duration": 349,
    "start_time": "2025-01-11T19:05:09.617Z"
   },
   {
    "duration": 216,
    "start_time": "2025-01-11T19:06:51.058Z"
   },
   {
    "duration": 319,
    "start_time": "2025-01-11T19:07:01.731Z"
   },
   {
    "duration": 302,
    "start_time": "2025-01-11T19:07:28.849Z"
   },
   {
    "duration": 210,
    "start_time": "2025-01-11T19:09:54.825Z"
   },
   {
    "duration": 99,
    "start_time": "2025-01-11T19:10:24.769Z"
   },
   {
    "duration": 6,
    "start_time": "2025-01-11T19:10:34.384Z"
   },
   {
    "duration": 78,
    "start_time": "2025-01-11T19:10:34.904Z"
   },
   {
    "duration": 13,
    "start_time": "2025-01-11T19:10:56.010Z"
   },
   {
    "duration": 10826,
    "start_time": "2025-01-11T19:10:57.352Z"
   },
   {
    "duration": 13,
    "start_time": "2025-01-11T19:11:34.001Z"
   },
   {
    "duration": 217,
    "start_time": "2025-01-11T19:11:37.649Z"
   },
   {
    "duration": 203,
    "start_time": "2025-01-11T19:11:51.992Z"
   },
   {
    "duration": 250,
    "start_time": "2025-01-11T19:11:58.208Z"
   },
   {
    "duration": 496,
    "start_time": "2025-01-11T19:12:24.056Z"
   },
   {
    "duration": 360,
    "start_time": "2025-01-11T19:12:38.689Z"
   },
   {
    "duration": 369,
    "start_time": "2025-01-11T19:12:49.880Z"
   },
   {
    "duration": 349,
    "start_time": "2025-01-11T19:13:26.009Z"
   },
   {
    "duration": 347,
    "start_time": "2025-01-11T19:13:31.304Z"
   },
   {
    "duration": 213,
    "start_time": "2025-01-11T19:23:51.039Z"
   },
   {
    "duration": 343,
    "start_time": "2025-01-11T19:24:38.072Z"
   },
   {
    "duration": 5262,
    "start_time": "2025-01-12T06:58:54.595Z"
   },
   {
    "duration": 226,
    "start_time": "2025-01-12T06:58:59.859Z"
   },
   {
    "duration": 17,
    "start_time": "2025-01-12T06:59:00.087Z"
   },
   {
    "duration": 31,
    "start_time": "2025-01-12T06:59:00.106Z"
   },
   {
    "duration": 37,
    "start_time": "2025-01-12T06:59:00.138Z"
   },
   {
    "duration": 83,
    "start_time": "2025-01-12T06:59:00.176Z"
   },
   {
    "duration": 55,
    "start_time": "2025-01-12T06:59:00.260Z"
   },
   {
    "duration": 51,
    "start_time": "2025-01-12T06:59:00.316Z"
   },
   {
    "duration": 19,
    "start_time": "2025-01-12T06:59:00.369Z"
   },
   {
    "duration": 22,
    "start_time": "2025-01-12T06:59:00.392Z"
   },
   {
    "duration": 30,
    "start_time": "2025-01-12T06:59:00.415Z"
   },
   {
    "duration": 34,
    "start_time": "2025-01-12T06:59:00.446Z"
   },
   {
    "duration": 30,
    "start_time": "2025-01-12T06:59:00.482Z"
   },
   {
    "duration": 23,
    "start_time": "2025-01-12T06:59:00.514Z"
   },
   {
    "duration": 24,
    "start_time": "2025-01-12T06:59:00.539Z"
   },
   {
    "duration": 40,
    "start_time": "2025-01-12T06:59:00.565Z"
   },
   {
    "duration": 17,
    "start_time": "2025-01-12T06:59:00.607Z"
   },
   {
    "duration": 39,
    "start_time": "2025-01-12T06:59:00.626Z"
   },
   {
    "duration": 62,
    "start_time": "2025-01-12T06:59:00.667Z"
   },
   {
    "duration": 5,
    "start_time": "2025-01-12T06:59:00.730Z"
   },
   {
    "duration": 34,
    "start_time": "2025-01-12T06:59:00.736Z"
   },
   {
    "duration": 13,
    "start_time": "2025-01-12T06:59:00.772Z"
   },
   {
    "duration": 183,
    "start_time": "2025-01-12T06:59:00.787Z"
   },
   {
    "duration": 238,
    "start_time": "2025-01-12T06:59:00.972Z"
   },
   {
    "duration": 196,
    "start_time": "2025-01-12T06:59:01.212Z"
   },
   {
    "duration": 147,
    "start_time": "2025-01-12T06:59:01.410Z"
   },
   {
    "duration": 9,
    "start_time": "2025-01-12T06:59:01.559Z"
   },
   {
    "duration": 194,
    "start_time": "2025-01-12T06:59:01.572Z"
   },
   {
    "duration": 10,
    "start_time": "2025-01-12T06:59:01.768Z"
   },
   {
    "duration": 209,
    "start_time": "2025-01-12T06:59:01.780Z"
   },
   {
    "duration": 135,
    "start_time": "2025-01-12T06:59:01.990Z"
   },
   {
    "duration": 264,
    "start_time": "2025-01-12T06:59:02.127Z"
   },
   {
    "duration": 10,
    "start_time": "2025-01-12T06:59:02.392Z"
   },
   {
    "duration": 211,
    "start_time": "2025-01-12T06:59:02.404Z"
   },
   {
    "duration": 370,
    "start_time": "2025-01-12T06:59:02.617Z"
   },
   {
    "duration": 206,
    "start_time": "2025-01-12T06:59:02.989Z"
   },
   {
    "duration": 240,
    "start_time": "2025-01-12T06:59:03.197Z"
   },
   {
    "duration": 280,
    "start_time": "2025-01-12T06:59:03.439Z"
   },
   {
    "duration": 5,
    "start_time": "2025-01-12T06:59:03.720Z"
   },
   {
    "duration": 14,
    "start_time": "2025-01-12T06:59:03.737Z"
   },
   {
    "duration": 250,
    "start_time": "2025-01-12T06:59:03.752Z"
   },
   {
    "duration": 365,
    "start_time": "2025-01-12T06:59:04.003Z"
   },
   {
    "duration": 396,
    "start_time": "2025-01-12T06:59:04.370Z"
   }
  ],
  "colab": {
   "provenance": []
  },
  "kernelspec": {
   "display_name": "Python 3 (ipykernel)",
   "language": "python",
   "name": "python3"
  },
  "language_info": {
   "codemirror_mode": {
    "name": "ipython",
    "version": 3
   },
   "file_extension": ".py",
   "mimetype": "text/x-python",
   "name": "python",
   "nbconvert_exporter": "python",
   "pygments_lexer": "ipython3",
   "version": "3.9.5"
  },
  "toc": {
   "base_numbering": 1,
   "nav_menu": {},
   "number_sections": true,
   "sideBar": true,
   "skip_h1_title": true,
   "title_cell": "Table of Contents",
   "title_sidebar": "Contents",
   "toc_cell": false,
   "toc_position": {},
   "toc_section_display": true,
   "toc_window_display": false
  }
 },
 "nbformat": 4,
 "nbformat_minor": 5
}
