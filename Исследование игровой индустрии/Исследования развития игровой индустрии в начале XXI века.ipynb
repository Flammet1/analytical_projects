{
 "cells": [
  {
   "cell_type": "markdown",
   "id": "e06910dd",
   "metadata": {},
   "source": [
    "# Исследования развития игровой индустрии в начале XXI века\n",
    "----------------------------------------------------------------------------------------------------------------------\n",
    "\n",
    "- Автор: Григорьев Константин \n",
    "- Дата: 28.11.2024"
   ]
  },
  {
   "cell_type": "markdown",
   "id": "4149134c",
   "metadata": {},
   "source": [
    "### Цели и задачи проекта\n",
    "----------------------------\n",
    "\n",
    "Цель проекта познакомиться с данными, проверить их корректность и провести предобработку, получив необходимый срез данных, сделать анализ на полученных данных и выводы для статьи о развитии игровой индустрии в начале XXI века.\n",
    "\n",
    "Перед анализом необходимо дополнительно сделать следующее:\n",
    "\n",
    "- Отобрать данные по времени выхода игры. Нужен период с `2000` по `2013` год включительно.;\n",
    "- Категоризовать игры по оценкам пользователей и экспертов. Выделите три категории:;\n",
    " - `высокая оценка` — с оценкой от `8 до 10` и `от 80 до 100`, включая правые границы интервалов.;\n",
    " - `средняя оценка` — с оценкой от `3 до 8` и от `30 до 80`, не включая правые границы интервалов.;\n",
    " - `низкая оценка` — с оценкой от `0 до 3` и от `0 до 30`, не включая правые границы интервалов.;\n",
    " \n",
    "- Выделить топ-7 платформ по количеству игр, выпущенных за весь требуемый период.;"
   ]
  },
  {
   "cell_type": "markdown",
   "id": "728986ea",
   "metadata": {},
   "source": [
    "### Описание данных\n",
    "----------------\n",
    "\n",
    "Данные `/datasets/new_games.csv` содержат информацию о продажах игр разных жанров и платформ, а также пользовательские и экспертные оценки игр за период с 2000 по 2013 год включительно:\n",
    "- `Name` — название игры.;\n",
    "- `Platform` — название платформы.;\n",
    "- `Year of Release` — год выпуска игры.;\n",
    "- `Genre` — жанр игры.;\n",
    "- `NA sales` — продажи в Северной Америке (в миллионах проданных копий).;\n",
    "- `EU sales` — продажи в Европе (в миллионах проданных копий).;\n",
    "- `JP sales` — продажи в Японии (в миллионах проданных копий).;\n",
    "- `Other sales` — продажи в других странах (в миллионах проданных копий).;\n",
    "- `Critic Score` — оценка критиков (от 0 до 100).;\n",
    "- `User Score` — оценка пользователей (от 0 до 10).;\n",
    "- `Rating` — рейтинг организации ESRB (англ. Entertainment Software Rating Board). Эта ассоциация определяет рейтинг компьютерных игр и присваивает им подходящую возрастную категорию.;\n",
    "\n",
    "Для разделения на категории были добавлены следующие поля:\n",
    "- `user_score_group` - высокая оценка — с оценкой от 8 до 10, средняя оценка — с оценкой от 3 до 8, низкая оценка — с оценкой от 0 до 3;\n",
    "- `critic_score_group` - высокая оценка — с оценкой от 80 до 100, средняя оценка — с оценкой 30 до 80, низкая оценка — с оценкой от 0 до 30;"
   ]
  },
  {
   "cell_type": "markdown",
   "id": "4fecaf95",
   "metadata": {},
   "source": [
    "### Содержимое проекта\n",
    "--------------------------\n",
    "\n",
    "1. Загрузка и знакомство с данными.\n",
    "2. Проверка ошибок в данных и их предобработка.\n",
    "3. Фильтрация данных.\n",
    "4. Категоризация данных.\n",
    "5. Итоговый вывод."
   ]
  },
  {
   "cell_type": "markdown",
   "id": "1e91e925",
   "metadata": {},
   "source": [
    "### Описание проекта: \n",
    "----\n",
    "\n",
    "В ходе работы над сделаем предобработку данных датасета `/datasets/new_games.csv`, а именно: \n",
    "- загрузим и изучим датасет; \n",
    "- подключим необходимые для исследования бибилиотеке `Pandas` и `NumPy`; \n",
    "- проверим датасет на ошибки; \n",
    "- найдем и предобработаем пропущенные значения; \n",
    "- проверим на наличие явных и неявных дубликатов; \n",
    "- отфильтруем данные по годам с 2003 по 2013; \n",
    "- категоризируем отфильтрованные данные по оценкам пользователей и критиков; \n",
    "- проведем небольшой анализ результатов."
   ]
  },
  {
   "cell_type": "markdown",
   "id": "6f7d21d6",
   "metadata": {},
   "source": [
    "## 1. Загрузка и знакомство с данными\n",
    "---\n",
    "\n",
    "1. Загрузите необходимые библиотеки Python и данные датасета `/datasets/new_games.csv`.\n",
    "2. Познакомьтесь с данными: выведите первые строки и результат метода `.info()`.\n",
    "3. Сделайте вывод о полученных данных: данные какого объёма вам предоставили, соответствуют ли они описанию, встречаются ли в них пропуски, используются ли верные типы данных.\n",
    "4. Отметьте другие особенности данных, которые вы обнаружили и на которые стоит обратить внимание при предобработке. Например, вы можете проверить названия столбцов: все ли названия отражают содержимое данных и прописаны в удобном для работы виде."
   ]
  },
  {
   "cell_type": "code",
   "execution_count": 1,
   "id": "ce87c1db",
   "metadata": {},
   "outputs": [],
   "source": [
    "import pandas as pd #подключим библиотеку \"Pandas\""
   ]
  },
  {
   "cell_type": "code",
   "execution_count": 2,
   "id": "9e7e5264",
   "metadata": {},
   "outputs": [],
   "source": [
    "import numpy as np #подключим библиотеку \"Numpy\""
   ]
  },
  {
   "cell_type": "code",
   "execution_count": 3,
   "id": "ef07ad3a",
   "metadata": {},
   "outputs": [],
   "source": [
    "df = pd.read_csv('https://code.s3.yandex.net/datasets/new_games.csv') #прочитаем CSV-файл"
   ]
  },
  {
   "cell_type": "code",
   "execution_count": 4,
   "id": "5022bc0a",
   "metadata": {
    "scrolled": true
   },
   "outputs": [
    {
     "data": {
      "text/html": [
       "<div>\n",
       "<style scoped>\n",
       "    .dataframe tbody tr th:only-of-type {\n",
       "        vertical-align: middle;\n",
       "    }\n",
       "\n",
       "    .dataframe tbody tr th {\n",
       "        vertical-align: top;\n",
       "    }\n",
       "\n",
       "    .dataframe thead th {\n",
       "        text-align: right;\n",
       "    }\n",
       "</style>\n",
       "<table border=\"1\" class=\"dataframe\">\n",
       "  <thead>\n",
       "    <tr style=\"text-align: right;\">\n",
       "      <th></th>\n",
       "      <th>Name</th>\n",
       "      <th>Platform</th>\n",
       "      <th>Year of Release</th>\n",
       "      <th>Genre</th>\n",
       "      <th>NA sales</th>\n",
       "      <th>EU sales</th>\n",
       "      <th>JP sales</th>\n",
       "      <th>Other sales</th>\n",
       "      <th>Critic Score</th>\n",
       "      <th>User Score</th>\n",
       "      <th>Rating</th>\n",
       "    </tr>\n",
       "  </thead>\n",
       "  <tbody>\n",
       "    <tr>\n",
       "      <th>0</th>\n",
       "      <td>Wii Sports</td>\n",
       "      <td>Wii</td>\n",
       "      <td>2006.0</td>\n",
       "      <td>Sports</td>\n",
       "      <td>41.36</td>\n",
       "      <td>28.96</td>\n",
       "      <td>3.77</td>\n",
       "      <td>8.45</td>\n",
       "      <td>76.0</td>\n",
       "      <td>8</td>\n",
       "      <td>E</td>\n",
       "    </tr>\n",
       "    <tr>\n",
       "      <th>1</th>\n",
       "      <td>Super Mario Bros.</td>\n",
       "      <td>NES</td>\n",
       "      <td>1985.0</td>\n",
       "      <td>Platform</td>\n",
       "      <td>29.08</td>\n",
       "      <td>3.58</td>\n",
       "      <td>6.81</td>\n",
       "      <td>0.77</td>\n",
       "      <td>NaN</td>\n",
       "      <td>NaN</td>\n",
       "      <td>NaN</td>\n",
       "    </tr>\n",
       "    <tr>\n",
       "      <th>2</th>\n",
       "      <td>Mario Kart Wii</td>\n",
       "      <td>Wii</td>\n",
       "      <td>2008.0</td>\n",
       "      <td>Racing</td>\n",
       "      <td>15.68</td>\n",
       "      <td>12.76</td>\n",
       "      <td>3.79</td>\n",
       "      <td>3.29</td>\n",
       "      <td>82.0</td>\n",
       "      <td>8.3</td>\n",
       "      <td>E</td>\n",
       "    </tr>\n",
       "    <tr>\n",
       "      <th>3</th>\n",
       "      <td>Wii Sports Resort</td>\n",
       "      <td>Wii</td>\n",
       "      <td>2009.0</td>\n",
       "      <td>Sports</td>\n",
       "      <td>15.61</td>\n",
       "      <td>10.93</td>\n",
       "      <td>3.28</td>\n",
       "      <td>2.95</td>\n",
       "      <td>80.0</td>\n",
       "      <td>8</td>\n",
       "      <td>E</td>\n",
       "    </tr>\n",
       "    <tr>\n",
       "      <th>4</th>\n",
       "      <td>Pokemon Red/Pokemon Blue</td>\n",
       "      <td>GB</td>\n",
       "      <td>1996.0</td>\n",
       "      <td>Role-Playing</td>\n",
       "      <td>11.27</td>\n",
       "      <td>8.89</td>\n",
       "      <td>10.22</td>\n",
       "      <td>1.00</td>\n",
       "      <td>NaN</td>\n",
       "      <td>NaN</td>\n",
       "      <td>NaN</td>\n",
       "    </tr>\n",
       "    <tr>\n",
       "      <th>5</th>\n",
       "      <td>Tetris</td>\n",
       "      <td>GB</td>\n",
       "      <td>1989.0</td>\n",
       "      <td>Puzzle</td>\n",
       "      <td>23.20</td>\n",
       "      <td>2.26</td>\n",
       "      <td>4.22</td>\n",
       "      <td>0.58</td>\n",
       "      <td>NaN</td>\n",
       "      <td>NaN</td>\n",
       "      <td>NaN</td>\n",
       "    </tr>\n",
       "    <tr>\n",
       "      <th>6</th>\n",
       "      <td>New Super Mario Bros.</td>\n",
       "      <td>DS</td>\n",
       "      <td>2006.0</td>\n",
       "      <td>Platform</td>\n",
       "      <td>11.28</td>\n",
       "      <td>9.14</td>\n",
       "      <td>6.5</td>\n",
       "      <td>2.88</td>\n",
       "      <td>89.0</td>\n",
       "      <td>8.5</td>\n",
       "      <td>E</td>\n",
       "    </tr>\n",
       "    <tr>\n",
       "      <th>7</th>\n",
       "      <td>Wii Play</td>\n",
       "      <td>Wii</td>\n",
       "      <td>2006.0</td>\n",
       "      <td>Misc</td>\n",
       "      <td>13.96</td>\n",
       "      <td>9.18</td>\n",
       "      <td>2.93</td>\n",
       "      <td>2.84</td>\n",
       "      <td>58.0</td>\n",
       "      <td>6.6</td>\n",
       "      <td>E</td>\n",
       "    </tr>\n",
       "    <tr>\n",
       "      <th>8</th>\n",
       "      <td>New Super Mario Bros. Wii</td>\n",
       "      <td>Wii</td>\n",
       "      <td>2009.0</td>\n",
       "      <td>Platform</td>\n",
       "      <td>14.44</td>\n",
       "      <td>6.94</td>\n",
       "      <td>4.7</td>\n",
       "      <td>2.24</td>\n",
       "      <td>87.0</td>\n",
       "      <td>8.4</td>\n",
       "      <td>E</td>\n",
       "    </tr>\n",
       "    <tr>\n",
       "      <th>9</th>\n",
       "      <td>Duck Hunt</td>\n",
       "      <td>NES</td>\n",
       "      <td>1984.0</td>\n",
       "      <td>Shooter</td>\n",
       "      <td>26.93</td>\n",
       "      <td>0.63</td>\n",
       "      <td>0.28</td>\n",
       "      <td>0.47</td>\n",
       "      <td>NaN</td>\n",
       "      <td>NaN</td>\n",
       "      <td>NaN</td>\n",
       "    </tr>\n",
       "  </tbody>\n",
       "</table>\n",
       "</div>"
      ],
      "text/plain": [
       "                        Name Platform  Year of Release         Genre  \\\n",
       "0                 Wii Sports      Wii           2006.0        Sports   \n",
       "1          Super Mario Bros.      NES           1985.0      Platform   \n",
       "2             Mario Kart Wii      Wii           2008.0        Racing   \n",
       "3          Wii Sports Resort      Wii           2009.0        Sports   \n",
       "4   Pokemon Red/Pokemon Blue       GB           1996.0  Role-Playing   \n",
       "5                     Tetris       GB           1989.0        Puzzle   \n",
       "6      New Super Mario Bros.       DS           2006.0      Platform   \n",
       "7                   Wii Play      Wii           2006.0          Misc   \n",
       "8  New Super Mario Bros. Wii      Wii           2009.0      Platform   \n",
       "9                  Duck Hunt      NES           1984.0       Shooter   \n",
       "\n",
       "   NA sales EU sales JP sales  Other sales  Critic Score User Score Rating  \n",
       "0     41.36    28.96     3.77         8.45          76.0          8      E  \n",
       "1     29.08     3.58     6.81         0.77           NaN        NaN    NaN  \n",
       "2     15.68    12.76     3.79         3.29          82.0        8.3      E  \n",
       "3     15.61    10.93     3.28         2.95          80.0          8      E  \n",
       "4     11.27     8.89    10.22         1.00           NaN        NaN    NaN  \n",
       "5     23.20     2.26     4.22         0.58           NaN        NaN    NaN  \n",
       "6     11.28     9.14      6.5         2.88          89.0        8.5      E  \n",
       "7     13.96     9.18     2.93         2.84          58.0        6.6      E  \n",
       "8     14.44     6.94      4.7         2.24          87.0        8.4      E  \n",
       "9     26.93     0.63     0.28         0.47           NaN        NaN    NaN  "
      ]
     },
     "execution_count": 4,
     "metadata": {},
     "output_type": "execute_result"
    }
   ],
   "source": [
    "df.head(10) #строки для ознакомления"
   ]
  },
  {
   "cell_type": "code",
   "execution_count": 5,
   "id": "3bd3dba4",
   "metadata": {
    "scrolled": true
   },
   "outputs": [
    {
     "name": "stdout",
     "output_type": "stream",
     "text": [
      "<class 'pandas.core.frame.DataFrame'>\n",
      "RangeIndex: 16956 entries, 0 to 16955\n",
      "Data columns (total 11 columns):\n",
      " #   Column           Non-Null Count  Dtype  \n",
      "---  ------           --------------  -----  \n",
      " 0   Name             16954 non-null  object \n",
      " 1   Platform         16956 non-null  object \n",
      " 2   Year of Release  16681 non-null  float64\n",
      " 3   Genre            16954 non-null  object \n",
      " 4   NA sales         16956 non-null  float64\n",
      " 5   EU sales         16956 non-null  object \n",
      " 6   JP sales         16956 non-null  object \n",
      " 7   Other sales      16956 non-null  float64\n",
      " 8   Critic Score     8242 non-null   float64\n",
      " 9   User Score       10152 non-null  object \n",
      " 10  Rating           10085 non-null  object \n",
      "dtypes: float64(4), object(7)\n",
      "memory usage: 1.4+ MB\n"
     ]
    }
   ],
   "source": [
    "df.info() #выведем информатицю о датасете"
   ]
  },
  {
   "cell_type": "markdown",
   "id": "b6e09da9",
   "metadata": {},
   "source": [
    "Датасет `/datasets/new_games.csv` содержит 11 столбцов и 16956 строк, в которых представлена информация о рейтинге игр.\n",
    "\n",
    "Изучим типы данных и их корректность:\n",
    "\n",
    "Типом `float64` представлены 4 столбца: \n",
    "\n",
    "- `Year of Release` в этом столбце хранятся данные о дате релиза игры, тип данных с плавающей точкой не подходит для хранения и дальнейшего использования в анализе, поэтому его нужно будет преобразовать в `int(8)` или `int(16)` этого будет достаточно для отбора по периоду;\n",
    "- `NA sales` хранит данные о продажах в млн. копий и данном случае тип данных `float(64)` корректен для этого столбца, но дополнительно для оптимизации его можно заменить на `float(32)`;\n",
    "- `Other sales` хранит данные о продажах в млн. копий в других странах и тип `float(64)` будет корректным для этого столбца, но для оптимизации может быть заменен на `float(32)`;\n",
    "- `Critic Score` хранит данные об оценках критиков от 0 до 100, тип данных `floaat(64)` тут может быть заменен на `int(8)` или `int(16)`\n",
    "\n",
    "Типом `object` представлены 7 столбцов:\n",
    "\n",
    "- `Name` хранит данные о названии игр и будет корерктным для данного столбца;\n",
    "- `EU sales`,`JP sales` хранят данные о продажах в млн. копий, поэтому их необходимо преобразовать в `float(64)` или `float(32`;\n",
    "- `Platform`,`Genre` хранят данные о типе игровых платформ и жанре игр и подходят под тип `category` их нужно преобразовать для дальнейшего анализа;\n",
    "- `User Score` хранит данные о пользовательских рейтингах играх, тип `object` будет некорректен для этих данных - его нужно заменить на `float(64)` или `float(32)`;\n",
    "- `Rating` - хранит данные о возрастном рейтинге и подходит под тип данных `category`\n",
    "\n",
    "Также стоит отметить что названия столбцов нужно изменить к стилю snake case, а у столбцов `Name`,`Year of Release`,`Genre`,`Critic Score`,`User Score` и `Rating` есть пропущеные значения, которые нужно будет учитывать при дальнейшей работе с данными."
   ]
  },
  {
   "cell_type": "markdown",
   "id": "774bf76e",
   "metadata": {},
   "source": [
    "---\n",
    "\n",
    "## 2.  Проверка ошибок в данных и их предобработка\n",
    "\n",
    "\n",
    "### 2.1. Названия, или метки, столбцов датафрейма: \n",
    "\n",
    "- Выведите на экран названия всех столбцов датафрейма и проверьте их стиль написания. \n",
    "- Приведите все столбцы к стилю snake case. Названия должны быть в нижнем регистре, а вместо пробелов — подчёркивания."
   ]
  },
  {
   "cell_type": "code",
   "execution_count": 6,
   "id": "39339130",
   "metadata": {},
   "outputs": [
    {
     "data": {
      "text/plain": [
       "Index(['Name', 'Platform', 'Year of Release', 'Genre', 'NA sales', 'EU sales',\n",
       "       'JP sales', 'Other sales', 'Critic Score', 'User Score', 'Rating'],\n",
       "      dtype='object')"
      ]
     },
     "execution_count": 6,
     "metadata": {},
     "output_type": "execute_result"
    }
   ],
   "source": [
    "# выведем названия столбцов, чтобы проверить стиль написания \n",
    "df.columns"
   ]
  },
  {
   "cell_type": "markdown",
   "id": "804c17f1",
   "metadata": {},
   "source": [
    "Из выведенных названий можно сделать вывод, что они называются хаотично и для дальнейшей работы их необходимо привести к `snake case`."
   ]
  },
  {
   "cell_type": "code",
   "execution_count": 7,
   "id": "834b4e16",
   "metadata": {},
   "outputs": [],
   "source": [
    "# приведем названием колонок в правильный формат\n",
    "df.columns = df.columns.str.lower().str.replace(\" \", \"_\")"
   ]
  },
  {
   "cell_type": "code",
   "execution_count": 9,
   "id": "d17162f6",
   "metadata": {},
   "outputs": [
    {
     "data": {
      "text/html": [
       "<div>\n",
       "<style scoped>\n",
       "    .dataframe tbody tr th:only-of-type {\n",
       "        vertical-align: middle;\n",
       "    }\n",
       "\n",
       "    .dataframe tbody tr th {\n",
       "        vertical-align: top;\n",
       "    }\n",
       "\n",
       "    .dataframe thead th {\n",
       "        text-align: right;\n",
       "    }\n",
       "</style>\n",
       "<table border=\"1\" class=\"dataframe\">\n",
       "  <thead>\n",
       "    <tr style=\"text-align: right;\">\n",
       "      <th></th>\n",
       "      <th>name</th>\n",
       "      <th>platform</th>\n",
       "      <th>year_of_release</th>\n",
       "      <th>genre</th>\n",
       "      <th>na_sales</th>\n",
       "      <th>eu_sales</th>\n",
       "      <th>jp_sales</th>\n",
       "      <th>other_sales</th>\n",
       "      <th>critic_score</th>\n",
       "      <th>user_score</th>\n",
       "      <th>rating</th>\n",
       "    </tr>\n",
       "  </thead>\n",
       "  <tbody>\n",
       "    <tr>\n",
       "      <th>0</th>\n",
       "      <td>Wii Sports</td>\n",
       "      <td>Wii</td>\n",
       "      <td>2006.0</td>\n",
       "      <td>Sports</td>\n",
       "      <td>41.36</td>\n",
       "      <td>28.96</td>\n",
       "      <td>3.77</td>\n",
       "      <td>8.45</td>\n",
       "      <td>76.0</td>\n",
       "      <td>8</td>\n",
       "      <td>E</td>\n",
       "    </tr>\n",
       "    <tr>\n",
       "      <th>1</th>\n",
       "      <td>Super Mario Bros.</td>\n",
       "      <td>NES</td>\n",
       "      <td>1985.0</td>\n",
       "      <td>Platform</td>\n",
       "      <td>29.08</td>\n",
       "      <td>3.58</td>\n",
       "      <td>6.81</td>\n",
       "      <td>0.77</td>\n",
       "      <td>NaN</td>\n",
       "      <td>NaN</td>\n",
       "      <td>NaN</td>\n",
       "    </tr>\n",
       "    <tr>\n",
       "      <th>2</th>\n",
       "      <td>Mario Kart Wii</td>\n",
       "      <td>Wii</td>\n",
       "      <td>2008.0</td>\n",
       "      <td>Racing</td>\n",
       "      <td>15.68</td>\n",
       "      <td>12.76</td>\n",
       "      <td>3.79</td>\n",
       "      <td>3.29</td>\n",
       "      <td>82.0</td>\n",
       "      <td>8.3</td>\n",
       "      <td>E</td>\n",
       "    </tr>\n",
       "  </tbody>\n",
       "</table>\n",
       "</div>"
      ],
      "text/plain": [
       "                name platform  year_of_release     genre  na_sales eu_sales  \\\n",
       "0         Wii Sports      Wii           2006.0    Sports     41.36    28.96   \n",
       "1  Super Mario Bros.      NES           1985.0  Platform     29.08     3.58   \n",
       "2     Mario Kart Wii      Wii           2008.0    Racing     15.68    12.76   \n",
       "\n",
       "  jp_sales  other_sales  critic_score user_score rating  \n",
       "0     3.77         8.45          76.0          8      E  \n",
       "1     6.81         0.77           NaN        NaN    NaN  \n",
       "2     3.79         3.29          82.0        8.3      E  "
      ]
     },
     "execution_count": 9,
     "metadata": {},
     "output_type": "execute_result"
    }
   ],
   "source": [
    "df.head(3)"
   ]
  },
  {
   "cell_type": "markdown",
   "id": "3f59c916",
   "metadata": {},
   "source": [
    "В датасете были выведены названия столбцов и приведены к стилю `snake_case` методом `rename()`."
   ]
  },
  {
   "cell_type": "markdown",
   "id": "5c788791",
   "metadata": {},
   "source": [
    "### 2.2. Типы данных: \n",
    "\n",
    "- Если встречаются некорректные типы данных, предположите их причины.\n",
    "- При необходимости проведите преобразование типов данных. Помните, что столбцы с числовыми данными и пропусками нельзя преобразовать к типу int64. Сначала вам понадобится обработать пропуски, а затем преобразовать типы данных. \n",
    "- В числовых столбцах могут встретиться строковые значения, например, `unknown` или другие. Приводите такие столбцы к числовому типу данных, заменив строковые значения на пропуски."
   ]
  },
  {
   "cell_type": "code",
   "execution_count": 10,
   "id": "18f669d2",
   "metadata": {
    "scrolled": true
   },
   "outputs": [
    {
     "data": {
      "text/plain": [
       "name                object\n",
       "platform            object\n",
       "year_of_release    float64\n",
       "genre               object\n",
       "na_sales           float64\n",
       "eu_sales            object\n",
       "jp_sales            object\n",
       "other_sales        float64\n",
       "critic_score       float64\n",
       "user_score          object\n",
       "rating              object\n",
       "dtype: object"
      ]
     },
     "execution_count": 10,
     "metadata": {},
     "output_type": "execute_result"
    }
   ],
   "source": [
    "# ознакомимся с типами столбцов\n",
    "df.dtypes"
   ]
  },
  {
   "cell_type": "markdown",
   "id": "825eba48",
   "metadata": {},
   "source": [
    "В пункте 1.1. были сделаны выводы, теперь приведем столбцы к нужным типам данных:\n",
    "- `year_of_release` - `integer`\n",
    "- `critic_score` - `integer`\n",
    "- `eu_sales` - `float`\n",
    "- `jp_sales` - `float`\n",
    "- `user_score` - `float`"
   ]
  },
  {
   "cell_type": "code",
   "execution_count": 11,
   "id": "f7f91c15",
   "metadata": {},
   "outputs": [],
   "source": [
    "# заменим тип данных на int\n",
    "for column in ['year_of_release','critic_score']:\n",
    "    df[column] = pd.to_numeric(df[column], errors='coerce', downcast='integer')"
   ]
  },
  {
   "cell_type": "code",
   "execution_count": 12,
   "id": "a91a8ba8",
   "metadata": {},
   "outputs": [],
   "source": [
    "# заменим тип данных на float\n",
    "for column in ['eu_sales','jp_sales','user_score']:\n",
    "    df[column] = pd.to_numeric(df[column], errors='coerce', downcast='float')"
   ]
  },
  {
   "cell_type": "code",
   "execution_count": 13,
   "id": "cc64c1ca",
   "metadata": {},
   "outputs": [
    {
     "name": "stdout",
     "output_type": "stream",
     "text": [
      "<class 'pandas.core.frame.DataFrame'>\n",
      "RangeIndex: 16956 entries, 0 to 16955\n",
      "Data columns (total 11 columns):\n",
      " #   Column           Non-Null Count  Dtype  \n",
      "---  ------           --------------  -----  \n",
      " 0   name             16954 non-null  object \n",
      " 1   platform         16956 non-null  object \n",
      " 2   year_of_release  16681 non-null  float64\n",
      " 3   genre            16954 non-null  object \n",
      " 4   na_sales         16956 non-null  float64\n",
      " 5   eu_sales         16950 non-null  float32\n",
      " 6   jp_sales         16952 non-null  float32\n",
      " 7   other_sales      16956 non-null  float64\n",
      " 8   critic_score     8242 non-null   float64\n",
      " 9   user_score       7688 non-null   float32\n",
      " 10  rating           10085 non-null  object \n",
      "dtypes: float32(3), float64(4), object(4)\n",
      "memory usage: 1.2+ MB\n"
     ]
    }
   ],
   "source": [
    "df.info()"
   ]
  },
  {
   "cell_type": "markdown",
   "id": "4ad89932",
   "metadata": {},
   "source": [
    "В столбцах `year_of_release` и `critic_score` не были приведены к типу `integer` потому что в столбцах есть пропуски. Займемся ниже их обработкой."
   ]
  },
  {
   "cell_type": "markdown",
   "id": "cda94d5d",
   "metadata": {},
   "source": [
    "В данном блоке была выведена информция о типах столбцов и приведены к нужному типу. Для преоброзавания типов данных был использован `цикл` с методом `to_numeric()` в аргументах метода использованы `coerce`."
   ]
  },
  {
   "cell_type": "markdown",
   "id": "b39893cb",
   "metadata": {},
   "source": [
    "### 2.2. Наличие пропусков в данных: \n",
    "\n",
    "- Посчитайте количество пропусков в каждом столбце в абсолютных и относительных значениях.\n",
    "- Изучите данные с пропущенными значениями. Напишите промежуточный вывод: для каких столбцов характерны пропуски и сколько их. Предположите, почему пропуски могли возникнуть. Укажите, какие действия с этими данными можно сделать и почему.\n",
    "- Обработайте пропущенные значения. Для каждого случая вы можете выбрать оптимальный, на ваш взгляд, вариант: заменить на определённое значение, оставить как есть или удалить.\n",
    "- Если вы решите заменить пропуски на значение-индикатор, то убедитесь, что предложенное значение не может быть использовано в данных.\n",
    "- Если вы нашли пропуски в данных с количеством проданных копий игры в том или ином регионе, их можно заменить на среднее значение в зависимости от названия платформы и года выхода игры."
   ]
  },
  {
   "cell_type": "code",
   "execution_count": 14,
   "id": "0f1c91a8",
   "metadata": {},
   "outputs": [
    {
     "data": {
      "text/plain": [
       "name                  2\n",
       "platform              0\n",
       "year_of_release     275\n",
       "genre                 2\n",
       "na_sales              0\n",
       "eu_sales              6\n",
       "jp_sales              4\n",
       "other_sales           0\n",
       "critic_score       8714\n",
       "user_score         9268\n",
       "rating             6871\n",
       "dtype: int64"
      ]
     },
     "execution_count": 14,
     "metadata": {},
     "output_type": "execute_result"
    }
   ],
   "source": [
    "# выводим количество пропущенных строк в датафрейме\n",
    "df.isna().sum()"
   ]
  },
  {
   "cell_type": "code",
   "execution_count": 15,
   "id": "c415a135",
   "metadata": {},
   "outputs": [
    {
     "data": {
      "text/plain": [
       "25142"
      ]
     },
     "execution_count": 15,
     "metadata": {},
     "output_type": "execute_result"
    }
   ],
   "source": [
    "df.isna().sum().sum()"
   ]
  },
  {
   "cell_type": "markdown",
   "id": "65a7ec9b",
   "metadata": {},
   "source": [
    "Пропущеные значения есть в столбцах `name`, `year_of_release`, `genre`, `critic_score`, `user_score`, `rating` \n"
   ]
  },
  {
   "cell_type": "code",
   "execution_count": 16,
   "id": "86cd1cc1",
   "metadata": {
    "scrolled": true
   },
   "outputs": [
    {
     "data": {
      "text/plain": [
       "name                0.011795\n",
       "platform            0.000000\n",
       "year_of_release     1.621845\n",
       "genre               0.011795\n",
       "na_sales            0.000000\n",
       "eu_sales            0.035386\n",
       "jp_sales            0.023590\n",
       "other_sales         0.000000\n",
       "critic_score       51.391838\n",
       "user_score         54.659118\n",
       "rating             40.522529\n",
       "dtype: float64"
      ]
     },
     "execution_count": 16,
     "metadata": {},
     "output_type": "execute_result"
    }
   ],
   "source": [
    "# подсчитываем процент строк с пропусками\n",
    "df.isna().sum() / len(df) * 100"
   ]
  },
  {
   "cell_type": "markdown",
   "id": "14c8c218",
   "metadata": {},
   "source": [
    "Большая часть пропусков распределена в столбцах с рейтингами и относятся к виду `MAR` доля пропусков в этих столбцах примерно одинаково распределены и можно сделать вывод, что пропуски есть из-за отсутсвия данных. Выведем по порядку столбцы и детально разберемся с причиной появления пропусков. "
   ]
  },
  {
   "cell_type": "code",
   "execution_count": 17,
   "id": "b51c4772",
   "metadata": {},
   "outputs": [
    {
     "data": {
      "text/html": [
       "<div>\n",
       "<style scoped>\n",
       "    .dataframe tbody tr th:only-of-type {\n",
       "        vertical-align: middle;\n",
       "    }\n",
       "\n",
       "    .dataframe tbody tr th {\n",
       "        vertical-align: top;\n",
       "    }\n",
       "\n",
       "    .dataframe thead th {\n",
       "        text-align: right;\n",
       "    }\n",
       "</style>\n",
       "<table border=\"1\" class=\"dataframe\">\n",
       "  <thead>\n",
       "    <tr style=\"text-align: right;\">\n",
       "      <th></th>\n",
       "      <th>name</th>\n",
       "      <th>platform</th>\n",
       "      <th>year_of_release</th>\n",
       "      <th>genre</th>\n",
       "      <th>na_sales</th>\n",
       "      <th>eu_sales</th>\n",
       "      <th>jp_sales</th>\n",
       "      <th>other_sales</th>\n",
       "      <th>critic_score</th>\n",
       "      <th>user_score</th>\n",
       "      <th>rating</th>\n",
       "    </tr>\n",
       "  </thead>\n",
       "  <tbody>\n",
       "    <tr>\n",
       "      <th>446</th>\n",
       "      <td>Rhythm Heaven</td>\n",
       "      <td>DS</td>\n",
       "      <td>2008.0</td>\n",
       "      <td>Misc</td>\n",
       "      <td>0.55</td>\n",
       "      <td>NaN</td>\n",
       "      <td>1.93</td>\n",
       "      <td>0.13</td>\n",
       "      <td>83.0</td>\n",
       "      <td>9.0</td>\n",
       "      <td>E</td>\n",
       "    </tr>\n",
       "    <tr>\n",
       "      <th>802</th>\n",
       "      <td>Dead Rising</td>\n",
       "      <td>X360</td>\n",
       "      <td>2006.0</td>\n",
       "      <td>Action</td>\n",
       "      <td>1.16</td>\n",
       "      <td>NaN</td>\n",
       "      <td>0.08</td>\n",
       "      <td>0.20</td>\n",
       "      <td>85.0</td>\n",
       "      <td>7.6</td>\n",
       "      <td>M</td>\n",
       "    </tr>\n",
       "    <tr>\n",
       "      <th>1131</th>\n",
       "      <td>Prince of Persia: Warrior Within</td>\n",
       "      <td>PS2</td>\n",
       "      <td>2004.0</td>\n",
       "      <td>Action</td>\n",
       "      <td>0.54</td>\n",
       "      <td>NaN</td>\n",
       "      <td>0.00</td>\n",
       "      <td>0.22</td>\n",
       "      <td>83.0</td>\n",
       "      <td>8.5</td>\n",
       "      <td>M</td>\n",
       "    </tr>\n",
       "    <tr>\n",
       "      <th>1132</th>\n",
       "      <td>Far Cry 4</td>\n",
       "      <td>XOne</td>\n",
       "      <td>2014.0</td>\n",
       "      <td>Shooter</td>\n",
       "      <td>0.80</td>\n",
       "      <td>NaN</td>\n",
       "      <td>0.01</td>\n",
       "      <td>0.14</td>\n",
       "      <td>82.0</td>\n",
       "      <td>7.5</td>\n",
       "      <td>M</td>\n",
       "    </tr>\n",
       "    <tr>\n",
       "      <th>1394</th>\n",
       "      <td>Sonic Advance 3</td>\n",
       "      <td>GBA</td>\n",
       "      <td>2004.0</td>\n",
       "      <td>Platform</td>\n",
       "      <td>0.74</td>\n",
       "      <td>NaN</td>\n",
       "      <td>0.08</td>\n",
       "      <td>0.06</td>\n",
       "      <td>79.0</td>\n",
       "      <td>8.4</td>\n",
       "      <td>E</td>\n",
       "    </tr>\n",
       "    <tr>\n",
       "      <th>1612</th>\n",
       "      <td>Ratatouille</td>\n",
       "      <td>DS</td>\n",
       "      <td>2007.0</td>\n",
       "      <td>Action</td>\n",
       "      <td>0.49</td>\n",
       "      <td>NaN</td>\n",
       "      <td>0.00</td>\n",
       "      <td>0.14</td>\n",
       "      <td>NaN</td>\n",
       "      <td>NaN</td>\n",
       "      <td>NaN</td>\n",
       "    </tr>\n",
       "  </tbody>\n",
       "</table>\n",
       "</div>"
      ],
      "text/plain": [
       "                                  name platform  year_of_release     genre  \\\n",
       "446                      Rhythm Heaven       DS           2008.0      Misc   \n",
       "802                        Dead Rising     X360           2006.0    Action   \n",
       "1131  Prince of Persia: Warrior Within      PS2           2004.0    Action   \n",
       "1132                         Far Cry 4     XOne           2014.0   Shooter   \n",
       "1394                   Sonic Advance 3      GBA           2004.0  Platform   \n",
       "1612                       Ratatouille       DS           2007.0    Action   \n",
       "\n",
       "      na_sales  eu_sales  jp_sales  other_sales  critic_score  user_score  \\\n",
       "446       0.55       NaN      1.93         0.13          83.0         9.0   \n",
       "802       1.16       NaN      0.08         0.20          85.0         7.6   \n",
       "1131      0.54       NaN      0.00         0.22          83.0         8.5   \n",
       "1132      0.80       NaN      0.01         0.14          82.0         7.5   \n",
       "1394      0.74       NaN      0.08         0.06          79.0         8.4   \n",
       "1612      0.49       NaN      0.00         0.14           NaN         NaN   \n",
       "\n",
       "     rating  \n",
       "446       E  \n",
       "802       M  \n",
       "1131      M  \n",
       "1132      M  \n",
       "1394      E  \n",
       "1612    NaN  "
      ]
     },
     "execution_count": 17,
     "metadata": {},
     "output_type": "execute_result"
    }
   ],
   "source": [
    "#выводим пропущеные занчение в столбце eu_sales\n",
    "df[df['eu_sales'].isna()]"
   ]
  },
  {
   "cell_type": "code",
   "execution_count": 18,
   "id": "5c403010",
   "metadata": {
    "scrolled": true
   },
   "outputs": [
    {
     "data": {
      "text/html": [
       "<div>\n",
       "<style scoped>\n",
       "    .dataframe tbody tr th:only-of-type {\n",
       "        vertical-align: middle;\n",
       "    }\n",
       "\n",
       "    .dataframe tbody tr th {\n",
       "        vertical-align: top;\n",
       "    }\n",
       "\n",
       "    .dataframe thead th {\n",
       "        text-align: right;\n",
       "    }\n",
       "</style>\n",
       "<table border=\"1\" class=\"dataframe\">\n",
       "  <thead>\n",
       "    <tr style=\"text-align: right;\">\n",
       "      <th></th>\n",
       "      <th>name</th>\n",
       "      <th>platform</th>\n",
       "      <th>year_of_release</th>\n",
       "      <th>genre</th>\n",
       "      <th>na_sales</th>\n",
       "      <th>eu_sales</th>\n",
       "      <th>jp_sales</th>\n",
       "      <th>other_sales</th>\n",
       "      <th>critic_score</th>\n",
       "      <th>user_score</th>\n",
       "      <th>rating</th>\n",
       "    </tr>\n",
       "  </thead>\n",
       "  <tbody>\n",
       "    <tr>\n",
       "      <th>467</th>\n",
       "      <td>Saints Row 2</td>\n",
       "      <td>X360</td>\n",
       "      <td>2008.0</td>\n",
       "      <td>Action</td>\n",
       "      <td>1.94</td>\n",
       "      <td>0.79</td>\n",
       "      <td>NaN</td>\n",
       "      <td>0.28</td>\n",
       "      <td>81.0</td>\n",
       "      <td>8.1</td>\n",
       "      <td>M</td>\n",
       "    </tr>\n",
       "    <tr>\n",
       "      <th>819</th>\n",
       "      <td>UFC 2009 Undisputed</td>\n",
       "      <td>X360</td>\n",
       "      <td>2009.0</td>\n",
       "      <td>Fighting</td>\n",
       "      <td>1.48</td>\n",
       "      <td>0.39</td>\n",
       "      <td>NaN</td>\n",
       "      <td>0.19</td>\n",
       "      <td>83.0</td>\n",
       "      <td>7.9</td>\n",
       "      <td>T</td>\n",
       "    </tr>\n",
       "    <tr>\n",
       "      <th>1379</th>\n",
       "      <td>Hello Kitty Party</td>\n",
       "      <td>DS</td>\n",
       "      <td>2007.0</td>\n",
       "      <td>Misc</td>\n",
       "      <td>0.78</td>\n",
       "      <td>0.51</td>\n",
       "      <td>NaN</td>\n",
       "      <td>0.12</td>\n",
       "      <td>NaN</td>\n",
       "      <td>NaN</td>\n",
       "      <td>E</td>\n",
       "    </tr>\n",
       "    <tr>\n",
       "      <th>4732</th>\n",
       "      <td>Castlevania: The Dracula X Chronicles</td>\n",
       "      <td>PSP</td>\n",
       "      <td>2007.0</td>\n",
       "      <td>Platform</td>\n",
       "      <td>0.22</td>\n",
       "      <td>0.09</td>\n",
       "      <td>NaN</td>\n",
       "      <td>0.07</td>\n",
       "      <td>80.0</td>\n",
       "      <td>7.8</td>\n",
       "      <td>T</td>\n",
       "    </tr>\n",
       "  </tbody>\n",
       "</table>\n",
       "</div>"
      ],
      "text/plain": [
       "                                       name platform  year_of_release  \\\n",
       "467                            Saints Row 2     X360           2008.0   \n",
       "819                     UFC 2009 Undisputed     X360           2009.0   \n",
       "1379                      Hello Kitty Party       DS           2007.0   \n",
       "4732  Castlevania: The Dracula X Chronicles      PSP           2007.0   \n",
       "\n",
       "         genre  na_sales  eu_sales  jp_sales  other_sales  critic_score  \\\n",
       "467     Action      1.94      0.79       NaN         0.28          81.0   \n",
       "819   Fighting      1.48      0.39       NaN         0.19          83.0   \n",
       "1379      Misc      0.78      0.51       NaN         0.12           NaN   \n",
       "4732  Platform      0.22      0.09       NaN         0.07          80.0   \n",
       "\n",
       "      user_score rating  \n",
       "467          8.1      M  \n",
       "819          7.9      T  \n",
       "1379         NaN      E  \n",
       "4732         7.8      T  "
      ]
     },
     "execution_count": 18,
     "metadata": {},
     "output_type": "execute_result"
    }
   ],
   "source": [
    "#выводим пропущеные занчение в столбце jp_sales\n",
    "df[df['jp_sales'].isna()]"
   ]
  },
  {
   "cell_type": "markdown",
   "id": "0103d5db",
   "metadata": {},
   "source": [
    "Значения в этих столбцах были `\"unknown\"` и при преобразовании типов данных мы их заменили на пропуски. Таких данных немного, можно либо уточнить данные и заменить их, либо удалить. Я удалю данные пропуски из выборки, т.к. у меня отсутсвуют данные по этим продажам."
   ]
  },
  {
   "cell_type": "code",
   "execution_count": 19,
   "id": "b45fcf61",
   "metadata": {},
   "outputs": [],
   "source": [
    "# удаляем строки с пропусками по столбцам eu_sales, jp_sales\n",
    "# df = df.dropna(subset=['eu_sales', 'jp_sales'])"
   ]
  },
  {
   "cell_type": "code",
   "execution_count": 20,
   "id": "8bf0341e",
   "metadata": {},
   "outputs": [],
   "source": [
    "# заполним пропуски в данных в столбцах eu_sales, jp_sales медианными значениями по группам платформы и даты выхода \n",
    "def fill_median(group):\n",
    "    return group.fillna(group.median())\n",
    "\n",
    "df['eu_sales'] = df.groupby(['platform','year_of_release'])['eu_sales'].apply(fill_median)\n",
    "df['jp_sales'] = df.groupby(['platform','year_of_release'])['jp_sales'].apply(fill_median)"
   ]
  },
  {
   "cell_type": "code",
   "execution_count": 21,
   "id": "61de560c",
   "metadata": {},
   "outputs": [
    {
     "data": {
      "text/plain": [
       "eu_sales    275\n",
       "jp_sales    275\n",
       "dtype: int64"
      ]
     },
     "execution_count": 21,
     "metadata": {},
     "output_type": "execute_result"
    }
   ],
   "source": [
    "# проверим, что значения заполнились верно и выведем строки для проверки\n",
    "df[['eu_sales', 'jp_sales']].isnull().sum()"
   ]
  },
  {
   "cell_type": "code",
   "execution_count": 22,
   "id": "ecde0ceb",
   "metadata": {},
   "outputs": [
    {
     "data": {
      "text/html": [
       "<div>\n",
       "<style scoped>\n",
       "    .dataframe tbody tr th:only-of-type {\n",
       "        vertical-align: middle;\n",
       "    }\n",
       "\n",
       "    .dataframe tbody tr th {\n",
       "        vertical-align: top;\n",
       "    }\n",
       "\n",
       "    .dataframe thead th {\n",
       "        text-align: right;\n",
       "    }\n",
       "</style>\n",
       "<table border=\"1\" class=\"dataframe\">\n",
       "  <thead>\n",
       "    <tr style=\"text-align: right;\">\n",
       "      <th></th>\n",
       "      <th>eu_sales</th>\n",
       "      <th>jp_sales</th>\n",
       "    </tr>\n",
       "  </thead>\n",
       "  <tbody>\n",
       "    <tr>\n",
       "      <th>0</th>\n",
       "      <td>28.959999</td>\n",
       "      <td>3.77</td>\n",
       "    </tr>\n",
       "    <tr>\n",
       "      <th>1</th>\n",
       "      <td>3.580000</td>\n",
       "      <td>6.81</td>\n",
       "    </tr>\n",
       "    <tr>\n",
       "      <th>2</th>\n",
       "      <td>12.760000</td>\n",
       "      <td>3.79</td>\n",
       "    </tr>\n",
       "    <tr>\n",
       "      <th>3</th>\n",
       "      <td>10.930000</td>\n",
       "      <td>3.28</td>\n",
       "    </tr>\n",
       "    <tr>\n",
       "      <th>4</th>\n",
       "      <td>8.890000</td>\n",
       "      <td>10.22</td>\n",
       "    </tr>\n",
       "    <tr>\n",
       "      <th>...</th>\n",
       "      <td>...</td>\n",
       "      <td>...</td>\n",
       "    </tr>\n",
       "    <tr>\n",
       "      <th>16941</th>\n",
       "      <td>0.000000</td>\n",
       "      <td>0.01</td>\n",
       "    </tr>\n",
       "    <tr>\n",
       "      <th>16942</th>\n",
       "      <td>0.000000</td>\n",
       "      <td>0.01</td>\n",
       "    </tr>\n",
       "    <tr>\n",
       "      <th>16943</th>\n",
       "      <td>0.010000</td>\n",
       "      <td>0.00</td>\n",
       "    </tr>\n",
       "    <tr>\n",
       "      <th>16944</th>\n",
       "      <td>0.000000</td>\n",
       "      <td>0.01</td>\n",
       "    </tr>\n",
       "    <tr>\n",
       "      <th>16945</th>\n",
       "      <td>0.000000</td>\n",
       "      <td>0.00</td>\n",
       "    </tr>\n",
       "  </tbody>\n",
       "</table>\n",
       "<p>16946 rows × 2 columns</p>\n",
       "</div>"
      ],
      "text/plain": [
       "        eu_sales  jp_sales\n",
       "0      28.959999      3.77\n",
       "1       3.580000      6.81\n",
       "2      12.760000      3.79\n",
       "3      10.930000      3.28\n",
       "4       8.890000     10.22\n",
       "...          ...       ...\n",
       "16941   0.000000      0.01\n",
       "16942   0.000000      0.01\n",
       "16943   0.010000      0.00\n",
       "16944   0.000000      0.01\n",
       "16945   0.000000      0.00\n",
       "\n",
       "[16946 rows x 2 columns]"
      ]
     },
     "execution_count": 22,
     "metadata": {},
     "output_type": "execute_result"
    }
   ],
   "source": [
    "df[['eu_sales', 'jp_sales']].head(-10)"
   ]
  },
  {
   "cell_type": "markdown",
   "id": "79921b85",
   "metadata": {},
   "source": [
    "Все верно, нет нулевых значений, значит данные заполнились верно "
   ]
  },
  {
   "cell_type": "code",
   "execution_count": 23,
   "id": "ef9ddc49",
   "metadata": {},
   "outputs": [],
   "source": [
    "# Код ревьюера\n",
    "\n",
    "df['jp_sales'] = df['jp_sales']\\\n",
    "    .fillna(df.groupby(['platform', 'year_of_release'])['jp_sales'].transform('mean'))"
   ]
  },
  {
   "cell_type": "code",
   "execution_count": 24,
   "id": "d8b3456b",
   "metadata": {},
   "outputs": [
    {
     "data": {
      "text/html": [
       "<div>\n",
       "<style scoped>\n",
       "    .dataframe tbody tr th:only-of-type {\n",
       "        vertical-align: middle;\n",
       "    }\n",
       "\n",
       "    .dataframe tbody tr th {\n",
       "        vertical-align: top;\n",
       "    }\n",
       "\n",
       "    .dataframe thead th {\n",
       "        text-align: right;\n",
       "    }\n",
       "</style>\n",
       "<table border=\"1\" class=\"dataframe\">\n",
       "  <thead>\n",
       "    <tr style=\"text-align: right;\">\n",
       "      <th></th>\n",
       "      <th>name</th>\n",
       "      <th>platform</th>\n",
       "      <th>year_of_release</th>\n",
       "      <th>genre</th>\n",
       "      <th>na_sales</th>\n",
       "      <th>eu_sales</th>\n",
       "      <th>jp_sales</th>\n",
       "      <th>other_sales</th>\n",
       "      <th>critic_score</th>\n",
       "      <th>user_score</th>\n",
       "      <th>rating</th>\n",
       "    </tr>\n",
       "  </thead>\n",
       "  <tbody>\n",
       "    <tr>\n",
       "      <th>661</th>\n",
       "      <td>NaN</td>\n",
       "      <td>GEN</td>\n",
       "      <td>1993.0</td>\n",
       "      <td>NaN</td>\n",
       "      <td>1.78</td>\n",
       "      <td>0.53</td>\n",
       "      <td>0.00</td>\n",
       "      <td>0.08</td>\n",
       "      <td>NaN</td>\n",
       "      <td>NaN</td>\n",
       "      <td>NaN</td>\n",
       "    </tr>\n",
       "    <tr>\n",
       "      <th>14439</th>\n",
       "      <td>NaN</td>\n",
       "      <td>GEN</td>\n",
       "      <td>1993.0</td>\n",
       "      <td>NaN</td>\n",
       "      <td>0.00</td>\n",
       "      <td>0.00</td>\n",
       "      <td>0.03</td>\n",
       "      <td>0.00</td>\n",
       "      <td>NaN</td>\n",
       "      <td>NaN</td>\n",
       "      <td>NaN</td>\n",
       "    </tr>\n",
       "  </tbody>\n",
       "</table>\n",
       "</div>"
      ],
      "text/plain": [
       "      name platform  year_of_release genre  na_sales  eu_sales  jp_sales  \\\n",
       "661    NaN      GEN           1993.0   NaN      1.78      0.53      0.00   \n",
       "14439  NaN      GEN           1993.0   NaN      0.00      0.00      0.03   \n",
       "\n",
       "       other_sales  critic_score  user_score rating  \n",
       "661           0.08           NaN         NaN    NaN  \n",
       "14439         0.00           NaN         NaN    NaN  "
      ]
     },
     "execution_count": 24,
     "metadata": {},
     "output_type": "execute_result"
    }
   ],
   "source": [
    "#выводим пропущеные занчение в столбце name - они совпадают по кол-ву со столбцом genre - это одни и те же пропуски\n",
    "df[df['name'].isna()]"
   ]
  },
  {
   "cell_type": "markdown",
   "id": "b25489aa",
   "metadata": {},
   "source": [
    "Эти данные находятся в \"серой зоне\" - мы не можем их заполнить или что-либо сделать с ними, поэтому их придется удалить, чтобы они не мешали дальнейшему анализу"
   ]
  },
  {
   "cell_type": "code",
   "execution_count": 25,
   "id": "6c3f6c4d",
   "metadata": {},
   "outputs": [],
   "source": [
    "# удаляем строки с пропусками по столбцам name, genre\n",
    "df = df.dropna(subset=['name', 'genre'])"
   ]
  },
  {
   "cell_type": "code",
   "execution_count": 26,
   "id": "2a0ffbfe",
   "metadata": {
    "scrolled": true
   },
   "outputs": [
    {
     "data": {
      "text/html": [
       "<div>\n",
       "<style scoped>\n",
       "    .dataframe tbody tr th:only-of-type {\n",
       "        vertical-align: middle;\n",
       "    }\n",
       "\n",
       "    .dataframe tbody tr th {\n",
       "        vertical-align: top;\n",
       "    }\n",
       "\n",
       "    .dataframe thead th {\n",
       "        text-align: right;\n",
       "    }\n",
       "</style>\n",
       "<table border=\"1\" class=\"dataframe\">\n",
       "  <thead>\n",
       "    <tr style=\"text-align: right;\">\n",
       "      <th></th>\n",
       "      <th>name</th>\n",
       "      <th>platform</th>\n",
       "      <th>year_of_release</th>\n",
       "      <th>genre</th>\n",
       "      <th>na_sales</th>\n",
       "      <th>eu_sales</th>\n",
       "      <th>jp_sales</th>\n",
       "      <th>other_sales</th>\n",
       "      <th>critic_score</th>\n",
       "      <th>user_score</th>\n",
       "      <th>rating</th>\n",
       "    </tr>\n",
       "  </thead>\n",
       "  <tbody>\n",
       "    <tr>\n",
       "      <th>183</th>\n",
       "      <td>Madden NFL 2004</td>\n",
       "      <td>PS2</td>\n",
       "      <td>NaN</td>\n",
       "      <td>Sports</td>\n",
       "      <td>4.26</td>\n",
       "      <td>NaN</td>\n",
       "      <td>NaN</td>\n",
       "      <td>0.71</td>\n",
       "      <td>94.0</td>\n",
       "      <td>8.5</td>\n",
       "      <td>E</td>\n",
       "    </tr>\n",
       "    <tr>\n",
       "      <th>379</th>\n",
       "      <td>FIFA Soccer 2004</td>\n",
       "      <td>PS2</td>\n",
       "      <td>NaN</td>\n",
       "      <td>Sports</td>\n",
       "      <td>0.59</td>\n",
       "      <td>NaN</td>\n",
       "      <td>NaN</td>\n",
       "      <td>0.51</td>\n",
       "      <td>84.0</td>\n",
       "      <td>6.4</td>\n",
       "      <td>E</td>\n",
       "    </tr>\n",
       "    <tr>\n",
       "      <th>458</th>\n",
       "      <td>LEGO Batman: The Videogame</td>\n",
       "      <td>Wii</td>\n",
       "      <td>NaN</td>\n",
       "      <td>Action</td>\n",
       "      <td>1.80</td>\n",
       "      <td>NaN</td>\n",
       "      <td>NaN</td>\n",
       "      <td>0.29</td>\n",
       "      <td>74.0</td>\n",
       "      <td>7.9</td>\n",
       "      <td>E10+</td>\n",
       "    </tr>\n",
       "    <tr>\n",
       "      <th>477</th>\n",
       "      <td>wwe Smackdown vs. Raw 2006</td>\n",
       "      <td>PS2</td>\n",
       "      <td>NaN</td>\n",
       "      <td>Fighting</td>\n",
       "      <td>1.57</td>\n",
       "      <td>NaN</td>\n",
       "      <td>NaN</td>\n",
       "      <td>0.41</td>\n",
       "      <td>NaN</td>\n",
       "      <td>NaN</td>\n",
       "      <td>NaN</td>\n",
       "    </tr>\n",
       "    <tr>\n",
       "      <th>611</th>\n",
       "      <td>Space Invaders</td>\n",
       "      <td>2600</td>\n",
       "      <td>NaN</td>\n",
       "      <td>Shooter</td>\n",
       "      <td>2.36</td>\n",
       "      <td>NaN</td>\n",
       "      <td>NaN</td>\n",
       "      <td>0.03</td>\n",
       "      <td>NaN</td>\n",
       "      <td>NaN</td>\n",
       "      <td>NaN</td>\n",
       "    </tr>\n",
       "    <tr>\n",
       "      <th>...</th>\n",
       "      <td>...</td>\n",
       "      <td>...</td>\n",
       "      <td>...</td>\n",
       "      <td>...</td>\n",
       "      <td>...</td>\n",
       "      <td>...</td>\n",
       "      <td>...</td>\n",
       "      <td>...</td>\n",
       "      <td>...</td>\n",
       "      <td>...</td>\n",
       "      <td>...</td>\n",
       "    </tr>\n",
       "    <tr>\n",
       "      <th>16609</th>\n",
       "      <td>PDC World Championship Darts 2008</td>\n",
       "      <td>PSP</td>\n",
       "      <td>NaN</td>\n",
       "      <td>Sports</td>\n",
       "      <td>0.01</td>\n",
       "      <td>NaN</td>\n",
       "      <td>NaN</td>\n",
       "      <td>0.00</td>\n",
       "      <td>43.0</td>\n",
       "      <td>NaN</td>\n",
       "      <td>E10+</td>\n",
       "    </tr>\n",
       "    <tr>\n",
       "      <th>16641</th>\n",
       "      <td>Freaky Flyers</td>\n",
       "      <td>GC</td>\n",
       "      <td>NaN</td>\n",
       "      <td>Racing</td>\n",
       "      <td>0.01</td>\n",
       "      <td>NaN</td>\n",
       "      <td>NaN</td>\n",
       "      <td>0.00</td>\n",
       "      <td>69.0</td>\n",
       "      <td>6.5</td>\n",
       "      <td>T</td>\n",
       "    </tr>\n",
       "    <tr>\n",
       "      <th>16685</th>\n",
       "      <td>Inversion</td>\n",
       "      <td>PC</td>\n",
       "      <td>NaN</td>\n",
       "      <td>Shooter</td>\n",
       "      <td>0.01</td>\n",
       "      <td>NaN</td>\n",
       "      <td>NaN</td>\n",
       "      <td>0.00</td>\n",
       "      <td>59.0</td>\n",
       "      <td>6.7</td>\n",
       "      <td>M</td>\n",
       "    </tr>\n",
       "    <tr>\n",
       "      <th>16695</th>\n",
       "      <td>Hakuouki: Shinsengumi Kitan</td>\n",
       "      <td>PS3</td>\n",
       "      <td>NaN</td>\n",
       "      <td>Adventure</td>\n",
       "      <td>0.01</td>\n",
       "      <td>NaN</td>\n",
       "      <td>NaN</td>\n",
       "      <td>0.00</td>\n",
       "      <td>NaN</td>\n",
       "      <td>NaN</td>\n",
       "      <td>NaN</td>\n",
       "    </tr>\n",
       "    <tr>\n",
       "      <th>16760</th>\n",
       "      <td>Virtua Quest</td>\n",
       "      <td>GC</td>\n",
       "      <td>NaN</td>\n",
       "      <td>Role-Playing</td>\n",
       "      <td>0.01</td>\n",
       "      <td>NaN</td>\n",
       "      <td>NaN</td>\n",
       "      <td>0.00</td>\n",
       "      <td>55.0</td>\n",
       "      <td>5.5</td>\n",
       "      <td>T</td>\n",
       "    </tr>\n",
       "  </tbody>\n",
       "</table>\n",
       "<p>275 rows × 11 columns</p>\n",
       "</div>"
      ],
      "text/plain": [
       "                                    name platform  year_of_release  \\\n",
       "183                      Madden NFL 2004      PS2              NaN   \n",
       "379                     FIFA Soccer 2004      PS2              NaN   \n",
       "458           LEGO Batman: The Videogame      Wii              NaN   \n",
       "477           wwe Smackdown vs. Raw 2006      PS2              NaN   \n",
       "611                       Space Invaders     2600              NaN   \n",
       "...                                  ...      ...              ...   \n",
       "16609  PDC World Championship Darts 2008      PSP              NaN   \n",
       "16641                      Freaky Flyers       GC              NaN   \n",
       "16685                          Inversion       PC              NaN   \n",
       "16695        Hakuouki: Shinsengumi Kitan      PS3              NaN   \n",
       "16760                       Virtua Quest       GC              NaN   \n",
       "\n",
       "              genre  na_sales  eu_sales  jp_sales  other_sales  critic_score  \\\n",
       "183          Sports      4.26       NaN       NaN         0.71          94.0   \n",
       "379          Sports      0.59       NaN       NaN         0.51          84.0   \n",
       "458          Action      1.80       NaN       NaN         0.29          74.0   \n",
       "477        Fighting      1.57       NaN       NaN         0.41           NaN   \n",
       "611         Shooter      2.36       NaN       NaN         0.03           NaN   \n",
       "...             ...       ...       ...       ...          ...           ...   \n",
       "16609        Sports      0.01       NaN       NaN         0.00          43.0   \n",
       "16641        Racing      0.01       NaN       NaN         0.00          69.0   \n",
       "16685       Shooter      0.01       NaN       NaN         0.00          59.0   \n",
       "16695     Adventure      0.01       NaN       NaN         0.00           NaN   \n",
       "16760  Role-Playing      0.01       NaN       NaN         0.00          55.0   \n",
       "\n",
       "       user_score rating  \n",
       "183           8.5      E  \n",
       "379           6.4      E  \n",
       "458           7.9   E10+  \n",
       "477           NaN    NaN  \n",
       "611           NaN    NaN  \n",
       "...           ...    ...  \n",
       "16609         NaN   E10+  \n",
       "16641         6.5      T  \n",
       "16685         6.7      M  \n",
       "16695         NaN    NaN  \n",
       "16760         5.5      T  \n",
       "\n",
       "[275 rows x 11 columns]"
      ]
     },
     "execution_count": 26,
     "metadata": {},
     "output_type": "execute_result"
    }
   ],
   "source": [
    "#выводим пропущеные значения в столбце year_of_release\n",
    "df[df['year_of_release'].isna()]"
   ]
  },
  {
   "cell_type": "markdown",
   "id": "cac5f6bf",
   "metadata": {},
   "source": [
    "Так же как и пропуски в данных о продажах в разных странные, заполнить пропуски невозможно из-за отсутвия данных, поэтому их следует удалить из выборки. Но можно тоже уточнить реальные данные и заполнить эти пропуски."
   ]
  },
  {
   "cell_type": "code",
   "execution_count": 27,
   "id": "8df58689",
   "metadata": {},
   "outputs": [],
   "source": [
    "df = df.dropna(subset=['year_of_release'])"
   ]
  },
  {
   "cell_type": "code",
   "execution_count": 28,
   "id": "3b364c28",
   "metadata": {},
   "outputs": [
    {
     "data": {
      "text/html": [
       "<div>\n",
       "<style scoped>\n",
       "    .dataframe tbody tr th:only-of-type {\n",
       "        vertical-align: middle;\n",
       "    }\n",
       "\n",
       "    .dataframe tbody tr th {\n",
       "        vertical-align: top;\n",
       "    }\n",
       "\n",
       "    .dataframe thead th {\n",
       "        text-align: right;\n",
       "    }\n",
       "</style>\n",
       "<table border=\"1\" class=\"dataframe\">\n",
       "  <thead>\n",
       "    <tr style=\"text-align: right;\">\n",
       "      <th></th>\n",
       "      <th>name</th>\n",
       "      <th>platform</th>\n",
       "      <th>year_of_release</th>\n",
       "      <th>genre</th>\n",
       "      <th>na_sales</th>\n",
       "      <th>eu_sales</th>\n",
       "      <th>jp_sales</th>\n",
       "      <th>other_sales</th>\n",
       "      <th>critic_score</th>\n",
       "      <th>user_score</th>\n",
       "      <th>rating</th>\n",
       "    </tr>\n",
       "  </thead>\n",
       "  <tbody>\n",
       "    <tr>\n",
       "      <th>1</th>\n",
       "      <td>Super Mario Bros.</td>\n",
       "      <td>NES</td>\n",
       "      <td>1985.0</td>\n",
       "      <td>Platform</td>\n",
       "      <td>29.08</td>\n",
       "      <td>3.58</td>\n",
       "      <td>6.81</td>\n",
       "      <td>0.77</td>\n",
       "      <td>NaN</td>\n",
       "      <td>NaN</td>\n",
       "      <td>NaN</td>\n",
       "    </tr>\n",
       "    <tr>\n",
       "      <th>4</th>\n",
       "      <td>Pokemon Red/Pokemon Blue</td>\n",
       "      <td>GB</td>\n",
       "      <td>1996.0</td>\n",
       "      <td>Role-Playing</td>\n",
       "      <td>11.27</td>\n",
       "      <td>8.89</td>\n",
       "      <td>10.22</td>\n",
       "      <td>1.00</td>\n",
       "      <td>NaN</td>\n",
       "      <td>NaN</td>\n",
       "      <td>NaN</td>\n",
       "    </tr>\n",
       "    <tr>\n",
       "      <th>5</th>\n",
       "      <td>Tetris</td>\n",
       "      <td>GB</td>\n",
       "      <td>1989.0</td>\n",
       "      <td>Puzzle</td>\n",
       "      <td>23.20</td>\n",
       "      <td>2.26</td>\n",
       "      <td>4.22</td>\n",
       "      <td>0.58</td>\n",
       "      <td>NaN</td>\n",
       "      <td>NaN</td>\n",
       "      <td>NaN</td>\n",
       "    </tr>\n",
       "    <tr>\n",
       "      <th>9</th>\n",
       "      <td>Duck Hunt</td>\n",
       "      <td>NES</td>\n",
       "      <td>1984.0</td>\n",
       "      <td>Shooter</td>\n",
       "      <td>26.93</td>\n",
       "      <td>0.63</td>\n",
       "      <td>0.28</td>\n",
       "      <td>0.47</td>\n",
       "      <td>NaN</td>\n",
       "      <td>NaN</td>\n",
       "      <td>NaN</td>\n",
       "    </tr>\n",
       "    <tr>\n",
       "      <th>10</th>\n",
       "      <td>Nintendogs</td>\n",
       "      <td>DS</td>\n",
       "      <td>2005.0</td>\n",
       "      <td>Simulation</td>\n",
       "      <td>9.05</td>\n",
       "      <td>10.95</td>\n",
       "      <td>1.93</td>\n",
       "      <td>2.74</td>\n",
       "      <td>NaN</td>\n",
       "      <td>NaN</td>\n",
       "      <td>NaN</td>\n",
       "    </tr>\n",
       "    <tr>\n",
       "      <th>...</th>\n",
       "      <td>...</td>\n",
       "      <td>...</td>\n",
       "      <td>...</td>\n",
       "      <td>...</td>\n",
       "      <td>...</td>\n",
       "      <td>...</td>\n",
       "      <td>...</td>\n",
       "      <td>...</td>\n",
       "      <td>...</td>\n",
       "      <td>...</td>\n",
       "      <td>...</td>\n",
       "    </tr>\n",
       "    <tr>\n",
       "      <th>16951</th>\n",
       "      <td>Samurai Warriors: Sanada Maru</td>\n",
       "      <td>PS3</td>\n",
       "      <td>2016.0</td>\n",
       "      <td>Action</td>\n",
       "      <td>0.00</td>\n",
       "      <td>0.00</td>\n",
       "      <td>0.01</td>\n",
       "      <td>0.00</td>\n",
       "      <td>NaN</td>\n",
       "      <td>NaN</td>\n",
       "      <td>NaN</td>\n",
       "    </tr>\n",
       "    <tr>\n",
       "      <th>16952</th>\n",
       "      <td>LMA Manager 2007</td>\n",
       "      <td>X360</td>\n",
       "      <td>2006.0</td>\n",
       "      <td>Sports</td>\n",
       "      <td>0.00</td>\n",
       "      <td>0.01</td>\n",
       "      <td>0.00</td>\n",
       "      <td>0.00</td>\n",
       "      <td>NaN</td>\n",
       "      <td>NaN</td>\n",
       "      <td>NaN</td>\n",
       "    </tr>\n",
       "    <tr>\n",
       "      <th>16953</th>\n",
       "      <td>Haitaka no Psychedelica</td>\n",
       "      <td>PSV</td>\n",
       "      <td>2016.0</td>\n",
       "      <td>Adventure</td>\n",
       "      <td>0.00</td>\n",
       "      <td>0.00</td>\n",
       "      <td>0.01</td>\n",
       "      <td>0.00</td>\n",
       "      <td>NaN</td>\n",
       "      <td>NaN</td>\n",
       "      <td>NaN</td>\n",
       "    </tr>\n",
       "    <tr>\n",
       "      <th>16954</th>\n",
       "      <td>Spirits &amp; Spells</td>\n",
       "      <td>GBA</td>\n",
       "      <td>2003.0</td>\n",
       "      <td>Platform</td>\n",
       "      <td>0.01</td>\n",
       "      <td>0.00</td>\n",
       "      <td>0.00</td>\n",
       "      <td>0.00</td>\n",
       "      <td>NaN</td>\n",
       "      <td>NaN</td>\n",
       "      <td>NaN</td>\n",
       "    </tr>\n",
       "    <tr>\n",
       "      <th>16955</th>\n",
       "      <td>Winning Post 8 2016</td>\n",
       "      <td>PSV</td>\n",
       "      <td>2016.0</td>\n",
       "      <td>Simulation</td>\n",
       "      <td>0.00</td>\n",
       "      <td>0.00</td>\n",
       "      <td>0.01</td>\n",
       "      <td>0.00</td>\n",
       "      <td>NaN</td>\n",
       "      <td>NaN</td>\n",
       "      <td>NaN</td>\n",
       "    </tr>\n",
       "  </tbody>\n",
       "</table>\n",
       "<p>8594 rows × 11 columns</p>\n",
       "</div>"
      ],
      "text/plain": [
       "                                name platform  year_of_release         genre  \\\n",
       "1                  Super Mario Bros.      NES           1985.0      Platform   \n",
       "4           Pokemon Red/Pokemon Blue       GB           1996.0  Role-Playing   \n",
       "5                             Tetris       GB           1989.0        Puzzle   \n",
       "9                          Duck Hunt      NES           1984.0       Shooter   \n",
       "10                        Nintendogs       DS           2005.0    Simulation   \n",
       "...                              ...      ...              ...           ...   \n",
       "16951  Samurai Warriors: Sanada Maru      PS3           2016.0        Action   \n",
       "16952               LMA Manager 2007     X360           2006.0        Sports   \n",
       "16953        Haitaka no Psychedelica      PSV           2016.0     Adventure   \n",
       "16954               Spirits & Spells      GBA           2003.0      Platform   \n",
       "16955            Winning Post 8 2016      PSV           2016.0    Simulation   \n",
       "\n",
       "       na_sales  eu_sales  jp_sales  other_sales  critic_score  user_score  \\\n",
       "1         29.08      3.58      6.81         0.77           NaN         NaN   \n",
       "4         11.27      8.89     10.22         1.00           NaN         NaN   \n",
       "5         23.20      2.26      4.22         0.58           NaN         NaN   \n",
       "9         26.93      0.63      0.28         0.47           NaN         NaN   \n",
       "10         9.05     10.95      1.93         2.74           NaN         NaN   \n",
       "...         ...       ...       ...          ...           ...         ...   \n",
       "16951      0.00      0.00      0.01         0.00           NaN         NaN   \n",
       "16952      0.00      0.01      0.00         0.00           NaN         NaN   \n",
       "16953      0.00      0.00      0.01         0.00           NaN         NaN   \n",
       "16954      0.01      0.00      0.00         0.00           NaN         NaN   \n",
       "16955      0.00      0.00      0.01         0.00           NaN         NaN   \n",
       "\n",
       "      rating  \n",
       "1        NaN  \n",
       "4        NaN  \n",
       "5        NaN  \n",
       "9        NaN  \n",
       "10       NaN  \n",
       "...      ...  \n",
       "16951    NaN  \n",
       "16952    NaN  \n",
       "16953    NaN  \n",
       "16954    NaN  \n",
       "16955    NaN  \n",
       "\n",
       "[8594 rows x 11 columns]"
      ]
     },
     "execution_count": 28,
     "metadata": {},
     "output_type": "execute_result"
    }
   ],
   "source": [
    "#выводим пропущеные значения в столбце critic_score\n",
    "df[df['critic_score'].isna()]"
   ]
  },
  {
   "cell_type": "code",
   "execution_count": 29,
   "id": "e0e59478",
   "metadata": {},
   "outputs": [
    {
     "data": {
      "text/html": [
       "<div>\n",
       "<style scoped>\n",
       "    .dataframe tbody tr th:only-of-type {\n",
       "        vertical-align: middle;\n",
       "    }\n",
       "\n",
       "    .dataframe tbody tr th {\n",
       "        vertical-align: top;\n",
       "    }\n",
       "\n",
       "    .dataframe thead th {\n",
       "        text-align: right;\n",
       "    }\n",
       "</style>\n",
       "<table border=\"1\" class=\"dataframe\">\n",
       "  <thead>\n",
       "    <tr style=\"text-align: right;\">\n",
       "      <th></th>\n",
       "      <th>name</th>\n",
       "      <th>platform</th>\n",
       "      <th>year_of_release</th>\n",
       "      <th>genre</th>\n",
       "      <th>na_sales</th>\n",
       "      <th>eu_sales</th>\n",
       "      <th>jp_sales</th>\n",
       "      <th>other_sales</th>\n",
       "      <th>critic_score</th>\n",
       "      <th>user_score</th>\n",
       "      <th>rating</th>\n",
       "    </tr>\n",
       "  </thead>\n",
       "  <tbody>\n",
       "    <tr>\n",
       "      <th>1</th>\n",
       "      <td>Super Mario Bros.</td>\n",
       "      <td>NES</td>\n",
       "      <td>1985.0</td>\n",
       "      <td>Platform</td>\n",
       "      <td>29.08</td>\n",
       "      <td>3.58</td>\n",
       "      <td>6.81</td>\n",
       "      <td>0.77</td>\n",
       "      <td>NaN</td>\n",
       "      <td>NaN</td>\n",
       "      <td>NaN</td>\n",
       "    </tr>\n",
       "    <tr>\n",
       "      <th>4</th>\n",
       "      <td>Pokemon Red/Pokemon Blue</td>\n",
       "      <td>GB</td>\n",
       "      <td>1996.0</td>\n",
       "      <td>Role-Playing</td>\n",
       "      <td>11.27</td>\n",
       "      <td>8.89</td>\n",
       "      <td>10.22</td>\n",
       "      <td>1.00</td>\n",
       "      <td>NaN</td>\n",
       "      <td>NaN</td>\n",
       "      <td>NaN</td>\n",
       "    </tr>\n",
       "    <tr>\n",
       "      <th>5</th>\n",
       "      <td>Tetris</td>\n",
       "      <td>GB</td>\n",
       "      <td>1989.0</td>\n",
       "      <td>Puzzle</td>\n",
       "      <td>23.20</td>\n",
       "      <td>2.26</td>\n",
       "      <td>4.22</td>\n",
       "      <td>0.58</td>\n",
       "      <td>NaN</td>\n",
       "      <td>NaN</td>\n",
       "      <td>NaN</td>\n",
       "    </tr>\n",
       "    <tr>\n",
       "      <th>9</th>\n",
       "      <td>Duck Hunt</td>\n",
       "      <td>NES</td>\n",
       "      <td>1984.0</td>\n",
       "      <td>Shooter</td>\n",
       "      <td>26.93</td>\n",
       "      <td>0.63</td>\n",
       "      <td>0.28</td>\n",
       "      <td>0.47</td>\n",
       "      <td>NaN</td>\n",
       "      <td>NaN</td>\n",
       "      <td>NaN</td>\n",
       "    </tr>\n",
       "    <tr>\n",
       "      <th>10</th>\n",
       "      <td>Nintendogs</td>\n",
       "      <td>DS</td>\n",
       "      <td>2005.0</td>\n",
       "      <td>Simulation</td>\n",
       "      <td>9.05</td>\n",
       "      <td>10.95</td>\n",
       "      <td>1.93</td>\n",
       "      <td>2.74</td>\n",
       "      <td>NaN</td>\n",
       "      <td>NaN</td>\n",
       "      <td>NaN</td>\n",
       "    </tr>\n",
       "    <tr>\n",
       "      <th>...</th>\n",
       "      <td>...</td>\n",
       "      <td>...</td>\n",
       "      <td>...</td>\n",
       "      <td>...</td>\n",
       "      <td>...</td>\n",
       "      <td>...</td>\n",
       "      <td>...</td>\n",
       "      <td>...</td>\n",
       "      <td>...</td>\n",
       "      <td>...</td>\n",
       "      <td>...</td>\n",
       "    </tr>\n",
       "    <tr>\n",
       "      <th>16951</th>\n",
       "      <td>Samurai Warriors: Sanada Maru</td>\n",
       "      <td>PS3</td>\n",
       "      <td>2016.0</td>\n",
       "      <td>Action</td>\n",
       "      <td>0.00</td>\n",
       "      <td>0.00</td>\n",
       "      <td>0.01</td>\n",
       "      <td>0.00</td>\n",
       "      <td>NaN</td>\n",
       "      <td>NaN</td>\n",
       "      <td>NaN</td>\n",
       "    </tr>\n",
       "    <tr>\n",
       "      <th>16952</th>\n",
       "      <td>LMA Manager 2007</td>\n",
       "      <td>X360</td>\n",
       "      <td>2006.0</td>\n",
       "      <td>Sports</td>\n",
       "      <td>0.00</td>\n",
       "      <td>0.01</td>\n",
       "      <td>0.00</td>\n",
       "      <td>0.00</td>\n",
       "      <td>NaN</td>\n",
       "      <td>NaN</td>\n",
       "      <td>NaN</td>\n",
       "    </tr>\n",
       "    <tr>\n",
       "      <th>16953</th>\n",
       "      <td>Haitaka no Psychedelica</td>\n",
       "      <td>PSV</td>\n",
       "      <td>2016.0</td>\n",
       "      <td>Adventure</td>\n",
       "      <td>0.00</td>\n",
       "      <td>0.00</td>\n",
       "      <td>0.01</td>\n",
       "      <td>0.00</td>\n",
       "      <td>NaN</td>\n",
       "      <td>NaN</td>\n",
       "      <td>NaN</td>\n",
       "    </tr>\n",
       "    <tr>\n",
       "      <th>16954</th>\n",
       "      <td>Spirits &amp; Spells</td>\n",
       "      <td>GBA</td>\n",
       "      <td>2003.0</td>\n",
       "      <td>Platform</td>\n",
       "      <td>0.01</td>\n",
       "      <td>0.00</td>\n",
       "      <td>0.00</td>\n",
       "      <td>0.00</td>\n",
       "      <td>NaN</td>\n",
       "      <td>NaN</td>\n",
       "      <td>NaN</td>\n",
       "    </tr>\n",
       "    <tr>\n",
       "      <th>16955</th>\n",
       "      <td>Winning Post 8 2016</td>\n",
       "      <td>PSV</td>\n",
       "      <td>2016.0</td>\n",
       "      <td>Simulation</td>\n",
       "      <td>0.00</td>\n",
       "      <td>0.00</td>\n",
       "      <td>0.01</td>\n",
       "      <td>0.00</td>\n",
       "      <td>NaN</td>\n",
       "      <td>NaN</td>\n",
       "      <td>NaN</td>\n",
       "    </tr>\n",
       "  </tbody>\n",
       "</table>\n",
       "<p>9121 rows × 11 columns</p>\n",
       "</div>"
      ],
      "text/plain": [
       "                                name platform  year_of_release         genre  \\\n",
       "1                  Super Mario Bros.      NES           1985.0      Platform   \n",
       "4           Pokemon Red/Pokemon Blue       GB           1996.0  Role-Playing   \n",
       "5                             Tetris       GB           1989.0        Puzzle   \n",
       "9                          Duck Hunt      NES           1984.0       Shooter   \n",
       "10                        Nintendogs       DS           2005.0    Simulation   \n",
       "...                              ...      ...              ...           ...   \n",
       "16951  Samurai Warriors: Sanada Maru      PS3           2016.0        Action   \n",
       "16952               LMA Manager 2007     X360           2006.0        Sports   \n",
       "16953        Haitaka no Psychedelica      PSV           2016.0     Adventure   \n",
       "16954               Spirits & Spells      GBA           2003.0      Platform   \n",
       "16955            Winning Post 8 2016      PSV           2016.0    Simulation   \n",
       "\n",
       "       na_sales  eu_sales  jp_sales  other_sales  critic_score  user_score  \\\n",
       "1         29.08      3.58      6.81         0.77           NaN         NaN   \n",
       "4         11.27      8.89     10.22         1.00           NaN         NaN   \n",
       "5         23.20      2.26      4.22         0.58           NaN         NaN   \n",
       "9         26.93      0.63      0.28         0.47           NaN         NaN   \n",
       "10         9.05     10.95      1.93         2.74           NaN         NaN   \n",
       "...         ...       ...       ...          ...           ...         ...   \n",
       "16951      0.00      0.00      0.01         0.00           NaN         NaN   \n",
       "16952      0.00      0.01      0.00         0.00           NaN         NaN   \n",
       "16953      0.00      0.00      0.01         0.00           NaN         NaN   \n",
       "16954      0.01      0.00      0.00         0.00           NaN         NaN   \n",
       "16955      0.00      0.00      0.01         0.00           NaN         NaN   \n",
       "\n",
       "      rating  \n",
       "1        NaN  \n",
       "4        NaN  \n",
       "5        NaN  \n",
       "9        NaN  \n",
       "10       NaN  \n",
       "...      ...  \n",
       "16951    NaN  \n",
       "16952    NaN  \n",
       "16953    NaN  \n",
       "16954    NaN  \n",
       "16955    NaN  \n",
       "\n",
       "[9121 rows x 11 columns]"
      ]
     },
     "execution_count": 29,
     "metadata": {},
     "output_type": "execute_result"
    }
   ],
   "source": [
    "#выводим пропущеные значения в столбце user_score\n",
    "df[df['user_score'].isna()]"
   ]
  },
  {
   "cell_type": "code",
   "execution_count": 30,
   "id": "adfdd66f",
   "metadata": {},
   "outputs": [
    {
     "data": {
      "text/html": [
       "<div>\n",
       "<style scoped>\n",
       "    .dataframe tbody tr th:only-of-type {\n",
       "        vertical-align: middle;\n",
       "    }\n",
       "\n",
       "    .dataframe tbody tr th {\n",
       "        vertical-align: top;\n",
       "    }\n",
       "\n",
       "    .dataframe thead th {\n",
       "        text-align: right;\n",
       "    }\n",
       "</style>\n",
       "<table border=\"1\" class=\"dataframe\">\n",
       "  <thead>\n",
       "    <tr style=\"text-align: right;\">\n",
       "      <th></th>\n",
       "      <th>name</th>\n",
       "      <th>platform</th>\n",
       "      <th>year_of_release</th>\n",
       "      <th>genre</th>\n",
       "      <th>na_sales</th>\n",
       "      <th>eu_sales</th>\n",
       "      <th>jp_sales</th>\n",
       "      <th>other_sales</th>\n",
       "      <th>critic_score</th>\n",
       "      <th>user_score</th>\n",
       "      <th>rating</th>\n",
       "    </tr>\n",
       "  </thead>\n",
       "  <tbody>\n",
       "    <tr>\n",
       "      <th>1</th>\n",
       "      <td>Super Mario Bros.</td>\n",
       "      <td>NES</td>\n",
       "      <td>1985.0</td>\n",
       "      <td>Platform</td>\n",
       "      <td>29.08</td>\n",
       "      <td>3.58</td>\n",
       "      <td>6.81</td>\n",
       "      <td>0.77</td>\n",
       "      <td>NaN</td>\n",
       "      <td>NaN</td>\n",
       "      <td>NaN</td>\n",
       "    </tr>\n",
       "    <tr>\n",
       "      <th>4</th>\n",
       "      <td>Pokemon Red/Pokemon Blue</td>\n",
       "      <td>GB</td>\n",
       "      <td>1996.0</td>\n",
       "      <td>Role-Playing</td>\n",
       "      <td>11.27</td>\n",
       "      <td>8.89</td>\n",
       "      <td>10.22</td>\n",
       "      <td>1.00</td>\n",
       "      <td>NaN</td>\n",
       "      <td>NaN</td>\n",
       "      <td>NaN</td>\n",
       "    </tr>\n",
       "    <tr>\n",
       "      <th>5</th>\n",
       "      <td>Tetris</td>\n",
       "      <td>GB</td>\n",
       "      <td>1989.0</td>\n",
       "      <td>Puzzle</td>\n",
       "      <td>23.20</td>\n",
       "      <td>2.26</td>\n",
       "      <td>4.22</td>\n",
       "      <td>0.58</td>\n",
       "      <td>NaN</td>\n",
       "      <td>NaN</td>\n",
       "      <td>NaN</td>\n",
       "    </tr>\n",
       "    <tr>\n",
       "      <th>9</th>\n",
       "      <td>Duck Hunt</td>\n",
       "      <td>NES</td>\n",
       "      <td>1984.0</td>\n",
       "      <td>Shooter</td>\n",
       "      <td>26.93</td>\n",
       "      <td>0.63</td>\n",
       "      <td>0.28</td>\n",
       "      <td>0.47</td>\n",
       "      <td>NaN</td>\n",
       "      <td>NaN</td>\n",
       "      <td>NaN</td>\n",
       "    </tr>\n",
       "    <tr>\n",
       "      <th>10</th>\n",
       "      <td>Nintendogs</td>\n",
       "      <td>DS</td>\n",
       "      <td>2005.0</td>\n",
       "      <td>Simulation</td>\n",
       "      <td>9.05</td>\n",
       "      <td>10.95</td>\n",
       "      <td>1.93</td>\n",
       "      <td>2.74</td>\n",
       "      <td>NaN</td>\n",
       "      <td>NaN</td>\n",
       "      <td>NaN</td>\n",
       "    </tr>\n",
       "    <tr>\n",
       "      <th>...</th>\n",
       "      <td>...</td>\n",
       "      <td>...</td>\n",
       "      <td>...</td>\n",
       "      <td>...</td>\n",
       "      <td>...</td>\n",
       "      <td>...</td>\n",
       "      <td>...</td>\n",
       "      <td>...</td>\n",
       "      <td>...</td>\n",
       "      <td>...</td>\n",
       "      <td>...</td>\n",
       "    </tr>\n",
       "    <tr>\n",
       "      <th>16951</th>\n",
       "      <td>Samurai Warriors: Sanada Maru</td>\n",
       "      <td>PS3</td>\n",
       "      <td>2016.0</td>\n",
       "      <td>Action</td>\n",
       "      <td>0.00</td>\n",
       "      <td>0.00</td>\n",
       "      <td>0.01</td>\n",
       "      <td>0.00</td>\n",
       "      <td>NaN</td>\n",
       "      <td>NaN</td>\n",
       "      <td>NaN</td>\n",
       "    </tr>\n",
       "    <tr>\n",
       "      <th>16952</th>\n",
       "      <td>LMA Manager 2007</td>\n",
       "      <td>X360</td>\n",
       "      <td>2006.0</td>\n",
       "      <td>Sports</td>\n",
       "      <td>0.00</td>\n",
       "      <td>0.01</td>\n",
       "      <td>0.00</td>\n",
       "      <td>0.00</td>\n",
       "      <td>NaN</td>\n",
       "      <td>NaN</td>\n",
       "      <td>NaN</td>\n",
       "    </tr>\n",
       "    <tr>\n",
       "      <th>16953</th>\n",
       "      <td>Haitaka no Psychedelica</td>\n",
       "      <td>PSV</td>\n",
       "      <td>2016.0</td>\n",
       "      <td>Adventure</td>\n",
       "      <td>0.00</td>\n",
       "      <td>0.00</td>\n",
       "      <td>0.01</td>\n",
       "      <td>0.00</td>\n",
       "      <td>NaN</td>\n",
       "      <td>NaN</td>\n",
       "      <td>NaN</td>\n",
       "    </tr>\n",
       "    <tr>\n",
       "      <th>16954</th>\n",
       "      <td>Spirits &amp; Spells</td>\n",
       "      <td>GBA</td>\n",
       "      <td>2003.0</td>\n",
       "      <td>Platform</td>\n",
       "      <td>0.01</td>\n",
       "      <td>0.00</td>\n",
       "      <td>0.00</td>\n",
       "      <td>0.00</td>\n",
       "      <td>NaN</td>\n",
       "      <td>NaN</td>\n",
       "      <td>NaN</td>\n",
       "    </tr>\n",
       "    <tr>\n",
       "      <th>16955</th>\n",
       "      <td>Winning Post 8 2016</td>\n",
       "      <td>PSV</td>\n",
       "      <td>2016.0</td>\n",
       "      <td>Simulation</td>\n",
       "      <td>0.00</td>\n",
       "      <td>0.00</td>\n",
       "      <td>0.01</td>\n",
       "      <td>0.00</td>\n",
       "      <td>NaN</td>\n",
       "      <td>NaN</td>\n",
       "      <td>NaN</td>\n",
       "    </tr>\n",
       "  </tbody>\n",
       "</table>\n",
       "<p>6778 rows × 11 columns</p>\n",
       "</div>"
      ],
      "text/plain": [
       "                                name platform  year_of_release         genre  \\\n",
       "1                  Super Mario Bros.      NES           1985.0      Platform   \n",
       "4           Pokemon Red/Pokemon Blue       GB           1996.0  Role-Playing   \n",
       "5                             Tetris       GB           1989.0        Puzzle   \n",
       "9                          Duck Hunt      NES           1984.0       Shooter   \n",
       "10                        Nintendogs       DS           2005.0    Simulation   \n",
       "...                              ...      ...              ...           ...   \n",
       "16951  Samurai Warriors: Sanada Maru      PS3           2016.0        Action   \n",
       "16952               LMA Manager 2007     X360           2006.0        Sports   \n",
       "16953        Haitaka no Psychedelica      PSV           2016.0     Adventure   \n",
       "16954               Spirits & Spells      GBA           2003.0      Platform   \n",
       "16955            Winning Post 8 2016      PSV           2016.0    Simulation   \n",
       "\n",
       "       na_sales  eu_sales  jp_sales  other_sales  critic_score  user_score  \\\n",
       "1         29.08      3.58      6.81         0.77           NaN         NaN   \n",
       "4         11.27      8.89     10.22         1.00           NaN         NaN   \n",
       "5         23.20      2.26      4.22         0.58           NaN         NaN   \n",
       "9         26.93      0.63      0.28         0.47           NaN         NaN   \n",
       "10         9.05     10.95      1.93         2.74           NaN         NaN   \n",
       "...         ...       ...       ...          ...           ...         ...   \n",
       "16951      0.00      0.00      0.01         0.00           NaN         NaN   \n",
       "16952      0.00      0.01      0.00         0.00           NaN         NaN   \n",
       "16953      0.00      0.00      0.01         0.00           NaN         NaN   \n",
       "16954      0.01      0.00      0.00         0.00           NaN         NaN   \n",
       "16955      0.00      0.00      0.01         0.00           NaN         NaN   \n",
       "\n",
       "      rating  \n",
       "1        NaN  \n",
       "4        NaN  \n",
       "5        NaN  \n",
       "9        NaN  \n",
       "10       NaN  \n",
       "...      ...  \n",
       "16951    NaN  \n",
       "16952    NaN  \n",
       "16953    NaN  \n",
       "16954    NaN  \n",
       "16955    NaN  \n",
       "\n",
       "[6778 rows x 11 columns]"
      ]
     },
     "execution_count": 30,
     "metadata": {},
     "output_type": "execute_result"
    }
   ],
   "source": [
    "#выводим пропущеные значения в столбце rating\n",
    "df[df['rating'].isna()]"
   ]
  },
  {
   "cell_type": "markdown",
   "id": "05ad1eac",
   "metadata": {},
   "source": [
    "В столбцах `critic_score`, `rating_score` и `rating` данные о рейтингах отсутсвуют либо из-за более ранней даты релиза (примерно до 2000 года), что может говорить о том что данных за этот период нет, а так же стоит учитывать что категории рейтинга ESRB - были введены с 1994 года и в играх до этого года будут пропуски в данных. Тут стоит заполнить данные \"заглушкой\", чтобы они не влияли на статистические показатели.\n",
    "\n",
    "Так же рейтинг отсутсвует из-за малых или нулевых продаж, скорее всего это непопулярные игры и для них нет рейтинга."
   ]
  },
  {
   "cell_type": "code",
   "execution_count": 31,
   "id": "b039434d",
   "metadata": {},
   "outputs": [],
   "source": [
    "# заполним столбец critic_score на \"заглушку\"\n",
    "df['critic_score'] = df['critic_score'].fillna(-1) "
   ]
  },
  {
   "cell_type": "code",
   "execution_count": 32,
   "id": "5e423f51",
   "metadata": {},
   "outputs": [],
   "source": [
    "# заполним столбец user_score на \"заглушку\"\n",
    "df['user_score'] = df['user_score'].fillna(-1) "
   ]
  },
  {
   "cell_type": "code",
   "execution_count": 33,
   "id": "b1a3ed9a",
   "metadata": {},
   "outputs": [],
   "source": [
    "# заполним столбец rating на \"заглушку\"\n",
    "df['rating'] = df['rating'].fillna('нет данных') "
   ]
  },
  {
   "cell_type": "markdown",
   "id": "05f31b9d",
   "metadata": {},
   "source": [
    "Теперь после обработки пропусков, приведем типы данных в необходимые и удобные для анализа:"
   ]
  },
  {
   "cell_type": "code",
   "execution_count": 34,
   "id": "822f2054",
   "metadata": {},
   "outputs": [],
   "source": [
    "# заменим тип данных на int\n",
    "for column in ['year_of_release','critic_score']:\n",
    "    df[column] = pd.to_numeric(df[column], errors='coerce', downcast='integer')"
   ]
  },
  {
   "cell_type": "code",
   "execution_count": 35,
   "id": "73be47d8",
   "metadata": {},
   "outputs": [
    {
     "name": "stdout",
     "output_type": "stream",
     "text": [
      "<class 'pandas.core.frame.DataFrame'>\n",
      "Int64Index: 16679 entries, 0 to 16955\n",
      "Data columns (total 11 columns):\n",
      " #   Column           Non-Null Count  Dtype  \n",
      "---  ------           --------------  -----  \n",
      " 0   name             16679 non-null  object \n",
      " 1   platform         16679 non-null  object \n",
      " 2   year_of_release  16679 non-null  int16  \n",
      " 3   genre            16679 non-null  object \n",
      " 4   na_sales         16679 non-null  float64\n",
      " 5   eu_sales         16679 non-null  float32\n",
      " 6   jp_sales         16679 non-null  float32\n",
      " 7   other_sales      16679 non-null  float64\n",
      " 8   critic_score     16679 non-null  int8   \n",
      " 9   user_score       16679 non-null  float32\n",
      " 10  rating           16679 non-null  object \n",
      "dtypes: float32(3), float64(2), int16(1), int8(1), object(4)\n",
      "memory usage: 1.1+ MB\n"
     ]
    }
   ],
   "source": [
    "df.info()"
   ]
  },
  {
   "cell_type": "code",
   "execution_count": 36,
   "id": "102fae58",
   "metadata": {
    "scrolled": true
   },
   "outputs": [
    {
     "data": {
      "text/html": [
       "<div>\n",
       "<style scoped>\n",
       "    .dataframe tbody tr th:only-of-type {\n",
       "        vertical-align: middle;\n",
       "    }\n",
       "\n",
       "    .dataframe tbody tr th {\n",
       "        vertical-align: top;\n",
       "    }\n",
       "\n",
       "    .dataframe thead th {\n",
       "        text-align: right;\n",
       "    }\n",
       "</style>\n",
       "<table border=\"1\" class=\"dataframe\">\n",
       "  <thead>\n",
       "    <tr style=\"text-align: right;\">\n",
       "      <th></th>\n",
       "      <th>name</th>\n",
       "      <th>platform</th>\n",
       "      <th>year_of_release</th>\n",
       "      <th>genre</th>\n",
       "      <th>na_sales</th>\n",
       "      <th>eu_sales</th>\n",
       "      <th>jp_sales</th>\n",
       "      <th>other_sales</th>\n",
       "      <th>critic_score</th>\n",
       "      <th>user_score</th>\n",
       "      <th>rating</th>\n",
       "    </tr>\n",
       "  </thead>\n",
       "  <tbody>\n",
       "    <tr>\n",
       "      <th>0</th>\n",
       "      <td>Wii Sports</td>\n",
       "      <td>Wii</td>\n",
       "      <td>2006</td>\n",
       "      <td>Sports</td>\n",
       "      <td>41.36</td>\n",
       "      <td>28.959999</td>\n",
       "      <td>3.77</td>\n",
       "      <td>8.45</td>\n",
       "      <td>76</td>\n",
       "      <td>8.0</td>\n",
       "      <td>E</td>\n",
       "    </tr>\n",
       "    <tr>\n",
       "      <th>1</th>\n",
       "      <td>Super Mario Bros.</td>\n",
       "      <td>NES</td>\n",
       "      <td>1985</td>\n",
       "      <td>Platform</td>\n",
       "      <td>29.08</td>\n",
       "      <td>3.580000</td>\n",
       "      <td>6.81</td>\n",
       "      <td>0.77</td>\n",
       "      <td>-1</td>\n",
       "      <td>-1.0</td>\n",
       "      <td>нет данных</td>\n",
       "    </tr>\n",
       "    <tr>\n",
       "      <th>2</th>\n",
       "      <td>Mario Kart Wii</td>\n",
       "      <td>Wii</td>\n",
       "      <td>2008</td>\n",
       "      <td>Racing</td>\n",
       "      <td>15.68</td>\n",
       "      <td>12.760000</td>\n",
       "      <td>3.79</td>\n",
       "      <td>3.29</td>\n",
       "      <td>82</td>\n",
       "      <td>8.3</td>\n",
       "      <td>E</td>\n",
       "    </tr>\n",
       "    <tr>\n",
       "      <th>3</th>\n",
       "      <td>Wii Sports Resort</td>\n",
       "      <td>Wii</td>\n",
       "      <td>2009</td>\n",
       "      <td>Sports</td>\n",
       "      <td>15.61</td>\n",
       "      <td>10.930000</td>\n",
       "      <td>3.28</td>\n",
       "      <td>2.95</td>\n",
       "      <td>80</td>\n",
       "      <td>8.0</td>\n",
       "      <td>E</td>\n",
       "    </tr>\n",
       "    <tr>\n",
       "      <th>4</th>\n",
       "      <td>Pokemon Red/Pokemon Blue</td>\n",
       "      <td>GB</td>\n",
       "      <td>1996</td>\n",
       "      <td>Role-Playing</td>\n",
       "      <td>11.27</td>\n",
       "      <td>8.890000</td>\n",
       "      <td>10.22</td>\n",
       "      <td>1.00</td>\n",
       "      <td>-1</td>\n",
       "      <td>-1.0</td>\n",
       "      <td>нет данных</td>\n",
       "    </tr>\n",
       "  </tbody>\n",
       "</table>\n",
       "</div>"
      ],
      "text/plain": [
       "                       name platform  year_of_release         genre  na_sales  \\\n",
       "0                Wii Sports      Wii             2006        Sports     41.36   \n",
       "1         Super Mario Bros.      NES             1985      Platform     29.08   \n",
       "2            Mario Kart Wii      Wii             2008        Racing     15.68   \n",
       "3         Wii Sports Resort      Wii             2009        Sports     15.61   \n",
       "4  Pokemon Red/Pokemon Blue       GB             1996  Role-Playing     11.27   \n",
       "\n",
       "    eu_sales  jp_sales  other_sales  critic_score  user_score      rating  \n",
       "0  28.959999      3.77         8.45            76         8.0           E  \n",
       "1   3.580000      6.81         0.77            -1        -1.0  нет данных  \n",
       "2  12.760000      3.79         3.29            82         8.3           E  \n",
       "3  10.930000      3.28         2.95            80         8.0           E  \n",
       "4   8.890000     10.22         1.00            -1        -1.0  нет данных  "
      ]
     },
     "execution_count": 36,
     "metadata": {},
     "output_type": "execute_result"
    }
   ],
   "source": [
    "df.head()"
   ]
  },
  {
   "cell_type": "markdown",
   "id": "600b852f",
   "metadata": {},
   "source": [
    "\n",
    "На основе предобработки можно сделать вывод, что пропуски характерны для столбцов `critic_score`, `user_score` и `rating` пропуски случайны, а поэтому относятся к виду `MAR` вероятность появления пропуска зависит от некоторой известной нам переменной, в данном датасете мы знаем, что в столбце `rating` данные отсутствуют из-за того, что данные были за период меньше 1994 года, либо игры не очень популярны или описание по ним отсутсвует, поэтому данные по ним не заполнены, такой же вывод характерен и для столбцов `other_sales`, `critic_score` и `user_score`.\n",
    "\n",
    "Пропуски в столбцах `year_of_release` и `name` было принято решение удалить, т.к. заполнить их без необходимых данных не представляется возможным. \n",
    "\n",
    "Пропуски в столбцах `eu_sales`, `jp_sales` были заменены медианными значениям в разрезе групп по платформе и дате релиза игр. \n",
    "\n",
    "Для удаления был использован метод `dropna()`, а для заполнения пропусков `fillna()`, `apply()`.\n",
    "\n",
    "Всего было обнаружено `25142` пропусков. Которые распределены в основном по столбцам в %:\n",
    "- critic_score -      `51.391838`\n",
    "- user_score   -      `54.659118`\n",
    "- rating    -         `40.522529`\n",
    "- name     -           `0.011795`\n",
    "- year_of_release -    `1.621845`\n",
    "- genre      -         `0.011795`\n",
    "- eu_sales     -       `0.035386`\n",
    "- jp_sales     -       `0.023590`"
   ]
  },
  {
   "cell_type": "markdown",
   "id": "a63363fd",
   "metadata": {},
   "source": [
    "### 2.4. Явные и неявные дубликаты в данных: \n",
    "\n",
    "- Изучите уникальные значения в категориальных данных, например с названиями жанра игры, платформы, рейтинга и года выпуска. Проверьте, встречаются ли среди данных неявные дубликаты, связанные с опечатками или разным способом написания.\n",
    "- При необходимости проведите нормализацию данных с текстовыми значениями. Названия или жанры игр можно привести к нижнему регистру, а названия рейтинга — к верхнему.\n",
    "- После того как нормализуете данные и устраните неявные дубликаты, проверьте наличие явных дубликатов в данных.\n",
    "- Напишите промежуточный вывод: укажите количество найденных дубликатов и действия по их обработке.\n",
    "\n",
    "В процессе подготовки данных вы могли удалять данные, например строки с пропусками или ошибками, дубликаты и прочее. В этом случае посчитайте количество удалённых строк в абсолютном и относительном значениях. После проведения предобработки данных напишите общий промежуточный вывод."
   ]
  },
  {
   "cell_type": "code",
   "execution_count": 37,
   "id": "491c9c39",
   "metadata": {},
   "outputs": [
    {
     "data": {
      "text/plain": [
       "array(['Sports', 'Platform', 'Racing', 'Role-Playing', 'Puzzle', 'Misc',\n",
       "       'Shooter', 'Simulation', 'Action', 'Fighting', 'Adventure',\n",
       "       'Strategy', 'MISC', 'ROLE-PLAYING', 'RACING', 'ACTION', 'SHOOTER',\n",
       "       'FIGHTING', 'SPORTS', 'PLATFORM', 'ADVENTURE', 'SIMULATION',\n",
       "       'PUZZLE', 'STRATEGY'], dtype=object)"
      ]
     },
     "execution_count": 37,
     "metadata": {},
     "output_type": "execute_result"
    }
   ],
   "source": [
    "# выведем уникальные значения для жанров\n",
    "df['genre'].unique()"
   ]
  },
  {
   "cell_type": "markdown",
   "id": "124dd682",
   "metadata": {},
   "source": [
    "Из уникальных данных по столбцу `genre` можно сделать вывод, что встречаются одинаковые данные, но записанные разным регистром, после нормализации данных жанры будут записаны в едином стиле."
   ]
  },
  {
   "cell_type": "code",
   "execution_count": 38,
   "id": "749a3480",
   "metadata": {},
   "outputs": [
    {
     "data": {
      "text/plain": [
       "array(['Wii', 'NES', 'GB', 'DS', 'X360', 'PS3', 'PS2', 'SNES', 'GBA',\n",
       "       'PS4', '3DS', 'N64', 'PS', 'XB', 'PC', '2600', 'PSP', 'XOne',\n",
       "       'WiiU', 'GC', 'GEN', 'DC', 'PSV', 'SAT', 'SCD', 'WS', 'NG', 'TG16',\n",
       "       '3DO', 'GG', 'PCFX'], dtype=object)"
      ]
     },
     "execution_count": 38,
     "metadata": {},
     "output_type": "execute_result"
    }
   ],
   "source": [
    "# выведем уникальные значения для платформ\n",
    "df['platform'].unique()"
   ]
  },
  {
   "cell_type": "code",
   "execution_count": 39,
   "id": "fc5c91b5",
   "metadata": {},
   "outputs": [
    {
     "data": {
      "text/plain": [
       "array(['E', 'нет данных', 'M', 'T', 'E10+', 'K-A', 'AO', 'EC', 'RP'],\n",
       "      dtype=object)"
      ]
     },
     "execution_count": 39,
     "metadata": {},
     "output_type": "execute_result"
    }
   ],
   "source": [
    "# выведем уникальные значения для возрастного рейтинга\n",
    "df['rating'].unique()"
   ]
  },
  {
   "cell_type": "code",
   "execution_count": 40,
   "id": "21758c62",
   "metadata": {},
   "outputs": [
    {
     "data": {
      "text/plain": [
       "array([2006, 1985, 2008, 2009, 1996, 1989, 1984, 2005, 1999, 2007, 2010,\n",
       "       2013, 2004, 1990, 1988, 2002, 2001, 2011, 1998, 2015, 2012, 2014,\n",
       "       1992, 1997, 1993, 1994, 1982, 2016, 2003, 1986, 2000, 1995, 1991,\n",
       "       1981, 1987, 1980, 1983], dtype=int16)"
      ]
     },
     "execution_count": 40,
     "metadata": {},
     "output_type": "execute_result"
    }
   ],
   "source": [
    "# выведем уникальные значения для годов релиза\n",
    "df['year_of_release'].unique()"
   ]
  },
  {
   "cell_type": "code",
   "execution_count": 41,
   "id": "f7150670",
   "metadata": {
    "scrolled": true
   },
   "outputs": [
    {
     "data": {
      "text/plain": [
       "array(['Wii Sports', 'Super Mario Bros.', 'Mario Kart Wii', ...,\n",
       "       'Woody Woodpecker in Crazy Castle 5', 'LMA Manager 2007',\n",
       "       'Haitaka no Psychedelica'], dtype=object)"
      ]
     },
     "execution_count": 41,
     "metadata": {},
     "output_type": "execute_result"
    }
   ],
   "source": [
    "# выведем уникальные значения для названия игр\n",
    "df['name'].unique()"
   ]
  },
  {
   "cell_type": "markdown",
   "id": "f5f4680e",
   "metadata": {},
   "source": [
    "Ниже нормализируем данные приведя в нижний или врехний регистр и посмотрим на данные, проверим и исправим при необходимости:"
   ]
  },
  {
   "cell_type": "code",
   "execution_count": 42,
   "id": "43469555",
   "metadata": {},
   "outputs": [],
   "source": [
    "df['genre'] = df['genre'].str.lower()"
   ]
  },
  {
   "cell_type": "code",
   "execution_count": 43,
   "id": "52120aae",
   "metadata": {},
   "outputs": [],
   "source": [
    "df['name'] = df['name'].str.lower()"
   ]
  },
  {
   "cell_type": "code",
   "execution_count": 44,
   "id": "21fe8b03",
   "metadata": {},
   "outputs": [],
   "source": [
    "df['platform'] = df['platform'].str.upper()"
   ]
  },
  {
   "cell_type": "code",
   "execution_count": 45,
   "id": "60453937",
   "metadata": {},
   "outputs": [],
   "source": [
    "df['rating'] = df['rating'].str.upper()"
   ]
  },
  {
   "cell_type": "markdown",
   "id": "37356cd8",
   "metadata": {},
   "source": [
    "Выведем уникальные названия для жанра, названия, платформы и возврастного рейтинга:"
   ]
  },
  {
   "cell_type": "code",
   "execution_count": 46,
   "id": "72e48357",
   "metadata": {},
   "outputs": [
    {
     "data": {
      "text/plain": [
       "array(['sports', 'platform', 'racing', 'role-playing', 'puzzle', 'misc',\n",
       "       'shooter', 'simulation', 'action', 'fighting', 'adventure',\n",
       "       'strategy'], dtype=object)"
      ]
     },
     "execution_count": 46,
     "metadata": {},
     "output_type": "execute_result"
    }
   ],
   "source": [
    "df['genre'].unique()"
   ]
  },
  {
   "cell_type": "code",
   "execution_count": 47,
   "id": "ba98ddb2",
   "metadata": {},
   "outputs": [
    {
     "data": {
      "text/plain": [
       "array(['wii sports', 'super mario bros.', 'mario kart wii', ...,\n",
       "       'woody woodpecker in crazy castle 5', 'lma manager 2007',\n",
       "       'haitaka no psychedelica'], dtype=object)"
      ]
     },
     "execution_count": 47,
     "metadata": {},
     "output_type": "execute_result"
    }
   ],
   "source": [
    "df['name'].unique()"
   ]
  },
  {
   "cell_type": "code",
   "execution_count": 48,
   "id": "d7e4201f",
   "metadata": {},
   "outputs": [
    {
     "data": {
      "text/plain": [
       "array(['WII', 'NES', 'GB', 'DS', 'X360', 'PS3', 'PS2', 'SNES', 'GBA',\n",
       "       'PS4', '3DS', 'N64', 'PS', 'XB', 'PC', '2600', 'PSP', 'XONE',\n",
       "       'WIIU', 'GC', 'GEN', 'DC', 'PSV', 'SAT', 'SCD', 'WS', 'NG', 'TG16',\n",
       "       '3DO', 'GG', 'PCFX'], dtype=object)"
      ]
     },
     "execution_count": 48,
     "metadata": {},
     "output_type": "execute_result"
    }
   ],
   "source": [
    "df['platform'].unique()"
   ]
  },
  {
   "cell_type": "code",
   "execution_count": 49,
   "id": "b8778247",
   "metadata": {},
   "outputs": [
    {
     "data": {
      "text/plain": [
       "array(['E', 'НЕТ ДАННЫХ', 'M', 'T', 'E10+', 'K-A', 'AO', 'EC', 'RP'],\n",
       "      dtype=object)"
      ]
     },
     "execution_count": 49,
     "metadata": {},
     "output_type": "execute_result"
    }
   ],
   "source": [
    "df['rating'].unique()"
   ]
  },
  {
   "cell_type": "markdown",
   "id": "f546df64",
   "metadata": {},
   "source": [
    "После нормализации данных уникальные значения не повторяются и нет необходимости заменять их. Все жанры, платформы и возрастные рейтинги абсолютно уникальны. \n",
    "\n",
    "Неявные дубликаты удалены, теперь стоит заняться обработкой явных дубликатов:"
   ]
  },
  {
   "cell_type": "code",
   "execution_count": 50,
   "id": "07ab614e",
   "metadata": {},
   "outputs": [
    {
     "name": "stdout",
     "output_type": "stream",
     "text": [
      "Количество строк до удаления дубликатов: 16679\n",
      "Количество строк после удаления дубликатов: 16444\n",
      "Количество удаленых дубликатов: 235\n",
      "Процент удаленных строк: 1.41%\n"
     ]
    }
   ],
   "source": [
    "# считаем кол-во строк до удаления дубликатов\n",
    "initial_row_count = df.shape[0]\n",
    "\n",
    "# Сортируем датафрейм по всем столбцам\n",
    "df_sorted = df.sort_values(by=list(df.columns))\n",
    "\n",
    "# Удаляем дубликаты\n",
    "df_no_duplicates = df_sorted.drop_duplicates()\n",
    "\n",
    "# Сохраняем количество строк после удаления дубликатов\n",
    "final_row_count = df_no_duplicates.shape[0]\n",
    "\n",
    "# абсолютное кол-во дубликатов\n",
    "abs_duplicates = initial_row_count - final_row_count\n",
    "\n",
    "# относительное кол-во дубликатов\n",
    "percent_duplicates = round(100 - ((final_row_count / initial_row_count) * 100),2)\n",
    "\n",
    "# Выводим результаты\n",
    "print(f\"Количество строк до удаления дубликатов: {initial_row_count}\")\n",
    "print(f\"Количество строк после удаления дубликатов: {final_row_count}\")\n",
    "print(f\"Количество удаленых дубликатов: {abs_duplicates}\")\n",
    "print(f\"Процент удаленных строк: {percent_duplicates}%\")"
   ]
  },
  {
   "cell_type": "markdown",
   "id": "a7aaac43",
   "metadata": {},
   "source": [
    "Итого было удалено `235` дублирующих строк. Это `1,41%` от всех данных. \n"
   ]
  },
  {
   "cell_type": "code",
   "execution_count": 51,
   "id": "54a2c8e8",
   "metadata": {},
   "outputs": [],
   "source": [
    "# проверим дублирующие строки по столбцам name, platform, year_of_release, genre\n",
    "four_row_dup = df[df.duplicated(subset=['name', 'platform', 'year_of_release', 'genre'])]\n"
   ]
  },
  {
   "cell_type": "code",
   "execution_count": 52,
   "id": "3284acab",
   "metadata": {},
   "outputs": [
    {
     "data": {
      "text/html": [
       "<div>\n",
       "<style scoped>\n",
       "    .dataframe tbody tr th:only-of-type {\n",
       "        vertical-align: middle;\n",
       "    }\n",
       "\n",
       "    .dataframe tbody tr th {\n",
       "        vertical-align: top;\n",
       "    }\n",
       "\n",
       "    .dataframe thead th {\n",
       "        text-align: right;\n",
       "    }\n",
       "</style>\n",
       "<table border=\"1\" class=\"dataframe\">\n",
       "  <thead>\n",
       "    <tr style=\"text-align: right;\">\n",
       "      <th></th>\n",
       "      <th>name</th>\n",
       "      <th>platform</th>\n",
       "      <th>year_of_release</th>\n",
       "      <th>genre</th>\n",
       "      <th>na_sales</th>\n",
       "      <th>eu_sales</th>\n",
       "      <th>jp_sales</th>\n",
       "      <th>other_sales</th>\n",
       "      <th>critic_score</th>\n",
       "      <th>user_score</th>\n",
       "      <th>rating</th>\n",
       "    </tr>\n",
       "  </thead>\n",
       "  <tbody>\n",
       "    <tr>\n",
       "      <th>268</th>\n",
       "      <td>batman: arkham asylum</td>\n",
       "      <td>PS3</td>\n",
       "      <td>2009</td>\n",
       "      <td>action</td>\n",
       "      <td>2.24</td>\n",
       "      <td>1.31</td>\n",
       "      <td>0.07</td>\n",
       "      <td>0.61</td>\n",
       "      <td>91</td>\n",
       "      <td>8.9</td>\n",
       "      <td>T</td>\n",
       "    </tr>\n",
       "    <tr>\n",
       "      <th>368</th>\n",
       "      <td>james bond 007: agent under fire</td>\n",
       "      <td>PS2</td>\n",
       "      <td>2001</td>\n",
       "      <td>shooter</td>\n",
       "      <td>1.90</td>\n",
       "      <td>1.13</td>\n",
       "      <td>0.10</td>\n",
       "      <td>0.41</td>\n",
       "      <td>72</td>\n",
       "      <td>7.9</td>\n",
       "      <td>T</td>\n",
       "    </tr>\n",
       "    <tr>\n",
       "      <th>717</th>\n",
       "      <td>god of war: ascension</td>\n",
       "      <td>PS3</td>\n",
       "      <td>2013</td>\n",
       "      <td>action</td>\n",
       "      <td>1.23</td>\n",
       "      <td>0.63</td>\n",
       "      <td>0.04</td>\n",
       "      <td>0.35</td>\n",
       "      <td>80</td>\n",
       "      <td>7.5</td>\n",
       "      <td>M</td>\n",
       "    </tr>\n",
       "    <tr>\n",
       "      <th>823</th>\n",
       "      <td>wipeout: the game</td>\n",
       "      <td>WII</td>\n",
       "      <td>2009</td>\n",
       "      <td>misc</td>\n",
       "      <td>1.94</td>\n",
       "      <td>0.00</td>\n",
       "      <td>0.00</td>\n",
       "      <td>0.12</td>\n",
       "      <td>-1</td>\n",
       "      <td>-1.0</td>\n",
       "      <td>НЕТ ДАННЫХ</td>\n",
       "    </tr>\n",
       "    <tr>\n",
       "      <th>848</th>\n",
       "      <td>rayman raving rabbids: tv party</td>\n",
       "      <td>WII</td>\n",
       "      <td>2008</td>\n",
       "      <td>misc</td>\n",
       "      <td>0.72</td>\n",
       "      <td>1.08</td>\n",
       "      <td>0.00</td>\n",
       "      <td>0.23</td>\n",
       "      <td>73</td>\n",
       "      <td>7.7</td>\n",
       "      <td>E10+</td>\n",
       "    </tr>\n",
       "    <tr>\n",
       "      <th>...</th>\n",
       "      <td>...</td>\n",
       "      <td>...</td>\n",
       "      <td>...</td>\n",
       "      <td>...</td>\n",
       "      <td>...</td>\n",
       "      <td>...</td>\n",
       "      <td>...</td>\n",
       "      <td>...</td>\n",
       "      <td>...</td>\n",
       "      <td>...</td>\n",
       "      <td>...</td>\n",
       "    </tr>\n",
       "    <tr>\n",
       "      <th>16671</th>\n",
       "      <td>fullmetal alchemist: prince of the dawn</td>\n",
       "      <td>WII</td>\n",
       "      <td>2009</td>\n",
       "      <td>adventure</td>\n",
       "      <td>0.00</td>\n",
       "      <td>0.00</td>\n",
       "      <td>0.01</td>\n",
       "      <td>0.00</td>\n",
       "      <td>-1</td>\n",
       "      <td>-1.0</td>\n",
       "      <td>НЕТ ДАННЫХ</td>\n",
       "    </tr>\n",
       "    <tr>\n",
       "      <th>16753</th>\n",
       "      <td>routes pe</td>\n",
       "      <td>PS2</td>\n",
       "      <td>2007</td>\n",
       "      <td>adventure</td>\n",
       "      <td>0.00</td>\n",
       "      <td>0.00</td>\n",
       "      <td>0.01</td>\n",
       "      <td>0.00</td>\n",
       "      <td>-1</td>\n",
       "      <td>-1.0</td>\n",
       "      <td>НЕТ ДАННЫХ</td>\n",
       "    </tr>\n",
       "    <tr>\n",
       "      <th>16799</th>\n",
       "      <td>transformers: prime</td>\n",
       "      <td>WII</td>\n",
       "      <td>2012</td>\n",
       "      <td>action</td>\n",
       "      <td>0.00</td>\n",
       "      <td>0.01</td>\n",
       "      <td>0.00</td>\n",
       "      <td>0.00</td>\n",
       "      <td>-1</td>\n",
       "      <td>-1.0</td>\n",
       "      <td>НЕТ ДАННЫХ</td>\n",
       "    </tr>\n",
       "    <tr>\n",
       "      <th>16912</th>\n",
       "      <td>metal gear solid v: the definitive experience</td>\n",
       "      <td>XONE</td>\n",
       "      <td>2016</td>\n",
       "      <td>action</td>\n",
       "      <td>0.01</td>\n",
       "      <td>0.00</td>\n",
       "      <td>0.00</td>\n",
       "      <td>0.00</td>\n",
       "      <td>-1</td>\n",
       "      <td>-1.0</td>\n",
       "      <td>M</td>\n",
       "    </tr>\n",
       "    <tr>\n",
       "      <th>16940</th>\n",
       "      <td>the longest 5 minutes</td>\n",
       "      <td>PSV</td>\n",
       "      <td>2016</td>\n",
       "      <td>action</td>\n",
       "      <td>0.00</td>\n",
       "      <td>0.00</td>\n",
       "      <td>0.01</td>\n",
       "      <td>0.00</td>\n",
       "      <td>-1</td>\n",
       "      <td>-1.0</td>\n",
       "      <td>НЕТ ДАННЫХ</td>\n",
       "    </tr>\n",
       "  </tbody>\n",
       "</table>\n",
       "<p>236 rows × 11 columns</p>\n",
       "</div>"
      ],
      "text/plain": [
       "                                                name platform  \\\n",
       "268                            batman: arkham asylum      PS3   \n",
       "368                 james bond 007: agent under fire      PS2   \n",
       "717                            god of war: ascension      PS3   \n",
       "823                                wipeout: the game      WII   \n",
       "848                  rayman raving rabbids: tv party      WII   \n",
       "...                                              ...      ...   \n",
       "16671        fullmetal alchemist: prince of the dawn      WII   \n",
       "16753                                      routes pe      PS2   \n",
       "16799                            transformers: prime      WII   \n",
       "16912  metal gear solid v: the definitive experience     XONE   \n",
       "16940                          the longest 5 minutes      PSV   \n",
       "\n",
       "       year_of_release      genre  na_sales  eu_sales  jp_sales  other_sales  \\\n",
       "268               2009     action      2.24      1.31      0.07         0.61   \n",
       "368               2001    shooter      1.90      1.13      0.10         0.41   \n",
       "717               2013     action      1.23      0.63      0.04         0.35   \n",
       "823               2009       misc      1.94      0.00      0.00         0.12   \n",
       "848               2008       misc      0.72      1.08      0.00         0.23   \n",
       "...                ...        ...       ...       ...       ...          ...   \n",
       "16671             2009  adventure      0.00      0.00      0.01         0.00   \n",
       "16753             2007  adventure      0.00      0.00      0.01         0.00   \n",
       "16799             2012     action      0.00      0.01      0.00         0.00   \n",
       "16912             2016     action      0.01      0.00      0.00         0.00   \n",
       "16940             2016     action      0.00      0.00      0.01         0.00   \n",
       "\n",
       "       critic_score  user_score      rating  \n",
       "268              91         8.9           T  \n",
       "368              72         7.9           T  \n",
       "717              80         7.5           M  \n",
       "823              -1        -1.0  НЕТ ДАННЫХ  \n",
       "848              73         7.7        E10+  \n",
       "...             ...         ...         ...  \n",
       "16671            -1        -1.0  НЕТ ДАННЫХ  \n",
       "16753            -1        -1.0  НЕТ ДАННЫХ  \n",
       "16799            -1        -1.0  НЕТ ДАННЫХ  \n",
       "16912            -1        -1.0           M  \n",
       "16940            -1        -1.0  НЕТ ДАННЫХ  \n",
       "\n",
       "[236 rows x 11 columns]"
      ]
     },
     "execution_count": 52,
     "metadata": {},
     "output_type": "execute_result"
    }
   ],
   "source": [
    "four_row_dup"
   ]
  },
  {
   "cell_type": "code",
   "execution_count": 53,
   "id": "2ba80997",
   "metadata": {
    "scrolled": true
   },
   "outputs": [
    {
     "data": {
      "text/plain": [
       "236"
      ]
     },
     "execution_count": 53,
     "metadata": {},
     "output_type": "execute_result"
    }
   ],
   "source": [
    "four_row_dup.shape[0]"
   ]
  },
  {
   "cell_type": "markdown",
   "id": "232e51eb",
   "metadata": {},
   "source": [
    "Из вывыденых дубликатов можно сделать вывод, что в есть 236 дублирующих строк по названию игры, платформе, году релиза и жанру."
   ]
  },
  {
   "cell_type": "code",
   "execution_count": 54,
   "id": "ef1be3af",
   "metadata": {},
   "outputs": [
    {
     "name": "stdout",
     "output_type": "stream",
     "text": [
      "Количество строк до предобработки данных: 16956\n",
      "Количество строк после предобработки данных: 16444\n",
      "Количество удаленных строк: 512\n",
      "Процент удаленных строк: 3.02%\n"
     ]
    }
   ],
   "source": [
    "# изучим данные по удаленным строкам за все этапы предобработки\n",
    "# загрузим изначальные данные\n",
    "df_delete = pd.read_csv('https://code.s3.yandex.net/datasets/new_games.csv')\n",
    "# найдем общее кол - строк\n",
    "df_d_row = df_delete.shape[0]\n",
    "# посчитаем кол-во удаленных строк\n",
    "deleted_rows = df_d_row - final_row_count\n",
    "# посчитаем процент всех удаленных строк \n",
    "df_delete_percent = round((deleted_rows / df_d_row) * 100 ,2)\n",
    "# выведем необходимые данные \n",
    "print(f\"Количество строк до предобработки данных: {df_d_row}\")\n",
    "print(f\"Количество строк после предобработки данных: {final_row_count}\")\n",
    "print(f\"Количество удаленных строк: {deleted_rows}\")\n",
    "print(f\"Процент удаленных строк: {df_delete_percent}%\")"
   ]
  },
  {
   "cell_type": "markdown",
   "id": "a17da764",
   "metadata": {},
   "source": [
    "Данные были обработаны от неявных дубликатов, а именно выведены с помощью метода `unique()` уникальные значения и с помощью нормализации данных по столбцам `name`, `genre`, `platform`, `rating` - стили написания были приведены в единый регистр (для `name`,`genre` в нижний регистр, а для `platform`, `rating` - в верхний регистр). С помощью метода `drop_duplicates()` были очищены данные от явных дубликатов. Всего было удалено `235` дублирующий строк, что составило `1,41`%. Также были посчитано общее кол-во удаленный строк `512`, что составило `3,02`% от исходного кол-ва строк. \n"
   ]
  },
  {
   "cell_type": "markdown",
   "id": "613f0eb0",
   "metadata": {},
   "source": [
    "---\n",
    "\n",
    "## 3. Фильтрация данных\n",
    "\n",
    "Коллеги хотят изучить историю продаж игр в начале XXI века, и их интересует период с 2000 по 2013 год включительно. Отберите данные по этому показателю. Сохраните новый срез данных в отдельном датафрейме, например `df_actual`."
   ]
  },
  {
   "cell_type": "code",
   "execution_count": 55,
   "id": "6f2bfe6a",
   "metadata": {},
   "outputs": [],
   "source": [
    "df_actual = df.copy()"
   ]
  },
  {
   "cell_type": "code",
   "execution_count": 56,
   "id": "2344916d",
   "metadata": {},
   "outputs": [],
   "source": [
    "# сделаем выборку за период с 2000 по 2013 год включительно\n",
    "df_actual = df_actual.loc[(df['year_of_release'] >= 2000) & (df['year_of_release'] <= 2013)]"
   ]
  },
  {
   "cell_type": "code",
   "execution_count": 57,
   "id": "20241a1a",
   "metadata": {},
   "outputs": [
    {
     "name": "stdout",
     "output_type": "stream",
     "text": [
      "По идее list_1 не должен меняться, но list_1 = [4, 2, 3]\n",
      "list_1 не изменился, list_1 = [1, 2, 3]\n"
     ]
    }
   ],
   "source": [
    "# Код ревьюера\n",
    "\n",
    "# Вот пример на массивах, но с df похожая ситуация может произойти\n",
    "list_1 = [1, 2, 3]\n",
    "list_2 = list_1\n",
    "list_2[0] = 4\n",
    "\n",
    "print('По идее list_1 не должен меняться, но list_1 =', list_1)\n",
    "\n",
    "list_1 = [1, 2, 3]\n",
    "list_2 = list_1.copy()\n",
    "list_2[0] = 4\n",
    "\n",
    "print('list_1 не изменился, list_1 =', list_1)"
   ]
  },
  {
   "cell_type": "code",
   "execution_count": 58,
   "id": "fef22db5",
   "metadata": {},
   "outputs": [
    {
     "data": {
      "text/html": [
       "<div>\n",
       "<style scoped>\n",
       "    .dataframe tbody tr th:only-of-type {\n",
       "        vertical-align: middle;\n",
       "    }\n",
       "\n",
       "    .dataframe tbody tr th {\n",
       "        vertical-align: top;\n",
       "    }\n",
       "\n",
       "    .dataframe thead th {\n",
       "        text-align: right;\n",
       "    }\n",
       "</style>\n",
       "<table border=\"1\" class=\"dataframe\">\n",
       "  <thead>\n",
       "    <tr style=\"text-align: right;\">\n",
       "      <th></th>\n",
       "      <th>name</th>\n",
       "      <th>platform</th>\n",
       "      <th>year_of_release</th>\n",
       "      <th>genre</th>\n",
       "      <th>na_sales</th>\n",
       "      <th>eu_sales</th>\n",
       "      <th>jp_sales</th>\n",
       "      <th>other_sales</th>\n",
       "      <th>critic_score</th>\n",
       "      <th>user_score</th>\n",
       "      <th>rating</th>\n",
       "    </tr>\n",
       "  </thead>\n",
       "  <tbody>\n",
       "    <tr>\n",
       "      <th>10435</th>\n",
       "      <td>foxkids.com micro maniacs racing</td>\n",
       "      <td>PS</td>\n",
       "      <td>2000</td>\n",
       "      <td>racing</td>\n",
       "      <td>0.06</td>\n",
       "      <td>0.04</td>\n",
       "      <td>0.00</td>\n",
       "      <td>0.01</td>\n",
       "      <td>-1</td>\n",
       "      <td>-1.0</td>\n",
       "      <td>НЕТ ДАННЫХ</td>\n",
       "    </tr>\n",
       "    <tr>\n",
       "      <th>3970</th>\n",
       "      <td>final fantasy</td>\n",
       "      <td>WS</td>\n",
       "      <td>2000</td>\n",
       "      <td>role-playing</td>\n",
       "      <td>0.00</td>\n",
       "      <td>0.00</td>\n",
       "      <td>0.51</td>\n",
       "      <td>0.00</td>\n",
       "      <td>-1</td>\n",
       "      <td>-1.0</td>\n",
       "      <td>НЕТ ДАННЫХ</td>\n",
       "    </tr>\n",
       "    <tr>\n",
       "      <th>370</th>\n",
       "      <td>rugrats in paris: the movie</td>\n",
       "      <td>PS</td>\n",
       "      <td>2000</td>\n",
       "      <td>action</td>\n",
       "      <td>1.96</td>\n",
       "      <td>1.33</td>\n",
       "      <td>0.00</td>\n",
       "      <td>0.23</td>\n",
       "      <td>-1</td>\n",
       "      <td>-1.0</td>\n",
       "      <td>НЕТ ДАННЫХ</td>\n",
       "    </tr>\n",
       "    <tr>\n",
       "      <th>6352</th>\n",
       "      <td>evil dead: hail to the king</td>\n",
       "      <td>PS</td>\n",
       "      <td>2000</td>\n",
       "      <td>adventure</td>\n",
       "      <td>0.15</td>\n",
       "      <td>0.10</td>\n",
       "      <td>0.00</td>\n",
       "      <td>0.02</td>\n",
       "      <td>51</td>\n",
       "      <td>6.0</td>\n",
       "      <td>M</td>\n",
       "    </tr>\n",
       "    <tr>\n",
       "      <th>2959</th>\n",
       "      <td>mobile suit gundam: journey to jaburo</td>\n",
       "      <td>PS2</td>\n",
       "      <td>2000</td>\n",
       "      <td>simulation</td>\n",
       "      <td>0.16</td>\n",
       "      <td>0.13</td>\n",
       "      <td>0.36</td>\n",
       "      <td>0.04</td>\n",
       "      <td>58</td>\n",
       "      <td>8.1</td>\n",
       "      <td>T</td>\n",
       "    </tr>\n",
       "    <tr>\n",
       "      <th>...</th>\n",
       "      <td>...</td>\n",
       "      <td>...</td>\n",
       "      <td>...</td>\n",
       "      <td>...</td>\n",
       "      <td>...</td>\n",
       "      <td>...</td>\n",
       "      <td>...</td>\n",
       "      <td>...</td>\n",
       "      <td>...</td>\n",
       "      <td>...</td>\n",
       "      <td>...</td>\n",
       "    </tr>\n",
       "    <tr>\n",
       "      <th>7104</th>\n",
       "      <td>game &amp; wario</td>\n",
       "      <td>WIIU</td>\n",
       "      <td>2013</td>\n",
       "      <td>misc</td>\n",
       "      <td>0.05</td>\n",
       "      <td>0.06</td>\n",
       "      <td>0.12</td>\n",
       "      <td>0.01</td>\n",
       "      <td>-1</td>\n",
       "      <td>-1.0</td>\n",
       "      <td>НЕТ ДАННЫХ</td>\n",
       "    </tr>\n",
       "    <tr>\n",
       "      <th>4739</th>\n",
       "      <td>terraria</td>\n",
       "      <td>PS3</td>\n",
       "      <td>2013</td>\n",
       "      <td>action</td>\n",
       "      <td>0.07</td>\n",
       "      <td>0.20</td>\n",
       "      <td>0.09</td>\n",
       "      <td>0.05</td>\n",
       "      <td>81</td>\n",
       "      <td>7.9</td>\n",
       "      <td>T</td>\n",
       "    </tr>\n",
       "    <tr>\n",
       "      <th>14006</th>\n",
       "      <td>j.league pro soccer club o tsukurou! 8 euro plus</td>\n",
       "      <td>PSP</td>\n",
       "      <td>2013</td>\n",
       "      <td>sports</td>\n",
       "      <td>0.00</td>\n",
       "      <td>0.00</td>\n",
       "      <td>0.04</td>\n",
       "      <td>0.00</td>\n",
       "      <td>-1</td>\n",
       "      <td>-1.0</td>\n",
       "      <td>НЕТ ДАННЫХ</td>\n",
       "    </tr>\n",
       "    <tr>\n",
       "      <th>14033</th>\n",
       "      <td>date a live: rine utopia</td>\n",
       "      <td>PS3</td>\n",
       "      <td>2013</td>\n",
       "      <td>adventure</td>\n",
       "      <td>0.00</td>\n",
       "      <td>0.00</td>\n",
       "      <td>0.04</td>\n",
       "      <td>0.00</td>\n",
       "      <td>-1</td>\n",
       "      <td>-1.0</td>\n",
       "      <td>НЕТ ДАННЫХ</td>\n",
       "    </tr>\n",
       "    <tr>\n",
       "      <th>13347</th>\n",
       "      <td>winning post 7 2013</td>\n",
       "      <td>PS3</td>\n",
       "      <td>2013</td>\n",
       "      <td>sports</td>\n",
       "      <td>0.00</td>\n",
       "      <td>0.00</td>\n",
       "      <td>0.05</td>\n",
       "      <td>0.00</td>\n",
       "      <td>-1</td>\n",
       "      <td>-1.0</td>\n",
       "      <td>НЕТ ДАННЫХ</td>\n",
       "    </tr>\n",
       "  </tbody>\n",
       "</table>\n",
       "<p>12980 rows × 11 columns</p>\n",
       "</div>"
      ],
      "text/plain": [
       "                                                   name platform  \\\n",
       "10435                  foxkids.com micro maniacs racing       PS   \n",
       "3970                                      final fantasy       WS   \n",
       "370                         rugrats in paris: the movie       PS   \n",
       "6352                        evil dead: hail to the king       PS   \n",
       "2959              mobile suit gundam: journey to jaburo      PS2   \n",
       "...                                                 ...      ...   \n",
       "7104                                       game & wario     WIIU   \n",
       "4739                                           terraria      PS3   \n",
       "14006  j.league pro soccer club o tsukurou! 8 euro plus      PSP   \n",
       "14033                          date a live: rine utopia      PS3   \n",
       "13347                               winning post 7 2013      PS3   \n",
       "\n",
       "       year_of_release         genre  na_sales  eu_sales  jp_sales  \\\n",
       "10435             2000        racing      0.06      0.04      0.00   \n",
       "3970              2000  role-playing      0.00      0.00      0.51   \n",
       "370               2000        action      1.96      1.33      0.00   \n",
       "6352              2000     adventure      0.15      0.10      0.00   \n",
       "2959              2000    simulation      0.16      0.13      0.36   \n",
       "...                ...           ...       ...       ...       ...   \n",
       "7104              2013          misc      0.05      0.06      0.12   \n",
       "4739              2013        action      0.07      0.20      0.09   \n",
       "14006             2013        sports      0.00      0.00      0.04   \n",
       "14033             2013     adventure      0.00      0.00      0.04   \n",
       "13347             2013        sports      0.00      0.00      0.05   \n",
       "\n",
       "       other_sales  critic_score  user_score      rating  \n",
       "10435         0.01            -1        -1.0  НЕТ ДАННЫХ  \n",
       "3970          0.00            -1        -1.0  НЕТ ДАННЫХ  \n",
       "370           0.23            -1        -1.0  НЕТ ДАННЫХ  \n",
       "6352          0.02            51         6.0           M  \n",
       "2959          0.04            58         8.1           T  \n",
       "...            ...           ...         ...         ...  \n",
       "7104          0.01            -1        -1.0  НЕТ ДАННЫХ  \n",
       "4739          0.05            81         7.9           T  \n",
       "14006         0.00            -1        -1.0  НЕТ ДАННЫХ  \n",
       "14033         0.00            -1        -1.0  НЕТ ДАННЫХ  \n",
       "13347         0.00            -1        -1.0  НЕТ ДАННЫХ  \n",
       "\n",
       "[12980 rows x 11 columns]"
      ]
     },
     "execution_count": 58,
     "metadata": {},
     "output_type": "execute_result"
    }
   ],
   "source": [
    "# отсортируем результат по годам в порядке возрастания \n",
    "df_actual.sort_values(by='year_of_release')"
   ]
  },
  {
   "cell_type": "code",
   "execution_count": 59,
   "id": "4043eb46",
   "metadata": {},
   "outputs": [
    {
     "data": {
      "text/html": [
       "<div>\n",
       "<style scoped>\n",
       "    .dataframe tbody tr th:only-of-type {\n",
       "        vertical-align: middle;\n",
       "    }\n",
       "\n",
       "    .dataframe tbody tr th {\n",
       "        vertical-align: top;\n",
       "    }\n",
       "\n",
       "    .dataframe thead th {\n",
       "        text-align: right;\n",
       "    }\n",
       "</style>\n",
       "<table border=\"1\" class=\"dataframe\">\n",
       "  <thead>\n",
       "    <tr style=\"text-align: right;\">\n",
       "      <th></th>\n",
       "      <th>name</th>\n",
       "      <th>platform</th>\n",
       "      <th>year_of_release</th>\n",
       "      <th>genre</th>\n",
       "      <th>na_sales</th>\n",
       "      <th>eu_sales</th>\n",
       "      <th>jp_sales</th>\n",
       "      <th>other_sales</th>\n",
       "      <th>critic_score</th>\n",
       "      <th>user_score</th>\n",
       "      <th>rating</th>\n",
       "    </tr>\n",
       "  </thead>\n",
       "  <tbody>\n",
       "    <tr>\n",
       "      <th>0</th>\n",
       "      <td>wii sports</td>\n",
       "      <td>WII</td>\n",
       "      <td>2006</td>\n",
       "      <td>sports</td>\n",
       "      <td>41.36</td>\n",
       "      <td>28.959999</td>\n",
       "      <td>3.77</td>\n",
       "      <td>8.45</td>\n",
       "      <td>76</td>\n",
       "      <td>8.0</td>\n",
       "      <td>E</td>\n",
       "    </tr>\n",
       "    <tr>\n",
       "      <th>2</th>\n",
       "      <td>mario kart wii</td>\n",
       "      <td>WII</td>\n",
       "      <td>2008</td>\n",
       "      <td>racing</td>\n",
       "      <td>15.68</td>\n",
       "      <td>12.760000</td>\n",
       "      <td>3.79</td>\n",
       "      <td>3.29</td>\n",
       "      <td>82</td>\n",
       "      <td>8.3</td>\n",
       "      <td>E</td>\n",
       "    </tr>\n",
       "    <tr>\n",
       "      <th>3</th>\n",
       "      <td>wii sports resort</td>\n",
       "      <td>WII</td>\n",
       "      <td>2009</td>\n",
       "      <td>sports</td>\n",
       "      <td>15.61</td>\n",
       "      <td>10.930000</td>\n",
       "      <td>3.28</td>\n",
       "      <td>2.95</td>\n",
       "      <td>80</td>\n",
       "      <td>8.0</td>\n",
       "      <td>E</td>\n",
       "    </tr>\n",
       "    <tr>\n",
       "      <th>6</th>\n",
       "      <td>new super mario bros.</td>\n",
       "      <td>DS</td>\n",
       "      <td>2006</td>\n",
       "      <td>platform</td>\n",
       "      <td>11.28</td>\n",
       "      <td>9.140000</td>\n",
       "      <td>6.50</td>\n",
       "      <td>2.88</td>\n",
       "      <td>89</td>\n",
       "      <td>8.5</td>\n",
       "      <td>E</td>\n",
       "    </tr>\n",
       "    <tr>\n",
       "      <th>7</th>\n",
       "      <td>wii play</td>\n",
       "      <td>WII</td>\n",
       "      <td>2006</td>\n",
       "      <td>misc</td>\n",
       "      <td>13.96</td>\n",
       "      <td>9.180000</td>\n",
       "      <td>2.93</td>\n",
       "      <td>2.84</td>\n",
       "      <td>58</td>\n",
       "      <td>6.6</td>\n",
       "      <td>E</td>\n",
       "    </tr>\n",
       "    <tr>\n",
       "      <th>...</th>\n",
       "      <td>...</td>\n",
       "      <td>...</td>\n",
       "      <td>...</td>\n",
       "      <td>...</td>\n",
       "      <td>...</td>\n",
       "      <td>...</td>\n",
       "      <td>...</td>\n",
       "      <td>...</td>\n",
       "      <td>...</td>\n",
       "      <td>...</td>\n",
       "      <td>...</td>\n",
       "    </tr>\n",
       "    <tr>\n",
       "      <th>16947</th>\n",
       "      <td>men in black ii: alien escape</td>\n",
       "      <td>GC</td>\n",
       "      <td>2003</td>\n",
       "      <td>shooter</td>\n",
       "      <td>0.01</td>\n",
       "      <td>0.000000</td>\n",
       "      <td>0.00</td>\n",
       "      <td>0.00</td>\n",
       "      <td>-1</td>\n",
       "      <td>-1.0</td>\n",
       "      <td>T</td>\n",
       "    </tr>\n",
       "    <tr>\n",
       "      <th>16949</th>\n",
       "      <td>woody woodpecker in crazy castle 5</td>\n",
       "      <td>GBA</td>\n",
       "      <td>2002</td>\n",
       "      <td>platform</td>\n",
       "      <td>0.01</td>\n",
       "      <td>0.000000</td>\n",
       "      <td>0.00</td>\n",
       "      <td>0.00</td>\n",
       "      <td>-1</td>\n",
       "      <td>-1.0</td>\n",
       "      <td>НЕТ ДАННЫХ</td>\n",
       "    </tr>\n",
       "    <tr>\n",
       "      <th>16950</th>\n",
       "      <td>score international baja 1000: the official game</td>\n",
       "      <td>PS2</td>\n",
       "      <td>2008</td>\n",
       "      <td>racing</td>\n",
       "      <td>0.00</td>\n",
       "      <td>0.000000</td>\n",
       "      <td>0.00</td>\n",
       "      <td>0.00</td>\n",
       "      <td>-1</td>\n",
       "      <td>-1.0</td>\n",
       "      <td>НЕТ ДАННЫХ</td>\n",
       "    </tr>\n",
       "    <tr>\n",
       "      <th>16952</th>\n",
       "      <td>lma manager 2007</td>\n",
       "      <td>X360</td>\n",
       "      <td>2006</td>\n",
       "      <td>sports</td>\n",
       "      <td>0.00</td>\n",
       "      <td>0.010000</td>\n",
       "      <td>0.00</td>\n",
       "      <td>0.00</td>\n",
       "      <td>-1</td>\n",
       "      <td>-1.0</td>\n",
       "      <td>НЕТ ДАННЫХ</td>\n",
       "    </tr>\n",
       "    <tr>\n",
       "      <th>16954</th>\n",
       "      <td>spirits &amp; spells</td>\n",
       "      <td>GBA</td>\n",
       "      <td>2003</td>\n",
       "      <td>platform</td>\n",
       "      <td>0.01</td>\n",
       "      <td>0.000000</td>\n",
       "      <td>0.00</td>\n",
       "      <td>0.00</td>\n",
       "      <td>-1</td>\n",
       "      <td>-1.0</td>\n",
       "      <td>НЕТ ДАННЫХ</td>\n",
       "    </tr>\n",
       "  </tbody>\n",
       "</table>\n",
       "<p>12980 rows × 11 columns</p>\n",
       "</div>"
      ],
      "text/plain": [
       "                                                   name platform  \\\n",
       "0                                            wii sports      WII   \n",
       "2                                        mario kart wii      WII   \n",
       "3                                     wii sports resort      WII   \n",
       "6                                 new super mario bros.       DS   \n",
       "7                                              wii play      WII   \n",
       "...                                                 ...      ...   \n",
       "16947                     men in black ii: alien escape       GC   \n",
       "16949                woody woodpecker in crazy castle 5      GBA   \n",
       "16950  score international baja 1000: the official game      PS2   \n",
       "16952                                  lma manager 2007     X360   \n",
       "16954                                  spirits & spells      GBA   \n",
       "\n",
       "       year_of_release     genre  na_sales   eu_sales  jp_sales  other_sales  \\\n",
       "0                 2006    sports     41.36  28.959999      3.77         8.45   \n",
       "2                 2008    racing     15.68  12.760000      3.79         3.29   \n",
       "3                 2009    sports     15.61  10.930000      3.28         2.95   \n",
       "6                 2006  platform     11.28   9.140000      6.50         2.88   \n",
       "7                 2006      misc     13.96   9.180000      2.93         2.84   \n",
       "...                ...       ...       ...        ...       ...          ...   \n",
       "16947             2003   shooter      0.01   0.000000      0.00         0.00   \n",
       "16949             2002  platform      0.01   0.000000      0.00         0.00   \n",
       "16950             2008    racing      0.00   0.000000      0.00         0.00   \n",
       "16952             2006    sports      0.00   0.010000      0.00         0.00   \n",
       "16954             2003  platform      0.01   0.000000      0.00         0.00   \n",
       "\n",
       "       critic_score  user_score      rating  \n",
       "0                76         8.0           E  \n",
       "2                82         8.3           E  \n",
       "3                80         8.0           E  \n",
       "6                89         8.5           E  \n",
       "7                58         6.6           E  \n",
       "...             ...         ...         ...  \n",
       "16947            -1        -1.0           T  \n",
       "16949            -1        -1.0  НЕТ ДАННЫХ  \n",
       "16950            -1        -1.0  НЕТ ДАННЫХ  \n",
       "16952            -1        -1.0  НЕТ ДАННЫХ  \n",
       "16954            -1        -1.0  НЕТ ДАННЫХ  \n",
       "\n",
       "[12980 rows x 11 columns]"
      ]
     },
     "execution_count": 59,
     "metadata": {},
     "output_type": "execute_result"
    }
   ],
   "source": [
    "# выведем полученный результат\n",
    "df_actual"
   ]
  },
  {
   "cell_type": "markdown",
   "id": "a6f10b01",
   "metadata": {},
   "source": [
    "---\n",
    "\n",
    "## 4. Категоризация данных\n",
    "    \n",
    "Проведите категоризацию данных:\n",
    "- Разделите все игры по оценкам пользователей и выделите такие категории: высокая оценка (от 8 до 10 включительно), средняя оценка (от 3 до 8, не включая правую границу интервала) и низкая оценка (от 0 до 3, не включая правую границу интервала).\n",
    "- Разделите все игры по оценкам критиков и выделите такие категории: высокая оценка (от 80 до 100 включительно), средняя оценка (от 30 до 80, не включая правую границу интервала) и низкая оценка (от 0 до 30, не включая правую границу интервала).\n",
    "- Выделите топ-7 платформ по количеству игр, выпущенных за весь актуальный период."
   ]
  },
  {
   "cell_type": "code",
   "execution_count": 60,
   "id": "3db87229",
   "metadata": {},
   "outputs": [],
   "source": [
    "# разделим игры по оценкам пользователей\n",
    "#df_actual['user_score_group'] = pd.cut(df_actual['user_score'], \n",
    "                            #    bins=[-1, 3, 8, 10], \n",
    "                            #    labels=[\"Низкая оценка\", \"Средняя оценка\", \"Высокая оценка\"])"
   ]
  },
  {
   "cell_type": "code",
   "execution_count": 61,
   "id": "35d303df",
   "metadata": {},
   "outputs": [],
   "source": [
    "# разделим игры на категории по оценкам пользователей:\n",
    "def categorize_user(score):\n",
    "    if score < 0:\n",
    "        return \"Нет оценок\"\n",
    "    elif score < 3.0:\n",
    "        return \"Низкая оценка\"\n",
    "    elif score < 8.0:\n",
    "        return \"Средняя оценка\"\n",
    "    elif score < 10.0:\n",
    "        return \"Высокая оценка\"\n",
    "    else:\n",
    "        return \"Неизвестная категория\"\n",
    "    \n",
    "df_actual['user_score_group'] = df_actual['user_score'].apply(categorize_user)"
   ]
  },
  {
   "cell_type": "code",
   "execution_count": 62,
   "id": "548fde17",
   "metadata": {},
   "outputs": [],
   "source": [
    "# разделим игры по оценкам критиков\n",
    "#df_actual['critic_score_group'] = pd.cut(df_actual['critic_score'], \n",
    "                            #    bins=[-1, 30, 80, 100], \n",
    "                              #  labels=[\"Низкая оценка\", \"Средняя оценка\", \"Высокая оценка\"])"
   ]
  },
  {
   "cell_type": "code",
   "execution_count": 63,
   "id": "631b74eb",
   "metadata": {},
   "outputs": [],
   "source": [
    "# разделим игры на категории по оценкам критиков\n",
    "def categorize_critic(score):\n",
    "    if score < 0:\n",
    "        return \"Нет оценок\"\n",
    "    elif score < 30:\n",
    "        return \"Низкая оценка\"\n",
    "    elif score < 80:\n",
    "        return \"Средняя оценка\"\n",
    "    elif score < 100:\n",
    "        return \"Высокая оценка\"\n",
    "    else:\n",
    "        return \"Неизвестная категория\"\n",
    "    \n",
    "df_actual['critic_score_group'] = df_actual['critic_score'].apply(categorize_critic)"
   ]
  },
  {
   "cell_type": "code",
   "execution_count": 64,
   "id": "d136d06b",
   "metadata": {
    "scrolled": true
   },
   "outputs": [
    {
     "data": {
      "text/html": [
       "<div>\n",
       "<style scoped>\n",
       "    .dataframe tbody tr th:only-of-type {\n",
       "        vertical-align: middle;\n",
       "    }\n",
       "\n",
       "    .dataframe tbody tr th {\n",
       "        vertical-align: top;\n",
       "    }\n",
       "\n",
       "    .dataframe thead th {\n",
       "        text-align: right;\n",
       "    }\n",
       "</style>\n",
       "<table border=\"1\" class=\"dataframe\">\n",
       "  <thead>\n",
       "    <tr style=\"text-align: right;\">\n",
       "      <th></th>\n",
       "      <th>name</th>\n",
       "      <th>platform</th>\n",
       "      <th>year_of_release</th>\n",
       "      <th>genre</th>\n",
       "      <th>na_sales</th>\n",
       "      <th>eu_sales</th>\n",
       "      <th>jp_sales</th>\n",
       "      <th>other_sales</th>\n",
       "      <th>critic_score</th>\n",
       "      <th>user_score</th>\n",
       "      <th>rating</th>\n",
       "      <th>user_score_group</th>\n",
       "      <th>critic_score_group</th>\n",
       "    </tr>\n",
       "  </thead>\n",
       "  <tbody>\n",
       "    <tr>\n",
       "      <th>0</th>\n",
       "      <td>wii sports</td>\n",
       "      <td>WII</td>\n",
       "      <td>2006</td>\n",
       "      <td>sports</td>\n",
       "      <td>41.36</td>\n",
       "      <td>28.959999</td>\n",
       "      <td>3.77</td>\n",
       "      <td>8.45</td>\n",
       "      <td>76</td>\n",
       "      <td>8.0</td>\n",
       "      <td>E</td>\n",
       "      <td>Высокая оценка</td>\n",
       "      <td>Средняя оценка</td>\n",
       "    </tr>\n",
       "    <tr>\n",
       "      <th>2</th>\n",
       "      <td>mario kart wii</td>\n",
       "      <td>WII</td>\n",
       "      <td>2008</td>\n",
       "      <td>racing</td>\n",
       "      <td>15.68</td>\n",
       "      <td>12.760000</td>\n",
       "      <td>3.79</td>\n",
       "      <td>3.29</td>\n",
       "      <td>82</td>\n",
       "      <td>8.3</td>\n",
       "      <td>E</td>\n",
       "      <td>Высокая оценка</td>\n",
       "      <td>Высокая оценка</td>\n",
       "    </tr>\n",
       "    <tr>\n",
       "      <th>3</th>\n",
       "      <td>wii sports resort</td>\n",
       "      <td>WII</td>\n",
       "      <td>2009</td>\n",
       "      <td>sports</td>\n",
       "      <td>15.61</td>\n",
       "      <td>10.930000</td>\n",
       "      <td>3.28</td>\n",
       "      <td>2.95</td>\n",
       "      <td>80</td>\n",
       "      <td>8.0</td>\n",
       "      <td>E</td>\n",
       "      <td>Высокая оценка</td>\n",
       "      <td>Высокая оценка</td>\n",
       "    </tr>\n",
       "    <tr>\n",
       "      <th>6</th>\n",
       "      <td>new super mario bros.</td>\n",
       "      <td>DS</td>\n",
       "      <td>2006</td>\n",
       "      <td>platform</td>\n",
       "      <td>11.28</td>\n",
       "      <td>9.140000</td>\n",
       "      <td>6.50</td>\n",
       "      <td>2.88</td>\n",
       "      <td>89</td>\n",
       "      <td>8.5</td>\n",
       "      <td>E</td>\n",
       "      <td>Высокая оценка</td>\n",
       "      <td>Высокая оценка</td>\n",
       "    </tr>\n",
       "    <tr>\n",
       "      <th>7</th>\n",
       "      <td>wii play</td>\n",
       "      <td>WII</td>\n",
       "      <td>2006</td>\n",
       "      <td>misc</td>\n",
       "      <td>13.96</td>\n",
       "      <td>9.180000</td>\n",
       "      <td>2.93</td>\n",
       "      <td>2.84</td>\n",
       "      <td>58</td>\n",
       "      <td>6.6</td>\n",
       "      <td>E</td>\n",
       "      <td>Средняя оценка</td>\n",
       "      <td>Средняя оценка</td>\n",
       "    </tr>\n",
       "  </tbody>\n",
       "</table>\n",
       "</div>"
      ],
      "text/plain": [
       "                    name platform  year_of_release     genre  na_sales  \\\n",
       "0             wii sports      WII             2006    sports     41.36   \n",
       "2         mario kart wii      WII             2008    racing     15.68   \n",
       "3      wii sports resort      WII             2009    sports     15.61   \n",
       "6  new super mario bros.       DS             2006  platform     11.28   \n",
       "7               wii play      WII             2006      misc     13.96   \n",
       "\n",
       "    eu_sales  jp_sales  other_sales  critic_score  user_score rating  \\\n",
       "0  28.959999      3.77         8.45            76         8.0      E   \n",
       "2  12.760000      3.79         3.29            82         8.3      E   \n",
       "3  10.930000      3.28         2.95            80         8.0      E   \n",
       "6   9.140000      6.50         2.88            89         8.5      E   \n",
       "7   9.180000      2.93         2.84            58         6.6      E   \n",
       "\n",
       "  user_score_group critic_score_group  \n",
       "0   Высокая оценка     Средняя оценка  \n",
       "2   Высокая оценка     Высокая оценка  \n",
       "3   Высокая оценка     Высокая оценка  \n",
       "6   Высокая оценка     Высокая оценка  \n",
       "7   Средняя оценка     Средняя оценка  "
      ]
     },
     "execution_count": 64,
     "metadata": {},
     "output_type": "execute_result"
    }
   ],
   "source": [
    "# выведем полученные результат\n",
    "df_actual.head()"
   ]
  },
  {
   "cell_type": "code",
   "execution_count": 65,
   "id": "cc03fa2e",
   "metadata": {},
   "outputs": [],
   "source": [
    "# зададим новые переменные, в которых сгруппируем данные по категориям оценок пользователей и критиков, \n",
    "# чтобы сделать сводные таблицы\n",
    "summary_table_user = df_actual.groupby('user_score_group').count()\n",
    "\n",
    "summary_table_critic = df_actual.groupby('critic_score_group').count()\n"
   ]
  },
  {
   "cell_type": "code",
   "execution_count": 66,
   "id": "0e822ccb",
   "metadata": {},
   "outputs": [
    {
     "data": {
      "text/html": [
       "<div>\n",
       "<style scoped>\n",
       "    .dataframe tbody tr th:only-of-type {\n",
       "        vertical-align: middle;\n",
       "    }\n",
       "\n",
       "    .dataframe tbody tr th {\n",
       "        vertical-align: top;\n",
       "    }\n",
       "\n",
       "    .dataframe thead th {\n",
       "        text-align: right;\n",
       "    }\n",
       "</style>\n",
       "<table border=\"1\" class=\"dataframe\">\n",
       "  <thead>\n",
       "    <tr style=\"text-align: right;\">\n",
       "      <th></th>\n",
       "      <th>name</th>\n",
       "      <th>platform</th>\n",
       "      <th>year_of_release</th>\n",
       "      <th>genre</th>\n",
       "      <th>na_sales</th>\n",
       "      <th>eu_sales</th>\n",
       "      <th>jp_sales</th>\n",
       "      <th>other_sales</th>\n",
       "      <th>critic_score</th>\n",
       "      <th>user_score</th>\n",
       "      <th>rating</th>\n",
       "      <th>critic_score_group</th>\n",
       "    </tr>\n",
       "    <tr>\n",
       "      <th>user_score_group</th>\n",
       "      <th></th>\n",
       "      <th></th>\n",
       "      <th></th>\n",
       "      <th></th>\n",
       "      <th></th>\n",
       "      <th></th>\n",
       "      <th></th>\n",
       "      <th></th>\n",
       "      <th></th>\n",
       "      <th></th>\n",
       "      <th></th>\n",
       "      <th></th>\n",
       "    </tr>\n",
       "  </thead>\n",
       "  <tbody>\n",
       "    <tr>\n",
       "      <th>Высокая оценка</th>\n",
       "      <td>2307</td>\n",
       "      <td>2307</td>\n",
       "      <td>2307</td>\n",
       "      <td>2307</td>\n",
       "      <td>2307</td>\n",
       "      <td>2307</td>\n",
       "      <td>2307</td>\n",
       "      <td>2307</td>\n",
       "      <td>2307</td>\n",
       "      <td>2307</td>\n",
       "      <td>2307</td>\n",
       "      <td>2307</td>\n",
       "    </tr>\n",
       "    <tr>\n",
       "      <th>Нет оценок</th>\n",
       "      <td>6408</td>\n",
       "      <td>6408</td>\n",
       "      <td>6408</td>\n",
       "      <td>6408</td>\n",
       "      <td>6408</td>\n",
       "      <td>6408</td>\n",
       "      <td>6408</td>\n",
       "      <td>6408</td>\n",
       "      <td>6408</td>\n",
       "      <td>6408</td>\n",
       "      <td>6408</td>\n",
       "      <td>6408</td>\n",
       "    </tr>\n",
       "    <tr>\n",
       "      <th>Низкая оценка</th>\n",
       "      <td>117</td>\n",
       "      <td>117</td>\n",
       "      <td>117</td>\n",
       "      <td>117</td>\n",
       "      <td>117</td>\n",
       "      <td>117</td>\n",
       "      <td>117</td>\n",
       "      <td>117</td>\n",
       "      <td>117</td>\n",
       "      <td>117</td>\n",
       "      <td>117</td>\n",
       "      <td>117</td>\n",
       "    </tr>\n",
       "    <tr>\n",
       "      <th>Средняя оценка</th>\n",
       "      <td>4148</td>\n",
       "      <td>4148</td>\n",
       "      <td>4148</td>\n",
       "      <td>4148</td>\n",
       "      <td>4148</td>\n",
       "      <td>4148</td>\n",
       "      <td>4148</td>\n",
       "      <td>4148</td>\n",
       "      <td>4148</td>\n",
       "      <td>4148</td>\n",
       "      <td>4148</td>\n",
       "      <td>4148</td>\n",
       "    </tr>\n",
       "  </tbody>\n",
       "</table>\n",
       "</div>"
      ],
      "text/plain": [
       "                  name  platform  year_of_release  genre  na_sales  eu_sales  \\\n",
       "user_score_group                                                               \n",
       "Высокая оценка    2307      2307             2307   2307      2307      2307   \n",
       "Нет оценок        6408      6408             6408   6408      6408      6408   \n",
       "Низкая оценка      117       117              117    117       117       117   \n",
       "Средняя оценка    4148      4148             4148   4148      4148      4148   \n",
       "\n",
       "                  jp_sales  other_sales  critic_score  user_score  rating  \\\n",
       "user_score_group                                                            \n",
       "Высокая оценка        2307         2307          2307        2307    2307   \n",
       "Нет оценок            6408         6408          6408        6408    6408   \n",
       "Низкая оценка          117          117           117         117     117   \n",
       "Средняя оценка        4148         4148          4148        4148    4148   \n",
       "\n",
       "                  critic_score_group  \n",
       "user_score_group                      \n",
       "Высокая оценка                  2307  \n",
       "Нет оценок                      6408  \n",
       "Низкая оценка                    117  \n",
       "Средняя оценка                  4148  "
      ]
     },
     "execution_count": 66,
     "metadata": {},
     "output_type": "execute_result"
    }
   ],
   "source": [
    "# выведем сводную таблицу по категориям оценок пользователей\n",
    "summary_table_user"
   ]
  },
  {
   "cell_type": "code",
   "execution_count": 67,
   "id": "ebfeea74",
   "metadata": {
    "scrolled": true
   },
   "outputs": [
    {
     "data": {
      "text/html": [
       "<div>\n",
       "<style scoped>\n",
       "    .dataframe tbody tr th:only-of-type {\n",
       "        vertical-align: middle;\n",
       "    }\n",
       "\n",
       "    .dataframe tbody tr th {\n",
       "        vertical-align: top;\n",
       "    }\n",
       "\n",
       "    .dataframe thead th {\n",
       "        text-align: right;\n",
       "    }\n",
       "</style>\n",
       "<table border=\"1\" class=\"dataframe\">\n",
       "  <thead>\n",
       "    <tr style=\"text-align: right;\">\n",
       "      <th></th>\n",
       "      <th>name</th>\n",
       "      <th>platform</th>\n",
       "      <th>year_of_release</th>\n",
       "      <th>genre</th>\n",
       "      <th>na_sales</th>\n",
       "      <th>eu_sales</th>\n",
       "      <th>jp_sales</th>\n",
       "      <th>other_sales</th>\n",
       "      <th>critic_score</th>\n",
       "      <th>user_score</th>\n",
       "      <th>rating</th>\n",
       "      <th>user_score_group</th>\n",
       "    </tr>\n",
       "    <tr>\n",
       "      <th>critic_score_group</th>\n",
       "      <th></th>\n",
       "      <th></th>\n",
       "      <th></th>\n",
       "      <th></th>\n",
       "      <th></th>\n",
       "      <th></th>\n",
       "      <th></th>\n",
       "      <th></th>\n",
       "      <th></th>\n",
       "      <th></th>\n",
       "      <th></th>\n",
       "      <th></th>\n",
       "    </tr>\n",
       "  </thead>\n",
       "  <tbody>\n",
       "    <tr>\n",
       "      <th>Высокая оценка</th>\n",
       "      <td>1712</td>\n",
       "      <td>1712</td>\n",
       "      <td>1712</td>\n",
       "      <td>1712</td>\n",
       "      <td>1712</td>\n",
       "      <td>1712</td>\n",
       "      <td>1712</td>\n",
       "      <td>1712</td>\n",
       "      <td>1712</td>\n",
       "      <td>1712</td>\n",
       "      <td>1712</td>\n",
       "      <td>1712</td>\n",
       "    </tr>\n",
       "    <tr>\n",
       "      <th>Нет оценок</th>\n",
       "      <td>5713</td>\n",
       "      <td>5713</td>\n",
       "      <td>5713</td>\n",
       "      <td>5713</td>\n",
       "      <td>5713</td>\n",
       "      <td>5713</td>\n",
       "      <td>5713</td>\n",
       "      <td>5713</td>\n",
       "      <td>5713</td>\n",
       "      <td>5713</td>\n",
       "      <td>5713</td>\n",
       "      <td>5713</td>\n",
       "    </tr>\n",
       "    <tr>\n",
       "      <th>Низкая оценка</th>\n",
       "      <td>55</td>\n",
       "      <td>55</td>\n",
       "      <td>55</td>\n",
       "      <td>55</td>\n",
       "      <td>55</td>\n",
       "      <td>55</td>\n",
       "      <td>55</td>\n",
       "      <td>55</td>\n",
       "      <td>55</td>\n",
       "      <td>55</td>\n",
       "      <td>55</td>\n",
       "      <td>55</td>\n",
       "    </tr>\n",
       "    <tr>\n",
       "      <th>Средняя оценка</th>\n",
       "      <td>5500</td>\n",
       "      <td>5500</td>\n",
       "      <td>5500</td>\n",
       "      <td>5500</td>\n",
       "      <td>5500</td>\n",
       "      <td>5500</td>\n",
       "      <td>5500</td>\n",
       "      <td>5500</td>\n",
       "      <td>5500</td>\n",
       "      <td>5500</td>\n",
       "      <td>5500</td>\n",
       "      <td>5500</td>\n",
       "    </tr>\n",
       "  </tbody>\n",
       "</table>\n",
       "</div>"
      ],
      "text/plain": [
       "                    name  platform  year_of_release  genre  na_sales  \\\n",
       "critic_score_group                                                     \n",
       "Высокая оценка      1712      1712             1712   1712      1712   \n",
       "Нет оценок          5713      5713             5713   5713      5713   \n",
       "Низкая оценка         55        55               55     55        55   \n",
       "Средняя оценка      5500      5500             5500   5500      5500   \n",
       "\n",
       "                    eu_sales  jp_sales  other_sales  critic_score  user_score  \\\n",
       "critic_score_group                                                              \n",
       "Высокая оценка          1712      1712         1712          1712        1712   \n",
       "Нет оценок              5713      5713         5713          5713        5713   \n",
       "Низкая оценка             55        55           55            55          55   \n",
       "Средняя оценка          5500      5500         5500          5500        5500   \n",
       "\n",
       "                    rating  user_score_group  \n",
       "critic_score_group                            \n",
       "Высокая оценка        1712              1712  \n",
       "Нет оценок            5713              5713  \n",
       "Низкая оценка           55                55  \n",
       "Средняя оценка        5500              5500  "
      ]
     },
     "execution_count": 67,
     "metadata": {},
     "output_type": "execute_result"
    }
   ],
   "source": [
    "# выведем сводную таблицу по категориям оценок критиков\n",
    "summary_table_critic"
   ]
  },
  {
   "cell_type": "markdown",
   "id": "8568284a",
   "metadata": {},
   "source": [
    "Далее для топа 7 платформ по кол-ву выпущенных игр сгрупируем данные по платформам и посчитаем кол-во выпущенных игр за весь актуальный период, дополнительно сгруппируя данные по порядку убывания."
   ]
  },
  {
   "cell_type": "code",
   "execution_count": 68,
   "id": "85a77a2d",
   "metadata": {},
   "outputs": [],
   "source": [
    "grouped_data = df_actual.groupby(['platform'], as_index=False)['name'].count()"
   ]
  },
  {
   "cell_type": "code",
   "execution_count": 69,
   "id": "031fa761",
   "metadata": {
    "scrolled": true
   },
   "outputs": [
    {
     "data": {
      "text/html": [
       "<div>\n",
       "<style scoped>\n",
       "    .dataframe tbody tr th:only-of-type {\n",
       "        vertical-align: middle;\n",
       "    }\n",
       "\n",
       "    .dataframe tbody tr th {\n",
       "        vertical-align: top;\n",
       "    }\n",
       "\n",
       "    .dataframe thead th {\n",
       "        text-align: right;\n",
       "    }\n",
       "</style>\n",
       "<table border=\"1\" class=\"dataframe\">\n",
       "  <thead>\n",
       "    <tr style=\"text-align: right;\">\n",
       "      <th></th>\n",
       "      <th>platform</th>\n",
       "      <th>name</th>\n",
       "    </tr>\n",
       "  </thead>\n",
       "  <tbody>\n",
       "    <tr>\n",
       "      <th>9</th>\n",
       "      <td>PS2</td>\n",
       "      <td>2154</td>\n",
       "    </tr>\n",
       "    <tr>\n",
       "      <th>2</th>\n",
       "      <td>DS</td>\n",
       "      <td>2146</td>\n",
       "    </tr>\n",
       "    <tr>\n",
       "      <th>14</th>\n",
       "      <td>WII</td>\n",
       "      <td>1294</td>\n",
       "    </tr>\n",
       "    <tr>\n",
       "      <th>12</th>\n",
       "      <td>PSP</td>\n",
       "      <td>1199</td>\n",
       "    </tr>\n",
       "    <tr>\n",
       "      <th>17</th>\n",
       "      <td>X360</td>\n",
       "      <td>1138</td>\n",
       "    </tr>\n",
       "    <tr>\n",
       "      <th>10</th>\n",
       "      <td>PS3</td>\n",
       "      <td>1107</td>\n",
       "    </tr>\n",
       "    <tr>\n",
       "      <th>4</th>\n",
       "      <td>GBA</td>\n",
       "      <td>826</td>\n",
       "    </tr>\n",
       "  </tbody>\n",
       "</table>\n",
       "</div>"
      ],
      "text/plain": [
       "   platform  name\n",
       "9       PS2  2154\n",
       "2        DS  2146\n",
       "14      WII  1294\n",
       "12      PSP  1199\n",
       "17     X360  1138\n",
       "10      PS3  1107\n",
       "4       GBA   826"
      ]
     },
     "execution_count": 69,
     "metadata": {},
     "output_type": "execute_result"
    }
   ],
   "source": [
    "grouped_data.sort_values(by='name', ascending=False).head(7)"
   ]
  },
  {
   "cell_type": "markdown",
   "id": "9b7d54f1",
   "metadata": {},
   "source": [
    "В итоге получилось, что больше всего игр было выпущено на платформе `Play Station 2`, а замыкает ТОП 7 платформа `Game Boy Advance` в них было выпущено 2153 и 825 игр соответвенно. "
   ]
  },
  {
   "cell_type": "markdown",
   "id": "c0158881",
   "metadata": {},
   "source": [
    "---\n",
    "\n",
    "## 5. Итоговый вывод\n",
    "\n",
    "В конце напишите основной вывод и отразите, какую работу проделали. Не забудьте указать описание среза данных и новых полей, которые добавили в исходный датасет."
   ]
  },
  {
   "cell_type": "markdown",
   "id": "2328f9fc",
   "metadata": {},
   "source": [
    "Подключены библиотеки `Pandas` и `NumPy`."
   ]
  },
  {
   "cell_type": "markdown",
   "id": "bcbad27c",
   "metadata": {},
   "source": [
    "Названия столбцов приведены к стилю `snake case`, проведена нормализация и данные были очищены от неявных дубликатов."
   ]
  },
  {
   "cell_type": "markdown",
   "id": "6307c730",
   "metadata": {},
   "source": [
    "Датасет отчищен от явных дубликатов. Кол-во дубликатов составало `235`, это `1,41`% от всех данных в датасете."
   ]
  },
  {
   "cell_type": "markdown",
   "id": "c73cf19b",
   "metadata": {},
   "source": [
    "Сделан срез от `2000` по `2013` годы включительно. Данные отсортированы по годам и были добавлены новые столбцы с названиями категорий по оценкам пользователей и критиков. "
   ]
  },
  {
   "cell_type": "markdown",
   "id": "0df7fe08",
   "metadata": {},
   "source": [
    "Актуальный среp данных был выведен в `ТОП 7` по выпущенным играм. В основном можно сделать вывод, что основной платформой по кол-ву выпускаемых игр будет `Play Station 2`, на ней было выпущено `2153` игры. "
   ]
  },
  {
   "cell_type": "markdown",
   "id": "b7ad854d",
   "metadata": {},
   "source": [
    "В ходе исследования была выведена информация методом `info()` о датасете `/datasets/new_games.csv`, общее кол-во строк в котором было `16956`. Были обнаружены неверные типы данных и преобразованы:\n",
    "- `year_of_release` - `integer`\n",
    "- `critic_score` - `integer`\n",
    "- `eu_sales` - `float`\n",
    "- `jp_sales` - `float`\n",
    "- `user_score` - `float`\n",
    "\n",
    "При проверке датасета на ошибки обнаружено `25142` пропусков, что в процентом соотношении по столбцам состовляет: \n",
    "- critic_score -      `51.391838`\n",
    "- user_score   -      `54.659118`\n",
    "- rating    -         `40.522529`\n",
    "- name     -           `0.011795`\n",
    "- year_of_release -    `1.621845`\n",
    "- genre      -         `0.011795`\n",
    "- eu_sales     -       `0.035386`\n",
    "- jp_sales     -       `0.023590`\n",
    "\n",
    "Пропуски в столбцах `year_of_release` и `name` было принято решение удалить, т.к. заполнить их без необходимых данных не представляется возможным. \n",
    "\n",
    "Пропуски в столбцах `eu_sales`, `jp_sales` были заменены медианными значениям в разрезе групп по платформе и дате релиза игр. \n",
    "\n",
    "Для удаления был использован метод `dropna()`, а для заполнения пропусков `fillna()`, `apply()`.\n",
    "\n",
    "Также данные очищены от дубликатов, количество удаленых дубликатов `235`, что сотавляет `1.41`% от обработанных данных. \n",
    "\n",
    "Количество строк до предобработки данных составляло `16956`, после предобработки данных `16444`, количество удаленных строк - `512`, что составляет `3.02`% от исходного кол-ва строк. "
   ]
  }
 ],
 "metadata": {
  "ExecuteTimeLog": [
   {
    "duration": 264,
    "start_time": "2024-11-27T08:24:41.183Z"
   },
   {
    "duration": 52,
    "start_time": "2024-11-27T08:25:41.597Z"
   },
   {
    "duration": 184,
    "start_time": "2024-11-27T08:25:50.196Z"
   },
   {
    "duration": 3,
    "start_time": "2024-11-27T08:25:51.035Z"
   },
   {
    "duration": 25,
    "start_time": "2024-11-27T08:25:51.620Z"
   },
   {
    "duration": 2,
    "start_time": "2024-11-27T08:27:21.535Z"
   },
   {
    "duration": 152,
    "start_time": "2024-11-27T08:27:23.829Z"
   },
   {
    "duration": 23,
    "start_time": "2024-11-27T08:30:53.311Z"
   },
   {
    "duration": 21,
    "start_time": "2024-11-27T08:31:04.287Z"
   },
   {
    "duration": 17,
    "start_time": "2024-11-27T08:34:36.732Z"
   },
   {
    "duration": 14,
    "start_time": "2024-11-27T08:35:23.421Z"
   },
   {
    "duration": 31,
    "start_time": "2024-11-27T08:38:49.726Z"
   },
   {
    "duration": 10,
    "start_time": "2024-11-27T09:20:02.317Z"
   },
   {
    "duration": 5,
    "start_time": "2024-11-27T09:20:23.099Z"
   },
   {
    "duration": 7,
    "start_time": "2024-11-27T09:28:38.663Z"
   },
   {
    "duration": 4,
    "start_time": "2024-11-27T09:29:10.256Z"
   },
   {
    "duration": 3,
    "start_time": "2024-11-27T09:45:14.025Z"
   },
   {
    "duration": 130,
    "start_time": "2024-11-27T09:45:14.029Z"
   },
   {
    "duration": 32,
    "start_time": "2024-11-27T09:45:14.161Z"
   },
   {
    "duration": 19,
    "start_time": "2024-11-27T09:45:14.194Z"
   },
   {
    "duration": 6,
    "start_time": "2024-11-27T09:45:14.216Z"
   },
   {
    "duration": 31,
    "start_time": "2024-11-27T09:45:14.223Z"
   },
   {
    "duration": 10,
    "start_time": "2024-11-27T09:45:14.256Z"
   },
   {
    "duration": 18,
    "start_time": "2024-11-27T09:45:14.268Z"
   },
   {
    "duration": 405,
    "start_time": "2024-11-27T09:45:32.428Z"
   },
   {
    "duration": 139,
    "start_time": "2024-11-27T09:45:32.835Z"
   },
   {
    "duration": 29,
    "start_time": "2024-11-27T09:45:32.975Z"
   },
   {
    "duration": 17,
    "start_time": "2024-11-27T09:45:33.005Z"
   },
   {
    "duration": 19,
    "start_time": "2024-11-27T09:45:33.024Z"
   },
   {
    "duration": 17,
    "start_time": "2024-11-27T09:45:33.045Z"
   },
   {
    "duration": 17,
    "start_time": "2024-11-27T09:45:33.064Z"
   },
   {
    "duration": 52,
    "start_time": "2024-11-27T09:45:33.083Z"
   },
   {
    "duration": 69,
    "start_time": "2024-11-27T09:46:00.314Z"
   },
   {
    "duration": 17,
    "start_time": "2024-11-27T09:46:23.596Z"
   },
   {
    "duration": 5,
    "start_time": "2024-11-27T09:51:08.901Z"
   },
   {
    "duration": 8,
    "start_time": "2024-11-27T09:57:17.540Z"
   },
   {
    "duration": 12,
    "start_time": "2024-11-27T09:57:25.427Z"
   },
   {
    "duration": 15,
    "start_time": "2024-11-27T09:59:37.992Z"
   },
   {
    "duration": 13,
    "start_time": "2024-11-27T10:09:36.882Z"
   },
   {
    "duration": 11,
    "start_time": "2024-11-27T10:09:53.450Z"
   },
   {
    "duration": 26,
    "start_time": "2024-11-27T10:10:58.273Z"
   },
   {
    "duration": 59,
    "start_time": "2024-11-27T10:12:20.848Z"
   },
   {
    "duration": 32,
    "start_time": "2024-11-27T10:17:50.010Z"
   },
   {
    "duration": 12,
    "start_time": "2024-11-27T10:18:15.022Z"
   },
   {
    "duration": 11,
    "start_time": "2024-11-27T10:18:23.828Z"
   },
   {
    "duration": 11,
    "start_time": "2024-11-27T10:19:25.462Z"
   },
   {
    "duration": 109,
    "start_time": "2024-11-27T10:19:39.091Z"
   },
   {
    "duration": 29,
    "start_time": "2024-11-27T10:22:56.854Z"
   },
   {
    "duration": 10,
    "start_time": "2024-11-27T10:23:19.180Z"
   },
   {
    "duration": 8,
    "start_time": "2024-11-27T10:23:32.861Z"
   },
   {
    "duration": 15,
    "start_time": "2024-11-27T10:24:00.948Z"
   },
   {
    "duration": 1028,
    "start_time": "2024-11-27T10:24:14.940Z"
   },
   {
    "duration": 29,
    "start_time": "2024-11-27T10:24:42.221Z"
   },
   {
    "duration": 14,
    "start_time": "2024-11-27T10:26:01.232Z"
   },
   {
    "duration": 1025,
    "start_time": "2024-11-27T10:26:10.731Z"
   },
   {
    "duration": 19,
    "start_time": "2024-11-27T10:26:19.421Z"
   },
   {
    "duration": 24,
    "start_time": "2024-11-27T10:27:33.201Z"
   },
   {
    "duration": 13,
    "start_time": "2024-11-27T10:28:52.891Z"
   },
   {
    "duration": 1039,
    "start_time": "2024-11-27T10:29:45.381Z"
   },
   {
    "duration": 10,
    "start_time": "2024-11-27T10:30:06.140Z"
   },
   {
    "duration": 14,
    "start_time": "2024-11-27T10:30:10.871Z"
   },
   {
    "duration": 21,
    "start_time": "2024-11-27T10:31:18.883Z"
   },
   {
    "duration": 23,
    "start_time": "2024-11-27T10:32:13.421Z"
   },
   {
    "duration": 22,
    "start_time": "2024-11-27T10:32:29.761Z"
   },
   {
    "duration": 12,
    "start_time": "2024-11-27T11:04:31.993Z"
   },
   {
    "duration": 11,
    "start_time": "2024-11-27T11:04:42.751Z"
   },
   {
    "duration": 10,
    "start_time": "2024-11-27T11:09:28.074Z"
   },
   {
    "duration": 382,
    "start_time": "2024-11-27T11:17:24.551Z"
   },
   {
    "duration": 3,
    "start_time": "2024-11-27T11:17:24.935Z"
   },
   {
    "duration": 132,
    "start_time": "2024-11-27T11:17:24.940Z"
   },
   {
    "duration": 29,
    "start_time": "2024-11-27T11:17:25.074Z"
   },
   {
    "duration": 36,
    "start_time": "2024-11-27T11:17:25.104Z"
   },
   {
    "duration": 22,
    "start_time": "2024-11-27T11:17:25.142Z"
   },
   {
    "duration": 16,
    "start_time": "2024-11-27T11:17:25.165Z"
   },
   {
    "duration": 27,
    "start_time": "2024-11-27T11:17:25.183Z"
   },
   {
    "duration": 30,
    "start_time": "2024-11-27T11:17:25.212Z"
   },
   {
    "duration": 34,
    "start_time": "2024-11-27T11:17:25.244Z"
   },
   {
    "duration": 42,
    "start_time": "2024-11-27T11:17:25.280Z"
   },
   {
    "duration": 20,
    "start_time": "2024-11-27T11:17:25.324Z"
   },
   {
    "duration": 42,
    "start_time": "2024-11-27T11:17:25.346Z"
   },
   {
    "duration": 22,
    "start_time": "2024-11-27T11:17:25.390Z"
   },
   {
    "duration": 23,
    "start_time": "2024-11-27T11:17:25.413Z"
   },
   {
    "duration": 22,
    "start_time": "2024-11-27T11:17:25.437Z"
   },
   {
    "duration": 79,
    "start_time": "2024-11-27T11:19:22.031Z"
   },
   {
    "duration": 6,
    "start_time": "2024-11-27T11:19:41.210Z"
   },
   {
    "duration": 5,
    "start_time": "2024-11-27T11:19:43.619Z"
   },
   {
    "duration": 7,
    "start_time": "2024-11-27T11:19:51.732Z"
   },
   {
    "duration": 70,
    "start_time": "2024-11-27T11:20:35.751Z"
   },
   {
    "duration": 25,
    "start_time": "2024-11-27T11:27:47.905Z"
   },
   {
    "duration": 6,
    "start_time": "2024-11-27T11:30:03.361Z"
   },
   {
    "duration": 23,
    "start_time": "2024-11-27T11:30:28.262Z"
   },
   {
    "duration": 5,
    "start_time": "2024-11-27T11:30:42.161Z"
   },
   {
    "duration": 9,
    "start_time": "2024-11-27T11:32:21.741Z"
   },
   {
    "duration": 9,
    "start_time": "2024-11-27T11:32:46.781Z"
   },
   {
    "duration": 25,
    "start_time": "2024-11-27T11:32:51.341Z"
   },
   {
    "duration": 12,
    "start_time": "2024-11-27T11:33:08.310Z"
   },
   {
    "duration": 9,
    "start_time": "2024-11-27T11:33:15.422Z"
   },
   {
    "duration": 23,
    "start_time": "2024-11-27T11:34:12.368Z"
   },
   {
    "duration": 8,
    "start_time": "2024-11-27T11:35:11.630Z"
   },
   {
    "duration": 10,
    "start_time": "2024-11-27T11:35:44.621Z"
   },
   {
    "duration": 3797,
    "start_time": "2024-11-27T11:35:54.608Z"
   },
   {
    "duration": 7,
    "start_time": "2024-11-27T11:37:38.331Z"
   },
   {
    "duration": 5,
    "start_time": "2024-11-27T11:38:06.591Z"
   },
   {
    "duration": 22,
    "start_time": "2024-11-27T11:38:17.788Z"
   },
   {
    "duration": 28,
    "start_time": "2024-11-27T11:39:01.830Z"
   },
   {
    "duration": 7,
    "start_time": "2024-11-27T11:47:58.054Z"
   },
   {
    "duration": 8,
    "start_time": "2024-11-27T11:48:16.769Z"
   },
   {
    "duration": 7,
    "start_time": "2024-11-27T11:48:20.756Z"
   },
   {
    "duration": 5,
    "start_time": "2024-11-27T11:48:48.403Z"
   },
   {
    "duration": 628,
    "start_time": "2024-11-27T11:50:55.002Z"
   },
   {
    "duration": 5,
    "start_time": "2024-11-27T11:53:05.003Z"
   },
   {
    "duration": 16,
    "start_time": "2024-11-27T11:53:20.692Z"
   },
   {
    "duration": 6,
    "start_time": "2024-11-27T11:53:29.169Z"
   },
   {
    "duration": 13,
    "start_time": "2024-11-27T11:54:51.917Z"
   },
   {
    "duration": 6,
    "start_time": "2024-11-27T11:54:53.070Z"
   },
   {
    "duration": 16,
    "start_time": "2024-11-27T11:56:23.449Z"
   },
   {
    "duration": 5,
    "start_time": "2024-11-27T11:58:07.650Z"
   },
   {
    "duration": 5,
    "start_time": "2024-11-27T11:58:08.133Z"
   },
   {
    "duration": 17,
    "start_time": "2024-11-27T11:58:08.783Z"
   },
   {
    "duration": 22,
    "start_time": "2024-11-27T12:00:29.258Z"
   },
   {
    "duration": 14,
    "start_time": "2024-11-27T12:00:44.116Z"
   },
   {
    "duration": 27,
    "start_time": "2024-11-27T12:00:47.396Z"
   },
   {
    "duration": 20,
    "start_time": "2024-11-27T12:00:50.646Z"
   },
   {
    "duration": 6,
    "start_time": "2024-11-27T12:01:55.862Z"
   },
   {
    "duration": 21,
    "start_time": "2024-11-27T12:01:56.436Z"
   },
   {
    "duration": 17,
    "start_time": "2024-11-27T12:01:57.128Z"
   },
   {
    "duration": 5,
    "start_time": "2024-11-27T12:02:27.521Z"
   },
   {
    "duration": 5,
    "start_time": "2024-11-27T12:02:28.037Z"
   },
   {
    "duration": 15,
    "start_time": "2024-11-27T12:02:28.555Z"
   },
   {
    "duration": 14,
    "start_time": "2024-11-27T12:02:29.380Z"
   },
   {
    "duration": 8,
    "start_time": "2024-11-27T12:02:42.207Z"
   },
   {
    "duration": 15,
    "start_time": "2024-11-27T12:02:42.726Z"
   },
   {
    "duration": 16,
    "start_time": "2024-11-27T12:02:44.037Z"
   },
   {
    "duration": 85,
    "start_time": "2024-11-27T12:02:58.808Z"
   },
   {
    "duration": 18,
    "start_time": "2024-11-27T12:02:59.667Z"
   },
   {
    "duration": 23,
    "start_time": "2024-11-27T12:03:00.397Z"
   },
   {
    "duration": 6,
    "start_time": "2024-11-27T12:03:07.232Z"
   },
   {
    "duration": 17,
    "start_time": "2024-11-27T12:03:07.780Z"
   },
   {
    "duration": 22,
    "start_time": "2024-11-27T12:03:08.443Z"
   },
   {
    "duration": 9,
    "start_time": "2024-11-27T12:03:24.918Z"
   },
   {
    "duration": 6,
    "start_time": "2024-11-27T12:03:29.963Z"
   },
   {
    "duration": 15,
    "start_time": "2024-11-27T12:03:33.977Z"
   },
   {
    "duration": 714,
    "start_time": "2024-11-27T12:03:56.636Z"
   },
   {
    "duration": 0,
    "start_time": "2024-11-27T12:03:57.352Z"
   },
   {
    "duration": 19,
    "start_time": "2024-11-27T12:03:58.005Z"
   },
   {
    "duration": 4,
    "start_time": "2024-11-27T12:04:13.627Z"
   },
   {
    "duration": 15,
    "start_time": "2024-11-27T12:04:14.355Z"
   },
   {
    "duration": 15,
    "start_time": "2024-11-27T12:04:14.811Z"
   },
   {
    "duration": 459,
    "start_time": "2024-11-27T12:04:25.597Z"
   },
   {
    "duration": 2,
    "start_time": "2024-11-27T12:04:26.058Z"
   },
   {
    "duration": 131,
    "start_time": "2024-11-27T12:04:26.062Z"
   },
   {
    "duration": 35,
    "start_time": "2024-11-27T12:04:26.195Z"
   },
   {
    "duration": 16,
    "start_time": "2024-11-27T12:04:26.232Z"
   },
   {
    "duration": 9,
    "start_time": "2024-11-27T12:04:26.250Z"
   },
   {
    "duration": 11,
    "start_time": "2024-11-27T12:04:26.260Z"
   },
   {
    "duration": 5,
    "start_time": "2024-11-27T12:04:26.273Z"
   },
   {
    "duration": 32,
    "start_time": "2024-11-27T12:04:26.280Z"
   },
   {
    "duration": 15,
    "start_time": "2024-11-27T12:04:26.314Z"
   },
   {
    "duration": 16,
    "start_time": "2024-11-27T12:04:26.330Z"
   },
   {
    "duration": 10,
    "start_time": "2024-11-27T12:04:26.348Z"
   },
   {
    "duration": 61,
    "start_time": "2024-11-27T12:04:26.360Z"
   },
   {
    "duration": 7,
    "start_time": "2024-11-27T12:04:26.424Z"
   },
   {
    "duration": 46,
    "start_time": "2024-11-27T12:04:26.432Z"
   },
   {
    "duration": 27,
    "start_time": "2024-11-27T12:04:26.479Z"
   },
   {
    "duration": 24,
    "start_time": "2024-11-27T12:04:26.509Z"
   },
   {
    "duration": 17,
    "start_time": "2024-11-27T12:04:26.535Z"
   },
   {
    "duration": 12,
    "start_time": "2024-11-27T12:04:26.553Z"
   },
   {
    "duration": 41,
    "start_time": "2024-11-27T12:04:26.567Z"
   },
   {
    "duration": 23,
    "start_time": "2024-11-27T12:04:26.610Z"
   },
   {
    "duration": 10,
    "start_time": "2024-11-27T12:04:26.635Z"
   },
   {
    "duration": 31,
    "start_time": "2024-11-27T12:04:26.646Z"
   },
   {
    "duration": 23,
    "start_time": "2024-11-27T12:04:26.679Z"
   },
   {
    "duration": 17,
    "start_time": "2024-11-27T12:04:26.704Z"
   },
   {
    "duration": 4,
    "start_time": "2024-11-27T12:05:34.247Z"
   },
   {
    "duration": 5,
    "start_time": "2024-11-27T12:05:34.858Z"
   },
   {
    "duration": 15,
    "start_time": "2024-11-27T12:05:35.419Z"
   },
   {
    "duration": 13,
    "start_time": "2024-11-27T12:05:36.149Z"
   },
   {
    "duration": 395,
    "start_time": "2024-11-27T12:05:42.855Z"
   },
   {
    "duration": 2,
    "start_time": "2024-11-27T12:05:43.252Z"
   },
   {
    "duration": 137,
    "start_time": "2024-11-27T12:05:43.256Z"
   },
   {
    "duration": 38,
    "start_time": "2024-11-27T12:05:43.395Z"
   },
   {
    "duration": 17,
    "start_time": "2024-11-27T12:05:43.434Z"
   },
   {
    "duration": 7,
    "start_time": "2024-11-27T12:05:43.452Z"
   },
   {
    "duration": 10,
    "start_time": "2024-11-27T12:05:43.461Z"
   },
   {
    "duration": 12,
    "start_time": "2024-11-27T12:05:43.473Z"
   },
   {
    "duration": 28,
    "start_time": "2024-11-27T12:05:43.486Z"
   },
   {
    "duration": 14,
    "start_time": "2024-11-27T12:05:43.518Z"
   },
   {
    "duration": 15,
    "start_time": "2024-11-27T12:05:43.533Z"
   },
   {
    "duration": 14,
    "start_time": "2024-11-27T12:05:43.550Z"
   },
   {
    "duration": 52,
    "start_time": "2024-11-27T12:05:43.565Z"
   },
   {
    "duration": 6,
    "start_time": "2024-11-27T12:05:43.619Z"
   },
   {
    "duration": 23,
    "start_time": "2024-11-27T12:05:43.627Z"
   },
   {
    "duration": 23,
    "start_time": "2024-11-27T12:05:43.652Z"
   },
   {
    "duration": 29,
    "start_time": "2024-11-27T12:05:43.698Z"
   },
   {
    "duration": 4,
    "start_time": "2024-11-27T12:05:43.729Z"
   },
   {
    "duration": 7,
    "start_time": "2024-11-27T12:05:43.734Z"
   },
   {
    "duration": 29,
    "start_time": "2024-11-27T12:05:43.743Z"
   },
   {
    "duration": 45,
    "start_time": "2024-11-27T12:05:43.774Z"
   },
   {
    "duration": 13,
    "start_time": "2024-11-27T12:05:43.821Z"
   },
   {
    "duration": 23,
    "start_time": "2024-11-27T12:05:43.835Z"
   },
   {
    "duration": 14,
    "start_time": "2024-11-27T12:05:43.860Z"
   },
   {
    "duration": 37,
    "start_time": "2024-11-27T12:05:43.876Z"
   },
   {
    "duration": 6,
    "start_time": "2024-11-27T12:12:39.846Z"
   },
   {
    "duration": 5,
    "start_time": "2024-11-27T12:13:04.856Z"
   },
   {
    "duration": 5,
    "start_time": "2024-11-27T12:13:30.180Z"
   },
   {
    "duration": 5,
    "start_time": "2024-11-27T12:13:47.484Z"
   },
   {
    "duration": 68,
    "start_time": "2024-11-27T12:15:52.597Z"
   },
   {
    "duration": 11,
    "start_time": "2024-11-27T12:16:31.219Z"
   },
   {
    "duration": 54,
    "start_time": "2024-11-27T12:16:39.489Z"
   },
   {
    "duration": 9,
    "start_time": "2024-11-27T12:18:33.164Z"
   },
   {
    "duration": 6,
    "start_time": "2024-11-27T12:18:37.595Z"
   },
   {
    "duration": 10,
    "start_time": "2024-11-27T12:23:04.996Z"
   },
   {
    "duration": 6,
    "start_time": "2024-11-27T12:23:11.766Z"
   },
   {
    "duration": 10,
    "start_time": "2024-11-27T12:24:18.425Z"
   },
   {
    "duration": 6,
    "start_time": "2024-11-27T12:27:37.397Z"
   },
   {
    "duration": 6,
    "start_time": "2024-11-27T12:27:38.315Z"
   },
   {
    "duration": 9,
    "start_time": "2024-11-27T12:27:44.717Z"
   },
   {
    "duration": 10,
    "start_time": "2024-11-27T12:27:45.345Z"
   },
   {
    "duration": 10,
    "start_time": "2024-11-27T12:27:45.876Z"
   },
   {
    "duration": 9,
    "start_time": "2024-11-27T12:27:46.866Z"
   },
   {
    "duration": 1107,
    "start_time": "2024-11-27T12:28:03.486Z"
   },
   {
    "duration": 1402,
    "start_time": "2024-11-27T12:28:05.397Z"
   },
   {
    "duration": 6,
    "start_time": "2024-11-27T12:28:11.445Z"
   },
   {
    "duration": 5,
    "start_time": "2024-11-27T12:28:42.854Z"
   },
   {
    "duration": 7,
    "start_time": "2024-11-27T12:28:43.604Z"
   },
   {
    "duration": 6,
    "start_time": "2024-11-27T12:28:44.085Z"
   },
   {
    "duration": 7,
    "start_time": "2024-11-27T12:28:44.647Z"
   },
   {
    "duration": 18,
    "start_time": "2024-11-27T12:42:50.935Z"
   },
   {
    "duration": 58,
    "start_time": "2024-11-27T12:43:52.046Z"
   },
   {
    "duration": 65,
    "start_time": "2024-11-27T12:44:30.998Z"
   },
   {
    "duration": 53,
    "start_time": "2024-11-27T12:45:14.548Z"
   },
   {
    "duration": 18,
    "start_time": "2024-11-27T12:45:17.776Z"
   },
   {
    "duration": 61,
    "start_time": "2024-11-27T12:45:19.117Z"
   },
   {
    "duration": 59,
    "start_time": "2024-11-27T12:45:31.936Z"
   },
   {
    "duration": 64,
    "start_time": "2024-11-27T12:46:01.697Z"
   },
   {
    "duration": 55,
    "start_time": "2024-11-27T12:47:23.521Z"
   },
   {
    "duration": 58,
    "start_time": "2024-11-27T12:52:13.186Z"
   },
   {
    "duration": 59,
    "start_time": "2024-11-27T12:52:43.755Z"
   },
   {
    "duration": 59,
    "start_time": "2024-11-27T12:52:55.700Z"
   },
   {
    "duration": 57,
    "start_time": "2024-11-27T12:53:07.316Z"
   },
   {
    "duration": 60,
    "start_time": "2024-11-27T12:53:17.648Z"
   },
   {
    "duration": 414,
    "start_time": "2024-11-27T12:53:52.949Z"
   },
   {
    "duration": 3,
    "start_time": "2024-11-27T12:53:53.365Z"
   },
   {
    "duration": 111,
    "start_time": "2024-11-27T12:53:53.369Z"
   },
   {
    "duration": 28,
    "start_time": "2024-11-27T12:53:53.482Z"
   },
   {
    "duration": 17,
    "start_time": "2024-11-27T12:53:53.512Z"
   },
   {
    "duration": 4,
    "start_time": "2024-11-27T12:53:53.531Z"
   },
   {
    "duration": 7,
    "start_time": "2024-11-27T12:53:53.536Z"
   },
   {
    "duration": 4,
    "start_time": "2024-11-27T12:53:53.545Z"
   },
   {
    "duration": 47,
    "start_time": "2024-11-27T12:53:53.551Z"
   },
   {
    "duration": 14,
    "start_time": "2024-11-27T12:53:53.601Z"
   },
   {
    "duration": 15,
    "start_time": "2024-11-27T12:53:53.616Z"
   },
   {
    "duration": 13,
    "start_time": "2024-11-27T12:53:53.633Z"
   },
   {
    "duration": 22,
    "start_time": "2024-11-27T12:53:53.648Z"
   },
   {
    "duration": 31,
    "start_time": "2024-11-27T12:53:53.672Z"
   },
   {
    "duration": 23,
    "start_time": "2024-11-27T12:53:53.705Z"
   },
   {
    "duration": 21,
    "start_time": "2024-11-27T12:53:53.730Z"
   },
   {
    "duration": 51,
    "start_time": "2024-11-27T12:53:53.753Z"
   },
   {
    "duration": 3,
    "start_time": "2024-11-27T12:53:53.806Z"
   },
   {
    "duration": 4,
    "start_time": "2024-11-27T12:53:53.811Z"
   },
   {
    "duration": 31,
    "start_time": "2024-11-27T12:53:53.817Z"
   },
   {
    "duration": 22,
    "start_time": "2024-11-27T12:53:53.849Z"
   },
   {
    "duration": 25,
    "start_time": "2024-11-27T12:53:53.873Z"
   },
   {
    "duration": 31,
    "start_time": "2024-11-27T12:53:53.899Z"
   },
   {
    "duration": 15,
    "start_time": "2024-11-27T12:53:53.932Z"
   },
   {
    "duration": 13,
    "start_time": "2024-11-27T12:53:53.948Z"
   },
   {
    "duration": 7,
    "start_time": "2024-11-27T12:53:53.963Z"
   },
   {
    "duration": 41,
    "start_time": "2024-11-27T12:53:53.972Z"
   },
   {
    "duration": 7,
    "start_time": "2024-11-27T12:53:54.017Z"
   },
   {
    "duration": 36,
    "start_time": "2024-11-27T12:53:54.026Z"
   },
   {
    "duration": 13,
    "start_time": "2024-11-27T12:53:54.063Z"
   },
   {
    "duration": 9,
    "start_time": "2024-11-27T12:53:54.077Z"
   },
   {
    "duration": 16,
    "start_time": "2024-11-27T12:53:54.088Z"
   },
   {
    "duration": 11,
    "start_time": "2024-11-27T12:53:54.106Z"
   },
   {
    "duration": 8,
    "start_time": "2024-11-27T12:53:54.119Z"
   },
   {
    "duration": 5,
    "start_time": "2024-11-27T12:53:54.129Z"
   },
   {
    "duration": 6,
    "start_time": "2024-11-27T12:53:54.135Z"
   },
   {
    "duration": 5,
    "start_time": "2024-11-27T12:53:54.142Z"
   },
   {
    "duration": 5,
    "start_time": "2024-11-27T12:53:54.149Z"
   },
   {
    "duration": 98,
    "start_time": "2024-11-27T12:53:54.156Z"
   },
   {
    "duration": 60,
    "start_time": "2024-11-27T13:00:03.112Z"
   },
   {
    "duration": 8,
    "start_time": "2024-11-27T13:04:35.570Z"
   },
   {
    "duration": 21,
    "start_time": "2024-11-27T13:04:47.267Z"
   },
   {
    "duration": 24,
    "start_time": "2024-11-27T13:05:07.869Z"
   },
   {
    "duration": 15,
    "start_time": "2024-11-27T13:05:55.680Z"
   },
   {
    "duration": 6,
    "start_time": "2024-11-27T13:06:00.821Z"
   },
   {
    "duration": 21,
    "start_time": "2024-11-27T13:06:03.390Z"
   },
   {
    "duration": 21,
    "start_time": "2024-11-27T13:06:20.360Z"
   },
   {
    "duration": 536,
    "start_time": "2024-11-27T13:33:11.906Z"
   },
   {
    "duration": 3,
    "start_time": "2024-11-27T13:33:12.444Z"
   },
   {
    "duration": 403,
    "start_time": "2024-11-27T13:33:12.449Z"
   },
   {
    "duration": 31,
    "start_time": "2024-11-27T13:33:12.854Z"
   },
   {
    "duration": 26,
    "start_time": "2024-11-27T13:33:12.888Z"
   },
   {
    "duration": 8,
    "start_time": "2024-11-27T13:33:12.922Z"
   },
   {
    "duration": 5,
    "start_time": "2024-11-27T13:33:12.933Z"
   },
   {
    "duration": 9,
    "start_time": "2024-11-27T13:33:12.940Z"
   },
   {
    "duration": 24,
    "start_time": "2024-11-27T13:33:12.950Z"
   },
   {
    "duration": 45,
    "start_time": "2024-11-27T13:33:12.976Z"
   },
   {
    "duration": 17,
    "start_time": "2024-11-27T13:33:13.023Z"
   },
   {
    "duration": 18,
    "start_time": "2024-11-27T13:33:13.041Z"
   },
   {
    "duration": 21,
    "start_time": "2024-11-27T13:33:13.060Z"
   },
   {
    "duration": 8,
    "start_time": "2024-11-27T13:33:13.101Z"
   },
   {
    "duration": 29,
    "start_time": "2024-11-27T13:33:13.114Z"
   },
   {
    "duration": 24,
    "start_time": "2024-11-27T13:33:13.145Z"
   },
   {
    "duration": 59,
    "start_time": "2024-11-27T13:33:13.172Z"
   },
   {
    "duration": 20,
    "start_time": "2024-11-27T13:33:13.232Z"
   },
   {
    "duration": 21,
    "start_time": "2024-11-27T13:33:13.255Z"
   },
   {
    "duration": 18,
    "start_time": "2024-11-27T13:33:13.278Z"
   },
   {
    "duration": 26,
    "start_time": "2024-11-27T13:33:13.312Z"
   },
   {
    "duration": 5,
    "start_time": "2024-11-27T13:33:13.340Z"
   },
   {
    "duration": 36,
    "start_time": "2024-11-27T13:33:13.346Z"
   },
   {
    "duration": 21,
    "start_time": "2024-11-27T13:33:13.384Z"
   },
   {
    "duration": 19,
    "start_time": "2024-11-27T13:33:13.412Z"
   },
   {
    "duration": 4,
    "start_time": "2024-11-27T13:33:13.433Z"
   },
   {
    "duration": 5,
    "start_time": "2024-11-27T13:33:13.439Z"
   },
   {
    "duration": 9,
    "start_time": "2024-11-27T13:33:13.446Z"
   },
   {
    "duration": 34,
    "start_time": "2024-11-27T13:33:13.457Z"
   },
   {
    "duration": 18,
    "start_time": "2024-11-27T13:33:13.493Z"
   },
   {
    "duration": 21,
    "start_time": "2024-11-27T13:33:13.513Z"
   },
   {
    "duration": 20,
    "start_time": "2024-11-27T13:33:13.536Z"
   },
   {
    "duration": 17,
    "start_time": "2024-11-27T13:33:13.558Z"
   },
   {
    "duration": 32,
    "start_time": "2024-11-27T13:33:13.576Z"
   },
   {
    "duration": 14,
    "start_time": "2024-11-27T13:33:13.610Z"
   },
   {
    "duration": 19,
    "start_time": "2024-11-27T13:33:13.627Z"
   },
   {
    "duration": 10,
    "start_time": "2024-11-27T13:33:13.648Z"
   },
   {
    "duration": 8,
    "start_time": "2024-11-27T13:33:13.659Z"
   },
   {
    "duration": 79,
    "start_time": "2024-11-27T13:33:13.668Z"
   },
   {
    "duration": 7,
    "start_time": "2024-11-27T13:33:13.749Z"
   },
   {
    "duration": 40,
    "start_time": "2024-11-27T13:33:13.760Z"
   },
   {
    "duration": 469,
    "start_time": "2024-11-27T13:34:03.465Z"
   },
   {
    "duration": 3,
    "start_time": "2024-11-27T13:34:03.936Z"
   },
   {
    "duration": 113,
    "start_time": "2024-11-27T13:34:03.940Z"
   },
   {
    "duration": 28,
    "start_time": "2024-11-27T13:34:04.055Z"
   },
   {
    "duration": 20,
    "start_time": "2024-11-27T13:34:04.085Z"
   },
   {
    "duration": 32,
    "start_time": "2024-11-27T13:34:04.106Z"
   },
   {
    "duration": 15,
    "start_time": "2024-11-27T13:34:04.140Z"
   },
   {
    "duration": 19,
    "start_time": "2024-11-27T13:34:04.157Z"
   },
   {
    "duration": 58,
    "start_time": "2024-11-27T13:34:04.178Z"
   },
   {
    "duration": 29,
    "start_time": "2024-11-27T13:34:04.238Z"
   },
   {
    "duration": 18,
    "start_time": "2024-11-27T13:34:04.269Z"
   },
   {
    "duration": 41,
    "start_time": "2024-11-27T13:34:04.289Z"
   },
   {
    "duration": 63,
    "start_time": "2024-11-27T13:34:04.332Z"
   },
   {
    "duration": 21,
    "start_time": "2024-11-27T13:34:04.401Z"
   },
   {
    "duration": 25,
    "start_time": "2024-11-27T13:34:04.423Z"
   },
   {
    "duration": 22,
    "start_time": "2024-11-27T13:34:04.449Z"
   },
   {
    "duration": 27,
    "start_time": "2024-11-27T13:34:04.472Z"
   },
   {
    "duration": 10,
    "start_time": "2024-11-27T13:34:04.501Z"
   },
   {
    "duration": 19,
    "start_time": "2024-11-27T13:34:04.513Z"
   },
   {
    "duration": 18,
    "start_time": "2024-11-27T13:34:04.533Z"
   },
   {
    "duration": 26,
    "start_time": "2024-11-27T13:34:04.553Z"
   },
   {
    "duration": 34,
    "start_time": "2024-11-27T13:34:04.581Z"
   },
   {
    "duration": 23,
    "start_time": "2024-11-27T13:34:04.617Z"
   },
   {
    "duration": 20,
    "start_time": "2024-11-27T13:34:04.642Z"
   },
   {
    "duration": 14,
    "start_time": "2024-11-27T13:34:04.664Z"
   },
   {
    "duration": 35,
    "start_time": "2024-11-27T13:34:04.679Z"
   },
   {
    "duration": 16,
    "start_time": "2024-11-27T13:34:04.715Z"
   },
   {
    "duration": 22,
    "start_time": "2024-11-27T13:34:04.736Z"
   },
   {
    "duration": 13,
    "start_time": "2024-11-27T13:34:04.760Z"
   },
   {
    "duration": 7,
    "start_time": "2024-11-27T13:34:04.775Z"
   },
   {
    "duration": 44,
    "start_time": "2024-11-27T13:34:04.784Z"
   },
   {
    "duration": 14,
    "start_time": "2024-11-27T13:34:04.830Z"
   },
   {
    "duration": 28,
    "start_time": "2024-11-27T13:34:04.846Z"
   },
   {
    "duration": 38,
    "start_time": "2024-11-27T13:34:04.875Z"
   },
   {
    "duration": 11,
    "start_time": "2024-11-27T13:34:04.915Z"
   },
   {
    "duration": 9,
    "start_time": "2024-11-27T13:34:04.927Z"
   },
   {
    "duration": 6,
    "start_time": "2024-11-27T13:34:04.938Z"
   },
   {
    "duration": 38,
    "start_time": "2024-11-27T13:34:04.946Z"
   },
   {
    "duration": 109,
    "start_time": "2024-11-27T13:34:04.986Z"
   },
   {
    "duration": 16,
    "start_time": "2024-11-27T13:34:05.096Z"
   },
   {
    "duration": 49,
    "start_time": "2024-11-27T13:34:05.114Z"
   },
   {
    "duration": 16,
    "start_time": "2024-11-27T17:08:05.785Z"
   },
   {
    "duration": 76,
    "start_time": "2024-11-27T17:11:08.698Z"
   },
   {
    "duration": 25,
    "start_time": "2024-11-27T17:11:16.306Z"
   },
   {
    "duration": 6,
    "start_time": "2024-11-27T17:12:13.851Z"
   },
   {
    "duration": 20,
    "start_time": "2024-11-27T17:12:22.714Z"
   },
   {
    "duration": 7,
    "start_time": "2024-11-27T17:12:51.596Z"
   },
   {
    "duration": 25,
    "start_time": "2024-11-27T17:12:52.012Z"
   },
   {
    "duration": 429,
    "start_time": "2024-11-28T07:30:37.836Z"
   },
   {
    "duration": 3,
    "start_time": "2024-11-28T07:30:38.267Z"
   },
   {
    "duration": 200,
    "start_time": "2024-11-28T07:30:38.271Z"
   },
   {
    "duration": 29,
    "start_time": "2024-11-28T07:30:38.473Z"
   },
   {
    "duration": 22,
    "start_time": "2024-11-28T07:30:38.504Z"
   },
   {
    "duration": 18,
    "start_time": "2024-11-28T07:30:38.528Z"
   },
   {
    "duration": 5,
    "start_time": "2024-11-28T07:30:38.548Z"
   },
   {
    "duration": 25,
    "start_time": "2024-11-28T07:30:38.554Z"
   },
   {
    "duration": 17,
    "start_time": "2024-11-28T07:30:38.581Z"
   },
   {
    "duration": 13,
    "start_time": "2024-11-28T07:30:38.600Z"
   },
   {
    "duration": 17,
    "start_time": "2024-11-28T07:30:38.615Z"
   },
   {
    "duration": 15,
    "start_time": "2024-11-28T07:30:38.634Z"
   },
   {
    "duration": 34,
    "start_time": "2024-11-28T07:30:38.650Z"
   },
   {
    "duration": 21,
    "start_time": "2024-11-28T07:30:38.686Z"
   },
   {
    "duration": 22,
    "start_time": "2024-11-28T07:30:38.708Z"
   },
   {
    "duration": 26,
    "start_time": "2024-11-28T07:30:38.732Z"
   },
   {
    "duration": 34,
    "start_time": "2024-11-28T07:30:38.760Z"
   },
   {
    "duration": 77,
    "start_time": "2024-11-28T07:30:38.796Z"
   },
   {
    "duration": 14,
    "start_time": "2024-11-28T07:30:38.874Z"
   },
   {
    "duration": 26,
    "start_time": "2024-11-28T07:30:38.889Z"
   },
   {
    "duration": 25,
    "start_time": "2024-11-28T07:30:38.916Z"
   },
   {
    "duration": 18,
    "start_time": "2024-11-28T07:30:38.943Z"
   },
   {
    "duration": 111,
    "start_time": "2024-11-28T07:30:38.963Z"
   },
   {
    "duration": 14,
    "start_time": "2024-11-28T07:30:39.075Z"
   },
   {
    "duration": 12,
    "start_time": "2024-11-28T07:30:39.090Z"
   },
   {
    "duration": 8,
    "start_time": "2024-11-28T07:30:39.103Z"
   },
   {
    "duration": 14,
    "start_time": "2024-11-28T07:30:39.112Z"
   },
   {
    "duration": 5,
    "start_time": "2024-11-28T07:30:39.129Z"
   },
   {
    "duration": 10,
    "start_time": "2024-11-28T07:30:39.135Z"
   },
   {
    "duration": 12,
    "start_time": "2024-11-28T07:30:39.147Z"
   },
   {
    "duration": 9,
    "start_time": "2024-11-28T07:30:39.161Z"
   },
   {
    "duration": 20,
    "start_time": "2024-11-28T07:30:39.172Z"
   },
   {
    "duration": 23,
    "start_time": "2024-11-28T07:30:39.194Z"
   },
   {
    "duration": 11,
    "start_time": "2024-11-28T07:30:39.219Z"
   },
   {
    "duration": 22,
    "start_time": "2024-11-28T07:30:39.232Z"
   },
   {
    "duration": 12,
    "start_time": "2024-11-28T07:30:39.255Z"
   },
   {
    "duration": 5,
    "start_time": "2024-11-28T07:30:39.269Z"
   },
   {
    "duration": 6,
    "start_time": "2024-11-28T07:30:39.276Z"
   },
   {
    "duration": 83,
    "start_time": "2024-11-28T07:30:39.283Z"
   },
   {
    "duration": 6,
    "start_time": "2024-11-28T07:30:39.368Z"
   },
   {
    "duration": 24,
    "start_time": "2024-11-28T07:30:39.375Z"
   },
   {
    "duration": 20,
    "start_time": "2024-11-28T07:30:39.400Z"
   },
   {
    "duration": 20,
    "start_time": "2024-11-28T07:31:30.084Z"
   },
   {
    "duration": 16,
    "start_time": "2024-11-28T07:31:40.547Z"
   },
   {
    "duration": 15,
    "start_time": "2024-11-28T07:32:44.123Z"
   },
   {
    "duration": 21,
    "start_time": "2024-11-28T07:32:44.607Z"
   },
   {
    "duration": 22,
    "start_time": "2024-11-28T07:33:02.338Z"
   },
   {
    "duration": 15,
    "start_time": "2024-11-28T07:33:34.148Z"
   },
   {
    "duration": 383,
    "start_time": "2024-11-28T07:33:44.002Z"
   },
   {
    "duration": 3,
    "start_time": "2024-11-28T07:33:44.387Z"
   },
   {
    "duration": 138,
    "start_time": "2024-11-28T07:33:44.391Z"
   },
   {
    "duration": 22,
    "start_time": "2024-11-28T07:33:44.532Z"
   },
   {
    "duration": 52,
    "start_time": "2024-11-28T07:33:44.555Z"
   },
   {
    "duration": 14,
    "start_time": "2024-11-28T07:33:44.609Z"
   },
   {
    "duration": 26,
    "start_time": "2024-11-28T07:33:44.624Z"
   },
   {
    "duration": 36,
    "start_time": "2024-11-28T07:33:44.652Z"
   },
   {
    "duration": 76,
    "start_time": "2024-11-28T07:33:44.690Z"
   },
   {
    "duration": 70,
    "start_time": "2024-11-28T07:33:44.770Z"
   },
   {
    "duration": 50,
    "start_time": "2024-11-28T07:33:44.841Z"
   },
   {
    "duration": 49,
    "start_time": "2024-11-28T07:33:44.892Z"
   },
   {
    "duration": 35,
    "start_time": "2024-11-28T07:33:44.943Z"
   },
   {
    "duration": 85,
    "start_time": "2024-11-28T07:33:44.979Z"
   },
   {
    "duration": 63,
    "start_time": "2024-11-28T07:33:45.065Z"
   },
   {
    "duration": 27,
    "start_time": "2024-11-28T07:33:45.130Z"
   },
   {
    "duration": 29,
    "start_time": "2024-11-28T07:33:45.159Z"
   },
   {
    "duration": 9,
    "start_time": "2024-11-28T07:33:45.190Z"
   },
   {
    "duration": 51,
    "start_time": "2024-11-28T07:33:45.200Z"
   },
   {
    "duration": 20,
    "start_time": "2024-11-28T07:33:45.252Z"
   },
   {
    "duration": 63,
    "start_time": "2024-11-28T07:33:45.274Z"
   },
   {
    "duration": 20,
    "start_time": "2024-11-28T07:33:45.339Z"
   },
   {
    "duration": 40,
    "start_time": "2024-11-28T07:33:45.361Z"
   },
   {
    "duration": 89,
    "start_time": "2024-11-28T07:33:45.403Z"
   },
   {
    "duration": 67,
    "start_time": "2024-11-28T07:33:45.494Z"
   },
   {
    "duration": 88,
    "start_time": "2024-11-28T07:33:45.563Z"
   },
   {
    "duration": 40,
    "start_time": "2024-11-28T07:33:45.653Z"
   },
   {
    "duration": 6,
    "start_time": "2024-11-28T07:33:45.696Z"
   },
   {
    "duration": 6,
    "start_time": "2024-11-28T07:33:45.704Z"
   },
   {
    "duration": 19,
    "start_time": "2024-11-28T07:33:45.711Z"
   },
   {
    "duration": 132,
    "start_time": "2024-11-28T07:33:45.732Z"
   },
   {
    "duration": 75,
    "start_time": "2024-11-28T07:33:45.867Z"
   },
   {
    "duration": 22,
    "start_time": "2024-11-28T07:33:45.945Z"
   },
   {
    "duration": 19,
    "start_time": "2024-11-28T07:33:45.969Z"
   },
   {
    "duration": 18,
    "start_time": "2024-11-28T07:33:45.989Z"
   },
   {
    "duration": 13,
    "start_time": "2024-11-28T07:33:46.009Z"
   },
   {
    "duration": 21,
    "start_time": "2024-11-28T07:33:46.024Z"
   },
   {
    "duration": 16,
    "start_time": "2024-11-28T07:33:46.046Z"
   },
   {
    "duration": 105,
    "start_time": "2024-11-28T07:33:46.064Z"
   },
   {
    "duration": 7,
    "start_time": "2024-11-28T07:33:46.170Z"
   },
   {
    "duration": 22,
    "start_time": "2024-11-28T07:33:46.178Z"
   },
   {
    "duration": 22,
    "start_time": "2024-11-28T07:33:46.201Z"
   },
   {
    "duration": 411,
    "start_time": "2024-11-28T07:38:11.709Z"
   },
   {
    "duration": 3,
    "start_time": "2024-11-28T07:38:12.123Z"
   },
   {
    "duration": 149,
    "start_time": "2024-11-28T07:38:12.127Z"
   },
   {
    "duration": 21,
    "start_time": "2024-11-28T07:38:12.277Z"
   },
   {
    "duration": 27,
    "start_time": "2024-11-28T07:38:12.300Z"
   },
   {
    "duration": 14,
    "start_time": "2024-11-28T07:38:12.328Z"
   },
   {
    "duration": 20,
    "start_time": "2024-11-28T07:38:12.343Z"
   },
   {
    "duration": 32,
    "start_time": "2024-11-28T07:38:12.365Z"
   },
   {
    "duration": 29,
    "start_time": "2024-11-28T07:38:12.398Z"
   },
   {
    "duration": 33,
    "start_time": "2024-11-28T07:38:12.428Z"
   },
   {
    "duration": 15,
    "start_time": "2024-11-28T07:38:12.462Z"
   },
   {
    "duration": 13,
    "start_time": "2024-11-28T07:38:12.479Z"
   },
   {
    "duration": 90,
    "start_time": "2024-11-28T07:38:12.493Z"
   },
   {
    "duration": 15,
    "start_time": "2024-11-28T07:38:12.586Z"
   },
   {
    "duration": 22,
    "start_time": "2024-11-28T07:38:12.603Z"
   },
   {
    "duration": 28,
    "start_time": "2024-11-28T07:38:12.626Z"
   },
   {
    "duration": 27,
    "start_time": "2024-11-28T07:38:12.656Z"
   },
   {
    "duration": 6,
    "start_time": "2024-11-28T07:38:12.685Z"
   },
   {
    "duration": 35,
    "start_time": "2024-11-28T07:38:12.693Z"
   },
   {
    "duration": 23,
    "start_time": "2024-11-28T07:38:12.743Z"
   },
   {
    "duration": 25,
    "start_time": "2024-11-28T07:38:12.768Z"
   },
   {
    "duration": 4,
    "start_time": "2024-11-28T07:38:12.794Z"
   },
   {
    "duration": 11,
    "start_time": "2024-11-28T07:38:12.799Z"
   },
   {
    "duration": 94,
    "start_time": "2024-11-28T07:38:12.811Z"
   },
   {
    "duration": 36,
    "start_time": "2024-11-28T07:38:12.907Z"
   },
   {
    "duration": 15,
    "start_time": "2024-11-28T07:38:12.944Z"
   },
   {
    "duration": 16,
    "start_time": "2024-11-28T07:38:12.961Z"
   },
   {
    "duration": 52,
    "start_time": "2024-11-28T07:38:12.979Z"
   },
   {
    "duration": 32,
    "start_time": "2024-11-28T07:38:13.033Z"
   },
   {
    "duration": 34,
    "start_time": "2024-11-28T07:38:13.067Z"
   },
   {
    "duration": 17,
    "start_time": "2024-11-28T07:38:13.102Z"
   },
   {
    "duration": 15,
    "start_time": "2024-11-28T07:38:13.120Z"
   },
   {
    "duration": 17,
    "start_time": "2024-11-28T07:38:13.137Z"
   },
   {
    "duration": 17,
    "start_time": "2024-11-28T07:38:13.155Z"
   },
   {
    "duration": 22,
    "start_time": "2024-11-28T07:38:13.174Z"
   },
   {
    "duration": 14,
    "start_time": "2024-11-28T07:38:13.197Z"
   },
   {
    "duration": 11,
    "start_time": "2024-11-28T07:38:13.213Z"
   },
   {
    "duration": 16,
    "start_time": "2024-11-28T07:38:13.226Z"
   },
   {
    "duration": 69,
    "start_time": "2024-11-28T07:38:13.243Z"
   },
   {
    "duration": 5,
    "start_time": "2024-11-28T07:38:13.313Z"
   },
   {
    "duration": 19,
    "start_time": "2024-11-28T07:38:13.321Z"
   },
   {
    "duration": 29,
    "start_time": "2024-11-28T07:38:13.342Z"
   },
   {
    "duration": 7,
    "start_time": "2024-11-28T07:38:33.316Z"
   },
   {
    "duration": 4,
    "start_time": "2024-11-28T07:38:33.974Z"
   },
   {
    "duration": 6,
    "start_time": "2024-11-28T07:38:37.157Z"
   },
   {
    "duration": 14,
    "start_time": "2024-11-28T07:38:39.391Z"
   },
   {
    "duration": 13,
    "start_time": "2024-11-28T07:38:43.740Z"
   },
   {
    "duration": 373,
    "start_time": "2024-11-28T07:47:19.291Z"
   },
   {
    "duration": 2,
    "start_time": "2024-11-28T07:47:19.667Z"
   },
   {
    "duration": 197,
    "start_time": "2024-11-28T07:47:19.671Z"
   },
   {
    "duration": 27,
    "start_time": "2024-11-28T07:47:19.871Z"
   },
   {
    "duration": 20,
    "start_time": "2024-11-28T07:47:19.899Z"
   },
   {
    "duration": 3,
    "start_time": "2024-11-28T07:47:19.921Z"
   },
   {
    "duration": 65,
    "start_time": "2024-11-28T07:47:19.925Z"
   },
   {
    "duration": 0,
    "start_time": "2024-11-28T07:47:19.995Z"
   },
   {
    "duration": 0,
    "start_time": "2024-11-28T07:47:19.997Z"
   },
   {
    "duration": 0,
    "start_time": "2024-11-28T07:47:19.998Z"
   },
   {
    "duration": 0,
    "start_time": "2024-11-28T07:47:20.000Z"
   },
   {
    "duration": 0,
    "start_time": "2024-11-28T07:47:20.002Z"
   },
   {
    "duration": 0,
    "start_time": "2024-11-28T07:47:20.003Z"
   },
   {
    "duration": 0,
    "start_time": "2024-11-28T07:47:20.004Z"
   },
   {
    "duration": 0,
    "start_time": "2024-11-28T07:47:20.006Z"
   },
   {
    "duration": 0,
    "start_time": "2024-11-28T07:47:20.007Z"
   },
   {
    "duration": 0,
    "start_time": "2024-11-28T07:47:20.008Z"
   },
   {
    "duration": 0,
    "start_time": "2024-11-28T07:47:20.010Z"
   },
   {
    "duration": 0,
    "start_time": "2024-11-28T07:47:20.011Z"
   },
   {
    "duration": 0,
    "start_time": "2024-11-28T07:47:20.013Z"
   },
   {
    "duration": 0,
    "start_time": "2024-11-28T07:47:20.014Z"
   },
   {
    "duration": 0,
    "start_time": "2024-11-28T07:47:20.016Z"
   },
   {
    "duration": 0,
    "start_time": "2024-11-28T07:47:20.017Z"
   },
   {
    "duration": 0,
    "start_time": "2024-11-28T07:47:20.019Z"
   },
   {
    "duration": 0,
    "start_time": "2024-11-28T07:47:20.020Z"
   },
   {
    "duration": 0,
    "start_time": "2024-11-28T07:47:20.021Z"
   },
   {
    "duration": 0,
    "start_time": "2024-11-28T07:47:20.022Z"
   },
   {
    "duration": 0,
    "start_time": "2024-11-28T07:47:20.023Z"
   },
   {
    "duration": 0,
    "start_time": "2024-11-28T07:47:20.024Z"
   },
   {
    "duration": 0,
    "start_time": "2024-11-28T07:47:20.025Z"
   },
   {
    "duration": 0,
    "start_time": "2024-11-28T07:47:20.026Z"
   },
   {
    "duration": 0,
    "start_time": "2024-11-28T07:47:20.043Z"
   },
   {
    "duration": 0,
    "start_time": "2024-11-28T07:47:20.044Z"
   },
   {
    "duration": 0,
    "start_time": "2024-11-28T07:47:20.046Z"
   },
   {
    "duration": 0,
    "start_time": "2024-11-28T07:47:20.047Z"
   },
   {
    "duration": 0,
    "start_time": "2024-11-28T07:47:20.049Z"
   },
   {
    "duration": 0,
    "start_time": "2024-11-28T07:47:20.050Z"
   },
   {
    "duration": 0,
    "start_time": "2024-11-28T07:47:20.052Z"
   },
   {
    "duration": 0,
    "start_time": "2024-11-28T07:47:20.053Z"
   },
   {
    "duration": 0,
    "start_time": "2024-11-28T07:47:20.054Z"
   },
   {
    "duration": 0,
    "start_time": "2024-11-28T07:47:20.055Z"
   },
   {
    "duration": 0,
    "start_time": "2024-11-28T07:47:20.057Z"
   },
   {
    "duration": 0,
    "start_time": "2024-11-28T07:47:20.059Z"
   },
   {
    "duration": 1,
    "start_time": "2024-11-28T07:47:20.059Z"
   },
   {
    "duration": 440,
    "start_time": "2024-11-28T07:48:21.023Z"
   },
   {
    "duration": 3,
    "start_time": "2024-11-28T07:48:21.465Z"
   },
   {
    "duration": 154,
    "start_time": "2024-11-28T07:48:21.470Z"
   },
   {
    "duration": 22,
    "start_time": "2024-11-28T07:48:21.625Z"
   },
   {
    "duration": 100,
    "start_time": "2024-11-28T07:48:21.651Z"
   },
   {
    "duration": 9,
    "start_time": "2024-11-28T07:48:21.753Z"
   },
   {
    "duration": 15,
    "start_time": "2024-11-28T07:48:21.764Z"
   },
   {
    "duration": 10,
    "start_time": "2024-11-28T07:48:21.780Z"
   },
   {
    "duration": 30,
    "start_time": "2024-11-28T07:48:21.791Z"
   },
   {
    "duration": 88,
    "start_time": "2024-11-28T07:48:21.823Z"
   },
   {
    "duration": 15,
    "start_time": "2024-11-28T07:48:21.914Z"
   },
   {
    "duration": 11,
    "start_time": "2024-11-28T07:48:21.930Z"
   },
   {
    "duration": 82,
    "start_time": "2024-11-28T07:48:21.943Z"
   },
   {
    "duration": 15,
    "start_time": "2024-11-28T07:48:22.028Z"
   },
   {
    "duration": 11,
    "start_time": "2024-11-28T07:48:22.044Z"
   },
   {
    "duration": 26,
    "start_time": "2024-11-28T07:48:22.056Z"
   },
   {
    "duration": 7,
    "start_time": "2024-11-28T07:48:22.083Z"
   },
   {
    "duration": 22,
    "start_time": "2024-11-28T07:48:22.091Z"
   },
   {
    "duration": 44,
    "start_time": "2024-11-28T07:48:22.114Z"
   },
   {
    "duration": 23,
    "start_time": "2024-11-28T07:48:22.159Z"
   },
   {
    "duration": 13,
    "start_time": "2024-11-28T07:48:22.183Z"
   },
   {
    "duration": 14,
    "start_time": "2024-11-28T07:48:22.197Z"
   },
   {
    "duration": 16,
    "start_time": "2024-11-28T07:48:22.212Z"
   },
   {
    "duration": 30,
    "start_time": "2024-11-28T07:48:22.230Z"
   },
   {
    "duration": 17,
    "start_time": "2024-11-28T07:48:22.261Z"
   },
   {
    "duration": 15,
    "start_time": "2024-11-28T07:48:22.280Z"
   },
   {
    "duration": 19,
    "start_time": "2024-11-28T07:48:22.297Z"
   },
   {
    "duration": 8,
    "start_time": "2024-11-28T07:48:22.318Z"
   },
   {
    "duration": 17,
    "start_time": "2024-11-28T07:48:22.328Z"
   },
   {
    "duration": 17,
    "start_time": "2024-11-28T07:48:22.347Z"
   },
   {
    "duration": 10,
    "start_time": "2024-11-28T07:48:22.366Z"
   },
   {
    "duration": 13,
    "start_time": "2024-11-28T07:48:22.378Z"
   },
   {
    "duration": 11,
    "start_time": "2024-11-28T07:48:22.392Z"
   },
   {
    "duration": 18,
    "start_time": "2024-11-28T07:48:22.404Z"
   },
   {
    "duration": 50,
    "start_time": "2024-11-28T07:48:22.423Z"
   },
   {
    "duration": 9,
    "start_time": "2024-11-28T07:48:22.474Z"
   },
   {
    "duration": 6,
    "start_time": "2024-11-28T07:48:22.484Z"
   },
   {
    "duration": 66,
    "start_time": "2024-11-28T07:48:22.491Z"
   },
   {
    "duration": 28,
    "start_time": "2024-11-28T07:48:22.559Z"
   },
   {
    "duration": 15,
    "start_time": "2024-11-28T07:48:22.589Z"
   },
   {
    "duration": 44,
    "start_time": "2024-11-28T07:48:22.607Z"
   },
   {
    "duration": 7,
    "start_time": "2024-11-28T07:54:12.767Z"
   },
   {
    "duration": 5,
    "start_time": "2024-11-28T07:54:13.469Z"
   },
   {
    "duration": 5,
    "start_time": "2024-11-28T07:54:17.655Z"
   },
   {
    "duration": 25,
    "start_time": "2024-11-28T07:54:20.141Z"
   },
   {
    "duration": 12,
    "start_time": "2024-11-28T07:54:27.101Z"
   },
   {
    "duration": 430,
    "start_time": "2024-11-28T07:55:04.541Z"
   },
   {
    "duration": 3,
    "start_time": "2024-11-28T07:55:04.973Z"
   },
   {
    "duration": 149,
    "start_time": "2024-11-28T07:55:04.977Z"
   },
   {
    "duration": 21,
    "start_time": "2024-11-28T07:55:05.128Z"
   },
   {
    "duration": 33,
    "start_time": "2024-11-28T07:55:05.151Z"
   },
   {
    "duration": 54,
    "start_time": "2024-11-28T07:55:05.185Z"
   },
   {
    "duration": 57,
    "start_time": "2024-11-28T07:55:05.241Z"
   },
   {
    "duration": 95,
    "start_time": "2024-11-28T07:55:05.300Z"
   },
   {
    "duration": 68,
    "start_time": "2024-11-28T07:55:05.397Z"
   },
   {
    "duration": 87,
    "start_time": "2024-11-28T07:55:05.467Z"
   },
   {
    "duration": 60,
    "start_time": "2024-11-28T07:55:05.556Z"
   },
   {
    "duration": 42,
    "start_time": "2024-11-28T07:55:05.618Z"
   },
   {
    "duration": 93,
    "start_time": "2024-11-28T07:55:05.663Z"
   },
   {
    "duration": 61,
    "start_time": "2024-11-28T07:55:05.760Z"
   },
   {
    "duration": 126,
    "start_time": "2024-11-28T07:55:05.823Z"
   },
   {
    "duration": 116,
    "start_time": "2024-11-28T07:55:05.951Z"
   },
   {
    "duration": 34,
    "start_time": "2024-11-28T07:55:06.069Z"
   },
   {
    "duration": 36,
    "start_time": "2024-11-28T07:55:06.105Z"
   },
   {
    "duration": 53,
    "start_time": "2024-11-28T07:55:06.143Z"
   },
   {
    "duration": 21,
    "start_time": "2024-11-28T07:55:06.197Z"
   },
   {
    "duration": 3,
    "start_time": "2024-11-28T07:55:06.220Z"
   },
   {
    "duration": 47,
    "start_time": "2024-11-28T07:55:06.225Z"
   },
   {
    "duration": 76,
    "start_time": "2024-11-28T07:55:06.274Z"
   },
   {
    "duration": 38,
    "start_time": "2024-11-28T07:55:06.352Z"
   },
   {
    "duration": 45,
    "start_time": "2024-11-28T07:55:06.391Z"
   },
   {
    "duration": 60,
    "start_time": "2024-11-28T07:55:06.437Z"
   },
   {
    "duration": 5,
    "start_time": "2024-11-28T07:55:06.499Z"
   },
   {
    "duration": 8,
    "start_time": "2024-11-28T07:55:06.505Z"
   },
   {
    "duration": 68,
    "start_time": "2024-11-28T07:55:06.514Z"
   },
   {
    "duration": 85,
    "start_time": "2024-11-28T07:55:06.583Z"
   },
   {
    "duration": 28,
    "start_time": "2024-11-28T07:55:06.670Z"
   },
   {
    "duration": 33,
    "start_time": "2024-11-28T07:55:06.700Z"
   },
   {
    "duration": 26,
    "start_time": "2024-11-28T07:55:06.735Z"
   },
   {
    "duration": 34,
    "start_time": "2024-11-28T07:55:06.763Z"
   },
   {
    "duration": 14,
    "start_time": "2024-11-28T07:55:06.799Z"
   },
   {
    "duration": 26,
    "start_time": "2024-11-28T07:55:06.814Z"
   },
   {
    "duration": 101,
    "start_time": "2024-11-28T07:55:06.842Z"
   },
   {
    "duration": 82,
    "start_time": "2024-11-28T07:55:06.945Z"
   },
   {
    "duration": 5,
    "start_time": "2024-11-28T07:55:07.029Z"
   },
   {
    "duration": 39,
    "start_time": "2024-11-28T07:55:07.036Z"
   },
   {
    "duration": 89,
    "start_time": "2024-11-28T07:55:07.079Z"
   },
   {
    "duration": 19,
    "start_time": "2024-11-28T08:00:08.518Z"
   },
   {
    "duration": 15,
    "start_time": "2024-11-28T08:00:54.510Z"
   },
   {
    "duration": 378,
    "start_time": "2024-11-28T08:06:24.387Z"
   },
   {
    "duration": 3,
    "start_time": "2024-11-28T08:06:24.768Z"
   },
   {
    "duration": 149,
    "start_time": "2024-11-28T08:06:24.773Z"
   },
   {
    "duration": 22,
    "start_time": "2024-11-28T08:06:24.924Z"
   },
   {
    "duration": 16,
    "start_time": "2024-11-28T08:06:24.948Z"
   },
   {
    "duration": 3,
    "start_time": "2024-11-28T08:06:24.966Z"
   },
   {
    "duration": 17,
    "start_time": "2024-11-28T08:06:24.970Z"
   },
   {
    "duration": 17,
    "start_time": "2024-11-28T08:06:24.988Z"
   },
   {
    "duration": 24,
    "start_time": "2024-11-28T08:06:25.006Z"
   },
   {
    "duration": 28,
    "start_time": "2024-11-28T08:06:25.031Z"
   },
   {
    "duration": 20,
    "start_time": "2024-11-28T08:06:25.061Z"
   },
   {
    "duration": 17,
    "start_time": "2024-11-28T08:06:25.082Z"
   },
   {
    "duration": 12,
    "start_time": "2024-11-28T08:06:25.101Z"
   },
   {
    "duration": 17,
    "start_time": "2024-11-28T08:06:25.116Z"
   },
   {
    "duration": 83,
    "start_time": "2024-11-28T08:06:25.134Z"
   },
   {
    "duration": 18,
    "start_time": "2024-11-28T08:06:25.219Z"
   },
   {
    "duration": 32,
    "start_time": "2024-11-28T08:06:25.239Z"
   },
   {
    "duration": 18,
    "start_time": "2024-11-28T08:06:25.273Z"
   },
   {
    "duration": 32,
    "start_time": "2024-11-28T08:06:25.292Z"
   },
   {
    "duration": 7,
    "start_time": "2024-11-28T08:06:25.326Z"
   },
   {
    "duration": 20,
    "start_time": "2024-11-28T08:06:25.334Z"
   },
   {
    "duration": 21,
    "start_time": "2024-11-28T08:06:25.356Z"
   },
   {
    "duration": 21,
    "start_time": "2024-11-28T08:06:25.379Z"
   },
   {
    "duration": 5,
    "start_time": "2024-11-28T08:06:25.402Z"
   },
   {
    "duration": 6,
    "start_time": "2024-11-28T08:06:25.408Z"
   },
   {
    "duration": 34,
    "start_time": "2024-11-28T08:06:25.416Z"
   },
   {
    "duration": 23,
    "start_time": "2024-11-28T08:06:25.451Z"
   },
   {
    "duration": 5,
    "start_time": "2024-11-28T08:06:25.475Z"
   },
   {
    "duration": 7,
    "start_time": "2024-11-28T08:06:25.482Z"
   },
   {
    "duration": 5,
    "start_time": "2024-11-28T08:06:25.491Z"
   },
   {
    "duration": 5,
    "start_time": "2024-11-28T08:06:25.498Z"
   },
   {
    "duration": 39,
    "start_time": "2024-11-28T08:06:25.505Z"
   },
   {
    "duration": 8,
    "start_time": "2024-11-28T08:06:25.545Z"
   },
   {
    "duration": 19,
    "start_time": "2024-11-28T08:06:25.555Z"
   },
   {
    "duration": 91,
    "start_time": "2024-11-28T08:06:25.576Z"
   },
   {
    "duration": 18,
    "start_time": "2024-11-28T08:06:25.669Z"
   },
   {
    "duration": 101,
    "start_time": "2024-11-28T08:06:25.689Z"
   },
   {
    "duration": 25,
    "start_time": "2024-11-28T08:06:25.792Z"
   },
   {
    "duration": 14,
    "start_time": "2024-11-28T08:06:25.819Z"
   },
   {
    "duration": 9,
    "start_time": "2024-11-28T08:06:25.835Z"
   },
   {
    "duration": 57,
    "start_time": "2024-11-28T08:06:25.848Z"
   },
   {
    "duration": 5,
    "start_time": "2024-11-28T08:06:25.908Z"
   },
   {
    "duration": 78,
    "start_time": "2024-11-28T08:06:25.915Z"
   },
   {
    "duration": 40,
    "start_time": "2024-11-28T08:06:25.995Z"
   },
   {
    "duration": 375,
    "start_time": "2024-11-28T08:07:06.179Z"
   },
   {
    "duration": 3,
    "start_time": "2024-11-28T08:07:06.556Z"
   },
   {
    "duration": 99,
    "start_time": "2024-11-28T08:07:06.561Z"
   },
   {
    "duration": 22,
    "start_time": "2024-11-28T08:07:06.663Z"
   },
   {
    "duration": 47,
    "start_time": "2024-11-28T08:07:06.687Z"
   },
   {
    "duration": 15,
    "start_time": "2024-11-28T08:07:06.736Z"
   },
   {
    "duration": 42,
    "start_time": "2024-11-28T08:07:06.752Z"
   },
   {
    "duration": 6,
    "start_time": "2024-11-28T08:07:06.796Z"
   },
   {
    "duration": 28,
    "start_time": "2024-11-28T08:07:06.803Z"
   },
   {
    "duration": 28,
    "start_time": "2024-11-28T08:07:06.834Z"
   },
   {
    "duration": 20,
    "start_time": "2024-11-28T08:07:06.863Z"
   },
   {
    "duration": 15,
    "start_time": "2024-11-28T08:07:06.885Z"
   },
   {
    "duration": 84,
    "start_time": "2024-11-28T08:07:06.902Z"
   },
   {
    "duration": 24,
    "start_time": "2024-11-28T08:07:06.987Z"
   },
   {
    "duration": 30,
    "start_time": "2024-11-28T08:07:07.013Z"
   },
   {
    "duration": 12,
    "start_time": "2024-11-28T08:07:07.044Z"
   },
   {
    "duration": 34,
    "start_time": "2024-11-28T08:07:07.058Z"
   },
   {
    "duration": 27,
    "start_time": "2024-11-28T08:07:07.094Z"
   },
   {
    "duration": 73,
    "start_time": "2024-11-28T08:07:07.123Z"
   },
   {
    "duration": 29,
    "start_time": "2024-11-28T08:07:07.197Z"
   },
   {
    "duration": 31,
    "start_time": "2024-11-28T08:07:07.228Z"
   },
   {
    "duration": 32,
    "start_time": "2024-11-28T08:07:07.260Z"
   },
   {
    "duration": 22,
    "start_time": "2024-11-28T08:07:07.294Z"
   },
   {
    "duration": 5,
    "start_time": "2024-11-28T08:07:07.318Z"
   },
   {
    "duration": 33,
    "start_time": "2024-11-28T08:07:07.325Z"
   },
   {
    "duration": 55,
    "start_time": "2024-11-28T08:07:07.359Z"
   },
   {
    "duration": 43,
    "start_time": "2024-11-28T08:07:07.416Z"
   },
   {
    "duration": 29,
    "start_time": "2024-11-28T08:07:07.463Z"
   },
   {
    "duration": 17,
    "start_time": "2024-11-28T08:07:07.493Z"
   },
   {
    "duration": 23,
    "start_time": "2024-11-28T08:07:07.511Z"
   },
   {
    "duration": 7,
    "start_time": "2024-11-28T08:07:07.536Z"
   },
   {
    "duration": 29,
    "start_time": "2024-11-28T08:07:07.544Z"
   },
   {
    "duration": 117,
    "start_time": "2024-11-28T08:07:07.575Z"
   },
   {
    "duration": 100,
    "start_time": "2024-11-28T08:07:07.693Z"
   },
   {
    "duration": 63,
    "start_time": "2024-11-28T08:07:07.795Z"
   },
   {
    "duration": 135,
    "start_time": "2024-11-28T08:07:07.860Z"
   },
   {
    "duration": 139,
    "start_time": "2024-11-28T08:07:07.996Z"
   },
   {
    "duration": 21,
    "start_time": "2024-11-28T08:07:08.137Z"
   },
   {
    "duration": 6,
    "start_time": "2024-11-28T08:07:08.160Z"
   },
   {
    "duration": 22,
    "start_time": "2024-11-28T08:07:08.167Z"
   },
   {
    "duration": 74,
    "start_time": "2024-11-28T08:07:08.190Z"
   },
   {
    "duration": 6,
    "start_time": "2024-11-28T08:07:08.266Z"
   },
   {
    "duration": 14,
    "start_time": "2024-11-28T08:07:08.273Z"
   },
   {
    "duration": 27,
    "start_time": "2024-11-28T08:07:08.289Z"
   },
   {
    "duration": 411,
    "start_time": "2024-11-28T08:11:27.555Z"
   },
   {
    "duration": 3,
    "start_time": "2024-11-28T08:11:27.968Z"
   },
   {
    "duration": 177,
    "start_time": "2024-11-28T08:11:27.972Z"
   },
   {
    "duration": 31,
    "start_time": "2024-11-28T08:11:28.156Z"
   },
   {
    "duration": 16,
    "start_time": "2024-11-28T08:11:28.190Z"
   },
   {
    "duration": 11,
    "start_time": "2024-11-28T08:11:28.207Z"
   },
   {
    "duration": 18,
    "start_time": "2024-11-28T08:11:28.220Z"
   },
   {
    "duration": 8,
    "start_time": "2024-11-28T08:11:28.253Z"
   },
   {
    "duration": 18,
    "start_time": "2024-11-28T08:11:28.263Z"
   },
   {
    "duration": 15,
    "start_time": "2024-11-28T08:11:28.282Z"
   },
   {
    "duration": 15,
    "start_time": "2024-11-28T08:11:28.298Z"
   },
   {
    "duration": 45,
    "start_time": "2024-11-28T08:11:28.315Z"
   },
   {
    "duration": 14,
    "start_time": "2024-11-28T08:11:28.363Z"
   },
   {
    "duration": 15,
    "start_time": "2024-11-28T08:11:28.380Z"
   },
   {
    "duration": 15,
    "start_time": "2024-11-28T08:11:28.396Z"
   },
   {
    "duration": 14,
    "start_time": "2024-11-28T08:11:28.412Z"
   },
   {
    "duration": 26,
    "start_time": "2024-11-28T08:11:28.428Z"
   },
   {
    "duration": 10,
    "start_time": "2024-11-28T08:11:28.458Z"
   },
   {
    "duration": 28,
    "start_time": "2024-11-28T08:11:28.469Z"
   },
   {
    "duration": 6,
    "start_time": "2024-11-28T08:11:28.498Z"
   },
   {
    "duration": 58,
    "start_time": "2024-11-28T08:11:28.506Z"
   },
   {
    "duration": 20,
    "start_time": "2024-11-28T08:11:28.566Z"
   },
   {
    "duration": 23,
    "start_time": "2024-11-28T08:11:28.588Z"
   },
   {
    "duration": 78,
    "start_time": "2024-11-28T08:11:28.613Z"
   },
   {
    "duration": 5,
    "start_time": "2024-11-28T08:11:28.692Z"
   },
   {
    "duration": 7,
    "start_time": "2024-11-28T08:11:28.698Z"
   },
   {
    "duration": 30,
    "start_time": "2024-11-28T08:11:28.707Z"
   },
   {
    "duration": 28,
    "start_time": "2024-11-28T08:11:28.739Z"
   },
   {
    "duration": 5,
    "start_time": "2024-11-28T08:11:28.768Z"
   },
   {
    "duration": 6,
    "start_time": "2024-11-28T08:11:28.775Z"
   },
   {
    "duration": 6,
    "start_time": "2024-11-28T08:11:28.782Z"
   },
   {
    "duration": 5,
    "start_time": "2024-11-28T08:11:28.789Z"
   },
   {
    "duration": 15,
    "start_time": "2024-11-28T08:11:28.796Z"
   },
   {
    "duration": 45,
    "start_time": "2024-11-28T08:11:28.813Z"
   },
   {
    "duration": 29,
    "start_time": "2024-11-28T08:11:28.860Z"
   },
   {
    "duration": 15,
    "start_time": "2024-11-28T08:11:28.890Z"
   },
   {
    "duration": 38,
    "start_time": "2024-11-28T08:11:28.907Z"
   },
   {
    "duration": 59,
    "start_time": "2024-11-28T08:11:28.947Z"
   },
   {
    "duration": 6,
    "start_time": "2024-11-28T08:11:29.008Z"
   },
   {
    "duration": 4,
    "start_time": "2024-11-28T08:11:29.016Z"
   },
   {
    "duration": 16,
    "start_time": "2024-11-28T08:11:29.024Z"
   },
   {
    "duration": 68,
    "start_time": "2024-11-28T08:11:29.041Z"
   },
   {
    "duration": 6,
    "start_time": "2024-11-28T08:11:29.111Z"
   },
   {
    "duration": 10,
    "start_time": "2024-11-28T08:11:29.118Z"
   },
   {
    "duration": 30,
    "start_time": "2024-11-28T08:11:29.129Z"
   },
   {
    "duration": 377,
    "start_time": "2024-11-28T08:14:19.091Z"
   },
   {
    "duration": 2,
    "start_time": "2024-11-28T08:14:19.470Z"
   },
   {
    "duration": 100,
    "start_time": "2024-11-28T08:14:19.474Z"
   },
   {
    "duration": 22,
    "start_time": "2024-11-28T08:14:19.576Z"
   },
   {
    "duration": 16,
    "start_time": "2024-11-28T08:14:19.600Z"
   },
   {
    "duration": 63,
    "start_time": "2024-11-28T08:14:19.618Z"
   },
   {
    "duration": 20,
    "start_time": "2024-11-28T08:14:19.683Z"
   },
   {
    "duration": 8,
    "start_time": "2024-11-28T08:14:19.704Z"
   },
   {
    "duration": 98,
    "start_time": "2024-11-28T08:14:19.714Z"
   },
   {
    "duration": 16,
    "start_time": "2024-11-28T08:14:19.814Z"
   },
   {
    "duration": 15,
    "start_time": "2024-11-28T08:14:19.832Z"
   },
   {
    "duration": 15,
    "start_time": "2024-11-28T08:14:19.849Z"
   },
   {
    "duration": 12,
    "start_time": "2024-11-28T08:14:19.866Z"
   },
   {
    "duration": 31,
    "start_time": "2024-11-28T08:14:19.880Z"
   },
   {
    "duration": 27,
    "start_time": "2024-11-28T08:14:19.913Z"
   },
   {
    "duration": 85,
    "start_time": "2024-11-28T08:14:19.943Z"
   },
   {
    "duration": 33,
    "start_time": "2024-11-28T08:14:20.030Z"
   },
   {
    "duration": 26,
    "start_time": "2024-11-28T08:14:20.064Z"
   },
   {
    "duration": 120,
    "start_time": "2024-11-28T08:14:20.092Z"
   },
   {
    "duration": 6,
    "start_time": "2024-11-28T08:14:20.214Z"
   },
   {
    "duration": 35,
    "start_time": "2024-11-28T08:14:20.222Z"
   },
   {
    "duration": 21,
    "start_time": "2024-11-28T08:14:20.258Z"
   },
   {
    "duration": 26,
    "start_time": "2024-11-28T08:14:20.280Z"
   },
   {
    "duration": 3,
    "start_time": "2024-11-28T08:14:20.308Z"
   },
   {
    "duration": 16,
    "start_time": "2024-11-28T08:14:20.312Z"
   },
   {
    "duration": 11,
    "start_time": "2024-11-28T08:14:20.330Z"
   },
   {
    "duration": 15,
    "start_time": "2024-11-28T08:14:20.342Z"
   },
   {
    "duration": 14,
    "start_time": "2024-11-28T08:14:20.362Z"
   },
   {
    "duration": 24,
    "start_time": "2024-11-28T08:14:20.378Z"
   },
   {
    "duration": 10,
    "start_time": "2024-11-28T08:14:20.404Z"
   },
   {
    "duration": 6,
    "start_time": "2024-11-28T08:14:20.416Z"
   },
   {
    "duration": 14,
    "start_time": "2024-11-28T08:14:20.445Z"
   },
   {
    "duration": 5,
    "start_time": "2024-11-28T08:14:20.460Z"
   },
   {
    "duration": 7,
    "start_time": "2024-11-28T08:14:20.466Z"
   },
   {
    "duration": 15,
    "start_time": "2024-11-28T08:14:20.474Z"
   },
   {
    "duration": 10,
    "start_time": "2024-11-28T08:14:20.491Z"
   },
   {
    "duration": 22,
    "start_time": "2024-11-28T08:14:20.502Z"
   },
   {
    "duration": 28,
    "start_time": "2024-11-28T08:14:20.526Z"
   },
   {
    "duration": 18,
    "start_time": "2024-11-28T08:14:20.556Z"
   },
   {
    "duration": 29,
    "start_time": "2024-11-28T08:14:20.575Z"
   },
   {
    "duration": 100,
    "start_time": "2024-11-28T08:14:20.605Z"
   },
   {
    "duration": 10,
    "start_time": "2024-11-28T08:14:20.707Z"
   },
   {
    "duration": 84,
    "start_time": "2024-11-28T08:14:20.718Z"
   },
   {
    "duration": 12,
    "start_time": "2024-11-28T08:14:20.804Z"
   },
   {
    "duration": 8,
    "start_time": "2024-11-28T08:14:20.818Z"
   },
   {
    "duration": 35,
    "start_time": "2024-11-28T08:14:20.828Z"
   },
   {
    "duration": 377,
    "start_time": "2024-11-28T08:15:37.191Z"
   },
   {
    "duration": 3,
    "start_time": "2024-11-28T08:15:37.569Z"
   },
   {
    "duration": 141,
    "start_time": "2024-11-28T08:15:37.573Z"
   },
   {
    "duration": 35,
    "start_time": "2024-11-28T08:15:37.716Z"
   },
   {
    "duration": 56,
    "start_time": "2024-11-28T08:15:37.753Z"
   },
   {
    "duration": 4,
    "start_time": "2024-11-28T08:15:37.811Z"
   },
   {
    "duration": 21,
    "start_time": "2024-11-28T08:15:37.816Z"
   },
   {
    "duration": 8,
    "start_time": "2024-11-28T08:15:37.839Z"
   },
   {
    "duration": 59,
    "start_time": "2024-11-28T08:15:37.848Z"
   },
   {
    "duration": 50,
    "start_time": "2024-11-28T08:15:37.909Z"
   },
   {
    "duration": 85,
    "start_time": "2024-11-28T08:15:37.961Z"
   },
   {
    "duration": 31,
    "start_time": "2024-11-28T08:15:38.047Z"
   },
   {
    "duration": 24,
    "start_time": "2024-11-28T08:15:38.080Z"
   },
   {
    "duration": 50,
    "start_time": "2024-11-28T08:15:38.107Z"
   },
   {
    "duration": 73,
    "start_time": "2024-11-28T08:15:38.158Z"
   },
   {
    "duration": 18,
    "start_time": "2024-11-28T08:15:38.233Z"
   },
   {
    "duration": 14,
    "start_time": "2024-11-28T08:15:38.252Z"
   },
   {
    "duration": 19,
    "start_time": "2024-11-28T08:15:38.268Z"
   },
   {
    "duration": 33,
    "start_time": "2024-11-28T08:15:38.289Z"
   },
   {
    "duration": 6,
    "start_time": "2024-11-28T08:15:38.323Z"
   },
   {
    "duration": 28,
    "start_time": "2024-11-28T08:15:38.330Z"
   },
   {
    "duration": 22,
    "start_time": "2024-11-28T08:15:38.359Z"
   },
   {
    "duration": 21,
    "start_time": "2024-11-28T08:15:38.382Z"
   },
   {
    "duration": 3,
    "start_time": "2024-11-28T08:15:38.405Z"
   },
   {
    "duration": 26,
    "start_time": "2024-11-28T08:15:38.409Z"
   },
   {
    "duration": 23,
    "start_time": "2024-11-28T08:15:38.437Z"
   },
   {
    "duration": 12,
    "start_time": "2024-11-28T08:15:38.462Z"
   },
   {
    "duration": 7,
    "start_time": "2024-11-28T08:15:38.476Z"
   },
   {
    "duration": 18,
    "start_time": "2024-11-28T08:15:38.485Z"
   },
   {
    "duration": 21,
    "start_time": "2024-11-28T08:15:38.504Z"
   },
   {
    "duration": 6,
    "start_time": "2024-11-28T08:15:38.527Z"
   },
   {
    "duration": 36,
    "start_time": "2024-11-28T08:15:38.535Z"
   },
   {
    "duration": 17,
    "start_time": "2024-11-28T08:15:38.572Z"
   },
   {
    "duration": 8,
    "start_time": "2024-11-28T08:15:38.590Z"
   },
   {
    "duration": 110,
    "start_time": "2024-11-28T08:15:38.600Z"
   },
   {
    "duration": 33,
    "start_time": "2024-11-28T08:15:38.712Z"
   },
   {
    "duration": 17,
    "start_time": "2024-11-28T08:15:38.747Z"
   },
   {
    "duration": 21,
    "start_time": "2024-11-28T08:15:38.765Z"
   },
   {
    "duration": 27,
    "start_time": "2024-11-28T08:15:38.788Z"
   },
   {
    "duration": 27,
    "start_time": "2024-11-28T08:15:38.817Z"
   },
   {
    "duration": 8,
    "start_time": "2024-11-28T08:15:38.848Z"
   },
   {
    "duration": 31,
    "start_time": "2024-11-28T08:15:38.859Z"
   },
   {
    "duration": 31,
    "start_time": "2024-11-28T08:15:38.892Z"
   },
   {
    "duration": 146,
    "start_time": "2024-11-28T08:15:38.924Z"
   },
   {
    "duration": 5,
    "start_time": "2024-11-28T08:15:39.072Z"
   },
   {
    "duration": 13,
    "start_time": "2024-11-28T08:15:39.079Z"
   },
   {
    "duration": 46,
    "start_time": "2024-11-28T08:15:39.093Z"
   },
   {
    "duration": 445,
    "start_time": "2024-11-28T08:15:54.426Z"
   },
   {
    "duration": 3,
    "start_time": "2024-11-28T08:15:54.874Z"
   },
   {
    "duration": 147,
    "start_time": "2024-11-28T08:15:54.879Z"
   },
   {
    "duration": 22,
    "start_time": "2024-11-28T08:15:55.027Z"
   },
   {
    "duration": 33,
    "start_time": "2024-11-28T08:15:55.052Z"
   },
   {
    "duration": 16,
    "start_time": "2024-11-28T08:15:55.088Z"
   },
   {
    "duration": 21,
    "start_time": "2024-11-28T08:15:55.106Z"
   },
   {
    "duration": 15,
    "start_time": "2024-11-28T08:15:55.128Z"
   },
   {
    "duration": 51,
    "start_time": "2024-11-28T08:15:55.145Z"
   },
   {
    "duration": 63,
    "start_time": "2024-11-28T08:15:55.199Z"
   },
   {
    "duration": 16,
    "start_time": "2024-11-28T08:15:55.263Z"
   },
   {
    "duration": 43,
    "start_time": "2024-11-28T08:15:55.280Z"
   },
   {
    "duration": 20,
    "start_time": "2024-11-28T08:15:55.324Z"
   },
   {
    "duration": 17,
    "start_time": "2024-11-28T08:15:55.347Z"
   },
   {
    "duration": 27,
    "start_time": "2024-11-28T08:15:55.366Z"
   },
   {
    "duration": 15,
    "start_time": "2024-11-28T08:15:55.394Z"
   },
   {
    "duration": 47,
    "start_time": "2024-11-28T08:15:55.411Z"
   },
   {
    "duration": 18,
    "start_time": "2024-11-28T08:15:55.459Z"
   },
   {
    "duration": 30,
    "start_time": "2024-11-28T08:15:55.479Z"
   },
   {
    "duration": 6,
    "start_time": "2024-11-28T08:15:55.510Z"
   },
   {
    "duration": 25,
    "start_time": "2024-11-28T08:15:55.518Z"
   },
   {
    "duration": 24,
    "start_time": "2024-11-28T08:15:55.545Z"
   },
   {
    "duration": 26,
    "start_time": "2024-11-28T08:15:55.571Z"
   },
   {
    "duration": 95,
    "start_time": "2024-11-28T08:15:55.599Z"
   },
   {
    "duration": 7,
    "start_time": "2024-11-28T08:15:55.695Z"
   },
   {
    "duration": 18,
    "start_time": "2024-11-28T08:15:55.703Z"
   },
   {
    "duration": 88,
    "start_time": "2024-11-28T08:15:55.723Z"
   },
   {
    "duration": 10,
    "start_time": "2024-11-28T08:15:55.812Z"
   },
   {
    "duration": 18,
    "start_time": "2024-11-28T08:15:55.823Z"
   },
   {
    "duration": 25,
    "start_time": "2024-11-28T08:15:55.843Z"
   },
   {
    "duration": 12,
    "start_time": "2024-11-28T08:15:55.870Z"
   },
   {
    "duration": 33,
    "start_time": "2024-11-28T08:15:55.883Z"
   },
   {
    "duration": 22,
    "start_time": "2024-11-28T08:15:55.917Z"
   },
   {
    "duration": 77,
    "start_time": "2024-11-28T08:15:55.941Z"
   },
   {
    "duration": 17,
    "start_time": "2024-11-28T08:15:56.019Z"
   },
   {
    "duration": 28,
    "start_time": "2024-11-28T08:15:56.038Z"
   },
   {
    "duration": 41,
    "start_time": "2024-11-28T08:15:56.067Z"
   },
   {
    "duration": 102,
    "start_time": "2024-11-28T08:15:56.109Z"
   },
   {
    "duration": 43,
    "start_time": "2024-11-28T08:15:56.212Z"
   },
   {
    "duration": 14,
    "start_time": "2024-11-28T08:15:56.256Z"
   },
   {
    "duration": 12,
    "start_time": "2024-11-28T08:15:56.274Z"
   },
   {
    "duration": 5,
    "start_time": "2024-11-28T08:15:56.288Z"
   },
   {
    "duration": 25,
    "start_time": "2024-11-28T08:15:56.294Z"
   },
   {
    "duration": 70,
    "start_time": "2024-11-28T08:15:56.321Z"
   },
   {
    "duration": 5,
    "start_time": "2024-11-28T08:15:56.393Z"
   },
   {
    "duration": 30,
    "start_time": "2024-11-28T08:15:56.399Z"
   },
   {
    "duration": 21,
    "start_time": "2024-11-28T08:15:56.430Z"
   },
   {
    "duration": 436,
    "start_time": "2024-11-28T08:16:08.650Z"
   },
   {
    "duration": 3,
    "start_time": "2024-11-28T08:16:09.088Z"
   },
   {
    "duration": 104,
    "start_time": "2024-11-28T08:16:09.092Z"
   },
   {
    "duration": 22,
    "start_time": "2024-11-28T08:16:09.197Z"
   },
   {
    "duration": 59,
    "start_time": "2024-11-28T08:16:09.221Z"
   },
   {
    "duration": 16,
    "start_time": "2024-11-28T08:16:09.282Z"
   },
   {
    "duration": 23,
    "start_time": "2024-11-28T08:16:09.299Z"
   },
   {
    "duration": 5,
    "start_time": "2024-11-28T08:16:09.324Z"
   },
   {
    "duration": 18,
    "start_time": "2024-11-28T08:16:09.330Z"
   },
   {
    "duration": 15,
    "start_time": "2024-11-28T08:16:09.350Z"
   },
   {
    "duration": 34,
    "start_time": "2024-11-28T08:16:09.367Z"
   },
   {
    "duration": 25,
    "start_time": "2024-11-28T08:16:09.402Z"
   },
   {
    "duration": 68,
    "start_time": "2024-11-28T08:16:09.429Z"
   },
   {
    "duration": 30,
    "start_time": "2024-11-28T08:16:09.500Z"
   },
   {
    "duration": 16,
    "start_time": "2024-11-28T08:16:09.531Z"
   },
   {
    "duration": 9,
    "start_time": "2024-11-28T08:16:09.549Z"
   },
   {
    "duration": 21,
    "start_time": "2024-11-28T08:16:09.560Z"
   },
   {
    "duration": 60,
    "start_time": "2024-11-28T08:16:09.583Z"
   },
   {
    "duration": 48,
    "start_time": "2024-11-28T08:16:09.645Z"
   },
   {
    "duration": 5,
    "start_time": "2024-11-28T08:16:09.695Z"
   },
   {
    "duration": 28,
    "start_time": "2024-11-28T08:16:09.701Z"
   },
   {
    "duration": 87,
    "start_time": "2024-11-28T08:16:09.731Z"
   },
   {
    "duration": 42,
    "start_time": "2024-11-28T08:16:09.819Z"
   },
   {
    "duration": 4,
    "start_time": "2024-11-28T08:16:09.862Z"
   },
   {
    "duration": 5,
    "start_time": "2024-11-28T08:16:09.868Z"
   },
   {
    "duration": 5,
    "start_time": "2024-11-28T08:16:09.875Z"
   },
   {
    "duration": 6,
    "start_time": "2024-11-28T08:16:09.882Z"
   },
   {
    "duration": 5,
    "start_time": "2024-11-28T08:16:09.890Z"
   },
   {
    "duration": 48,
    "start_time": "2024-11-28T08:16:09.896Z"
   },
   {
    "duration": 32,
    "start_time": "2024-11-28T08:16:09.946Z"
   },
   {
    "duration": 73,
    "start_time": "2024-11-28T08:16:09.979Z"
   },
   {
    "duration": 20,
    "start_time": "2024-11-28T08:16:10.053Z"
   },
   {
    "duration": 9,
    "start_time": "2024-11-28T08:16:10.075Z"
   },
   {
    "duration": 5,
    "start_time": "2024-11-28T08:16:10.086Z"
   },
   {
    "duration": 101,
    "start_time": "2024-11-28T08:16:10.092Z"
   },
   {
    "duration": 12,
    "start_time": "2024-11-28T08:16:10.194Z"
   },
   {
    "duration": 24,
    "start_time": "2024-11-28T08:16:10.208Z"
   },
   {
    "duration": 36,
    "start_time": "2024-11-28T08:16:10.234Z"
   },
   {
    "duration": 34,
    "start_time": "2024-11-28T08:16:10.272Z"
   },
   {
    "duration": 47,
    "start_time": "2024-11-28T08:16:10.307Z"
   },
   {
    "duration": 12,
    "start_time": "2024-11-28T08:16:10.358Z"
   },
   {
    "duration": 6,
    "start_time": "2024-11-28T08:16:10.372Z"
   },
   {
    "duration": 16,
    "start_time": "2024-11-28T08:16:10.380Z"
   },
   {
    "duration": 93,
    "start_time": "2024-11-28T08:16:10.397Z"
   },
   {
    "duration": 6,
    "start_time": "2024-11-28T08:16:10.491Z"
   },
   {
    "duration": 35,
    "start_time": "2024-11-28T08:16:10.499Z"
   },
   {
    "duration": 40,
    "start_time": "2024-11-28T08:16:10.536Z"
   },
   {
    "duration": 392,
    "start_time": "2024-11-28T08:16:32.771Z"
   },
   {
    "duration": 3,
    "start_time": "2024-11-28T08:16:33.165Z"
   },
   {
    "duration": 183,
    "start_time": "2024-11-28T08:16:33.169Z"
   },
   {
    "duration": 22,
    "start_time": "2024-11-28T08:16:33.354Z"
   },
   {
    "duration": 32,
    "start_time": "2024-11-28T08:16:33.377Z"
   },
   {
    "duration": 3,
    "start_time": "2024-11-28T08:16:33.411Z"
   },
   {
    "duration": 56,
    "start_time": "2024-11-28T08:16:33.415Z"
   },
   {
    "duration": 29,
    "start_time": "2024-11-28T08:16:33.473Z"
   },
   {
    "duration": 48,
    "start_time": "2024-11-28T08:16:33.503Z"
   },
   {
    "duration": 31,
    "start_time": "2024-11-28T08:16:33.554Z"
   },
   {
    "duration": 43,
    "start_time": "2024-11-28T08:16:33.586Z"
   },
   {
    "duration": 66,
    "start_time": "2024-11-28T08:16:33.630Z"
   },
   {
    "duration": 24,
    "start_time": "2024-11-28T08:16:33.697Z"
   },
   {
    "duration": 127,
    "start_time": "2024-11-28T08:16:33.723Z"
   },
   {
    "duration": 19,
    "start_time": "2024-11-28T08:16:33.852Z"
   },
   {
    "duration": 32,
    "start_time": "2024-11-28T08:16:33.872Z"
   },
   {
    "duration": 106,
    "start_time": "2024-11-28T08:16:33.906Z"
   },
   {
    "duration": 38,
    "start_time": "2024-11-28T08:16:34.013Z"
   },
   {
    "duration": 49,
    "start_time": "2024-11-28T08:16:34.052Z"
   },
   {
    "duration": 91,
    "start_time": "2024-11-28T08:16:34.103Z"
   },
   {
    "duration": 32,
    "start_time": "2024-11-28T08:16:34.196Z"
   },
   {
    "duration": 29,
    "start_time": "2024-11-28T08:16:34.230Z"
   },
   {
    "duration": 36,
    "start_time": "2024-11-28T08:16:34.260Z"
   },
   {
    "duration": 18,
    "start_time": "2024-11-28T08:16:34.297Z"
   },
   {
    "duration": 19,
    "start_time": "2024-11-28T08:16:34.317Z"
   },
   {
    "duration": 29,
    "start_time": "2024-11-28T08:16:34.338Z"
   },
   {
    "duration": 23,
    "start_time": "2024-11-28T08:16:34.368Z"
   },
   {
    "duration": 5,
    "start_time": "2024-11-28T08:16:34.395Z"
   },
   {
    "duration": 43,
    "start_time": "2024-11-28T08:16:34.402Z"
   },
   {
    "duration": 21,
    "start_time": "2024-11-28T08:16:34.447Z"
   },
   {
    "duration": 5,
    "start_time": "2024-11-28T08:16:34.470Z"
   },
   {
    "duration": 19,
    "start_time": "2024-11-28T08:16:34.476Z"
   },
   {
    "duration": 39,
    "start_time": "2024-11-28T08:16:34.497Z"
   },
   {
    "duration": 17,
    "start_time": "2024-11-28T08:16:34.538Z"
   },
   {
    "duration": 31,
    "start_time": "2024-11-28T08:16:34.556Z"
   },
   {
    "duration": 26,
    "start_time": "2024-11-28T08:16:34.589Z"
   },
   {
    "duration": 90,
    "start_time": "2024-11-28T08:16:34.617Z"
   },
   {
    "duration": 40,
    "start_time": "2024-11-28T08:16:34.708Z"
   },
   {
    "duration": 13,
    "start_time": "2024-11-28T08:16:34.749Z"
   },
   {
    "duration": 7,
    "start_time": "2024-11-28T08:16:34.764Z"
   },
   {
    "duration": 14,
    "start_time": "2024-11-28T08:16:34.773Z"
   },
   {
    "duration": 10,
    "start_time": "2024-11-28T08:16:34.789Z"
   },
   {
    "duration": 15,
    "start_time": "2024-11-28T08:16:34.801Z"
   },
   {
    "duration": 94,
    "start_time": "2024-11-28T08:16:34.818Z"
   },
   {
    "duration": 6,
    "start_time": "2024-11-28T08:16:34.914Z"
   },
   {
    "duration": 73,
    "start_time": "2024-11-28T08:16:34.922Z"
   },
   {
    "duration": 28,
    "start_time": "2024-11-28T08:16:34.997Z"
   },
   {
    "duration": 369,
    "start_time": "2024-11-28T08:16:43.093Z"
   },
   {
    "duration": 3,
    "start_time": "2024-11-28T08:16:43.464Z"
   },
   {
    "duration": 116,
    "start_time": "2024-11-28T08:16:43.468Z"
   },
   {
    "duration": 21,
    "start_time": "2024-11-28T08:16:43.585Z"
   },
   {
    "duration": 89,
    "start_time": "2024-11-28T08:16:43.608Z"
   },
   {
    "duration": 14,
    "start_time": "2024-11-28T08:16:43.699Z"
   },
   {
    "duration": 132,
    "start_time": "2024-11-28T08:16:43.715Z"
   },
   {
    "duration": 25,
    "start_time": "2024-11-28T08:16:43.850Z"
   },
   {
    "duration": 47,
    "start_time": "2024-11-28T08:16:43.876Z"
   },
   {
    "duration": 29,
    "start_time": "2024-11-28T08:16:43.925Z"
   },
   {
    "duration": 130,
    "start_time": "2024-11-28T08:16:43.956Z"
   },
   {
    "duration": 23,
    "start_time": "2024-11-28T08:16:44.088Z"
   },
   {
    "duration": 88,
    "start_time": "2024-11-28T08:16:44.113Z"
   },
   {
    "duration": 26,
    "start_time": "2024-11-28T08:16:44.204Z"
   },
   {
    "duration": 27,
    "start_time": "2024-11-28T08:16:44.232Z"
   },
   {
    "duration": 21,
    "start_time": "2024-11-28T08:16:44.261Z"
   },
   {
    "duration": 28,
    "start_time": "2024-11-28T08:16:44.284Z"
   },
   {
    "duration": 24,
    "start_time": "2024-11-28T08:16:44.313Z"
   },
   {
    "duration": 32,
    "start_time": "2024-11-28T08:16:44.339Z"
   },
   {
    "duration": 6,
    "start_time": "2024-11-28T08:16:44.372Z"
   },
   {
    "duration": 28,
    "start_time": "2024-11-28T08:16:44.380Z"
   },
   {
    "duration": 22,
    "start_time": "2024-11-28T08:16:44.411Z"
   },
   {
    "duration": 61,
    "start_time": "2024-11-28T08:16:44.434Z"
   },
   {
    "duration": 3,
    "start_time": "2024-11-28T08:16:44.497Z"
   },
   {
    "duration": 11,
    "start_time": "2024-11-28T08:16:44.502Z"
   },
   {
    "duration": 6,
    "start_time": "2024-11-28T08:16:44.514Z"
   },
   {
    "duration": 7,
    "start_time": "2024-11-28T08:16:44.521Z"
   },
   {
    "duration": 16,
    "start_time": "2024-11-28T08:16:44.530Z"
   },
   {
    "duration": 43,
    "start_time": "2024-11-28T08:16:44.547Z"
   },
   {
    "duration": 34,
    "start_time": "2024-11-28T08:16:44.592Z"
   },
   {
    "duration": 78,
    "start_time": "2024-11-28T08:16:44.628Z"
   },
   {
    "duration": 21,
    "start_time": "2024-11-28T08:16:44.707Z"
   },
   {
    "duration": 30,
    "start_time": "2024-11-28T08:16:44.730Z"
   },
   {
    "duration": 12,
    "start_time": "2024-11-28T08:16:44.761Z"
   },
   {
    "duration": 17,
    "start_time": "2024-11-28T08:16:44.774Z"
   },
   {
    "duration": 10,
    "start_time": "2024-11-28T08:16:44.792Z"
   },
   {
    "duration": 40,
    "start_time": "2024-11-28T08:16:44.803Z"
   },
   {
    "duration": 16,
    "start_time": "2024-11-28T08:16:44.845Z"
   },
   {
    "duration": 42,
    "start_time": "2024-11-28T08:16:44.863Z"
   },
   {
    "duration": 6,
    "start_time": "2024-11-28T08:16:44.906Z"
   },
   {
    "duration": 83,
    "start_time": "2024-11-28T08:16:44.916Z"
   },
   {
    "duration": 32,
    "start_time": "2024-11-28T08:16:45.000Z"
   },
   {
    "duration": 63,
    "start_time": "2024-11-28T08:16:45.034Z"
   },
   {
    "duration": 81,
    "start_time": "2024-11-28T08:16:45.099Z"
   },
   {
    "duration": 5,
    "start_time": "2024-11-28T08:16:45.182Z"
   },
   {
    "duration": 83,
    "start_time": "2024-11-28T08:16:45.188Z"
   },
   {
    "duration": 35,
    "start_time": "2024-11-28T08:16:45.273Z"
   },
   {
    "duration": 6,
    "start_time": "2024-11-28T08:24:46.383Z"
   },
   {
    "duration": 30,
    "start_time": "2024-11-28T08:24:58.793Z"
   },
   {
    "duration": 414,
    "start_time": "2024-11-28T08:25:36.038Z"
   },
   {
    "duration": 3,
    "start_time": "2024-11-28T08:25:36.454Z"
   },
   {
    "duration": 132,
    "start_time": "2024-11-28T08:25:36.458Z"
   },
   {
    "duration": 22,
    "start_time": "2024-11-28T08:25:36.592Z"
   },
   {
    "duration": 16,
    "start_time": "2024-11-28T08:25:36.616Z"
   },
   {
    "duration": 3,
    "start_time": "2024-11-28T08:25:36.633Z"
   },
   {
    "duration": 87,
    "start_time": "2024-11-28T08:25:36.642Z"
   },
   {
    "duration": 9,
    "start_time": "2024-11-28T08:25:36.731Z"
   },
   {
    "duration": 30,
    "start_time": "2024-11-28T08:25:36.741Z"
   },
   {
    "duration": 27,
    "start_time": "2024-11-28T08:25:36.774Z"
   },
   {
    "duration": 41,
    "start_time": "2024-11-28T08:25:36.803Z"
   },
   {
    "duration": 28,
    "start_time": "2024-11-28T08:25:36.846Z"
   },
   {
    "duration": 11,
    "start_time": "2024-11-28T08:25:36.875Z"
   },
   {
    "duration": 29,
    "start_time": "2024-11-28T08:25:36.887Z"
   },
   {
    "duration": 14,
    "start_time": "2024-11-28T08:25:36.918Z"
   },
   {
    "duration": 18,
    "start_time": "2024-11-28T08:25:36.933Z"
   },
   {
    "duration": 86,
    "start_time": "2024-11-28T08:25:36.953Z"
   },
   {
    "duration": 25,
    "start_time": "2024-11-28T08:25:37.040Z"
   },
   {
    "duration": 31,
    "start_time": "2024-11-28T08:25:37.067Z"
   },
   {
    "duration": 13,
    "start_time": "2024-11-28T08:25:37.099Z"
   },
   {
    "duration": 56,
    "start_time": "2024-11-28T08:25:37.113Z"
   },
   {
    "duration": 22,
    "start_time": "2024-11-28T08:25:37.170Z"
   },
   {
    "duration": 23,
    "start_time": "2024-11-28T08:25:37.193Z"
   },
   {
    "duration": 37,
    "start_time": "2024-11-28T08:25:37.217Z"
   },
   {
    "duration": 42,
    "start_time": "2024-11-28T08:25:37.256Z"
   },
   {
    "duration": 29,
    "start_time": "2024-11-28T08:25:37.300Z"
   },
   {
    "duration": 24,
    "start_time": "2024-11-28T08:25:37.331Z"
   },
   {
    "duration": 12,
    "start_time": "2024-11-28T08:25:37.358Z"
   },
   {
    "duration": 22,
    "start_time": "2024-11-28T08:25:37.372Z"
   },
   {
    "duration": 29,
    "start_time": "2024-11-28T08:25:37.396Z"
   },
   {
    "duration": 14,
    "start_time": "2024-11-28T08:25:37.427Z"
   },
   {
    "duration": 31,
    "start_time": "2024-11-28T08:25:37.443Z"
   },
   {
    "duration": 16,
    "start_time": "2024-11-28T08:25:37.475Z"
   },
   {
    "duration": 49,
    "start_time": "2024-11-28T08:25:37.493Z"
   },
   {
    "duration": 24,
    "start_time": "2024-11-28T08:25:37.543Z"
   },
   {
    "duration": 10,
    "start_time": "2024-11-28T08:25:37.568Z"
   },
   {
    "duration": 16,
    "start_time": "2024-11-28T08:25:37.579Z"
   },
   {
    "duration": 21,
    "start_time": "2024-11-28T08:25:37.597Z"
   },
   {
    "duration": 105,
    "start_time": "2024-11-28T08:25:37.619Z"
   },
   {
    "duration": 22,
    "start_time": "2024-11-28T08:25:37.726Z"
   },
   {
    "duration": 7,
    "start_time": "2024-11-28T08:25:37.750Z"
   },
   {
    "duration": 89,
    "start_time": "2024-11-28T08:25:37.759Z"
   },
   {
    "duration": 14,
    "start_time": "2024-11-28T08:25:37.850Z"
   },
   {
    "duration": 67,
    "start_time": "2024-11-28T08:25:37.866Z"
   },
   {
    "duration": 8,
    "start_time": "2024-11-28T08:25:37.935Z"
   },
   {
    "duration": 13,
    "start_time": "2024-11-28T08:25:37.944Z"
   },
   {
    "duration": 128,
    "start_time": "2024-11-28T08:25:37.960Z"
   },
   {
    "duration": 5,
    "start_time": "2024-11-28T08:25:38.090Z"
   },
   {
    "duration": 24,
    "start_time": "2024-11-28T08:25:38.097Z"
   },
   {
    "duration": 413,
    "start_time": "2024-11-28T08:28:44.142Z"
   },
   {
    "duration": 3,
    "start_time": "2024-11-28T08:28:44.557Z"
   },
   {
    "duration": 167,
    "start_time": "2024-11-28T08:28:44.561Z"
   },
   {
    "duration": 25,
    "start_time": "2024-11-28T08:28:44.731Z"
   },
   {
    "duration": 28,
    "start_time": "2024-11-28T08:28:44.758Z"
   },
   {
    "duration": 5,
    "start_time": "2024-11-28T08:28:44.788Z"
   },
   {
    "duration": 17,
    "start_time": "2024-11-28T08:28:44.794Z"
   },
   {
    "duration": 21,
    "start_time": "2024-11-28T08:28:44.812Z"
   },
   {
    "duration": 22,
    "start_time": "2024-11-28T08:28:44.834Z"
   },
   {
    "duration": 18,
    "start_time": "2024-11-28T08:28:44.859Z"
   },
   {
    "duration": 14,
    "start_time": "2024-11-28T08:28:44.879Z"
   },
   {
    "duration": 21,
    "start_time": "2024-11-28T08:28:44.894Z"
   },
   {
    "duration": 13,
    "start_time": "2024-11-28T08:28:44.946Z"
   },
   {
    "duration": 102,
    "start_time": "2024-11-28T08:28:44.961Z"
   },
   {
    "duration": 43,
    "start_time": "2024-11-28T08:28:45.065Z"
   },
   {
    "duration": 33,
    "start_time": "2024-11-28T08:28:45.109Z"
   },
   {
    "duration": 35,
    "start_time": "2024-11-28T08:28:45.143Z"
   },
   {
    "duration": 37,
    "start_time": "2024-11-28T08:28:45.180Z"
   },
   {
    "duration": 69,
    "start_time": "2024-11-28T08:28:45.218Z"
   },
   {
    "duration": 35,
    "start_time": "2024-11-28T08:28:45.288Z"
   },
   {
    "duration": 62,
    "start_time": "2024-11-28T08:28:45.324Z"
   },
   {
    "duration": 22,
    "start_time": "2024-11-28T08:28:45.388Z"
   },
   {
    "duration": 23,
    "start_time": "2024-11-28T08:28:45.412Z"
   },
   {
    "duration": 3,
    "start_time": "2024-11-28T08:28:45.437Z"
   },
   {
    "duration": 15,
    "start_time": "2024-11-28T08:28:45.443Z"
   },
   {
    "duration": 13,
    "start_time": "2024-11-28T08:28:45.459Z"
   },
   {
    "duration": 25,
    "start_time": "2024-11-28T08:28:45.474Z"
   },
   {
    "duration": 6,
    "start_time": "2024-11-28T08:28:45.503Z"
   },
   {
    "duration": 14,
    "start_time": "2024-11-28T08:28:45.510Z"
   },
   {
    "duration": 43,
    "start_time": "2024-11-28T08:28:45.526Z"
   },
   {
    "duration": 6,
    "start_time": "2024-11-28T08:28:45.571Z"
   },
   {
    "duration": 7,
    "start_time": "2024-11-28T08:28:45.578Z"
   },
   {
    "duration": 11,
    "start_time": "2024-11-28T08:28:45.587Z"
   },
   {
    "duration": 5,
    "start_time": "2024-11-28T08:28:45.599Z"
   },
   {
    "duration": 8,
    "start_time": "2024-11-28T08:28:45.605Z"
   },
   {
    "duration": 28,
    "start_time": "2024-11-28T08:28:45.615Z"
   },
   {
    "duration": 11,
    "start_time": "2024-11-28T08:28:45.645Z"
   },
   {
    "duration": 10,
    "start_time": "2024-11-28T08:28:45.657Z"
   },
   {
    "duration": 73,
    "start_time": "2024-11-28T08:28:45.668Z"
   },
   {
    "duration": 98,
    "start_time": "2024-11-28T08:28:45.743Z"
   },
   {
    "duration": 21,
    "start_time": "2024-11-28T08:28:45.843Z"
   },
   {
    "duration": 9,
    "start_time": "2024-11-28T08:28:45.865Z"
   },
   {
    "duration": 8,
    "start_time": "2024-11-28T08:28:45.876Z"
   },
   {
    "duration": 58,
    "start_time": "2024-11-28T08:28:45.885Z"
   },
   {
    "duration": 6,
    "start_time": "2024-11-28T08:28:45.945Z"
   },
   {
    "duration": 19,
    "start_time": "2024-11-28T08:28:45.952Z"
   },
   {
    "duration": 30,
    "start_time": "2024-11-28T08:28:45.973Z"
   },
   {
    "duration": 93,
    "start_time": "2024-11-28T08:28:46.005Z"
   },
   {
    "duration": 9,
    "start_time": "2024-11-28T08:28:46.100Z"
   },
   {
    "duration": 24,
    "start_time": "2024-11-28T08:28:46.111Z"
   },
   {
    "duration": 5,
    "start_time": "2024-11-28T08:30:58.034Z"
   },
   {
    "duration": 7,
    "start_time": "2024-11-28T08:30:58.659Z"
   },
   {
    "duration": 1311,
    "start_time": "2024-11-28T08:30:59.155Z"
   },
   {
    "duration": 6,
    "start_time": "2024-11-28T08:31:47.729Z"
   },
   {
    "duration": 5,
    "start_time": "2024-11-28T08:31:48.136Z"
   },
   {
    "duration": 1150,
    "start_time": "2024-11-28T08:31:48.640Z"
   },
   {
    "duration": 0,
    "start_time": "2024-11-28T08:31:49.792Z"
   },
   {
    "duration": 370,
    "start_time": "2024-11-28T08:31:54.195Z"
   },
   {
    "duration": 3,
    "start_time": "2024-11-28T08:31:54.567Z"
   },
   {
    "duration": 111,
    "start_time": "2024-11-28T08:31:54.571Z"
   },
   {
    "duration": 22,
    "start_time": "2024-11-28T08:31:54.683Z"
   },
   {
    "duration": 65,
    "start_time": "2024-11-28T08:31:54.707Z"
   },
   {
    "duration": 11,
    "start_time": "2024-11-28T08:31:54.774Z"
   },
   {
    "duration": 26,
    "start_time": "2024-11-28T08:31:54.787Z"
   },
   {
    "duration": 10,
    "start_time": "2024-11-28T08:31:54.814Z"
   },
   {
    "duration": 31,
    "start_time": "2024-11-28T08:31:54.826Z"
   },
   {
    "duration": 23,
    "start_time": "2024-11-28T08:31:54.860Z"
   },
   {
    "duration": 20,
    "start_time": "2024-11-28T08:31:54.884Z"
   },
   {
    "duration": 14,
    "start_time": "2024-11-28T08:31:54.906Z"
   },
   {
    "duration": 24,
    "start_time": "2024-11-28T08:31:54.921Z"
   },
   {
    "duration": 24,
    "start_time": "2024-11-28T08:31:54.947Z"
   },
   {
    "duration": 14,
    "start_time": "2024-11-28T08:31:54.973Z"
   },
   {
    "duration": 68,
    "start_time": "2024-11-28T08:31:54.988Z"
   },
   {
    "duration": 15,
    "start_time": "2024-11-28T08:31:55.058Z"
   },
   {
    "duration": 22,
    "start_time": "2024-11-28T08:31:55.075Z"
   },
   {
    "duration": 21,
    "start_time": "2024-11-28T08:31:55.099Z"
   },
   {
    "duration": 7,
    "start_time": "2024-11-28T08:31:55.122Z"
   },
   {
    "duration": 22,
    "start_time": "2024-11-28T08:31:55.130Z"
   },
   {
    "duration": 22,
    "start_time": "2024-11-28T08:31:55.154Z"
   },
   {
    "duration": 20,
    "start_time": "2024-11-28T08:31:55.178Z"
   },
   {
    "duration": 4,
    "start_time": "2024-11-28T08:31:55.200Z"
   },
   {
    "duration": 13,
    "start_time": "2024-11-28T08:31:55.206Z"
   },
   {
    "duration": 5,
    "start_time": "2024-11-28T08:31:55.242Z"
   },
   {
    "duration": 121,
    "start_time": "2024-11-28T08:31:55.249Z"
   },
   {
    "duration": 5,
    "start_time": "2024-11-28T08:31:55.375Z"
   },
   {
    "duration": 22,
    "start_time": "2024-11-28T08:31:55.382Z"
   },
   {
    "duration": 22,
    "start_time": "2024-11-28T08:31:55.406Z"
   },
   {
    "duration": 7,
    "start_time": "2024-11-28T08:31:55.429Z"
   },
   {
    "duration": 6,
    "start_time": "2024-11-28T08:31:55.438Z"
   },
   {
    "duration": 12,
    "start_time": "2024-11-28T08:31:55.446Z"
   },
   {
    "duration": 14,
    "start_time": "2024-11-28T08:31:55.459Z"
   },
   {
    "duration": 32,
    "start_time": "2024-11-28T08:31:55.475Z"
   },
   {
    "duration": 25,
    "start_time": "2024-11-28T08:31:55.508Z"
   },
   {
    "duration": 17,
    "start_time": "2024-11-28T08:31:55.535Z"
   },
   {
    "duration": 21,
    "start_time": "2024-11-28T08:31:55.554Z"
   },
   {
    "duration": 17,
    "start_time": "2024-11-28T08:31:55.577Z"
   },
   {
    "duration": 35,
    "start_time": "2024-11-28T08:31:55.595Z"
   },
   {
    "duration": 20,
    "start_time": "2024-11-28T08:31:55.631Z"
   },
   {
    "duration": 11,
    "start_time": "2024-11-28T08:31:55.654Z"
   },
   {
    "duration": 6,
    "start_time": "2024-11-28T08:31:55.667Z"
   },
   {
    "duration": 69,
    "start_time": "2024-11-28T08:31:55.675Z"
   },
   {
    "duration": 130,
    "start_time": "2024-11-28T08:31:55.745Z"
   },
   {
    "duration": 10,
    "start_time": "2024-11-28T08:31:55.877Z"
   },
   {
    "duration": 20,
    "start_time": "2024-11-28T08:31:55.889Z"
   },
   {
    "duration": 5,
    "start_time": "2024-11-28T08:31:55.911Z"
   },
   {
    "duration": 17,
    "start_time": "2024-11-28T08:31:55.917Z"
   },
   {
    "duration": 1224,
    "start_time": "2024-11-28T08:31:55.935Z"
   },
   {
    "duration": 0,
    "start_time": "2024-11-28T08:31:57.162Z"
   },
   {
    "duration": 0,
    "start_time": "2024-11-28T08:31:57.163Z"
   },
   {
    "duration": 431,
    "start_time": "2024-11-28T08:32:31.619Z"
   },
   {
    "duration": 2,
    "start_time": "2024-11-28T08:32:32.052Z"
   },
   {
    "duration": 160,
    "start_time": "2024-11-28T08:32:32.055Z"
   },
   {
    "duration": 22,
    "start_time": "2024-11-28T08:32:32.218Z"
   },
   {
    "duration": 26,
    "start_time": "2024-11-28T08:32:32.242Z"
   },
   {
    "duration": 9,
    "start_time": "2024-11-28T08:32:32.270Z"
   },
   {
    "duration": 24,
    "start_time": "2024-11-28T08:32:32.280Z"
   },
   {
    "duration": 6,
    "start_time": "2024-11-28T08:32:32.306Z"
   },
   {
    "duration": 33,
    "start_time": "2024-11-28T08:32:32.314Z"
   },
   {
    "duration": 25,
    "start_time": "2024-11-28T08:32:32.351Z"
   },
   {
    "duration": 24,
    "start_time": "2024-11-28T08:32:32.378Z"
   },
   {
    "duration": 16,
    "start_time": "2024-11-28T08:32:32.403Z"
   },
   {
    "duration": 28,
    "start_time": "2024-11-28T08:32:32.421Z"
   },
   {
    "duration": 30,
    "start_time": "2024-11-28T08:32:32.451Z"
   },
   {
    "duration": 15,
    "start_time": "2024-11-28T08:32:32.483Z"
   },
   {
    "duration": 5,
    "start_time": "2024-11-28T08:32:32.500Z"
   },
   {
    "duration": 14,
    "start_time": "2024-11-28T08:32:32.507Z"
   },
   {
    "duration": 37,
    "start_time": "2024-11-28T08:32:32.522Z"
   },
   {
    "duration": 40,
    "start_time": "2024-11-28T08:32:32.560Z"
   },
   {
    "duration": 6,
    "start_time": "2024-11-28T08:32:32.601Z"
   },
   {
    "duration": 44,
    "start_time": "2024-11-28T08:32:32.608Z"
   },
   {
    "duration": 30,
    "start_time": "2024-11-28T08:32:32.654Z"
   },
   {
    "duration": 124,
    "start_time": "2024-11-28T08:32:32.686Z"
   },
   {
    "duration": 4,
    "start_time": "2024-11-28T08:32:32.812Z"
   },
   {
    "duration": 18,
    "start_time": "2024-11-28T08:32:32.817Z"
   },
   {
    "duration": 19,
    "start_time": "2024-11-28T08:32:32.836Z"
   },
   {
    "duration": 29,
    "start_time": "2024-11-28T08:32:32.856Z"
   },
   {
    "duration": 6,
    "start_time": "2024-11-28T08:32:32.889Z"
   },
   {
    "duration": 19,
    "start_time": "2024-11-28T08:32:32.896Z"
   },
   {
    "duration": 43,
    "start_time": "2024-11-28T08:32:32.916Z"
   },
   {
    "duration": 13,
    "start_time": "2024-11-28T08:32:32.961Z"
   },
   {
    "duration": 83,
    "start_time": "2024-11-28T08:32:32.976Z"
   },
   {
    "duration": 28,
    "start_time": "2024-11-28T08:32:33.061Z"
   },
   {
    "duration": 6,
    "start_time": "2024-11-28T08:32:33.091Z"
   },
   {
    "duration": 16,
    "start_time": "2024-11-28T08:32:33.099Z"
   },
   {
    "duration": 11,
    "start_time": "2024-11-28T08:32:33.117Z"
   },
   {
    "duration": 26,
    "start_time": "2024-11-28T08:32:33.130Z"
   },
   {
    "duration": 19,
    "start_time": "2024-11-28T08:32:33.158Z"
   },
   {
    "duration": 13,
    "start_time": "2024-11-28T08:32:33.178Z"
   },
   {
    "duration": 10,
    "start_time": "2024-11-28T08:32:33.192Z"
   },
   {
    "duration": 6,
    "start_time": "2024-11-28T08:32:33.203Z"
   },
   {
    "duration": 17,
    "start_time": "2024-11-28T08:32:33.211Z"
   },
   {
    "duration": 74,
    "start_time": "2024-11-28T08:32:33.229Z"
   },
   {
    "duration": 69,
    "start_time": "2024-11-28T08:32:33.305Z"
   },
   {
    "duration": 6,
    "start_time": "2024-11-28T08:32:33.377Z"
   },
   {
    "duration": 13,
    "start_time": "2024-11-28T08:32:33.385Z"
   },
   {
    "duration": 20,
    "start_time": "2024-11-28T08:32:33.400Z"
   },
   {
    "duration": 23,
    "start_time": "2024-11-28T08:32:33.421Z"
   },
   {
    "duration": 5,
    "start_time": "2024-11-28T08:32:33.446Z"
   },
   {
    "duration": 89,
    "start_time": "2024-11-28T08:32:33.452Z"
   },
   {
    "duration": 0,
    "start_time": "2024-11-28T08:32:33.543Z"
   },
   {
    "duration": 0,
    "start_time": "2024-11-28T08:32:33.544Z"
   },
   {
    "duration": 384,
    "start_time": "2024-11-28T08:33:12.088Z"
   },
   {
    "duration": 2,
    "start_time": "2024-11-28T08:33:12.474Z"
   },
   {
    "duration": 128,
    "start_time": "2024-11-28T08:33:12.478Z"
   },
   {
    "duration": 22,
    "start_time": "2024-11-28T08:33:12.608Z"
   },
   {
    "duration": 15,
    "start_time": "2024-11-28T08:33:12.632Z"
   },
   {
    "duration": 4,
    "start_time": "2024-11-28T08:33:12.648Z"
   },
   {
    "duration": 19,
    "start_time": "2024-11-28T08:33:12.653Z"
   },
   {
    "duration": 11,
    "start_time": "2024-11-28T08:33:12.673Z"
   },
   {
    "duration": 30,
    "start_time": "2024-11-28T08:33:12.685Z"
   },
   {
    "duration": 14,
    "start_time": "2024-11-28T08:33:12.718Z"
   },
   {
    "duration": 14,
    "start_time": "2024-11-28T08:33:12.733Z"
   },
   {
    "duration": 10,
    "start_time": "2024-11-28T08:33:12.748Z"
   },
   {
    "duration": 11,
    "start_time": "2024-11-28T08:33:12.760Z"
   },
   {
    "duration": 17,
    "start_time": "2024-11-28T08:33:12.772Z"
   },
   {
    "duration": 23,
    "start_time": "2024-11-28T08:33:12.791Z"
   },
   {
    "duration": 30,
    "start_time": "2024-11-28T08:33:12.816Z"
   },
   {
    "duration": 15,
    "start_time": "2024-11-28T08:33:12.847Z"
   },
   {
    "duration": 25,
    "start_time": "2024-11-28T08:33:12.863Z"
   },
   {
    "duration": 30,
    "start_time": "2024-11-28T08:33:12.889Z"
   },
   {
    "duration": 6,
    "start_time": "2024-11-28T08:33:12.920Z"
   },
   {
    "duration": 31,
    "start_time": "2024-11-28T08:33:12.927Z"
   },
   {
    "duration": 21,
    "start_time": "2024-11-28T08:33:12.960Z"
   },
   {
    "duration": 23,
    "start_time": "2024-11-28T08:33:12.983Z"
   },
   {
    "duration": 9,
    "start_time": "2024-11-28T08:33:13.008Z"
   },
   {
    "duration": 10,
    "start_time": "2024-11-28T08:33:13.018Z"
   },
   {
    "duration": 9,
    "start_time": "2024-11-28T08:33:13.042Z"
   },
   {
    "duration": 37,
    "start_time": "2024-11-28T08:33:13.052Z"
   },
   {
    "duration": 38,
    "start_time": "2024-11-28T08:33:13.092Z"
   },
   {
    "duration": 13,
    "start_time": "2024-11-28T08:33:13.132Z"
   },
   {
    "duration": 20,
    "start_time": "2024-11-28T08:33:13.146Z"
   },
   {
    "duration": 4,
    "start_time": "2024-11-28T08:33:13.168Z"
   },
   {
    "duration": 14,
    "start_time": "2024-11-28T08:33:13.173Z"
   },
   {
    "duration": 5,
    "start_time": "2024-11-28T08:33:13.189Z"
   },
   {
    "duration": 9,
    "start_time": "2024-11-28T08:33:13.196Z"
   },
   {
    "duration": 14,
    "start_time": "2024-11-28T08:33:13.206Z"
   },
   {
    "duration": 31,
    "start_time": "2024-11-28T08:33:13.221Z"
   },
   {
    "duration": 78,
    "start_time": "2024-11-28T08:33:13.253Z"
   },
   {
    "duration": 14,
    "start_time": "2024-11-28T08:33:13.332Z"
   },
   {
    "duration": 11,
    "start_time": "2024-11-28T08:33:13.348Z"
   },
   {
    "duration": 6,
    "start_time": "2024-11-28T08:33:13.360Z"
   },
   {
    "duration": 8,
    "start_time": "2024-11-28T08:33:13.367Z"
   },
   {
    "duration": 13,
    "start_time": "2024-11-28T08:33:13.376Z"
   },
   {
    "duration": 8,
    "start_time": "2024-11-28T08:33:13.390Z"
   },
   {
    "duration": 75,
    "start_time": "2024-11-28T08:33:13.400Z"
   },
   {
    "duration": 5,
    "start_time": "2024-11-28T08:33:13.477Z"
   },
   {
    "duration": 38,
    "start_time": "2024-11-28T08:33:13.484Z"
   },
   {
    "duration": 28,
    "start_time": "2024-11-28T08:33:13.523Z"
   },
   {
    "duration": 10,
    "start_time": "2024-11-28T08:33:13.552Z"
   },
   {
    "duration": 41,
    "start_time": "2024-11-28T08:33:13.563Z"
   },
   {
    "duration": 57,
    "start_time": "2024-11-28T08:33:13.606Z"
   },
   {
    "duration": 8,
    "start_time": "2024-11-28T08:39:48.520Z"
   },
   {
    "duration": 5,
    "start_time": "2024-11-28T08:40:00.410Z"
   },
   {
    "duration": 8,
    "start_time": "2024-11-28T08:40:58.619Z"
   },
   {
    "duration": 8,
    "start_time": "2024-11-28T08:40:59.202Z"
   },
   {
    "duration": 10,
    "start_time": "2024-11-28T08:41:43.115Z"
   },
   {
    "duration": 10,
    "start_time": "2024-11-28T08:41:43.539Z"
   },
   {
    "duration": 9,
    "start_time": "2024-11-28T08:42:17.626Z"
   },
   {
    "duration": 7,
    "start_time": "2024-11-28T08:42:28.819Z"
   },
   {
    "duration": 4,
    "start_time": "2024-11-28T08:47:13.011Z"
   },
   {
    "duration": 474,
    "start_time": "2024-11-28T08:47:23.642Z"
   },
   {
    "duration": 3,
    "start_time": "2024-11-28T08:47:24.118Z"
   },
   {
    "duration": 189,
    "start_time": "2024-11-28T08:47:24.122Z"
   },
   {
    "duration": 23,
    "start_time": "2024-11-28T08:47:24.313Z"
   },
   {
    "duration": 30,
    "start_time": "2024-11-28T08:47:24.337Z"
   },
   {
    "duration": 10,
    "start_time": "2024-11-28T08:47:24.368Z"
   },
   {
    "duration": 15,
    "start_time": "2024-11-28T08:47:24.379Z"
   },
   {
    "duration": 20,
    "start_time": "2024-11-28T08:47:24.395Z"
   },
   {
    "duration": 12,
    "start_time": "2024-11-28T08:47:24.417Z"
   },
   {
    "duration": 19,
    "start_time": "2024-11-28T08:47:24.432Z"
   },
   {
    "duration": 15,
    "start_time": "2024-11-28T08:47:24.452Z"
   },
   {
    "duration": 13,
    "start_time": "2024-11-28T08:47:24.469Z"
   },
   {
    "duration": 10,
    "start_time": "2024-11-28T08:47:24.483Z"
   },
   {
    "duration": 11,
    "start_time": "2024-11-28T08:47:24.494Z"
   },
   {
    "duration": 41,
    "start_time": "2024-11-28T08:47:24.506Z"
   },
   {
    "duration": 14,
    "start_time": "2024-11-28T08:47:24.548Z"
   },
   {
    "duration": 10,
    "start_time": "2024-11-28T08:47:24.564Z"
   },
   {
    "duration": 32,
    "start_time": "2024-11-28T08:47:24.576Z"
   },
   {
    "duration": 13,
    "start_time": "2024-11-28T08:47:24.609Z"
   },
   {
    "duration": 22,
    "start_time": "2024-11-28T08:47:24.624Z"
   },
   {
    "duration": 6,
    "start_time": "2024-11-28T08:47:24.648Z"
   },
   {
    "duration": 26,
    "start_time": "2024-11-28T08:47:24.655Z"
   },
   {
    "duration": 22,
    "start_time": "2024-11-28T08:47:24.682Z"
   },
   {
    "duration": 42,
    "start_time": "2024-11-28T08:47:24.705Z"
   },
   {
    "duration": 3,
    "start_time": "2024-11-28T08:47:24.748Z"
   },
   {
    "duration": 95,
    "start_time": "2024-11-28T08:47:24.753Z"
   },
   {
    "duration": 5,
    "start_time": "2024-11-28T08:47:24.850Z"
   },
   {
    "duration": 33,
    "start_time": "2024-11-28T08:47:24.859Z"
   },
   {
    "duration": 19,
    "start_time": "2024-11-28T08:47:24.894Z"
   },
   {
    "duration": 22,
    "start_time": "2024-11-28T08:47:24.915Z"
   },
   {
    "duration": 27,
    "start_time": "2024-11-28T08:47:24.939Z"
   },
   {
    "duration": 17,
    "start_time": "2024-11-28T08:47:24.967Z"
   },
   {
    "duration": 17,
    "start_time": "2024-11-28T08:47:24.985Z"
   },
   {
    "duration": 19,
    "start_time": "2024-11-28T08:47:25.004Z"
   },
   {
    "duration": 59,
    "start_time": "2024-11-28T08:47:25.025Z"
   },
   {
    "duration": 54,
    "start_time": "2024-11-28T08:47:25.086Z"
   },
   {
    "duration": 29,
    "start_time": "2024-11-28T08:47:25.141Z"
   },
   {
    "duration": 53,
    "start_time": "2024-11-28T08:47:25.172Z"
   },
   {
    "duration": 26,
    "start_time": "2024-11-28T08:47:25.227Z"
   },
   {
    "duration": 10,
    "start_time": "2024-11-28T08:47:25.255Z"
   },
   {
    "duration": 5,
    "start_time": "2024-11-28T08:47:25.267Z"
   },
   {
    "duration": 9,
    "start_time": "2024-11-28T08:47:25.274Z"
   },
   {
    "duration": 6,
    "start_time": "2024-11-28T08:47:25.285Z"
   },
   {
    "duration": 91,
    "start_time": "2024-11-28T08:47:25.293Z"
   },
   {
    "duration": 81,
    "start_time": "2024-11-28T08:47:25.387Z"
   },
   {
    "duration": 6,
    "start_time": "2024-11-28T08:47:25.470Z"
   },
   {
    "duration": 15,
    "start_time": "2024-11-28T08:47:25.478Z"
   },
   {
    "duration": 33,
    "start_time": "2024-11-28T08:47:25.495Z"
   },
   {
    "duration": 6,
    "start_time": "2024-11-28T08:47:25.530Z"
   },
   {
    "duration": 9,
    "start_time": "2024-11-28T08:47:25.537Z"
   },
   {
    "duration": 27,
    "start_time": "2024-11-28T08:47:25.547Z"
   },
   {
    "duration": 10,
    "start_time": "2024-11-28T08:47:25.576Z"
   },
   {
    "duration": 20,
    "start_time": "2024-11-28T08:47:25.587Z"
   },
   {
    "duration": 425,
    "start_time": "2024-11-28T08:51:18.947Z"
   },
   {
    "duration": 3,
    "start_time": "2024-11-28T08:51:19.374Z"
   },
   {
    "duration": 121,
    "start_time": "2024-11-28T08:51:19.378Z"
   },
   {
    "duration": 21,
    "start_time": "2024-11-28T08:51:19.501Z"
   },
   {
    "duration": 36,
    "start_time": "2024-11-28T08:51:19.524Z"
   },
   {
    "duration": 24,
    "start_time": "2024-11-28T08:51:19.562Z"
   },
   {
    "duration": 17,
    "start_time": "2024-11-28T08:51:19.587Z"
   },
   {
    "duration": 29,
    "start_time": "2024-11-28T08:51:19.605Z"
   },
   {
    "duration": 90,
    "start_time": "2024-11-28T08:51:19.635Z"
   },
   {
    "duration": 0,
    "start_time": "2024-11-28T08:51:19.729Z"
   },
   {
    "duration": 0,
    "start_time": "2024-11-28T08:51:19.730Z"
   },
   {
    "duration": 0,
    "start_time": "2024-11-28T08:51:19.731Z"
   },
   {
    "duration": 0,
    "start_time": "2024-11-28T08:51:19.732Z"
   },
   {
    "duration": 0,
    "start_time": "2024-11-28T08:51:19.733Z"
   },
   {
    "duration": 0,
    "start_time": "2024-11-28T08:51:19.734Z"
   },
   {
    "duration": 0,
    "start_time": "2024-11-28T08:51:19.735Z"
   },
   {
    "duration": 0,
    "start_time": "2024-11-28T08:51:19.736Z"
   },
   {
    "duration": 0,
    "start_time": "2024-11-28T08:51:19.737Z"
   },
   {
    "duration": 0,
    "start_time": "2024-11-28T08:51:19.738Z"
   },
   {
    "duration": 0,
    "start_time": "2024-11-28T08:51:19.739Z"
   },
   {
    "duration": 0,
    "start_time": "2024-11-28T08:51:19.740Z"
   },
   {
    "duration": 0,
    "start_time": "2024-11-28T08:51:19.741Z"
   },
   {
    "duration": 0,
    "start_time": "2024-11-28T08:51:19.742Z"
   },
   {
    "duration": 0,
    "start_time": "2024-11-28T08:51:19.743Z"
   },
   {
    "duration": 0,
    "start_time": "2024-11-28T08:51:19.744Z"
   },
   {
    "duration": 0,
    "start_time": "2024-11-28T08:51:19.744Z"
   },
   {
    "duration": 0,
    "start_time": "2024-11-28T08:51:19.745Z"
   },
   {
    "duration": 0,
    "start_time": "2024-11-28T08:51:19.746Z"
   },
   {
    "duration": 0,
    "start_time": "2024-11-28T08:51:19.747Z"
   },
   {
    "duration": 0,
    "start_time": "2024-11-28T08:51:19.748Z"
   },
   {
    "duration": 0,
    "start_time": "2024-11-28T08:51:19.749Z"
   },
   {
    "duration": 0,
    "start_time": "2024-11-28T08:51:19.750Z"
   },
   {
    "duration": 0,
    "start_time": "2024-11-28T08:51:19.751Z"
   },
   {
    "duration": 0,
    "start_time": "2024-11-28T08:51:19.752Z"
   },
   {
    "duration": 0,
    "start_time": "2024-11-28T08:51:19.752Z"
   },
   {
    "duration": 0,
    "start_time": "2024-11-28T08:51:19.753Z"
   },
   {
    "duration": 0,
    "start_time": "2024-11-28T08:51:19.754Z"
   },
   {
    "duration": 0,
    "start_time": "2024-11-28T08:51:19.755Z"
   },
   {
    "duration": 0,
    "start_time": "2024-11-28T08:51:19.756Z"
   },
   {
    "duration": 0,
    "start_time": "2024-11-28T08:51:19.757Z"
   },
   {
    "duration": 0,
    "start_time": "2024-11-28T08:51:19.758Z"
   },
   {
    "duration": 0,
    "start_time": "2024-11-28T08:51:19.758Z"
   },
   {
    "duration": 0,
    "start_time": "2024-11-28T08:51:19.759Z"
   },
   {
    "duration": 0,
    "start_time": "2024-11-28T08:51:19.760Z"
   },
   {
    "duration": 0,
    "start_time": "2024-11-28T08:51:19.761Z"
   },
   {
    "duration": 0,
    "start_time": "2024-11-28T08:51:19.762Z"
   },
   {
    "duration": 0,
    "start_time": "2024-11-28T08:51:19.763Z"
   },
   {
    "duration": 0,
    "start_time": "2024-11-28T08:51:19.764Z"
   },
   {
    "duration": 0,
    "start_time": "2024-11-28T08:51:19.765Z"
   },
   {
    "duration": 0,
    "start_time": "2024-11-28T08:51:19.766Z"
   },
   {
    "duration": 0,
    "start_time": "2024-11-28T08:51:19.767Z"
   },
   {
    "duration": 0,
    "start_time": "2024-11-28T08:51:19.768Z"
   },
   {
    "duration": 0,
    "start_time": "2024-11-28T08:51:19.769Z"
   },
   {
    "duration": 0,
    "start_time": "2024-11-28T08:51:19.770Z"
   },
   {
    "duration": 5,
    "start_time": "2024-11-28T08:51:51.131Z"
   },
   {
    "duration": 6,
    "start_time": "2024-11-28T08:55:09.981Z"
   },
   {
    "duration": 18,
    "start_time": "2024-11-28T08:55:10.473Z"
   },
   {
    "duration": 14,
    "start_time": "2024-11-28T08:55:10.935Z"
   },
   {
    "duration": 14,
    "start_time": "2024-11-28T08:55:14.465Z"
   },
   {
    "duration": 9,
    "start_time": "2024-11-28T08:57:24.091Z"
   },
   {
    "duration": 3,
    "start_time": "2024-11-28T08:57:31.003Z"
   },
   {
    "duration": 21,
    "start_time": "2024-11-28T08:57:31.011Z"
   },
   {
    "duration": 137,
    "start_time": "2024-11-28T08:57:31.034Z"
   },
   {
    "duration": 15,
    "start_time": "2024-11-28T08:57:31.172Z"
   },
   {
    "duration": 35,
    "start_time": "2024-11-28T08:57:31.189Z"
   },
   {
    "duration": 17,
    "start_time": "2024-11-28T08:57:31.226Z"
   },
   {
    "duration": 12,
    "start_time": "2024-11-28T08:57:31.245Z"
   },
   {
    "duration": 34,
    "start_time": "2024-11-28T08:57:31.258Z"
   },
   {
    "duration": 14,
    "start_time": "2024-11-28T08:57:31.294Z"
   },
   {
    "duration": 16,
    "start_time": "2024-11-28T08:57:31.309Z"
   },
   {
    "duration": 73,
    "start_time": "2024-11-28T08:57:31.326Z"
   },
   {
    "duration": 43,
    "start_time": "2024-11-28T08:57:31.400Z"
   },
   {
    "duration": 33,
    "start_time": "2024-11-28T08:57:31.445Z"
   },
   {
    "duration": 44,
    "start_time": "2024-11-28T08:57:31.480Z"
   },
   {
    "duration": 19,
    "start_time": "2024-11-28T08:57:31.527Z"
   },
   {
    "duration": 16,
    "start_time": "2024-11-28T08:57:31.547Z"
   },
   {
    "duration": 23,
    "start_time": "2024-11-28T08:57:31.565Z"
   },
   {
    "duration": 32,
    "start_time": "2024-11-28T08:57:31.589Z"
   },
   {
    "duration": 18,
    "start_time": "2024-11-28T08:57:31.622Z"
   },
   {
    "duration": 29,
    "start_time": "2024-11-28T08:57:31.641Z"
   },
   {
    "duration": 5,
    "start_time": "2024-11-28T08:57:31.672Z"
   },
   {
    "duration": 37,
    "start_time": "2024-11-28T08:57:31.679Z"
   },
   {
    "duration": 20,
    "start_time": "2024-11-28T08:57:31.718Z"
   },
   {
    "duration": 21,
    "start_time": "2024-11-28T08:57:31.740Z"
   },
   {
    "duration": 2,
    "start_time": "2024-11-28T08:57:31.763Z"
   },
   {
    "duration": 26,
    "start_time": "2024-11-28T08:57:31.767Z"
   },
   {
    "duration": 161,
    "start_time": "2024-11-28T08:57:31.795Z"
   },
   {
    "duration": 28,
    "start_time": "2024-11-28T08:57:31.958Z"
   },
   {
    "duration": 19,
    "start_time": "2024-11-28T08:57:31.988Z"
   },
   {
    "duration": 32,
    "start_time": "2024-11-28T08:57:32.008Z"
   },
   {
    "duration": 21,
    "start_time": "2024-11-28T08:57:32.042Z"
   },
   {
    "duration": 27,
    "start_time": "2024-11-28T08:57:32.064Z"
   },
   {
    "duration": 25,
    "start_time": "2024-11-28T08:57:32.093Z"
   },
   {
    "duration": 91,
    "start_time": "2024-11-28T08:57:32.119Z"
   },
   {
    "duration": 17,
    "start_time": "2024-11-28T08:57:32.211Z"
   },
   {
    "duration": 9,
    "start_time": "2024-11-28T08:57:32.230Z"
   },
   {
    "duration": 8,
    "start_time": "2024-11-28T08:57:32.241Z"
   },
   {
    "duration": 28,
    "start_time": "2024-11-28T08:57:32.251Z"
   },
   {
    "duration": 23,
    "start_time": "2024-11-28T08:57:32.281Z"
   },
   {
    "duration": 87,
    "start_time": "2024-11-28T08:57:32.306Z"
   },
   {
    "duration": 13,
    "start_time": "2024-11-28T08:57:32.395Z"
   },
   {
    "duration": 6,
    "start_time": "2024-11-28T08:57:32.412Z"
   },
   {
    "duration": 22,
    "start_time": "2024-11-28T08:57:32.419Z"
   },
   {
    "duration": 12,
    "start_time": "2024-11-28T08:57:32.443Z"
   },
   {
    "duration": 86,
    "start_time": "2024-11-28T08:57:32.457Z"
   },
   {
    "duration": 6,
    "start_time": "2024-11-28T08:57:32.545Z"
   },
   {
    "duration": 22,
    "start_time": "2024-11-28T08:57:32.552Z"
   },
   {
    "duration": 37,
    "start_time": "2024-11-28T08:57:32.576Z"
   },
   {
    "duration": 6,
    "start_time": "2024-11-28T08:57:32.614Z"
   },
   {
    "duration": 20,
    "start_time": "2024-11-28T08:57:32.622Z"
   },
   {
    "duration": 35,
    "start_time": "2024-11-28T08:57:32.644Z"
   },
   {
    "duration": 12,
    "start_time": "2024-11-28T08:57:32.680Z"
   },
   {
    "duration": 10,
    "start_time": "2024-11-28T08:57:32.694Z"
   },
   {
    "duration": 444,
    "start_time": "2024-11-28T09:04:38.040Z"
   },
   {
    "duration": 2,
    "start_time": "2024-11-28T09:04:38.486Z"
   },
   {
    "duration": 120,
    "start_time": "2024-11-28T09:04:38.489Z"
   },
   {
    "duration": 23,
    "start_time": "2024-11-28T09:04:38.611Z"
   },
   {
    "duration": 16,
    "start_time": "2024-11-28T09:04:38.636Z"
   },
   {
    "duration": 17,
    "start_time": "2024-11-28T09:04:38.654Z"
   },
   {
    "duration": 6,
    "start_time": "2024-11-28T09:04:38.672Z"
   },
   {
    "duration": 13,
    "start_time": "2024-11-28T09:04:38.680Z"
   },
   {
    "duration": 7,
    "start_time": "2024-11-28T09:04:38.695Z"
   },
   {
    "duration": 4,
    "start_time": "2024-11-28T09:04:38.705Z"
   },
   {
    "duration": 41,
    "start_time": "2024-11-28T09:04:38.710Z"
   },
   {
    "duration": 16,
    "start_time": "2024-11-28T09:04:38.753Z"
   },
   {
    "duration": 11,
    "start_time": "2024-11-28T09:04:38.771Z"
   },
   {
    "duration": 16,
    "start_time": "2024-11-28T09:04:38.784Z"
   },
   {
    "duration": 45,
    "start_time": "2024-11-28T09:04:38.802Z"
   },
   {
    "duration": 67,
    "start_time": "2024-11-28T09:04:38.849Z"
   },
   {
    "duration": 18,
    "start_time": "2024-11-28T09:04:38.917Z"
   },
   {
    "duration": 32,
    "start_time": "2024-11-28T09:04:38.937Z"
   },
   {
    "duration": 30,
    "start_time": "2024-11-28T09:04:38.971Z"
   },
   {
    "duration": 32,
    "start_time": "2024-11-28T09:04:39.002Z"
   },
   {
    "duration": 7,
    "start_time": "2024-11-28T09:04:39.035Z"
   },
   {
    "duration": 22,
    "start_time": "2024-11-28T09:04:39.043Z"
   },
   {
    "duration": 24,
    "start_time": "2024-11-28T09:04:39.067Z"
   },
   {
    "duration": 47,
    "start_time": "2024-11-28T09:04:39.097Z"
   },
   {
    "duration": 32,
    "start_time": "2024-11-28T09:04:39.146Z"
   },
   {
    "duration": 9,
    "start_time": "2024-11-28T09:04:39.179Z"
   },
   {
    "duration": 22,
    "start_time": "2024-11-28T09:04:39.190Z"
   },
   {
    "duration": 20,
    "start_time": "2024-11-28T09:04:39.216Z"
   },
   {
    "duration": 14,
    "start_time": "2024-11-28T09:04:39.237Z"
   },
   {
    "duration": 22,
    "start_time": "2024-11-28T09:04:39.252Z"
   },
   {
    "duration": 6,
    "start_time": "2024-11-28T09:04:39.275Z"
   },
   {
    "duration": 11,
    "start_time": "2024-11-28T09:04:39.282Z"
   },
   {
    "duration": 29,
    "start_time": "2024-11-28T09:04:39.294Z"
   },
   {
    "duration": 6,
    "start_time": "2024-11-28T09:04:39.325Z"
   },
   {
    "duration": 8,
    "start_time": "2024-11-28T09:04:39.332Z"
   },
   {
    "duration": 8,
    "start_time": "2024-11-28T09:04:39.342Z"
   },
   {
    "duration": 90,
    "start_time": "2024-11-28T09:04:39.352Z"
   },
   {
    "duration": 12,
    "start_time": "2024-11-28T09:04:39.443Z"
   },
   {
    "duration": 22,
    "start_time": "2024-11-28T09:04:39.456Z"
   },
   {
    "duration": 24,
    "start_time": "2024-11-28T09:04:39.480Z"
   },
   {
    "duration": 9,
    "start_time": "2024-11-28T09:04:39.505Z"
   },
   {
    "duration": 5,
    "start_time": "2024-11-28T09:04:39.516Z"
   },
   {
    "duration": 15,
    "start_time": "2024-11-28T09:04:39.523Z"
   },
   {
    "duration": 67,
    "start_time": "2024-11-28T09:04:39.539Z"
   },
   {
    "duration": 6,
    "start_time": "2024-11-28T09:04:39.608Z"
   },
   {
    "duration": 13,
    "start_time": "2024-11-28T09:04:39.615Z"
   },
   {
    "duration": 35,
    "start_time": "2024-11-28T09:04:39.629Z"
   },
   {
    "duration": 6,
    "start_time": "2024-11-28T09:04:39.665Z"
   },
   {
    "duration": 9,
    "start_time": "2024-11-28T09:04:39.673Z"
   },
   {
    "duration": 30,
    "start_time": "2024-11-28T09:04:39.683Z"
   },
   {
    "duration": 9,
    "start_time": "2024-11-28T09:04:39.715Z"
   },
   {
    "duration": 23,
    "start_time": "2024-11-28T09:04:39.726Z"
   },
   {
    "duration": 12,
    "start_time": "2024-11-28T09:05:06.158Z"
   },
   {
    "duration": 13,
    "start_time": "2024-11-28T09:05:16.876Z"
   },
   {
    "duration": 7,
    "start_time": "2024-11-28T09:09:24.456Z"
   },
   {
    "duration": 27,
    "start_time": "2024-11-28T09:17:18.156Z"
   },
   {
    "duration": 16,
    "start_time": "2024-11-28T09:17:43.197Z"
   },
   {
    "duration": 17,
    "start_time": "2024-11-28T09:17:52.333Z"
   },
   {
    "duration": 88,
    "start_time": "2024-11-28T09:35:49.304Z"
   },
   {
    "duration": 409,
    "start_time": "2024-11-28T09:41:14.071Z"
   },
   {
    "duration": 3,
    "start_time": "2024-11-28T09:41:14.482Z"
   },
   {
    "duration": 140,
    "start_time": "2024-11-28T09:41:14.486Z"
   },
   {
    "duration": 23,
    "start_time": "2024-11-28T09:41:14.628Z"
   },
   {
    "duration": 16,
    "start_time": "2024-11-28T09:41:14.653Z"
   },
   {
    "duration": 12,
    "start_time": "2024-11-28T09:41:14.671Z"
   },
   {
    "duration": 20,
    "start_time": "2024-11-28T09:41:14.685Z"
   },
   {
    "duration": 36,
    "start_time": "2024-11-28T09:41:14.707Z"
   },
   {
    "duration": 12,
    "start_time": "2024-11-28T09:41:14.745Z"
   },
   {
    "duration": 20,
    "start_time": "2024-11-28T09:41:14.760Z"
   },
   {
    "duration": 31,
    "start_time": "2024-11-28T09:41:14.783Z"
   },
   {
    "duration": 40,
    "start_time": "2024-11-28T09:41:14.816Z"
   },
   {
    "duration": 10,
    "start_time": "2024-11-28T09:41:14.858Z"
   },
   {
    "duration": 14,
    "start_time": "2024-11-28T09:41:14.870Z"
   },
   {
    "duration": 67,
    "start_time": "2024-11-28T09:41:14.886Z"
   },
   {
    "duration": 14,
    "start_time": "2024-11-28T09:41:14.954Z"
   },
   {
    "duration": 127,
    "start_time": "2024-11-28T09:41:14.969Z"
   },
   {
    "duration": 254,
    "start_time": "2024-11-28T09:41:15.098Z"
   },
   {
    "duration": 46,
    "start_time": "2024-11-28T09:41:15.354Z"
   },
   {
    "duration": 57,
    "start_time": "2024-11-28T09:41:15.402Z"
   },
   {
    "duration": 33,
    "start_time": "2024-11-28T09:41:15.461Z"
   },
   {
    "duration": 41,
    "start_time": "2024-11-28T09:41:15.496Z"
   },
   {
    "duration": 21,
    "start_time": "2024-11-28T09:41:15.539Z"
   },
   {
    "duration": 39,
    "start_time": "2024-11-28T09:41:15.561Z"
   },
   {
    "duration": 4,
    "start_time": "2024-11-28T09:41:15.602Z"
   },
   {
    "duration": 28,
    "start_time": "2024-11-28T09:41:15.607Z"
   },
   {
    "duration": 37,
    "start_time": "2024-11-28T09:41:15.637Z"
   },
   {
    "duration": 21,
    "start_time": "2024-11-28T09:41:15.678Z"
   },
   {
    "duration": 35,
    "start_time": "2024-11-28T09:41:15.700Z"
   },
   {
    "duration": 20,
    "start_time": "2024-11-28T09:41:15.738Z"
   },
   {
    "duration": 24,
    "start_time": "2024-11-28T09:41:15.760Z"
   },
   {
    "duration": 15,
    "start_time": "2024-11-28T09:41:15.786Z"
   },
   {
    "duration": 23,
    "start_time": "2024-11-28T09:41:15.802Z"
   },
   {
    "duration": 21,
    "start_time": "2024-11-28T09:41:15.827Z"
   },
   {
    "duration": 27,
    "start_time": "2024-11-28T09:41:15.851Z"
   },
   {
    "duration": 21,
    "start_time": "2024-11-28T09:41:15.880Z"
   },
   {
    "duration": 14,
    "start_time": "2024-11-28T09:41:15.903Z"
   },
   {
    "duration": 11,
    "start_time": "2024-11-28T09:41:15.919Z"
   },
   {
    "duration": 23,
    "start_time": "2024-11-28T09:41:15.931Z"
   },
   {
    "duration": 64,
    "start_time": "2024-11-28T09:41:15.956Z"
   },
   {
    "duration": 26,
    "start_time": "2024-11-28T09:41:16.022Z"
   },
   {
    "duration": 8,
    "start_time": "2024-11-28T09:41:16.050Z"
   },
   {
    "duration": 11,
    "start_time": "2024-11-28T09:41:16.060Z"
   },
   {
    "duration": 92,
    "start_time": "2024-11-28T09:41:16.073Z"
   },
   {
    "duration": 60,
    "start_time": "2024-11-28T09:41:16.167Z"
   },
   {
    "duration": 31,
    "start_time": "2024-11-28T09:41:16.228Z"
   },
   {
    "duration": 37,
    "start_time": "2024-11-28T09:41:16.261Z"
   },
   {
    "duration": 14,
    "start_time": "2024-11-28T09:41:16.300Z"
   },
   {
    "duration": 6,
    "start_time": "2024-11-28T09:41:16.316Z"
   },
   {
    "duration": 103,
    "start_time": "2024-11-28T09:41:16.323Z"
   },
   {
    "duration": 20,
    "start_time": "2024-11-28T09:41:16.428Z"
   },
   {
    "duration": 29,
    "start_time": "2024-11-28T09:41:16.450Z"
   },
   {
    "duration": 411,
    "start_time": "2024-11-28T18:43:42.918Z"
   },
   {
    "duration": 2,
    "start_time": "2024-11-28T18:43:43.331Z"
   },
   {
    "duration": 129,
    "start_time": "2024-11-28T18:43:43.335Z"
   },
   {
    "duration": 21,
    "start_time": "2024-11-28T18:43:43.466Z"
   },
   {
    "duration": 21,
    "start_time": "2024-11-28T18:43:43.489Z"
   },
   {
    "duration": 6,
    "start_time": "2024-11-28T18:43:43.512Z"
   },
   {
    "duration": 4,
    "start_time": "2024-11-28T18:43:43.519Z"
   },
   {
    "duration": 12,
    "start_time": "2024-11-28T18:43:43.525Z"
   },
   {
    "duration": 5,
    "start_time": "2024-11-28T18:43:43.539Z"
   },
   {
    "duration": 14,
    "start_time": "2024-11-28T18:43:43.547Z"
   },
   {
    "duration": 19,
    "start_time": "2024-11-28T18:43:43.563Z"
   },
   {
    "duration": 14,
    "start_time": "2024-11-28T18:43:43.583Z"
   },
   {
    "duration": 32,
    "start_time": "2024-11-28T18:43:43.598Z"
   },
   {
    "duration": 12,
    "start_time": "2024-11-28T18:43:43.631Z"
   },
   {
    "duration": 16,
    "start_time": "2024-11-28T18:43:43.645Z"
   },
   {
    "duration": 14,
    "start_time": "2024-11-28T18:43:43.662Z"
   },
   {
    "duration": 43,
    "start_time": "2024-11-28T18:43:43.678Z"
   },
   {
    "duration": 14,
    "start_time": "2024-11-28T18:43:43.722Z"
   },
   {
    "duration": 8,
    "start_time": "2024-11-28T18:43:43.737Z"
   },
   {
    "duration": 23,
    "start_time": "2024-11-28T18:43:43.747Z"
   },
   {
    "duration": 6,
    "start_time": "2024-11-28T18:43:43.771Z"
   },
   {
    "duration": 54,
    "start_time": "2024-11-28T18:43:43.778Z"
   },
   {
    "duration": 20,
    "start_time": "2024-11-28T18:43:43.833Z"
   },
   {
    "duration": 21,
    "start_time": "2024-11-28T18:43:43.854Z"
   },
   {
    "duration": 5,
    "start_time": "2024-11-28T18:43:43.876Z"
   },
   {
    "duration": 9,
    "start_time": "2024-11-28T18:43:43.882Z"
   },
   {
    "duration": 5,
    "start_time": "2024-11-28T18:43:43.892Z"
   },
   {
    "duration": 6,
    "start_time": "2024-11-28T18:43:43.920Z"
   },
   {
    "duration": 13,
    "start_time": "2024-11-28T18:43:43.927Z"
   },
   {
    "duration": 12,
    "start_time": "2024-11-28T18:43:43.941Z"
   },
   {
    "duration": 4,
    "start_time": "2024-11-28T18:43:43.955Z"
   },
   {
    "duration": 4,
    "start_time": "2024-11-28T18:43:43.961Z"
   },
   {
    "duration": 4,
    "start_time": "2024-11-28T18:43:43.966Z"
   },
   {
    "duration": 3,
    "start_time": "2024-11-28T18:43:43.972Z"
   },
   {
    "duration": 46,
    "start_time": "2024-11-28T18:43:43.977Z"
   },
   {
    "duration": 21,
    "start_time": "2024-11-28T18:43:44.025Z"
   },
   {
    "duration": 9,
    "start_time": "2024-11-28T18:43:44.048Z"
   },
   {
    "duration": 9,
    "start_time": "2024-11-28T18:43:44.058Z"
   },
   {
    "duration": 12,
    "start_time": "2024-11-28T18:43:44.069Z"
   },
   {
    "duration": 6,
    "start_time": "2024-11-28T18:43:44.083Z"
   },
   {
    "duration": 10,
    "start_time": "2024-11-28T18:43:44.090Z"
   },
   {
    "duration": 5,
    "start_time": "2024-11-28T18:43:44.101Z"
   },
   {
    "duration": 17,
    "start_time": "2024-11-28T18:43:44.107Z"
   },
   {
    "duration": 52,
    "start_time": "2024-11-28T18:43:44.126Z"
   },
   {
    "duration": 5,
    "start_time": "2024-11-28T18:43:44.179Z"
   },
   {
    "duration": 12,
    "start_time": "2024-11-28T18:43:44.186Z"
   },
   {
    "duration": 32,
    "start_time": "2024-11-28T18:43:44.199Z"
   },
   {
    "duration": 5,
    "start_time": "2024-11-28T18:43:44.232Z"
   },
   {
    "duration": 5,
    "start_time": "2024-11-28T18:43:44.239Z"
   },
   {
    "duration": 15,
    "start_time": "2024-11-28T18:43:44.245Z"
   },
   {
    "duration": 26,
    "start_time": "2024-11-28T18:43:44.261Z"
   },
   {
    "duration": 7,
    "start_time": "2024-11-28T18:43:44.288Z"
   },
   {
    "duration": 365,
    "start_time": "2024-11-28T19:03:41.667Z"
   },
   {
    "duration": 2,
    "start_time": "2024-11-28T19:03:42.034Z"
   },
   {
    "duration": 155,
    "start_time": "2024-11-28T19:03:42.037Z"
   },
   {
    "duration": 21,
    "start_time": "2024-11-28T19:03:42.194Z"
   },
   {
    "duration": 15,
    "start_time": "2024-11-28T19:03:42.216Z"
   },
   {
    "duration": 11,
    "start_time": "2024-11-28T19:03:42.232Z"
   },
   {
    "duration": 10,
    "start_time": "2024-11-28T19:03:42.244Z"
   },
   {
    "duration": 30,
    "start_time": "2024-11-28T19:03:42.255Z"
   },
   {
    "duration": 4,
    "start_time": "2024-11-28T19:03:42.287Z"
   },
   {
    "duration": 4,
    "start_time": "2024-11-28T19:03:42.293Z"
   },
   {
    "duration": 17,
    "start_time": "2024-11-28T19:03:42.298Z"
   },
   {
    "duration": 13,
    "start_time": "2024-11-28T19:03:42.317Z"
   },
   {
    "duration": 8,
    "start_time": "2024-11-28T19:03:42.331Z"
   },
   {
    "duration": 11,
    "start_time": "2024-11-28T19:03:42.341Z"
   },
   {
    "duration": 15,
    "start_time": "2024-11-28T19:03:42.353Z"
   },
   {
    "duration": 34,
    "start_time": "2024-11-28T19:03:42.369Z"
   },
   {
    "duration": 11,
    "start_time": "2024-11-28T19:03:42.404Z"
   },
   {
    "duration": 14,
    "start_time": "2024-11-28T19:03:42.416Z"
   },
   {
    "duration": 41,
    "start_time": "2024-11-28T19:03:42.431Z"
   },
   {
    "duration": 39,
    "start_time": "2024-11-28T19:03:42.474Z"
   },
   {
    "duration": 6,
    "start_time": "2024-11-28T19:03:42.515Z"
   },
   {
    "duration": 19,
    "start_time": "2024-11-28T19:03:42.522Z"
   },
   {
    "duration": 19,
    "start_time": "2024-11-28T19:03:42.543Z"
   },
   {
    "duration": 20,
    "start_time": "2024-11-28T19:03:42.563Z"
   },
   {
    "duration": 4,
    "start_time": "2024-11-28T19:03:42.584Z"
   },
   {
    "duration": 32,
    "start_time": "2024-11-28T19:03:42.589Z"
   },
   {
    "duration": 4,
    "start_time": "2024-11-28T19:03:42.622Z"
   },
   {
    "duration": 56,
    "start_time": "2024-11-28T19:03:42.630Z"
   },
   {
    "duration": 13,
    "start_time": "2024-11-28T19:03:42.687Z"
   },
   {
    "duration": 10,
    "start_time": "2024-11-28T19:03:42.701Z"
   },
   {
    "duration": 16,
    "start_time": "2024-11-28T19:03:42.713Z"
   },
   {
    "duration": 5,
    "start_time": "2024-11-28T19:03:42.730Z"
   },
   {
    "duration": 8,
    "start_time": "2024-11-28T19:03:42.736Z"
   },
   {
    "duration": 11,
    "start_time": "2024-11-28T19:03:42.745Z"
   },
   {
    "duration": 9,
    "start_time": "2024-11-28T19:03:42.757Z"
   },
   {
    "duration": 10,
    "start_time": "2024-11-28T19:03:42.767Z"
   },
   {
    "duration": 8,
    "start_time": "2024-11-28T19:03:42.778Z"
   },
   {
    "duration": 14,
    "start_time": "2024-11-28T19:03:42.787Z"
   },
   {
    "duration": 9,
    "start_time": "2024-11-28T19:03:42.803Z"
   },
   {
    "duration": 8,
    "start_time": "2024-11-28T19:03:42.813Z"
   },
   {
    "duration": 5,
    "start_time": "2024-11-28T19:03:42.822Z"
   },
   {
    "duration": 5,
    "start_time": "2024-11-28T19:03:42.828Z"
   },
   {
    "duration": 8,
    "start_time": "2024-11-28T19:03:42.835Z"
   },
   {
    "duration": 64,
    "start_time": "2024-11-28T19:03:42.845Z"
   },
   {
    "duration": 8,
    "start_time": "2024-11-28T19:03:42.921Z"
   },
   {
    "duration": 65,
    "start_time": "2024-11-28T19:03:42.931Z"
   },
   {
    "duration": 8,
    "start_time": "2024-11-28T19:03:42.997Z"
   },
   {
    "duration": 19,
    "start_time": "2024-11-28T19:03:43.006Z"
   },
   {
    "duration": 5,
    "start_time": "2024-11-28T19:03:43.027Z"
   },
   {
    "duration": 11,
    "start_time": "2024-11-28T19:03:43.033Z"
   },
   {
    "duration": 17,
    "start_time": "2024-11-28T19:03:43.045Z"
   },
   {
    "duration": 7,
    "start_time": "2024-11-28T19:03:43.063Z"
   },
   {
    "duration": 6,
    "start_time": "2024-11-28T19:03:43.072Z"
   },
   {
    "duration": 104,
    "start_time": "2024-11-30T11:51:28.529Z"
   },
   {
    "duration": 1704,
    "start_time": "2024-11-30T11:51:55.299Z"
   },
   {
    "duration": 69,
    "start_time": "2024-11-30T11:58:55.453Z"
   },
   {
    "duration": 79,
    "start_time": "2024-11-30T11:59:10.540Z"
   },
   {
    "duration": 76,
    "start_time": "2024-11-30T12:00:53.868Z"
   },
   {
    "duration": 83,
    "start_time": "2024-11-30T12:01:04.582Z"
   },
   {
    "duration": 78,
    "start_time": "2024-11-30T12:02:04.311Z"
   },
   {
    "duration": 69,
    "start_time": "2024-11-30T12:02:29.769Z"
   },
   {
    "duration": 391,
    "start_time": "2024-11-30T12:04:39.174Z"
   },
   {
    "duration": 4,
    "start_time": "2024-11-30T12:04:39.567Z"
   },
   {
    "duration": 127,
    "start_time": "2024-11-30T12:04:39.572Z"
   },
   {
    "duration": 17,
    "start_time": "2024-11-30T12:04:39.701Z"
   },
   {
    "duration": 12,
    "start_time": "2024-11-30T12:04:39.719Z"
   },
   {
    "duration": 14,
    "start_time": "2024-11-30T12:04:39.732Z"
   },
   {
    "duration": 9,
    "start_time": "2024-11-30T12:04:39.747Z"
   },
   {
    "duration": 11,
    "start_time": "2024-11-30T12:04:39.757Z"
   },
   {
    "duration": 12,
    "start_time": "2024-11-30T12:04:39.770Z"
   },
   {
    "duration": 4,
    "start_time": "2024-11-30T12:04:39.784Z"
   },
   {
    "duration": 11,
    "start_time": "2024-11-30T12:04:39.789Z"
   },
   {
    "duration": 24,
    "start_time": "2024-11-30T12:04:39.801Z"
   },
   {
    "duration": 11,
    "start_time": "2024-11-30T12:04:39.826Z"
   },
   {
    "duration": 10,
    "start_time": "2024-11-30T12:04:39.838Z"
   },
   {
    "duration": 8,
    "start_time": "2024-11-30T12:04:39.849Z"
   },
   {
    "duration": 25,
    "start_time": "2024-11-30T12:04:39.858Z"
   },
   {
    "duration": 11,
    "start_time": "2024-11-30T12:04:39.884Z"
   },
   {
    "duration": 6,
    "start_time": "2024-11-30T12:04:39.896Z"
   },
   {
    "duration": 69,
    "start_time": "2024-11-30T12:04:39.903Z"
   },
   {
    "duration": 0,
    "start_time": "2024-11-30T12:04:39.974Z"
   },
   {
    "duration": 0,
    "start_time": "2024-11-30T12:04:39.975Z"
   },
   {
    "duration": 0,
    "start_time": "2024-11-30T12:04:39.976Z"
   },
   {
    "duration": 0,
    "start_time": "2024-11-30T12:04:39.977Z"
   },
   {
    "duration": 0,
    "start_time": "2024-11-30T12:04:39.978Z"
   },
   {
    "duration": 0,
    "start_time": "2024-11-30T12:04:39.979Z"
   },
   {
    "duration": 0,
    "start_time": "2024-11-30T12:04:39.979Z"
   },
   {
    "duration": 0,
    "start_time": "2024-11-30T12:04:39.980Z"
   },
   {
    "duration": 0,
    "start_time": "2024-11-30T12:04:39.981Z"
   },
   {
    "duration": 0,
    "start_time": "2024-11-30T12:04:39.982Z"
   },
   {
    "duration": 0,
    "start_time": "2024-11-30T12:04:39.982Z"
   },
   {
    "duration": 0,
    "start_time": "2024-11-30T12:04:39.983Z"
   },
   {
    "duration": 0,
    "start_time": "2024-11-30T12:04:39.983Z"
   },
   {
    "duration": 0,
    "start_time": "2024-11-30T12:04:39.984Z"
   },
   {
    "duration": 0,
    "start_time": "2024-11-30T12:04:39.985Z"
   },
   {
    "duration": 0,
    "start_time": "2024-11-30T12:04:39.986Z"
   },
   {
    "duration": 0,
    "start_time": "2024-11-30T12:04:39.987Z"
   },
   {
    "duration": 1,
    "start_time": "2024-11-30T12:04:39.987Z"
   },
   {
    "duration": 0,
    "start_time": "2024-11-30T12:04:39.988Z"
   },
   {
    "duration": 0,
    "start_time": "2024-11-30T12:04:39.989Z"
   },
   {
    "duration": 0,
    "start_time": "2024-11-30T12:04:39.990Z"
   },
   {
    "duration": 0,
    "start_time": "2024-11-30T12:04:39.990Z"
   },
   {
    "duration": 0,
    "start_time": "2024-11-30T12:04:39.991Z"
   },
   {
    "duration": 0,
    "start_time": "2024-11-30T12:04:39.993Z"
   },
   {
    "duration": 0,
    "start_time": "2024-11-30T12:04:39.993Z"
   },
   {
    "duration": 0,
    "start_time": "2024-11-30T12:04:39.994Z"
   },
   {
    "duration": 0,
    "start_time": "2024-11-30T12:04:39.995Z"
   },
   {
    "duration": 0,
    "start_time": "2024-11-30T12:04:39.996Z"
   },
   {
    "duration": 0,
    "start_time": "2024-11-30T12:04:39.997Z"
   },
   {
    "duration": 0,
    "start_time": "2024-11-30T12:04:39.998Z"
   },
   {
    "duration": 0,
    "start_time": "2024-11-30T12:04:39.999Z"
   },
   {
    "duration": 0,
    "start_time": "2024-11-30T12:04:40.000Z"
   },
   {
    "duration": 0,
    "start_time": "2024-11-30T12:04:40.001Z"
   },
   {
    "duration": 0,
    "start_time": "2024-11-30T12:04:40.002Z"
   },
   {
    "duration": 0,
    "start_time": "2024-11-30T12:04:40.002Z"
   },
   {
    "duration": 1,
    "start_time": "2024-11-30T12:04:40.003Z"
   },
   {
    "duration": 0,
    "start_time": "2024-11-30T12:04:40.004Z"
   },
   {
    "duration": 86,
    "start_time": "2024-11-30T12:05:36.844Z"
   },
   {
    "duration": 7,
    "start_time": "2024-11-30T12:07:38.944Z"
   },
   {
    "duration": 19,
    "start_time": "2024-11-30T12:08:47.282Z"
   },
   {
    "duration": 15,
    "start_time": "2024-11-30T12:10:08.170Z"
   },
   {
    "duration": 6,
    "start_time": "2024-11-30T12:14:49.312Z"
   },
   {
    "duration": 13,
    "start_time": "2024-11-30T12:15:03.167Z"
   },
   {
    "duration": 5,
    "start_time": "2024-11-30T12:15:19.435Z"
   },
   {
    "duration": 14,
    "start_time": "2024-11-30T12:15:23.409Z"
   },
   {
    "duration": 7,
    "start_time": "2024-11-30T12:15:54.963Z"
   },
   {
    "duration": 7,
    "start_time": "2024-11-30T12:16:15.184Z"
   },
   {
    "duration": 8,
    "start_time": "2024-11-30T12:16:23.242Z"
   },
   {
    "duration": 6,
    "start_time": "2024-11-30T12:17:28.618Z"
   },
   {
    "duration": 8,
    "start_time": "2024-11-30T12:17:31.617Z"
   },
   {
    "duration": 8,
    "start_time": "2024-11-30T12:17:45.034Z"
   },
   {
    "duration": 424,
    "start_time": "2024-11-30T12:17:55.643Z"
   },
   {
    "duration": 2,
    "start_time": "2024-11-30T12:17:56.071Z"
   },
   {
    "duration": 104,
    "start_time": "2024-11-30T12:17:56.075Z"
   },
   {
    "duration": 18,
    "start_time": "2024-11-30T12:17:56.181Z"
   },
   {
    "duration": 55,
    "start_time": "2024-11-30T12:17:56.200Z"
   },
   {
    "duration": 4,
    "start_time": "2024-11-30T12:17:56.256Z"
   },
   {
    "duration": 13,
    "start_time": "2024-11-30T12:17:56.261Z"
   },
   {
    "duration": 3,
    "start_time": "2024-11-30T12:17:56.276Z"
   },
   {
    "duration": 15,
    "start_time": "2024-11-30T12:17:56.280Z"
   },
   {
    "duration": 5,
    "start_time": "2024-11-30T12:17:56.298Z"
   },
   {
    "duration": 28,
    "start_time": "2024-11-30T12:17:56.304Z"
   },
   {
    "duration": 18,
    "start_time": "2024-11-30T12:17:56.333Z"
   },
   {
    "duration": 12,
    "start_time": "2024-11-30T12:17:56.352Z"
   },
   {
    "duration": 8,
    "start_time": "2024-11-30T12:17:56.365Z"
   },
   {
    "duration": 8,
    "start_time": "2024-11-30T12:17:56.374Z"
   },
   {
    "duration": 13,
    "start_time": "2024-11-30T12:17:56.383Z"
   },
   {
    "duration": 11,
    "start_time": "2024-11-30T12:17:56.397Z"
   },
   {
    "duration": 3,
    "start_time": "2024-11-30T12:17:56.409Z"
   },
   {
    "duration": 12,
    "start_time": "2024-11-30T12:17:56.414Z"
   },
   {
    "duration": 9,
    "start_time": "2024-11-30T12:17:56.427Z"
   },
   {
    "duration": 48,
    "start_time": "2024-11-30T12:17:56.437Z"
   },
   {
    "duration": 7,
    "start_time": "2024-11-30T12:17:56.486Z"
   },
   {
    "duration": 23,
    "start_time": "2024-11-30T12:17:56.494Z"
   },
   {
    "duration": 18,
    "start_time": "2024-11-30T12:17:56.519Z"
   },
   {
    "duration": 48,
    "start_time": "2024-11-30T12:17:56.539Z"
   },
   {
    "duration": 22,
    "start_time": "2024-11-30T12:17:56.588Z"
   },
   {
    "duration": 2,
    "start_time": "2024-11-30T12:17:56.612Z"
   },
   {
    "duration": 4,
    "start_time": "2024-11-30T12:17:56.617Z"
   },
   {
    "duration": 72,
    "start_time": "2024-11-30T12:17:56.622Z"
   },
   {
    "duration": 12,
    "start_time": "2024-11-30T12:17:56.695Z"
   },
   {
    "duration": 10,
    "start_time": "2024-11-30T12:17:56.708Z"
   },
   {
    "duration": 6,
    "start_time": "2024-11-30T12:17:56.720Z"
   },
   {
    "duration": 4,
    "start_time": "2024-11-30T12:17:56.727Z"
   },
   {
    "duration": 6,
    "start_time": "2024-11-30T12:17:56.732Z"
   },
   {
    "duration": 4,
    "start_time": "2024-11-30T12:17:56.739Z"
   },
   {
    "duration": 12,
    "start_time": "2024-11-30T12:17:56.744Z"
   },
   {
    "duration": 14,
    "start_time": "2024-11-30T12:17:56.757Z"
   },
   {
    "duration": 8,
    "start_time": "2024-11-30T12:17:56.773Z"
   },
   {
    "duration": 8,
    "start_time": "2024-11-30T12:17:56.783Z"
   },
   {
    "duration": 9,
    "start_time": "2024-11-30T12:17:56.793Z"
   },
   {
    "duration": 5,
    "start_time": "2024-11-30T12:17:56.803Z"
   },
   {
    "duration": 13,
    "start_time": "2024-11-30T12:17:56.809Z"
   },
   {
    "duration": 5,
    "start_time": "2024-11-30T12:17:56.823Z"
   },
   {
    "duration": 6,
    "start_time": "2024-11-30T12:17:56.829Z"
   },
   {
    "duration": 45,
    "start_time": "2024-11-30T12:17:56.871Z"
   },
   {
    "duration": 5,
    "start_time": "2024-11-30T12:17:56.917Z"
   },
   {
    "duration": 4,
    "start_time": "2024-11-30T12:17:56.923Z"
   },
   {
    "duration": 5,
    "start_time": "2024-11-30T12:17:56.928Z"
   },
   {
    "duration": 40,
    "start_time": "2024-11-30T12:17:56.934Z"
   },
   {
    "duration": 5,
    "start_time": "2024-11-30T12:17:56.975Z"
   },
   {
    "duration": 4,
    "start_time": "2024-11-30T12:17:56.981Z"
   },
   {
    "duration": 12,
    "start_time": "2024-11-30T12:17:56.987Z"
   },
   {
    "duration": 7,
    "start_time": "2024-11-30T12:17:57.000Z"
   },
   {
    "duration": 6,
    "start_time": "2024-11-30T12:17:57.008Z"
   },
   {
    "duration": 9,
    "start_time": "2024-11-30T12:19:00.973Z"
   },
   {
    "duration": 69,
    "start_time": "2024-11-30T12:19:36.923Z"
   },
   {
    "duration": 12,
    "start_time": "2024-11-30T12:19:43.317Z"
   },
   {
    "duration": 12,
    "start_time": "2024-11-30T12:20:18.019Z"
   },
   {
    "duration": 411,
    "start_time": "2024-11-30T12:22:07.452Z"
   },
   {
    "duration": 29,
    "start_time": "2024-11-30T12:23:07.811Z"
   },
   {
    "duration": 13,
    "start_time": "2024-11-30T12:23:39.806Z"
   },
   {
    "duration": 12,
    "start_time": "2024-11-30T12:25:09.018Z"
   },
   {
    "duration": 11,
    "start_time": "2024-11-30T12:26:10.039Z"
   },
   {
    "duration": 11,
    "start_time": "2024-11-30T12:26:21.665Z"
   },
   {
    "duration": 395,
    "start_time": "2024-11-30T12:26:32.260Z"
   },
   {
    "duration": 2,
    "start_time": "2024-11-30T12:26:32.656Z"
   },
   {
    "duration": 154,
    "start_time": "2024-11-30T12:26:32.659Z"
   },
   {
    "duration": 19,
    "start_time": "2024-11-30T12:26:32.814Z"
   },
   {
    "duration": 13,
    "start_time": "2024-11-30T12:26:32.834Z"
   },
   {
    "duration": 4,
    "start_time": "2024-11-30T12:26:32.848Z"
   },
   {
    "duration": 4,
    "start_time": "2024-11-30T12:26:32.853Z"
   },
   {
    "duration": 18,
    "start_time": "2024-11-30T12:26:32.859Z"
   },
   {
    "duration": 14,
    "start_time": "2024-11-30T12:26:32.879Z"
   },
   {
    "duration": 16,
    "start_time": "2024-11-30T12:26:32.895Z"
   },
   {
    "duration": 26,
    "start_time": "2024-11-30T12:26:32.913Z"
   },
   {
    "duration": 22,
    "start_time": "2024-11-30T12:26:32.940Z"
   },
   {
    "duration": 11,
    "start_time": "2024-11-30T12:26:32.963Z"
   },
   {
    "duration": 10,
    "start_time": "2024-11-30T12:26:32.975Z"
   },
   {
    "duration": 8,
    "start_time": "2024-11-30T12:26:32.986Z"
   },
   {
    "duration": 19,
    "start_time": "2024-11-30T12:26:32.995Z"
   },
   {
    "duration": 34,
    "start_time": "2024-11-30T12:26:33.015Z"
   },
   {
    "duration": 4,
    "start_time": "2024-11-30T12:26:33.051Z"
   },
   {
    "duration": 71,
    "start_time": "2024-11-30T12:26:33.057Z"
   },
   {
    "duration": 0,
    "start_time": "2024-11-30T12:26:33.131Z"
   },
   {
    "duration": 0,
    "start_time": "2024-11-30T12:26:33.132Z"
   },
   {
    "duration": 0,
    "start_time": "2024-11-30T12:26:33.133Z"
   },
   {
    "duration": 0,
    "start_time": "2024-11-30T12:26:33.134Z"
   },
   {
    "duration": 0,
    "start_time": "2024-11-30T12:26:33.134Z"
   },
   {
    "duration": 0,
    "start_time": "2024-11-30T12:26:33.135Z"
   },
   {
    "duration": 0,
    "start_time": "2024-11-30T12:26:33.136Z"
   },
   {
    "duration": 0,
    "start_time": "2024-11-30T12:26:33.137Z"
   },
   {
    "duration": 0,
    "start_time": "2024-11-30T12:26:33.138Z"
   },
   {
    "duration": 0,
    "start_time": "2024-11-30T12:26:33.138Z"
   },
   {
    "duration": 0,
    "start_time": "2024-11-30T12:26:33.140Z"
   },
   {
    "duration": 0,
    "start_time": "2024-11-30T12:26:33.140Z"
   },
   {
    "duration": 0,
    "start_time": "2024-11-30T12:26:33.141Z"
   },
   {
    "duration": 0,
    "start_time": "2024-11-30T12:26:33.142Z"
   },
   {
    "duration": 0,
    "start_time": "2024-11-30T12:26:33.143Z"
   },
   {
    "duration": 0,
    "start_time": "2024-11-30T12:26:33.143Z"
   },
   {
    "duration": 0,
    "start_time": "2024-11-30T12:26:33.144Z"
   },
   {
    "duration": 0,
    "start_time": "2024-11-30T12:26:33.145Z"
   },
   {
    "duration": 0,
    "start_time": "2024-11-30T12:26:33.146Z"
   },
   {
    "duration": 0,
    "start_time": "2024-11-30T12:26:33.146Z"
   },
   {
    "duration": 0,
    "start_time": "2024-11-30T12:26:33.147Z"
   },
   {
    "duration": 0,
    "start_time": "2024-11-30T12:26:33.172Z"
   },
   {
    "duration": 0,
    "start_time": "2024-11-30T12:26:33.172Z"
   },
   {
    "duration": 0,
    "start_time": "2024-11-30T12:26:33.173Z"
   },
   {
    "duration": 0,
    "start_time": "2024-11-30T12:26:33.174Z"
   },
   {
    "duration": 0,
    "start_time": "2024-11-30T12:26:33.175Z"
   },
   {
    "duration": 0,
    "start_time": "2024-11-30T12:26:33.175Z"
   },
   {
    "duration": 0,
    "start_time": "2024-11-30T12:26:33.176Z"
   },
   {
    "duration": 0,
    "start_time": "2024-11-30T12:26:33.177Z"
   },
   {
    "duration": 0,
    "start_time": "2024-11-30T12:26:33.178Z"
   },
   {
    "duration": 0,
    "start_time": "2024-11-30T12:26:33.179Z"
   },
   {
    "duration": 0,
    "start_time": "2024-11-30T12:26:33.179Z"
   },
   {
    "duration": 0,
    "start_time": "2024-11-30T12:26:33.180Z"
   },
   {
    "duration": 0,
    "start_time": "2024-11-30T12:26:33.181Z"
   },
   {
    "duration": 0,
    "start_time": "2024-11-30T12:26:33.182Z"
   },
   {
    "duration": 0,
    "start_time": "2024-11-30T12:26:33.183Z"
   },
   {
    "duration": 0,
    "start_time": "2024-11-30T12:26:33.183Z"
   },
   {
    "duration": 4,
    "start_time": "2024-11-30T12:27:41.791Z"
   },
   {
    "duration": 11,
    "start_time": "2024-11-30T12:28:31.463Z"
   },
   {
    "duration": 78,
    "start_time": "2024-11-30T12:30:08.860Z"
   },
   {
    "duration": 8,
    "start_time": "2024-11-30T12:30:11.684Z"
   },
   {
    "duration": 132,
    "start_time": "2024-11-30T12:30:24.120Z"
   },
   {
    "duration": 399,
    "start_time": "2024-11-30T12:30:52.809Z"
   },
   {
    "duration": 494,
    "start_time": "2024-11-30T12:32:33.998Z"
   },
   {
    "duration": 429,
    "start_time": "2024-11-30T12:33:16.072Z"
   },
   {
    "duration": 12,
    "start_time": "2024-11-30T12:36:41.825Z"
   },
   {
    "duration": 10,
    "start_time": "2024-11-30T12:37:12.233Z"
   },
   {
    "duration": 13,
    "start_time": "2024-11-30T12:37:48.937Z"
   },
   {
    "duration": 3,
    "start_time": "2024-11-30T12:42:12.432Z"
   },
   {
    "duration": 4,
    "start_time": "2024-11-30T12:42:23.514Z"
   },
   {
    "duration": 7,
    "start_time": "2024-11-30T12:42:54.139Z"
   },
   {
    "duration": 4,
    "start_time": "2024-11-30T12:43:43.901Z"
   },
   {
    "duration": 3,
    "start_time": "2024-11-30T12:43:45.641Z"
   },
   {
    "duration": 4,
    "start_time": "2024-11-30T12:44:00.433Z"
   },
   {
    "duration": 4,
    "start_time": "2024-11-30T12:44:00.946Z"
   },
   {
    "duration": 7,
    "start_time": "2024-11-30T12:44:27.950Z"
   },
   {
    "duration": 3,
    "start_time": "2024-11-30T12:44:39.038Z"
   },
   {
    "duration": 5,
    "start_time": "2024-11-30T12:44:39.953Z"
   },
   {
    "duration": 14,
    "start_time": "2024-11-30T12:53:05.724Z"
   },
   {
    "duration": 102,
    "start_time": "2024-11-30T12:57:47.314Z"
   },
   {
    "duration": 10,
    "start_time": "2024-11-30T12:59:22.915Z"
   },
   {
    "duration": 10,
    "start_time": "2024-11-30T13:00:07.520Z"
   },
   {
    "duration": 28,
    "start_time": "2024-11-30T13:01:52.177Z"
   },
   {
    "duration": 11,
    "start_time": "2024-11-30T13:02:31.857Z"
   },
   {
    "duration": 1868,
    "start_time": "2024-11-30T13:02:40.932Z"
   },
   {
    "duration": 5,
    "start_time": "2024-11-30T13:02:57.202Z"
   },
   {
    "duration": 118,
    "start_time": "2024-11-30T13:03:50.010Z"
   },
   {
    "duration": 347,
    "start_time": "2024-11-30T13:03:57.024Z"
   },
   {
    "duration": 2,
    "start_time": "2024-11-30T13:03:57.373Z"
   },
   {
    "duration": 113,
    "start_time": "2024-11-30T13:03:57.376Z"
   },
   {
    "duration": 24,
    "start_time": "2024-11-30T13:03:57.492Z"
   },
   {
    "duration": 14,
    "start_time": "2024-11-30T13:03:57.517Z"
   },
   {
    "duration": 4,
    "start_time": "2024-11-30T13:03:57.533Z"
   },
   {
    "duration": 3,
    "start_time": "2024-11-30T13:03:57.538Z"
   },
   {
    "duration": 3,
    "start_time": "2024-11-30T13:03:57.542Z"
   },
   {
    "duration": 34,
    "start_time": "2024-11-30T13:03:57.546Z"
   },
   {
    "duration": 5,
    "start_time": "2024-11-30T13:03:57.583Z"
   },
   {
    "duration": 5,
    "start_time": "2024-11-30T13:03:57.589Z"
   },
   {
    "duration": 19,
    "start_time": "2024-11-30T13:03:57.596Z"
   },
   {
    "duration": 11,
    "start_time": "2024-11-30T13:03:57.617Z"
   },
   {
    "duration": 8,
    "start_time": "2024-11-30T13:03:57.629Z"
   },
   {
    "duration": 41,
    "start_time": "2024-11-30T13:03:57.638Z"
   },
   {
    "duration": 13,
    "start_time": "2024-11-30T13:03:57.680Z"
   },
   {
    "duration": 12,
    "start_time": "2024-11-30T13:03:57.694Z"
   },
   {
    "duration": 9,
    "start_time": "2024-11-30T13:03:57.707Z"
   },
   {
    "duration": 171,
    "start_time": "2024-11-30T13:03:57.717Z"
   },
   {
    "duration": 10,
    "start_time": "2024-11-30T13:03:57.890Z"
   },
   {
    "duration": 11,
    "start_time": "2024-11-30T13:03:57.901Z"
   },
   {
    "duration": 26,
    "start_time": "2024-11-30T13:03:57.914Z"
   },
   {
    "duration": 4,
    "start_time": "2024-11-30T13:03:57.942Z"
   },
   {
    "duration": 25,
    "start_time": "2024-11-30T13:03:57.948Z"
   },
   {
    "duration": 20,
    "start_time": "2024-11-30T13:03:57.974Z"
   },
   {
    "duration": 19,
    "start_time": "2024-11-30T13:03:57.995Z"
   },
   {
    "duration": 3,
    "start_time": "2024-11-30T13:03:58.016Z"
   },
   {
    "duration": 3,
    "start_time": "2024-11-30T13:03:58.023Z"
   },
   {
    "duration": 17,
    "start_time": "2024-11-30T13:03:58.028Z"
   },
   {
    "duration": 6,
    "start_time": "2024-11-30T13:03:58.046Z"
   },
   {
    "duration": 12,
    "start_time": "2024-11-30T13:03:58.071Z"
   },
   {
    "duration": 12,
    "start_time": "2024-11-30T13:03:58.084Z"
   },
   {
    "duration": 5,
    "start_time": "2024-11-30T13:03:58.098Z"
   },
   {
    "duration": 4,
    "start_time": "2024-11-30T13:03:58.107Z"
   },
   {
    "duration": 5,
    "start_time": "2024-11-30T13:03:58.112Z"
   },
   {
    "duration": 4,
    "start_time": "2024-11-30T13:03:58.118Z"
   },
   {
    "duration": 5,
    "start_time": "2024-11-30T13:03:58.123Z"
   },
   {
    "duration": 47,
    "start_time": "2024-11-30T13:03:58.129Z"
   },
   {
    "duration": 8,
    "start_time": "2024-11-30T13:03:58.177Z"
   },
   {
    "duration": 6,
    "start_time": "2024-11-30T13:03:58.187Z"
   },
   {
    "duration": 8,
    "start_time": "2024-11-30T13:03:58.195Z"
   },
   {
    "duration": 4,
    "start_time": "2024-11-30T13:03:58.204Z"
   },
   {
    "duration": 5,
    "start_time": "2024-11-30T13:03:58.210Z"
   },
   {
    "duration": 4,
    "start_time": "2024-11-30T13:03:58.216Z"
   },
   {
    "duration": 5,
    "start_time": "2024-11-30T13:03:58.221Z"
   },
   {
    "duration": 89,
    "start_time": "2024-11-30T13:03:58.227Z"
   },
   {
    "duration": 4,
    "start_time": "2024-11-30T13:03:58.317Z"
   },
   {
    "duration": 4,
    "start_time": "2024-11-30T13:03:58.322Z"
   },
   {
    "duration": 42,
    "start_time": "2024-11-30T13:03:58.327Z"
   },
   {
    "duration": 18,
    "start_time": "2024-11-30T13:03:58.371Z"
   },
   {
    "duration": 5,
    "start_time": "2024-11-30T13:03:58.390Z"
   },
   {
    "duration": 5,
    "start_time": "2024-11-30T13:03:58.396Z"
   },
   {
    "duration": 12,
    "start_time": "2024-11-30T13:03:58.402Z"
   },
   {
    "duration": 7,
    "start_time": "2024-11-30T13:03:58.415Z"
   },
   {
    "duration": 6,
    "start_time": "2024-11-30T13:03:58.424Z"
   },
   {
    "duration": 381,
    "start_time": "2024-11-30T13:14:56.031Z"
   },
   {
    "duration": 3,
    "start_time": "2024-11-30T13:14:56.413Z"
   },
   {
    "duration": 119,
    "start_time": "2024-11-30T13:14:56.417Z"
   },
   {
    "duration": 18,
    "start_time": "2024-11-30T13:14:56.538Z"
   },
   {
    "duration": 13,
    "start_time": "2024-11-30T13:14:56.557Z"
   },
   {
    "duration": 3,
    "start_time": "2024-11-30T13:14:56.571Z"
   },
   {
    "duration": 5,
    "start_time": "2024-11-30T13:14:56.575Z"
   },
   {
    "duration": 5,
    "start_time": "2024-11-30T13:14:56.581Z"
   },
   {
    "duration": 11,
    "start_time": "2024-11-30T13:14:56.587Z"
   },
   {
    "duration": 4,
    "start_time": "2024-11-30T13:14:56.600Z"
   },
   {
    "duration": 5,
    "start_time": "2024-11-30T13:14:56.605Z"
   },
   {
    "duration": 16,
    "start_time": "2024-11-30T13:14:56.611Z"
   },
   {
    "duration": 12,
    "start_time": "2024-11-30T13:14:56.628Z"
   },
   {
    "duration": 35,
    "start_time": "2024-11-30T13:14:56.641Z"
   },
   {
    "duration": 8,
    "start_time": "2024-11-30T13:14:56.678Z"
   },
   {
    "duration": 12,
    "start_time": "2024-11-30T13:14:56.687Z"
   },
   {
    "duration": 11,
    "start_time": "2024-11-30T13:14:56.701Z"
   },
   {
    "duration": 4,
    "start_time": "2024-11-30T13:14:56.713Z"
   },
   {
    "duration": 168,
    "start_time": "2024-11-30T13:14:56.718Z"
   },
   {
    "duration": 11,
    "start_time": "2024-11-30T13:14:56.887Z"
   },
   {
    "duration": 7,
    "start_time": "2024-11-30T13:14:56.899Z"
   },
   {
    "duration": 18,
    "start_time": "2024-11-30T13:14:56.907Z"
   },
   {
    "duration": 4,
    "start_time": "2024-11-30T13:14:56.926Z"
   },
   {
    "duration": 17,
    "start_time": "2024-11-30T13:14:56.931Z"
   },
   {
    "duration": 37,
    "start_time": "2024-11-30T13:14:56.949Z"
   },
   {
    "duration": 17,
    "start_time": "2024-11-30T13:14:56.988Z"
   },
   {
    "duration": 3,
    "start_time": "2024-11-30T13:14:57.006Z"
   },
   {
    "duration": 3,
    "start_time": "2024-11-30T13:14:57.012Z"
   },
   {
    "duration": 4,
    "start_time": "2024-11-30T13:14:57.017Z"
   },
   {
    "duration": 5,
    "start_time": "2024-11-30T13:14:57.022Z"
   },
   {
    "duration": 47,
    "start_time": "2024-11-30T13:14:57.029Z"
   },
   {
    "duration": 10,
    "start_time": "2024-11-30T13:14:57.078Z"
   },
   {
    "duration": 5,
    "start_time": "2024-11-30T13:14:57.089Z"
   },
   {
    "duration": 4,
    "start_time": "2024-11-30T13:14:57.095Z"
   },
   {
    "duration": 5,
    "start_time": "2024-11-30T13:14:57.101Z"
   },
   {
    "duration": 3,
    "start_time": "2024-11-30T13:14:57.107Z"
   },
   {
    "duration": 6,
    "start_time": "2024-11-30T13:14:57.111Z"
   },
   {
    "duration": 7,
    "start_time": "2024-11-30T13:14:57.118Z"
   },
   {
    "duration": 7,
    "start_time": "2024-11-30T13:14:57.126Z"
   },
   {
    "duration": 43,
    "start_time": "2024-11-30T13:14:57.134Z"
   },
   {
    "duration": 19,
    "start_time": "2024-11-30T13:14:57.179Z"
   },
   {
    "duration": 4,
    "start_time": "2024-11-30T13:14:57.200Z"
   },
   {
    "duration": 5,
    "start_time": "2024-11-30T13:14:57.205Z"
   },
   {
    "duration": 4,
    "start_time": "2024-11-30T13:14:57.211Z"
   },
   {
    "duration": 11,
    "start_time": "2024-11-30T13:14:57.216Z"
   },
   {
    "duration": 58,
    "start_time": "2024-11-30T13:14:57.228Z"
   },
   {
    "duration": 86,
    "start_time": "2024-11-30T13:14:57.287Z"
   },
   {
    "duration": 4,
    "start_time": "2024-11-30T13:14:57.374Z"
   },
   {
    "duration": 4,
    "start_time": "2024-11-30T13:14:57.379Z"
   },
   {
    "duration": 5,
    "start_time": "2024-11-30T13:14:57.384Z"
   },
   {
    "duration": 17,
    "start_time": "2024-11-30T13:14:57.391Z"
   },
   {
    "duration": 4,
    "start_time": "2024-11-30T13:14:57.410Z"
   },
   {
    "duration": 5,
    "start_time": "2024-11-30T13:14:57.415Z"
   },
   {
    "duration": 12,
    "start_time": "2024-11-30T13:14:57.421Z"
   },
   {
    "duration": 40,
    "start_time": "2024-11-30T13:14:57.434Z"
   },
   {
    "duration": 7,
    "start_time": "2024-11-30T13:14:57.475Z"
   },
   {
    "duration": 337,
    "start_time": "2024-11-30T13:17:21.221Z"
   },
   {
    "duration": 2,
    "start_time": "2024-11-30T13:17:21.559Z"
   },
   {
    "duration": 98,
    "start_time": "2024-11-30T13:17:21.563Z"
   },
   {
    "duration": 18,
    "start_time": "2024-11-30T13:17:21.662Z"
   },
   {
    "duration": 47,
    "start_time": "2024-11-30T13:17:21.682Z"
   },
   {
    "duration": 3,
    "start_time": "2024-11-30T13:17:21.730Z"
   },
   {
    "duration": 5,
    "start_time": "2024-11-30T13:17:21.734Z"
   },
   {
    "duration": 3,
    "start_time": "2024-11-30T13:17:21.740Z"
   },
   {
    "duration": 15,
    "start_time": "2024-11-30T13:17:21.744Z"
   },
   {
    "duration": 16,
    "start_time": "2024-11-30T13:17:21.760Z"
   },
   {
    "duration": 12,
    "start_time": "2024-11-30T13:17:21.778Z"
   },
   {
    "duration": 27,
    "start_time": "2024-11-30T13:17:21.792Z"
   },
   {
    "duration": 22,
    "start_time": "2024-11-30T13:17:21.821Z"
   },
   {
    "duration": 10,
    "start_time": "2024-11-30T13:17:21.845Z"
   },
   {
    "duration": 8,
    "start_time": "2024-11-30T13:17:21.856Z"
   },
   {
    "duration": 34,
    "start_time": "2024-11-30T13:17:21.865Z"
   },
   {
    "duration": 13,
    "start_time": "2024-11-30T13:17:21.900Z"
   },
   {
    "duration": 25,
    "start_time": "2024-11-30T13:17:21.914Z"
   },
   {
    "duration": 144,
    "start_time": "2024-11-30T13:17:21.940Z"
   },
   {
    "duration": 10,
    "start_time": "2024-11-30T13:17:22.085Z"
   },
   {
    "duration": 51,
    "start_time": "2024-11-30T13:17:22.097Z"
   },
   {
    "duration": 27,
    "start_time": "2024-11-30T13:17:22.150Z"
   },
   {
    "duration": 17,
    "start_time": "2024-11-30T13:17:22.178Z"
   },
   {
    "duration": 24,
    "start_time": "2024-11-30T13:17:22.196Z"
   },
   {
    "duration": 16,
    "start_time": "2024-11-30T13:17:22.221Z"
   },
   {
    "duration": 20,
    "start_time": "2024-11-30T13:17:22.239Z"
   },
   {
    "duration": 7,
    "start_time": "2024-11-30T13:17:22.260Z"
   },
   {
    "duration": 7,
    "start_time": "2024-11-30T13:17:22.269Z"
   },
   {
    "duration": 19,
    "start_time": "2024-11-30T13:17:22.277Z"
   },
   {
    "duration": 6,
    "start_time": "2024-11-30T13:17:22.297Z"
   },
   {
    "duration": 10,
    "start_time": "2024-11-30T13:17:22.304Z"
   },
   {
    "duration": 15,
    "start_time": "2024-11-30T13:17:22.316Z"
   },
   {
    "duration": 17,
    "start_time": "2024-11-30T13:17:22.332Z"
   },
   {
    "duration": 50,
    "start_time": "2024-11-30T13:17:22.350Z"
   },
   {
    "duration": 55,
    "start_time": "2024-11-30T13:17:22.401Z"
   },
   {
    "duration": 8,
    "start_time": "2024-11-30T13:17:22.457Z"
   },
   {
    "duration": 6,
    "start_time": "2024-11-30T13:17:22.466Z"
   },
   {
    "duration": 9,
    "start_time": "2024-11-30T13:17:22.473Z"
   },
   {
    "duration": 8,
    "start_time": "2024-11-30T13:17:22.483Z"
   },
   {
    "duration": 9,
    "start_time": "2024-11-30T13:17:22.492Z"
   },
   {
    "duration": 16,
    "start_time": "2024-11-30T13:17:22.504Z"
   },
   {
    "duration": 13,
    "start_time": "2024-11-30T13:17:22.521Z"
   },
   {
    "duration": 13,
    "start_time": "2024-11-30T13:17:22.535Z"
   },
   {
    "duration": 4,
    "start_time": "2024-11-30T13:17:22.549Z"
   },
   {
    "duration": 7,
    "start_time": "2024-11-30T13:17:22.554Z"
   },
   {
    "duration": 53,
    "start_time": "2024-11-30T13:17:22.562Z"
   },
   {
    "duration": 84,
    "start_time": "2024-11-30T13:17:22.616Z"
   },
   {
    "duration": 4,
    "start_time": "2024-11-30T13:17:22.702Z"
   },
   {
    "duration": 4,
    "start_time": "2024-11-30T13:17:22.708Z"
   },
   {
    "duration": 16,
    "start_time": "2024-11-30T13:17:22.713Z"
   },
   {
    "duration": 17,
    "start_time": "2024-11-30T13:17:22.730Z"
   },
   {
    "duration": 76,
    "start_time": "2024-11-30T13:17:22.748Z"
   },
   {
    "duration": 8,
    "start_time": "2024-11-30T13:17:22.825Z"
   },
   {
    "duration": 16,
    "start_time": "2024-11-30T13:17:22.834Z"
   },
   {
    "duration": 85,
    "start_time": "2024-11-30T13:17:22.851Z"
   },
   {
    "duration": 16,
    "start_time": "2024-11-30T13:17:22.937Z"
   },
   {
    "duration": 80,
    "start_time": "2024-11-30T13:17:54.061Z"
   },
   {
    "duration": 90,
    "start_time": "2024-11-30T13:18:53.981Z"
   },
   {
    "duration": 386,
    "start_time": "2024-11-30T13:26:47.131Z"
   },
   {
    "duration": 3,
    "start_time": "2024-11-30T13:26:47.519Z"
   },
   {
    "duration": 99,
    "start_time": "2024-11-30T13:26:47.523Z"
   },
   {
    "duration": 20,
    "start_time": "2024-11-30T13:26:47.623Z"
   },
   {
    "duration": 65,
    "start_time": "2024-11-30T13:26:47.644Z"
   },
   {
    "duration": 4,
    "start_time": "2024-11-30T13:26:47.710Z"
   },
   {
    "duration": 7,
    "start_time": "2024-11-30T13:26:47.716Z"
   },
   {
    "duration": 3,
    "start_time": "2024-11-30T13:26:47.724Z"
   },
   {
    "duration": 15,
    "start_time": "2024-11-30T13:26:47.728Z"
   },
   {
    "duration": 6,
    "start_time": "2024-11-30T13:26:47.744Z"
   },
   {
    "duration": 6,
    "start_time": "2024-11-30T13:26:47.752Z"
   },
   {
    "duration": 17,
    "start_time": "2024-11-30T13:26:47.759Z"
   },
   {
    "duration": 11,
    "start_time": "2024-11-30T13:26:47.777Z"
   },
   {
    "duration": 7,
    "start_time": "2024-11-30T13:26:47.790Z"
   },
   {
    "duration": 8,
    "start_time": "2024-11-30T13:26:47.798Z"
   },
   {
    "duration": 13,
    "start_time": "2024-11-30T13:26:47.807Z"
   },
   {
    "duration": 10,
    "start_time": "2024-11-30T13:26:47.822Z"
   },
   {
    "duration": 2,
    "start_time": "2024-11-30T13:26:47.833Z"
   },
   {
    "duration": 180,
    "start_time": "2024-11-30T13:26:47.837Z"
   },
   {
    "duration": 10,
    "start_time": "2024-11-30T13:26:48.019Z"
   },
   {
    "duration": 6,
    "start_time": "2024-11-30T13:26:48.030Z"
   },
   {
    "duration": 34,
    "start_time": "2024-11-30T13:26:48.038Z"
   },
   {
    "duration": 5,
    "start_time": "2024-11-30T13:26:48.073Z"
   },
   {
    "duration": 19,
    "start_time": "2024-11-30T13:26:48.079Z"
   },
   {
    "duration": 16,
    "start_time": "2024-11-30T13:26:48.099Z"
   },
   {
    "duration": 17,
    "start_time": "2024-11-30T13:26:48.117Z"
   },
   {
    "duration": 2,
    "start_time": "2024-11-30T13:26:48.135Z"
   },
   {
    "duration": 2,
    "start_time": "2024-11-30T13:26:48.139Z"
   },
   {
    "duration": 30,
    "start_time": "2024-11-30T13:26:48.142Z"
   },
   {
    "duration": 9,
    "start_time": "2024-11-30T13:26:48.173Z"
   },
   {
    "duration": 10,
    "start_time": "2024-11-30T13:26:48.184Z"
   },
   {
    "duration": 10,
    "start_time": "2024-11-30T13:26:48.195Z"
   },
   {
    "duration": 7,
    "start_time": "2024-11-30T13:26:48.206Z"
   },
   {
    "duration": 4,
    "start_time": "2024-11-30T13:26:48.214Z"
   },
   {
    "duration": 10,
    "start_time": "2024-11-30T13:26:48.219Z"
   },
   {
    "duration": 10,
    "start_time": "2024-11-30T13:26:48.230Z"
   },
   {
    "duration": 5,
    "start_time": "2024-11-30T13:26:48.241Z"
   },
   {
    "duration": 28,
    "start_time": "2024-11-30T13:26:48.247Z"
   },
   {
    "duration": 15,
    "start_time": "2024-11-30T13:26:48.277Z"
   },
   {
    "duration": 8,
    "start_time": "2024-11-30T13:26:48.293Z"
   },
   {
    "duration": 8,
    "start_time": "2024-11-30T13:26:48.304Z"
   },
   {
    "duration": 5,
    "start_time": "2024-11-30T13:26:48.313Z"
   },
   {
    "duration": 5,
    "start_time": "2024-11-30T13:26:48.319Z"
   },
   {
    "duration": 4,
    "start_time": "2024-11-30T13:26:48.325Z"
   },
   {
    "duration": 6,
    "start_time": "2024-11-30T13:26:48.330Z"
   },
   {
    "duration": 65,
    "start_time": "2024-11-30T13:26:48.337Z"
   },
   {
    "duration": 84,
    "start_time": "2024-11-30T13:26:48.404Z"
   },
   {
    "duration": 5,
    "start_time": "2024-11-30T13:26:48.489Z"
   },
   {
    "duration": 9,
    "start_time": "2024-11-30T13:26:48.495Z"
   },
   {
    "duration": 11,
    "start_time": "2024-11-30T13:26:48.506Z"
   },
   {
    "duration": 17,
    "start_time": "2024-11-30T13:26:48.518Z"
   },
   {
    "duration": 4,
    "start_time": "2024-11-30T13:26:48.536Z"
   },
   {
    "duration": 25,
    "start_time": "2024-11-30T13:26:48.541Z"
   },
   {
    "duration": 12,
    "start_time": "2024-11-30T13:26:48.567Z"
   },
   {
    "duration": 15,
    "start_time": "2024-11-30T13:26:48.580Z"
   },
   {
    "duration": 6,
    "start_time": "2024-11-30T13:26:48.597Z"
   },
   {
    "duration": 853,
    "start_time": "2024-11-30T13:33:55.076Z"
   },
   {
    "duration": 370,
    "start_time": "2024-11-30T13:34:55.117Z"
   },
   {
    "duration": 3,
    "start_time": "2024-11-30T13:34:55.489Z"
   },
   {
    "duration": 100,
    "start_time": "2024-11-30T13:34:55.493Z"
   },
   {
    "duration": 19,
    "start_time": "2024-11-30T13:34:55.595Z"
   },
   {
    "duration": 13,
    "start_time": "2024-11-30T13:34:55.616Z"
   },
   {
    "duration": 4,
    "start_time": "2024-11-30T13:34:55.630Z"
   },
   {
    "duration": 8,
    "start_time": "2024-11-30T13:34:55.635Z"
   },
   {
    "duration": 3,
    "start_time": "2024-11-30T13:34:55.644Z"
   },
   {
    "duration": 49,
    "start_time": "2024-11-30T13:34:55.670Z"
   },
   {
    "duration": 14,
    "start_time": "2024-11-30T13:34:55.721Z"
   },
   {
    "duration": 17,
    "start_time": "2024-11-30T13:34:55.736Z"
   },
   {
    "duration": 19,
    "start_time": "2024-11-30T13:34:55.754Z"
   },
   {
    "duration": 11,
    "start_time": "2024-11-30T13:34:55.774Z"
   },
   {
    "duration": 12,
    "start_time": "2024-11-30T13:34:55.786Z"
   },
   {
    "duration": 10,
    "start_time": "2024-11-30T13:34:55.799Z"
   },
   {
    "duration": 13,
    "start_time": "2024-11-30T13:34:55.810Z"
   },
   {
    "duration": 11,
    "start_time": "2024-11-30T13:34:55.824Z"
   },
   {
    "duration": 16,
    "start_time": "2024-11-30T13:34:55.836Z"
   },
   {
    "duration": 147,
    "start_time": "2024-11-30T13:34:55.854Z"
   },
   {
    "duration": 10,
    "start_time": "2024-11-30T13:34:56.003Z"
   },
   {
    "duration": 12,
    "start_time": "2024-11-30T13:34:56.015Z"
   },
   {
    "duration": 26,
    "start_time": "2024-11-30T13:34:56.028Z"
   },
   {
    "duration": 5,
    "start_time": "2024-11-30T13:34:56.056Z"
   },
   {
    "duration": 23,
    "start_time": "2024-11-30T13:34:56.063Z"
   },
   {
    "duration": 16,
    "start_time": "2024-11-30T13:34:56.087Z"
   },
   {
    "duration": 17,
    "start_time": "2024-11-30T13:34:56.104Z"
   },
   {
    "duration": 2,
    "start_time": "2024-11-30T13:34:56.122Z"
   },
   {
    "duration": 21,
    "start_time": "2024-11-30T13:34:56.128Z"
   },
   {
    "duration": 21,
    "start_time": "2024-11-30T13:34:56.151Z"
   },
   {
    "duration": 18,
    "start_time": "2024-11-30T13:34:56.173Z"
   },
   {
    "duration": 12,
    "start_time": "2024-11-30T13:34:56.192Z"
   },
   {
    "duration": 10,
    "start_time": "2024-11-30T13:34:56.206Z"
   },
   {
    "duration": 28,
    "start_time": "2024-11-30T13:34:56.217Z"
   },
   {
    "duration": 4,
    "start_time": "2024-11-30T13:34:56.247Z"
   },
   {
    "duration": 9,
    "start_time": "2024-11-30T13:34:56.252Z"
   },
   {
    "duration": 31,
    "start_time": "2024-11-30T13:34:56.262Z"
   },
   {
    "duration": 10,
    "start_time": "2024-11-30T13:34:56.294Z"
   },
   {
    "duration": 6,
    "start_time": "2024-11-30T13:34:56.306Z"
   },
   {
    "duration": 21,
    "start_time": "2024-11-30T13:34:56.314Z"
   },
   {
    "duration": 8,
    "start_time": "2024-11-30T13:34:56.336Z"
   },
   {
    "duration": 8,
    "start_time": "2024-11-30T13:34:56.345Z"
   },
   {
    "duration": 18,
    "start_time": "2024-11-30T13:34:56.354Z"
   },
   {
    "duration": 5,
    "start_time": "2024-11-30T13:34:56.374Z"
   },
   {
    "duration": 7,
    "start_time": "2024-11-30T13:34:56.380Z"
   },
   {
    "duration": 7,
    "start_time": "2024-11-30T13:34:56.388Z"
   },
   {
    "duration": 55,
    "start_time": "2024-11-30T13:34:56.396Z"
   },
   {
    "duration": 88,
    "start_time": "2024-11-30T13:34:56.452Z"
   },
   {
    "duration": 4,
    "start_time": "2024-11-30T13:34:56.542Z"
   },
   {
    "duration": 13,
    "start_time": "2024-11-30T13:34:56.548Z"
   },
   {
    "duration": 22,
    "start_time": "2024-11-30T13:34:56.562Z"
   },
   {
    "duration": 27,
    "start_time": "2024-11-30T13:34:56.585Z"
   },
   {
    "duration": 2,
    "start_time": "2024-11-30T13:34:56.613Z"
   },
   {
    "duration": 784,
    "start_time": "2024-11-30T13:34:56.616Z"
   },
   {
    "duration": 0,
    "start_time": "2024-11-30T13:34:57.401Z"
   },
   {
    "duration": 0,
    "start_time": "2024-11-30T13:34:57.402Z"
   },
   {
    "duration": 0,
    "start_time": "2024-11-30T13:34:57.403Z"
   },
   {
    "duration": 0,
    "start_time": "2024-11-30T13:34:57.404Z"
   },
   {
    "duration": 394,
    "start_time": "2024-11-30T13:36:24.759Z"
   },
   {
    "duration": 2,
    "start_time": "2024-11-30T13:36:25.155Z"
   },
   {
    "duration": 101,
    "start_time": "2024-11-30T13:36:25.158Z"
   },
   {
    "duration": 20,
    "start_time": "2024-11-30T13:36:25.262Z"
   },
   {
    "duration": 14,
    "start_time": "2024-11-30T13:36:25.283Z"
   },
   {
    "duration": 4,
    "start_time": "2024-11-30T13:36:25.298Z"
   },
   {
    "duration": 5,
    "start_time": "2024-11-30T13:36:25.304Z"
   },
   {
    "duration": 3,
    "start_time": "2024-11-30T13:36:25.311Z"
   },
   {
    "duration": 12,
    "start_time": "2024-11-30T13:36:25.315Z"
   },
   {
    "duration": 4,
    "start_time": "2024-11-30T13:36:25.330Z"
   },
   {
    "duration": 5,
    "start_time": "2024-11-30T13:36:25.371Z"
   },
   {
    "duration": 16,
    "start_time": "2024-11-30T13:36:25.377Z"
   },
   {
    "duration": 11,
    "start_time": "2024-11-30T13:36:25.395Z"
   },
   {
    "duration": 19,
    "start_time": "2024-11-30T13:36:25.407Z"
   },
   {
    "duration": 21,
    "start_time": "2024-11-30T13:36:25.428Z"
   },
   {
    "duration": 12,
    "start_time": "2024-11-30T13:36:25.449Z"
   },
   {
    "duration": 15,
    "start_time": "2024-11-30T13:36:25.462Z"
   },
   {
    "duration": 3,
    "start_time": "2024-11-30T13:36:25.478Z"
   },
   {
    "duration": 148,
    "start_time": "2024-11-30T13:36:25.482Z"
   },
   {
    "duration": 10,
    "start_time": "2024-11-30T13:36:25.631Z"
   },
   {
    "duration": 8,
    "start_time": "2024-11-30T13:36:25.642Z"
   },
   {
    "duration": 29,
    "start_time": "2024-11-30T13:36:25.651Z"
   },
   {
    "duration": 8,
    "start_time": "2024-11-30T13:36:25.681Z"
   },
   {
    "duration": 27,
    "start_time": "2024-11-30T13:36:25.690Z"
   },
   {
    "duration": 16,
    "start_time": "2024-11-30T13:36:25.718Z"
   },
   {
    "duration": 17,
    "start_time": "2024-11-30T13:36:25.735Z"
   },
   {
    "duration": 3,
    "start_time": "2024-11-30T13:36:25.753Z"
   },
   {
    "duration": 13,
    "start_time": "2024-11-30T13:36:25.758Z"
   },
   {
    "duration": 3,
    "start_time": "2024-11-30T13:36:25.772Z"
   },
   {
    "duration": 5,
    "start_time": "2024-11-30T13:36:25.776Z"
   },
   {
    "duration": 11,
    "start_time": "2024-11-30T13:36:25.782Z"
   },
   {
    "duration": 15,
    "start_time": "2024-11-30T13:36:25.794Z"
   },
   {
    "duration": 5,
    "start_time": "2024-11-30T13:36:25.810Z"
   },
   {
    "duration": 4,
    "start_time": "2024-11-30T13:36:25.817Z"
   },
   {
    "duration": 4,
    "start_time": "2024-11-30T13:36:25.822Z"
   },
   {
    "duration": 3,
    "start_time": "2024-11-30T13:36:25.827Z"
   },
   {
    "duration": 6,
    "start_time": "2024-11-30T13:36:25.832Z"
   },
   {
    "duration": 34,
    "start_time": "2024-11-30T13:36:25.839Z"
   },
   {
    "duration": 7,
    "start_time": "2024-11-30T13:36:25.874Z"
   },
   {
    "duration": 7,
    "start_time": "2024-11-30T13:36:25.882Z"
   },
   {
    "duration": 16,
    "start_time": "2024-11-30T13:36:25.890Z"
   },
   {
    "duration": 12,
    "start_time": "2024-11-30T13:36:25.907Z"
   },
   {
    "duration": 5,
    "start_time": "2024-11-30T13:36:25.920Z"
   },
   {
    "duration": 4,
    "start_time": "2024-11-30T13:36:25.926Z"
   },
   {
    "duration": 15,
    "start_time": "2024-11-30T13:36:25.931Z"
   },
   {
    "duration": 52,
    "start_time": "2024-11-30T13:36:25.947Z"
   },
   {
    "duration": 90,
    "start_time": "2024-11-30T13:36:26.000Z"
   },
   {
    "duration": 5,
    "start_time": "2024-11-30T13:36:26.091Z"
   },
   {
    "duration": 6,
    "start_time": "2024-11-30T13:36:26.098Z"
   },
   {
    "duration": 4,
    "start_time": "2024-11-30T13:36:26.106Z"
   },
   {
    "duration": 18,
    "start_time": "2024-11-30T13:36:26.111Z"
   },
   {
    "duration": 2,
    "start_time": "2024-11-30T13:36:26.130Z"
   },
   {
    "duration": 492,
    "start_time": "2024-11-30T13:36:26.133Z"
   },
   {
    "duration": 0,
    "start_time": "2024-11-30T13:36:26.626Z"
   },
   {
    "duration": 0,
    "start_time": "2024-11-30T13:36:26.627Z"
   },
   {
    "duration": 0,
    "start_time": "2024-11-30T13:36:26.628Z"
   },
   {
    "duration": 0,
    "start_time": "2024-11-30T13:36:26.629Z"
   },
   {
    "duration": 798,
    "start_time": "2024-11-30T13:38:12.542Z"
   },
   {
    "duration": 606,
    "start_time": "2024-11-30T13:39:37.731Z"
   },
   {
    "duration": 423,
    "start_time": "2024-11-30T13:42:26.923Z"
   },
   {
    "duration": 7,
    "start_time": "2024-11-30T13:43:35.010Z"
   },
   {
    "duration": 387,
    "start_time": "2024-11-30T13:43:42.467Z"
   },
   {
    "duration": 2,
    "start_time": "2024-11-30T13:43:42.856Z"
   },
   {
    "duration": 111,
    "start_time": "2024-11-30T13:43:42.860Z"
   },
   {
    "duration": 18,
    "start_time": "2024-11-30T13:43:42.973Z"
   },
   {
    "duration": 31,
    "start_time": "2024-11-30T13:43:42.992Z"
   },
   {
    "duration": 4,
    "start_time": "2024-11-30T13:43:43.024Z"
   },
   {
    "duration": 14,
    "start_time": "2024-11-30T13:43:43.029Z"
   },
   {
    "duration": 3,
    "start_time": "2024-11-30T13:43:43.044Z"
   },
   {
    "duration": 11,
    "start_time": "2024-11-30T13:43:43.049Z"
   },
   {
    "duration": 4,
    "start_time": "2024-11-30T13:43:43.062Z"
   },
   {
    "duration": 5,
    "start_time": "2024-11-30T13:43:43.067Z"
   },
   {
    "duration": 16,
    "start_time": "2024-11-30T13:43:43.073Z"
   },
   {
    "duration": 23,
    "start_time": "2024-11-30T13:43:43.090Z"
   },
   {
    "duration": 8,
    "start_time": "2024-11-30T13:43:43.114Z"
   },
   {
    "duration": 19,
    "start_time": "2024-11-30T13:43:43.123Z"
   },
   {
    "duration": 13,
    "start_time": "2024-11-30T13:43:43.143Z"
   },
   {
    "duration": 15,
    "start_time": "2024-11-30T13:43:43.157Z"
   },
   {
    "duration": 8,
    "start_time": "2024-11-30T13:43:43.173Z"
   },
   {
    "duration": 150,
    "start_time": "2024-11-30T13:43:43.182Z"
   },
   {
    "duration": 11,
    "start_time": "2024-11-30T13:43:43.333Z"
   },
   {
    "duration": 15,
    "start_time": "2024-11-30T13:43:43.345Z"
   },
   {
    "duration": 23,
    "start_time": "2024-11-30T13:43:43.361Z"
   },
   {
    "duration": 7,
    "start_time": "2024-11-30T13:43:43.385Z"
   },
   {
    "duration": 19,
    "start_time": "2024-11-30T13:43:43.393Z"
   },
   {
    "duration": 18,
    "start_time": "2024-11-30T13:43:43.414Z"
   },
   {
    "duration": 52,
    "start_time": "2024-11-30T13:43:43.434Z"
   },
   {
    "duration": 29,
    "start_time": "2024-11-30T13:43:43.488Z"
   },
   {
    "duration": 5,
    "start_time": "2024-11-30T13:43:43.520Z"
   },
   {
    "duration": 8,
    "start_time": "2024-11-30T13:43:43.526Z"
   },
   {
    "duration": 15,
    "start_time": "2024-11-30T13:43:43.535Z"
   },
   {
    "duration": 23,
    "start_time": "2024-11-30T13:43:43.551Z"
   },
   {
    "duration": 11,
    "start_time": "2024-11-30T13:43:43.576Z"
   },
   {
    "duration": 26,
    "start_time": "2024-11-30T13:43:43.588Z"
   },
   {
    "duration": 4,
    "start_time": "2024-11-30T13:43:43.615Z"
   },
   {
    "duration": 17,
    "start_time": "2024-11-30T13:43:43.620Z"
   },
   {
    "duration": 4,
    "start_time": "2024-11-30T13:43:43.639Z"
   },
   {
    "duration": 5,
    "start_time": "2024-11-30T13:43:43.644Z"
   },
   {
    "duration": 7,
    "start_time": "2024-11-30T13:43:43.650Z"
   },
   {
    "duration": 18,
    "start_time": "2024-11-30T13:43:43.659Z"
   },
   {
    "duration": 7,
    "start_time": "2024-11-30T13:43:43.679Z"
   },
   {
    "duration": 9,
    "start_time": "2024-11-30T13:43:43.687Z"
   },
   {
    "duration": 5,
    "start_time": "2024-11-30T13:43:43.697Z"
   },
   {
    "duration": 92,
    "start_time": "2024-11-30T13:43:43.703Z"
   },
   {
    "duration": 5,
    "start_time": "2024-11-30T13:43:43.796Z"
   },
   {
    "duration": 24,
    "start_time": "2024-11-30T13:43:43.802Z"
   },
   {
    "duration": 58,
    "start_time": "2024-11-30T13:43:43.827Z"
   },
   {
    "duration": 106,
    "start_time": "2024-11-30T13:43:43.887Z"
   },
   {
    "duration": 5,
    "start_time": "2024-11-30T13:43:43.995Z"
   },
   {
    "duration": 5,
    "start_time": "2024-11-30T13:43:44.001Z"
   },
   {
    "duration": 6,
    "start_time": "2024-11-30T13:43:44.007Z"
   },
   {
    "duration": 18,
    "start_time": "2024-11-30T13:43:44.014Z"
   },
   {
    "duration": 3,
    "start_time": "2024-11-30T13:43:44.034Z"
   },
   {
    "duration": 18,
    "start_time": "2024-11-30T13:43:44.071Z"
   },
   {
    "duration": 6,
    "start_time": "2024-11-30T13:43:44.090Z"
   },
   {
    "duration": 15,
    "start_time": "2024-11-30T13:43:44.099Z"
   },
   {
    "duration": 17,
    "start_time": "2024-11-30T13:43:44.115Z"
   },
   {
    "duration": 19,
    "start_time": "2024-11-30T13:43:44.134Z"
   },
   {
    "duration": 384,
    "start_time": "2024-11-30T13:43:59.979Z"
   },
   {
    "duration": 2,
    "start_time": "2024-11-30T13:44:00.365Z"
   },
   {
    "duration": 105,
    "start_time": "2024-11-30T13:44:00.370Z"
   },
   {
    "duration": 19,
    "start_time": "2024-11-30T13:44:00.476Z"
   },
   {
    "duration": 39,
    "start_time": "2024-11-30T13:44:00.496Z"
   },
   {
    "duration": 3,
    "start_time": "2024-11-30T13:44:00.537Z"
   },
   {
    "duration": 15,
    "start_time": "2024-11-30T13:44:00.541Z"
   },
   {
    "duration": 3,
    "start_time": "2024-11-30T13:44:00.558Z"
   },
   {
    "duration": 12,
    "start_time": "2024-11-30T13:44:00.562Z"
   },
   {
    "duration": 21,
    "start_time": "2024-11-30T13:44:00.576Z"
   },
   {
    "duration": 9,
    "start_time": "2024-11-30T13:44:00.598Z"
   },
   {
    "duration": 18,
    "start_time": "2024-11-30T13:44:00.609Z"
   },
   {
    "duration": 11,
    "start_time": "2024-11-30T13:44:00.628Z"
   },
   {
    "duration": 19,
    "start_time": "2024-11-30T13:44:00.640Z"
   },
   {
    "duration": 9,
    "start_time": "2024-11-30T13:44:00.660Z"
   },
   {
    "duration": 13,
    "start_time": "2024-11-30T13:44:00.670Z"
   },
   {
    "duration": 11,
    "start_time": "2024-11-30T13:44:00.684Z"
   },
   {
    "duration": 2,
    "start_time": "2024-11-30T13:44:00.696Z"
   },
   {
    "duration": 159,
    "start_time": "2024-11-30T13:44:00.699Z"
   },
   {
    "duration": 13,
    "start_time": "2024-11-30T13:44:00.859Z"
   },
   {
    "duration": 37,
    "start_time": "2024-11-30T13:44:00.874Z"
   },
   {
    "duration": 44,
    "start_time": "2024-11-30T13:44:00.913Z"
   },
   {
    "duration": 77,
    "start_time": "2024-11-30T13:44:00.959Z"
   },
   {
    "duration": 28,
    "start_time": "2024-11-30T13:44:01.038Z"
   },
   {
    "duration": 18,
    "start_time": "2024-11-30T13:44:01.067Z"
   },
   {
    "duration": 18,
    "start_time": "2024-11-30T13:44:01.087Z"
   },
   {
    "duration": 5,
    "start_time": "2024-11-30T13:44:01.107Z"
   },
   {
    "duration": 5,
    "start_time": "2024-11-30T13:44:01.116Z"
   },
   {
    "duration": 25,
    "start_time": "2024-11-30T13:44:01.122Z"
   },
   {
    "duration": 19,
    "start_time": "2024-11-30T13:44:01.148Z"
   },
   {
    "duration": 15,
    "start_time": "2024-11-30T13:44:01.168Z"
   },
   {
    "duration": 11,
    "start_time": "2024-11-30T13:44:01.185Z"
   },
   {
    "duration": 11,
    "start_time": "2024-11-30T13:44:01.197Z"
   },
   {
    "duration": 14,
    "start_time": "2024-11-30T13:44:01.210Z"
   },
   {
    "duration": 32,
    "start_time": "2024-11-30T13:44:01.226Z"
   },
   {
    "duration": 5,
    "start_time": "2024-11-30T13:44:01.260Z"
   },
   {
    "duration": 6,
    "start_time": "2024-11-30T13:44:01.266Z"
   },
   {
    "duration": 8,
    "start_time": "2024-11-30T13:44:01.273Z"
   },
   {
    "duration": 9,
    "start_time": "2024-11-30T13:44:01.282Z"
   },
   {
    "duration": 20,
    "start_time": "2024-11-30T13:44:01.292Z"
   },
   {
    "duration": 9,
    "start_time": "2024-11-30T13:44:01.313Z"
   },
   {
    "duration": 10,
    "start_time": "2024-11-30T13:44:01.324Z"
   },
   {
    "duration": 16,
    "start_time": "2024-11-30T13:44:01.335Z"
   },
   {
    "duration": 5,
    "start_time": "2024-11-30T13:44:01.352Z"
   },
   {
    "duration": 17,
    "start_time": "2024-11-30T13:44:01.358Z"
   },
   {
    "duration": 56,
    "start_time": "2024-11-30T13:44:01.376Z"
   },
   {
    "duration": 96,
    "start_time": "2024-11-30T13:44:01.433Z"
   },
   {
    "duration": 6,
    "start_time": "2024-11-30T13:44:01.530Z"
   },
   {
    "duration": 8,
    "start_time": "2024-11-30T13:44:01.537Z"
   },
   {
    "duration": 12,
    "start_time": "2024-11-30T13:44:01.547Z"
   },
   {
    "duration": 21,
    "start_time": "2024-11-30T13:44:01.560Z"
   },
   {
    "duration": 2,
    "start_time": "2024-11-30T13:44:01.582Z"
   },
   {
    "duration": 8,
    "start_time": "2024-11-30T13:44:01.585Z"
   },
   {
    "duration": 4,
    "start_time": "2024-11-30T13:44:01.595Z"
   },
   {
    "duration": 15,
    "start_time": "2024-11-30T13:44:01.601Z"
   },
   {
    "duration": 35,
    "start_time": "2024-11-30T13:44:01.618Z"
   },
   {
    "duration": 10,
    "start_time": "2024-11-30T13:44:01.654Z"
   },
   {
    "duration": 7,
    "start_time": "2024-11-30T13:44:45.198Z"
   },
   {
    "duration": 6,
    "start_time": "2024-11-30T13:44:46.040Z"
   },
   {
    "duration": 12,
    "start_time": "2024-11-30T13:44:46.390Z"
   },
   {
    "duration": 7,
    "start_time": "2024-11-30T13:44:46.735Z"
   },
   {
    "duration": 6,
    "start_time": "2024-11-30T13:44:46.911Z"
   },
   {
    "duration": 16,
    "start_time": "2024-11-30T13:47:13.396Z"
   },
   {
    "duration": 22,
    "start_time": "2024-11-30T13:48:33.297Z"
   },
   {
    "duration": 14,
    "start_time": "2024-11-30T13:49:06.160Z"
   },
   {
    "duration": 26,
    "start_time": "2024-11-30T13:49:21.122Z"
   },
   {
    "duration": 8,
    "start_time": "2024-11-30T13:49:21.744Z"
   },
   {
    "duration": 7,
    "start_time": "2024-11-30T13:49:22.549Z"
   },
   {
    "duration": 3,
    "start_time": "2024-11-30T13:51:01.428Z"
   },
   {
    "duration": 10,
    "start_time": "2024-11-30T13:51:56.364Z"
   },
   {
    "duration": 4,
    "start_time": "2024-11-30T13:51:57.850Z"
   },
   {
    "duration": 12,
    "start_time": "2024-11-30T13:52:00.144Z"
   },
   {
    "duration": 25,
    "start_time": "2024-11-30T13:52:01.258Z"
   },
   {
    "duration": 9,
    "start_time": "2024-11-30T13:52:03.499Z"
   },
   {
    "duration": 7,
    "start_time": "2024-11-30T13:52:04.608Z"
   },
   {
    "duration": 82,
    "start_time": "2024-11-30T13:54:17.984Z"
   },
   {
    "duration": 8,
    "start_time": "2024-11-30T13:54:44.975Z"
   },
   {
    "duration": 394,
    "start_time": "2024-11-30T13:54:53.356Z"
   },
   {
    "duration": 2,
    "start_time": "2024-11-30T13:54:53.752Z"
   },
   {
    "duration": 176,
    "start_time": "2024-11-30T13:54:53.755Z"
   },
   {
    "duration": 18,
    "start_time": "2024-11-30T13:54:53.933Z"
   },
   {
    "duration": 38,
    "start_time": "2024-11-30T13:54:53.952Z"
   },
   {
    "duration": 7,
    "start_time": "2024-11-30T13:54:53.991Z"
   },
   {
    "duration": 8,
    "start_time": "2024-11-30T13:54:53.999Z"
   },
   {
    "duration": 2,
    "start_time": "2024-11-30T13:54:54.008Z"
   },
   {
    "duration": 17,
    "start_time": "2024-11-30T13:54:54.012Z"
   },
   {
    "duration": 21,
    "start_time": "2024-11-30T13:54:54.032Z"
   },
   {
    "duration": 29,
    "start_time": "2024-11-30T13:54:54.054Z"
   },
   {
    "duration": 32,
    "start_time": "2024-11-30T13:54:54.084Z"
   },
   {
    "duration": 11,
    "start_time": "2024-11-30T13:54:54.118Z"
   },
   {
    "duration": 20,
    "start_time": "2024-11-30T13:54:54.130Z"
   },
   {
    "duration": 41,
    "start_time": "2024-11-30T13:54:54.152Z"
   },
   {
    "duration": 15,
    "start_time": "2024-11-30T13:54:54.194Z"
   },
   {
    "duration": 11,
    "start_time": "2024-11-30T13:54:54.210Z"
   },
   {
    "duration": 7,
    "start_time": "2024-11-30T13:54:54.222Z"
   },
   {
    "duration": 155,
    "start_time": "2024-11-30T13:54:54.231Z"
   },
   {
    "duration": 11,
    "start_time": "2024-11-30T13:54:54.388Z"
   },
   {
    "duration": 8,
    "start_time": "2024-11-30T13:54:54.400Z"
   },
   {
    "duration": 19,
    "start_time": "2024-11-30T13:54:54.410Z"
   },
   {
    "duration": 5,
    "start_time": "2024-11-30T13:54:54.431Z"
   },
   {
    "duration": 53,
    "start_time": "2024-11-30T13:54:54.438Z"
   },
   {
    "duration": 19,
    "start_time": "2024-11-30T13:54:54.493Z"
   },
   {
    "duration": 46,
    "start_time": "2024-11-30T13:54:54.514Z"
   },
   {
    "duration": 4,
    "start_time": "2024-11-30T13:54:54.561Z"
   },
   {
    "duration": 15,
    "start_time": "2024-11-30T13:54:54.569Z"
   },
   {
    "duration": 5,
    "start_time": "2024-11-30T13:54:54.585Z"
   },
   {
    "duration": 5,
    "start_time": "2024-11-30T13:54:54.592Z"
   },
   {
    "duration": 13,
    "start_time": "2024-11-30T13:54:54.598Z"
   },
   {
    "duration": 10,
    "start_time": "2024-11-30T13:54:54.613Z"
   },
   {
    "duration": 7,
    "start_time": "2024-11-30T13:54:54.624Z"
   },
   {
    "duration": 5,
    "start_time": "2024-11-30T13:54:54.632Z"
   },
   {
    "duration": 4,
    "start_time": "2024-11-30T13:54:54.639Z"
   },
   {
    "duration": 5,
    "start_time": "2024-11-30T13:54:54.644Z"
   },
   {
    "duration": 7,
    "start_time": "2024-11-30T13:54:54.650Z"
   },
   {
    "duration": 27,
    "start_time": "2024-11-30T13:54:54.658Z"
   },
   {
    "duration": 8,
    "start_time": "2024-11-30T13:54:54.686Z"
   },
   {
    "duration": 8,
    "start_time": "2024-11-30T13:54:54.695Z"
   },
   {
    "duration": 8,
    "start_time": "2024-11-30T13:54:54.705Z"
   },
   {
    "duration": 8,
    "start_time": "2024-11-30T13:54:54.714Z"
   },
   {
    "duration": 17,
    "start_time": "2024-11-30T13:54:54.723Z"
   },
   {
    "duration": 11,
    "start_time": "2024-11-30T13:54:54.741Z"
   },
   {
    "duration": 31,
    "start_time": "2024-11-30T13:54:54.753Z"
   },
   {
    "duration": 60,
    "start_time": "2024-11-30T13:54:54.785Z"
   },
   {
    "duration": 116,
    "start_time": "2024-11-30T13:54:54.846Z"
   },
   {
    "duration": 5,
    "start_time": "2024-11-30T13:54:54.964Z"
   },
   {
    "duration": 19,
    "start_time": "2024-11-30T13:54:54.970Z"
   },
   {
    "duration": 93,
    "start_time": "2024-11-30T13:54:54.990Z"
   },
   {
    "duration": 17,
    "start_time": "2024-11-30T13:54:55.085Z"
   },
   {
    "duration": 2,
    "start_time": "2024-11-30T13:54:55.104Z"
   },
   {
    "duration": 25,
    "start_time": "2024-11-30T13:54:55.107Z"
   },
   {
    "duration": 4,
    "start_time": "2024-11-30T13:54:55.134Z"
   },
   {
    "duration": 13,
    "start_time": "2024-11-30T13:54:55.139Z"
   },
   {
    "duration": 16,
    "start_time": "2024-11-30T13:54:55.153Z"
   },
   {
    "duration": 20,
    "start_time": "2024-11-30T13:54:55.171Z"
   },
   {
    "duration": 28,
    "start_time": "2024-11-30T13:54:55.192Z"
   },
   {
    "duration": 19,
    "start_time": "2024-11-30T13:54:55.221Z"
   },
   {
    "duration": 8,
    "start_time": "2024-11-30T13:54:55.241Z"
   },
   {
    "duration": 9,
    "start_time": "2024-11-30T13:55:07.728Z"
   },
   {
    "duration": 5,
    "start_time": "2024-11-30T13:55:08.957Z"
   },
   {
    "duration": 12,
    "start_time": "2024-11-30T13:55:10.632Z"
   },
   {
    "duration": 17,
    "start_time": "2024-11-30T13:55:11.310Z"
   },
   {
    "duration": 9,
    "start_time": "2024-11-30T13:55:12.732Z"
   },
   {
    "duration": 8,
    "start_time": "2024-11-30T13:55:14.008Z"
   },
   {
    "duration": 6,
    "start_time": "2024-11-30T13:56:11.893Z"
   },
   {
    "duration": 5,
    "start_time": "2024-11-30T13:56:13.780Z"
   },
   {
    "duration": 12,
    "start_time": "2024-11-30T13:56:14.786Z"
   },
   {
    "duration": 16,
    "start_time": "2024-11-30T13:56:15.444Z"
   },
   {
    "duration": 8,
    "start_time": "2024-11-30T13:56:16.368Z"
   },
   {
    "duration": 7,
    "start_time": "2024-11-30T13:56:17.238Z"
   },
   {
    "duration": 6,
    "start_time": "2024-11-30T13:57:53.062Z"
   },
   {
    "duration": 5,
    "start_time": "2024-11-30T13:57:54.201Z"
   },
   {
    "duration": 12,
    "start_time": "2024-11-30T13:57:54.930Z"
   },
   {
    "duration": 16,
    "start_time": "2024-11-30T13:57:55.323Z"
   },
   {
    "duration": 7,
    "start_time": "2024-11-30T13:57:55.858Z"
   },
   {
    "duration": 11,
    "start_time": "2024-11-30T13:57:56.704Z"
   },
   {
    "duration": 7,
    "start_time": "2024-11-30T13:57:58.480Z"
   },
   {
    "duration": 7,
    "start_time": "2024-11-30T13:58:11.407Z"
   },
   {
    "duration": 5,
    "start_time": "2024-11-30T13:58:12.714Z"
   },
   {
    "duration": 12,
    "start_time": "2024-11-30T13:58:13.240Z"
   },
   {
    "duration": 14,
    "start_time": "2024-11-30T13:58:13.683Z"
   },
   {
    "duration": 8,
    "start_time": "2024-11-30T13:58:13.915Z"
   },
   {
    "duration": 10,
    "start_time": "2024-11-30T13:58:14.136Z"
   },
   {
    "duration": 6,
    "start_time": "2024-11-30T14:00:50.789Z"
   },
   {
    "duration": 5,
    "start_time": "2024-11-30T14:00:51.747Z"
   },
   {
    "duration": 13,
    "start_time": "2024-11-30T14:00:52.453Z"
   },
   {
    "duration": 16,
    "start_time": "2024-11-30T14:00:53.080Z"
   },
   {
    "duration": 8,
    "start_time": "2024-11-30T14:00:54.232Z"
   },
   {
    "duration": 6,
    "start_time": "2024-11-30T14:01:36.833Z"
   },
   {
    "duration": 5,
    "start_time": "2024-11-30T14:01:37.990Z"
   },
   {
    "duration": 12,
    "start_time": "2024-11-30T14:01:38.753Z"
   },
   {
    "duration": 15,
    "start_time": "2024-11-30T14:01:39.598Z"
   },
   {
    "duration": 10,
    "start_time": "2024-11-30T14:01:40.264Z"
   },
   {
    "duration": 6,
    "start_time": "2024-11-30T14:02:05.839Z"
   },
   {
    "duration": 4,
    "start_time": "2024-11-30T14:02:07.113Z"
   },
   {
    "duration": 12,
    "start_time": "2024-11-30T14:02:08.537Z"
   },
   {
    "duration": 15,
    "start_time": "2024-11-30T14:02:09.404Z"
   },
   {
    "duration": 8,
    "start_time": "2024-11-30T14:02:10.537Z"
   },
   {
    "duration": 8,
    "start_time": "2024-11-30T14:02:11.493Z"
   },
   {
    "duration": 7,
    "start_time": "2024-11-30T14:03:11.522Z"
   },
   {
    "duration": 5,
    "start_time": "2024-11-30T14:03:12.736Z"
   },
   {
    "duration": 12,
    "start_time": "2024-11-30T14:03:15.716Z"
   },
   {
    "duration": 15,
    "start_time": "2024-11-30T14:03:16.912Z"
   },
   {
    "duration": 7,
    "start_time": "2024-11-30T14:03:17.844Z"
   },
   {
    "duration": 8,
    "start_time": "2024-11-30T14:03:19.163Z"
   },
   {
    "duration": 6,
    "start_time": "2024-11-30T14:04:26.658Z"
   },
   {
    "duration": 383,
    "start_time": "2024-11-30T14:04:58.571Z"
   },
   {
    "duration": 2,
    "start_time": "2024-11-30T14:04:58.956Z"
   },
   {
    "duration": 110,
    "start_time": "2024-11-30T14:04:58.959Z"
   },
   {
    "duration": 19,
    "start_time": "2024-11-30T14:04:59.070Z"
   },
   {
    "duration": 27,
    "start_time": "2024-11-30T14:04:59.090Z"
   },
   {
    "duration": 3,
    "start_time": "2024-11-30T14:04:59.118Z"
   },
   {
    "duration": 3,
    "start_time": "2024-11-30T14:04:59.123Z"
   },
   {
    "duration": 3,
    "start_time": "2024-11-30T14:04:59.127Z"
   },
   {
    "duration": 11,
    "start_time": "2024-11-30T14:04:59.131Z"
   },
   {
    "duration": 4,
    "start_time": "2024-11-30T14:04:59.145Z"
   },
   {
    "duration": 21,
    "start_time": "2024-11-30T14:04:59.150Z"
   },
   {
    "duration": 15,
    "start_time": "2024-11-30T14:04:59.172Z"
   },
   {
    "duration": 11,
    "start_time": "2024-11-30T14:04:59.188Z"
   },
   {
    "duration": 7,
    "start_time": "2024-11-30T14:04:59.200Z"
   },
   {
    "duration": 13,
    "start_time": "2024-11-30T14:04:59.208Z"
   },
   {
    "duration": 12,
    "start_time": "2024-11-30T14:04:59.222Z"
   },
   {
    "duration": 11,
    "start_time": "2024-11-30T14:04:59.235Z"
   },
   {
    "duration": 2,
    "start_time": "2024-11-30T14:04:59.270Z"
   },
   {
    "duration": 160,
    "start_time": "2024-11-30T14:04:59.273Z"
   },
   {
    "duration": 10,
    "start_time": "2024-11-30T14:04:59.434Z"
   },
   {
    "duration": 6,
    "start_time": "2024-11-30T14:04:59.445Z"
   },
   {
    "duration": 30,
    "start_time": "2024-11-30T14:04:59.452Z"
   },
   {
    "duration": 5,
    "start_time": "2024-11-30T14:04:59.483Z"
   },
   {
    "duration": 17,
    "start_time": "2024-11-30T14:04:59.490Z"
   },
   {
    "duration": 17,
    "start_time": "2024-11-30T14:04:59.509Z"
   },
   {
    "duration": 46,
    "start_time": "2024-11-30T14:04:59.528Z"
   },
   {
    "duration": 6,
    "start_time": "2024-11-30T14:04:59.576Z"
   },
   {
    "duration": 3,
    "start_time": "2024-11-30T14:04:59.586Z"
   },
   {
    "duration": 4,
    "start_time": "2024-11-30T14:04:59.590Z"
   },
   {
    "duration": 4,
    "start_time": "2024-11-30T14:04:59.596Z"
   },
   {
    "duration": 11,
    "start_time": "2024-11-30T14:04:59.602Z"
   },
   {
    "duration": 11,
    "start_time": "2024-11-30T14:04:59.614Z"
   },
   {
    "duration": 6,
    "start_time": "2024-11-30T14:04:59.626Z"
   },
   {
    "duration": 41,
    "start_time": "2024-11-30T14:04:59.633Z"
   },
   {
    "duration": 4,
    "start_time": "2024-11-30T14:04:59.676Z"
   },
   {
    "duration": 4,
    "start_time": "2024-11-30T14:04:59.682Z"
   },
   {
    "duration": 6,
    "start_time": "2024-11-30T14:04:59.687Z"
   },
   {
    "duration": 7,
    "start_time": "2024-11-30T14:04:59.694Z"
   },
   {
    "duration": 10,
    "start_time": "2024-11-30T14:04:59.702Z"
   },
   {
    "duration": 9,
    "start_time": "2024-11-30T14:04:59.713Z"
   },
   {
    "duration": 9,
    "start_time": "2024-11-30T14:04:59.723Z"
   },
   {
    "duration": 4,
    "start_time": "2024-11-30T14:04:59.733Z"
   },
   {
    "duration": 33,
    "start_time": "2024-11-30T14:04:59.739Z"
   },
   {
    "duration": 5,
    "start_time": "2024-11-30T14:04:59.773Z"
   },
   {
    "duration": 42,
    "start_time": "2024-11-30T14:04:59.779Z"
   },
   {
    "duration": 50,
    "start_time": "2024-11-30T14:04:59.822Z"
   },
   {
    "duration": 88,
    "start_time": "2024-11-30T14:04:59.873Z"
   },
   {
    "duration": 5,
    "start_time": "2024-11-30T14:04:59.962Z"
   },
   {
    "duration": 7,
    "start_time": "2024-11-30T14:04:59.968Z"
   },
   {
    "duration": 4,
    "start_time": "2024-11-30T14:04:59.976Z"
   },
   {
    "duration": 35,
    "start_time": "2024-11-30T14:04:59.982Z"
   },
   {
    "duration": 33,
    "start_time": "2024-11-30T14:05:00.018Z"
   },
   {
    "duration": 28,
    "start_time": "2024-11-30T14:05:00.053Z"
   },
   {
    "duration": 19,
    "start_time": "2024-11-30T14:05:00.082Z"
   },
   {
    "duration": 43,
    "start_time": "2024-11-30T14:05:00.102Z"
   },
   {
    "duration": 21,
    "start_time": "2024-11-30T14:05:00.146Z"
   },
   {
    "duration": 17,
    "start_time": "2024-11-30T14:05:00.168Z"
   },
   {
    "duration": 24,
    "start_time": "2024-11-30T14:05:00.186Z"
   },
   {
    "duration": 34,
    "start_time": "2024-11-30T14:05:00.212Z"
   },
   {
    "duration": 39,
    "start_time": "2024-11-30T14:05:00.247Z"
   },
   {
    "duration": 9,
    "start_time": "2024-11-30T14:05:00.288Z"
   },
   {
    "duration": 385,
    "start_time": "2024-11-30T14:07:32.772Z"
   },
   {
    "duration": 2,
    "start_time": "2024-11-30T14:07:33.159Z"
   },
   {
    "duration": 107,
    "start_time": "2024-11-30T14:07:33.163Z"
   },
   {
    "duration": 20,
    "start_time": "2024-11-30T14:07:33.271Z"
   },
   {
    "duration": 20,
    "start_time": "2024-11-30T14:07:33.293Z"
   },
   {
    "duration": 3,
    "start_time": "2024-11-30T14:07:33.314Z"
   },
   {
    "duration": 9,
    "start_time": "2024-11-30T14:07:33.319Z"
   },
   {
    "duration": 22,
    "start_time": "2024-11-30T14:07:33.329Z"
   },
   {
    "duration": 13,
    "start_time": "2024-11-30T14:07:33.352Z"
   },
   {
    "duration": 15,
    "start_time": "2024-11-30T14:07:33.366Z"
   },
   {
    "duration": 7,
    "start_time": "2024-11-30T14:07:33.382Z"
   },
   {
    "duration": 36,
    "start_time": "2024-11-30T14:07:33.390Z"
   },
   {
    "duration": 13,
    "start_time": "2024-11-30T14:07:33.427Z"
   },
   {
    "duration": 11,
    "start_time": "2024-11-30T14:07:33.442Z"
   },
   {
    "duration": 9,
    "start_time": "2024-11-30T14:07:33.455Z"
   },
   {
    "duration": 15,
    "start_time": "2024-11-30T14:07:33.465Z"
   },
   {
    "duration": 35,
    "start_time": "2024-11-30T14:07:33.482Z"
   },
   {
    "duration": 7,
    "start_time": "2024-11-30T14:07:33.518Z"
   },
   {
    "duration": 145,
    "start_time": "2024-11-30T14:07:33.526Z"
   },
   {
    "duration": 10,
    "start_time": "2024-11-30T14:07:33.673Z"
   },
   {
    "duration": 23,
    "start_time": "2024-11-30T14:07:33.684Z"
   },
   {
    "duration": 29,
    "start_time": "2024-11-30T14:07:33.708Z"
   },
   {
    "duration": 7,
    "start_time": "2024-11-30T14:07:33.739Z"
   },
   {
    "duration": 21,
    "start_time": "2024-11-30T14:07:33.747Z"
   },
   {
    "duration": 33,
    "start_time": "2024-11-30T14:07:33.769Z"
   },
   {
    "duration": 37,
    "start_time": "2024-11-30T14:07:33.804Z"
   },
   {
    "duration": 2,
    "start_time": "2024-11-30T14:07:33.843Z"
   },
   {
    "duration": 11,
    "start_time": "2024-11-30T14:07:33.846Z"
   },
   {
    "duration": 25,
    "start_time": "2024-11-30T14:07:33.858Z"
   },
   {
    "duration": 25,
    "start_time": "2024-11-30T14:07:33.884Z"
   },
   {
    "duration": 42,
    "start_time": "2024-11-30T14:07:33.911Z"
   },
   {
    "duration": 11,
    "start_time": "2024-11-30T14:07:33.954Z"
   },
   {
    "duration": 12,
    "start_time": "2024-11-30T14:07:33.966Z"
   },
   {
    "duration": 24,
    "start_time": "2024-11-30T14:07:33.980Z"
   },
   {
    "duration": 16,
    "start_time": "2024-11-30T14:07:34.005Z"
   },
   {
    "duration": 25,
    "start_time": "2024-11-30T14:07:34.023Z"
   },
   {
    "duration": 23,
    "start_time": "2024-11-30T14:07:34.049Z"
   },
   {
    "duration": 17,
    "start_time": "2024-11-30T14:07:34.074Z"
   },
   {
    "duration": 25,
    "start_time": "2024-11-30T14:07:34.092Z"
   },
   {
    "duration": 32,
    "start_time": "2024-11-30T14:07:34.118Z"
   },
   {
    "duration": 30,
    "start_time": "2024-11-30T14:07:34.154Z"
   },
   {
    "duration": 15,
    "start_time": "2024-11-30T14:07:34.186Z"
   },
   {
    "duration": 25,
    "start_time": "2024-11-30T14:07:34.203Z"
   },
   {
    "duration": 16,
    "start_time": "2024-11-30T14:07:34.229Z"
   },
   {
    "duration": 9,
    "start_time": "2024-11-30T14:07:34.246Z"
   },
   {
    "duration": 49,
    "start_time": "2024-11-30T14:07:34.256Z"
   },
   {
    "duration": 98,
    "start_time": "2024-11-30T14:07:34.307Z"
   },
   {
    "duration": 5,
    "start_time": "2024-11-30T14:07:34.407Z"
   },
   {
    "duration": 16,
    "start_time": "2024-11-30T14:07:34.414Z"
   },
   {
    "duration": 17,
    "start_time": "2024-11-30T14:07:34.431Z"
   },
   {
    "duration": 21,
    "start_time": "2024-11-30T14:07:34.449Z"
   },
   {
    "duration": 2,
    "start_time": "2024-11-30T14:07:34.471Z"
   },
   {
    "duration": 8,
    "start_time": "2024-11-30T14:07:34.474Z"
   },
   {
    "duration": 11,
    "start_time": "2024-11-30T14:07:34.483Z"
   },
   {
    "duration": 14,
    "start_time": "2024-11-30T14:07:34.495Z"
   },
   {
    "duration": 18,
    "start_time": "2024-11-30T14:07:34.510Z"
   },
   {
    "duration": 32,
    "start_time": "2024-11-30T14:07:34.529Z"
   },
   {
    "duration": 8,
    "start_time": "2024-11-30T14:07:34.562Z"
   },
   {
    "duration": 8,
    "start_time": "2024-11-30T14:07:34.571Z"
   },
   {
    "duration": 15,
    "start_time": "2024-11-30T14:07:34.581Z"
   },
   {
    "duration": 12,
    "start_time": "2024-11-30T14:07:34.597Z"
   },
   {
    "duration": 388,
    "start_time": "2024-11-30T14:09:20.563Z"
   },
   {
    "duration": 2,
    "start_time": "2024-11-30T14:09:20.952Z"
   },
   {
    "duration": 123,
    "start_time": "2024-11-30T14:09:20.955Z"
   },
   {
    "duration": 18,
    "start_time": "2024-11-30T14:09:21.080Z"
   },
   {
    "duration": 44,
    "start_time": "2024-11-30T14:09:21.099Z"
   },
   {
    "duration": 3,
    "start_time": "2024-11-30T14:09:21.144Z"
   },
   {
    "duration": 12,
    "start_time": "2024-11-30T14:09:21.148Z"
   },
   {
    "duration": 5,
    "start_time": "2024-11-30T14:09:21.161Z"
   },
   {
    "duration": 17,
    "start_time": "2024-11-30T14:09:21.167Z"
   },
   {
    "duration": 22,
    "start_time": "2024-11-30T14:09:21.186Z"
   },
   {
    "duration": 7,
    "start_time": "2024-11-30T14:09:21.209Z"
   },
   {
    "duration": 15,
    "start_time": "2024-11-30T14:09:21.217Z"
   },
   {
    "duration": 13,
    "start_time": "2024-11-30T14:09:21.233Z"
   },
   {
    "duration": 6,
    "start_time": "2024-11-30T14:09:21.247Z"
   },
   {
    "duration": 12,
    "start_time": "2024-11-30T14:09:21.255Z"
   },
   {
    "duration": 15,
    "start_time": "2024-11-30T14:09:21.268Z"
   },
   {
    "duration": 22,
    "start_time": "2024-11-30T14:09:21.284Z"
   },
   {
    "duration": 6,
    "start_time": "2024-11-30T14:09:21.307Z"
   },
   {
    "duration": 145,
    "start_time": "2024-11-30T14:09:21.314Z"
   },
   {
    "duration": 15,
    "start_time": "2024-11-30T14:09:21.460Z"
   },
   {
    "duration": 8,
    "start_time": "2024-11-30T14:09:21.477Z"
   },
   {
    "duration": 24,
    "start_time": "2024-11-30T14:09:21.486Z"
   },
   {
    "duration": 11,
    "start_time": "2024-11-30T14:09:21.511Z"
   },
   {
    "duration": 18,
    "start_time": "2024-11-30T14:09:21.523Z"
   },
   {
    "duration": 17,
    "start_time": "2024-11-30T14:09:21.542Z"
   },
   {
    "duration": 42,
    "start_time": "2024-11-30T14:09:21.571Z"
   },
   {
    "duration": 3,
    "start_time": "2024-11-30T14:09:21.614Z"
   },
   {
    "duration": 15,
    "start_time": "2024-11-30T14:09:21.620Z"
   },
   {
    "duration": 4,
    "start_time": "2024-11-30T14:09:21.636Z"
   },
   {
    "duration": 4,
    "start_time": "2024-11-30T14:09:21.641Z"
   },
   {
    "duration": 12,
    "start_time": "2024-11-30T14:09:21.647Z"
   },
   {
    "duration": 10,
    "start_time": "2024-11-30T14:09:21.661Z"
   },
   {
    "duration": 7,
    "start_time": "2024-11-30T14:09:21.672Z"
   },
   {
    "duration": 7,
    "start_time": "2024-11-30T14:09:21.681Z"
   },
   {
    "duration": 11,
    "start_time": "2024-11-30T14:09:21.689Z"
   },
   {
    "duration": 4,
    "start_time": "2024-11-30T14:09:21.701Z"
   },
   {
    "duration": 22,
    "start_time": "2024-11-30T14:09:21.706Z"
   },
   {
    "duration": 14,
    "start_time": "2024-11-30T14:09:21.730Z"
   },
   {
    "duration": 10,
    "start_time": "2024-11-30T14:09:21.745Z"
   },
   {
    "duration": 10,
    "start_time": "2024-11-30T14:09:21.756Z"
   },
   {
    "duration": 81,
    "start_time": "2024-11-30T14:09:21.769Z"
   },
   {
    "duration": 6,
    "start_time": "2024-11-30T14:09:21.851Z"
   },
   {
    "duration": 7,
    "start_time": "2024-11-30T14:09:21.858Z"
   },
   {
    "duration": 4,
    "start_time": "2024-11-30T14:09:21.867Z"
   },
   {
    "duration": 14,
    "start_time": "2024-11-30T14:09:21.873Z"
   },
   {
    "duration": 48,
    "start_time": "2024-11-30T14:09:21.889Z"
   },
   {
    "duration": 87,
    "start_time": "2024-11-30T14:09:21.938Z"
   },
   {
    "duration": 6,
    "start_time": "2024-11-30T14:09:22.026Z"
   },
   {
    "duration": 11,
    "start_time": "2024-11-30T14:09:22.033Z"
   },
   {
    "duration": 6,
    "start_time": "2024-11-30T14:09:22.046Z"
   },
   {
    "duration": 19,
    "start_time": "2024-11-30T14:09:22.053Z"
   },
   {
    "duration": 3,
    "start_time": "2024-11-30T14:09:22.073Z"
   },
   {
    "duration": 14,
    "start_time": "2024-11-30T14:09:22.077Z"
   },
   {
    "duration": 3,
    "start_time": "2024-11-30T14:09:22.092Z"
   },
   {
    "duration": 17,
    "start_time": "2024-11-30T14:09:22.096Z"
   },
   {
    "duration": 12,
    "start_time": "2024-11-30T14:09:22.114Z"
   },
   {
    "duration": 18,
    "start_time": "2024-11-30T14:09:22.127Z"
   },
   {
    "duration": 8,
    "start_time": "2024-11-30T14:09:22.146Z"
   },
   {
    "duration": 17,
    "start_time": "2024-11-30T14:09:22.155Z"
   },
   {
    "duration": 10,
    "start_time": "2024-11-30T14:09:22.173Z"
   },
   {
    "duration": 7,
    "start_time": "2024-11-30T14:09:22.184Z"
   },
   {
    "duration": 6,
    "start_time": "2024-11-30T14:19:07.029Z"
   },
   {
    "duration": 16,
    "start_time": "2024-11-30T14:20:29.632Z"
   },
   {
    "duration": 10,
    "start_time": "2024-11-30T14:21:07.991Z"
   },
   {
    "duration": 7,
    "start_time": "2024-11-30T14:21:17.237Z"
   },
   {
    "duration": 372,
    "start_time": "2024-11-30T14:26:21.794Z"
   },
   {
    "duration": 4,
    "start_time": "2024-11-30T14:26:22.168Z"
   },
   {
    "duration": 104,
    "start_time": "2024-11-30T14:26:22.173Z"
   },
   {
    "duration": 21,
    "start_time": "2024-11-30T14:26:22.279Z"
   },
   {
    "duration": 13,
    "start_time": "2024-11-30T14:26:22.302Z"
   },
   {
    "duration": 3,
    "start_time": "2024-11-30T14:26:22.316Z"
   },
   {
    "duration": 3,
    "start_time": "2024-11-30T14:26:22.320Z"
   },
   {
    "duration": 2,
    "start_time": "2024-11-30T14:26:22.325Z"
   },
   {
    "duration": 13,
    "start_time": "2024-11-30T14:26:22.328Z"
   },
   {
    "duration": 28,
    "start_time": "2024-11-30T14:26:22.343Z"
   },
   {
    "duration": 5,
    "start_time": "2024-11-30T14:26:22.373Z"
   },
   {
    "duration": 22,
    "start_time": "2024-11-30T14:26:22.380Z"
   },
   {
    "duration": 12,
    "start_time": "2024-11-30T14:26:22.404Z"
   },
   {
    "duration": 7,
    "start_time": "2024-11-30T14:26:22.417Z"
   },
   {
    "duration": 16,
    "start_time": "2024-11-30T14:26:22.425Z"
   },
   {
    "duration": 37,
    "start_time": "2024-11-30T14:26:22.442Z"
   },
   {
    "duration": 15,
    "start_time": "2024-11-30T14:26:22.481Z"
   },
   {
    "duration": 3,
    "start_time": "2024-11-30T14:26:22.498Z"
   },
   {
    "duration": 162,
    "start_time": "2024-11-30T14:26:22.502Z"
   },
   {
    "duration": 12,
    "start_time": "2024-11-30T14:26:22.665Z"
   },
   {
    "duration": 10,
    "start_time": "2024-11-30T14:26:22.678Z"
   },
   {
    "duration": 20,
    "start_time": "2024-11-30T14:26:22.691Z"
   },
   {
    "duration": 7,
    "start_time": "2024-11-30T14:26:22.712Z"
   },
   {
    "duration": 17,
    "start_time": "2024-11-30T14:26:22.721Z"
   },
   {
    "duration": 56,
    "start_time": "2024-11-30T14:26:22.739Z"
   },
   {
    "duration": 18,
    "start_time": "2024-11-30T14:26:22.796Z"
   },
   {
    "duration": 3,
    "start_time": "2024-11-30T14:26:22.815Z"
   },
   {
    "duration": 10,
    "start_time": "2024-11-30T14:26:22.821Z"
   },
   {
    "duration": 4,
    "start_time": "2024-11-30T14:26:22.832Z"
   },
   {
    "duration": 4,
    "start_time": "2024-11-30T14:26:22.838Z"
   },
   {
    "duration": 28,
    "start_time": "2024-11-30T14:26:22.843Z"
   },
   {
    "duration": 15,
    "start_time": "2024-11-30T14:26:22.873Z"
   },
   {
    "duration": 5,
    "start_time": "2024-11-30T14:26:22.889Z"
   },
   {
    "duration": 5,
    "start_time": "2024-11-30T14:26:22.896Z"
   },
   {
    "duration": 4,
    "start_time": "2024-11-30T14:26:22.902Z"
   },
   {
    "duration": 4,
    "start_time": "2024-11-30T14:26:22.907Z"
   },
   {
    "duration": 5,
    "start_time": "2024-11-30T14:26:22.912Z"
   },
   {
    "duration": 15,
    "start_time": "2024-11-30T14:26:22.919Z"
   },
   {
    "duration": 41,
    "start_time": "2024-11-30T14:26:22.936Z"
   },
   {
    "duration": 40,
    "start_time": "2024-11-30T14:26:22.979Z"
   },
   {
    "duration": 16,
    "start_time": "2024-11-30T14:26:23.020Z"
   },
   {
    "duration": 5,
    "start_time": "2024-11-30T14:26:23.037Z"
   },
   {
    "duration": 6,
    "start_time": "2024-11-30T14:26:23.043Z"
   },
   {
    "duration": 8,
    "start_time": "2024-11-30T14:26:23.050Z"
   },
   {
    "duration": 4,
    "start_time": "2024-11-30T14:26:23.060Z"
   },
   {
    "duration": 52,
    "start_time": "2024-11-30T14:26:23.065Z"
   },
   {
    "duration": 90,
    "start_time": "2024-11-30T14:26:23.118Z"
   },
   {
    "duration": 3,
    "start_time": "2024-11-30T14:26:23.209Z"
   },
   {
    "duration": 4,
    "start_time": "2024-11-30T14:26:23.213Z"
   },
   {
    "duration": 3,
    "start_time": "2024-11-30T14:26:23.219Z"
   },
   {
    "duration": 4,
    "start_time": "2024-11-30T14:26:23.224Z"
   },
   {
    "duration": 24,
    "start_time": "2024-11-30T14:26:23.229Z"
   },
   {
    "duration": 6,
    "start_time": "2024-11-30T14:26:23.254Z"
   },
   {
    "duration": 7,
    "start_time": "2024-11-30T14:26:23.272Z"
   },
   {
    "duration": 2,
    "start_time": "2024-11-30T14:26:23.281Z"
   },
   {
    "duration": 6,
    "start_time": "2024-11-30T14:26:23.284Z"
   },
   {
    "duration": 12,
    "start_time": "2024-11-30T14:26:23.291Z"
   },
   {
    "duration": 27,
    "start_time": "2024-11-30T14:26:23.304Z"
   },
   {
    "duration": 7,
    "start_time": "2024-11-30T14:26:23.332Z"
   },
   {
    "duration": 7,
    "start_time": "2024-11-30T14:26:23.340Z"
   },
   {
    "duration": 23,
    "start_time": "2024-11-30T14:26:23.349Z"
   },
   {
    "duration": 6,
    "start_time": "2024-11-30T14:26:23.373Z"
   },
   {
    "duration": 373,
    "start_time": "2024-11-30T14:27:14.811Z"
   },
   {
    "duration": 3,
    "start_time": "2024-11-30T14:27:15.186Z"
   },
   {
    "duration": 130,
    "start_time": "2024-11-30T14:27:15.194Z"
   },
   {
    "duration": 20,
    "start_time": "2024-11-30T14:27:15.326Z"
   },
   {
    "duration": 14,
    "start_time": "2024-11-30T14:27:15.348Z"
   },
   {
    "duration": 3,
    "start_time": "2024-11-30T14:27:15.364Z"
   },
   {
    "duration": 6,
    "start_time": "2024-11-30T14:27:15.368Z"
   },
   {
    "duration": 18,
    "start_time": "2024-11-30T14:27:15.375Z"
   },
   {
    "duration": 14,
    "start_time": "2024-11-30T14:27:15.396Z"
   },
   {
    "duration": 8,
    "start_time": "2024-11-30T14:27:15.411Z"
   },
   {
    "duration": 5,
    "start_time": "2024-11-30T14:27:15.420Z"
   },
   {
    "duration": 30,
    "start_time": "2024-11-30T14:27:15.426Z"
   },
   {
    "duration": 21,
    "start_time": "2024-11-30T14:27:15.457Z"
   },
   {
    "duration": 11,
    "start_time": "2024-11-30T14:27:15.479Z"
   },
   {
    "duration": 14,
    "start_time": "2024-11-30T14:27:15.491Z"
   },
   {
    "duration": 13,
    "start_time": "2024-11-30T14:27:15.506Z"
   },
   {
    "duration": 11,
    "start_time": "2024-11-30T14:27:15.521Z"
   },
   {
    "duration": 3,
    "start_time": "2024-11-30T14:27:15.533Z"
   },
   {
    "duration": 174,
    "start_time": "2024-11-30T14:27:15.538Z"
   },
   {
    "duration": 11,
    "start_time": "2024-11-30T14:27:15.714Z"
   },
   {
    "duration": 22,
    "start_time": "2024-11-30T14:27:15.726Z"
   },
   {
    "duration": 18,
    "start_time": "2024-11-30T14:27:15.749Z"
   },
   {
    "duration": 5,
    "start_time": "2024-11-30T14:27:15.769Z"
   },
   {
    "duration": 23,
    "start_time": "2024-11-30T14:27:15.776Z"
   },
   {
    "duration": 17,
    "start_time": "2024-11-30T14:27:15.800Z"
   },
   {
    "duration": 16,
    "start_time": "2024-11-30T14:27:15.819Z"
   },
   {
    "duration": 37,
    "start_time": "2024-11-30T14:27:15.838Z"
   },
   {
    "duration": 4,
    "start_time": "2024-11-30T14:27:15.877Z"
   },
   {
    "duration": 4,
    "start_time": "2024-11-30T14:27:15.882Z"
   },
   {
    "duration": 7,
    "start_time": "2024-11-30T14:27:15.887Z"
   },
   {
    "duration": 11,
    "start_time": "2024-11-30T14:27:15.895Z"
   },
   {
    "duration": 11,
    "start_time": "2024-11-30T14:27:15.907Z"
   },
   {
    "duration": 5,
    "start_time": "2024-11-30T14:27:15.919Z"
   },
   {
    "duration": 4,
    "start_time": "2024-11-30T14:27:15.925Z"
   },
   {
    "duration": 42,
    "start_time": "2024-11-30T14:27:15.930Z"
   },
   {
    "duration": 5,
    "start_time": "2024-11-30T14:27:15.974Z"
   },
   {
    "duration": 8,
    "start_time": "2024-11-30T14:27:15.980Z"
   },
   {
    "duration": 11,
    "start_time": "2024-11-30T14:27:15.989Z"
   },
   {
    "duration": 13,
    "start_time": "2024-11-30T14:27:16.002Z"
   },
   {
    "duration": 8,
    "start_time": "2024-11-30T14:27:16.016Z"
   },
   {
    "duration": 8,
    "start_time": "2024-11-30T14:27:16.025Z"
   },
   {
    "duration": 5,
    "start_time": "2024-11-30T14:27:16.034Z"
   },
   {
    "duration": 32,
    "start_time": "2024-11-30T14:27:16.040Z"
   },
   {
    "duration": 5,
    "start_time": "2024-11-30T14:27:16.073Z"
   },
   {
    "duration": 8,
    "start_time": "2024-11-30T14:27:16.079Z"
   },
   {
    "duration": 52,
    "start_time": "2024-11-30T14:27:16.088Z"
   },
   {
    "duration": 102,
    "start_time": "2024-11-30T14:27:16.142Z"
   },
   {
    "duration": 3,
    "start_time": "2024-11-30T14:27:16.246Z"
   },
   {
    "duration": 16,
    "start_time": "2024-11-30T14:27:16.250Z"
   },
   {
    "duration": 4,
    "start_time": "2024-11-30T14:27:16.267Z"
   },
   {
    "duration": 6,
    "start_time": "2024-11-30T14:27:16.273Z"
   },
   {
    "duration": 21,
    "start_time": "2024-11-30T14:27:16.281Z"
   },
   {
    "duration": 2,
    "start_time": "2024-11-30T14:27:16.303Z"
   },
   {
    "duration": 9,
    "start_time": "2024-11-30T14:27:16.306Z"
   },
   {
    "duration": 2,
    "start_time": "2024-11-30T14:27:16.316Z"
   },
   {
    "duration": 6,
    "start_time": "2024-11-30T14:27:16.319Z"
   },
   {
    "duration": 12,
    "start_time": "2024-11-30T14:27:16.326Z"
   },
   {
    "duration": 53,
    "start_time": "2024-11-30T14:27:16.339Z"
   },
   {
    "duration": 7,
    "start_time": "2024-11-30T14:27:16.394Z"
   },
   {
    "duration": 18,
    "start_time": "2024-11-30T14:27:16.403Z"
   },
   {
    "duration": 13,
    "start_time": "2024-11-30T14:27:16.423Z"
   },
   {
    "duration": 13,
    "start_time": "2024-11-30T14:27:16.438Z"
   },
   {
    "duration": 399,
    "start_time": "2024-11-30T14:28:02.779Z"
   },
   {
    "duration": 2,
    "start_time": "2024-11-30T14:28:03.181Z"
   },
   {
    "duration": 135,
    "start_time": "2024-11-30T14:28:03.185Z"
   },
   {
    "duration": 18,
    "start_time": "2024-11-30T14:28:03.322Z"
   },
   {
    "duration": 15,
    "start_time": "2024-11-30T14:28:03.341Z"
   },
   {
    "duration": 16,
    "start_time": "2024-11-30T14:28:03.358Z"
   },
   {
    "duration": 19,
    "start_time": "2024-11-30T14:28:03.375Z"
   },
   {
    "duration": 5,
    "start_time": "2024-11-30T14:28:03.395Z"
   },
   {
    "duration": 34,
    "start_time": "2024-11-30T14:28:03.401Z"
   },
   {
    "duration": 10,
    "start_time": "2024-11-30T14:28:03.437Z"
   },
   {
    "duration": 12,
    "start_time": "2024-11-30T14:28:03.448Z"
   },
   {
    "duration": 43,
    "start_time": "2024-11-30T14:28:03.461Z"
   },
   {
    "duration": 11,
    "start_time": "2024-11-30T14:28:03.505Z"
   },
   {
    "duration": 13,
    "start_time": "2024-11-30T14:28:03.518Z"
   },
   {
    "duration": 13,
    "start_time": "2024-11-30T14:28:03.532Z"
   },
   {
    "duration": 12,
    "start_time": "2024-11-30T14:28:03.546Z"
   },
   {
    "duration": 10,
    "start_time": "2024-11-30T14:28:03.560Z"
   },
   {
    "duration": 19,
    "start_time": "2024-11-30T14:28:03.572Z"
   },
   {
    "duration": 228,
    "start_time": "2024-11-30T14:28:03.593Z"
   },
   {
    "duration": 11,
    "start_time": "2024-11-30T14:28:03.822Z"
   },
   {
    "duration": 91,
    "start_time": "2024-11-30T14:28:03.834Z"
   },
   {
    "duration": 35,
    "start_time": "2024-11-30T14:28:03.926Z"
   },
   {
    "duration": 5,
    "start_time": "2024-11-30T14:28:03.962Z"
   },
   {
    "duration": 19,
    "start_time": "2024-11-30T14:28:03.969Z"
   },
   {
    "duration": 19,
    "start_time": "2024-11-30T14:28:03.990Z"
   },
   {
    "duration": 18,
    "start_time": "2024-11-30T14:28:04.011Z"
   },
   {
    "duration": 3,
    "start_time": "2024-11-30T14:28:04.030Z"
   },
   {
    "duration": 7,
    "start_time": "2024-11-30T14:28:04.036Z"
   },
   {
    "duration": 27,
    "start_time": "2024-11-30T14:28:04.045Z"
   },
   {
    "duration": 5,
    "start_time": "2024-11-30T14:28:04.074Z"
   },
   {
    "duration": 38,
    "start_time": "2024-11-30T14:28:04.081Z"
   },
   {
    "duration": 10,
    "start_time": "2024-11-30T14:28:04.121Z"
   },
   {
    "duration": 11,
    "start_time": "2024-11-30T14:28:04.133Z"
   },
   {
    "duration": 5,
    "start_time": "2024-11-30T14:28:04.146Z"
   },
   {
    "duration": 5,
    "start_time": "2024-11-30T14:28:04.152Z"
   },
   {
    "duration": 4,
    "start_time": "2024-11-30T14:28:04.158Z"
   },
   {
    "duration": 17,
    "start_time": "2024-11-30T14:28:04.178Z"
   },
   {
    "duration": 13,
    "start_time": "2024-11-30T14:28:04.197Z"
   },
   {
    "duration": 22,
    "start_time": "2024-11-30T14:28:04.211Z"
   },
   {
    "duration": 17,
    "start_time": "2024-11-30T14:28:04.235Z"
   },
   {
    "duration": 8,
    "start_time": "2024-11-30T14:28:04.254Z"
   },
   {
    "duration": 11,
    "start_time": "2024-11-30T14:28:04.263Z"
   },
   {
    "duration": 16,
    "start_time": "2024-11-30T14:28:04.276Z"
   },
   {
    "duration": 24,
    "start_time": "2024-11-30T14:28:04.294Z"
   },
   {
    "duration": 5,
    "start_time": "2024-11-30T14:28:04.319Z"
   },
   {
    "duration": 77,
    "start_time": "2024-11-30T14:28:04.325Z"
   },
   {
    "duration": 83,
    "start_time": "2024-11-30T14:28:04.404Z"
   },
   {
    "duration": 4,
    "start_time": "2024-11-30T14:28:04.489Z"
   },
   {
    "duration": 27,
    "start_time": "2024-11-30T14:28:04.494Z"
   },
   {
    "duration": 8,
    "start_time": "2024-11-30T14:28:04.522Z"
   },
   {
    "duration": 37,
    "start_time": "2024-11-30T14:28:04.531Z"
   },
   {
    "duration": 17,
    "start_time": "2024-11-30T14:28:04.569Z"
   },
   {
    "duration": 3,
    "start_time": "2024-11-30T14:28:04.587Z"
   },
   {
    "duration": 99,
    "start_time": "2024-11-30T14:28:04.592Z"
   },
   {
    "duration": 16,
    "start_time": "2024-11-30T14:28:04.693Z"
   },
   {
    "duration": 10,
    "start_time": "2024-11-30T14:28:04.710Z"
   },
   {
    "duration": 32,
    "start_time": "2024-11-30T14:28:04.721Z"
   },
   {
    "duration": 16,
    "start_time": "2024-11-30T14:28:04.754Z"
   },
   {
    "duration": 14,
    "start_time": "2024-11-30T14:28:04.771Z"
   },
   {
    "duration": 16,
    "start_time": "2024-11-30T14:28:04.786Z"
   },
   {
    "duration": 21,
    "start_time": "2024-11-30T14:28:04.803Z"
   },
   {
    "duration": 16,
    "start_time": "2024-11-30T14:28:04.825Z"
   },
   {
    "duration": 7,
    "start_time": "2024-11-30T15:30:36.693Z"
   },
   {
    "duration": 1665,
    "start_time": "2024-11-30T15:30:51.564Z"
   },
   {
    "duration": 10,
    "start_time": "2024-11-30T15:31:10.724Z"
   },
   {
    "duration": 10,
    "start_time": "2024-11-30T15:32:11.598Z"
   },
   {
    "duration": 5,
    "start_time": "2024-11-30T15:32:29.430Z"
   },
   {
    "duration": 11,
    "start_time": "2024-11-30T15:32:37.243Z"
   },
   {
    "duration": 8,
    "start_time": "2024-11-30T15:34:54.037Z"
   },
   {
    "duration": 11,
    "start_time": "2024-11-30T15:39:07.145Z"
   },
   {
    "duration": 9,
    "start_time": "2024-11-30T15:39:20.356Z"
   },
   {
    "duration": 411,
    "start_time": "2024-11-30T15:39:34.546Z"
   },
   {
    "duration": 2,
    "start_time": "2024-11-30T15:39:34.958Z"
   },
   {
    "duration": 117,
    "start_time": "2024-11-30T15:39:34.962Z"
   },
   {
    "duration": 26,
    "start_time": "2024-11-30T15:39:35.082Z"
   },
   {
    "duration": 18,
    "start_time": "2024-11-30T15:39:35.110Z"
   },
   {
    "duration": 4,
    "start_time": "2024-11-30T15:39:35.129Z"
   },
   {
    "duration": 12,
    "start_time": "2024-11-30T15:39:35.134Z"
   },
   {
    "duration": 3,
    "start_time": "2024-11-30T15:39:35.147Z"
   },
   {
    "duration": 30,
    "start_time": "2024-11-30T15:39:35.151Z"
   },
   {
    "duration": 20,
    "start_time": "2024-11-30T15:39:35.184Z"
   },
   {
    "duration": 7,
    "start_time": "2024-11-30T15:39:35.206Z"
   },
   {
    "duration": 27,
    "start_time": "2024-11-30T15:39:35.214Z"
   },
   {
    "duration": 70,
    "start_time": "2024-11-30T15:39:35.243Z"
   },
   {
    "duration": 12,
    "start_time": "2024-11-30T15:39:35.315Z"
   },
   {
    "duration": 7,
    "start_time": "2024-11-30T15:39:35.329Z"
   },
   {
    "duration": 12,
    "start_time": "2024-11-30T15:39:35.338Z"
   },
   {
    "duration": 11,
    "start_time": "2024-11-30T15:39:35.351Z"
   },
   {
    "duration": 13,
    "start_time": "2024-11-30T15:39:35.363Z"
   },
   {
    "duration": 157,
    "start_time": "2024-11-30T15:39:35.378Z"
   },
   {
    "duration": 6,
    "start_time": "2024-11-30T15:39:35.536Z"
   },
   {
    "duration": 50,
    "start_time": "2024-11-30T15:39:35.543Z"
   },
   {
    "duration": 26,
    "start_time": "2024-11-30T15:39:35.594Z"
   },
   {
    "duration": 18,
    "start_time": "2024-11-30T15:39:35.621Z"
   },
   {
    "duration": 36,
    "start_time": "2024-11-30T15:39:35.640Z"
   },
   {
    "duration": 7,
    "start_time": "2024-11-30T15:39:35.677Z"
   },
   {
    "duration": 41,
    "start_time": "2024-11-30T15:39:35.686Z"
   },
   {
    "duration": 17,
    "start_time": "2024-11-30T15:39:35.728Z"
   },
   {
    "duration": 23,
    "start_time": "2024-11-30T15:39:35.749Z"
   },
   {
    "duration": 3,
    "start_time": "2024-11-30T15:39:35.774Z"
   },
   {
    "duration": 22,
    "start_time": "2024-11-30T15:39:35.780Z"
   },
   {
    "duration": 13,
    "start_time": "2024-11-30T15:39:35.804Z"
   },
   {
    "duration": 23,
    "start_time": "2024-11-30T15:39:35.818Z"
   },
   {
    "duration": 26,
    "start_time": "2024-11-30T15:39:35.842Z"
   },
   {
    "duration": 18,
    "start_time": "2024-11-30T15:39:35.869Z"
   },
   {
    "duration": 18,
    "start_time": "2024-11-30T15:39:35.888Z"
   },
   {
    "duration": 21,
    "start_time": "2024-11-30T15:39:35.907Z"
   },
   {
    "duration": 4,
    "start_time": "2024-11-30T15:39:35.930Z"
   },
   {
    "duration": 20,
    "start_time": "2024-11-30T15:39:35.936Z"
   },
   {
    "duration": 7,
    "start_time": "2024-11-30T15:39:35.958Z"
   },
   {
    "duration": 9,
    "start_time": "2024-11-30T15:39:35.966Z"
   },
   {
    "duration": 15,
    "start_time": "2024-11-30T15:39:35.978Z"
   },
   {
    "duration": 31,
    "start_time": "2024-11-30T15:39:35.994Z"
   },
   {
    "duration": 27,
    "start_time": "2024-11-30T15:39:36.026Z"
   },
   {
    "duration": 63,
    "start_time": "2024-11-30T15:39:36.055Z"
   },
   {
    "duration": 33,
    "start_time": "2024-11-30T15:39:36.119Z"
   },
   {
    "duration": 14,
    "start_time": "2024-11-30T15:39:36.153Z"
   },
   {
    "duration": 5,
    "start_time": "2024-11-30T15:39:36.168Z"
   },
   {
    "duration": 53,
    "start_time": "2024-11-30T15:39:36.175Z"
   },
   {
    "duration": 39,
    "start_time": "2024-11-30T15:39:36.229Z"
   },
   {
    "duration": 115,
    "start_time": "2024-11-30T15:39:36.269Z"
   },
   {
    "duration": 4,
    "start_time": "2024-11-30T15:39:36.385Z"
   },
   {
    "duration": 19,
    "start_time": "2024-11-30T15:39:36.391Z"
   },
   {
    "duration": 17,
    "start_time": "2024-11-30T15:39:36.412Z"
   },
   {
    "duration": 36,
    "start_time": "2024-11-30T15:39:36.431Z"
   },
   {
    "duration": 28,
    "start_time": "2024-11-30T15:39:36.468Z"
   },
   {
    "duration": 2,
    "start_time": "2024-11-30T15:39:36.498Z"
   },
   {
    "duration": 20,
    "start_time": "2024-11-30T15:39:36.502Z"
   },
   {
    "duration": 15,
    "start_time": "2024-11-30T15:39:36.524Z"
   },
   {
    "duration": 22,
    "start_time": "2024-11-30T15:39:36.540Z"
   },
   {
    "duration": 15,
    "start_time": "2024-11-30T15:39:36.563Z"
   },
   {
    "duration": 21,
    "start_time": "2024-11-30T15:39:36.580Z"
   },
   {
    "duration": 8,
    "start_time": "2024-11-30T15:39:36.603Z"
   },
   {
    "duration": 13,
    "start_time": "2024-11-30T15:39:36.612Z"
   },
   {
    "duration": 14,
    "start_time": "2024-11-30T15:39:36.626Z"
   },
   {
    "duration": 9,
    "start_time": "2024-11-30T15:39:36.641Z"
   },
   {
    "duration": 125,
    "start_time": "2024-11-30T15:41:31.885Z"
   },
   {
    "duration": 73,
    "start_time": "2024-11-30T15:41:35.290Z"
   },
   {
    "duration": 40,
    "start_time": "2024-11-30T15:41:51.052Z"
   },
   {
    "duration": 68,
    "start_time": "2024-11-30T15:42:41.654Z"
   },
   {
    "duration": 12,
    "start_time": "2024-11-30T15:42:50.300Z"
   },
   {
    "duration": 16,
    "start_time": "2024-11-30T15:43:11.733Z"
   },
   {
    "duration": 8,
    "start_time": "2024-11-30T15:43:35.029Z"
   },
   {
    "duration": 7,
    "start_time": "2024-11-30T15:43:35.829Z"
   },
   {
    "duration": 7,
    "start_time": "2024-11-30T15:44:00.429Z"
   },
   {
    "duration": 9,
    "start_time": "2024-11-30T15:44:09.653Z"
   },
   {
    "duration": 9,
    "start_time": "2024-11-30T15:44:17.063Z"
   },
   {
    "duration": 391,
    "start_time": "2024-11-30T15:44:24.462Z"
   },
   {
    "duration": 2,
    "start_time": "2024-11-30T15:44:24.854Z"
   },
   {
    "duration": 121,
    "start_time": "2024-11-30T15:44:24.857Z"
   },
   {
    "duration": 20,
    "start_time": "2024-11-30T15:44:24.980Z"
   },
   {
    "duration": 14,
    "start_time": "2024-11-30T15:44:25.001Z"
   },
   {
    "duration": 3,
    "start_time": "2024-11-30T15:44:25.017Z"
   },
   {
    "duration": 4,
    "start_time": "2024-11-30T15:44:25.021Z"
   },
   {
    "duration": 3,
    "start_time": "2024-11-30T15:44:25.026Z"
   },
   {
    "duration": 18,
    "start_time": "2024-11-30T15:44:25.030Z"
   },
   {
    "duration": 7,
    "start_time": "2024-11-30T15:44:25.072Z"
   },
   {
    "duration": 7,
    "start_time": "2024-11-30T15:44:25.082Z"
   },
   {
    "duration": 28,
    "start_time": "2024-11-30T15:44:25.092Z"
   },
   {
    "duration": 13,
    "start_time": "2024-11-30T15:44:25.121Z"
   },
   {
    "duration": 9,
    "start_time": "2024-11-30T15:44:25.135Z"
   },
   {
    "duration": 39,
    "start_time": "2024-11-30T15:44:25.145Z"
   },
   {
    "duration": 20,
    "start_time": "2024-11-30T15:44:25.185Z"
   },
   {
    "duration": 11,
    "start_time": "2024-11-30T15:44:25.206Z"
   },
   {
    "duration": 3,
    "start_time": "2024-11-30T15:44:25.218Z"
   },
   {
    "duration": 173,
    "start_time": "2024-11-30T15:44:25.222Z"
   },
   {
    "duration": 6,
    "start_time": "2024-11-30T15:44:25.399Z"
   },
   {
    "duration": 8,
    "start_time": "2024-11-30T15:44:25.406Z"
   },
   {
    "duration": 10,
    "start_time": "2024-11-30T15:44:25.415Z"
   },
   {
    "duration": 5,
    "start_time": "2024-11-30T15:44:25.426Z"
   },
   {
    "duration": 16,
    "start_time": "2024-11-30T15:44:25.432Z"
   },
   {
    "duration": 31,
    "start_time": "2024-11-30T15:44:25.449Z"
   },
   {
    "duration": 47,
    "start_time": "2024-11-30T15:44:25.481Z"
   },
   {
    "duration": 16,
    "start_time": "2024-11-30T15:44:25.530Z"
   },
   {
    "duration": 18,
    "start_time": "2024-11-30T15:44:25.549Z"
   },
   {
    "duration": 3,
    "start_time": "2024-11-30T15:44:25.568Z"
   },
   {
    "duration": 7,
    "start_time": "2024-11-30T15:44:25.576Z"
   },
   {
    "duration": 13,
    "start_time": "2024-11-30T15:44:25.584Z"
   },
   {
    "duration": 6,
    "start_time": "2024-11-30T15:44:25.598Z"
   },
   {
    "duration": 12,
    "start_time": "2024-11-30T15:44:25.605Z"
   },
   {
    "duration": 10,
    "start_time": "2024-11-30T15:44:25.618Z"
   },
   {
    "duration": 8,
    "start_time": "2024-11-30T15:44:25.629Z"
   },
   {
    "duration": 4,
    "start_time": "2024-11-30T15:44:25.638Z"
   },
   {
    "duration": 7,
    "start_time": "2024-11-30T15:44:25.643Z"
   },
   {
    "duration": 21,
    "start_time": "2024-11-30T15:44:25.651Z"
   },
   {
    "duration": 8,
    "start_time": "2024-11-30T15:44:25.673Z"
   },
   {
    "duration": 9,
    "start_time": "2024-11-30T15:44:25.683Z"
   },
   {
    "duration": 8,
    "start_time": "2024-11-30T15:44:25.694Z"
   },
   {
    "duration": 32,
    "start_time": "2024-11-30T15:44:25.703Z"
   },
   {
    "duration": 14,
    "start_time": "2024-11-30T15:44:25.736Z"
   },
   {
    "duration": 7,
    "start_time": "2024-11-30T15:44:25.751Z"
   },
   {
    "duration": 5,
    "start_time": "2024-11-30T15:44:25.759Z"
   },
   {
    "duration": 7,
    "start_time": "2024-11-30T15:44:25.765Z"
   },
   {
    "duration": 24,
    "start_time": "2024-11-30T15:44:25.775Z"
   },
   {
    "duration": 49,
    "start_time": "2024-11-30T15:44:25.800Z"
   },
   {
    "duration": 9,
    "start_time": "2024-11-30T15:44:25.850Z"
   },
   {
    "duration": 84,
    "start_time": "2024-11-30T15:44:25.860Z"
   },
   {
    "duration": 3,
    "start_time": "2024-11-30T15:44:25.946Z"
   },
   {
    "duration": 78,
    "start_time": "2024-11-30T15:44:25.952Z"
   },
   {
    "duration": 6,
    "start_time": "2024-11-30T15:44:26.032Z"
   },
   {
    "duration": 32,
    "start_time": "2024-11-30T15:44:26.039Z"
   },
   {
    "duration": 22,
    "start_time": "2024-11-30T15:44:26.072Z"
   },
   {
    "duration": 48,
    "start_time": "2024-11-30T15:44:26.096Z"
   },
   {
    "duration": 25,
    "start_time": "2024-11-30T15:44:26.145Z"
   },
   {
    "duration": 7,
    "start_time": "2024-11-30T15:44:26.171Z"
   },
   {
    "duration": 9,
    "start_time": "2024-11-30T15:44:26.179Z"
   },
   {
    "duration": 12,
    "start_time": "2024-11-30T15:44:26.190Z"
   },
   {
    "duration": 23,
    "start_time": "2024-11-30T15:44:26.203Z"
   },
   {
    "duration": 11,
    "start_time": "2024-11-30T15:44:26.228Z"
   },
   {
    "duration": 31,
    "start_time": "2024-11-30T15:44:26.241Z"
   },
   {
    "duration": 7,
    "start_time": "2024-11-30T15:44:26.273Z"
   },
   {
    "duration": 8,
    "start_time": "2024-11-30T15:44:26.281Z"
   },
   {
    "duration": 15,
    "start_time": "2024-11-30T15:44:43.948Z"
   },
   {
    "duration": 18,
    "start_time": "2024-11-30T15:45:35.293Z"
   },
   {
    "duration": 67,
    "start_time": "2024-11-30T15:46:20.019Z"
   },
   {
    "duration": 5,
    "start_time": "2024-11-30T15:46:38.244Z"
   },
   {
    "duration": 24,
    "start_time": "2024-11-30T15:46:39.716Z"
   },
   {
    "duration": 10,
    "start_time": "2024-11-30T15:46:54.034Z"
   },
   {
    "duration": 19,
    "start_time": "2024-11-30T15:46:54.642Z"
   },
   {
    "duration": 10,
    "start_time": "2024-11-30T15:49:32.644Z"
   },
   {
    "duration": 8,
    "start_time": "2024-11-30T15:49:57.331Z"
   },
   {
    "duration": 22,
    "start_time": "2024-11-30T15:49:57.781Z"
   },
   {
    "duration": 4,
    "start_time": "2024-11-30T15:49:58.329Z"
   },
   {
    "duration": 7,
    "start_time": "2024-11-30T16:13:11.282Z"
   },
   {
    "duration": 11,
    "start_time": "2024-11-30T16:13:27.770Z"
   },
   {
    "duration": 389,
    "start_time": "2024-11-30T16:14:20.274Z"
   },
   {
    "duration": 2,
    "start_time": "2024-11-30T16:14:20.664Z"
   },
   {
    "duration": 115,
    "start_time": "2024-11-30T16:14:20.670Z"
   },
   {
    "duration": 19,
    "start_time": "2024-11-30T16:14:20.787Z"
   },
   {
    "duration": 13,
    "start_time": "2024-11-30T16:14:20.807Z"
   },
   {
    "duration": 3,
    "start_time": "2024-11-30T16:14:20.821Z"
   },
   {
    "duration": 5,
    "start_time": "2024-11-30T16:14:20.825Z"
   },
   {
    "duration": 8,
    "start_time": "2024-11-30T16:14:20.831Z"
   },
   {
    "duration": 16,
    "start_time": "2024-11-30T16:14:20.840Z"
   },
   {
    "duration": 16,
    "start_time": "2024-11-30T16:14:20.858Z"
   },
   {
    "duration": 18,
    "start_time": "2024-11-30T16:14:20.875Z"
   },
   {
    "duration": 20,
    "start_time": "2024-11-30T16:14:20.895Z"
   },
   {
    "duration": 71,
    "start_time": "2024-11-30T16:14:20.917Z"
   },
   {
    "duration": 7,
    "start_time": "2024-11-30T16:14:20.989Z"
   },
   {
    "duration": 14,
    "start_time": "2024-11-30T16:14:20.997Z"
   },
   {
    "duration": 14,
    "start_time": "2024-11-30T16:14:21.012Z"
   },
   {
    "duration": 22,
    "start_time": "2024-11-30T16:14:21.027Z"
   },
   {
    "duration": 11,
    "start_time": "2024-11-30T16:14:21.050Z"
   },
   {
    "duration": 2,
    "start_time": "2024-11-30T16:14:21.062Z"
   },
   {
    "duration": 144,
    "start_time": "2024-11-30T16:14:21.065Z"
   },
   {
    "duration": 6,
    "start_time": "2024-11-30T16:14:21.210Z"
   },
   {
    "duration": 10,
    "start_time": "2024-11-30T16:14:21.217Z"
   },
   {
    "duration": 13,
    "start_time": "2024-11-30T16:14:21.228Z"
   },
   {
    "duration": 29,
    "start_time": "2024-11-30T16:14:21.242Z"
   },
   {
    "duration": 18,
    "start_time": "2024-11-30T16:14:21.273Z"
   },
   {
    "duration": 6,
    "start_time": "2024-11-30T16:14:21.292Z"
   },
   {
    "duration": 18,
    "start_time": "2024-11-30T16:14:21.300Z"
   },
   {
    "duration": 17,
    "start_time": "2024-11-30T16:14:21.322Z"
   },
   {
    "duration": 49,
    "start_time": "2024-11-30T16:14:21.341Z"
   },
   {
    "duration": 29,
    "start_time": "2024-11-30T16:14:21.391Z"
   },
   {
    "duration": 3,
    "start_time": "2024-11-30T16:14:21.421Z"
   },
   {
    "duration": 7,
    "start_time": "2024-11-30T16:14:21.425Z"
   },
   {
    "duration": 7,
    "start_time": "2024-11-30T16:14:21.434Z"
   },
   {
    "duration": 16,
    "start_time": "2024-11-30T16:14:21.442Z"
   },
   {
    "duration": 20,
    "start_time": "2024-11-30T16:14:21.459Z"
   },
   {
    "duration": 6,
    "start_time": "2024-11-30T16:14:21.481Z"
   },
   {
    "duration": 9,
    "start_time": "2024-11-30T16:14:21.488Z"
   },
   {
    "duration": 6,
    "start_time": "2024-11-30T16:14:21.498Z"
   },
   {
    "duration": 5,
    "start_time": "2024-11-30T16:14:21.505Z"
   },
   {
    "duration": 7,
    "start_time": "2024-11-30T16:14:21.511Z"
   },
   {
    "duration": 7,
    "start_time": "2024-11-30T16:14:21.519Z"
   },
   {
    "duration": 44,
    "start_time": "2024-11-30T16:14:21.528Z"
   },
   {
    "duration": 41,
    "start_time": "2024-11-30T16:14:21.574Z"
   },
   {
    "duration": 9,
    "start_time": "2024-11-30T16:14:21.616Z"
   },
   {
    "duration": 5,
    "start_time": "2024-11-30T16:14:21.627Z"
   },
   {
    "duration": 5,
    "start_time": "2024-11-30T16:14:21.634Z"
   },
   {
    "duration": 8,
    "start_time": "2024-11-30T16:14:21.640Z"
   },
   {
    "duration": 4,
    "start_time": "2024-11-30T16:14:21.649Z"
   },
   {
    "duration": 51,
    "start_time": "2024-11-30T16:14:21.654Z"
   },
   {
    "duration": 8,
    "start_time": "2024-11-30T16:14:21.706Z"
   },
   {
    "duration": 16,
    "start_time": "2024-11-30T16:14:21.715Z"
   },
   {
    "duration": 4,
    "start_time": "2024-11-30T16:14:21.732Z"
   },
   {
    "duration": 92,
    "start_time": "2024-11-30T16:14:21.737Z"
   },
   {
    "duration": 3,
    "start_time": "2024-11-30T16:14:21.831Z"
   },
   {
    "duration": 10,
    "start_time": "2024-11-30T16:14:21.835Z"
   },
   {
    "duration": 4,
    "start_time": "2024-11-30T16:14:21.846Z"
   },
   {
    "duration": 23,
    "start_time": "2024-11-30T16:14:21.851Z"
   },
   {
    "duration": 16,
    "start_time": "2024-11-30T16:14:21.876Z"
   },
   {
    "duration": 2,
    "start_time": "2024-11-30T16:14:21.893Z"
   },
   {
    "duration": 9,
    "start_time": "2024-11-30T16:14:21.897Z"
   },
   {
    "duration": 2,
    "start_time": "2024-11-30T16:14:21.908Z"
   },
   {
    "duration": 7,
    "start_time": "2024-11-30T16:14:21.911Z"
   },
   {
    "duration": 12,
    "start_time": "2024-11-30T16:14:21.920Z"
   },
   {
    "duration": 50,
    "start_time": "2024-11-30T16:14:21.933Z"
   },
   {
    "duration": 9,
    "start_time": "2024-11-30T16:14:21.985Z"
   },
   {
    "duration": 8,
    "start_time": "2024-11-30T16:14:21.995Z"
   },
   {
    "duration": 6,
    "start_time": "2024-11-30T16:14:22.004Z"
   },
   {
    "duration": 20,
    "start_time": "2024-11-30T16:14:22.011Z"
   },
   {
    "duration": 342,
    "start_time": "2024-11-30T16:27:09.913Z"
   },
   {
    "duration": 2,
    "start_time": "2024-11-30T16:27:10.257Z"
   },
   {
    "duration": 116,
    "start_time": "2024-11-30T16:27:10.261Z"
   },
   {
    "duration": 18,
    "start_time": "2024-11-30T16:27:10.378Z"
   },
   {
    "duration": 13,
    "start_time": "2024-11-30T16:27:10.397Z"
   },
   {
    "duration": 4,
    "start_time": "2024-11-30T16:27:10.411Z"
   },
   {
    "duration": 3,
    "start_time": "2024-11-30T16:27:10.417Z"
   },
   {
    "duration": 4,
    "start_time": "2024-11-30T16:27:10.421Z"
   },
   {
    "duration": 11,
    "start_time": "2024-11-30T16:27:10.426Z"
   },
   {
    "duration": 4,
    "start_time": "2024-11-30T16:27:10.440Z"
   },
   {
    "duration": 5,
    "start_time": "2024-11-30T16:27:10.471Z"
   },
   {
    "duration": 15,
    "start_time": "2024-11-30T16:27:10.478Z"
   },
   {
    "duration": 11,
    "start_time": "2024-11-30T16:27:10.494Z"
   },
   {
    "duration": 9,
    "start_time": "2024-11-30T16:27:10.507Z"
   },
   {
    "duration": 6,
    "start_time": "2024-11-30T16:27:10.518Z"
   },
   {
    "duration": 14,
    "start_time": "2024-11-30T16:27:10.525Z"
   },
   {
    "duration": 41,
    "start_time": "2024-11-30T16:27:10.541Z"
   },
   {
    "duration": 11,
    "start_time": "2024-11-30T16:27:10.583Z"
   },
   {
    "duration": 2,
    "start_time": "2024-11-30T16:27:10.595Z"
   },
   {
    "duration": 163,
    "start_time": "2024-11-30T16:27:10.599Z"
   },
   {
    "duration": 11,
    "start_time": "2024-11-30T16:27:10.763Z"
   },
   {
    "duration": 8,
    "start_time": "2024-11-30T16:27:10.775Z"
   },
   {
    "duration": 13,
    "start_time": "2024-11-30T16:27:10.785Z"
   },
   {
    "duration": 7,
    "start_time": "2024-11-30T16:27:10.799Z"
   },
   {
    "duration": 20,
    "start_time": "2024-11-30T16:27:10.807Z"
   },
   {
    "duration": 5,
    "start_time": "2024-11-30T16:27:10.828Z"
   },
   {
    "duration": 38,
    "start_time": "2024-11-30T16:27:10.834Z"
   },
   {
    "duration": 19,
    "start_time": "2024-11-30T16:27:10.875Z"
   },
   {
    "duration": 19,
    "start_time": "2024-11-30T16:27:10.895Z"
   },
   {
    "duration": 2,
    "start_time": "2024-11-30T16:27:10.916Z"
   },
   {
    "duration": 7,
    "start_time": "2024-11-30T16:27:10.920Z"
   },
   {
    "duration": 4,
    "start_time": "2024-11-30T16:27:10.928Z"
   },
   {
    "duration": 7,
    "start_time": "2024-11-30T16:27:10.933Z"
   },
   {
    "duration": 35,
    "start_time": "2024-11-30T16:27:10.941Z"
   },
   {
    "duration": 11,
    "start_time": "2024-11-30T16:27:10.977Z"
   },
   {
    "duration": 4,
    "start_time": "2024-11-30T16:27:10.989Z"
   },
   {
    "duration": 4,
    "start_time": "2024-11-30T16:27:10.995Z"
   },
   {
    "duration": 6,
    "start_time": "2024-11-30T16:27:11.000Z"
   },
   {
    "duration": 4,
    "start_time": "2024-11-30T16:27:11.007Z"
   },
   {
    "duration": 12,
    "start_time": "2024-11-30T16:27:11.012Z"
   },
   {
    "duration": 8,
    "start_time": "2024-11-30T16:27:11.025Z"
   },
   {
    "duration": 42,
    "start_time": "2024-11-30T16:27:11.035Z"
   },
   {
    "duration": 10,
    "start_time": "2024-11-30T16:27:11.079Z"
   },
   {
    "duration": 27,
    "start_time": "2024-11-30T16:27:11.090Z"
   },
   {
    "duration": 18,
    "start_time": "2024-11-30T16:27:11.119Z"
   },
   {
    "duration": 5,
    "start_time": "2024-11-30T16:27:11.139Z"
   },
   {
    "duration": 8,
    "start_time": "2024-11-30T16:27:11.145Z"
   },
   {
    "duration": 4,
    "start_time": "2024-11-30T16:27:11.155Z"
   },
   {
    "duration": 77,
    "start_time": "2024-11-30T16:27:11.161Z"
   },
   {
    "duration": 10,
    "start_time": "2024-11-30T16:27:11.239Z"
   },
   {
    "duration": 18,
    "start_time": "2024-11-30T16:27:11.250Z"
   },
   {
    "duration": 3,
    "start_time": "2024-11-30T16:27:11.269Z"
   },
   {
    "duration": 87,
    "start_time": "2024-11-30T16:27:11.273Z"
   },
   {
    "duration": 3,
    "start_time": "2024-11-30T16:27:11.361Z"
   },
   {
    "duration": 6,
    "start_time": "2024-11-30T16:27:11.366Z"
   },
   {
    "duration": 53,
    "start_time": "2024-11-30T16:27:11.373Z"
   },
   {
    "duration": 19,
    "start_time": "2024-11-30T16:27:11.428Z"
   },
   {
    "duration": 17,
    "start_time": "2024-11-30T16:27:11.448Z"
   },
   {
    "duration": 2,
    "start_time": "2024-11-30T16:27:11.466Z"
   },
   {
    "duration": 13,
    "start_time": "2024-11-30T16:27:11.469Z"
   },
   {
    "duration": 6,
    "start_time": "2024-11-30T16:27:11.483Z"
   },
   {
    "duration": 9,
    "start_time": "2024-11-30T16:27:11.490Z"
   },
   {
    "duration": 12,
    "start_time": "2024-11-30T16:27:11.500Z"
   },
   {
    "duration": 18,
    "start_time": "2024-11-30T16:27:11.513Z"
   },
   {
    "duration": 8,
    "start_time": "2024-11-30T16:27:11.532Z"
   },
   {
    "duration": 7,
    "start_time": "2024-11-30T16:27:11.541Z"
   },
   {
    "duration": 21,
    "start_time": "2024-11-30T16:27:11.549Z"
   },
   {
    "duration": 65,
    "start_time": "2024-11-30T16:27:11.571Z"
   },
   {
    "duration": 379,
    "start_time": "2024-11-30T16:27:44.332Z"
   },
   {
    "duration": 2,
    "start_time": "2024-11-30T16:27:44.713Z"
   },
   {
    "duration": 114,
    "start_time": "2024-11-30T16:27:44.716Z"
   },
   {
    "duration": 20,
    "start_time": "2024-11-30T16:27:44.832Z"
   },
   {
    "duration": 14,
    "start_time": "2024-11-30T16:27:44.854Z"
   },
   {
    "duration": 4,
    "start_time": "2024-11-30T16:27:44.869Z"
   },
   {
    "duration": 3,
    "start_time": "2024-11-30T16:27:44.875Z"
   },
   {
    "duration": 14,
    "start_time": "2024-11-30T16:27:44.880Z"
   },
   {
    "duration": 38,
    "start_time": "2024-11-30T16:27:44.895Z"
   },
   {
    "duration": 9,
    "start_time": "2024-11-30T16:27:44.936Z"
   },
   {
    "duration": 4,
    "start_time": "2024-11-30T16:27:44.946Z"
   },
   {
    "duration": 76,
    "start_time": "2024-11-30T16:27:44.952Z"
   },
   {
    "duration": 25,
    "start_time": "2024-11-30T16:27:45.030Z"
   },
   {
    "duration": 49,
    "start_time": "2024-11-30T16:27:45.057Z"
   },
   {
    "duration": 32,
    "start_time": "2024-11-30T16:27:45.107Z"
   },
   {
    "duration": 27,
    "start_time": "2024-11-30T16:27:45.140Z"
   },
   {
    "duration": 51,
    "start_time": "2024-11-30T16:27:45.168Z"
   },
   {
    "duration": 47,
    "start_time": "2024-11-30T16:27:45.220Z"
   },
   {
    "duration": 28,
    "start_time": "2024-11-30T16:27:45.269Z"
   },
   {
    "duration": 169,
    "start_time": "2024-11-30T16:27:45.299Z"
   },
   {
    "duration": 6,
    "start_time": "2024-11-30T16:27:45.469Z"
   },
   {
    "duration": 9,
    "start_time": "2024-11-30T16:27:45.476Z"
   },
   {
    "duration": 10,
    "start_time": "2024-11-30T16:27:45.486Z"
   },
   {
    "duration": 6,
    "start_time": "2024-11-30T16:27:45.497Z"
   },
   {
    "duration": 19,
    "start_time": "2024-11-30T16:27:45.504Z"
   },
   {
    "duration": 5,
    "start_time": "2024-11-30T16:27:45.524Z"
   },
   {
    "duration": 48,
    "start_time": "2024-11-30T16:27:45.530Z"
   },
   {
    "duration": 17,
    "start_time": "2024-11-30T16:27:45.581Z"
   },
   {
    "duration": 73,
    "start_time": "2024-11-30T16:27:45.599Z"
   },
   {
    "duration": 3,
    "start_time": "2024-11-30T16:27:45.673Z"
   },
   {
    "duration": 7,
    "start_time": "2024-11-30T16:27:45.677Z"
   },
   {
    "duration": 7,
    "start_time": "2024-11-30T16:27:45.685Z"
   },
   {
    "duration": 10,
    "start_time": "2024-11-30T16:27:45.693Z"
   },
   {
    "duration": 12,
    "start_time": "2024-11-30T16:27:45.704Z"
   },
   {
    "duration": 10,
    "start_time": "2024-11-30T16:27:45.717Z"
   },
   {
    "duration": 12,
    "start_time": "2024-11-30T16:27:45.729Z"
   },
   {
    "duration": 18,
    "start_time": "2024-11-30T16:27:45.742Z"
   },
   {
    "duration": 10,
    "start_time": "2024-11-30T16:27:45.761Z"
   },
   {
    "duration": 7,
    "start_time": "2024-11-30T16:27:45.773Z"
   },
   {
    "duration": 7,
    "start_time": "2024-11-30T16:27:45.781Z"
   },
   {
    "duration": 6,
    "start_time": "2024-11-30T16:27:45.789Z"
   },
   {
    "duration": 25,
    "start_time": "2024-11-30T16:27:45.797Z"
   },
   {
    "duration": 9,
    "start_time": "2024-11-30T16:27:45.823Z"
   },
   {
    "duration": 8,
    "start_time": "2024-11-30T16:27:45.834Z"
   },
   {
    "duration": 4,
    "start_time": "2024-11-30T16:27:45.844Z"
   },
   {
    "duration": 20,
    "start_time": "2024-11-30T16:27:45.850Z"
   },
   {
    "duration": 5,
    "start_time": "2024-11-30T16:27:45.871Z"
   },
   {
    "duration": 31,
    "start_time": "2024-11-30T16:27:45.877Z"
   },
   {
    "duration": 63,
    "start_time": "2024-11-30T16:27:45.909Z"
   },
   {
    "duration": 9,
    "start_time": "2024-11-30T16:27:45.973Z"
   },
   {
    "duration": 18,
    "start_time": "2024-11-30T16:27:45.983Z"
   },
   {
    "duration": 3,
    "start_time": "2024-11-30T16:27:46.003Z"
   },
   {
    "duration": 104,
    "start_time": "2024-11-30T16:27:46.007Z"
   },
   {
    "duration": 3,
    "start_time": "2024-11-30T16:27:46.113Z"
   },
   {
    "duration": 6,
    "start_time": "2024-11-30T16:27:46.118Z"
   },
   {
    "duration": 4,
    "start_time": "2024-11-30T16:27:46.125Z"
   },
   {
    "duration": 19,
    "start_time": "2024-11-30T16:27:46.131Z"
   },
   {
    "duration": 69,
    "start_time": "2024-11-30T16:27:46.151Z"
   },
   {
    "duration": 64,
    "start_time": "2024-11-30T16:27:46.221Z"
   },
   {
    "duration": 13,
    "start_time": "2024-11-30T16:27:46.286Z"
   },
   {
    "duration": 2,
    "start_time": "2024-11-30T16:27:46.300Z"
   },
   {
    "duration": 13,
    "start_time": "2024-11-30T16:27:46.304Z"
   },
   {
    "duration": 13,
    "start_time": "2024-11-30T16:27:46.318Z"
   },
   {
    "duration": 16,
    "start_time": "2024-11-30T16:27:46.333Z"
   },
   {
    "duration": 8,
    "start_time": "2024-11-30T16:27:46.350Z"
   },
   {
    "duration": 22,
    "start_time": "2024-11-30T16:27:46.359Z"
   },
   {
    "duration": 9,
    "start_time": "2024-11-30T16:27:46.383Z"
   },
   {
    "duration": 7,
    "start_time": "2024-11-30T16:27:46.394Z"
   },
   {
    "duration": 432,
    "start_time": "2024-11-30T19:40:21.470Z"
   },
   {
    "duration": 3,
    "start_time": "2024-11-30T19:40:21.904Z"
   },
   {
    "duration": 133,
    "start_time": "2024-11-30T19:40:21.909Z"
   },
   {
    "duration": 26,
    "start_time": "2024-11-30T19:40:22.044Z"
   },
   {
    "duration": 18,
    "start_time": "2024-11-30T19:40:22.072Z"
   },
   {
    "duration": 5,
    "start_time": "2024-11-30T19:40:22.091Z"
   },
   {
    "duration": 26,
    "start_time": "2024-11-30T19:40:22.097Z"
   },
   {
    "duration": 10,
    "start_time": "2024-11-30T19:40:22.124Z"
   },
   {
    "duration": 18,
    "start_time": "2024-11-30T19:40:22.136Z"
   },
   {
    "duration": 19,
    "start_time": "2024-11-30T19:40:22.156Z"
   },
   {
    "duration": 5,
    "start_time": "2024-11-30T19:40:22.177Z"
   },
   {
    "duration": 19,
    "start_time": "2024-11-30T19:40:22.184Z"
   },
   {
    "duration": 25,
    "start_time": "2024-11-30T19:40:22.205Z"
   },
   {
    "duration": 11,
    "start_time": "2024-11-30T19:40:22.233Z"
   },
   {
    "duration": 21,
    "start_time": "2024-11-30T19:40:22.245Z"
   },
   {
    "duration": 11,
    "start_time": "2024-11-30T19:40:22.268Z"
   },
   {
    "duration": 16,
    "start_time": "2024-11-30T19:40:22.280Z"
   },
   {
    "duration": 33,
    "start_time": "2024-11-30T19:40:22.297Z"
   },
   {
    "duration": 4,
    "start_time": "2024-11-30T19:40:22.331Z"
   },
   {
    "duration": 239,
    "start_time": "2024-11-30T19:40:22.337Z"
   },
   {
    "duration": 7,
    "start_time": "2024-11-30T19:40:22.578Z"
   },
   {
    "duration": 17,
    "start_time": "2024-11-30T19:40:22.587Z"
   },
   {
    "duration": 40,
    "start_time": "2024-11-30T19:40:22.606Z"
   },
   {
    "duration": 19,
    "start_time": "2024-11-30T19:40:22.648Z"
   },
   {
    "duration": 19,
    "start_time": "2024-11-30T19:40:22.669Z"
   },
   {
    "duration": 24,
    "start_time": "2024-11-30T19:40:22.690Z"
   },
   {
    "duration": 7,
    "start_time": "2024-11-30T19:40:22.715Z"
   },
   {
    "duration": 23,
    "start_time": "2024-11-30T19:40:22.723Z"
   },
   {
    "duration": 22,
    "start_time": "2024-11-30T19:40:22.748Z"
   },
   {
    "duration": 50,
    "start_time": "2024-11-30T19:40:22.772Z"
   },
   {
    "duration": 3,
    "start_time": "2024-11-30T19:40:22.824Z"
   },
   {
    "duration": 7,
    "start_time": "2024-11-30T19:40:22.829Z"
   },
   {
    "duration": 7,
    "start_time": "2024-11-30T19:40:22.838Z"
   },
   {
    "duration": 34,
    "start_time": "2024-11-30T19:40:22.847Z"
   },
   {
    "duration": 19,
    "start_time": "2024-11-30T19:40:22.883Z"
   },
   {
    "duration": 18,
    "start_time": "2024-11-30T19:40:22.904Z"
   },
   {
    "duration": 10,
    "start_time": "2024-11-30T19:40:22.924Z"
   },
   {
    "duration": 6,
    "start_time": "2024-11-30T19:40:22.936Z"
   },
   {
    "duration": 14,
    "start_time": "2024-11-30T19:40:22.944Z"
   },
   {
    "duration": 6,
    "start_time": "2024-11-30T19:40:22.960Z"
   },
   {
    "duration": 8,
    "start_time": "2024-11-30T19:40:22.972Z"
   },
   {
    "duration": 48,
    "start_time": "2024-11-30T19:40:22.982Z"
   },
   {
    "duration": 23,
    "start_time": "2024-11-30T19:40:23.032Z"
   },
   {
    "duration": 30,
    "start_time": "2024-11-30T19:40:23.058Z"
   },
   {
    "duration": 36,
    "start_time": "2024-11-30T19:40:23.090Z"
   },
   {
    "duration": 7,
    "start_time": "2024-11-30T19:40:23.128Z"
   },
   {
    "duration": 6,
    "start_time": "2024-11-30T19:40:23.137Z"
   },
   {
    "duration": 6,
    "start_time": "2024-11-30T19:40:23.145Z"
   },
   {
    "duration": 6,
    "start_time": "2024-11-30T19:40:23.153Z"
   },
   {
    "duration": 90,
    "start_time": "2024-11-30T19:40:23.160Z"
   },
   {
    "duration": 10,
    "start_time": "2024-11-30T19:40:23.251Z"
   },
   {
    "duration": 21,
    "start_time": "2024-11-30T19:40:23.263Z"
   },
   {
    "duration": 4,
    "start_time": "2024-11-30T19:40:23.287Z"
   },
   {
    "duration": 119,
    "start_time": "2024-11-30T19:40:23.293Z"
   },
   {
    "duration": 4,
    "start_time": "2024-11-30T19:40:23.414Z"
   },
   {
    "duration": 8,
    "start_time": "2024-11-30T19:40:23.420Z"
   },
   {
    "duration": 5,
    "start_time": "2024-11-30T19:40:23.429Z"
   },
   {
    "duration": 25,
    "start_time": "2024-11-30T19:40:23.436Z"
   },
   {
    "duration": 22,
    "start_time": "2024-11-30T19:40:23.463Z"
   },
   {
    "duration": 35,
    "start_time": "2024-11-30T19:40:23.487Z"
   },
   {
    "duration": 10,
    "start_time": "2024-11-30T19:40:23.524Z"
   },
   {
    "duration": 3,
    "start_time": "2024-11-30T19:40:23.536Z"
   },
   {
    "duration": 12,
    "start_time": "2024-11-30T19:40:23.541Z"
   },
   {
    "duration": 15,
    "start_time": "2024-11-30T19:40:23.555Z"
   },
   {
    "duration": 53,
    "start_time": "2024-11-30T19:40:23.572Z"
   },
   {
    "duration": 11,
    "start_time": "2024-11-30T19:40:23.627Z"
   },
   {
    "duration": 22,
    "start_time": "2024-11-30T19:40:23.641Z"
   },
   {
    "duration": 9,
    "start_time": "2024-11-30T19:40:23.665Z"
   },
   {
    "duration": 8,
    "start_time": "2024-11-30T19:40:23.676Z"
   },
   {
    "duration": 395,
    "start_time": "2024-12-01T11:12:43.732Z"
   },
   {
    "duration": 3,
    "start_time": "2024-12-01T11:12:44.129Z"
   },
   {
    "duration": 107,
    "start_time": "2024-12-01T11:12:44.133Z"
   },
   {
    "duration": 20,
    "start_time": "2024-12-01T11:12:44.241Z"
   },
   {
    "duration": 73,
    "start_time": "2024-12-01T11:12:44.263Z"
   },
   {
    "duration": 4,
    "start_time": "2024-12-01T11:12:44.338Z"
   },
   {
    "duration": 4,
    "start_time": "2024-12-01T11:12:44.343Z"
   },
   {
    "duration": 2,
    "start_time": "2024-12-01T11:12:44.349Z"
   },
   {
    "duration": 10,
    "start_time": "2024-12-01T11:12:44.353Z"
   },
   {
    "duration": 5,
    "start_time": "2024-12-01T11:12:44.364Z"
   },
   {
    "duration": 4,
    "start_time": "2024-12-01T11:12:44.371Z"
   },
   {
    "duration": 79,
    "start_time": "2024-12-01T11:12:44.377Z"
   },
   {
    "duration": 12,
    "start_time": "2024-12-01T11:12:44.457Z"
   },
   {
    "duration": 18,
    "start_time": "2024-12-01T11:12:44.471Z"
   },
   {
    "duration": 11,
    "start_time": "2024-12-01T11:12:44.491Z"
   },
   {
    "duration": 9,
    "start_time": "2024-12-01T11:12:44.503Z"
   },
   {
    "duration": 13,
    "start_time": "2024-12-01T11:12:44.513Z"
   },
   {
    "duration": 12,
    "start_time": "2024-12-01T11:12:44.527Z"
   },
   {
    "duration": 2,
    "start_time": "2024-12-01T11:12:44.540Z"
   },
   {
    "duration": 154,
    "start_time": "2024-12-01T11:12:44.543Z"
   },
   {
    "duration": 6,
    "start_time": "2024-12-01T11:12:44.698Z"
   },
   {
    "duration": 31,
    "start_time": "2024-12-01T11:12:44.705Z"
   },
   {
    "duration": 5,
    "start_time": "2024-12-01T11:12:44.737Z"
   },
   {
    "duration": 10,
    "start_time": "2024-12-01T11:12:44.744Z"
   },
   {
    "duration": 5,
    "start_time": "2024-12-01T11:12:44.755Z"
   },
   {
    "duration": 20,
    "start_time": "2024-12-01T11:12:44.762Z"
   },
   {
    "duration": 5,
    "start_time": "2024-12-01T11:12:44.783Z"
   },
   {
    "duration": 28,
    "start_time": "2024-12-01T11:12:44.789Z"
   },
   {
    "duration": 16,
    "start_time": "2024-12-01T11:12:44.818Z"
   },
   {
    "duration": 19,
    "start_time": "2024-12-01T11:12:44.835Z"
   },
   {
    "duration": 2,
    "start_time": "2024-12-01T11:12:44.855Z"
   },
   {
    "duration": 2,
    "start_time": "2024-12-01T11:12:44.871Z"
   },
   {
    "duration": 12,
    "start_time": "2024-12-01T11:12:44.874Z"
   },
   {
    "duration": 6,
    "start_time": "2024-12-01T11:12:44.887Z"
   },
   {
    "duration": 13,
    "start_time": "2024-12-01T11:12:44.894Z"
   },
   {
    "duration": 10,
    "start_time": "2024-12-01T11:12:44.908Z"
   },
   {
    "duration": 4,
    "start_time": "2024-12-01T11:12:44.920Z"
   },
   {
    "duration": 4,
    "start_time": "2024-12-01T11:12:44.925Z"
   },
   {
    "duration": 4,
    "start_time": "2024-12-01T11:12:44.930Z"
   },
   {
    "duration": 4,
    "start_time": "2024-12-01T11:12:44.935Z"
   },
   {
    "duration": 5,
    "start_time": "2024-12-01T11:12:44.972Z"
   },
   {
    "duration": 81,
    "start_time": "2024-12-01T11:12:44.979Z"
   },
   {
    "duration": 36,
    "start_time": "2024-12-01T11:12:45.061Z"
   },
   {
    "duration": 29,
    "start_time": "2024-12-01T11:12:45.098Z"
   },
   {
    "duration": 26,
    "start_time": "2024-12-01T11:12:45.128Z"
   },
   {
    "duration": 13,
    "start_time": "2024-12-01T11:12:45.155Z"
   },
   {
    "duration": 27,
    "start_time": "2024-12-01T11:12:45.169Z"
   },
   {
    "duration": 19,
    "start_time": "2024-12-01T11:12:45.197Z"
   },
   {
    "duration": 15,
    "start_time": "2024-12-01T11:12:45.218Z"
   },
   {
    "duration": 80,
    "start_time": "2024-12-01T11:12:45.234Z"
   },
   {
    "duration": 58,
    "start_time": "2024-12-01T11:12:45.316Z"
   },
   {
    "duration": 20,
    "start_time": "2024-12-01T11:12:45.376Z"
   },
   {
    "duration": 7,
    "start_time": "2024-12-01T11:12:45.397Z"
   },
   {
    "duration": 101,
    "start_time": "2024-12-01T11:12:45.405Z"
   },
   {
    "duration": 3,
    "start_time": "2024-12-01T11:12:45.507Z"
   },
   {
    "duration": 5,
    "start_time": "2024-12-01T11:12:45.511Z"
   },
   {
    "duration": 3,
    "start_time": "2024-12-01T11:12:45.517Z"
   },
   {
    "duration": 33,
    "start_time": "2024-12-01T11:12:45.521Z"
   },
   {
    "duration": 20,
    "start_time": "2024-12-01T11:12:45.556Z"
   },
   {
    "duration": 2,
    "start_time": "2024-12-01T11:12:45.577Z"
   },
   {
    "duration": 8,
    "start_time": "2024-12-01T11:12:45.581Z"
   },
   {
    "duration": 2,
    "start_time": "2024-12-01T11:12:45.590Z"
   },
   {
    "duration": 67,
    "start_time": "2024-12-01T11:12:45.594Z"
   },
   {
    "duration": 34,
    "start_time": "2024-12-01T11:12:45.662Z"
   },
   {
    "duration": 16,
    "start_time": "2024-12-01T11:12:45.698Z"
   },
   {
    "duration": 7,
    "start_time": "2024-12-01T11:12:45.716Z"
   },
   {
    "duration": 9,
    "start_time": "2024-12-01T11:12:45.725Z"
   },
   {
    "duration": 6,
    "start_time": "2024-12-01T11:12:45.735Z"
   },
   {
    "duration": 6,
    "start_time": "2024-12-01T11:12:45.742Z"
   },
   {
    "duration": 348,
    "start_time": "2024-12-01T19:43:47.098Z"
   },
   {
    "duration": 2,
    "start_time": "2024-12-01T19:43:47.448Z"
   },
   {
    "duration": 130,
    "start_time": "2024-12-01T19:43:47.457Z"
   },
   {
    "duration": 18,
    "start_time": "2024-12-01T19:43:47.588Z"
   },
   {
    "duration": 12,
    "start_time": "2024-12-01T19:43:47.608Z"
   },
   {
    "duration": 9,
    "start_time": "2024-12-01T19:43:47.622Z"
   },
   {
    "duration": 4,
    "start_time": "2024-12-01T19:43:47.632Z"
   },
   {
    "duration": 4,
    "start_time": "2024-12-01T19:43:47.637Z"
   },
   {
    "duration": 10,
    "start_time": "2024-12-01T19:43:47.657Z"
   },
   {
    "duration": 5,
    "start_time": "2024-12-01T19:43:47.668Z"
   },
   {
    "duration": 6,
    "start_time": "2024-12-01T19:43:47.674Z"
   },
   {
    "duration": 14,
    "start_time": "2024-12-01T19:43:47.681Z"
   },
   {
    "duration": 11,
    "start_time": "2024-12-01T19:43:47.696Z"
   },
   {
    "duration": 17,
    "start_time": "2024-12-01T19:43:47.710Z"
   },
   {
    "duration": 6,
    "start_time": "2024-12-01T19:43:47.728Z"
   },
   {
    "duration": 22,
    "start_time": "2024-12-01T19:43:47.736Z"
   },
   {
    "duration": 11,
    "start_time": "2024-12-01T19:43:47.759Z"
   },
   {
    "duration": 18,
    "start_time": "2024-12-01T19:43:47.771Z"
   },
   {
    "duration": 4,
    "start_time": "2024-12-01T19:43:47.790Z"
   },
   {
    "duration": 175,
    "start_time": "2024-12-01T19:43:47.795Z"
   },
   {
    "duration": 5,
    "start_time": "2024-12-01T19:43:47.971Z"
   },
   {
    "duration": 9,
    "start_time": "2024-12-01T19:43:47.978Z"
   },
   {
    "duration": 85,
    "start_time": "2024-12-01T19:43:47.988Z"
   },
   {
    "duration": 10,
    "start_time": "2024-12-01T19:43:48.075Z"
   },
   {
    "duration": 15,
    "start_time": "2024-12-01T19:43:48.086Z"
   },
   {
    "duration": 19,
    "start_time": "2024-12-01T19:43:48.102Z"
   },
   {
    "duration": 4,
    "start_time": "2024-12-01T19:43:48.123Z"
   },
   {
    "duration": 21,
    "start_time": "2024-12-01T19:43:48.128Z"
   },
   {
    "duration": 16,
    "start_time": "2024-12-01T19:43:48.150Z"
   },
   {
    "duration": 16,
    "start_time": "2024-12-01T19:43:48.168Z"
   },
   {
    "duration": 13,
    "start_time": "2024-12-01T19:43:48.186Z"
   },
   {
    "duration": 12,
    "start_time": "2024-12-01T19:43:48.200Z"
   },
   {
    "duration": 17,
    "start_time": "2024-12-01T19:43:48.213Z"
   },
   {
    "duration": 9,
    "start_time": "2024-12-01T19:43:48.231Z"
   },
   {
    "duration": 19,
    "start_time": "2024-12-01T19:43:48.241Z"
   },
   {
    "duration": 12,
    "start_time": "2024-12-01T19:43:48.262Z"
   },
   {
    "duration": 8,
    "start_time": "2024-12-01T19:43:48.276Z"
   },
   {
    "duration": 16,
    "start_time": "2024-12-01T19:43:48.286Z"
   },
   {
    "duration": 14,
    "start_time": "2024-12-01T19:43:48.304Z"
   },
   {
    "duration": 13,
    "start_time": "2024-12-01T19:43:48.319Z"
   },
   {
    "duration": 14,
    "start_time": "2024-12-01T19:43:48.335Z"
   },
   {
    "duration": 16,
    "start_time": "2024-12-01T19:43:48.350Z"
   },
   {
    "duration": 17,
    "start_time": "2024-12-01T19:43:48.367Z"
   },
   {
    "duration": 23,
    "start_time": "2024-12-01T19:43:48.385Z"
   },
   {
    "duration": 26,
    "start_time": "2024-12-01T19:43:48.410Z"
   },
   {
    "duration": 8,
    "start_time": "2024-12-01T19:43:48.438Z"
   },
   {
    "duration": 9,
    "start_time": "2024-12-01T19:43:48.447Z"
   },
   {
    "duration": 4,
    "start_time": "2024-12-01T19:43:48.457Z"
   },
   {
    "duration": 4,
    "start_time": "2024-12-01T19:43:48.463Z"
   },
   {
    "duration": 49,
    "start_time": "2024-12-01T19:43:48.469Z"
   },
   {
    "duration": 10,
    "start_time": "2024-12-01T19:43:48.519Z"
   },
   {
    "duration": 36,
    "start_time": "2024-12-01T19:43:48.530Z"
   },
   {
    "duration": 4,
    "start_time": "2024-12-01T19:43:48.567Z"
   },
   {
    "duration": 110,
    "start_time": "2024-12-01T19:43:48.572Z"
   },
   {
    "duration": 3,
    "start_time": "2024-12-01T19:43:48.683Z"
   },
   {
    "duration": 8,
    "start_time": "2024-12-01T19:43:48.688Z"
   },
   {
    "duration": 12,
    "start_time": "2024-12-01T19:43:48.698Z"
   },
   {
    "duration": 29,
    "start_time": "2024-12-01T19:43:48.711Z"
   },
   {
    "duration": 15,
    "start_time": "2024-12-01T19:43:48.741Z"
   },
   {
    "duration": 4,
    "start_time": "2024-12-01T19:43:48.757Z"
   },
   {
    "duration": 11,
    "start_time": "2024-12-01T19:43:48.762Z"
   },
   {
    "duration": 2,
    "start_time": "2024-12-01T19:43:48.774Z"
   },
   {
    "duration": 20,
    "start_time": "2024-12-01T19:43:48.777Z"
   },
   {
    "duration": 26,
    "start_time": "2024-12-01T19:43:48.798Z"
   },
   {
    "duration": 14,
    "start_time": "2024-12-01T19:43:48.826Z"
   },
   {
    "duration": 8,
    "start_time": "2024-12-01T19:43:48.841Z"
   },
   {
    "duration": 19,
    "start_time": "2024-12-01T19:43:48.850Z"
   },
   {
    "duration": 17,
    "start_time": "2024-12-01T19:43:48.871Z"
   },
   {
    "duration": 22,
    "start_time": "2024-12-01T19:43:48.889Z"
   }
  ],
  "kernelspec": {
   "display_name": "Python 3 (ipykernel)",
   "language": "python",
   "name": "python3"
  },
  "language_info": {
   "codemirror_mode": {
    "name": "ipython",
    "version": 3
   },
   "file_extension": ".py",
   "mimetype": "text/x-python",
   "name": "python",
   "nbconvert_exporter": "python",
   "pygments_lexer": "ipython3",
   "version": "3.9.5"
  },
  "toc": {
   "base_numbering": 1,
   "nav_menu": {},
   "number_sections": true,
   "sideBar": true,
   "skip_h1_title": true,
   "title_cell": "Table of Contents",
   "title_sidebar": "Contents",
   "toc_cell": false,
   "toc_position": {
    "height": "calc(100% - 180px)",
    "left": "10px",
    "top": "150px",
    "width": "374.391px"
   },
   "toc_section_display": true,
   "toc_window_display": false
  }
 },
 "nbformat": 4,
 "nbformat_minor": 5
}
