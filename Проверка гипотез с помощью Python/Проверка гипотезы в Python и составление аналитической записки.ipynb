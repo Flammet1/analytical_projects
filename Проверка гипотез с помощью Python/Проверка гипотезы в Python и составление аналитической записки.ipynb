{
 "cells": [
  {
   "cell_type": "markdown",
   "id": "_E41Wr5fqnFT",
   "metadata": {
    "id": "_E41Wr5fqnFT"
   },
   "source": [
    "# Часть 1. Проверка гипотезы в Python и составление аналитической записки"
   ]
  },
  {
   "cell_type": "markdown",
   "id": "Z5_6nf-FrY7o",
   "metadata": {
    "id": "Z5_6nf-FrY7o"
   },
   "source": [
    "Вы предобработали данные в SQL, и теперь они готовы для проверки гипотезы в Python. Загрузите данные пользователей из Москвы и Санкт-Петербурга c суммой часов их активности из файла yandex_knigi_data.csv. Если работаете локально, скачать файл можно по ссылке.\n",
    "\n",
    "Проверьте наличие дубликатов в идентификаторах пользователей. Сравните размеры групп, их статистики и распределение.\n",
    "\n",
    "Напомним, как выглядит гипотеза: пользователи из Москвы проводят в среднем больше времени за чтением и прослушиванием книг в приложении, чем пользователи из Москвы. Попробуйте статистически это доказать, используя одностороннюю проверку гипотезы с двумя выборками:\n",
    "\n",
    "Нулевая гипотеза $H_0: \\mu_{\\text{СПб}} \\leq \\mu_{\\text{Москва}}$ <br> Среднее время активности пользователей в Санкт-Петербурге не больше, чем в Москве.\n",
    "\n",
    "Альтернативная гипотеза $H_1: \\mu_{\\text{СПб}} > \\mu_{\\text{Москва}}$ <br> Среднее время активности пользователей в Санкт-Петербурге больше, и это различие статистически значимо.\n",
    "\n",
    "По результатам анализа данных подготовьте аналитическую записку, в которой опишите:\n",
    "\n",
    "Выбранный тип t-теста и уровень статистической значимости.\n",
    "\n",
    "Результат теста, или p-value.\n",
    "\n",
    "Вывод на основе полученного p-value, то есть интерпретацию результатов.\n",
    "\n",
    "Одну или две возможные причины, объясняющие полученные результаты."
   ]
  },
  {
   "cell_type": "markdown",
   "id": "e06910dd",
   "metadata": {
    "id": "e06910dd"
   },
   "source": [
    "## Напишите заголовок первой части проекта здесь\n",
    "\n",
    "- Автор: Григорьев Константин\n",
    "- Дата: 18.04.2025"
   ]
  },
  {
   "cell_type": "markdown",
   "id": "4149134c",
   "metadata": {
    "id": "4149134c"
   },
   "source": [
    "## Цели и задачи проекта\n",
    "\n",
    "<font color='#777778'>В этом блоке перечислите цель проекта и те задачи, которые вы решаете. Можно использовать описания проекта, но будет полезно, если вы сформулируете основную цель проекта самостоятельно.</font>\n",
    "\n",
    "Этот проект состоит из нескольких частей. \n",
    "\n",
    "Сначала вы поработаете с данными сервиса Яндекс Книги, рассчитаете несколько метрик и проверите гипотезу. Затем, уже на других данных, вы будете анализировать результаты A/B-тестирования.\n",
    "\n",
    "В этом и следующих трёх уроках вы будете работать с данными о чтении и прослушивании контента в сервисе Яндекс Книги. Вам предстоит рассчитать несколько метрик с помощью SQL и интерпретировать полученные результаты. Затем вы проверите гипотезу с помощью Python и составите аналитическую записку.\n"
   ]
  },
  {
   "cell_type": "markdown",
   "id": "728986ea",
   "metadata": {
    "id": "728986ea"
   },
   "source": [
    "## Описание данных\n",
    "\n",
    "<font color='#777778'>Здесь приведите описание данных.</font>\n",
    "\n",
    "- Таблица `bookmate.audition` содержит данные об активности пользователей и состоит из следующих полей:\n",
    " - `audition_id` — уникальный идентификатор сессии чтения или прослушивания;\n",
    " - `puid` — идентификатор пользователя;\n",
    " - `usage_platform_ru` — название платформы, с помощью которой пользователь слушал контент;\n",
    " - `msk_business_dt_str` — дата события в формате строки (московское время);\n",
    " - `app_version` — версия приложения, которая использовалась для чтения или прослушивания;\n",
    " - `adult_content_flg` — был ли это контент для взрослых: True или False;\n",
    " - `hours` — длительность чтения или прослушивания в часах;\n",
    " - `hours_sessions_long` — продолжительность длинных сессий чтения или прослушивания в часах;\n",
    " - `kids_content_flg` — был ли это детский контент: True или False;\n",
    " - `main_content_id` — идентификатор основного контента;\n",
    " - `usage_geo_id` — идентификатор географического местоположения.\n",
    "- Таблица `bookmate.content` содержит данные о контенте и состоит из следующих полей:\n",
    " - `main_content_id` — идентификатор основного контента;\n",
    " - `main_author_id` — идентификатор основного автора контента;\n",
    " - `main_content_type` — тип контента;\n",
    " - `main_content_name` — название контента;\n",
    " - `main_content_duration_hours` — длительность контента в часах;\n",
    " - `published_topic_title_list` — список жанров контента.\n",
    "- Таблица `bookmate.author` содержит данные об авторах контента и состоит из следующих полей:\n",
    " - `main_author_id` — идентификатор основного автора контента;\n",
    " - `main_author_name` — имя основного автора контента.\n",
    "- Таблица `bookmate.geo` содержит данные о местоположении и состоит из следующих полей:\n",
    " - `usage_geo_id` — идентификатор географического положения;\n",
    " - `usage_geo_id_name` — город или регион географического положения;\n",
    " - `usage_country_name` — страна географического положения."
   ]
  },
  {
   "cell_type": "markdown",
   "id": "4fecaf95",
   "metadata": {
    "id": "4fecaf95"
   },
   "source": [
    "## Содержимое проекта\n",
    "\n",
    "<font color='#777778'>Перечислите основные шаги проекта или напишите оглавление. Используйте описание проекта, чтобы зафиксировать основные шаги.</font>\n",
    "\n",
    "---\n",
    "  - Часть 1. Проверка гипотезы в Python и составление аналитической записки\n",
    "1. Загрузка данных и знакомство с ними\n",
    "2. Проверка гипотезы в Python\n",
    "3. Аналитическая записка\n",
    "  - Часть 2. Анализ результатов A/B-тестирования\n",
    "1. Опишите цели исследования.\n",
    "2. Загрузите данные, оцените их целостность.\n",
    "3. По таблице ab_test_participants оцените корректность проведения теста\n",
    "4. Проведите оценку результатов A/B-тестирования:"
   ]
  },
  {
   "cell_type": "markdown",
   "id": "6f7d21d6",
   "metadata": {
    "id": "6f7d21d6"
   },
   "source": [
    "## 1. Загрузка данных и знакомство с ними\n",
    "\n",
    "Загрузите данные пользователей из Москвы и Санкт-Петербурга c их активностью (суммой часов чтения и прослушивания) из файла `/datasets/yandex_knigi_data.csv`."
   ]
  },
  {
   "cell_type": "code",
   "execution_count": 1,
   "id": "05faf34b",
   "metadata": {
    "id": "05faf34b"
   },
   "outputs": [],
   "source": [
    "# Пустые ячейки после каждого задания — примерное пространство для работы.\n",
    "# Вы можете свободно добавлять или удалять ячейки по своему усмотрению в зависимости от логики и объёма работы."
   ]
  },
  {
   "cell_type": "code",
   "execution_count": 2,
   "id": "ce87c1db",
   "metadata": {
    "id": "ce87c1db"
   },
   "outputs": [],
   "source": [
    "# Используйте ячейки типа Code для вашего кода"
   ]
  },
  {
   "cell_type": "code",
   "execution_count": 3,
   "id": "f68a7419",
   "metadata": {
    "id": "f68a7419"
   },
   "outputs": [],
   "source": [
    "#Импортируем библиотеки\n",
    "# Загрузим необходимые библиотеки\n",
    "import pandas as pd\n",
    "import matplotlib.pyplot as plt\n",
    "import numpy as np\n",
    "import seaborn as sns\n",
    "from scipy import stats as st\n",
    "from statsmodels.stats.proportion import proportions_ztest\n"
   ]
  },
  {
   "cell_type": "code",
   "execution_count": 4,
   "id": "d8e314a0",
   "metadata": {},
   "outputs": [],
   "source": [
    "#Читаем файл и выбираем только нужные колонки\n",
    "df = pd.read_csv('https://code.s3.yandex.net/datasets/yandex_knigi_data.csv', \n",
    "                 usecols=['puid', 'city', 'hours'])"
   ]
  },
  {
   "cell_type": "code",
   "execution_count": 5,
   "id": "af999bac",
   "metadata": {},
   "outputs": [
    {
     "data": {
      "text/html": [
       "<div>\n",
       "<style scoped>\n",
       "    .dataframe tbody tr th:only-of-type {\n",
       "        vertical-align: middle;\n",
       "    }\n",
       "\n",
       "    .dataframe tbody tr th {\n",
       "        vertical-align: top;\n",
       "    }\n",
       "\n",
       "    .dataframe thead th {\n",
       "        text-align: right;\n",
       "    }\n",
       "</style>\n",
       "<table border=\"1\" class=\"dataframe\">\n",
       "  <thead>\n",
       "    <tr style=\"text-align: right;\">\n",
       "      <th></th>\n",
       "      <th>city</th>\n",
       "      <th>puid</th>\n",
       "      <th>hours</th>\n",
       "    </tr>\n",
       "  </thead>\n",
       "  <tbody>\n",
       "    <tr>\n",
       "      <th>0</th>\n",
       "      <td>Москва</td>\n",
       "      <td>9668</td>\n",
       "      <td>26.167776</td>\n",
       "    </tr>\n",
       "    <tr>\n",
       "      <th>1</th>\n",
       "      <td>Москва</td>\n",
       "      <td>16598</td>\n",
       "      <td>82.111217</td>\n",
       "    </tr>\n",
       "    <tr>\n",
       "      <th>2</th>\n",
       "      <td>Москва</td>\n",
       "      <td>80401</td>\n",
       "      <td>4.656906</td>\n",
       "    </tr>\n",
       "    <tr>\n",
       "      <th>3</th>\n",
       "      <td>Москва</td>\n",
       "      <td>140205</td>\n",
       "      <td>1.840556</td>\n",
       "    </tr>\n",
       "    <tr>\n",
       "      <th>4</th>\n",
       "      <td>Москва</td>\n",
       "      <td>248755</td>\n",
       "      <td>151.326434</td>\n",
       "    </tr>\n",
       "  </tbody>\n",
       "</table>\n",
       "</div>"
      ],
      "text/plain": [
       "     city    puid       hours\n",
       "0  Москва    9668   26.167776\n",
       "1  Москва   16598   82.111217\n",
       "2  Москва   80401    4.656906\n",
       "3  Москва  140205    1.840556\n",
       "4  Москва  248755  151.326434"
      ]
     },
     "execution_count": 5,
     "metadata": {},
     "output_type": "execute_result"
    }
   ],
   "source": [
    "df.head()"
   ]
  },
  {
   "cell_type": "code",
   "execution_count": 6,
   "id": "12abeb26",
   "metadata": {},
   "outputs": [
    {
     "data": {
      "text/plain": [
       "8784"
      ]
     },
     "execution_count": 6,
     "metadata": {},
     "output_type": "execute_result"
    }
   ],
   "source": [
    "df.shape[0]"
   ]
  },
  {
   "cell_type": "code",
   "execution_count": 7,
   "id": "2e46bf88",
   "metadata": {},
   "outputs": [
    {
     "name": "stdout",
     "output_type": "stream",
     "text": [
      "<class 'pandas.core.frame.DataFrame'>\n",
      "RangeIndex: 8784 entries, 0 to 8783\n",
      "Data columns (total 3 columns):\n",
      " #   Column  Non-Null Count  Dtype  \n",
      "---  ------  --------------  -----  \n",
      " 0   city    8784 non-null   object \n",
      " 1   puid    8784 non-null   int64  \n",
      " 2   hours   8784 non-null   float64\n",
      "dtypes: float64(1), int64(1), object(1)\n",
      "memory usage: 206.0+ KB\n"
     ]
    }
   ],
   "source": [
    "df.info()"
   ]
  },
  {
   "cell_type": "markdown",
   "id": "1d77d7cd",
   "metadata": {},
   "source": [
    "Датасет содержит 8784 строк и 3 столбца. Столбцы имеют корректный тип данных."
   ]
  },
  {
   "cell_type": "markdown",
   "id": "956e82e2",
   "metadata": {
    "id": "956e82e2"
   },
   "source": [
    "## 2. Проверка гипотезы в Python\n",
    "\n",
    "Гипотеза звучит так: пользователи из Санкт-Петербурга проводят в среднем больше времени за чтением и прослушиванием книг в приложении, чем пользователи из Москвы. Попробуйте статистически это доказать, используя одностороннюю проверку гипотезы с двумя выборками:\n",
    "\n",
    "- Нулевая гипотеза H₀: Средняя активность пользователей в часах в двух группах (Москва и Санкт-Петербург) не различается.\n",
    "\n",
    "- Альтернативная гипотеза H₁: Средняя активность пользователей в Санкт-Петербурге больше, и это различие статистически значимо."
   ]
  },
  {
   "cell_type": "code",
   "execution_count": 8,
   "id": "f9198196",
   "metadata": {},
   "outputs": [
    {
     "name": "stdout",
     "output_type": "stream",
     "text": [
      "Количество дубликатов: 244\n",
      "Статистика по городам:\n"
     ]
    },
    {
     "data": {
      "text/html": [
       "<div>\n",
       "<style scoped>\n",
       "    .dataframe tbody tr th:only-of-type {\n",
       "        vertical-align: middle;\n",
       "    }\n",
       "\n",
       "    .dataframe tbody tr th {\n",
       "        vertical-align: top;\n",
       "    }\n",
       "\n",
       "    .dataframe thead th {\n",
       "        text-align: right;\n",
       "    }\n",
       "</style>\n",
       "<table border=\"1\" class=\"dataframe\">\n",
       "  <thead>\n",
       "    <tr style=\"text-align: right;\">\n",
       "      <th></th>\n",
       "      <th>count</th>\n",
       "      <th>mean</th>\n",
       "      <th>std</th>\n",
       "      <th>min</th>\n",
       "      <th>25%</th>\n",
       "      <th>50%</th>\n",
       "      <th>75%</th>\n",
       "      <th>max</th>\n",
       "    </tr>\n",
       "    <tr>\n",
       "      <th>city</th>\n",
       "      <th></th>\n",
       "      <th></th>\n",
       "      <th></th>\n",
       "      <th></th>\n",
       "      <th></th>\n",
       "      <th></th>\n",
       "      <th></th>\n",
       "      <th></th>\n",
       "    </tr>\n",
       "  </thead>\n",
       "  <tbody>\n",
       "    <tr>\n",
       "      <th>Москва</th>\n",
       "      <td>6234.0</td>\n",
       "      <td>10.881092</td>\n",
       "      <td>36.851683</td>\n",
       "      <td>0.000018</td>\n",
       "      <td>0.059903</td>\n",
       "      <td>0.924498</td>\n",
       "      <td>5.939972</td>\n",
       "      <td>857.209373</td>\n",
       "    </tr>\n",
       "    <tr>\n",
       "      <th>Санкт-Петербург</th>\n",
       "      <td>2550.0</td>\n",
       "      <td>11.592691</td>\n",
       "      <td>39.704993</td>\n",
       "      <td>0.000025</td>\n",
       "      <td>0.080002</td>\n",
       "      <td>0.984781</td>\n",
       "      <td>6.509072</td>\n",
       "      <td>978.764775</td>\n",
       "    </tr>\n",
       "  </tbody>\n",
       "</table>\n",
       "</div>"
      ],
      "text/plain": [
       "                  count       mean        std       min       25%       50%  \\\n",
       "city                                                                          \n",
       "Москва           6234.0  10.881092  36.851683  0.000018  0.059903  0.924498   \n",
       "Санкт-Петербург  2550.0  11.592691  39.704993  0.000025  0.080002  0.984781   \n",
       "\n",
       "                      75%         max  \n",
       "city                                   \n",
       "Москва           5.939972  857.209373  \n",
       "Санкт-Петербург  6.509072  978.764775  "
      ]
     },
     "metadata": {},
     "output_type": "display_data"
    }
   ],
   "source": [
    "# Проверка на дубликаты\n",
    "duplicate_counts = df['puid'].duplicated().sum()\n",
    "\n",
    "# Статистика по городам\n",
    "city_stats = df.groupby('city')['hours'].describe()\n",
    "\n",
    "print('Количество дубликатов:', duplicate_counts)\n",
    "print('Статистика по городам:')\n",
    "display(city_stats)\n"
   ]
  },
  {
   "cell_type": "markdown",
   "id": "de8f42b4",
   "metadata": {},
   "source": [
    "В датасете содержится 244 дублирующих строки по уникальному индентификатору пользователя."
   ]
  },
  {
   "cell_type": "code",
   "execution_count": 9,
   "id": "d2a86cfb",
   "metadata": {},
   "outputs": [],
   "source": [
    "df_new = df.drop_duplicates(subset='puid', keep='first')\n"
   ]
  },
  {
   "cell_type": "code",
   "execution_count": 10,
   "id": "8697d904",
   "metadata": {},
   "outputs": [
    {
     "data": {
      "text/plain": [
       "8540"
      ]
     },
     "execution_count": 10,
     "metadata": {},
     "output_type": "execute_result"
    }
   ],
   "source": [
    "df_new.shape[0]"
   ]
  },
  {
   "cell_type": "code",
   "execution_count": 11,
   "id": "3438dbb7",
   "metadata": {},
   "outputs": [
    {
     "data": {
      "text/html": [
       "<div>\n",
       "<style scoped>\n",
       "    .dataframe tbody tr th:only-of-type {\n",
       "        vertical-align: middle;\n",
       "    }\n",
       "\n",
       "    .dataframe tbody tr th {\n",
       "        vertical-align: top;\n",
       "    }\n",
       "\n",
       "    .dataframe thead th {\n",
       "        text-align: right;\n",
       "    }\n",
       "</style>\n",
       "<table border=\"1\" class=\"dataframe\">\n",
       "  <thead>\n",
       "    <tr style=\"text-align: right;\">\n",
       "      <th></th>\n",
       "      <th>city</th>\n",
       "      <th>puid</th>\n",
       "      <th>hours</th>\n",
       "    </tr>\n",
       "  </thead>\n",
       "  <tbody>\n",
       "    <tr>\n",
       "      <th>0</th>\n",
       "      <td>Москва</td>\n",
       "      <td>9668</td>\n",
       "      <td>26.167776</td>\n",
       "    </tr>\n",
       "    <tr>\n",
       "      <th>1</th>\n",
       "      <td>Москва</td>\n",
       "      <td>16598</td>\n",
       "      <td>82.111217</td>\n",
       "    </tr>\n",
       "    <tr>\n",
       "      <th>2</th>\n",
       "      <td>Москва</td>\n",
       "      <td>80401</td>\n",
       "      <td>4.656906</td>\n",
       "    </tr>\n",
       "    <tr>\n",
       "      <th>3</th>\n",
       "      <td>Москва</td>\n",
       "      <td>140205</td>\n",
       "      <td>1.840556</td>\n",
       "    </tr>\n",
       "    <tr>\n",
       "      <th>4</th>\n",
       "      <td>Москва</td>\n",
       "      <td>248755</td>\n",
       "      <td>151.326434</td>\n",
       "    </tr>\n",
       "  </tbody>\n",
       "</table>\n",
       "</div>"
      ],
      "text/plain": [
       "     city    puid       hours\n",
       "0  Москва    9668   26.167776\n",
       "1  Москва   16598   82.111217\n",
       "2  Москва   80401    4.656906\n",
       "3  Москва  140205    1.840556\n",
       "4  Москва  248755  151.326434"
      ]
     },
     "execution_count": 11,
     "metadata": {},
     "output_type": "execute_result"
    }
   ],
   "source": [
    "df_new.head()"
   ]
  },
  {
   "cell_type": "code",
   "execution_count": 12,
   "id": "1facdeaf",
   "metadata": {},
   "outputs": [
    {
     "name": "stdout",
     "output_type": "stream",
     "text": [
      "<class 'pandas.core.frame.DataFrame'>\n",
      "Int64Index: 8540 entries, 0 to 8783\n",
      "Data columns (total 3 columns):\n",
      " #   Column  Non-Null Count  Dtype  \n",
      "---  ------  --------------  -----  \n",
      " 0   city    8540 non-null   object \n",
      " 1   puid    8540 non-null   int64  \n",
      " 2   hours   8540 non-null   float64\n",
      "dtypes: float64(1), int64(1), object(1)\n",
      "memory usage: 266.9+ KB\n"
     ]
    }
   ],
   "source": [
    "df_new.info()"
   ]
  },
  {
   "cell_type": "code",
   "execution_count": 13,
   "id": "c91669ff",
   "metadata": {},
   "outputs": [
    {
     "name": "stdout",
     "output_type": "stream",
     "text": [
      "Количество уникальных пользователей в группе для СПБ: 2306\n",
      "Количество уникальных пользователей в группе для МСК: 6234\n",
      "Процентная разница между группами СПБ и МСК: -170.34%\n"
     ]
    },
    {
     "data": {
      "image/png": "[encoded data removed]",
      "text/plain": [
       "<Figure size 576x360 with 1 Axes>"
      ]
     },
     "metadata": {
      "needs_background": "light"
     },
     "output_type": "display_data"
    }
   ],
   "source": [
    "# Получаем количество уникальных пользователей в группах A и B\n",
    "unique_users_spb = df_new[df_new['city'] == 'Санкт-Петербург']['puid'].nunique()\n",
    "unique_users_msc = df_new[df_new['city'] == 'Москва']['puid'].nunique()\n",
    "percentage_difference = 100 * ((unique_users_spb-unique_users_msc)/unique_users_spb)\n",
    "\n",
    "print(f\"Количество уникальных пользователей в группе для СПБ: {unique_users_spb}\")\n",
    "print(f\"Количество уникальных пользователей в группе для МСК: {unique_users_msc}\")\n",
    "print(f\"Процентная разница между группами СПБ и МСК: {percentage_difference:.2f}%\")\n",
    "\n",
    "results_df = pd.DataFrame({\n",
    "    'test_group': ['SPB', 'MSC'],\n",
    "    'Unique Users': [unique_users_spb, unique_users_msc]\n",
    "})\n",
    "\n",
    "# Визуализируем данные\n",
    "plt.figure(figsize=(8, 5))\n",
    "sns.barplot(x='test_group', y='Unique Users', data=results_df, palette='viridis')\n",
    "plt.title('Количество уникальных пользователей в группах для СПБ и МСК')\n",
    "plt.ylabel('Количество уникальных пользователей')\n",
    "plt.xlabel('Группа')\n",
    "plt.show()\n"
   ]
  },
  {
   "cell_type": "markdown",
   "id": "d07c642c",
   "metadata": {},
   "source": [
    "Процентная разница между двумя группами составила -144,47%. "
   ]
  },
  {
   "cell_type": "markdown",
   "id": "ef4c44f7",
   "metadata": {},
   "source": [
    "Можно сделать вывод, что кол-во уникальных пользователей в Москве гораздо больше чем в Санкт-Петербурге. Распределеине пользователей не должно повлиять на результаты теста, но чтобы убедиться, дополнительно построим гистограмы распределения общего кол-ва часов для каждой группы."
   ]
  },
  {
   "cell_type": "code",
   "execution_count": 14,
   "id": "2e650388",
   "metadata": {},
   "outputs": [
    {
     "data": {
      "image/png": "[encoded data removed]",
      "text/plain": [
       "<Figure size 432x288 with 1 Axes>"
      ]
     },
     "metadata": {
      "needs_background": "light"
     },
     "output_type": "display_data"
    }
   ],
   "source": [
    "\n",
    "df_new[df_new['city'] == 'Санкт-Петербург']['hours'].hist(bins=5)\n",
    "\n",
    "plt.title('Распределение общего кол-ва часов в СПБ')\n",
    "\n",
    "plt.xlabel('Часов')\n",
    "\n",
    "plt.show()"
   ]
  },
  {
   "cell_type": "code",
   "execution_count": 15,
   "id": "ec1c7be3",
   "metadata": {},
   "outputs": [
    {
     "data": {
      "image/png": "[encoded data removed]",
      "text/plain": [
       "<Figure size 432x288 with 1 Axes>"
      ]
     },
     "metadata": {
      "needs_background": "light"
     },
     "output_type": "display_data"
    }
   ],
   "source": [
    "\n",
    "df_new[df_new['city'] == 'Москва']['hours'].hist(bins=5)\n",
    "\n",
    "plt.title('Распределение общего кол-ва часов в МСК')\n",
    "\n",
    "plt.xlabel('Часов')\n",
    "\n",
    "plt.show()"
   ]
  },
  {
   "cell_type": "markdown",
   "id": "291f4160",
   "metadata": {},
   "source": [
    "По гистограммам распределения часов, можно сделать вывод, что общее кол-во часов распределено почти одинаково, для СПБ и МСК."
   ]
  },
  {
   "cell_type": "code",
   "execution_count": 16,
   "id": "67956690",
   "metadata": {
    "id": "67956690"
   },
   "outputs": [
    {
     "name": "stdout",
     "output_type": "stream",
     "text": [
      "p-значение: 0.21101894136116772\n",
      "Не получилось отвергнуть нулевую гипотезу\n"
     ]
    }
   ],
   "source": [
    "\n",
    "group_spb = df[df['city'] == 'Санкт-Петербург']['hours']\n",
    "\n",
    "group_msc = df[df['city'] == 'Москва']['hours']\n",
    "\n",
    "alpha = 0.05\n",
    "\n",
    "results = st.ttest_ind(\n",
    "    group_spb, \n",
    "    group_msc,\n",
    "    alternative='greater'\n",
    ")\n",
    "\n",
    "print('p-значение:', results.pvalue)\n",
    "\n",
    "if results.pvalue < alpha:\n",
    "    print('Отвергаем нулевую гипотезу')\n",
    "else:\n",
    "    print('Не получилось отвергнуть нулевую гипотезу')"
   ]
  },
  {
   "cell_type": "markdown",
   "id": "6953e84c",
   "metadata": {
    "id": "6953e84c"
   },
   "source": [
    "## 3. Аналитическая записка\n",
    "По результатам анализа данных подготовьте аналитическую записку, в которой опишете:\n",
    "\n",
    "- Выбранный тип t-теста и уровень статистической значимости.\n",
    "\n",
    "- Результат теста, или p-value.\n",
    "\n",
    "- Вывод на основе полученного p-value, то есть интерпретацию результатов.\n",
    "\n",
    "- Одну или две возможные причины, объясняющие полученные результаты.\n",
    "\n"
   ]
  },
  {
   "cell_type": "markdown",
   "id": "7abb65cc",
   "metadata": {},
   "source": [
    "Для проверки гипотезы был выбран односторонний t-тест для двух независимых выборок. Нулевая гипотеза (H₀) предполагает, что средняя активность пользователей в часах в двух группах (Москва и Санкт-Петербург) не различается, в то время как альтернативная гипотеза (H₁) утверждает, что средняя активность пользователей из Санкт-Петербурга больше, чем у пользователей из Москвы.\n",
    "\n",
    "Уровень статистической значимости (alpha) был установлен на уровне 0.05.\n",
    "\n",
    "По результатам проведенного t-теста было получено p-value, которое составило: 0.338193679651558\n",
    "\n",
    "На основании полученного p-value, можно сделать следующие выводы: \n",
    "\n",
    "P-value больше alpha, нельзя отвергнуть нулевую гипотезу. Это значит что нет статистически значимых доказательств того, что средняя активность пользователей из Санкт-Петербурга превосходит активность пользователей из Москвы.\n",
    "\n",
    "Возможные причины:\n",
    "Возможно из-за одинкового ритма жизни, свободного кол-ва времени и типа работы в этих двух городах, можно говорить о том что, средняя активность пользователей не отличается."
   ]
  },
  {
   "cell_type": "markdown",
   "id": "hc1d6jVISegz",
   "metadata": {
    "id": "hc1d6jVISegz"
   },
   "source": [
    "----"
   ]
  },
  {
   "cell_type": "markdown",
   "id": "NqOUIYhbrIfC",
   "metadata": {
    "id": "NqOUIYhbrIfC"
   },
   "source": [
    "# Часть 2. Анализ результатов A/B-тестирования"
   ]
  },
  {
   "cell_type": "markdown",
   "id": "tDwMKFNGsClr",
   "metadata": {
    "id": "tDwMKFNGsClr"
   },
   "source": [
    "Теперь вам нужно проанализировать другие данные. Представьте, что к вам обратились представители интернет-магазина BitMotion Kit, в котором продаются геймифицированные товары для тех, кто ведёт здоровый образ жизни. У него есть своя целевая аудитория, даже появились хиты продаж: эспандер со счётчиком и напоминанием, так и подстольный велотренажёр с Bluetooth.\n",
    "\n",
    "В будущем компания хочет расширить ассортимент товаров. Но перед этим нужно решить одну проблему. Интерфейс онлайн-магазина слишком сложен для пользователей — об этом говорят отзывы.\n",
    "\n",
    "Чтобы привлечь новых клиентов и увеличить число продаж, владельцы магазина разработали новую версию сайта и протестировали его на части пользователей. По задумке, это решение доказуемо повысит количество пользователей, которые совершат покупку.\n",
    "\n",
    "Ваша задача — провести оценку результатов A/B-теста. В вашем распоряжении:\n",
    "\n",
    "* данные о действиях пользователей и распределении их на группы,\n",
    "\n",
    "* техническое задание.\n",
    "\n",
    "Оцените корректность проведения теста и проанализируйте его результаты."
   ]
  },
  {
   "cell_type": "markdown",
   "id": "UNXAAyF5r9Rk",
   "metadata": {
    "id": "UNXAAyF5r9Rk"
   },
   "source": [
    "## 1. Опишите цели исследования.\n",
    "\n"
   ]
  },
  {
   "cell_type": "markdown",
   "id": "kHx-51yES8bd",
   "metadata": {
    "id": "kHx-51yES8bd"
   },
   "source": [
    "- Оценка корректности проведения A/B-теста;\n",
    "- Анализ результатов теста;\n",
    "- Поддержка принятия решений о масштабировании.\n",
    "\n",
    "Таким образом, основная цель исследования состоит в том, чтобы оценить эффективность нового интерфейса с точки зрения статистических показателей и пользовательского опыта, а также выработать рекомендации, способствующие улучшению результатов интернет-магазина."
   ]
  },
  {
   "cell_type": "markdown",
   "id": "_CZryx2OsH-s",
   "metadata": {
    "id": "_CZryx2OsH-s"
   },
   "source": [
    "## 2. Загрузите данные, оцените их целостность.\n"
   ]
  },
  {
   "cell_type": "code",
   "execution_count": 17,
   "id": "DjFcJbeGsTIg",
   "metadata": {
    "id": "DjFcJbeGsTIg"
   },
   "outputs": [],
   "source": [
    "participants = pd.read_csv('https://code.s3.yandex.net/datasets/ab_test_participants.csv')\n",
    "events = pd.read_csv('https://code.s3.yandex.net/datasets/ab_test_events.zip',\n",
    "                     parse_dates=['event_dt'], low_memory=False)"
   ]
  },
  {
   "cell_type": "code",
   "execution_count": 18,
   "id": "31c5c596",
   "metadata": {
    "scrolled": true
   },
   "outputs": [
    {
     "name": "stdout",
     "output_type": "stream",
     "text": [
      "<class 'pandas.core.frame.DataFrame'>\n",
      "RangeIndex: 14525 entries, 0 to 14524\n",
      "Data columns (total 4 columns):\n",
      " #   Column   Non-Null Count  Dtype \n",
      "---  ------   --------------  ----- \n",
      " 0   user_id  14525 non-null  object\n",
      " 1   group    14525 non-null  object\n",
      " 2   ab_test  14525 non-null  object\n",
      " 3   device   14525 non-null  object\n",
      "dtypes: object(4)\n",
      "memory usage: 454.0+ KB\n"
     ]
    }
   ],
   "source": [
    "participants.info()"
   ]
  },
  {
   "cell_type": "markdown",
   "id": "cdcfe4b3",
   "metadata": {},
   "source": [
    "В таблице `participants` содержится 14525 строк и 4 столбца. Столбцы имеют верный тип данных."
   ]
  },
  {
   "cell_type": "code",
   "execution_count": 19,
   "id": "afa87749",
   "metadata": {},
   "outputs": [
    {
     "name": "stdout",
     "output_type": "stream",
     "text": [
      "<class 'pandas.core.frame.DataFrame'>\n",
      "RangeIndex: 787286 entries, 0 to 787285\n",
      "Data columns (total 4 columns):\n",
      " #   Column      Non-Null Count   Dtype         \n",
      "---  ------      --------------   -----         \n",
      " 0   user_id     787286 non-null  object        \n",
      " 1   event_dt    787286 non-null  datetime64[ns]\n",
      " 2   event_name  787286 non-null  object        \n",
      " 3   details     249022 non-null  object        \n",
      "dtypes: datetime64[ns](1), object(3)\n",
      "memory usage: 24.0+ MB\n"
     ]
    }
   ],
   "source": [
    "events.info()"
   ]
  },
  {
   "cell_type": "markdown",
   "id": "c5908e48",
   "metadata": {},
   "source": [
    "В таблице `events` содержится 787286 строк и 4 столбца. Столбцы имеют верный тип данных. Но в столбце `details` есть пропуски."
   ]
  },
  {
   "cell_type": "code",
   "execution_count": 20,
   "id": "6b616e50",
   "metadata": {},
   "outputs": [
    {
     "name": "stdout",
     "output_type": "stream",
     "text": [
      "0 0 887\n"
     ]
    }
   ],
   "source": [
    "df_null = participants.isna().sum().sum()\n",
    "df_duplicates = participants.duplicated().sum()\n",
    "df_duplicates_user = participants['user_id'].duplicated().sum()\n",
    "\n",
    "print(df_null, df_duplicates, df_duplicates_user)"
   ]
  },
  {
   "cell_type": "markdown",
   "id": "21397c43",
   "metadata": {},
   "source": [
    "В таблице `participants` нет полных дубликатов, но есть неявные дубликаты по столбцу `user_id`."
   ]
  },
  {
   "cell_type": "code",
   "execution_count": 21,
   "id": "e27f85bc",
   "metadata": {},
   "outputs": [
    {
     "name": "stdout",
     "output_type": "stream",
     "text": [
      "538264 36318 643102\n"
     ]
    }
   ],
   "source": [
    "df_null = events.isna().sum().sum()\n",
    "df_duplicates = events.duplicated().sum()\n",
    "df_duplicates_user = events['user_id'].duplicated().sum()\n",
    "\n",
    "print(df_null, df_duplicates, df_duplicates_user)"
   ]
  },
  {
   "cell_type": "markdown",
   "id": "d71ec46e",
   "metadata": {},
   "source": [
    "В таблице `events` 538264 пропусков, 36318 дубликатов полных и 643102 дубликатов по полю `user_id`."
   ]
  },
  {
   "cell_type": "code",
   "execution_count": 22,
   "id": "34d037b8",
   "metadata": {},
   "outputs": [],
   "source": [
    "events = events.drop_duplicates()"
   ]
  },
  {
   "cell_type": "code",
   "execution_count": 23,
   "id": "e0c99df9",
   "metadata": {},
   "outputs": [],
   "source": [
    "participants = participants.drop_duplicates(subset='user_id', keep='first', inplace=False)"
   ]
  },
  {
   "cell_type": "markdown",
   "id": "CnzA-efasUrk",
   "metadata": {
    "id": "CnzA-efasUrk"
   },
   "source": [
    "## 3. По таблице `ab_test_participants` оцените корректность проведения теста:\n",
    "\n",
    "   3\\.1 Выделите пользователей, участвующих в тесте, и проверьте:\n",
    "\n",
    "   - соответствие требованиям технического задания,\n",
    "\n",
    "   - равномерность распределения пользователей по группам теста,\n",
    "\n",
    "   - отсутствие пересечений с конкурирующим тестом (нет пользователей, участвующих одновременно в двух тестовых группах)."
   ]
  },
  {
   "cell_type": "code",
   "execution_count": 24,
   "id": "aNa3zHrKslEN",
   "metadata": {
    "id": "aNa3zHrKslEN"
   },
   "outputs": [],
   "source": [
    "# выгрузим в датасет информацию о пользователях участвующих в AB тесте \n",
    "df_interface_eu_test = participants.loc[(participants['ab_test'] == 'interface_eu_test')]"
   ]
  },
  {
   "cell_type": "code",
   "execution_count": 25,
   "id": "16323060",
   "metadata": {},
   "outputs": [
    {
     "data": {
      "text/html": [
       "<div>\n",
       "<style scoped>\n",
       "    .dataframe tbody tr th:only-of-type {\n",
       "        vertical-align: middle;\n",
       "    }\n",
       "\n",
       "    .dataframe tbody tr th {\n",
       "        vertical-align: top;\n",
       "    }\n",
       "\n",
       "    .dataframe thead th {\n",
       "        text-align: right;\n",
       "    }\n",
       "</style>\n",
       "<table border=\"1\" class=\"dataframe\">\n",
       "  <thead>\n",
       "    <tr style=\"text-align: right;\">\n",
       "      <th></th>\n",
       "      <th>user_id</th>\n",
       "      <th>group</th>\n",
       "      <th>ab_test</th>\n",
       "      <th>device</th>\n",
       "    </tr>\n",
       "  </thead>\n",
       "  <tbody>\n",
       "    <tr>\n",
       "      <th>0</th>\n",
       "      <td>0002CE61FF2C4011</td>\n",
       "      <td>B</td>\n",
       "      <td>interface_eu_test</td>\n",
       "      <td>Mac</td>\n",
       "    </tr>\n",
       "    <tr>\n",
       "      <th>4</th>\n",
       "      <td>001E72F50D1C48FA</td>\n",
       "      <td>A</td>\n",
       "      <td>interface_eu_test</td>\n",
       "      <td>Mac</td>\n",
       "    </tr>\n",
       "    <tr>\n",
       "      <th>5</th>\n",
       "      <td>002412F1EB3F6E38</td>\n",
       "      <td>B</td>\n",
       "      <td>interface_eu_test</td>\n",
       "      <td>Mac</td>\n",
       "    </tr>\n",
       "    <tr>\n",
       "      <th>6</th>\n",
       "      <td>002540BE89C930FB</td>\n",
       "      <td>B</td>\n",
       "      <td>interface_eu_test</td>\n",
       "      <td>Android</td>\n",
       "    </tr>\n",
       "    <tr>\n",
       "      <th>7</th>\n",
       "      <td>0031F1B5E9FBF708</td>\n",
       "      <td>A</td>\n",
       "      <td>interface_eu_test</td>\n",
       "      <td>Android</td>\n",
       "    </tr>\n",
       "  </tbody>\n",
       "</table>\n",
       "</div>"
      ],
      "text/plain": [
       "            user_id group            ab_test   device\n",
       "0  0002CE61FF2C4011     B  interface_eu_test      Mac\n",
       "4  001E72F50D1C48FA     A  interface_eu_test      Mac\n",
       "5  002412F1EB3F6E38     B  interface_eu_test      Mac\n",
       "6  002540BE89C930FB     B  interface_eu_test  Android\n",
       "7  0031F1B5E9FBF708     A  interface_eu_test  Android"
      ]
     },
     "execution_count": 25,
     "metadata": {},
     "output_type": "execute_result"
    }
   ],
   "source": [
    "df_interface_eu_test.head()"
   ]
  },
  {
   "cell_type": "code",
   "execution_count": 26,
   "id": "e9d3fef0",
   "metadata": {},
   "outputs": [
    {
     "data": {
      "text/plain": [
       "10403"
      ]
     },
     "execution_count": 26,
     "metadata": {},
     "output_type": "execute_result"
    }
   ],
   "source": [
    "df_interface_eu_test.shape[0]"
   ]
  },
  {
   "cell_type": "markdown",
   "id": "050fd207",
   "metadata": {},
   "source": [
    "Всего датасет содержит 10,850 строк."
   ]
  },
  {
   "cell_type": "code",
   "execution_count": 27,
   "id": "77ba448c",
   "metadata": {},
   "outputs": [
    {
     "name": "stdout",
     "output_type": "stream",
     "text": [
      "Количество уникальных пользователей в группе A: 5174\n",
      "Количество уникальных пользователей в группе B: 5229\n",
      "Процентная разница между группами A и B: -1.06%\n"
     ]
    },
    {
     "data": {
      "image/png": "[encoded data removed]",
      "text/plain": [
       "<Figure size 576x360 with 1 Axes>"
      ]
     },
     "metadata": {
      "needs_background": "light"
     },
     "output_type": "display_data"
    }
   ],
   "source": [
    "\n",
    "unique_users_A = df_interface_eu_test[df_interface_eu_test['group'] == 'A']['user_id'].nunique()\n",
    "unique_users_B = df_interface_eu_test[df_interface_eu_test['group'] == 'B']['user_id'].nunique()\n",
    "percentage_difference = 100 * ((unique_users_A-unique_users_B)/unique_users_A)\n",
    "\n",
    "print(f\"Количество уникальных пользователей в группе A: {unique_users_A}\")\n",
    "print(f\"Количество уникальных пользователей в группе B: {unique_users_B}\")\n",
    "print(f\"Процентная разница между группами A и B: {percentage_difference:.2f}%\")\n",
    "\n",
    "# Шаг 4: Визуализация\n",
    "# Создаем DataFrame для визуализации\n",
    "results_df = pd.DataFrame({\n",
    "    'test_group': ['A', 'B'],\n",
    "    'Unique Users': [unique_users_A, unique_users_B]\n",
    "})\n",
    "\n",
    "# Визуализируем данные\n",
    "plt.figure(figsize=(8, 5))\n",
    "sns.barplot(x='test_group', y='Unique Users', data=results_df, palette='viridis')\n",
    "plt.title('Количество уникальных пользователей в группах A и B')\n",
    "plt.ylabel('Количество уникальных пользователей')\n",
    "plt.xlabel('Группа')\n",
    "plt.show()\n"
   ]
  },
  {
   "cell_type": "markdown",
   "id": "3e2262c9",
   "metadata": {},
   "source": [
    "Кол-во уникальных пользователей в двух группах почти одинаково и разница небольшая, в 1,56%. Что допустимо в рамках AB теста."
   ]
  },
  {
   "cell_type": "code",
   "execution_count": 28,
   "id": "20954c79",
   "metadata": {},
   "outputs": [
    {
     "name": "stdout",
     "output_type": "stream",
     "text": [
      "[]\n"
     ]
    }
   ],
   "source": [
    "A_group = df_interface_eu_test[df_interface_eu_test['group'] == 'A']['user_id']\n",
    "B_group = df_interface_eu_test[df_interface_eu_test['group'] == 'B']['user_id']\n",
    "\n",
    "intersection = list(set(B_group) & set(A_group))\n",
    "print(intersection) "
   ]
  },
  {
   "cell_type": "markdown",
   "id": "c0fb9ad9",
   "metadata": {},
   "source": [
    "Пересечений по пользователям не обнаружено."
   ]
  },
  {
   "cell_type": "markdown",
   "id": "GjulgSrlsqUU",
   "metadata": {
    "id": "GjulgSrlsqUU"
   },
   "source": [
    "3\\.2 Проанализируйте данные о пользовательской активности по таблице `ab_test_events`:\n",
    "\n",
    "- оставьте только события, связанные с участвующими в изучаемом тесте пользователями;"
   ]
  },
  {
   "cell_type": "code",
   "execution_count": 29,
   "id": "QMt0Ybo_swDK",
   "metadata": {
    "id": "QMt0Ybo_swDK"
   },
   "outputs": [],
   "source": [
    "# объединим данный из таблицы event с данными об AB тесте, будем присоединять к events, чтобы сохранить данные из левой таблицы\n",
    "result_isin = pd.merge(events, df_interface_eu_test, on='user_id')"
   ]
  },
  {
   "cell_type": "code",
   "execution_count": 30,
   "id": "14c99bb7",
   "metadata": {},
   "outputs": [
    {
     "data": {
      "text/html": [
       "<div>\n",
       "<style scoped>\n",
       "    .dataframe tbody tr th:only-of-type {\n",
       "        vertical-align: middle;\n",
       "    }\n",
       "\n",
       "    .dataframe tbody tr th {\n",
       "        vertical-align: top;\n",
       "    }\n",
       "\n",
       "    .dataframe thead th {\n",
       "        text-align: right;\n",
       "    }\n",
       "</style>\n",
       "<table border=\"1\" class=\"dataframe\">\n",
       "  <thead>\n",
       "    <tr style=\"text-align: right;\">\n",
       "      <th></th>\n",
       "      <th>user_id</th>\n",
       "      <th>event_dt</th>\n",
       "      <th>event_name</th>\n",
       "      <th>details</th>\n",
       "      <th>group</th>\n",
       "      <th>ab_test</th>\n",
       "      <th>device</th>\n",
       "    </tr>\n",
       "  </thead>\n",
       "  <tbody>\n",
       "    <tr>\n",
       "      <th>0</th>\n",
       "      <td>5F506CEBEDC05D30</td>\n",
       "      <td>2020-12-06 14:10:01</td>\n",
       "      <td>registration</td>\n",
       "      <td>0.0</td>\n",
       "      <td>A</td>\n",
       "      <td>interface_eu_test</td>\n",
       "      <td>iPhone</td>\n",
       "    </tr>\n",
       "    <tr>\n",
       "      <th>1</th>\n",
       "      <td>5F506CEBEDC05D30</td>\n",
       "      <td>2020-12-07 01:25:14</td>\n",
       "      <td>login</td>\n",
       "      <td>NaN</td>\n",
       "      <td>A</td>\n",
       "      <td>interface_eu_test</td>\n",
       "      <td>iPhone</td>\n",
       "    </tr>\n",
       "    <tr>\n",
       "      <th>2</th>\n",
       "      <td>5F506CEBEDC05D30</td>\n",
       "      <td>2020-12-07 01:25:47</td>\n",
       "      <td>login</td>\n",
       "      <td>NaN</td>\n",
       "      <td>A</td>\n",
       "      <td>interface_eu_test</td>\n",
       "      <td>iPhone</td>\n",
       "    </tr>\n",
       "    <tr>\n",
       "      <th>3</th>\n",
       "      <td>5F506CEBEDC05D30</td>\n",
       "      <td>2020-12-09 12:40:49</td>\n",
       "      <td>login</td>\n",
       "      <td>NaN</td>\n",
       "      <td>A</td>\n",
       "      <td>interface_eu_test</td>\n",
       "      <td>iPhone</td>\n",
       "    </tr>\n",
       "    <tr>\n",
       "      <th>4</th>\n",
       "      <td>5F506CEBEDC05D30</td>\n",
       "      <td>2020-12-09 12:40:49</td>\n",
       "      <td>product_page</td>\n",
       "      <td>NaN</td>\n",
       "      <td>A</td>\n",
       "      <td>interface_eu_test</td>\n",
       "      <td>iPhone</td>\n",
       "    </tr>\n",
       "    <tr>\n",
       "      <th>...</th>\n",
       "      <td>...</td>\n",
       "      <td>...</td>\n",
       "      <td>...</td>\n",
       "      <td>...</td>\n",
       "      <td>...</td>\n",
       "      <td>...</td>\n",
       "      <td>...</td>\n",
       "    </tr>\n",
       "    <tr>\n",
       "      <th>70725</th>\n",
       "      <td>16CCB1C8C4DCF1AF</td>\n",
       "      <td>2020-12-23 23:50:29</td>\n",
       "      <td>registration</td>\n",
       "      <td>0.0</td>\n",
       "      <td>A</td>\n",
       "      <td>interface_eu_test</td>\n",
       "      <td>Mac</td>\n",
       "    </tr>\n",
       "    <tr>\n",
       "      <th>70726</th>\n",
       "      <td>16CCB1C8C4DCF1AF</td>\n",
       "      <td>2020-12-23 23:55:52</td>\n",
       "      <td>login</td>\n",
       "      <td>NaN</td>\n",
       "      <td>A</td>\n",
       "      <td>interface_eu_test</td>\n",
       "      <td>Mac</td>\n",
       "    </tr>\n",
       "    <tr>\n",
       "      <th>70727</th>\n",
       "      <td>2DDC948BD76ABC57</td>\n",
       "      <td>2020-12-24 21:57:10</td>\n",
       "      <td>registration</td>\n",
       "      <td>-4.29</td>\n",
       "      <td>B</td>\n",
       "      <td>interface_eu_test</td>\n",
       "      <td>iPhone</td>\n",
       "    </tr>\n",
       "    <tr>\n",
       "      <th>70728</th>\n",
       "      <td>2DDC948BD76ABC57</td>\n",
       "      <td>2020-12-24 21:58:49</td>\n",
       "      <td>login</td>\n",
       "      <td>NaN</td>\n",
       "      <td>B</td>\n",
       "      <td>interface_eu_test</td>\n",
       "      <td>iPhone</td>\n",
       "    </tr>\n",
       "    <tr>\n",
       "      <th>70729</th>\n",
       "      <td>2DDC948BD76ABC57</td>\n",
       "      <td>2020-12-24 22:00:40</td>\n",
       "      <td>product_page</td>\n",
       "      <td>NaN</td>\n",
       "      <td>B</td>\n",
       "      <td>interface_eu_test</td>\n",
       "      <td>iPhone</td>\n",
       "    </tr>\n",
       "  </tbody>\n",
       "</table>\n",
       "<p>70730 rows × 7 columns</p>\n",
       "</div>"
      ],
      "text/plain": [
       "                user_id            event_dt    event_name details group  \\\n",
       "0      5F506CEBEDC05D30 2020-12-06 14:10:01  registration     0.0     A   \n",
       "1      5F506CEBEDC05D30 2020-12-07 01:25:14         login     NaN     A   \n",
       "2      5F506CEBEDC05D30 2020-12-07 01:25:47         login     NaN     A   \n",
       "3      5F506CEBEDC05D30 2020-12-09 12:40:49         login     NaN     A   \n",
       "4      5F506CEBEDC05D30 2020-12-09 12:40:49  product_page     NaN     A   \n",
       "...                 ...                 ...           ...     ...   ...   \n",
       "70725  16CCB1C8C4DCF1AF 2020-12-23 23:50:29  registration     0.0     A   \n",
       "70726  16CCB1C8C4DCF1AF 2020-12-23 23:55:52         login     NaN     A   \n",
       "70727  2DDC948BD76ABC57 2020-12-24 21:57:10  registration   -4.29     B   \n",
       "70728  2DDC948BD76ABC57 2020-12-24 21:58:49         login     NaN     B   \n",
       "70729  2DDC948BD76ABC57 2020-12-24 22:00:40  product_page     NaN     B   \n",
       "\n",
       "                 ab_test  device  \n",
       "0      interface_eu_test  iPhone  \n",
       "1      interface_eu_test  iPhone  \n",
       "2      interface_eu_test  iPhone  \n",
       "3      interface_eu_test  iPhone  \n",
       "4      interface_eu_test  iPhone  \n",
       "...                  ...     ...  \n",
       "70725  interface_eu_test     Mac  \n",
       "70726  interface_eu_test     Mac  \n",
       "70727  interface_eu_test  iPhone  \n",
       "70728  interface_eu_test  iPhone  \n",
       "70729  interface_eu_test  iPhone  \n",
       "\n",
       "[70730 rows x 7 columns]"
      ]
     },
     "execution_count": 30,
     "metadata": {},
     "output_type": "execute_result"
    }
   ],
   "source": [
    "result_isin"
   ]
  },
  {
   "cell_type": "markdown",
   "id": "7172f0ab",
   "metadata": {},
   "source": [
    "Итого получилось 79715 строк с данными о пользователях AB теста."
   ]
  },
  {
   "cell_type": "markdown",
   "id": "fBZ4DC2xswZJ",
   "metadata": {
    "id": "fBZ4DC2xswZJ"
   },
   "source": [
    "- определите горизонт анализа: рассчитайте время (лайфтайм) совершения события пользователем после регистрации и оставьте только те события, которые были выполнены в течение первых семи дней с момента регистрации;"
   ]
  },
  {
   "cell_type": "code",
   "execution_count": 31,
   "id": "sES4-dKts0Yb",
   "metadata": {
    "id": "sES4-dKts0Yb"
   },
   "outputs": [],
   "source": [
    "# из полученого датасета отберем дату регистрации для пользователей, чтобы для каждого пользователя добавить дату рег. в след. датасет\n",
    "reg_data = result_isin[result_isin['event_name'] == 'registration'][['user_id','event_dt']]"
   ]
  },
  {
   "cell_type": "code",
   "execution_count": 32,
   "id": "5ff4d2ea",
   "metadata": {},
   "outputs": [],
   "source": [
    "# объединим данные\n",
    "df_done = pd.merge(result_isin, reg_data, on='user_id', how='left')"
   ]
  },
  {
   "cell_type": "code",
   "execution_count": 33,
   "id": "e6f74b49",
   "metadata": {},
   "outputs": [],
   "source": [
    "# находим кол-во дней между регистрацией\n",
    "df_done['lt'] = (df_done['event_dt_x'] - df_done['event_dt_y']).dt.days"
   ]
  },
  {
   "cell_type": "code",
   "execution_count": 34,
   "id": "efce9f17",
   "metadata": {},
   "outputs": [],
   "source": [
    "# отбираем данные, гте lifetime меньше 7 дней \n",
    "df_done_new = df_done.loc[df_done['lt'] < 7]"
   ]
  },
  {
   "cell_type": "code",
   "execution_count": 35,
   "id": "e0b74eca",
   "metadata": {},
   "outputs": [
    {
     "data": {
      "text/html": [
       "<div>\n",
       "<style scoped>\n",
       "    .dataframe tbody tr th:only-of-type {\n",
       "        vertical-align: middle;\n",
       "    }\n",
       "\n",
       "    .dataframe tbody tr th {\n",
       "        vertical-align: top;\n",
       "    }\n",
       "\n",
       "    .dataframe thead th {\n",
       "        text-align: right;\n",
       "    }\n",
       "</style>\n",
       "<table border=\"1\" class=\"dataframe\">\n",
       "  <thead>\n",
       "    <tr style=\"text-align: right;\">\n",
       "      <th></th>\n",
       "      <th>user_id</th>\n",
       "      <th>event_dt_x</th>\n",
       "      <th>event_name</th>\n",
       "      <th>details</th>\n",
       "      <th>group</th>\n",
       "      <th>ab_test</th>\n",
       "      <th>device</th>\n",
       "      <th>event_dt_y</th>\n",
       "      <th>lt</th>\n",
       "    </tr>\n",
       "  </thead>\n",
       "  <tbody>\n",
       "    <tr>\n",
       "      <th>0</th>\n",
       "      <td>5F506CEBEDC05D30</td>\n",
       "      <td>2020-12-06 14:10:01</td>\n",
       "      <td>registration</td>\n",
       "      <td>0.0</td>\n",
       "      <td>A</td>\n",
       "      <td>interface_eu_test</td>\n",
       "      <td>iPhone</td>\n",
       "      <td>2020-12-06 14:10:01</td>\n",
       "      <td>0</td>\n",
       "    </tr>\n",
       "    <tr>\n",
       "      <th>1</th>\n",
       "      <td>5F506CEBEDC05D30</td>\n",
       "      <td>2020-12-07 01:25:14</td>\n",
       "      <td>login</td>\n",
       "      <td>NaN</td>\n",
       "      <td>A</td>\n",
       "      <td>interface_eu_test</td>\n",
       "      <td>iPhone</td>\n",
       "      <td>2020-12-06 14:10:01</td>\n",
       "      <td>0</td>\n",
       "    </tr>\n",
       "    <tr>\n",
       "      <th>2</th>\n",
       "      <td>5F506CEBEDC05D30</td>\n",
       "      <td>2020-12-07 01:25:47</td>\n",
       "      <td>login</td>\n",
       "      <td>NaN</td>\n",
       "      <td>A</td>\n",
       "      <td>interface_eu_test</td>\n",
       "      <td>iPhone</td>\n",
       "      <td>2020-12-06 14:10:01</td>\n",
       "      <td>0</td>\n",
       "    </tr>\n",
       "    <tr>\n",
       "      <th>3</th>\n",
       "      <td>5F506CEBEDC05D30</td>\n",
       "      <td>2020-12-09 12:40:49</td>\n",
       "      <td>login</td>\n",
       "      <td>NaN</td>\n",
       "      <td>A</td>\n",
       "      <td>interface_eu_test</td>\n",
       "      <td>iPhone</td>\n",
       "      <td>2020-12-06 14:10:01</td>\n",
       "      <td>2</td>\n",
       "    </tr>\n",
       "    <tr>\n",
       "      <th>4</th>\n",
       "      <td>5F506CEBEDC05D30</td>\n",
       "      <td>2020-12-09 12:40:49</td>\n",
       "      <td>product_page</td>\n",
       "      <td>NaN</td>\n",
       "      <td>A</td>\n",
       "      <td>interface_eu_test</td>\n",
       "      <td>iPhone</td>\n",
       "      <td>2020-12-06 14:10:01</td>\n",
       "      <td>2</td>\n",
       "    </tr>\n",
       "    <tr>\n",
       "      <th>...</th>\n",
       "      <td>...</td>\n",
       "      <td>...</td>\n",
       "      <td>...</td>\n",
       "      <td>...</td>\n",
       "      <td>...</td>\n",
       "      <td>...</td>\n",
       "      <td>...</td>\n",
       "      <td>...</td>\n",
       "      <td>...</td>\n",
       "    </tr>\n",
       "    <tr>\n",
       "      <th>70725</th>\n",
       "      <td>16CCB1C8C4DCF1AF</td>\n",
       "      <td>2020-12-23 23:50:29</td>\n",
       "      <td>registration</td>\n",
       "      <td>0.0</td>\n",
       "      <td>A</td>\n",
       "      <td>interface_eu_test</td>\n",
       "      <td>Mac</td>\n",
       "      <td>2020-12-23 23:50:29</td>\n",
       "      <td>0</td>\n",
       "    </tr>\n",
       "    <tr>\n",
       "      <th>70726</th>\n",
       "      <td>16CCB1C8C4DCF1AF</td>\n",
       "      <td>2020-12-23 23:55:52</td>\n",
       "      <td>login</td>\n",
       "      <td>NaN</td>\n",
       "      <td>A</td>\n",
       "      <td>interface_eu_test</td>\n",
       "      <td>Mac</td>\n",
       "      <td>2020-12-23 23:50:29</td>\n",
       "      <td>0</td>\n",
       "    </tr>\n",
       "    <tr>\n",
       "      <th>70727</th>\n",
       "      <td>2DDC948BD76ABC57</td>\n",
       "      <td>2020-12-24 21:57:10</td>\n",
       "      <td>registration</td>\n",
       "      <td>-4.29</td>\n",
       "      <td>B</td>\n",
       "      <td>interface_eu_test</td>\n",
       "      <td>iPhone</td>\n",
       "      <td>2020-12-24 21:57:10</td>\n",
       "      <td>0</td>\n",
       "    </tr>\n",
       "    <tr>\n",
       "      <th>70728</th>\n",
       "      <td>2DDC948BD76ABC57</td>\n",
       "      <td>2020-12-24 21:58:49</td>\n",
       "      <td>login</td>\n",
       "      <td>NaN</td>\n",
       "      <td>B</td>\n",
       "      <td>interface_eu_test</td>\n",
       "      <td>iPhone</td>\n",
       "      <td>2020-12-24 21:57:10</td>\n",
       "      <td>0</td>\n",
       "    </tr>\n",
       "    <tr>\n",
       "      <th>70729</th>\n",
       "      <td>2DDC948BD76ABC57</td>\n",
       "      <td>2020-12-24 22:00:40</td>\n",
       "      <td>product_page</td>\n",
       "      <td>NaN</td>\n",
       "      <td>B</td>\n",
       "      <td>interface_eu_test</td>\n",
       "      <td>iPhone</td>\n",
       "      <td>2020-12-24 21:57:10</td>\n",
       "      <td>0</td>\n",
       "    </tr>\n",
       "  </tbody>\n",
       "</table>\n",
       "<p>60980 rows × 9 columns</p>\n",
       "</div>"
      ],
      "text/plain": [
       "                user_id          event_dt_x    event_name details group  \\\n",
       "0      5F506CEBEDC05D30 2020-12-06 14:10:01  registration     0.0     A   \n",
       "1      5F506CEBEDC05D30 2020-12-07 01:25:14         login     NaN     A   \n",
       "2      5F506CEBEDC05D30 2020-12-07 01:25:47         login     NaN     A   \n",
       "3      5F506CEBEDC05D30 2020-12-09 12:40:49         login     NaN     A   \n",
       "4      5F506CEBEDC05D30 2020-12-09 12:40:49  product_page     NaN     A   \n",
       "...                 ...                 ...           ...     ...   ...   \n",
       "70725  16CCB1C8C4DCF1AF 2020-12-23 23:50:29  registration     0.0     A   \n",
       "70726  16CCB1C8C4DCF1AF 2020-12-23 23:55:52         login     NaN     A   \n",
       "70727  2DDC948BD76ABC57 2020-12-24 21:57:10  registration   -4.29     B   \n",
       "70728  2DDC948BD76ABC57 2020-12-24 21:58:49         login     NaN     B   \n",
       "70729  2DDC948BD76ABC57 2020-12-24 22:00:40  product_page     NaN     B   \n",
       "\n",
       "                 ab_test  device          event_dt_y  lt  \n",
       "0      interface_eu_test  iPhone 2020-12-06 14:10:01   0  \n",
       "1      interface_eu_test  iPhone 2020-12-06 14:10:01   0  \n",
       "2      interface_eu_test  iPhone 2020-12-06 14:10:01   0  \n",
       "3      interface_eu_test  iPhone 2020-12-06 14:10:01   2  \n",
       "4      interface_eu_test  iPhone 2020-12-06 14:10:01   2  \n",
       "...                  ...     ...                 ...  ..  \n",
       "70725  interface_eu_test     Mac 2020-12-23 23:50:29   0  \n",
       "70726  interface_eu_test     Mac 2020-12-23 23:50:29   0  \n",
       "70727  interface_eu_test  iPhone 2020-12-24 21:57:10   0  \n",
       "70728  interface_eu_test  iPhone 2020-12-24 21:57:10   0  \n",
       "70729  interface_eu_test  iPhone 2020-12-24 21:57:10   0  \n",
       "\n",
       "[60980 rows x 9 columns]"
      ]
     },
     "execution_count": 35,
     "metadata": {},
     "output_type": "execute_result"
    }
   ],
   "source": [
    "df_done_new"
   ]
  },
  {
   "cell_type": "markdown",
   "id": "414bd177",
   "metadata": {},
   "source": [
    "Готово, в итоговой выборке 68949 строк с информацией об пользователей, участвующих в AB тесте, отфильтрованного по lifetime меньше 7."
   ]
  },
  {
   "cell_type": "markdown",
   "id": "7cf1df48",
   "metadata": {},
   "source": [
    "Оцените достаточность выборки для получения статистически значимых результатов A/B-теста. Заданные параметры:\n",
    "\n",
    "- базовый показатель конверсии — 30%,\n",
    "\n",
    "- мощность теста — 80%,\n",
    "\n",
    "- достоверность теста — 95%."
   ]
  },
  {
   "cell_type": "code",
   "execution_count": 36,
   "id": "7d97b466",
   "metadata": {},
   "outputs": [
    {
     "name": "stdout",
     "output_type": "stream",
     "text": [
      "Необходимый размер выборки для каждой группы: 17441\n",
      "Общий размер необходимой выборки: 34882\n",
      "Общий размер выборки: 60980\n"
     ]
    }
   ],
   "source": [
    "from statsmodels.stats.power import NormalIndPower\n",
    "\n",
    "# Задаём параметры\n",
    "alpha = 0.05  # Уровень значимости\n",
    "beta = 0.2  # Ошибка второго рода, часто 1 - мощность\n",
    "power = 1 - beta  # Мощность теста\n",
    "mde = 0.03  # Минимальный детектируемый эффект\n",
    "\n",
    "# Инициализируем класс NormalIndPower\n",
    "power_analysis = NormalIndPower()\n",
    "\n",
    "# Рассчитываем размер выборки\n",
    "sample_size = power_analysis.solve_power(\n",
    "    effect_size=mde,\n",
    "    power=power,\n",
    "    alpha=alpha,\n",
    "    ratio=1  # Равномерное распределение выборок\n",
    ")\n",
    "\n",
    "print(f\"Необходимый размер выборки для каждой группы: {int(sample_size)}\")\n",
    "print(f\"Общий размер необходимой выборки: {int(sample_size)*2}\")\n",
    "print(f\"Общий размер выборки: {df_done_new.shape[0]}\")"
   ]
  },
  {
   "cell_type": "markdown",
   "id": "b8566886",
   "metadata": {},
   "source": [
    "Кол-ва выборки хватает для корректного проведения AB теста."
   ]
  },
  {
   "cell_type": "markdown",
   "id": "SadyUDgZs0t3",
   "metadata": {
    "id": "SadyUDgZs0t3"
   },
   "source": [
    "- рассчитайте для каждой группы количество посетителей, сделавших покупку, и общее количество посетителей."
   ]
  },
  {
   "cell_type": "code",
   "execution_count": 37,
   "id": "1410edbd",
   "metadata": {},
   "outputs": [],
   "source": [
    "poc = df_done_new[df_done_new['event_name'] == 'purchase']"
   ]
  },
  {
   "cell_type": "code",
   "execution_count": 38,
   "id": "a3bf7380",
   "metadata": {},
   "outputs": [],
   "source": [
    "ab_purchase = poc.groupby('group')['user_id'].nunique()"
   ]
  },
  {
   "cell_type": "code",
   "execution_count": 39,
   "id": "acad2646",
   "metadata": {},
   "outputs": [],
   "source": [
    "ab_total_users = df_done_new.groupby('group')['user_id'].nunique()"
   ]
  },
  {
   "cell_type": "code",
   "execution_count": 40,
   "id": "13aa82bb",
   "metadata": {},
   "outputs": [
    {
     "name": "stdout",
     "output_type": "stream",
     "text": [
      "В группе A совершили покупку: 1427 из 5174 пользователей, что составило 27.58%.\n",
      "В группе B совершили покупку: 1532 из 5229 пользователей, что составило 29.3%.\n"
     ]
    }
   ],
   "source": [
    "print(f\"В группе A совершили покупку: {ab_purchase['A']} из {ab_total_users['A']} пользователей, что составило {round((ab_purchase['A']/ab_total_users['A'])*100, 2)}%.\")\n",
    "print(f\"В группе B совершили покупку: {ab_purchase['B']} из {ab_total_users['B']} пользователей, что составило {round((ab_purchase['B']/ab_total_users['B'])*100, 2)}%.\")"
   ]
  },
  {
   "cell_type": "markdown",
   "id": "sh1JpGvAs5E3",
   "metadata": {
    "id": "sh1JpGvAs5E3"
   },
   "source": [
    "- сделайте предварительный общий вывод об изменении пользовательской активности в тестовой группе по сравнению с контрольной."
   ]
  },
  {
   "cell_type": "markdown",
   "id": "84912c3f",
   "metadata": {
    "id": "hHTHPkJYs8mE"
   },
   "source": [
    "Исходя из представленных данных, можно предварительно сделать вывод, что в группе B по крайней мере на 7,6% активных пользоватеелй стало больше."
   ]
  },
  {
   "cell_type": "markdown",
   "id": "IKZ1Oo3Ws919",
   "metadata": {
    "id": "IKZ1Oo3Ws919"
   },
   "source": [
    "## 4. Проведите оценку результатов A/B-тестирования:"
   ]
  },
  {
   "cell_type": "markdown",
   "id": "dcUdBSmvtC-E",
   "metadata": {
    "id": "dcUdBSmvtC-E"
   },
   "source": [
    "- Проверьте изменение конверсии подходящим статистическим тестом, учитывая все этапы проверки гипотез."
   ]
  },
  {
   "cell_type": "markdown",
   "id": "7a8e5ca0",
   "metadata": {
    "id": "l_KOziBQtL3t"
   },
   "source": [
    "Нулевая гипотеза (H0): Конверсия не изменилась (конверсия до изменений равна конверсии после изменений).\n",
    "\n",
    "Альтернативная гипотеза (H1): Конверсия изменилась (конверсия до изменений не равна конверсии после изменений)."
   ]
  },
  {
   "cell_type": "code",
   "execution_count": 41,
   "id": "369f0703",
   "metadata": {},
   "outputs": [
    {
     "name": "stdout",
     "output_type": "stream",
     "text": [
      "Предпосылка о достаточном количестве данных выполняется!\n",
      "pvalue=0.026072886604683897\n",
      "Нулевая гипотеза не находит подтверждения!\n"
     ]
    }
   ],
   "source": [
    "\n",
    "# Считаем размер группы A\n",
    "n_a = ab_total_users['A']\n",
    "\n",
    "# Считаем размер группы B\n",
    "n_b = ab_total_users['B']\n",
    "\n",
    "# Считаем количество успехов в группе A\n",
    "m_a = ab_purchase['A']\n",
    "\n",
    "# Считаем количество успехов в группе B\n",
    "m_b = ab_purchase['B']\n",
    "\n",
    "# Доли успехов\n",
    "p_a = m_a / n_a if n_a > 0 else 0\n",
    "p_b = m_b / n_b if n_b > 0 else 0\n",
    "\n",
    "# Проверка предпосылки о достаточном количестве данных\n",
    "if n_a >= 30 and n_b >= 30 and m_a >= 5 and m_b >= 5:\n",
    "    print('Предпосылка о достаточном количестве данных выполняется!')\n",
    "else:\n",
    "    print('Предпосылка о достаточном количестве данных НЕ выполняется!')\n",
    "\n",
    "alpha = 0.05  # Уровень значимости\n",
    "\n",
    "# Проведение Z-теста пропорций\n",
    "stat_ztest, p_value_ztest = proportions_ztest([m_b, m_a], [n_b, n_a], alternative='larger')\n",
    "\n",
    "print(f'pvalue={p_value_ztest}')  # Вывод p-value\n",
    "\n",
    "if p_value_ztest > alpha:\n",
    "    print('Нулевая гипотеза находит подтверждение!')\n",
    "else:\n",
    "    print('Нулевая гипотеза не находит подтверждения!')\n"
   ]
  },
  {
   "cell_type": "markdown",
   "id": "9jkyKOjgtGoc",
   "metadata": {
    "id": "9jkyKOjgtGoc"
   },
   "source": [
    "- Опишите выводы по проведённой оценке результатов A/B-тестирования. Что можно сказать про результаты A/B-тестирования? Был ли достигнут ожидаемый эффект в изменении конверсии?"
   ]
  },
  {
   "cell_type": "markdown",
   "id": "npoPPSKytKvR",
   "metadata": {
    "id": "npoPPSKytKvR"
   },
   "source": [
    "AB тестирование проведено корректно, выборка соответсвует действительности и проведенным рассчетам. Пересечений между группами не найдено. По проведенной проверке можно сделать вывод, что конверсия действительно изменилась в положительную сторону."
   ]
  }
 ],
 "metadata": {
  "ExecuteTimeLog": [
   {
    "duration": 433,
    "start_time": "2025-04-18T09:03:50.030Z"
   },
   {
    "duration": 75,
    "start_time": "2025-04-18T09:05:13.858Z"
   },
   {
    "duration": 19,
    "start_time": "2025-04-18T09:05:18.775Z"
   },
   {
    "duration": 74,
    "start_time": "2025-04-18T09:06:05.888Z"
   },
   {
    "duration": 40,
    "start_time": "2025-04-18T09:06:25.289Z"
   },
   {
    "duration": 13,
    "start_time": "2025-04-18T09:06:26.154Z"
   },
   {
    "duration": 11,
    "start_time": "2025-04-18T09:06:42.320Z"
   },
   {
    "duration": 40,
    "start_time": "2025-04-18T09:06:52.710Z"
   },
   {
    "duration": 12,
    "start_time": "2025-04-18T09:06:53.316Z"
   },
   {
    "duration": 45,
    "start_time": "2025-04-18T09:08:20.287Z"
   },
   {
    "duration": 10,
    "start_time": "2025-04-18T09:08:20.909Z"
   },
   {
    "duration": 86,
    "start_time": "2025-04-18T09:18:57.425Z"
   },
   {
    "duration": 877,
    "start_time": "2025-04-18T09:20:17.076Z"
   },
   {
    "duration": 102,
    "start_time": "2025-04-18T09:20:17.955Z"
   },
   {
    "duration": 0,
    "start_time": "2025-04-18T09:20:19.633Z"
   },
   {
    "duration": 0,
    "start_time": "2025-04-18T09:20:19.634Z"
   },
   {
    "duration": 0,
    "start_time": "2025-04-18T09:20:19.635Z"
   },
   {
    "duration": 0,
    "start_time": "2025-04-18T09:20:19.637Z"
   },
   {
    "duration": 0,
    "start_time": "2025-04-18T09:20:19.638Z"
   },
   {
    "duration": 0,
    "start_time": "2025-04-18T09:20:19.638Z"
   },
   {
    "duration": 0,
    "start_time": "2025-04-18T09:20:19.640Z"
   },
   {
    "duration": 4,
    "start_time": "2025-04-18T09:21:05.419Z"
   },
   {
    "duration": 15,
    "start_time": "2025-04-18T09:21:05.424Z"
   },
   {
    "duration": 876,
    "start_time": "2025-04-18T09:21:05.441Z"
   },
   {
    "duration": 55,
    "start_time": "2025-04-18T09:21:06.319Z"
   },
   {
    "duration": 1354,
    "start_time": "2025-04-18T09:21:06.376Z"
   },
   {
    "duration": 0,
    "start_time": "2025-04-18T09:21:07.732Z"
   },
   {
    "duration": 0,
    "start_time": "2025-04-18T09:21:07.733Z"
   },
   {
    "duration": 4,
    "start_time": "2025-04-18T09:23:19.274Z"
   },
   {
    "duration": 9,
    "start_time": "2025-04-18T09:23:26.467Z"
   },
   {
    "duration": 4,
    "start_time": "2025-04-18T09:23:38.826Z"
   },
   {
    "duration": 9,
    "start_time": "2025-04-18T09:23:39.427Z"
   },
   {
    "duration": 2,
    "start_time": "2025-04-18T09:23:49.515Z"
   },
   {
    "duration": 2,
    "start_time": "2025-04-18T09:23:50.005Z"
   },
   {
    "duration": 2,
    "start_time": "2025-04-18T09:23:50.296Z"
   },
   {
    "duration": 66,
    "start_time": "2025-04-18T09:23:50.770Z"
   },
   {
    "duration": 4,
    "start_time": "2025-04-18T09:23:52.188Z"
   },
   {
    "duration": 7,
    "start_time": "2025-04-18T09:23:52.742Z"
   },
   {
    "duration": 4,
    "start_time": "2025-04-18T09:24:03.077Z"
   },
   {
    "duration": 11,
    "start_time": "2025-04-18T09:24:03.519Z"
   },
   {
    "duration": 4,
    "start_time": "2025-04-18T09:24:16.477Z"
   },
   {
    "duration": 5,
    "start_time": "2025-04-18T09:24:17.062Z"
   },
   {
    "duration": 7,
    "start_time": "2025-04-18T09:26:06.725Z"
   },
   {
    "duration": 8,
    "start_time": "2025-04-18T09:31:29.255Z"
   },
   {
    "duration": 8,
    "start_time": "2025-04-18T09:33:08.095Z"
   },
   {
    "duration": 8,
    "start_time": "2025-04-18T09:35:08.790Z"
   },
   {
    "duration": 27,
    "start_time": "2025-04-18T09:37:45.965Z"
   },
   {
    "duration": 91,
    "start_time": "2025-04-18T09:38:42.727Z"
   },
   {
    "duration": 111,
    "start_time": "2025-04-18T09:39:07.255Z"
   },
   {
    "duration": 9,
    "start_time": "2025-04-18T09:39:59.955Z"
   },
   {
    "duration": 331,
    "start_time": "2025-04-18T09:48:49.728Z"
   },
   {
    "duration": 9,
    "start_time": "2025-04-18T09:48:57.829Z"
   },
   {
    "duration": 5,
    "start_time": "2025-04-18T09:49:22.231Z"
   },
   {
    "duration": 9,
    "start_time": "2025-04-18T09:50:05.896Z"
   },
   {
    "duration": 8,
    "start_time": "2025-04-18T09:50:17.435Z"
   },
   {
    "duration": 1567,
    "start_time": "2025-04-18T10:25:38.666Z"
   },
   {
    "duration": 9,
    "start_time": "2025-04-18T10:40:43.614Z"
   },
   {
    "duration": 9,
    "start_time": "2025-04-18T10:40:44.157Z"
   },
   {
    "duration": 9,
    "start_time": "2025-04-18T10:41:27.201Z"
   },
   {
    "duration": 4,
    "start_time": "2025-04-18T10:41:48.186Z"
   },
   {
    "duration": 3,
    "start_time": "2025-04-18T10:42:14.548Z"
   },
   {
    "duration": 5,
    "start_time": "2025-04-18T10:42:52.621Z"
   },
   {
    "duration": 6,
    "start_time": "2025-04-18T10:43:01.269Z"
   },
   {
    "duration": 17,
    "start_time": "2025-04-18T10:43:36.092Z"
   },
   {
    "duration": 109,
    "start_time": "2025-04-18T10:43:36.797Z"
   },
   {
    "duration": 13,
    "start_time": "2025-04-18T10:44:19.607Z"
   },
   {
    "duration": 392,
    "start_time": "2025-04-18T10:44:31.527Z"
   },
   {
    "duration": 34,
    "start_time": "2025-04-18T10:52:38.109Z"
   },
   {
    "duration": 16,
    "start_time": "2025-04-18T10:52:56.978Z"
   },
   {
    "duration": 16,
    "start_time": "2025-04-18T10:53:06.662Z"
   },
   {
    "duration": 84,
    "start_time": "2025-04-18T10:53:40.427Z"
   },
   {
    "duration": 447,
    "start_time": "2025-04-18T10:54:36.886Z"
   },
   {
    "duration": 446,
    "start_time": "2025-04-18T10:54:43.079Z"
   },
   {
    "duration": 5,
    "start_time": "2025-04-18T11:00:45.371Z"
   },
   {
    "duration": 6,
    "start_time": "2025-04-18T11:00:53.110Z"
   },
   {
    "duration": 5,
    "start_time": "2025-04-18T11:01:09.334Z"
   },
   {
    "duration": 11,
    "start_time": "2025-04-18T11:01:09.774Z"
   },
   {
    "duration": 8,
    "start_time": "2025-04-18T11:01:17.521Z"
   },
   {
    "duration": 20,
    "start_time": "2025-04-18T11:08:43.500Z"
   },
   {
    "duration": 12,
    "start_time": "2025-04-18T11:11:35.268Z"
   },
   {
    "duration": 5,
    "start_time": "2025-04-18T11:12:20.861Z"
   },
   {
    "duration": 18,
    "start_time": "2025-04-18T11:18:24.008Z"
   },
   {
    "duration": 4,
    "start_time": "2025-04-18T11:18:55.859Z"
   },
   {
    "duration": 4,
    "start_time": "2025-04-18T11:18:55.865Z"
   },
   {
    "duration": 1422,
    "start_time": "2025-04-18T11:18:55.870Z"
   },
   {
    "duration": 153,
    "start_time": "2025-04-18T11:18:57.294Z"
   },
   {
    "duration": 6,
    "start_time": "2025-04-18T11:18:57.449Z"
   },
   {
    "duration": 149,
    "start_time": "2025-04-18T11:18:57.457Z"
   },
   {
    "duration": 113,
    "start_time": "2025-04-18T11:18:57.608Z"
   },
   {
    "duration": 0,
    "start_time": "2025-04-18T11:18:57.723Z"
   },
   {
    "duration": 0,
    "start_time": "2025-04-18T11:18:57.724Z"
   },
   {
    "duration": 0,
    "start_time": "2025-04-18T11:18:57.725Z"
   },
   {
    "duration": 0,
    "start_time": "2025-04-18T11:18:57.726Z"
   },
   {
    "duration": 0,
    "start_time": "2025-04-18T11:18:57.727Z"
   },
   {
    "duration": 0,
    "start_time": "2025-04-18T11:18:57.728Z"
   },
   {
    "duration": 0,
    "start_time": "2025-04-18T11:18:57.729Z"
   },
   {
    "duration": 0,
    "start_time": "2025-04-18T11:18:57.730Z"
   },
   {
    "duration": 0,
    "start_time": "2025-04-18T11:18:57.731Z"
   },
   {
    "duration": 0,
    "start_time": "2025-04-18T11:18:57.732Z"
   },
   {
    "duration": 116,
    "start_time": "2025-04-18T11:20:54.566Z"
   },
   {
    "duration": 7,
    "start_time": "2025-04-18T11:27:46.383Z"
   },
   {
    "duration": 64,
    "start_time": "2025-04-18T11:36:03.361Z"
   },
   {
    "duration": 4,
    "start_time": "2025-04-18T11:36:12.698Z"
   },
   {
    "duration": 4,
    "start_time": "2025-04-18T11:36:19.037Z"
   },
   {
    "duration": 4,
    "start_time": "2025-04-18T11:46:07.193Z"
   },
   {
    "duration": 6,
    "start_time": "2025-04-18T11:46:07.199Z"
   },
   {
    "duration": 1170,
    "start_time": "2025-04-18T11:46:07.206Z"
   },
   {
    "duration": 44,
    "start_time": "2025-04-18T11:46:08.378Z"
   },
   {
    "duration": 7,
    "start_time": "2025-04-18T11:46:08.423Z"
   },
   {
    "duration": 140,
    "start_time": "2025-04-18T11:46:08.432Z"
   },
   {
    "duration": 8,
    "start_time": "2025-04-18T11:46:08.573Z"
   },
   {
    "duration": 118,
    "start_time": "2025-04-18T11:46:08.582Z"
   },
   {
    "duration": 0,
    "start_time": "2025-04-18T11:46:08.702Z"
   },
   {
    "duration": 0,
    "start_time": "2025-04-18T11:46:08.703Z"
   },
   {
    "duration": 0,
    "start_time": "2025-04-18T11:46:08.704Z"
   },
   {
    "duration": 0,
    "start_time": "2025-04-18T11:46:08.705Z"
   },
   {
    "duration": 0,
    "start_time": "2025-04-18T11:46:08.706Z"
   },
   {
    "duration": 0,
    "start_time": "2025-04-18T11:46:08.707Z"
   },
   {
    "duration": 0,
    "start_time": "2025-04-18T11:46:08.708Z"
   },
   {
    "duration": 0,
    "start_time": "2025-04-18T11:46:08.709Z"
   },
   {
    "duration": 0,
    "start_time": "2025-04-18T11:46:08.710Z"
   },
   {
    "duration": 0,
    "start_time": "2025-04-18T11:46:08.711Z"
   },
   {
    "duration": 10,
    "start_time": "2025-04-18T11:46:35.200Z"
   },
   {
    "duration": 4,
    "start_time": "2025-04-18T11:47:27.480Z"
   },
   {
    "duration": 84,
    "start_time": "2025-04-18T11:47:27.488Z"
   },
   {
    "duration": 1240,
    "start_time": "2025-04-18T11:47:27.574Z"
   },
   {
    "duration": 75,
    "start_time": "2025-04-18T11:47:28.816Z"
   },
   {
    "duration": 7,
    "start_time": "2025-04-18T11:47:28.893Z"
   },
   {
    "duration": 169,
    "start_time": "2025-04-18T11:47:28.902Z"
   },
   {
    "duration": 11,
    "start_time": "2025-04-18T11:47:29.073Z"
   },
   {
    "duration": 11,
    "start_time": "2025-04-18T11:47:29.087Z"
   },
   {
    "duration": 1586,
    "start_time": "2025-04-18T11:47:29.101Z"
   },
   {
    "duration": 10,
    "start_time": "2025-04-18T11:47:30.689Z"
   },
   {
    "duration": 15,
    "start_time": "2025-04-18T11:47:30.702Z"
   },
   {
    "duration": 15,
    "start_time": "2025-04-18T11:47:30.719Z"
   },
   {
    "duration": 144,
    "start_time": "2025-04-18T11:47:30.736Z"
   },
   {
    "duration": 17,
    "start_time": "2025-04-18T11:47:30.881Z"
   },
   {
    "duration": 539,
    "start_time": "2025-04-18T11:47:30.900Z"
   },
   {
    "duration": 37,
    "start_time": "2025-04-18T11:47:31.442Z"
   },
   {
    "duration": 92,
    "start_time": "2025-04-18T11:47:31.481Z"
   },
   {
    "duration": 19,
    "start_time": "2025-04-18T11:47:31.575Z"
   },
   {
    "duration": 16,
    "start_time": "2025-04-18T11:50:00.588Z"
   },
   {
    "duration": 114,
    "start_time": "2025-04-18T11:50:59.413Z"
   },
   {
    "duration": 21,
    "start_time": "2025-04-18T11:51:09.207Z"
   },
   {
    "duration": 7,
    "start_time": "2025-04-18T11:52:11.812Z"
   },
   {
    "duration": 11,
    "start_time": "2025-04-18T11:53:01.629Z"
   },
   {
    "duration": 3,
    "start_time": "2025-04-18T11:53:08.566Z"
   },
   {
    "duration": 5,
    "start_time": "2025-04-18T11:53:08.572Z"
   },
   {
    "duration": 1221,
    "start_time": "2025-04-18T11:53:08.578Z"
   },
   {
    "duration": 84,
    "start_time": "2025-04-18T11:53:09.801Z"
   },
   {
    "duration": 27,
    "start_time": "2025-04-18T11:53:09.887Z"
   },
   {
    "duration": 160,
    "start_time": "2025-04-18T11:53:09.916Z"
   },
   {
    "duration": 12,
    "start_time": "2025-04-18T11:53:10.079Z"
   },
   {
    "duration": 1567,
    "start_time": "2025-04-18T11:53:10.093Z"
   },
   {
    "duration": 9,
    "start_time": "2025-04-18T11:53:11.662Z"
   },
   {
    "duration": 8,
    "start_time": "2025-04-18T11:53:11.673Z"
   },
   {
    "duration": 153,
    "start_time": "2025-04-18T11:53:11.683Z"
   },
   {
    "duration": 118,
    "start_time": "2025-04-18T11:53:11.839Z"
   },
   {
    "duration": 18,
    "start_time": "2025-04-18T11:53:11.960Z"
   },
   {
    "duration": 543,
    "start_time": "2025-04-18T11:53:11.980Z"
   },
   {
    "duration": 17,
    "start_time": "2025-04-18T11:53:12.525Z"
   },
   {
    "duration": 5,
    "start_time": "2025-04-18T11:53:12.561Z"
   },
   {
    "duration": 9,
    "start_time": "2025-04-18T11:53:12.568Z"
   },
   {
    "duration": 4,
    "start_time": "2025-04-18T11:57:14.851Z"
   },
   {
    "duration": 3,
    "start_time": "2025-04-18T11:57:21.527Z"
   },
   {
    "duration": 74,
    "start_time": "2025-04-18T11:57:21.533Z"
   },
   {
    "duration": 1198,
    "start_time": "2025-04-18T11:57:21.609Z"
   },
   {
    "duration": 74,
    "start_time": "2025-04-18T11:57:22.809Z"
   },
   {
    "duration": 25,
    "start_time": "2025-04-18T11:57:22.885Z"
   },
   {
    "duration": 4,
    "start_time": "2025-04-18T11:57:22.912Z"
   },
   {
    "duration": 1022,
    "start_time": "2025-04-18T11:57:22.917Z"
   },
   {
    "duration": 0,
    "start_time": "2025-04-18T11:57:23.941Z"
   },
   {
    "duration": 0,
    "start_time": "2025-04-18T11:57:23.942Z"
   },
   {
    "duration": 0,
    "start_time": "2025-04-18T11:57:23.943Z"
   },
   {
    "duration": 0,
    "start_time": "2025-04-18T11:57:23.945Z"
   },
   {
    "duration": 0,
    "start_time": "2025-04-18T11:57:23.946Z"
   },
   {
    "duration": 0,
    "start_time": "2025-04-18T11:57:23.947Z"
   },
   {
    "duration": 0,
    "start_time": "2025-04-18T11:57:23.948Z"
   },
   {
    "duration": 0,
    "start_time": "2025-04-18T11:57:23.949Z"
   },
   {
    "duration": 0,
    "start_time": "2025-04-18T11:57:23.951Z"
   },
   {
    "duration": 0,
    "start_time": "2025-04-18T11:57:23.952Z"
   },
   {
    "duration": 0,
    "start_time": "2025-04-18T11:57:23.953Z"
   },
   {
    "duration": 843,
    "start_time": "2025-04-18T11:57:48.662Z"
   },
   {
    "duration": 998,
    "start_time": "2025-04-18T11:58:03.387Z"
   },
   {
    "duration": 16,
    "start_time": "2025-04-18T11:58:53.712Z"
   },
   {
    "duration": 871,
    "start_time": "2025-04-18T11:59:32.726Z"
   },
   {
    "duration": 12,
    "start_time": "2025-04-18T12:00:37.756Z"
   },
   {
    "duration": 4,
    "start_time": "2025-04-18T12:00:52.154Z"
   },
   {
    "duration": 919,
    "start_time": "2025-04-18T12:01:03.868Z"
   },
   {
    "duration": 8,
    "start_time": "2025-04-18T12:02:26.544Z"
   },
   {
    "duration": 9,
    "start_time": "2025-04-18T12:02:41.684Z"
   },
   {
    "duration": 10,
    "start_time": "2025-04-18T12:03:08.161Z"
   },
   {
    "duration": 9,
    "start_time": "2025-04-18T12:03:17.924Z"
   },
   {
    "duration": 9,
    "start_time": "2025-04-18T12:04:33.714Z"
   },
   {
    "duration": 3,
    "start_time": "2025-04-18T12:04:44.980Z"
   },
   {
    "duration": 4,
    "start_time": "2025-04-18T12:04:44.992Z"
   },
   {
    "duration": 1237,
    "start_time": "2025-04-18T12:04:44.998Z"
   },
   {
    "duration": 50,
    "start_time": "2025-04-18T12:04:46.237Z"
   },
   {
    "duration": 25,
    "start_time": "2025-04-18T12:04:46.289Z"
   },
   {
    "duration": 5,
    "start_time": "2025-04-18T12:04:46.315Z"
   },
   {
    "duration": 154,
    "start_time": "2025-04-18T12:04:46.322Z"
   },
   {
    "duration": 9,
    "start_time": "2025-04-18T12:04:46.477Z"
   },
   {
    "duration": 1563,
    "start_time": "2025-04-18T12:04:46.487Z"
   },
   {
    "duration": 23,
    "start_time": "2025-04-18T12:04:48.052Z"
   },
   {
    "duration": 9,
    "start_time": "2025-04-18T12:04:48.077Z"
   },
   {
    "duration": 14,
    "start_time": "2025-04-18T12:04:48.087Z"
   },
   {
    "duration": 136,
    "start_time": "2025-04-18T12:04:48.102Z"
   },
   {
    "duration": 32,
    "start_time": "2025-04-18T12:04:48.240Z"
   },
   {
    "duration": 516,
    "start_time": "2025-04-18T12:04:48.275Z"
   },
   {
    "duration": 14,
    "start_time": "2025-04-18T12:04:48.793Z"
   },
   {
    "duration": 5,
    "start_time": "2025-04-18T12:04:48.809Z"
   },
   {
    "duration": 9,
    "start_time": "2025-04-18T12:04:48.815Z"
   },
   {
    "duration": 101,
    "start_time": "2025-04-18T12:23:14.910Z"
   },
   {
    "duration": 4,
    "start_time": "2025-04-18T12:23:19.399Z"
   },
   {
    "duration": 8,
    "start_time": "2025-04-18T12:25:09.933Z"
   },
   {
    "duration": 122,
    "start_time": "2025-04-18T12:25:24.043Z"
   },
   {
    "duration": 20,
    "start_time": "2025-04-18T12:27:00.531Z"
   },
   {
    "duration": 3,
    "start_time": "2025-04-18T12:27:25.407Z"
   },
   {
    "duration": 8,
    "start_time": "2025-04-18T12:27:25.412Z"
   },
   {
    "duration": 1169,
    "start_time": "2025-04-18T12:27:25.421Z"
   },
   {
    "duration": 140,
    "start_time": "2025-04-18T12:27:26.592Z"
   },
   {
    "duration": 24,
    "start_time": "2025-04-18T12:27:26.733Z"
   },
   {
    "duration": 5,
    "start_time": "2025-04-18T12:27:26.758Z"
   },
   {
    "duration": 140,
    "start_time": "2025-04-18T12:27:26.764Z"
   },
   {
    "duration": 7,
    "start_time": "2025-04-18T12:27:26.906Z"
   },
   {
    "duration": 1712,
    "start_time": "2025-04-18T12:27:26.915Z"
   },
   {
    "duration": 9,
    "start_time": "2025-04-18T12:27:28.628Z"
   },
   {
    "duration": 9,
    "start_time": "2025-04-18T12:27:28.639Z"
   },
   {
    "duration": 12,
    "start_time": "2025-04-18T12:27:28.662Z"
   },
   {
    "duration": 124,
    "start_time": "2025-04-18T12:27:28.676Z"
   },
   {
    "duration": 16,
    "start_time": "2025-04-18T12:27:28.801Z"
   },
   {
    "duration": 534,
    "start_time": "2025-04-18T12:27:28.819Z"
   },
   {
    "duration": 5,
    "start_time": "2025-04-18T12:27:29.360Z"
   },
   {
    "duration": 8,
    "start_time": "2025-04-18T12:27:29.367Z"
   },
   {
    "duration": 4,
    "start_time": "2025-04-18T12:27:29.377Z"
   },
   {
    "duration": 141,
    "start_time": "2025-04-18T12:27:29.382Z"
   },
   {
    "duration": 19,
    "start_time": "2025-04-18T12:27:29.525Z"
   },
   {
    "duration": 9,
    "start_time": "2025-04-18T12:28:06.269Z"
   },
   {
    "duration": 11,
    "start_time": "2025-04-18T12:32:11.541Z"
   },
   {
    "duration": 241,
    "start_time": "2025-04-18T12:33:04.211Z"
   },
   {
    "duration": 15,
    "start_time": "2025-04-18T12:33:08.863Z"
   },
   {
    "duration": 10,
    "start_time": "2025-04-18T12:33:31.875Z"
   },
   {
    "duration": 220,
    "start_time": "2025-04-18T12:33:51.860Z"
   },
   {
    "duration": 16,
    "start_time": "2025-04-18T12:33:52.664Z"
   },
   {
    "duration": 3,
    "start_time": "2025-04-18T12:35:22.091Z"
   },
   {
    "duration": 41,
    "start_time": "2025-04-18T12:35:22.098Z"
   },
   {
    "duration": 1235,
    "start_time": "2025-04-18T12:35:22.141Z"
   },
   {
    "duration": 84,
    "start_time": "2025-04-18T12:35:23.378Z"
   },
   {
    "duration": 23,
    "start_time": "2025-04-18T12:35:23.465Z"
   },
   {
    "duration": 4,
    "start_time": "2025-04-18T12:35:23.490Z"
   },
   {
    "duration": 146,
    "start_time": "2025-04-18T12:35:23.496Z"
   },
   {
    "duration": 16,
    "start_time": "2025-04-18T12:35:23.644Z"
   },
   {
    "duration": 1638,
    "start_time": "2025-04-18T12:35:23.662Z"
   },
   {
    "duration": 8,
    "start_time": "2025-04-18T12:35:25.302Z"
   },
   {
    "duration": 11,
    "start_time": "2025-04-18T12:35:25.313Z"
   },
   {
    "duration": 35,
    "start_time": "2025-04-18T12:35:25.326Z"
   },
   {
    "duration": 122,
    "start_time": "2025-04-18T12:35:25.363Z"
   },
   {
    "duration": 17,
    "start_time": "2025-04-18T12:35:25.486Z"
   },
   {
    "duration": 536,
    "start_time": "2025-04-18T12:35:25.504Z"
   },
   {
    "duration": 5,
    "start_time": "2025-04-18T12:35:26.042Z"
   },
   {
    "duration": 21,
    "start_time": "2025-04-18T12:35:26.048Z"
   },
   {
    "duration": 7,
    "start_time": "2025-04-18T12:35:26.070Z"
   },
   {
    "duration": 157,
    "start_time": "2025-04-18T12:35:26.078Z"
   },
   {
    "duration": 10,
    "start_time": "2025-04-18T12:35:26.236Z"
   },
   {
    "duration": 237,
    "start_time": "2025-04-18T12:35:26.248Z"
   },
   {
    "duration": 15,
    "start_time": "2025-04-18T12:35:26.487Z"
   },
   {
    "duration": 84,
    "start_time": "2025-04-18T12:38:10.000Z"
   },
   {
    "duration": 11,
    "start_time": "2025-04-18T12:38:15.914Z"
   },
   {
    "duration": 111,
    "start_time": "2025-04-18T12:42:53.254Z"
   },
   {
    "duration": 20,
    "start_time": "2025-04-18T12:43:11.152Z"
   },
   {
    "duration": 2058,
    "start_time": "2025-04-18T12:43:44.535Z"
   },
   {
    "duration": 30,
    "start_time": "2025-04-18T12:43:57.297Z"
   },
   {
    "duration": 13,
    "start_time": "2025-04-18T12:44:18.628Z"
   },
   {
    "duration": 4,
    "start_time": "2025-04-18T12:44:33.285Z"
   },
   {
    "duration": 9,
    "start_time": "2025-04-18T12:44:33.290Z"
   },
   {
    "duration": 1146,
    "start_time": "2025-04-18T12:44:33.301Z"
   },
   {
    "duration": 84,
    "start_time": "2025-04-18T12:44:34.449Z"
   },
   {
    "duration": 25,
    "start_time": "2025-04-18T12:44:34.535Z"
   },
   {
    "duration": 5,
    "start_time": "2025-04-18T12:44:34.561Z"
   },
   {
    "duration": 144,
    "start_time": "2025-04-18T12:44:34.567Z"
   },
   {
    "duration": 8,
    "start_time": "2025-04-18T12:44:34.713Z"
   },
   {
    "duration": 1478,
    "start_time": "2025-04-18T12:44:34.722Z"
   },
   {
    "duration": 9,
    "start_time": "2025-04-18T12:44:36.202Z"
   },
   {
    "duration": 10,
    "start_time": "2025-04-18T12:44:36.212Z"
   },
   {
    "duration": 13,
    "start_time": "2025-04-18T12:44:36.224Z"
   },
   {
    "duration": 132,
    "start_time": "2025-04-18T12:44:36.239Z"
   },
   {
    "duration": 15,
    "start_time": "2025-04-18T12:44:36.373Z"
   },
   {
    "duration": 506,
    "start_time": "2025-04-18T12:44:36.390Z"
   },
   {
    "duration": 5,
    "start_time": "2025-04-18T12:44:36.898Z"
   },
   {
    "duration": 9,
    "start_time": "2025-04-18T12:44:36.905Z"
   },
   {
    "duration": 10,
    "start_time": "2025-04-18T12:44:36.915Z"
   },
   {
    "duration": 138,
    "start_time": "2025-04-18T12:44:36.927Z"
   },
   {
    "duration": 9,
    "start_time": "2025-04-18T12:44:37.066Z"
   },
   {
    "duration": 93,
    "start_time": "2025-04-18T12:44:37.077Z"
   },
   {
    "duration": 12,
    "start_time": "2025-04-18T12:44:37.172Z"
   },
   {
    "duration": 20,
    "start_time": "2025-04-18T12:44:37.186Z"
   },
   {
    "duration": 17,
    "start_time": "2025-04-18T12:45:00.847Z"
   },
   {
    "duration": 12,
    "start_time": "2025-04-18T12:45:04.449Z"
   },
   {
    "duration": 7,
    "start_time": "2025-04-18T12:45:16.304Z"
   },
   {
    "duration": 10,
    "start_time": "2025-04-18T12:45:22.394Z"
   },
   {
    "duration": 116,
    "start_time": "2025-04-18T12:46:20.972Z"
   },
   {
    "duration": 21,
    "start_time": "2025-04-18T12:47:02.800Z"
   },
   {
    "duration": 82,
    "start_time": "2025-04-18T12:47:36.954Z"
   },
   {
    "duration": 6,
    "start_time": "2025-04-18T12:47:43.224Z"
   },
   {
    "duration": 15,
    "start_time": "2025-04-18T12:47:46.305Z"
   },
   {
    "duration": 6,
    "start_time": "2025-04-18T12:47:46.723Z"
   },
   {
    "duration": 13,
    "start_time": "2025-04-18T12:48:06.432Z"
   },
   {
    "duration": 13,
    "start_time": "2025-04-18T12:48:10.113Z"
   },
   {
    "duration": 22,
    "start_time": "2025-04-18T12:50:51.174Z"
   },
   {
    "duration": 21,
    "start_time": "2025-04-18T12:50:52.586Z"
   },
   {
    "duration": 12,
    "start_time": "2025-04-18T12:51:11.218Z"
   },
   {
    "duration": 20,
    "start_time": "2025-04-18T12:51:33.458Z"
   },
   {
    "duration": 14,
    "start_time": "2025-04-18T12:53:43.479Z"
   },
   {
    "duration": 13,
    "start_time": "2025-04-18T12:55:24.451Z"
   },
   {
    "duration": 16,
    "start_time": "2025-04-18T12:55:25.411Z"
   },
   {
    "duration": 34,
    "start_time": "2025-04-18T12:58:44.742Z"
   },
   {
    "duration": 17,
    "start_time": "2025-04-18T12:58:47.148Z"
   },
   {
    "duration": 20,
    "start_time": "2025-04-18T13:04:29.763Z"
   },
   {
    "duration": 17,
    "start_time": "2025-04-18T13:04:46.243Z"
   },
   {
    "duration": 21,
    "start_time": "2025-04-18T13:05:33.957Z"
   },
   {
    "duration": 16,
    "start_time": "2025-04-18T13:05:43.699Z"
   },
   {
    "duration": 260,
    "start_time": "2025-04-18T13:07:04.984Z"
   },
   {
    "duration": 14,
    "start_time": "2025-04-18T13:07:09.840Z"
   },
   {
    "duration": 3,
    "start_time": "2025-04-18T13:07:21.273Z"
   },
   {
    "duration": 13,
    "start_time": "2025-04-18T13:07:21.277Z"
   },
   {
    "duration": 1243,
    "start_time": "2025-04-18T13:07:21.292Z"
   },
   {
    "duration": 61,
    "start_time": "2025-04-18T13:07:22.538Z"
   },
   {
    "duration": 23,
    "start_time": "2025-04-18T13:07:22.600Z"
   },
   {
    "duration": 10,
    "start_time": "2025-04-18T13:07:22.625Z"
   },
   {
    "duration": 142,
    "start_time": "2025-04-18T13:07:22.636Z"
   },
   {
    "duration": 8,
    "start_time": "2025-04-18T13:07:22.780Z"
   },
   {
    "duration": 1550,
    "start_time": "2025-04-18T13:07:22.790Z"
   },
   {
    "duration": 8,
    "start_time": "2025-04-18T13:07:24.342Z"
   },
   {
    "duration": 17,
    "start_time": "2025-04-18T13:07:24.363Z"
   },
   {
    "duration": 12,
    "start_time": "2025-04-18T13:07:24.381Z"
   },
   {
    "duration": 128,
    "start_time": "2025-04-18T13:07:24.394Z"
   },
   {
    "duration": 15,
    "start_time": "2025-04-18T13:07:24.524Z"
   },
   {
    "duration": 549,
    "start_time": "2025-04-18T13:07:24.541Z"
   },
   {
    "duration": 5,
    "start_time": "2025-04-18T13:07:25.092Z"
   },
   {
    "duration": 15,
    "start_time": "2025-04-18T13:07:25.099Z"
   },
   {
    "duration": 14,
    "start_time": "2025-04-18T13:07:25.115Z"
   },
   {
    "duration": 146,
    "start_time": "2025-04-18T13:07:25.131Z"
   },
   {
    "duration": 9,
    "start_time": "2025-04-18T13:07:25.278Z"
   },
   {
    "duration": 254,
    "start_time": "2025-04-18T13:07:25.289Z"
   },
   {
    "duration": 30,
    "start_time": "2025-04-18T13:07:25.545Z"
   },
   {
    "duration": 103,
    "start_time": "2025-04-18T13:07:25.577Z"
   },
   {
    "duration": 0,
    "start_time": "2025-04-18T13:07:25.682Z"
   },
   {
    "duration": 0,
    "start_time": "2025-04-18T13:07:25.683Z"
   },
   {
    "duration": 13,
    "start_time": "2025-04-18T13:07:42.264Z"
   },
   {
    "duration": 214,
    "start_time": "2025-04-18T13:08:02.301Z"
   },
   {
    "duration": 15,
    "start_time": "2025-04-18T13:08:02.791Z"
   },
   {
    "duration": 15,
    "start_time": "2025-04-18T13:08:54.873Z"
   },
   {
    "duration": 171,
    "start_time": "2025-04-18T13:09:20.225Z"
   },
   {
    "duration": 15,
    "start_time": "2025-04-18T13:09:21.729Z"
   },
   {
    "duration": 17,
    "start_time": "2025-04-18T13:09:27.595Z"
   },
   {
    "duration": 12,
    "start_time": "2025-04-18T13:09:59.700Z"
   },
   {
    "duration": 15,
    "start_time": "2025-04-18T13:10:00.688Z"
   },
   {
    "duration": 27,
    "start_time": "2025-04-18T13:11:36.795Z"
   },
   {
    "duration": 25,
    "start_time": "2025-04-18T13:11:41.350Z"
   },
   {
    "duration": 4,
    "start_time": "2025-04-18T13:12:34.511Z"
   },
   {
    "duration": 19,
    "start_time": "2025-04-18T13:12:39.120Z"
   },
   {
    "duration": 4,
    "start_time": "2025-04-18T13:13:11.383Z"
   },
   {
    "duration": 21,
    "start_time": "2025-04-18T13:13:11.957Z"
   },
   {
    "duration": 99,
    "start_time": "2025-04-18T13:13:41.698Z"
   },
   {
    "duration": 4,
    "start_time": "2025-04-18T13:13:48.176Z"
   },
   {
    "duration": 19,
    "start_time": "2025-04-18T13:13:48.899Z"
   },
   {
    "duration": 12,
    "start_time": "2025-04-18T13:15:09.641Z"
   },
   {
    "duration": 5,
    "start_time": "2025-04-18T13:17:33.528Z"
   },
   {
    "duration": 19,
    "start_time": "2025-04-18T13:17:35.322Z"
   },
   {
    "duration": 4,
    "start_time": "2025-04-18T13:17:50.699Z"
   },
   {
    "duration": 19,
    "start_time": "2025-04-18T13:18:02.397Z"
   },
   {
    "duration": 17,
    "start_time": "2025-04-18T13:18:51.708Z"
   },
   {
    "duration": 6,
    "start_time": "2025-04-18T13:19:25.418Z"
   },
   {
    "duration": 9,
    "start_time": "2025-04-18T13:20:23.089Z"
   },
   {
    "duration": 9,
    "start_time": "2025-04-18T13:20:31.690Z"
   },
   {
    "duration": 26,
    "start_time": "2025-04-18T13:20:42.938Z"
   },
   {
    "duration": 18,
    "start_time": "2025-04-18T13:20:51.344Z"
   },
   {
    "duration": 17,
    "start_time": "2025-04-18T13:21:12.484Z"
   },
   {
    "duration": 3,
    "start_time": "2025-04-18T13:21:22.430Z"
   },
   {
    "duration": 9,
    "start_time": "2025-04-18T13:21:22.435Z"
   },
   {
    "duration": 1293,
    "start_time": "2025-04-18T13:21:22.446Z"
   },
   {
    "duration": 63,
    "start_time": "2025-04-18T13:21:23.741Z"
   },
   {
    "duration": 29,
    "start_time": "2025-04-18T13:21:23.807Z"
   },
   {
    "duration": 30,
    "start_time": "2025-04-18T13:21:23.837Z"
   },
   {
    "duration": 141,
    "start_time": "2025-04-18T13:21:23.869Z"
   },
   {
    "duration": 8,
    "start_time": "2025-04-18T13:21:24.012Z"
   },
   {
    "duration": 1558,
    "start_time": "2025-04-18T13:21:24.022Z"
   },
   {
    "duration": 9,
    "start_time": "2025-04-18T13:21:25.583Z"
   },
   {
    "duration": 27,
    "start_time": "2025-04-18T13:21:25.594Z"
   },
   {
    "duration": 13,
    "start_time": "2025-04-18T13:21:25.623Z"
   },
   {
    "duration": 134,
    "start_time": "2025-04-18T13:21:25.638Z"
   },
   {
    "duration": 24,
    "start_time": "2025-04-18T13:21:25.775Z"
   },
   {
    "duration": 559,
    "start_time": "2025-04-18T13:21:25.802Z"
   },
   {
    "duration": 6,
    "start_time": "2025-04-18T13:21:26.362Z"
   },
   {
    "duration": 9,
    "start_time": "2025-04-18T13:21:26.370Z"
   },
   {
    "duration": 6,
    "start_time": "2025-04-18T13:21:26.380Z"
   },
   {
    "duration": 163,
    "start_time": "2025-04-18T13:21:26.388Z"
   },
   {
    "duration": 16,
    "start_time": "2025-04-18T13:21:26.553Z"
   },
   {
    "duration": 250,
    "start_time": "2025-04-18T13:21:26.571Z"
   },
   {
    "duration": 25,
    "start_time": "2025-04-18T13:21:26.823Z"
   },
   {
    "duration": 37,
    "start_time": "2025-04-18T13:21:26.863Z"
   },
   {
    "duration": 7,
    "start_time": "2025-04-18T13:21:26.902Z"
   },
   {
    "duration": 19,
    "start_time": "2025-04-18T13:21:26.912Z"
   },
   {
    "duration": 29,
    "start_time": "2025-04-18T13:21:26.933Z"
   },
   {
    "duration": 16,
    "start_time": "2025-04-18T13:24:27.502Z"
   },
   {
    "duration": 16,
    "start_time": "2025-04-18T13:28:07.150Z"
   },
   {
    "duration": 19,
    "start_time": "2025-04-18T13:29:23.306Z"
   },
   {
    "duration": 19,
    "start_time": "2025-04-18T13:32:05.375Z"
   },
   {
    "duration": 98,
    "start_time": "2025-04-18T13:36:42.233Z"
   },
   {
    "duration": 5,
    "start_time": "2025-04-18T13:36:48.200Z"
   },
   {
    "duration": 6,
    "start_time": "2025-04-18T13:37:30.054Z"
   },
   {
    "duration": 18,
    "start_time": "2025-04-18T13:37:33.329Z"
   },
   {
    "duration": 7,
    "start_time": "2025-04-18T13:38:00.852Z"
   },
   {
    "duration": 9,
    "start_time": "2025-04-18T13:38:19.851Z"
   },
   {
    "duration": 4,
    "start_time": "2025-04-18T13:41:01.097Z"
   },
   {
    "duration": 5,
    "start_time": "2025-04-18T13:41:01.617Z"
   },
   {
    "duration": 7,
    "start_time": "2025-04-18T13:41:02.214Z"
   },
   {
    "duration": 5,
    "start_time": "2025-04-18T13:41:02.792Z"
   },
   {
    "duration": 4,
    "start_time": "2025-04-18T13:41:26.901Z"
   },
   {
    "duration": 4,
    "start_time": "2025-04-18T13:41:35.797Z"
   },
   {
    "duration": 4,
    "start_time": "2025-04-18T13:42:36.296Z"
   },
   {
    "duration": 3,
    "start_time": "2025-04-18T13:42:59.550Z"
   },
   {
    "duration": 4,
    "start_time": "2025-04-18T13:43:23.003Z"
   },
   {
    "duration": 4,
    "start_time": "2025-04-18T13:43:41.798Z"
   },
   {
    "duration": 4,
    "start_time": "2025-04-18T14:16:04.180Z"
   },
   {
    "duration": 101,
    "start_time": "2025-04-18T14:16:04.186Z"
   },
   {
    "duration": 1220,
    "start_time": "2025-04-18T14:16:04.290Z"
   },
   {
    "duration": 98,
    "start_time": "2025-04-18T14:16:05.511Z"
   },
   {
    "duration": 26,
    "start_time": "2025-04-18T14:16:05.611Z"
   },
   {
    "duration": 6,
    "start_time": "2025-04-18T14:16:05.639Z"
   },
   {
    "duration": 156,
    "start_time": "2025-04-18T14:16:05.647Z"
   },
   {
    "duration": 9,
    "start_time": "2025-04-18T14:16:05.805Z"
   },
   {
    "duration": 1531,
    "start_time": "2025-04-18T14:16:05.815Z"
   },
   {
    "duration": 14,
    "start_time": "2025-04-18T14:16:07.347Z"
   },
   {
    "duration": 8,
    "start_time": "2025-04-18T14:16:07.364Z"
   },
   {
    "duration": 17,
    "start_time": "2025-04-18T14:16:07.373Z"
   },
   {
    "duration": 127,
    "start_time": "2025-04-18T14:16:07.391Z"
   },
   {
    "duration": 16,
    "start_time": "2025-04-18T14:16:07.520Z"
   },
   {
    "duration": 530,
    "start_time": "2025-04-18T14:16:07.537Z"
   },
   {
    "duration": 5,
    "start_time": "2025-04-18T14:16:08.069Z"
   },
   {
    "duration": 23,
    "start_time": "2025-04-18T14:16:08.076Z"
   },
   {
    "duration": 5,
    "start_time": "2025-04-18T14:16:08.101Z"
   },
   {
    "duration": 131,
    "start_time": "2025-04-18T14:16:08.107Z"
   },
   {
    "duration": 21,
    "start_time": "2025-04-18T14:16:08.239Z"
   },
   {
    "duration": 271,
    "start_time": "2025-04-18T14:16:08.262Z"
   },
   {
    "duration": 32,
    "start_time": "2025-04-18T14:16:08.535Z"
   },
   {
    "duration": 28,
    "start_time": "2025-04-18T14:16:08.569Z"
   },
   {
    "duration": 6,
    "start_time": "2025-04-18T14:16:08.599Z"
   },
   {
    "duration": 19,
    "start_time": "2025-04-18T14:16:08.607Z"
   },
   {
    "duration": 43,
    "start_time": "2025-04-18T14:16:08.628Z"
   },
   {
    "duration": 26,
    "start_time": "2025-04-18T14:16:08.673Z"
   },
   {
    "duration": 5,
    "start_time": "2025-04-18T14:16:08.701Z"
   },
   {
    "duration": 5,
    "start_time": "2025-04-18T14:16:08.709Z"
   },
   {
    "duration": 6,
    "start_time": "2025-04-18T14:16:08.715Z"
   },
   {
    "duration": 4,
    "start_time": "2025-04-18T14:16:08.722Z"
   },
   {
    "duration": 6,
    "start_time": "2025-04-18T14:20:23.930Z"
   },
   {
    "duration": 8,
    "start_time": "2025-04-18T14:20:25.622Z"
   },
   {
    "duration": 4,
    "start_time": "2025-04-18T14:20:28.456Z"
   },
   {
    "duration": 9,
    "start_time": "2025-04-18T14:20:44.899Z"
   },
   {
    "duration": 9,
    "start_time": "2025-04-18T14:20:45.432Z"
   },
   {
    "duration": 4,
    "start_time": "2025-04-18T14:20:48.282Z"
   },
   {
    "duration": 10,
    "start_time": "2025-04-18T14:22:07.770Z"
   },
   {
    "duration": 7,
    "start_time": "2025-04-18T14:22:39.716Z"
   },
   {
    "duration": 8,
    "start_time": "2025-04-18T14:22:40.572Z"
   },
   {
    "duration": 5,
    "start_time": "2025-04-18T14:22:55.085Z"
   },
   {
    "duration": 8,
    "start_time": "2025-04-18T14:22:55.675Z"
   },
   {
    "duration": 4,
    "start_time": "2025-04-18T14:22:56.688Z"
   },
   {
    "duration": 201,
    "start_time": "2025-04-18T14:24:33.017Z"
   },
   {
    "duration": 22,
    "start_time": "2025-04-18T14:24:34.360Z"
   },
   {
    "duration": 32,
    "start_time": "2025-04-18T14:24:34.537Z"
   },
   {
    "duration": 7,
    "start_time": "2025-04-18T14:24:34.714Z"
   },
   {
    "duration": 15,
    "start_time": "2025-04-18T14:24:34.881Z"
   },
   {
    "duration": 25,
    "start_time": "2025-04-18T14:24:35.061Z"
   },
   {
    "duration": 4,
    "start_time": "2025-04-18T14:24:40.032Z"
   },
   {
    "duration": 22,
    "start_time": "2025-04-18T14:24:40.039Z"
   },
   {
    "duration": 1201,
    "start_time": "2025-04-18T14:24:40.063Z"
   },
   {
    "duration": 45,
    "start_time": "2025-04-18T14:24:41.265Z"
   },
   {
    "duration": 24,
    "start_time": "2025-04-18T14:24:41.312Z"
   },
   {
    "duration": 4,
    "start_time": "2025-04-18T14:24:41.338Z"
   },
   {
    "duration": 135,
    "start_time": "2025-04-18T14:24:41.344Z"
   },
   {
    "duration": 8,
    "start_time": "2025-04-18T14:24:41.481Z"
   },
   {
    "duration": 1456,
    "start_time": "2025-04-18T14:24:41.490Z"
   },
   {
    "duration": 16,
    "start_time": "2025-04-18T14:24:42.948Z"
   },
   {
    "duration": 9,
    "start_time": "2025-04-18T14:24:42.969Z"
   },
   {
    "duration": 14,
    "start_time": "2025-04-18T14:24:42.981Z"
   },
   {
    "duration": 138,
    "start_time": "2025-04-18T14:24:42.997Z"
   },
   {
    "duration": 29,
    "start_time": "2025-04-18T14:24:43.137Z"
   },
   {
    "duration": 451,
    "start_time": "2025-04-18T14:24:43.168Z"
   },
   {
    "duration": 5,
    "start_time": "2025-04-18T14:24:43.621Z"
   },
   {
    "duration": 22,
    "start_time": "2025-04-18T14:24:43.628Z"
   },
   {
    "duration": 4,
    "start_time": "2025-04-18T14:24:43.660Z"
   },
   {
    "duration": 131,
    "start_time": "2025-04-18T14:24:43.665Z"
   },
   {
    "duration": 9,
    "start_time": "2025-04-18T14:24:43.798Z"
   },
   {
    "duration": 178,
    "start_time": "2025-04-18T14:24:43.809Z"
   },
   {
    "duration": 16,
    "start_time": "2025-04-18T14:24:43.989Z"
   },
   {
    "duration": 28,
    "start_time": "2025-04-18T14:24:44.007Z"
   },
   {
    "duration": 24,
    "start_time": "2025-04-18T14:24:44.036Z"
   },
   {
    "duration": 20,
    "start_time": "2025-04-18T14:24:44.062Z"
   },
   {
    "duration": 18,
    "start_time": "2025-04-18T14:24:44.084Z"
   },
   {
    "duration": 16,
    "start_time": "2025-04-18T14:24:44.104Z"
   },
   {
    "duration": 6,
    "start_time": "2025-04-18T14:24:44.122Z"
   },
   {
    "duration": 5,
    "start_time": "2025-04-18T14:24:44.162Z"
   },
   {
    "duration": 14,
    "start_time": "2025-04-18T14:24:44.169Z"
   },
   {
    "duration": 20,
    "start_time": "2025-04-18T14:24:44.185Z"
   },
   {
    "duration": 15,
    "start_time": "2025-04-18T14:24:54.787Z"
   },
   {
    "duration": 29,
    "start_time": "2025-04-18T14:26:20.898Z"
   },
   {
    "duration": 7,
    "start_time": "2025-04-18T14:26:23.535Z"
   },
   {
    "duration": 12,
    "start_time": "2025-04-18T14:26:23.869Z"
   },
   {
    "duration": 16,
    "start_time": "2025-04-18T14:26:24.641Z"
   },
   {
    "duration": 17,
    "start_time": "2025-04-18T14:28:27.518Z"
   },
   {
    "duration": 8,
    "start_time": "2025-04-18T14:28:47.542Z"
   },
   {
    "duration": 18,
    "start_time": "2025-04-18T14:28:48.192Z"
   },
   {
    "duration": 9,
    "start_time": "2025-04-18T14:29:00.020Z"
   },
   {
    "duration": 18,
    "start_time": "2025-04-18T14:29:00.505Z"
   },
   {
    "duration": 10,
    "start_time": "2025-04-18T14:29:16.974Z"
   },
   {
    "duration": 16,
    "start_time": "2025-04-18T14:29:17.291Z"
   },
   {
    "duration": 15,
    "start_time": "2025-04-18T14:29:20.601Z"
   },
   {
    "duration": 8,
    "start_time": "2025-04-18T14:29:25.246Z"
   },
   {
    "duration": 7,
    "start_time": "2025-04-18T14:29:25.538Z"
   },
   {
    "duration": 22,
    "start_time": "2025-04-18T14:29:25.783Z"
   },
   {
    "duration": 4,
    "start_time": "2025-04-18T14:29:26.096Z"
   },
   {
    "duration": 5,
    "start_time": "2025-04-18T14:29:40.277Z"
   },
   {
    "duration": 128,
    "start_time": "2025-04-18T14:29:40.284Z"
   },
   {
    "duration": 1201,
    "start_time": "2025-04-18T14:29:40.414Z"
   },
   {
    "duration": 45,
    "start_time": "2025-04-18T14:29:41.617Z"
   },
   {
    "duration": 29,
    "start_time": "2025-04-18T14:29:41.665Z"
   },
   {
    "duration": 6,
    "start_time": "2025-04-18T14:29:41.696Z"
   },
   {
    "duration": 158,
    "start_time": "2025-04-18T14:29:41.704Z"
   },
   {
    "duration": 11,
    "start_time": "2025-04-18T14:29:41.864Z"
   },
   {
    "duration": 1569,
    "start_time": "2025-04-18T14:29:41.877Z"
   },
   {
    "duration": 16,
    "start_time": "2025-04-18T14:29:43.449Z"
   },
   {
    "duration": 10,
    "start_time": "2025-04-18T14:29:43.467Z"
   },
   {
    "duration": 15,
    "start_time": "2025-04-18T14:29:43.478Z"
   },
   {
    "duration": 139,
    "start_time": "2025-04-18T14:29:43.495Z"
   },
   {
    "duration": 25,
    "start_time": "2025-04-18T14:29:43.636Z"
   },
   {
    "duration": 526,
    "start_time": "2025-04-18T14:29:43.663Z"
   },
   {
    "duration": 5,
    "start_time": "2025-04-18T14:29:44.191Z"
   },
   {
    "duration": 42,
    "start_time": "2025-04-18T14:29:44.198Z"
   },
   {
    "duration": 170,
    "start_time": "2025-04-18T14:29:44.242Z"
   },
   {
    "duration": 118,
    "start_time": "2025-04-18T14:29:44.413Z"
   },
   {
    "duration": 9,
    "start_time": "2025-04-18T14:29:44.533Z"
   },
   {
    "duration": 192,
    "start_time": "2025-04-18T14:29:44.544Z"
   },
   {
    "duration": 26,
    "start_time": "2025-04-18T14:29:44.738Z"
   },
   {
    "duration": 28,
    "start_time": "2025-04-18T14:29:44.766Z"
   },
   {
    "duration": 34,
    "start_time": "2025-04-18T14:29:44.796Z"
   },
   {
    "duration": 51,
    "start_time": "2025-04-18T14:29:44.832Z"
   },
   {
    "duration": 18,
    "start_time": "2025-04-18T14:29:44.885Z"
   },
   {
    "duration": 28,
    "start_time": "2025-04-18T14:29:44.905Z"
   },
   {
    "duration": 18,
    "start_time": "2025-04-18T14:29:44.935Z"
   },
   {
    "duration": 17,
    "start_time": "2025-04-18T14:29:44.959Z"
   },
   {
    "duration": 10,
    "start_time": "2025-04-18T14:29:44.978Z"
   },
   {
    "duration": 6,
    "start_time": "2025-04-18T14:29:44.990Z"
   },
   {
    "duration": 19,
    "start_time": "2025-04-18T14:29:44.997Z"
   },
   {
    "duration": 28,
    "start_time": "2025-04-18T14:29:45.018Z"
   },
   {
    "duration": 4,
    "start_time": "2025-04-18T15:35:58.121Z"
   },
   {
    "duration": 10,
    "start_time": "2025-04-18T15:35:58.127Z"
   },
   {
    "duration": 1275,
    "start_time": "2025-04-18T15:35:58.139Z"
   },
   {
    "duration": 97,
    "start_time": "2025-04-18T15:35:59.416Z"
   },
   {
    "duration": 26,
    "start_time": "2025-04-18T15:35:59.516Z"
   },
   {
    "duration": 5,
    "start_time": "2025-04-18T15:35:59.543Z"
   },
   {
    "duration": 151,
    "start_time": "2025-04-18T15:35:59.550Z"
   },
   {
    "duration": 10,
    "start_time": "2025-04-18T15:35:59.702Z"
   },
   {
    "duration": 1557,
    "start_time": "2025-04-18T15:35:59.714Z"
   },
   {
    "duration": 11,
    "start_time": "2025-04-18T15:36:01.272Z"
   },
   {
    "duration": 12,
    "start_time": "2025-04-18T15:36:01.284Z"
   },
   {
    "duration": 30,
    "start_time": "2025-04-18T15:36:01.298Z"
   },
   {
    "duration": 131,
    "start_time": "2025-04-18T15:36:01.329Z"
   },
   {
    "duration": 17,
    "start_time": "2025-04-18T15:36:01.464Z"
   },
   {
    "duration": 564,
    "start_time": "2025-04-18T15:36:01.483Z"
   },
   {
    "duration": 15,
    "start_time": "2025-04-18T15:36:02.049Z"
   },
   {
    "duration": 11,
    "start_time": "2025-04-18T15:36:02.066Z"
   },
   {
    "duration": 13,
    "start_time": "2025-04-18T15:36:02.079Z"
   },
   {
    "duration": 166,
    "start_time": "2025-04-18T15:36:02.094Z"
   },
   {
    "duration": 11,
    "start_time": "2025-04-18T15:36:02.262Z"
   },
   {
    "duration": 251,
    "start_time": "2025-04-18T15:36:02.275Z"
   },
   {
    "duration": 17,
    "start_time": "2025-04-18T15:36:02.528Z"
   },
   {
    "duration": 115,
    "start_time": "2025-04-18T15:36:02.547Z"
   },
   {
    "duration": 35,
    "start_time": "2025-04-18T15:36:02.664Z"
   },
   {
    "duration": 16,
    "start_time": "2025-04-18T15:36:02.701Z"
   },
   {
    "duration": 32,
    "start_time": "2025-04-18T15:36:02.719Z"
   },
   {
    "duration": 27,
    "start_time": "2025-04-18T15:36:02.753Z"
   },
   {
    "duration": 19,
    "start_time": "2025-04-18T15:36:02.782Z"
   },
   {
    "duration": 17,
    "start_time": "2025-04-18T15:36:02.803Z"
   },
   {
    "duration": 40,
    "start_time": "2025-04-18T15:36:02.822Z"
   },
   {
    "duration": 56,
    "start_time": "2025-04-18T15:36:02.864Z"
   },
   {
    "duration": 31,
    "start_time": "2025-04-18T15:36:02.921Z"
   },
   {
    "duration": 5,
    "start_time": "2025-04-18T15:36:02.954Z"
   },
   {
    "duration": 3,
    "start_time": "2025-04-18T15:43:08.779Z"
   },
   {
    "duration": 4,
    "start_time": "2025-04-18T15:43:08.784Z"
   },
   {
    "duration": 1201,
    "start_time": "2025-04-18T15:43:08.789Z"
   },
   {
    "duration": 49,
    "start_time": "2025-04-18T15:43:09.991Z"
   },
   {
    "duration": 27,
    "start_time": "2025-04-18T15:43:10.042Z"
   },
   {
    "duration": 6,
    "start_time": "2025-04-18T15:43:10.071Z"
   },
   {
    "duration": 139,
    "start_time": "2025-04-18T15:43:10.078Z"
   },
   {
    "duration": 9,
    "start_time": "2025-04-18T15:43:10.219Z"
   },
   {
    "duration": 1479,
    "start_time": "2025-04-18T15:43:10.230Z"
   },
   {
    "duration": 13,
    "start_time": "2025-04-18T15:43:11.710Z"
   },
   {
    "duration": 120,
    "start_time": "2025-04-18T15:43:11.724Z"
   },
   {
    "duration": 23,
    "start_time": "2025-04-18T15:43:11.846Z"
   },
   {
    "duration": 482,
    "start_time": "2025-04-18T15:43:11.871Z"
   },
   {
    "duration": 8,
    "start_time": "2025-04-18T15:43:12.354Z"
   },
   {
    "duration": 12,
    "start_time": "2025-04-18T15:43:12.364Z"
   },
   {
    "duration": 5,
    "start_time": "2025-04-18T15:43:12.378Z"
   },
   {
    "duration": 133,
    "start_time": "2025-04-18T15:43:12.384Z"
   },
   {
    "duration": 8,
    "start_time": "2025-04-18T15:43:12.519Z"
   },
   {
    "duration": 274,
    "start_time": "2025-04-18T15:43:12.529Z"
   },
   {
    "duration": 15,
    "start_time": "2025-04-18T15:43:12.805Z"
   },
   {
    "duration": 42,
    "start_time": "2025-04-18T15:43:12.822Z"
   },
   {
    "duration": 32,
    "start_time": "2025-04-18T15:43:12.865Z"
   },
   {
    "duration": 26,
    "start_time": "2025-04-18T15:43:12.898Z"
   },
   {
    "duration": 23,
    "start_time": "2025-04-18T15:43:12.925Z"
   },
   {
    "duration": 31,
    "start_time": "2025-04-18T15:43:12.950Z"
   },
   {
    "duration": 17,
    "start_time": "2025-04-18T15:43:12.983Z"
   },
   {
    "duration": 77,
    "start_time": "2025-04-18T15:43:13.002Z"
   },
   {
    "duration": 10,
    "start_time": "2025-04-18T15:43:13.080Z"
   },
   {
    "duration": 15,
    "start_time": "2025-04-18T15:43:13.092Z"
   },
   {
    "duration": 17,
    "start_time": "2025-04-18T15:43:13.110Z"
   },
   {
    "duration": 5,
    "start_time": "2025-04-18T15:43:13.128Z"
   },
   {
    "duration": 75,
    "start_time": "2025-04-18T15:48:52.497Z"
   },
   {
    "duration": 219,
    "start_time": "2025-04-18T15:50:05.578Z"
   },
   {
    "duration": 18,
    "start_time": "2025-04-18T15:51:49.631Z"
   },
   {
    "duration": 103,
    "start_time": "2025-04-18T16:04:57.246Z"
   },
   {
    "duration": 11,
    "start_time": "2025-04-18T16:06:59.374Z"
   },
   {
    "duration": 6,
    "start_time": "2025-04-18T16:07:26.378Z"
   },
   {
    "duration": 4,
    "start_time": "2025-04-18T16:07:32.741Z"
   },
   {
    "duration": 4,
    "start_time": "2025-04-18T16:07:32.747Z"
   },
   {
    "duration": 1229,
    "start_time": "2025-04-18T16:07:32.753Z"
   },
   {
    "duration": 67,
    "start_time": "2025-04-18T16:07:33.984Z"
   },
   {
    "duration": 25,
    "start_time": "2025-04-18T16:07:34.053Z"
   },
   {
    "duration": 5,
    "start_time": "2025-04-18T16:07:34.080Z"
   },
   {
    "duration": 149,
    "start_time": "2025-04-18T16:07:34.086Z"
   },
   {
    "duration": 8,
    "start_time": "2025-04-18T16:07:34.237Z"
   },
   {
    "duration": 1587,
    "start_time": "2025-04-18T16:07:34.247Z"
   },
   {
    "duration": 13,
    "start_time": "2025-04-18T16:07:35.836Z"
   },
   {
    "duration": 129,
    "start_time": "2025-04-18T16:07:35.851Z"
   },
   {
    "duration": 16,
    "start_time": "2025-04-18T16:07:35.982Z"
   },
   {
    "duration": 524,
    "start_time": "2025-04-18T16:07:36.000Z"
   },
   {
    "duration": 5,
    "start_time": "2025-04-18T16:07:36.526Z"
   },
   {
    "duration": 10,
    "start_time": "2025-04-18T16:07:36.532Z"
   },
   {
    "duration": 182,
    "start_time": "2025-04-18T16:07:36.544Z"
   },
   {
    "duration": 121,
    "start_time": "2025-04-18T16:07:36.728Z"
   },
   {
    "duration": 13,
    "start_time": "2025-04-18T16:07:36.851Z"
   },
   {
    "duration": 195,
    "start_time": "2025-04-18T16:07:36.865Z"
   },
   {
    "duration": 15,
    "start_time": "2025-04-18T16:07:37.062Z"
   },
   {
    "duration": 27,
    "start_time": "2025-04-18T16:07:37.079Z"
   },
   {
    "duration": 69,
    "start_time": "2025-04-18T16:07:37.108Z"
   },
   {
    "duration": 6,
    "start_time": "2025-04-18T16:07:37.179Z"
   },
   {
    "duration": 26,
    "start_time": "2025-04-18T16:07:37.187Z"
   },
   {
    "duration": 17,
    "start_time": "2025-04-18T16:07:37.215Z"
   },
   {
    "duration": 40,
    "start_time": "2025-04-18T16:07:37.234Z"
   },
   {
    "duration": 10,
    "start_time": "2025-04-18T16:07:37.275Z"
   },
   {
    "duration": 6,
    "start_time": "2025-04-18T16:07:37.287Z"
   },
   {
    "duration": 17,
    "start_time": "2025-04-18T16:07:37.295Z"
   },
   {
    "duration": 5,
    "start_time": "2025-04-18T16:07:37.314Z"
   },
   {
    "duration": 8,
    "start_time": "2025-04-18T16:07:37.320Z"
   },
   {
    "duration": 3,
    "start_time": "2025-04-18T16:11:08.575Z"
   },
   {
    "duration": 7,
    "start_time": "2025-04-18T16:11:31.090Z"
   },
   {
    "duration": 4,
    "start_time": "2025-04-18T16:13:56.079Z"
   },
   {
    "duration": 13,
    "start_time": "2025-04-18T16:13:56.086Z"
   },
   {
    "duration": 1191,
    "start_time": "2025-04-18T16:13:56.101Z"
   },
   {
    "duration": 46,
    "start_time": "2025-04-18T16:13:57.294Z"
   },
   {
    "duration": 27,
    "start_time": "2025-04-18T16:13:57.342Z"
   },
   {
    "duration": 5,
    "start_time": "2025-04-18T16:13:57.371Z"
   },
   {
    "duration": 153,
    "start_time": "2025-04-18T16:13:57.378Z"
   },
   {
    "duration": 9,
    "start_time": "2025-04-18T16:13:57.533Z"
   },
   {
    "duration": 1492,
    "start_time": "2025-04-18T16:13:57.544Z"
   },
   {
    "duration": 27,
    "start_time": "2025-04-18T16:13:59.039Z"
   },
   {
    "duration": 125,
    "start_time": "2025-04-18T16:13:59.068Z"
   },
   {
    "duration": 17,
    "start_time": "2025-04-18T16:13:59.195Z"
   },
   {
    "duration": 538,
    "start_time": "2025-04-18T16:13:59.214Z"
   },
   {
    "duration": 9,
    "start_time": "2025-04-18T16:13:59.753Z"
   },
   {
    "duration": 11,
    "start_time": "2025-04-18T16:13:59.764Z"
   },
   {
    "duration": 4,
    "start_time": "2025-04-18T16:13:59.776Z"
   },
   {
    "duration": 133,
    "start_time": "2025-04-18T16:13:59.781Z"
   },
   {
    "duration": 9,
    "start_time": "2025-04-18T16:13:59.916Z"
   },
   {
    "duration": 214,
    "start_time": "2025-04-18T16:13:59.927Z"
   },
   {
    "duration": 22,
    "start_time": "2025-04-18T16:14:00.142Z"
   },
   {
    "duration": 53,
    "start_time": "2025-04-18T16:14:00.166Z"
   },
   {
    "duration": 48,
    "start_time": "2025-04-18T16:14:00.221Z"
   },
   {
    "duration": 8,
    "start_time": "2025-04-18T16:14:00.271Z"
   },
   {
    "duration": 67,
    "start_time": "2025-04-18T16:14:00.281Z"
   },
   {
    "duration": 95,
    "start_time": "2025-04-18T16:14:00.351Z"
   },
   {
    "duration": 19,
    "start_time": "2025-04-18T16:14:00.448Z"
   },
   {
    "duration": 14,
    "start_time": "2025-04-18T16:14:00.469Z"
   },
   {
    "duration": 19,
    "start_time": "2025-04-18T16:14:00.485Z"
   },
   {
    "duration": 42,
    "start_time": "2025-04-18T16:14:00.506Z"
   },
   {
    "duration": 4,
    "start_time": "2025-04-18T16:14:00.550Z"
   },
   {
    "duration": 84,
    "start_time": "2025-04-18T16:14:00.556Z"
   },
   {
    "duration": 49,
    "start_time": "2025-04-19T20:14:46.501Z"
   },
   {
    "duration": 3,
    "start_time": "2025-04-19T20:14:59.950Z"
   },
   {
    "duration": 3,
    "start_time": "2025-04-19T20:14:59.956Z"
   },
   {
    "duration": 1458,
    "start_time": "2025-04-19T20:14:59.963Z"
   },
   {
    "duration": 58,
    "start_time": "2025-04-19T20:15:01.423Z"
   },
   {
    "duration": 14,
    "start_time": "2025-04-19T20:15:01.483Z"
   },
   {
    "duration": 36,
    "start_time": "2025-04-19T20:15:01.499Z"
   },
   {
    "duration": 5,
    "start_time": "2025-04-19T20:15:01.537Z"
   },
   {
    "duration": 175,
    "start_time": "2025-04-19T20:15:01.543Z"
   },
   {
    "duration": 19,
    "start_time": "2025-04-19T20:15:01.719Z"
   },
   {
    "duration": 1625,
    "start_time": "2025-04-19T20:15:01.740Z"
   },
   {
    "duration": 12,
    "start_time": "2025-04-19T20:15:03.367Z"
   },
   {
    "duration": 146,
    "start_time": "2025-04-19T20:15:03.382Z"
   },
   {
    "duration": 21,
    "start_time": "2025-04-19T20:15:03.529Z"
   },
   {
    "duration": 556,
    "start_time": "2025-04-19T20:15:03.552Z"
   },
   {
    "duration": 5,
    "start_time": "2025-04-19T20:15:04.109Z"
   },
   {
    "duration": 22,
    "start_time": "2025-04-19T20:15:04.116Z"
   },
   {
    "duration": 139,
    "start_time": "2025-04-19T20:15:04.139Z"
   },
   {
    "duration": 193,
    "start_time": "2025-04-19T20:15:04.280Z"
   },
   {
    "duration": 12,
    "start_time": "2025-04-19T20:15:04.475Z"
   },
   {
    "duration": 231,
    "start_time": "2025-04-19T20:15:04.489Z"
   },
   {
    "duration": 121,
    "start_time": "2025-04-19T20:15:04.722Z"
   },
   {
    "duration": 57,
    "start_time": "2025-04-19T20:15:04.845Z"
   },
   {
    "duration": 43,
    "start_time": "2025-04-19T20:15:04.903Z"
   },
   {
    "duration": 8,
    "start_time": "2025-04-19T20:15:04.947Z"
   },
   {
    "duration": 40,
    "start_time": "2025-04-19T20:15:04.957Z"
   },
   {
    "duration": 17,
    "start_time": "2025-04-19T20:15:04.999Z"
   },
   {
    "duration": 27,
    "start_time": "2025-04-19T20:15:05.017Z"
   },
   {
    "duration": 10,
    "start_time": "2025-04-19T20:15:05.046Z"
   },
   {
    "duration": 17,
    "start_time": "2025-04-19T20:15:05.058Z"
   },
   {
    "duration": 99,
    "start_time": "2025-04-19T20:15:05.078Z"
   },
   {
    "duration": 49,
    "start_time": "2025-04-19T20:15:05.178Z"
   },
   {
    "duration": 20,
    "start_time": "2025-04-19T20:15:05.229Z"
   },
   {
    "duration": 5,
    "start_time": "2025-04-19T20:15:47.325Z"
   },
   {
    "duration": 13,
    "start_time": "2025-04-19T20:15:54.432Z"
   },
   {
    "duration": 11,
    "start_time": "2025-04-19T20:16:06.128Z"
   },
   {
    "duration": 15,
    "start_time": "2025-04-19T20:16:39.008Z"
   },
   {
    "duration": 8,
    "start_time": "2025-04-19T20:16:49.719Z"
   },
   {
    "duration": 132,
    "start_time": "2025-04-19T20:17:04.503Z"
   },
   {
    "duration": 260,
    "start_time": "2025-04-19T20:25:11.322Z"
   },
   {
    "duration": 191,
    "start_time": "2025-04-19T20:26:54.755Z"
   },
   {
    "duration": 179,
    "start_time": "2025-04-19T20:27:10.805Z"
   },
   {
    "duration": 187,
    "start_time": "2025-04-19T20:27:29.413Z"
   },
   {
    "duration": 359,
    "start_time": "2025-04-19T20:29:36.571Z"
   },
   {
    "duration": 133,
    "start_time": "2025-04-19T20:29:51.637Z"
   },
   {
    "duration": 132,
    "start_time": "2025-04-19T20:30:29.900Z"
   },
   {
    "duration": 128,
    "start_time": "2025-04-19T20:30:43.376Z"
   },
   {
    "duration": 128,
    "start_time": "2025-04-19T20:30:50.731Z"
   },
   {
    "duration": 125,
    "start_time": "2025-04-19T20:31:46.625Z"
   },
   {
    "duration": 132,
    "start_time": "2025-04-19T20:31:48.383Z"
   },
   {
    "duration": 410,
    "start_time": "2025-04-19T20:33:58.083Z"
   },
   {
    "duration": 3,
    "start_time": "2025-04-19T20:34:44.109Z"
   },
   {
    "duration": 39,
    "start_time": "2025-04-19T20:34:44.115Z"
   },
   {
    "duration": 1225,
    "start_time": "2025-04-19T20:34:44.156Z"
   },
   {
    "duration": 114,
    "start_time": "2025-04-19T20:34:45.382Z"
   },
   {
    "duration": 14,
    "start_time": "2025-04-19T20:34:45.499Z"
   },
   {
    "duration": 44,
    "start_time": "2025-04-19T20:34:45.515Z"
   },
   {
    "duration": 16,
    "start_time": "2025-04-19T20:34:45.561Z"
   },
   {
    "duration": 34,
    "start_time": "2025-04-19T20:34:45.579Z"
   },
   {
    "duration": 140,
    "start_time": "2025-04-19T20:34:45.615Z"
   },
   {
    "duration": 142,
    "start_time": "2025-04-19T20:34:45.757Z"
   },
   {
    "duration": 136,
    "start_time": "2025-04-19T20:34:45.902Z"
   },
   {
    "duration": 10,
    "start_time": "2025-04-19T20:34:46.040Z"
   },
   {
    "duration": 1632,
    "start_time": "2025-04-19T20:34:46.052Z"
   },
   {
    "duration": 18,
    "start_time": "2025-04-19T20:34:47.686Z"
   },
   {
    "duration": 145,
    "start_time": "2025-04-19T20:34:47.706Z"
   },
   {
    "duration": 16,
    "start_time": "2025-04-19T20:34:47.853Z"
   },
   {
    "duration": 496,
    "start_time": "2025-04-19T20:34:47.871Z"
   },
   {
    "duration": 382,
    "start_time": "2025-04-19T20:34:48.369Z"
   },
   {
    "duration": 6,
    "start_time": "2025-04-19T20:34:48.753Z"
   },
   {
    "duration": 51,
    "start_time": "2025-04-19T20:34:48.760Z"
   },
   {
    "duration": 13,
    "start_time": "2025-04-19T20:34:48.813Z"
   },
   {
    "duration": 126,
    "start_time": "2025-04-19T20:34:48.828Z"
   },
   {
    "duration": 12,
    "start_time": "2025-04-19T20:34:48.956Z"
   },
   {
    "duration": 191,
    "start_time": "2025-04-19T20:34:48.969Z"
   },
   {
    "duration": 15,
    "start_time": "2025-04-19T20:34:49.162Z"
   },
   {
    "duration": 127,
    "start_time": "2025-04-19T20:34:49.179Z"
   },
   {
    "duration": 54,
    "start_time": "2025-04-19T20:34:49.308Z"
   },
   {
    "duration": 7,
    "start_time": "2025-04-19T20:34:49.364Z"
   },
   {
    "duration": 20,
    "start_time": "2025-04-19T20:34:49.375Z"
   },
   {
    "duration": 23,
    "start_time": "2025-04-19T20:34:49.396Z"
   },
   {
    "duration": 15,
    "start_time": "2025-04-19T20:34:49.436Z"
   },
   {
    "duration": 9,
    "start_time": "2025-04-19T20:34:49.453Z"
   },
   {
    "duration": 12,
    "start_time": "2025-04-19T20:34:49.464Z"
   },
   {
    "duration": 17,
    "start_time": "2025-04-19T20:34:49.477Z"
   },
   {
    "duration": 5,
    "start_time": "2025-04-19T20:34:49.495Z"
   },
   {
    "duration": 38,
    "start_time": "2025-04-19T20:34:49.501Z"
   },
   {
    "duration": 6,
    "start_time": "2025-04-19T20:36:10.554Z"
   },
   {
    "duration": 5,
    "start_time": "2025-04-19T20:36:15.193Z"
   },
   {
    "duration": 4,
    "start_time": "2025-04-19T20:36:27.631Z"
   },
   {
    "duration": 5,
    "start_time": "2025-04-19T20:36:27.638Z"
   },
   {
    "duration": 1234,
    "start_time": "2025-04-19T20:36:27.645Z"
   },
   {
    "duration": 87,
    "start_time": "2025-04-19T20:36:28.881Z"
   },
   {
    "duration": 16,
    "start_time": "2025-04-19T20:36:28.970Z"
   },
   {
    "duration": 33,
    "start_time": "2025-04-19T20:36:28.989Z"
   },
   {
    "duration": 5,
    "start_time": "2025-04-19T20:36:29.025Z"
   },
   {
    "duration": 20,
    "start_time": "2025-04-19T20:36:29.032Z"
   },
   {
    "duration": 156,
    "start_time": "2025-04-19T20:36:29.054Z"
   },
   {
    "duration": 139,
    "start_time": "2025-04-19T20:36:29.211Z"
   },
   {
    "duration": 144,
    "start_time": "2025-04-19T20:36:29.352Z"
   },
   {
    "duration": 9,
    "start_time": "2025-04-19T20:36:29.498Z"
   },
   {
    "duration": 1599,
    "start_time": "2025-04-19T20:36:29.509Z"
   },
   {
    "duration": 13,
    "start_time": "2025-04-19T20:36:31.110Z"
   },
   {
    "duration": 126,
    "start_time": "2025-04-19T20:36:31.136Z"
   },
   {
    "duration": 16,
    "start_time": "2025-04-19T20:36:31.264Z"
   },
   {
    "duration": 494,
    "start_time": "2025-04-19T20:36:31.282Z"
   },
   {
    "duration": 358,
    "start_time": "2025-04-19T20:36:31.778Z"
   },
   {
    "duration": 6,
    "start_time": "2025-04-19T20:36:32.138Z"
   },
   {
    "duration": 1026,
    "start_time": "2025-04-19T20:36:32.145Z"
   },
   {
    "duration": 0,
    "start_time": "2025-04-19T20:36:33.173Z"
   },
   {
    "duration": 0,
    "start_time": "2025-04-19T20:36:33.174Z"
   },
   {
    "duration": 0,
    "start_time": "2025-04-19T20:36:33.176Z"
   },
   {
    "duration": 0,
    "start_time": "2025-04-19T20:36:33.177Z"
   },
   {
    "duration": 0,
    "start_time": "2025-04-19T20:36:33.177Z"
   },
   {
    "duration": 0,
    "start_time": "2025-04-19T20:36:33.179Z"
   },
   {
    "duration": 0,
    "start_time": "2025-04-19T20:36:33.180Z"
   },
   {
    "duration": 0,
    "start_time": "2025-04-19T20:36:33.181Z"
   },
   {
    "duration": 0,
    "start_time": "2025-04-19T20:36:33.182Z"
   },
   {
    "duration": 1,
    "start_time": "2025-04-19T20:36:33.182Z"
   },
   {
    "duration": 0,
    "start_time": "2025-04-19T20:36:33.184Z"
   },
   {
    "duration": 0,
    "start_time": "2025-04-19T20:36:33.185Z"
   },
   {
    "duration": 0,
    "start_time": "2025-04-19T20:36:33.186Z"
   },
   {
    "duration": 0,
    "start_time": "2025-04-19T20:36:33.187Z"
   },
   {
    "duration": 0,
    "start_time": "2025-04-19T20:36:33.188Z"
   },
   {
    "duration": 0,
    "start_time": "2025-04-19T20:36:33.189Z"
   },
   {
    "duration": 0,
    "start_time": "2025-04-19T20:36:33.190Z"
   },
   {
    "duration": 4,
    "start_time": "2025-04-19T20:37:05.093Z"
   },
   {
    "duration": 12,
    "start_time": "2025-04-19T20:37:05.100Z"
   },
   {
    "duration": 1253,
    "start_time": "2025-04-19T20:37:05.114Z"
   },
   {
    "duration": 53,
    "start_time": "2025-04-19T20:37:06.368Z"
   },
   {
    "duration": 37,
    "start_time": "2025-04-19T20:37:06.423Z"
   },
   {
    "duration": 36,
    "start_time": "2025-04-19T20:37:06.462Z"
   },
   {
    "duration": 5,
    "start_time": "2025-04-19T20:37:06.500Z"
   },
   {
    "duration": 19,
    "start_time": "2025-04-19T20:37:06.506Z"
   },
   {
    "duration": 190,
    "start_time": "2025-04-19T20:37:06.527Z"
   },
   {
    "duration": 138,
    "start_time": "2025-04-19T20:37:06.720Z"
   },
   {
    "duration": 136,
    "start_time": "2025-04-19T20:37:06.859Z"
   },
   {
    "duration": 11,
    "start_time": "2025-04-19T20:37:06.997Z"
   },
   {
    "duration": 1527,
    "start_time": "2025-04-19T20:37:07.010Z"
   },
   {
    "duration": 13,
    "start_time": "2025-04-19T20:37:08.538Z"
   },
   {
    "duration": 131,
    "start_time": "2025-04-19T20:37:08.553Z"
   },
   {
    "duration": 16,
    "start_time": "2025-04-19T20:37:08.686Z"
   },
   {
    "duration": 485,
    "start_time": "2025-04-19T20:37:08.704Z"
   },
   {
    "duration": 354,
    "start_time": "2025-04-19T20:37:09.191Z"
   },
   {
    "duration": 5,
    "start_time": "2025-04-19T20:37:09.546Z"
   },
   {
    "duration": 10,
    "start_time": "2025-04-19T20:37:09.553Z"
   },
   {
    "duration": 21,
    "start_time": "2025-04-19T20:37:09.564Z"
   },
   {
    "duration": 136,
    "start_time": "2025-04-19T20:37:09.586Z"
   },
   {
    "duration": 18,
    "start_time": "2025-04-19T20:37:09.725Z"
   },
   {
    "duration": 165,
    "start_time": "2025-04-19T20:37:09.744Z"
   },
   {
    "duration": 24,
    "start_time": "2025-04-19T20:37:09.912Z"
   },
   {
    "duration": 21,
    "start_time": "2025-04-19T20:37:09.938Z"
   },
   {
    "duration": 29,
    "start_time": "2025-04-19T20:37:09.961Z"
   },
   {
    "duration": 27,
    "start_time": "2025-04-19T20:37:09.991Z"
   },
   {
    "duration": 45,
    "start_time": "2025-04-19T20:37:10.019Z"
   },
   {
    "duration": 99,
    "start_time": "2025-04-19T20:37:10.065Z"
   },
   {
    "duration": 19,
    "start_time": "2025-04-19T20:37:10.166Z"
   },
   {
    "duration": 10,
    "start_time": "2025-04-19T20:37:10.187Z"
   },
   {
    "duration": 8,
    "start_time": "2025-04-19T20:37:10.198Z"
   },
   {
    "duration": 16,
    "start_time": "2025-04-19T20:37:10.207Z"
   },
   {
    "duration": 13,
    "start_time": "2025-04-19T20:37:10.224Z"
   },
   {
    "duration": 6,
    "start_time": "2025-04-19T20:37:10.239Z"
   },
   {
    "duration": 4,
    "start_time": "2025-04-19T20:39:37.529Z"
   },
   {
    "duration": 7,
    "start_time": "2025-04-19T20:40:02.264Z"
   },
   {
    "duration": 4,
    "start_time": "2025-04-19T20:40:34.615Z"
   },
   {
    "duration": 15,
    "start_time": "2025-04-19T20:40:34.621Z"
   },
   {
    "duration": 1248,
    "start_time": "2025-04-19T20:40:34.638Z"
   },
   {
    "duration": 58,
    "start_time": "2025-04-19T20:40:35.888Z"
   },
   {
    "duration": 15,
    "start_time": "2025-04-19T20:40:35.948Z"
   },
   {
    "duration": 61,
    "start_time": "2025-04-19T20:40:35.964Z"
   },
   {
    "duration": 26,
    "start_time": "2025-04-19T20:40:36.027Z"
   },
   {
    "duration": 51,
    "start_time": "2025-04-19T20:40:36.055Z"
   },
   {
    "duration": 225,
    "start_time": "2025-04-19T20:40:36.108Z"
   },
   {
    "duration": 133,
    "start_time": "2025-04-19T20:40:36.337Z"
   },
   {
    "duration": 138,
    "start_time": "2025-04-19T20:40:36.471Z"
   },
   {
    "duration": 9,
    "start_time": "2025-04-19T20:40:36.611Z"
   },
   {
    "duration": 1558,
    "start_time": "2025-04-19T20:40:36.621Z"
   },
   {
    "duration": 12,
    "start_time": "2025-04-19T20:40:38.181Z"
   },
   {
    "duration": 128,
    "start_time": "2025-04-19T20:40:38.195Z"
   },
   {
    "duration": 23,
    "start_time": "2025-04-19T20:40:38.325Z"
   },
   {
    "duration": 489,
    "start_time": "2025-04-19T20:40:38.349Z"
   },
   {
    "duration": 376,
    "start_time": "2025-04-19T20:40:38.840Z"
   },
   {
    "duration": 4,
    "start_time": "2025-04-19T20:40:39.218Z"
   },
   {
    "duration": 90,
    "start_time": "2025-04-19T20:40:39.224Z"
   },
   {
    "duration": 7,
    "start_time": "2025-04-19T20:40:39.316Z"
   },
   {
    "duration": 129,
    "start_time": "2025-04-19T20:40:39.325Z"
   },
   {
    "duration": 10,
    "start_time": "2025-04-19T20:40:39.455Z"
   },
   {
    "duration": 184,
    "start_time": "2025-04-19T20:40:39.466Z"
   },
   {
    "duration": 15,
    "start_time": "2025-04-19T20:40:39.654Z"
   },
   {
    "duration": 20,
    "start_time": "2025-04-19T20:40:39.671Z"
   },
   {
    "duration": 48,
    "start_time": "2025-04-19T20:40:39.693Z"
   },
   {
    "duration": 6,
    "start_time": "2025-04-19T20:40:39.743Z"
   },
   {
    "duration": 38,
    "start_time": "2025-04-19T20:40:39.750Z"
   },
   {
    "duration": 32,
    "start_time": "2025-04-19T20:40:39.789Z"
   },
   {
    "duration": 26,
    "start_time": "2025-04-19T20:40:39.822Z"
   },
   {
    "duration": 9,
    "start_time": "2025-04-19T20:40:39.850Z"
   },
   {
    "duration": 43,
    "start_time": "2025-04-19T20:40:39.860Z"
   },
   {
    "duration": 15,
    "start_time": "2025-04-19T20:40:39.905Z"
   },
   {
    "duration": 7,
    "start_time": "2025-04-19T20:40:39.922Z"
   },
   {
    "duration": 23,
    "start_time": "2025-04-19T20:40:39.930Z"
   },
   {
    "duration": 4,
    "start_time": "2025-04-19T20:41:41.293Z"
   },
   {
    "duration": 12,
    "start_time": "2025-04-19T20:41:55.063Z"
   },
   {
    "duration": 8,
    "start_time": "2025-04-19T20:43:37.626Z"
   },
   {
    "duration": 5,
    "start_time": "2025-04-19T20:43:47.630Z"
   },
   {
    "duration": 11,
    "start_time": "2025-04-19T20:43:57.710Z"
   },
   {
    "duration": 8,
    "start_time": "2025-04-19T20:48:27.775Z"
   },
   {
    "duration": 4,
    "start_time": "2025-04-19T20:48:51.383Z"
   },
   {
    "duration": 15,
    "start_time": "2025-04-19T20:48:51.389Z"
   },
   {
    "duration": 1256,
    "start_time": "2025-04-19T20:48:51.406Z"
   },
   {
    "duration": 51,
    "start_time": "2025-04-19T20:48:52.664Z"
   },
   {
    "duration": 12,
    "start_time": "2025-04-19T20:48:52.717Z"
   },
   {
    "duration": 4,
    "start_time": "2025-04-19T20:48:52.739Z"
   },
   {
    "duration": 15,
    "start_time": "2025-04-19T20:48:52.744Z"
   },
   {
    "duration": 28,
    "start_time": "2025-04-19T20:48:52.761Z"
   },
   {
    "duration": 16,
    "start_time": "2025-04-19T20:48:52.791Z"
   },
   {
    "duration": 56,
    "start_time": "2025-04-19T20:48:52.810Z"
   },
   {
    "duration": 11,
    "start_time": "2025-04-19T20:48:52.868Z"
   },
   {
    "duration": 19,
    "start_time": "2025-04-19T20:48:52.881Z"
   },
   {
    "duration": 141,
    "start_time": "2025-04-19T20:48:52.902Z"
   },
   {
    "duration": 139,
    "start_time": "2025-04-19T20:48:53.045Z"
   },
   {
    "duration": 141,
    "start_time": "2025-04-19T20:48:53.186Z"
   },
   {
    "duration": 9,
    "start_time": "2025-04-19T20:48:53.336Z"
   },
   {
    "duration": 1600,
    "start_time": "2025-04-19T20:48:53.346Z"
   },
   {
    "duration": 13,
    "start_time": "2025-04-19T20:48:54.948Z"
   },
   {
    "duration": 197,
    "start_time": "2025-04-19T20:48:54.962Z"
   },
   {
    "duration": 16,
    "start_time": "2025-04-19T20:48:55.160Z"
   },
   {
    "duration": 487,
    "start_time": "2025-04-19T20:48:55.178Z"
   },
   {
    "duration": 364,
    "start_time": "2025-04-19T20:48:55.667Z"
   },
   {
    "duration": 7,
    "start_time": "2025-04-19T20:48:56.036Z"
   },
   {
    "duration": 7,
    "start_time": "2025-04-19T20:48:56.044Z"
   },
   {
    "duration": 9,
    "start_time": "2025-04-19T20:48:56.054Z"
   },
   {
    "duration": 9,
    "start_time": "2025-04-19T20:48:56.065Z"
   },
   {
    "duration": 142,
    "start_time": "2025-04-19T20:48:56.076Z"
   },
   {
    "duration": 17,
    "start_time": "2025-04-19T20:48:56.220Z"
   },
   {
    "duration": 171,
    "start_time": "2025-04-19T20:48:56.239Z"
   },
   {
    "duration": 25,
    "start_time": "2025-04-19T20:48:56.412Z"
   },
   {
    "duration": 16,
    "start_time": "2025-04-19T20:48:56.439Z"
   },
   {
    "duration": 34,
    "start_time": "2025-04-19T20:48:56.457Z"
   },
   {
    "duration": 6,
    "start_time": "2025-04-19T20:48:56.493Z"
   },
   {
    "duration": 14,
    "start_time": "2025-04-19T20:48:56.501Z"
   },
   {
    "duration": 35,
    "start_time": "2025-04-19T20:48:56.517Z"
   },
   {
    "duration": 17,
    "start_time": "2025-04-19T20:48:56.553Z"
   },
   {
    "duration": 9,
    "start_time": "2025-04-19T20:48:56.572Z"
   },
   {
    "duration": 8,
    "start_time": "2025-04-19T20:48:56.582Z"
   },
   {
    "duration": 46,
    "start_time": "2025-04-19T20:48:56.591Z"
   },
   {
    "duration": 6,
    "start_time": "2025-04-19T20:48:56.638Z"
   },
   {
    "duration": 8,
    "start_time": "2025-04-19T20:48:56.645Z"
   },
   {
    "duration": 70,
    "start_time": "2025-04-19T20:49:33.758Z"
   },
   {
    "duration": 3,
    "start_time": "2025-04-19T20:49:44.908Z"
   },
   {
    "duration": 6,
    "start_time": "2025-04-19T20:49:44.914Z"
   },
   {
    "duration": 1249,
    "start_time": "2025-04-19T20:49:44.921Z"
   },
   {
    "duration": 48,
    "start_time": "2025-04-19T20:49:46.172Z"
   },
   {
    "duration": 11,
    "start_time": "2025-04-19T20:49:46.222Z"
   },
   {
    "duration": 8,
    "start_time": "2025-04-19T20:49:46.235Z"
   },
   {
    "duration": 14,
    "start_time": "2025-04-19T20:49:46.244Z"
   },
   {
    "duration": 23,
    "start_time": "2025-04-19T20:49:46.260Z"
   },
   {
    "duration": 5,
    "start_time": "2025-04-19T20:49:46.285Z"
   },
   {
    "duration": 5,
    "start_time": "2025-04-19T20:49:46.292Z"
   },
   {
    "duration": 11,
    "start_time": "2025-04-19T20:49:46.298Z"
   },
   {
    "duration": 12,
    "start_time": "2025-04-19T20:49:46.338Z"
   },
   {
    "duration": 163,
    "start_time": "2025-04-19T20:49:46.351Z"
   },
   {
    "duration": 137,
    "start_time": "2025-04-19T20:49:46.516Z"
   },
   {
    "duration": 146,
    "start_time": "2025-04-19T20:49:46.655Z"
   },
   {
    "duration": 10,
    "start_time": "2025-04-19T20:49:46.803Z"
   },
   {
    "duration": 1717,
    "start_time": "2025-04-19T20:49:46.814Z"
   },
   {
    "duration": 13,
    "start_time": "2025-04-19T20:49:48.536Z"
   },
   {
    "duration": 126,
    "start_time": "2025-04-19T20:49:48.552Z"
   },
   {
    "duration": 18,
    "start_time": "2025-04-19T20:49:48.680Z"
   },
   {
    "duration": 497,
    "start_time": "2025-04-19T20:49:48.700Z"
   },
   {
    "duration": 352,
    "start_time": "2025-04-19T20:49:49.199Z"
   },
   {
    "duration": 7,
    "start_time": "2025-04-19T20:49:49.553Z"
   },
   {
    "duration": 5,
    "start_time": "2025-04-19T20:49:49.562Z"
   },
   {
    "duration": 20,
    "start_time": "2025-04-19T20:49:49.569Z"
   },
   {
    "duration": 5,
    "start_time": "2025-04-19T20:49:49.591Z"
   },
   {
    "duration": 145,
    "start_time": "2025-04-19T20:49:49.598Z"
   },
   {
    "duration": 9,
    "start_time": "2025-04-19T20:49:49.745Z"
   },
   {
    "duration": 175,
    "start_time": "2025-04-19T20:49:49.756Z"
   },
   {
    "duration": 17,
    "start_time": "2025-04-19T20:49:49.939Z"
   },
   {
    "duration": 23,
    "start_time": "2025-04-19T20:49:49.958Z"
   },
   {
    "duration": 29,
    "start_time": "2025-04-19T20:49:49.983Z"
   },
   {
    "duration": 27,
    "start_time": "2025-04-19T20:49:50.013Z"
   },
   {
    "duration": 14,
    "start_time": "2025-04-19T20:49:50.042Z"
   },
   {
    "duration": 18,
    "start_time": "2025-04-19T20:49:50.058Z"
   },
   {
    "duration": 16,
    "start_time": "2025-04-19T20:49:50.077Z"
   },
   {
    "duration": 8,
    "start_time": "2025-04-19T20:49:50.095Z"
   },
   {
    "duration": 94,
    "start_time": "2025-04-19T20:49:50.105Z"
   },
   {
    "duration": 17,
    "start_time": "2025-04-19T20:49:50.200Z"
   },
   {
    "duration": 3,
    "start_time": "2025-04-19T20:49:50.219Z"
   },
   {
    "duration": 20,
    "start_time": "2025-04-19T20:49:50.224Z"
   }
  ],
  "colab": {
   "provenance": [],
   "toc_visible": true
  },
  "kernelspec": {
   "display_name": "Python 3 (ipykernel)",
   "language": "python",
   "name": "python3"
  },
  "language_info": {
   "codemirror_mode": {
    "name": "ipython",
    "version": 3
   },
   "file_extension": ".py",
   "mimetype": "text/x-python",
   "name": "python",
   "nbconvert_exporter": "python",
   "pygments_lexer": "ipython3",
   "version": "3.9.5"
  },
  "toc": {
   "base_numbering": 1,
   "nav_menu": {},
   "number_sections": true,
   "sideBar": true,
   "skip_h1_title": true,
   "title_cell": "Table of Contents",
   "title_sidebar": "Contents",
   "toc_cell": false,
   "toc_position": {},
   "toc_section_display": true,
   "toc_window_display": true
  }
 },
 "nbformat": 4,
 "nbformat_minor": 5
}
