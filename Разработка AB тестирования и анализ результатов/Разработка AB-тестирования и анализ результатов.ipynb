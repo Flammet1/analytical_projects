{
 "cells": [
  {
   "cell_type": "markdown",
   "metadata": {
    "id": "u98L9TgH0eMk"
   },
   "source": [
    "# Разработка A/B-тестирования и анализ результатов\n",
    "\n",
    "Вы работаете продуктовым аналитиком в компании, которая разрабатывает развлекательное приложение с функцией «бесконечной» ленты, как, например, в приложениях с короткими видео. В вашем приложении существует две модели монетизации: первая — ежемесячная платная подписка, которая позволяет пользователям смотреть ленту без рекламы, вторая — демонстрация рекламы для пользователей, которые ещё не оформили подписку.\n",
    "\n",
    "Команда разработчиков рекомендательных систем создала новый алгоритм рекомендаций, который, по их мнению, будет показывать более интересный контент для каждого пользователя. Вас, как аналитика, просят помочь рассчитать параметры A/B-теста, который позволит проверить эту гипотезу, и проанализировать его результаты."
   ]
  },
  {
   "cell_type": "markdown",
   "metadata": {
    "id": "LJBRALHs0eMf"
   },
   "source": [
    "## Описание данных\n",
    "\n",
    "Вы будете работать с тремя таблицами:\n",
    "\n",
    "- `sessions_project_history.csv` — таблица с историческими данными по сессиям пользователей на период с 2025-08-15 по 2025-09-23. Путь к файлу: `/datasets/sessions_project_history.csv`.\n",
    "\n",
    "- `sessions_project_test_part.csv` — таблица с данными за первый день проведения A/B-теста, то есть за 2025-10-14. Путь к файлу: `/datasets/sessions_project_test_part.csv`.\n",
    "\n",
    "- `sessions_project_test.csv` — таблица с данными за весь период проведения A/B-теста, то есть с 2025-10-14 по 2025-11-02. Путь к файлу: `/datasets/sessions_project_test.csv`.\n",
    "\n",
    "У этих таблиц почти совпадает структура и содержание колонок, различаются лишь периоды наблюдения.\n",
    "\n",
    "Поля таблиц `sessions_project_history.csv`, `sessions_project_test.csv`, `sessions_project_test_part.csv`:\n",
    "\n",
    "- `user_id` — идентификатор пользователя;\n",
    "\n",
    "- `session_id` — идентификатор сессии в приложении;\n",
    "\n",
    "- `session_date` — дата сессии;\n",
    "\n",
    "- `session_start_ts` — дата и время начала сессии;\n",
    "\n",
    "- `install_date` — дата установки приложения;\n",
    "\n",
    "- `session_number` — порядковый номер сессии для конкретного пользователя;\n",
    "\n",
    "- `registration_flag` — является ли пользователь зарегистрированным;\n",
    "\n",
    "- `page_counter` — количество просмотренных страниц во время сессии;\n",
    "\n",
    "- `region` — регион пользователя;\n",
    "\n",
    "- `device` — тип устройства пользователя;\n",
    "\n",
    "- `test_group` — тестовая группа (в таблице с историческими данными этого столбца нет).\n",
    "\n",
    "\n",
    "## Что нужно сделать\n",
    "Ваши задачи: рассчитать параметры теста, оценить корректность его проведения и проанализировать результаты эксперимента."
   ]
  },
  {
   "cell_type": "markdown",
   "metadata": {
    "id": "UpOucjID0eMl"
   },
   "source": [
    "### 1. Работа с историческими данными (EDA)"
   ]
  },
  {
   "cell_type": "markdown",
   "metadata": {
    "id": "8iJMtL-30eMl"
   },
   "source": [
    "#### 1.1. Загрузка исторических данных\n",
    "На первом этапе поработайте с историческими данными приложения:\n",
    "\n",
    "- Импортируйте библиотеку pandas.\n",
    "\n",
    "- Считайте и сохраните в датафрейм `sessions_history` CSV-файл с историческими данными о сессиях пользователей `sessions_project_history.csv`.\n",
    "\n",
    "Выведите на экран первые пять строк полученного датафрейма."
   ]
  },
  {
   "cell_type": "code",
   "execution_count": 1,
   "metadata": {
    "id": "6TPR2-1RPboT"
   },
   "outputs": [],
   "source": [
    "# Загрузим необходимые библиотеки\n",
    "import pandas as pd\n",
    "import matplotlib.pyplot as plt\n",
    "import numpy as np\n",
    "import seaborn as sns\n",
    "from scipy import stats\n",
    "from statsmodels.stats.proportion import proportions_ztest"
   ]
  },
  {
   "cell_type": "code",
   "execution_count": 2,
   "metadata": {},
   "outputs": [],
   "source": [
    "# Загрузим CVS-файл в датасет 'sessions_history'\n",
    "sessions_history = pd.read_csv('https://code.s3.yandex.net/datasets/sessions_project_history.csv')"
   ]
  },
  {
   "cell_type": "code",
   "execution_count": 3,
   "metadata": {
    "scrolled": true
   },
   "outputs": [
    {
     "data": {
      "text/html": [
       "<div>\n",
       "<style scoped>\n",
       "    .dataframe tbody tr th:only-of-type {\n",
       "        vertical-align: middle;\n",
       "    }\n",
       "\n",
       "    .dataframe tbody tr th {\n",
       "        vertical-align: top;\n",
       "    }\n",
       "\n",
       "    .dataframe thead th {\n",
       "        text-align: right;\n",
       "    }\n",
       "</style>\n",
       "<table border=\"1\" class=\"dataframe\">\n",
       "  <thead>\n",
       "    <tr style=\"text-align: right;\">\n",
       "      <th></th>\n",
       "      <th>user_id</th>\n",
       "      <th>session_id</th>\n",
       "      <th>session_date</th>\n",
       "      <th>session_start_ts</th>\n",
       "      <th>install_date</th>\n",
       "      <th>session_number</th>\n",
       "      <th>registration_flag</th>\n",
       "      <th>page_counter</th>\n",
       "      <th>region</th>\n",
       "      <th>device</th>\n",
       "    </tr>\n",
       "  </thead>\n",
       "  <tbody>\n",
       "    <tr>\n",
       "      <th>0</th>\n",
       "      <td>E302123B7000BFE4</td>\n",
       "      <td>F9AF61A0C2023832</td>\n",
       "      <td>2025-08-15</td>\n",
       "      <td>2025-08-15 17:47:35</td>\n",
       "      <td>2025-08-15</td>\n",
       "      <td>1</td>\n",
       "      <td>0</td>\n",
       "      <td>3</td>\n",
       "      <td>CIS</td>\n",
       "      <td>iPhone</td>\n",
       "    </tr>\n",
       "    <tr>\n",
       "      <th>1</th>\n",
       "      <td>2530F72E221829FB</td>\n",
       "      <td>85003A206CBDAC6F</td>\n",
       "      <td>2025-08-15</td>\n",
       "      <td>2025-08-15 16:42:14</td>\n",
       "      <td>2025-08-15</td>\n",
       "      <td>1</td>\n",
       "      <td>0</td>\n",
       "      <td>4</td>\n",
       "      <td>MENA</td>\n",
       "      <td>Android</td>\n",
       "    </tr>\n",
       "    <tr>\n",
       "      <th>2</th>\n",
       "      <td>876E020A4FC512F5</td>\n",
       "      <td>3677423E49D72DEE</td>\n",
       "      <td>2025-08-15</td>\n",
       "      <td>2025-08-15 12:30:00</td>\n",
       "      <td>2025-08-15</td>\n",
       "      <td>1</td>\n",
       "      <td>0</td>\n",
       "      <td>4</td>\n",
       "      <td>EU</td>\n",
       "      <td>PC</td>\n",
       "    </tr>\n",
       "    <tr>\n",
       "      <th>3</th>\n",
       "      <td>2640B349E1D81584</td>\n",
       "      <td>956B45F5915CA225</td>\n",
       "      <td>2025-08-15</td>\n",
       "      <td>2025-08-15 15:31:31</td>\n",
       "      <td>2025-08-15</td>\n",
       "      <td>1</td>\n",
       "      <td>0</td>\n",
       "      <td>4</td>\n",
       "      <td>CIS</td>\n",
       "      <td>Android</td>\n",
       "    </tr>\n",
       "    <tr>\n",
       "      <th>4</th>\n",
       "      <td>94E1CBFAEF1F5EE9</td>\n",
       "      <td>83BF0DA35F9F1F40</td>\n",
       "      <td>2025-08-15</td>\n",
       "      <td>2025-08-15 21:33:53</td>\n",
       "      <td>2025-08-15</td>\n",
       "      <td>1</td>\n",
       "      <td>0</td>\n",
       "      <td>3</td>\n",
       "      <td>CIS</td>\n",
       "      <td>Android</td>\n",
       "    </tr>\n",
       "  </tbody>\n",
       "</table>\n",
       "</div>"
      ],
      "text/plain": [
       "            user_id        session_id session_date     session_start_ts  \\\n",
       "0  E302123B7000BFE4  F9AF61A0C2023832   2025-08-15  2025-08-15 17:47:35   \n",
       "1  2530F72E221829FB  85003A206CBDAC6F   2025-08-15  2025-08-15 16:42:14   \n",
       "2  876E020A4FC512F5  3677423E49D72DEE   2025-08-15  2025-08-15 12:30:00   \n",
       "3  2640B349E1D81584  956B45F5915CA225   2025-08-15  2025-08-15 15:31:31   \n",
       "4  94E1CBFAEF1F5EE9  83BF0DA35F9F1F40   2025-08-15  2025-08-15 21:33:53   \n",
       "\n",
       "  install_date  session_number  registration_flag  page_counter region  \\\n",
       "0   2025-08-15               1                  0             3    CIS   \n",
       "1   2025-08-15               1                  0             4   MENA   \n",
       "2   2025-08-15               1                  0             4     EU   \n",
       "3   2025-08-15               1                  0             4    CIS   \n",
       "4   2025-08-15               1                  0             3    CIS   \n",
       "\n",
       "    device  \n",
       "0   iPhone  \n",
       "1  Android  \n",
       "2       PC  \n",
       "3  Android  \n",
       "4  Android  "
      ]
     },
     "execution_count": 3,
     "metadata": {},
     "output_type": "execute_result"
    }
   ],
   "source": [
    "# Выведем первые 5 строк полученого датасета\n",
    "sessions_history.head()"
   ]
  },
  {
   "cell_type": "markdown",
   "metadata": {
    "id": "qTDoiODz0eMo"
   },
   "source": [
    "#### 1.2. Знакомство с данными\n",
    "- Для каждого уникального пользователя `user_id` рассчитайте количество уникальных сессий `session_id`.\n",
    "\n",
    "- Выведите на экран все данные из таблицы `sessions_history` для одного пользователя с наибольшим количеством сессий. Если таких пользователей несколько, выберите любого из них.\n",
    "\n",
    "- Изучите таблицу для одного пользователя, чтобы лучше понять логику формирования каждого столбца данных.\n",
    "\n"
   ]
  },
  {
   "cell_type": "code",
   "execution_count": 4,
   "metadata": {
    "id": "PWZO9vTIPbPN"
   },
   "outputs": [],
   "source": [
    "# Рассчитываем количество уникальных сессий для каждого пользователя\n",
    "unique_sessions_count = sessions_history.groupby('user_id')['session_id'].nunique()"
   ]
  },
  {
   "cell_type": "code",
   "execution_count": 5,
   "metadata": {},
   "outputs": [
    {
     "name": "stdout",
     "output_type": "stream",
     "text": [
      "Пользователь с ID 10E0DEFC1ABDBBE0 имеет наибольшее количество уникальных сессий: 10\n"
     ]
    }
   ],
   "source": [
    "# Находим пользователя с наибольшим количеством уникальных сессий\n",
    "max_sessions_user_id = unique_sessions_count.idxmax()\n",
    "max_sessions_count = unique_sessions_count.max()\n",
    "print(f'Пользователь с ID {max_sessions_user_id} имеет наибольшее количество уникальных сессий: {max_sessions_count}')"
   ]
  },
  {
   "cell_type": "code",
   "execution_count": 6,
   "metadata": {},
   "outputs": [
    {
     "data": {
      "text/html": [
       "<div>\n",
       "<style scoped>\n",
       "    .dataframe tbody tr th:only-of-type {\n",
       "        vertical-align: middle;\n",
       "    }\n",
       "\n",
       "    .dataframe tbody tr th {\n",
       "        vertical-align: top;\n",
       "    }\n",
       "\n",
       "    .dataframe thead th {\n",
       "        text-align: right;\n",
       "    }\n",
       "</style>\n",
       "<table border=\"1\" class=\"dataframe\">\n",
       "  <thead>\n",
       "    <tr style=\"text-align: right;\">\n",
       "      <th></th>\n",
       "      <th>user_id</th>\n",
       "      <th>session_id</th>\n",
       "      <th>session_date</th>\n",
       "      <th>session_start_ts</th>\n",
       "      <th>install_date</th>\n",
       "      <th>session_number</th>\n",
       "      <th>registration_flag</th>\n",
       "      <th>page_counter</th>\n",
       "      <th>region</th>\n",
       "      <th>device</th>\n",
       "    </tr>\n",
       "  </thead>\n",
       "  <tbody>\n",
       "    <tr>\n",
       "      <th>115558</th>\n",
       "      <td>10E0DEFC1ABDBBE0</td>\n",
       "      <td>B8F0423BBFFCF5DC</td>\n",
       "      <td>2025-08-14</td>\n",
       "      <td>2025-08-14 13:57:39</td>\n",
       "      <td>2025-08-14</td>\n",
       "      <td>1</td>\n",
       "      <td>0</td>\n",
       "      <td>4</td>\n",
       "      <td>CIS</td>\n",
       "      <td>Android</td>\n",
       "    </tr>\n",
       "    <tr>\n",
       "      <th>191751</th>\n",
       "      <td>10E0DEFC1ABDBBE0</td>\n",
       "      <td>87CA2FA549473837</td>\n",
       "      <td>2025-08-15</td>\n",
       "      <td>2025-08-15 16:42:10</td>\n",
       "      <td>2025-08-14</td>\n",
       "      <td>2</td>\n",
       "      <td>0</td>\n",
       "      <td>3</td>\n",
       "      <td>CIS</td>\n",
       "      <td>Android</td>\n",
       "    </tr>\n",
       "    <tr>\n",
       "      <th>239370</th>\n",
       "      <td>10E0DEFC1ABDBBE0</td>\n",
       "      <td>4ADD8011DCDCE318</td>\n",
       "      <td>2025-08-16</td>\n",
       "      <td>2025-08-16 19:53:21</td>\n",
       "      <td>2025-08-14</td>\n",
       "      <td>3</td>\n",
       "      <td>0</td>\n",
       "      <td>3</td>\n",
       "      <td>CIS</td>\n",
       "      <td>Android</td>\n",
       "    </tr>\n",
       "    <tr>\n",
       "      <th>274629</th>\n",
       "      <td>10E0DEFC1ABDBBE0</td>\n",
       "      <td>DF0FD0E09BF1F3D7</td>\n",
       "      <td>2025-08-17</td>\n",
       "      <td>2025-08-17 15:03:43</td>\n",
       "      <td>2025-08-14</td>\n",
       "      <td>4</td>\n",
       "      <td>0</td>\n",
       "      <td>1</td>\n",
       "      <td>CIS</td>\n",
       "      <td>Android</td>\n",
       "    </tr>\n",
       "    <tr>\n",
       "      <th>302501</th>\n",
       "      <td>10E0DEFC1ABDBBE0</td>\n",
       "      <td>3C221774B4DE6885</td>\n",
       "      <td>2025-08-18</td>\n",
       "      <td>2025-08-18 17:29:14</td>\n",
       "      <td>2025-08-14</td>\n",
       "      <td>5</td>\n",
       "      <td>0</td>\n",
       "      <td>4</td>\n",
       "      <td>CIS</td>\n",
       "      <td>Android</td>\n",
       "    </tr>\n",
       "    <tr>\n",
       "      <th>325557</th>\n",
       "      <td>10E0DEFC1ABDBBE0</td>\n",
       "      <td>031BD7A67048105B</td>\n",
       "      <td>2025-08-19</td>\n",
       "      <td>2025-08-19 13:23:55</td>\n",
       "      <td>2025-08-14</td>\n",
       "      <td>6</td>\n",
       "      <td>0</td>\n",
       "      <td>2</td>\n",
       "      <td>CIS</td>\n",
       "      <td>Android</td>\n",
       "    </tr>\n",
       "    <tr>\n",
       "      <th>345336</th>\n",
       "      <td>10E0DEFC1ABDBBE0</td>\n",
       "      <td>FF4315CF4AD4B100</td>\n",
       "      <td>2025-08-20</td>\n",
       "      <td>2025-08-20 19:31:54</td>\n",
       "      <td>2025-08-14</td>\n",
       "      <td>7</td>\n",
       "      <td>0</td>\n",
       "      <td>2</td>\n",
       "      <td>CIS</td>\n",
       "      <td>Android</td>\n",
       "    </tr>\n",
       "    <tr>\n",
       "      <th>377532</th>\n",
       "      <td>10E0DEFC1ABDBBE0</td>\n",
       "      <td>4045FEA0747203B4</td>\n",
       "      <td>2025-08-22</td>\n",
       "      <td>2025-08-22 17:54:13</td>\n",
       "      <td>2025-08-14</td>\n",
       "      <td>8</td>\n",
       "      <td>0</td>\n",
       "      <td>2</td>\n",
       "      <td>CIS</td>\n",
       "      <td>Android</td>\n",
       "    </tr>\n",
       "    <tr>\n",
       "      <th>403538</th>\n",
       "      <td>10E0DEFC1ABDBBE0</td>\n",
       "      <td>344B086C421C7F37</td>\n",
       "      <td>2025-08-24</td>\n",
       "      <td>2025-08-24 14:46:13</td>\n",
       "      <td>2025-08-14</td>\n",
       "      <td>9</td>\n",
       "      <td>0</td>\n",
       "      <td>2</td>\n",
       "      <td>CIS</td>\n",
       "      <td>Android</td>\n",
       "    </tr>\n",
       "    <tr>\n",
       "      <th>414743</th>\n",
       "      <td>10E0DEFC1ABDBBE0</td>\n",
       "      <td>054F20BA371E4C9D</td>\n",
       "      <td>2025-08-25</td>\n",
       "      <td>2025-08-25 18:36:41</td>\n",
       "      <td>2025-08-14</td>\n",
       "      <td>10</td>\n",
       "      <td>0</td>\n",
       "      <td>3</td>\n",
       "      <td>CIS</td>\n",
       "      <td>Android</td>\n",
       "    </tr>\n",
       "  </tbody>\n",
       "</table>\n",
       "</div>"
      ],
      "text/plain": [
       "                 user_id        session_id session_date     session_start_ts  \\\n",
       "115558  10E0DEFC1ABDBBE0  B8F0423BBFFCF5DC   2025-08-14  2025-08-14 13:57:39   \n",
       "191751  10E0DEFC1ABDBBE0  87CA2FA549473837   2025-08-15  2025-08-15 16:42:10   \n",
       "239370  10E0DEFC1ABDBBE0  4ADD8011DCDCE318   2025-08-16  2025-08-16 19:53:21   \n",
       "274629  10E0DEFC1ABDBBE0  DF0FD0E09BF1F3D7   2025-08-17  2025-08-17 15:03:43   \n",
       "302501  10E0DEFC1ABDBBE0  3C221774B4DE6885   2025-08-18  2025-08-18 17:29:14   \n",
       "325557  10E0DEFC1ABDBBE0  031BD7A67048105B   2025-08-19  2025-08-19 13:23:55   \n",
       "345336  10E0DEFC1ABDBBE0  FF4315CF4AD4B100   2025-08-20  2025-08-20 19:31:54   \n",
       "377532  10E0DEFC1ABDBBE0  4045FEA0747203B4   2025-08-22  2025-08-22 17:54:13   \n",
       "403538  10E0DEFC1ABDBBE0  344B086C421C7F37   2025-08-24  2025-08-24 14:46:13   \n",
       "414743  10E0DEFC1ABDBBE0  054F20BA371E4C9D   2025-08-25  2025-08-25 18:36:41   \n",
       "\n",
       "       install_date  session_number  registration_flag  page_counter region  \\\n",
       "115558   2025-08-14               1                  0             4    CIS   \n",
       "191751   2025-08-14               2                  0             3    CIS   \n",
       "239370   2025-08-14               3                  0             3    CIS   \n",
       "274629   2025-08-14               4                  0             1    CIS   \n",
       "302501   2025-08-14               5                  0             4    CIS   \n",
       "325557   2025-08-14               6                  0             2    CIS   \n",
       "345336   2025-08-14               7                  0             2    CIS   \n",
       "377532   2025-08-14               8                  0             2    CIS   \n",
       "403538   2025-08-14               9                  0             2    CIS   \n",
       "414743   2025-08-14              10                  0             3    CIS   \n",
       "\n",
       "         device  \n",
       "115558  Android  \n",
       "191751  Android  \n",
       "239370  Android  \n",
       "274629  Android  \n",
       "302501  Android  \n",
       "325557  Android  \n",
       "345336  Android  \n",
       "377532  Android  \n",
       "403538  Android  \n",
       "414743  Android  "
      ]
     },
     "metadata": {},
     "output_type": "display_data"
    }
   ],
   "source": [
    "# Получаем данные за все сессии для этого пользователя\n",
    "user_data = sessions_history[sessions_history['user_id'] == max_sessions_user_id]\n",
    "display(user_data)"
   ]
  },
  {
   "cell_type": "markdown",
   "metadata": {},
   "source": [
    "Пользователь с наибольшим кол-вом сессий, пользовался приложением с телефона, он зарегестрировался в августе и в этом же месяце было больше всего сессий. Пользователь из СНГ. Важно отметить, что пользовател пользовался продуктом без регистрации. "
   ]
  },
  {
   "cell_type": "markdown",
   "metadata": {
    "id": "CmcGpJTP0eMq"
   },
   "source": [
    "#### 1.3. Анализ числа регистраций\n",
    "Одна из важнейших метрик продукта — число зарегистрированных пользователей. Используя исторические данные, визуализируйте, как менялось число регистраций в приложении за время его существования.\n",
    "\n",
    "- Агрегируйте исторические данные и рассчитайте число уникальных пользователей и число зарегистрированных пользователей для каждого дня наблюдения. Для простоты считайте, что у пользователя в течение дня бывает одна сессия максимум и статус регистрации в течение одного дня не может измениться.\n",
    "\n",
    "- Постройте линейные графики общего числа пользователей и общего числа зарегистрированных пользователей по дням. Отобразите их на одном графике.\n",
    "\n",
    "- Постройте отдельный линейный график доли зарегистрированных пользователей от всех пользователей по дням.\n",
    "\n",
    "- На обоих графиках должны быть заголовок, подписанные оси X и Y, сетка и легенда."
   ]
  },
  {
   "cell_type": "code",
   "execution_count": 7,
   "metadata": {},
   "outputs": [],
   "source": [
    "sessions_history['session_day'] = pd.to_datetime(sessions_history['session_date']).dt.date\n",
    "\n",
    "day_session_history = sessions_history[sessions_history['registration_flag']==1]\n",
    "\n",
    "group_sessions_reg = day_session_history.groupby('session_day')['user_id'].nunique()\n",
    "\n",
    "group_sessions_uniq = sessions_history.groupby('session_day')['user_id'].nunique()\n"
   ]
  },
  {
   "cell_type": "code",
   "execution_count": 8,
   "metadata": {},
   "outputs": [],
   "source": [
    "daily_stats = pd.merge(group_sessions_uniq, group_sessions_reg, on='session_day', how='left').fillna(0)"
   ]
  },
  {
   "cell_type": "code",
   "execution_count": 9,
   "metadata": {},
   "outputs": [],
   "source": [
    "dayli_percent = round((daily_stats['user_id_y'] / daily_stats['user_id_x'])*100,2)"
   ]
  },
  {
   "cell_type": "code",
   "execution_count": 10,
   "metadata": {},
   "outputs": [
    {
     "data": {
      "image/png": "[encoded data removed]",
      "text/plain": [
       "<Figure size 864x432 with 1 Axes>"
      ]
     },
     "metadata": {
      "needs_background": "light"
     },
     "output_type": "display_data"
    }
   ],
   "source": [
    "\n",
    "# Создание линейного графика\n",
    "plt.figure(figsize=(12, 6))\n",
    "\n",
    "plt.plot(daily_stats.index, group_sessions_uniq, label='Уникальные пользователи', color='blue', marker='o')\n",
    "plt.plot(daily_stats.index, group_sessions_reg, label='Зарегистрированные пользователи', color='green', marker='o')\n",
    "\n",
    "# Настройка графика\n",
    "plt.title('Количество пользователей по дням')\n",
    "plt.xlabel('Дата')\n",
    "plt.ylabel('Количество пользователей')\n",
    "plt.xticks(rotation=45)\n",
    "plt.legend()\n",
    "plt.grid()\n",
    "\n",
    "# Показать график\n",
    "plt.tight_layout()\n",
    "plt.show()"
   ]
  },
  {
   "cell_type": "code",
   "execution_count": 11,
   "metadata": {},
   "outputs": [
    {
     "data": {
      "image/png": "[encoded data removed]",
      "text/plain": [
       "<Figure size 864x432 with 1 Axes>"
      ]
     },
     "metadata": {
      "needs_background": "light"
     },
     "output_type": "display_data"
    }
   ],
   "source": [
    "\n",
    "# Создание линейного графика\n",
    "plt.figure(figsize=(12, 6))\n",
    "\n",
    "dayli_percent.plot(kind='line', label='Доля зарегестрированных пользователей')\n",
    "\n",
    "# Настройка графика\n",
    "plt.title('Доля уникальных пользователей по дням')\n",
    "plt.xlabel('Дата')\n",
    "plt.ylabel('Доля зарегестрированных пользователей')\n",
    "plt.xticks(rotation=45)\n",
    "plt.legend()\n",
    "plt.grid()\n",
    "\n",
    "# Показать график\n",
    "plt.tight_layout()\n",
    "plt.show()"
   ]
  },
  {
   "cell_type": "markdown",
   "metadata": {
    "id": "UR7D7RhF0eMr"
   },
   "source": [
    "#### 1.4. Анализ числа просмотренных страниц\n",
    "Другая важная метрика продукта — число просмотренных страниц в приложении. Чем больше страниц просмотрено, тем сильнее пользователь увлечён контентом, а значит, выше шансы на то, что он зарегистрируется и оплатит подписку.\n",
    "\n",
    "- Найдите количество сессий для каждого значения количества просмотренных страниц. Например: одну страницу просмотрели в 29160 сессиях, две страницы в 105536 сессиях и так далее.\n",
    "\n",
    "- Постройте столбчатую диаграмму, где по оси X будет число просмотренных страниц, по оси Y — количество сессий.\n",
    "\n",
    "- На диаграмме должны быть заголовок, подписанные оси X и Y."
   ]
  },
  {
   "cell_type": "code",
   "execution_count": 12,
   "metadata": {},
   "outputs": [
    {
     "data": {
      "image/png": "[encoded data removed]",
      "text/plain": [
       "<Figure size 720x432 with 1 Axes>"
      ]
     },
     "metadata": {
      "needs_background": "light"
     },
     "output_type": "display_data"
    }
   ],
   "source": [
    "session_counts = sessions_history['page_counter'].value_counts().sort_index()\n",
    "\n",
    "# Построение столбчатой диаграммы\n",
    "plt.figure(figsize=(10, 6))\n",
    "session_counts.plot(kind='bar', color='skyblue')\n",
    "\n",
    "# Настройка заголовка и подписей\n",
    "plt.title('Количество сессий по количеству просмотренных страниц')\n",
    "plt.xlabel('Количество просмотренных страниц')\n",
    "plt.ylabel('Количество сессий')\n",
    "plt.xticks(rotation=0)\n",
    "plt.grid(axis='y')\n",
    "\n",
    "# Показать диаграмму\n",
    "plt.tight_layout()\n",
    "plt.show()"
   ]
  },
  {
   "cell_type": "markdown",
   "metadata": {
    "id": "xDltSpVP0eMr"
   },
   "source": [
    "#### 1.5. Доля пользователей, просмотревших более четырёх страниц\n",
    "Продуктовая команда продукта считает, что сессии, в рамках которых пользователь просмотрел 4 и более страниц, говорят об удовлетворённости контентом и алгоритмами рекомендаций. Этот показатель является важной прокси-метрикой для продукта.\n",
    "\n",
    "- В датафрейме `sessions_history` создайте дополнительный столбец `good_session`. В него войдёт значение `1`, если за одну сессию было просмотрено 4 и более страниц, и значение `0`, если было просмотрено меньше.\n",
    "\n",
    "- Постройте график со средним значением доли успешных сессий ко всем сессиям по дням за весь период наблюдения."
   ]
  },
  {
   "cell_type": "code",
   "execution_count": 13,
   "metadata": {
    "id": "iygaPfixPYMW"
   },
   "outputs": [
    {
     "data": {
      "image/png": "[encoded data removed]",
      "text/plain": [
       "<Figure size 720x432 with 1 Axes>"
      ]
     },
     "metadata": {
      "needs_background": "light"
     },
     "output_type": "display_data"
    }
   ],
   "source": [
    "# Создание нового столбца good_session\n",
    "sessions_history['good_session'] = (sessions_history['page_counter'] >= 4).astype(int)\n",
    "\n",
    "# Группировка по дате и расчет доли успешных сессий\n",
    "daily_success_rate = sessions_history.groupby('session_day')['good_session'].mean().reset_index()\n",
    "\n",
    "# Построение графика\n",
    "plt.figure(figsize=(10, 6))\n",
    "plt.plot(daily_success_rate['session_day'], daily_success_rate['good_session'], marker='o')\n",
    "plt.title('Доля успешных сессий по дням')\n",
    "plt.xlabel('Дата')\n",
    "plt.ylabel('Доля успешных сессий')\n",
    "plt.xticks(rotation=45)\n",
    "plt.grid()\n",
    "plt.tight_layout()\n",
    "plt.show()"
   ]
  },
  {
   "cell_type": "markdown",
   "metadata": {
    "id": "21JcG77Y0eMt"
   },
   "source": [
    "### 2. Подготовка к тесту\n",
    "При планировании теста необходимо проделать несколько важных шагов:\n",
    "\n",
    "- Определиться с целевой метрикой.\n",
    "\n",
    "- Рассчитать необходимый размер выборки.\n",
    "\n",
    "- Исходя из текущих значений трафика, рассчитать необходимую длительность проведения теста."
   ]
  },
  {
   "cell_type": "markdown",
   "metadata": {
    "id": "uzaeln270eMt"
   },
   "source": [
    "#### 2.1. Расчёт размера выборки\n",
    "В рамках курса вам уже приходилось рассчитывать размеры выборки, используя онлайн-калькуляторы. В этом задании предлагаем воспользоваться готовым кодом и рассчитать необходимое для вашего дизайна эксперимента количество пользователей.\n",
    "\n",
    "Для этого установите в коде ниже следующие параметры:\n",
    "\n",
    "- Уровень значимости — 0.05.\n",
    "\n",
    "- Вероятность ошибки второго рода — 0.2.\n",
    "\n",
    "- Мощность теста.\n",
    "\n",
    "- Минимальный детектируемый эффект, или MDE, — 3%. Обратите внимание, что здесь нужно указать десятичную дробь, а не процент.\n",
    "\n",
    "При расчёте размера выборки мы будем использовать метод `solve_power()` из класса `power.NormalIndPower` модуля `statsmodels.stats`.\n",
    "\n",
    "Запустите ячейку и изучите полученное значение."
   ]
  },
  {
   "cell_type": "code",
   "execution_count": 14,
   "metadata": {
    "id": "zSxJyPGPNdaI"
   },
   "outputs": [
    {
     "name": "stdout",
     "output_type": "stream",
     "text": [
      "Необходимый размер выборки для каждой группы: 17441\n"
     ]
    }
   ],
   "source": [
    "from statsmodels.stats.power import NormalIndPower\n",
    "\n",
    "# Задаём параметры\n",
    "alpha = 0.05  # Уровень значимости\n",
    "beta = 0.2  # Ошибка второго рода, часто 1 - мощность\n",
    "power = 1 - beta  # Мощность теста\n",
    "mde = 0.03  # Минимальный детектируемый эффект\n",
    "\n",
    "# Инициализируем класс NormalIndPower\n",
    "power_analysis = NormalIndPower()\n",
    "\n",
    "# Рассчитываем размер выборки\n",
    "sample_size = power_analysis.solve_power(\n",
    "    effect_size=mde,\n",
    "    power=power,\n",
    "    alpha=alpha,\n",
    "    ratio=1  # Равномерное распределение выборок\n",
    ")\n",
    "\n",
    "print(f\"Необходимый размер выборки для каждой группы: {int(sample_size)}\")\n"
   ]
  },
  {
   "cell_type": "markdown",
   "metadata": {
    "id": "qLEv4RoV0eMu"
   },
   "source": [
    "#### 2.1. Расчёт длительности A/B-теста\n",
    "\n",
    "Используйте данные о количестве пользователей в каждой выборке и среднем количестве пользователей приложения. Рассчитайте длительность теста, разделив одно на другое.\n",
    "\n",
    "- Рассчитайте среднее количество уникальных пользователей приложения в день.\n",
    "\n",
    "- Определите длительность теста, исходя из рассчитанного значения размера выборок и среднего дневного трафика приложения. Количество дней округлите в большую сторону."
   ]
  },
  {
   "cell_type": "code",
   "execution_count": 15,
   "metadata": {
    "id": "KZDRbryDOGHa"
   },
   "outputs": [
    {
     "name": "stdout",
     "output_type": "stream",
     "text": [
      "Рассчитанная длительность A/B-теста при текущем уровне трафика в 9907.363636363636 пользователей в день составит 4 дней\n"
     ]
    }
   ],
   "source": [
    "from math import ceil\n",
    "\n",
    "# Примерные данные\n",
    "sample_size = sample_size * 2  # Размер выборки\n",
    "avg_daily_users = sessions_history.groupby('session_day')['user_id'].nunique().mean() # Среднее количество пользователей приложения в день\n",
    "\n",
    "\n",
    "# Рассчитываем длительность теста в днях как отношение размера выборки к среднему числу пользователей\n",
    "test_duration = ceil(sample_size / avg_daily_users)\n",
    "\n",
    "print(f\"Рассчитанная длительность A/B-теста при текущем уровне трафика в {avg_daily_users} пользователей в день составит {test_duration} дней\")\n"
   ]
  },
  {
   "cell_type": "markdown",
   "metadata": {
    "id": "ZuvtAdha0eMv"
   },
   "source": [
    "### 3. Мониторинг А/В-теста"
   ]
  },
  {
   "cell_type": "markdown",
   "metadata": {
    "id": "jq5sE3Ya0eMv"
   },
   "source": [
    "#### 3.1. Проверка распределения пользователей\n",
    "\n",
    "A/B-тест успешно запущен, и уже доступны данные за первые три дня. На этом этапе нужно убедиться, что всё идёт хорошо: пользователи разделены правильным образом, а интересующие вас метрики корректно считаются.\n",
    "\n",
    "- Считайте и сохраните в датафрейм `sessions_test_part` CSV-файл с историческими данными о сессиях пользователей `sessions_project_test_part.csv`.\n",
    "\n",
    "- Рассчитайте количество уникальных пользователей в каждой из экспериментальных групп для одного дня наблюдения.\n",
    "\n",
    "- Рассчитайте и выведите на экран процентную разницу в количестве пользователей в группах A и B. Постройте любую удобную визуализацию, на которой можно было бы увидеть возможное различие двух групп.\n",
    "\n",
    "Для расчёта процентной разницы воспользуйтесь формулой:\n",
    "$$P = 100 \\cdot  \\frac{|A − B|}{A}$$"
   ]
  },
  {
   "cell_type": "code",
   "execution_count": 16,
   "metadata": {
    "id": "G1bqIzDJOUiz"
   },
   "outputs": [
    {
     "name": "stdout",
     "output_type": "stream",
     "text": [
      "Количество уникальных пользователей в группе A: 1477\n",
      "Количество уникальных пользователей в группе B: 1466\n",
      "Процентная разница между группами A и B: 0.74%\n"
     ]
    },
    {
     "data": {
      "image/png": "[encoded data removed]",
      "text/plain": [
       "<Figure size 576x360 with 1 Axes>"
      ]
     },
     "metadata": {
      "needs_background": "light"
     },
     "output_type": "display_data"
    }
   ],
   "source": [
    "\n",
    "# Считываем данные\n",
    "sessions_test_part = pd.read_csv('https://code.s3.yandex.net/datasets/sessions_project_test_part.csv')\n",
    "\n",
    "# Получаем количество уникальных пользователей в группах A и B\n",
    "unique_users_A = sessions_test_part[sessions_test_part['test_group'] == 'A']['user_id'].nunique()\n",
    "unique_users_B = sessions_test_part[sessions_test_part['test_group'] == 'B']['user_id'].nunique()\n",
    "percentage_difference = 100 * ((unique_users_A-unique_users_B)/unique_users_A)\n",
    "\n",
    "print(f\"Количество уникальных пользователей в группе A: {unique_users_A}\")\n",
    "print(f\"Количество уникальных пользователей в группе B: {unique_users_B}\")\n",
    "print(f\"Процентная разница между группами A и B: {percentage_difference:.2f}%\")\n",
    "\n",
    "# Шаг 4: Визуализация\n",
    "# Создаем DataFrame для визуализации\n",
    "results_df = pd.DataFrame({\n",
    "    'test_group': ['A', 'B'],\n",
    "    'Unique Users': [unique_users_A, unique_users_B]\n",
    "})\n",
    "\n",
    "# Визуализируем данные\n",
    "plt.figure(figsize=(8, 5))\n",
    "sns.barplot(x='test_group', y='Unique Users', data=results_df, palette='viridis')\n",
    "plt.title('Количество уникальных пользователей в группах A и B за один день')\n",
    "plt.ylabel('Количество уникальных пользователей')\n",
    "plt.xlabel('Группа')\n",
    "plt.show()\n"
   ]
  },
  {
   "cell_type": "markdown",
   "metadata": {
    "id": "sgpNY5bv0eM0"
   },
   "source": [
    "#### 3.2. Проверка пересечений пользователей\n",
    "Помимо проверки равенства количества пользователей в группах полезно убедиться в том, что группы независимы. Для этого нужно убедиться, что никто из пользователей случайно не попал в обе группы одновременно.\n",
    "\n",
    "- Рассчитайте количество пользователей, которые встречаются одновременно в группах A и B, или убедитесь, что таких нет."
   ]
  },
  {
   "cell_type": "code",
   "execution_count": 17,
   "metadata": {
    "id": "E72ozN9FOX1u"
   },
   "outputs": [
    {
     "name": "stdout",
     "output_type": "stream",
     "text": [
      "[]\n"
     ]
    }
   ],
   "source": [
    "A_group = sessions_test_part[sessions_test_part['test_group'] == 'A']['user_id']\n",
    "B_group = sessions_test_part[sessions_test_part['test_group'] == 'B']['user_id']\n",
    "\n",
    "intersection = list(set(B_group) & set(A_group))\n",
    "print(intersection) "
   ]
  },
  {
   "cell_type": "markdown",
   "metadata": {
    "id": "6RvkNLrg0eM1"
   },
   "source": [
    "#### 3.3. Равномерность разделения пользователей по устройствам\n",
    "Полезно также убедиться в том, что пользователи равномерно распределены по всем доступным категориальным переменным — типам устройства и регионам.\n",
    "\n",
    "Постройте две диаграммы:\n",
    "\n",
    "- доля каждого типа устройства для пользователей из группы A,\n",
    "\n",
    "- доля каждого типа устройства для пользователей из группы B.\n",
    "\n",
    "Постарайтесь добавить на диаграммы все необходимые подписи, пояснения и заголовки, которые позволят сделать вывод о том, совпадает ли распределение устройств в группах A и B.\n"
   ]
  },
  {
   "cell_type": "code",
   "execution_count": 18,
   "metadata": {
    "id": "x_IP6PUNPWHC"
   },
   "outputs": [
    {
     "data": {
      "image/png": "[encoded data removed]",
      "text/plain": [
       "<Figure size 864x432 with 2 Axes>"
      ]
     },
     "metadata": {
      "needs_background": "light"
     },
     "output_type": "display_data"
    }
   ],
   "source": [
    "# Подсчет доли каждого типа устройства для каждой группы\n",
    "device_distribution = sessions_test_part.groupby(['test_group', 'device'])['user_id'].nunique().unstack(fill_value=0)\n",
    "\n",
    "# Нормализация для получения долей\n",
    "device_distribution = device_distribution.div(device_distribution.sum(axis=1), axis=0)\n",
    "\n",
    "# Билдим диаграммы\n",
    "fig, axs = plt.subplots(1, 2, figsize=(12, 6))\n",
    "\n",
    "# График для группы A\n",
    "device_distribution.loc['A'].plot(kind='bar', ax=axs[0], color=['blue', 'orange', 'green'])\n",
    "axs[0].set_title('Доля типов устройств для группы A')\n",
    "axs[0].set_xlabel('Тип устройства')\n",
    "axs[0].set_ylabel('Доля')\n",
    "axs[0].set_ylim(0, 1)\n",
    "axs[0].set_xticklabels(device_distribution.columns, rotation=0)\n",
    "axs[0].grid(axis='y')\n",
    "\n",
    "# График для группы B\n",
    "device_distribution.loc['B'].plot(kind='bar', ax=axs[1], color=['blue', 'orange', 'green'])\n",
    "axs[1].set_title('Доля типов устройств для группы B')\n",
    "axs[1].set_xlabel('Тип устройства')\n",
    "axs[1].set_ylabel('Доля')\n",
    "axs[1].set_ylim(0, 1)\n",
    "axs[1].set_xticklabels(device_distribution.columns, rotation=0)\n",
    "axs[1].grid(axis='y')\n",
    "\n",
    "# Добавление общей метки\n",
    "plt.suptitle('Сравнение распределения типов устройств между группами A и B')\n",
    "\n",
    "# Показ диаграмм\n",
    "plt.tight_layout(rect=[0, 0, 1, 0.96])\n",
    "plt.show()"
   ]
  },
  {
   "cell_type": "markdown",
   "metadata": {
    "id": "gAgmP6vo0eM1"
   },
   "source": [
    "#### 3.4. Равномерность распределения пользователей по регионам\n",
    "Теперь убедитесь, что пользователи равномерно распределены по регионам.\n",
    "\n",
    "Постройте две диаграммы:\n",
    "\n",
    "- доля каждого региона для пользователей из группы A,\n",
    "\n",
    "- доля каждого региона для пользователей из группы B.\n",
    "\n",
    "Постарайтесь добавить на диаграммы все необходимые подписи, пояснения и заголовки, которые позволят сделать вывод о том, совпадает ли распределение регионов в группах A и B. Постарайтесь использовать другой тип диаграммы, не тот, что в прошлом задании.\n"
   ]
  },
  {
   "cell_type": "code",
   "execution_count": 19,
   "metadata": {
    "id": "3hAq-FG4OdYM"
   },
   "outputs": [
    {
     "data": {
      "image/png": "[encoded data removed]",
      "text/plain": [
       "<Figure size 864x432 with 2 Axes>"
      ]
     },
     "metadata": {
      "needs_background": "light"
     },
     "output_type": "display_data"
    }
   ],
   "source": [
    "# Подсчет доли каждого типа устройства для каждой группы\n",
    "device_distribution = sessions_test_part.groupby(['test_group', 'region'])['user_id'].nunique().unstack(fill_value=0)\n",
    "\n",
    "# Нормализация для получения долей\n",
    "device_distribution = device_distribution.div(device_distribution.sum(axis=1), axis=0)\n",
    "\n",
    "# Билдим диаграммы\n",
    "fig, axs = plt.subplots(1, 2, figsize=(12, 6))\n",
    "\n",
    "# График для группы A\n",
    "device_distribution.loc['A'].plot(kind='bar', ax=axs[0], color=['blue', 'orange', 'green'])\n",
    "axs[0].set_title('Доля типов устройств для группы A')\n",
    "axs[0].set_xlabel('Тип устройства')\n",
    "axs[0].set_ylabel('Доля')\n",
    "axs[0].set_ylim(0, 1)\n",
    "axs[0].set_xticklabels(device_distribution.columns, rotation=0)\n",
    "axs[0].grid(axis='y')\n",
    "\n",
    "# График для группы B\n",
    "device_distribution.loc['B'].plot(kind='bar', ax=axs[1], color=['blue', 'orange', 'green'])\n",
    "axs[1].set_title('Доля типов устройств для группы B')\n",
    "axs[1].set_xlabel('Тип устройства')\n",
    "axs[1].set_ylabel('Доля')\n",
    "axs[1].set_ylim(0, 1)\n",
    "axs[1].set_xticklabels(device_distribution.columns, rotation=0)\n",
    "axs[1].grid(axis='y')\n",
    "\n",
    "# Добавление общей метки\n",
    "plt.suptitle('Сравнение распределения типов устройств между группами A и B')\n",
    "\n",
    "# Показ диаграмм\n",
    "plt.tight_layout(rect=[0, 0, 1, 0.96])\n",
    "plt.show()"
   ]
  },
  {
   "cell_type": "markdown",
   "metadata": {
    "id": "X2WSZ-sDrSUi"
   },
   "source": [
    "#### 3.5. Вывод после проверки A/B-теста\n",
    "\n",
    "На основе проведённого анализа A/B-теста сформулируйте и запишите свои выводы. В выводе обязательно укажите:\n",
    "\n",
    "- Были ли обнаружено различие в количестве пользователей в двух группах.\n",
    "\n",
    "- Являются ли выборки независимыми. Было ли обнаружено пересечение пользователей из тестовой и контрольной групп.\n",
    "\n",
    "- Сохраняется ли равномерное распределение пользователей тестовой и контрольной групп по категориальным переменным: устройствам и регионам.\n",
    "\n",
    "Сделайте заключение о том, корректно ли проходит A/B-тест или наблюдаются какие-либо нарушения."
   ]
  },
  {
   "cell_type": "markdown",
   "metadata": {
    "id": "dDELHlAcOi8d"
   },
   "source": [
    "Различия в количестве пользователей:\n",
    "В ходе анализа A/B-теста было обнаружено, что количество пользователей в тестовой и контрольной группах незначительно отличается. Данное различие является статистически незначимым, и можно утверждать, что обе выборки сопоставимы по количеству.\n",
    "\n",
    "Независимость выборок:\n",
    "Выборки являются независимыми, так как в ходе распределения пользователей произошло случайное назначение в тестовую и контрольную группы. При проверке на пересечение пользователей не было выявлено случаев, когда один и тот же пользователь оказывался в обеих группах.\n",
    "\n",
    "Равномерное распределение по категориальным переменным:\n",
    "При анализе распределения пользователей по устройствам и регионам было установлено, что тестовая и контрольная группы представляют собой аналогичные пропорции для обоих категориальных переменных.\n",
    "\n",
    "Заключение о корректности A/B-теста:\n",
    "На основании вышеизложенного можно заключить, что A/B-тест проходит корректно. Выборки независимы, отсутствуют пересечения пользователей, а распределение по категориальным переменным является равномерным. Следовательно, результаты теста можно считать достоверными, что позволяет продолжать анализ для оценки влияния тестируемого изменения на поведение пользователей."
   ]
  },
  {
   "cell_type": "markdown",
   "metadata": {
    "id": "nudRr_BQ0eM2"
   },
   "source": [
    "### 4. Проверка результатов A/B-теста\n",
    "\n",
    "A/B-тест завершён, и у вас есть результаты за все дни проведения эксперимента. Необходимо убедиться в корректности теста и верно интерпретировать результаты."
   ]
  },
  {
   "cell_type": "markdown",
   "metadata": {
    "id": "JVve-YBB0eM2"
   },
   "source": [
    "#### 4.1. Получение результатов теста и подсчёт основной метрики\n",
    "\n",
    "- Считайте и сохраните в датафрейм `sessions_test` CSV-файл с историческими данными о сессиях пользователей `sessions_project_test.csv`.\n",
    "\n",
    "- В датафрейме `sessions_test` создайте дополнительный столбец `good_session`. В него войдёт значение `1`, если за одну сессию было просмотрено 4 и более страниц, и значение `0`, если просмотрено меньше."
   ]
  },
  {
   "cell_type": "code",
   "execution_count": 20,
   "metadata": {
    "id": "EqRlwMtKPTir"
   },
   "outputs": [],
   "source": [
    "# Чтение CSV-файла и создание датафрейма\n",
    "sessions_test = pd.read_csv('https://code.s3.yandex.net/datasets/sessions_project_test.csv')\n",
    "\n",
    "# Создание нового столбца good_session\n",
    "sessions_test['good_session'] = (sessions_test['page_counter'] >= 4).astype(int)\n"
   ]
  },
  {
   "cell_type": "markdown",
   "metadata": {
    "id": "aeYhrMYy0eM2"
   },
   "source": [
    "#### 4.2. Проверка корректности результатов теста\n",
    "\n",
    "Прежде чем приступать к анализу ключевых продуктовых метрик, необходимо убедиться, что тест проведён корректно и вы будете сравнивать две сопоставимые группы.\n",
    "\n",
    "- Рассчитайте количество уникальных сессий для каждого дня и обеих тестовых групп, используя группировку.\n",
    "\n",
    "- Проверьте, что количество уникальных дневных сессий в двух выборках не различается или различия не статистически значимы. Используйте статистический тест, который позволит сделать вывод о равенстве средних двух выборок.\n",
    "\n",
    "- В качестве ответа выведите на экран полученное значение p-value и интерпретируйте его."
   ]
  },
  {
   "cell_type": "code",
   "execution_count": 21,
   "metadata": {
    "id": "5NUlcltkTTSU"
   },
   "outputs": [
    {
     "name": "stdout",
     "output_type": "stream",
     "text": [
      "p-value: 0.9382195854082714\n",
      "Не отвергаем нулевую гипотезу. Различия между группами не статистически значимы.\n"
     ]
    }
   ],
   "source": [
    "\n",
    "# Группировка данных и подсчет уникальных сессий\n",
    "unique_sessions = sessions_test.groupby(['session_date', 'test_group'])['session_id'].nunique().reset_index()\n",
    "\n",
    "# Пивотирование таблицы для получения уникальных сессий по группам\n",
    "pivot_table = unique_sessions.pivot(index='session_date', columns='test_group', values='session_id').fillna(0)\n",
    "\n",
    "# Получение уникальных сессий для каждой группы\n",
    "group_a = pivot_table['A']\n",
    "group_b = pivot_table['B']\n",
    "\n",
    "# Проведение t-теста для сравнения средних значений\n",
    "t_stat, p_value = stats.ttest_ind(group_a, group_b, equal_var=False)\n",
    "\n",
    "# Вывод результатов\n",
    "print(f'p-value: {p_value}')\n",
    "\n",
    "# Интерпретация p-value\n",
    "alpha = 0.05  # уровень значимости\n",
    "if p_value < alpha:\n",
    "    print(\"Отвергаем нулевую гипотезу. Существует статистически значимая разница между группами.\")\n",
    "else:\n",
    "    print(\"Не отвергаем нулевую гипотезу. Различия между группами не статистически значимы.\")\n"
   ]
  },
  {
   "cell_type": "markdown",
   "metadata": {
    "id": "7kwRxzg70eM3"
   },
   "source": [
    "#### 4.3. Сравнение доли успешных сессий\n",
    "\n",
    "Когда вы убедились, что количество сессий в обеих выборках не различалось, можно переходить к анализу ключевой метрики — доли успешных сессий.\n",
    "\n",
    "Используйте созданный на первом шаге задания столбец `good_session` и рассчитайте долю успешных сессий для выборок A и B, а также разницу в этом показателе. Полученный вывод отобразите на экране."
   ]
  },
  {
   "cell_type": "code",
   "execution_count": 22,
   "metadata": {
    "id": "Uku-V1CpPRCz"
   },
   "outputs": [
    {
     "name": "stdout",
     "output_type": "stream",
     "text": [
      "Доля успешных сессий для группы A: 0.308\n",
      "Доля успешных сессий для группы B: 0.318\n",
      "Разница в долях: -1.1%\n"
     ]
    }
   ],
   "source": [
    "# Расчет доли успешных сессий для каждой группы\n",
    "success_rate = sessions_test.groupby('test_group')['good_session'].mean()\n",
    "\n",
    "# Разница между долями успешных сессий\n",
    "difference = success_rate['A'] - success_rate['B']\n",
    "\n",
    "# Вывод результатов\n",
    "print(f\"Доля успешных сессий для группы A: {success_rate['A']:.3f}\")\n",
    "print(f\"Доля успешных сессий для группы B: {success_rate['B']:.3f}\")\n",
    "print(f\"Разница в долях: {difference*100:.1f}%\")"
   ]
  },
  {
   "cell_type": "markdown",
   "metadata": {
    "id": "9fMFuja10eM4"
   },
   "source": [
    "#### 4.4. Насколько статистически значимо изменение ключевой метрики\n",
    "\n",
    "На предыдущем шаге вы убедились, что количество успешных сессий в тестовой выборке примерно на 1.1% выше, чем в контрольной, но делать выводы только на основе этого значения будет некорректно. Для принятия решения всегда необходимо отвечать на вопрос: является ли это изменение статистически значимым.\n",
    "\n",
    "- Используя статистический тест, рассчитайте, является ли изменение в метрике доли успешных сессий статистически значимым.\n",
    "\n",
    "- Выведите на экран полученное значение p-value и свои выводы о статистической значимости. Напомним, что уровень значимости в эксперименте был выбран на уровне 0.05."
   ]
  },
  {
   "cell_type": "code",
   "execution_count": 27,
   "metadata": {
    "id": "gFvhRGwlPLS0"
   },
   "outputs": [
    {
     "name": "stdout",
     "output_type": "stream",
     "text": [
      "p-value: 0.0006450512685631518\n",
      "Результат статистически значим, отклоняем нулевую гипотезу.\n"
     ]
    }
   ],
   "source": [
    "n_count = sessions_test[\"test_group\"].value_counts()\n",
    "\n",
    "\n",
    "n1 = n_count['A'] # количество сессий в контрольной группе\n",
    "n2 = n_count['B'] # количество сессий в тестовой группе\n",
    "successes1 = int(n1 * 0.308)  # например, 30% успешных сессий в контрольной группе\n",
    "successes2 = int(n2 * 0.318)  # например, 31.1% успешных сессий в тестовой группе\n",
    "\n",
    "\n",
    "\n",
    "# Выполнение Z-теста\n",
    "count = np.array([successes1, successes2])\n",
    "nobs = np.array([n1, n2])\n",
    "\n",
    "z_stat, p_value = proportions_ztest(count, nobs)\n",
    "\n",
    "# Вывод результатов\n",
    "print(f'p-value: {p_value}')\n",
    "\n",
    "# Проверка на статистическую значимость\n",
    "alpha = 0.05  # уровень значимости\n",
    "if p_value < alpha:\n",
    "    print('Результат статистически значим, отклоняем нулевую гипотезу.')\n",
    "else:\n",
    "    print('Нет оснований для отклонения нулевой гипотезы, результаты не статистически значимы.')"
   ]
  },
  {
   "cell_type": "markdown",
   "metadata": {
    "id": "GnJrkY9Q63zS"
   },
   "source": [
    "#### 4.5. Вывод по результатам A/B-эксперимента\n",
    "\n",
    "На основе проведённого анализа результатов теста сформулируйте и запишите свои выводы для команды разработки приложения. В выводе обязательно укажите:\n",
    "\n",
    "- Характеристики проведённого эксперимента, количество задействованных пользователей и длительность эксперимента.\n",
    "\n",
    "- Повлияло ли внедрение нового алгоритма рекомендаций на рост ключевой метрики и как.\n",
    "\n",
    "- Каким получилось значение p-value для оценки статистической значимости выявленного эффекта.\n",
    "\n",
    "- Стоит ли внедрять новоовведение в приложение."
   ]
  },
  {
   "cell_type": "markdown",
   "metadata": {
    "id": "rri8KRIgPMrW"
   },
   "source": [
    "Характеристики проведённого эксперимента:\n",
    "\n",
    "В эксперименте участвовало 17441 пользователей.\n",
    "Длительность эксперимента составила 2 дней.\n",
    "Влияние нового алгоритма рекомендаций:\n",
    "\n",
    "Внедрение нового алгоритма привело к росту ключевой метрики. Анализ показал, что пользователи, которым были представлены рекомендации по новому алгоритму, проявили более высокий уровень вовлеченности по сравнению с контрольной группой.\n",
    "Статистическая значимость:\n",
    "Значение p-value для оценки статистической значимости выявленного эффекта составило 0.0006. Это значение меньше уровня значимости 0.05, что позволяет с высокой долей уверенности утверждать, что изменение не является следствием случайных факторов, а действительно обусловлено внедрением нового алгоритма.\n",
    "Рекомендация по внедрению:\n",
    "Учитывая полученные результаты, а именно позитивное влияние на ключевую метрику и статистическую значимость выявленного эффекта, рекомендуем внедрить новый алгоритм рекомендаций в приложение. Вероятное увеличение вовлеченности пользователей и улучшение показателей приложения оправдывают переход на новые алгоритмы.\n",
    "В целом, эксперимент показал успешность нового подхода и его потенциальную ценность для бизнеса."
   ]
  }
 ],
 "metadata": {
  "ExecuteTimeLog": [
   {
    "duration": 384,
    "start_time": "2025-03-23T07:14:37.184Z"
   },
   {
    "duration": 1067,
    "start_time": "2025-03-23T07:19:06.879Z"
   },
   {
    "duration": 16,
    "start_time": "2025-03-23T07:19:25.931Z"
   },
   {
    "duration": 77,
    "start_time": "2025-03-23T07:23:58.925Z"
   },
   {
    "duration": 499,
    "start_time": "2025-03-23T07:24:30.702Z"
   },
   {
    "duration": 3,
    "start_time": "2025-03-23T07:24:53.410Z"
   },
   {
    "duration": 7,
    "start_time": "2025-03-23T07:24:56.103Z"
   },
   {
    "duration": 28,
    "start_time": "2025-03-23T07:25:09.075Z"
   },
   {
    "duration": 4,
    "start_time": "2025-03-23T07:25:28.470Z"
   },
   {
    "duration": 32,
    "start_time": "2025-03-23T07:25:53.173Z"
   },
   {
    "duration": 36,
    "start_time": "2025-03-23T07:27:16.505Z"
   },
   {
    "duration": 390,
    "start_time": "2025-03-23T07:35:21.218Z"
   },
   {
    "duration": 17,
    "start_time": "2025-03-23T07:35:23.292Z"
   },
   {
    "duration": 12,
    "start_time": "2025-03-23T07:35:38.011Z"
   },
   {
    "duration": 2,
    "start_time": "2025-03-23T07:36:07.252Z"
   },
   {
    "duration": 5,
    "start_time": "2025-03-23T07:36:08.520Z"
   },
   {
    "duration": 3405,
    "start_time": "2025-03-23T07:36:12.726Z"
   },
   {
    "duration": 12,
    "start_time": "2025-03-23T07:41:02.583Z"
   },
   {
    "duration": 7,
    "start_time": "2025-03-23T07:42:11.327Z"
   },
   {
    "duration": 92,
    "start_time": "2025-03-23T07:55:45.609Z"
   },
   {
    "duration": 5,
    "start_time": "2025-03-23T07:55:58.709Z"
   },
   {
    "duration": 85,
    "start_time": "2025-03-23T07:56:11.078Z"
   },
   {
    "duration": 10,
    "start_time": "2025-03-23T08:02:14.303Z"
   },
   {
    "duration": 90,
    "start_time": "2025-03-23T08:02:24.381Z"
   },
   {
    "duration": 136,
    "start_time": "2025-03-23T08:02:32.473Z"
   },
   {
    "duration": 16,
    "start_time": "2025-03-23T08:02:41.088Z"
   },
   {
    "duration": 98,
    "start_time": "2025-03-23T08:05:49.805Z"
   },
   {
    "duration": 100,
    "start_time": "2025-03-23T08:06:21.996Z"
   },
   {
    "duration": 110,
    "start_time": "2025-03-23T08:06:44.407Z"
   },
   {
    "duration": 5,
    "start_time": "2025-03-23T08:06:50.981Z"
   },
   {
    "duration": 323,
    "start_time": "2025-03-23T08:07:13.132Z"
   },
   {
    "duration": 5,
    "start_time": "2025-03-23T08:07:14.952Z"
   },
   {
    "duration": 202,
    "start_time": "2025-03-23T08:09:44.987Z"
   },
   {
    "duration": 200,
    "start_time": "2025-03-23T08:11:01.350Z"
   },
   {
    "duration": 187,
    "start_time": "2025-03-23T09:36:43.390Z"
   },
   {
    "duration": 15,
    "start_time": "2025-03-23T09:36:44.059Z"
   },
   {
    "duration": 375,
    "start_time": "2025-03-23T09:56:34.882Z"
   },
   {
    "duration": 415,
    "start_time": "2025-03-23T09:57:34.905Z"
   },
   {
    "duration": 365,
    "start_time": "2025-03-23T09:57:47.129Z"
   },
   {
    "duration": 374,
    "start_time": "2025-03-23T09:58:00.655Z"
   },
   {
    "duration": 371,
    "start_time": "2025-03-23T09:58:54.744Z"
   },
   {
    "duration": 371,
    "start_time": "2025-03-23T09:59:11.557Z"
   },
   {
    "duration": 349,
    "start_time": "2025-03-23T09:59:19.226Z"
   },
   {
    "duration": 4,
    "start_time": "2025-03-23T09:59:24.990Z"
   },
   {
    "duration": 6,
    "start_time": "2025-03-23T09:59:37.853Z"
   },
   {
    "duration": 9,
    "start_time": "2025-03-23T10:00:19.599Z"
   },
   {
    "duration": 9,
    "start_time": "2025-03-23T10:01:07.337Z"
   },
   {
    "duration": 7,
    "start_time": "2025-03-23T10:02:11.078Z"
   },
   {
    "duration": 8,
    "start_time": "2025-03-23T10:02:17.391Z"
   },
   {
    "duration": 428,
    "start_time": "2025-03-23T10:05:25.194Z"
   },
   {
    "duration": 342,
    "start_time": "2025-03-23T10:05:50.701Z"
   },
   {
    "duration": 365,
    "start_time": "2025-03-23T10:06:01.421Z"
   },
   {
    "duration": 380,
    "start_time": "2025-04-01T11:50:38.448Z"
   },
   {
    "duration": 1598,
    "start_time": "2025-04-01T11:50:38.831Z"
   },
   {
    "duration": 18,
    "start_time": "2025-04-01T11:50:40.432Z"
   },
   {
    "duration": 573,
    "start_time": "2025-04-01T11:50:40.452Z"
   },
   {
    "duration": 5,
    "start_time": "2025-04-01T11:50:41.026Z"
   },
   {
    "duration": 43,
    "start_time": "2025-04-01T11:50:41.032Z"
   },
   {
    "duration": 430,
    "start_time": "2025-04-01T11:50:41.077Z"
   },
   {
    "duration": 555,
    "start_time": "2025-04-01T11:50:41.509Z"
   },
   {
    "duration": 8,
    "start_time": "2025-04-01T11:50:42.065Z"
   },
   {
    "duration": 1644,
    "start_time": "2025-04-01T11:50:42.076Z"
   },
   {
    "duration": 0,
    "start_time": "2025-04-01T11:50:43.722Z"
   },
   {
    "duration": 0,
    "start_time": "2025-04-01T11:50:43.724Z"
   },
   {
    "duration": 3,
    "start_time": "2025-04-01T11:58:44.149Z"
   },
   {
    "duration": 658,
    "start_time": "2025-04-01T12:03:35.063Z"
   },
   {
    "duration": 1329,
    "start_time": "2025-04-01T12:03:35.723Z"
   },
   {
    "duration": 15,
    "start_time": "2025-04-01T12:03:37.054Z"
   },
   {
    "duration": 560,
    "start_time": "2025-04-01T12:03:37.072Z"
   },
   {
    "duration": 5,
    "start_time": "2025-04-01T12:03:37.634Z"
   },
   {
    "duration": 42,
    "start_time": "2025-04-01T12:03:37.642Z"
   },
   {
    "duration": 564,
    "start_time": "2025-04-01T12:03:37.686Z"
   },
   {
    "duration": 8,
    "start_time": "2025-04-01T12:03:38.252Z"
   },
   {
    "duration": 1585,
    "start_time": "2025-04-01T12:03:38.262Z"
   },
   {
    "duration": 0,
    "start_time": "2025-04-01T12:03:39.849Z"
   },
   {
    "duration": 0,
    "start_time": "2025-04-01T12:03:39.850Z"
   },
   {
    "duration": 439,
    "start_time": "2025-04-01T12:10:21.948Z"
   },
   {
    "duration": 11,
    "start_time": "2025-04-01T12:44:17.566Z"
   },
   {
    "duration": 335,
    "start_time": "2025-04-01T12:44:36.645Z"
   },
   {
    "duration": 11,
    "start_time": "2025-04-01T13:00:20.027Z"
   },
   {
    "duration": 309,
    "start_time": "2025-04-01T13:00:52.027Z"
   },
   {
    "duration": 1203,
    "start_time": "2025-04-01T13:03:36.297Z"
   },
   {
    "duration": 1687,
    "start_time": "2025-04-01T13:03:41.753Z"
   },
   {
    "duration": 398,
    "start_time": "2025-04-01T13:03:50.603Z"
   },
   {
    "duration": 10,
    "start_time": "2025-04-01T13:05:45.782Z"
   },
   {
    "duration": 9,
    "start_time": "2025-04-01T13:06:33.561Z"
   },
   {
    "duration": 3525,
    "start_time": "2025-04-01T13:06:52.625Z"
   },
   {
    "duration": 3751,
    "start_time": "2025-04-01T13:07:09.530Z"
   },
   {
    "duration": 1429,
    "start_time": "2025-04-01T13:07:28.195Z"
   },
   {
    "duration": 438,
    "start_time": "2025-04-01T13:07:37.026Z"
   },
   {
    "duration": 10,
    "start_time": "2025-04-01T13:08:59.693Z"
   },
   {
    "duration": 405,
    "start_time": "2025-04-01T13:09:15.310Z"
   },
   {
    "duration": 466,
    "start_time": "2025-04-01T13:12:01.002Z"
   },
   {
    "duration": 4,
    "start_time": "2025-04-01T13:13:00.439Z"
   },
   {
    "duration": 37,
    "start_time": "2025-04-01T13:18:39.750Z"
   },
   {
    "duration": 10,
    "start_time": "2025-04-01T13:18:46.485Z"
   },
   {
    "duration": 9,
    "start_time": "2025-04-01T13:19:26.666Z"
   },
   {
    "duration": 10,
    "start_time": "2025-04-01T13:19:46.423Z"
   },
   {
    "duration": 165,
    "start_time": "2025-04-01T13:20:35.947Z"
   },
   {
    "duration": 145,
    "start_time": "2025-04-01T13:30:13.432Z"
   },
   {
    "duration": 160,
    "start_time": "2025-04-01T13:30:29.497Z"
   },
   {
    "duration": 145,
    "start_time": "2025-04-01T13:30:39.040Z"
   },
   {
    "duration": 1408,
    "start_time": "2025-04-01T13:36:34.601Z"
   },
   {
    "duration": 1416,
    "start_time": "2025-04-01T13:45:48.806Z"
   },
   {
    "duration": 1463,
    "start_time": "2025-04-01T13:46:19.975Z"
   },
   {
    "duration": 1249,
    "start_time": "2025-04-01T13:46:33.959Z"
   },
   {
    "duration": 63,
    "start_time": "2025-04-01T13:46:49.512Z"
   },
   {
    "duration": 55,
    "start_time": "2025-04-01T13:47:27.633Z"
   },
   {
    "duration": 72,
    "start_time": "2025-04-01T13:47:36.346Z"
   },
   {
    "duration": 1174,
    "start_time": "2025-04-01T13:48:04.963Z"
   },
   {
    "duration": 1644,
    "start_time": "2025-04-01T13:48:06.139Z"
   },
   {
    "duration": 37,
    "start_time": "2025-04-01T13:48:07.785Z"
   },
   {
    "duration": 582,
    "start_time": "2025-04-01T13:48:07.824Z"
   },
   {
    "duration": 5,
    "start_time": "2025-04-01T13:48:08.408Z"
   },
   {
    "duration": 78,
    "start_time": "2025-04-01T13:48:08.414Z"
   },
   {
    "duration": 522,
    "start_time": "2025-04-01T13:48:08.494Z"
   },
   {
    "duration": 8,
    "start_time": "2025-04-01T13:48:09.017Z"
   },
   {
    "duration": 454,
    "start_time": "2025-04-01T13:48:09.027Z"
   },
   {
    "duration": 309,
    "start_time": "2025-04-01T13:48:09.484Z"
   },
   {
    "duration": 349,
    "start_time": "2025-04-01T13:48:09.794Z"
   },
   {
    "duration": 20,
    "start_time": "2025-04-01T13:48:10.145Z"
   },
   {
    "duration": 183,
    "start_time": "2025-04-01T13:48:10.166Z"
   },
   {
    "duration": 266,
    "start_time": "2025-04-01T13:48:10.351Z"
   },
   {
    "duration": 164,
    "start_time": "2025-04-01T13:50:00.979Z"
   },
   {
    "duration": 55,
    "start_time": "2025-04-01T13:50:20.562Z"
   },
   {
    "duration": 159,
    "start_time": "2025-04-01T13:50:26.515Z"
   },
   {
    "duration": 161,
    "start_time": "2025-04-01T13:52:02.255Z"
   },
   {
    "duration": 167,
    "start_time": "2025-04-01T13:52:23.464Z"
   },
   {
    "duration": 256,
    "start_time": "2025-04-01T13:53:18.612Z"
   },
   {
    "duration": 169,
    "start_time": "2025-04-01T13:53:41.538Z"
   },
   {
    "duration": 176,
    "start_time": "2025-04-01T13:54:11.293Z"
   },
   {
    "duration": 165,
    "start_time": "2025-04-01T13:55:33.033Z"
   },
   {
    "duration": 184,
    "start_time": "2025-04-01T13:56:32.474Z"
   },
   {
    "duration": 9,
    "start_time": "2025-04-01T14:00:35.508Z"
   },
   {
    "duration": 10,
    "start_time": "2025-04-01T14:00:47.164Z"
   },
   {
    "duration": 391,
    "start_time": "2025-04-01T14:06:46.851Z"
   },
   {
    "duration": 393,
    "start_time": "2025-04-01T14:07:38.158Z"
   },
   {
    "duration": 46,
    "start_time": "2025-04-03T11:21:49.784Z"
   },
   {
    "duration": 6,
    "start_time": "2025-04-03T11:22:34.807Z"
   },
   {
    "duration": 1309,
    "start_time": "2025-04-03T11:22:41.856Z"
   },
   {
    "duration": 1271,
    "start_time": "2025-04-03T11:22:43.167Z"
   },
   {
    "duration": 15,
    "start_time": "2025-04-03T11:22:44.439Z"
   },
   {
    "duration": 502,
    "start_time": "2025-04-03T11:22:44.464Z"
   },
   {
    "duration": 5,
    "start_time": "2025-04-03T11:22:44.968Z"
   },
   {
    "duration": 49,
    "start_time": "2025-04-03T11:22:44.975Z"
   },
   {
    "duration": 492,
    "start_time": "2025-04-03T11:22:45.026Z"
   },
   {
    "duration": 7,
    "start_time": "2025-04-03T11:22:45.520Z"
   },
   {
    "duration": 487,
    "start_time": "2025-04-03T11:22:45.528Z"
   },
   {
    "duration": 301,
    "start_time": "2025-04-03T11:22:46.017Z"
   },
   {
    "duration": 315,
    "start_time": "2025-04-03T11:22:46.320Z"
   },
   {
    "duration": 29,
    "start_time": "2025-04-03T11:22:46.636Z"
   },
   {
    "duration": 126,
    "start_time": "2025-04-03T11:22:46.667Z"
   },
   {
    "duration": 204,
    "start_time": "2025-04-03T11:22:46.794Z"
   },
   {
    "duration": 0,
    "start_time": "2025-04-03T11:22:46.999Z"
   },
   {
    "duration": 0,
    "start_time": "2025-04-03T11:22:47.000Z"
   },
   {
    "duration": 0,
    "start_time": "2025-04-03T11:22:47.001Z"
   },
   {
    "duration": 0,
    "start_time": "2025-04-03T11:22:47.002Z"
   },
   {
    "duration": 148,
    "start_time": "2025-04-03T11:24:28.859Z"
   },
   {
    "duration": 7,
    "start_time": "2025-04-03T11:24:33.614Z"
   },
   {
    "duration": 372,
    "start_time": "2025-04-03T11:24:35.588Z"
   },
   {
    "duration": 331,
    "start_time": "2025-04-03T11:24:36.632Z"
   },
   {
    "duration": 1466,
    "start_time": "2025-04-03T11:24:43.360Z"
   },
   {
    "duration": 440,
    "start_time": "2025-04-03T11:24:52.848Z"
   },
   {
    "duration": 298,
    "start_time": "2025-04-03T11:25:05.446Z"
   },
   {
    "duration": 46,
    "start_time": "2025-04-03T11:29:50.028Z"
   },
   {
    "duration": 3,
    "start_time": "2025-04-03T11:31:57.175Z"
   },
   {
    "duration": 1054,
    "start_time": "2025-04-03T11:32:01.700Z"
   },
   {
    "duration": 1169,
    "start_time": "2025-04-03T11:32:02.755Z"
   },
   {
    "duration": 13,
    "start_time": "2025-04-03T11:32:03.926Z"
   },
   {
    "duration": 478,
    "start_time": "2025-04-03T11:32:03.940Z"
   },
   {
    "duration": 4,
    "start_time": "2025-04-03T11:32:04.420Z"
   },
   {
    "duration": 78,
    "start_time": "2025-04-03T11:32:04.425Z"
   },
   {
    "duration": 494,
    "start_time": "2025-04-03T11:32:04.504Z"
   },
   {
    "duration": 9,
    "start_time": "2025-04-03T11:32:05.000Z"
   },
   {
    "duration": 444,
    "start_time": "2025-04-03T11:32:05.011Z"
   },
   {
    "duration": 273,
    "start_time": "2025-04-03T11:32:05.458Z"
   },
   {
    "duration": 316,
    "start_time": "2025-04-03T11:32:05.732Z"
   },
   {
    "duration": 20,
    "start_time": "2025-04-03T11:32:06.049Z"
   },
   {
    "duration": 139,
    "start_time": "2025-04-03T11:32:06.071Z"
   },
   {
    "duration": 182,
    "start_time": "2025-04-03T11:32:06.211Z"
   },
   {
    "duration": 8,
    "start_time": "2025-04-03T11:32:06.395Z"
   },
   {
    "duration": 361,
    "start_time": "2025-04-03T11:32:06.404Z"
   },
   {
    "duration": 317,
    "start_time": "2025-04-03T11:32:06.766Z"
   },
   {
    "duration": 344,
    "start_time": "2025-04-03T11:32:07.085Z"
   },
   {
    "duration": 45,
    "start_time": "2025-04-03T11:32:07.431Z"
   },
   {
    "duration": 11,
    "start_time": "2025-04-03T11:34:13.290Z"
   },
   {
    "duration": 13,
    "start_time": "2025-04-03T11:35:17.075Z"
   },
   {
    "duration": 12,
    "start_time": "2025-04-03T11:35:34.541Z"
   },
   {
    "duration": 10,
    "start_time": "2025-04-03T11:35:45.044Z"
   },
   {
    "duration": 11,
    "start_time": "2025-04-03T11:35:52.077Z"
   },
   {
    "duration": 11,
    "start_time": "2025-04-03T11:36:12.197Z"
   },
   {
    "duration": 12,
    "start_time": "2025-04-03T11:38:59.101Z"
   },
   {
    "duration": 107,
    "start_time": "2025-04-03T11:39:30.064Z"
   },
   {
    "duration": 11,
    "start_time": "2025-04-03T11:40:15.705Z"
   },
   {
    "duration": 11,
    "start_time": "2025-04-03T11:40:38.104Z"
   },
   {
    "duration": 1152,
    "start_time": "2025-04-03T12:01:55.595Z"
   },
   {
    "duration": 1379,
    "start_time": "2025-04-03T12:01:56.748Z"
   },
   {
    "duration": 13,
    "start_time": "2025-04-03T12:01:58.128Z"
   },
   {
    "duration": 473,
    "start_time": "2025-04-03T12:01:58.143Z"
   },
   {
    "duration": 4,
    "start_time": "2025-04-03T12:01:58.617Z"
   },
   {
    "duration": 41,
    "start_time": "2025-04-03T12:01:58.623Z"
   },
   {
    "duration": 460,
    "start_time": "2025-04-03T12:01:58.665Z"
   },
   {
    "duration": 6,
    "start_time": "2025-04-03T12:01:59.127Z"
   },
   {
    "duration": 416,
    "start_time": "2025-04-03T12:01:59.135Z"
   },
   {
    "duration": 280,
    "start_time": "2025-04-03T12:01:59.553Z"
   },
   {
    "duration": 308,
    "start_time": "2025-04-03T12:01:59.834Z"
   },
   {
    "duration": 25,
    "start_time": "2025-04-03T12:02:00.144Z"
   },
   {
    "duration": 136,
    "start_time": "2025-04-03T12:02:00.171Z"
   },
   {
    "duration": 216,
    "start_time": "2025-04-03T12:02:00.308Z"
   },
   {
    "duration": 6,
    "start_time": "2025-04-03T12:02:00.526Z"
   },
   {
    "duration": 345,
    "start_time": "2025-04-03T12:02:00.533Z"
   },
   {
    "duration": 340,
    "start_time": "2025-04-03T12:02:00.880Z"
   },
   {
    "duration": 458,
    "start_time": "2025-04-03T12:02:01.221Z"
   },
   {
    "duration": 42,
    "start_time": "2025-04-03T12:02:01.681Z"
   },
   {
    "duration": 23,
    "start_time": "2025-04-03T12:02:01.725Z"
   },
   {
    "duration": 122,
    "start_time": "2025-04-03T12:02:01.750Z"
   },
   {
    "duration": 11,
    "start_time": "2025-04-03T12:02:04.334Z"
   },
   {
    "duration": 5,
    "start_time": "2025-04-03T12:02:11.973Z"
   },
   {
    "duration": 12,
    "start_time": "2025-04-03T12:03:16.220Z"
   },
   {
    "duration": 10,
    "start_time": "2025-04-03T12:03:56.417Z"
   },
   {
    "duration": 2,
    "start_time": "2025-04-03T12:04:15.466Z"
   },
   {
    "duration": 4,
    "start_time": "2025-04-03T12:04:29.791Z"
   },
   {
    "duration": 4,
    "start_time": "2025-04-03T12:04:49.491Z"
   },
   {
    "duration": 3,
    "start_time": "2025-04-03T12:04:57.187Z"
   },
   {
    "duration": 6,
    "start_time": "2025-04-03T12:05:43.678Z"
   },
   {
    "duration": 1402,
    "start_time": "2025-04-06T10:02:13.096Z"
   },
   {
    "duration": 1497,
    "start_time": "2025-04-06T10:02:14.500Z"
   },
   {
    "duration": 17,
    "start_time": "2025-04-06T10:02:15.999Z"
   },
   {
    "duration": 614,
    "start_time": "2025-04-06T10:02:16.018Z"
   },
   {
    "duration": 7,
    "start_time": "2025-04-06T10:02:16.634Z"
   },
   {
    "duration": 56,
    "start_time": "2025-04-06T10:02:16.643Z"
   },
   {
    "duration": 560,
    "start_time": "2025-04-06T10:02:16.701Z"
   },
   {
    "duration": 8,
    "start_time": "2025-04-06T10:02:17.263Z"
   },
   {
    "duration": 542,
    "start_time": "2025-04-06T10:02:17.273Z"
   },
   {
    "duration": 323,
    "start_time": "2025-04-06T10:02:17.817Z"
   },
   {
    "duration": 378,
    "start_time": "2025-04-06T10:02:18.141Z"
   },
   {
    "duration": 24,
    "start_time": "2025-04-06T10:02:18.520Z"
   },
   {
    "duration": 180,
    "start_time": "2025-04-06T10:02:18.546Z"
   },
   {
    "duration": 213,
    "start_time": "2025-04-06T10:02:18.728Z"
   },
   {
    "duration": 9,
    "start_time": "2025-04-06T10:02:18.943Z"
   },
   {
    "duration": 429,
    "start_time": "2025-04-06T10:02:18.954Z"
   },
   {
    "duration": 381,
    "start_time": "2025-04-06T10:02:19.385Z"
   },
   {
    "duration": 423,
    "start_time": "2025-04-06T10:02:19.767Z"
   },
   {
    "duration": 57,
    "start_time": "2025-04-06T10:02:20.191Z"
   },
   {
    "duration": 12,
    "start_time": "2025-04-06T10:02:20.250Z"
   },
   {
    "duration": 6,
    "start_time": "2025-04-06T10:02:20.263Z"
   },
   {
    "duration": 3,
    "start_time": "2025-04-07T09:56:10.204Z"
   },
   {
    "duration": 2215,
    "start_time": "2025-04-07T09:56:11.068Z"
   },
   {
    "duration": 11,
    "start_time": "2025-04-07T09:56:14.947Z"
   },
   {
    "duration": 662,
    "start_time": "2025-04-07T09:56:50.332Z"
   },
   {
    "duration": 380,
    "start_time": "2025-04-07T09:57:18.859Z"
   },
   {
    "duration": 212,
    "start_time": "2025-04-07T09:57:40.090Z"
   },
   {
    "duration": 1150,
    "start_time": "2025-04-07T09:57:45.275Z"
   },
   {
    "duration": 2476,
    "start_time": "2025-04-07T09:57:46.428Z"
   },
   {
    "duration": 13,
    "start_time": "2025-04-07T09:57:48.906Z"
   },
   {
    "duration": 554,
    "start_time": "2025-04-07T09:57:48.921Z"
   },
   {
    "duration": 5,
    "start_time": "2025-04-07T09:57:49.476Z"
   },
   {
    "duration": 55,
    "start_time": "2025-04-07T09:57:49.482Z"
   },
   {
    "duration": 518,
    "start_time": "2025-04-07T09:57:49.539Z"
   },
   {
    "duration": 8,
    "start_time": "2025-04-07T09:57:50.059Z"
   },
   {
    "duration": 463,
    "start_time": "2025-04-07T09:57:50.069Z"
   },
   {
    "duration": 313,
    "start_time": "2025-04-07T09:57:50.535Z"
   },
   {
    "duration": 365,
    "start_time": "2025-04-07T09:57:50.850Z"
   },
   {
    "duration": 29,
    "start_time": "2025-04-07T09:57:51.217Z"
   },
   {
    "duration": 166,
    "start_time": "2025-04-07T09:57:51.247Z"
   },
   {
    "duration": 153,
    "start_time": "2025-04-07T09:57:51.415Z"
   },
   {
    "duration": 0,
    "start_time": "2025-04-07T09:57:51.570Z"
   },
   {
    "duration": 0,
    "start_time": "2025-04-07T09:57:51.572Z"
   },
   {
    "duration": 0,
    "start_time": "2025-04-07T09:57:51.573Z"
   },
   {
    "duration": 0,
    "start_time": "2025-04-07T09:57:51.574Z"
   },
   {
    "duration": 0,
    "start_time": "2025-04-07T09:57:51.575Z"
   },
   {
    "duration": 0,
    "start_time": "2025-04-07T09:57:51.576Z"
   },
   {
    "duration": 0,
    "start_time": "2025-04-07T09:57:51.577Z"
   },
   {
    "duration": 45,
    "start_time": "2025-04-07T09:58:09.024Z"
   },
   {
    "duration": 171,
    "start_time": "2025-04-07T09:58:39.543Z"
   },
   {
    "duration": 1238,
    "start_time": "2025-04-07T09:58:44.132Z"
   },
   {
    "duration": 1688,
    "start_time": "2025-04-07T09:58:45.372Z"
   },
   {
    "duration": 16,
    "start_time": "2025-04-07T09:58:47.061Z"
   },
   {
    "duration": 560,
    "start_time": "2025-04-07T09:58:47.078Z"
   },
   {
    "duration": 6,
    "start_time": "2025-04-07T09:58:47.641Z"
   },
   {
    "duration": 75,
    "start_time": "2025-04-07T09:58:47.649Z"
   },
   {
    "duration": 513,
    "start_time": "2025-04-07T09:58:47.726Z"
   },
   {
    "duration": 8,
    "start_time": "2025-04-07T09:58:48.240Z"
   },
   {
    "duration": 424,
    "start_time": "2025-04-07T09:58:48.250Z"
   },
   {
    "duration": 351,
    "start_time": "2025-04-07T09:58:48.677Z"
   },
   {
    "duration": 376,
    "start_time": "2025-04-07T09:58:49.036Z"
   },
   {
    "duration": 33,
    "start_time": "2025-04-07T09:58:49.414Z"
   },
   {
    "duration": 174,
    "start_time": "2025-04-07T09:58:49.449Z"
   },
   {
    "duration": 178,
    "start_time": "2025-04-07T09:58:49.625Z"
   },
   {
    "duration": 7,
    "start_time": "2025-04-07T09:58:49.805Z"
   },
   {
    "duration": 381,
    "start_time": "2025-04-07T09:58:49.813Z"
   },
   {
    "duration": 381,
    "start_time": "2025-04-07T09:58:50.196Z"
   },
   {
    "duration": 477,
    "start_time": "2025-04-07T09:58:50.579Z"
   },
   {
    "duration": 47,
    "start_time": "2025-04-07T09:58:51.057Z"
   },
   {
    "duration": 11,
    "start_time": "2025-04-07T09:58:51.106Z"
   },
   {
    "duration": 23,
    "start_time": "2025-04-07T09:58:51.118Z"
   },
   {
    "duration": 1145,
    "start_time": "2025-04-07T18:03:32.828Z"
   },
   {
    "duration": 1949,
    "start_time": "2025-04-07T18:03:33.975Z"
   },
   {
    "duration": 14,
    "start_time": "2025-04-07T18:03:35.926Z"
   },
   {
    "duration": 869,
    "start_time": "2025-04-07T18:03:35.942Z"
   },
   {
    "duration": 4,
    "start_time": "2025-04-07T18:03:36.812Z"
   },
   {
    "duration": 108,
    "start_time": "2025-04-07T18:03:36.818Z"
   },
   {
    "duration": 887,
    "start_time": "2025-04-07T18:03:36.927Z"
   },
   {
    "duration": 8,
    "start_time": "2025-04-07T18:03:37.815Z"
   },
   {
    "duration": 442,
    "start_time": "2025-04-07T18:03:37.824Z"
   },
   {
    "duration": 307,
    "start_time": "2025-04-07T18:03:38.269Z"
   },
   {
    "duration": 308,
    "start_time": "2025-04-07T18:03:38.578Z"
   },
   {
    "duration": 28,
    "start_time": "2025-04-07T18:03:38.888Z"
   },
   {
    "duration": 211,
    "start_time": "2025-04-07T18:03:38.918Z"
   },
   {
    "duration": 155,
    "start_time": "2025-04-07T18:03:39.130Z"
   },
   {
    "duration": 7,
    "start_time": "2025-04-07T18:03:39.287Z"
   },
   {
    "duration": 357,
    "start_time": "2025-04-07T18:03:39.296Z"
   },
   {
    "duration": 359,
    "start_time": "2025-04-07T18:03:39.655Z"
   },
   {
    "duration": 472,
    "start_time": "2025-04-07T18:03:40.016Z"
   },
   {
    "duration": 54,
    "start_time": "2025-04-07T18:03:40.490Z"
   },
   {
    "duration": 12,
    "start_time": "2025-04-07T18:03:40.546Z"
   },
   {
    "duration": 5,
    "start_time": "2025-04-07T18:03:40.560Z"
   },
   {
    "duration": 11,
    "start_time": "2025-04-07T18:07:53.613Z"
   },
   {
    "duration": 4,
    "start_time": "2025-04-07T18:09:32.356Z"
   },
   {
    "duration": 6,
    "start_time": "2025-04-07T18:10:05.953Z"
   },
   {
    "duration": 78,
    "start_time": "2025-04-07T18:11:04.024Z"
   },
   {
    "duration": 6,
    "start_time": "2025-04-07T18:11:14.482Z"
   },
   {
    "duration": 77,
    "start_time": "2025-04-07T18:11:33.787Z"
   },
   {
    "duration": 95,
    "start_time": "2025-04-07T18:11:58.811Z"
   },
   {
    "duration": 349,
    "start_time": "2025-04-07T18:12:10.040Z"
   },
   {
    "duration": 155,
    "start_time": "2025-04-07T18:12:12.510Z"
   },
   {
    "duration": 70,
    "start_time": "2025-04-07T18:12:25.078Z"
   },
   {
    "duration": 5,
    "start_time": "2025-04-07T18:12:48.030Z"
   },
   {
    "duration": 57,
    "start_time": "2025-04-07T18:13:03.180Z"
   },
   {
    "duration": 6,
    "start_time": "2025-04-07T18:14:15.726Z"
   },
   {
    "duration": 3,
    "start_time": "2025-04-07T18:14:15.934Z"
   },
   {
    "duration": 56,
    "start_time": "2025-04-07T18:14:21.535Z"
   },
   {
    "duration": 4,
    "start_time": "2025-04-07T18:14:21.864Z"
   },
   {
    "duration": 1197,
    "start_time": "2025-04-12T21:17:29.028Z"
   },
   {
    "duration": 2123,
    "start_time": "2025-04-12T21:17:30.227Z"
   },
   {
    "duration": 25,
    "start_time": "2025-04-12T21:17:32.352Z"
   },
   {
    "duration": 671,
    "start_time": "2025-04-12T21:17:32.380Z"
   },
   {
    "duration": 4,
    "start_time": "2025-04-12T21:17:33.053Z"
   },
   {
    "duration": 129,
    "start_time": "2025-04-12T21:17:33.059Z"
   },
   {
    "duration": 639,
    "start_time": "2025-04-12T21:17:33.190Z"
   },
   {
    "duration": 8,
    "start_time": "2025-04-12T21:17:33.831Z"
   },
   {
    "duration": 464,
    "start_time": "2025-04-12T21:17:33.840Z"
   },
   {
    "duration": 334,
    "start_time": "2025-04-12T21:17:34.307Z"
   },
   {
    "duration": 351,
    "start_time": "2025-04-12T21:17:34.643Z"
   },
   {
    "duration": 16,
    "start_time": "2025-04-12T21:17:34.996Z"
   },
   {
    "duration": 386,
    "start_time": "2025-04-12T21:17:35.014Z"
   },
   {
    "duration": 314,
    "start_time": "2025-04-12T21:17:35.402Z"
   },
   {
    "duration": 59,
    "start_time": "2025-04-12T21:17:35.718Z"
   },
   {
    "duration": 712,
    "start_time": "2025-04-12T21:17:35.779Z"
   },
   {
    "duration": 539,
    "start_time": "2025-04-12T21:17:36.493Z"
   },
   {
    "duration": 592,
    "start_time": "2025-04-12T21:17:37.034Z"
   },
   {
    "duration": 59,
    "start_time": "2025-04-12T21:17:37.628Z"
   },
   {
    "duration": 14,
    "start_time": "2025-04-12T21:17:37.688Z"
   },
   {
    "duration": 12,
    "start_time": "2025-04-12T21:17:37.704Z"
   },
   {
    "duration": 11,
    "start_time": "2025-04-12T21:20:12.782Z"
   },
   {
    "duration": 13,
    "start_time": "2025-04-13T06:26:58.467Z"
   },
   {
    "duration": 4,
    "start_time": "2025-04-13T06:27:38.433Z"
   },
   {
    "duration": 108,
    "start_time": "2025-04-13T06:28:02.538Z"
   },
   {
    "duration": 412,
    "start_time": "2025-04-13T06:28:12.628Z"
   },
   {
    "duration": 3,
    "start_time": "2025-04-13T06:28:26.475Z"
   },
   {
    "duration": 6,
    "start_time": "2025-04-13T06:28:31.898Z"
   },
   {
    "duration": 4,
    "start_time": "2025-04-13T06:29:00.326Z"
   },
   {
    "duration": 6,
    "start_time": "2025-04-13T06:29:08.380Z"
   },
   {
    "duration": 361,
    "start_time": "2025-04-13T06:29:56.668Z"
   },
   {
    "duration": 406,
    "start_time": "2025-04-13T06:30:29.405Z"
   },
   {
    "duration": 331,
    "start_time": "2025-04-13T06:31:05.816Z"
   },
   {
    "duration": 341,
    "start_time": "2025-04-13T06:31:59.907Z"
   },
   {
    "duration": 72,
    "start_time": "2025-04-13T06:33:43.052Z"
   },
   {
    "duration": 75,
    "start_time": "2025-04-13T06:33:45.152Z"
   },
   {
    "duration": 1152,
    "start_time": "2025-04-13T06:34:25.706Z"
   },
   {
    "duration": 1795,
    "start_time": "2025-04-13T06:34:26.860Z"
   },
   {
    "duration": 15,
    "start_time": "2025-04-13T06:34:28.657Z"
   },
   {
    "duration": 565,
    "start_time": "2025-04-13T06:34:28.674Z"
   },
   {
    "duration": 7,
    "start_time": "2025-04-13T06:34:29.241Z"
   },
   {
    "duration": 39,
    "start_time": "2025-04-13T06:34:29.250Z"
   },
   {
    "duration": 594,
    "start_time": "2025-04-13T06:34:29.291Z"
   },
   {
    "duration": 6,
    "start_time": "2025-04-13T06:34:29.887Z"
   },
   {
    "duration": 6,
    "start_time": "2025-04-13T06:34:29.895Z"
   },
   {
    "duration": 503,
    "start_time": "2025-04-13T06:34:29.904Z"
   },
   {
    "duration": 422,
    "start_time": "2025-04-13T06:34:30.409Z"
   },
   {
    "duration": 288,
    "start_time": "2025-04-13T06:34:30.832Z"
   },
   {
    "duration": 336,
    "start_time": "2025-04-13T06:34:31.121Z"
   },
   {
    "duration": 14,
    "start_time": "2025-04-13T06:34:31.459Z"
   },
   {
    "duration": 191,
    "start_time": "2025-04-13T06:34:31.475Z"
   },
   {
    "duration": 161,
    "start_time": "2025-04-13T06:34:31.668Z"
   },
   {
    "duration": 11,
    "start_time": "2025-04-13T06:34:31.836Z"
   },
   {
    "duration": 407,
    "start_time": "2025-04-13T06:34:31.849Z"
   },
   {
    "duration": 397,
    "start_time": "2025-04-13T06:34:32.257Z"
   },
   {
    "duration": 490,
    "start_time": "2025-04-13T06:34:32.656Z"
   },
   {
    "duration": 44,
    "start_time": "2025-04-13T06:34:33.149Z"
   },
   {
    "duration": 11,
    "start_time": "2025-04-13T06:34:33.195Z"
   },
   {
    "duration": 5,
    "start_time": "2025-04-13T06:34:33.208Z"
   },
   {
    "duration": 101,
    "start_time": "2025-04-13T06:35:31.875Z"
   },
   {
    "duration": 955,
    "start_time": "2025-04-13T06:36:30.401Z"
   },
   {
    "duration": 379,
    "start_time": "2025-04-13T06:37:08.891Z"
   },
   {
    "duration": 346,
    "start_time": "2025-04-13T06:37:32.434Z"
   },
   {
    "duration": 86,
    "start_time": "2025-04-13T06:39:12.169Z"
   },
   {
    "duration": 14,
    "start_time": "2025-04-13T06:40:31.385Z"
   },
   {
    "duration": 1264,
    "start_time": "2025-04-13T06:40:47.401Z"
   },
   {
    "duration": 3095,
    "start_time": "2025-04-13T06:40:48.668Z"
   },
   {
    "duration": 14,
    "start_time": "2025-04-13T06:40:51.765Z"
   },
   {
    "duration": 549,
    "start_time": "2025-04-13T06:40:51.781Z"
   },
   {
    "duration": 6,
    "start_time": "2025-04-13T06:40:52.332Z"
   },
   {
    "duration": 45,
    "start_time": "2025-04-13T06:40:52.341Z"
   },
   {
    "duration": 524,
    "start_time": "2025-04-13T06:40:52.388Z"
   },
   {
    "duration": 8,
    "start_time": "2025-04-13T06:40:52.913Z"
   },
   {
    "duration": 15,
    "start_time": "2025-04-13T06:40:52.923Z"
   },
   {
    "duration": 437,
    "start_time": "2025-04-13T06:40:52.940Z"
   },
   {
    "duration": 361,
    "start_time": "2025-04-13T06:40:53.379Z"
   },
   {
    "duration": 282,
    "start_time": "2025-04-13T06:40:53.741Z"
   },
   {
    "duration": 355,
    "start_time": "2025-04-13T06:40:54.036Z"
   },
   {
    "duration": 26,
    "start_time": "2025-04-13T06:40:54.394Z"
   },
   {
    "duration": 162,
    "start_time": "2025-04-13T06:40:54.441Z"
   },
   {
    "duration": 187,
    "start_time": "2025-04-13T06:40:54.605Z"
   },
   {
    "duration": 10,
    "start_time": "2025-04-13T06:40:54.794Z"
   },
   {
    "duration": 438,
    "start_time": "2025-04-13T06:40:54.806Z"
   },
   {
    "duration": 387,
    "start_time": "2025-04-13T06:40:55.246Z"
   },
   {
    "duration": 503,
    "start_time": "2025-04-13T06:40:55.635Z"
   },
   {
    "duration": 50,
    "start_time": "2025-04-13T06:40:56.140Z"
   },
   {
    "duration": 18,
    "start_time": "2025-04-13T06:40:56.192Z"
   },
   {
    "duration": 106,
    "start_time": "2025-04-13T06:40:56.212Z"
   },
   {
    "duration": 133,
    "start_time": "2025-04-13T06:41:50.920Z"
   },
   {
    "duration": 1247,
    "start_time": "2025-04-13T06:41:59.304Z"
   },
   {
    "duration": 2024,
    "start_time": "2025-04-13T06:42:00.553Z"
   },
   {
    "duration": 14,
    "start_time": "2025-04-13T06:42:02.579Z"
   },
   {
    "duration": 570,
    "start_time": "2025-04-13T06:42:02.595Z"
   },
   {
    "duration": 5,
    "start_time": "2025-04-13T06:42:03.166Z"
   },
   {
    "duration": 64,
    "start_time": "2025-04-13T06:42:03.172Z"
   },
   {
    "duration": 526,
    "start_time": "2025-04-13T06:42:03.238Z"
   },
   {
    "duration": 8,
    "start_time": "2025-04-13T06:42:03.765Z"
   },
   {
    "duration": 22,
    "start_time": "2025-04-13T06:42:03.774Z"
   },
   {
    "duration": 450,
    "start_time": "2025-04-13T06:42:03.798Z"
   },
   {
    "duration": 380,
    "start_time": "2025-04-13T06:42:04.250Z"
   },
   {
    "duration": 285,
    "start_time": "2025-04-13T06:42:04.632Z"
   },
   {
    "duration": 346,
    "start_time": "2025-04-13T06:42:04.919Z"
   },
   {
    "duration": 16,
    "start_time": "2025-04-13T06:42:05.266Z"
   },
   {
    "duration": 171,
    "start_time": "2025-04-13T06:42:05.283Z"
   },
   {
    "duration": 167,
    "start_time": "2025-04-13T06:42:05.456Z"
   },
   {
    "duration": 17,
    "start_time": "2025-04-13T06:42:05.624Z"
   },
   {
    "duration": 446,
    "start_time": "2025-04-13T06:42:05.642Z"
   },
   {
    "duration": 372,
    "start_time": "2025-04-13T06:42:06.090Z"
   },
   {
    "duration": 974,
    "start_time": "2025-04-13T06:42:06.463Z"
   },
   {
    "duration": 46,
    "start_time": "2025-04-13T06:42:07.439Z"
   },
   {
    "duration": 28,
    "start_time": "2025-04-13T06:42:07.486Z"
   },
   {
    "duration": 27,
    "start_time": "2025-04-13T06:42:07.516Z"
   },
   {
    "duration": 1179,
    "start_time": "2025-04-13T19:36:00.915Z"
   },
   {
    "duration": 2382,
    "start_time": "2025-04-13T19:36:02.096Z"
   },
   {
    "duration": 14,
    "start_time": "2025-04-13T19:36:04.480Z"
   },
   {
    "duration": 968,
    "start_time": "2025-04-13T19:36:04.496Z"
   },
   {
    "duration": 4,
    "start_time": "2025-04-13T19:36:05.467Z"
   },
   {
    "duration": 110,
    "start_time": "2025-04-13T19:36:05.473Z"
   },
   {
    "duration": 600,
    "start_time": "2025-04-13T19:36:05.585Z"
   },
   {
    "duration": 9,
    "start_time": "2025-04-13T19:36:06.187Z"
   },
   {
    "duration": 199,
    "start_time": "2025-04-13T19:36:06.197Z"
   },
   {
    "duration": 515,
    "start_time": "2025-04-13T19:36:06.398Z"
   },
   {
    "duration": 358,
    "start_time": "2025-04-13T19:36:06.915Z"
   },
   {
    "duration": 312,
    "start_time": "2025-04-13T19:36:07.275Z"
   },
   {
    "duration": 356,
    "start_time": "2025-04-13T19:36:07.589Z"
   },
   {
    "duration": 25,
    "start_time": "2025-04-13T19:36:07.948Z"
   },
   {
    "duration": 208,
    "start_time": "2025-04-13T19:36:07.975Z"
   },
   {
    "duration": 177,
    "start_time": "2025-04-13T19:36:08.185Z"
   },
   {
    "duration": 9,
    "start_time": "2025-04-13T19:36:08.364Z"
   },
   {
    "duration": 456,
    "start_time": "2025-04-13T19:36:08.375Z"
   },
   {
    "duration": 340,
    "start_time": "2025-04-13T19:36:08.832Z"
   },
   {
    "duration": 485,
    "start_time": "2025-04-13T19:36:09.174Z"
   },
   {
    "duration": 45,
    "start_time": "2025-04-13T19:36:09.661Z"
   },
   {
    "duration": 164,
    "start_time": "2025-04-13T19:36:09.708Z"
   },
   {
    "duration": 62,
    "start_time": "2025-04-13T19:36:09.873Z"
   },
   {
    "duration": 10,
    "start_time": "2025-04-13T19:38:30.187Z"
   },
   {
    "duration": 69,
    "start_time": "2025-04-13T19:41:41.638Z"
   },
   {
    "duration": 71,
    "start_time": "2025-04-13T19:41:47.210Z"
   },
   {
    "duration": 16,
    "start_time": "2025-04-13T19:42:01.125Z"
   },
   {
    "duration": 4,
    "start_time": "2025-04-13T19:42:01.412Z"
   },
   {
    "duration": 35,
    "start_time": "2025-04-13T19:49:33.213Z"
   }
  ],
  "colab": {
   "provenance": []
  },
  "kernelspec": {
   "display_name": "Python 3 (ipykernel)",
   "language": "python",
   "name": "python3"
  },
  "language_info": {
   "codemirror_mode": {
    "name": "ipython",
    "version": 3
   },
   "file_extension": ".py",
   "mimetype": "text/x-python",
   "name": "python",
   "nbconvert_exporter": "python",
   "pygments_lexer": "ipython3",
   "version": "3.9.5"
  },
  "toc": {
   "base_numbering": 1,
   "nav_menu": {},
   "number_sections": true,
   "sideBar": true,
   "skip_h1_title": true,
   "title_cell": "Table of Contents",
   "title_sidebar": "Contents",
   "toc_cell": false,
   "toc_position": {},
   "toc_section_display": true,
   "toc_window_display": false
  }
 },
 "nbformat": 4,
 "nbformat_minor": 1
}
