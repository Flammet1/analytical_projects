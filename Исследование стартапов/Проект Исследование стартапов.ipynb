{
 "cells": [
  {
   "cell_type": "markdown",
   "metadata": {
    "id": "4mJbK1knrJgz"
   },
   "source": [
    "# Проект: Исследование стартапов"
   ]
  },
  {
   "cell_type": "markdown",
   "metadata": {
    "id": "P6j0r3worJg0"
   },
   "source": [
    "## Введение"
   ]
  },
  {
   "cell_type": "markdown",
   "metadata": {
    "id": "8lQtbsIUyFG6"
   },
   "source": [
    "**Знакомство с проектом**\n",
    "\n",
    "Финансовая компания, которая предоставляет льготные займы стартапам, хочет войти на инвестиционный рынок с прицелом на покупку, развитие и последующую перепродажу перспективных стартапов. Для разработки модели бизнеса нужна информация. Чтобы выработать общее понимание, какие данные могут быть полезны, проводится исследование на исторических данных.\n",
    "Исследование на этом наборе датасетов уже пытались проводить внутренними силами, но собственных аналитиков у компании нет и для решения задачи пригласили аутсорс-специалистов. Данные неполны, поэтому заказчик, кроме ответа на некоторые интересующие его вопросы, просит аккуратно относиться к получаемым в процессе исследования значениям показателей и выводам и стараться оценивать их на возможные искажения.\n",
    "\n",
    "\n"
   ]
  },
  {
   "cell_type": "markdown",
   "metadata": {},
   "source": [
    "**Цель проекта**\n",
    "\n",
    "Подготовить датасет и проверить, что данные в нём соответствуют здравому смыслу, а также ответить на вопросы заказчика как о предобработке, так и о значении данных для бизнеса.\n",
    "Вам предстоит принять решения:\n",
    "по каким столбцам можно объединять данные из разных таблиц;\n",
    "можно ли доверять данным о сотрудниках стартапов и их образовании;\n",
    "что значат покупки за 0 или за 1 доллар;\n",
    "какая цена в зависимости от категории стартапов и количества раундов финансирования перед его покупкой;\n",
    "как рассчитать и отобразить численные показатели и динамику.\n",
    "Хорошо, если в процессе работы получится выявить показатели и признаки, которые указывают на повышенную вероятность успешной сделки по покупке компании."
   ]
  },
  {
   "cell_type": "markdown",
   "metadata": {},
   "source": [
    "**Описание данных**\n",
    "\n",
    "Таблица `acquisition`\n",
    "\n",
    "Содержит информацию о покупках одними компаниями других компаний:\n",
    "- `id` — идентификатор покупки.\n",
    "- `acquiring_company_id` — идентификатор покупающей компании.\n",
    "- `acquired_company_id` — идентификатор покупаемой компании.\n",
    "- `term_code` — варианты расчёта.\n",
    "- `price_amount` — сумма сделки.\n",
    "- `acquired_at` — дата сделки.\n",
    "\n",
    "Таблица `company_and_rounds`\n",
    "\n",
    "Содержит информацию о компаниях и раундах финансирования:\n",
    "company ID — идентификатор компании.\n",
    "name — название компании.\n",
    "- `ategory code` — категория области деятельности компании.\n",
    "- `status` — статус компании.\n",
    "- `founded at` — дата инвестирования.\n",
    "- `closed at` — дата закрытия компании.\n",
    "- `domain` — официальный сайт компании.\n",
    "- `network username` — ник компании в сети.\n",
    "- `country code` — код страны компании.\n",
    "- `investment rounds` — число инвестиционных раундов.\n",
    "- `funding rounds` — число раундов финансирования.\n",
    "- `funding total` — сумма финансирования.\n",
    "- `milestones` — вехи финансирования.\n",
    "- `funding round id` — идентификатор этапа финансирования.\n",
    "- `company id` — идентификатор компании.\n",
    "- `funded at` — дата финансирования.\n",
    "- `funding round type` — тип финансирования.\n",
    "- `raised amount` — сумма финансирования.\n",
    "- `pre money valuation` — предварительная денежная оценка.\n",
    "- `participants` — число участников.\n",
    "- `is first round` — является ли раунд первым.\n",
    "- `is last round` — является раунд последним.\n",
    "\n",
    "Таблица `education`\n",
    "\n",
    "Содержит информацию об образовании сотрудника:\n",
    "- `id` — идентификатор записи об образовании.\n",
    "- `person_id` — идентификатор работника.\n",
    "- `instituition` — название учебного заведения.\n",
    "- `graduated_at` — дата получения образования.\n",
    "\n",
    "Таблица `people`\n",
    "\n",
    "Содержит информацию о сотрудниках:\n",
    "- `id` — идентификатор сотрудника.\n",
    "- `first_name` — имя сотрудника.\n",
    "- `last_name` — фамилия сотрудника.\n",
    "- `company_id` — идентификатор компании.\n",
    "- `network_username` — ник в социальных сетях.\n",
    "\n",
    "Таблица `degrees`\n",
    "\n",
    "Содержит информацию о типе образования сотрудника:\n",
    "- `id` — идентификатор записи.\n",
    "- `object_id` — идентификатор сотрудника.\n",
    "- `degree_type` — тип образования.\n",
    "- `subject` — специальность."
   ]
  },
  {
   "cell_type": "markdown",
   "metadata": {
    "id": "xqr6uttCrJg0"
   },
   "source": [
    "\n",
    "## Шаг 1. Знакомство с данными: загрузка и первичная предобработка\n",
    "\n",
    "Названия файлов:\n",
    "* acquisition.csv\n",
    "* company_and_rounds.csv\n",
    "* degrees.csv\n",
    "* education.csv\n",
    "* fund.csv\n",
    "* investment.csv\n",
    "* people.csv\n",
    "\n",
    "Они находятся в папке datasets, если вы выполняете работу на платформе. В случае, если вы делаете работу локально, доступ к файлам в папке можно получить по адресу `https://code.s3.yandex.net/datasets/` + имя файла.\n",
    "\n",
    "### 1.1. Вывод общей информации, исправление названия столбцов"
   ]
  },
  {
   "cell_type": "markdown",
   "metadata": {},
   "source": [
    "\n",
    "* Загрузите все данные по проекту."
   ]
  },
  {
   "cell_type": "markdown",
   "metadata": {},
   "source": [
    "\n",
    "* Проверьте названия столбцов."
   ]
  },
  {
   "cell_type": "markdown",
   "metadata": {},
   "source": [
    "\n",
    "* Выведите информацию, которая необходима вам для принятия решений о предобработке, для каждого из датасетов."
   ]
  },
  {
   "cell_type": "code",
   "execution_count": 1,
   "metadata": {},
   "outputs": [
    {
     "name": "stdout",
     "output_type": "stream",
     "text": [
      "Requirement already satisfied: phik in /opt/conda/lib/python3.9/site-packages (0.12.4)\n",
      "Requirement already satisfied: joblib>=0.14.1 in /opt/conda/lib/python3.9/site-packages (from phik) (1.1.0)\n",
      "Requirement already satisfied: scipy>=1.5.2 in /opt/conda/lib/python3.9/site-packages (from phik) (1.9.1)\n",
      "Requirement already satisfied: matplotlib>=2.2.3 in /opt/conda/lib/python3.9/site-packages (from phik) (3.3.4)\n",
      "Requirement already satisfied: numpy>=1.18.0 in /opt/conda/lib/python3.9/site-packages (from phik) (1.21.1)\n",
      "Requirement already satisfied: pandas>=0.25.1 in /opt/conda/lib/python3.9/site-packages (from phik) (1.2.4)\n",
      "Requirement already satisfied: pillow>=6.2.0 in /opt/conda/lib/python3.9/site-packages (from matplotlib>=2.2.3->phik) (8.4.0)\n",
      "Requirement already satisfied: cycler>=0.10 in /opt/conda/lib/python3.9/site-packages (from matplotlib>=2.2.3->phik) (0.11.0)\n",
      "Requirement already satisfied: pyparsing!=2.0.4,!=2.1.2,!=2.1.6,>=2.0.3 in /opt/conda/lib/python3.9/site-packages (from matplotlib>=2.2.3->phik) (2.4.7)\n",
      "Requirement already satisfied: python-dateutil>=2.1 in /opt/conda/lib/python3.9/site-packages (from matplotlib>=2.2.3->phik) (2.8.1)\n",
      "Requirement already satisfied: kiwisolver>=1.0.1 in /opt/conda/lib/python3.9/site-packages (from matplotlib>=2.2.3->phik) (1.4.4)\n",
      "Requirement already satisfied: pytz>=2017.3 in /opt/conda/lib/python3.9/site-packages (from pandas>=0.25.1->phik) (2021.1)\n",
      "Requirement already satisfied: six>=1.5 in /opt/conda/lib/python3.9/site-packages (from python-dateutil>=2.1->matplotlib>=2.2.3->phik) (1.16.0)\n"
     ]
    }
   ],
   "source": [
    "# Установим библиотеку phik\n",
    "!pip install phik"
   ]
  },
  {
   "cell_type": "code",
   "execution_count": 2,
   "metadata": {},
   "outputs": [],
   "source": [
    "# Импортируем библиотеки\n",
    "import pandas as pd\n",
    "\n",
    "# Загружаем библиотеки для визуализации данных\n",
    "import matplotlib.pyplot as plt\n",
    "import seaborn as sns\n",
    "\n",
    "# Загружаем библиотеку для расчёта коэффициента корреляции phi_k\n",
    "from phik import phik_matrix\n"
   ]
  },
  {
   "cell_type": "code",
   "execution_count": 3,
   "metadata": {},
   "outputs": [],
   "source": [
    "# создадим датасет acquisition_df\n",
    "try:\n",
    "    acquisition_df = pd.read_csv('https://code.s3.yandex.net/datasets/acquisition.csv')\n",
    "except:\n",
    "    print(\"Файл не найден\")"
   ]
  },
  {
   "cell_type": "code",
   "execution_count": 4,
   "metadata": {},
   "outputs": [],
   "source": [
    "# создадим датасет company_df\n",
    "try:\n",
    "    company_df = pd.read_csv('https://code.s3.yandex.net/datasets/company_and_rounds.csv')\n",
    "except:\n",
    "    print(\"Файл не найден\")"
   ]
  },
  {
   "cell_type": "code",
   "execution_count": 5,
   "metadata": {},
   "outputs": [],
   "source": [
    "# создадим датасет degrees_df\n",
    "try:\n",
    "    degrees_df = pd.read_csv('https://code.s3.yandex.net/datasets/degrees.csv')\n",
    "except:\n",
    "    print(\"Файл не найден\")"
   ]
  },
  {
   "cell_type": "code",
   "execution_count": 6,
   "metadata": {},
   "outputs": [],
   "source": [
    "# создадим датасет education_df\n",
    "try:\n",
    "    education_df = pd.read_csv('https://code.s3.yandex.net/datasets/education.csv')\n",
    "except:\n",
    "    print(\"Файл не найден\")"
   ]
  },
  {
   "cell_type": "code",
   "execution_count": 7,
   "metadata": {},
   "outputs": [],
   "source": [
    "# создадим датасет people_df\n",
    "try:\n",
    "    people_df = pd.read_csv('https://code.s3.yandex.net/datasets/people.csv')\n",
    "except:\n",
    "    print(\"Файл не найден\")"
   ]
  },
  {
   "cell_type": "code",
   "execution_count": 8,
   "metadata": {},
   "outputs": [],
   "source": [
    "# создадим датасет fund_df\n",
    "try:\n",
    "    fund_df = pd.read_csv('https://code.s3.yandex.net/datasets/fund.csv')\n",
    "except:\n",
    "    print(\"Файл не найден\")"
   ]
  },
  {
   "cell_type": "code",
   "execution_count": 9,
   "metadata": {},
   "outputs": [],
   "source": [
    "# создадим датасет investment_df\n",
    "try:\n",
    "    investment_df = pd.read_csv('https://code.s3.yandex.net/datasets/investment.csv')\n",
    "except:\n",
    "    print(\"Файл не найден\")"
   ]
  },
  {
   "cell_type": "markdown",
   "metadata": {},
   "source": [
    "Данные выгружены, выведем необходимую информацию для каждого датасета:"
   ]
  },
  {
   "cell_type": "code",
   "execution_count": 10,
   "metadata": {},
   "outputs": [
    {
     "name": "stdout",
     "output_type": "stream",
     "text": [
      "<class 'pandas.core.frame.DataFrame'>\n",
      "RangeIndex: 9407 entries, 0 to 9406\n",
      "Data columns (total 6 columns):\n",
      " #   Column                Non-Null Count  Dtype \n",
      "---  ------                --------------  ----- \n",
      " 0   id                    9407 non-null   int64 \n",
      " 1   acquiring_company_id  9407 non-null   int64 \n",
      " 2   acquired_company_id   9407 non-null   int64 \n",
      " 3   term_code             1831 non-null   object\n",
      " 4   price_amount          9407 non-null   int64 \n",
      " 5   acquired_at           9378 non-null   object\n",
      "dtypes: int64(4), object(2)\n",
      "memory usage: 441.1+ KB\n"
     ]
    }
   ],
   "source": [
    "# Выгрузим информацию о столбце acquisition_df\n",
    "acquisition_df.info()"
   ]
  },
  {
   "cell_type": "code",
   "execution_count": 11,
   "metadata": {
    "scrolled": true
   },
   "outputs": [
    {
     "data": {
      "text/html": [
       "<div>\n",
       "<style scoped>\n",
       "    .dataframe tbody tr th:only-of-type {\n",
       "        vertical-align: middle;\n",
       "    }\n",
       "\n",
       "    .dataframe tbody tr th {\n",
       "        vertical-align: top;\n",
       "    }\n",
       "\n",
       "    .dataframe thead th {\n",
       "        text-align: right;\n",
       "    }\n",
       "</style>\n",
       "<table border=\"1\" class=\"dataframe\">\n",
       "  <thead>\n",
       "    <tr style=\"text-align: right;\">\n",
       "      <th></th>\n",
       "      <th>id</th>\n",
       "      <th>acquiring_company_id</th>\n",
       "      <th>acquired_company_id</th>\n",
       "      <th>term_code</th>\n",
       "      <th>price_amount</th>\n",
       "      <th>acquired_at</th>\n",
       "    </tr>\n",
       "  </thead>\n",
       "  <tbody>\n",
       "    <tr>\n",
       "      <th>0</th>\n",
       "      <td>1</td>\n",
       "      <td>11</td>\n",
       "      <td>10</td>\n",
       "      <td>NaN</td>\n",
       "      <td>20000000</td>\n",
       "      <td>2007-05-30</td>\n",
       "    </tr>\n",
       "    <tr>\n",
       "      <th>1</th>\n",
       "      <td>7</td>\n",
       "      <td>59</td>\n",
       "      <td>72</td>\n",
       "      <td>cash</td>\n",
       "      <td>60000000</td>\n",
       "      <td>2007-07-01</td>\n",
       "    </tr>\n",
       "    <tr>\n",
       "      <th>2</th>\n",
       "      <td>8</td>\n",
       "      <td>24</td>\n",
       "      <td>132</td>\n",
       "      <td>cash</td>\n",
       "      <td>280000000</td>\n",
       "      <td>2007-05-01</td>\n",
       "    </tr>\n",
       "    <tr>\n",
       "      <th>3</th>\n",
       "      <td>9</td>\n",
       "      <td>59</td>\n",
       "      <td>155</td>\n",
       "      <td>cash</td>\n",
       "      <td>100000000</td>\n",
       "      <td>2007-06-01</td>\n",
       "    </tr>\n",
       "    <tr>\n",
       "      <th>4</th>\n",
       "      <td>10</td>\n",
       "      <td>212</td>\n",
       "      <td>215</td>\n",
       "      <td>cash</td>\n",
       "      <td>25000000</td>\n",
       "      <td>2007-07-01</td>\n",
       "    </tr>\n",
       "  </tbody>\n",
       "</table>\n",
       "</div>"
      ],
      "text/plain": [
       "   id  acquiring_company_id  acquired_company_id term_code  price_amount  \\\n",
       "0   1                    11                   10       NaN      20000000   \n",
       "1   7                    59                   72      cash      60000000   \n",
       "2   8                    24                  132      cash     280000000   \n",
       "3   9                    59                  155      cash     100000000   \n",
       "4  10                   212                  215      cash      25000000   \n",
       "\n",
       "  acquired_at  \n",
       "0  2007-05-30  \n",
       "1  2007-07-01  \n",
       "2  2007-05-01  \n",
       "3  2007-06-01  \n",
       "4  2007-07-01  "
      ]
     },
     "execution_count": 11,
     "metadata": {},
     "output_type": "execute_result"
    }
   ],
   "source": [
    "# Выгрузим первые 5 строк столбца acquisition_df\n",
    "acquisition_df.head()"
   ]
  },
  {
   "cell_type": "markdown",
   "metadata": {},
   "source": [
    "Датасет `acquisition.csv` содержит **6** столбцов и **9407** строк и содержит информацию о покупках одними компаниями других компаний.\n",
    "\n",
    "Название столбцов приведены к snake_case и не трубуют обработки. Пропуски есть в столбцах `term_code`, `acquired_at`.\n",
    "Данные в столбцах `id`, `acquiring_company_id`, `acquired_company_id`, `price_amount` хранятся в типе данных `int64` - такой тип данных подходит для этих столбцов, так как данные вних являются уникальными ключами, дополнительно можно оптимизировать данные, а `price_amount` необходимо преобразовать в тип данных `float`, т.к. этот столбец хранит финансовые показатели о суммах сделок. Столбец `acquired_at` хранится в типе данных `object` и его необходимо преобразовать в тип данных для даты.\n",
    "\n",
    "Пропуски в столбце `term_code` состовляют значительную часть данных."
   ]
  },
  {
   "cell_type": "code",
   "execution_count": 12,
   "metadata": {
    "scrolled": true
   },
   "outputs": [
    {
     "name": "stdout",
     "output_type": "stream",
     "text": [
      "<class 'pandas.core.frame.DataFrame'>\n",
      "RangeIndex: 217774 entries, 0 to 217773\n",
      "Data columns (total 22 columns):\n",
      " #   Column                 Non-Null Count   Dtype  \n",
      "---  ------                 --------------   -----  \n",
      " 0   company  ID            217472 non-null  float64\n",
      " 1   name                   217472 non-null  object \n",
      " 2   category  code         143886 non-null  object \n",
      " 3   status                 217472 non-null  object \n",
      " 4   founded  at            109956 non-null  object \n",
      " 5   closed  at             3449 non-null    object \n",
      " 6   domain                 147159 non-null  object \n",
      " 7   network  username      95534 non-null   object \n",
      " 8   country  code          108607 non-null  object \n",
      " 9   investment  rounds     217472 non-null  float64\n",
      " 10  funding  rounds        217472 non-null  float64\n",
      " 11  funding  total         217472 non-null  float64\n",
      " 12  milestones             217472 non-null  float64\n",
      " 13  funding  round  id     52928 non-null   float64\n",
      " 14  company  id            52928 non-null   float64\n",
      " 15  funded  at             52680 non-null   object \n",
      " 16  funding  round  type   52928 non-null   object \n",
      " 17  raised  amount         52928 non-null   float64\n",
      " 18  pre  money  valuation  52928 non-null   float64\n",
      " 19  participants           52928 non-null   float64\n",
      " 20  is  first  round       52928 non-null   float64\n",
      " 21  is  last  round        52928 non-null   float64\n",
      "dtypes: float64(12), object(10)\n",
      "memory usage: 36.6+ MB\n"
     ]
    }
   ],
   "source": [
    "# Выгрузим информацию о столбце company_df\n",
    "company_df.info()"
   ]
  },
  {
   "cell_type": "code",
   "execution_count": 13,
   "metadata": {
    "scrolled": true
   },
   "outputs": [
    {
     "data": {
      "text/html": [
       "<div>\n",
       "<style scoped>\n",
       "    .dataframe tbody tr th:only-of-type {\n",
       "        vertical-align: middle;\n",
       "    }\n",
       "\n",
       "    .dataframe tbody tr th {\n",
       "        vertical-align: top;\n",
       "    }\n",
       "\n",
       "    .dataframe thead th {\n",
       "        text-align: right;\n",
       "    }\n",
       "</style>\n",
       "<table border=\"1\" class=\"dataframe\">\n",
       "  <thead>\n",
       "    <tr style=\"text-align: right;\">\n",
       "      <th></th>\n",
       "      <th>company  ID</th>\n",
       "      <th>name</th>\n",
       "      <th>category  code</th>\n",
       "      <th>status</th>\n",
       "      <th>founded  at</th>\n",
       "      <th>closed  at</th>\n",
       "      <th>domain</th>\n",
       "      <th>network  username</th>\n",
       "      <th>country  code</th>\n",
       "      <th>investment  rounds</th>\n",
       "      <th>...</th>\n",
       "      <th>milestones</th>\n",
       "      <th>funding  round  id</th>\n",
       "      <th>company  id</th>\n",
       "      <th>funded  at</th>\n",
       "      <th>funding  round  type</th>\n",
       "      <th>raised  amount</th>\n",
       "      <th>pre  money  valuation</th>\n",
       "      <th>participants</th>\n",
       "      <th>is  first  round</th>\n",
       "      <th>is  last  round</th>\n",
       "    </tr>\n",
       "  </thead>\n",
       "  <tbody>\n",
       "    <tr>\n",
       "      <th>0</th>\n",
       "      <td>1.0</td>\n",
       "      <td>Wetpaint</td>\n",
       "      <td>web</td>\n",
       "      <td>operating</td>\n",
       "      <td>2005-10-17</td>\n",
       "      <td>NaN</td>\n",
       "      <td>wetpaint-inc.com</td>\n",
       "      <td>BachelrWetpaint</td>\n",
       "      <td>USA</td>\n",
       "      <td>0.0</td>\n",
       "      <td>...</td>\n",
       "      <td>5.0</td>\n",
       "      <td>888.0</td>\n",
       "      <td>1.0</td>\n",
       "      <td>2005-10-01</td>\n",
       "      <td>series-a</td>\n",
       "      <td>5250000.0</td>\n",
       "      <td>0.0</td>\n",
       "      <td>2.0</td>\n",
       "      <td>0.0</td>\n",
       "      <td>1.0</td>\n",
       "    </tr>\n",
       "    <tr>\n",
       "      <th>1</th>\n",
       "      <td>1.0</td>\n",
       "      <td>Wetpaint</td>\n",
       "      <td>web</td>\n",
       "      <td>operating</td>\n",
       "      <td>2005-10-17</td>\n",
       "      <td>NaN</td>\n",
       "      <td>wetpaint-inc.com</td>\n",
       "      <td>BachelrWetpaint</td>\n",
       "      <td>USA</td>\n",
       "      <td>0.0</td>\n",
       "      <td>...</td>\n",
       "      <td>5.0</td>\n",
       "      <td>889.0</td>\n",
       "      <td>1.0</td>\n",
       "      <td>2007-01-01</td>\n",
       "      <td>series-b</td>\n",
       "      <td>9500000.0</td>\n",
       "      <td>0.0</td>\n",
       "      <td>3.0</td>\n",
       "      <td>0.0</td>\n",
       "      <td>0.0</td>\n",
       "    </tr>\n",
       "    <tr>\n",
       "      <th>2</th>\n",
       "      <td>1.0</td>\n",
       "      <td>Wetpaint</td>\n",
       "      <td>web</td>\n",
       "      <td>operating</td>\n",
       "      <td>2005-10-17</td>\n",
       "      <td>NaN</td>\n",
       "      <td>wetpaint-inc.com</td>\n",
       "      <td>BachelrWetpaint</td>\n",
       "      <td>USA</td>\n",
       "      <td>0.0</td>\n",
       "      <td>...</td>\n",
       "      <td>5.0</td>\n",
       "      <td>2312.0</td>\n",
       "      <td>1.0</td>\n",
       "      <td>2008-05-19</td>\n",
       "      <td>series-c+</td>\n",
       "      <td>25000000.0</td>\n",
       "      <td>0.0</td>\n",
       "      <td>4.0</td>\n",
       "      <td>1.0</td>\n",
       "      <td>0.0</td>\n",
       "    </tr>\n",
       "    <tr>\n",
       "      <th>3</th>\n",
       "      <td>10.0</td>\n",
       "      <td>Flektor</td>\n",
       "      <td>games_video</td>\n",
       "      <td>acquired</td>\n",
       "      <td>NaN</td>\n",
       "      <td>NaN</td>\n",
       "      <td>flektor.com</td>\n",
       "      <td>NaN</td>\n",
       "      <td>USA</td>\n",
       "      <td>0.0</td>\n",
       "      <td>...</td>\n",
       "      <td>0.0</td>\n",
       "      <td>NaN</td>\n",
       "      <td>NaN</td>\n",
       "      <td>NaN</td>\n",
       "      <td>NaN</td>\n",
       "      <td>NaN</td>\n",
       "      <td>NaN</td>\n",
       "      <td>NaN</td>\n",
       "      <td>NaN</td>\n",
       "      <td>NaN</td>\n",
       "    </tr>\n",
       "    <tr>\n",
       "      <th>4</th>\n",
       "      <td>100.0</td>\n",
       "      <td>There</td>\n",
       "      <td>games_video</td>\n",
       "      <td>acquired</td>\n",
       "      <td>NaN</td>\n",
       "      <td>NaN</td>\n",
       "      <td>there.com</td>\n",
       "      <td>NaN</td>\n",
       "      <td>USA</td>\n",
       "      <td>0.0</td>\n",
       "      <td>...</td>\n",
       "      <td>4.0</td>\n",
       "      <td>NaN</td>\n",
       "      <td>NaN</td>\n",
       "      <td>NaN</td>\n",
       "      <td>NaN</td>\n",
       "      <td>NaN</td>\n",
       "      <td>NaN</td>\n",
       "      <td>NaN</td>\n",
       "      <td>NaN</td>\n",
       "      <td>NaN</td>\n",
       "    </tr>\n",
       "  </tbody>\n",
       "</table>\n",
       "<p>5 rows × 22 columns</p>\n",
       "</div>"
      ],
      "text/plain": [
       "   company  ID      name category  code     status founded  at closed  at  \\\n",
       "0          1.0  Wetpaint            web  operating  2005-10-17        NaN   \n",
       "1          1.0  Wetpaint            web  operating  2005-10-17        NaN   \n",
       "2          1.0  Wetpaint            web  operating  2005-10-17        NaN   \n",
       "3         10.0   Flektor    games_video   acquired         NaN        NaN   \n",
       "4        100.0     There    games_video   acquired         NaN        NaN   \n",
       "\n",
       "             domain network  username country  code  investment  rounds  ...  \\\n",
       "0  wetpaint-inc.com   BachelrWetpaint           USA                 0.0  ...   \n",
       "1  wetpaint-inc.com   BachelrWetpaint           USA                 0.0  ...   \n",
       "2  wetpaint-inc.com   BachelrWetpaint           USA                 0.0  ...   \n",
       "3       flektor.com               NaN           USA                 0.0  ...   \n",
       "4         there.com               NaN           USA                 0.0  ...   \n",
       "\n",
       "   milestones  funding  round  id  company  id  funded  at  \\\n",
       "0         5.0               888.0          1.0  2005-10-01   \n",
       "1         5.0               889.0          1.0  2007-01-01   \n",
       "2         5.0              2312.0          1.0  2008-05-19   \n",
       "3         0.0                 NaN          NaN         NaN   \n",
       "4         4.0                 NaN          NaN         NaN   \n",
       "\n",
       "   funding  round  type raised  amount pre  money  valuation  participants  \\\n",
       "0              series-a      5250000.0                   0.0           2.0   \n",
       "1              series-b      9500000.0                   0.0           3.0   \n",
       "2             series-c+     25000000.0                   0.0           4.0   \n",
       "3                   NaN            NaN                   NaN           NaN   \n",
       "4                   NaN            NaN                   NaN           NaN   \n",
       "\n",
       "   is  first  round  is  last  round  \n",
       "0               0.0              1.0  \n",
       "1               0.0              0.0  \n",
       "2               1.0              0.0  \n",
       "3               NaN              NaN  \n",
       "4               NaN              NaN  \n",
       "\n",
       "[5 rows x 22 columns]"
      ]
     },
     "execution_count": 13,
     "metadata": {},
     "output_type": "execute_result"
    }
   ],
   "source": [
    "# Выгрузим первые 5 строк столбца company_df\n",
    "company_df.head()"
   ]
  },
  {
   "cell_type": "code",
   "execution_count": 14,
   "metadata": {},
   "outputs": [],
   "source": [
    "company_df.columns = company_df.columns.str.replace(\"  \", \"_\")"
   ]
  },
  {
   "cell_type": "code",
   "execution_count": 15,
   "metadata": {},
   "outputs": [
    {
     "data": {
      "text/html": [
       "<div>\n",
       "<style scoped>\n",
       "    .dataframe tbody tr th:only-of-type {\n",
       "        vertical-align: middle;\n",
       "    }\n",
       "\n",
       "    .dataframe tbody tr th {\n",
       "        vertical-align: top;\n",
       "    }\n",
       "\n",
       "    .dataframe thead th {\n",
       "        text-align: right;\n",
       "    }\n",
       "</style>\n",
       "<table border=\"1\" class=\"dataframe\">\n",
       "  <thead>\n",
       "    <tr style=\"text-align: right;\">\n",
       "      <th></th>\n",
       "      <th>company_ID</th>\n",
       "      <th>name</th>\n",
       "      <th>category_code</th>\n",
       "      <th>status</th>\n",
       "      <th>founded_at</th>\n",
       "      <th>closed_at</th>\n",
       "      <th>domain</th>\n",
       "      <th>network_username</th>\n",
       "      <th>country_code</th>\n",
       "      <th>investment_rounds</th>\n",
       "      <th>...</th>\n",
       "      <th>milestones</th>\n",
       "      <th>funding_round_id</th>\n",
       "      <th>company_id</th>\n",
       "      <th>funded_at</th>\n",
       "      <th>funding_round_type</th>\n",
       "      <th>raised_amount</th>\n",
       "      <th>pre_money_valuation</th>\n",
       "      <th>participants</th>\n",
       "      <th>is_first_round</th>\n",
       "      <th>is_last_round</th>\n",
       "    </tr>\n",
       "  </thead>\n",
       "  <tbody>\n",
       "    <tr>\n",
       "      <th>0</th>\n",
       "      <td>1.0</td>\n",
       "      <td>Wetpaint</td>\n",
       "      <td>web</td>\n",
       "      <td>operating</td>\n",
       "      <td>2005-10-17</td>\n",
       "      <td>NaN</td>\n",
       "      <td>wetpaint-inc.com</td>\n",
       "      <td>BachelrWetpaint</td>\n",
       "      <td>USA</td>\n",
       "      <td>0.0</td>\n",
       "      <td>...</td>\n",
       "      <td>5.0</td>\n",
       "      <td>888.0</td>\n",
       "      <td>1.0</td>\n",
       "      <td>2005-10-01</td>\n",
       "      <td>series-a</td>\n",
       "      <td>5250000.0</td>\n",
       "      <td>0.0</td>\n",
       "      <td>2.0</td>\n",
       "      <td>0.0</td>\n",
       "      <td>1.0</td>\n",
       "    </tr>\n",
       "    <tr>\n",
       "      <th>1</th>\n",
       "      <td>1.0</td>\n",
       "      <td>Wetpaint</td>\n",
       "      <td>web</td>\n",
       "      <td>operating</td>\n",
       "      <td>2005-10-17</td>\n",
       "      <td>NaN</td>\n",
       "      <td>wetpaint-inc.com</td>\n",
       "      <td>BachelrWetpaint</td>\n",
       "      <td>USA</td>\n",
       "      <td>0.0</td>\n",
       "      <td>...</td>\n",
       "      <td>5.0</td>\n",
       "      <td>889.0</td>\n",
       "      <td>1.0</td>\n",
       "      <td>2007-01-01</td>\n",
       "      <td>series-b</td>\n",
       "      <td>9500000.0</td>\n",
       "      <td>0.0</td>\n",
       "      <td>3.0</td>\n",
       "      <td>0.0</td>\n",
       "      <td>0.0</td>\n",
       "    </tr>\n",
       "  </tbody>\n",
       "</table>\n",
       "<p>2 rows × 22 columns</p>\n",
       "</div>"
      ],
      "text/plain": [
       "   company_ID      name category_code     status  founded_at closed_at  \\\n",
       "0         1.0  Wetpaint           web  operating  2005-10-17       NaN   \n",
       "1         1.0  Wetpaint           web  operating  2005-10-17       NaN   \n",
       "\n",
       "             domain network_username country_code  investment_rounds  ...  \\\n",
       "0  wetpaint-inc.com  BachelrWetpaint          USA                0.0  ...   \n",
       "1  wetpaint-inc.com  BachelrWetpaint          USA                0.0  ...   \n",
       "\n",
       "   milestones  funding_round_id  company_id   funded_at  funding_round_type  \\\n",
       "0         5.0             888.0         1.0  2005-10-01            series-a   \n",
       "1         5.0             889.0         1.0  2007-01-01            series-b   \n",
       "\n",
       "  raised_amount pre_money_valuation  participants  is_first_round  \\\n",
       "0     5250000.0                 0.0           2.0             0.0   \n",
       "1     9500000.0                 0.0           3.0             0.0   \n",
       "\n",
       "   is_last_round  \n",
       "0            1.0  \n",
       "1            0.0  \n",
       "\n",
       "[2 rows x 22 columns]"
      ]
     },
     "execution_count": 15,
     "metadata": {},
     "output_type": "execute_result"
    }
   ],
   "source": [
    "company_df.head(2)"
   ]
  },
  {
   "cell_type": "markdown",
   "metadata": {},
   "source": [
    "Датасет `company_and_rounds.csv` содержит **22** столбца и **217,774** строк и содержит информацию о компаниях и раундах финансирования.\n",
    "\n",
    "Названия столбцов необходимо привести к snake_case.\n",
    "\n",
    "Столбцы `company  ID`, `investment  rounds`, `funding  rounds`, `funding  rounds`, `funding  total`, `milestones`, `funding  round  id`, `company  id`, `raised  amount`, `pre  money  valuation`, `participants`, `is  first  round`, `is  last  round` - хранятся в типе `float64`, а остальные столбцы хранятся в типе данных `object`.\n",
    "\n",
    "Столбцы `company  ID`, `milestones`, `company  id`, `participants`, `is  first  round`, `is  last  round` - необходимо привести к типу данных `int`, т.к. данные в этих столбцах в основном хранят числовые данные об индентификаторах компаний, кол-ва участников, и со значениями 0 и 1. Так с ними будет проще работать. Но нужно помнить, что из-за пропусков в некоторых столбцах, привести их к типу `int` не получится и необходимо сначала вставить заглушки или заполнить пропуски. Остальные данные в этом типе хранят финансовые показатели, поэтому их можно оставить без изменений.\n",
    "\n",
    "Данные в столбцах `name`, `category code`, `status`, `domain`, `country code` и `funding round type` - хранятся в верных типах данных, но необходимо выгрузить уникальные значения в этих столбцах и провести нормализацию, чтобы в следующих шагах найти дублирующие строки и при необходимости придать верные названия для удобства.\n",
    "\n",
    "А столбцы `founded at`, `funded at` необходимо будет привести к формату даты.\n",
    "\n",
    "Пропуски есть в столбцах `company  ID`, `name`, `category  code`, `founded  at`, `closed  at`, `domain`, `network  username`, `country  code`, `funding  round  id`, `company  id`, `funded  at`, `funding  round  type`, `raised  amount`, `pre  money  valuation`, `participants`, `is  first  round`, `is  last  round`. \n",
    "\n",
    "Пропуски в столбцах `funding  round  id`, `company  id`, `funded  at`, `funding  round  type`, `raised  amount`, `pre  money  valuation`, `participants`, `is  first  round`, `is  last  round` распределены равномерно.\n"
   ]
  },
  {
   "cell_type": "code",
   "execution_count": 16,
   "metadata": {},
   "outputs": [
    {
     "name": "stdout",
     "output_type": "stream",
     "text": [
      "<class 'pandas.core.frame.DataFrame'>\n",
      "RangeIndex: 109610 entries, 0 to 109609\n",
      "Data columns (total 4 columns):\n",
      " #   Column       Non-Null Count   Dtype \n",
      "---  ------       --------------   ----- \n",
      " 0   id           109610 non-null  int64 \n",
      " 1   object_id    109610 non-null  object\n",
      " 2   degree_type  98392 non-null   object\n",
      " 3   subject      81298 non-null   object\n",
      "dtypes: int64(1), object(3)\n",
      "memory usage: 3.3+ MB\n"
     ]
    }
   ],
   "source": [
    "# Выгрузим информацию о столбце degrees_df\n",
    "degrees_df.info()"
   ]
  },
  {
   "cell_type": "code",
   "execution_count": 17,
   "metadata": {
    "id": "4u9np9gSnyqT"
   },
   "outputs": [
    {
     "data": {
      "text/html": [
       "<div>\n",
       "<style scoped>\n",
       "    .dataframe tbody tr th:only-of-type {\n",
       "        vertical-align: middle;\n",
       "    }\n",
       "\n",
       "    .dataframe tbody tr th {\n",
       "        vertical-align: top;\n",
       "    }\n",
       "\n",
       "    .dataframe thead th {\n",
       "        text-align: right;\n",
       "    }\n",
       "</style>\n",
       "<table border=\"1\" class=\"dataframe\">\n",
       "  <thead>\n",
       "    <tr style=\"text-align: right;\">\n",
       "      <th></th>\n",
       "      <th>id</th>\n",
       "      <th>object_id</th>\n",
       "      <th>degree_type</th>\n",
       "      <th>subject</th>\n",
       "    </tr>\n",
       "  </thead>\n",
       "  <tbody>\n",
       "    <tr>\n",
       "      <th>0</th>\n",
       "      <td>1</td>\n",
       "      <td>p:6117</td>\n",
       "      <td>MBA</td>\n",
       "      <td>NaN</td>\n",
       "    </tr>\n",
       "    <tr>\n",
       "      <th>1</th>\n",
       "      <td>2</td>\n",
       "      <td>p:6136</td>\n",
       "      <td>BA</td>\n",
       "      <td>English, French</td>\n",
       "    </tr>\n",
       "    <tr>\n",
       "      <th>2</th>\n",
       "      <td>3</td>\n",
       "      <td>p:6136</td>\n",
       "      <td>MS</td>\n",
       "      <td>Mass Communication</td>\n",
       "    </tr>\n",
       "    <tr>\n",
       "      <th>3</th>\n",
       "      <td>4</td>\n",
       "      <td>p:6005</td>\n",
       "      <td>MS</td>\n",
       "      <td>Internet Technology</td>\n",
       "    </tr>\n",
       "    <tr>\n",
       "      <th>4</th>\n",
       "      <td>5</td>\n",
       "      <td>p:5832</td>\n",
       "      <td>BCS</td>\n",
       "      <td>Computer Science, Psychology</td>\n",
       "    </tr>\n",
       "  </tbody>\n",
       "</table>\n",
       "</div>"
      ],
      "text/plain": [
       "   id object_id degree_type                       subject\n",
       "0   1    p:6117         MBA                           NaN\n",
       "1   2    p:6136          BA               English, French\n",
       "2   3    p:6136          MS            Mass Communication\n",
       "3   4    p:6005          MS           Internet Technology\n",
       "4   5    p:5832         BCS  Computer Science, Psychology"
      ]
     },
     "execution_count": 17,
     "metadata": {},
     "output_type": "execute_result"
    }
   ],
   "source": [
    "# Выгрузим первые 5 строк столбца degrees_df\n",
    "degrees_df.head()"
   ]
  },
  {
   "cell_type": "markdown",
   "metadata": {},
   "source": [
    "Датасет `degrees.csv` содержит **4** столбца и **109,610** строк и содержит информацию о типе образования сотрудника.\n",
    "\n",
    "Названия столбцов можно сотавить как есть, они уже приведены к snake_case.\n",
    "\n",
    "Столбец `id` хранится в столбце `int64` и этот тип данных будет верны для этого столбца, при необходимости его можно оптимизировать, чтобы он занимал меньше места датасете. \n",
    "\n",
    "Столбцы `object_id`, `degree_type`, `subject` храняться в типе данных `object`. Но в столбце `object_id` необходимо избавиться от приставки `p:`.\n",
    "\n",
    "В столбце `degree_type` необходимо выгрузить уникальные значения и проверить на наличие ошибок. \n",
    "\n",
    "Столбец `subject` необходимо нормализовать и вывести уникальные значения, чтобы проверить на наличие ошибок.\n",
    "\n"
   ]
  },
  {
   "cell_type": "code",
   "execution_count": 18,
   "metadata": {
    "id": "W_W4jRazrJg0"
   },
   "outputs": [
    {
     "name": "stdout",
     "output_type": "stream",
     "text": [
      "<class 'pandas.core.frame.DataFrame'>\n",
      "RangeIndex: 109610 entries, 0 to 109609\n",
      "Data columns (total 4 columns):\n",
      " #   Column        Non-Null Count   Dtype \n",
      "---  ------        --------------   ----- \n",
      " 0   id            109610 non-null  int64 \n",
      " 1   person_id     109610 non-null  int64 \n",
      " 2   instituition  109555 non-null  object\n",
      " 3   graduated_at  58054 non-null   object\n",
      "dtypes: int64(2), object(2)\n",
      "memory usage: 3.3+ MB\n"
     ]
    }
   ],
   "source": [
    "# Выгрузим информацию о столбце education_df\n",
    "education_df.info()"
   ]
  },
  {
   "cell_type": "code",
   "execution_count": 19,
   "metadata": {},
   "outputs": [
    {
     "data": {
      "text/html": [
       "<div>\n",
       "<style scoped>\n",
       "    .dataframe tbody tr th:only-of-type {\n",
       "        vertical-align: middle;\n",
       "    }\n",
       "\n",
       "    .dataframe tbody tr th {\n",
       "        vertical-align: top;\n",
       "    }\n",
       "\n",
       "    .dataframe thead th {\n",
       "        text-align: right;\n",
       "    }\n",
       "</style>\n",
       "<table border=\"1\" class=\"dataframe\">\n",
       "  <thead>\n",
       "    <tr style=\"text-align: right;\">\n",
       "      <th></th>\n",
       "      <th>id</th>\n",
       "      <th>person_id</th>\n",
       "      <th>instituition</th>\n",
       "      <th>graduated_at</th>\n",
       "    </tr>\n",
       "  </thead>\n",
       "  <tbody>\n",
       "    <tr>\n",
       "      <th>0</th>\n",
       "      <td>1</td>\n",
       "      <td>6117</td>\n",
       "      <td>NaN</td>\n",
       "      <td>NaN</td>\n",
       "    </tr>\n",
       "    <tr>\n",
       "      <th>1</th>\n",
       "      <td>2</td>\n",
       "      <td>6136</td>\n",
       "      <td>Washington University, St. Louis</td>\n",
       "      <td>1990-01-01</td>\n",
       "    </tr>\n",
       "    <tr>\n",
       "      <th>2</th>\n",
       "      <td>3</td>\n",
       "      <td>6136</td>\n",
       "      <td>Boston University</td>\n",
       "      <td>1992-01-01</td>\n",
       "    </tr>\n",
       "    <tr>\n",
       "      <th>3</th>\n",
       "      <td>4</td>\n",
       "      <td>6005</td>\n",
       "      <td>University of Greenwich</td>\n",
       "      <td>2006-01-01</td>\n",
       "    </tr>\n",
       "    <tr>\n",
       "      <th>4</th>\n",
       "      <td>5</td>\n",
       "      <td>5832</td>\n",
       "      <td>Rice University</td>\n",
       "      <td>NaN</td>\n",
       "    </tr>\n",
       "  </tbody>\n",
       "</table>\n",
       "</div>"
      ],
      "text/plain": [
       "   id  person_id                      instituition graduated_at\n",
       "0   1       6117                               NaN          NaN\n",
       "1   2       6136  Washington University, St. Louis   1990-01-01\n",
       "2   3       6136                 Boston University   1992-01-01\n",
       "3   4       6005           University of Greenwich   2006-01-01\n",
       "4   5       5832                   Rice University          NaN"
      ]
     },
     "execution_count": 19,
     "metadata": {},
     "output_type": "execute_result"
    }
   ],
   "source": [
    "# Выгрузим первые 5 строк столбца education_df\n",
    "education_df.head()"
   ]
  },
  {
   "cell_type": "markdown",
   "metadata": {},
   "source": [
    "Датасет `education.csv` содержит **4** столбца и **109,610** строк и содержит информацию об образовании сотрудника.\n",
    "\n",
    "Названия столбцов можно сотавить как есть, они уже приведены к snake_case.\n",
    "\n",
    "Столбцы `id`, `person_id` хранятся в столбце `int64` и этот тип данных будет верны для этого столбцов, при необходимости их можно оптимизировать.\n",
    "\n",
    "Столбцы `instituition`, `graduated_at` храняться в типе данных `object`.\n",
    "\n",
    "В столбце `instituition` необходимо выгрузить уникальные значения и проверить на наличие ошибок. \n",
    "\n",
    "Столбец `graduated_at` необходимо привести в формат даты."
   ]
  },
  {
   "cell_type": "code",
   "execution_count": 20,
   "metadata": {},
   "outputs": [
    {
     "name": "stdout",
     "output_type": "stream",
     "text": [
      "<class 'pandas.core.frame.DataFrame'>\n",
      "RangeIndex: 226709 entries, 0 to 226708\n",
      "Data columns (total 5 columns):\n",
      " #   Column            Non-Null Count   Dtype  \n",
      "---  ------            --------------   -----  \n",
      " 0   id                226709 non-null  int64  \n",
      " 1   first_name        226704 non-null  object \n",
      " 2   last_name         226708 non-null  object \n",
      " 3   company_id        34615 non-null   float64\n",
      " 4   network_username  38867 non-null   object \n",
      "dtypes: float64(1), int64(1), object(3)\n",
      "memory usage: 8.6+ MB\n"
     ]
    }
   ],
   "source": [
    "# Выгрузим информацию о столбце people_df\n",
    "people_df.info()"
   ]
  },
  {
   "cell_type": "code",
   "execution_count": 21,
   "metadata": {},
   "outputs": [
    {
     "data": {
      "text/html": [
       "<div>\n",
       "<style scoped>\n",
       "    .dataframe tbody tr th:only-of-type {\n",
       "        vertical-align: middle;\n",
       "    }\n",
       "\n",
       "    .dataframe tbody tr th {\n",
       "        vertical-align: top;\n",
       "    }\n",
       "\n",
       "    .dataframe thead th {\n",
       "        text-align: right;\n",
       "    }\n",
       "</style>\n",
       "<table border=\"1\" class=\"dataframe\">\n",
       "  <thead>\n",
       "    <tr style=\"text-align: right;\">\n",
       "      <th></th>\n",
       "      <th>id</th>\n",
       "      <th>first_name</th>\n",
       "      <th>last_name</th>\n",
       "      <th>company_id</th>\n",
       "      <th>network_username</th>\n",
       "    </tr>\n",
       "  </thead>\n",
       "  <tbody>\n",
       "    <tr>\n",
       "      <th>0</th>\n",
       "      <td>10</td>\n",
       "      <td>Mark</td>\n",
       "      <td>Zuckerberg</td>\n",
       "      <td>5.0</td>\n",
       "      <td>NaN</td>\n",
       "    </tr>\n",
       "    <tr>\n",
       "      <th>1</th>\n",
       "      <td>100</td>\n",
       "      <td>Peter</td>\n",
       "      <td>Lester</td>\n",
       "      <td>27.0</td>\n",
       "      <td>NaN</td>\n",
       "    </tr>\n",
       "    <tr>\n",
       "      <th>2</th>\n",
       "      <td>1000</td>\n",
       "      <td>Dr. Steven</td>\n",
       "      <td>E. Saunders</td>\n",
       "      <td>292.0</td>\n",
       "      <td>NaN</td>\n",
       "    </tr>\n",
       "    <tr>\n",
       "      <th>3</th>\n",
       "      <td>10000</td>\n",
       "      <td>Neil</td>\n",
       "      <td>Capel</td>\n",
       "      <td>2526.0</td>\n",
       "      <td>NaN</td>\n",
       "    </tr>\n",
       "    <tr>\n",
       "      <th>4</th>\n",
       "      <td>100000</td>\n",
       "      <td>Sue</td>\n",
       "      <td>Pilsch</td>\n",
       "      <td>NaN</td>\n",
       "      <td>NaN</td>\n",
       "    </tr>\n",
       "  </tbody>\n",
       "</table>\n",
       "</div>"
      ],
      "text/plain": [
       "       id  first_name    last_name  company_id network_username\n",
       "0      10        Mark   Zuckerberg         5.0              NaN\n",
       "1     100       Peter       Lester        27.0              NaN\n",
       "2    1000  Dr. Steven  E. Saunders       292.0              NaN\n",
       "3   10000        Neil        Capel      2526.0              NaN\n",
       "4  100000         Sue       Pilsch         NaN              NaN"
      ]
     },
     "execution_count": 21,
     "metadata": {},
     "output_type": "execute_result"
    }
   ],
   "source": [
    "# Выгрузим первые 5 строк столбца people_df\n",
    "people_df.head()"
   ]
  },
  {
   "cell_type": "markdown",
   "metadata": {},
   "source": [
    "Датасет `education.csv` содержит **5** столбцjd и **226,709** строк и содержит информацию о сотрудниках.\n",
    "\n",
    "Названия столбцво уже приведены к snake_case и не требуют внимания.\n",
    "\n",
    "Столбец `id` хранится в типе данных `int64` и подходится для анализа.\n",
    "\n",
    "Столбцы `first_name`, `last_name` хранятся в типе данных `object` и являются верным.\n",
    "\n",
    "Столбец `company_id` хранится в типе данных `float64` и его лучше приветси к типу данных `int`, но нужно помнить, что невозможно будет это сделать если есть пропуски, их сперва необходимо заполнить. "
   ]
  },
  {
   "cell_type": "markdown",
   "metadata": {},
   "source": [
    "Проверим дополнительные датасеты и выведем информацию о них: "
   ]
  },
  {
   "cell_type": "code",
   "execution_count": 22,
   "metadata": {},
   "outputs": [
    {
     "name": "stdout",
     "output_type": "stream",
     "text": [
      "<class 'pandas.core.frame.DataFrame'>\n",
      "RangeIndex: 11652 entries, 0 to 11651\n",
      "Data columns (total 9 columns):\n",
      " #   Column              Non-Null Count  Dtype \n",
      "---  ------              --------------  ----- \n",
      " 0   id                  11652 non-null  int64 \n",
      " 1   name                11650 non-null  object\n",
      " 2   founded_at          4605 non-null   object\n",
      " 3   domain              7362 non-null   object\n",
      " 4   network_username    2149 non-null   object\n",
      " 5   country_code        7053 non-null   object\n",
      " 6   investment_rounds   11652 non-null  int64 \n",
      " 7   invested_companies  11652 non-null  int64 \n",
      " 8   milestones          11652 non-null  int64 \n",
      "dtypes: int64(4), object(5)\n",
      "memory usage: 819.4+ KB\n"
     ]
    }
   ],
   "source": [
    "# Выведем информацию о датасете fund_df\n",
    "fund_df.info()"
   ]
  },
  {
   "cell_type": "code",
   "execution_count": 23,
   "metadata": {},
   "outputs": [
    {
     "data": {
      "text/html": [
       "<div>\n",
       "<style scoped>\n",
       "    .dataframe tbody tr th:only-of-type {\n",
       "        vertical-align: middle;\n",
       "    }\n",
       "\n",
       "    .dataframe tbody tr th {\n",
       "        vertical-align: top;\n",
       "    }\n",
       "\n",
       "    .dataframe thead th {\n",
       "        text-align: right;\n",
       "    }\n",
       "</style>\n",
       "<table border=\"1\" class=\"dataframe\">\n",
       "  <thead>\n",
       "    <tr style=\"text-align: right;\">\n",
       "      <th></th>\n",
       "      <th>id</th>\n",
       "      <th>name</th>\n",
       "      <th>founded_at</th>\n",
       "      <th>domain</th>\n",
       "      <th>network_username</th>\n",
       "      <th>country_code</th>\n",
       "      <th>investment_rounds</th>\n",
       "      <th>invested_companies</th>\n",
       "      <th>milestones</th>\n",
       "    </tr>\n",
       "  </thead>\n",
       "  <tbody>\n",
       "    <tr>\n",
       "      <th>0</th>\n",
       "      <td>13131</td>\n",
       "      <td>NaN</td>\n",
       "      <td>NaN</td>\n",
       "      <td>NaN</td>\n",
       "      <td>NaN</td>\n",
       "      <td>NaN</td>\n",
       "      <td>0</td>\n",
       "      <td>0</td>\n",
       "      <td>0</td>\n",
       "    </tr>\n",
       "    <tr>\n",
       "      <th>1</th>\n",
       "      <td>1</td>\n",
       "      <td>Greylock Partners</td>\n",
       "      <td>1965-01-01</td>\n",
       "      <td>greylock.com</td>\n",
       "      <td>greylockvc</td>\n",
       "      <td>USA</td>\n",
       "      <td>307</td>\n",
       "      <td>196</td>\n",
       "      <td>0</td>\n",
       "    </tr>\n",
       "    <tr>\n",
       "      <th>2</th>\n",
       "      <td>10</td>\n",
       "      <td>Mission Ventures</td>\n",
       "      <td>1996-01-01</td>\n",
       "      <td>missionventures.com</td>\n",
       "      <td>NaN</td>\n",
       "      <td>USA</td>\n",
       "      <td>58</td>\n",
       "      <td>33</td>\n",
       "      <td>0</td>\n",
       "    </tr>\n",
       "    <tr>\n",
       "      <th>3</th>\n",
       "      <td>100</td>\n",
       "      <td>Kapor Enterprises, Inc.</td>\n",
       "      <td>NaN</td>\n",
       "      <td>kei.com</td>\n",
       "      <td>NaN</td>\n",
       "      <td>USA</td>\n",
       "      <td>2</td>\n",
       "      <td>1</td>\n",
       "      <td>0</td>\n",
       "    </tr>\n",
       "    <tr>\n",
       "      <th>4</th>\n",
       "      <td>1000</td>\n",
       "      <td>Speed Ventures</td>\n",
       "      <td>NaN</td>\n",
       "      <td>NaN</td>\n",
       "      <td>NaN</td>\n",
       "      <td>NaN</td>\n",
       "      <td>0</td>\n",
       "      <td>0</td>\n",
       "      <td>1</td>\n",
       "    </tr>\n",
       "  </tbody>\n",
       "</table>\n",
       "</div>"
      ],
      "text/plain": [
       "      id                     name  founded_at               domain  \\\n",
       "0  13131                      NaN         NaN                  NaN   \n",
       "1      1        Greylock Partners  1965-01-01         greylock.com   \n",
       "2     10         Mission Ventures  1996-01-01  missionventures.com   \n",
       "3    100  Kapor Enterprises, Inc.         NaN              kei.com   \n",
       "4   1000           Speed Ventures         NaN                  NaN   \n",
       "\n",
       "  network_username country_code  investment_rounds  invested_companies  \\\n",
       "0              NaN          NaN                  0                   0   \n",
       "1       greylockvc          USA                307                 196   \n",
       "2              NaN          USA                 58                  33   \n",
       "3              NaN          USA                  2                   1   \n",
       "4              NaN          NaN                  0                   0   \n",
       "\n",
       "   milestones  \n",
       "0           0  \n",
       "1           0  \n",
       "2           0  \n",
       "3           0  \n",
       "4           1  "
      ]
     },
     "execution_count": 23,
     "metadata": {},
     "output_type": "execute_result"
    }
   ],
   "source": [
    "# Выведем первые 5 строк датасета fund_df\n",
    "fund_df.head()"
   ]
  },
  {
   "cell_type": "markdown",
   "metadata": {},
   "source": [
    "Датасет хранит информацию о фондах. Пропуски есть в столбцах name, founded_at, domain, network_username, country_code. Все остальные столбцы полные."
   ]
  },
  {
   "cell_type": "code",
   "execution_count": 24,
   "metadata": {},
   "outputs": [
    {
     "name": "stdout",
     "output_type": "stream",
     "text": [
      "<class 'pandas.core.frame.DataFrame'>\n",
      "RangeIndex: 61403 entries, 0 to 61402\n",
      "Data columns (total 4 columns):\n",
      " #   Column            Non-Null Count  Dtype\n",
      "---  ------            --------------  -----\n",
      " 0   id                61403 non-null  int64\n",
      " 1   funding_round_id  61403 non-null  int64\n",
      " 2   company_id        61403 non-null  int64\n",
      " 3   fund_id           61403 non-null  int64\n",
      "dtypes: int64(4)\n",
      "memory usage: 1.9 MB\n"
     ]
    }
   ],
   "source": [
    "# Выведем информацию о датасете investment_d\n",
    "investment_df.info()"
   ]
  },
  {
   "cell_type": "code",
   "execution_count": 25,
   "metadata": {},
   "outputs": [
    {
     "data": {
      "text/html": [
       "<div>\n",
       "<style scoped>\n",
       "    .dataframe tbody tr th:only-of-type {\n",
       "        vertical-align: middle;\n",
       "    }\n",
       "\n",
       "    .dataframe tbody tr th {\n",
       "        vertical-align: top;\n",
       "    }\n",
       "\n",
       "    .dataframe thead th {\n",
       "        text-align: right;\n",
       "    }\n",
       "</style>\n",
       "<table border=\"1\" class=\"dataframe\">\n",
       "  <thead>\n",
       "    <tr style=\"text-align: right;\">\n",
       "      <th></th>\n",
       "      <th>id</th>\n",
       "      <th>funding_round_id</th>\n",
       "      <th>company_id</th>\n",
       "      <th>fund_id</th>\n",
       "    </tr>\n",
       "  </thead>\n",
       "  <tbody>\n",
       "    <tr>\n",
       "      <th>0</th>\n",
       "      <td>1</td>\n",
       "      <td>1</td>\n",
       "      <td>4</td>\n",
       "      <td>1</td>\n",
       "    </tr>\n",
       "    <tr>\n",
       "      <th>1</th>\n",
       "      <td>2</td>\n",
       "      <td>1</td>\n",
       "      <td>4</td>\n",
       "      <td>2</td>\n",
       "    </tr>\n",
       "    <tr>\n",
       "      <th>2</th>\n",
       "      <td>3</td>\n",
       "      <td>3</td>\n",
       "      <td>5</td>\n",
       "      <td>4</td>\n",
       "    </tr>\n",
       "    <tr>\n",
       "      <th>3</th>\n",
       "      <td>4</td>\n",
       "      <td>4</td>\n",
       "      <td>5</td>\n",
       "      <td>1</td>\n",
       "    </tr>\n",
       "    <tr>\n",
       "      <th>4</th>\n",
       "      <td>5</td>\n",
       "      <td>4</td>\n",
       "      <td>5</td>\n",
       "      <td>5</td>\n",
       "    </tr>\n",
       "  </tbody>\n",
       "</table>\n",
       "</div>"
      ],
      "text/plain": [
       "   id  funding_round_id  company_id  fund_id\n",
       "0   1                 1           4        1\n",
       "1   2                 1           4        2\n",
       "2   3                 3           5        4\n",
       "3   4                 4           5        1\n",
       "4   5                 4           5        5"
      ]
     },
     "execution_count": 25,
     "metadata": {},
     "output_type": "execute_result"
    }
   ],
   "source": [
    "# Выведем первые 5 строк investment_d\n",
    "investment_df.head()"
   ]
  },
  {
   "cell_type": "markdown",
   "metadata": {},
   "source": [
    "Датасет полный и хранит информацию о раундах инвестирования."
   ]
  },
  {
   "cell_type": "markdown",
   "metadata": {},
   "source": [
    "В данных могу быть ошибки, неявные дубликаты и полные дубликаты. Чтобы проверить данные, необходимо нормализовать столбцы и проверить на начиличе дубликатов. Сделаем это для всех данных, которые у нас есть, для дальнейшего анализа будем считать данные подготовленными. Проведем нормализацию по всем данным и проверим кол-во дубликатов в выгруженныех датасетах для данных:"
   ]
  },
  {
   "cell_type": "code",
   "execution_count": 26,
   "metadata": {},
   "outputs": [
    {
     "data": {
      "text/plain": [
       "array([nan, 'cash', 'stock', 'cash_and_stock'], dtype=object)"
      ]
     },
     "execution_count": 26,
     "metadata": {},
     "output_type": "execute_result"
    }
   ],
   "source": [
    "# проведем нормализацию для датасета acquisition_df\n",
    "acquisition_df['term_code'] = acquisition_df['term_code'].str.lower()\n",
    "# проверим, что уникальные значения для этого столбца после нормализации находятся в правильных категориях\n",
    "acquisition_df['term_code'].unique()"
   ]
  },
  {
   "cell_type": "code",
   "execution_count": 27,
   "metadata": {},
   "outputs": [
    {
     "data": {
      "text/plain": [
       "array(['SERIES-A', 'SERIES-B', 'SERIES-C+', nan, 'ANGEL', 'VENTURE',\n",
       "       'OTHER', 'PRIVATE-EQUITY', 'POST-IPO', 'CROWDFUNDING'],\n",
       "      dtype=object)"
      ]
     },
     "execution_count": 27,
     "metadata": {},
     "output_type": "execute_result"
    }
   ],
   "source": [
    "# проведем нормализацию для датасета company_df\n",
    "company_df['name'] = company_df['name'].str.lower()\n",
    "company_df['status'] = company_df['status'].str.lower()\n",
    "company_df['domain'] = company_df['domain'].str.lower()\n",
    "company_df['network_username'] = company_df['network_username'].str.lower()\n",
    "company_df['category_code'] = company_df['category_code'].str.upper()\n",
    "company_df['country_code'] = company_df['country_code'].str.upper()\n",
    "company_df['funding_round_type'] = company_df['funding_round_type'].str.upper()\n",
    "\n",
    "# проверим данные по категориям, что значения в этих столбцах после нормализации действительно уникальны: \n",
    "company_df['status'].unique()\n",
    "company_df['domain'].unique()\n",
    "company_df['category_code'].unique()\n",
    "company_df['country_code'].unique()\n",
    "company_df['funding_round_type'].unique()"
   ]
  },
  {
   "cell_type": "code",
   "execution_count": 28,
   "metadata": {},
   "outputs": [
    {
     "data": {
      "text/plain": [
       "array(['operating', 'acquired', 'closed', 'ipo', nan], dtype=object)"
      ]
     },
     "execution_count": 28,
     "metadata": {},
     "output_type": "execute_result"
    }
   ],
   "source": [
    "company_df['status'].unique()"
   ]
  },
  {
   "cell_type": "code",
   "execution_count": 29,
   "metadata": {},
   "outputs": [
    {
     "data": {
      "text/plain": [
       "array(['WEB', 'GAMES_VIDEO', 'NETWORK_HOSTING', 'ADVERTISING',\n",
       "       'CLEANTECH', nan, 'ENTERPRISE', 'OTHER', 'CONSULTING', 'MOBILE',\n",
       "       'HEALTH', 'SOFTWARE', 'ANALYTICS', 'FINANCE', 'EDUCATION',\n",
       "       'MEDICAL', 'MANUFACTURING', 'BIOTECH', 'ECOMMERCE',\n",
       "       'PUBLIC_RELATIONS', 'HARDWARE', 'SEARCH', 'NEWS', 'GOVERNMENT',\n",
       "       'SECURITY', 'PHOTO_VIDEO', 'TRAVEL', 'SEMICONDUCTOR', 'SOCIAL',\n",
       "       'LEGAL', 'TRANSPORTATION', 'HOSPITALITY', 'SPORTS', 'NONPROFIT',\n",
       "       'FASHION', 'MESSAGING', 'MUSIC', 'AUTOMOTIVE', 'DESIGN',\n",
       "       'REAL_ESTATE', 'LOCAL', 'NANOTECH', 'PETS'], dtype=object)"
      ]
     },
     "execution_count": 29,
     "metadata": {},
     "output_type": "execute_result"
    }
   ],
   "source": [
    "company_df['category_code'].unique()"
   ]
  },
  {
   "cell_type": "code",
   "execution_count": 30,
   "metadata": {},
   "outputs": [
    {
     "data": {
      "text/plain": [
       "array(['USA', nan, 'MAR', 'IND', 'AUS', 'FRA', 'JPN', 'NLD', 'EGY', 'ISR',\n",
       "       'GBR', 'THA', 'CAN', 'AUT', 'IRL', 'SWE', 'DEU', 'BRA', 'FIN',\n",
       "       'RUS', 'SGP', 'MEX', 'CHN', 'ESP', 'ISL', 'KOR', 'TUR', 'DNK',\n",
       "       'ARG', 'PAK', 'HUN', 'POL', 'GRC', 'PRT', 'BLR', 'CSS', 'MKD',\n",
       "       'CHE', 'SVN', 'UKR', 'ITA', 'NZL', 'LIE', 'NOR', 'CZE', 'VNM',\n",
       "       'HRV', 'BEN', 'CHL', 'GHA', 'ZAF', 'MYS', 'EST', 'BEL', 'SVK',\n",
       "       'TWN', 'CRI', 'HKG', 'BGD', 'BOL', 'LBN', 'LUX', 'AZE', 'COL',\n",
       "       'PHL', 'ARE', 'IDN', 'ROM', 'ANT', 'CYM', 'NGA', 'GIN', 'CYP',\n",
       "       'LKA', 'SWZ', 'VGB', 'MLT', 'SAU', 'KEN', 'BGR', 'PER', 'LVA',\n",
       "       'LAO', 'NPL', 'MDA', 'CMR', 'UGA', 'TUN', 'URY', 'MUS', 'VEN',\n",
       "       'OMN', 'ECU', 'KWT', 'JOR', 'LTU', 'ALB', 'QAT', 'UMI', 'PST',\n",
       "       'REU', 'GTM', 'PCN', 'BHS', 'GEO', 'BWA', 'DZA', 'GRD', 'ZMB',\n",
       "       'GIB', 'PAN', 'MTQ', 'PRI', 'BIH', 'DMA', 'BHR', 'SYC', 'SLE',\n",
       "       'TTO', 'VCT', 'ARA', 'BRB', 'NAM', 'SLV', 'AFG', 'BLZ', 'UZB',\n",
       "       'IRN', 'TZA', 'ARM', 'ATG', 'DOM', 'JAM', 'MDV', 'MMR', 'KAZ',\n",
       "       'GLP', 'MAC', 'IOT', 'MDG', 'KGZ', 'VIR', 'ZWE', 'PRY', 'PRK',\n",
       "       'LSO', 'SMR', 'IRQ', 'BMU', 'NRU', 'KHM', 'ETH', 'BDI', 'SEN',\n",
       "       'HMI', 'TJK', 'NER', 'NCL', 'CUB', 'FST', 'AGO', 'NFK', 'NIC',\n",
       "       'AND', 'MCO', 'YEM', 'BRN', 'HTI', 'AIA', 'SUR', 'SYR', 'SOM',\n",
       "       'RWA', 'CIV', 'SDN', 'HND'], dtype=object)"
      ]
     },
     "execution_count": 30,
     "metadata": {},
     "output_type": "execute_result"
    }
   ],
   "source": [
    "company_df['country_code'].unique()"
   ]
  },
  {
   "cell_type": "code",
   "execution_count": 31,
   "metadata": {},
   "outputs": [
    {
     "data": {
      "text/plain": [
       "array(['SERIES-A', 'SERIES-B', 'SERIES-C+', nan, 'ANGEL', 'VENTURE',\n",
       "       'OTHER', 'PRIVATE-EQUITY', 'POST-IPO', 'CROWDFUNDING'],\n",
       "      dtype=object)"
      ]
     },
     "execution_count": 31,
     "metadata": {},
     "output_type": "execute_result"
    }
   ],
   "source": [
    "company_df['funding_round_type'].unique()"
   ]
  },
  {
   "cell_type": "markdown",
   "metadata": {},
   "source": [
    "Да, все значения действительно уникальные, продолжим нормализацию данных"
   ]
  },
  {
   "cell_type": "code",
   "execution_count": 32,
   "metadata": {},
   "outputs": [],
   "source": [
    "# нормализуем столбцы в датасете degrees_df\n",
    "degrees_df['subject'] = degrees_df['subject'].str.lower()\n",
    "degrees_df['degree_type'] = degrees_df['degree_type'].str.upper()"
   ]
  },
  {
   "cell_type": "code",
   "execution_count": 33,
   "metadata": {},
   "outputs": [],
   "source": [
    "# нормализуем столбцы в датасете education_df\n",
    "education_df['instituition'] = education_df['instituition'].str.lower()\n"
   ]
  },
  {
   "cell_type": "code",
   "execution_count": 34,
   "metadata": {},
   "outputs": [],
   "source": [
    "# нормализуем столбцы в датасете people_df\n",
    "people_df['first_name'] = people_df['first_name'].str.lower()\n",
    "people_df['last_name'] = people_df['last_name'].str.lower()"
   ]
  },
  {
   "cell_type": "code",
   "execution_count": 35,
   "metadata": {},
   "outputs": [],
   "source": [
    "# нормализуем столбцы в датасете fund_df\n",
    "fund_df['name'] = fund_df['name'].str.lower()\n",
    "fund_df['domain'] = fund_df['domain'].str.lower()\n",
    "fund_df['network_username'] = fund_df['network_username'].str.lower()\n",
    "fund_df['country_code'] = fund_df['country_code'].str.upper()"
   ]
  },
  {
   "cell_type": "markdown",
   "metadata": {},
   "source": [
    "В датасете `investment_df` проводить нормализацию нет смылса, данные в этом датасете содержат уникальные ключи из других таблиц."
   ]
  },
  {
   "cell_type": "code",
   "execution_count": 36,
   "metadata": {},
   "outputs": [
    {
     "name": "stdout",
     "output_type": "stream",
     "text": [
      "Кол-во дубликатов в датасете acquisition_df:0\n",
      "Кол-во дубликатов в датасете company_df:0\n",
      "Кол-во дубликатов в датасете degrees_df:0\n",
      "Кол-во дубликатов в датасете education_df:0\n",
      "Кол-во дубликатов в датасете people_df:0\n",
      "Кол-во дубликатов в датасете fund_df:0\n",
      "Кол-во дубликатов в датасете investment_df:0\n"
     ]
    }
   ],
   "source": [
    "acquisition_duplicate = acquisition_df.sort_values(by='id', ascending=False).duplicated().sum()\n",
    "copmany_duplicate = company_df.duplicated().sort_values(ascending=False).sum()\n",
    "degrees_duplicate = degrees_df.duplicated().sort_values(ascending=False).sum()\n",
    "education_duplicate = education_df.duplicated().sort_values(ascending=False).sum()\n",
    "people_duplicate = people_df.duplicated().sort_values(ascending=False).sum()\n",
    "fund_duplicate = fund_df.duplicated().sort_values(ascending=False).sum()\n",
    "investment_duplicate = investment_df.sort_values(by='id', ascending=False).duplicated().sum()\n",
    "\n",
    "print(f'Кол-во дубликатов в датасете acquisition_df:{acquisition_duplicate}')\n",
    "print(f'Кол-во дубликатов в датасете company_df:{copmany_duplicate}')\n",
    "print(f'Кол-во дубликатов в датасете degrees_df:{degrees_duplicate}')\n",
    "print(f'Кол-во дубликатов в датасете education_df:{education_duplicate}')\n",
    "print(f'Кол-во дубликатов в датасете people_df:{people_duplicate}')\n",
    "print(f'Кол-во дубликатов в датасете fund_df:{fund_duplicate}')\n",
    "print(f'Кол-во дубликатов в датасете investment_df:{investment_duplicate}')"
   ]
  },
  {
   "cell_type": "markdown",
   "metadata": {},
   "source": [
    "Была проведена нормализация по всем датасетам, после чего посчитаны полные дубликаты по всем датасетам. Дубликаты не были обнаружены."
   ]
  },
  {
   "cell_type": "markdown",
   "metadata": {},
   "source": [
    "**Промежуточный вывод:**\n",
    "\n",
    "Датасеты были созданны в новых переменных, о каждом датасете была выведена полная информация и первые строки, что помогла визуально оценить и подметить выводы для дальнейшей работы с данными. Также была проведена нормализация всех данных, т.е. столбцы были приведены к нижнему или верхнему регистру. После проверены на полные дубликаты. \n",
    "В итоге полных дубликатов ни в одном датасете обнаружено не было."
   ]
  },
  {
   "cell_type": "markdown",
   "metadata": {
    "id": "mg2gEwh0rJg0"
   },
   "source": [
    "### 1.2. Смена типов и анализ пропусков\n",
    "\n",
    "* Обработайте типы данных в столбцах, которые хранят значения даты и времени, если это необходимо."
   ]
  },
  {
   "cell_type": "markdown",
   "metadata": {},
   "source": [
    "\n",
    "* Оцените полноту данных — сделайте предварительный вывод, достаточно ли данных для решения задач проекта."
   ]
  },
  {
   "cell_type": "code",
   "execution_count": 37,
   "metadata": {
    "id": "FsL0A8RBrJg1"
   },
   "outputs": [],
   "source": [
    "# Приведем столбец 'acquired_at' в датасете acquisition_df к типу данных 'datetime64'\n",
    "for column in ['acquired_at']:\n",
    "    acquisition_df[column] = pd.to_datetime(acquisition_df[column]) "
   ]
  },
  {
   "cell_type": "code",
   "execution_count": 38,
   "metadata": {
    "id": "5Sg2O8zNnzKc"
   },
   "outputs": [
    {
     "data": {
      "text/plain": [
       "id                               int64\n",
       "acquiring_company_id             int64\n",
       "acquired_company_id              int64\n",
       "term_code                       object\n",
       "price_amount                     int64\n",
       "acquired_at             datetime64[ns]\n",
       "dtype: object"
      ]
     },
     "execution_count": 38,
     "metadata": {},
     "output_type": "execute_result"
    }
   ],
   "source": [
    "# проверим измененный тип данных \n",
    "acquisition_df.dtypes"
   ]
  },
  {
   "cell_type": "code",
   "execution_count": 39,
   "metadata": {},
   "outputs": [],
   "source": [
    "# Приведем столбецы 'founded_at', 'funded_at', 'closed  at' в датасете company_df к типу данных 'datetime64'\n",
    "for column in ['founded_at', 'funded_at', 'closed_at']:\n",
    "    company_df[column] = pd.to_datetime(company_df[column]) "
   ]
  },
  {
   "cell_type": "code",
   "execution_count": 40,
   "metadata": {},
   "outputs": [
    {
     "data": {
      "text/plain": [
       "company_ID                    float64\n",
       "name                           object\n",
       "category_code                  object\n",
       "status                         object\n",
       "founded_at             datetime64[ns]\n",
       "closed_at              datetime64[ns]\n",
       "domain                         object\n",
       "network_username               object\n",
       "country_code                   object\n",
       "investment_rounds             float64\n",
       "funding_rounds                float64\n",
       "funding_total                 float64\n",
       "milestones                    float64\n",
       "funding_round_id              float64\n",
       "company_id                    float64\n",
       "funded_at              datetime64[ns]\n",
       "funding_round_type             object\n",
       "raised_amount                 float64\n",
       "pre_money_valuation           float64\n",
       "participants                  float64\n",
       "is_first_round                float64\n",
       "is_last_round                 float64\n",
       "dtype: object"
      ]
     },
     "execution_count": 40,
     "metadata": {},
     "output_type": "execute_result"
    }
   ],
   "source": [
    "# проверим измененный тип данных \n",
    "company_df.dtypes"
   ]
  },
  {
   "cell_type": "code",
   "execution_count": 41,
   "metadata": {},
   "outputs": [],
   "source": [
    "# Приведем столбец graduated_at' в датасете education_df к типу данных 'datetime64'\n",
    "for column in ['graduated_at']:\n",
    "    education_df[column] = pd.to_datetime(education_df[column]) "
   ]
  },
  {
   "cell_type": "code",
   "execution_count": 42,
   "metadata": {},
   "outputs": [
    {
     "data": {
      "text/plain": [
       "id                       int64\n",
       "person_id                int64\n",
       "instituition            object\n",
       "graduated_at    datetime64[ns]\n",
       "dtype: object"
      ]
     },
     "execution_count": 42,
     "metadata": {},
     "output_type": "execute_result"
    }
   ],
   "source": [
    "# проверим измененный тип данных \n",
    "education_df.dtypes"
   ]
  },
  {
   "cell_type": "markdown",
   "metadata": {},
   "source": [
    "Типы данных приведены где необходиму к типу даты. Дальше займемся оценкой полноты данных и сделаем выводы о пропусках. "
   ]
  },
  {
   "cell_type": "code",
   "execution_count": 43,
   "metadata": {},
   "outputs": [
    {
     "data": {
      "text/plain": [
       "id                       0.000000\n",
       "acquiring_company_id     0.000000\n",
       "acquired_company_id      0.000000\n",
       "term_code               80.535771\n",
       "price_amount             0.000000\n",
       "acquired_at              0.308281\n",
       "dtype: float64"
      ]
     },
     "execution_count": 43,
     "metadata": {},
     "output_type": "execute_result"
    }
   ],
   "source": [
    "# проверим процент пропусков в каждом столбце датасета acquisition_df\n",
    "acquisition_df.isna().mean() * 100"
   ]
  },
  {
   "cell_type": "markdown",
   "metadata": {},
   "source": [
    "В столбце `term_code` доля пропусков соствляет 80% - это очень много, т.к. в этом столбце хранятся данные о вариантах рассчета. "
   ]
  },
  {
   "cell_type": "code",
   "execution_count": 44,
   "metadata": {},
   "outputs": [
    {
     "data": {
      "text/plain": [
       "company_ID              0.138676\n",
       "name                    0.138676\n",
       "category_code          33.928752\n",
       "status                  0.138676\n",
       "founded_at             49.509124\n",
       "closed_at              98.416248\n",
       "domain                 32.425818\n",
       "network_username       56.131586\n",
       "country_code           50.128574\n",
       "investment_rounds       0.138676\n",
       "funding_rounds          0.138676\n",
       "funding_total           0.138676\n",
       "milestones              0.138676\n",
       "funding_round_id       75.695905\n",
       "company_id             75.695905\n",
       "funded_at              75.809784\n",
       "funding_round_type     75.695905\n",
       "raised_amount          75.695905\n",
       "pre_money_valuation    75.695905\n",
       "participants           75.695905\n",
       "is_first_round         75.695905\n",
       "is_last_round          75.695905\n",
       "dtype: float64"
      ]
     },
     "execution_count": 44,
     "metadata": {},
     "output_type": "execute_result"
    }
   ],
   "source": [
    "# проверим процент пропусков в каждом столбце датасета company_df\n",
    "company_df.isna().mean() * 100 "
   ]
  },
  {
   "cell_type": "markdown",
   "metadata": {},
   "source": [
    "В датасете `company_and_rounds.csv` пропуски есть в каждом столбце, возможно из-за пропусков в столбце `company  ID` - если удалить эти данные они не повлияют на качество датасета. \n",
    "\n",
    "Пропуски в столбце `category code` - содержат информацию о категории деятельности компании пропуски в даном столбце составляют 34% для дальнейшего анализа они не слишком нам нужны. Можно их оставить как есть.\n",
    "Пропуски в столбцах `founded at` и `closed at` - состовляют огромную часть данных. Возможно их стоит заполнить.\n",
    "В данных о финасировании, которые нужны для анализа, так же содержится большое кол-во пропусков, возможно они представляют не большую ценность для того чтобы сделать какие-то выводы. "
   ]
  },
  {
   "cell_type": "code",
   "execution_count": 45,
   "metadata": {},
   "outputs": [
    {
     "data": {
      "text/plain": [
       "id              0.000000\n",
       "object_id       0.000000\n",
       "degree_type    10.234468\n",
       "subject        25.829760\n",
       "dtype: float64"
      ]
     },
     "execution_count": 45,
     "metadata": {},
     "output_type": "execute_result"
    }
   ],
   "source": [
    "degrees_df.isna().mean() * 100"
   ]
  },
  {
   "cell_type": "markdown",
   "metadata": {},
   "source": [
    "Датасет degrees_df, хранит данные о типе образования и содержит малое кол-во пропусков. Датасет можно назвать полным, он подходит для анализа."
   ]
  },
  {
   "cell_type": "code",
   "execution_count": 46,
   "metadata": {},
   "outputs": [
    {
     "data": {
      "text/plain": [
       "id               0.000000\n",
       "person_id        0.000000\n",
       "instituition     0.050178\n",
       "graduated_at    47.035854\n",
       "dtype: float64"
      ]
     },
     "execution_count": 46,
     "metadata": {},
     "output_type": "execute_result"
    }
   ],
   "source": [
    "education_df.isna().mean() * 100 "
   ]
  },
  {
   "cell_type": "markdown",
   "metadata": {},
   "source": [
    "Датасет education_df имеет малую долю пропусков в столбце `institution`, который хранит информацию об учебных заведениях, но в столбце `graduated_at` содержится половина пропущеных значений - данные в этом столбце хранят дату получения образования и в принципе не слишком нужны для анализа."
   ]
  },
  {
   "cell_type": "code",
   "execution_count": 47,
   "metadata": {},
   "outputs": [
    {
     "data": {
      "text/plain": [
       "id                   0.000000\n",
       "first_name           0.002205\n",
       "last_name            0.000441\n",
       "company_id          84.731528\n",
       "network_username    82.855996\n",
       "dtype: float64"
      ]
     },
     "execution_count": 47,
     "metadata": {},
     "output_type": "execute_result"
    }
   ],
   "source": [
    "people_df.isna().mean() * 100"
   ]
  },
  {
   "cell_type": "markdown",
   "metadata": {},
   "source": [
    "В датасете `people_df` столбец `company_id` содержит 84% пропусков . Этот столбец хранит данные о компаниях в которых работают сотрудники. К сожалению, эти данные неполные и их будет трудно соединить с другими таблицами, данные в таких таблицах буду неполные."
   ]
  },
  {
   "cell_type": "markdown",
   "metadata": {},
   "source": [
    "**Промежуточный вывод:**\n",
    "\n",
    "В ходе анализа пропусков в датасетах, было выявлено, что не все данные качественные, некоторые столбцы хранят много пропущенных значений. Так в датасете о компаниях и раундах финансирования, в информации о финансировании хранится значительно кол-во пропущенных значений. А датасеты об образовании и сотрудниках хранят достаточно много информации, но, к сожалению, имеют большое кол-во пропусков в данных о компаниях и соединить такие датасеты вместе будет проблематично."
   ]
  },
  {
   "cell_type": "markdown",
   "metadata": {
    "id": "u60cHsn6rJg1"
   },
   "source": [
    "## Шаг 2. Предобработка данных, предварительное исследование"
   ]
  },
  {
   "cell_type": "markdown",
   "metadata": {
    "id": "g2bHIIjcrJg1"
   },
   "source": [
    "\n",
    "### 2.1. Раунды финансирования по годам\n",
    "\n",
    "Задание необходимо выполнить без объединения и дополнительной предобработки на основе датасета `company_and_rounds.csv`.\n",
    "\n",
    "* Составьте сводную таблицу по годам, в которой на основании столбца `raised_amount` для каждого года указан:\n",
    "\n",
    "  * типичный размер средств, выделяемый в рамках одного раунда;\n",
    "  * общее количество раундов финансирования за этот год.\n",
    "\n",
    "* Оставьте в таблице информацию только для тех лет, для которых есть информация о более чем 50 раундах финансирования.\n",
    "\n",
    "* На основе получившейся таблицы постройте график, который будет отражать динамику типичного размера средств, которые стартапы получали в рамках одного раунда финансирования.\n",
    "\n",
    "На основе полученных данных ответьте на вопросы:\n",
    "\n",
    "* В каком году типичный размер собранных в рамках одного раунда средств был максимален?\n",
    "\n",
    "* Какая тенденция по количеству раундов и выделяемых в рамках каждого раунда средств наблюдалась в 2013 году?"
   ]
  },
  {
   "cell_type": "code",
   "execution_count": 48,
   "metadata": {},
   "outputs": [],
   "source": [
    "# добавим в датасет company_df новый столбец с годом финансирования \n",
    "company_df['year_of_funded'] = company_df['funded_at'].dt.to_period('Y')"
   ]
  },
  {
   "cell_type": "code",
   "execution_count": 49,
   "metadata": {
    "id": "HB81GTA9n04M",
    "scrolled": true
   },
   "outputs": [
    {
     "data": {
      "text/html": [
       "<div>\n",
       "<style scoped>\n",
       "    .dataframe tbody tr th:only-of-type {\n",
       "        vertical-align: middle;\n",
       "    }\n",
       "\n",
       "    .dataframe tbody tr th {\n",
       "        vertical-align: top;\n",
       "    }\n",
       "\n",
       "    .dataframe thead th {\n",
       "        text-align: right;\n",
       "    }\n",
       "</style>\n",
       "<table border=\"1\" class=\"dataframe\">\n",
       "  <thead>\n",
       "    <tr style=\"text-align: right;\">\n",
       "      <th></th>\n",
       "      <th>raised_amount</th>\n",
       "      <th>funding_rounds</th>\n",
       "    </tr>\n",
       "    <tr>\n",
       "      <th>year_of_funded</th>\n",
       "      <th></th>\n",
       "      <th></th>\n",
       "    </tr>\n",
       "  </thead>\n",
       "  <tbody>\n",
       "    <tr>\n",
       "      <th>1999</th>\n",
       "      <td>2000000.0</td>\n",
       "      <td>76</td>\n",
       "    </tr>\n",
       "    <tr>\n",
       "      <th>2000</th>\n",
       "      <td>4200000.0</td>\n",
       "      <td>125</td>\n",
       "    </tr>\n",
       "    <tr>\n",
       "      <th>2001</th>\n",
       "      <td>3000000.0</td>\n",
       "      <td>95</td>\n",
       "    </tr>\n",
       "    <tr>\n",
       "      <th>2002</th>\n",
       "      <td>4200000.0</td>\n",
       "      <td>115</td>\n",
       "    </tr>\n",
       "    <tr>\n",
       "      <th>2003</th>\n",
       "      <td>3000000.0</td>\n",
       "      <td>154</td>\n",
       "    </tr>\n",
       "    <tr>\n",
       "      <th>2004</th>\n",
       "      <td>5000000.0</td>\n",
       "      <td>286</td>\n",
       "    </tr>\n",
       "    <tr>\n",
       "      <th>2005</th>\n",
       "      <td>5500000.0</td>\n",
       "      <td>1624</td>\n",
       "    </tr>\n",
       "    <tr>\n",
       "      <th>2006</th>\n",
       "      <td>5000000.0</td>\n",
       "      <td>2409</td>\n",
       "    </tr>\n",
       "    <tr>\n",
       "      <th>2007</th>\n",
       "      <td>3973320.0</td>\n",
       "      <td>3220</td>\n",
       "    </tr>\n",
       "    <tr>\n",
       "      <th>2008</th>\n",
       "      <td>3110000.0</td>\n",
       "      <td>3735</td>\n",
       "    </tr>\n",
       "    <tr>\n",
       "      <th>2009</th>\n",
       "      <td>2000000.0</td>\n",
       "      <td>4112</td>\n",
       "    </tr>\n",
       "    <tr>\n",
       "      <th>2010</th>\n",
       "      <td>1602500.0</td>\n",
       "      <td>6194</td>\n",
       "    </tr>\n",
       "    <tr>\n",
       "      <th>2011</th>\n",
       "      <td>1200000.0</td>\n",
       "      <td>9162</td>\n",
       "    </tr>\n",
       "    <tr>\n",
       "      <th>2012</th>\n",
       "      <td>1000000.0</td>\n",
       "      <td>9956</td>\n",
       "    </tr>\n",
       "    <tr>\n",
       "      <th>2013</th>\n",
       "      <td>1200000.0</td>\n",
       "      <td>11042</td>\n",
       "    </tr>\n",
       "  </tbody>\n",
       "</table>\n",
       "</div>"
      ],
      "text/plain": [
       "                raised_amount  funding_rounds\n",
       "year_of_funded                               \n",
       "1999                2000000.0              76\n",
       "2000                4200000.0             125\n",
       "2001                3000000.0              95\n",
       "2002                4200000.0             115\n",
       "2003                3000000.0             154\n",
       "2004                5000000.0             286\n",
       "2005                5500000.0            1624\n",
       "2006                5000000.0            2409\n",
       "2007                3973320.0            3220\n",
       "2008                3110000.0            3735\n",
       "2009                2000000.0            4112\n",
       "2010                1602500.0            6194\n",
       "2011                1200000.0            9162\n",
       "2012                1000000.0            9956\n",
       "2013                1200000.0           11042"
      ]
     },
     "metadata": {},
     "output_type": "display_data"
    }
   ],
   "source": [
    "# сгруппируем данные для сводной таблицы по году финансирования, агрегируем столбец суммы финансирования, чтобы найти типичные цену \n",
    "# раунда финансирования и столбец раундов финансирования, чтобы найти число раундов в году\n",
    "pivot_amount = company_df.groupby('year_of_funded').agg({'raised_amount': 'median',\n",
    "                                    'funding_rounds': 'count'})\n",
    "\n",
    "# отфильтруем таблицу, где в году больше 50 раундов финансирования\n",
    "filtred_pivot = pivot_amount.loc[pivot_amount['funding_rounds'] > 50]\n",
    "\n",
    "#выведем таблицу\n",
    "display(filtred_pivot)"
   ]
  },
  {
   "cell_type": "code",
   "execution_count": 50,
   "metadata": {},
   "outputs": [
    {
     "data": {
      "image/png": "[encoded data removed]",
      "text/plain": [
       "<Figure size 1008x504 with 2 Axes>"
      ]
     },
     "metadata": {
      "needs_background": "light"
     },
     "output_type": "display_data"
    }
   ],
   "source": [
    "line_pivot = filtred_pivot.plot(kind='line',\n",
    "            subplots=True,\n",
    "            sharex=True,\n",
    "            sharey=False,\n",
    "            legend=False,\n",
    "            title=['Динамика типичного размера финансирования', 'Динамика раундов финансирования'],\n",
    "            figsize=(14, 7),\n",
    "            grid=True\n",
    ")\n",
    "\n",
    "# Подписываем оси\n",
    "line_pivot[0].set_ylabel('Сумма финансирования, млн.')\n",
    "line_pivot[1].set_ylabel('Кол-во раундов, шт.')\n",
    "\n",
    "plt.show()"
   ]
  },
  {
   "cell_type": "markdown",
   "metadata": {},
   "source": [
    "**Промежуточный вывод:**\n",
    "\n",
    "На основании визуализации можно сделать вывод, что в 2005 году типичный размер финансирования для 1-го раунда был наибольше всего, но начиная с этого года тенденция к повышению размера финансирования падала, в то время как тенденция на кол-во раундов винансирования росла. \n",
    "Что каксается 2013 года, отмечается небольшой рост типичного размера финансирования. Динамика раундов финансирования в этом году достигла пика."
   ]
  },
  {
   "cell_type": "markdown",
   "metadata": {
    "id": "45if1en1rJg2"
   },
   "source": [
    "\n",
    "### 2.2. Люди и их образование\n",
    "\n",
    "Заказчик хочет понять, зависит ли полнота сведений о сотрудниках (например, об их образовании) от размера компаний.\n",
    "\n",
    "* Оцените, насколько информация об образовании сотрудников полна. Используя датасеты `people.csv` и `education.csv`, разделите все компании на несколько групп по количеству сотрудников и оцените среднюю долю сотрудников без информации об образовании в каждой из групп. Обоснуйте выбранные границы групп.\n",
    "\n",
    "* Оцените, возможно ли для выполнения задания присоединить к этим таблицам ещё и таблицу `degrees.csv`."
   ]
  },
  {
   "cell_type": "code",
   "execution_count": 51,
   "metadata": {
    "id": "psPO7C4MrJg2"
   },
   "outputs": [],
   "source": [
    "# Подготовим объединенный датасет \n",
    "merged_df = people_df.merge(education_df, left_on='id', right_on='person_id', how='left').sort_values(by='company_id')"
   ]
  },
  {
   "cell_type": "code",
   "execution_count": 52,
   "metadata": {
    "scrolled": true
   },
   "outputs": [
    {
     "data": {
      "text/html": [
       "<div>\n",
       "<style scoped>\n",
       "    .dataframe tbody tr th:only-of-type {\n",
       "        vertical-align: middle;\n",
       "    }\n",
       "\n",
       "    .dataframe tbody tr th {\n",
       "        vertical-align: top;\n",
       "    }\n",
       "\n",
       "    .dataframe thead th {\n",
       "        text-align: right;\n",
       "    }\n",
       "</style>\n",
       "<table border=\"1\" class=\"dataframe\">\n",
       "  <thead>\n",
       "    <tr style=\"text-align: right;\">\n",
       "      <th></th>\n",
       "      <th>id_x</th>\n",
       "      <th>first_name</th>\n",
       "      <th>last_name</th>\n",
       "      <th>company_id</th>\n",
       "      <th>network_username</th>\n",
       "      <th>id_y</th>\n",
       "      <th>person_id</th>\n",
       "      <th>instituition</th>\n",
       "      <th>graduated_at</th>\n",
       "    </tr>\n",
       "  </thead>\n",
       "  <tbody>\n",
       "    <tr>\n",
       "      <th>191140</th>\n",
       "      <td>3</td>\n",
       "      <td>kevin</td>\n",
       "      <td>flaherty</td>\n",
       "      <td>1.0</td>\n",
       "      <td>NaN</td>\n",
       "      <td>707.0</td>\n",
       "      <td>3.0</td>\n",
       "      <td>indiana university</td>\n",
       "      <td>NaT</td>\n",
       "    </tr>\n",
       "    <tr>\n",
       "      <th>191139</th>\n",
       "      <td>3</td>\n",
       "      <td>kevin</td>\n",
       "      <td>flaherty</td>\n",
       "      <td>1.0</td>\n",
       "      <td>NaN</td>\n",
       "      <td>706.0</td>\n",
       "      <td>3.0</td>\n",
       "      <td>washington university in st louis</td>\n",
       "      <td>NaT</td>\n",
       "    </tr>\n",
       "    <tr>\n",
       "      <th>4393</th>\n",
       "      <td>104800</td>\n",
       "      <td>alex</td>\n",
       "      <td>weinstein</td>\n",
       "      <td>1.0</td>\n",
       "      <td>alexweinstein</td>\n",
       "      <td>NaN</td>\n",
       "      <td>NaN</td>\n",
       "      <td>NaN</td>\n",
       "      <td>NaT</td>\n",
       "    </tr>\n",
       "    <tr>\n",
       "      <th>265175</th>\n",
       "      <td>9729</td>\n",
       "      <td>bharath</td>\n",
       "      <td>balasubramanian</td>\n",
       "      <td>2.0</td>\n",
       "      <td>spinfree</td>\n",
       "      <td>594.0</td>\n",
       "      <td>9729.0</td>\n",
       "      <td>tamilnadu college of engineering</td>\n",
       "      <td>1998-01-01</td>\n",
       "    </tr>\n",
       "    <tr>\n",
       "      <th>230712</th>\n",
       "      <td>6456</td>\n",
       "      <td>sridhar</td>\n",
       "      <td>vembu</td>\n",
       "      <td>3.0</td>\n",
       "      <td>NaN</td>\n",
       "      <td>43581.0</td>\n",
       "      <td>6456.0</td>\n",
       "      <td>indian institute of technology, madras</td>\n",
       "      <td>1989-01-01</td>\n",
       "    </tr>\n",
       "  </tbody>\n",
       "</table>\n",
       "</div>"
      ],
      "text/plain": [
       "          id_x first_name        last_name  company_id network_username  \\\n",
       "191140       3      kevin         flaherty         1.0              NaN   \n",
       "191139       3      kevin         flaherty         1.0              NaN   \n",
       "4393    104800       alex        weinstein         1.0    alexweinstein   \n",
       "265175    9729    bharath  balasubramanian         2.0         spinfree   \n",
       "230712    6456    sridhar            vembu         3.0              NaN   \n",
       "\n",
       "           id_y  person_id                            instituition  \\\n",
       "191140    707.0        3.0                      indiana university   \n",
       "191139    706.0        3.0       washington university in st louis   \n",
       "4393        NaN        NaN                                     NaN   \n",
       "265175    594.0     9729.0        tamilnadu college of engineering   \n",
       "230712  43581.0     6456.0  indian institute of technology, madras   \n",
       "\n",
       "       graduated_at  \n",
       "191140          NaT  \n",
       "191139          NaT  \n",
       "4393            NaT  \n",
       "265175   1998-01-01  \n",
       "230712   1989-01-01  "
      ]
     },
     "execution_count": 52,
     "metadata": {},
     "output_type": "execute_result"
    }
   ],
   "source": [
    "# выведем первые 5 строк\n",
    "merged_df.head()"
   ]
  },
  {
   "cell_type": "code",
   "execution_count": 53,
   "metadata": {},
   "outputs": [
    {
     "name": "stdout",
     "output_type": "stream",
     "text": [
      "<class 'pandas.core.frame.DataFrame'>\n",
      "Int64Index: 267694 entries, 191140 to 267693\n",
      "Data columns (total 9 columns):\n",
      " #   Column            Non-Null Count   Dtype         \n",
      "---  ------            --------------   -----         \n",
      " 0   id_x              267694 non-null  int64         \n",
      " 1   first_name        267689 non-null  object        \n",
      " 2   last_name         267693 non-null  object        \n",
      " 3   company_id        44789 non-null   float64       \n",
      " 4   network_username  50775 non-null   object        \n",
      " 5   id_y              109056 non-null  float64       \n",
      " 6   person_id         109056 non-null  float64       \n",
      " 7   instituition      109002 non-null  object        \n",
      " 8   graduated_at      57691 non-null   datetime64[ns]\n",
      "dtypes: datetime64[ns](1), float64(3), int64(1), object(4)\n",
      "memory usage: 20.4+ MB\n"
     ]
    }
   ],
   "source": [
    "# выведем общую информацию об объедененном датасете\n",
    "merged_df.info()"
   ]
  },
  {
   "cell_type": "code",
   "execution_count": 54,
   "metadata": {
    "scrolled": true
   },
   "outputs": [
    {
     "data": {
      "text/plain": [
       "id_x                 0.000000\n",
       "first_name           0.001868\n",
       "last_name            0.000374\n",
       "company_id          83.268583\n",
       "network_username    81.032447\n",
       "id_y                59.260947\n",
       "person_id           59.260947\n",
       "instituition        59.281119\n",
       "graduated_at        78.448901\n",
       "dtype: float64"
      ]
     },
     "execution_count": 54,
     "metadata": {},
     "output_type": "execute_result"
    }
   ],
   "source": [
    "#проверим качество объединенных данных \n",
    "merged_df.isna().mean() * 100"
   ]
  },
  {
   "cell_type": "markdown",
   "metadata": {},
   "source": [
    "Присоединим датасет degrees_df к объединенному датасету, чтобы получить более полные данные и сравним его с датасетом только по education_df."
   ]
  },
  {
   "cell_type": "code",
   "execution_count": 55,
   "metadata": {},
   "outputs": [],
   "source": [
    "# перезапишем датасет и объеденим по индетефикатору запись \n",
    "merged_df = merged_df.merge(degrees_df, how='left', left_on='id_y', right_on='id')"
   ]
  },
  {
   "cell_type": "code",
   "execution_count": 56,
   "metadata": {},
   "outputs": [
    {
     "data": {
      "text/html": [
       "<div>\n",
       "<style scoped>\n",
       "    .dataframe tbody tr th:only-of-type {\n",
       "        vertical-align: middle;\n",
       "    }\n",
       "\n",
       "    .dataframe tbody tr th {\n",
       "        vertical-align: top;\n",
       "    }\n",
       "\n",
       "    .dataframe thead th {\n",
       "        text-align: right;\n",
       "    }\n",
       "</style>\n",
       "<table border=\"1\" class=\"dataframe\">\n",
       "  <thead>\n",
       "    <tr style=\"text-align: right;\">\n",
       "      <th></th>\n",
       "      <th>id_x</th>\n",
       "      <th>first_name</th>\n",
       "      <th>last_name</th>\n",
       "      <th>company_id</th>\n",
       "      <th>network_username</th>\n",
       "      <th>id_y</th>\n",
       "      <th>person_id</th>\n",
       "      <th>instituition</th>\n",
       "      <th>graduated_at</th>\n",
       "      <th>id</th>\n",
       "      <th>object_id</th>\n",
       "      <th>degree_type</th>\n",
       "      <th>subject</th>\n",
       "    </tr>\n",
       "  </thead>\n",
       "  <tbody>\n",
       "    <tr>\n",
       "      <th>0</th>\n",
       "      <td>3</td>\n",
       "      <td>kevin</td>\n",
       "      <td>flaherty</td>\n",
       "      <td>1.0</td>\n",
       "      <td>NaN</td>\n",
       "      <td>707.0</td>\n",
       "      <td>3.0</td>\n",
       "      <td>indiana university</td>\n",
       "      <td>NaT</td>\n",
       "      <td>707.0</td>\n",
       "      <td>p:3</td>\n",
       "      <td>MBA</td>\n",
       "      <td>NaN</td>\n",
       "    </tr>\n",
       "    <tr>\n",
       "      <th>1</th>\n",
       "      <td>3</td>\n",
       "      <td>kevin</td>\n",
       "      <td>flaherty</td>\n",
       "      <td>1.0</td>\n",
       "      <td>NaN</td>\n",
       "      <td>706.0</td>\n",
       "      <td>3.0</td>\n",
       "      <td>washington university in st louis</td>\n",
       "      <td>NaT</td>\n",
       "      <td>706.0</td>\n",
       "      <td>p:3</td>\n",
       "      <td>BBA</td>\n",
       "      <td>NaN</td>\n",
       "    </tr>\n",
       "    <tr>\n",
       "      <th>2</th>\n",
       "      <td>104800</td>\n",
       "      <td>alex</td>\n",
       "      <td>weinstein</td>\n",
       "      <td>1.0</td>\n",
       "      <td>alexweinstein</td>\n",
       "      <td>NaN</td>\n",
       "      <td>NaN</td>\n",
       "      <td>NaN</td>\n",
       "      <td>NaT</td>\n",
       "      <td>NaN</td>\n",
       "      <td>NaN</td>\n",
       "      <td>NaN</td>\n",
       "      <td>NaN</td>\n",
       "    </tr>\n",
       "    <tr>\n",
       "      <th>3</th>\n",
       "      <td>9729</td>\n",
       "      <td>bharath</td>\n",
       "      <td>balasubramanian</td>\n",
       "      <td>2.0</td>\n",
       "      <td>spinfree</td>\n",
       "      <td>594.0</td>\n",
       "      <td>9729.0</td>\n",
       "      <td>tamilnadu college of engineering</td>\n",
       "      <td>1998-01-01</td>\n",
       "      <td>594.0</td>\n",
       "      <td>p:9729</td>\n",
       "      <td>BS</td>\n",
       "      <td>computer science engineering</td>\n",
       "    </tr>\n",
       "    <tr>\n",
       "      <th>4</th>\n",
       "      <td>6456</td>\n",
       "      <td>sridhar</td>\n",
       "      <td>vembu</td>\n",
       "      <td>3.0</td>\n",
       "      <td>NaN</td>\n",
       "      <td>43581.0</td>\n",
       "      <td>6456.0</td>\n",
       "      <td>indian institute of technology, madras</td>\n",
       "      <td>1989-01-01</td>\n",
       "      <td>43581.0</td>\n",
       "      <td>p:6456</td>\n",
       "      <td>BS</td>\n",
       "      <td>NaN</td>\n",
       "    </tr>\n",
       "  </tbody>\n",
       "</table>\n",
       "</div>"
      ],
      "text/plain": [
       "     id_x first_name        last_name  company_id network_username     id_y  \\\n",
       "0       3      kevin         flaherty         1.0              NaN    707.0   \n",
       "1       3      kevin         flaherty         1.0              NaN    706.0   \n",
       "2  104800       alex        weinstein         1.0    alexweinstein      NaN   \n",
       "3    9729    bharath  balasubramanian         2.0         spinfree    594.0   \n",
       "4    6456    sridhar            vembu         3.0              NaN  43581.0   \n",
       "\n",
       "   person_id                            instituition graduated_at       id  \\\n",
       "0        3.0                      indiana university          NaT    707.0   \n",
       "1        3.0       washington university in st louis          NaT    706.0   \n",
       "2        NaN                                     NaN          NaT      NaN   \n",
       "3     9729.0        tamilnadu college of engineering   1998-01-01    594.0   \n",
       "4     6456.0  indian institute of technology, madras   1989-01-01  43581.0   \n",
       "\n",
       "  object_id degree_type                       subject  \n",
       "0       p:3         MBA                           NaN  \n",
       "1       p:3         BBA                           NaN  \n",
       "2       NaN         NaN                           NaN  \n",
       "3    p:9729          BS  computer science engineering  \n",
       "4    p:6456          BS                           NaN  "
      ]
     },
     "execution_count": 56,
     "metadata": {},
     "output_type": "execute_result"
    }
   ],
   "source": [
    "merged_df.head()"
   ]
  },
  {
   "cell_type": "code",
   "execution_count": 57,
   "metadata": {},
   "outputs": [
    {
     "name": "stdout",
     "output_type": "stream",
     "text": [
      "<class 'pandas.core.frame.DataFrame'>\n",
      "Int64Index: 267694 entries, 0 to 267693\n",
      "Data columns (total 13 columns):\n",
      " #   Column            Non-Null Count   Dtype         \n",
      "---  ------            --------------   -----         \n",
      " 0   id_x              267694 non-null  int64         \n",
      " 1   first_name        267689 non-null  object        \n",
      " 2   last_name         267693 non-null  object        \n",
      " 3   company_id        44789 non-null   float64       \n",
      " 4   network_username  50775 non-null   object        \n",
      " 5   id_y              109056 non-null  float64       \n",
      " 6   person_id         109056 non-null  float64       \n",
      " 7   instituition      109002 non-null  object        \n",
      " 8   graduated_at      57691 non-null   datetime64[ns]\n",
      " 9   id                109056 non-null  float64       \n",
      " 10  object_id         109056 non-null  object        \n",
      " 11  degree_type       97886 non-null   object        \n",
      " 12  subject           80890 non-null   object        \n",
      "dtypes: datetime64[ns](1), float64(4), int64(1), object(7)\n",
      "memory usage: 28.6+ MB\n"
     ]
    }
   ],
   "source": [
    "merged_df.info()"
   ]
  },
  {
   "cell_type": "markdown",
   "metadata": {},
   "source": [
    "Можно сделать вывод, что наибольшее кол-во пропусков содержится в столбце с информацией о компаниях, имени в интернете и дате окончании учебного заведения, остальные пропуски распределены равномерно."
   ]
  },
  {
   "cell_type": "code",
   "execution_count": 58,
   "metadata": {},
   "outputs": [],
   "source": [
    "# создадим новый столбец, в котором отразим общее кол-во раундов финансирования, он нам понадобится чтобы сделать категории\n",
    "merged_df['company_people_count'] = merged_df.groupby('company_id')['id_x'].transform('count')"
   ]
  },
  {
   "cell_type": "code",
   "execution_count": 59,
   "metadata": {},
   "outputs": [
    {
     "data": {
      "text/html": [
       "<div>\n",
       "<style scoped>\n",
       "    .dataframe tbody tr th:only-of-type {\n",
       "        vertical-align: middle;\n",
       "    }\n",
       "\n",
       "    .dataframe tbody tr th {\n",
       "        vertical-align: top;\n",
       "    }\n",
       "\n",
       "    .dataframe thead th {\n",
       "        text-align: right;\n",
       "    }\n",
       "</style>\n",
       "<table border=\"1\" class=\"dataframe\">\n",
       "  <thead>\n",
       "    <tr style=\"text-align: right;\">\n",
       "      <th></th>\n",
       "      <th>id_x</th>\n",
       "      <th>first_name</th>\n",
       "      <th>last_name</th>\n",
       "      <th>company_id</th>\n",
       "      <th>network_username</th>\n",
       "      <th>id_y</th>\n",
       "      <th>person_id</th>\n",
       "      <th>instituition</th>\n",
       "      <th>graduated_at</th>\n",
       "      <th>id</th>\n",
       "      <th>object_id</th>\n",
       "      <th>degree_type</th>\n",
       "      <th>subject</th>\n",
       "      <th>company_people_count</th>\n",
       "    </tr>\n",
       "  </thead>\n",
       "  <tbody>\n",
       "    <tr>\n",
       "      <th>0</th>\n",
       "      <td>3</td>\n",
       "      <td>kevin</td>\n",
       "      <td>flaherty</td>\n",
       "      <td>1.0</td>\n",
       "      <td>NaN</td>\n",
       "      <td>707.0</td>\n",
       "      <td>3.0</td>\n",
       "      <td>indiana university</td>\n",
       "      <td>NaT</td>\n",
       "      <td>707.0</td>\n",
       "      <td>p:3</td>\n",
       "      <td>MBA</td>\n",
       "      <td>NaN</td>\n",
       "      <td>3.0</td>\n",
       "    </tr>\n",
       "    <tr>\n",
       "      <th>1</th>\n",
       "      <td>3</td>\n",
       "      <td>kevin</td>\n",
       "      <td>flaherty</td>\n",
       "      <td>1.0</td>\n",
       "      <td>NaN</td>\n",
       "      <td>706.0</td>\n",
       "      <td>3.0</td>\n",
       "      <td>washington university in st louis</td>\n",
       "      <td>NaT</td>\n",
       "      <td>706.0</td>\n",
       "      <td>p:3</td>\n",
       "      <td>BBA</td>\n",
       "      <td>NaN</td>\n",
       "      <td>3.0</td>\n",
       "    </tr>\n",
       "    <tr>\n",
       "      <th>2</th>\n",
       "      <td>104800</td>\n",
       "      <td>alex</td>\n",
       "      <td>weinstein</td>\n",
       "      <td>1.0</td>\n",
       "      <td>alexweinstein</td>\n",
       "      <td>NaN</td>\n",
       "      <td>NaN</td>\n",
       "      <td>NaN</td>\n",
       "      <td>NaT</td>\n",
       "      <td>NaN</td>\n",
       "      <td>NaN</td>\n",
       "      <td>NaN</td>\n",
       "      <td>NaN</td>\n",
       "      <td>3.0</td>\n",
       "    </tr>\n",
       "    <tr>\n",
       "      <th>3</th>\n",
       "      <td>9729</td>\n",
       "      <td>bharath</td>\n",
       "      <td>balasubramanian</td>\n",
       "      <td>2.0</td>\n",
       "      <td>spinfree</td>\n",
       "      <td>594.0</td>\n",
       "      <td>9729.0</td>\n",
       "      <td>tamilnadu college of engineering</td>\n",
       "      <td>1998-01-01</td>\n",
       "      <td>594.0</td>\n",
       "      <td>p:9729</td>\n",
       "      <td>BS</td>\n",
       "      <td>computer science engineering</td>\n",
       "      <td>1.0</td>\n",
       "    </tr>\n",
       "    <tr>\n",
       "      <th>4</th>\n",
       "      <td>6456</td>\n",
       "      <td>sridhar</td>\n",
       "      <td>vembu</td>\n",
       "      <td>3.0</td>\n",
       "      <td>NaN</td>\n",
       "      <td>43581.0</td>\n",
       "      <td>6456.0</td>\n",
       "      <td>indian institute of technology, madras</td>\n",
       "      <td>1989-01-01</td>\n",
       "      <td>43581.0</td>\n",
       "      <td>p:6456</td>\n",
       "      <td>BS</td>\n",
       "      <td>NaN</td>\n",
       "      <td>5.0</td>\n",
       "    </tr>\n",
       "  </tbody>\n",
       "</table>\n",
       "</div>"
      ],
      "text/plain": [
       "     id_x first_name        last_name  company_id network_username     id_y  \\\n",
       "0       3      kevin         flaherty         1.0              NaN    707.0   \n",
       "1       3      kevin         flaherty         1.0              NaN    706.0   \n",
       "2  104800       alex        weinstein         1.0    alexweinstein      NaN   \n",
       "3    9729    bharath  balasubramanian         2.0         spinfree    594.0   \n",
       "4    6456    sridhar            vembu         3.0              NaN  43581.0   \n",
       "\n",
       "   person_id                            instituition graduated_at       id  \\\n",
       "0        3.0                      indiana university          NaT    707.0   \n",
       "1        3.0       washington university in st louis          NaT    706.0   \n",
       "2        NaN                                     NaN          NaT      NaN   \n",
       "3     9729.0        tamilnadu college of engineering   1998-01-01    594.0   \n",
       "4     6456.0  indian institute of technology, madras   1989-01-01  43581.0   \n",
       "\n",
       "  object_id degree_type                       subject  company_people_count  \n",
       "0       p:3         MBA                           NaN                   3.0  \n",
       "1       p:3         BBA                           NaN                   3.0  \n",
       "2       NaN         NaN                           NaN                   3.0  \n",
       "3    p:9729          BS  computer science engineering                   1.0  \n",
       "4    p:6456          BS                           NaN                   5.0  "
      ]
     },
     "execution_count": 59,
     "metadata": {},
     "output_type": "execute_result"
    }
   ],
   "source": [
    "# проверим полученный датасет, всё корректно\n",
    "merged_df.head()"
   ]
  },
  {
   "cell_type": "code",
   "execution_count": 60,
   "metadata": {},
   "outputs": [],
   "source": [
    "# создадим функцию, которая будет разбивать столбец company_people_count на категории предприятий в зависимости от кол-во сотрудников\n",
    "def categorize_company(people):\n",
    "    if people < 2:\n",
    "        return \"Микростартап\"\n",
    "    elif people < 10:\n",
    "        return \"Малые стартапы\"\n",
    "    elif people < 50:\n",
    "        return \"Средние стартапы\"\n",
    "    elif people < 100:\n",
    "        return \"Крупные стартапы\"\n",
    "    elif people < 250:\n",
    "        return \"Масштабные стартапы\"\n",
    "    \n",
    "merged_df['company_group'] = merged_df['company_people_count'].apply(categorize_company)"
   ]
  },
  {
   "cell_type": "markdown",
   "metadata": {},
   "source": [
    "В коде выше разделили объединенный датасет на категории стартапов."
   ]
  },
  {
   "cell_type": "markdown",
   "metadata": {},
   "source": [
    "Проверим распределение кол-ва человек, для этого построим график распределения:"
   ]
  },
  {
   "cell_type": "code",
   "execution_count": 61,
   "metadata": {},
   "outputs": [
    {
     "data": {
      "image/png": "[encoded data removed]",
      "text/plain": [
       "<Figure size 720x360 with 1 Axes>"
      ]
     },
     "metadata": {
      "needs_background": "light"
     },
     "output_type": "display_data"
    }
   ],
   "source": [
    "# Строим гистограмму распределения посадочных мест\n",
    "merged_df['company_people_count'].sort_values(ascending=False).plot(\n",
    "                kind='hist',\n",
    "                bins=30,\n",
    "                alpha=0.75,\n",
    "                edgecolor='black',\n",
    "                rot=0,\n",
    "                figsize=(10, 5),\n",
    "                grid=True,\n",
    "                color='#BC8F8F'\n",
    ")\n",
    "\n",
    "# Настраиваем оформление графика\n",
    "plt.title('Распределение кол-ва сотрудников компаний')\n",
    "plt.xlabel('Кол-во человек')\n",
    "plt.ylabel('Частота')\n",
    "\n",
    "# Выводим график\n",
    "plt.show()"
   ]
  },
  {
   "cell_type": "code",
   "execution_count": 62,
   "metadata": {},
   "outputs": [],
   "source": [
    "merged_df = merged_df.loc[merged_df['company_people_count'] > 0]"
   ]
  },
  {
   "cell_type": "code",
   "execution_count": 63,
   "metadata": {},
   "outputs": [
    {
     "data": {
      "image/png": "[encoded data removed]",
      "text/plain": [
       "<Figure size 864x360 with 1 Axes>"
      ]
     },
     "metadata": {
      "needs_background": "light"
     },
     "output_type": "display_data"
    }
   ],
   "source": [
    "merged_df.groupby('company_group')['company_people_count'].median().sort_values(ascending=False).plot(\n",
    "               kind='bar',\n",
    "               rot=0,\n",
    "               legend=False,\n",
    "               title=f'Распределение кол-ва человек в зависимости от категории бизнеса',\n",
    "               figsize=(12, 5),\n",
    "               grid=False,\n",
    "               color='#BC8F8F'\n",
    ")\n",
    "# Настраиваем оформление графика\n",
    "plt.xlabel('Категории бизнеса')\n",
    "plt.ylabel('Типичное количество человек')\n",
    "# Выводим график\n",
    "plt.show()"
   ]
  },
  {
   "cell_type": "code",
   "execution_count": 64,
   "metadata": {},
   "outputs": [],
   "source": [
    "# Создадим новый столбец is_education\n",
    "merged_df['is_education'] = merged_df['instituition'].isna() "
   ]
  },
  {
   "cell_type": "code",
   "execution_count": 65,
   "metadata": {},
   "outputs": [],
   "source": [
    "# Создадим новый столбец is_degree_type\n",
    "merged_df['is_degree_type'] = merged_df['degree_type'].isna() "
   ]
  },
  {
   "cell_type": "code",
   "execution_count": 66,
   "metadata": {},
   "outputs": [],
   "source": [
    "# Создадим новый столбец is_subject\n",
    "merged_df['is_subject'] = merged_df['subject'].isna() "
   ]
  },
  {
   "cell_type": "code",
   "execution_count": 67,
   "metadata": {},
   "outputs": [
    {
     "data": {
      "text/html": [
       "<div>\n",
       "<style scoped>\n",
       "    .dataframe tbody tr th:only-of-type {\n",
       "        vertical-align: middle;\n",
       "    }\n",
       "\n",
       "    .dataframe tbody tr th {\n",
       "        vertical-align: top;\n",
       "    }\n",
       "\n",
       "    .dataframe thead th {\n",
       "        text-align: right;\n",
       "    }\n",
       "</style>\n",
       "<table border=\"1\" class=\"dataframe\">\n",
       "  <thead>\n",
       "    <tr style=\"text-align: right;\">\n",
       "      <th></th>\n",
       "      <th>id_x</th>\n",
       "      <th>first_name</th>\n",
       "      <th>last_name</th>\n",
       "      <th>company_id</th>\n",
       "      <th>network_username</th>\n",
       "      <th>id_y</th>\n",
       "      <th>person_id</th>\n",
       "      <th>instituition</th>\n",
       "      <th>graduated_at</th>\n",
       "      <th>id</th>\n",
       "      <th>object_id</th>\n",
       "      <th>degree_type</th>\n",
       "      <th>subject</th>\n",
       "      <th>company_people_count</th>\n",
       "      <th>company_group</th>\n",
       "      <th>is_education</th>\n",
       "      <th>is_degree_type</th>\n",
       "      <th>is_subject</th>\n",
       "    </tr>\n",
       "  </thead>\n",
       "  <tbody>\n",
       "    <tr>\n",
       "      <th>0</th>\n",
       "      <td>3</td>\n",
       "      <td>kevin</td>\n",
       "      <td>flaherty</td>\n",
       "      <td>1.0</td>\n",
       "      <td>NaN</td>\n",
       "      <td>707.0</td>\n",
       "      <td>3.0</td>\n",
       "      <td>indiana university</td>\n",
       "      <td>NaT</td>\n",
       "      <td>707.0</td>\n",
       "      <td>p:3</td>\n",
       "      <td>MBA</td>\n",
       "      <td>NaN</td>\n",
       "      <td>3.0</td>\n",
       "      <td>Малые стартапы</td>\n",
       "      <td>False</td>\n",
       "      <td>False</td>\n",
       "      <td>True</td>\n",
       "    </tr>\n",
       "    <tr>\n",
       "      <th>1</th>\n",
       "      <td>3</td>\n",
       "      <td>kevin</td>\n",
       "      <td>flaherty</td>\n",
       "      <td>1.0</td>\n",
       "      <td>NaN</td>\n",
       "      <td>706.0</td>\n",
       "      <td>3.0</td>\n",
       "      <td>washington university in st louis</td>\n",
       "      <td>NaT</td>\n",
       "      <td>706.0</td>\n",
       "      <td>p:3</td>\n",
       "      <td>BBA</td>\n",
       "      <td>NaN</td>\n",
       "      <td>3.0</td>\n",
       "      <td>Малые стартапы</td>\n",
       "      <td>False</td>\n",
       "      <td>False</td>\n",
       "      <td>True</td>\n",
       "    </tr>\n",
       "    <tr>\n",
       "      <th>2</th>\n",
       "      <td>104800</td>\n",
       "      <td>alex</td>\n",
       "      <td>weinstein</td>\n",
       "      <td>1.0</td>\n",
       "      <td>alexweinstein</td>\n",
       "      <td>NaN</td>\n",
       "      <td>NaN</td>\n",
       "      <td>NaN</td>\n",
       "      <td>NaT</td>\n",
       "      <td>NaN</td>\n",
       "      <td>NaN</td>\n",
       "      <td>NaN</td>\n",
       "      <td>NaN</td>\n",
       "      <td>3.0</td>\n",
       "      <td>Малые стартапы</td>\n",
       "      <td>True</td>\n",
       "      <td>True</td>\n",
       "      <td>True</td>\n",
       "    </tr>\n",
       "    <tr>\n",
       "      <th>3</th>\n",
       "      <td>9729</td>\n",
       "      <td>bharath</td>\n",
       "      <td>balasubramanian</td>\n",
       "      <td>2.0</td>\n",
       "      <td>spinfree</td>\n",
       "      <td>594.0</td>\n",
       "      <td>9729.0</td>\n",
       "      <td>tamilnadu college of engineering</td>\n",
       "      <td>1998-01-01</td>\n",
       "      <td>594.0</td>\n",
       "      <td>p:9729</td>\n",
       "      <td>BS</td>\n",
       "      <td>computer science engineering</td>\n",
       "      <td>1.0</td>\n",
       "      <td>Микростартап</td>\n",
       "      <td>False</td>\n",
       "      <td>False</td>\n",
       "      <td>False</td>\n",
       "    </tr>\n",
       "    <tr>\n",
       "      <th>4</th>\n",
       "      <td>6456</td>\n",
       "      <td>sridhar</td>\n",
       "      <td>vembu</td>\n",
       "      <td>3.0</td>\n",
       "      <td>NaN</td>\n",
       "      <td>43581.0</td>\n",
       "      <td>6456.0</td>\n",
       "      <td>indian institute of technology, madras</td>\n",
       "      <td>1989-01-01</td>\n",
       "      <td>43581.0</td>\n",
       "      <td>p:6456</td>\n",
       "      <td>BS</td>\n",
       "      <td>NaN</td>\n",
       "      <td>5.0</td>\n",
       "      <td>Малые стартапы</td>\n",
       "      <td>False</td>\n",
       "      <td>False</td>\n",
       "      <td>True</td>\n",
       "    </tr>\n",
       "  </tbody>\n",
       "</table>\n",
       "</div>"
      ],
      "text/plain": [
       "     id_x first_name        last_name  company_id network_username     id_y  \\\n",
       "0       3      kevin         flaherty         1.0              NaN    707.0   \n",
       "1       3      kevin         flaherty         1.0              NaN    706.0   \n",
       "2  104800       alex        weinstein         1.0    alexweinstein      NaN   \n",
       "3    9729    bharath  balasubramanian         2.0         spinfree    594.0   \n",
       "4    6456    sridhar            vembu         3.0              NaN  43581.0   \n",
       "\n",
       "   person_id                            instituition graduated_at       id  \\\n",
       "0        3.0                      indiana university          NaT    707.0   \n",
       "1        3.0       washington university in st louis          NaT    706.0   \n",
       "2        NaN                                     NaN          NaT      NaN   \n",
       "3     9729.0        tamilnadu college of engineering   1998-01-01    594.0   \n",
       "4     6456.0  indian institute of technology, madras   1989-01-01  43581.0   \n",
       "\n",
       "  object_id degree_type                       subject  company_people_count  \\\n",
       "0       p:3         MBA                           NaN                   3.0   \n",
       "1       p:3         BBA                           NaN                   3.0   \n",
       "2       NaN         NaN                           NaN                   3.0   \n",
       "3    p:9729          BS  computer science engineering                   1.0   \n",
       "4    p:6456          BS                           NaN                   5.0   \n",
       "\n",
       "    company_group  is_education  is_degree_type  is_subject  \n",
       "0  Малые стартапы         False           False        True  \n",
       "1  Малые стартапы         False           False        True  \n",
       "2  Малые стартапы          True            True        True  \n",
       "3    Микростартап         False           False       False  \n",
       "4  Малые стартапы         False           False        True  "
      ]
     },
     "execution_count": 67,
     "metadata": {},
     "output_type": "execute_result"
    }
   ],
   "source": [
    "merged_df.head()"
   ]
  },
  {
   "cell_type": "markdown",
   "metadata": {},
   "source": [
    "Всё отлично, новые столбецы создались корректно, продолжим. Теперь нужно создать столбец на основании столбца `institution`, который хранит информацию об учебном завидении. Я считаю, если есть информация в этом столбце, значит у сотрудника есть информация об образовании."
   ]
  },
  {
   "cell_type": "code",
   "execution_count": 68,
   "metadata": {},
   "outputs": [],
   "source": [
    "merged_df['is_full_education'] = (merged_df['is_education'] == True) | (merged_df['is_degree_type'] == True) | (merged_df['is_subject'] == True)\n",
    "                                 "
   ]
  },
  {
   "cell_type": "code",
   "execution_count": 69,
   "metadata": {},
   "outputs": [
    {
     "data": {
      "text/plain": [
       "company_group\n",
       "Крупные стартапы       47.033898\n",
       "Малые стартапы         43.567568\n",
       "Масштабные стартапы    36.641221\n",
       "Микростартап           67.667845\n",
       "Средние стартапы       47.657791\n",
       "Name: is_full_education, dtype: float64"
      ]
     },
     "metadata": {},
     "output_type": "display_data"
    }
   ],
   "source": [
    "# Посчитаем долю пропусков в каждой группе и выведем информацию \n",
    "education_percent = merged_df.groupby('company_group')['is_full_education'].mean() * 100\n",
    "\n",
    "display(education_percent)"
   ]
  },
  {
   "cell_type": "markdown",
   "metadata": {},
   "source": [
    "Пропуски об образовани распределены в кажно категории почти равномерно, больше всего выделяется категория микропредприятия, где работает малое кол-во человек, возможно там изначально нет информации об образовании сотрудников. \n",
    "Пропуски идут на снижение, чем крупнее предприятие, тем меньше пропусков в данных."
   ]
  },
  {
   "cell_type": "markdown",
   "metadata": {},
   "source": [
    "### 2.3. Объединять или не объединять — вот в чём вопрос\n",
    "\n",
    "Некоторые названия столбцов встречаются в датасетах чаще других. И, например, в результате предварительной проверки датасетов было выяснено, что столбец `company_id` подходит для объединения данных, так как большая часть значений встречается в разных датасетах не один, а несколько раз. Этот столбец может быть использован для объединения данных.\n",
    "\n",
    "* Установите, подходит ли для объединения данных столбец `network_username`, который встречается в нескольких датасетах. Нам необходимо понимать, дублируется ли для разных датасетов информация в столбцах с таким названием, и если да — то насколько часто.\n",
    "\n",
    "* Оцените, можно ли использовать столбцы с именем `network_username` для объединения данных."
   ]
  },
  {
   "cell_type": "markdown",
   "metadata": {},
   "source": [
    "Столбец network_username есть в подготовленных датасетах : company_df, people_df. Выведем и посчитаем уникальные значения по столбцу для каждого датасета:"
   ]
  },
  {
   "cell_type": "code",
   "execution_count": 70,
   "metadata": {},
   "outputs": [
    {
     "name": "stdout",
     "output_type": "stream",
     "text": [
      "Выведем кол-во уникальных значений для столбца netwrok  username датасета company_df:\n",
      "79374\n",
      "Выведем кол-во уникальных значений для столбца netwrok_username датасета people_df:\n",
      "38421\n",
      "Выведем кол-во уникальных значений для столбца netwrok_username датасета fund_df:\n",
      "2091\n",
      "Посчитаем общее кол-во уникальных значений в 3 датасетах:\n",
      "119886\n",
      "Выведем кол-во дубликатов в обоих столбцах по столбцу network_username:\n",
      "9\n",
      "Выведем процент пересечений:\n",
      "0.01%\n"
     ]
    }
   ],
   "source": [
    "\n",
    "# создадим новую переменную в которой выведем уникальные значения датасета company_df по столбцу network  username посредством множества\n",
    "unique_company_network = set(company_df['network_username'])\n",
    "# создадим новую переменную в которой выведем уникальные значения датасета people_df по столбцу network_username посредством множества\n",
    "unique_people_network = set(people_df['network_username'])\n",
    "# создадим новую переменную в которой выведем уникальные значения датасета fund_df по столбцу network_username посредством множества\n",
    "unique_fund_network = set(fund_df['network_username'])\n",
    "\n",
    "\n",
    "# создадим новую переменную в которой посчитаем уникальные значения датасета company_df по столбцу network  username\n",
    "count_unique_company_network = company_df['network_username'].nunique()\n",
    "# создадим новую переменную в которой посчитаем уникальные значения датасета people_df по столбцу network_username\n",
    "count_unique_people_network = people_df['network_username'].nunique()\n",
    "# создадим новую переменную в которой посчитаем уникальные значения датасета fund_df по столбцу network_username\n",
    "count_unique_fund_network = fund_df['network_username'].nunique()\n",
    "\n",
    "\n",
    "# Посчитаем общее кол-во уникальных значений в 2-х датасетах \n",
    "count_sets = count_unique_company_network + count_unique_people_network + count_unique_fund_network\n",
    "\n",
    "# найдем дубликаты в обоих датасетах, для этого используем метод intersection()\n",
    "\n",
    "intersection_df = unique_company_network.intersection(unique_people_network).intersection(unique_fund_network)\n",
    "\n",
    "count_intersections = len(intersection_df)\n",
    "\n",
    "# Посчитаем долю общих пересеченый для двух датасетов\n",
    "\n",
    "intersection_percent = round(count_intersections/count_sets * 100, 2)\n",
    "\n",
    "print(f'Выведем кол-во уникальных значений для столбца netwrok  username датасета company_df:\\n{count_unique_company_network}')\n",
    "print(f'Выведем кол-во уникальных значений для столбца netwrok_username датасета people_df:\\n{count_unique_people_network}')\n",
    "print(f'Выведем кол-во уникальных значений для столбца netwrok_username датасета fund_df:\\n{count_unique_fund_network}')\n",
    "print(f'Посчитаем общее кол-во уникальных значений в 3 датасетах:\\n{count_sets}')\n",
    "print(f'Выведем кол-во дубликатов в обоих столбцах по столбцу network_username:\\n{count_intersections}')\n",
    "print(f'Выведем процент пересечений:\\n{intersection_percent}%')\n"
   ]
  },
  {
   "cell_type": "markdown",
   "metadata": {
    "id": "CilOkz-inz37"
   },
   "source": [
    "Всего было посчитано 119849 уникальных значений после нормализации из 3 датасетов. Всего 0.01% оказалось значениями, которые есть в трех датасетах в этих столбцах. Можно сделать вывод, что объединить датасеты по этому столбцу невозможно, т.к. очень мало данных пересекаются. Полученый датасет будет плохого качества. \n"
   ]
  },
  {
   "cell_type": "markdown",
   "metadata": {
    "id": "EHcODomVrJg1"
   },
   "source": [
    "\n",
    "### 2.4. Проблемный датасет и причина возникновения пропусков\n",
    "\n",
    "Во время собственного анализа данных у заказчика больше всего вопросов возникло к датасету `company_and_rounds.csv`. В нём много пропусков как раз в информации о раундах, которая заказчику важна. Хотя информация об общем объёме финансирования по раундам присутствует в других датасетах, заказчик считает данные `company_and_rounds.csv` о размере средств наиболее верными.\n",
    "\n",
    "* Любым удобным способом приведите данные в вид, который позволяет проводить анализ в разрезе отдельных компаний. Можно изменять форму данных, порядок их хранения. Обратите внимание на структуру датасета, порядок и названия столбцов, проанализируйте значения.\n",
    "\n",
    "По гипотезе заказчика данные по компаниям из этой таблицы раньше хранились иначе, более удобным для исследования образом.\n",
    "\n",
    "* Максимальным образом сохраняя данные, сохранив их связность и исключив возможные возникающие при этом ошибки, подготовьте данные так, чтобы удобно было отобрать компании по параметрам и рассчитать показатели из расчёта на одну компанию."
   ]
  },
  {
   "cell_type": "code",
   "execution_count": 71,
   "metadata": {},
   "outputs": [
    {
     "name": "stdout",
     "output_type": "stream",
     "text": [
      "<class 'pandas.core.frame.DataFrame'>\n",
      "RangeIndex: 217774 entries, 0 to 217773\n",
      "Data columns (total 23 columns):\n",
      " #   Column               Non-Null Count   Dtype         \n",
      "---  ------               --------------   -----         \n",
      " 0   company_ID           217472 non-null  float64       \n",
      " 1   name                 217472 non-null  object        \n",
      " 2   category_code        143886 non-null  object        \n",
      " 3   status               217472 non-null  object        \n",
      " 4   founded_at           109956 non-null  datetime64[ns]\n",
      " 5   closed_at            3449 non-null    datetime64[ns]\n",
      " 6   domain               147159 non-null  object        \n",
      " 7   network_username     95534 non-null   object        \n",
      " 8   country_code         108607 non-null  object        \n",
      " 9   investment_rounds    217472 non-null  float64       \n",
      " 10  funding_rounds       217472 non-null  float64       \n",
      " 11  funding_total        217472 non-null  float64       \n",
      " 12  milestones           217472 non-null  float64       \n",
      " 13  funding_round_id     52928 non-null   float64       \n",
      " 14  company_id           52928 non-null   float64       \n",
      " 15  funded_at            52680 non-null   datetime64[ns]\n",
      " 16  funding_round_type   52928 non-null   object        \n",
      " 17  raised_amount        52928 non-null   float64       \n",
      " 18  pre_money_valuation  52928 non-null   float64       \n",
      " 19  participants         52928 non-null   float64       \n",
      " 20  is_first_round       52928 non-null   float64       \n",
      " 21  is_last_round        52928 non-null   float64       \n",
      " 22  year_of_funded       52680 non-null   period[A-DEC] \n",
      "dtypes: datetime64[ns](3), float64(12), object(7), period[A-DEC](1)\n",
      "memory usage: 38.2+ MB\n"
     ]
    }
   ],
   "source": [
    "# Выведем таблицу и посмотрим откуда начинаются границы пропусков\n",
    "company_df.info()"
   ]
  },
  {
   "cell_type": "code",
   "execution_count": 72,
   "metadata": {
    "id": "SFfUmzron0Tc"
   },
   "outputs": [],
   "source": [
    "# создадим новый датасет, в котором выберем только необходимые столбцы\n",
    "rounds_funding = company_df[['company_ID', \n",
    "                             'name',\n",
    "                             'category_code',\n",
    "                             'status',\n",
    "                             'founded_at',\n",
    "                             'closed_at',\n",
    "                             'domain',\n",
    "                             'network_username',\n",
    "                             'country_code',\n",
    "                             'investment_rounds',\n",
    "                             'funding_rounds',\n",
    "                             'funding_total',\n",
    "                             'milestones']]"
   ]
  },
  {
   "cell_type": "code",
   "execution_count": 73,
   "metadata": {},
   "outputs": [],
   "source": [
    "# отсортируем данные по столбцу company_id\n",
    "rounds_funding = rounds_funding.sort_values(by='company_ID', ascending=True)"
   ]
  },
  {
   "cell_type": "code",
   "execution_count": 74,
   "metadata": {},
   "outputs": [
    {
     "name": "stdout",
     "output_type": "stream",
     "text": [
      "<class 'pandas.core.frame.DataFrame'>\n",
      "Int64Index: 217774 entries, 0 to 217773\n",
      "Data columns (total 13 columns):\n",
      " #   Column             Non-Null Count   Dtype         \n",
      "---  ------             --------------   -----         \n",
      " 0   company_ID         217472 non-null  float64       \n",
      " 1   name               217472 non-null  object        \n",
      " 2   category_code      143886 non-null  object        \n",
      " 3   status             217472 non-null  object        \n",
      " 4   founded_at         109956 non-null  datetime64[ns]\n",
      " 5   closed_at          3449 non-null    datetime64[ns]\n",
      " 6   domain             147159 non-null  object        \n",
      " 7   network_username   95534 non-null   object        \n",
      " 8   country_code       108607 non-null  object        \n",
      " 9   investment_rounds  217472 non-null  float64       \n",
      " 10  funding_rounds     217472 non-null  float64       \n",
      " 11  funding_total      217472 non-null  float64       \n",
      " 12  milestones         217472 non-null  float64       \n",
      "dtypes: datetime64[ns](2), float64(5), object(6)\n",
      "memory usage: 23.3+ MB\n"
     ]
    }
   ],
   "source": [
    "# выведем информацию о датасете \n",
    "rounds_funding.info()"
   ]
  },
  {
   "cell_type": "code",
   "execution_count": 75,
   "metadata": {},
   "outputs": [
    {
     "data": {
      "text/html": [
       "<div>\n",
       "<style scoped>\n",
       "    .dataframe tbody tr th:only-of-type {\n",
       "        vertical-align: middle;\n",
       "    }\n",
       "\n",
       "    .dataframe tbody tr th {\n",
       "        vertical-align: top;\n",
       "    }\n",
       "\n",
       "    .dataframe thead th {\n",
       "        text-align: right;\n",
       "    }\n",
       "</style>\n",
       "<table border=\"1\" class=\"dataframe\">\n",
       "  <thead>\n",
       "    <tr style=\"text-align: right;\">\n",
       "      <th></th>\n",
       "      <th>company_ID</th>\n",
       "      <th>name</th>\n",
       "      <th>category_code</th>\n",
       "      <th>status</th>\n",
       "      <th>founded_at</th>\n",
       "      <th>closed_at</th>\n",
       "      <th>domain</th>\n",
       "      <th>network_username</th>\n",
       "      <th>country_code</th>\n",
       "      <th>investment_rounds</th>\n",
       "      <th>funding_rounds</th>\n",
       "      <th>funding_total</th>\n",
       "      <th>milestones</th>\n",
       "    </tr>\n",
       "  </thead>\n",
       "  <tbody>\n",
       "    <tr>\n",
       "      <th>0</th>\n",
       "      <td>1.0</td>\n",
       "      <td>wetpaint</td>\n",
       "      <td>WEB</td>\n",
       "      <td>operating</td>\n",
       "      <td>2005-10-17</td>\n",
       "      <td>NaT</td>\n",
       "      <td>wetpaint-inc.com</td>\n",
       "      <td>bachelrwetpaint</td>\n",
       "      <td>USA</td>\n",
       "      <td>0.0</td>\n",
       "      <td>3.0</td>\n",
       "      <td>39750000.0</td>\n",
       "      <td>5.0</td>\n",
       "    </tr>\n",
       "    <tr>\n",
       "      <th>1</th>\n",
       "      <td>1.0</td>\n",
       "      <td>wetpaint</td>\n",
       "      <td>WEB</td>\n",
       "      <td>operating</td>\n",
       "      <td>2005-10-17</td>\n",
       "      <td>NaT</td>\n",
       "      <td>wetpaint-inc.com</td>\n",
       "      <td>bachelrwetpaint</td>\n",
       "      <td>USA</td>\n",
       "      <td>0.0</td>\n",
       "      <td>3.0</td>\n",
       "      <td>39750000.0</td>\n",
       "      <td>5.0</td>\n",
       "    </tr>\n",
       "    <tr>\n",
       "      <th>2</th>\n",
       "      <td>1.0</td>\n",
       "      <td>wetpaint</td>\n",
       "      <td>WEB</td>\n",
       "      <td>operating</td>\n",
       "      <td>2005-10-17</td>\n",
       "      <td>NaT</td>\n",
       "      <td>wetpaint-inc.com</td>\n",
       "      <td>bachelrwetpaint</td>\n",
       "      <td>USA</td>\n",
       "      <td>0.0</td>\n",
       "      <td>3.0</td>\n",
       "      <td>39750000.0</td>\n",
       "      <td>5.0</td>\n",
       "    </tr>\n",
       "    <tr>\n",
       "      <th>63280</th>\n",
       "      <td>2.0</td>\n",
       "      <td>adventnet</td>\n",
       "      <td>ENTERPRISE</td>\n",
       "      <td>operating</td>\n",
       "      <td>1996-01-01</td>\n",
       "      <td>NaT</td>\n",
       "      <td>adventnet.com</td>\n",
       "      <td>manageengine</td>\n",
       "      <td>USA</td>\n",
       "      <td>0.0</td>\n",
       "      <td>0.0</td>\n",
       "      <td>0.0</td>\n",
       "      <td>0.0</td>\n",
       "    </tr>\n",
       "    <tr>\n",
       "      <th>153920</th>\n",
       "      <td>3.0</td>\n",
       "      <td>zoho</td>\n",
       "      <td>SOFTWARE</td>\n",
       "      <td>operating</td>\n",
       "      <td>2005-09-15</td>\n",
       "      <td>NaT</td>\n",
       "      <td>zoho.com</td>\n",
       "      <td>zoho</td>\n",
       "      <td>USA</td>\n",
       "      <td>0.0</td>\n",
       "      <td>0.0</td>\n",
       "      <td>0.0</td>\n",
       "      <td>5.0</td>\n",
       "    </tr>\n",
       "  </tbody>\n",
       "</table>\n",
       "</div>"
      ],
      "text/plain": [
       "        company_ID       name category_code     status founded_at closed_at  \\\n",
       "0              1.0   wetpaint           WEB  operating 2005-10-17       NaT   \n",
       "1              1.0   wetpaint           WEB  operating 2005-10-17       NaT   \n",
       "2              1.0   wetpaint           WEB  operating 2005-10-17       NaT   \n",
       "63280          2.0  adventnet    ENTERPRISE  operating 1996-01-01       NaT   \n",
       "153920         3.0       zoho      SOFTWARE  operating 2005-09-15       NaT   \n",
       "\n",
       "                  domain network_username country_code  investment_rounds  \\\n",
       "0       wetpaint-inc.com  bachelrwetpaint          USA                0.0   \n",
       "1       wetpaint-inc.com  bachelrwetpaint          USA                0.0   \n",
       "2       wetpaint-inc.com  bachelrwetpaint          USA                0.0   \n",
       "63280      adventnet.com     manageengine          USA                0.0   \n",
       "153920          zoho.com             zoho          USA                0.0   \n",
       "\n",
       "        funding_rounds  funding_total  milestones  \n",
       "0                  3.0     39750000.0         5.0  \n",
       "1                  3.0     39750000.0         5.0  \n",
       "2                  3.0     39750000.0         5.0  \n",
       "63280              0.0            0.0         0.0  \n",
       "153920             0.0            0.0         5.0  "
      ]
     },
     "execution_count": 75,
     "metadata": {},
     "output_type": "execute_result"
    }
   ],
   "source": [
    "# проверим, чт преобразования выполнены корректно\n",
    "rounds_funding.head()"
   ]
  },
  {
   "cell_type": "code",
   "execution_count": 76,
   "metadata": {},
   "outputs": [
    {
     "data": {
      "text/plain": [
       "company_ID            0.138676\n",
       "name                  0.138676\n",
       "category_code        33.928752\n",
       "status                0.138676\n",
       "founded_at           49.509124\n",
       "closed_at            98.416248\n",
       "domain               32.425818\n",
       "network_username     56.131586\n",
       "country_code         50.128574\n",
       "investment_rounds     0.138676\n",
       "funding_rounds        0.138676\n",
       "funding_total         0.138676\n",
       "milestones            0.138676\n",
       "dtype: float64"
      ]
     },
     "execution_count": 76,
     "metadata": {},
     "output_type": "execute_result"
    }
   ],
   "source": [
    "# посчитаем процент пропусков в данные \n",
    "rounds_funding.isna().mean() * 100"
   ]
  },
  {
   "cell_type": "code",
   "execution_count": 77,
   "metadata": {},
   "outputs": [],
   "source": [
    "# удалим пропуски в столбце company_id, чтобы получить полные данные \n",
    "rounds_funding = rounds_funding.dropna(subset=['company_ID'])"
   ]
  },
  {
   "cell_type": "code",
   "execution_count": 78,
   "metadata": {},
   "outputs": [
    {
     "data": {
      "text/plain": [
       "company_ID            0.000000\n",
       "name                  0.000000\n",
       "category_code        33.837000\n",
       "status                0.000000\n",
       "founded_at           49.439008\n",
       "closed_at            98.414049\n",
       "domain               32.331978\n",
       "network_username     56.070667\n",
       "country_code         50.059318\n",
       "investment_rounds     0.000000\n",
       "funding_rounds        0.000000\n",
       "funding_total         0.000000\n",
       "milestones            0.000000\n",
       "dtype: float64"
      ]
     },
     "execution_count": 78,
     "metadata": {},
     "output_type": "execute_result"
    }
   ],
   "source": [
    "# проверим, что пропуски удалены\n",
    "rounds_funding.isna().mean() * 100"
   ]
  },
  {
   "cell_type": "code",
   "execution_count": 79,
   "metadata": {},
   "outputs": [
    {
     "data": {
      "text/plain": [
       "20919"
      ]
     },
     "execution_count": 79,
     "metadata": {},
     "output_type": "execute_result"
    }
   ],
   "source": [
    "# далее найдем полные дубликаты в данных \n",
    "rounds_funding_duplicates = rounds_funding.duplicated().sum()\n",
    "rounds_funding_duplicates"
   ]
  },
  {
   "cell_type": "code",
   "execution_count": 80,
   "metadata": {
    "scrolled": false
   },
   "outputs": [
    {
     "data": {
      "text/html": [
       "<div>\n",
       "<style scoped>\n",
       "    .dataframe tbody tr th:only-of-type {\n",
       "        vertical-align: middle;\n",
       "    }\n",
       "\n",
       "    .dataframe tbody tr th {\n",
       "        vertical-align: top;\n",
       "    }\n",
       "\n",
       "    .dataframe thead th {\n",
       "        text-align: right;\n",
       "    }\n",
       "</style>\n",
       "<table border=\"1\" class=\"dataframe\">\n",
       "  <thead>\n",
       "    <tr style=\"text-align: right;\">\n",
       "      <th></th>\n",
       "      <th>company_ID</th>\n",
       "      <th>name</th>\n",
       "      <th>category_code</th>\n",
       "      <th>status</th>\n",
       "      <th>founded_at</th>\n",
       "      <th>closed_at</th>\n",
       "      <th>domain</th>\n",
       "      <th>network_username</th>\n",
       "      <th>country_code</th>\n",
       "      <th>investment_rounds</th>\n",
       "      <th>funding_rounds</th>\n",
       "      <th>funding_total</th>\n",
       "      <th>milestones</th>\n",
       "    </tr>\n",
       "  </thead>\n",
       "  <tbody>\n",
       "    <tr>\n",
       "      <th>0</th>\n",
       "      <td>1.0</td>\n",
       "      <td>wetpaint</td>\n",
       "      <td>WEB</td>\n",
       "      <td>operating</td>\n",
       "      <td>2005-10-17</td>\n",
       "      <td>NaT</td>\n",
       "      <td>wetpaint-inc.com</td>\n",
       "      <td>bachelrwetpaint</td>\n",
       "      <td>USA</td>\n",
       "      <td>0.0</td>\n",
       "      <td>3.0</td>\n",
       "      <td>3.975000e+07</td>\n",
       "      <td>5.0</td>\n",
       "    </tr>\n",
       "    <tr>\n",
       "      <th>63280</th>\n",
       "      <td>2.0</td>\n",
       "      <td>adventnet</td>\n",
       "      <td>ENTERPRISE</td>\n",
       "      <td>operating</td>\n",
       "      <td>1996-01-01</td>\n",
       "      <td>NaT</td>\n",
       "      <td>adventnet.com</td>\n",
       "      <td>manageengine</td>\n",
       "      <td>USA</td>\n",
       "      <td>0.0</td>\n",
       "      <td>0.0</td>\n",
       "      <td>0.000000e+00</td>\n",
       "      <td>0.0</td>\n",
       "    </tr>\n",
       "    <tr>\n",
       "      <th>153920</th>\n",
       "      <td>3.0</td>\n",
       "      <td>zoho</td>\n",
       "      <td>SOFTWARE</td>\n",
       "      <td>operating</td>\n",
       "      <td>2005-09-15</td>\n",
       "      <td>NaT</td>\n",
       "      <td>zoho.com</td>\n",
       "      <td>zoho</td>\n",
       "      <td>USA</td>\n",
       "      <td>0.0</td>\n",
       "      <td>0.0</td>\n",
       "      <td>0.000000e+00</td>\n",
       "      <td>5.0</td>\n",
       "    </tr>\n",
       "    <tr>\n",
       "      <th>165415</th>\n",
       "      <td>4.0</td>\n",
       "      <td>digg</td>\n",
       "      <td>NEWS</td>\n",
       "      <td>acquired</td>\n",
       "      <td>2004-10-11</td>\n",
       "      <td>NaT</td>\n",
       "      <td>digg.com</td>\n",
       "      <td>digg</td>\n",
       "      <td>USA</td>\n",
       "      <td>0.0</td>\n",
       "      <td>4.0</td>\n",
       "      <td>4.500000e+07</td>\n",
       "      <td>8.0</td>\n",
       "    </tr>\n",
       "    <tr>\n",
       "      <th>217293</th>\n",
       "      <td>5.0</td>\n",
       "      <td>socialnet</td>\n",
       "      <td>SOCIAL</td>\n",
       "      <td>ipo</td>\n",
       "      <td>2004-02-01</td>\n",
       "      <td>NaT</td>\n",
       "      <td>socialnet.com</td>\n",
       "      <td>socialnet</td>\n",
       "      <td>USA</td>\n",
       "      <td>3.0</td>\n",
       "      <td>11.0</td>\n",
       "      <td>2.425700e+09</td>\n",
       "      <td>5.0</td>\n",
       "    </tr>\n",
       "    <tr>\n",
       "      <th>...</th>\n",
       "      <td>...</td>\n",
       "      <td>...</td>\n",
       "      <td>...</td>\n",
       "      <td>...</td>\n",
       "      <td>...</td>\n",
       "      <td>...</td>\n",
       "      <td>...</td>\n",
       "      <td>...</td>\n",
       "      <td>...</td>\n",
       "      <td>...</td>\n",
       "      <td>...</td>\n",
       "      <td>...</td>\n",
       "      <td>...</td>\n",
       "    </tr>\n",
       "    <tr>\n",
       "      <th>152350</th>\n",
       "      <td>286210.0</td>\n",
       "      <td>lg electronics north america</td>\n",
       "      <td>NaN</td>\n",
       "      <td>operating</td>\n",
       "      <td>NaT</td>\n",
       "      <td>NaT</td>\n",
       "      <td>NaN</td>\n",
       "      <td>NaN</td>\n",
       "      <td>NaN</td>\n",
       "      <td>0.0</td>\n",
       "      <td>0.0</td>\n",
       "      <td>0.000000e+00</td>\n",
       "      <td>1.0</td>\n",
       "    </tr>\n",
       "    <tr>\n",
       "      <th>152351</th>\n",
       "      <td>286211.0</td>\n",
       "      <td>m1 capital advisors llc</td>\n",
       "      <td>NaN</td>\n",
       "      <td>operating</td>\n",
       "      <td>NaT</td>\n",
       "      <td>NaT</td>\n",
       "      <td>NaN</td>\n",
       "      <td>NaN</td>\n",
       "      <td>NaN</td>\n",
       "      <td>0.0</td>\n",
       "      <td>0.0</td>\n",
       "      <td>0.000000e+00</td>\n",
       "      <td>0.0</td>\n",
       "    </tr>\n",
       "    <tr>\n",
       "      <th>152352</th>\n",
       "      <td>286212.0</td>\n",
       "      <td>m1 partners</td>\n",
       "      <td>NaN</td>\n",
       "      <td>operating</td>\n",
       "      <td>NaT</td>\n",
       "      <td>NaT</td>\n",
       "      <td>NaN</td>\n",
       "      <td>NaN</td>\n",
       "      <td>NaN</td>\n",
       "      <td>0.0</td>\n",
       "      <td>0.0</td>\n",
       "      <td>0.000000e+00</td>\n",
       "      <td>0.0</td>\n",
       "    </tr>\n",
       "    <tr>\n",
       "      <th>152353</th>\n",
       "      <td>286213.0</td>\n",
       "      <td>computer solutions</td>\n",
       "      <td>NaN</td>\n",
       "      <td>operating</td>\n",
       "      <td>NaT</td>\n",
       "      <td>NaT</td>\n",
       "      <td>NaN</td>\n",
       "      <td>NaN</td>\n",
       "      <td>NaN</td>\n",
       "      <td>0.0</td>\n",
       "      <td>0.0</td>\n",
       "      <td>0.000000e+00</td>\n",
       "      <td>0.0</td>\n",
       "    </tr>\n",
       "    <tr>\n",
       "      <th>152354</th>\n",
       "      <td>286215.0</td>\n",
       "      <td>the betty mills company</td>\n",
       "      <td>ECOMMERCE</td>\n",
       "      <td>operating</td>\n",
       "      <td>NaT</td>\n",
       "      <td>NaT</td>\n",
       "      <td>bettymills.com</td>\n",
       "      <td>NaN</td>\n",
       "      <td>USA</td>\n",
       "      <td>0.0</td>\n",
       "      <td>1.0</td>\n",
       "      <td>2.712500e+05</td>\n",
       "      <td>0.0</td>\n",
       "    </tr>\n",
       "  </tbody>\n",
       "</table>\n",
       "<p>196553 rows × 13 columns</p>\n",
       "</div>"
      ],
      "text/plain": [
       "        company_ID                          name category_code     status  \\\n",
       "0              1.0                      wetpaint           WEB  operating   \n",
       "63280          2.0                     adventnet    ENTERPRISE  operating   \n",
       "153920         3.0                          zoho      SOFTWARE  operating   \n",
       "165415         4.0                          digg          NEWS   acquired   \n",
       "217293         5.0                     socialnet        SOCIAL        ipo   \n",
       "...            ...                           ...           ...        ...   \n",
       "152350    286210.0  lg electronics north america           NaN  operating   \n",
       "152351    286211.0       m1 capital advisors llc           NaN  operating   \n",
       "152352    286212.0                   m1 partners           NaN  operating   \n",
       "152353    286213.0            computer solutions           NaN  operating   \n",
       "152354    286215.0       the betty mills company     ECOMMERCE  operating   \n",
       "\n",
       "       founded_at closed_at            domain network_username country_code  \\\n",
       "0      2005-10-17       NaT  wetpaint-inc.com  bachelrwetpaint          USA   \n",
       "63280  1996-01-01       NaT     adventnet.com     manageengine          USA   \n",
       "153920 2005-09-15       NaT          zoho.com             zoho          USA   \n",
       "165415 2004-10-11       NaT          digg.com             digg          USA   \n",
       "217293 2004-02-01       NaT     socialnet.com        socialnet          USA   \n",
       "...           ...       ...               ...              ...          ...   \n",
       "152350        NaT       NaT               NaN              NaN          NaN   \n",
       "152351        NaT       NaT               NaN              NaN          NaN   \n",
       "152352        NaT       NaT               NaN              NaN          NaN   \n",
       "152353        NaT       NaT               NaN              NaN          NaN   \n",
       "152354        NaT       NaT    bettymills.com              NaN          USA   \n",
       "\n",
       "        investment_rounds  funding_rounds  funding_total  milestones  \n",
       "0                     0.0             3.0   3.975000e+07         5.0  \n",
       "63280                 0.0             0.0   0.000000e+00         0.0  \n",
       "153920                0.0             0.0   0.000000e+00         5.0  \n",
       "165415                0.0             4.0   4.500000e+07         8.0  \n",
       "217293                3.0            11.0   2.425700e+09         5.0  \n",
       "...                   ...             ...            ...         ...  \n",
       "152350                0.0             0.0   0.000000e+00         1.0  \n",
       "152351                0.0             0.0   0.000000e+00         0.0  \n",
       "152352                0.0             0.0   0.000000e+00         0.0  \n",
       "152353                0.0             0.0   0.000000e+00         0.0  \n",
       "152354                0.0             1.0   2.712500e+05         0.0  \n",
       "\n",
       "[196553 rows x 13 columns]"
      ]
     },
     "execution_count": 80,
     "metadata": {},
     "output_type": "execute_result"
    }
   ],
   "source": [
    "#\n",
    "rounds_funding.drop_duplicates()"
   ]
  },
  {
   "cell_type": "code",
   "execution_count": 81,
   "metadata": {},
   "outputs": [],
   "source": [
    "# запишем датасет в новую переменную для дальнейшего анализа \n",
    "company_actual = rounds_funding"
   ]
  },
  {
   "cell_type": "markdown",
   "metadata": {},
   "source": [
    "Подведем итоги: в ходе подготовки датасета, были оставлены данные только о финансировании и компания, датасет отсортирован по id компании и отражает этапы финансирования. Названия столбцов приведены к snake_case. Удалены полные дубликаты. Остальные данные оставлены, чтобы сохранить максимально полный датасет, но были удалены пропуски по всем данным, по company_id, т.к. эти данные не смогли бы использовать."
   ]
  },
  {
   "cell_type": "markdown",
   "metadata": {
    "id": "bmVYhphNrJg2"
   },
   "source": [
    "\n",
    "## Шаг 3. Исследовательский анализ объединённых таблиц\n",
    "\n",
    "<big>Приступите к шагу 3 после проверки ревьюера.</big>"
   ]
  },
  {
   "cell_type": "markdown",
   "metadata": {
    "id": "3Di6tCT3rJg2"
   },
   "source": [
    "\n",
    "### 3.1. Объединение данных\n",
    "\n",
    "Объедините данные для ответа на вопросы заказчика, которые касаются интересующих его компаний.\n",
    "\n",
    "В качестве основы для объединённой таблицы возьмите данные из обработанного датасета `company_and_rounds.csv` — выберите только те компании, у которых указаны значения `funding_rounds` или `investment_rounds` больше нуля, и те, у которых в колонке `status` указано `acquired`.\n",
    "\n",
    "Далее работайте только с этими данными."
   ]
  },
  {
   "cell_type": "code",
   "execution_count": 82,
   "metadata": {
    "id": "vJZ4mO2Un1yt"
   },
   "outputs": [],
   "source": [
    "# создадим актуальный датасет, где funding_rounds или investment_rounds больше нуля\n",
    "df_actual = company_actual[(company_actual['funding_rounds'] > 0) | \n",
    "                           (company_actual['investment_rounds'] > 0) | \n",
    "                           (company_actual['status'] == 'acquired')]\n"
   ]
  },
  {
   "cell_type": "code",
   "execution_count": 83,
   "metadata": {
    "scrolled": true
   },
   "outputs": [
    {
     "data": {
      "text/html": [
       "<div>\n",
       "<style scoped>\n",
       "    .dataframe tbody tr th:only-of-type {\n",
       "        vertical-align: middle;\n",
       "    }\n",
       "\n",
       "    .dataframe tbody tr th {\n",
       "        vertical-align: top;\n",
       "    }\n",
       "\n",
       "    .dataframe thead th {\n",
       "        text-align: right;\n",
       "    }\n",
       "</style>\n",
       "<table border=\"1\" class=\"dataframe\">\n",
       "  <thead>\n",
       "    <tr style=\"text-align: right;\">\n",
       "      <th></th>\n",
       "      <th>company_ID</th>\n",
       "      <th>name</th>\n",
       "      <th>category_code</th>\n",
       "      <th>status</th>\n",
       "      <th>founded_at</th>\n",
       "      <th>closed_at</th>\n",
       "      <th>domain</th>\n",
       "      <th>network_username</th>\n",
       "      <th>country_code</th>\n",
       "      <th>investment_rounds</th>\n",
       "      <th>funding_rounds</th>\n",
       "      <th>funding_total</th>\n",
       "      <th>milestones</th>\n",
       "    </tr>\n",
       "  </thead>\n",
       "  <tbody>\n",
       "    <tr>\n",
       "      <th>0</th>\n",
       "      <td>1.0</td>\n",
       "      <td>wetpaint</td>\n",
       "      <td>WEB</td>\n",
       "      <td>operating</td>\n",
       "      <td>2005-10-17</td>\n",
       "      <td>NaT</td>\n",
       "      <td>wetpaint-inc.com</td>\n",
       "      <td>bachelrwetpaint</td>\n",
       "      <td>USA</td>\n",
       "      <td>0.0</td>\n",
       "      <td>3.0</td>\n",
       "      <td>39750000.0</td>\n",
       "      <td>5.0</td>\n",
       "    </tr>\n",
       "    <tr>\n",
       "      <th>1</th>\n",
       "      <td>1.0</td>\n",
       "      <td>wetpaint</td>\n",
       "      <td>WEB</td>\n",
       "      <td>operating</td>\n",
       "      <td>2005-10-17</td>\n",
       "      <td>NaT</td>\n",
       "      <td>wetpaint-inc.com</td>\n",
       "      <td>bachelrwetpaint</td>\n",
       "      <td>USA</td>\n",
       "      <td>0.0</td>\n",
       "      <td>3.0</td>\n",
       "      <td>39750000.0</td>\n",
       "      <td>5.0</td>\n",
       "    </tr>\n",
       "    <tr>\n",
       "      <th>2</th>\n",
       "      <td>1.0</td>\n",
       "      <td>wetpaint</td>\n",
       "      <td>WEB</td>\n",
       "      <td>operating</td>\n",
       "      <td>2005-10-17</td>\n",
       "      <td>NaT</td>\n",
       "      <td>wetpaint-inc.com</td>\n",
       "      <td>bachelrwetpaint</td>\n",
       "      <td>USA</td>\n",
       "      <td>0.0</td>\n",
       "      <td>3.0</td>\n",
       "      <td>39750000.0</td>\n",
       "      <td>5.0</td>\n",
       "    </tr>\n",
       "    <tr>\n",
       "      <th>165415</th>\n",
       "      <td>4.0</td>\n",
       "      <td>digg</td>\n",
       "      <td>NEWS</td>\n",
       "      <td>acquired</td>\n",
       "      <td>2004-10-11</td>\n",
       "      <td>NaT</td>\n",
       "      <td>digg.com</td>\n",
       "      <td>digg</td>\n",
       "      <td>USA</td>\n",
       "      <td>0.0</td>\n",
       "      <td>4.0</td>\n",
       "      <td>45000000.0</td>\n",
       "      <td>8.0</td>\n",
       "    </tr>\n",
       "    <tr>\n",
       "      <th>165414</th>\n",
       "      <td>4.0</td>\n",
       "      <td>digg</td>\n",
       "      <td>NEWS</td>\n",
       "      <td>acquired</td>\n",
       "      <td>2004-10-11</td>\n",
       "      <td>NaT</td>\n",
       "      <td>digg.com</td>\n",
       "      <td>digg</td>\n",
       "      <td>USA</td>\n",
       "      <td>0.0</td>\n",
       "      <td>4.0</td>\n",
       "      <td>45000000.0</td>\n",
       "      <td>8.0</td>\n",
       "    </tr>\n",
       "  </tbody>\n",
       "</table>\n",
       "</div>"
      ],
      "text/plain": [
       "        company_ID      name category_code     status founded_at closed_at  \\\n",
       "0              1.0  wetpaint           WEB  operating 2005-10-17       NaT   \n",
       "1              1.0  wetpaint           WEB  operating 2005-10-17       NaT   \n",
       "2              1.0  wetpaint           WEB  operating 2005-10-17       NaT   \n",
       "165415         4.0      digg          NEWS   acquired 2004-10-11       NaT   \n",
       "165414         4.0      digg          NEWS   acquired 2004-10-11       NaT   \n",
       "\n",
       "                  domain network_username country_code  investment_rounds  \\\n",
       "0       wetpaint-inc.com  bachelrwetpaint          USA                0.0   \n",
       "1       wetpaint-inc.com  bachelrwetpaint          USA                0.0   \n",
       "2       wetpaint-inc.com  bachelrwetpaint          USA                0.0   \n",
       "165415          digg.com             digg          USA                0.0   \n",
       "165414          digg.com             digg          USA                0.0   \n",
       "\n",
       "        funding_rounds  funding_total  milestones  \n",
       "0                  3.0     39750000.0         5.0  \n",
       "1                  3.0     39750000.0         5.0  \n",
       "2                  3.0     39750000.0         5.0  \n",
       "165415             4.0     45000000.0         8.0  \n",
       "165414             4.0     45000000.0         8.0  "
      ]
     },
     "execution_count": 83,
     "metadata": {},
     "output_type": "execute_result"
    }
   ],
   "source": [
    "# проверим новый датасет:\n",
    "df_actual.head()"
   ]
  },
  {
   "cell_type": "code",
   "execution_count": 84,
   "metadata": {},
   "outputs": [
    {
     "name": "stdout",
     "output_type": "stream",
     "text": [
      "<class 'pandas.core.frame.DataFrame'>\n",
      "Int64Index: 61666 entries, 0 to 152354\n",
      "Data columns (total 13 columns):\n",
      " #   Column             Non-Null Count  Dtype         \n",
      "---  ------             --------------  -----         \n",
      " 0   company_ID         61666 non-null  float64       \n",
      " 1   name               61666 non-null  object        \n",
      " 2   category_code      56015 non-null  object        \n",
      " 3   status             61666 non-null  object        \n",
      " 4   founded_at         46536 non-null  datetime64[ns]\n",
      " 5   closed_at          2957 non-null   datetime64[ns]\n",
      " 6   domain             56368 non-null  object        \n",
      " 7   network_username   35793 non-null  object        \n",
      " 8   country_code       55359 non-null  object        \n",
      " 9   investment_rounds  61666 non-null  float64       \n",
      " 10  funding_rounds     61666 non-null  float64       \n",
      " 11  funding_total      61666 non-null  float64       \n",
      " 12  milestones         61666 non-null  float64       \n",
      "dtypes: datetime64[ns](2), float64(5), object(6)\n",
      "memory usage: 6.6+ MB\n"
     ]
    }
   ],
   "source": [
    "df_actual.info()"
   ]
  },
  {
   "cell_type": "markdown",
   "metadata": {},
   "source": [
    "Датасет приведен к формату который нужен заказчику, можно продолжить анализ."
   ]
  },
  {
   "cell_type": "markdown",
   "metadata": {
    "id": "DFHINkV3rJg2"
   },
   "source": [
    "\n",
    "### 3.2. Анализ выбросов\n",
    "\n",
    "Заказчика интересует обычный для рассматриваемого периода размер средств, который предоставлялся компаниям.\n",
    "\n",
    "* По предобработанному столбцу `funding_total` графическим способом оцените, какой размер общего финансирования для одной компании будет типичным, а какой — выбивающимся.\n",
    "\n",
    "* В процессе расчёта значений обратите внимание, например, на показатели, возвращаемые методом `.describe()`, — объясните их. Применимы ли к таким данным обычные способы нахождения типичных значений?"
   ]
  },
  {
   "cell_type": "code",
   "execution_count": 85,
   "metadata": {},
   "outputs": [],
   "source": [
    "# выведем статистические показатели для столбца funding total\n",
    "funding_descr = df_actual['funding_total'].describe()"
   ]
  },
  {
   "cell_type": "code",
   "execution_count": 86,
   "metadata": {},
   "outputs": [
    {
     "data": {
      "text/plain": [
       "count    6.166600e+04\n",
       "mean     2.114623e+07\n",
       "std      9.013045e+07\n",
       "min      0.000000e+00\n",
       "25%      6.000000e+04\n",
       "50%      2.490000e+06\n",
       "75%      1.594880e+07\n",
       "max      5.700000e+09\n",
       "Name: funding_total, dtype: float64"
      ]
     },
     "execution_count": 86,
     "metadata": {},
     "output_type": "execute_result"
    }
   ],
   "source": [
    "funding_descr"
   ]
  },
  {
   "cell_type": "markdown",
   "metadata": {},
   "source": [
    "Средняя сумма равна ~ 2,1 мл., а медианное значение равно ~ 2,5, что незначительно отличается от среднего. Это говорит о том, что в данных распределение близко к нормальному. Но стандарное отклонение в 9 мл. говорит о том, что данные имеют большой разброс минимальных и максимальных значений от среднего."
   ]
  },
  {
   "cell_type": "markdown",
   "metadata": {
    "id": "8jm75fKXrJg2"
   },
   "source": [
    "Для оценки типичный суммы финансирования для одной компании построем гистограмму:\n"
   ]
  },
  {
   "cell_type": "code",
   "execution_count": 87,
   "metadata": {
    "id": "dIWqyEomn2MU"
   },
   "outputs": [
    {
     "data": {
      "image/png": "[encoded data removed]",
      "text/plain": [
       "<Figure size 720x360 with 1 Axes>"
      ]
     },
     "metadata": {
      "needs_background": "light"
     },
     "output_type": "display_data"
    }
   ],
   "source": [
    "# Строим гистограмму распределения посадочных мест\n",
    "df_actual['funding_total'].sort_values(ascending=False).plot(\n",
    "                kind='hist',\n",
    "                bins=8,\n",
    "                alpha=0.75,\n",
    "                edgecolor='black',\n",
    "                rot=0,\n",
    "                figsize=(10, 5),\n",
    "                grid=True\n",
    ")\n",
    "\n",
    "# Настраиваем оформление графика\n",
    "plt.title('Распределение сумм финансирования для одной компании ')\n",
    "plt.xlabel('Сумма финансирования')\n",
    "plt.ylabel('Частота')\n",
    "\n",
    "# Выводим график\n",
    "plt.show()"
   ]
  },
  {
   "cell_type": "markdown",
   "metadata": {},
   "source": [
    "Видно, что гистограмма имеет смещение в левую сторону и хвост в правой, что говорит об аномально низких значениях для эти данных. Посмотрим на гистограмму \"сверху\" - для этого построим диаграмму размаха."
   ]
  },
  {
   "cell_type": "code",
   "execution_count": 88,
   "metadata": {},
   "outputs": [
    {
     "data": {
      "image/png": "[encoded data removed]",
      "text/plain": [
       "<Figure size 864x288 with 1 Axes>"
      ]
     },
     "metadata": {
      "needs_background": "light"
     },
     "output_type": "display_data"
    }
   ],
   "source": [
    "# Создаём контейнер графика matplotlib и задаём его размер\n",
    "plt.figure(figsize=(12, 4))\n",
    "\n",
    "# Строим диаграмму размаха значений в столбце balance\n",
    "df_actual.boxplot(column='funding_total', vert=False)\n",
    "\n",
    "# Добавляем заголовок и метки оси\n",
    "plt.title('Распределение сумм финансирования')\n",
    "plt.xlabel('Сумма финансирования')\n",
    "\n",
    "# Выводим график\n",
    "plt.show()"
   ]
  },
  {
   "cell_type": "markdown",
   "metadata": {},
   "source": [
    "Нормальными для этих данных судя по диаграмме размаха, будут положительные значения около нуля, остальная часть данных судя по диаграмме - это выбросы. "
   ]
  },
  {
   "cell_type": "markdown",
   "metadata": {
    "id": "JqkRAQrIrJg2"
   },
   "source": [
    "\n",
    "### 3.3. Куплены забесплатно?\n",
    "\n",
    "* Исследуйте компании, которые были проданы за ноль или за один доллар, и при этом известно, что у них был ненулевой общий объём финансирования.\n",
    "\n",
    "* Рассчитайте аналитически верхнюю и нижнюю границу выбросов для столбца `funding_total` и укажите, каким процентилям границы соответствуют. Учитывая озвученные выше предпосылки и собственные соображения, сделайте выводы о корректности планируемой заказчиком замены нижней и верхней границы выбросов на значения, рассчитанные по процентилям."
   ]
  },
  {
   "cell_type": "markdown",
   "metadata": {},
   "source": [
    "Для того чтобы исследовать компании, которые были проданы за 0 или 1 доллар, нужно отфильтровать данные: "
   ]
  },
  {
   "cell_type": "code",
   "execution_count": 89,
   "metadata": {},
   "outputs": [],
   "source": [
    "new_acquisition_df = acquisition_df.merge(company_df, left_on='acquired_company_id', right_on='company_ID', how='left')"
   ]
  },
  {
   "cell_type": "code",
   "execution_count": 90,
   "metadata": {},
   "outputs": [],
   "source": [
    "new_acquisition_df = new_acquisition_df[(new_acquisition_df['price_amount'] == 0) | (new_acquisition_df['price_amount'] == 1)]"
   ]
  },
  {
   "cell_type": "code",
   "execution_count": 91,
   "metadata": {},
   "outputs": [],
   "source": [
    "new_acquisition_df = new_acquisition_df[(new_acquisition_df['funding_total'] != 0)]"
   ]
  },
  {
   "cell_type": "code",
   "execution_count": 92,
   "metadata": {},
   "outputs": [
    {
     "data": {
      "text/html": [
       "<div>\n",
       "<style scoped>\n",
       "    .dataframe tbody tr th:only-of-type {\n",
       "        vertical-align: middle;\n",
       "    }\n",
       "\n",
       "    .dataframe tbody tr th {\n",
       "        vertical-align: top;\n",
       "    }\n",
       "\n",
       "    .dataframe thead th {\n",
       "        text-align: right;\n",
       "    }\n",
       "</style>\n",
       "<table border=\"1\" class=\"dataframe\">\n",
       "  <thead>\n",
       "    <tr style=\"text-align: right;\">\n",
       "      <th></th>\n",
       "      <th>id</th>\n",
       "      <th>acquiring_company_id</th>\n",
       "      <th>acquired_company_id</th>\n",
       "      <th>term_code</th>\n",
       "      <th>price_amount</th>\n",
       "      <th>acquired_at</th>\n",
       "      <th>company_ID</th>\n",
       "      <th>name</th>\n",
       "      <th>category_code</th>\n",
       "      <th>status</th>\n",
       "      <th>...</th>\n",
       "      <th>funding_round_id</th>\n",
       "      <th>company_id</th>\n",
       "      <th>funded_at</th>\n",
       "      <th>funding_round_type</th>\n",
       "      <th>raised_amount</th>\n",
       "      <th>pre_money_valuation</th>\n",
       "      <th>participants</th>\n",
       "      <th>is_first_round</th>\n",
       "      <th>is_last_round</th>\n",
       "      <th>year_of_funded</th>\n",
       "    </tr>\n",
       "  </thead>\n",
       "  <tbody>\n",
       "    <tr>\n",
       "      <th>8</th>\n",
       "      <td>14</td>\n",
       "      <td>318</td>\n",
       "      <td>314</td>\n",
       "      <td>cash</td>\n",
       "      <td>0</td>\n",
       "      <td>2006-10-01</td>\n",
       "      <td>314.0</td>\n",
       "      <td>reddit</td>\n",
       "      <td>WEB</td>\n",
       "      <td>acquired</td>\n",
       "      <td>...</td>\n",
       "      <td>266.0</td>\n",
       "      <td>314.0</td>\n",
       "      <td>2005-06-01</td>\n",
       "      <td>ANGEL</td>\n",
       "      <td>100000.0</td>\n",
       "      <td>0.0</td>\n",
       "      <td>1.0</td>\n",
       "      <td>1.0</td>\n",
       "      <td>1.0</td>\n",
       "      <td>2005</td>\n",
       "    </tr>\n",
       "    <tr>\n",
       "      <th>56</th>\n",
       "      <td>65</td>\n",
       "      <td>146</td>\n",
       "      <td>698</td>\n",
       "      <td>cash</td>\n",
       "      <td>0</td>\n",
       "      <td>2007-08-01</td>\n",
       "      <td>698.0</td>\n",
       "      <td>maya's mom</td>\n",
       "      <td>WEB</td>\n",
       "      <td>acquired</td>\n",
       "      <td>...</td>\n",
       "      <td>544.0</td>\n",
       "      <td>698.0</td>\n",
       "      <td>2006-10-27</td>\n",
       "      <td>ANGEL</td>\n",
       "      <td>1000000.0</td>\n",
       "      <td>0.0</td>\n",
       "      <td>7.0</td>\n",
       "      <td>1.0</td>\n",
       "      <td>1.0</td>\n",
       "      <td>2006</td>\n",
       "    </tr>\n",
       "    <tr>\n",
       "      <th>58</th>\n",
       "      <td>67</td>\n",
       "      <td>156</td>\n",
       "      <td>718</td>\n",
       "      <td>cash</td>\n",
       "      <td>0</td>\n",
       "      <td>2007-08-01</td>\n",
       "      <td>718.0</td>\n",
       "      <td>glimpse</td>\n",
       "      <td>ECOMMERCE</td>\n",
       "      <td>acquired</td>\n",
       "      <td>...</td>\n",
       "      <td>564.0</td>\n",
       "      <td>718.0</td>\n",
       "      <td>2006-01-01</td>\n",
       "      <td>SERIES-A</td>\n",
       "      <td>4000000.0</td>\n",
       "      <td>0.0</td>\n",
       "      <td>2.0</td>\n",
       "      <td>1.0</td>\n",
       "      <td>1.0</td>\n",
       "      <td>2006</td>\n",
       "    </tr>\n",
       "    <tr>\n",
       "      <th>76</th>\n",
       "      <td>87</td>\n",
       "      <td>1035</td>\n",
       "      <td>175</td>\n",
       "      <td>cash</td>\n",
       "      <td>0</td>\n",
       "      <td>2007-10-01</td>\n",
       "      <td>175.0</td>\n",
       "      <td>newsvine</td>\n",
       "      <td>WEB</td>\n",
       "      <td>acquired</td>\n",
       "      <td>...</td>\n",
       "      <td>160.0</td>\n",
       "      <td>175.0</td>\n",
       "      <td>2005-07-01</td>\n",
       "      <td>SERIES-A</td>\n",
       "      <td>1250000.0</td>\n",
       "      <td>0.0</td>\n",
       "      <td>1.0</td>\n",
       "      <td>1.0</td>\n",
       "      <td>1.0</td>\n",
       "      <td>2005</td>\n",
       "    </tr>\n",
       "    <tr>\n",
       "      <th>100</th>\n",
       "      <td>115</td>\n",
       "      <td>396</td>\n",
       "      <td>1582</td>\n",
       "      <td>cash</td>\n",
       "      <td>0</td>\n",
       "      <td>2007-12-01</td>\n",
       "      <td>1582.0</td>\n",
       "      <td>beliefnet</td>\n",
       "      <td>WEB</td>\n",
       "      <td>acquired</td>\n",
       "      <td>...</td>\n",
       "      <td>1270.0</td>\n",
       "      <td>1582.0</td>\n",
       "      <td>2005-06-01</td>\n",
       "      <td>SERIES-A</td>\n",
       "      <td>7000000.0</td>\n",
       "      <td>0.0</td>\n",
       "      <td>1.0</td>\n",
       "      <td>1.0</td>\n",
       "      <td>1.0</td>\n",
       "      <td>2005</td>\n",
       "    </tr>\n",
       "    <tr>\n",
       "      <th>124</th>\n",
       "      <td>132</td>\n",
       "      <td>59</td>\n",
       "      <td>49</td>\n",
       "      <td>NaN</td>\n",
       "      <td>0</td>\n",
       "      <td>2006-10-31</td>\n",
       "      <td>49.0</td>\n",
       "      <td>jotspot</td>\n",
       "      <td>WEB</td>\n",
       "      <td>acquired</td>\n",
       "      <td>...</td>\n",
       "      <td>427.0</td>\n",
       "      <td>49.0</td>\n",
       "      <td>2004-08-01</td>\n",
       "      <td>SERIES-A</td>\n",
       "      <td>5200000.0</td>\n",
       "      <td>0.0</td>\n",
       "      <td>2.0</td>\n",
       "      <td>1.0</td>\n",
       "      <td>1.0</td>\n",
       "      <td>2004</td>\n",
       "    </tr>\n",
       "    <tr>\n",
       "      <th>166</th>\n",
       "      <td>179</td>\n",
       "      <td>2618</td>\n",
       "      <td>2619</td>\n",
       "      <td>cash</td>\n",
       "      <td>0</td>\n",
       "      <td>2007-05-01</td>\n",
       "      <td>NaN</td>\n",
       "      <td>NaN</td>\n",
       "      <td>NaN</td>\n",
       "      <td>NaN</td>\n",
       "      <td>...</td>\n",
       "      <td>NaN</td>\n",
       "      <td>NaN</td>\n",
       "      <td>NaT</td>\n",
       "      <td>NaN</td>\n",
       "      <td>NaN</td>\n",
       "      <td>NaN</td>\n",
       "      <td>NaN</td>\n",
       "      <td>NaN</td>\n",
       "      <td>NaN</td>\n",
       "      <td>NaT</td>\n",
       "    </tr>\n",
       "  </tbody>\n",
       "</table>\n",
       "<p>7 rows × 29 columns</p>\n",
       "</div>"
      ],
      "text/plain": [
       "      id  acquiring_company_id  acquired_company_id term_code  price_amount  \\\n",
       "8     14                   318                  314      cash             0   \n",
       "56    65                   146                  698      cash             0   \n",
       "58    67                   156                  718      cash             0   \n",
       "76    87                  1035                  175      cash             0   \n",
       "100  115                   396                 1582      cash             0   \n",
       "124  132                    59                   49       NaN             0   \n",
       "166  179                  2618                 2619      cash             0   \n",
       "\n",
       "    acquired_at  company_ID        name category_code    status  ...  \\\n",
       "8    2006-10-01       314.0      reddit           WEB  acquired  ...   \n",
       "56   2007-08-01       698.0  maya's mom           WEB  acquired  ...   \n",
       "58   2007-08-01       718.0     glimpse     ECOMMERCE  acquired  ...   \n",
       "76   2007-10-01       175.0    newsvine           WEB  acquired  ...   \n",
       "100  2007-12-01      1582.0   beliefnet           WEB  acquired  ...   \n",
       "124  2006-10-31        49.0     jotspot           WEB  acquired  ...   \n",
       "166  2007-05-01         NaN         NaN           NaN       NaN  ...   \n",
       "\n",
       "    funding_round_id company_id  funded_at funding_round_type raised_amount  \\\n",
       "8              266.0      314.0 2005-06-01              ANGEL      100000.0   \n",
       "56             544.0      698.0 2006-10-27              ANGEL     1000000.0   \n",
       "58             564.0      718.0 2006-01-01           SERIES-A     4000000.0   \n",
       "76             160.0      175.0 2005-07-01           SERIES-A     1250000.0   \n",
       "100           1270.0     1582.0 2005-06-01           SERIES-A     7000000.0   \n",
       "124            427.0       49.0 2004-08-01           SERIES-A     5200000.0   \n",
       "166              NaN        NaN        NaT                NaN           NaN   \n",
       "\n",
       "     pre_money_valuation  participants  is_first_round  is_last_round  \\\n",
       "8                    0.0           1.0             1.0            1.0   \n",
       "56                   0.0           7.0             1.0            1.0   \n",
       "58                   0.0           2.0             1.0            1.0   \n",
       "76                   0.0           1.0             1.0            1.0   \n",
       "100                  0.0           1.0             1.0            1.0   \n",
       "124                  0.0           2.0             1.0            1.0   \n",
       "166                  NaN           NaN             NaN            NaN   \n",
       "\n",
       "     year_of_funded  \n",
       "8              2005  \n",
       "56             2006  \n",
       "58             2006  \n",
       "76             2005  \n",
       "100            2005  \n",
       "124            2004  \n",
       "166             NaT  \n",
       "\n",
       "[7 rows x 29 columns]"
      ]
     },
     "execution_count": 92,
     "metadata": {},
     "output_type": "execute_result"
    }
   ],
   "source": [
    "# выведем отфильтрованный датасет\n",
    "new_acquisition_df.head(7)"
   ]
  },
  {
   "cell_type": "markdown",
   "metadata": {},
   "source": [
    "Из данных можно сделать вывод, что за 0 в основном покупали закрытые компании, с маленьким объемом финасирования. В основном, это web компани. \n",
    "Стоит отметить, что в подобных случаях цена продажи за ноль или символическую сумму часто объясняется тем, что покупатель берет на себя обязательства по погашению долгов компании или иным обязательствам, что значительно уменьшает стоимость самой компании. \n",
    "Так же возможо, что такие покупки обусловлены сбоем в данных, т.к. покупались они за наличные и могу отсуствовать данные."
   ]
  },
  {
   "cell_type": "code",
   "execution_count": 93,
   "metadata": {
    "id": "wJHXCBwwrJg2"
   },
   "outputs": [
    {
     "name": "stdout",
     "output_type": "stream",
     "text": [
      "Верхний порог выбросов: 39782000.0\n",
      "Нижний порог выбросов: -23773200.0\n"
     ]
    }
   ],
   "source": [
    "# Вычисляем квартили Q1 и Q3\n",
    "Q1 = df_actual['funding_total'].quantile(0.25)\n",
    "Q3 = df_actual['funding_total'].quantile(0.75)\n",
    "\n",
    "# Вычисляем межквартильный размах IQR\n",
    "IQR = Q3 - Q1\n",
    "\n",
    "# Определяем верхний и нижний порог для выбросов\n",
    "upper_bound = Q3 + 1.5 * IQR\n",
    "\n",
    "down_bound = Q1 - 1.5 * IQR\n",
    "\n",
    "print(f'Верхний порог выбросов: {upper_bound}')\n",
    "print(f'Нижний порог выбросов: {down_bound}')"
   ]
  },
  {
   "cell_type": "markdown",
   "metadata": {
    "id": "-kA4CO27n2ql"
   },
   "source": [
    "По данным нижний порог выбросов получается отрицательный, но это неверно из диаграм выше можно сделать вывод, что нижний порог выбросов равен нулю, поэтому предлагаю считать его как 0."
   ]
  },
  {
   "cell_type": "code",
   "execution_count": 94,
   "metadata": {},
   "outputs": [
    {
     "name": "stdout",
     "output_type": "stream",
     "text": [
      "Процент отфильтрованных данных по верхней границе 12.81%\n"
     ]
    }
   ],
   "source": [
    "filtr_percentile = Q3 + 1.5 * IQR\n",
    "\n",
    "n = df_actual.shape[0]\n",
    "\n",
    "filtr_perc_df = df_actual.loc[df_actual['funding_total'] <= filtr_percentile]\n",
    "\n",
    "m = filtr_perc_df.shape[0]\n",
    "\n",
    "percentage = round((n - m) / n * 100, 2)\n",
    "\n",
    "print(f'Процент отфильтрованных данных по верхней границе {percentage}%')"
   ]
  },
  {
   "cell_type": "markdown",
   "metadata": {},
   "source": [
    "На основании предпосылок, что данные имеют асимметричное распределение, наличие выбросов и несбалансированность их количества на нижней и верхней границе, планируемая замена нижней и верхней границ выбросов на значения, рассчитанные по процентилям, кажется целесообразной. Это позволит более точно определить границы выбросов, учитывая особенности распределения данных."
   ]
  },
  {
   "cell_type": "markdown",
   "metadata": {
    "id": "mEiWpROjrJg2"
   },
   "source": [
    "\n",
    "### 3.4. Цены стартапов по категориям\n",
    "\n",
    "Категории стартапов с наибольшими ценами и значительным разбросом цен могут быть наиболее привлекательными для крупных инвесторов, которые готовы к высоким рискам ради потенциально больших доходов. Среди категорий стартапов выделите категории стартапов, характеризующиеся:\n",
    "\n",
    "* наибольшими ценами;\n",
    "* и наибольшим разбросом цен за стартап.\n",
    "\n",
    "Объясните, почему решили составить топ именно из такого числа категорий и почему рассчитывали именно так."
   ]
  },
  {
   "cell_type": "code",
   "execution_count": 95,
   "metadata": {
    "id": "jQ09dYUWrJg2"
   },
   "outputs": [
    {
     "data": {
      "image/png": "[encoded data removed]",
      "text/plain": [
       "<Figure size 720x1080 with 1 Axes>"
      ]
     },
     "metadata": {
      "needs_background": "light"
     },
     "output_type": "display_data"
    }
   ],
   "source": [
    "# Построим график столбчатой диаграммы\n",
    "df_actual.groupby('category_code')['funding_total'].median().sort_values(ascending=True).plot(\n",
    "    kind='barh',\n",
    "               title=f'Распределение сумм финансирования от категории',\n",
    "               legend=True,\n",
    "               ylabel='Типичная сумма финансирования',\n",
    "               xlabel='Категория стартапа',\n",
    "               rot=45,\n",
    "               figsize=(10, 15))\n",
    "plt.grid()\n",
    "\n",
    "# Выводим график\n",
    "plt.show()"
   ]
  },
  {
   "cell_type": "markdown",
   "metadata": {},
   "source": [
    "Самыми финансируемыми стартапами являются : nanotech, semiconductor, medical, cleantech и biotech. В эти стартапы охотно влкдывают деньги."
   ]
  },
  {
   "cell_type": "code",
   "execution_count": 96,
   "metadata": {},
   "outputs": [
    {
     "data": {
      "image/png": "[encoded data removed]",
      "text/plain": [
       "<Figure size 720x1080 with 1 Axes>"
      ]
     },
     "metadata": {
      "needs_background": "light"
     },
     "output_type": "display_data"
    }
   ],
   "source": [
    "# Построим график столбчатой диаграммы\n",
    "df_actual.groupby('category_code')['funding_total'].std().sort_values(ascending=True).plot(\n",
    "    kind='barh',\n",
    "               title=f'Распределение стандартного отклонения по категориям',\n",
    "               legend=True,\n",
    "               ylabel='Стандартное отклонение',\n",
    "               xlabel='Категория стартапа',\n",
    "               rot=45,\n",
    "               figsize=(10, 15))\n",
    "plt.grid()\n",
    "\n",
    "# Выводим график\n",
    "plt.show()"
   ]
  },
  {
   "cell_type": "markdown",
   "metadata": {
    "id": "MFONscXPn29F"
   },
   "source": [
    "Наибольшее стандартное отклонения в группе automotive, social, manufacturing, mobile  - это говорит о том, что суммы финансирования в этих категориях варируются от самых высоких, до самых низких. А самой стабильной категорией является sports."
   ]
  },
  {
   "cell_type": "markdown",
   "metadata": {
    "id": "ADOfyVY_rJg3"
   },
   "source": [
    "\n",
    "### 3.5. Сколько раундов продержится стартап перед покупкой\n",
    "\n",
    "* Необходимо проанализировать столбец `funding_rounds`. Исследуйте значения столбца. Заказчика интересует типичное значение количества раундов для каждого возможного статуса стартапа.\n",
    "\n",
    "* Постройте график, который отображает, сколько в среднем раундов финансирования проходило для стартапов из каждой группы. Сделайте выводы."
   ]
  },
  {
   "cell_type": "code",
   "execution_count": 97,
   "metadata": {
    "id": "hgXMPC4WrJg3"
   },
   "outputs": [
    {
     "data": {
      "text/plain": [
       "16"
      ]
     },
     "execution_count": 97,
     "metadata": {},
     "output_type": "execute_result"
    }
   ],
   "source": [
    "# Посмотрим на уникальные значения  столбца\n",
    "df_actual['funding_rounds'].nunique()\n"
   ]
  },
  {
   "cell_type": "markdown",
   "metadata": {},
   "source": [
    "Всего 13 уникальных значений раундов"
   ]
  },
  {
   "cell_type": "code",
   "execution_count": 98,
   "metadata": {},
   "outputs": [
    {
     "data": {
      "text/plain": [
       "array([ 3.,  4., 11.,  1.,  0.,  8.,  5.,  6.,  2.,  7.,  9., 10., 12.,\n",
       "       13., 14., 15.])"
      ]
     },
     "metadata": {},
     "output_type": "display_data"
    }
   ],
   "source": [
    "unique_raunds = df_actual['funding_rounds'].unique()\n",
    "display(unique_raunds)"
   ]
  },
  {
   "cell_type": "markdown",
   "metadata": {},
   "source": [
    "Раунды начинаются с 0, а заканчиваются 12. Итого всего 13 раундов."
   ]
  },
  {
   "cell_type": "code",
   "execution_count": 99,
   "metadata": {},
   "outputs": [],
   "source": [
    "# отфильтруем стартапы, у которых 0 раундов \n",
    "rounds_df = company_df[company_df['funding_rounds'] > 0]"
   ]
  },
  {
   "cell_type": "markdown",
   "metadata": {},
   "source": [
    "Разделим данные на группы по статусу стартапа и для каждой группы посчитать типичное значение количества раундов. Например, можно использовать метод groupby:"
   ]
  },
  {
   "cell_type": "code",
   "execution_count": 100,
   "metadata": {},
   "outputs": [],
   "source": [
    "# сгруппируем данные по статусу и найдем медианное кол-во раундов финансирования\n",
    "status_round_count = rounds_df.groupby('status')['funding_rounds'].median()\n"
   ]
  },
  {
   "cell_type": "code",
   "execution_count": 101,
   "metadata": {},
   "outputs": [
    {
     "data": {
      "text/plain": [
       "status\n",
       "acquired     2.0\n",
       "closed       1.0\n",
       "ipo          4.0\n",
       "operating    2.0\n",
       "Name: funding_rounds, dtype: float64"
      ]
     },
     "execution_count": 101,
     "metadata": {},
     "output_type": "execute_result"
    }
   ],
   "source": [
    "# выведем типичное кол-во раундов финансирования для каждого сстатуса компании\n",
    "status_round_count"
   ]
  },
  {
   "cell_type": "markdown",
   "metadata": {},
   "source": [
    "Всего в данных 4 статуса финансирования и типичными по кол-ву раундов для них являются: \n",
    "- acquired(приобретаемый) - 2\n",
    "- closed(закрытый) - 1\n",
    "- ipo(первичное публичное предложение) - 4\n",
    "- operating (действующий) - 2"
   ]
  },
  {
   "cell_type": "markdown",
   "metadata": {},
   "source": [
    "Исследуем распределение среднего кол-ва раундов в зависимости от статуса:"
   ]
  },
  {
   "cell_type": "code",
   "execution_count": 102,
   "metadata": {},
   "outputs": [
    {
     "data": {
      "image/png": "[encoded data removed]",
      "text/plain": [
       "<Figure size 864x360 with 1 Axes>"
      ]
     },
     "metadata": {
      "needs_background": "light"
     },
     "output_type": "display_data"
    }
   ],
   "source": [
    "# Построим график столбчатой диаграммы\n",
    "rounds_df.groupby('status')['funding_rounds'].mean().sort_values(ascending=False).plot(\n",
    "               kind='bar',\n",
    "               title=f'Распределение среднего кол-ва раундов по статусам',\n",
    "               legend=True,\n",
    "               ylabel='Среднее кол-во раундов',\n",
    "               xlabel='Статус стартапа',\n",
    "               rot=0,\n",
    "               figsize=(12, 5))\n",
    "plt.grid()\n",
    "\n",
    "# Выводим график\n",
    "plt.show()"
   ]
  },
  {
   "cell_type": "markdown",
   "metadata": {},
   "source": [
    "Итого больше всего раундов финансирования приходится на ipo, а на действующие стартапы приходится меньше всего раундов. Это очень логично, ведь впервые выложенные на фондовый рынок компании, больше всего привлекают средства."
   ]
  },
  {
   "cell_type": "markdown",
   "metadata": {
    "id": "VAFEZ2HBrJg3"
   },
   "source": [
    "\n",
    "## Шаг 4. Итоговый вывод и рекомендации\n",
    "\n",
    "Опишите, что было сделано в проекте, какие были сделаны выводы, подкрепляют ли они друг друга или заставляют сомневаться в полученных результатах."
   ]
  },
  {
   "cell_type": "markdown",
   "metadata": {},
   "source": [
    "Шаг 1. Знакомство с данными: загрузка и первичная предобработка\n",
    "1.1. Вывод общей информации, исправление названия столбцов\n",
    "\n",
    "Датасеты были созданны в новых переменных, о каждом датасете была выведена полная информация и первые строки, что помогла визуально оценить и подметить выводы для дальнейшей работы с данными. Также была проведена нормализация всех данных, т.е. столбцы были приведены к нижнему или верхнему регистру. После проверены на полные дубликаты. В итоге полных дубликатов ни в одном датасете обнаружено не было.\n",
    "\n",
    "1.2. Смена типов и анализ пропусков\n",
    "\n",
    "В ходе анализа пропусков в датасетах, было выявлено, что не все данные качественные, некоторые столбцы хранят много пропущенных значений. Так в датасете о компаниях и раундах финансирования, в информации о финансировании хранится значительно кол-во пропущенных значений. А датасеты об образовании и сотрудниках хранят достаточно много информации, но, к сожалению, имеют большое кол-во пропусков в данных о компаниях и соединить такие датасеты вместе будет проблематично.\n",
    "\n",
    "Шаг 2. Предобработка данных, предварительное исследование\n",
    "\n",
    "2.1. Раунды финансирования по годам\n",
    "\n",
    "На основании визуализации можно сделать вывод, что в 2005 году типичный размер финансирования для 1-го раунда был наибольше всего, но начиная с этого года тенденция к повышению размера финансирования падала, в то время как тенденция на кол-во раундов винансирования росла. Что каксается 2013 года, отмечается небольшой рост типичного размера финансирования. Динамика раундов финансирования в этом году достигла пика.\n",
    "\n",
    "2.2. Люди и их образование\n",
    "\n",
    "Пропуски об образовани распределены в кажно категории почти равномерно, больше всего выделяется категория микропредприятия, где работает малое кол-во человек, возможно там изначально нет информации об образовании сотрудников. Пропуски идут на снижение, чем крупнее предприятие, тем меньше пропусков в данных.\n",
    "\n",
    "Крупные стартапы       47.033898\n",
    "Малые стартапы         43.567568\n",
    "Масштабные стартапы    36.641221\n",
    "Микростартап           67.667845\n",
    "Средние стартапы       47.657791\n",
    "\n",
    "2.3. Объединять или не объединять — вот в чём вопрос\n",
    "\n",
    "Всего было посчитано 119849 уникальных значений после нормализации из 3 датасетов. Всего 0.01% оказалось значениями, которые есть в трех датасетах в этих столбцах. Можно сделать вывод, что объединить датасеты по столбцу network_username невозможно, т.к. очень мало данных пересекаются. Полученый датасет будет плохого качества.\n",
    "\n",
    "2.4. Проблемный датасет и причина возникновения пропусков\n",
    "\n",
    "В ходе подготовки датасета, были оставлены данные только о финансировании и компания, датасет отсортирован по id компании и отражает этапы финансирования. Названия столбцов приведены к snake_case. Удалены полные дубликаты. Остальные данные оставлены, чтобы сохранить максимально полный датасет, но были удалены пропуски по всем данным, по company_id, т.к. эти данные не смогли бы использовать.\n",
    "\n",
    "Шаг 3. Исследовательский анализ объединённых таблиц\n",
    "\n",
    "3.1. Объединение данных\n",
    "\n",
    "Датасет приведен к формату который нужен заказчику, можно продолжить анализ. В качестве основы для объединённой таблицы взяты данные из обработанного датасета company_and_rounds.csv — выбераны только те компании, у которых указаны значения funding_rounds или investment_rounds больше нуля, и те, у которых в колонке status указано acquired.\n",
    "\n",
    "3.2. Анализ выбросов \n",
    "\n",
    "Средняя сумма финансирования равна ~ 2,1 мл., а медианное значение равно ~ 2,5, что незначительно отличается от среднего. Это говорит о том, что в данных распределение близко к нормальному. Но стандарное отклонение в 9 мл. говорит о том, что данные имеют большой разброс минимальных и максимальных значений от среднего.\n",
    "Видно, что гистограмма имеет смещение в левую сторону и хвост в правой, что говорит об аномально низких значениях для эти данных. \n",
    "Нормальными для этих данных судя по диаграмме размаха, будут положительные значения около нуля, остальная часть данных судя по диаграмме - это выбросы.\n",
    "\n",
    "3.3. Куплены забесплатно?\n",
    "\n",
    "Из данных можно сделать вывод, что за 0 в основном покупали закрытые компании, с маленьким объемом финасирования. В основном, это web компани. Стоит отметить, что в подобных случаях цена продажи за ноль или символическую сумму часто объясняется тем, что покупатель берет на себя обязательства по погашению долгов компании или иным обязательствам, что значительно уменьшает стоимость самой компании. Так же возможо, что такие покупки обусловлены сбоем в данных, т.к. покупались они за наличные и могу отсуствовать данные.\n",
    "\n",
    "Также были рассчитаны нижний и верхний порог выбросов:\n",
    "Верхний порог выбросов: 39782000.0\n",
    "Нижний порог выбросов: 0\n",
    "\n",
    "По данным нижний порог выбросов получается отрицательный, но это неверно из диаграм выше можно сделать вывод, что нижний порог выбросов равен нулю, поэтому предлагаю считать его как 0.\n",
    "\n",
    "Процент отфильтрованных данных по верхней границе 12.81%\n",
    "\n",
    "На основании предпосылок, что данные имеют асимметричное распределение, наличие выбросов и несбалансированность их количества на нижней и верхней границе, планируемая замена нижней и верхней границ выбросов на значения, рассчитанные по процентилям, кажется целесообразной. Это позволит более точно определить границы выбросов, учитывая особенности распределения данных.\n",
    "\n",
    "3.4. Цены стартапов по категориям\n",
    "\n",
    "Самыми финансируемыми стартапами являются : nanotech, semiconductor, medical, cleantech и biotech. В эти стартапы охотно влкдывают деньги.\n",
    "\n",
    "Наибольшее стандартное отклонения в группе automotive, social, manufacturing, mobile - это говорит о том, что суммы финансирования в этих категориях варируются от самых высоких, до самых низких. А самой стабильной категорией является sports.\n",
    "\n",
    "3.5. Сколько раундов продержится стартап перед покупкой\n",
    "\n",
    "Всего в данных 4 статуса финансирования и типичными по кол-ву раундов для них являются:\n",
    "\n",
    "acquired(приобретаемый) - 2\n",
    "closed(закрытый) - 1\n",
    "ipo(первичное публичное предложение) - 4\n",
    "operating (действующий) - 2\n",
    "\n",
    "Итого больше всего раундов финансирования приходится на ipo, а на действующие стартапы приходится меньше всего раундов. Это очень логично, ведь впервые выложенные на фондовый рынок компании, больше всего привлекают средства."
   ]
  },
  {
   "cell_type": "markdown",
   "metadata": {},
   "source": [
    "На основании представленных выводов, вот несколько рекомендаций для дальнейшей работы с данными и анализа:\n",
    "\n",
    "Для улучшения анализа данных и повышения его точности можно фильтровать данные по рассчитанным верхним и нижним границам выбросов. Также стоит исследовать альтернативные ключи для объединения датасетов и использовать внешние источники данных для дополнения информации о компаниях. Это обеспечит более полное представление о данных. Кроме того, следует изучить факторы успеха стартапов в популярных категориях, что поможет выявить потенциальные инвестиционные возможности. \n",
    "\n",
    "Не менее важным является использование разнообразных графических методов визуализации данных и создание интерактивных дашбордов для представления результатов анализа. Это сделает выводы более наглядными и понятными.\n"
   ]
  }
 ],
 "metadata": {
  "ExecuteTimeLog": [
   {
    "duration": 4887,
    "start_time": "2025-01-13T15:43:18.256Z"
   },
   {
    "duration": 3885,
    "start_time": "2025-01-13T15:46:14.072Z"
   },
   {
    "duration": 2634,
    "start_time": "2025-01-13T15:46:17.959Z"
   },
   {
    "duration": 14,
    "start_time": "2025-01-13T15:47:34.647Z"
   },
   {
    "duration": 12,
    "start_time": "2025-01-13T15:47:44.479Z"
   },
   {
    "duration": 82,
    "start_time": "2025-01-13T15:50:54.145Z"
   },
   {
    "duration": 21,
    "start_time": "2025-01-13T15:50:54.544Z"
   },
   {
    "duration": 19,
    "start_time": "2025-01-13T15:50:54.799Z"
   },
   {
    "duration": 8,
    "start_time": "2025-01-13T15:50:55.000Z"
   },
   {
    "duration": 19,
    "start_time": "2025-01-13T15:50:55.208Z"
   },
   {
    "duration": 8,
    "start_time": "2025-01-13T15:50:55.391Z"
   },
   {
    "duration": 16,
    "start_time": "2025-01-13T15:50:55.584Z"
   },
   {
    "duration": 9,
    "start_time": "2025-01-13T15:50:55.792Z"
   },
   {
    "duration": 9,
    "start_time": "2025-01-13T15:50:55.982Z"
   },
   {
    "duration": 7,
    "start_time": "2025-01-13T15:50:56.599Z"
   },
   {
    "duration": 32,
    "start_time": "2025-01-13T15:50:57.080Z"
   },
   {
    "duration": 9,
    "start_time": "2025-01-13T15:50:58.063Z"
   },
   {
    "duration": 24,
    "start_time": "2025-01-13T16:12:04.019Z"
   },
   {
    "duration": 21,
    "start_time": "2025-01-13T16:12:10.015Z"
   },
   {
    "duration": 3986,
    "start_time": "2025-01-13T16:49:19.618Z"
   },
   {
    "duration": 2360,
    "start_time": "2025-01-13T16:49:23.606Z"
   },
   {
    "duration": 13,
    "start_time": "2025-01-13T16:49:25.968Z"
   },
   {
    "duration": 13,
    "start_time": "2025-01-13T16:49:25.987Z"
   },
   {
    "duration": 98,
    "start_time": "2025-01-13T16:49:26.001Z"
   },
   {
    "duration": 22,
    "start_time": "2025-01-13T16:49:26.101Z"
   },
   {
    "duration": 20,
    "start_time": "2025-01-13T16:49:26.125Z"
   },
   {
    "duration": 7,
    "start_time": "2025-01-13T16:49:26.147Z"
   },
   {
    "duration": 46,
    "start_time": "2025-01-13T16:49:26.156Z"
   },
   {
    "duration": 6,
    "start_time": "2025-01-13T16:49:26.205Z"
   },
   {
    "duration": 34,
    "start_time": "2025-01-13T16:49:26.213Z"
   },
   {
    "duration": 8,
    "start_time": "2025-01-13T16:49:26.249Z"
   },
   {
    "duration": 7,
    "start_time": "2025-01-13T17:03:37.573Z"
   },
   {
    "duration": 11,
    "start_time": "2025-01-13T17:04:02.712Z"
   },
   {
    "duration": 9,
    "start_time": "2025-01-13T17:09:51.021Z"
   },
   {
    "duration": 1364,
    "start_time": "2025-01-13T17:14:18.468Z"
   },
   {
    "duration": 8,
    "start_time": "2025-01-13T17:14:29.756Z"
   },
   {
    "duration": 13,
    "start_time": "2025-01-13T17:14:34.495Z"
   },
   {
    "duration": 5,
    "start_time": "2025-01-13T17:14:57.901Z"
   },
   {
    "duration": 1402,
    "start_time": "2025-01-13T17:15:14.834Z"
   },
   {
    "duration": 1394,
    "start_time": "2025-01-13T17:16:07.493Z"
   },
   {
    "duration": 60,
    "start_time": "2025-01-13T17:16:17.799Z"
   },
   {
    "duration": 6,
    "start_time": "2025-01-13T17:16:31.862Z"
   },
   {
    "duration": 74,
    "start_time": "2025-01-13T17:16:43.323Z"
   },
   {
    "duration": 26,
    "start_time": "2025-01-13T17:18:23.652Z"
   },
   {
    "duration": 5,
    "start_time": "2025-01-13T17:18:35.492Z"
   },
   {
    "duration": 12,
    "start_time": "2025-01-13T17:20:38.405Z"
   },
   {
    "duration": 7,
    "start_time": "2025-01-13T17:31:22.234Z"
   },
   {
    "duration": 7,
    "start_time": "2025-01-13T17:31:36.091Z"
   },
   {
    "duration": 67,
    "start_time": "2025-01-13T17:36:33.667Z"
   },
   {
    "duration": 16,
    "start_time": "2025-01-13T17:36:36.113Z"
   },
   {
    "duration": 10,
    "start_time": "2025-01-13T17:36:37.739Z"
   },
   {
    "duration": 29,
    "start_time": "2025-01-13T17:36:39.347Z"
   },
   {
    "duration": 3,
    "start_time": "2025-01-13T17:45:23.383Z"
   },
   {
    "duration": 4,
    "start_time": "2025-01-13T17:45:46.411Z"
   },
   {
    "duration": 4,
    "start_time": "2025-01-13T17:45:55.474Z"
   },
   {
    "duration": 4,
    "start_time": "2025-01-13T17:45:56.944Z"
   },
   {
    "duration": 4,
    "start_time": "2025-01-13T17:46:06.730Z"
   },
   {
    "duration": 6,
    "start_time": "2025-01-13T17:46:07.204Z"
   },
   {
    "duration": 4,
    "start_time": "2025-01-13T17:46:54.690Z"
   },
   {
    "duration": 4,
    "start_time": "2025-01-13T17:46:55.170Z"
   },
   {
    "duration": 2,
    "start_time": "2025-01-13T17:47:06.706Z"
   },
   {
    "duration": 5,
    "start_time": "2025-01-13T17:47:07.274Z"
   },
   {
    "duration": 4,
    "start_time": "2025-01-13T17:47:10.129Z"
   },
   {
    "duration": 4,
    "start_time": "2025-01-13T17:47:10.634Z"
   },
   {
    "duration": 3927,
    "start_time": "2025-01-13T17:47:20.353Z"
   },
   {
    "duration": 1806,
    "start_time": "2025-01-13T17:47:24.282Z"
   },
   {
    "duration": 12,
    "start_time": "2025-01-13T17:47:26.090Z"
   },
   {
    "duration": 12,
    "start_time": "2025-01-13T17:47:26.104Z"
   },
   {
    "duration": 94,
    "start_time": "2025-01-13T17:47:26.117Z"
   },
   {
    "duration": 21,
    "start_time": "2025-01-13T17:47:26.213Z"
   },
   {
    "duration": 6,
    "start_time": "2025-01-13T17:47:26.236Z"
   },
   {
    "duration": 23,
    "start_time": "2025-01-13T17:47:26.243Z"
   },
   {
    "duration": 39,
    "start_time": "2025-01-13T17:47:26.268Z"
   },
   {
    "duration": 7,
    "start_time": "2025-01-13T17:47:26.310Z"
   },
   {
    "duration": 35,
    "start_time": "2025-01-13T17:47:26.318Z"
   },
   {
    "duration": 7,
    "start_time": "2025-01-13T17:47:26.355Z"
   },
   {
    "duration": 50,
    "start_time": "2025-01-13T17:47:26.364Z"
   },
   {
    "duration": 8,
    "start_time": "2025-01-13T17:47:26.415Z"
   },
   {
    "duration": 9,
    "start_time": "2025-01-13T17:47:26.424Z"
   },
   {
    "duration": 6,
    "start_time": "2025-01-13T17:47:26.486Z"
   },
   {
    "duration": 1676,
    "start_time": "2025-01-13T17:47:26.493Z"
   },
   {
    "duration": 0,
    "start_time": "2025-01-13T17:47:28.171Z"
   },
   {
    "duration": 0,
    "start_time": "2025-01-13T17:47:28.172Z"
   },
   {
    "duration": 0,
    "start_time": "2025-01-13T17:47:28.174Z"
   },
   {
    "duration": 0,
    "start_time": "2025-01-13T17:47:28.176Z"
   },
   {
    "duration": 0,
    "start_time": "2025-01-13T17:47:28.177Z"
   },
   {
    "duration": 0,
    "start_time": "2025-01-13T17:47:28.178Z"
   },
   {
    "duration": 0,
    "start_time": "2025-01-13T17:47:28.180Z"
   },
   {
    "duration": 0,
    "start_time": "2025-01-13T17:47:28.181Z"
   },
   {
    "duration": 0,
    "start_time": "2025-01-13T17:47:28.183Z"
   },
   {
    "duration": 107,
    "start_time": "2025-01-13T17:48:07.171Z"
   },
   {
    "duration": 6,
    "start_time": "2025-01-13T17:48:08.633Z"
   },
   {
    "duration": 25,
    "start_time": "2025-01-13T17:48:09.458Z"
   },
   {
    "duration": 6,
    "start_time": "2025-01-13T17:48:09.787Z"
   },
   {
    "duration": 10,
    "start_time": "2025-01-13T17:48:10.267Z"
   },
   {
    "duration": 82,
    "start_time": "2025-01-13T17:48:11.506Z"
   },
   {
    "duration": 18,
    "start_time": "2025-01-13T17:48:12.283Z"
   },
   {
    "duration": 11,
    "start_time": "2025-01-13T17:48:12.514Z"
   },
   {
    "duration": 32,
    "start_time": "2025-01-13T17:48:12.762Z"
   },
   {
    "duration": 16,
    "start_time": "2025-01-13T17:48:15.493Z"
   },
   {
    "duration": 15,
    "start_time": "2025-01-13T17:51:58.867Z"
   },
   {
    "duration": 21,
    "start_time": "2025-01-13T17:52:10.004Z"
   },
   {
    "duration": 18,
    "start_time": "2025-01-13T17:52:40.642Z"
   },
   {
    "duration": 22,
    "start_time": "2025-01-13T17:52:54.018Z"
   },
   {
    "duration": 10,
    "start_time": "2025-01-13T17:54:48.634Z"
   },
   {
    "duration": 23,
    "start_time": "2025-01-13T17:55:01.915Z"
   },
   {
    "duration": 18,
    "start_time": "2025-01-13T17:55:33.235Z"
   },
   {
    "duration": 17,
    "start_time": "2025-01-13T17:55:49.758Z"
   },
   {
    "duration": 19,
    "start_time": "2025-01-13T17:57:24.860Z"
   },
   {
    "duration": 30,
    "start_time": "2025-01-13T17:58:54.011Z"
   },
   {
    "duration": 33,
    "start_time": "2025-01-13T18:03:02.459Z"
   },
   {
    "duration": 38,
    "start_time": "2025-01-13T18:04:07.067Z"
   },
   {
    "duration": 9,
    "start_time": "2025-01-13T18:05:02.930Z"
   },
   {
    "duration": 42,
    "start_time": "2025-01-13T18:05:08.082Z"
   },
   {
    "duration": 37,
    "start_time": "2025-01-13T18:06:43.092Z"
   },
   {
    "duration": 33,
    "start_time": "2025-01-13T18:06:54.714Z"
   },
   {
    "duration": 31,
    "start_time": "2025-01-13T18:07:58.115Z"
   },
   {
    "duration": 1784,
    "start_time": "2025-01-13T18:10:05.211Z"
   },
   {
    "duration": 1220,
    "start_time": "2025-01-13T18:10:24.548Z"
   },
   {
    "duration": 1216,
    "start_time": "2025-01-13T18:11:24.099Z"
   },
   {
    "duration": 24,
    "start_time": "2025-01-13T18:15:31.842Z"
   },
   {
    "duration": 14,
    "start_time": "2025-01-13T18:17:00.211Z"
   },
   {
    "duration": 15,
    "start_time": "2025-01-13T18:17:29.026Z"
   },
   {
    "duration": 14,
    "start_time": "2025-01-13T18:18:16.234Z"
   },
   {
    "duration": 4028,
    "start_time": "2025-01-13T18:18:28.605Z"
   },
   {
    "duration": 2271,
    "start_time": "2025-01-13T18:18:32.635Z"
   },
   {
    "duration": 12,
    "start_time": "2025-01-13T18:18:34.908Z"
   },
   {
    "duration": 19,
    "start_time": "2025-01-13T18:18:34.922Z"
   },
   {
    "duration": 94,
    "start_time": "2025-01-13T18:18:34.942Z"
   },
   {
    "duration": 20,
    "start_time": "2025-01-13T18:18:35.038Z"
   },
   {
    "duration": 19,
    "start_time": "2025-01-13T18:18:35.060Z"
   },
   {
    "duration": 12,
    "start_time": "2025-01-13T18:18:35.080Z"
   },
   {
    "duration": 42,
    "start_time": "2025-01-13T18:18:35.093Z"
   },
   {
    "duration": 22,
    "start_time": "2025-01-13T18:18:35.138Z"
   },
   {
    "duration": 19,
    "start_time": "2025-01-13T18:18:35.161Z"
   },
   {
    "duration": 12,
    "start_time": "2025-01-13T18:18:35.181Z"
   },
   {
    "duration": 69,
    "start_time": "2025-01-13T18:18:35.194Z"
   },
   {
    "duration": 19,
    "start_time": "2025-01-13T18:18:35.265Z"
   },
   {
    "duration": 9,
    "start_time": "2025-01-13T18:18:35.285Z"
   },
   {
    "duration": 15,
    "start_time": "2025-01-13T18:18:35.295Z"
   },
   {
    "duration": 109,
    "start_time": "2025-01-13T18:18:35.311Z"
   },
   {
    "duration": 5,
    "start_time": "2025-01-13T18:18:35.422Z"
   },
   {
    "duration": 17,
    "start_time": "2025-01-13T18:18:35.428Z"
   },
   {
    "duration": 15,
    "start_time": "2025-01-13T18:18:35.446Z"
   },
   {
    "duration": 8,
    "start_time": "2025-01-13T18:18:35.462Z"
   },
   {
    "duration": 91,
    "start_time": "2025-01-13T18:18:35.471Z"
   },
   {
    "duration": 17,
    "start_time": "2025-01-13T18:18:35.564Z"
   },
   {
    "duration": 32,
    "start_time": "2025-01-13T18:18:35.583Z"
   },
   {
    "duration": 104,
    "start_time": "2025-01-13T18:18:35.617Z"
   },
   {
    "duration": 11,
    "start_time": "2025-01-13T18:18:35.722Z"
   },
   {
    "duration": 183,
    "start_time": "2025-01-13T18:18:35.735Z"
   },
   {
    "duration": 54,
    "start_time": "2025-01-13T18:20:01.804Z"
   },
   {
    "duration": 18,
    "start_time": "2025-01-13T18:22:16.524Z"
   },
   {
    "duration": 17,
    "start_time": "2025-01-13T18:23:55.836Z"
   },
   {
    "duration": 18,
    "start_time": "2025-01-13T18:24:11.194Z"
   },
   {
    "duration": 21,
    "start_time": "2025-01-13T18:26:39.914Z"
   },
   {
    "duration": 75,
    "start_time": "2025-01-13T18:31:59.826Z"
   },
   {
    "duration": 1510,
    "start_time": "2025-01-13T18:32:19.762Z"
   },
   {
    "duration": 9,
    "start_time": "2025-01-13T18:33:17.354Z"
   },
   {
    "duration": 8,
    "start_time": "2025-01-13T18:33:28.810Z"
   },
   {
    "duration": 8,
    "start_time": "2025-01-13T18:33:59.611Z"
   },
   {
    "duration": 4,
    "start_time": "2025-01-13T18:34:14.282Z"
   },
   {
    "duration": 155,
    "start_time": "2025-01-13T18:34:15.098Z"
   },
   {
    "duration": 1160,
    "start_time": "2025-01-13T18:34:39.194Z"
   },
   {
    "duration": 4,
    "start_time": "2025-01-13T18:34:51.161Z"
   },
   {
    "duration": 1132,
    "start_time": "2025-01-13T18:34:52.314Z"
   },
   {
    "duration": 135,
    "start_time": "2025-01-13T18:35:09.826Z"
   },
   {
    "duration": 229,
    "start_time": "2025-01-13T18:35:50.572Z"
   },
   {
    "duration": 158,
    "start_time": "2025-01-13T18:36:59.555Z"
   },
   {
    "duration": 158,
    "start_time": "2025-01-13T18:38:41.562Z"
   },
   {
    "duration": 157,
    "start_time": "2025-01-13T18:38:47.379Z"
   },
   {
    "duration": 231,
    "start_time": "2025-01-13T18:39:00.657Z"
   },
   {
    "duration": 5451,
    "start_time": "2025-01-14T14:51:35.800Z"
   },
   {
    "duration": 1989,
    "start_time": "2025-01-14T14:51:41.253Z"
   },
   {
    "duration": 12,
    "start_time": "2025-01-14T14:51:43.244Z"
   },
   {
    "duration": 12,
    "start_time": "2025-01-14T14:51:43.258Z"
   },
   {
    "duration": 92,
    "start_time": "2025-01-14T14:51:43.271Z"
   },
   {
    "duration": 30,
    "start_time": "2025-01-14T14:51:43.365Z"
   },
   {
    "duration": 4,
    "start_time": "2025-01-14T14:51:43.396Z"
   },
   {
    "duration": 8,
    "start_time": "2025-01-14T14:51:43.401Z"
   },
   {
    "duration": 20,
    "start_time": "2025-01-14T14:51:43.411Z"
   },
   {
    "duration": 7,
    "start_time": "2025-01-14T14:51:43.434Z"
   },
   {
    "duration": 44,
    "start_time": "2025-01-14T14:51:43.443Z"
   },
   {
    "duration": 7,
    "start_time": "2025-01-14T14:51:43.489Z"
   },
   {
    "duration": 47,
    "start_time": "2025-01-14T14:51:43.497Z"
   },
   {
    "duration": 7,
    "start_time": "2025-01-14T14:51:43.546Z"
   },
   {
    "duration": 10,
    "start_time": "2025-01-14T14:51:43.555Z"
   },
   {
    "duration": 17,
    "start_time": "2025-01-14T14:51:43.566Z"
   },
   {
    "duration": 120,
    "start_time": "2025-01-14T14:51:43.584Z"
   },
   {
    "duration": 5,
    "start_time": "2025-01-14T14:51:43.706Z"
   },
   {
    "duration": 18,
    "start_time": "2025-01-14T14:51:43.712Z"
   },
   {
    "duration": 7,
    "start_time": "2025-01-14T14:51:43.731Z"
   },
   {
    "duration": 11,
    "start_time": "2025-01-14T14:51:43.739Z"
   },
   {
    "duration": 77,
    "start_time": "2025-01-14T14:51:43.751Z"
   },
   {
    "duration": 15,
    "start_time": "2025-01-14T14:51:43.830Z"
   },
   {
    "duration": 9,
    "start_time": "2025-01-14T14:51:43.847Z"
   },
   {
    "duration": 40,
    "start_time": "2025-01-14T14:51:43.857Z"
   },
   {
    "duration": 16,
    "start_time": "2025-01-14T14:51:43.898Z"
   },
   {
    "duration": 20,
    "start_time": "2025-01-14T14:51:43.915Z"
   },
   {
    "duration": 3,
    "start_time": "2025-01-14T14:51:43.938Z"
   },
   {
    "duration": 191,
    "start_time": "2025-01-14T14:51:43.942Z"
   },
   {
    "duration": 155,
    "start_time": "2025-01-14T14:54:14.582Z"
   },
   {
    "duration": 185,
    "start_time": "2025-01-14T14:54:25.480Z"
   },
   {
    "duration": 167,
    "start_time": "2025-01-14T15:02:51.989Z"
   },
   {
    "duration": 157,
    "start_time": "2025-01-14T15:03:22.145Z"
   },
   {
    "duration": 166,
    "start_time": "2025-01-14T15:04:15.781Z"
   },
   {
    "duration": 164,
    "start_time": "2025-01-14T15:06:25.158Z"
   },
   {
    "duration": 165,
    "start_time": "2025-01-14T15:06:48.285Z"
   },
   {
    "duration": 124,
    "start_time": "2025-01-14T17:14:13.203Z"
   },
   {
    "duration": 47,
    "start_time": "2025-01-14T17:14:50.052Z"
   },
   {
    "duration": 85,
    "start_time": "2025-01-14T17:14:59.129Z"
   },
   {
    "duration": 59,
    "start_time": "2025-01-14T17:15:16.768Z"
   },
   {
    "duration": 12,
    "start_time": "2025-01-14T17:29:22.294Z"
   },
   {
    "duration": 14,
    "start_time": "2025-01-14T17:37:11.207Z"
   },
   {
    "duration": 74,
    "start_time": "2025-01-14T17:43:54.121Z"
   },
   {
    "duration": 13,
    "start_time": "2025-01-14T17:44:24.621Z"
   },
   {
    "duration": 3885,
    "start_time": "2025-01-14T17:44:42.333Z"
   },
   {
    "duration": 2193,
    "start_time": "2025-01-14T17:44:46.219Z"
   },
   {
    "duration": 11,
    "start_time": "2025-01-14T17:44:48.414Z"
   },
   {
    "duration": 13,
    "start_time": "2025-01-14T17:44:48.427Z"
   },
   {
    "duration": 100,
    "start_time": "2025-01-14T17:44:48.441Z"
   },
   {
    "duration": 20,
    "start_time": "2025-01-14T17:44:48.543Z"
   },
   {
    "duration": 4,
    "start_time": "2025-01-14T17:44:48.564Z"
   },
   {
    "duration": 19,
    "start_time": "2025-01-14T17:44:48.569Z"
   },
   {
    "duration": 20,
    "start_time": "2025-01-14T17:44:48.590Z"
   },
   {
    "duration": 7,
    "start_time": "2025-01-14T17:44:48.612Z"
   },
   {
    "duration": 16,
    "start_time": "2025-01-14T17:44:48.621Z"
   },
   {
    "duration": 8,
    "start_time": "2025-01-14T17:44:48.639Z"
   },
   {
    "duration": 59,
    "start_time": "2025-01-14T17:44:48.649Z"
   },
   {
    "duration": 8,
    "start_time": "2025-01-14T17:44:48.710Z"
   },
   {
    "duration": 6,
    "start_time": "2025-01-14T17:44:48.720Z"
   },
   {
    "duration": 9,
    "start_time": "2025-01-14T17:44:48.727Z"
   },
   {
    "duration": 111,
    "start_time": "2025-01-14T17:44:48.737Z"
   },
   {
    "duration": 6,
    "start_time": "2025-01-14T17:44:48.849Z"
   },
   {
    "duration": 30,
    "start_time": "2025-01-14T17:44:48.856Z"
   },
   {
    "duration": 5,
    "start_time": "2025-01-14T17:44:48.888Z"
   },
   {
    "duration": 9,
    "start_time": "2025-01-14T17:44:48.895Z"
   },
   {
    "duration": 88,
    "start_time": "2025-01-14T17:44:48.905Z"
   },
   {
    "duration": 18,
    "start_time": "2025-01-14T17:44:48.995Z"
   },
   {
    "duration": 11,
    "start_time": "2025-01-14T17:44:49.014Z"
   },
   {
    "duration": 29,
    "start_time": "2025-01-14T17:44:49.027Z"
   },
   {
    "duration": 37,
    "start_time": "2025-01-14T17:44:49.058Z"
   },
   {
    "duration": 21,
    "start_time": "2025-01-14T17:44:49.096Z"
   },
   {
    "duration": 3,
    "start_time": "2025-01-14T17:44:49.120Z"
   },
   {
    "duration": 205,
    "start_time": "2025-01-14T17:44:49.125Z"
   },
   {
    "duration": 143,
    "start_time": "2025-01-14T17:44:49.332Z"
   },
   {
    "duration": 0,
    "start_time": "2025-01-14T17:44:49.477Z"
   },
   {
    "duration": 14,
    "start_time": "2025-01-14T17:45:54.604Z"
   },
   {
    "duration": 3939,
    "start_time": "2025-01-14T18:01:50.554Z"
   },
   {
    "duration": 2336,
    "start_time": "2025-01-14T18:01:54.495Z"
   },
   {
    "duration": 12,
    "start_time": "2025-01-14T18:01:56.832Z"
   },
   {
    "duration": 12,
    "start_time": "2025-01-14T18:01:56.846Z"
   },
   {
    "duration": 102,
    "start_time": "2025-01-14T18:01:56.860Z"
   },
   {
    "duration": 38,
    "start_time": "2025-01-14T18:01:56.964Z"
   },
   {
    "duration": 20,
    "start_time": "2025-01-14T18:01:57.003Z"
   },
   {
    "duration": 6,
    "start_time": "2025-01-14T18:01:57.025Z"
   },
   {
    "duration": 16,
    "start_time": "2025-01-14T18:01:57.032Z"
   },
   {
    "duration": 6,
    "start_time": "2025-01-14T18:01:57.050Z"
   },
   {
    "duration": 60,
    "start_time": "2025-01-14T18:01:57.058Z"
   },
   {
    "duration": 7,
    "start_time": "2025-01-14T18:01:57.120Z"
   },
   {
    "duration": 13,
    "start_time": "2025-01-14T18:01:57.129Z"
   },
   {
    "duration": 5,
    "start_time": "2025-01-14T18:01:57.144Z"
   },
   {
    "duration": 98,
    "start_time": "2025-01-14T18:01:57.150Z"
   },
   {
    "duration": 6,
    "start_time": "2025-01-14T18:01:57.249Z"
   },
   {
    "duration": 46,
    "start_time": "2025-01-14T18:01:57.257Z"
   },
   {
    "duration": 9,
    "start_time": "2025-01-14T18:01:57.305Z"
   },
   {
    "duration": 15,
    "start_time": "2025-01-14T18:01:57.316Z"
   },
   {
    "duration": 84,
    "start_time": "2025-01-14T18:01:57.333Z"
   },
   {
    "duration": 16,
    "start_time": "2025-01-14T18:01:57.419Z"
   },
   {
    "duration": 10,
    "start_time": "2025-01-14T18:01:57.436Z"
   },
   {
    "duration": 53,
    "start_time": "2025-01-14T18:01:57.447Z"
   },
   {
    "duration": 1319,
    "start_time": "2025-01-14T18:01:57.502Z"
   },
   {
    "duration": 0,
    "start_time": "2025-01-14T18:01:58.823Z"
   },
   {
    "duration": 0,
    "start_time": "2025-01-14T18:01:58.824Z"
   },
   {
    "duration": 0,
    "start_time": "2025-01-14T18:01:58.825Z"
   },
   {
    "duration": 0,
    "start_time": "2025-01-14T18:01:58.827Z"
   },
   {
    "duration": 9,
    "start_time": "2025-01-14T18:02:16.865Z"
   },
   {
    "duration": 18,
    "start_time": "2025-01-14T18:02:30.166Z"
   },
   {
    "duration": 6,
    "start_time": "2025-01-14T18:02:33.783Z"
   },
   {
    "duration": 1363,
    "start_time": "2025-01-14T18:02:34.584Z"
   },
   {
    "duration": 203,
    "start_time": "2025-01-14T18:02:51.726Z"
   },
   {
    "duration": 15,
    "start_time": "2025-01-14T18:03:25.782Z"
   },
   {
    "duration": 58,
    "start_time": "2025-01-14T18:04:12.646Z"
   },
   {
    "duration": 17,
    "start_time": "2025-01-14T18:04:26.534Z"
   },
   {
    "duration": 34,
    "start_time": "2025-01-14T18:05:15.679Z"
   },
   {
    "duration": 9,
    "start_time": "2025-01-14T18:11:33.909Z"
   },
   {
    "duration": 24,
    "start_time": "2025-01-14T18:11:42.916Z"
   },
   {
    "duration": 17,
    "start_time": "2025-01-14T18:14:43.143Z"
   },
   {
    "duration": 14,
    "start_time": "2025-01-14T18:15:19.494Z"
   },
   {
    "duration": 13,
    "start_time": "2025-01-14T18:16:33.782Z"
   },
   {
    "duration": 76,
    "start_time": "2025-01-14T18:18:29.143Z"
   },
   {
    "duration": 18,
    "start_time": "2025-01-14T18:18:29.787Z"
   },
   {
    "duration": 150,
    "start_time": "2025-01-14T18:22:59.416Z"
   },
   {
    "duration": 21,
    "start_time": "2025-01-14T18:23:10.475Z"
   },
   {
    "duration": 72,
    "start_time": "2025-01-14T18:24:43.671Z"
   },
   {
    "duration": 74,
    "start_time": "2025-01-14T18:24:53.694Z"
   },
   {
    "duration": 57,
    "start_time": "2025-01-14T18:30:35.065Z"
   },
   {
    "duration": 11,
    "start_time": "2025-01-14T18:31:48.065Z"
   },
   {
    "duration": 9,
    "start_time": "2025-01-14T18:37:53.383Z"
   },
   {
    "duration": 18,
    "start_time": "2025-01-14T18:38:10.549Z"
   },
   {
    "duration": 6,
    "start_time": "2025-01-14T18:38:19.622Z"
   },
   {
    "duration": 25,
    "start_time": "2025-01-14T18:41:47.464Z"
   },
   {
    "duration": 8,
    "start_time": "2025-01-14T18:41:54.901Z"
   },
   {
    "duration": 12,
    "start_time": "2025-01-14T18:42:45.246Z"
   },
   {
    "duration": 5,
    "start_time": "2025-01-14T18:42:46.623Z"
   },
   {
    "duration": 13,
    "start_time": "2025-01-14T18:54:06.222Z"
   },
   {
    "duration": 5,
    "start_time": "2025-01-14T18:54:07.374Z"
   },
   {
    "duration": 13,
    "start_time": "2025-01-14T19:19:18.236Z"
   },
   {
    "duration": 3,
    "start_time": "2025-01-14T19:19:28.195Z"
   },
   {
    "duration": 13,
    "start_time": "2025-01-14T19:23:47.652Z"
   },
   {
    "duration": 5,
    "start_time": "2025-01-14T19:23:55.236Z"
   },
   {
    "duration": 5,
    "start_time": "2025-01-14T19:24:54.636Z"
   },
   {
    "duration": 9,
    "start_time": "2025-01-14T19:25:12.659Z"
   },
   {
    "duration": 9,
    "start_time": "2025-01-14T19:27:09.284Z"
   },
   {
    "duration": 9,
    "start_time": "2025-01-14T19:27:14.308Z"
   },
   {
    "duration": 14,
    "start_time": "2025-01-14T19:28:26.107Z"
   },
   {
    "duration": 5,
    "start_time": "2025-01-14T19:28:27.908Z"
   },
   {
    "duration": 59,
    "start_time": "2025-01-14T19:32:00.099Z"
   },
   {
    "duration": 58,
    "start_time": "2025-01-14T19:32:16.523Z"
   },
   {
    "duration": 12,
    "start_time": "2025-01-14T19:32:17.107Z"
   },
   {
    "duration": 57,
    "start_time": "2025-01-14T19:32:50.555Z"
   },
   {
    "duration": 12,
    "start_time": "2025-01-14T19:32:50.987Z"
   },
   {
    "duration": 357,
    "start_time": "2025-01-14T19:33:53.538Z"
   },
   {
    "duration": 13,
    "start_time": "2025-01-14T19:33:54.076Z"
   },
   {
    "duration": 57,
    "start_time": "2025-01-14T19:34:07.980Z"
   },
   {
    "duration": 159,
    "start_time": "2025-01-14T19:34:26.739Z"
   },
   {
    "duration": 16,
    "start_time": "2025-01-14T19:34:34.662Z"
   },
   {
    "duration": 5,
    "start_time": "2025-01-14T19:35:26.083Z"
   },
   {
    "duration": 15,
    "start_time": "2025-01-14T19:35:27.068Z"
   },
   {
    "duration": 56,
    "start_time": "2025-01-14T19:37:01.015Z"
   },
   {
    "duration": 15,
    "start_time": "2025-01-14T19:37:01.549Z"
   },
   {
    "duration": 13,
    "start_time": "2025-01-14T19:38:28.171Z"
   },
   {
    "duration": 6,
    "start_time": "2025-01-14T19:38:31.691Z"
   },
   {
    "duration": 12,
    "start_time": "2025-01-14T19:39:41.867Z"
   },
   {
    "duration": 6,
    "start_time": "2025-01-14T19:43:38.811Z"
   },
   {
    "duration": 9,
    "start_time": "2025-01-14T19:43:56.803Z"
   },
   {
    "duration": 11,
    "start_time": "2025-01-14T19:44:48.171Z"
   },
   {
    "duration": 4,
    "start_time": "2025-01-14T19:45:03.605Z"
   },
   {
    "duration": 12,
    "start_time": "2025-01-14T19:45:10.509Z"
   },
   {
    "duration": 8,
    "start_time": "2025-01-14T19:46:14.083Z"
   },
   {
    "duration": 14,
    "start_time": "2025-01-14T19:46:24.547Z"
   },
   {
    "duration": 109,
    "start_time": "2025-01-14T19:48:34.408Z"
   },
   {
    "duration": 27,
    "start_time": "2025-01-14T19:48:39.180Z"
   },
   {
    "duration": 18,
    "start_time": "2025-01-14T19:49:01.971Z"
   },
   {
    "duration": 96,
    "start_time": "2025-01-14T19:50:05.493Z"
   },
   {
    "duration": 10,
    "start_time": "2025-01-14T19:51:56.147Z"
   },
   {
    "duration": 59,
    "start_time": "2025-01-14T19:52:25.330Z"
   },
   {
    "duration": 30,
    "start_time": "2025-01-14T19:52:26.292Z"
   },
   {
    "duration": 162,
    "start_time": "2025-01-14T19:53:45.266Z"
   },
   {
    "duration": 16,
    "start_time": "2025-01-14T19:53:46.123Z"
   },
   {
    "duration": 11,
    "start_time": "2025-01-14T19:54:26.884Z"
   },
   {
    "duration": 11,
    "start_time": "2025-01-14T19:54:30.637Z"
   },
   {
    "duration": 195,
    "start_time": "2025-01-14T19:55:06.181Z"
   },
   {
    "duration": 9,
    "start_time": "2025-01-14T19:55:22.378Z"
   },
   {
    "duration": 82,
    "start_time": "2025-01-14T19:56:44.747Z"
   },
   {
    "duration": 78,
    "start_time": "2025-01-14T19:56:55.402Z"
   },
   {
    "duration": 78,
    "start_time": "2025-01-14T19:57:07.891Z"
   },
   {
    "duration": 157,
    "start_time": "2025-01-14T19:58:19.075Z"
   },
   {
    "duration": 153,
    "start_time": "2025-01-14T19:58:24.715Z"
   },
   {
    "duration": 100,
    "start_time": "2025-01-14T20:02:39.115Z"
   },
   {
    "duration": 84,
    "start_time": "2025-01-14T20:03:11.747Z"
   },
   {
    "duration": 86,
    "start_time": "2025-01-14T20:03:22.716Z"
   },
   {
    "duration": 111,
    "start_time": "2025-01-14T20:04:05.772Z"
   },
   {
    "duration": 51,
    "start_time": "2025-01-14T20:11:18.739Z"
   },
   {
    "duration": 19,
    "start_time": "2025-01-14T20:11:30.954Z"
   },
   {
    "duration": 150,
    "start_time": "2025-01-14T20:11:56.531Z"
   },
   {
    "duration": 11,
    "start_time": "2025-01-14T20:11:57.051Z"
   },
   {
    "duration": 49,
    "start_time": "2025-01-14T20:11:57.923Z"
   },
   {
    "duration": 175,
    "start_time": "2025-01-14T20:11:58.411Z"
   },
   {
    "duration": 82,
    "start_time": "2025-01-14T20:11:58.754Z"
   },
   {
    "duration": 108,
    "start_time": "2025-01-14T20:11:59.027Z"
   },
   {
    "duration": 52,
    "start_time": "2025-01-14T20:11:59.339Z"
   },
   {
    "duration": 19,
    "start_time": "2025-01-14T20:11:59.643Z"
   },
   {
    "duration": 8,
    "start_time": "2025-01-14T20:12:49.613Z"
   },
   {
    "duration": 88,
    "start_time": "2025-01-14T20:12:57.178Z"
   },
   {
    "duration": 98,
    "start_time": "2025-01-14T20:12:57.659Z"
   },
   {
    "duration": 43,
    "start_time": "2025-01-14T20:12:58.341Z"
   },
   {
    "duration": 18,
    "start_time": "2025-01-14T20:12:58.996Z"
   },
   {
    "duration": 91,
    "start_time": "2025-01-14T20:13:32.667Z"
   },
   {
    "duration": 95,
    "start_time": "2025-01-14T20:13:33.335Z"
   },
   {
    "duration": 37,
    "start_time": "2025-01-14T20:13:33.964Z"
   },
   {
    "duration": 47,
    "start_time": "2025-01-14T20:13:37.795Z"
   },
   {
    "duration": 133,
    "start_time": "2025-01-14T20:14:22.859Z"
   },
   {
    "duration": 19,
    "start_time": "2025-01-14T20:14:23.681Z"
   },
   {
    "duration": 43,
    "start_time": "2025-01-14T20:14:30.660Z"
   },
   {
    "duration": 18,
    "start_time": "2025-01-14T20:14:32.652Z"
   },
   {
    "duration": 406,
    "start_time": "2025-01-14T20:15:34.630Z"
   },
   {
    "duration": 46,
    "start_time": "2025-01-14T20:15:41.819Z"
   },
   {
    "duration": 8,
    "start_time": "2025-01-14T20:21:33.315Z"
   },
   {
    "duration": 19,
    "start_time": "2025-01-14T20:21:34.291Z"
   },
   {
    "duration": 25,
    "start_time": "2025-01-14T20:23:15.111Z"
   },
   {
    "duration": 4045,
    "start_time": "2025-01-14T20:23:59.005Z"
   },
   {
    "duration": 2410,
    "start_time": "2025-01-14T20:24:03.052Z"
   },
   {
    "duration": 12,
    "start_time": "2025-01-14T20:24:05.464Z"
   },
   {
    "duration": 2252,
    "start_time": "2025-01-14T20:24:05.477Z"
   },
   {
    "duration": 3079,
    "start_time": "2025-01-14T20:24:07.731Z"
   },
   {
    "duration": 4192,
    "start_time": "2025-01-14T20:24:10.812Z"
   },
   {
    "duration": 3875,
    "start_time": "2025-01-14T20:24:15.005Z"
   },
   {
    "duration": 7,
    "start_time": "2025-01-14T20:24:18.882Z"
   },
   {
    "duration": 19,
    "start_time": "2025-01-14T20:24:18.890Z"
   },
   {
    "duration": 6,
    "start_time": "2025-01-14T20:24:18.911Z"
   },
   {
    "duration": 53,
    "start_time": "2025-01-14T20:24:18.919Z"
   },
   {
    "duration": 9,
    "start_time": "2025-01-14T20:24:18.973Z"
   },
   {
    "duration": 9,
    "start_time": "2025-01-14T20:24:18.986Z"
   },
   {
    "duration": 23,
    "start_time": "2025-01-14T20:24:18.998Z"
   },
   {
    "duration": 99,
    "start_time": "2025-01-14T20:24:19.023Z"
   },
   {
    "duration": 5,
    "start_time": "2025-01-14T20:24:19.124Z"
   },
   {
    "duration": 25,
    "start_time": "2025-01-14T20:24:19.130Z"
   },
   {
    "duration": 9,
    "start_time": "2025-01-14T20:24:19.157Z"
   },
   {
    "duration": 24,
    "start_time": "2025-01-14T20:24:19.167Z"
   },
   {
    "duration": 73,
    "start_time": "2025-01-14T20:24:19.193Z"
   },
   {
    "duration": 22,
    "start_time": "2025-01-14T20:24:19.268Z"
   },
   {
    "duration": 10,
    "start_time": "2025-01-14T20:24:19.291Z"
   },
   {
    "duration": 30,
    "start_time": "2025-01-14T20:24:19.303Z"
   },
   {
    "duration": 9,
    "start_time": "2025-01-14T20:24:19.335Z"
   },
   {
    "duration": 47,
    "start_time": "2025-01-14T20:24:19.346Z"
   },
   {
    "duration": 3,
    "start_time": "2025-01-14T20:24:19.395Z"
   },
   {
    "duration": 220,
    "start_time": "2025-01-14T20:24:19.400Z"
   },
   {
    "duration": 164,
    "start_time": "2025-01-14T20:24:19.622Z"
   },
   {
    "duration": 14,
    "start_time": "2025-01-14T20:24:19.788Z"
   },
   {
    "duration": 86,
    "start_time": "2025-01-14T20:24:19.803Z"
   },
   {
    "duration": 191,
    "start_time": "2025-01-14T20:24:19.890Z"
   },
   {
    "duration": 84,
    "start_time": "2025-01-14T20:24:20.082Z"
   },
   {
    "duration": 114,
    "start_time": "2025-01-14T20:24:20.167Z"
   },
   {
    "duration": 126,
    "start_time": "2025-01-14T20:24:20.283Z"
   },
   {
    "duration": 0,
    "start_time": "2025-01-14T20:24:20.410Z"
   },
   {
    "duration": 0,
    "start_time": "2025-01-14T20:24:20.411Z"
   },
   {
    "duration": 0,
    "start_time": "2025-01-14T20:24:20.412Z"
   },
   {
    "duration": 113,
    "start_time": "2025-01-14T20:24:58.877Z"
   },
   {
    "duration": 13,
    "start_time": "2025-01-14T20:25:12.717Z"
   },
   {
    "duration": 14,
    "start_time": "2025-01-14T20:25:57.748Z"
   },
   {
    "duration": 12,
    "start_time": "2025-01-14T20:26:17.981Z"
   },
   {
    "duration": 111,
    "start_time": "2025-01-14T20:27:04.724Z"
   },
   {
    "duration": 26,
    "start_time": "2025-01-14T20:27:07.293Z"
   },
   {
    "duration": 20,
    "start_time": "2025-01-14T20:27:08.420Z"
   },
   {
    "duration": 113,
    "start_time": "2025-01-14T20:27:46.781Z"
   },
   {
    "duration": 131,
    "start_time": "2025-01-14T20:27:59.404Z"
   },
   {
    "duration": 2708,
    "start_time": "2025-01-14T20:27:59.999Z"
   },
   {
    "duration": 1873,
    "start_time": "2025-01-14T20:28:02.709Z"
   },
   {
    "duration": 119,
    "start_time": "2025-01-14T20:28:10.732Z"
   },
   {
    "duration": 3461,
    "start_time": "2025-01-14T20:28:11.516Z"
   },
   {
    "duration": 702,
    "start_time": "2025-01-14T20:28:14.979Z"
   },
   {
    "duration": 3878,
    "start_time": "2025-01-14T20:28:24.032Z"
   },
   {
    "duration": 3224,
    "start_time": "2025-01-14T20:28:27.912Z"
   },
   {
    "duration": 14,
    "start_time": "2025-01-14T20:28:31.137Z"
   },
   {
    "duration": 1326,
    "start_time": "2025-01-14T20:28:31.153Z"
   },
   {
    "duration": 953,
    "start_time": "2025-01-14T20:28:32.481Z"
   },
   {
    "duration": 601,
    "start_time": "2025-01-14T20:28:33.436Z"
   },
   {
    "duration": 840,
    "start_time": "2025-01-14T20:28:34.039Z"
   },
   {
    "duration": 603,
    "start_time": "2025-01-14T20:28:34.881Z"
   },
   {
    "duration": 702,
    "start_time": "2025-01-14T20:28:35.486Z"
   },
   {
    "duration": 157,
    "start_time": "2025-01-14T20:28:36.191Z"
   },
   {
    "duration": 140,
    "start_time": "2025-01-14T20:28:36.350Z"
   },
   {
    "duration": 72,
    "start_time": "2025-01-14T20:28:36.491Z"
   },
   {
    "duration": 148,
    "start_time": "2025-01-14T20:28:36.564Z"
   },
   {
    "duration": 1014,
    "start_time": "2025-01-14T20:28:36.714Z"
   },
   {
    "duration": 1069,
    "start_time": "2025-01-14T20:28:37.730Z"
   },
   {
    "duration": 852,
    "start_time": "2025-01-14T20:28:38.801Z"
   },
   {
    "duration": 967,
    "start_time": "2025-01-14T20:28:39.655Z"
   },
   {
    "duration": 704,
    "start_time": "2025-01-14T20:28:40.624Z"
   },
   {
    "duration": 807,
    "start_time": "2025-01-14T20:28:41.329Z"
   },
   {
    "duration": 1061,
    "start_time": "2025-01-14T20:28:42.137Z"
   },
   {
    "duration": 761,
    "start_time": "2025-01-14T20:28:43.200Z"
   },
   {
    "duration": 655,
    "start_time": "2025-01-14T20:28:43.963Z"
   },
   {
    "duration": 649,
    "start_time": "2025-01-14T20:28:44.620Z"
   },
   {
    "duration": 525,
    "start_time": "2025-01-14T20:28:45.271Z"
   },
   {
    "duration": 677,
    "start_time": "2025-01-14T20:28:45.798Z"
   },
   {
    "duration": 173,
    "start_time": "2025-01-14T20:28:46.477Z"
   },
   {
    "duration": 815,
    "start_time": "2025-01-14T20:28:46.651Z"
   },
   {
    "duration": 1417,
    "start_time": "2025-01-14T20:28:47.470Z"
   },
   {
    "duration": 971,
    "start_time": "2025-01-14T20:28:48.889Z"
   },
   {
    "duration": 813,
    "start_time": "2025-01-14T20:28:49.862Z"
   },
   {
    "duration": 691,
    "start_time": "2025-01-14T20:28:50.677Z"
   },
   {
    "duration": 85,
    "start_time": "2025-01-14T20:28:51.370Z"
   },
   {
    "duration": 2043,
    "start_time": "2025-01-14T20:28:51.456Z"
   },
   {
    "duration": 2643,
    "start_time": "2025-01-14T20:28:53.500Z"
   },
   {
    "duration": 1259,
    "start_time": "2025-01-14T20:28:56.145Z"
   },
   {
    "duration": 52,
    "start_time": "2025-01-14T20:39:58.222Z"
   },
   {
    "duration": 13,
    "start_time": "2025-01-14T20:40:11.404Z"
   },
   {
    "duration": 53,
    "start_time": "2025-01-14T20:40:30.876Z"
   },
   {
    "duration": 704,
    "start_time": "2025-01-14T20:40:31.563Z"
   },
   {
    "duration": 11,
    "start_time": "2025-01-14T20:42:28.885Z"
   },
   {
    "duration": 13,
    "start_time": "2025-01-14T20:42:35.412Z"
   },
   {
    "duration": 12,
    "start_time": "2025-01-14T20:45:30.838Z"
   },
   {
    "duration": 13,
    "start_time": "2025-01-14T20:45:31.421Z"
   },
   {
    "duration": 12,
    "start_time": "2025-01-14T20:45:44.613Z"
   },
   {
    "duration": 13,
    "start_time": "2025-01-14T20:45:55.533Z"
   },
   {
    "duration": 11,
    "start_time": "2025-01-14T20:46:07.893Z"
   },
   {
    "duration": 12,
    "start_time": "2025-01-14T20:47:20.913Z"
   },
   {
    "duration": 12,
    "start_time": "2025-01-14T20:47:36.670Z"
   },
   {
    "duration": 13,
    "start_time": "2025-01-14T20:47:38.317Z"
   },
   {
    "duration": 13,
    "start_time": "2025-01-14T20:47:51.998Z"
   },
   {
    "duration": 14,
    "start_time": "2025-01-14T20:47:52.606Z"
   },
   {
    "duration": 12,
    "start_time": "2025-01-14T20:48:01.925Z"
   },
   {
    "duration": 13,
    "start_time": "2025-01-14T20:48:02.461Z"
   },
   {
    "duration": 12,
    "start_time": "2025-01-14T20:48:10.621Z"
   },
   {
    "duration": 12,
    "start_time": "2025-01-14T20:48:11.109Z"
   },
   {
    "duration": 19,
    "start_time": "2025-01-14T20:48:52.982Z"
   },
   {
    "duration": 19,
    "start_time": "2025-01-14T20:48:53.485Z"
   },
   {
    "duration": 13,
    "start_time": "2025-01-14T20:49:05.629Z"
   },
   {
    "duration": 13,
    "start_time": "2025-01-14T20:49:06.166Z"
   },
   {
    "duration": 12,
    "start_time": "2025-01-14T20:49:10.413Z"
   },
   {
    "duration": 14,
    "start_time": "2025-01-14T20:49:11.124Z"
   },
   {
    "duration": 14,
    "start_time": "2025-01-14T20:52:04.717Z"
   },
   {
    "duration": 15,
    "start_time": "2025-01-14T20:52:18.501Z"
   },
   {
    "duration": 16,
    "start_time": "2025-01-14T20:54:29.417Z"
   },
   {
    "duration": 5,
    "start_time": "2025-01-14T20:54:30.251Z"
   },
   {
    "duration": 4,
    "start_time": "2025-01-14T20:54:39.855Z"
   },
   {
    "duration": 5,
    "start_time": "2025-01-14T20:55:07.526Z"
   },
   {
    "duration": 3900,
    "start_time": "2025-01-14T20:55:57.628Z"
   },
   {
    "duration": 2140,
    "start_time": "2025-01-14T20:56:01.531Z"
   },
   {
    "duration": 18,
    "start_time": "2025-01-14T20:56:03.673Z"
   },
   {
    "duration": 26,
    "start_time": "2025-01-14T20:56:03.693Z"
   },
   {
    "duration": 85,
    "start_time": "2025-01-14T20:56:03.721Z"
   },
   {
    "duration": 22,
    "start_time": "2025-01-14T20:56:03.807Z"
   },
   {
    "duration": 20,
    "start_time": "2025-01-14T20:56:03.831Z"
   },
   {
    "duration": 7,
    "start_time": "2025-01-14T20:56:03.853Z"
   },
   {
    "duration": 37,
    "start_time": "2025-01-14T20:56:03.862Z"
   },
   {
    "duration": 6,
    "start_time": "2025-01-14T20:56:03.902Z"
   },
   {
    "duration": 30,
    "start_time": "2025-01-14T20:56:03.910Z"
   },
   {
    "duration": 33,
    "start_time": "2025-01-14T20:56:03.942Z"
   },
   {
    "duration": 21,
    "start_time": "2025-01-14T20:56:03.976Z"
   },
   {
    "duration": 13,
    "start_time": "2025-01-14T20:56:03.999Z"
   },
   {
    "duration": 96,
    "start_time": "2025-01-14T20:56:04.013Z"
   },
   {
    "duration": 5,
    "start_time": "2025-01-14T20:56:04.110Z"
   },
   {
    "duration": 24,
    "start_time": "2025-01-14T20:56:04.116Z"
   },
   {
    "duration": 13,
    "start_time": "2025-01-14T20:56:04.141Z"
   },
   {
    "duration": 6,
    "start_time": "2025-01-14T20:56:04.156Z"
   },
   {
    "duration": 68,
    "start_time": "2025-01-14T20:56:04.164Z"
   },
   {
    "duration": 17,
    "start_time": "2025-01-14T20:56:04.233Z"
   },
   {
    "duration": 13,
    "start_time": "2025-01-14T20:56:04.251Z"
   },
   {
    "duration": 42,
    "start_time": "2025-01-14T20:56:04.265Z"
   },
   {
    "duration": 9,
    "start_time": "2025-01-14T20:56:04.308Z"
   },
   {
    "duration": 22,
    "start_time": "2025-01-14T20:56:04.319Z"
   },
   {
    "duration": 10,
    "start_time": "2025-01-14T20:56:04.342Z"
   },
   {
    "duration": 195,
    "start_time": "2025-01-14T20:56:04.354Z"
   },
   {
    "duration": 159,
    "start_time": "2025-01-14T20:56:04.552Z"
   },
   {
    "duration": 11,
    "start_time": "2025-01-14T20:56:04.713Z"
   },
   {
    "duration": 61,
    "start_time": "2025-01-14T20:56:04.726Z"
   },
   {
    "duration": 198,
    "start_time": "2025-01-14T20:56:04.788Z"
   },
   {
    "duration": 85,
    "start_time": "2025-01-14T20:56:04.988Z"
   },
   {
    "duration": 117,
    "start_time": "2025-01-14T20:56:05.074Z"
   },
   {
    "duration": 9,
    "start_time": "2025-01-14T20:56:05.192Z"
   },
   {
    "duration": 13,
    "start_time": "2025-01-14T20:56:05.203Z"
   },
   {
    "duration": 73,
    "start_time": "2025-01-14T20:56:05.217Z"
   },
   {
    "duration": 13,
    "start_time": "2025-01-14T20:56:05.292Z"
   },
   {
    "duration": 21,
    "start_time": "2025-01-14T20:56:05.307Z"
   },
   {
    "duration": 28,
    "start_time": "2025-01-14T20:56:05.330Z"
   },
   {
    "duration": 16,
    "start_time": "2025-01-14T20:56:05.359Z"
   },
   {
    "duration": 4,
    "start_time": "2025-01-14T20:56:05.377Z"
   },
   {
    "duration": 47,
    "start_time": "2025-01-14T20:56:30.310Z"
   },
   {
    "duration": 14,
    "start_time": "2025-01-14T20:56:31.270Z"
   },
   {
    "duration": 12,
    "start_time": "2025-01-14T20:56:31.893Z"
   },
   {
    "duration": 14,
    "start_time": "2025-01-14T20:56:32.101Z"
   },
   {
    "duration": 23,
    "start_time": "2025-01-14T20:56:32.301Z"
   },
   {
    "duration": 5,
    "start_time": "2025-01-14T20:56:32.502Z"
   },
   {
    "duration": 3,
    "start_time": "2025-01-14T20:58:40.606Z"
   },
   {
    "duration": 13,
    "start_time": "2025-01-14T20:58:43.054Z"
   },
   {
    "duration": 11,
    "start_time": "2025-01-14T21:00:02.518Z"
   },
   {
    "duration": 13,
    "start_time": "2025-01-14T21:00:03.235Z"
   },
   {
    "duration": 24,
    "start_time": "2025-01-14T21:00:10.109Z"
   },
   {
    "duration": 5,
    "start_time": "2025-01-14T21:00:10.638Z"
   },
   {
    "duration": 49,
    "start_time": "2025-01-14T21:06:51.054Z"
   },
   {
    "duration": 13,
    "start_time": "2025-01-14T21:06:51.607Z"
   },
   {
    "duration": 11,
    "start_time": "2025-01-14T21:06:52.382Z"
   },
   {
    "duration": 14,
    "start_time": "2025-01-14T21:06:53.014Z"
   },
   {
    "duration": 13,
    "start_time": "2025-01-14T21:06:53.766Z"
   },
   {
    "duration": 5,
    "start_time": "2025-01-14T21:06:54.342Z"
   },
   {
    "duration": 3967,
    "start_time": "2025-01-14T21:11:37.623Z"
   },
   {
    "duration": 2470,
    "start_time": "2025-01-14T21:11:41.592Z"
   },
   {
    "duration": 12,
    "start_time": "2025-01-14T21:11:44.064Z"
   },
   {
    "duration": 25,
    "start_time": "2025-01-14T21:11:44.078Z"
   },
   {
    "duration": 95,
    "start_time": "2025-01-14T21:11:44.104Z"
   },
   {
    "duration": 21,
    "start_time": "2025-01-14T21:11:44.200Z"
   },
   {
    "duration": 19,
    "start_time": "2025-01-14T21:11:44.223Z"
   },
   {
    "duration": 62,
    "start_time": "2025-01-14T21:11:44.243Z"
   },
   {
    "duration": 18,
    "start_time": "2025-01-14T21:11:44.307Z"
   },
   {
    "duration": 7,
    "start_time": "2025-01-14T21:11:44.327Z"
   },
   {
    "duration": 33,
    "start_time": "2025-01-14T21:11:44.335Z"
   },
   {
    "duration": 8,
    "start_time": "2025-01-14T21:11:44.369Z"
   },
   {
    "duration": 21,
    "start_time": "2025-01-14T21:11:44.378Z"
   },
   {
    "duration": 10,
    "start_time": "2025-01-14T21:11:44.400Z"
   },
   {
    "duration": 135,
    "start_time": "2025-01-14T21:11:44.412Z"
   },
   {
    "duration": 5,
    "start_time": "2025-01-14T21:11:44.549Z"
   },
   {
    "duration": 19,
    "start_time": "2025-01-14T21:11:44.555Z"
   },
   {
    "duration": 5,
    "start_time": "2025-01-14T21:11:44.586Z"
   },
   {
    "duration": 7,
    "start_time": "2025-01-14T21:11:44.592Z"
   },
   {
    "duration": 66,
    "start_time": "2025-01-14T21:11:44.600Z"
   },
   {
    "duration": 34,
    "start_time": "2025-01-14T21:11:44.667Z"
   },
   {
    "duration": 12,
    "start_time": "2025-01-14T21:11:44.703Z"
   },
   {
    "duration": 28,
    "start_time": "2025-01-14T21:11:44.716Z"
   },
   {
    "duration": 9,
    "start_time": "2025-01-14T21:11:44.746Z"
   },
   {
    "duration": 52,
    "start_time": "2025-01-14T21:11:44.757Z"
   },
   {
    "duration": 4,
    "start_time": "2025-01-14T21:11:44.810Z"
   },
   {
    "duration": 194,
    "start_time": "2025-01-14T21:11:44.815Z"
   },
   {
    "duration": 164,
    "start_time": "2025-01-14T21:11:45.012Z"
   },
   {
    "duration": 16,
    "start_time": "2025-01-14T21:11:45.178Z"
   },
   {
    "duration": 50,
    "start_time": "2025-01-14T21:11:45.196Z"
   },
   {
    "duration": 9,
    "start_time": "2025-01-14T21:11:45.248Z"
   },
   {
    "duration": 37,
    "start_time": "2025-01-14T21:11:45.258Z"
   },
   {
    "duration": 69,
    "start_time": "2025-01-14T21:11:45.297Z"
   },
   {
    "duration": 13,
    "start_time": "2025-01-14T21:11:45.368Z"
   },
   {
    "duration": 47,
    "start_time": "2025-01-14T21:11:45.383Z"
   },
   {
    "duration": 17,
    "start_time": "2025-01-14T21:11:45.431Z"
   },
   {
    "duration": 19,
    "start_time": "2025-01-14T21:11:45.450Z"
   },
   {
    "duration": 14,
    "start_time": "2025-01-14T21:13:09.902Z"
   },
   {
    "duration": 13,
    "start_time": "2025-01-14T21:13:10.400Z"
   },
   {
    "duration": 17,
    "start_time": "2025-01-14T21:13:10.989Z"
   },
   {
    "duration": 4049,
    "start_time": "2025-01-14T21:13:26.887Z"
   },
   {
    "duration": 1812,
    "start_time": "2025-01-14T21:13:30.938Z"
   },
   {
    "duration": 13,
    "start_time": "2025-01-14T21:13:32.752Z"
   },
   {
    "duration": 36,
    "start_time": "2025-01-14T21:13:32.767Z"
   },
   {
    "duration": 113,
    "start_time": "2025-01-14T21:13:32.804Z"
   },
   {
    "duration": 22,
    "start_time": "2025-01-14T21:13:32.918Z"
   },
   {
    "duration": 37,
    "start_time": "2025-01-14T21:13:32.942Z"
   },
   {
    "duration": 8,
    "start_time": "2025-01-14T21:13:32.980Z"
   },
   {
    "duration": 35,
    "start_time": "2025-01-14T21:13:32.989Z"
   },
   {
    "duration": 7,
    "start_time": "2025-01-14T21:13:33.027Z"
   },
   {
    "duration": 38,
    "start_time": "2025-01-14T21:13:33.036Z"
   },
   {
    "duration": 9,
    "start_time": "2025-01-14T21:13:33.075Z"
   },
   {
    "duration": 11,
    "start_time": "2025-01-14T21:13:33.086Z"
   },
   {
    "duration": 27,
    "start_time": "2025-01-14T21:13:33.098Z"
   },
   {
    "duration": 89,
    "start_time": "2025-01-14T21:13:33.127Z"
   },
   {
    "duration": 5,
    "start_time": "2025-01-14T21:13:33.218Z"
   },
   {
    "duration": 23,
    "start_time": "2025-01-14T21:13:33.225Z"
   },
   {
    "duration": 5,
    "start_time": "2025-01-14T21:13:33.249Z"
   },
   {
    "duration": 8,
    "start_time": "2025-01-14T21:13:33.255Z"
   },
   {
    "duration": 82,
    "start_time": "2025-01-14T21:13:33.265Z"
   },
   {
    "duration": 16,
    "start_time": "2025-01-14T21:13:33.349Z"
   },
   {
    "duration": 24,
    "start_time": "2025-01-14T21:13:33.367Z"
   },
   {
    "duration": 54,
    "start_time": "2025-01-14T21:13:33.393Z"
   },
   {
    "duration": 14,
    "start_time": "2025-01-14T21:13:33.449Z"
   },
   {
    "duration": 26,
    "start_time": "2025-01-14T21:13:33.465Z"
   },
   {
    "duration": 4,
    "start_time": "2025-01-14T21:13:33.493Z"
   },
   {
    "duration": 198,
    "start_time": "2025-01-14T21:13:33.498Z"
   },
   {
    "duration": 159,
    "start_time": "2025-01-14T21:13:33.699Z"
   },
   {
    "duration": 13,
    "start_time": "2025-01-14T21:13:33.860Z"
   },
   {
    "duration": 82,
    "start_time": "2025-01-14T21:13:33.874Z"
   },
   {
    "duration": 8,
    "start_time": "2025-01-14T21:13:33.958Z"
   },
   {
    "duration": 56,
    "start_time": "2025-01-14T21:13:33.967Z"
   },
   {
    "duration": 65,
    "start_time": "2025-01-14T21:13:34.024Z"
   },
   {
    "duration": 13,
    "start_time": "2025-01-14T21:13:34.091Z"
   },
   {
    "duration": 26,
    "start_time": "2025-01-14T21:13:34.105Z"
   },
   {
    "duration": 21,
    "start_time": "2025-01-14T21:13:34.132Z"
   },
   {
    "duration": 18,
    "start_time": "2025-01-14T21:13:34.155Z"
   },
   {
    "duration": 27,
    "start_time": "2025-01-14T21:14:02.080Z"
   },
   {
    "duration": 5685,
    "start_time": "2025-01-15T11:32:57.578Z"
   },
   {
    "duration": 2569,
    "start_time": "2025-01-15T11:33:03.266Z"
   },
   {
    "duration": 15,
    "start_time": "2025-01-15T11:33:05.837Z"
   },
   {
    "duration": 28,
    "start_time": "2025-01-15T11:33:05.859Z"
   },
   {
    "duration": 120,
    "start_time": "2025-01-15T11:33:05.889Z"
   },
   {
    "duration": 27,
    "start_time": "2025-01-15T11:33:06.011Z"
   },
   {
    "duration": 42,
    "start_time": "2025-01-15T11:33:06.040Z"
   },
   {
    "duration": 10,
    "start_time": "2025-01-15T11:33:06.083Z"
   },
   {
    "duration": 36,
    "start_time": "2025-01-15T11:33:06.094Z"
   },
   {
    "duration": 30,
    "start_time": "2025-01-15T11:33:06.133Z"
   },
   {
    "duration": 72,
    "start_time": "2025-01-15T11:33:06.164Z"
   },
   {
    "duration": 10,
    "start_time": "2025-01-15T11:33:06.238Z"
   },
   {
    "duration": 30,
    "start_time": "2025-01-15T11:33:06.250Z"
   },
   {
    "duration": 39,
    "start_time": "2025-01-15T11:33:06.282Z"
   },
   {
    "duration": 162,
    "start_time": "2025-01-15T11:33:06.322Z"
   },
   {
    "duration": 6,
    "start_time": "2025-01-15T11:33:06.486Z"
   },
   {
    "duration": 35,
    "start_time": "2025-01-15T11:33:06.494Z"
   },
   {
    "duration": 35,
    "start_time": "2025-01-15T11:33:06.531Z"
   },
   {
    "duration": 24,
    "start_time": "2025-01-15T11:33:06.567Z"
   },
   {
    "duration": 101,
    "start_time": "2025-01-15T11:33:06.593Z"
   },
   {
    "duration": 22,
    "start_time": "2025-01-15T11:33:06.696Z"
   },
   {
    "duration": 25,
    "start_time": "2025-01-15T11:33:06.720Z"
   },
   {
    "duration": 65,
    "start_time": "2025-01-15T11:33:06.746Z"
   },
   {
    "duration": 13,
    "start_time": "2025-01-15T11:33:06.813Z"
   },
   {
    "duration": 87,
    "start_time": "2025-01-15T11:33:06.828Z"
   },
   {
    "duration": 4,
    "start_time": "2025-01-15T11:33:06.917Z"
   },
   {
    "duration": 256,
    "start_time": "2025-01-15T11:33:06.923Z"
   },
   {
    "duration": 196,
    "start_time": "2025-01-15T11:33:07.183Z"
   },
   {
    "duration": 14,
    "start_time": "2025-01-15T11:33:07.381Z"
   },
   {
    "duration": 75,
    "start_time": "2025-01-15T11:33:07.397Z"
   },
   {
    "duration": 11,
    "start_time": "2025-01-15T11:33:07.474Z"
   },
   {
    "duration": 16,
    "start_time": "2025-01-15T11:33:07.486Z"
   },
   {
    "duration": 103,
    "start_time": "2025-01-15T11:33:07.503Z"
   },
   {
    "duration": 14,
    "start_time": "2025-01-15T11:33:07.608Z"
   },
   {
    "duration": 74,
    "start_time": "2025-01-15T11:33:07.624Z"
   },
   {
    "duration": 27,
    "start_time": "2025-01-15T11:33:07.700Z"
   },
   {
    "duration": 59,
    "start_time": "2025-01-15T11:33:07.729Z"
   },
   {
    "duration": 2670,
    "start_time": "2025-01-15T12:00:44.982Z"
   },
   {
    "duration": 4315,
    "start_time": "2025-01-15T12:00:53.333Z"
   },
   {
    "duration": 2343,
    "start_time": "2025-01-15T12:00:57.651Z"
   },
   {
    "duration": 15,
    "start_time": "2025-01-15T12:00:59.996Z"
   },
   {
    "duration": 49,
    "start_time": "2025-01-15T12:01:00.013Z"
   },
   {
    "duration": 170,
    "start_time": "2025-01-15T12:01:00.064Z"
   },
   {
    "duration": 37,
    "start_time": "2025-01-15T12:01:00.236Z"
   },
   {
    "duration": 75,
    "start_time": "2025-01-15T12:01:00.275Z"
   },
   {
    "duration": 23,
    "start_time": "2025-01-15T12:01:00.352Z"
   },
   {
    "duration": 101,
    "start_time": "2025-01-15T12:01:00.377Z"
   },
   {
    "duration": 53,
    "start_time": "2025-01-15T12:01:00.481Z"
   },
   {
    "duration": 78,
    "start_time": "2025-01-15T12:01:00.536Z"
   },
   {
    "duration": 10,
    "start_time": "2025-01-15T12:01:00.616Z"
   },
   {
    "duration": 45,
    "start_time": "2025-01-15T12:01:00.628Z"
   },
   {
    "duration": 30,
    "start_time": "2025-01-15T12:01:00.675Z"
   },
   {
    "duration": 167,
    "start_time": "2025-01-15T12:01:00.707Z"
   },
   {
    "duration": 6,
    "start_time": "2025-01-15T12:01:00.876Z"
   },
   {
    "duration": 60,
    "start_time": "2025-01-15T12:01:00.884Z"
   },
   {
    "duration": 35,
    "start_time": "2025-01-15T12:01:00.945Z"
   },
   {
    "duration": 35,
    "start_time": "2025-01-15T12:01:00.982Z"
   },
   {
    "duration": 105,
    "start_time": "2025-01-15T12:01:01.018Z"
   },
   {
    "duration": 37,
    "start_time": "2025-01-15T12:01:01.126Z"
   },
   {
    "duration": 36,
    "start_time": "2025-01-15T12:01:01.165Z"
   },
   {
    "duration": 66,
    "start_time": "2025-01-15T12:01:01.203Z"
   },
   {
    "duration": 24,
    "start_time": "2025-01-15T12:01:01.271Z"
   },
   {
    "duration": 46,
    "start_time": "2025-01-15T12:01:01.298Z"
   },
   {
    "duration": 24,
    "start_time": "2025-01-15T12:01:01.346Z"
   },
   {
    "duration": 255,
    "start_time": "2025-01-15T12:01:01.372Z"
   },
   {
    "duration": 255,
    "start_time": "2025-01-15T12:01:01.631Z"
   },
   {
    "duration": 15,
    "start_time": "2025-01-15T12:01:01.888Z"
   },
   {
    "duration": 124,
    "start_time": "2025-01-15T12:01:01.905Z"
   },
   {
    "duration": 11,
    "start_time": "2025-01-15T12:01:02.031Z"
   },
   {
    "duration": 59,
    "start_time": "2025-01-15T12:01:02.044Z"
   },
   {
    "duration": 110,
    "start_time": "2025-01-15T12:01:02.105Z"
   },
   {
    "duration": 16,
    "start_time": "2025-01-15T12:01:02.218Z"
   },
   {
    "duration": 44,
    "start_time": "2025-01-15T12:01:02.236Z"
   },
   {
    "duration": 46,
    "start_time": "2025-01-15T12:01:02.283Z"
   },
   {
    "duration": 63,
    "start_time": "2025-01-15T12:01:02.331Z"
   },
   {
    "duration": 168,
    "start_time": "2025-01-15T12:10:07.293Z"
   },
   {
    "duration": 10,
    "start_time": "2025-01-15T12:12:40.023Z"
   },
   {
    "duration": 11,
    "start_time": "2025-01-15T12:12:59.372Z"
   },
   {
    "duration": 4465,
    "start_time": "2025-01-15T12:13:06.455Z"
   },
   {
    "duration": 2352,
    "start_time": "2025-01-15T12:13:10.922Z"
   },
   {
    "duration": 17,
    "start_time": "2025-01-15T12:13:13.277Z"
   },
   {
    "duration": 18,
    "start_time": "2025-01-15T12:13:13.296Z"
   },
   {
    "duration": 139,
    "start_time": "2025-01-15T12:13:13.316Z"
   },
   {
    "duration": 34,
    "start_time": "2025-01-15T12:13:13.460Z"
   },
   {
    "duration": 29,
    "start_time": "2025-01-15T12:13:13.496Z"
   },
   {
    "duration": 45,
    "start_time": "2025-01-15T12:13:13.527Z"
   },
   {
    "duration": 23,
    "start_time": "2025-01-15T12:13:13.575Z"
   },
   {
    "duration": 8,
    "start_time": "2025-01-15T12:13:13.601Z"
   },
   {
    "duration": 84,
    "start_time": "2025-01-15T12:13:13.610Z"
   },
   {
    "duration": 10,
    "start_time": "2025-01-15T12:13:13.695Z"
   },
   {
    "duration": 10,
    "start_time": "2025-01-15T12:13:13.707Z"
   },
   {
    "duration": 35,
    "start_time": "2025-01-15T12:13:13.719Z"
   },
   {
    "duration": 139,
    "start_time": "2025-01-15T12:13:13.756Z"
   },
   {
    "duration": 6,
    "start_time": "2025-01-15T12:13:13.896Z"
   },
   {
    "duration": 24,
    "start_time": "2025-01-15T12:13:13.904Z"
   },
   {
    "duration": 46,
    "start_time": "2025-01-15T12:13:13.930Z"
   },
   {
    "duration": 24,
    "start_time": "2025-01-15T12:13:13.978Z"
   },
   {
    "duration": 101,
    "start_time": "2025-01-15T12:13:14.003Z"
   },
   {
    "duration": 24,
    "start_time": "2025-01-15T12:13:14.107Z"
   },
   {
    "duration": 38,
    "start_time": "2025-01-15T12:13:14.132Z"
   },
   {
    "duration": 44,
    "start_time": "2025-01-15T12:13:14.174Z"
   },
   {
    "duration": 14,
    "start_time": "2025-01-15T12:13:14.220Z"
   },
   {
    "duration": 28,
    "start_time": "2025-01-15T12:13:14.263Z"
   },
   {
    "duration": 5,
    "start_time": "2025-01-15T12:13:14.293Z"
   },
   {
    "duration": 298,
    "start_time": "2025-01-15T12:13:14.300Z"
   },
   {
    "duration": 232,
    "start_time": "2025-01-15T12:13:14.602Z"
   },
   {
    "duration": 15,
    "start_time": "2025-01-15T12:13:14.836Z"
   },
   {
    "duration": 80,
    "start_time": "2025-01-15T12:13:14.853Z"
   },
   {
    "duration": 38,
    "start_time": "2025-01-15T12:13:14.934Z"
   },
   {
    "duration": 16,
    "start_time": "2025-01-15T12:13:14.974Z"
   },
   {
    "duration": 103,
    "start_time": "2025-01-15T12:13:14.992Z"
   },
   {
    "duration": 16,
    "start_time": "2025-01-15T12:13:15.097Z"
   },
   {
    "duration": 67,
    "start_time": "2025-01-15T12:13:15.115Z"
   },
   {
    "duration": 33,
    "start_time": "2025-01-15T12:13:15.184Z"
   },
   {
    "duration": 42,
    "start_time": "2025-01-15T12:13:15.219Z"
   },
   {
    "duration": 135,
    "start_time": "2025-01-15T12:13:15.264Z"
   },
   {
    "duration": 0,
    "start_time": "2025-01-15T12:13:15.400Z"
   },
   {
    "duration": 7,
    "start_time": "2025-01-15T12:13:26.446Z"
   },
   {
    "duration": 30,
    "start_time": "2025-01-15T12:13:37.493Z"
   },
   {
    "duration": 5,
    "start_time": "2025-01-15T12:13:50.861Z"
   },
   {
    "duration": 5,
    "start_time": "2025-01-15T12:16:08.473Z"
   },
   {
    "duration": 66,
    "start_time": "2025-01-15T12:16:20.309Z"
   },
   {
    "duration": 61,
    "start_time": "2025-01-15T12:16:26.748Z"
   },
   {
    "duration": 84,
    "start_time": "2025-01-15T12:17:00.117Z"
   },
   {
    "duration": 5,
    "start_time": "2025-01-15T12:17:35.213Z"
   },
   {
    "duration": 6,
    "start_time": "2025-01-15T12:17:46.172Z"
   },
   {
    "duration": 5,
    "start_time": "2025-01-15T12:17:53.373Z"
   },
   {
    "duration": 14,
    "start_time": "2025-01-15T12:19:16.407Z"
   },
   {
    "duration": 48,
    "start_time": "2025-01-15T12:19:22.093Z"
   },
   {
    "duration": 5,
    "start_time": "2025-01-15T12:19:22.605Z"
   },
   {
    "duration": 104,
    "start_time": "2025-01-15T12:21:25.117Z"
   },
   {
    "duration": 5,
    "start_time": "2025-01-15T12:22:37.175Z"
   },
   {
    "duration": 207,
    "start_time": "2025-01-15T12:24:39.996Z"
   },
   {
    "duration": 4,
    "start_time": "2025-01-15T12:24:41.445Z"
   },
   {
    "duration": 173,
    "start_time": "2025-01-15T12:25:03.628Z"
   },
   {
    "duration": 184,
    "start_time": "2025-01-15T12:25:55.364Z"
   },
   {
    "duration": 4,
    "start_time": "2025-01-15T12:25:57.123Z"
   },
   {
    "duration": 208,
    "start_time": "2025-01-15T12:28:37.334Z"
   },
   {
    "duration": 5,
    "start_time": "2025-01-15T12:28:37.891Z"
   },
   {
    "duration": 62,
    "start_time": "2025-01-15T12:30:54.812Z"
   },
   {
    "duration": 61,
    "start_time": "2025-01-15T12:31:03.941Z"
   },
   {
    "duration": 7,
    "start_time": "2025-01-15T12:31:04.660Z"
   },
   {
    "duration": 214,
    "start_time": "2025-01-15T12:31:12.627Z"
   },
   {
    "duration": 138,
    "start_time": "2025-01-15T12:31:19.980Z"
   },
   {
    "duration": 237,
    "start_time": "2025-01-15T12:32:14.948Z"
   },
   {
    "duration": 80,
    "start_time": "2025-01-15T12:32:15.958Z"
   },
   {
    "duration": 21,
    "start_time": "2025-01-15T12:33:36.684Z"
   },
   {
    "duration": 4,
    "start_time": "2025-01-15T12:33:47.323Z"
   },
   {
    "duration": 5,
    "start_time": "2025-01-15T12:33:57.768Z"
   },
   {
    "duration": 242,
    "start_time": "2025-01-15T12:35:11.138Z"
   },
   {
    "duration": 5,
    "start_time": "2025-01-15T12:36:04.792Z"
   },
   {
    "duration": 310,
    "start_time": "2025-01-15T12:37:07.692Z"
   },
   {
    "duration": 329,
    "start_time": "2025-01-15T12:37:40.244Z"
   },
   {
    "duration": 306,
    "start_time": "2025-01-15T12:38:39.779Z"
   },
   {
    "duration": 302,
    "start_time": "2025-01-15T12:39:10.684Z"
   },
   {
    "duration": 315,
    "start_time": "2025-01-15T12:39:28.388Z"
   },
   {
    "duration": 17,
    "start_time": "2025-01-15T12:39:29.550Z"
   },
   {
    "duration": 330,
    "start_time": "2025-01-15T12:39:54.989Z"
   },
   {
    "duration": 4,
    "start_time": "2025-01-15T12:39:56.403Z"
   },
   {
    "duration": 13,
    "start_time": "2025-01-15T12:42:01.811Z"
   },
   {
    "duration": 320,
    "start_time": "2025-01-15T12:42:03.228Z"
   },
   {
    "duration": 5,
    "start_time": "2025-01-15T12:42:03.803Z"
   },
   {
    "duration": 13,
    "start_time": "2025-01-15T12:43:59.532Z"
   },
   {
    "duration": 92,
    "start_time": "2025-01-15T12:44:01.285Z"
   },
   {
    "duration": 64,
    "start_time": "2025-01-15T12:44:09.685Z"
   },
   {
    "duration": 79,
    "start_time": "2025-01-15T12:44:15.409Z"
   },
   {
    "duration": 14,
    "start_time": "2025-01-15T12:45:04.291Z"
   },
   {
    "duration": 75,
    "start_time": "2025-01-15T12:45:14.811Z"
   },
   {
    "duration": 288,
    "start_time": "2025-01-15T12:45:29.803Z"
   },
   {
    "duration": 5,
    "start_time": "2025-01-15T12:45:33.454Z"
   },
   {
    "duration": 290,
    "start_time": "2025-01-15T12:45:38.404Z"
   },
   {
    "duration": 9,
    "start_time": "2025-01-15T12:45:38.971Z"
   },
   {
    "duration": 305,
    "start_time": "2025-01-15T12:45:51.885Z"
   },
   {
    "duration": 4,
    "start_time": "2025-01-15T12:45:52.341Z"
   },
   {
    "duration": 11,
    "start_time": "2025-01-15T12:46:01.556Z"
   },
   {
    "duration": 329,
    "start_time": "2025-01-15T12:49:16.603Z"
   },
   {
    "duration": 18,
    "start_time": "2025-01-15T12:57:15.739Z"
   },
   {
    "duration": 1438,
    "start_time": "2025-01-15T12:57:20.619Z"
   },
   {
    "duration": 17,
    "start_time": "2025-01-15T12:57:36.147Z"
   },
   {
    "duration": 13,
    "start_time": "2025-01-15T12:58:11.074Z"
   },
   {
    "duration": 15,
    "start_time": "2025-01-15T12:58:42.109Z"
   },
   {
    "duration": 22,
    "start_time": "2025-01-15T12:59:24.355Z"
   },
   {
    "duration": 4359,
    "start_time": "2025-01-15T12:59:53.453Z"
   },
   {
    "duration": 2832,
    "start_time": "2025-01-15T12:59:57.815Z"
   },
   {
    "duration": 22,
    "start_time": "2025-01-15T13:00:00.650Z"
   },
   {
    "duration": 45,
    "start_time": "2025-01-15T13:00:00.678Z"
   },
   {
    "duration": 157,
    "start_time": "2025-01-15T13:00:00.726Z"
   },
   {
    "duration": 30,
    "start_time": "2025-01-15T13:00:00.884Z"
   },
   {
    "duration": 80,
    "start_time": "2025-01-15T13:00:00.915Z"
   },
   {
    "duration": 36,
    "start_time": "2025-01-15T13:00:00.997Z"
   },
   {
    "duration": 72,
    "start_time": "2025-01-15T13:00:01.035Z"
   },
   {
    "duration": 63,
    "start_time": "2025-01-15T13:00:01.110Z"
   },
   {
    "duration": 78,
    "start_time": "2025-01-15T13:00:01.176Z"
   },
   {
    "duration": 22,
    "start_time": "2025-01-15T13:00:01.257Z"
   },
   {
    "duration": 41,
    "start_time": "2025-01-15T13:00:01.281Z"
   },
   {
    "duration": 120,
    "start_time": "2025-01-15T13:00:01.324Z"
   },
   {
    "duration": 190,
    "start_time": "2025-01-15T13:00:01.447Z"
   },
   {
    "duration": 40,
    "start_time": "2025-01-15T13:00:01.639Z"
   },
   {
    "duration": 89,
    "start_time": "2025-01-15T13:00:01.687Z"
   },
   {
    "duration": 61,
    "start_time": "2025-01-15T13:00:01.779Z"
   },
   {
    "duration": 62,
    "start_time": "2025-01-15T13:00:01.842Z"
   },
   {
    "duration": 159,
    "start_time": "2025-01-15T13:00:01.907Z"
   },
   {
    "duration": 71,
    "start_time": "2025-01-15T13:00:02.070Z"
   },
   {
    "duration": 70,
    "start_time": "2025-01-15T13:00:02.143Z"
   },
   {
    "duration": 159,
    "start_time": "2025-01-15T13:00:02.215Z"
   },
   {
    "duration": 30,
    "start_time": "2025-01-15T13:00:02.376Z"
   },
   {
    "duration": 77,
    "start_time": "2025-01-15T13:00:02.408Z"
   },
   {
    "duration": 49,
    "start_time": "2025-01-15T13:00:02.486Z"
   },
   {
    "duration": 296,
    "start_time": "2025-01-15T13:00:02.538Z"
   },
   {
    "duration": 246,
    "start_time": "2025-01-15T13:00:02.838Z"
   },
   {
    "duration": 20,
    "start_time": "2025-01-15T13:00:03.086Z"
   },
   {
    "duration": 159,
    "start_time": "2025-01-15T13:00:03.108Z"
   },
   {
    "duration": 14,
    "start_time": "2025-01-15T13:00:03.269Z"
   },
   {
    "duration": 97,
    "start_time": "2025-01-15T13:00:03.285Z"
   },
   {
    "duration": 122,
    "start_time": "2025-01-15T13:00:03.384Z"
   },
   {
    "duration": 16,
    "start_time": "2025-01-15T13:00:03.509Z"
   },
   {
    "duration": 58,
    "start_time": "2025-01-15T13:00:03.527Z"
   },
   {
    "duration": 49,
    "start_time": "2025-01-15T13:00:03.587Z"
   },
   {
    "duration": 57,
    "start_time": "2025-01-15T13:00:03.638Z"
   },
   {
    "duration": 222,
    "start_time": "2025-01-15T13:00:03.697Z"
   },
   {
    "duration": 151,
    "start_time": "2025-01-15T13:00:03.922Z"
   },
   {
    "duration": 11,
    "start_time": "2025-01-15T13:01:54.292Z"
   },
   {
    "duration": 9,
    "start_time": "2025-01-15T13:02:08.825Z"
   },
   {
    "duration": 17,
    "start_time": "2025-01-15T13:02:21.784Z"
   },
   {
    "duration": 20,
    "start_time": "2025-01-15T13:07:10.806Z"
   },
   {
    "duration": 21,
    "start_time": "2025-01-15T13:07:31.549Z"
   },
   {
    "duration": 10,
    "start_time": "2025-01-15T13:07:38.417Z"
   },
   {
    "duration": 21,
    "start_time": "2025-01-15T13:07:40.036Z"
   },
   {
    "duration": 16,
    "start_time": "2025-01-15T13:07:58.430Z"
   },
   {
    "duration": 19,
    "start_time": "2025-01-15T13:08:04.836Z"
   },
   {
    "duration": 22,
    "start_time": "2025-01-15T13:08:06.908Z"
   },
   {
    "duration": 10,
    "start_time": "2025-01-15T13:08:16.036Z"
   },
   {
    "duration": 21,
    "start_time": "2025-01-15T13:08:16.580Z"
   },
   {
    "duration": 16,
    "start_time": "2025-01-15T13:13:51.132Z"
   },
   {
    "duration": 28,
    "start_time": "2025-01-15T13:14:11.573Z"
   },
   {
    "duration": 15,
    "start_time": "2025-01-15T13:14:23.168Z"
   },
   {
    "duration": 13,
    "start_time": "2025-01-15T13:14:31.597Z"
   },
   {
    "duration": 17,
    "start_time": "2025-01-15T13:14:37.180Z"
   },
   {
    "duration": 32,
    "start_time": "2025-01-15T13:14:38.700Z"
   },
   {
    "duration": 19,
    "start_time": "2025-01-15T13:14:56.812Z"
   },
   {
    "duration": 21,
    "start_time": "2025-01-15T13:14:57.708Z"
   },
   {
    "duration": 5,
    "start_time": "2025-01-15T13:17:37.780Z"
   },
   {
    "duration": 30,
    "start_time": "2025-01-15T13:18:06.740Z"
   },
   {
    "duration": 32,
    "start_time": "2025-01-15T13:18:07.428Z"
   },
   {
    "duration": 30,
    "start_time": "2025-01-15T13:19:18.084Z"
   },
   {
    "duration": 29,
    "start_time": "2025-01-15T13:19:18.853Z"
   },
   {
    "duration": 788,
    "start_time": "2025-01-15T13:35:04.573Z"
   },
   {
    "duration": 68,
    "start_time": "2025-01-15T13:36:49.436Z"
   },
   {
    "duration": 31,
    "start_time": "2025-01-15T13:37:13.820Z"
   },
   {
    "duration": 142,
    "start_time": "2025-01-15T13:37:27.692Z"
   },
   {
    "duration": 59,
    "start_time": "2025-01-15T13:37:49.589Z"
   },
   {
    "duration": 93,
    "start_time": "2025-01-15T13:39:57.829Z"
   },
   {
    "duration": 103,
    "start_time": "2025-01-15T13:41:51.676Z"
   },
   {
    "duration": 6,
    "start_time": "2025-01-15T13:41:53.466Z"
   },
   {
    "duration": 3988,
    "start_time": "2025-01-15T13:42:09.599Z"
   },
   {
    "duration": 5309,
    "start_time": "2025-01-15T13:42:13.590Z"
   },
   {
    "duration": 15,
    "start_time": "2025-01-15T13:42:18.901Z"
   },
   {
    "duration": 16,
    "start_time": "2025-01-15T13:42:18.918Z"
   },
   {
    "duration": 115,
    "start_time": "2025-01-15T13:42:18.935Z"
   },
   {
    "duration": 30,
    "start_time": "2025-01-15T13:42:19.052Z"
   },
   {
    "duration": 30,
    "start_time": "2025-01-15T13:42:19.084Z"
   },
   {
    "duration": 9,
    "start_time": "2025-01-15T13:42:19.116Z"
   },
   {
    "duration": 43,
    "start_time": "2025-01-15T13:42:19.126Z"
   },
   {
    "duration": 8,
    "start_time": "2025-01-15T13:42:19.172Z"
   },
   {
    "duration": 46,
    "start_time": "2025-01-15T13:42:19.182Z"
   },
   {
    "duration": 32,
    "start_time": "2025-01-15T13:42:19.229Z"
   },
   {
    "duration": 11,
    "start_time": "2025-01-15T13:42:19.263Z"
   },
   {
    "duration": 13,
    "start_time": "2025-01-15T13:42:19.276Z"
   },
   {
    "duration": 161,
    "start_time": "2025-01-15T13:42:19.291Z"
   },
   {
    "duration": 7,
    "start_time": "2025-01-15T13:42:19.454Z"
   },
   {
    "duration": 21,
    "start_time": "2025-01-15T13:42:19.463Z"
   },
   {
    "duration": 8,
    "start_time": "2025-01-15T13:42:19.486Z"
   },
   {
    "duration": 10,
    "start_time": "2025-01-15T13:42:19.496Z"
   },
   {
    "duration": 105,
    "start_time": "2025-01-15T13:42:19.507Z"
   },
   {
    "duration": 23,
    "start_time": "2025-01-15T13:42:19.614Z"
   },
   {
    "duration": 26,
    "start_time": "2025-01-15T13:42:19.639Z"
   },
   {
    "duration": 37,
    "start_time": "2025-01-15T13:42:19.667Z"
   },
   {
    "duration": 12,
    "start_time": "2025-01-15T13:42:19.706Z"
   },
   {
    "duration": 48,
    "start_time": "2025-01-15T13:42:19.719Z"
   },
   {
    "duration": 4,
    "start_time": "2025-01-15T13:42:19.769Z"
   },
   {
    "duration": 216,
    "start_time": "2025-01-15T13:42:19.775Z"
   },
   {
    "duration": 200,
    "start_time": "2025-01-15T13:42:19.994Z"
   },
   {
    "duration": 13,
    "start_time": "2025-01-15T13:42:20.196Z"
   },
   {
    "duration": 100,
    "start_time": "2025-01-15T13:42:20.211Z"
   },
   {
    "duration": 11,
    "start_time": "2025-01-15T13:42:20.312Z"
   },
   {
    "duration": 15,
    "start_time": "2025-01-15T13:42:20.325Z"
   },
   {
    "duration": 80,
    "start_time": "2025-01-15T13:42:20.361Z"
   },
   {
    "duration": 29,
    "start_time": "2025-01-15T13:42:20.443Z"
   },
   {
    "duration": 20,
    "start_time": "2025-01-15T13:42:20.474Z"
   },
   {
    "duration": 22,
    "start_time": "2025-01-15T13:42:20.496Z"
   },
   {
    "duration": 41,
    "start_time": "2025-01-15T13:42:20.520Z"
   },
   {
    "duration": 200,
    "start_time": "2025-01-15T13:42:20.563Z"
   },
   {
    "duration": 5,
    "start_time": "2025-01-15T13:42:20.765Z"
   },
   {
    "duration": 41,
    "start_time": "2025-01-15T13:42:20.772Z"
   },
   {
    "duration": 78,
    "start_time": "2025-01-15T13:42:20.815Z"
   },
   {
    "duration": 103,
    "start_time": "2025-01-15T13:42:20.894Z"
   },
   {
    "duration": 71,
    "start_time": "2025-01-15T13:43:07.522Z"
   },
   {
    "duration": 116,
    "start_time": "2025-01-15T13:44:34.681Z"
   },
   {
    "duration": 3889,
    "start_time": "2025-01-15T13:44:57.556Z"
   },
   {
    "duration": 3297,
    "start_time": "2025-01-15T13:45:01.447Z"
   },
   {
    "duration": 15,
    "start_time": "2025-01-15T13:45:04.746Z"
   },
   {
    "duration": 22,
    "start_time": "2025-01-15T13:45:04.764Z"
   },
   {
    "duration": 124,
    "start_time": "2025-01-15T13:45:04.789Z"
   },
   {
    "duration": 26,
    "start_time": "2025-01-15T13:45:04.915Z"
   },
   {
    "duration": 39,
    "start_time": "2025-01-15T13:45:04.943Z"
   },
   {
    "duration": 8,
    "start_time": "2025-01-15T13:45:04.984Z"
   },
   {
    "duration": 42,
    "start_time": "2025-01-15T13:45:04.993Z"
   },
   {
    "duration": 8,
    "start_time": "2025-01-15T13:45:05.037Z"
   },
   {
    "duration": 61,
    "start_time": "2025-01-15T13:45:05.046Z"
   },
   {
    "duration": 12,
    "start_time": "2025-01-15T13:45:05.110Z"
   },
   {
    "duration": 17,
    "start_time": "2025-01-15T13:45:05.123Z"
   },
   {
    "duration": 26,
    "start_time": "2025-01-15T13:45:05.142Z"
   },
   {
    "duration": 161,
    "start_time": "2025-01-15T13:45:05.169Z"
   },
   {
    "duration": 5,
    "start_time": "2025-01-15T13:45:05.332Z"
   },
   {
    "duration": 33,
    "start_time": "2025-01-15T13:45:05.339Z"
   },
   {
    "duration": 53,
    "start_time": "2025-01-15T13:45:05.374Z"
   },
   {
    "duration": 33,
    "start_time": "2025-01-15T13:45:05.429Z"
   },
   {
    "duration": 83,
    "start_time": "2025-01-15T13:45:05.464Z"
   },
   {
    "duration": 26,
    "start_time": "2025-01-15T13:45:05.549Z"
   },
   {
    "duration": 51,
    "start_time": "2025-01-15T13:45:05.577Z"
   },
   {
    "duration": 87,
    "start_time": "2025-01-15T13:45:05.630Z"
   },
   {
    "duration": 28,
    "start_time": "2025-01-15T13:45:05.719Z"
   },
   {
    "duration": 58,
    "start_time": "2025-01-15T13:45:05.749Z"
   },
   {
    "duration": 17,
    "start_time": "2025-01-15T13:45:05.808Z"
   },
   {
    "duration": 230,
    "start_time": "2025-01-15T13:45:05.827Z"
   },
   {
    "duration": 192,
    "start_time": "2025-01-15T13:45:06.061Z"
   },
   {
    "duration": 16,
    "start_time": "2025-01-15T13:45:06.255Z"
   },
   {
    "duration": 77,
    "start_time": "2025-01-15T13:45:06.273Z"
   },
   {
    "duration": 17,
    "start_time": "2025-01-15T13:45:06.352Z"
   },
   {
    "duration": 24,
    "start_time": "2025-01-15T13:45:06.371Z"
   },
   {
    "duration": 92,
    "start_time": "2025-01-15T13:45:06.397Z"
   },
   {
    "duration": 16,
    "start_time": "2025-01-15T13:45:06.491Z"
   },
   {
    "duration": 50,
    "start_time": "2025-01-15T13:45:06.508Z"
   },
   {
    "duration": 38,
    "start_time": "2025-01-15T13:45:06.560Z"
   },
   {
    "duration": 33,
    "start_time": "2025-01-15T13:45:06.600Z"
   },
   {
    "duration": 190,
    "start_time": "2025-01-15T13:45:06.635Z"
   },
   {
    "duration": 4,
    "start_time": "2025-01-15T13:45:06.827Z"
   },
   {
    "duration": 50,
    "start_time": "2025-01-15T13:45:06.833Z"
   },
   {
    "duration": 58,
    "start_time": "2025-01-15T13:45:06.885Z"
   },
   {
    "duration": 137,
    "start_time": "2025-01-15T13:45:06.945Z"
   },
   {
    "duration": 0,
    "start_time": "2025-01-15T13:45:07.083Z"
   },
   {
    "duration": 0,
    "start_time": "2025-01-15T13:45:07.084Z"
   },
   {
    "duration": 33,
    "start_time": "2025-01-15T13:45:33.352Z"
   },
   {
    "duration": 46,
    "start_time": "2025-01-15T13:45:34.221Z"
   },
   {
    "duration": 52,
    "start_time": "2025-01-15T13:45:35.985Z"
   },
   {
    "duration": 84,
    "start_time": "2025-01-15T13:45:37.616Z"
   },
   {
    "duration": 18,
    "start_time": "2025-01-15T13:45:54.609Z"
   },
   {
    "duration": 77,
    "start_time": "2025-01-15T13:53:04.064Z"
   },
   {
    "duration": 15,
    "start_time": "2025-01-15T13:55:36.029Z"
   },
   {
    "duration": 38,
    "start_time": "2025-01-15T13:56:16.085Z"
   },
   {
    "duration": 83,
    "start_time": "2025-01-15T13:56:26.840Z"
   },
   {
    "duration": 536,
    "start_time": "2025-01-15T14:03:06.161Z"
   },
   {
    "duration": 535,
    "start_time": "2025-01-15T14:04:43.480Z"
   },
   {
    "duration": 518,
    "start_time": "2025-01-15T14:04:54.657Z"
   },
   {
    "duration": 508,
    "start_time": "2025-01-15T14:05:03.794Z"
   },
   {
    "duration": 4215,
    "start_time": "2025-01-15T14:05:11.875Z"
   },
   {
    "duration": 3013,
    "start_time": "2025-01-15T14:05:16.093Z"
   },
   {
    "duration": 16,
    "start_time": "2025-01-15T14:05:19.108Z"
   },
   {
    "duration": 15,
    "start_time": "2025-01-15T14:05:19.127Z"
   },
   {
    "duration": 116,
    "start_time": "2025-01-15T14:05:19.144Z"
   },
   {
    "duration": 29,
    "start_time": "2025-01-15T14:05:19.262Z"
   },
   {
    "duration": 41,
    "start_time": "2025-01-15T14:05:19.293Z"
   },
   {
    "duration": 27,
    "start_time": "2025-01-15T14:05:19.335Z"
   },
   {
    "duration": 42,
    "start_time": "2025-01-15T14:05:19.365Z"
   },
   {
    "duration": 13,
    "start_time": "2025-01-15T14:05:19.412Z"
   },
   {
    "duration": 116,
    "start_time": "2025-01-15T14:05:19.427Z"
   },
   {
    "duration": 10,
    "start_time": "2025-01-15T14:05:19.545Z"
   },
   {
    "duration": 17,
    "start_time": "2025-01-15T14:05:19.557Z"
   },
   {
    "duration": 13,
    "start_time": "2025-01-15T14:05:19.577Z"
   },
   {
    "duration": 177,
    "start_time": "2025-01-15T14:05:19.592Z"
   },
   {
    "duration": 9,
    "start_time": "2025-01-15T14:05:19.772Z"
   },
   {
    "duration": 23,
    "start_time": "2025-01-15T14:05:19.783Z"
   },
   {
    "duration": 6,
    "start_time": "2025-01-15T14:05:19.809Z"
   },
   {
    "duration": 28,
    "start_time": "2025-01-15T14:05:19.818Z"
   },
   {
    "duration": 129,
    "start_time": "2025-01-15T14:05:19.861Z"
   },
   {
    "duration": 40,
    "start_time": "2025-01-15T14:05:19.992Z"
   },
   {
    "duration": 40,
    "start_time": "2025-01-15T14:05:20.035Z"
   },
   {
    "duration": 71,
    "start_time": "2025-01-15T14:05:20.078Z"
   },
   {
    "duration": 13,
    "start_time": "2025-01-15T14:05:20.151Z"
   },
   {
    "duration": 38,
    "start_time": "2025-01-15T14:05:20.167Z"
   },
   {
    "duration": 5,
    "start_time": "2025-01-15T14:05:20.208Z"
   },
   {
    "duration": 312,
    "start_time": "2025-01-15T14:05:20.216Z"
   },
   {
    "duration": 226,
    "start_time": "2025-01-15T14:05:20.534Z"
   },
   {
    "duration": 17,
    "start_time": "2025-01-15T14:05:20.763Z"
   },
   {
    "duration": 88,
    "start_time": "2025-01-15T14:05:20.783Z"
   },
   {
    "duration": 13,
    "start_time": "2025-01-15T14:05:20.874Z"
   },
   {
    "duration": 45,
    "start_time": "2025-01-15T14:05:20.889Z"
   },
   {
    "duration": 120,
    "start_time": "2025-01-15T14:05:20.936Z"
   },
   {
    "duration": 24,
    "start_time": "2025-01-15T14:05:21.058Z"
   },
   {
    "duration": 23,
    "start_time": "2025-01-15T14:05:21.085Z"
   },
   {
    "duration": 22,
    "start_time": "2025-01-15T14:05:21.110Z"
   },
   {
    "duration": 23,
    "start_time": "2025-01-15T14:05:21.159Z"
   },
   {
    "duration": 230,
    "start_time": "2025-01-15T14:05:21.184Z"
   },
   {
    "duration": 5,
    "start_time": "2025-01-15T14:05:21.416Z"
   },
   {
    "duration": 49,
    "start_time": "2025-01-15T14:05:21.423Z"
   },
   {
    "duration": 49,
    "start_time": "2025-01-15T14:05:21.474Z"
   },
   {
    "duration": 63,
    "start_time": "2025-01-15T14:05:21.524Z"
   },
   {
    "duration": 99,
    "start_time": "2025-01-15T14:05:21.589Z"
   },
   {
    "duration": 114,
    "start_time": "2025-01-15T14:05:21.690Z"
   },
   {
    "duration": 35,
    "start_time": "2025-01-15T14:05:21.806Z"
   },
   {
    "duration": 94,
    "start_time": "2025-01-15T14:05:21.843Z"
   },
   {
    "duration": 492,
    "start_time": "2025-01-15T14:05:21.939Z"
   },
   {
    "duration": 3,
    "start_time": "2025-01-15T14:05:22.432Z"
   },
   {
    "duration": 7,
    "start_time": "2025-01-15T14:05:22.436Z"
   },
   {
    "duration": 15,
    "start_time": "2025-01-15T14:05:22.445Z"
   },
   {
    "duration": 20,
    "start_time": "2025-01-15T14:05:22.461Z"
   },
   {
    "duration": 6,
    "start_time": "2025-01-15T14:05:22.483Z"
   },
   {
    "duration": 4,
    "start_time": "2025-01-15T14:05:22.492Z"
   },
   {
    "duration": 24,
    "start_time": "2025-01-15T14:05:22.498Z"
   },
   {
    "duration": 31,
    "start_time": "2025-01-15T14:05:39.554Z"
   },
   {
    "duration": 2,
    "start_time": "2025-01-15T14:06:01.339Z"
   },
   {
    "duration": 350,
    "start_time": "2025-01-15T14:06:41.019Z"
   },
   {
    "duration": 113,
    "start_time": "2025-01-15T14:07:23.706Z"
   },
   {
    "duration": 352,
    "start_time": "2025-01-15T14:07:39.426Z"
   },
   {
    "duration": 320,
    "start_time": "2025-01-15T14:08:38.965Z"
   },
   {
    "duration": 389,
    "start_time": "2025-01-15T14:08:48.356Z"
   },
   {
    "duration": 377,
    "start_time": "2025-01-15T14:09:29.197Z"
   },
   {
    "duration": 11,
    "start_time": "2025-01-15T14:11:59.674Z"
   },
   {
    "duration": 39,
    "start_time": "2025-01-15T14:12:09.579Z"
   },
   {
    "duration": 21,
    "start_time": "2025-01-15T14:12:17.471Z"
   },
   {
    "duration": 416,
    "start_time": "2025-01-15T14:23:59.834Z"
   },
   {
    "duration": 8,
    "start_time": "2025-01-15T15:29:23.951Z"
   },
   {
    "duration": 1297,
    "start_time": "2025-01-15T16:06:16.740Z"
   },
   {
    "duration": 209,
    "start_time": "2025-01-15T16:06:45.930Z"
   },
   {
    "duration": 193,
    "start_time": "2025-01-15T16:07:06.740Z"
   },
   {
    "duration": 176,
    "start_time": "2025-01-15T16:07:51.019Z"
   },
   {
    "duration": 231,
    "start_time": "2025-01-15T16:08:48.804Z"
   },
   {
    "duration": 235,
    "start_time": "2025-01-15T16:09:56.731Z"
   },
   {
    "duration": 249,
    "start_time": "2025-01-15T16:10:20.067Z"
   },
   {
    "duration": 400,
    "start_time": "2025-01-15T16:10:25.695Z"
   },
   {
    "duration": 324,
    "start_time": "2025-01-15T16:10:38.595Z"
   },
   {
    "duration": 329,
    "start_time": "2025-01-15T16:11:45.515Z"
   },
   {
    "duration": 1512,
    "start_time": "2025-01-15T16:13:08.219Z"
   },
   {
    "duration": 343,
    "start_time": "2025-01-15T16:14:05.638Z"
   },
   {
    "duration": 15,
    "start_time": "2025-01-15T16:20:03.529Z"
   },
   {
    "duration": 78,
    "start_time": "2025-01-15T16:21:12.420Z"
   },
   {
    "duration": 17,
    "start_time": "2025-01-15T16:25:20.156Z"
   },
   {
    "duration": 16,
    "start_time": "2025-01-15T16:27:22.403Z"
   },
   {
    "duration": 4024,
    "start_time": "2025-01-15T16:31:55.231Z"
   },
   {
    "duration": 2261,
    "start_time": "2025-01-15T16:31:59.258Z"
   },
   {
    "duration": 16,
    "start_time": "2025-01-15T16:32:01.520Z"
   },
   {
    "duration": 51,
    "start_time": "2025-01-15T16:32:01.539Z"
   },
   {
    "duration": 163,
    "start_time": "2025-01-15T16:32:01.592Z"
   },
   {
    "duration": 33,
    "start_time": "2025-01-15T16:32:01.761Z"
   },
   {
    "duration": 116,
    "start_time": "2025-01-15T16:32:01.796Z"
   },
   {
    "duration": 24,
    "start_time": "2025-01-15T16:32:01.915Z"
   },
   {
    "duration": 86,
    "start_time": "2025-01-15T16:32:01.941Z"
   },
   {
    "duration": 69,
    "start_time": "2025-01-15T16:32:02.031Z"
   },
   {
    "duration": 47,
    "start_time": "2025-01-15T16:32:02.102Z"
   },
   {
    "duration": 19,
    "start_time": "2025-01-15T16:32:02.152Z"
   },
   {
    "duration": 42,
    "start_time": "2025-01-15T16:32:02.173Z"
   },
   {
    "duration": 85,
    "start_time": "2025-01-15T16:32:02.218Z"
   },
   {
    "duration": 204,
    "start_time": "2025-01-15T16:32:02.305Z"
   },
   {
    "duration": 6,
    "start_time": "2025-01-15T16:32:02.511Z"
   },
   {
    "duration": 50,
    "start_time": "2025-01-15T16:32:02.519Z"
   },
   {
    "duration": 54,
    "start_time": "2025-01-15T16:32:02.571Z"
   },
   {
    "duration": 55,
    "start_time": "2025-01-15T16:32:02.627Z"
   },
   {
    "duration": 132,
    "start_time": "2025-01-15T16:32:02.684Z"
   },
   {
    "duration": 25,
    "start_time": "2025-01-15T16:32:02.817Z"
   },
   {
    "duration": 32,
    "start_time": "2025-01-15T16:32:02.861Z"
   },
   {
    "duration": 68,
    "start_time": "2025-01-15T16:32:02.896Z"
   },
   {
    "duration": 26,
    "start_time": "2025-01-15T16:32:02.966Z"
   },
   {
    "duration": 26,
    "start_time": "2025-01-15T16:32:02.994Z"
   },
   {
    "duration": 422,
    "start_time": "2025-01-15T16:32:03.022Z"
   },
   {
    "duration": 239,
    "start_time": "2025-01-15T16:32:03.446Z"
   },
   {
    "duration": 14,
    "start_time": "2025-01-15T16:32:03.690Z"
   },
   {
    "duration": 89,
    "start_time": "2025-01-15T16:32:03.706Z"
   },
   {
    "duration": 11,
    "start_time": "2025-01-15T16:32:03.796Z"
   },
   {
    "duration": 16,
    "start_time": "2025-01-15T16:32:03.809Z"
   },
   {
    "duration": 110,
    "start_time": "2025-01-15T16:32:03.827Z"
   },
   {
    "duration": 30,
    "start_time": "2025-01-15T16:32:03.939Z"
   },
   {
    "duration": 44,
    "start_time": "2025-01-15T16:32:03.970Z"
   },
   {
    "duration": 42,
    "start_time": "2025-01-15T16:32:04.016Z"
   },
   {
    "duration": 44,
    "start_time": "2025-01-15T16:32:04.060Z"
   },
   {
    "duration": 216,
    "start_time": "2025-01-15T16:32:04.106Z"
   },
   {
    "duration": 4,
    "start_time": "2025-01-15T16:32:04.324Z"
   },
   {
    "duration": 55,
    "start_time": "2025-01-15T16:32:04.330Z"
   },
   {
    "duration": 43,
    "start_time": "2025-01-15T16:32:04.387Z"
   },
   {
    "duration": 72,
    "start_time": "2025-01-15T16:32:04.432Z"
   },
   {
    "duration": 100,
    "start_time": "2025-01-15T16:32:04.506Z"
   },
   {
    "duration": 101,
    "start_time": "2025-01-15T16:32:04.608Z"
   },
   {
    "duration": 57,
    "start_time": "2025-01-15T16:32:04.711Z"
   },
   {
    "duration": 94,
    "start_time": "2025-01-15T16:32:04.770Z"
   },
   {
    "duration": 475,
    "start_time": "2025-01-15T16:32:04.866Z"
   },
   {
    "duration": 325,
    "start_time": "2025-01-15T16:32:05.343Z"
   },
   {
    "duration": 340,
    "start_time": "2025-01-15T16:32:05.670Z"
   },
   {
    "duration": 21,
    "start_time": "2025-01-15T16:40:30.162Z"
   },
   {
    "duration": 18,
    "start_time": "2025-01-15T16:40:49.794Z"
   },
   {
    "duration": 18,
    "start_time": "2025-01-15T16:41:50.058Z"
   },
   {
    "duration": 5175,
    "start_time": "2025-01-16T17:40:28.757Z"
   },
   {
    "duration": 2635,
    "start_time": "2025-01-16T17:40:33.935Z"
   },
   {
    "duration": 13,
    "start_time": "2025-01-16T17:40:36.572Z"
   },
   {
    "duration": 21,
    "start_time": "2025-01-16T17:40:36.587Z"
   },
   {
    "duration": 117,
    "start_time": "2025-01-16T17:40:36.610Z"
   },
   {
    "duration": 26,
    "start_time": "2025-01-16T17:40:36.728Z"
   },
   {
    "duration": 40,
    "start_time": "2025-01-16T17:40:36.756Z"
   },
   {
    "duration": 19,
    "start_time": "2025-01-16T17:40:36.797Z"
   },
   {
    "duration": 21,
    "start_time": "2025-01-16T17:40:36.817Z"
   },
   {
    "duration": 8,
    "start_time": "2025-01-16T17:40:36.841Z"
   },
   {
    "duration": 65,
    "start_time": "2025-01-16T17:40:36.850Z"
   },
   {
    "duration": 10,
    "start_time": "2025-01-16T17:40:36.917Z"
   },
   {
    "duration": 8,
    "start_time": "2025-01-16T17:40:36.928Z"
   },
   {
    "duration": 21,
    "start_time": "2025-01-16T17:40:36.937Z"
   },
   {
    "duration": 151,
    "start_time": "2025-01-16T17:40:36.960Z"
   },
   {
    "duration": 5,
    "start_time": "2025-01-16T17:40:37.114Z"
   },
   {
    "duration": 20,
    "start_time": "2025-01-16T17:40:37.120Z"
   },
   {
    "duration": 25,
    "start_time": "2025-01-16T17:40:37.142Z"
   },
   {
    "duration": 9,
    "start_time": "2025-01-16T17:40:37.169Z"
   },
   {
    "duration": 81,
    "start_time": "2025-01-16T17:40:37.179Z"
   },
   {
    "duration": 23,
    "start_time": "2025-01-16T17:40:37.262Z"
   },
   {
    "duration": 29,
    "start_time": "2025-01-16T17:40:37.287Z"
   },
   {
    "duration": 37,
    "start_time": "2025-01-16T17:40:37.317Z"
   },
   {
    "duration": 19,
    "start_time": "2025-01-16T17:40:37.356Z"
   },
   {
    "duration": 44,
    "start_time": "2025-01-16T17:40:37.377Z"
   },
   {
    "duration": 323,
    "start_time": "2025-01-16T17:40:37.423Z"
   },
   {
    "duration": 198,
    "start_time": "2025-01-16T17:40:37.748Z"
   },
   {
    "duration": 15,
    "start_time": "2025-01-16T17:40:37.950Z"
   },
   {
    "duration": 79,
    "start_time": "2025-01-16T17:40:37.967Z"
   },
   {
    "duration": 11,
    "start_time": "2025-01-16T17:40:38.048Z"
   },
   {
    "duration": 14,
    "start_time": "2025-01-16T17:40:38.061Z"
   },
   {
    "duration": 115,
    "start_time": "2025-01-16T17:40:38.077Z"
   },
   {
    "duration": 22,
    "start_time": "2025-01-16T17:40:38.194Z"
   },
   {
    "duration": 16,
    "start_time": "2025-01-16T17:40:38.219Z"
   },
   {
    "duration": 16,
    "start_time": "2025-01-16T17:40:38.237Z"
   },
   {
    "duration": 20,
    "start_time": "2025-01-16T17:40:38.255Z"
   },
   {
    "duration": 210,
    "start_time": "2025-01-16T17:40:38.277Z"
   },
   {
    "duration": 4,
    "start_time": "2025-01-16T17:40:38.489Z"
   },
   {
    "duration": 42,
    "start_time": "2025-01-16T17:40:38.495Z"
   },
   {
    "duration": 39,
    "start_time": "2025-01-16T17:40:38.539Z"
   },
   {
    "duration": 59,
    "start_time": "2025-01-16T17:40:38.580Z"
   },
   {
    "duration": 86,
    "start_time": "2025-01-16T17:40:38.641Z"
   },
   {
    "duration": 18,
    "start_time": "2025-01-16T17:40:38.729Z"
   },
   {
    "duration": 101,
    "start_time": "2025-01-16T17:40:38.749Z"
   },
   {
    "duration": 27,
    "start_time": "2025-01-16T17:40:38.852Z"
   },
   {
    "duration": 91,
    "start_time": "2025-01-16T17:40:38.881Z"
   },
   {
    "duration": 429,
    "start_time": "2025-01-16T17:40:38.974Z"
   },
   {
    "duration": 325,
    "start_time": "2025-01-16T17:40:39.405Z"
   },
   {
    "duration": 354,
    "start_time": "2025-01-16T17:40:39.732Z"
   },
   {
    "duration": 51,
    "start_time": "2025-01-16T17:40:40.088Z"
   },
   {
    "duration": 47,
    "start_time": "2025-01-17T08:13:04.858Z"
   },
   {
    "duration": 6,
    "start_time": "2025-01-17T08:14:35.874Z"
   },
   {
    "duration": 4820,
    "start_time": "2025-01-17T08:14:45.720Z"
   },
   {
    "duration": 2460,
    "start_time": "2025-01-17T08:14:50.543Z"
   },
   {
    "duration": 12,
    "start_time": "2025-01-17T08:14:53.005Z"
   },
   {
    "duration": 19,
    "start_time": "2025-01-17T08:14:53.019Z"
   },
   {
    "duration": 102,
    "start_time": "2025-01-17T08:14:53.040Z"
   },
   {
    "duration": 24,
    "start_time": "2025-01-17T08:14:53.143Z"
   },
   {
    "duration": 43,
    "start_time": "2025-01-17T08:14:53.169Z"
   },
   {
    "duration": 8,
    "start_time": "2025-01-17T08:14:53.215Z"
   },
   {
    "duration": 33,
    "start_time": "2025-01-17T08:14:53.225Z"
   },
   {
    "duration": 27,
    "start_time": "2025-01-17T08:14:53.259Z"
   },
   {
    "duration": 55,
    "start_time": "2025-01-17T08:14:53.287Z"
   },
   {
    "duration": 9,
    "start_time": "2025-01-17T08:14:53.344Z"
   },
   {
    "duration": 22,
    "start_time": "2025-01-17T08:14:53.354Z"
   },
   {
    "duration": 18,
    "start_time": "2025-01-17T08:14:53.380Z"
   },
   {
    "duration": 14,
    "start_time": "2025-01-17T08:14:53.400Z"
   },
   {
    "duration": 153,
    "start_time": "2025-01-17T08:14:53.416Z"
   },
   {
    "duration": 6,
    "start_time": "2025-01-17T08:14:53.571Z"
   },
   {
    "duration": 39,
    "start_time": "2025-01-17T08:14:53.579Z"
   },
   {
    "duration": 11,
    "start_time": "2025-01-17T08:14:53.620Z"
   },
   {
    "duration": 9,
    "start_time": "2025-01-17T08:14:53.632Z"
   },
   {
    "duration": 73,
    "start_time": "2025-01-17T08:14:53.642Z"
   },
   {
    "duration": 21,
    "start_time": "2025-01-17T08:14:53.722Z"
   },
   {
    "duration": 26,
    "start_time": "2025-01-17T08:14:53.745Z"
   },
   {
    "duration": 103,
    "start_time": "2025-01-17T08:14:53.772Z"
   },
   {
    "duration": 11,
    "start_time": "2025-01-17T08:14:53.878Z"
   },
   {
    "duration": 33,
    "start_time": "2025-01-17T08:14:53.890Z"
   },
   {
    "duration": 301,
    "start_time": "2025-01-17T08:14:53.925Z"
   },
   {
    "duration": 176,
    "start_time": "2025-01-17T08:14:54.228Z"
   },
   {
    "duration": 16,
    "start_time": "2025-01-17T08:14:54.406Z"
   },
   {
    "duration": 102,
    "start_time": "2025-01-17T08:14:54.424Z"
   },
   {
    "duration": 10,
    "start_time": "2025-01-17T08:14:54.528Z"
   },
   {
    "duration": 21,
    "start_time": "2025-01-17T08:14:54.539Z"
   },
   {
    "duration": 89,
    "start_time": "2025-01-17T08:14:54.561Z"
   },
   {
    "duration": 14,
    "start_time": "2025-01-17T08:14:54.651Z"
   },
   {
    "duration": 32,
    "start_time": "2025-01-17T08:14:54.667Z"
   },
   {
    "duration": 33,
    "start_time": "2025-01-17T08:14:54.700Z"
   },
   {
    "duration": 39,
    "start_time": "2025-01-17T08:14:54.735Z"
   },
   {
    "duration": 167,
    "start_time": "2025-01-17T08:14:54.776Z"
   },
   {
    "duration": 4,
    "start_time": "2025-01-17T08:14:54.945Z"
   },
   {
    "duration": 38,
    "start_time": "2025-01-17T08:14:54.950Z"
   },
   {
    "duration": 45,
    "start_time": "2025-01-17T08:14:54.991Z"
   },
   {
    "duration": 47,
    "start_time": "2025-01-17T08:14:55.037Z"
   },
   {
    "duration": 85,
    "start_time": "2025-01-17T08:14:55.086Z"
   },
   {
    "duration": 17,
    "start_time": "2025-01-17T08:14:55.173Z"
   },
   {
    "duration": 95,
    "start_time": "2025-01-17T08:14:55.191Z"
   },
   {
    "duration": 24,
    "start_time": "2025-01-17T08:14:55.288Z"
   },
   {
    "duration": 72,
    "start_time": "2025-01-17T08:14:55.322Z"
   },
   {
    "duration": 406,
    "start_time": "2025-01-17T08:14:55.396Z"
   },
   {
    "duration": 292,
    "start_time": "2025-01-17T08:14:55.803Z"
   },
   {
    "duration": 320,
    "start_time": "2025-01-17T08:14:56.098Z"
   },
   {
    "duration": 34,
    "start_time": "2025-01-17T08:14:56.422Z"
   },
   {
    "duration": 4,
    "start_time": "2025-01-17T08:15:33.347Z"
   },
   {
    "duration": 180,
    "start_time": "2025-01-17T08:15:56.217Z"
   },
   {
    "duration": 906,
    "start_time": "2025-01-17T08:17:08.905Z"
   },
   {
    "duration": 751,
    "start_time": "2025-01-17T08:17:18.831Z"
   },
   {
    "duration": 3,
    "start_time": "2025-01-17T08:17:19.584Z"
   },
   {
    "duration": 4,
    "start_time": "2025-01-17T08:17:20.160Z"
   },
   {
    "duration": 821,
    "start_time": "2025-01-17T08:19:52.880Z"
   },
   {
    "duration": 3711,
    "start_time": "2025-01-17T08:20:25.382Z"
   },
   {
    "duration": 1974,
    "start_time": "2025-01-17T08:20:29.095Z"
   },
   {
    "duration": 13,
    "start_time": "2025-01-17T08:20:31.071Z"
   },
   {
    "duration": 22,
    "start_time": "2025-01-17T08:20:31.085Z"
   },
   {
    "duration": 106,
    "start_time": "2025-01-17T08:20:31.109Z"
   },
   {
    "duration": 24,
    "start_time": "2025-01-17T08:20:31.217Z"
   },
   {
    "duration": 34,
    "start_time": "2025-01-17T08:20:31.243Z"
   },
   {
    "duration": 11,
    "start_time": "2025-01-17T08:20:31.279Z"
   },
   {
    "duration": 23,
    "start_time": "2025-01-17T08:20:31.292Z"
   },
   {
    "duration": 7,
    "start_time": "2025-01-17T08:20:31.317Z"
   },
   {
    "duration": 41,
    "start_time": "2025-01-17T08:20:31.326Z"
   },
   {
    "duration": 9,
    "start_time": "2025-01-17T08:20:31.369Z"
   },
   {
    "duration": 616,
    "start_time": "2025-01-17T08:20:31.379Z"
   },
   {
    "duration": 7,
    "start_time": "2025-01-17T08:20:31.998Z"
   },
   {
    "duration": 16,
    "start_time": "2025-01-17T08:20:32.007Z"
   },
   {
    "duration": 147,
    "start_time": "2025-01-17T08:20:32.025Z"
   },
   {
    "duration": 5,
    "start_time": "2025-01-17T08:20:32.173Z"
   },
   {
    "duration": 52,
    "start_time": "2025-01-17T08:20:32.180Z"
   },
   {
    "duration": 18,
    "start_time": "2025-01-17T08:20:32.234Z"
   },
   {
    "duration": 9,
    "start_time": "2025-01-17T08:20:32.254Z"
   },
   {
    "duration": 75,
    "start_time": "2025-01-17T08:20:32.265Z"
   },
   {
    "duration": 19,
    "start_time": "2025-01-17T08:20:32.342Z"
   },
   {
    "duration": 48,
    "start_time": "2025-01-17T08:20:32.362Z"
   },
   {
    "duration": 54,
    "start_time": "2025-01-17T08:20:32.411Z"
   },
   {
    "duration": 11,
    "start_time": "2025-01-17T08:20:32.466Z"
   },
   {
    "duration": 32,
    "start_time": "2025-01-17T08:20:32.479Z"
   },
   {
    "duration": 301,
    "start_time": "2025-01-17T08:20:32.513Z"
   },
   {
    "duration": 173,
    "start_time": "2025-01-17T08:20:32.816Z"
   },
   {
    "duration": 13,
    "start_time": "2025-01-17T08:20:32.990Z"
   },
   {
    "duration": 72,
    "start_time": "2025-01-17T08:20:33.004Z"
   },
   {
    "duration": 9,
    "start_time": "2025-01-17T08:20:33.077Z"
   },
   {
    "duration": 14,
    "start_time": "2025-01-17T08:20:33.087Z"
   },
   {
    "duration": 106,
    "start_time": "2025-01-17T08:20:33.103Z"
   },
   {
    "duration": 22,
    "start_time": "2025-01-17T08:20:33.211Z"
   },
   {
    "duration": 36,
    "start_time": "2025-01-17T08:20:33.234Z"
   },
   {
    "duration": 32,
    "start_time": "2025-01-17T08:20:33.271Z"
   },
   {
    "duration": 28,
    "start_time": "2025-01-17T08:20:33.304Z"
   },
   {
    "duration": 172,
    "start_time": "2025-01-17T08:20:33.334Z"
   },
   {
    "duration": 4,
    "start_time": "2025-01-17T08:20:33.508Z"
   },
   {
    "duration": 34,
    "start_time": "2025-01-17T08:20:33.513Z"
   },
   {
    "duration": 38,
    "start_time": "2025-01-17T08:20:33.550Z"
   },
   {
    "duration": 66,
    "start_time": "2025-01-17T08:20:33.590Z"
   },
   {
    "duration": 82,
    "start_time": "2025-01-17T08:20:33.658Z"
   },
   {
    "duration": 17,
    "start_time": "2025-01-17T08:20:33.742Z"
   },
   {
    "duration": 108,
    "start_time": "2025-01-17T08:20:33.761Z"
   },
   {
    "duration": 25,
    "start_time": "2025-01-17T08:20:33.870Z"
   },
   {
    "duration": 85,
    "start_time": "2025-01-17T08:20:33.897Z"
   },
   {
    "duration": 418,
    "start_time": "2025-01-17T08:20:33.984Z"
   },
   {
    "duration": 292,
    "start_time": "2025-01-17T08:20:34.403Z"
   },
   {
    "duration": 317,
    "start_time": "2025-01-17T08:20:34.697Z"
   },
   {
    "duration": 38,
    "start_time": "2025-01-17T08:20:35.015Z"
   },
   {
    "duration": 1031,
    "start_time": "2025-01-17T08:37:47.326Z"
   },
   {
    "duration": 761,
    "start_time": "2025-01-17T08:38:32.556Z"
   },
   {
    "duration": 846,
    "start_time": "2025-01-17T08:40:22.759Z"
   },
   {
    "duration": 770,
    "start_time": "2025-01-17T08:41:13.280Z"
   },
   {
    "duration": 877,
    "start_time": "2025-01-17T08:44:11.006Z"
   },
   {
    "duration": 3983,
    "start_time": "2025-01-17T08:50:30.006Z"
   },
   {
    "duration": 2452,
    "start_time": "2025-01-17T08:50:33.991Z"
   },
   {
    "duration": 13,
    "start_time": "2025-01-17T08:50:36.445Z"
   },
   {
    "duration": 87,
    "start_time": "2025-01-17T08:50:36.461Z"
   },
   {
    "duration": 127,
    "start_time": "2025-01-17T08:50:36.550Z"
   },
   {
    "duration": 29,
    "start_time": "2025-01-17T08:50:36.678Z"
   },
   {
    "duration": 131,
    "start_time": "2025-01-17T08:50:36.708Z"
   },
   {
    "duration": 0,
    "start_time": "2025-01-17T08:50:36.842Z"
   },
   {
    "duration": 0,
    "start_time": "2025-01-17T08:50:36.843Z"
   },
   {
    "duration": 0,
    "start_time": "2025-01-17T08:50:36.844Z"
   },
   {
    "duration": 0,
    "start_time": "2025-01-17T08:50:36.845Z"
   },
   {
    "duration": 0,
    "start_time": "2025-01-17T08:50:36.846Z"
   },
   {
    "duration": 0,
    "start_time": "2025-01-17T08:50:36.848Z"
   },
   {
    "duration": 0,
    "start_time": "2025-01-17T08:50:36.849Z"
   },
   {
    "duration": 0,
    "start_time": "2025-01-17T08:50:36.850Z"
   },
   {
    "duration": 0,
    "start_time": "2025-01-17T08:50:36.851Z"
   },
   {
    "duration": 0,
    "start_time": "2025-01-17T08:50:36.852Z"
   },
   {
    "duration": 0,
    "start_time": "2025-01-17T08:50:36.853Z"
   },
   {
    "duration": 0,
    "start_time": "2025-01-17T08:50:36.854Z"
   },
   {
    "duration": 0,
    "start_time": "2025-01-17T08:50:36.855Z"
   },
   {
    "duration": 0,
    "start_time": "2025-01-17T08:50:36.856Z"
   },
   {
    "duration": 0,
    "start_time": "2025-01-17T08:50:36.857Z"
   },
   {
    "duration": 0,
    "start_time": "2025-01-17T08:50:36.858Z"
   },
   {
    "duration": 0,
    "start_time": "2025-01-17T08:50:36.859Z"
   },
   {
    "duration": 0,
    "start_time": "2025-01-17T08:50:36.860Z"
   },
   {
    "duration": 0,
    "start_time": "2025-01-17T08:50:36.861Z"
   },
   {
    "duration": 0,
    "start_time": "2025-01-17T08:50:36.862Z"
   },
   {
    "duration": 0,
    "start_time": "2025-01-17T08:50:36.863Z"
   },
   {
    "duration": 0,
    "start_time": "2025-01-17T08:50:36.865Z"
   },
   {
    "duration": 0,
    "start_time": "2025-01-17T08:50:36.866Z"
   },
   {
    "duration": 0,
    "start_time": "2025-01-17T08:50:36.868Z"
   },
   {
    "duration": 0,
    "start_time": "2025-01-17T08:50:36.869Z"
   },
   {
    "duration": 0,
    "start_time": "2025-01-17T08:50:36.870Z"
   },
   {
    "duration": 0,
    "start_time": "2025-01-17T08:50:36.871Z"
   },
   {
    "duration": 0,
    "start_time": "2025-01-17T08:50:36.922Z"
   },
   {
    "duration": 0,
    "start_time": "2025-01-17T08:50:36.923Z"
   },
   {
    "duration": 0,
    "start_time": "2025-01-17T08:50:36.925Z"
   },
   {
    "duration": 0,
    "start_time": "2025-01-17T08:50:36.926Z"
   },
   {
    "duration": 0,
    "start_time": "2025-01-17T08:50:36.928Z"
   },
   {
    "duration": 0,
    "start_time": "2025-01-17T08:50:36.930Z"
   },
   {
    "duration": 0,
    "start_time": "2025-01-17T08:50:36.931Z"
   },
   {
    "duration": 0,
    "start_time": "2025-01-17T08:50:36.932Z"
   },
   {
    "duration": 0,
    "start_time": "2025-01-17T08:50:36.934Z"
   },
   {
    "duration": 0,
    "start_time": "2025-01-17T08:50:36.936Z"
   },
   {
    "duration": 0,
    "start_time": "2025-01-17T08:50:36.937Z"
   },
   {
    "duration": 1,
    "start_time": "2025-01-17T08:50:36.938Z"
   },
   {
    "duration": 0,
    "start_time": "2025-01-17T08:50:36.940Z"
   },
   {
    "duration": 0,
    "start_time": "2025-01-17T08:50:36.942Z"
   },
   {
    "duration": 0,
    "start_time": "2025-01-17T08:50:36.943Z"
   },
   {
    "duration": 0,
    "start_time": "2025-01-17T08:50:36.945Z"
   },
   {
    "duration": 0,
    "start_time": "2025-01-17T08:50:36.946Z"
   },
   {
    "duration": 0,
    "start_time": "2025-01-17T08:50:36.947Z"
   },
   {
    "duration": 5,
    "start_time": "2025-01-17T08:52:21.710Z"
   },
   {
    "duration": 41,
    "start_time": "2025-01-17T08:52:31.066Z"
   },
   {
    "duration": 7,
    "start_time": "2025-01-17T08:52:31.550Z"
   },
   {
    "duration": 3701,
    "start_time": "2025-01-17T08:52:37.337Z"
   },
   {
    "duration": 4613,
    "start_time": "2025-01-17T08:52:41.041Z"
   },
   {
    "duration": 13,
    "start_time": "2025-01-17T08:52:45.655Z"
   },
   {
    "duration": 14,
    "start_time": "2025-01-17T08:52:45.670Z"
   },
   {
    "duration": 107,
    "start_time": "2025-01-17T08:52:45.685Z"
   },
   {
    "duration": 38,
    "start_time": "2025-01-17T08:52:45.794Z"
   },
   {
    "duration": 11,
    "start_time": "2025-01-17T08:52:45.834Z"
   },
   {
    "duration": 29,
    "start_time": "2025-01-17T08:52:45.846Z"
   },
   {
    "duration": 23,
    "start_time": "2025-01-17T08:52:45.877Z"
   },
   {
    "duration": 22,
    "start_time": "2025-01-17T08:52:45.904Z"
   },
   {
    "duration": 64,
    "start_time": "2025-01-17T08:52:45.927Z"
   },
   {
    "duration": 55,
    "start_time": "2025-01-17T08:52:45.993Z"
   },
   {
    "duration": 9,
    "start_time": "2025-01-17T08:52:46.050Z"
   },
   {
    "duration": 634,
    "start_time": "2025-01-17T08:52:46.061Z"
   },
   {
    "duration": 7,
    "start_time": "2025-01-17T08:52:46.698Z"
   },
   {
    "duration": 15,
    "start_time": "2025-01-17T08:52:46.707Z"
   },
   {
    "duration": 136,
    "start_time": "2025-01-17T08:52:46.724Z"
   },
   {
    "duration": 6,
    "start_time": "2025-01-17T08:52:46.862Z"
   },
   {
    "duration": 22,
    "start_time": "2025-01-17T08:52:46.869Z"
   },
   {
    "duration": 4,
    "start_time": "2025-01-17T08:52:46.893Z"
   },
   {
    "duration": 25,
    "start_time": "2025-01-17T08:52:46.899Z"
   },
   {
    "duration": 73,
    "start_time": "2025-01-17T08:52:46.926Z"
   },
   {
    "duration": 29,
    "start_time": "2025-01-17T08:52:47.001Z"
   },
   {
    "duration": 40,
    "start_time": "2025-01-17T08:52:47.031Z"
   },
   {
    "duration": 46,
    "start_time": "2025-01-17T08:52:47.073Z"
   },
   {
    "duration": 14,
    "start_time": "2025-01-17T08:52:47.120Z"
   },
   {
    "duration": 18,
    "start_time": "2025-01-17T08:52:47.136Z"
   },
   {
    "duration": 314,
    "start_time": "2025-01-17T08:52:47.157Z"
   },
   {
    "duration": 168,
    "start_time": "2025-01-17T08:52:47.473Z"
   },
   {
    "duration": 13,
    "start_time": "2025-01-17T08:52:47.642Z"
   },
   {
    "duration": 76,
    "start_time": "2025-01-17T08:52:47.656Z"
   },
   {
    "duration": 9,
    "start_time": "2025-01-17T08:52:47.734Z"
   },
   {
    "duration": 30,
    "start_time": "2025-01-17T08:52:47.744Z"
   },
   {
    "duration": 76,
    "start_time": "2025-01-17T08:52:47.776Z"
   },
   {
    "duration": 14,
    "start_time": "2025-01-17T08:52:47.854Z"
   },
   {
    "duration": 19,
    "start_time": "2025-01-17T08:52:47.870Z"
   },
   {
    "duration": 16,
    "start_time": "2025-01-17T08:52:47.890Z"
   },
   {
    "duration": 21,
    "start_time": "2025-01-17T08:52:47.921Z"
   },
   {
    "duration": 191,
    "start_time": "2025-01-17T08:52:47.944Z"
   },
   {
    "duration": 4,
    "start_time": "2025-01-17T08:52:48.136Z"
   },
   {
    "duration": 32,
    "start_time": "2025-01-17T08:52:48.142Z"
   },
   {
    "duration": 56,
    "start_time": "2025-01-17T08:52:48.176Z"
   },
   {
    "duration": 53,
    "start_time": "2025-01-17T08:52:48.235Z"
   },
   {
    "duration": 97,
    "start_time": "2025-01-17T08:52:48.290Z"
   },
   {
    "duration": 26,
    "start_time": "2025-01-17T08:52:48.388Z"
   },
   {
    "duration": 77,
    "start_time": "2025-01-17T08:52:48.422Z"
   },
   {
    "duration": 36,
    "start_time": "2025-01-17T08:52:48.501Z"
   },
   {
    "duration": 84,
    "start_time": "2025-01-17T08:52:48.539Z"
   },
   {
    "duration": 408,
    "start_time": "2025-01-17T08:52:48.625Z"
   },
   {
    "duration": 290,
    "start_time": "2025-01-17T08:52:49.035Z"
   },
   {
    "duration": 320,
    "start_time": "2025-01-17T08:52:49.327Z"
   },
   {
    "duration": 35,
    "start_time": "2025-01-17T08:52:49.648Z"
   },
   {
    "duration": 28,
    "start_time": "2025-01-17T08:54:35.271Z"
   },
   {
    "duration": 123,
    "start_time": "2025-01-17T08:54:36.798Z"
   },
   {
    "duration": 13,
    "start_time": "2025-01-17T08:54:42.514Z"
   },
   {
    "duration": 13,
    "start_time": "2025-01-17T08:55:35.679Z"
   },
   {
    "duration": 10,
    "start_time": "2025-01-17T08:55:38.245Z"
   },
   {
    "duration": 1342,
    "start_time": "2025-01-17T08:56:21.937Z"
   },
   {
    "duration": 3679,
    "start_time": "2025-01-17T08:56:44.165Z"
   },
   {
    "duration": 1868,
    "start_time": "2025-01-17T08:56:47.846Z"
   },
   {
    "duration": 12,
    "start_time": "2025-01-17T08:56:49.715Z"
   },
   {
    "duration": 17,
    "start_time": "2025-01-17T08:56:49.729Z"
   },
   {
    "duration": 110,
    "start_time": "2025-01-17T08:56:49.748Z"
   },
   {
    "duration": 23,
    "start_time": "2025-01-17T08:56:49.860Z"
   },
   {
    "duration": 30,
    "start_time": "2025-01-17T08:56:49.885Z"
   },
   {
    "duration": 122,
    "start_time": "2025-01-17T08:56:49.916Z"
   },
   {
    "duration": 39,
    "start_time": "2025-01-17T08:56:50.039Z"
   },
   {
    "duration": 38,
    "start_time": "2025-01-17T08:56:50.079Z"
   },
   {
    "duration": 14,
    "start_time": "2025-01-17T08:56:50.119Z"
   },
   {
    "duration": 65,
    "start_time": "2025-01-17T08:56:50.134Z"
   },
   {
    "duration": 12,
    "start_time": "2025-01-17T08:56:50.201Z"
   },
   {
    "duration": 592,
    "start_time": "2025-01-17T08:56:50.216Z"
   },
   {
    "duration": 14,
    "start_time": "2025-01-17T08:56:50.809Z"
   },
   {
    "duration": 30,
    "start_time": "2025-01-17T08:56:50.825Z"
   },
   {
    "duration": 1442,
    "start_time": "2025-01-17T08:56:50.857Z"
   },
   {
    "duration": 0,
    "start_time": "2025-01-17T08:56:52.301Z"
   },
   {
    "duration": 0,
    "start_time": "2025-01-17T08:56:52.302Z"
   },
   {
    "duration": 0,
    "start_time": "2025-01-17T08:56:52.303Z"
   },
   {
    "duration": 0,
    "start_time": "2025-01-17T08:56:52.304Z"
   },
   {
    "duration": 0,
    "start_time": "2025-01-17T08:56:52.305Z"
   },
   {
    "duration": 0,
    "start_time": "2025-01-17T08:56:52.306Z"
   },
   {
    "duration": 0,
    "start_time": "2025-01-17T08:56:52.308Z"
   },
   {
    "duration": 0,
    "start_time": "2025-01-17T08:56:52.309Z"
   },
   {
    "duration": 0,
    "start_time": "2025-01-17T08:56:52.310Z"
   },
   {
    "duration": 0,
    "start_time": "2025-01-17T08:56:52.311Z"
   },
   {
    "duration": 0,
    "start_time": "2025-01-17T08:56:52.312Z"
   },
   {
    "duration": 0,
    "start_time": "2025-01-17T08:56:52.313Z"
   },
   {
    "duration": 0,
    "start_time": "2025-01-17T08:56:52.314Z"
   },
   {
    "duration": 0,
    "start_time": "2025-01-17T08:56:52.315Z"
   },
   {
    "duration": 0,
    "start_time": "2025-01-17T08:56:52.316Z"
   },
   {
    "duration": 0,
    "start_time": "2025-01-17T08:56:52.317Z"
   },
   {
    "duration": 0,
    "start_time": "2025-01-17T08:56:52.318Z"
   },
   {
    "duration": 0,
    "start_time": "2025-01-17T08:56:52.319Z"
   },
   {
    "duration": 0,
    "start_time": "2025-01-17T08:56:52.320Z"
   },
   {
    "duration": 0,
    "start_time": "2025-01-17T08:56:52.321Z"
   },
   {
    "duration": 0,
    "start_time": "2025-01-17T08:56:52.322Z"
   },
   {
    "duration": 0,
    "start_time": "2025-01-17T08:56:52.323Z"
   },
   {
    "duration": 0,
    "start_time": "2025-01-17T08:56:52.324Z"
   },
   {
    "duration": 0,
    "start_time": "2025-01-17T08:56:52.325Z"
   },
   {
    "duration": 0,
    "start_time": "2025-01-17T08:56:52.326Z"
   },
   {
    "duration": 0,
    "start_time": "2025-01-17T08:56:52.327Z"
   },
   {
    "duration": 0,
    "start_time": "2025-01-17T08:56:52.328Z"
   },
   {
    "duration": 0,
    "start_time": "2025-01-17T08:56:52.329Z"
   },
   {
    "duration": 0,
    "start_time": "2025-01-17T08:56:52.330Z"
   },
   {
    "duration": 0,
    "start_time": "2025-01-17T08:56:52.331Z"
   },
   {
    "duration": 0,
    "start_time": "2025-01-17T08:56:52.332Z"
   },
   {
    "duration": 0,
    "start_time": "2025-01-17T08:56:52.333Z"
   },
   {
    "duration": 0,
    "start_time": "2025-01-17T08:56:52.334Z"
   },
   {
    "duration": 3,
    "start_time": "2025-01-17T08:57:36.709Z"
   },
   {
    "duration": 23,
    "start_time": "2025-01-17T08:57:38.388Z"
   },
   {
    "duration": 8,
    "start_time": "2025-01-17T08:57:39.605Z"
   },
   {
    "duration": 18,
    "start_time": "2025-01-17T08:57:41.181Z"
   },
   {
    "duration": 7,
    "start_time": "2025-01-17T08:57:41.917Z"
   },
   {
    "duration": 39,
    "start_time": "2025-01-17T08:57:43.754Z"
   },
   {
    "duration": 9,
    "start_time": "2025-01-17T08:57:44.596Z"
   },
   {
    "duration": 13,
    "start_time": "2025-01-17T08:57:46.733Z"
   },
   {
    "duration": 13,
    "start_time": "2025-01-17T08:57:50.268Z"
   },
   {
    "duration": 5,
    "start_time": "2025-01-17T08:57:50.917Z"
   },
   {
    "duration": 10,
    "start_time": "2025-01-17T08:57:51.836Z"
   },
   {
    "duration": 8,
    "start_time": "2025-01-17T08:58:20.861Z"
   },
   {
    "duration": 9,
    "start_time": "2025-01-17T08:58:49.508Z"
   },
   {
    "duration": 9,
    "start_time": "2025-01-17T08:58:50.940Z"
   },
   {
    "duration": 4,
    "start_time": "2025-01-17T08:58:51.644Z"
   },
   {
    "duration": 9,
    "start_time": "2025-01-17T08:59:08.029Z"
   },
   {
    "duration": 4,
    "start_time": "2025-01-17T08:59:08.838Z"
   },
   {
    "duration": 8,
    "start_time": "2025-01-17T08:59:25.595Z"
   },
   {
    "duration": 3604,
    "start_time": "2025-01-17T08:59:31.635Z"
   },
   {
    "duration": 1766,
    "start_time": "2025-01-17T08:59:35.241Z"
   },
   {
    "duration": 13,
    "start_time": "2025-01-17T08:59:37.009Z"
   },
   {
    "duration": 19,
    "start_time": "2025-01-17T08:59:37.024Z"
   },
   {
    "duration": 98,
    "start_time": "2025-01-17T08:59:37.044Z"
   },
   {
    "duration": 24,
    "start_time": "2025-01-17T08:59:37.143Z"
   },
   {
    "duration": 19,
    "start_time": "2025-01-17T08:59:37.169Z"
   },
   {
    "duration": 54,
    "start_time": "2025-01-17T08:59:37.189Z"
   },
   {
    "duration": 34,
    "start_time": "2025-01-17T08:59:37.245Z"
   },
   {
    "duration": 25,
    "start_time": "2025-01-17T08:59:37.281Z"
   },
   {
    "duration": 44,
    "start_time": "2025-01-17T08:59:37.308Z"
   },
   {
    "duration": 39,
    "start_time": "2025-01-17T08:59:37.354Z"
   },
   {
    "duration": 108,
    "start_time": "2025-01-17T08:59:37.395Z"
   },
   {
    "duration": 26,
    "start_time": "2025-01-17T08:59:37.504Z"
   },
   {
    "duration": 112,
    "start_time": "2025-01-17T08:59:37.531Z"
   },
   {
    "duration": 0,
    "start_time": "2025-01-17T08:59:37.645Z"
   },
   {
    "duration": 0,
    "start_time": "2025-01-17T08:59:37.646Z"
   },
   {
    "duration": 1,
    "start_time": "2025-01-17T08:59:37.647Z"
   },
   {
    "duration": 0,
    "start_time": "2025-01-17T08:59:37.649Z"
   },
   {
    "duration": 0,
    "start_time": "2025-01-17T08:59:37.650Z"
   },
   {
    "duration": 0,
    "start_time": "2025-01-17T08:59:37.651Z"
   },
   {
    "duration": 0,
    "start_time": "2025-01-17T08:59:37.652Z"
   },
   {
    "duration": 0,
    "start_time": "2025-01-17T08:59:37.653Z"
   },
   {
    "duration": 0,
    "start_time": "2025-01-17T08:59:37.654Z"
   },
   {
    "duration": 0,
    "start_time": "2025-01-17T08:59:37.655Z"
   },
   {
    "duration": 0,
    "start_time": "2025-01-17T08:59:37.656Z"
   },
   {
    "duration": 0,
    "start_time": "2025-01-17T08:59:37.658Z"
   },
   {
    "duration": 0,
    "start_time": "2025-01-17T08:59:37.659Z"
   },
   {
    "duration": 0,
    "start_time": "2025-01-17T08:59:37.660Z"
   },
   {
    "duration": 0,
    "start_time": "2025-01-17T08:59:37.661Z"
   },
   {
    "duration": 0,
    "start_time": "2025-01-17T08:59:37.662Z"
   },
   {
    "duration": 0,
    "start_time": "2025-01-17T08:59:37.663Z"
   },
   {
    "duration": 0,
    "start_time": "2025-01-17T08:59:37.664Z"
   },
   {
    "duration": 0,
    "start_time": "2025-01-17T08:59:37.665Z"
   },
   {
    "duration": 0,
    "start_time": "2025-01-17T08:59:37.666Z"
   },
   {
    "duration": 0,
    "start_time": "2025-01-17T08:59:37.667Z"
   },
   {
    "duration": 0,
    "start_time": "2025-01-17T08:59:37.668Z"
   },
   {
    "duration": 0,
    "start_time": "2025-01-17T08:59:37.669Z"
   },
   {
    "duration": 0,
    "start_time": "2025-01-17T08:59:37.670Z"
   },
   {
    "duration": 0,
    "start_time": "2025-01-17T08:59:37.671Z"
   },
   {
    "duration": 0,
    "start_time": "2025-01-17T08:59:37.672Z"
   },
   {
    "duration": 0,
    "start_time": "2025-01-17T08:59:37.722Z"
   },
   {
    "duration": 0,
    "start_time": "2025-01-17T08:59:37.723Z"
   },
   {
    "duration": 0,
    "start_time": "2025-01-17T08:59:37.724Z"
   },
   {
    "duration": 0,
    "start_time": "2025-01-17T08:59:37.725Z"
   },
   {
    "duration": 0,
    "start_time": "2025-01-17T08:59:37.726Z"
   },
   {
    "duration": 0,
    "start_time": "2025-01-17T08:59:37.727Z"
   },
   {
    "duration": 0,
    "start_time": "2025-01-17T08:59:37.728Z"
   },
   {
    "duration": 0,
    "start_time": "2025-01-17T08:59:37.729Z"
   },
   {
    "duration": 0,
    "start_time": "2025-01-17T08:59:37.730Z"
   },
   {
    "duration": 0,
    "start_time": "2025-01-17T08:59:37.731Z"
   },
   {
    "duration": 9,
    "start_time": "2025-01-17T09:00:19.006Z"
   },
   {
    "duration": 11,
    "start_time": "2025-01-17T09:00:20.273Z"
   },
   {
    "duration": 12,
    "start_time": "2025-01-17T09:00:22.377Z"
   },
   {
    "duration": 3657,
    "start_time": "2025-01-17T09:00:36.339Z"
   },
   {
    "duration": 1917,
    "start_time": "2025-01-17T09:00:39.998Z"
   },
   {
    "duration": 13,
    "start_time": "2025-01-17T09:00:41.916Z"
   },
   {
    "duration": 29,
    "start_time": "2025-01-17T09:00:41.931Z"
   },
   {
    "duration": 166,
    "start_time": "2025-01-17T09:00:41.961Z"
   },
   {
    "duration": 24,
    "start_time": "2025-01-17T09:00:42.129Z"
   },
   {
    "duration": 7,
    "start_time": "2025-01-17T09:00:42.155Z"
   },
   {
    "duration": 42,
    "start_time": "2025-01-17T09:00:42.164Z"
   },
   {
    "duration": 117,
    "start_time": "2025-01-17T09:00:42.208Z"
   },
   {
    "duration": 179,
    "start_time": "2025-01-17T09:00:42.328Z"
   },
   {
    "duration": 129,
    "start_time": "2025-01-17T09:00:42.509Z"
   },
   {
    "duration": 56,
    "start_time": "2025-01-17T09:00:42.640Z"
   },
   {
    "duration": 9,
    "start_time": "2025-01-17T09:00:42.697Z"
   },
   {
    "duration": 601,
    "start_time": "2025-01-17T09:00:42.707Z"
   },
   {
    "duration": 7,
    "start_time": "2025-01-17T09:00:43.310Z"
   },
   {
    "duration": 15,
    "start_time": "2025-01-17T09:00:43.322Z"
   },
   {
    "duration": 1637,
    "start_time": "2025-01-17T09:00:43.338Z"
   },
   {
    "duration": 0,
    "start_time": "2025-01-17T09:00:44.977Z"
   },
   {
    "duration": 0,
    "start_time": "2025-01-17T09:00:44.978Z"
   },
   {
    "duration": 0,
    "start_time": "2025-01-17T09:00:44.979Z"
   },
   {
    "duration": 0,
    "start_time": "2025-01-17T09:00:44.980Z"
   },
   {
    "duration": 0,
    "start_time": "2025-01-17T09:00:44.981Z"
   },
   {
    "duration": 0,
    "start_time": "2025-01-17T09:00:44.982Z"
   },
   {
    "duration": 0,
    "start_time": "2025-01-17T09:00:44.983Z"
   },
   {
    "duration": 0,
    "start_time": "2025-01-17T09:00:44.984Z"
   },
   {
    "duration": 0,
    "start_time": "2025-01-17T09:00:44.985Z"
   },
   {
    "duration": 0,
    "start_time": "2025-01-17T09:00:44.986Z"
   },
   {
    "duration": 0,
    "start_time": "2025-01-17T09:00:44.987Z"
   },
   {
    "duration": 0,
    "start_time": "2025-01-17T09:00:44.988Z"
   },
   {
    "duration": 0,
    "start_time": "2025-01-17T09:00:44.989Z"
   },
   {
    "duration": 0,
    "start_time": "2025-01-17T09:00:44.990Z"
   },
   {
    "duration": 0,
    "start_time": "2025-01-17T09:00:44.991Z"
   },
   {
    "duration": 0,
    "start_time": "2025-01-17T09:00:44.992Z"
   },
   {
    "duration": 0,
    "start_time": "2025-01-17T09:00:44.993Z"
   },
   {
    "duration": 0,
    "start_time": "2025-01-17T09:00:44.994Z"
   },
   {
    "duration": 0,
    "start_time": "2025-01-17T09:00:44.995Z"
   },
   {
    "duration": 0,
    "start_time": "2025-01-17T09:00:44.996Z"
   },
   {
    "duration": 0,
    "start_time": "2025-01-17T09:00:44.997Z"
   },
   {
    "duration": 0,
    "start_time": "2025-01-17T09:00:44.998Z"
   },
   {
    "duration": 0,
    "start_time": "2025-01-17T09:00:44.999Z"
   },
   {
    "duration": 0,
    "start_time": "2025-01-17T09:00:45.000Z"
   },
   {
    "duration": 0,
    "start_time": "2025-01-17T09:00:45.001Z"
   },
   {
    "duration": 0,
    "start_time": "2025-01-17T09:00:45.003Z"
   },
   {
    "duration": 0,
    "start_time": "2025-01-17T09:00:45.004Z"
   },
   {
    "duration": 0,
    "start_time": "2025-01-17T09:00:45.005Z"
   },
   {
    "duration": 0,
    "start_time": "2025-01-17T09:00:45.006Z"
   },
   {
    "duration": 0,
    "start_time": "2025-01-17T09:00:45.007Z"
   },
   {
    "duration": 0,
    "start_time": "2025-01-17T09:00:45.007Z"
   },
   {
    "duration": 0,
    "start_time": "2025-01-17T09:00:45.009Z"
   },
   {
    "duration": 0,
    "start_time": "2025-01-17T09:00:45.010Z"
   },
   {
    "duration": 21,
    "start_time": "2025-01-17T09:04:54.366Z"
   },
   {
    "duration": 4,
    "start_time": "2025-01-17T09:05:20.703Z"
   },
   {
    "duration": 20,
    "start_time": "2025-01-17T09:05:21.725Z"
   },
   {
    "duration": 3603,
    "start_time": "2025-01-17T09:05:27.672Z"
   },
   {
    "duration": 1948,
    "start_time": "2025-01-17T09:05:31.277Z"
   },
   {
    "duration": 14,
    "start_time": "2025-01-17T09:05:33.227Z"
   },
   {
    "duration": 21,
    "start_time": "2025-01-17T09:05:33.243Z"
   },
   {
    "duration": 116,
    "start_time": "2025-01-17T09:05:33.266Z"
   },
   {
    "duration": 23,
    "start_time": "2025-01-17T09:05:33.384Z"
   },
   {
    "duration": 3,
    "start_time": "2025-01-17T09:05:33.421Z"
   },
   {
    "duration": 44,
    "start_time": "2025-01-17T09:05:33.426Z"
   },
   {
    "duration": 39,
    "start_time": "2025-01-17T09:05:33.472Z"
   },
   {
    "duration": 53,
    "start_time": "2025-01-17T09:05:33.513Z"
   },
   {
    "duration": 24,
    "start_time": "2025-01-17T09:05:33.567Z"
   },
   {
    "duration": 7,
    "start_time": "2025-01-17T09:05:33.593Z"
   },
   {
    "duration": 68,
    "start_time": "2025-01-17T09:05:33.602Z"
   },
   {
    "duration": 8,
    "start_time": "2025-01-17T09:05:33.674Z"
   },
   {
    "duration": 612,
    "start_time": "2025-01-17T09:05:33.684Z"
   },
   {
    "duration": 7,
    "start_time": "2025-01-17T09:05:34.297Z"
   },
   {
    "duration": 55,
    "start_time": "2025-01-17T09:05:34.306Z"
   },
   {
    "duration": 142,
    "start_time": "2025-01-17T09:05:34.363Z"
   },
   {
    "duration": 5,
    "start_time": "2025-01-17T09:05:34.506Z"
   },
   {
    "duration": 99,
    "start_time": "2025-01-17T09:05:34.513Z"
   },
   {
    "duration": 20,
    "start_time": "2025-01-17T09:05:34.613Z"
   },
   {
    "duration": 33,
    "start_time": "2025-01-17T09:05:34.634Z"
   },
   {
    "duration": 93,
    "start_time": "2025-01-17T09:05:34.669Z"
   },
   {
    "duration": 19,
    "start_time": "2025-01-17T09:05:34.763Z"
   },
   {
    "duration": 22,
    "start_time": "2025-01-17T09:05:34.783Z"
   },
   {
    "duration": 47,
    "start_time": "2025-01-17T09:05:34.806Z"
   },
   {
    "duration": 1586,
    "start_time": "2025-01-17T09:05:34.855Z"
   },
   {
    "duration": 0,
    "start_time": "2025-01-17T09:05:36.443Z"
   },
   {
    "duration": 0,
    "start_time": "2025-01-17T09:05:36.445Z"
   },
   {
    "duration": 0,
    "start_time": "2025-01-17T09:05:36.446Z"
   },
   {
    "duration": 0,
    "start_time": "2025-01-17T09:05:36.447Z"
   },
   {
    "duration": 0,
    "start_time": "2025-01-17T09:05:36.448Z"
   },
   {
    "duration": 0,
    "start_time": "2025-01-17T09:05:36.449Z"
   },
   {
    "duration": 0,
    "start_time": "2025-01-17T09:05:36.450Z"
   },
   {
    "duration": 0,
    "start_time": "2025-01-17T09:05:36.451Z"
   },
   {
    "duration": 0,
    "start_time": "2025-01-17T09:05:36.453Z"
   },
   {
    "duration": 0,
    "start_time": "2025-01-17T09:05:36.454Z"
   },
   {
    "duration": 0,
    "start_time": "2025-01-17T09:05:36.455Z"
   },
   {
    "duration": 0,
    "start_time": "2025-01-17T09:05:36.456Z"
   },
   {
    "duration": 0,
    "start_time": "2025-01-17T09:05:36.457Z"
   },
   {
    "duration": 0,
    "start_time": "2025-01-17T09:05:36.458Z"
   },
   {
    "duration": 0,
    "start_time": "2025-01-17T09:05:36.459Z"
   },
   {
    "duration": 0,
    "start_time": "2025-01-17T09:05:36.460Z"
   },
   {
    "duration": 0,
    "start_time": "2025-01-17T09:05:36.461Z"
   },
   {
    "duration": 0,
    "start_time": "2025-01-17T09:05:36.462Z"
   },
   {
    "duration": 0,
    "start_time": "2025-01-17T09:05:36.463Z"
   },
   {
    "duration": 0,
    "start_time": "2025-01-17T09:05:36.465Z"
   },
   {
    "duration": 0,
    "start_time": "2025-01-17T09:05:36.465Z"
   },
   {
    "duration": 0,
    "start_time": "2025-01-17T09:05:36.466Z"
   },
   {
    "duration": 0,
    "start_time": "2025-01-17T09:05:36.467Z"
   },
   {
    "duration": 0,
    "start_time": "2025-01-17T09:05:36.468Z"
   },
   {
    "duration": 11,
    "start_time": "2025-01-17T09:05:54.286Z"
   },
   {
    "duration": 17,
    "start_time": "2025-01-17T09:06:07.510Z"
   },
   {
    "duration": 330,
    "start_time": "2025-01-17T09:06:12.222Z"
   },
   {
    "duration": 164,
    "start_time": "2025-01-17T09:06:20.292Z"
   },
   {
    "duration": 12,
    "start_time": "2025-01-17T09:06:21.550Z"
   },
   {
    "duration": 59,
    "start_time": "2025-01-17T09:06:22.293Z"
   },
   {
    "duration": 10,
    "start_time": "2025-01-17T09:06:25.214Z"
   },
   {
    "duration": 13,
    "start_time": "2025-01-17T09:06:25.824Z"
   },
   {
    "duration": 70,
    "start_time": "2025-01-17T09:06:26.515Z"
   },
   {
    "duration": 15,
    "start_time": "2025-01-17T09:06:27.957Z"
   },
   {
    "duration": 15,
    "start_time": "2025-01-17T09:06:29.134Z"
   },
   {
    "duration": 14,
    "start_time": "2025-01-17T09:06:29.589Z"
   },
   {
    "duration": 19,
    "start_time": "2025-01-17T09:06:30.537Z"
   },
   {
    "duration": 1436,
    "start_time": "2025-01-17T09:06:33.501Z"
   },
   {
    "duration": 173,
    "start_time": "2025-01-17T09:06:54.148Z"
   },
   {
    "duration": 27,
    "start_time": "2025-01-17T09:06:57.216Z"
   },
   {
    "duration": 51,
    "start_time": "2025-01-17T09:06:58.366Z"
   },
   {
    "duration": 77,
    "start_time": "2025-01-17T09:06:58.957Z"
   },
   {
    "duration": 18,
    "start_time": "2025-01-17T09:07:00.005Z"
   },
   {
    "duration": 74,
    "start_time": "2025-01-17T09:07:00.326Z"
   },
   {
    "duration": 10,
    "start_time": "2025-01-17T09:07:00.550Z"
   },
   {
    "duration": 73,
    "start_time": "2025-01-17T09:07:00.765Z"
   },
   {
    "duration": 1394,
    "start_time": "2025-01-17T09:07:00.946Z"
   },
   {
    "duration": 0,
    "start_time": "2025-01-17T09:07:02.341Z"
   },
   {
    "duration": 0,
    "start_time": "2025-01-17T09:07:02.343Z"
   },
   {
    "duration": 0,
    "start_time": "2025-01-17T09:07:02.344Z"
   },
   {
    "duration": 24,
    "start_time": "2025-01-17T09:07:17.022Z"
   },
   {
    "duration": 72,
    "start_time": "2025-01-17T09:07:19.406Z"
   },
   {
    "duration": 1454,
    "start_time": "2025-01-17T09:07:24.192Z"
   },
   {
    "duration": 424,
    "start_time": "2025-01-17T09:07:55.344Z"
   },
   {
    "duration": 3622,
    "start_time": "2025-01-17T09:08:30.270Z"
   },
   {
    "duration": 2298,
    "start_time": "2025-01-17T09:08:33.894Z"
   },
   {
    "duration": 13,
    "start_time": "2025-01-17T09:08:36.193Z"
   },
   {
    "duration": 35,
    "start_time": "2025-01-17T09:08:36.208Z"
   },
   {
    "duration": 241,
    "start_time": "2025-01-17T09:08:36.244Z"
   },
   {
    "duration": 23,
    "start_time": "2025-01-17T09:08:36.487Z"
   },
   {
    "duration": 87,
    "start_time": "2025-01-17T09:08:36.511Z"
   },
   {
    "duration": 41,
    "start_time": "2025-01-17T09:08:36.599Z"
   },
   {
    "duration": 29,
    "start_time": "2025-01-17T09:08:36.642Z"
   },
   {
    "duration": 26,
    "start_time": "2025-01-17T09:08:36.674Z"
   },
   {
    "duration": 27,
    "start_time": "2025-01-17T09:08:36.701Z"
   },
   {
    "duration": 13,
    "start_time": "2025-01-17T09:08:36.729Z"
   },
   {
    "duration": 86,
    "start_time": "2025-01-17T09:08:36.743Z"
   },
   {
    "duration": 8,
    "start_time": "2025-01-17T09:08:36.831Z"
   },
   {
    "duration": 597,
    "start_time": "2025-01-17T09:08:36.841Z"
   },
   {
    "duration": 7,
    "start_time": "2025-01-17T09:08:37.439Z"
   },
   {
    "duration": 13,
    "start_time": "2025-01-17T09:08:37.448Z"
   },
   {
    "duration": 139,
    "start_time": "2025-01-17T09:08:37.462Z"
   },
   {
    "duration": 5,
    "start_time": "2025-01-17T09:08:37.603Z"
   },
   {
    "duration": 17,
    "start_time": "2025-01-17T09:08:37.621Z"
   },
   {
    "duration": 6,
    "start_time": "2025-01-17T09:08:37.639Z"
   },
   {
    "duration": 15,
    "start_time": "2025-01-17T09:08:37.646Z"
   },
   {
    "duration": 86,
    "start_time": "2025-01-17T09:08:37.662Z"
   },
   {
    "duration": 20,
    "start_time": "2025-01-17T09:08:37.750Z"
   },
   {
    "duration": 12,
    "start_time": "2025-01-17T09:08:37.771Z"
   },
   {
    "duration": 56,
    "start_time": "2025-01-17T09:08:37.785Z"
   },
   {
    "duration": 10,
    "start_time": "2025-01-17T09:08:37.843Z"
   },
   {
    "duration": 18,
    "start_time": "2025-01-17T09:08:37.856Z"
   },
   {
    "duration": 329,
    "start_time": "2025-01-17T09:08:37.876Z"
   },
   {
    "duration": 190,
    "start_time": "2025-01-17T09:08:38.207Z"
   },
   {
    "duration": 13,
    "start_time": "2025-01-17T09:08:38.398Z"
   },
   {
    "duration": 67,
    "start_time": "2025-01-17T09:08:38.413Z"
   },
   {
    "duration": 9,
    "start_time": "2025-01-17T09:08:38.482Z"
   },
   {
    "duration": 85,
    "start_time": "2025-01-17T09:08:38.493Z"
   },
   {
    "duration": 87,
    "start_time": "2025-01-17T09:08:38.580Z"
   },
   {
    "duration": 14,
    "start_time": "2025-01-17T09:08:38.669Z"
   },
   {
    "duration": 29,
    "start_time": "2025-01-17T09:08:38.684Z"
   },
   {
    "duration": 21,
    "start_time": "2025-01-17T09:08:38.715Z"
   },
   {
    "duration": 20,
    "start_time": "2025-01-17T09:08:38.737Z"
   },
   {
    "duration": 178,
    "start_time": "2025-01-17T09:08:38.759Z"
   },
   {
    "duration": 27,
    "start_time": "2025-01-17T09:08:38.939Z"
   },
   {
    "duration": 67,
    "start_time": "2025-01-17T09:08:38.968Z"
   },
   {
    "duration": 98,
    "start_time": "2025-01-17T09:08:39.036Z"
   },
   {
    "duration": 28,
    "start_time": "2025-01-17T09:08:39.136Z"
   },
   {
    "duration": 87,
    "start_time": "2025-01-17T09:08:39.165Z"
   },
   {
    "duration": 26,
    "start_time": "2025-01-17T09:08:39.253Z"
   },
   {
    "duration": 83,
    "start_time": "2025-01-17T09:08:39.281Z"
   },
   {
    "duration": 403,
    "start_time": "2025-01-17T09:08:39.366Z"
   },
   {
    "duration": 284,
    "start_time": "2025-01-17T09:08:39.770Z"
   },
   {
    "duration": 311,
    "start_time": "2025-01-17T09:08:40.055Z"
   },
   {
    "duration": 36,
    "start_time": "2025-01-17T09:08:40.367Z"
   },
   {
    "duration": 5,
    "start_time": "2025-01-17T09:13:06.384Z"
   },
   {
    "duration": 111,
    "start_time": "2025-01-17T09:13:46.247Z"
   },
   {
    "duration": 8,
    "start_time": "2025-01-17T09:14:18.000Z"
   },
   {
    "duration": 396,
    "start_time": "2025-01-17T09:17:05.831Z"
   },
   {
    "duration": 504,
    "start_time": "2025-01-17T09:18:11.255Z"
   },
   {
    "duration": 502,
    "start_time": "2025-01-17T09:18:33.520Z"
   },
   {
    "duration": 20,
    "start_time": "2025-01-17T09:18:34.294Z"
   },
   {
    "duration": 32,
    "start_time": "2025-01-17T09:18:35.120Z"
   },
   {
    "duration": 16,
    "start_time": "2025-01-17T09:18:35.645Z"
   },
   {
    "duration": 16,
    "start_time": "2025-01-17T09:18:36.129Z"
   },
   {
    "duration": 15,
    "start_time": "2025-01-17T09:18:37.542Z"
   },
   {
    "duration": 71,
    "start_time": "2025-01-17T09:23:27.486Z"
   },
   {
    "duration": 19,
    "start_time": "2025-01-17T09:23:44.600Z"
   },
   {
    "duration": 15,
    "start_time": "2025-01-17T09:23:52.881Z"
   },
   {
    "duration": 1420,
    "start_time": "2025-01-17T09:33:08.711Z"
   },
   {
    "duration": 42,
    "start_time": "2025-01-17T09:33:24.438Z"
   },
   {
    "duration": 151,
    "start_time": "2025-01-17T09:34:41.558Z"
   },
   {
    "duration": 1964,
    "start_time": "2025-01-17T09:37:03.270Z"
   },
   {
    "duration": 13,
    "start_time": "2025-01-17T09:37:57.666Z"
   },
   {
    "duration": 11,
    "start_time": "2025-01-17T09:38:08.233Z"
   },
   {
    "duration": 18,
    "start_time": "2025-01-17T09:38:44.029Z"
   },
   {
    "duration": 9,
    "start_time": "2025-01-17T09:39:07.439Z"
   },
   {
    "duration": 7,
    "start_time": "2025-01-17T09:39:15.414Z"
   },
   {
    "duration": 3632,
    "start_time": "2025-01-17T09:40:15.830Z"
   },
   {
    "duration": 2026,
    "start_time": "2025-01-17T09:40:19.464Z"
   },
   {
    "duration": 13,
    "start_time": "2025-01-17T09:40:21.492Z"
   },
   {
    "duration": 93,
    "start_time": "2025-01-17T09:40:21.508Z"
   },
   {
    "duration": 201,
    "start_time": "2025-01-17T09:40:21.603Z"
   },
   {
    "duration": 28,
    "start_time": "2025-01-17T09:40:21.806Z"
   },
   {
    "duration": 102,
    "start_time": "2025-01-17T09:40:21.836Z"
   },
   {
    "duration": 41,
    "start_time": "2025-01-17T09:40:21.940Z"
   },
   {
    "duration": 30,
    "start_time": "2025-01-17T09:40:21.982Z"
   },
   {
    "duration": 23,
    "start_time": "2025-01-17T09:40:22.014Z"
   },
   {
    "duration": 71,
    "start_time": "2025-01-17T09:40:22.038Z"
   },
   {
    "duration": 193,
    "start_time": "2025-01-17T09:40:22.111Z"
   },
   {
    "duration": 70,
    "start_time": "2025-01-17T09:40:22.306Z"
   },
   {
    "duration": 12,
    "start_time": "2025-01-17T09:40:22.379Z"
   },
   {
    "duration": 73,
    "start_time": "2025-01-17T09:40:22.393Z"
   },
   {
    "duration": 17,
    "start_time": "2025-01-17T09:40:22.467Z"
   },
   {
    "duration": 25,
    "start_time": "2025-01-17T09:40:22.486Z"
   },
   {
    "duration": 13,
    "start_time": "2025-01-17T09:40:22.513Z"
   },
   {
    "duration": 36,
    "start_time": "2025-01-17T09:40:22.528Z"
   },
   {
    "duration": 490,
    "start_time": "2025-01-17T09:40:22.566Z"
   },
   {
    "duration": 23,
    "start_time": "2025-01-17T09:40:23.058Z"
   },
   {
    "duration": 17,
    "start_time": "2025-01-17T09:40:23.083Z"
   },
   {
    "duration": 26,
    "start_time": "2025-01-17T09:40:23.102Z"
   },
   {
    "duration": 19,
    "start_time": "2025-01-17T09:40:23.129Z"
   },
   {
    "duration": 77,
    "start_time": "2025-01-17T09:40:23.151Z"
   },
   {
    "duration": 40,
    "start_time": "2025-01-17T09:40:23.230Z"
   },
   {
    "duration": 160,
    "start_time": "2025-01-17T09:40:23.272Z"
   },
   {
    "duration": 17,
    "start_time": "2025-01-17T09:40:23.436Z"
   },
   {
    "duration": 647,
    "start_time": "2025-01-17T09:40:23.454Z"
   },
   {
    "duration": 7,
    "start_time": "2025-01-17T09:40:24.103Z"
   },
   {
    "duration": 89,
    "start_time": "2025-01-17T09:40:24.121Z"
   },
   {
    "duration": 137,
    "start_time": "2025-01-17T09:40:24.212Z"
   },
   {
    "duration": 5,
    "start_time": "2025-01-17T09:40:24.350Z"
   },
   {
    "duration": 19,
    "start_time": "2025-01-17T09:40:24.357Z"
   },
   {
    "duration": 85,
    "start_time": "2025-01-17T09:40:24.378Z"
   },
   {
    "duration": 28,
    "start_time": "2025-01-17T09:40:24.465Z"
   },
   {
    "duration": 73,
    "start_time": "2025-01-17T09:40:24.495Z"
   },
   {
    "duration": 21,
    "start_time": "2025-01-17T09:40:24.570Z"
   },
   {
    "duration": 16,
    "start_time": "2025-01-17T09:40:24.592Z"
   },
   {
    "duration": 105,
    "start_time": "2025-01-17T09:40:24.622Z"
   },
   {
    "duration": 21,
    "start_time": "2025-01-17T09:40:24.729Z"
   },
   {
    "duration": 27,
    "start_time": "2025-01-17T09:40:24.751Z"
   },
   {
    "duration": 296,
    "start_time": "2025-01-17T09:40:24.779Z"
   },
   {
    "duration": 194,
    "start_time": "2025-01-17T09:40:25.077Z"
   },
   {
    "duration": 13,
    "start_time": "2025-01-17T09:40:25.272Z"
   },
   {
    "duration": 78,
    "start_time": "2025-01-17T09:40:25.286Z"
   },
   {
    "duration": 10,
    "start_time": "2025-01-17T09:40:25.366Z"
   },
   {
    "duration": 13,
    "start_time": "2025-01-17T09:40:25.378Z"
   },
   {
    "duration": 91,
    "start_time": "2025-01-17T09:40:25.393Z"
   },
   {
    "duration": 15,
    "start_time": "2025-01-17T09:40:25.486Z"
   },
   {
    "duration": 36,
    "start_time": "2025-01-17T09:40:25.503Z"
   },
   {
    "duration": 19,
    "start_time": "2025-01-17T09:40:25.541Z"
   },
   {
    "duration": 19,
    "start_time": "2025-01-17T09:40:25.561Z"
   },
   {
    "duration": 190,
    "start_time": "2025-01-17T09:40:25.582Z"
   },
   {
    "duration": 30,
    "start_time": "2025-01-17T09:40:25.773Z"
   },
   {
    "duration": 73,
    "start_time": "2025-01-17T09:40:25.804Z"
   },
   {
    "duration": 89,
    "start_time": "2025-01-17T09:40:25.879Z"
   },
   {
    "duration": 26,
    "start_time": "2025-01-17T09:40:25.970Z"
   },
   {
    "duration": 97,
    "start_time": "2025-01-17T09:40:25.998Z"
   },
   {
    "duration": 44,
    "start_time": "2025-01-17T09:40:26.097Z"
   },
   {
    "duration": 89,
    "start_time": "2025-01-17T09:40:26.143Z"
   },
   {
    "duration": 458,
    "start_time": "2025-01-17T09:40:26.234Z"
   },
   {
    "duration": 299,
    "start_time": "2025-01-17T09:40:26.694Z"
   },
   {
    "duration": 314,
    "start_time": "2025-01-17T09:40:26.994Z"
   },
   {
    "duration": 43,
    "start_time": "2025-01-17T09:40:27.310Z"
   },
   {
    "duration": 906,
    "start_time": "2025-01-17T09:41:10.322Z"
   },
   {
    "duration": 11,
    "start_time": "2025-01-17T09:43:26.963Z"
   },
   {
    "duration": 83,
    "start_time": "2025-01-17T09:45:01.141Z"
   },
   {
    "duration": 10,
    "start_time": "2025-01-17T09:45:19.973Z"
   },
   {
    "duration": 132,
    "start_time": "2025-01-17T09:48:30.814Z"
   },
   {
    "duration": 80,
    "start_time": "2025-01-17T09:49:16.390Z"
   },
   {
    "duration": 219,
    "start_time": "2025-01-17T09:50:00.631Z"
   },
   {
    "duration": 78,
    "start_time": "2025-01-17T09:50:14.658Z"
   },
   {
    "duration": 3678,
    "start_time": "2025-01-17T09:50:24.647Z"
   },
   {
    "duration": 2311,
    "start_time": "2025-01-17T09:50:28.327Z"
   },
   {
    "duration": 14,
    "start_time": "2025-01-17T09:50:30.640Z"
   },
   {
    "duration": 113,
    "start_time": "2025-01-17T09:50:30.655Z"
   },
   {
    "duration": 125,
    "start_time": "2025-01-17T09:50:30.771Z"
   },
   {
    "duration": 29,
    "start_time": "2025-01-17T09:50:30.898Z"
   },
   {
    "duration": 39,
    "start_time": "2025-01-17T09:50:30.928Z"
   },
   {
    "duration": 38,
    "start_time": "2025-01-17T09:50:30.968Z"
   },
   {
    "duration": 47,
    "start_time": "2025-01-17T09:50:31.008Z"
   },
   {
    "duration": 24,
    "start_time": "2025-01-17T09:50:31.056Z"
   },
   {
    "duration": 29,
    "start_time": "2025-01-17T09:50:31.081Z"
   },
   {
    "duration": 7,
    "start_time": "2025-01-17T09:50:31.112Z"
   },
   {
    "duration": 50,
    "start_time": "2025-01-17T09:50:31.121Z"
   },
   {
    "duration": 9,
    "start_time": "2025-01-17T09:50:31.174Z"
   },
   {
    "duration": 17,
    "start_time": "2025-01-17T09:50:31.185Z"
   },
   {
    "duration": 9,
    "start_time": "2025-01-17T09:50:31.203Z"
   },
   {
    "duration": 9,
    "start_time": "2025-01-17T09:50:31.222Z"
   },
   {
    "duration": 13,
    "start_time": "2025-01-17T09:50:31.232Z"
   },
   {
    "duration": 22,
    "start_time": "2025-01-17T09:50:31.247Z"
   },
   {
    "duration": 511,
    "start_time": "2025-01-17T09:50:31.271Z"
   },
   {
    "duration": 20,
    "start_time": "2025-01-17T09:50:31.783Z"
   },
   {
    "duration": 37,
    "start_time": "2025-01-17T09:50:31.805Z"
   },
   {
    "duration": 34,
    "start_time": "2025-01-17T09:50:31.844Z"
   },
   {
    "duration": 21,
    "start_time": "2025-01-17T09:50:31.880Z"
   },
   {
    "duration": 76,
    "start_time": "2025-01-17T09:50:31.902Z"
   },
   {
    "duration": 49,
    "start_time": "2025-01-17T09:50:31.980Z"
   },
   {
    "duration": 170,
    "start_time": "2025-01-17T09:50:32.031Z"
   },
   {
    "duration": 24,
    "start_time": "2025-01-17T09:50:32.203Z"
   },
   {
    "duration": 723,
    "start_time": "2025-01-17T09:50:32.228Z"
   },
   {
    "duration": 82,
    "start_time": "2025-01-17T09:50:32.953Z"
   },
   {
    "duration": 1,
    "start_time": "2025-01-17T09:50:33.037Z"
   },
   {
    "duration": 0,
    "start_time": "2025-01-17T09:50:33.039Z"
   },
   {
    "duration": 0,
    "start_time": "2025-01-17T09:50:33.040Z"
   },
   {
    "duration": 0,
    "start_time": "2025-01-17T09:50:33.041Z"
   },
   {
    "duration": 0,
    "start_time": "2025-01-17T09:50:33.043Z"
   },
   {
    "duration": 0,
    "start_time": "2025-01-17T09:50:33.044Z"
   },
   {
    "duration": 0,
    "start_time": "2025-01-17T09:50:33.045Z"
   },
   {
    "duration": 0,
    "start_time": "2025-01-17T09:50:33.046Z"
   },
   {
    "duration": 0,
    "start_time": "2025-01-17T09:50:33.047Z"
   },
   {
    "duration": 0,
    "start_time": "2025-01-17T09:50:33.048Z"
   },
   {
    "duration": 0,
    "start_time": "2025-01-17T09:50:33.049Z"
   },
   {
    "duration": 0,
    "start_time": "2025-01-17T09:50:33.050Z"
   },
   {
    "duration": 0,
    "start_time": "2025-01-17T09:50:33.052Z"
   },
   {
    "duration": 0,
    "start_time": "2025-01-17T09:50:33.053Z"
   },
   {
    "duration": 0,
    "start_time": "2025-01-17T09:50:33.053Z"
   },
   {
    "duration": 0,
    "start_time": "2025-01-17T09:50:33.054Z"
   },
   {
    "duration": 0,
    "start_time": "2025-01-17T09:50:33.055Z"
   },
   {
    "duration": 0,
    "start_time": "2025-01-17T09:50:33.056Z"
   },
   {
    "duration": 0,
    "start_time": "2025-01-17T09:50:33.058Z"
   },
   {
    "duration": 0,
    "start_time": "2025-01-17T09:50:33.059Z"
   },
   {
    "duration": 0,
    "start_time": "2025-01-17T09:50:33.060Z"
   },
   {
    "duration": 0,
    "start_time": "2025-01-17T09:50:33.061Z"
   },
   {
    "duration": 0,
    "start_time": "2025-01-17T09:50:33.062Z"
   },
   {
    "duration": 0,
    "start_time": "2025-01-17T09:50:33.063Z"
   },
   {
    "duration": 0,
    "start_time": "2025-01-17T09:50:33.064Z"
   },
   {
    "duration": 0,
    "start_time": "2025-01-17T09:50:33.065Z"
   },
   {
    "duration": 0,
    "start_time": "2025-01-17T09:50:33.067Z"
   },
   {
    "duration": 0,
    "start_time": "2025-01-17T09:50:33.068Z"
   },
   {
    "duration": 0,
    "start_time": "2025-01-17T09:50:33.069Z"
   },
   {
    "duration": 0,
    "start_time": "2025-01-17T09:50:33.070Z"
   },
   {
    "duration": 0,
    "start_time": "2025-01-17T09:50:33.071Z"
   },
   {
    "duration": 0,
    "start_time": "2025-01-17T09:50:33.073Z"
   },
   {
    "duration": 0,
    "start_time": "2025-01-17T09:50:33.074Z"
   },
   {
    "duration": 0,
    "start_time": "2025-01-17T09:50:33.075Z"
   },
   {
    "duration": 0,
    "start_time": "2025-01-17T09:50:33.075Z"
   },
   {
    "duration": 0,
    "start_time": "2025-01-17T09:50:33.076Z"
   },
   {
    "duration": 77,
    "start_time": "2025-01-17T09:51:38.392Z"
   },
   {
    "duration": 81,
    "start_time": "2025-01-17T09:52:18.759Z"
   },
   {
    "duration": 76,
    "start_time": "2025-01-17T09:52:25.190Z"
   },
   {
    "duration": 90,
    "start_time": "2025-01-17T09:52:28.889Z"
   },
   {
    "duration": 78,
    "start_time": "2025-01-17T09:52:37.916Z"
   },
   {
    "duration": 84,
    "start_time": "2025-01-17T09:52:55.319Z"
   },
   {
    "duration": 616,
    "start_time": "2025-01-17T09:53:25.484Z"
   },
   {
    "duration": 3637,
    "start_time": "2025-01-17T09:53:56.071Z"
   },
   {
    "duration": 2455,
    "start_time": "2025-01-17T09:53:59.710Z"
   },
   {
    "duration": 12,
    "start_time": "2025-01-17T09:54:02.167Z"
   },
   {
    "duration": 36,
    "start_time": "2025-01-17T09:54:02.181Z"
   },
   {
    "duration": 149,
    "start_time": "2025-01-17T09:54:02.219Z"
   },
   {
    "duration": 36,
    "start_time": "2025-01-17T09:54:02.370Z"
   },
   {
    "duration": 41,
    "start_time": "2025-01-17T09:54:02.409Z"
   },
   {
    "duration": 69,
    "start_time": "2025-01-17T09:54:02.452Z"
   },
   {
    "duration": 83,
    "start_time": "2025-01-17T09:54:02.523Z"
   },
   {
    "duration": 160,
    "start_time": "2025-01-17T09:54:02.609Z"
   },
   {
    "duration": 80,
    "start_time": "2025-01-17T09:54:02.771Z"
   },
   {
    "duration": 64,
    "start_time": "2025-01-17T09:54:02.853Z"
   },
   {
    "duration": 64,
    "start_time": "2025-01-17T09:54:02.918Z"
   },
   {
    "duration": 43,
    "start_time": "2025-01-17T09:54:02.983Z"
   },
   {
    "duration": 71,
    "start_time": "2025-01-17T09:54:03.028Z"
   },
   {
    "duration": 30,
    "start_time": "2025-01-17T09:54:03.100Z"
   },
   {
    "duration": 77,
    "start_time": "2025-01-17T09:54:03.132Z"
   },
   {
    "duration": 66,
    "start_time": "2025-01-17T09:54:03.210Z"
   },
   {
    "duration": 44,
    "start_time": "2025-01-17T09:54:03.277Z"
   },
   {
    "duration": 589,
    "start_time": "2025-01-17T09:54:03.323Z"
   },
   {
    "duration": 20,
    "start_time": "2025-01-17T09:54:03.913Z"
   },
   {
    "duration": 27,
    "start_time": "2025-01-17T09:54:03.935Z"
   },
   {
    "duration": 36,
    "start_time": "2025-01-17T09:54:03.964Z"
   },
   {
    "duration": 48,
    "start_time": "2025-01-17T09:54:04.002Z"
   },
   {
    "duration": 112,
    "start_time": "2025-01-17T09:54:04.051Z"
   },
   {
    "duration": 43,
    "start_time": "2025-01-17T09:54:04.165Z"
   },
   {
    "duration": 263,
    "start_time": "2025-01-17T09:54:04.210Z"
   },
   {
    "duration": 17,
    "start_time": "2025-01-17T09:54:04.477Z"
   },
   {
    "duration": 712,
    "start_time": "2025-01-17T09:54:04.496Z"
   },
   {
    "duration": 16,
    "start_time": "2025-01-17T09:54:05.209Z"
   },
   {
    "duration": 13,
    "start_time": "2025-01-17T09:54:05.227Z"
   },
   {
    "duration": 153,
    "start_time": "2025-01-17T09:54:05.242Z"
   },
   {
    "duration": 5,
    "start_time": "2025-01-17T09:54:05.397Z"
   },
   {
    "duration": 59,
    "start_time": "2025-01-17T09:54:05.403Z"
   },
   {
    "duration": 28,
    "start_time": "2025-01-17T09:54:05.464Z"
   },
   {
    "duration": 34,
    "start_time": "2025-01-17T09:54:05.494Z"
   },
   {
    "duration": 165,
    "start_time": "2025-01-17T09:54:05.530Z"
   },
   {
    "duration": 25,
    "start_time": "2025-01-17T09:54:05.697Z"
   },
   {
    "duration": 26,
    "start_time": "2025-01-17T09:54:05.724Z"
   },
   {
    "duration": 51,
    "start_time": "2025-01-17T09:54:05.752Z"
   },
   {
    "duration": 11,
    "start_time": "2025-01-17T09:54:05.805Z"
   },
   {
    "duration": 46,
    "start_time": "2025-01-17T09:54:05.818Z"
   },
   {
    "duration": 345,
    "start_time": "2025-01-17T09:54:05.865Z"
   },
   {
    "duration": 203,
    "start_time": "2025-01-17T09:54:06.212Z"
   },
   {
    "duration": 15,
    "start_time": "2025-01-17T09:54:06.417Z"
   },
   {
    "duration": 159,
    "start_time": "2025-01-17T09:54:06.433Z"
   },
   {
    "duration": 9,
    "start_time": "2025-01-17T09:54:06.593Z"
   },
   {
    "duration": 108,
    "start_time": "2025-01-17T09:54:06.603Z"
   },
   {
    "duration": 141,
    "start_time": "2025-01-17T09:54:06.712Z"
   },
   {
    "duration": 14,
    "start_time": "2025-01-17T09:54:06.854Z"
   },
   {
    "duration": 40,
    "start_time": "2025-01-17T09:54:06.870Z"
   },
   {
    "duration": 34,
    "start_time": "2025-01-17T09:54:06.912Z"
   },
   {
    "duration": 89,
    "start_time": "2025-01-17T09:54:06.948Z"
   },
   {
    "duration": 188,
    "start_time": "2025-01-17T09:54:07.039Z"
   },
   {
    "duration": 31,
    "start_time": "2025-01-17T09:54:07.229Z"
   },
   {
    "duration": 73,
    "start_time": "2025-01-17T09:54:07.262Z"
   },
   {
    "duration": 97,
    "start_time": "2025-01-17T09:54:07.337Z"
   },
   {
    "duration": 27,
    "start_time": "2025-01-17T09:54:07.436Z"
   },
   {
    "duration": 95,
    "start_time": "2025-01-17T09:54:07.465Z"
   },
   {
    "duration": 30,
    "start_time": "2025-01-17T09:54:07.562Z"
   },
   {
    "duration": 93,
    "start_time": "2025-01-17T09:54:07.593Z"
   },
   {
    "duration": 440,
    "start_time": "2025-01-17T09:54:07.687Z"
   },
   {
    "duration": 314,
    "start_time": "2025-01-17T09:54:08.129Z"
   },
   {
    "duration": 322,
    "start_time": "2025-01-17T09:54:08.445Z"
   },
   {
    "duration": 37,
    "start_time": "2025-01-17T09:54:08.769Z"
   },
   {
    "duration": 82,
    "start_time": "2025-01-17T09:54:54.958Z"
   },
   {
    "duration": 90,
    "start_time": "2025-01-17T09:54:58.492Z"
   },
   {
    "duration": 94,
    "start_time": "2025-01-17T09:55:00.930Z"
   },
   {
    "duration": 76,
    "start_time": "2025-01-17T09:57:30.688Z"
   },
   {
    "duration": 206,
    "start_time": "2025-01-17T10:02:32.828Z"
   },
   {
    "duration": 18,
    "start_time": "2025-01-17T10:02:46.640Z"
   },
   {
    "duration": 125,
    "start_time": "2025-01-17T10:02:58.429Z"
   },
   {
    "duration": 3690,
    "start_time": "2025-01-17T10:03:14.872Z"
   },
   {
    "duration": 1883,
    "start_time": "2025-01-17T10:03:18.564Z"
   },
   {
    "duration": 13,
    "start_time": "2025-01-17T10:03:20.448Z"
   },
   {
    "duration": 70,
    "start_time": "2025-01-17T10:03:20.463Z"
   },
   {
    "duration": 103,
    "start_time": "2025-01-17T10:03:20.535Z"
   },
   {
    "duration": 24,
    "start_time": "2025-01-17T10:03:20.640Z"
   },
   {
    "duration": 15,
    "start_time": "2025-01-17T10:03:20.666Z"
   },
   {
    "duration": 22,
    "start_time": "2025-01-17T10:03:20.682Z"
   },
   {
    "duration": 137,
    "start_time": "2025-01-17T10:03:20.706Z"
   },
   {
    "duration": 9,
    "start_time": "2025-01-17T10:03:20.846Z"
   },
   {
    "duration": 39,
    "start_time": "2025-01-17T10:03:20.856Z"
   },
   {
    "duration": 11,
    "start_time": "2025-01-17T10:03:20.897Z"
   },
   {
    "duration": 75,
    "start_time": "2025-01-17T10:03:20.909Z"
   },
   {
    "duration": 8,
    "start_time": "2025-01-17T10:03:20.986Z"
   },
   {
    "duration": 19,
    "start_time": "2025-01-17T10:03:20.996Z"
   },
   {
    "duration": 21,
    "start_time": "2025-01-17T10:03:21.017Z"
   },
   {
    "duration": 38,
    "start_time": "2025-01-17T10:03:21.040Z"
   },
   {
    "duration": 24,
    "start_time": "2025-01-17T10:03:21.079Z"
   },
   {
    "duration": 9,
    "start_time": "2025-01-17T10:03:21.104Z"
   },
   {
    "duration": 511,
    "start_time": "2025-01-17T10:03:21.114Z"
   },
   {
    "duration": 20,
    "start_time": "2025-01-17T10:03:21.627Z"
   },
   {
    "duration": 16,
    "start_time": "2025-01-17T10:03:21.649Z"
   },
   {
    "duration": 20,
    "start_time": "2025-01-17T10:03:21.667Z"
   },
   {
    "duration": 36,
    "start_time": "2025-01-17T10:03:21.689Z"
   },
   {
    "duration": 90,
    "start_time": "2025-01-17T10:03:21.727Z"
   },
   {
    "duration": 43,
    "start_time": "2025-01-17T10:03:21.819Z"
   },
   {
    "duration": 168,
    "start_time": "2025-01-17T10:03:21.864Z"
   },
   {
    "duration": 17,
    "start_time": "2025-01-17T10:03:22.036Z"
   },
   {
    "duration": 694,
    "start_time": "2025-01-17T10:03:22.055Z"
   },
   {
    "duration": 6,
    "start_time": "2025-01-17T10:03:22.751Z"
   },
   {
    "duration": 45,
    "start_time": "2025-01-17T10:03:22.759Z"
   },
   {
    "duration": 147,
    "start_time": "2025-01-17T10:03:22.806Z"
   },
   {
    "duration": 4,
    "start_time": "2025-01-17T10:03:22.955Z"
   },
   {
    "duration": 28,
    "start_time": "2025-01-17T10:03:22.961Z"
   },
   {
    "duration": 5,
    "start_time": "2025-01-17T10:03:22.991Z"
   },
   {
    "duration": 17,
    "start_time": "2025-01-17T10:03:22.997Z"
   },
   {
    "duration": 76,
    "start_time": "2025-01-17T10:03:23.015Z"
   },
   {
    "duration": 29,
    "start_time": "2025-01-17T10:03:23.093Z"
   },
   {
    "duration": 11,
    "start_time": "2025-01-17T10:03:23.124Z"
   },
   {
    "duration": 52,
    "start_time": "2025-01-17T10:03:23.136Z"
   },
   {
    "duration": 11,
    "start_time": "2025-01-17T10:03:23.190Z"
   },
   {
    "duration": 31,
    "start_time": "2025-01-17T10:03:23.203Z"
   },
   {
    "duration": 313,
    "start_time": "2025-01-17T10:03:23.237Z"
   },
   {
    "duration": 198,
    "start_time": "2025-01-17T10:03:23.552Z"
   },
   {
    "duration": 13,
    "start_time": "2025-01-17T10:03:23.752Z"
   },
   {
    "duration": 80,
    "start_time": "2025-01-17T10:03:23.767Z"
   },
   {
    "duration": 74,
    "start_time": "2025-01-17T10:03:23.848Z"
   },
   {
    "duration": 191,
    "start_time": "2025-01-17T10:03:23.924Z"
   },
   {
    "duration": 17,
    "start_time": "2025-01-17T10:03:24.117Z"
   },
   {
    "duration": 125,
    "start_time": "2025-01-17T10:03:24.136Z"
   },
   {
    "duration": 13,
    "start_time": "2025-01-17T10:03:24.263Z"
   },
   {
    "duration": 41,
    "start_time": "2025-01-17T10:03:24.278Z"
   },
   {
    "duration": 78,
    "start_time": "2025-01-17T10:03:24.320Z"
   },
   {
    "duration": 21,
    "start_time": "2025-01-17T10:03:24.400Z"
   },
   {
    "duration": 28,
    "start_time": "2025-01-17T10:03:24.423Z"
   },
   {
    "duration": 90,
    "start_time": "2025-01-17T10:03:24.452Z"
   },
   {
    "duration": 21,
    "start_time": "2025-01-17T10:03:24.543Z"
   },
   {
    "duration": 181,
    "start_time": "2025-01-17T10:03:24.566Z"
   },
   {
    "duration": 33,
    "start_time": "2025-01-17T10:03:24.748Z"
   },
   {
    "duration": 73,
    "start_time": "2025-01-17T10:03:24.782Z"
   },
   {
    "duration": 91,
    "start_time": "2025-01-17T10:03:24.856Z"
   },
   {
    "duration": 17,
    "start_time": "2025-01-17T10:03:24.949Z"
   },
   {
    "duration": 95,
    "start_time": "2025-01-17T10:03:24.968Z"
   },
   {
    "duration": 30,
    "start_time": "2025-01-17T10:03:25.065Z"
   },
   {
    "duration": 94,
    "start_time": "2025-01-17T10:03:25.097Z"
   },
   {
    "duration": 440,
    "start_time": "2025-01-17T10:03:25.193Z"
   },
   {
    "duration": 307,
    "start_time": "2025-01-17T10:03:25.634Z"
   },
   {
    "duration": 312,
    "start_time": "2025-01-17T10:03:25.943Z"
   },
   {
    "duration": 37,
    "start_time": "2025-01-17T10:03:26.257Z"
   },
   {
    "duration": 1571,
    "start_time": "2025-01-17T10:11:51.870Z"
   },
   {
    "duration": 167,
    "start_time": "2025-01-17T10:12:06.083Z"
   },
   {
    "duration": 59,
    "start_time": "2025-01-17T10:12:49.484Z"
   },
   {
    "duration": 160,
    "start_time": "2025-01-17T10:13:01.889Z"
   },
   {
    "duration": 79,
    "start_time": "2025-01-17T10:14:30.199Z"
   },
   {
    "duration": 161,
    "start_time": "2025-01-17T10:14:32.173Z"
   },
   {
    "duration": 205,
    "start_time": "2025-01-17T10:15:50.272Z"
   },
   {
    "duration": 168,
    "start_time": "2025-01-17T10:20:12.384Z"
   },
   {
    "duration": 160,
    "start_time": "2025-01-17T10:20:13.604Z"
   },
   {
    "duration": 307,
    "start_time": "2025-01-17T10:21:22.925Z"
   },
   {
    "duration": 57,
    "start_time": "2025-01-17T10:21:36.693Z"
   },
   {
    "duration": 172,
    "start_time": "2025-01-17T10:21:37.309Z"
   },
   {
    "duration": 172,
    "start_time": "2025-01-17T10:22:19.910Z"
   },
   {
    "duration": 148,
    "start_time": "2025-01-17T10:24:47.839Z"
   },
   {
    "duration": 162,
    "start_time": "2025-01-17T10:24:56.959Z"
   },
   {
    "duration": 27,
    "start_time": "2025-01-17T10:25:37.478Z"
   },
   {
    "duration": 171,
    "start_time": "2025-01-17T10:25:38.138Z"
   },
   {
    "duration": 3596,
    "start_time": "2025-01-17T10:25:44.649Z"
   },
   {
    "duration": 2398,
    "start_time": "2025-01-17T10:25:48.247Z"
   },
   {
    "duration": 13,
    "start_time": "2025-01-17T10:25:50.647Z"
   },
   {
    "duration": 30,
    "start_time": "2025-01-17T10:25:50.662Z"
   },
   {
    "duration": 97,
    "start_time": "2025-01-17T10:25:50.694Z"
   },
   {
    "duration": 23,
    "start_time": "2025-01-17T10:25:50.793Z"
   },
   {
    "duration": 34,
    "start_time": "2025-01-17T10:25:50.817Z"
   },
   {
    "duration": 48,
    "start_time": "2025-01-17T10:25:50.853Z"
   },
   {
    "duration": 51,
    "start_time": "2025-01-17T10:25:50.903Z"
   },
   {
    "duration": 32,
    "start_time": "2025-01-17T10:25:50.955Z"
   },
   {
    "duration": 27,
    "start_time": "2025-01-17T10:25:50.988Z"
   },
   {
    "duration": 14,
    "start_time": "2025-01-17T10:25:51.017Z"
   },
   {
    "duration": 47,
    "start_time": "2025-01-17T10:25:51.032Z"
   },
   {
    "duration": 9,
    "start_time": "2025-01-17T10:25:51.082Z"
   },
   {
    "duration": 34,
    "start_time": "2025-01-17T10:25:51.092Z"
   },
   {
    "duration": 19,
    "start_time": "2025-01-17T10:25:51.128Z"
   },
   {
    "duration": 28,
    "start_time": "2025-01-17T10:25:51.149Z"
   },
   {
    "duration": 24,
    "start_time": "2025-01-17T10:25:51.178Z"
   },
   {
    "duration": 25,
    "start_time": "2025-01-17T10:25:51.204Z"
   },
   {
    "duration": 614,
    "start_time": "2025-01-17T10:25:51.231Z"
   },
   {
    "duration": 19,
    "start_time": "2025-01-17T10:25:51.847Z"
   },
   {
    "duration": 32,
    "start_time": "2025-01-17T10:25:51.868Z"
   },
   {
    "duration": 31,
    "start_time": "2025-01-17T10:25:51.902Z"
   },
   {
    "duration": 16,
    "start_time": "2025-01-17T10:25:51.935Z"
   },
   {
    "duration": 82,
    "start_time": "2025-01-17T10:25:51.953Z"
   },
   {
    "duration": 42,
    "start_time": "2025-01-17T10:25:52.037Z"
   },
   {
    "duration": 179,
    "start_time": "2025-01-17T10:25:52.080Z"
   },
   {
    "duration": 16,
    "start_time": "2025-01-17T10:25:52.261Z"
   },
   {
    "duration": 688,
    "start_time": "2025-01-17T10:25:52.279Z"
   },
   {
    "duration": 7,
    "start_time": "2025-01-17T10:25:52.968Z"
   },
   {
    "duration": 14,
    "start_time": "2025-01-17T10:25:52.976Z"
   },
   {
    "duration": 145,
    "start_time": "2025-01-17T10:25:52.991Z"
   },
   {
    "duration": 5,
    "start_time": "2025-01-17T10:25:53.137Z"
   },
   {
    "duration": 20,
    "start_time": "2025-01-17T10:25:53.144Z"
   },
   {
    "duration": 4,
    "start_time": "2025-01-17T10:25:53.168Z"
   },
   {
    "duration": 12,
    "start_time": "2025-01-17T10:25:53.173Z"
   },
   {
    "duration": 95,
    "start_time": "2025-01-17T10:25:53.186Z"
   },
   {
    "duration": 20,
    "start_time": "2025-01-17T10:25:53.283Z"
   },
   {
    "duration": 27,
    "start_time": "2025-01-17T10:25:53.304Z"
   },
   {
    "duration": 36,
    "start_time": "2025-01-17T10:25:53.332Z"
   },
   {
    "duration": 9,
    "start_time": "2025-01-17T10:25:53.372Z"
   },
   {
    "duration": 19,
    "start_time": "2025-01-17T10:25:53.383Z"
   },
   {
    "duration": 325,
    "start_time": "2025-01-17T10:25:53.403Z"
   },
   {
    "duration": 192,
    "start_time": "2025-01-17T10:25:53.729Z"
   },
   {
    "duration": 12,
    "start_time": "2025-01-17T10:25:53.923Z"
   },
   {
    "duration": 70,
    "start_time": "2025-01-17T10:25:53.936Z"
   },
   {
    "duration": 78,
    "start_time": "2025-01-17T10:25:54.007Z"
   },
   {
    "duration": 194,
    "start_time": "2025-01-17T10:25:54.086Z"
   },
   {
    "duration": 15,
    "start_time": "2025-01-17T10:25:54.281Z"
   },
   {
    "duration": 127,
    "start_time": "2025-01-17T10:25:54.298Z"
   },
   {
    "duration": 11,
    "start_time": "2025-01-17T10:25:54.427Z"
   },
   {
    "duration": 33,
    "start_time": "2025-01-17T10:25:54.439Z"
   },
   {
    "duration": 82,
    "start_time": "2025-01-17T10:25:54.474Z"
   },
   {
    "duration": 212,
    "start_time": "2025-01-17T10:25:54.558Z"
   },
   {
    "duration": 131,
    "start_time": "2025-01-17T10:25:54.771Z"
   },
   {
    "duration": 162,
    "start_time": "2025-01-17T10:25:54.904Z"
   },
   {
    "duration": 16,
    "start_time": "2025-01-17T10:25:55.068Z"
   },
   {
    "duration": 16,
    "start_time": "2025-01-17T10:25:55.086Z"
   },
   {
    "duration": 32,
    "start_time": "2025-01-17T10:25:55.103Z"
   },
   {
    "duration": 12,
    "start_time": "2025-01-17T10:25:55.137Z"
   },
   {
    "duration": 196,
    "start_time": "2025-01-17T10:25:55.151Z"
   },
   {
    "duration": 36,
    "start_time": "2025-01-17T10:25:55.349Z"
   },
   {
    "duration": 81,
    "start_time": "2025-01-17T10:25:55.386Z"
   },
   {
    "duration": 95,
    "start_time": "2025-01-17T10:25:55.469Z"
   },
   {
    "duration": 18,
    "start_time": "2025-01-17T10:25:55.566Z"
   },
   {
    "duration": 104,
    "start_time": "2025-01-17T10:25:55.586Z"
   },
   {
    "duration": 38,
    "start_time": "2025-01-17T10:25:55.692Z"
   },
   {
    "duration": 91,
    "start_time": "2025-01-17T10:25:55.732Z"
   },
   {
    "duration": 443,
    "start_time": "2025-01-17T10:25:55.824Z"
   },
   {
    "duration": 305,
    "start_time": "2025-01-17T10:25:56.269Z"
   },
   {
    "duration": 320,
    "start_time": "2025-01-17T10:25:56.576Z"
   },
   {
    "duration": 41,
    "start_time": "2025-01-17T10:25:56.897Z"
   },
   {
    "duration": 13,
    "start_time": "2025-01-17T10:26:44.151Z"
   },
   {
    "duration": 209,
    "start_time": "2025-01-17T10:26:45.133Z"
   },
   {
    "duration": 16,
    "start_time": "2025-01-17T10:26:46.297Z"
   },
   {
    "duration": 155,
    "start_time": "2025-01-17T10:26:46.863Z"
   },
   {
    "duration": 3589,
    "start_time": "2025-01-17T10:26:54.587Z"
   },
   {
    "duration": 1992,
    "start_time": "2025-01-17T10:26:58.178Z"
   },
   {
    "duration": 13,
    "start_time": "2025-01-17T10:27:00.172Z"
   },
   {
    "duration": 38,
    "start_time": "2025-01-17T10:27:00.186Z"
   },
   {
    "duration": 144,
    "start_time": "2025-01-17T10:27:00.227Z"
   },
   {
    "duration": 25,
    "start_time": "2025-01-17T10:27:00.373Z"
   },
   {
    "duration": 54,
    "start_time": "2025-01-17T10:27:00.400Z"
   },
   {
    "duration": 33,
    "start_time": "2025-01-17T10:27:00.455Z"
   },
   {
    "duration": 46,
    "start_time": "2025-01-17T10:27:00.490Z"
   },
   {
    "duration": 63,
    "start_time": "2025-01-17T10:27:00.538Z"
   },
   {
    "duration": 45,
    "start_time": "2025-01-17T10:27:00.603Z"
   },
   {
    "duration": 9,
    "start_time": "2025-01-17T10:27:00.650Z"
   },
   {
    "duration": 65,
    "start_time": "2025-01-17T10:27:00.661Z"
   },
   {
    "duration": 9,
    "start_time": "2025-01-17T10:27:00.730Z"
   },
   {
    "duration": 25,
    "start_time": "2025-01-17T10:27:00.740Z"
   },
   {
    "duration": 58,
    "start_time": "2025-01-17T10:27:00.767Z"
   },
   {
    "duration": 50,
    "start_time": "2025-01-17T10:27:00.827Z"
   },
   {
    "duration": 6,
    "start_time": "2025-01-17T10:27:00.880Z"
   },
   {
    "duration": 14,
    "start_time": "2025-01-17T10:27:00.888Z"
   },
   {
    "duration": 564,
    "start_time": "2025-01-17T10:27:00.903Z"
   },
   {
    "duration": 20,
    "start_time": "2025-01-17T10:27:01.469Z"
   },
   {
    "duration": 44,
    "start_time": "2025-01-17T10:27:01.491Z"
   },
   {
    "duration": 65,
    "start_time": "2025-01-17T10:27:01.537Z"
   },
   {
    "duration": 37,
    "start_time": "2025-01-17T10:27:01.604Z"
   },
   {
    "duration": 117,
    "start_time": "2025-01-17T10:27:01.643Z"
   },
   {
    "duration": 42,
    "start_time": "2025-01-17T10:27:01.761Z"
   },
   {
    "duration": 225,
    "start_time": "2025-01-17T10:27:01.805Z"
   },
   {
    "duration": 18,
    "start_time": "2025-01-17T10:27:02.032Z"
   },
   {
    "duration": 697,
    "start_time": "2025-01-17T10:27:02.052Z"
   },
   {
    "duration": 6,
    "start_time": "2025-01-17T10:27:02.751Z"
   },
   {
    "duration": 115,
    "start_time": "2025-01-17T10:27:02.758Z"
   },
   {
    "duration": 196,
    "start_time": "2025-01-17T10:27:02.874Z"
   },
   {
    "duration": 5,
    "start_time": "2025-01-17T10:27:03.072Z"
   },
   {
    "duration": 48,
    "start_time": "2025-01-17T10:27:03.078Z"
   },
   {
    "duration": 44,
    "start_time": "2025-01-17T10:27:03.128Z"
   },
   {
    "duration": 26,
    "start_time": "2025-01-17T10:27:03.173Z"
   },
   {
    "duration": 93,
    "start_time": "2025-01-17T10:27:03.201Z"
   },
   {
    "duration": 27,
    "start_time": "2025-01-17T10:27:03.295Z"
   },
   {
    "duration": 18,
    "start_time": "2025-01-17T10:27:03.324Z"
   },
   {
    "duration": 39,
    "start_time": "2025-01-17T10:27:03.343Z"
   },
   {
    "duration": 10,
    "start_time": "2025-01-17T10:27:03.386Z"
   },
   {
    "duration": 51,
    "start_time": "2025-01-17T10:27:03.397Z"
   },
   {
    "duration": 313,
    "start_time": "2025-01-17T10:27:03.450Z"
   },
   {
    "duration": 197,
    "start_time": "2025-01-17T10:27:03.765Z"
   },
   {
    "duration": 13,
    "start_time": "2025-01-17T10:27:03.964Z"
   },
   {
    "duration": 137,
    "start_time": "2025-01-17T10:27:03.978Z"
   },
   {
    "duration": 68,
    "start_time": "2025-01-17T10:27:04.117Z"
   },
   {
    "duration": 200,
    "start_time": "2025-01-17T10:27:04.187Z"
   },
   {
    "duration": 16,
    "start_time": "2025-01-17T10:27:04.389Z"
   },
   {
    "duration": 159,
    "start_time": "2025-01-17T10:27:04.406Z"
   },
   {
    "duration": 51,
    "start_time": "2025-01-17T10:27:04.566Z"
   },
   {
    "duration": 22,
    "start_time": "2025-01-17T10:27:04.619Z"
   },
   {
    "duration": 79,
    "start_time": "2025-01-17T10:27:04.643Z"
   },
   {
    "duration": 217,
    "start_time": "2025-01-17T10:27:04.724Z"
   },
   {
    "duration": 139,
    "start_time": "2025-01-17T10:27:04.943Z"
   },
   {
    "duration": 169,
    "start_time": "2025-01-17T10:27:05.085Z"
   },
   {
    "duration": 17,
    "start_time": "2025-01-17T10:27:05.256Z"
   },
   {
    "duration": 33,
    "start_time": "2025-01-17T10:27:05.275Z"
   },
   {
    "duration": 30,
    "start_time": "2025-01-17T10:27:05.309Z"
   },
   {
    "duration": 16,
    "start_time": "2025-01-17T10:27:05.340Z"
   },
   {
    "duration": 204,
    "start_time": "2025-01-17T10:27:05.357Z"
   },
   {
    "duration": 37,
    "start_time": "2025-01-17T10:27:05.563Z"
   },
   {
    "duration": 90,
    "start_time": "2025-01-17T10:27:05.602Z"
   },
   {
    "duration": 114,
    "start_time": "2025-01-17T10:27:05.694Z"
   },
   {
    "duration": 22,
    "start_time": "2025-01-17T10:27:05.809Z"
   },
   {
    "duration": 101,
    "start_time": "2025-01-17T10:27:05.834Z"
   },
   {
    "duration": 31,
    "start_time": "2025-01-17T10:27:05.937Z"
   },
   {
    "duration": 99,
    "start_time": "2025-01-17T10:27:05.970Z"
   },
   {
    "duration": 467,
    "start_time": "2025-01-17T10:27:06.070Z"
   },
   {
    "duration": 312,
    "start_time": "2025-01-17T10:27:06.539Z"
   },
   {
    "duration": 327,
    "start_time": "2025-01-17T10:27:06.853Z"
   },
   {
    "duration": 50,
    "start_time": "2025-01-17T10:27:07.182Z"
   },
   {
    "duration": 16,
    "start_time": "2025-01-17T10:28:07.338Z"
   },
   {
    "duration": 160,
    "start_time": "2025-01-17T10:28:07.841Z"
   },
   {
    "duration": 17,
    "start_time": "2025-01-17T10:28:10.897Z"
   },
   {
    "duration": 133,
    "start_time": "2025-01-17T10:28:31.063Z"
   },
   {
    "duration": 3676,
    "start_time": "2025-01-17T10:29:38.494Z"
   },
   {
    "duration": 2045,
    "start_time": "2025-01-17T10:29:42.173Z"
   },
   {
    "duration": 12,
    "start_time": "2025-01-17T10:29:44.220Z"
   },
   {
    "duration": 18,
    "start_time": "2025-01-17T10:29:44.234Z"
   },
   {
    "duration": 106,
    "start_time": "2025-01-17T10:29:44.253Z"
   },
   {
    "duration": 25,
    "start_time": "2025-01-17T10:29:44.361Z"
   },
   {
    "duration": 30,
    "start_time": "2025-01-17T10:29:44.388Z"
   },
   {
    "duration": 40,
    "start_time": "2025-01-17T10:29:44.420Z"
   },
   {
    "duration": 44,
    "start_time": "2025-01-17T10:29:44.462Z"
   },
   {
    "duration": 7,
    "start_time": "2025-01-17T10:29:44.509Z"
   },
   {
    "duration": 42,
    "start_time": "2025-01-17T10:29:44.518Z"
   },
   {
    "duration": 12,
    "start_time": "2025-01-17T10:29:44.562Z"
   },
   {
    "duration": 45,
    "start_time": "2025-01-17T10:29:44.575Z"
   },
   {
    "duration": 8,
    "start_time": "2025-01-17T10:29:44.622Z"
   },
   {
    "duration": 15,
    "start_time": "2025-01-17T10:29:44.631Z"
   },
   {
    "duration": 11,
    "start_time": "2025-01-17T10:29:44.648Z"
   },
   {
    "duration": 18,
    "start_time": "2025-01-17T10:29:44.660Z"
   },
   {
    "duration": 7,
    "start_time": "2025-01-17T10:29:44.680Z"
   },
   {
    "duration": 8,
    "start_time": "2025-01-17T10:29:44.688Z"
   },
   {
    "duration": 535,
    "start_time": "2025-01-17T10:29:44.722Z"
   },
   {
    "duration": 20,
    "start_time": "2025-01-17T10:29:45.258Z"
   },
   {
    "duration": 46,
    "start_time": "2025-01-17T10:29:45.280Z"
   },
   {
    "duration": 24,
    "start_time": "2025-01-17T10:29:45.328Z"
   },
   {
    "duration": 34,
    "start_time": "2025-01-17T10:29:45.353Z"
   },
   {
    "duration": 93,
    "start_time": "2025-01-17T10:29:45.388Z"
   },
   {
    "duration": 47,
    "start_time": "2025-01-17T10:29:45.483Z"
   },
   {
    "duration": 219,
    "start_time": "2025-01-17T10:29:45.532Z"
   },
   {
    "duration": 16,
    "start_time": "2025-01-17T10:29:45.755Z"
   },
   {
    "duration": 719,
    "start_time": "2025-01-17T10:29:45.773Z"
   },
   {
    "duration": 7,
    "start_time": "2025-01-17T10:29:46.493Z"
   },
   {
    "duration": 46,
    "start_time": "2025-01-17T10:29:46.501Z"
   },
   {
    "duration": 160,
    "start_time": "2025-01-17T10:29:46.549Z"
   },
   {
    "duration": 5,
    "start_time": "2025-01-17T10:29:46.710Z"
   },
   {
    "duration": 24,
    "start_time": "2025-01-17T10:29:46.717Z"
   },
   {
    "duration": 6,
    "start_time": "2025-01-17T10:29:46.742Z"
   },
   {
    "duration": 12,
    "start_time": "2025-01-17T10:29:46.749Z"
   },
   {
    "duration": 81,
    "start_time": "2025-01-17T10:29:46.762Z"
   },
   {
    "duration": 21,
    "start_time": "2025-01-17T10:29:46.845Z"
   },
   {
    "duration": 18,
    "start_time": "2025-01-17T10:29:46.868Z"
   },
   {
    "duration": 53,
    "start_time": "2025-01-17T10:29:46.887Z"
   },
   {
    "duration": 11,
    "start_time": "2025-01-17T10:29:46.942Z"
   },
   {
    "duration": 23,
    "start_time": "2025-01-17T10:29:46.955Z"
   },
   {
    "duration": 326,
    "start_time": "2025-01-17T10:29:46.980Z"
   },
   {
    "duration": 195,
    "start_time": "2025-01-17T10:29:47.308Z"
   },
   {
    "duration": 18,
    "start_time": "2025-01-17T10:29:47.505Z"
   },
   {
    "duration": 81,
    "start_time": "2025-01-17T10:29:47.524Z"
   },
   {
    "duration": 72,
    "start_time": "2025-01-17T10:29:47.607Z"
   },
   {
    "duration": 197,
    "start_time": "2025-01-17T10:29:47.681Z"
   },
   {
    "duration": 20,
    "start_time": "2025-01-17T10:29:47.879Z"
   },
   {
    "duration": 128,
    "start_time": "2025-01-17T10:29:47.901Z"
   },
   {
    "duration": 10,
    "start_time": "2025-01-17T10:29:48.030Z"
   },
   {
    "duration": 17,
    "start_time": "2025-01-17T10:29:48.041Z"
   },
   {
    "duration": 90,
    "start_time": "2025-01-17T10:29:48.060Z"
   },
   {
    "duration": 117,
    "start_time": "2025-01-17T10:29:48.151Z"
   },
   {
    "duration": 0,
    "start_time": "2025-01-17T10:29:48.271Z"
   },
   {
    "duration": 1,
    "start_time": "2025-01-17T10:29:48.272Z"
   },
   {
    "duration": 0,
    "start_time": "2025-01-17T10:29:48.274Z"
   },
   {
    "duration": 0,
    "start_time": "2025-01-17T10:29:48.276Z"
   },
   {
    "duration": 0,
    "start_time": "2025-01-17T10:29:48.277Z"
   },
   {
    "duration": 0,
    "start_time": "2025-01-17T10:29:48.279Z"
   },
   {
    "duration": 0,
    "start_time": "2025-01-17T10:29:48.281Z"
   },
   {
    "duration": 0,
    "start_time": "2025-01-17T10:29:48.282Z"
   },
   {
    "duration": 0,
    "start_time": "2025-01-17T10:29:48.284Z"
   },
   {
    "duration": 0,
    "start_time": "2025-01-17T10:29:48.285Z"
   },
   {
    "duration": 0,
    "start_time": "2025-01-17T10:29:48.286Z"
   },
   {
    "duration": 0,
    "start_time": "2025-01-17T10:29:48.288Z"
   },
   {
    "duration": 0,
    "start_time": "2025-01-17T10:29:48.289Z"
   },
   {
    "duration": 0,
    "start_time": "2025-01-17T10:29:48.290Z"
   },
   {
    "duration": 0,
    "start_time": "2025-01-17T10:29:48.291Z"
   },
   {
    "duration": 0,
    "start_time": "2025-01-17T10:29:48.292Z"
   },
   {
    "duration": 13,
    "start_time": "2025-01-17T10:30:58.406Z"
   },
   {
    "duration": 182,
    "start_time": "2025-01-17T10:31:15.447Z"
   },
   {
    "duration": 91,
    "start_time": "2025-01-17T10:31:23.813Z"
   },
   {
    "duration": 162,
    "start_time": "2025-01-17T10:31:25.877Z"
   },
   {
    "duration": 160,
    "start_time": "2025-01-17T10:31:47.373Z"
   },
   {
    "duration": 159,
    "start_time": "2025-01-17T10:32:45.560Z"
   },
   {
    "duration": 157,
    "start_time": "2025-01-17T10:33:04.807Z"
   },
   {
    "duration": 223,
    "start_time": "2025-01-17T10:33:37.397Z"
   },
   {
    "duration": 89,
    "start_time": "2025-01-17T10:34:50.350Z"
   },
   {
    "duration": 172,
    "start_time": "2025-01-17T10:34:52.010Z"
   },
   {
    "duration": 113,
    "start_time": "2025-01-17T10:36:17.613Z"
   },
   {
    "duration": 151,
    "start_time": "2025-01-17T10:36:23.105Z"
   },
   {
    "duration": 16,
    "start_time": "2025-01-17T10:36:26.481Z"
   },
   {
    "duration": 156,
    "start_time": "2025-01-17T10:36:43.421Z"
   },
   {
    "duration": 1286,
    "start_time": "2025-01-17T10:45:03.382Z"
   },
   {
    "duration": 1591,
    "start_time": "2025-01-17T10:45:11.926Z"
   },
   {
    "duration": 10,
    "start_time": "2025-01-17T10:47:19.147Z"
   },
   {
    "duration": 21,
    "start_time": "2025-01-17T10:49:10.719Z"
   },
   {
    "duration": 19,
    "start_time": "2025-01-17T10:50:00.174Z"
   },
   {
    "duration": 17,
    "start_time": "2025-01-17T10:50:48.862Z"
   },
   {
    "duration": 17,
    "start_time": "2025-01-17T10:51:23.672Z"
   },
   {
    "duration": 26,
    "start_time": "2025-01-17T10:52:13.319Z"
   },
   {
    "duration": 15,
    "start_time": "2025-01-17T10:55:08.333Z"
   },
   {
    "duration": 148,
    "start_time": "2025-01-17T10:55:08.836Z"
   },
   {
    "duration": 9,
    "start_time": "2025-01-17T10:55:13.581Z"
   },
   {
    "duration": 3620,
    "start_time": "2025-01-17T10:55:18.888Z"
   },
   {
    "duration": 8253,
    "start_time": "2025-01-17T10:55:22.510Z"
   },
   {
    "duration": 13,
    "start_time": "2025-01-17T10:55:30.765Z"
   },
   {
    "duration": 53,
    "start_time": "2025-01-17T10:55:30.779Z"
   },
   {
    "duration": 108,
    "start_time": "2025-01-17T10:55:30.835Z"
   },
   {
    "duration": 25,
    "start_time": "2025-01-17T10:55:30.944Z"
   },
   {
    "duration": 24,
    "start_time": "2025-01-17T10:55:30.970Z"
   },
   {
    "duration": 42,
    "start_time": "2025-01-17T10:55:30.995Z"
   },
   {
    "duration": 29,
    "start_time": "2025-01-17T10:55:31.038Z"
   },
   {
    "duration": 21,
    "start_time": "2025-01-17T10:55:31.069Z"
   },
   {
    "duration": 20,
    "start_time": "2025-01-17T10:55:31.092Z"
   },
   {
    "duration": 8,
    "start_time": "2025-01-17T10:55:31.113Z"
   },
   {
    "duration": 47,
    "start_time": "2025-01-17T10:55:31.123Z"
   },
   {
    "duration": 8,
    "start_time": "2025-01-17T10:55:31.173Z"
   },
   {
    "duration": 18,
    "start_time": "2025-01-17T10:55:31.182Z"
   },
   {
    "duration": 24,
    "start_time": "2025-01-17T10:55:31.202Z"
   },
   {
    "duration": 14,
    "start_time": "2025-01-17T10:55:31.227Z"
   },
   {
    "duration": 6,
    "start_time": "2025-01-17T10:55:31.243Z"
   },
   {
    "duration": 11,
    "start_time": "2025-01-17T10:55:31.251Z"
   },
   {
    "duration": 506,
    "start_time": "2025-01-17T10:55:31.264Z"
   },
   {
    "duration": 19,
    "start_time": "2025-01-17T10:55:31.772Z"
   },
   {
    "duration": 31,
    "start_time": "2025-01-17T10:55:31.792Z"
   },
   {
    "duration": 15,
    "start_time": "2025-01-17T10:55:31.825Z"
   },
   {
    "duration": 37,
    "start_time": "2025-01-17T10:55:31.842Z"
   },
   {
    "duration": 77,
    "start_time": "2025-01-17T10:55:31.880Z"
   },
   {
    "duration": 42,
    "start_time": "2025-01-17T10:55:31.958Z"
   },
   {
    "duration": 172,
    "start_time": "2025-01-17T10:55:32.002Z"
   },
   {
    "duration": 17,
    "start_time": "2025-01-17T10:55:32.175Z"
   },
   {
    "duration": 684,
    "start_time": "2025-01-17T10:55:32.193Z"
   },
   {
    "duration": 7,
    "start_time": "2025-01-17T10:55:32.878Z"
   },
   {
    "duration": 113,
    "start_time": "2025-01-17T10:55:32.886Z"
   },
   {
    "duration": 150,
    "start_time": "2025-01-17T10:55:33.001Z"
   },
   {
    "duration": 5,
    "start_time": "2025-01-17T10:55:33.153Z"
   },
   {
    "duration": 23,
    "start_time": "2025-01-17T10:55:33.159Z"
   },
   {
    "duration": 7,
    "start_time": "2025-01-17T10:55:33.183Z"
   },
   {
    "duration": 10,
    "start_time": "2025-01-17T10:55:33.191Z"
   },
   {
    "duration": 89,
    "start_time": "2025-01-17T10:55:33.202Z"
   },
   {
    "duration": 29,
    "start_time": "2025-01-17T10:55:33.293Z"
   },
   {
    "duration": 11,
    "start_time": "2025-01-17T10:55:33.324Z"
   },
   {
    "duration": 45,
    "start_time": "2025-01-17T10:55:33.337Z"
   },
   {
    "duration": 11,
    "start_time": "2025-01-17T10:55:33.386Z"
   },
   {
    "duration": 37,
    "start_time": "2025-01-17T10:55:33.399Z"
   },
   {
    "duration": 318,
    "start_time": "2025-01-17T10:55:33.437Z"
   },
   {
    "duration": 198,
    "start_time": "2025-01-17T10:55:33.757Z"
   },
   {
    "duration": 12,
    "start_time": "2025-01-17T10:55:33.956Z"
   },
   {
    "duration": 111,
    "start_time": "2025-01-17T10:55:33.970Z"
   },
   {
    "duration": 70,
    "start_time": "2025-01-17T10:55:34.083Z"
   },
   {
    "duration": 197,
    "start_time": "2025-01-17T10:55:34.154Z"
   },
   {
    "duration": 16,
    "start_time": "2025-01-17T10:55:34.353Z"
   },
   {
    "duration": 190,
    "start_time": "2025-01-17T10:55:34.371Z"
   },
   {
    "duration": 12,
    "start_time": "2025-01-17T10:55:34.563Z"
   },
   {
    "duration": 109,
    "start_time": "2025-01-17T10:55:34.576Z"
   },
   {
    "duration": 74,
    "start_time": "2025-01-17T10:55:34.686Z"
   },
   {
    "duration": 128,
    "start_time": "2025-01-17T10:55:34.761Z"
   },
   {
    "duration": 152,
    "start_time": "2025-01-17T10:55:34.891Z"
   },
   {
    "duration": 8,
    "start_time": "2025-01-17T10:55:35.045Z"
   },
   {
    "duration": 14,
    "start_time": "2025-01-17T10:55:35.055Z"
   },
   {
    "duration": 27,
    "start_time": "2025-01-17T10:55:35.070Z"
   },
   {
    "duration": 32,
    "start_time": "2025-01-17T10:55:35.099Z"
   },
   {
    "duration": 18,
    "start_time": "2025-01-17T10:55:35.133Z"
   },
   {
    "duration": 179,
    "start_time": "2025-01-17T10:55:35.153Z"
   },
   {
    "duration": 35,
    "start_time": "2025-01-17T10:55:35.334Z"
   },
   {
    "duration": 85,
    "start_time": "2025-01-17T10:55:35.371Z"
   },
   {
    "duration": 93,
    "start_time": "2025-01-17T10:55:35.457Z"
   },
   {
    "duration": 17,
    "start_time": "2025-01-17T10:55:35.553Z"
   },
   {
    "duration": 100,
    "start_time": "2025-01-17T10:55:35.571Z"
   },
   {
    "duration": 29,
    "start_time": "2025-01-17T10:55:35.673Z"
   },
   {
    "duration": 91,
    "start_time": "2025-01-17T10:55:35.704Z"
   },
   {
    "duration": 434,
    "start_time": "2025-01-17T10:55:35.797Z"
   },
   {
    "duration": 297,
    "start_time": "2025-01-17T10:55:36.233Z"
   },
   {
    "duration": 297,
    "start_time": "2025-01-17T10:55:36.531Z"
   },
   {
    "duration": 34,
    "start_time": "2025-01-17T10:55:36.830Z"
   },
   {
    "duration": 197,
    "start_time": "2025-01-17T10:57:08.927Z"
   },
   {
    "duration": 214,
    "start_time": "2025-01-17T10:57:34.670Z"
   },
   {
    "duration": 16,
    "start_time": "2025-01-17T10:57:56.664Z"
   },
   {
    "duration": 153,
    "start_time": "2025-01-17T10:57:57.371Z"
   },
   {
    "duration": 3863,
    "start_time": "2025-01-17T10:58:02.822Z"
   },
   {
    "duration": 5058,
    "start_time": "2025-01-17T10:58:06.687Z"
   },
   {
    "duration": 13,
    "start_time": "2025-01-17T10:58:11.746Z"
   },
   {
    "duration": 36,
    "start_time": "2025-01-17T10:58:11.760Z"
   },
   {
    "duration": 96,
    "start_time": "2025-01-17T10:58:11.798Z"
   },
   {
    "duration": 28,
    "start_time": "2025-01-17T10:58:11.896Z"
   },
   {
    "duration": 6,
    "start_time": "2025-01-17T10:58:11.925Z"
   },
   {
    "duration": 29,
    "start_time": "2025-01-17T10:58:11.933Z"
   },
   {
    "duration": 23,
    "start_time": "2025-01-17T10:58:11.964Z"
   },
   {
    "duration": 7,
    "start_time": "2025-01-17T10:58:11.988Z"
   },
   {
    "duration": 40,
    "start_time": "2025-01-17T10:58:11.996Z"
   },
   {
    "duration": 6,
    "start_time": "2025-01-17T10:58:12.038Z"
   },
   {
    "duration": 45,
    "start_time": "2025-01-17T10:58:12.045Z"
   },
   {
    "duration": 8,
    "start_time": "2025-01-17T10:58:12.093Z"
   },
   {
    "duration": 26,
    "start_time": "2025-01-17T10:58:12.102Z"
   },
   {
    "duration": 9,
    "start_time": "2025-01-17T10:58:12.130Z"
   },
   {
    "duration": 32,
    "start_time": "2025-01-17T10:58:12.141Z"
   },
   {
    "duration": 6,
    "start_time": "2025-01-17T10:58:12.175Z"
   },
   {
    "duration": 11,
    "start_time": "2025-01-17T10:58:12.182Z"
   },
   {
    "duration": 526,
    "start_time": "2025-01-17T10:58:12.195Z"
   },
   {
    "duration": 18,
    "start_time": "2025-01-17T10:58:12.723Z"
   },
   {
    "duration": 27,
    "start_time": "2025-01-17T10:58:12.743Z"
   },
   {
    "duration": 17,
    "start_time": "2025-01-17T10:58:12.771Z"
   },
   {
    "duration": 16,
    "start_time": "2025-01-17T10:58:12.789Z"
   },
   {
    "duration": 80,
    "start_time": "2025-01-17T10:58:12.807Z"
   },
   {
    "duration": 47,
    "start_time": "2025-01-17T10:58:12.888Z"
   },
   {
    "duration": 223,
    "start_time": "2025-01-17T10:58:12.936Z"
   },
   {
    "duration": 17,
    "start_time": "2025-01-17T10:58:13.161Z"
   },
   {
    "duration": 635,
    "start_time": "2025-01-17T10:58:13.179Z"
   },
   {
    "duration": 10,
    "start_time": "2025-01-17T10:58:13.816Z"
   },
   {
    "duration": 14,
    "start_time": "2025-01-17T10:58:13.828Z"
   },
   {
    "duration": 159,
    "start_time": "2025-01-17T10:58:13.844Z"
   },
   {
    "duration": 5,
    "start_time": "2025-01-17T10:58:14.005Z"
   },
   {
    "duration": 17,
    "start_time": "2025-01-17T10:58:14.021Z"
   },
   {
    "duration": 7,
    "start_time": "2025-01-17T10:58:14.039Z"
   },
   {
    "duration": 18,
    "start_time": "2025-01-17T10:58:14.048Z"
   },
   {
    "duration": 81,
    "start_time": "2025-01-17T10:58:14.068Z"
   },
   {
    "duration": 20,
    "start_time": "2025-01-17T10:58:14.151Z"
   },
   {
    "duration": 14,
    "start_time": "2025-01-17T10:58:14.172Z"
   },
   {
    "duration": 45,
    "start_time": "2025-01-17T10:58:14.187Z"
   },
   {
    "duration": 10,
    "start_time": "2025-01-17T10:58:14.236Z"
   },
   {
    "duration": 19,
    "start_time": "2025-01-17T10:58:14.247Z"
   },
   {
    "duration": 316,
    "start_time": "2025-01-17T10:58:14.268Z"
   },
   {
    "duration": 192,
    "start_time": "2025-01-17T10:58:14.585Z"
   },
   {
    "duration": 12,
    "start_time": "2025-01-17T10:58:14.778Z"
   },
   {
    "duration": 84,
    "start_time": "2025-01-17T10:58:14.792Z"
   },
   {
    "duration": 74,
    "start_time": "2025-01-17T10:58:14.878Z"
   },
   {
    "duration": 187,
    "start_time": "2025-01-17T10:58:14.953Z"
   },
   {
    "duration": 15,
    "start_time": "2025-01-17T10:58:15.141Z"
   },
   {
    "duration": 168,
    "start_time": "2025-01-17T10:58:15.158Z"
   },
   {
    "duration": 10,
    "start_time": "2025-01-17T10:58:15.328Z"
   },
   {
    "duration": 46,
    "start_time": "2025-01-17T10:58:15.340Z"
   },
   {
    "duration": 90,
    "start_time": "2025-01-17T10:58:15.388Z"
   },
   {
    "duration": 220,
    "start_time": "2025-01-17T10:58:15.479Z"
   },
   {
    "duration": 138,
    "start_time": "2025-01-17T10:58:15.700Z"
   },
   {
    "duration": 155,
    "start_time": "2025-01-17T10:58:15.840Z"
   },
   {
    "duration": 9,
    "start_time": "2025-01-17T10:58:15.997Z"
   },
   {
    "duration": 17,
    "start_time": "2025-01-17T10:58:16.007Z"
   },
   {
    "duration": 14,
    "start_time": "2025-01-17T10:58:16.026Z"
   },
   {
    "duration": 27,
    "start_time": "2025-01-17T10:58:16.042Z"
   },
   {
    "duration": 23,
    "start_time": "2025-01-17T10:58:16.071Z"
   },
   {
    "duration": 169,
    "start_time": "2025-01-17T10:58:16.096Z"
   },
   {
    "duration": 35,
    "start_time": "2025-01-17T10:58:16.267Z"
   },
   {
    "duration": 75,
    "start_time": "2025-01-17T10:58:16.304Z"
   },
   {
    "duration": 94,
    "start_time": "2025-01-17T10:58:16.381Z"
   },
   {
    "duration": 17,
    "start_time": "2025-01-17T10:58:16.478Z"
   },
   {
    "duration": 99,
    "start_time": "2025-01-17T10:58:16.497Z"
   },
   {
    "duration": 40,
    "start_time": "2025-01-17T10:58:16.598Z"
   },
   {
    "duration": 162,
    "start_time": "2025-01-17T10:58:16.639Z"
   },
   {
    "duration": 419,
    "start_time": "2025-01-17T10:58:16.802Z"
   },
   {
    "duration": 293,
    "start_time": "2025-01-17T10:58:17.223Z"
   },
   {
    "duration": 310,
    "start_time": "2025-01-17T10:58:17.521Z"
   },
   {
    "duration": 36,
    "start_time": "2025-01-17T10:58:17.832Z"
   },
   {
    "duration": 82,
    "start_time": "2025-01-17T10:59:56.295Z"
   },
   {
    "duration": 3698,
    "start_time": "2025-01-17T11:00:52.620Z"
   },
   {
    "duration": 3135,
    "start_time": "2025-01-17T11:00:56.320Z"
   },
   {
    "duration": 13,
    "start_time": "2025-01-17T11:00:59.457Z"
   },
   {
    "duration": 19,
    "start_time": "2025-01-17T11:00:59.471Z"
   },
   {
    "duration": 104,
    "start_time": "2025-01-17T11:00:59.491Z"
   },
   {
    "duration": 28,
    "start_time": "2025-01-17T11:00:59.597Z"
   },
   {
    "duration": 4,
    "start_time": "2025-01-17T11:00:59.626Z"
   },
   {
    "duration": 23,
    "start_time": "2025-01-17T11:00:59.632Z"
   },
   {
    "duration": 24,
    "start_time": "2025-01-17T11:00:59.656Z"
   },
   {
    "duration": 7,
    "start_time": "2025-01-17T11:00:59.683Z"
   },
   {
    "duration": 46,
    "start_time": "2025-01-17T11:00:59.692Z"
   },
   {
    "duration": 7,
    "start_time": "2025-01-17T11:00:59.739Z"
   },
   {
    "duration": 58,
    "start_time": "2025-01-17T11:00:59.747Z"
   },
   {
    "duration": 9,
    "start_time": "2025-01-17T11:00:59.806Z"
   },
   {
    "duration": 21,
    "start_time": "2025-01-17T11:00:59.816Z"
   },
   {
    "duration": 9,
    "start_time": "2025-01-17T11:00:59.838Z"
   },
   {
    "duration": 30,
    "start_time": "2025-01-17T11:00:59.848Z"
   },
   {
    "duration": 9,
    "start_time": "2025-01-17T11:00:59.880Z"
   },
   {
    "duration": 58,
    "start_time": "2025-01-17T11:00:59.891Z"
   },
   {
    "duration": 577,
    "start_time": "2025-01-17T11:00:59.950Z"
   },
   {
    "duration": 21,
    "start_time": "2025-01-17T11:01:00.529Z"
   },
   {
    "duration": 60,
    "start_time": "2025-01-17T11:01:00.552Z"
   },
   {
    "duration": 72,
    "start_time": "2025-01-17T11:01:00.614Z"
   },
   {
    "duration": 67,
    "start_time": "2025-01-17T11:01:00.688Z"
   },
   {
    "duration": 110,
    "start_time": "2025-01-17T11:01:00.757Z"
   },
   {
    "duration": 60,
    "start_time": "2025-01-17T11:01:00.869Z"
   },
   {
    "duration": 239,
    "start_time": "2025-01-17T11:01:00.930Z"
   },
   {
    "duration": 17,
    "start_time": "2025-01-17T11:01:01.173Z"
   },
   {
    "duration": 654,
    "start_time": "2025-01-17T11:01:01.192Z"
   },
   {
    "duration": 7,
    "start_time": "2025-01-17T11:01:01.847Z"
   },
   {
    "duration": 45,
    "start_time": "2025-01-17T11:01:01.856Z"
   },
   {
    "duration": 165,
    "start_time": "2025-01-17T11:01:01.903Z"
   },
   {
    "duration": 5,
    "start_time": "2025-01-17T11:01:02.069Z"
   },
   {
    "duration": 49,
    "start_time": "2025-01-17T11:01:02.076Z"
   },
   {
    "duration": 50,
    "start_time": "2025-01-17T11:01:02.126Z"
   },
   {
    "duration": 29,
    "start_time": "2025-01-17T11:01:02.178Z"
   },
   {
    "duration": 99,
    "start_time": "2025-01-17T11:01:02.209Z"
   },
   {
    "duration": 21,
    "start_time": "2025-01-17T11:01:02.310Z"
   },
   {
    "duration": 45,
    "start_time": "2025-01-17T11:01:02.332Z"
   },
   {
    "duration": 81,
    "start_time": "2025-01-17T11:01:02.378Z"
   },
   {
    "duration": 91,
    "start_time": "2025-01-17T11:01:02.461Z"
   },
   {
    "duration": 28,
    "start_time": "2025-01-17T11:01:02.554Z"
   },
   {
    "duration": 438,
    "start_time": "2025-01-17T11:01:02.583Z"
   },
   {
    "duration": 198,
    "start_time": "2025-01-17T11:01:03.023Z"
   },
   {
    "duration": 12,
    "start_time": "2025-01-17T11:01:03.223Z"
   },
   {
    "duration": 98,
    "start_time": "2025-01-17T11:01:03.236Z"
   },
   {
    "duration": 66,
    "start_time": "2025-01-17T11:01:03.335Z"
   },
   {
    "duration": 203,
    "start_time": "2025-01-17T11:01:03.402Z"
   },
   {
    "duration": 21,
    "start_time": "2025-01-17T11:01:03.606Z"
   },
   {
    "duration": 128,
    "start_time": "2025-01-17T11:01:03.629Z"
   },
   {
    "duration": 11,
    "start_time": "2025-01-17T11:01:03.758Z"
   },
   {
    "duration": 32,
    "start_time": "2025-01-17T11:01:03.770Z"
   },
   {
    "duration": 103,
    "start_time": "2025-01-17T11:01:03.803Z"
   },
   {
    "duration": 213,
    "start_time": "2025-01-17T11:01:03.908Z"
   },
   {
    "duration": 129,
    "start_time": "2025-01-17T11:01:04.123Z"
   },
   {
    "duration": 156,
    "start_time": "2025-01-17T11:01:04.254Z"
   },
   {
    "duration": 13,
    "start_time": "2025-01-17T11:01:04.412Z"
   },
   {
    "duration": 93,
    "start_time": "2025-01-17T11:01:04.427Z"
   },
   {
    "duration": 37,
    "start_time": "2025-01-17T11:01:04.522Z"
   },
   {
    "duration": 49,
    "start_time": "2025-01-17T11:01:04.561Z"
   },
   {
    "duration": 129,
    "start_time": "2025-01-17T11:01:04.611Z"
   },
   {
    "duration": 181,
    "start_time": "2025-01-17T11:01:04.742Z"
   },
   {
    "duration": 33,
    "start_time": "2025-01-17T11:01:04.925Z"
   },
   {
    "duration": 113,
    "start_time": "2025-01-17T11:01:04.959Z"
   },
   {
    "duration": 83,
    "start_time": "2025-01-17T11:01:05.074Z"
   },
   {
    "duration": 17,
    "start_time": "2025-01-17T11:01:05.158Z"
   },
   {
    "duration": 102,
    "start_time": "2025-01-17T11:01:05.176Z"
   },
   {
    "duration": 28,
    "start_time": "2025-01-17T11:01:05.280Z"
   },
   {
    "duration": 90,
    "start_time": "2025-01-17T11:01:05.310Z"
   },
   {
    "duration": 433,
    "start_time": "2025-01-17T11:01:05.402Z"
   },
   {
    "duration": 287,
    "start_time": "2025-01-17T11:01:05.837Z"
   },
   {
    "duration": 311,
    "start_time": "2025-01-17T11:01:06.126Z"
   },
   {
    "duration": 35,
    "start_time": "2025-01-17T11:01:06.438Z"
   },
   {
    "duration": 10,
    "start_time": "2025-01-17T11:02:38.070Z"
   },
   {
    "duration": 121,
    "start_time": "2025-01-17T11:07:13.206Z"
   },
   {
    "duration": 5,
    "start_time": "2025-01-17T11:07:29.794Z"
   },
   {
    "duration": 23,
    "start_time": "2025-01-17T11:07:57.853Z"
   },
   {
    "duration": 10,
    "start_time": "2025-01-17T11:08:20.679Z"
   },
   {
    "duration": 90,
    "start_time": "2025-01-17T11:10:46.408Z"
   },
   {
    "duration": 87,
    "start_time": "2025-01-17T11:11:25.599Z"
   },
   {
    "duration": 88,
    "start_time": "2025-01-17T11:13:02.727Z"
   },
   {
    "duration": 87,
    "start_time": "2025-01-17T11:13:41.047Z"
   },
   {
    "duration": 81,
    "start_time": "2025-01-17T11:20:30.983Z"
   },
   {
    "duration": 104,
    "start_time": "2025-01-17T11:26:47.142Z"
   },
   {
    "duration": 80,
    "start_time": "2025-01-17T11:26:52.944Z"
   },
   {
    "duration": 32,
    "start_time": "2025-01-17T11:28:38.047Z"
   },
   {
    "duration": 3714,
    "start_time": "2025-01-17T11:30:09.191Z"
   },
   {
    "duration": 2055,
    "start_time": "2025-01-17T11:30:12.907Z"
   },
   {
    "duration": 13,
    "start_time": "2025-01-17T11:30:14.964Z"
   },
   {
    "duration": 14,
    "start_time": "2025-01-17T11:30:14.978Z"
   },
   {
    "duration": 230,
    "start_time": "2025-01-17T11:30:14.994Z"
   },
   {
    "duration": 24,
    "start_time": "2025-01-17T11:30:15.226Z"
   },
   {
    "duration": 53,
    "start_time": "2025-01-17T11:30:15.251Z"
   },
   {
    "duration": 61,
    "start_time": "2025-01-17T11:30:15.305Z"
   },
   {
    "duration": 35,
    "start_time": "2025-01-17T11:30:15.368Z"
   },
   {
    "duration": 19,
    "start_time": "2025-01-17T11:30:15.404Z"
   },
   {
    "duration": 31,
    "start_time": "2025-01-17T11:30:15.424Z"
   },
   {
    "duration": 28,
    "start_time": "2025-01-17T11:30:15.457Z"
   },
   {
    "duration": 44,
    "start_time": "2025-01-17T11:30:15.487Z"
   },
   {
    "duration": 9,
    "start_time": "2025-01-17T11:30:15.535Z"
   },
   {
    "duration": 26,
    "start_time": "2025-01-17T11:30:15.545Z"
   },
   {
    "duration": 11,
    "start_time": "2025-01-17T11:30:15.572Z"
   },
   {
    "duration": 34,
    "start_time": "2025-01-17T11:30:15.585Z"
   },
   {
    "duration": 7,
    "start_time": "2025-01-17T11:30:15.621Z"
   },
   {
    "duration": 10,
    "start_time": "2025-01-17T11:30:15.630Z"
   },
   {
    "duration": 520,
    "start_time": "2025-01-17T11:30:15.642Z"
   },
   {
    "duration": 20,
    "start_time": "2025-01-17T11:30:16.163Z"
   },
   {
    "duration": 24,
    "start_time": "2025-01-17T11:30:16.184Z"
   },
   {
    "duration": 29,
    "start_time": "2025-01-17T11:30:16.209Z"
   },
   {
    "duration": 27,
    "start_time": "2025-01-17T11:30:16.239Z"
   },
   {
    "duration": 79,
    "start_time": "2025-01-17T11:30:16.268Z"
   },
   {
    "duration": 41,
    "start_time": "2025-01-17T11:30:16.348Z"
   },
   {
    "duration": 166,
    "start_time": "2025-01-17T11:30:16.390Z"
   },
   {
    "duration": 17,
    "start_time": "2025-01-17T11:30:16.558Z"
   },
   {
    "duration": 695,
    "start_time": "2025-01-17T11:30:16.577Z"
   },
   {
    "duration": 7,
    "start_time": "2025-01-17T11:30:17.273Z"
   },
   {
    "duration": 20,
    "start_time": "2025-01-17T11:30:17.281Z"
   },
   {
    "duration": 142,
    "start_time": "2025-01-17T11:30:17.303Z"
   },
   {
    "duration": 5,
    "start_time": "2025-01-17T11:30:17.447Z"
   },
   {
    "duration": 52,
    "start_time": "2025-01-17T11:30:17.453Z"
   },
   {
    "duration": 15,
    "start_time": "2025-01-17T11:30:17.507Z"
   },
   {
    "duration": 25,
    "start_time": "2025-01-17T11:30:17.524Z"
   },
   {
    "duration": 83,
    "start_time": "2025-01-17T11:30:17.550Z"
   },
   {
    "duration": 19,
    "start_time": "2025-01-17T11:30:17.635Z"
   },
   {
    "duration": 20,
    "start_time": "2025-01-17T11:30:17.656Z"
   },
   {
    "duration": 32,
    "start_time": "2025-01-17T11:30:17.678Z"
   },
   {
    "duration": 10,
    "start_time": "2025-01-17T11:30:17.723Z"
   },
   {
    "duration": 34,
    "start_time": "2025-01-17T11:30:17.734Z"
   },
   {
    "duration": 306,
    "start_time": "2025-01-17T11:30:17.770Z"
   },
   {
    "duration": 203,
    "start_time": "2025-01-17T11:30:18.078Z"
   },
   {
    "duration": 20,
    "start_time": "2025-01-17T11:30:18.283Z"
   },
   {
    "duration": 77,
    "start_time": "2025-01-17T11:30:18.306Z"
   },
   {
    "duration": 75,
    "start_time": "2025-01-17T11:30:18.385Z"
   },
   {
    "duration": 189,
    "start_time": "2025-01-17T11:30:18.462Z"
   },
   {
    "duration": 14,
    "start_time": "2025-01-17T11:30:18.653Z"
   },
   {
    "duration": 145,
    "start_time": "2025-01-17T11:30:18.669Z"
   },
   {
    "duration": 11,
    "start_time": "2025-01-17T11:30:18.816Z"
   },
   {
    "duration": 17,
    "start_time": "2025-01-17T11:30:18.828Z"
   },
   {
    "duration": 89,
    "start_time": "2025-01-17T11:30:18.846Z"
   },
   {
    "duration": 217,
    "start_time": "2025-01-17T11:30:18.937Z"
   },
   {
    "duration": 134,
    "start_time": "2025-01-17T11:30:19.156Z"
   },
   {
    "duration": 148,
    "start_time": "2025-01-17T11:30:19.291Z"
   },
   {
    "duration": 8,
    "start_time": "2025-01-17T11:30:19.441Z"
   },
   {
    "duration": 19,
    "start_time": "2025-01-17T11:30:19.451Z"
   },
   {
    "duration": 15,
    "start_time": "2025-01-17T11:30:19.471Z"
   },
   {
    "duration": 39,
    "start_time": "2025-01-17T11:30:19.487Z"
   },
   {
    "duration": 6,
    "start_time": "2025-01-17T11:30:19.528Z"
   },
   {
    "duration": 18,
    "start_time": "2025-01-17T11:30:19.536Z"
   },
   {
    "duration": 107,
    "start_time": "2025-01-17T11:30:19.556Z"
   },
   {
    "duration": 91,
    "start_time": "2025-01-17T11:30:19.665Z"
   },
   {
    "duration": 29,
    "start_time": "2025-01-17T11:30:19.758Z"
   },
   {
    "duration": 75,
    "start_time": "2025-01-17T11:30:19.789Z"
   },
   {
    "duration": 83,
    "start_time": "2025-01-17T11:30:19.866Z"
   },
   {
    "duration": 14,
    "start_time": "2025-01-17T11:30:19.952Z"
   },
   {
    "duration": 85,
    "start_time": "2025-01-17T11:30:19.968Z"
   },
   {
    "duration": 28,
    "start_time": "2025-01-17T11:30:20.055Z"
   },
   {
    "duration": 87,
    "start_time": "2025-01-17T11:30:20.085Z"
   },
   {
    "duration": 2038,
    "start_time": "2025-01-17T11:30:20.173Z"
   },
   {
    "duration": 0,
    "start_time": "2025-01-17T11:30:22.212Z"
   },
   {
    "duration": 0,
    "start_time": "2025-01-17T11:30:22.214Z"
   },
   {
    "duration": 0,
    "start_time": "2025-01-17T11:30:22.215Z"
   },
   {
    "duration": 226,
    "start_time": "2025-01-17T11:31:17.361Z"
   },
   {
    "duration": 229,
    "start_time": "2025-01-17T11:31:21.876Z"
   },
   {
    "duration": 18,
    "start_time": "2025-01-17T11:31:22.393Z"
   },
   {
    "duration": 11,
    "start_time": "2025-01-17T11:32:25.675Z"
   },
   {
    "duration": 906,
    "start_time": "2025-01-17T11:34:29.559Z"
   },
   {
    "duration": 578,
    "start_time": "2025-01-17T11:36:30.851Z"
   },
   {
    "duration": 3642,
    "start_time": "2025-01-17T11:37:00.899Z"
   },
   {
    "duration": 1859,
    "start_time": "2025-01-17T11:37:04.543Z"
   },
   {
    "duration": 13,
    "start_time": "2025-01-17T11:37:06.404Z"
   },
   {
    "duration": 12,
    "start_time": "2025-01-17T11:37:06.419Z"
   },
   {
    "duration": 119,
    "start_time": "2025-01-17T11:37:06.434Z"
   },
   {
    "duration": 25,
    "start_time": "2025-01-17T11:37:06.555Z"
   },
   {
    "duration": 41,
    "start_time": "2025-01-17T11:37:06.582Z"
   },
   {
    "duration": 46,
    "start_time": "2025-01-17T11:37:06.624Z"
   },
   {
    "duration": 37,
    "start_time": "2025-01-17T11:37:06.672Z"
   },
   {
    "duration": 26,
    "start_time": "2025-01-17T11:37:06.711Z"
   },
   {
    "duration": 29,
    "start_time": "2025-01-17T11:37:06.738Z"
   },
   {
    "duration": 7,
    "start_time": "2025-01-17T11:37:06.769Z"
   },
   {
    "duration": 53,
    "start_time": "2025-01-17T11:37:06.777Z"
   },
   {
    "duration": 9,
    "start_time": "2025-01-17T11:37:06.833Z"
   },
   {
    "duration": 26,
    "start_time": "2025-01-17T11:37:06.843Z"
   },
   {
    "duration": 38,
    "start_time": "2025-01-17T11:37:06.871Z"
   },
   {
    "duration": 43,
    "start_time": "2025-01-17T11:37:06.911Z"
   },
   {
    "duration": 35,
    "start_time": "2025-01-17T11:37:06.956Z"
   },
   {
    "duration": 50,
    "start_time": "2025-01-17T11:37:06.993Z"
   },
   {
    "duration": 555,
    "start_time": "2025-01-17T11:37:07.045Z"
   },
   {
    "duration": 28,
    "start_time": "2025-01-17T11:37:07.602Z"
   },
   {
    "duration": 36,
    "start_time": "2025-01-17T11:37:07.632Z"
   },
   {
    "duration": 21,
    "start_time": "2025-01-17T11:37:07.670Z"
   },
   {
    "duration": 18,
    "start_time": "2025-01-17T11:37:07.693Z"
   },
   {
    "duration": 69,
    "start_time": "2025-01-17T11:37:07.713Z"
   },
   {
    "duration": 54,
    "start_time": "2025-01-17T11:37:07.784Z"
   },
   {
    "duration": 181,
    "start_time": "2025-01-17T11:37:07.840Z"
   },
   {
    "duration": 21,
    "start_time": "2025-01-17T11:37:08.023Z"
   },
   {
    "duration": 559,
    "start_time": "2025-01-17T11:37:08.046Z"
   },
   {
    "duration": 0,
    "start_time": "2025-01-17T11:37:08.607Z"
   },
   {
    "duration": 0,
    "start_time": "2025-01-17T11:37:08.608Z"
   },
   {
    "duration": 0,
    "start_time": "2025-01-17T11:37:08.609Z"
   },
   {
    "duration": 0,
    "start_time": "2025-01-17T11:37:08.611Z"
   },
   {
    "duration": 0,
    "start_time": "2025-01-17T11:37:08.612Z"
   },
   {
    "duration": 0,
    "start_time": "2025-01-17T11:37:08.622Z"
   },
   {
    "duration": 0,
    "start_time": "2025-01-17T11:37:08.623Z"
   },
   {
    "duration": 0,
    "start_time": "2025-01-17T11:37:08.625Z"
   },
   {
    "duration": 0,
    "start_time": "2025-01-17T11:37:08.626Z"
   },
   {
    "duration": 0,
    "start_time": "2025-01-17T11:37:08.627Z"
   },
   {
    "duration": 0,
    "start_time": "2025-01-17T11:37:08.628Z"
   },
   {
    "duration": 0,
    "start_time": "2025-01-17T11:37:08.629Z"
   },
   {
    "duration": 0,
    "start_time": "2025-01-17T11:37:08.630Z"
   },
   {
    "duration": 0,
    "start_time": "2025-01-17T11:37:08.631Z"
   },
   {
    "duration": 0,
    "start_time": "2025-01-17T11:37:08.632Z"
   },
   {
    "duration": 0,
    "start_time": "2025-01-17T11:37:08.633Z"
   },
   {
    "duration": 0,
    "start_time": "2025-01-17T11:37:08.634Z"
   },
   {
    "duration": 0,
    "start_time": "2025-01-17T11:37:08.635Z"
   },
   {
    "duration": 0,
    "start_time": "2025-01-17T11:37:08.637Z"
   },
   {
    "duration": 0,
    "start_time": "2025-01-17T11:37:08.637Z"
   },
   {
    "duration": 0,
    "start_time": "2025-01-17T11:37:08.638Z"
   },
   {
    "duration": 0,
    "start_time": "2025-01-17T11:37:08.640Z"
   },
   {
    "duration": 0,
    "start_time": "2025-01-17T11:37:08.641Z"
   },
   {
    "duration": 0,
    "start_time": "2025-01-17T11:37:08.642Z"
   },
   {
    "duration": 0,
    "start_time": "2025-01-17T11:37:08.642Z"
   },
   {
    "duration": 0,
    "start_time": "2025-01-17T11:37:08.644Z"
   },
   {
    "duration": 0,
    "start_time": "2025-01-17T11:37:08.645Z"
   },
   {
    "duration": 0,
    "start_time": "2025-01-17T11:37:08.646Z"
   },
   {
    "duration": 0,
    "start_time": "2025-01-17T11:37:08.646Z"
   },
   {
    "duration": 0,
    "start_time": "2025-01-17T11:37:08.647Z"
   },
   {
    "duration": 0,
    "start_time": "2025-01-17T11:37:08.648Z"
   },
   {
    "duration": 0,
    "start_time": "2025-01-17T11:37:08.649Z"
   },
   {
    "duration": 0,
    "start_time": "2025-01-17T11:37:08.650Z"
   },
   {
    "duration": 0,
    "start_time": "2025-01-17T11:37:08.651Z"
   },
   {
    "duration": 0,
    "start_time": "2025-01-17T11:37:08.652Z"
   },
   {
    "duration": 0,
    "start_time": "2025-01-17T11:37:08.653Z"
   },
   {
    "duration": 0,
    "start_time": "2025-01-17T11:37:08.654Z"
   },
   {
    "duration": 0,
    "start_time": "2025-01-17T11:37:08.654Z"
   },
   {
    "duration": 0,
    "start_time": "2025-01-17T11:37:08.655Z"
   },
   {
    "duration": 0,
    "start_time": "2025-01-17T11:37:08.656Z"
   },
   {
    "duration": 0,
    "start_time": "2025-01-17T11:37:08.657Z"
   },
   {
    "duration": 0,
    "start_time": "2025-01-17T11:37:08.722Z"
   },
   {
    "duration": 0,
    "start_time": "2025-01-17T11:37:08.723Z"
   },
   {
    "duration": 0,
    "start_time": "2025-01-17T11:37:08.725Z"
   },
   {
    "duration": 0,
    "start_time": "2025-01-17T11:37:08.726Z"
   },
   {
    "duration": 450,
    "start_time": "2025-01-17T11:37:35.956Z"
   },
   {
    "duration": 594,
    "start_time": "2025-01-17T11:37:43.950Z"
   },
   {
    "duration": 559,
    "start_time": "2025-01-17T11:37:57.389Z"
   },
   {
    "duration": 607,
    "start_time": "2025-01-17T11:38:09.828Z"
   },
   {
    "duration": 3646,
    "start_time": "2025-01-17T11:38:30.849Z"
   },
   {
    "duration": 2153,
    "start_time": "2025-01-17T11:38:34.497Z"
   },
   {
    "duration": 12,
    "start_time": "2025-01-17T11:38:36.652Z"
   },
   {
    "duration": 41,
    "start_time": "2025-01-17T11:38:36.666Z"
   },
   {
    "duration": 102,
    "start_time": "2025-01-17T11:38:36.709Z"
   },
   {
    "duration": 31,
    "start_time": "2025-01-17T11:38:36.812Z"
   },
   {
    "duration": 21,
    "start_time": "2025-01-17T11:38:36.845Z"
   },
   {
    "duration": 63,
    "start_time": "2025-01-17T11:38:36.868Z"
   },
   {
    "duration": 45,
    "start_time": "2025-01-17T11:38:36.933Z"
   },
   {
    "duration": 35,
    "start_time": "2025-01-17T11:38:36.980Z"
   },
   {
    "duration": 95,
    "start_time": "2025-01-17T11:38:37.016Z"
   },
   {
    "duration": 39,
    "start_time": "2025-01-17T11:38:37.113Z"
   },
   {
    "duration": 43,
    "start_time": "2025-01-17T11:38:37.154Z"
   },
   {
    "duration": 9,
    "start_time": "2025-01-17T11:38:37.200Z"
   },
   {
    "duration": 56,
    "start_time": "2025-01-17T11:38:37.210Z"
   },
   {
    "duration": 60,
    "start_time": "2025-01-17T11:38:37.267Z"
   },
   {
    "duration": 27,
    "start_time": "2025-01-17T11:38:37.329Z"
   },
   {
    "duration": 16,
    "start_time": "2025-01-17T11:38:37.357Z"
   },
   {
    "duration": 45,
    "start_time": "2025-01-17T11:38:37.374Z"
   },
   {
    "duration": 504,
    "start_time": "2025-01-17T11:38:37.420Z"
   },
   {
    "duration": 20,
    "start_time": "2025-01-17T11:38:37.926Z"
   },
   {
    "duration": 17,
    "start_time": "2025-01-17T11:38:37.947Z"
   },
   {
    "duration": 33,
    "start_time": "2025-01-17T11:38:37.965Z"
   },
   {
    "duration": 35,
    "start_time": "2025-01-17T11:38:38.000Z"
   },
   {
    "duration": 75,
    "start_time": "2025-01-17T11:38:38.036Z"
   },
   {
    "duration": 48,
    "start_time": "2025-01-17T11:38:38.113Z"
   },
   {
    "duration": 199,
    "start_time": "2025-01-17T11:38:38.163Z"
   },
   {
    "duration": 18,
    "start_time": "2025-01-17T11:38:38.363Z"
   },
   {
    "duration": 678,
    "start_time": "2025-01-17T11:38:38.383Z"
   },
   {
    "duration": 7,
    "start_time": "2025-01-17T11:38:39.062Z"
   },
   {
    "duration": 16,
    "start_time": "2025-01-17T11:38:39.070Z"
   },
   {
    "duration": 147,
    "start_time": "2025-01-17T11:38:39.087Z"
   },
   {
    "duration": 5,
    "start_time": "2025-01-17T11:38:39.235Z"
   },
   {
    "duration": 17,
    "start_time": "2025-01-17T11:38:39.242Z"
   },
   {
    "duration": 5,
    "start_time": "2025-01-17T11:38:39.260Z"
   },
   {
    "duration": 11,
    "start_time": "2025-01-17T11:38:39.266Z"
   },
   {
    "duration": 94,
    "start_time": "2025-01-17T11:38:39.278Z"
   },
   {
    "duration": 19,
    "start_time": "2025-01-17T11:38:39.374Z"
   },
   {
    "duration": 11,
    "start_time": "2025-01-17T11:38:39.394Z"
   },
   {
    "duration": 44,
    "start_time": "2025-01-17T11:38:39.407Z"
   },
   {
    "duration": 10,
    "start_time": "2025-01-17T11:38:39.455Z"
   },
   {
    "duration": 21,
    "start_time": "2025-01-17T11:38:39.467Z"
   },
   {
    "duration": 309,
    "start_time": "2025-01-17T11:38:39.489Z"
   },
   {
    "duration": 191,
    "start_time": "2025-01-17T11:38:39.799Z"
   },
   {
    "duration": 12,
    "start_time": "2025-01-17T11:38:39.992Z"
   },
   {
    "duration": 83,
    "start_time": "2025-01-17T11:38:40.006Z"
   },
   {
    "duration": 82,
    "start_time": "2025-01-17T11:38:40.090Z"
   },
   {
    "duration": 191,
    "start_time": "2025-01-17T11:38:40.174Z"
   },
   {
    "duration": 15,
    "start_time": "2025-01-17T11:38:40.367Z"
   },
   {
    "duration": 126,
    "start_time": "2025-01-17T11:38:40.384Z"
   },
   {
    "duration": 15,
    "start_time": "2025-01-17T11:38:40.512Z"
   },
   {
    "duration": 15,
    "start_time": "2025-01-17T11:38:40.528Z"
   },
   {
    "duration": 85,
    "start_time": "2025-01-17T11:38:40.544Z"
   },
   {
    "duration": 217,
    "start_time": "2025-01-17T11:38:40.630Z"
   },
   {
    "duration": 133,
    "start_time": "2025-01-17T11:38:40.848Z"
   },
   {
    "duration": 154,
    "start_time": "2025-01-17T11:38:40.982Z"
   },
   {
    "duration": 8,
    "start_time": "2025-01-17T11:38:41.138Z"
   },
   {
    "duration": 45,
    "start_time": "2025-01-17T11:38:41.148Z"
   },
   {
    "duration": 34,
    "start_time": "2025-01-17T11:38:41.194Z"
   },
   {
    "duration": 31,
    "start_time": "2025-01-17T11:38:41.229Z"
   },
   {
    "duration": 22,
    "start_time": "2025-01-17T11:38:41.262Z"
   },
   {
    "duration": 33,
    "start_time": "2025-01-17T11:38:41.285Z"
   },
   {
    "duration": 94,
    "start_time": "2025-01-17T11:38:41.319Z"
   },
   {
    "duration": 79,
    "start_time": "2025-01-17T11:38:41.414Z"
   },
   {
    "duration": 35,
    "start_time": "2025-01-17T11:38:41.495Z"
   },
   {
    "duration": 66,
    "start_time": "2025-01-17T11:38:41.532Z"
   },
   {
    "duration": 74,
    "start_time": "2025-01-17T11:38:41.599Z"
   },
   {
    "duration": 14,
    "start_time": "2025-01-17T11:38:41.675Z"
   },
   {
    "duration": 83,
    "start_time": "2025-01-17T11:38:41.691Z"
   },
   {
    "duration": 28,
    "start_time": "2025-01-17T11:38:41.776Z"
   },
   {
    "duration": 84,
    "start_time": "2025-01-17T11:38:41.805Z"
   },
   {
    "duration": 235,
    "start_time": "2025-01-17T11:38:41.890Z"
   },
   {
    "duration": 269,
    "start_time": "2025-01-17T11:38:42.127Z"
   },
   {
    "duration": 30,
    "start_time": "2025-01-17T11:38:42.398Z"
   },
   {
    "duration": 93,
    "start_time": "2025-01-17T11:56:12.231Z"
   },
   {
    "duration": 33,
    "start_time": "2025-01-17T11:56:24.127Z"
   },
   {
    "duration": 15,
    "start_time": "2025-01-17T11:56:33.135Z"
   },
   {
    "duration": 442,
    "start_time": "2025-01-17T11:57:10.471Z"
   },
   {
    "duration": 31,
    "start_time": "2025-01-17T11:58:05.456Z"
   },
   {
    "duration": 15,
    "start_time": "2025-01-17T11:58:08.638Z"
   },
   {
    "duration": 33,
    "start_time": "2025-01-17T11:59:33.767Z"
   },
   {
    "duration": 16,
    "start_time": "2025-01-17T11:59:34.377Z"
   },
   {
    "duration": 3513,
    "start_time": "2025-01-17T11:59:43.460Z"
   },
   {
    "duration": 1887,
    "start_time": "2025-01-17T11:59:46.975Z"
   },
   {
    "duration": 13,
    "start_time": "2025-01-17T11:59:48.863Z"
   },
   {
    "duration": 17,
    "start_time": "2025-01-17T11:59:48.878Z"
   },
   {
    "duration": 97,
    "start_time": "2025-01-17T11:59:48.897Z"
   },
   {
    "duration": 28,
    "start_time": "2025-01-17T11:59:48.996Z"
   },
   {
    "duration": 11,
    "start_time": "2025-01-17T11:59:49.026Z"
   },
   {
    "duration": 23,
    "start_time": "2025-01-17T11:59:49.039Z"
   },
   {
    "duration": 27,
    "start_time": "2025-01-17T11:59:49.063Z"
   },
   {
    "duration": 7,
    "start_time": "2025-01-17T11:59:49.092Z"
   },
   {
    "duration": 36,
    "start_time": "2025-01-17T11:59:49.101Z"
   },
   {
    "duration": 7,
    "start_time": "2025-01-17T11:59:49.138Z"
   },
   {
    "duration": 39,
    "start_time": "2025-01-17T11:59:49.146Z"
   },
   {
    "duration": 8,
    "start_time": "2025-01-17T11:59:49.188Z"
   },
   {
    "duration": 31,
    "start_time": "2025-01-17T11:59:49.197Z"
   },
   {
    "duration": 9,
    "start_time": "2025-01-17T11:59:49.229Z"
   },
   {
    "duration": 16,
    "start_time": "2025-01-17T11:59:49.240Z"
   },
   {
    "duration": 6,
    "start_time": "2025-01-17T11:59:49.258Z"
   },
   {
    "duration": 8,
    "start_time": "2025-01-17T11:59:49.265Z"
   },
   {
    "duration": 504,
    "start_time": "2025-01-17T11:59:49.275Z"
   },
   {
    "duration": 20,
    "start_time": "2025-01-17T11:59:49.780Z"
   },
   {
    "duration": 28,
    "start_time": "2025-01-17T11:59:49.802Z"
   },
   {
    "duration": 17,
    "start_time": "2025-01-17T11:59:49.832Z"
   },
   {
    "duration": 13,
    "start_time": "2025-01-17T11:59:49.851Z"
   },
   {
    "duration": 85,
    "start_time": "2025-01-17T11:59:49.866Z"
   },
   {
    "duration": 43,
    "start_time": "2025-01-17T11:59:49.953Z"
   },
   {
    "duration": 198,
    "start_time": "2025-01-17T11:59:49.997Z"
   },
   {
    "duration": 17,
    "start_time": "2025-01-17T11:59:50.196Z"
   },
   {
    "duration": 644,
    "start_time": "2025-01-17T11:59:50.221Z"
   },
   {
    "duration": 7,
    "start_time": "2025-01-17T11:59:50.867Z"
   },
   {
    "duration": 22,
    "start_time": "2025-01-17T11:59:50.875Z"
   },
   {
    "duration": 172,
    "start_time": "2025-01-17T11:59:50.898Z"
   },
   {
    "duration": 5,
    "start_time": "2025-01-17T11:59:51.072Z"
   },
   {
    "duration": 20,
    "start_time": "2025-01-17T11:59:51.079Z"
   },
   {
    "duration": 26,
    "start_time": "2025-01-17T11:59:51.101Z"
   },
   {
    "duration": 11,
    "start_time": "2025-01-17T11:59:51.128Z"
   },
   {
    "duration": 69,
    "start_time": "2025-01-17T11:59:51.141Z"
   },
   {
    "duration": 28,
    "start_time": "2025-01-17T11:59:51.211Z"
   },
   {
    "duration": 11,
    "start_time": "2025-01-17T11:59:51.240Z"
   },
   {
    "duration": 39,
    "start_time": "2025-01-17T11:59:51.252Z"
   },
   {
    "duration": 10,
    "start_time": "2025-01-17T11:59:51.294Z"
   },
   {
    "duration": 18,
    "start_time": "2025-01-17T11:59:51.321Z"
   },
   {
    "duration": 312,
    "start_time": "2025-01-17T11:59:51.341Z"
   },
   {
    "duration": 199,
    "start_time": "2025-01-17T11:59:51.654Z"
   },
   {
    "duration": 11,
    "start_time": "2025-01-17T11:59:51.855Z"
   },
   {
    "duration": 79,
    "start_time": "2025-01-17T11:59:51.868Z"
   },
   {
    "duration": 78,
    "start_time": "2025-01-17T11:59:51.949Z"
   },
   {
    "duration": 190,
    "start_time": "2025-01-17T11:59:52.029Z"
   },
   {
    "duration": 15,
    "start_time": "2025-01-17T11:59:52.221Z"
   },
   {
    "duration": 119,
    "start_time": "2025-01-17T11:59:52.237Z"
   },
   {
    "duration": 11,
    "start_time": "2025-01-17T11:59:52.358Z"
   },
   {
    "duration": 45,
    "start_time": "2025-01-17T11:59:52.371Z"
   },
   {
    "duration": 87,
    "start_time": "2025-01-17T11:59:52.419Z"
   },
   {
    "duration": 209,
    "start_time": "2025-01-17T11:59:52.508Z"
   },
   {
    "duration": 133,
    "start_time": "2025-01-17T11:59:52.719Z"
   },
   {
    "duration": 153,
    "start_time": "2025-01-17T11:59:52.853Z"
   },
   {
    "duration": 8,
    "start_time": "2025-01-17T11:59:53.008Z"
   },
   {
    "duration": 15,
    "start_time": "2025-01-17T11:59:53.017Z"
   },
   {
    "duration": 18,
    "start_time": "2025-01-17T11:59:53.034Z"
   },
   {
    "duration": 34,
    "start_time": "2025-01-17T11:59:53.054Z"
   },
   {
    "duration": 13,
    "start_time": "2025-01-17T11:59:53.090Z"
   },
   {
    "duration": 12,
    "start_time": "2025-01-17T11:59:53.104Z"
   },
   {
    "duration": 99,
    "start_time": "2025-01-17T11:59:53.118Z"
   },
   {
    "duration": 78,
    "start_time": "2025-01-17T11:59:53.219Z"
   },
   {
    "duration": 37,
    "start_time": "2025-01-17T11:59:53.299Z"
   },
   {
    "duration": 55,
    "start_time": "2025-01-17T11:59:53.338Z"
   },
   {
    "duration": 83,
    "start_time": "2025-01-17T11:59:53.395Z"
   },
   {
    "duration": 14,
    "start_time": "2025-01-17T11:59:53.479Z"
   },
   {
    "duration": 85,
    "start_time": "2025-01-17T11:59:53.494Z"
   },
   {
    "duration": 26,
    "start_time": "2025-01-17T11:59:53.581Z"
   },
   {
    "duration": 82,
    "start_time": "2025-01-17T11:59:53.608Z"
   },
   {
    "duration": 242,
    "start_time": "2025-01-17T11:59:53.691Z"
   },
   {
    "duration": 256,
    "start_time": "2025-01-17T11:59:53.934Z"
   },
   {
    "duration": 17,
    "start_time": "2025-01-17T11:59:54.192Z"
   },
   {
    "duration": 30,
    "start_time": "2025-01-17T11:59:54.221Z"
   },
   {
    "duration": 14,
    "start_time": "2025-01-17T11:59:54.253Z"
   },
   {
    "duration": 101,
    "start_time": "2025-01-17T12:03:44.560Z"
   },
   {
    "duration": 32,
    "start_time": "2025-01-17T12:04:07.744Z"
   },
   {
    "duration": 15,
    "start_time": "2025-01-17T12:04:16.360Z"
   },
   {
    "duration": 12,
    "start_time": "2025-01-17T12:04:32.508Z"
   },
   {
    "duration": 30,
    "start_time": "2025-01-17T12:04:35.432Z"
   },
   {
    "duration": 15,
    "start_time": "2025-01-17T12:04:36.453Z"
   },
   {
    "duration": 22,
    "start_time": "2025-01-17T12:06:44.044Z"
   },
   {
    "duration": 16,
    "start_time": "2025-01-17T12:06:44.754Z"
   },
   {
    "duration": 22,
    "start_time": "2025-01-17T12:07:19.281Z"
   },
   {
    "duration": 6,
    "start_time": "2025-01-17T12:07:55.762Z"
   },
   {
    "duration": 23,
    "start_time": "2025-01-17T12:08:05.016Z"
   },
   {
    "duration": 16,
    "start_time": "2025-01-17T12:09:31.981Z"
   },
   {
    "duration": 23,
    "start_time": "2025-01-17T12:09:41.811Z"
   },
   {
    "duration": 15,
    "start_time": "2025-01-17T12:09:54.558Z"
   },
   {
    "duration": 183,
    "start_time": "2025-01-17T12:13:52.689Z"
   },
   {
    "duration": 137,
    "start_time": "2025-01-17T12:14:14.194Z"
   },
   {
    "duration": 146,
    "start_time": "2025-01-17T12:14:22.585Z"
   },
   {
    "duration": 194,
    "start_time": "2025-01-17T12:15:06.441Z"
   },
   {
    "duration": 112,
    "start_time": "2025-01-17T12:15:14.519Z"
   },
   {
    "duration": 129,
    "start_time": "2025-01-17T12:15:22.297Z"
   },
   {
    "duration": 116,
    "start_time": "2025-01-17T12:15:47.586Z"
   },
   {
    "duration": 3605,
    "start_time": "2025-01-17T14:46:50.691Z"
   },
   {
    "duration": 2115,
    "start_time": "2025-01-17T14:46:54.298Z"
   },
   {
    "duration": 13,
    "start_time": "2025-01-17T14:46:56.414Z"
   },
   {
    "duration": 13,
    "start_time": "2025-01-17T14:46:56.429Z"
   },
   {
    "duration": 105,
    "start_time": "2025-01-17T14:46:56.443Z"
   },
   {
    "duration": 22,
    "start_time": "2025-01-17T14:46:56.550Z"
   },
   {
    "duration": 9,
    "start_time": "2025-01-17T14:46:56.574Z"
   },
   {
    "duration": 21,
    "start_time": "2025-01-17T14:46:56.584Z"
   },
   {
    "duration": 37,
    "start_time": "2025-01-17T14:46:56.606Z"
   },
   {
    "duration": 7,
    "start_time": "2025-01-17T14:46:56.645Z"
   },
   {
    "duration": 29,
    "start_time": "2025-01-17T14:46:56.653Z"
   },
   {
    "duration": 7,
    "start_time": "2025-01-17T14:46:56.683Z"
   },
   {
    "duration": 57,
    "start_time": "2025-01-17T14:46:56.692Z"
   },
   {
    "duration": 8,
    "start_time": "2025-01-17T14:46:56.751Z"
   },
   {
    "duration": 23,
    "start_time": "2025-01-17T14:46:56.760Z"
   },
   {
    "duration": 9,
    "start_time": "2025-01-17T14:46:56.785Z"
   },
   {
    "duration": 9,
    "start_time": "2025-01-17T14:46:56.795Z"
   },
   {
    "duration": 6,
    "start_time": "2025-01-17T14:46:56.821Z"
   },
   {
    "duration": 9,
    "start_time": "2025-01-17T14:46:56.829Z"
   },
   {
    "duration": 511,
    "start_time": "2025-01-17T14:46:56.839Z"
   },
   {
    "duration": 20,
    "start_time": "2025-01-17T14:46:57.351Z"
   },
   {
    "duration": 85,
    "start_time": "2025-01-17T14:46:57.372Z"
   },
   {
    "duration": 21,
    "start_time": "2025-01-17T14:46:57.458Z"
   },
   {
    "duration": 21,
    "start_time": "2025-01-17T14:46:57.480Z"
   },
   {
    "duration": 73,
    "start_time": "2025-01-17T14:46:57.502Z"
   },
   {
    "duration": 45,
    "start_time": "2025-01-17T14:46:57.576Z"
   },
   {
    "duration": 161,
    "start_time": "2025-01-17T14:46:57.623Z"
   },
   {
    "duration": 16,
    "start_time": "2025-01-17T14:46:57.788Z"
   },
   {
    "duration": 708,
    "start_time": "2025-01-17T14:46:57.805Z"
   },
   {
    "duration": 10,
    "start_time": "2025-01-17T14:46:58.515Z"
   },
   {
    "duration": 9,
    "start_time": "2025-01-17T14:46:58.527Z"
   },
   {
    "duration": 167,
    "start_time": "2025-01-17T14:46:58.538Z"
   },
   {
    "duration": 4,
    "start_time": "2025-01-17T14:46:58.707Z"
   },
   {
    "duration": 32,
    "start_time": "2025-01-17T14:46:58.713Z"
   },
   {
    "duration": 34,
    "start_time": "2025-01-17T14:46:58.747Z"
   },
   {
    "duration": 25,
    "start_time": "2025-01-17T14:46:58.782Z"
   },
   {
    "duration": 90,
    "start_time": "2025-01-17T14:46:58.809Z"
   },
   {
    "duration": 19,
    "start_time": "2025-01-17T14:46:58.901Z"
   },
   {
    "duration": 25,
    "start_time": "2025-01-17T14:46:58.921Z"
   },
   {
    "duration": 35,
    "start_time": "2025-01-17T14:46:58.948Z"
   },
   {
    "duration": 10,
    "start_time": "2025-01-17T14:46:58.985Z"
   },
   {
    "duration": 17,
    "start_time": "2025-01-17T14:46:58.996Z"
   },
   {
    "duration": 301,
    "start_time": "2025-01-17T14:46:59.022Z"
   },
   {
    "duration": 200,
    "start_time": "2025-01-17T14:46:59.325Z"
   },
   {
    "duration": 12,
    "start_time": "2025-01-17T14:46:59.527Z"
   },
   {
    "duration": 101,
    "start_time": "2025-01-17T14:46:59.540Z"
   },
   {
    "duration": 65,
    "start_time": "2025-01-17T14:46:59.642Z"
   },
   {
    "duration": 192,
    "start_time": "2025-01-17T14:46:59.709Z"
   },
   {
    "duration": 20,
    "start_time": "2025-01-17T14:46:59.902Z"
   },
   {
    "duration": 123,
    "start_time": "2025-01-17T14:46:59.924Z"
   },
   {
    "duration": 14,
    "start_time": "2025-01-17T14:47:00.049Z"
   },
   {
    "duration": 36,
    "start_time": "2025-01-17T14:47:00.064Z"
   },
   {
    "duration": 102,
    "start_time": "2025-01-17T14:47:00.101Z"
   },
   {
    "duration": 218,
    "start_time": "2025-01-17T14:47:00.205Z"
   },
   {
    "duration": 137,
    "start_time": "2025-01-17T14:47:00.425Z"
   },
   {
    "duration": 148,
    "start_time": "2025-01-17T14:47:00.564Z"
   },
   {
    "duration": 13,
    "start_time": "2025-01-17T14:47:00.714Z"
   },
   {
    "duration": 33,
    "start_time": "2025-01-17T14:47:00.729Z"
   },
   {
    "duration": 23,
    "start_time": "2025-01-17T14:47:00.764Z"
   },
   {
    "duration": 26,
    "start_time": "2025-01-17T14:47:00.789Z"
   },
   {
    "duration": 11,
    "start_time": "2025-01-17T14:47:00.817Z"
   },
   {
    "duration": 22,
    "start_time": "2025-01-17T14:47:00.829Z"
   },
   {
    "duration": 89,
    "start_time": "2025-01-17T14:47:00.852Z"
   },
   {
    "duration": 81,
    "start_time": "2025-01-17T14:47:00.943Z"
   },
   {
    "duration": 30,
    "start_time": "2025-01-17T14:47:01.026Z"
   },
   {
    "duration": 66,
    "start_time": "2025-01-17T14:47:01.058Z"
   },
   {
    "duration": 76,
    "start_time": "2025-01-17T14:47:01.126Z"
   },
   {
    "duration": 28,
    "start_time": "2025-01-17T14:47:01.204Z"
   },
   {
    "duration": 91,
    "start_time": "2025-01-17T14:47:01.233Z"
   },
   {
    "duration": 26,
    "start_time": "2025-01-17T14:47:01.325Z"
   },
   {
    "duration": 134,
    "start_time": "2025-01-17T14:47:01.353Z"
   },
   {
    "duration": 238,
    "start_time": "2025-01-17T14:47:01.489Z"
   },
   {
    "duration": 265,
    "start_time": "2025-01-17T14:47:01.728Z"
   },
   {
    "duration": 2,
    "start_time": "2025-01-17T14:47:01.995Z"
   },
   {
    "duration": 45,
    "start_time": "2025-01-17T14:47:01.999Z"
   },
   {
    "duration": 40,
    "start_time": "2025-01-17T14:47:02.046Z"
   },
   {
    "duration": 23,
    "start_time": "2025-01-17T14:47:02.088Z"
   },
   {
    "duration": 180,
    "start_time": "2025-01-17T14:47:02.113Z"
   },
   {
    "duration": 138,
    "start_time": "2025-01-17T14:47:02.294Z"
   },
   {
    "duration": 15,
    "start_time": "2025-01-17T14:47:57.598Z"
   },
   {
    "duration": 8,
    "start_time": "2025-01-17T14:52:33.957Z"
   },
   {
    "duration": 6,
    "start_time": "2025-01-17T14:57:18.541Z"
   },
   {
    "duration": 6,
    "start_time": "2025-01-17T14:57:33.104Z"
   },
   {
    "duration": 6,
    "start_time": "2025-01-17T14:57:34.973Z"
   },
   {
    "duration": 6,
    "start_time": "2025-01-17T14:57:57.141Z"
   },
   {
    "duration": 5,
    "start_time": "2025-01-17T14:57:57.629Z"
   },
   {
    "duration": 6,
    "start_time": "2025-01-17T14:58:04.485Z"
   },
   {
    "duration": 6,
    "start_time": "2025-01-17T14:58:04.925Z"
   },
   {
    "duration": 6,
    "start_time": "2025-01-17T15:17:46.396Z"
   },
   {
    "duration": 7,
    "start_time": "2025-01-17T15:21:48.940Z"
   },
   {
    "duration": 120,
    "start_time": "2025-01-17T15:41:18.235Z"
   },
   {
    "duration": 86,
    "start_time": "2025-01-17T15:41:46.596Z"
   },
   {
    "duration": 46,
    "start_time": "2025-01-17T15:41:51.380Z"
   },
   {
    "duration": 9,
    "start_time": "2025-01-17T15:44:54.289Z"
   },
   {
    "duration": 9,
    "start_time": "2025-01-17T15:45:05.186Z"
   },
   {
    "duration": 12,
    "start_time": "2025-01-17T15:45:11.171Z"
   },
   {
    "duration": 41,
    "start_time": "2025-01-17T15:45:16.427Z"
   },
   {
    "duration": 5,
    "start_time": "2025-01-17T15:46:58.972Z"
   },
   {
    "duration": 37,
    "start_time": "2025-01-17T15:47:03.140Z"
   },
   {
    "duration": 15,
    "start_time": "2025-01-17T15:55:41.670Z"
   },
   {
    "duration": 25,
    "start_time": "2025-01-17T16:03:47.483Z"
   },
   {
    "duration": 7,
    "start_time": "2025-01-17T16:11:04.688Z"
   },
   {
    "duration": 7,
    "start_time": "2025-01-17T16:11:14.209Z"
   },
   {
    "duration": 7,
    "start_time": "2025-01-17T16:11:36.129Z"
   },
   {
    "duration": 6,
    "start_time": "2025-01-17T16:11:40.339Z"
   },
   {
    "duration": 7,
    "start_time": "2025-01-17T16:11:50.617Z"
   },
   {
    "duration": 4,
    "start_time": "2025-01-17T16:11:59.217Z"
   },
   {
    "duration": 7,
    "start_time": "2025-01-17T16:12:04.681Z"
   },
   {
    "duration": 7,
    "start_time": "2025-01-17T16:12:10.817Z"
   },
   {
    "duration": 7,
    "start_time": "2025-01-17T16:12:15.401Z"
   },
   {
    "duration": 7,
    "start_time": "2025-01-17T16:12:19.993Z"
   },
   {
    "duration": 7,
    "start_time": "2025-01-17T16:12:27.475Z"
   },
   {
    "duration": 7,
    "start_time": "2025-01-17T16:12:34.161Z"
   },
   {
    "duration": 14,
    "start_time": "2025-01-17T16:19:01.306Z"
   },
   {
    "duration": 13,
    "start_time": "2025-01-17T16:19:14.648Z"
   },
   {
    "duration": 435,
    "start_time": "2025-01-17T16:19:24.570Z"
   },
   {
    "duration": 341,
    "start_time": "2025-01-17T16:20:13.418Z"
   },
   {
    "duration": 378,
    "start_time": "2025-01-17T16:20:22.582Z"
   },
   {
    "duration": 382,
    "start_time": "2025-01-17T16:20:30.298Z"
   },
   {
    "duration": 377,
    "start_time": "2025-01-17T16:23:40.771Z"
   },
   {
    "duration": 8,
    "start_time": "2025-01-17T17:25:26.524Z"
   },
   {
    "duration": 8,
    "start_time": "2025-01-17T17:25:32.682Z"
   },
   {
    "duration": 5,
    "start_time": "2025-01-17T17:25:37.259Z"
   },
   {
    "duration": 5,
    "start_time": "2025-01-17T17:25:55.945Z"
   },
   {
    "duration": 9,
    "start_time": "2025-01-17T17:26:17.268Z"
   },
   {
    "duration": 4,
    "start_time": "2025-01-17T17:26:21.581Z"
   },
   {
    "duration": 3,
    "start_time": "2025-01-17T17:26:56.859Z"
   },
   {
    "duration": 4,
    "start_time": "2025-01-17T17:27:02.281Z"
   },
   {
    "duration": 5,
    "start_time": "2025-01-17T17:27:14.514Z"
   },
   {
    "duration": 77,
    "start_time": "2025-01-17T17:28:35.502Z"
   },
   {
    "duration": 7,
    "start_time": "2025-01-17T17:30:07.154Z"
   },
   {
    "duration": 8,
    "start_time": "2025-01-17T17:30:28.115Z"
   },
   {
    "duration": 28,
    "start_time": "2025-01-17T17:30:44.122Z"
   },
   {
    "duration": 40,
    "start_time": "2025-01-17T17:32:21.371Z"
   },
   {
    "duration": 37,
    "start_time": "2025-01-17T17:32:31.282Z"
   },
   {
    "duration": 39,
    "start_time": "2025-01-17T17:32:36.396Z"
   },
   {
    "duration": 383,
    "start_time": "2025-01-17T17:34:18.572Z"
   },
   {
    "duration": 11,
    "start_time": "2025-01-17T17:36:01.823Z"
   },
   {
    "duration": 28,
    "start_time": "2025-01-17T17:37:42.522Z"
   },
   {
    "duration": 37,
    "start_time": "2025-01-17T17:38:29.050Z"
   },
   {
    "duration": 32,
    "start_time": "2025-01-17T17:39:24.874Z"
   },
   {
    "duration": 28,
    "start_time": "2025-01-17T17:39:42.234Z"
   },
   {
    "duration": 40,
    "start_time": "2025-01-17T17:39:54.419Z"
   },
   {
    "duration": 35,
    "start_time": "2025-01-17T17:40:32.059Z"
   },
   {
    "duration": 34,
    "start_time": "2025-01-17T17:40:40.458Z"
   },
   {
    "duration": 8,
    "start_time": "2025-01-17T17:41:09.226Z"
   },
   {
    "duration": 8,
    "start_time": "2025-01-17T17:41:18.029Z"
   },
   {
    "duration": 7,
    "start_time": "2025-01-17T17:41:46.335Z"
   },
   {
    "duration": 23,
    "start_time": "2025-01-17T17:46:59.313Z"
   },
   {
    "duration": 5,
    "start_time": "2025-01-17T17:47:03.202Z"
   },
   {
    "duration": 27,
    "start_time": "2025-01-17T17:47:42.233Z"
   },
   {
    "duration": 5,
    "start_time": "2025-01-17T17:47:44.130Z"
   },
   {
    "duration": 80,
    "start_time": "2025-01-17T17:48:54.050Z"
   },
   {
    "duration": 18,
    "start_time": "2025-01-17T17:50:21.770Z"
   },
   {
    "duration": 5,
    "start_time": "2025-01-17T17:50:23.857Z"
   },
   {
    "duration": 27,
    "start_time": "2025-01-17T17:51:01.338Z"
   },
   {
    "duration": 5,
    "start_time": "2025-01-17T17:51:03.274Z"
   },
   {
    "duration": 5,
    "start_time": "2025-01-17T17:56:25.105Z"
   },
   {
    "duration": 253,
    "start_time": "2025-01-17T18:02:30.722Z"
   },
   {
    "duration": 32,
    "start_time": "2025-01-17T18:04:19.745Z"
   },
   {
    "duration": 8,
    "start_time": "2025-01-17T18:04:20.576Z"
   },
   {
    "duration": 26,
    "start_time": "2025-01-17T18:04:53.944Z"
   },
   {
    "duration": 5,
    "start_time": "2025-01-17T18:04:54.456Z"
   },
   {
    "duration": 146,
    "start_time": "2025-01-17T18:04:57.313Z"
   },
   {
    "duration": 142,
    "start_time": "2025-01-17T18:05:48.888Z"
   },
   {
    "duration": 9,
    "start_time": "2025-01-17T18:14:38.360Z"
   },
   {
    "duration": 118,
    "start_time": "2025-01-17T18:14:51.290Z"
   },
   {
    "duration": 158,
    "start_time": "2025-01-17T18:15:11.313Z"
   },
   {
    "duration": 155,
    "start_time": "2025-01-17T18:15:31.986Z"
   },
   {
    "duration": 175,
    "start_time": "2025-01-17T18:15:39.904Z"
   },
   {
    "duration": 176,
    "start_time": "2025-01-17T18:16:32.935Z"
   },
   {
    "duration": 38,
    "start_time": "2025-01-17T18:25:30.498Z"
   },
   {
    "duration": 37,
    "start_time": "2025-01-17T18:26:02.544Z"
   },
   {
    "duration": 26,
    "start_time": "2025-01-17T18:26:11.297Z"
   },
   {
    "duration": 404,
    "start_time": "2025-01-17T18:33:52.297Z"
   },
   {
    "duration": 471,
    "start_time": "2025-01-17T18:36:33.500Z"
   },
   {
    "duration": 3592,
    "start_time": "2025-01-17T18:40:57.749Z"
   },
   {
    "duration": 1959,
    "start_time": "2025-01-17T18:41:01.343Z"
   },
   {
    "duration": 12,
    "start_time": "2025-01-17T18:41:03.303Z"
   },
   {
    "duration": 16,
    "start_time": "2025-01-17T18:41:03.317Z"
   },
   {
    "duration": 101,
    "start_time": "2025-01-17T18:41:03.334Z"
   },
   {
    "duration": 22,
    "start_time": "2025-01-17T18:41:03.437Z"
   },
   {
    "duration": 7,
    "start_time": "2025-01-17T18:41:03.461Z"
   },
   {
    "duration": 36,
    "start_time": "2025-01-17T18:41:03.469Z"
   },
   {
    "duration": 39,
    "start_time": "2025-01-17T18:41:03.506Z"
   },
   {
    "duration": 8,
    "start_time": "2025-01-17T18:41:03.549Z"
   },
   {
    "duration": 27,
    "start_time": "2025-01-17T18:41:03.559Z"
   },
   {
    "duration": 23,
    "start_time": "2025-01-17T18:41:03.588Z"
   },
   {
    "duration": 43,
    "start_time": "2025-01-17T18:41:03.612Z"
   },
   {
    "duration": 8,
    "start_time": "2025-01-17T18:41:03.657Z"
   },
   {
    "duration": 13,
    "start_time": "2025-01-17T18:41:03.666Z"
   },
   {
    "duration": 24,
    "start_time": "2025-01-17T18:41:03.680Z"
   },
   {
    "duration": 17,
    "start_time": "2025-01-17T18:41:03.705Z"
   },
   {
    "duration": 6,
    "start_time": "2025-01-17T18:41:03.724Z"
   },
   {
    "duration": 11,
    "start_time": "2025-01-17T18:41:03.731Z"
   },
   {
    "duration": 503,
    "start_time": "2025-01-17T18:41:03.744Z"
   },
   {
    "duration": 19,
    "start_time": "2025-01-17T18:41:04.248Z"
   },
   {
    "duration": 49,
    "start_time": "2025-01-17T18:41:04.269Z"
   },
   {
    "duration": 21,
    "start_time": "2025-01-17T18:41:04.320Z"
   },
   {
    "duration": 20,
    "start_time": "2025-01-17T18:41:04.343Z"
   },
   {
    "duration": 86,
    "start_time": "2025-01-17T18:41:04.364Z"
   },
   {
    "duration": 40,
    "start_time": "2025-01-17T18:41:04.452Z"
   },
   {
    "duration": 160,
    "start_time": "2025-01-17T18:41:04.494Z"
   },
   {
    "duration": 17,
    "start_time": "2025-01-17T18:41:04.658Z"
   },
   {
    "duration": 665,
    "start_time": "2025-01-17T18:41:04.677Z"
   },
   {
    "duration": 7,
    "start_time": "2025-01-17T18:41:05.344Z"
   },
   {
    "duration": 56,
    "start_time": "2025-01-17T18:41:05.352Z"
   },
   {
    "duration": 142,
    "start_time": "2025-01-17T18:41:05.409Z"
   },
   {
    "duration": 4,
    "start_time": "2025-01-17T18:41:05.553Z"
   },
   {
    "duration": 22,
    "start_time": "2025-01-17T18:41:05.559Z"
   },
   {
    "duration": 13,
    "start_time": "2025-01-17T18:41:05.582Z"
   },
   {
    "duration": 20,
    "start_time": "2025-01-17T18:41:05.597Z"
   },
   {
    "duration": 72,
    "start_time": "2025-01-17T18:41:05.619Z"
   },
   {
    "duration": 33,
    "start_time": "2025-01-17T18:41:05.693Z"
   },
   {
    "duration": 49,
    "start_time": "2025-01-17T18:41:05.727Z"
   },
   {
    "duration": 57,
    "start_time": "2025-01-17T18:41:05.778Z"
   },
   {
    "duration": 17,
    "start_time": "2025-01-17T18:41:05.836Z"
   },
   {
    "duration": 37,
    "start_time": "2025-01-17T18:41:05.854Z"
   },
   {
    "duration": 324,
    "start_time": "2025-01-17T18:41:05.893Z"
   },
   {
    "duration": 201,
    "start_time": "2025-01-17T18:41:06.221Z"
   },
   {
    "duration": 12,
    "start_time": "2025-01-17T18:41:06.424Z"
   },
   {
    "duration": 87,
    "start_time": "2025-01-17T18:41:06.438Z"
   },
   {
    "duration": 65,
    "start_time": "2025-01-17T18:41:06.526Z"
   },
   {
    "duration": 188,
    "start_time": "2025-01-17T18:41:06.593Z"
   },
   {
    "duration": 14,
    "start_time": "2025-01-17T18:41:06.783Z"
   },
   {
    "duration": 132,
    "start_time": "2025-01-17T18:41:06.799Z"
   },
   {
    "duration": 10,
    "start_time": "2025-01-17T18:41:06.933Z"
   },
   {
    "duration": 16,
    "start_time": "2025-01-17T18:41:06.945Z"
   },
   {
    "duration": 92,
    "start_time": "2025-01-17T18:41:06.962Z"
   },
   {
    "duration": 217,
    "start_time": "2025-01-17T18:41:07.055Z"
   },
   {
    "duration": 139,
    "start_time": "2025-01-17T18:41:07.274Z"
   },
   {
    "duration": 153,
    "start_time": "2025-01-17T18:41:07.415Z"
   },
   {
    "duration": 8,
    "start_time": "2025-01-17T18:41:07.570Z"
   },
   {
    "duration": 18,
    "start_time": "2025-01-17T18:41:07.579Z"
   },
   {
    "duration": 20,
    "start_time": "2025-01-17T18:41:07.598Z"
   },
   {
    "duration": 38,
    "start_time": "2025-01-17T18:41:07.619Z"
   },
   {
    "duration": 8,
    "start_time": "2025-01-17T18:41:07.658Z"
   },
   {
    "duration": 9,
    "start_time": "2025-01-17T18:41:07.668Z"
   },
   {
    "duration": 85,
    "start_time": "2025-01-17T18:41:07.679Z"
   },
   {
    "duration": 91,
    "start_time": "2025-01-17T18:41:07.766Z"
   },
   {
    "duration": 30,
    "start_time": "2025-01-17T18:41:07.859Z"
   },
   {
    "duration": 66,
    "start_time": "2025-01-17T18:41:07.890Z"
   },
   {
    "duration": 84,
    "start_time": "2025-01-17T18:41:07.958Z"
   },
   {
    "duration": 15,
    "start_time": "2025-01-17T18:41:08.043Z"
   },
   {
    "duration": 117,
    "start_time": "2025-01-17T18:41:08.060Z"
   },
   {
    "duration": 27,
    "start_time": "2025-01-17T18:41:08.178Z"
   },
   {
    "duration": 94,
    "start_time": "2025-01-17T18:41:08.207Z"
   },
   {
    "duration": 239,
    "start_time": "2025-01-17T18:41:08.303Z"
   },
   {
    "duration": 252,
    "start_time": "2025-01-17T18:41:08.544Z"
   },
   {
    "duration": 3,
    "start_time": "2025-01-17T18:41:08.798Z"
   },
   {
    "duration": 35,
    "start_time": "2025-01-17T18:41:08.802Z"
   },
   {
    "duration": 7,
    "start_time": "2025-01-17T18:41:08.839Z"
   },
   {
    "duration": 22,
    "start_time": "2025-01-17T18:41:08.847Z"
   },
   {
    "duration": 7,
    "start_time": "2025-01-17T18:41:08.871Z"
   },
   {
    "duration": 5,
    "start_time": "2025-01-17T18:41:08.880Z"
   },
   {
    "duration": 177,
    "start_time": "2025-01-17T18:41:08.887Z"
   },
   {
    "duration": 126,
    "start_time": "2025-01-17T18:41:09.066Z"
   },
   {
    "duration": 95,
    "start_time": "2025-01-17T18:41:09.199Z"
   },
   {
    "duration": 12,
    "start_time": "2025-01-17T18:41:09.296Z"
   },
   {
    "duration": 17,
    "start_time": "2025-01-17T18:41:09.309Z"
   },
   {
    "duration": 34,
    "start_time": "2025-01-17T18:41:09.327Z"
   },
   {
    "duration": 7,
    "start_time": "2025-01-17T18:41:09.363Z"
   },
   {
    "duration": 490,
    "start_time": "2025-01-17T18:41:09.372Z"
   },
   {
    "duration": 409,
    "start_time": "2025-01-17T18:41:09.863Z"
   },
   {
    "duration": 5,
    "start_time": "2025-01-17T18:41:10.273Z"
   },
   {
    "duration": 54,
    "start_time": "2025-01-17T18:41:10.279Z"
   },
   {
    "duration": 33,
    "start_time": "2025-01-17T18:41:10.335Z"
   },
   {
    "duration": 8,
    "start_time": "2025-01-17T18:41:10.370Z"
   },
   {
    "duration": 170,
    "start_time": "2025-01-17T18:41:10.380Z"
   },
   {
    "duration": 5416,
    "start_time": "2025-01-18T08:13:46.405Z"
   },
   {
    "duration": 1974,
    "start_time": "2025-01-18T08:13:51.823Z"
   },
   {
    "duration": 15,
    "start_time": "2025-01-18T08:13:53.799Z"
   },
   {
    "duration": 36,
    "start_time": "2025-01-18T08:13:53.817Z"
   },
   {
    "duration": 108,
    "start_time": "2025-01-18T08:13:53.855Z"
   },
   {
    "duration": 26,
    "start_time": "2025-01-18T08:13:53.964Z"
   },
   {
    "duration": 4,
    "start_time": "2025-01-18T08:13:53.992Z"
   },
   {
    "duration": 46,
    "start_time": "2025-01-18T08:13:53.998Z"
   },
   {
    "duration": 50,
    "start_time": "2025-01-18T08:13:54.046Z"
   },
   {
    "duration": 8,
    "start_time": "2025-01-18T08:13:54.099Z"
   },
   {
    "duration": 30,
    "start_time": "2025-01-18T08:13:54.108Z"
   },
   {
    "duration": 12,
    "start_time": "2025-01-18T08:13:54.141Z"
   },
   {
    "duration": 71,
    "start_time": "2025-01-18T08:13:54.155Z"
   },
   {
    "duration": 16,
    "start_time": "2025-01-18T08:13:54.228Z"
   },
   {
    "duration": 105,
    "start_time": "2025-01-18T08:13:54.247Z"
   },
   {
    "duration": 11,
    "start_time": "2025-01-18T08:13:54.354Z"
   },
   {
    "duration": 10,
    "start_time": "2025-01-18T08:13:54.366Z"
   },
   {
    "duration": 7,
    "start_time": "2025-01-18T08:13:54.378Z"
   },
   {
    "duration": 34,
    "start_time": "2025-01-18T08:13:54.387Z"
   },
   {
    "duration": 563,
    "start_time": "2025-01-18T08:13:54.423Z"
   },
   {
    "duration": 19,
    "start_time": "2025-01-18T08:13:54.988Z"
   },
   {
    "duration": 38,
    "start_time": "2025-01-18T08:13:55.009Z"
   },
   {
    "duration": 23,
    "start_time": "2025-01-18T08:13:55.049Z"
   },
   {
    "duration": 40,
    "start_time": "2025-01-18T08:13:55.074Z"
   },
   {
    "duration": 84,
    "start_time": "2025-01-18T08:13:55.116Z"
   },
   {
    "duration": 59,
    "start_time": "2025-01-18T08:13:55.202Z"
   },
   {
    "duration": 185,
    "start_time": "2025-01-18T08:13:55.263Z"
   },
   {
    "duration": 20,
    "start_time": "2025-01-18T08:13:55.454Z"
   },
   {
    "duration": 797,
    "start_time": "2025-01-18T08:13:55.476Z"
   },
   {
    "duration": 7,
    "start_time": "2025-01-18T08:13:56.276Z"
   },
   {
    "duration": 100,
    "start_time": "2025-01-18T08:13:56.285Z"
   },
   {
    "duration": 163,
    "start_time": "2025-01-18T08:13:56.387Z"
   },
   {
    "duration": 6,
    "start_time": "2025-01-18T08:13:56.554Z"
   },
   {
    "duration": 21,
    "start_time": "2025-01-18T08:13:56.562Z"
   },
   {
    "duration": 8,
    "start_time": "2025-01-18T08:13:56.584Z"
   },
   {
    "duration": 13,
    "start_time": "2025-01-18T08:13:56.594Z"
   },
   {
    "duration": 98,
    "start_time": "2025-01-18T08:13:56.636Z"
   },
   {
    "duration": 25,
    "start_time": "2025-01-18T08:13:56.739Z"
   },
   {
    "duration": 26,
    "start_time": "2025-01-18T08:13:56.766Z"
   },
   {
    "duration": 40,
    "start_time": "2025-01-18T08:13:56.794Z"
   },
   {
    "duration": 14,
    "start_time": "2025-01-18T08:13:56.836Z"
   },
   {
    "duration": 24,
    "start_time": "2025-01-18T08:13:56.851Z"
   },
   {
    "duration": 362,
    "start_time": "2025-01-18T08:13:56.877Z"
   },
   {
    "duration": 224,
    "start_time": "2025-01-18T08:13:57.242Z"
   },
   {
    "duration": 13,
    "start_time": "2025-01-18T08:13:57.467Z"
   },
   {
    "duration": 97,
    "start_time": "2025-01-18T08:13:57.482Z"
   },
   {
    "duration": 85,
    "start_time": "2025-01-18T08:13:57.581Z"
   },
   {
    "duration": 233,
    "start_time": "2025-01-18T08:13:57.668Z"
   },
   {
    "duration": 17,
    "start_time": "2025-01-18T08:13:57.904Z"
   },
   {
    "duration": 139,
    "start_time": "2025-01-18T08:13:57.934Z"
   },
   {
    "duration": 12,
    "start_time": "2025-01-18T08:13:58.074Z"
   },
   {
    "duration": 18,
    "start_time": "2025-01-18T08:13:58.088Z"
   },
   {
    "duration": 117,
    "start_time": "2025-01-18T08:13:58.107Z"
   },
   {
    "duration": 236,
    "start_time": "2025-01-18T08:13:58.226Z"
   },
   {
    "duration": 146,
    "start_time": "2025-01-18T08:13:58.464Z"
   },
   {
    "duration": 179,
    "start_time": "2025-01-18T08:13:58.612Z"
   },
   {
    "duration": 10,
    "start_time": "2025-01-18T08:13:58.793Z"
   },
   {
    "duration": 12,
    "start_time": "2025-01-18T08:13:58.804Z"
   },
   {
    "duration": 16,
    "start_time": "2025-01-18T08:13:58.832Z"
   },
   {
    "duration": 35,
    "start_time": "2025-01-18T08:13:58.850Z"
   },
   {
    "duration": 6,
    "start_time": "2025-01-18T08:13:58.887Z"
   },
   {
    "duration": 21,
    "start_time": "2025-01-18T08:13:58.895Z"
   },
   {
    "duration": 124,
    "start_time": "2025-01-18T08:13:58.918Z"
   },
   {
    "duration": 108,
    "start_time": "2025-01-18T08:13:59.043Z"
   },
   {
    "duration": 30,
    "start_time": "2025-01-18T08:13:59.153Z"
   },
   {
    "duration": 77,
    "start_time": "2025-01-18T08:13:59.185Z"
   },
   {
    "duration": 88,
    "start_time": "2025-01-18T08:13:59.264Z"
   },
   {
    "duration": 16,
    "start_time": "2025-01-18T08:13:59.354Z"
   },
   {
    "duration": 178,
    "start_time": "2025-01-18T08:13:59.372Z"
   },
   {
    "duration": 27,
    "start_time": "2025-01-18T08:13:59.552Z"
   },
   {
    "duration": 136,
    "start_time": "2025-01-18T08:13:59.581Z"
   },
   {
    "duration": 309,
    "start_time": "2025-01-18T08:13:59.718Z"
   },
   {
    "duration": 326,
    "start_time": "2025-01-18T08:14:00.031Z"
   },
   {
    "duration": 2,
    "start_time": "2025-01-18T08:14:00.359Z"
   },
   {
    "duration": 76,
    "start_time": "2025-01-18T08:14:00.363Z"
   },
   {
    "duration": 24,
    "start_time": "2025-01-18T08:14:00.447Z"
   },
   {
    "duration": 39,
    "start_time": "2025-01-18T08:14:00.473Z"
   },
   {
    "duration": 13,
    "start_time": "2025-01-18T08:14:00.514Z"
   },
   {
    "duration": 35,
    "start_time": "2025-01-18T08:14:00.529Z"
   },
   {
    "duration": 183,
    "start_time": "2025-01-18T08:14:00.566Z"
   },
   {
    "duration": 130,
    "start_time": "2025-01-18T08:14:00.751Z"
   },
   {
    "duration": 114,
    "start_time": "2025-01-18T08:14:00.887Z"
   },
   {
    "duration": 14,
    "start_time": "2025-01-18T08:14:01.003Z"
   },
   {
    "duration": 21,
    "start_time": "2025-01-18T08:14:01.029Z"
   },
   {
    "duration": 34,
    "start_time": "2025-01-18T08:14:01.052Z"
   },
   {
    "duration": 20,
    "start_time": "2025-01-18T08:14:01.089Z"
   },
   {
    "duration": 608,
    "start_time": "2025-01-18T08:14:01.111Z"
   },
   {
    "duration": 490,
    "start_time": "2025-01-18T08:14:01.721Z"
   },
   {
    "duration": 5,
    "start_time": "2025-01-18T08:14:02.213Z"
   },
   {
    "duration": 24,
    "start_time": "2025-01-18T08:14:02.230Z"
   },
   {
    "duration": 32,
    "start_time": "2025-01-18T08:14:02.256Z"
   },
   {
    "duration": 133,
    "start_time": "2025-01-18T08:14:02.290Z"
   },
   {
    "duration": 254,
    "start_time": "2025-01-18T08:14:02.425Z"
   },
   {
    "duration": 354,
    "start_time": "2025-01-18T08:18:33.242Z"
   },
   {
    "duration": 37,
    "start_time": "2025-01-18T08:19:07.932Z"
   },
   {
    "duration": 17,
    "start_time": "2025-01-18T08:19:11.001Z"
   },
   {
    "duration": 41,
    "start_time": "2025-01-18T08:19:23.743Z"
   },
   {
    "duration": 488,
    "start_time": "2025-01-18T08:19:53.506Z"
   },
   {
    "duration": 347,
    "start_time": "2025-01-18T08:20:18.962Z"
   },
   {
    "duration": 32,
    "start_time": "2025-01-18T08:20:52.350Z"
   },
   {
    "duration": 16,
    "start_time": "2025-01-18T08:20:54.061Z"
   },
   {
    "duration": 40,
    "start_time": "2025-01-18T08:20:56.462Z"
   },
   {
    "duration": 25,
    "start_time": "2025-01-18T08:37:24.603Z"
   },
   {
    "duration": 214,
    "start_time": "2025-01-18T08:37:26.490Z"
   },
   {
    "duration": 15,
    "start_time": "2025-01-18T08:37:28.648Z"
   },
   {
    "duration": 142,
    "start_time": "2025-01-18T08:37:29.379Z"
   },
   {
    "duration": 3816,
    "start_time": "2025-01-18T08:37:52.147Z"
   },
   {
    "duration": 2177,
    "start_time": "2025-01-18T08:37:55.965Z"
   },
   {
    "duration": 15,
    "start_time": "2025-01-18T08:37:58.144Z"
   },
   {
    "duration": 22,
    "start_time": "2025-01-18T08:37:58.162Z"
   },
   {
    "duration": 135,
    "start_time": "2025-01-18T08:37:58.186Z"
   },
   {
    "duration": 29,
    "start_time": "2025-01-18T08:37:58.323Z"
   },
   {
    "duration": 92,
    "start_time": "2025-01-18T08:37:58.354Z"
   },
   {
    "duration": 28,
    "start_time": "2025-01-18T08:37:58.448Z"
   },
   {
    "duration": 39,
    "start_time": "2025-01-18T08:37:58.478Z"
   },
   {
    "duration": 15,
    "start_time": "2025-01-18T08:37:58.520Z"
   },
   {
    "duration": 24,
    "start_time": "2025-01-18T08:37:58.536Z"
   },
   {
    "duration": 22,
    "start_time": "2025-01-18T08:37:58.562Z"
   },
   {
    "duration": 57,
    "start_time": "2025-01-18T08:37:58.586Z"
   },
   {
    "duration": 30,
    "start_time": "2025-01-18T08:37:58.644Z"
   },
   {
    "duration": 25,
    "start_time": "2025-01-18T08:37:58.676Z"
   },
   {
    "duration": 13,
    "start_time": "2025-01-18T08:37:58.703Z"
   },
   {
    "duration": 120,
    "start_time": "2025-01-18T08:37:58.718Z"
   },
   {
    "duration": 8,
    "start_time": "2025-01-18T08:37:58.839Z"
   },
   {
    "duration": 22,
    "start_time": "2025-01-18T08:37:58.850Z"
   },
   {
    "duration": 525,
    "start_time": "2025-01-18T08:37:58.874Z"
   },
   {
    "duration": 29,
    "start_time": "2025-01-18T08:37:59.401Z"
   },
   {
    "duration": 16,
    "start_time": "2025-01-18T08:37:59.432Z"
   },
   {
    "duration": 25,
    "start_time": "2025-01-18T08:37:59.450Z"
   },
   {
    "duration": 24,
    "start_time": "2025-01-18T08:37:59.477Z"
   },
   {
    "duration": 81,
    "start_time": "2025-01-18T08:37:59.502Z"
   },
   {
    "duration": 83,
    "start_time": "2025-01-18T08:37:59.585Z"
   },
   {
    "duration": 167,
    "start_time": "2025-01-18T08:37:59.670Z"
   },
   {
    "duration": 20,
    "start_time": "2025-01-18T08:37:59.842Z"
   },
   {
    "duration": 756,
    "start_time": "2025-01-18T08:37:59.864Z"
   },
   {
    "duration": 13,
    "start_time": "2025-01-18T08:38:00.622Z"
   },
   {
    "duration": 23,
    "start_time": "2025-01-18T08:38:00.636Z"
   },
   {
    "duration": 148,
    "start_time": "2025-01-18T08:38:00.661Z"
   },
   {
    "duration": 7,
    "start_time": "2025-01-18T08:38:00.811Z"
   },
   {
    "duration": 31,
    "start_time": "2025-01-18T08:38:00.830Z"
   },
   {
    "duration": 11,
    "start_time": "2025-01-18T08:38:00.863Z"
   },
   {
    "duration": 23,
    "start_time": "2025-01-18T08:38:00.876Z"
   },
   {
    "duration": 79,
    "start_time": "2025-01-18T08:38:00.900Z"
   },
   {
    "duration": 22,
    "start_time": "2025-01-18T08:38:00.981Z"
   },
   {
    "duration": 27,
    "start_time": "2025-01-18T08:38:01.004Z"
   },
   {
    "duration": 35,
    "start_time": "2025-01-18T08:38:01.033Z"
   },
   {
    "duration": 14,
    "start_time": "2025-01-18T08:38:01.070Z"
   },
   {
    "duration": 36,
    "start_time": "2025-01-18T08:38:01.085Z"
   },
   {
    "duration": 324,
    "start_time": "2025-01-18T08:38:01.131Z"
   },
   {
    "duration": 209,
    "start_time": "2025-01-18T08:38:01.457Z"
   },
   {
    "duration": 21,
    "start_time": "2025-01-18T08:38:01.669Z"
   },
   {
    "duration": 194,
    "start_time": "2025-01-18T08:38:01.693Z"
   },
   {
    "duration": 79,
    "start_time": "2025-01-18T08:38:01.889Z"
   },
   {
    "duration": 220,
    "start_time": "2025-01-18T08:38:01.970Z"
   },
   {
    "duration": 17,
    "start_time": "2025-01-18T08:38:02.191Z"
   },
   {
    "duration": 145,
    "start_time": "2025-01-18T08:38:02.210Z"
   },
   {
    "duration": 14,
    "start_time": "2025-01-18T08:38:02.357Z"
   },
   {
    "duration": 82,
    "start_time": "2025-01-18T08:38:02.372Z"
   },
   {
    "duration": 85,
    "start_time": "2025-01-18T08:38:02.456Z"
   },
   {
    "duration": 227,
    "start_time": "2025-01-18T08:38:02.543Z"
   },
   {
    "duration": 135,
    "start_time": "2025-01-18T08:38:02.772Z"
   },
   {
    "duration": 158,
    "start_time": "2025-01-18T08:38:02.909Z"
   },
   {
    "duration": 9,
    "start_time": "2025-01-18T08:38:03.068Z"
   },
   {
    "duration": 45,
    "start_time": "2025-01-18T08:38:03.079Z"
   },
   {
    "duration": 26,
    "start_time": "2025-01-18T08:38:03.126Z"
   },
   {
    "duration": 21,
    "start_time": "2025-01-18T08:38:03.153Z"
   },
   {
    "duration": 32,
    "start_time": "2025-01-18T08:38:03.176Z"
   },
   {
    "duration": 44,
    "start_time": "2025-01-18T08:38:03.210Z"
   },
   {
    "duration": 134,
    "start_time": "2025-01-18T08:38:03.256Z"
   },
   {
    "duration": 86,
    "start_time": "2025-01-18T08:38:03.392Z"
   },
   {
    "duration": 31,
    "start_time": "2025-01-18T08:38:03.479Z"
   },
   {
    "duration": 65,
    "start_time": "2025-01-18T08:38:03.512Z"
   },
   {
    "duration": 134,
    "start_time": "2025-01-18T08:38:03.579Z"
   },
   {
    "duration": 16,
    "start_time": "2025-01-18T08:38:03.715Z"
   },
   {
    "duration": 138,
    "start_time": "2025-01-18T08:38:03.732Z"
   },
   {
    "duration": 27,
    "start_time": "2025-01-18T08:38:03.872Z"
   },
   {
    "duration": 87,
    "start_time": "2025-01-18T08:38:03.901Z"
   },
   {
    "duration": 268,
    "start_time": "2025-01-18T08:38:03.989Z"
   },
   {
    "duration": 296,
    "start_time": "2025-01-18T08:38:04.260Z"
   },
   {
    "duration": 2,
    "start_time": "2025-01-18T08:38:04.559Z"
   },
   {
    "duration": 35,
    "start_time": "2025-01-18T08:38:04.563Z"
   },
   {
    "duration": 32,
    "start_time": "2025-01-18T08:38:04.599Z"
   },
   {
    "duration": 82,
    "start_time": "2025-01-18T08:38:04.634Z"
   },
   {
    "duration": 9,
    "start_time": "2025-01-18T08:38:04.718Z"
   },
   {
    "duration": 102,
    "start_time": "2025-01-18T08:38:04.728Z"
   },
   {
    "duration": 188,
    "start_time": "2025-01-18T08:38:04.833Z"
   },
   {
    "duration": 172,
    "start_time": "2025-01-18T08:38:05.023Z"
   },
   {
    "duration": 113,
    "start_time": "2025-01-18T08:38:05.201Z"
   },
   {
    "duration": 22,
    "start_time": "2025-01-18T08:38:05.316Z"
   },
   {
    "duration": 24,
    "start_time": "2025-01-18T08:38:05.340Z"
   },
   {
    "duration": 47,
    "start_time": "2025-01-18T08:38:05.366Z"
   },
   {
    "duration": 53,
    "start_time": "2025-01-18T08:38:05.415Z"
   },
   {
    "duration": 777,
    "start_time": "2025-01-18T08:38:05.470Z"
   },
   {
    "duration": 610,
    "start_time": "2025-01-18T08:38:06.248Z"
   },
   {
    "duration": 6,
    "start_time": "2025-01-18T08:38:06.860Z"
   },
   {
    "duration": 20,
    "start_time": "2025-01-18T08:38:06.867Z"
   },
   {
    "duration": 60,
    "start_time": "2025-01-18T08:38:06.889Z"
   },
   {
    "duration": 11,
    "start_time": "2025-01-18T08:38:06.951Z"
   },
   {
    "duration": 191,
    "start_time": "2025-01-18T08:38:06.964Z"
   },
   {
    "duration": 31,
    "start_time": "2025-01-18T08:42:20.373Z"
   },
   {
    "duration": 21,
    "start_time": "2025-01-18T08:42:22.032Z"
   },
   {
    "duration": 40,
    "start_time": "2025-01-18T08:42:24.047Z"
   },
   {
    "duration": 31,
    "start_time": "2025-01-18T08:44:10.659Z"
   },
   {
    "duration": 17,
    "start_time": "2025-01-18T08:44:11.858Z"
   },
   {
    "duration": 37,
    "start_time": "2025-01-18T08:44:12.716Z"
   },
   {
    "duration": 40,
    "start_time": "2025-01-18T08:44:22.003Z"
   },
   {
    "duration": 16,
    "start_time": "2025-01-18T08:44:23.059Z"
   },
   {
    "duration": 42,
    "start_time": "2025-01-18T08:44:23.712Z"
   },
   {
    "duration": 36,
    "start_time": "2025-01-18T08:44:57.301Z"
   },
   {
    "duration": 18,
    "start_time": "2025-01-18T08:44:58.784Z"
   },
   {
    "duration": 41,
    "start_time": "2025-01-18T08:44:59.708Z"
   },
   {
    "duration": 3868,
    "start_time": "2025-01-18T08:49:11.775Z"
   },
   {
    "duration": 2226,
    "start_time": "2025-01-18T08:49:15.645Z"
   },
   {
    "duration": 13,
    "start_time": "2025-01-18T08:49:17.873Z"
   },
   {
    "duration": 12,
    "start_time": "2025-01-18T08:49:17.888Z"
   },
   {
    "duration": 95,
    "start_time": "2025-01-18T08:49:17.902Z"
   },
   {
    "duration": 31,
    "start_time": "2025-01-18T08:49:17.999Z"
   },
   {
    "duration": 4,
    "start_time": "2025-01-18T08:49:18.032Z"
   },
   {
    "duration": 25,
    "start_time": "2025-01-18T08:49:18.038Z"
   },
   {
    "duration": 24,
    "start_time": "2025-01-18T08:49:18.065Z"
   },
   {
    "duration": 7,
    "start_time": "2025-01-18T08:49:18.092Z"
   },
   {
    "duration": 49,
    "start_time": "2025-01-18T08:49:18.101Z"
   },
   {
    "duration": 8,
    "start_time": "2025-01-18T08:49:18.152Z"
   },
   {
    "duration": 40,
    "start_time": "2025-01-18T08:49:18.162Z"
   },
   {
    "duration": 29,
    "start_time": "2025-01-18T08:49:18.203Z"
   },
   {
    "duration": 13,
    "start_time": "2025-01-18T08:49:18.234Z"
   },
   {
    "duration": 10,
    "start_time": "2025-01-18T08:49:18.248Z"
   },
   {
    "duration": 9,
    "start_time": "2025-01-18T08:49:18.260Z"
   },
   {
    "duration": 8,
    "start_time": "2025-01-18T08:49:18.270Z"
   },
   {
    "duration": 19,
    "start_time": "2025-01-18T08:49:18.279Z"
   },
   {
    "duration": 531,
    "start_time": "2025-01-18T08:49:18.299Z"
   },
   {
    "duration": 20,
    "start_time": "2025-01-18T08:49:18.832Z"
   },
   {
    "duration": 45,
    "start_time": "2025-01-18T08:49:18.853Z"
   },
   {
    "duration": 17,
    "start_time": "2025-01-18T08:49:18.900Z"
   },
   {
    "duration": 17,
    "start_time": "2025-01-18T08:49:18.918Z"
   },
   {
    "duration": 71,
    "start_time": "2025-01-18T08:49:18.937Z"
   },
   {
    "duration": 52,
    "start_time": "2025-01-18T08:49:19.010Z"
   },
   {
    "duration": 166,
    "start_time": "2025-01-18T08:49:19.064Z"
   },
   {
    "duration": 18,
    "start_time": "2025-01-18T08:49:19.234Z"
   },
   {
    "duration": 702,
    "start_time": "2025-01-18T08:49:19.254Z"
   },
   {
    "duration": 8,
    "start_time": "2025-01-18T08:49:19.958Z"
   },
   {
    "duration": 14,
    "start_time": "2025-01-18T08:49:19.968Z"
   },
   {
    "duration": 163,
    "start_time": "2025-01-18T08:49:19.984Z"
   },
   {
    "duration": 5,
    "start_time": "2025-01-18T08:49:20.148Z"
   },
   {
    "duration": 20,
    "start_time": "2025-01-18T08:49:20.155Z"
   },
   {
    "duration": 17,
    "start_time": "2025-01-18T08:49:20.177Z"
   },
   {
    "duration": 10,
    "start_time": "2025-01-18T08:49:20.195Z"
   },
   {
    "duration": 84,
    "start_time": "2025-01-18T08:49:20.207Z"
   },
   {
    "duration": 20,
    "start_time": "2025-01-18T08:49:20.293Z"
   },
   {
    "duration": 25,
    "start_time": "2025-01-18T08:49:20.315Z"
   },
   {
    "duration": 34,
    "start_time": "2025-01-18T08:49:20.342Z"
   },
   {
    "duration": 10,
    "start_time": "2025-01-18T08:49:20.378Z"
   },
   {
    "duration": 109,
    "start_time": "2025-01-18T08:49:20.390Z"
   },
   {
    "duration": 321,
    "start_time": "2025-01-18T08:49:20.501Z"
   },
   {
    "duration": 202,
    "start_time": "2025-01-18T08:49:20.824Z"
   },
   {
    "duration": 14,
    "start_time": "2025-01-18T08:49:21.028Z"
   },
   {
    "duration": 86,
    "start_time": "2025-01-18T08:49:21.044Z"
   },
   {
    "duration": 69,
    "start_time": "2025-01-18T08:49:21.132Z"
   },
   {
    "duration": 199,
    "start_time": "2025-01-18T08:49:21.202Z"
   },
   {
    "duration": 16,
    "start_time": "2025-01-18T08:49:21.403Z"
   },
   {
    "duration": 127,
    "start_time": "2025-01-18T08:49:21.431Z"
   },
   {
    "duration": 11,
    "start_time": "2025-01-18T08:49:21.560Z"
   },
   {
    "duration": 17,
    "start_time": "2025-01-18T08:49:21.572Z"
   },
   {
    "duration": 157,
    "start_time": "2025-01-18T08:49:21.590Z"
   },
   {
    "duration": 225,
    "start_time": "2025-01-18T08:49:21.749Z"
   },
   {
    "duration": 143,
    "start_time": "2025-01-18T08:49:21.976Z"
   },
   {
    "duration": 154,
    "start_time": "2025-01-18T08:49:22.121Z"
   },
   {
    "duration": 10,
    "start_time": "2025-01-18T08:49:22.277Z"
   },
   {
    "duration": 17,
    "start_time": "2025-01-18T08:49:22.288Z"
   },
   {
    "duration": 9,
    "start_time": "2025-01-18T08:49:22.307Z"
   },
   {
    "duration": 31,
    "start_time": "2025-01-18T08:49:22.318Z"
   },
   {
    "duration": 17,
    "start_time": "2025-01-18T08:49:22.351Z"
   },
   {
    "duration": 11,
    "start_time": "2025-01-18T08:49:22.370Z"
   },
   {
    "duration": 101,
    "start_time": "2025-01-18T08:49:22.383Z"
   },
   {
    "duration": 111,
    "start_time": "2025-01-18T08:49:22.486Z"
   },
   {
    "duration": 29,
    "start_time": "2025-01-18T08:49:22.598Z"
   },
   {
    "duration": 58,
    "start_time": "2025-01-18T08:49:22.628Z"
   },
   {
    "duration": 89,
    "start_time": "2025-01-18T08:49:22.688Z"
   },
   {
    "duration": 15,
    "start_time": "2025-01-18T08:49:22.779Z"
   },
   {
    "duration": 158,
    "start_time": "2025-01-18T08:49:22.795Z"
   },
   {
    "duration": 27,
    "start_time": "2025-01-18T08:49:22.954Z"
   },
   {
    "duration": 84,
    "start_time": "2025-01-18T08:49:22.983Z"
   },
   {
    "duration": 245,
    "start_time": "2025-01-18T08:49:23.068Z"
   },
   {
    "duration": 268,
    "start_time": "2025-01-18T08:49:23.315Z"
   },
   {
    "duration": 2,
    "start_time": "2025-01-18T08:49:23.585Z"
   },
   {
    "duration": 103,
    "start_time": "2025-01-18T08:49:23.588Z"
   },
   {
    "duration": 15,
    "start_time": "2025-01-18T08:49:23.693Z"
   },
   {
    "duration": 119,
    "start_time": "2025-01-18T08:49:23.710Z"
   },
   {
    "duration": 7,
    "start_time": "2025-01-18T08:49:23.831Z"
   },
   {
    "duration": 5,
    "start_time": "2025-01-18T08:49:23.840Z"
   },
   {
    "duration": 189,
    "start_time": "2025-01-18T08:49:23.847Z"
   },
   {
    "duration": 177,
    "start_time": "2025-01-18T08:49:24.038Z"
   },
   {
    "duration": 92,
    "start_time": "2025-01-18T08:49:24.230Z"
   },
   {
    "duration": 15,
    "start_time": "2025-01-18T08:49:24.331Z"
   },
   {
    "duration": 7,
    "start_time": "2025-01-18T08:49:24.348Z"
   },
   {
    "duration": 37,
    "start_time": "2025-01-18T08:49:24.357Z"
   },
   {
    "duration": 110,
    "start_time": "2025-01-18T08:49:24.396Z"
   },
   {
    "duration": 719,
    "start_time": "2025-01-18T08:49:24.508Z"
   },
   {
    "duration": 618,
    "start_time": "2025-01-18T08:49:25.228Z"
   },
   {
    "duration": 6,
    "start_time": "2025-01-18T08:49:25.848Z"
   },
   {
    "duration": 5,
    "start_time": "2025-01-18T08:49:25.855Z"
   },
   {
    "duration": 28,
    "start_time": "2025-01-18T08:49:25.861Z"
   },
   {
    "duration": 18,
    "start_time": "2025-01-18T08:49:25.891Z"
   },
   {
    "duration": 228,
    "start_time": "2025-01-18T08:49:25.911Z"
   },
   {
    "duration": 109,
    "start_time": "2025-01-18T08:51:19.151Z"
   },
   {
    "duration": 2,
    "start_time": "2025-01-18T08:55:18.103Z"
   },
   {
    "duration": 4,
    "start_time": "2025-01-18T08:55:25.299Z"
   },
   {
    "duration": 118,
    "start_time": "2025-01-18T09:00:15.346Z"
   },
   {
    "duration": 18,
    "start_time": "2025-01-18T09:00:52.848Z"
   },
   {
    "duration": 22,
    "start_time": "2025-01-18T09:01:31.927Z"
   },
   {
    "duration": 20,
    "start_time": "2025-01-18T09:01:44.630Z"
   },
   {
    "duration": 20,
    "start_time": "2025-01-18T09:02:01.695Z"
   },
   {
    "duration": 13,
    "start_time": "2025-01-18T09:03:25.653Z"
   },
   {
    "duration": 13,
    "start_time": "2025-01-18T09:03:32.995Z"
   },
   {
    "duration": 26,
    "start_time": "2025-01-18T09:04:10.420Z"
   },
   {
    "duration": 12,
    "start_time": "2025-01-18T09:04:12.450Z"
   },
   {
    "duration": 5,
    "start_time": "2025-01-18T09:04:14.126Z"
   },
   {
    "duration": 172,
    "start_time": "2025-01-18T09:04:22.608Z"
   },
   {
    "duration": 3900,
    "start_time": "2025-01-18T09:05:04.243Z"
   },
   {
    "duration": 1964,
    "start_time": "2025-01-18T09:05:08.145Z"
   },
   {
    "duration": 14,
    "start_time": "2025-01-18T09:05:10.111Z"
   },
   {
    "duration": 23,
    "start_time": "2025-01-18T09:05:10.127Z"
   },
   {
    "duration": 101,
    "start_time": "2025-01-18T09:05:10.151Z"
   },
   {
    "duration": 25,
    "start_time": "2025-01-18T09:05:10.254Z"
   },
   {
    "duration": 12,
    "start_time": "2025-01-18T09:05:10.280Z"
   },
   {
    "duration": 28,
    "start_time": "2025-01-18T09:05:10.294Z"
   },
   {
    "duration": 40,
    "start_time": "2025-01-18T09:05:10.330Z"
   },
   {
    "duration": 12,
    "start_time": "2025-01-18T09:05:10.373Z"
   },
   {
    "duration": 41,
    "start_time": "2025-01-18T09:05:10.387Z"
   },
   {
    "duration": 19,
    "start_time": "2025-01-18T09:05:10.430Z"
   },
   {
    "duration": 60,
    "start_time": "2025-01-18T09:05:10.451Z"
   },
   {
    "duration": 15,
    "start_time": "2025-01-18T09:05:10.513Z"
   },
   {
    "duration": 33,
    "start_time": "2025-01-18T09:05:10.530Z"
   },
   {
    "duration": 21,
    "start_time": "2025-01-18T09:05:10.565Z"
   },
   {
    "duration": 22,
    "start_time": "2025-01-18T09:05:10.588Z"
   },
   {
    "duration": 9,
    "start_time": "2025-01-18T09:05:10.612Z"
   },
   {
    "duration": 18,
    "start_time": "2025-01-18T09:05:10.622Z"
   },
   {
    "duration": 543,
    "start_time": "2025-01-18T09:05:10.642Z"
   },
   {
    "duration": 19,
    "start_time": "2025-01-18T09:05:11.187Z"
   },
   {
    "duration": 32,
    "start_time": "2025-01-18T09:05:11.208Z"
   },
   {
    "duration": 25,
    "start_time": "2025-01-18T09:05:11.242Z"
   },
   {
    "duration": 29,
    "start_time": "2025-01-18T09:05:11.269Z"
   },
   {
    "duration": 100,
    "start_time": "2025-01-18T09:05:11.300Z"
   },
   {
    "duration": 50,
    "start_time": "2025-01-18T09:05:11.402Z"
   },
   {
    "duration": 173,
    "start_time": "2025-01-18T09:05:11.454Z"
   },
   {
    "duration": 17,
    "start_time": "2025-01-18T09:05:11.631Z"
   },
   {
    "duration": 791,
    "start_time": "2025-01-18T09:05:11.650Z"
   },
   {
    "duration": 8,
    "start_time": "2025-01-18T09:05:12.443Z"
   },
   {
    "duration": 19,
    "start_time": "2025-01-18T09:05:12.452Z"
   },
   {
    "duration": 151,
    "start_time": "2025-01-18T09:05:12.472Z"
   },
   {
    "duration": 6,
    "start_time": "2025-01-18T09:05:12.626Z"
   },
   {
    "duration": 32,
    "start_time": "2025-01-18T09:05:12.634Z"
   },
   {
    "duration": 36,
    "start_time": "2025-01-18T09:05:12.668Z"
   },
   {
    "duration": 32,
    "start_time": "2025-01-18T09:05:12.706Z"
   },
   {
    "duration": 114,
    "start_time": "2025-01-18T09:05:12.740Z"
   },
   {
    "duration": 22,
    "start_time": "2025-01-18T09:05:12.856Z"
   },
   {
    "duration": 85,
    "start_time": "2025-01-18T09:05:12.880Z"
   },
   {
    "duration": 55,
    "start_time": "2025-01-18T09:05:12.967Z"
   },
   {
    "duration": 11,
    "start_time": "2025-01-18T09:05:13.024Z"
   },
   {
    "duration": 38,
    "start_time": "2025-01-18T09:05:13.037Z"
   },
   {
    "duration": 318,
    "start_time": "2025-01-18T09:05:13.077Z"
   },
   {
    "duration": 200,
    "start_time": "2025-01-18T09:05:13.396Z"
   },
   {
    "duration": 12,
    "start_time": "2025-01-18T09:05:13.598Z"
   },
   {
    "duration": 141,
    "start_time": "2025-01-18T09:05:13.612Z"
   },
   {
    "duration": 68,
    "start_time": "2025-01-18T09:05:13.755Z"
   },
   {
    "duration": 204,
    "start_time": "2025-01-18T09:05:13.830Z"
   },
   {
    "duration": 17,
    "start_time": "2025-01-18T09:05:14.036Z"
   },
   {
    "duration": 137,
    "start_time": "2025-01-18T09:05:14.054Z"
   },
   {
    "duration": 12,
    "start_time": "2025-01-18T09:05:14.193Z"
   },
   {
    "duration": 34,
    "start_time": "2025-01-18T09:05:14.206Z"
   },
   {
    "duration": 93,
    "start_time": "2025-01-18T09:05:14.242Z"
   },
   {
    "duration": 231,
    "start_time": "2025-01-18T09:05:14.337Z"
   },
   {
    "duration": 144,
    "start_time": "2025-01-18T09:05:14.570Z"
   },
   {
    "duration": 154,
    "start_time": "2025-01-18T09:05:14.715Z"
   },
   {
    "duration": 9,
    "start_time": "2025-01-18T09:05:14.872Z"
   },
   {
    "duration": 103,
    "start_time": "2025-01-18T09:05:14.883Z"
   },
   {
    "duration": 55,
    "start_time": "2025-01-18T09:05:14.988Z"
   },
   {
    "duration": 57,
    "start_time": "2025-01-18T09:05:15.045Z"
   },
   {
    "duration": 30,
    "start_time": "2025-01-18T09:05:15.103Z"
   },
   {
    "duration": 36,
    "start_time": "2025-01-18T09:05:15.135Z"
   },
   {
    "duration": 94,
    "start_time": "2025-01-18T09:05:15.172Z"
   },
   {
    "duration": 88,
    "start_time": "2025-01-18T09:05:15.268Z"
   },
   {
    "duration": 28,
    "start_time": "2025-01-18T09:05:15.358Z"
   },
   {
    "duration": 86,
    "start_time": "2025-01-18T09:05:15.388Z"
   },
   {
    "duration": 112,
    "start_time": "2025-01-18T09:05:15.476Z"
   },
   {
    "duration": 16,
    "start_time": "2025-01-18T09:05:15.589Z"
   },
   {
    "duration": 108,
    "start_time": "2025-01-18T09:05:15.606Z"
   },
   {
    "duration": 43,
    "start_time": "2025-01-18T09:05:15.716Z"
   },
   {
    "duration": 79,
    "start_time": "2025-01-18T09:05:15.760Z"
   },
   {
    "duration": 291,
    "start_time": "2025-01-18T09:05:15.841Z"
   },
   {
    "duration": 283,
    "start_time": "2025-01-18T09:05:16.133Z"
   },
   {
    "duration": 2,
    "start_time": "2025-01-18T09:05:16.418Z"
   },
   {
    "duration": 56,
    "start_time": "2025-01-18T09:05:16.422Z"
   },
   {
    "duration": 24,
    "start_time": "2025-01-18T09:05:16.480Z"
   },
   {
    "duration": 103,
    "start_time": "2025-01-18T09:05:16.506Z"
   },
   {
    "duration": 9,
    "start_time": "2025-01-18T09:05:16.611Z"
   },
   {
    "duration": 11,
    "start_time": "2025-01-18T09:05:16.621Z"
   },
   {
    "duration": 201,
    "start_time": "2025-01-18T09:05:16.634Z"
   },
   {
    "duration": 180,
    "start_time": "2025-01-18T09:05:16.836Z"
   },
   {
    "duration": 117,
    "start_time": "2025-01-18T09:05:17.022Z"
   },
   {
    "duration": 14,
    "start_time": "2025-01-18T09:05:17.141Z"
   },
   {
    "duration": 39,
    "start_time": "2025-01-18T09:05:17.157Z"
   },
   {
    "duration": 29,
    "start_time": "2025-01-18T09:05:17.198Z"
   },
   {
    "duration": 19,
    "start_time": "2025-01-18T09:05:17.229Z"
   },
   {
    "duration": 29,
    "start_time": "2025-01-18T09:05:17.250Z"
   },
   {
    "duration": 702,
    "start_time": "2025-01-18T09:05:17.281Z"
   },
   {
    "duration": 590,
    "start_time": "2025-01-18T09:05:17.984Z"
   },
   {
    "duration": 5,
    "start_time": "2025-01-18T09:05:18.575Z"
   },
   {
    "duration": 43,
    "start_time": "2025-01-18T09:05:18.582Z"
   },
   {
    "duration": 36,
    "start_time": "2025-01-18T09:05:18.627Z"
   },
   {
    "duration": 13,
    "start_time": "2025-01-18T09:05:18.665Z"
   },
   {
    "duration": 19,
    "start_time": "2025-01-18T09:05:18.680Z"
   },
   {
    "duration": 189,
    "start_time": "2025-01-18T09:05:18.701Z"
   },
   {
    "duration": 2,
    "start_time": "2025-01-18T09:10:53.215Z"
   },
   {
    "duration": 2602,
    "start_time": "2025-01-18T09:11:01.991Z"
   },
   {
    "duration": 1228,
    "start_time": "2025-01-18T09:11:04.596Z"
   },
   {
    "duration": 2206,
    "start_time": "2025-01-18T09:11:05.826Z"
   },
   {
    "duration": 12,
    "start_time": "2025-01-18T09:11:08.034Z"
   },
   {
    "duration": 19,
    "start_time": "2025-01-18T09:11:08.048Z"
   },
   {
    "duration": 126,
    "start_time": "2025-01-18T09:11:08.069Z"
   },
   {
    "duration": 25,
    "start_time": "2025-01-18T09:11:08.197Z"
   },
   {
    "duration": 10,
    "start_time": "2025-01-18T09:11:08.224Z"
   },
   {
    "duration": 29,
    "start_time": "2025-01-18T09:11:08.236Z"
   },
   {
    "duration": 25,
    "start_time": "2025-01-18T09:11:08.268Z"
   },
   {
    "duration": 12,
    "start_time": "2025-01-18T09:11:08.295Z"
   },
   {
    "duration": 39,
    "start_time": "2025-01-18T09:11:08.309Z"
   },
   {
    "duration": 7,
    "start_time": "2025-01-18T09:11:08.350Z"
   },
   {
    "duration": 45,
    "start_time": "2025-01-18T09:11:08.359Z"
   },
   {
    "duration": 9,
    "start_time": "2025-01-18T09:11:08.406Z"
   },
   {
    "duration": 13,
    "start_time": "2025-01-18T09:11:08.431Z"
   },
   {
    "duration": 9,
    "start_time": "2025-01-18T09:11:08.446Z"
   },
   {
    "duration": 31,
    "start_time": "2025-01-18T09:11:08.456Z"
   },
   {
    "duration": 19,
    "start_time": "2025-01-18T09:11:08.488Z"
   },
   {
    "duration": 16,
    "start_time": "2025-01-18T09:11:08.509Z"
   },
   {
    "duration": 516,
    "start_time": "2025-01-18T09:11:08.527Z"
   },
   {
    "duration": 21,
    "start_time": "2025-01-18T09:11:09.045Z"
   },
   {
    "duration": 21,
    "start_time": "2025-01-18T09:11:09.068Z"
   },
   {
    "duration": 24,
    "start_time": "2025-01-18T09:11:09.090Z"
   },
   {
    "duration": 18,
    "start_time": "2025-01-18T09:11:09.130Z"
   },
   {
    "duration": 84,
    "start_time": "2025-01-18T09:11:09.149Z"
   },
   {
    "duration": 43,
    "start_time": "2025-01-18T09:11:09.235Z"
   },
   {
    "duration": 175,
    "start_time": "2025-01-18T09:11:09.283Z"
   },
   {
    "duration": 18,
    "start_time": "2025-01-18T09:11:09.459Z"
   },
   {
    "duration": 724,
    "start_time": "2025-01-18T09:11:09.479Z"
   },
   {
    "duration": 8,
    "start_time": "2025-01-18T09:11:10.205Z"
   },
   {
    "duration": 17,
    "start_time": "2025-01-18T09:11:10.214Z"
   },
   {
    "duration": 158,
    "start_time": "2025-01-18T09:11:10.233Z"
   },
   {
    "duration": 5,
    "start_time": "2025-01-18T09:11:10.393Z"
   },
   {
    "duration": 30,
    "start_time": "2025-01-18T09:11:10.400Z"
   },
   {
    "duration": 4,
    "start_time": "2025-01-18T09:11:10.432Z"
   },
   {
    "duration": 28,
    "start_time": "2025-01-18T09:11:10.438Z"
   },
   {
    "duration": 104,
    "start_time": "2025-01-18T09:11:10.468Z"
   },
   {
    "duration": 23,
    "start_time": "2025-01-18T09:11:10.574Z"
   },
   {
    "duration": 130,
    "start_time": "2025-01-18T09:11:10.599Z"
   },
   {
    "duration": 46,
    "start_time": "2025-01-18T09:11:10.730Z"
   },
   {
    "duration": 11,
    "start_time": "2025-01-18T09:11:10.778Z"
   },
   {
    "duration": 36,
    "start_time": "2025-01-18T09:11:10.790Z"
   },
   {
    "duration": 322,
    "start_time": "2025-01-18T09:11:10.828Z"
   },
   {
    "duration": 200,
    "start_time": "2025-01-18T09:11:11.152Z"
   },
   {
    "duration": 13,
    "start_time": "2025-01-18T09:11:11.353Z"
   },
   {
    "duration": 85,
    "start_time": "2025-01-18T09:11:11.368Z"
   },
   {
    "duration": 75,
    "start_time": "2025-01-18T09:11:11.455Z"
   },
   {
    "duration": 207,
    "start_time": "2025-01-18T09:11:11.532Z"
   },
   {
    "duration": 16,
    "start_time": "2025-01-18T09:11:11.741Z"
   },
   {
    "duration": 134,
    "start_time": "2025-01-18T09:11:11.759Z"
   },
   {
    "duration": 10,
    "start_time": "2025-01-18T09:11:11.894Z"
   },
   {
    "duration": 46,
    "start_time": "2025-01-18T09:11:11.905Z"
   },
   {
    "duration": 94,
    "start_time": "2025-01-18T09:11:11.952Z"
   },
   {
    "duration": 227,
    "start_time": "2025-01-18T09:11:12.048Z"
   },
   {
    "duration": 132,
    "start_time": "2025-01-18T09:11:12.277Z"
   },
   {
    "duration": 157,
    "start_time": "2025-01-18T09:11:12.410Z"
   },
   {
    "duration": 9,
    "start_time": "2025-01-18T09:11:12.569Z"
   },
   {
    "duration": 17,
    "start_time": "2025-01-18T09:11:12.579Z"
   },
   {
    "duration": 39,
    "start_time": "2025-01-18T09:11:12.598Z"
   },
   {
    "duration": 34,
    "start_time": "2025-01-18T09:11:12.639Z"
   },
   {
    "duration": 18,
    "start_time": "2025-01-18T09:11:12.675Z"
   },
   {
    "duration": 42,
    "start_time": "2025-01-18T09:11:12.695Z"
   },
   {
    "duration": 101,
    "start_time": "2025-01-18T09:11:12.738Z"
   },
   {
    "duration": 91,
    "start_time": "2025-01-18T09:11:12.841Z"
   },
   {
    "duration": 29,
    "start_time": "2025-01-18T09:11:12.934Z"
   },
   {
    "duration": 104,
    "start_time": "2025-01-18T09:11:12.965Z"
   },
   {
    "duration": 81,
    "start_time": "2025-01-18T09:11:13.070Z"
   },
   {
    "duration": 16,
    "start_time": "2025-01-18T09:11:13.152Z"
   },
   {
    "duration": 88,
    "start_time": "2025-01-18T09:11:13.169Z"
   },
   {
    "duration": 28,
    "start_time": "2025-01-18T09:11:13.259Z"
   },
   {
    "duration": 89,
    "start_time": "2025-01-18T09:11:13.288Z"
   },
   {
    "duration": 252,
    "start_time": "2025-01-18T09:11:13.379Z"
   },
   {
    "duration": 272,
    "start_time": "2025-01-18T09:11:13.632Z"
   },
   {
    "duration": 2,
    "start_time": "2025-01-18T09:11:13.906Z"
   },
   {
    "duration": 69,
    "start_time": "2025-01-18T09:11:13.910Z"
   },
   {
    "duration": 15,
    "start_time": "2025-01-18T09:11:13.980Z"
   },
   {
    "duration": 40,
    "start_time": "2025-01-18T09:11:13.997Z"
   },
   {
    "duration": 23,
    "start_time": "2025-01-18T09:11:14.039Z"
   },
   {
    "duration": 4,
    "start_time": "2025-01-18T09:11:14.064Z"
   },
   {
    "duration": 184,
    "start_time": "2025-01-18T09:11:14.070Z"
   },
   {
    "duration": 173,
    "start_time": "2025-01-18T09:11:14.260Z"
   },
   {
    "duration": 103,
    "start_time": "2025-01-18T09:11:14.435Z"
   },
   {
    "duration": 14,
    "start_time": "2025-01-18T09:11:14.540Z"
   },
   {
    "duration": 38,
    "start_time": "2025-01-18T09:11:14.555Z"
   },
   {
    "duration": 51,
    "start_time": "2025-01-18T09:11:14.595Z"
   },
   {
    "duration": 42,
    "start_time": "2025-01-18T09:11:14.647Z"
   },
   {
    "duration": 15,
    "start_time": "2025-01-18T09:11:14.691Z"
   },
   {
    "duration": 683,
    "start_time": "2025-01-18T09:11:14.708Z"
   },
   {
    "duration": 630,
    "start_time": "2025-01-18T09:11:15.392Z"
   },
   {
    "duration": 11,
    "start_time": "2025-01-18T09:11:16.024Z"
   },
   {
    "duration": 7,
    "start_time": "2025-01-18T09:11:16.038Z"
   },
   {
    "duration": 28,
    "start_time": "2025-01-18T09:11:16.047Z"
   },
   {
    "duration": 13,
    "start_time": "2025-01-18T09:11:16.077Z"
   },
   {
    "duration": 38,
    "start_time": "2025-01-18T09:11:16.092Z"
   },
   {
    "duration": 164,
    "start_time": "2025-01-18T09:11:16.132Z"
   },
   {
    "duration": 2047,
    "start_time": "2025-01-18T09:14:06.171Z"
   },
   {
    "duration": 44,
    "start_time": "2025-01-18T09:15:24.925Z"
   },
   {
    "duration": 994,
    "start_time": "2025-01-18T09:15:25.684Z"
   },
   {
    "duration": 284,
    "start_time": "2025-01-18T09:15:26.680Z"
   },
   {
    "duration": 195,
    "start_time": "2025-01-18T09:15:26.967Z"
   },
   {
    "duration": 288,
    "start_time": "2025-01-18T09:15:27.320Z"
   },
   {
    "duration": 61,
    "start_time": "2025-01-18T09:15:27.611Z"
   },
   {
    "duration": 85,
    "start_time": "2025-01-18T09:15:27.813Z"
   },
   {
    "duration": 2554,
    "start_time": "2025-01-18T09:27:33.019Z"
   },
   {
    "duration": 1236,
    "start_time": "2025-01-18T09:27:35.575Z"
   },
   {
    "duration": 61,
    "start_time": "2025-01-18T09:27:36.812Z"
   },
   {
    "duration": 1291,
    "start_time": "2025-01-18T09:27:36.875Z"
   },
   {
    "duration": 213,
    "start_time": "2025-01-18T09:27:38.168Z"
   },
   {
    "duration": 272,
    "start_time": "2025-01-18T09:27:38.383Z"
   },
   {
    "duration": 373,
    "start_time": "2025-01-18T09:27:38.657Z"
   },
   {
    "duration": 66,
    "start_time": "2025-01-18T09:27:39.031Z"
   },
   {
    "duration": 106,
    "start_time": "2025-01-18T09:27:39.099Z"
   },
   {
    "duration": 13,
    "start_time": "2025-01-18T09:27:39.208Z"
   },
   {
    "duration": 12,
    "start_time": "2025-01-18T09:27:39.223Z"
   },
   {
    "duration": 103,
    "start_time": "2025-01-18T09:27:39.237Z"
   },
   {
    "duration": 25,
    "start_time": "2025-01-18T09:27:39.342Z"
   },
   {
    "duration": 10,
    "start_time": "2025-01-18T09:27:39.369Z"
   },
   {
    "duration": 33,
    "start_time": "2025-01-18T09:27:39.381Z"
   },
   {
    "duration": 37,
    "start_time": "2025-01-18T09:27:39.416Z"
   },
   {
    "duration": 42,
    "start_time": "2025-01-18T09:27:39.455Z"
   },
   {
    "duration": 22,
    "start_time": "2025-01-18T09:27:39.498Z"
   },
   {
    "duration": 7,
    "start_time": "2025-01-18T09:27:39.522Z"
   },
   {
    "duration": 58,
    "start_time": "2025-01-18T09:27:39.531Z"
   },
   {
    "duration": 9,
    "start_time": "2025-01-18T09:27:39.591Z"
   },
   {
    "duration": 18,
    "start_time": "2025-01-18T09:27:39.602Z"
   },
   {
    "duration": 10,
    "start_time": "2025-01-18T09:27:39.621Z"
   },
   {
    "duration": 10,
    "start_time": "2025-01-18T09:27:39.633Z"
   },
   {
    "duration": 6,
    "start_time": "2025-01-18T09:27:39.645Z"
   },
   {
    "duration": 9,
    "start_time": "2025-01-18T09:27:39.653Z"
   },
   {
    "duration": 559,
    "start_time": "2025-01-18T09:27:39.664Z"
   },
   {
    "duration": 21,
    "start_time": "2025-01-18T09:27:40.229Z"
   },
   {
    "duration": 31,
    "start_time": "2025-01-18T09:27:40.251Z"
   },
   {
    "duration": 33,
    "start_time": "2025-01-18T09:27:40.284Z"
   },
   {
    "duration": 25,
    "start_time": "2025-01-18T09:27:40.318Z"
   },
   {
    "duration": 94,
    "start_time": "2025-01-18T09:27:40.345Z"
   },
   {
    "duration": 42,
    "start_time": "2025-01-18T09:27:40.441Z"
   },
   {
    "duration": 175,
    "start_time": "2025-01-18T09:27:40.485Z"
   },
   {
    "duration": 18,
    "start_time": "2025-01-18T09:27:40.662Z"
   },
   {
    "duration": 714,
    "start_time": "2025-01-18T09:27:40.683Z"
   },
   {
    "duration": 7,
    "start_time": "2025-01-18T09:27:41.399Z"
   },
   {
    "duration": 35,
    "start_time": "2025-01-18T09:27:41.408Z"
   },
   {
    "duration": 174,
    "start_time": "2025-01-18T09:27:41.445Z"
   },
   {
    "duration": 9,
    "start_time": "2025-01-18T09:27:41.621Z"
   },
   {
    "duration": 43,
    "start_time": "2025-01-18T09:27:41.631Z"
   },
   {
    "duration": 92,
    "start_time": "2025-01-18T09:27:41.676Z"
   },
   {
    "duration": 25,
    "start_time": "2025-01-18T09:27:41.770Z"
   },
   {
    "duration": 87,
    "start_time": "2025-01-18T09:27:41.797Z"
   },
   {
    "duration": 21,
    "start_time": "2025-01-18T09:27:41.886Z"
   },
   {
    "duration": 87,
    "start_time": "2025-01-18T09:27:41.909Z"
   },
   {
    "duration": 51,
    "start_time": "2025-01-18T09:27:41.999Z"
   },
   {
    "duration": 36,
    "start_time": "2025-01-18T09:27:42.052Z"
   },
   {
    "duration": 28,
    "start_time": "2025-01-18T09:27:42.090Z"
   },
   {
    "duration": 313,
    "start_time": "2025-01-18T09:27:42.120Z"
   },
   {
    "duration": 208,
    "start_time": "2025-01-18T09:27:42.434Z"
   },
   {
    "duration": 13,
    "start_time": "2025-01-18T09:27:42.643Z"
   },
   {
    "duration": 85,
    "start_time": "2025-01-18T09:27:42.658Z"
   },
   {
    "duration": 67,
    "start_time": "2025-01-18T09:27:42.745Z"
   },
   {
    "duration": 205,
    "start_time": "2025-01-18T09:27:42.814Z"
   },
   {
    "duration": 20,
    "start_time": "2025-01-18T09:27:43.021Z"
   },
   {
    "duration": 141,
    "start_time": "2025-01-18T09:27:43.042Z"
   },
   {
    "duration": 14,
    "start_time": "2025-01-18T09:27:43.184Z"
   },
   {
    "duration": 16,
    "start_time": "2025-01-18T09:27:43.200Z"
   },
   {
    "duration": 95,
    "start_time": "2025-01-18T09:27:43.217Z"
   },
   {
    "duration": 209,
    "start_time": "2025-01-18T09:27:43.314Z"
   },
   {
    "duration": 128,
    "start_time": "2025-01-18T09:27:43.525Z"
   },
   {
    "duration": 144,
    "start_time": "2025-01-18T09:27:43.655Z"
   },
   {
    "duration": 9,
    "start_time": "2025-01-18T09:27:43.801Z"
   },
   {
    "duration": 22,
    "start_time": "2025-01-18T09:27:43.811Z"
   },
   {
    "duration": 35,
    "start_time": "2025-01-18T09:27:43.834Z"
   },
   {
    "duration": 38,
    "start_time": "2025-01-18T09:27:43.871Z"
   },
   {
    "duration": 96,
    "start_time": "2025-01-18T09:27:43.911Z"
   },
   {
    "duration": 44,
    "start_time": "2025-01-18T09:27:44.009Z"
   },
   {
    "duration": 99,
    "start_time": "2025-01-18T09:27:44.055Z"
   },
   {
    "duration": 85,
    "start_time": "2025-01-18T09:27:44.156Z"
   },
   {
    "duration": 30,
    "start_time": "2025-01-18T09:27:44.242Z"
   },
   {
    "duration": 71,
    "start_time": "2025-01-18T09:27:44.274Z"
   },
   {
    "duration": 83,
    "start_time": "2025-01-18T09:27:44.347Z"
   },
   {
    "duration": 16,
    "start_time": "2025-01-18T09:27:44.432Z"
   },
   {
    "duration": 90,
    "start_time": "2025-01-18T09:27:44.450Z"
   },
   {
    "duration": 28,
    "start_time": "2025-01-18T09:27:44.542Z"
   },
   {
    "duration": 133,
    "start_time": "2025-01-18T09:27:44.571Z"
   },
   {
    "duration": 260,
    "start_time": "2025-01-18T09:27:44.705Z"
   },
   {
    "duration": 287,
    "start_time": "2025-01-18T09:27:44.967Z"
   },
   {
    "duration": 2,
    "start_time": "2025-01-18T09:27:45.256Z"
   },
   {
    "duration": 40,
    "start_time": "2025-01-18T09:27:45.264Z"
   },
   {
    "duration": 25,
    "start_time": "2025-01-18T09:27:45.306Z"
   },
   {
    "duration": 46,
    "start_time": "2025-01-18T09:27:45.333Z"
   },
   {
    "duration": 8,
    "start_time": "2025-01-18T09:27:45.380Z"
   },
   {
    "duration": 13,
    "start_time": "2025-01-18T09:27:45.390Z"
   },
   {
    "duration": 196,
    "start_time": "2025-01-18T09:27:45.404Z"
   },
   {
    "duration": 181,
    "start_time": "2025-01-18T09:27:45.602Z"
   },
   {
    "duration": 105,
    "start_time": "2025-01-18T09:27:45.784Z"
   },
   {
    "duration": 13,
    "start_time": "2025-01-18T09:27:45.890Z"
   },
   {
    "duration": 129,
    "start_time": "2025-01-18T09:27:45.905Z"
   },
   {
    "duration": 41,
    "start_time": "2025-01-18T09:27:46.036Z"
   },
   {
    "duration": 10,
    "start_time": "2025-01-18T09:27:46.079Z"
   },
   {
    "duration": 39,
    "start_time": "2025-01-18T09:27:46.091Z"
   },
   {
    "duration": 718,
    "start_time": "2025-01-18T09:27:46.133Z"
   },
   {
    "duration": 583,
    "start_time": "2025-01-18T09:27:46.853Z"
   },
   {
    "duration": 7,
    "start_time": "2025-01-18T09:27:47.438Z"
   },
   {
    "duration": 9,
    "start_time": "2025-01-18T09:27:47.447Z"
   },
   {
    "duration": 45,
    "start_time": "2025-01-18T09:27:47.458Z"
   },
   {
    "duration": 13,
    "start_time": "2025-01-18T09:27:47.505Z"
   },
   {
    "duration": 11,
    "start_time": "2025-01-18T09:27:47.520Z"
   },
   {
    "duration": 169,
    "start_time": "2025-01-18T09:27:47.534Z"
   },
   {
    "duration": 16,
    "start_time": "2025-01-18T09:33:35.878Z"
   },
   {
    "duration": 240,
    "start_time": "2025-01-18T09:33:37.956Z"
   },
   {
    "duration": 15,
    "start_time": "2025-01-18T09:33:40.491Z"
   },
   {
    "duration": 161,
    "start_time": "2025-01-18T09:33:41.350Z"
   },
   {
    "duration": 16,
    "start_time": "2025-01-18T09:35:01.176Z"
   },
   {
    "duration": 213,
    "start_time": "2025-01-18T09:35:03.332Z"
   },
   {
    "duration": 20,
    "start_time": "2025-01-18T09:35:05.380Z"
   },
   {
    "duration": 153,
    "start_time": "2025-01-18T09:35:06.106Z"
   },
   {
    "duration": 1179,
    "start_time": "2025-01-18T09:35:55.162Z"
   },
   {
    "duration": 163,
    "start_time": "2025-01-18T09:36:08.867Z"
   },
   {
    "duration": 279,
    "start_time": "2025-01-18T09:37:27.690Z"
   },
   {
    "duration": 14,
    "start_time": "2025-01-18T09:39:52.635Z"
   },
   {
    "duration": 199,
    "start_time": "2025-01-18T09:39:53.819Z"
   },
   {
    "duration": 19,
    "start_time": "2025-01-18T09:39:54.635Z"
   },
   {
    "duration": 156,
    "start_time": "2025-01-18T09:39:54.923Z"
   },
   {
    "duration": 160,
    "start_time": "2025-01-18T09:40:28.765Z"
   },
   {
    "duration": 23,
    "start_time": "2025-01-18T09:43:09.249Z"
   },
   {
    "duration": 572,
    "start_time": "2025-01-18T09:58:30.014Z"
   },
   {
    "duration": 611,
    "start_time": "2025-01-18T09:58:43.590Z"
   },
   {
    "duration": 532,
    "start_time": "2025-01-18T09:59:06.708Z"
   },
   {
    "duration": 675,
    "start_time": "2025-01-18T09:59:17.997Z"
   },
   {
    "duration": 593,
    "start_time": "2025-01-18T10:00:36.693Z"
   },
   {
    "duration": 2589,
    "start_time": "2025-01-18T10:02:07.899Z"
   },
   {
    "duration": 1214,
    "start_time": "2025-01-18T10:02:10.491Z"
   },
   {
    "duration": 47,
    "start_time": "2025-01-18T10:02:11.707Z"
   },
   {
    "duration": 1044,
    "start_time": "2025-01-18T10:02:11.756Z"
   },
   {
    "duration": 234,
    "start_time": "2025-01-18T10:02:12.801Z"
   },
   {
    "duration": 753,
    "start_time": "2025-01-18T10:02:13.036Z"
   },
   {
    "duration": 325,
    "start_time": "2025-01-18T10:02:13.791Z"
   },
   {
    "duration": 60,
    "start_time": "2025-01-18T10:02:14.117Z"
   },
   {
    "duration": 78,
    "start_time": "2025-01-18T10:02:14.179Z"
   },
   {
    "duration": 13,
    "start_time": "2025-01-18T10:02:14.261Z"
   },
   {
    "duration": 13,
    "start_time": "2025-01-18T10:02:14.276Z"
   },
   {
    "duration": 120,
    "start_time": "2025-01-18T10:02:14.291Z"
   },
   {
    "duration": 30,
    "start_time": "2025-01-18T10:02:14.412Z"
   },
   {
    "duration": 12,
    "start_time": "2025-01-18T10:02:14.444Z"
   },
   {
    "duration": 22,
    "start_time": "2025-01-18T10:02:14.457Z"
   },
   {
    "duration": 24,
    "start_time": "2025-01-18T10:02:14.481Z"
   },
   {
    "duration": 28,
    "start_time": "2025-01-18T10:02:14.507Z"
   },
   {
    "duration": 21,
    "start_time": "2025-01-18T10:02:14.537Z"
   },
   {
    "duration": 9,
    "start_time": "2025-01-18T10:02:14.559Z"
   },
   {
    "duration": 62,
    "start_time": "2025-01-18T10:02:14.570Z"
   },
   {
    "duration": 11,
    "start_time": "2025-01-18T10:02:14.634Z"
   },
   {
    "duration": 109,
    "start_time": "2025-01-18T10:02:14.647Z"
   },
   {
    "duration": 10,
    "start_time": "2025-01-18T10:02:14.758Z"
   },
   {
    "duration": 24,
    "start_time": "2025-01-18T10:02:14.769Z"
   },
   {
    "duration": 7,
    "start_time": "2025-01-18T10:02:14.794Z"
   },
   {
    "duration": 14,
    "start_time": "2025-01-18T10:02:14.802Z"
   },
   {
    "duration": 539,
    "start_time": "2025-01-18T10:02:14.818Z"
   },
   {
    "duration": 19,
    "start_time": "2025-01-18T10:02:15.362Z"
   },
   {
    "duration": 39,
    "start_time": "2025-01-18T10:02:15.383Z"
   },
   {
    "duration": 43,
    "start_time": "2025-01-18T10:02:15.424Z"
   },
   {
    "duration": 16,
    "start_time": "2025-01-18T10:02:15.469Z"
   },
   {
    "duration": 84,
    "start_time": "2025-01-18T10:02:15.487Z"
   },
   {
    "duration": 45,
    "start_time": "2025-01-18T10:02:15.573Z"
   },
   {
    "duration": 184,
    "start_time": "2025-01-18T10:02:15.620Z"
   },
   {
    "duration": 27,
    "start_time": "2025-01-18T10:02:15.806Z"
   },
   {
    "duration": 763,
    "start_time": "2025-01-18T10:02:15.834Z"
   },
   {
    "duration": 8,
    "start_time": "2025-01-18T10:02:16.599Z"
   },
   {
    "duration": 38,
    "start_time": "2025-01-18T10:02:16.609Z"
   },
   {
    "duration": 241,
    "start_time": "2025-01-18T10:02:16.649Z"
   },
   {
    "duration": 6,
    "start_time": "2025-01-18T10:02:16.892Z"
   },
   {
    "duration": 31,
    "start_time": "2025-01-18T10:02:16.899Z"
   },
   {
    "duration": 5,
    "start_time": "2025-01-18T10:02:16.932Z"
   },
   {
    "duration": 9,
    "start_time": "2025-01-18T10:02:16.938Z"
   },
   {
    "duration": 96,
    "start_time": "2025-01-18T10:02:16.948Z"
   },
   {
    "duration": 21,
    "start_time": "2025-01-18T10:02:17.045Z"
   },
   {
    "duration": 17,
    "start_time": "2025-01-18T10:02:17.067Z"
   },
   {
    "duration": 51,
    "start_time": "2025-01-18T10:02:17.086Z"
   },
   {
    "duration": 11,
    "start_time": "2025-01-18T10:02:17.139Z"
   },
   {
    "duration": 122,
    "start_time": "2025-01-18T10:02:17.152Z"
   },
   {
    "duration": 315,
    "start_time": "2025-01-18T10:02:17.276Z"
   },
   {
    "duration": 213,
    "start_time": "2025-01-18T10:02:17.593Z"
   },
   {
    "duration": 13,
    "start_time": "2025-01-18T10:02:17.807Z"
   },
   {
    "duration": 76,
    "start_time": "2025-01-18T10:02:17.829Z"
   },
   {
    "duration": 81,
    "start_time": "2025-01-18T10:02:17.907Z"
   },
   {
    "duration": 206,
    "start_time": "2025-01-18T10:02:17.990Z"
   },
   {
    "duration": 17,
    "start_time": "2025-01-18T10:02:18.198Z"
   },
   {
    "duration": 137,
    "start_time": "2025-01-18T10:02:18.217Z"
   },
   {
    "duration": 13,
    "start_time": "2025-01-18T10:02:18.356Z"
   },
   {
    "duration": 23,
    "start_time": "2025-01-18T10:02:18.370Z"
   },
   {
    "duration": 108,
    "start_time": "2025-01-18T10:02:18.395Z"
   },
   {
    "duration": 228,
    "start_time": "2025-01-18T10:02:18.505Z"
   },
   {
    "duration": 145,
    "start_time": "2025-01-18T10:02:18.735Z"
   },
   {
    "duration": 174,
    "start_time": "2025-01-18T10:02:18.882Z"
   },
   {
    "duration": 9,
    "start_time": "2025-01-18T10:02:19.058Z"
   },
   {
    "duration": 9,
    "start_time": "2025-01-18T10:02:19.070Z"
   },
   {
    "duration": 9,
    "start_time": "2025-01-18T10:02:19.081Z"
   },
   {
    "duration": 45,
    "start_time": "2025-01-18T10:02:19.092Z"
   },
   {
    "duration": 18,
    "start_time": "2025-01-18T10:02:19.139Z"
   },
   {
    "duration": 98,
    "start_time": "2025-01-18T10:02:19.159Z"
   },
   {
    "duration": 94,
    "start_time": "2025-01-18T10:02:19.259Z"
   },
   {
    "duration": 88,
    "start_time": "2025-01-18T10:02:19.355Z"
   },
   {
    "duration": 30,
    "start_time": "2025-01-18T10:02:19.445Z"
   },
   {
    "duration": 70,
    "start_time": "2025-01-18T10:02:19.476Z"
   },
   {
    "duration": 83,
    "start_time": "2025-01-18T10:02:19.547Z"
   },
   {
    "duration": 16,
    "start_time": "2025-01-18T10:02:19.631Z"
   },
   {
    "duration": 116,
    "start_time": "2025-01-18T10:02:19.649Z"
   },
   {
    "duration": 30,
    "start_time": "2025-01-18T10:02:19.767Z"
   },
   {
    "duration": 86,
    "start_time": "2025-01-18T10:02:19.799Z"
   },
   {
    "duration": 274,
    "start_time": "2025-01-18T10:02:19.887Z"
   },
   {
    "duration": 279,
    "start_time": "2025-01-18T10:02:20.163Z"
   },
   {
    "duration": 2,
    "start_time": "2025-01-18T10:02:20.444Z"
   },
   {
    "duration": 34,
    "start_time": "2025-01-18T10:02:20.452Z"
   },
   {
    "duration": 16,
    "start_time": "2025-01-18T10:02:20.487Z"
   },
   {
    "duration": 82,
    "start_time": "2025-01-18T10:02:20.504Z"
   },
   {
    "duration": 9,
    "start_time": "2025-01-18T10:02:20.587Z"
   },
   {
    "duration": 10,
    "start_time": "2025-01-18T10:02:20.597Z"
   },
   {
    "duration": 183,
    "start_time": "2025-01-18T10:02:20.608Z"
   },
   {
    "duration": 171,
    "start_time": "2025-01-18T10:02:20.794Z"
   },
   {
    "duration": 112,
    "start_time": "2025-01-18T10:02:20.966Z"
   },
   {
    "duration": 13,
    "start_time": "2025-01-18T10:02:21.079Z"
   },
   {
    "duration": 23,
    "start_time": "2025-01-18T10:02:21.094Z"
   },
   {
    "duration": 49,
    "start_time": "2025-01-18T10:02:21.119Z"
   },
   {
    "duration": 87,
    "start_time": "2025-01-18T10:02:21.169Z"
   },
   {
    "duration": 16,
    "start_time": "2025-01-18T10:02:21.258Z"
   },
   {
    "duration": 716,
    "start_time": "2025-01-18T10:02:21.275Z"
   },
   {
    "duration": 620,
    "start_time": "2025-01-18T10:02:21.993Z"
   },
   {
    "duration": 5,
    "start_time": "2025-01-18T10:02:22.615Z"
   },
   {
    "duration": 5,
    "start_time": "2025-01-18T10:02:22.631Z"
   },
   {
    "duration": 131,
    "start_time": "2025-01-18T10:02:22.637Z"
   },
   {
    "duration": 13,
    "start_time": "2025-01-18T10:02:22.770Z"
   },
   {
    "duration": 12,
    "start_time": "2025-01-18T10:02:22.785Z"
   },
   {
    "duration": 164,
    "start_time": "2025-01-18T10:02:22.799Z"
   },
   {
    "duration": 2576,
    "start_time": "2025-01-18T10:35:44.731Z"
   },
   {
    "duration": 1283,
    "start_time": "2025-01-18T10:35:47.309Z"
   },
   {
    "duration": 54,
    "start_time": "2025-01-18T10:35:48.594Z"
   },
   {
    "duration": 1037,
    "start_time": "2025-01-18T10:35:48.650Z"
   },
   {
    "duration": 211,
    "start_time": "2025-01-18T10:35:49.689Z"
   },
   {
    "duration": 221,
    "start_time": "2025-01-18T10:35:49.902Z"
   },
   {
    "duration": 362,
    "start_time": "2025-01-18T10:35:50.125Z"
   },
   {
    "duration": 58,
    "start_time": "2025-01-18T10:35:50.489Z"
   },
   {
    "duration": 62,
    "start_time": "2025-01-18T10:35:50.549Z"
   },
   {
    "duration": 13,
    "start_time": "2025-01-18T10:35:50.614Z"
   },
   {
    "duration": 11,
    "start_time": "2025-01-18T10:35:50.629Z"
   },
   {
    "duration": 107,
    "start_time": "2025-01-18T10:35:50.642Z"
   },
   {
    "duration": 26,
    "start_time": "2025-01-18T10:35:50.751Z"
   },
   {
    "duration": 38,
    "start_time": "2025-01-18T10:35:50.778Z"
   },
   {
    "duration": 38,
    "start_time": "2025-01-18T10:35:50.817Z"
   },
   {
    "duration": 28,
    "start_time": "2025-01-18T10:35:50.857Z"
   },
   {
    "duration": 23,
    "start_time": "2025-01-18T10:35:50.887Z"
   },
   {
    "duration": 34,
    "start_time": "2025-01-18T10:35:50.912Z"
   },
   {
    "duration": 8,
    "start_time": "2025-01-18T10:35:50.947Z"
   },
   {
    "duration": 90,
    "start_time": "2025-01-18T10:35:50.957Z"
   },
   {
    "duration": 9,
    "start_time": "2025-01-18T10:35:51.049Z"
   },
   {
    "duration": 19,
    "start_time": "2025-01-18T10:35:51.060Z"
   },
   {
    "duration": 10,
    "start_time": "2025-01-18T10:35:51.081Z"
   },
   {
    "duration": 10,
    "start_time": "2025-01-18T10:35:51.093Z"
   },
   {
    "duration": 27,
    "start_time": "2025-01-18T10:35:51.105Z"
   },
   {
    "duration": 17,
    "start_time": "2025-01-18T10:35:51.134Z"
   },
   {
    "duration": 537,
    "start_time": "2025-01-18T10:35:51.153Z"
   },
   {
    "duration": 21,
    "start_time": "2025-01-18T10:35:51.695Z"
   },
   {
    "duration": 29,
    "start_time": "2025-01-18T10:35:51.717Z"
   },
   {
    "duration": 20,
    "start_time": "2025-01-18T10:35:51.748Z"
   },
   {
    "duration": 34,
    "start_time": "2025-01-18T10:35:51.769Z"
   },
   {
    "duration": 87,
    "start_time": "2025-01-18T10:35:51.804Z"
   },
   {
    "duration": 47,
    "start_time": "2025-01-18T10:35:51.892Z"
   },
   {
    "duration": 195,
    "start_time": "2025-01-18T10:35:51.941Z"
   },
   {
    "duration": 18,
    "start_time": "2025-01-18T10:35:52.138Z"
   },
   {
    "duration": 734,
    "start_time": "2025-01-18T10:35:52.158Z"
   },
   {
    "duration": 7,
    "start_time": "2025-01-18T10:35:52.893Z"
   },
   {
    "duration": 12,
    "start_time": "2025-01-18T10:35:52.902Z"
   },
   {
    "duration": 158,
    "start_time": "2025-01-18T10:35:52.915Z"
   },
   {
    "duration": 5,
    "start_time": "2025-01-18T10:35:53.075Z"
   },
   {
    "duration": 18,
    "start_time": "2025-01-18T10:35:53.082Z"
   },
   {
    "duration": 61,
    "start_time": "2025-01-18T10:35:53.101Z"
   },
   {
    "duration": 34,
    "start_time": "2025-01-18T10:35:53.163Z"
   },
   {
    "duration": 79,
    "start_time": "2025-01-18T10:35:53.199Z"
   },
   {
    "duration": 21,
    "start_time": "2025-01-18T10:35:53.279Z"
   },
   {
    "duration": 16,
    "start_time": "2025-01-18T10:35:53.302Z"
   },
   {
    "duration": 45,
    "start_time": "2025-01-18T10:35:53.319Z"
   },
   {
    "duration": 11,
    "start_time": "2025-01-18T10:35:53.366Z"
   },
   {
    "duration": 70,
    "start_time": "2025-01-18T10:35:53.378Z"
   },
   {
    "duration": 381,
    "start_time": "2025-01-18T10:35:53.449Z"
   },
   {
    "duration": 210,
    "start_time": "2025-01-18T10:35:53.832Z"
   },
   {
    "duration": 13,
    "start_time": "2025-01-18T10:35:54.043Z"
   },
   {
    "duration": 171,
    "start_time": "2025-01-18T10:35:54.057Z"
   },
   {
    "duration": 68,
    "start_time": "2025-01-18T10:35:54.229Z"
   },
   {
    "duration": 215,
    "start_time": "2025-01-18T10:35:54.299Z"
   },
   {
    "duration": 21,
    "start_time": "2025-01-18T10:35:54.516Z"
   },
   {
    "duration": 135,
    "start_time": "2025-01-18T10:35:54.538Z"
   },
   {
    "duration": 12,
    "start_time": "2025-01-18T10:35:54.675Z"
   },
   {
    "duration": 17,
    "start_time": "2025-01-18T10:35:54.688Z"
   },
   {
    "duration": 87,
    "start_time": "2025-01-18T10:35:54.729Z"
   },
   {
    "duration": 265,
    "start_time": "2025-01-18T10:35:54.818Z"
   },
   {
    "duration": 141,
    "start_time": "2025-01-18T10:35:55.084Z"
   },
   {
    "duration": 166,
    "start_time": "2025-01-18T10:35:55.229Z"
   },
   {
    "duration": 9,
    "start_time": "2025-01-18T10:35:55.397Z"
   },
   {
    "duration": 95,
    "start_time": "2025-01-18T10:35:55.408Z"
   },
   {
    "duration": 12,
    "start_time": "2025-01-18T10:35:55.504Z"
   },
   {
    "duration": 22,
    "start_time": "2025-01-18T10:35:55.517Z"
   },
   {
    "duration": 5,
    "start_time": "2025-01-18T10:35:55.540Z"
   },
   {
    "duration": 9,
    "start_time": "2025-01-18T10:35:55.547Z"
   },
   {
    "duration": 108,
    "start_time": "2025-01-18T10:35:55.558Z"
   },
   {
    "duration": 98,
    "start_time": "2025-01-18T10:35:55.668Z"
   },
   {
    "duration": 33,
    "start_time": "2025-01-18T10:35:55.768Z"
   },
   {
    "duration": 75,
    "start_time": "2025-01-18T10:35:55.803Z"
   },
   {
    "duration": 84,
    "start_time": "2025-01-18T10:35:55.879Z"
   },
   {
    "duration": 15,
    "start_time": "2025-01-18T10:35:55.965Z"
   },
   {
    "duration": 107,
    "start_time": "2025-01-18T10:35:55.981Z"
   },
   {
    "duration": 41,
    "start_time": "2025-01-18T10:35:56.089Z"
   },
   {
    "duration": 76,
    "start_time": "2025-01-18T10:35:56.132Z"
   },
   {
    "duration": 292,
    "start_time": "2025-01-18T10:35:56.209Z"
   },
   {
    "duration": 291,
    "start_time": "2025-01-18T10:35:56.503Z"
   },
   {
    "duration": 3,
    "start_time": "2025-01-18T10:35:56.796Z"
   },
   {
    "duration": 110,
    "start_time": "2025-01-18T10:35:56.804Z"
   },
   {
    "duration": 17,
    "start_time": "2025-01-18T10:35:56.915Z"
   },
   {
    "duration": 46,
    "start_time": "2025-01-18T10:35:56.934Z"
   },
   {
    "duration": 8,
    "start_time": "2025-01-18T10:35:56.982Z"
   },
   {
    "duration": 13,
    "start_time": "2025-01-18T10:35:56.991Z"
   },
   {
    "duration": 259,
    "start_time": "2025-01-18T10:35:57.006Z"
   },
   {
    "duration": 170,
    "start_time": "2025-01-18T10:35:57.267Z"
   },
   {
    "duration": 113,
    "start_time": "2025-01-18T10:35:57.439Z"
   },
   {
    "duration": 14,
    "start_time": "2025-01-18T10:35:57.555Z"
   },
   {
    "duration": 10,
    "start_time": "2025-01-18T10:35:57.571Z"
   },
   {
    "duration": 32,
    "start_time": "2025-01-18T10:35:57.583Z"
   },
   {
    "duration": 9,
    "start_time": "2025-01-18T10:35:57.630Z"
   },
   {
    "duration": 29,
    "start_time": "2025-01-18T10:35:57.641Z"
   },
   {
    "duration": 707,
    "start_time": "2025-01-18T10:35:57.672Z"
   },
   {
    "duration": 594,
    "start_time": "2025-01-18T10:35:58.380Z"
   },
   {
    "duration": 5,
    "start_time": "2025-01-18T10:35:58.976Z"
   },
   {
    "duration": 9,
    "start_time": "2025-01-18T10:35:58.983Z"
   },
   {
    "duration": 36,
    "start_time": "2025-01-18T10:35:58.994Z"
   },
   {
    "duration": 12,
    "start_time": "2025-01-18T10:35:59.032Z"
   },
   {
    "duration": 6,
    "start_time": "2025-01-18T10:35:59.045Z"
   },
   {
    "duration": 176,
    "start_time": "2025-01-18T10:35:59.052Z"
   }
  ],
  "colab": {
   "provenance": []
  },
  "kernelspec": {
   "display_name": "Python 3 (ipykernel)",
   "language": "python",
   "name": "python3"
  },
  "language_info": {
   "codemirror_mode": {
    "name": "ipython",
    "version": 3
   },
   "file_extension": ".py",
   "mimetype": "text/x-python",
   "name": "python",
   "nbconvert_exporter": "python",
   "pygments_lexer": "ipython3",
   "version": "3.9.5"
  },
  "toc": {
   "base_numbering": 1,
   "nav_menu": {},
   "number_sections": true,
   "sideBar": true,
   "skip_h1_title": true,
   "title_cell": "Table of Contents",
   "title_sidebar": "Contents",
   "toc_cell": false,
   "toc_position": {
    "height": "calc(100% - 180px)",
    "left": "10px",
    "top": "150px",
    "width": "361.545px"
   },
   "toc_section_display": true,
   "toc_window_display": true
  }
 },
 "nbformat": 4,
 "nbformat_minor": 1
}
